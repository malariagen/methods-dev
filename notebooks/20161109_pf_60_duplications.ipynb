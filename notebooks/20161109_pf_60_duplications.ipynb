{
 "cells": [
  {
   "cell_type": "markdown",
   "metadata": {},
   "source": [
    "# Plan\n",
    "- create pf 6.0 manifest\n",
    "- create file of known breakpoints\n",
    "- create lists of positive samples\n",
    "- create list of negative samples\n",
    "- calc_proportion_faceaway function\n",
    "- calc_breakpoint_spanning_reads function\n",
    "- calc_coverage_change function"
   ]
  },
  {
   "cell_type": "code",
   "execution_count": 1,
   "metadata": {
    "collapsed": false
   },
   "outputs": [
    {
     "name": "stdout",
     "output_type": "stream",
     "text": [
      "python 3.4.5 |Anaconda 2.2.0 (64-bit)| (default, Jul  2 2016, 17:47:47) \n",
      "[GCC 4.4.7 20120313 (Red Hat 4.4.7-1)]\n",
      "numpy 1.11.1\n",
      "scipy 0.18.0\n",
      "pandas 0.15.2\n",
      "numexpr 2.3.1\n",
      "pysam 0.8.3\n",
      "pysamstats 0.23\n",
      "petl 1.1.0\n",
      "petlx 1.0.3\n",
      "vcf 0.6.7\n",
      "vcfnp 2.3.0.dev0\n",
      "h5py 2.4.0\n",
      "tables 3.1.1\n"
     ]
    }
   ],
   "source": [
    "%run _standard_imports.ipynb\n"
   ]
  },
  {
   "cell_type": "markdown",
   "metadata": {},
   "source": [
    "# Setup"
   ]
  },
  {
   "cell_type": "code",
   "execution_count": 143,
   "metadata": {
    "collapsed": false
   },
   "outputs": [],
   "source": [
    "genome_fn = '/lustre/scratch116/malaria/pfalciparum/resources/Pfalciparum.genome.fasta'\n",
    "gff_fn = '/lustre/scratch116/malaria/pfalciparum/resources/snpEff/data/Pfalciparum_GeneDB_Aug2015/genes.gff'\n",
    "\n",
    "scratch_dir = '/lustre/scratch109/malaria/rp7/data/methods-dev/analysis/20160926_pf_60_duplications'\n",
    "results_dir = '/nfs/team112_internal/rp7/data/methods-dev/analysis/20160926_pf_60_duplications'\n",
    "\n",
    "tandem_dup_breakpoints_fn = \"%s/tandem_dup_breakpoints.txt\" % results_dir\n",
    "dup_trpinv_dup_breakpoints_fn = \"%s/dup_trpinv_dup_breakpoints.txt\" % results_dir\n",
    "pf_6_0_bams_fn = \"%s/pf_6_0_bams.txt\" % results_dir\n",
    "\n",
    "dup_results_hrp_list_fn = \"%s/dup_results_hrp_list.txt\" % results_dir\n",
    "dup_results_6_0_fn = \"%s/dup_results_6_0.txt\" % results_dir\n",
    "# dup_trpinv_dup_results_fn = \"%s/dup_trpinv_dup_results.txt\" % results_dir\n",
    "\n",
    "\n",
    "positive_controls = collections.OrderedDict()\n",
    "positive_controls['17kb from plasmepsin I'] = ['PH0243-C', 'PH0247-C', 'PH0484-C']\n",
    "positive_controls['17kb from plasmepsin IV'] = ['PH0243-C', 'PH0247-C', 'PH0484-C']\n",
    "positive_controls['80kb from plasmepsin IV'] = ['PH0906-C', 'PH0912-C']\n",
    "positive_controls['18kb around MDR1'] = ['PH0254-C']\n",
    "positive_controls['96kb around MDR1'] = ['PH0233-C']\n",
    "positive_controls['57kb dup-trpinv-dup MDR1'] = ['PH0267-C']\n",
    "positive_controls['82kb around MDR1'] = ['PC0080-C']\n",
    "positive_controls['169kb around MDR1'] = ['QC0156-C']\n",
    "positive_controls['94kb around MDR1'] = ['PD0943-C']\n",
    "positive_controls['199kb around MDR1'] = ['PG0116-C']\n",
    "\n",
    "negative_controls = []\n"
   ]
  },
  {
   "cell_type": "code",
   "execution_count": null,
   "metadata": {
    "collapsed": true
   },
   "outputs": [],
   "source": [
    "!mkdir -p {scratch_dir}\n",
    "!mkdir -p {results_dir}\n"
   ]
  },
  {
   "cell_type": "code",
   "execution_count": 162,
   "metadata": {
    "collapsed": false
   },
   "outputs": [],
   "source": [
    "# Create the tandem duplication breakpoints file. Long term this will be a growing list of known breakpoints.\n",
    "fo = open(tandem_dup_breakpoints_fn, 'w')\n",
    "\n",
    "print(\n",
    "    '''chrom\\tfirst_breakpoint_start\\tfirst_breakpoint_end\\tsecond_breakpoint_start\\tsecond_breakpoint_end\\tstart_gene_id\\tend_gene_id\\tbreakpoint_name\n",
    "Pf3D7_05_v3\\t938329\\t938357\\t980012\\t980040\\tPF3D7_0522900\\tPF3D7_0523000\\t42kb around MDR1\n",
    "Pf3D7_05_v3\\t949514\\t949527\\t967253\\t967266\\tPF3D7_0522900\\tPF3D7_0523000\\t17.7kb around MDR1\n",
    "Pf3D7_05_v3\\t947790\\t947800\\t962444\\t962454\\tPF3D7_0522900\\tPF3D7_0523000\\t15kb around MDR1\n",
    "Pf3D7_05_v3\\t953961\\t953982\\t973008\\t973034\\tPF3D7_0523000\\tPF3D7_0523100\\t19kb around MDR1\n",
    "Pf3D7_05_v3\\t953961\\t953982\\t965409\\t865428\\tPF3D7_0523000\\tPF3D7_0523100\\t11kb around MDR1\n",
    "Pf3D7_05_v3\\t947968\\t947986\\t969783\\t969812\\tPF3D7_0523000\\tPF3D7_0523200\\t22kb around MDR1\n",
    "Pf3D7_05_v3\\t953961\\t953982\\t970215\\t970252\\tPF3D7_0523000\\tPF3D7_0523100\\t16kb around MDR1\n",
    "Pf3D7_05_v3\\t780906\\t780927\\t980012\\t980040\\tPF3D7_0518800\\tPF3D7_0523600\\t199kb around MDR1\n",
    "Pf3D7_05_v3\\t870473\\t870502\\t964628\\t964646\\tPF3D7_0521300\\tPF3D7_0523100\\t94kb around MDR1\n",
    "Pf3D7_05_v3\\t795494\\t795527\\t964505\\t964540\\tPF3D7_0519300\\tPF3D7_0519300\\t169kb around MDR1\n",
    "Pf3D7_05_v3\\t888324\\t888349\\t970215\\t970252\\tPF3D7_0521900\\tPF3D7_0523200\\t82kb around MDR1\n",
    "Pf3D7_05_v3\\t868667\\t868699\\t964505\\t964540\\tPF3D7_0521200\\tPF3D7_0523100\\t96kb around MDR1\n",
    "Pf3D7_05_v3\\t946696\\t946717\\t964505\\t964540\\tPF3D7_0522900\\tPF3D7_0523100\\t18kb around MDR1\n",
    "Pf3D7_05_v3\\t946696\\t946717\\t970215\\t970252\\tPF3D7_0522900\\tPF3D7_0523100\\t24kb around MDR1\n",
    "Pf3D7_14_v3\\t283034\\t283069\\t300493\\t300522\\tPF3D7_1407800\\tPF3D7_1409200\\t17kb from plasmepsin IV\n",
    "Pf3D7_14_v3\\t283034\\t283069\\t362990\\t363020\\tPF3D7_1407800\\tPF3D7_1409200\\t80kb from plasmepsin IV\n",
    "Pf3D7_14_v3\\t289611\\t289621\\t298782\\t298792\\tPF3D7_1407800\\tPF3D7_1409200\\tplasmepsin I to plasmepsin III''',\n",
    "    file=fo\n",
    ")\n",
    "\n",
    "fo.close()"
   ]
  },
  {
   "cell_type": "code",
   "execution_count": 126,
   "metadata": {
    "collapsed": false
   },
   "outputs": [],
   "source": [
    "# Create the dup-trp/inv-dup breakpoints file. Long term this will be a growing list of known breakpoints.\n",
    "# See Fig 4e at http://www.nature.com/nrg/journal/v17/n4/full/nrg.2015.25.html for description of dup-trp/inv-dup\n",
    "fo = open(dup_trpinv_dup_breakpoints_fn, 'w')\n",
    "\n",
    "print(\n",
    "    '''chrom\\tfirst_breakpoint_start\\tfirst_breakpoint_end\\tsecond_breakpoint_start\\tsecond_breakpoint_end\\tthird_breakpoint_start\\tthird_breakpoint_end\\tfourth_breakpoint_start\\tfourth_breakpoint_end\\tfirst_gene_id\\tsecond_gene_id\\tthird_gene_id\\tfourth_gene_id\\tbreakpoint_name\n",
    "Pf3D7_05_v3\\t928340\\t928359\\t938911\\t938930\\t964505\\t964532\\t985396\\t985423\\tPF3D7_0522400\\tPF3D7_0522600\\tPF3D7_0523100\\tPF3D7_0523700\\t57kb dup-trpinv-dup MDR1''',\n",
    "    file=fo\n",
    ")\n",
    "\n",
    "fo.close()"
   ]
  },
  {
   "cell_type": "code",
   "execution_count": 161,
   "metadata": {
    "collapsed": false
   },
   "outputs": [
    {
     "data": {
      "text/plain": [
       "41683"
      ]
     },
     "execution_count": 161,
     "metadata": {},
     "output_type": "execute_result"
    }
   ],
   "source": [
    "980012 - 938329"
   ]
  },
  {
   "cell_type": "code",
   "execution_count": 68,
   "metadata": {
    "collapsed": true
   },
   "outputs": [],
   "source": [
    "# Create file with path to bam and ox_code\n",
    "!vrpipe-fileinfo --setup pf_60_mergelanes --metadata sample > {pf_6_0_bams_fn}"
   ]
  },
  {
   "cell_type": "markdown",
   "metadata": {},
   "source": [
    "# Functions"
   ]
  },
  {
   "cell_type": "code",
   "execution_count": 55,
   "metadata": {
    "collapsed": false
   },
   "outputs": [
    {
     "data": {
      "text/plain": [
       "(0.03680981595092025, 6, 163)"
      ]
     },
     "execution_count": 55,
     "metadata": {},
     "output_type": "execute_result"
    }
   ],
   "source": [
    "def calc_proportion_faceaway(\n",
    "    bam_fn='/lustre/scratch109/malaria/pfalciparum/output/4/5/7/8/44843/1_bam_merge/pe.1.bam', # PH0906-C\n",
    "    chrom='Pf3D7_14_v3',\n",
    "    start_region=[282969, 283269], # 2-element list containing start and end positions (1-based) of region to right of first breakpoint in which to search for faceaway reads\n",
    "    end_region=[362690, 362990], # 2-element list containing start and end positions (1-based) of region to left of second breakpoint in which to search for faceaway reads\n",
    "):\n",
    "    samfile = pysam.AlignmentFile(bam_fn, \"rb\")\n",
    "    num_faceaway = 0\n",
    "    num_reads = 0\n",
    "    iter = samfile.fetch(chrom, start_region[0], start_region[1])\n",
    "    for x in iter:\n",
    "        num_reads += 1\n",
    "        if (x.is_paired and x.is_reverse and (not x.mate_is_reverse) and x.mpos >= end_region[0] and x.mpos <= end_region[1]):\n",
    "            num_faceaway += 1\n",
    "    \n",
    "    if num_reads > 0:\n",
    "        proportion_faceaway = num_faceaway/num_reads\n",
    "    else:\n",
    "        proportion_faceaway = float(np.nan)\n",
    "    \n",
    "    return(proportion_faceaway, num_faceaway, num_reads)\n",
    "\n",
    "calc_proportion_faceaway('/lustre/scratch116/malaria/pfalciparum/output/7/2/c/1/30749/2_gatk_print_reads_gatk3_v2/8668_7_16.pe.markdup.recal.bam')"
   ]
  },
  {
   "cell_type": "code",
   "execution_count": 121,
   "metadata": {
    "collapsed": false
   },
   "outputs": [
    {
     "data": {
      "text/plain": [
       "(0.05, 25, 500)"
      ]
     },
     "execution_count": 121,
     "metadata": {},
     "output_type": "execute_result"
    }
   ],
   "source": [
    "# This looks for pairs of reads mapping in the same direction (indicative of an inversion)\n",
    "\n",
    "def calc_proportion_same_direction(\n",
    "    bam_fn='/lustre/scratch109/malaria/pfalciparum/output/4/f/4/3/44301/1_bam_merge/pe.1.bam', # PH0267-C\n",
    "    chrom='Pf3D7_05_v3',\n",
    "    start_region=[928240, 928840], # 2-element list containing start and end positions (1-based) of region to left of first breakpoint in which to search for faceaway reads\n",
    "    end_region=[938811, 939411], # 2-element list containing start and end positions (1-based) of region to left of second breakpoint in which to search for faceaway reads\n",
    "    direction='reverse' # could also be forward\n",
    "):\n",
    "    samfile = pysam.AlignmentFile(bam_fn, \"rb\")\n",
    "    num_same_direction = 0\n",
    "    num_reads = 0\n",
    "    iter = samfile.fetch(chrom, start_region[0], start_region[1])\n",
    "    for x in iter:\n",
    "        num_reads += 1\n",
    "        if direction=='forward':\n",
    "            if (x.is_paired and (not x.is_reverse) and (not x.mate_is_reverse) and x.mpos >= end_region[0] and x.mpos <= end_region[1]):\n",
    "                num_same_direction += 1\n",
    "        if direction=='reverse':\n",
    "            if (x.is_paired and x.is_reverse and x.mate_is_reverse and x.mpos >= end_region[0] and x.mpos <= end_region[1]):\n",
    "                num_same_direction += 1\n",
    "    \n",
    "    if num_reads > 0:\n",
    "        proportion_same_direction = num_same_direction/num_reads\n",
    "    else:\n",
    "        proportion_same_direction = float(np.nan)\n",
    "    \n",
    "    return(proportion_same_direction, num_same_direction, num_reads)\n",
    "\n",
    "calc_proportion_same_direction()"
   ]
  },
  {
   "cell_type": "code",
   "execution_count": 122,
   "metadata": {
    "collapsed": false
   },
   "outputs": [
    {
     "data": {
      "text/plain": [
       "(0.04772234273318872, 44, 922)"
      ]
     },
     "execution_count": 122,
     "metadata": {},
     "output_type": "execute_result"
    }
   ],
   "source": [
    "calc_proportion_same_direction(start_region=[964532-500, 964532+100], end_region=[985423-500, 985423+100], direction='forward')"
   ]
  },
  {
   "cell_type": "code",
   "execution_count": 3,
   "metadata": {
    "collapsed": false
   },
   "outputs": [],
   "source": [
    "# This function will create a \"mini-genome\" containing three sequences: those from reference around each breakpoint,\n",
    "# and a sequence containing breakpoint-spanning sequence. All reads from bam will be mapped to this mini-genome,\n",
    "# and number of reads mapping to each sequence reported\n",
    "def calc_breakpoint_spanning_reads(\n",
    "    bam_fn,\n",
    "    genome_fn = genome_fn,\n",
    "    chrom,\n",
    "    first_region, # 2-element list containing start and end positions (1-based) of common sequence at first breakpoint\n",
    "    second_region, # 2-element list containing start and end positions (1-based) of common sequence at second breakpoint\n",
    "    \n",
    "):\n",
    "    \n",
    "    \n",
    "    return(breakpoint_spanning_coverage, breakpoint_1_coverage, breakpoint_2_coverage, proportion_breakpoint_spanning)"
   ]
  },
  {
   "cell_type": "code",
   "execution_count": null,
   "metadata": {
    "collapsed": true
   },
   "outputs": [],
   "source": [
    "# This function will determine coverage within coding region of tested duplication, and also coverage of coding\n",
    "# regions of genes immediately upstream and downstream of the region\n",
    "def calc_coverage_change(\n",
    "    bam_fn,\n",
    "    chrom,\n",
    "    duplication_start,\n",
    "    duplication_end,\n",
    "    first_gene, # ID of first gene within the duplication region\n",
    "    last_gene, # ID of first gene within the duplication region\n",
    "    gff_fn,\n",
    "):\n",
    "    \n",
    "    \n",
    "    return(\n",
    "        coverage_duplication,\n",
    "        coverage_upstream,\n",
    "        covergae_downstream,\n",
    "        coverage_change_upstream,\n",
    "        coverage_change_downstream,\n",
    "        coverage_change_both,\n",
    "        expected_copy_number,\n",
    "        is_correct_breakpoints,\n",
    "    )"
   ]
  },
  {
   "cell_type": "code",
   "execution_count": 59,
   "metadata": {
    "collapsed": false
   },
   "outputs": [
    {
     "data": {
      "text/html": [
       "<table class='petl'>\n",
       "<thead>\n",
       "<tr>\n",
       "<th>0|chrom</th>\n",
       "<th>1|first_breakpoint_start</th>\n",
       "<th>2|first_breakpoint_end</th>\n",
       "<th>3|second_breakpoint_start</th>\n",
       "<th>4|second_breakpoint_end</th>\n",
       "<th>5|start_gene_id</th>\n",
       "<th>6|end_gene_id</th>\n",
       "<th>7|breakpoint_name</th>\n",
       "</tr>\n",
       "</thead>\n",
       "<tbody>\n",
       "<tr>\n",
       "<td>Pf3D7_14_v3</td>\n",
       "<td style='text-align: right'>283034</td>\n",
       "<td style='text-align: right'>283069</td>\n",
       "<td style='text-align: right'>300493</td>\n",
       "<td style='text-align: right'>300522</td>\n",
       "<td>PF3D7_1407800</td>\n",
       "<td>PF3D7_1409200</td>\n",
       "<td>80kb from Plasmepsin IV</td>\n",
       "</tr>\n",
       "</tbody>\n",
       "</table>\n"
      ]
     },
     "metadata": {},
     "output_type": "display_data"
    }
   ],
   "source": [
    "etl.fromtsv(breakpoints_fn).convertnumbers().display(index_header=True)"
   ]
  },
  {
   "cell_type": "code",
   "execution_count": 127,
   "metadata": {
    "collapsed": false
   },
   "outputs": [
    {
     "data": {
      "text/html": [
       "<table class='petl'>\n",
       "<thead>\n",
       "<tr>\n",
       "<th>0|chrom</th>\n",
       "<th>1|first_breakpoint_start</th>\n",
       "<th>2|first_breakpoint_end</th>\n",
       "<th>3|second_breakpoint_start</th>\n",
       "<th>4|second_breakpoint_end</th>\n",
       "<th>5|third_breakpoint_start</th>\n",
       "<th>6|third_breakpoint_end</th>\n",
       "<th>7|fourth_breakpoint_start</th>\n",
       "<th>8|fourth_breakpoint_end</th>\n",
       "<th>9|first_gene_id</th>\n",
       "<th>10|second_gene_id</th>\n",
       "<th>11|third_gene_id</th>\n",
       "<th>12|fourth_gene_id</th>\n",
       "<th>13|breakpoint_name</th>\n",
       "</tr>\n",
       "</thead>\n",
       "<tbody>\n",
       "<tr>\n",
       "<td>Pf3D7_05_v3</td>\n",
       "<td style='text-align: right'>928340</td>\n",
       "<td style='text-align: right'>928359</td>\n",
       "<td style='text-align: right'>938911</td>\n",
       "<td style='text-align: right'>938930</td>\n",
       "<td style='text-align: right'>964505</td>\n",
       "<td style='text-align: right'>964532</td>\n",
       "<td style='text-align: right'>985396</td>\n",
       "<td style='text-align: right'>985423</td>\n",
       "<td>PF3D7_0522400</td>\n",
       "<td>PF3D7_0522600</td>\n",
       "<td>PF3D7_0523100</td>\n",
       "<td>PF3D7_0523700</td>\n",
       "<td>57kb dup-trpinv-dup MDR1</td>\n",
       "</tr>\n",
       "</tbody>\n",
       "</table>\n"
      ]
     },
     "metadata": {},
     "output_type": "display_data"
    }
   ],
   "source": [
    "etl.fromtsv(dup_trpinv_dup_breakpoints_fn).convertnumbers().display(index_header=True)"
   ]
  },
  {
   "cell_type": "code",
   "execution_count": 137,
   "metadata": {
    "collapsed": false
   },
   "outputs": [
    {
     "data": {
      "text/plain": [
       "OrderedDict([('faceaway',\n",
       "              OrderedDict([('199kb around MDR1', 0.0),\n",
       "                           ('94kb around MDR1', 0.0),\n",
       "                           ('169kb around MDR1', 0.0),\n",
       "                           ('82kb around MDR1', 0.0),\n",
       "                           ('96kb around MDR1', 0.0),\n",
       "                           ('18kb around MDR1', 0.0),\n",
       "                           ('17kb from plasmepsin IV', 0.0),\n",
       "                           ('80kb from plasmepsin IV', 0.018691588785046728),\n",
       "                           ('plasmepsin I to plasmepsin III',\n",
       "                            0.003205128205128205)])),\n",
       "             ('dup_trpinv_dup',\n",
       "              OrderedDict([('57kb dup-trpinv-dup MDR1 first', 0.0),\n",
       "                           ('57kb dup-trpinv-dup MDR1 second', 0.0)]))])"
      ]
     },
     "execution_count": 137,
     "metadata": {},
     "output_type": "execute_result"
    }
   ],
   "source": [
    "def genotype_duplications(\n",
    "    bam_fn = '/lustre/scratch116/malaria/pfalciparum/output/7/2/c/1/30749/2_gatk_print_reads_gatk3_v2/8668_7_16.pe.markdup.recal.bam',\n",
    "    tandem_dup_breakpoints_fn = tandem_dup_breakpoints_fn,\n",
    "    dup_trpinv_dup_breakpoints_fn = dup_trpinv_dup_breakpoints_fn,\n",
    "    region_size = 600,\n",
    "    region_offset = 100,\n",
    "):\n",
    "    tbl_tandem_dup_breakpoints = etl.fromtsv(tandem_dup_breakpoints_fn).convertnumbers()\n",
    "    tbl_dup_trpinv_dup_breakpoints = etl.fromtsv(dup_trpinv_dup_breakpoints_fn).convertnumbers()\n",
    "    \n",
    "    genotype_results = collections.OrderedDict()\n",
    "    genotype_results['faceaway'] = collections.OrderedDict()\n",
    "    genotype_results['dup_trpinv_dup'] = collections.OrderedDict()\n",
    "    \n",
    "    for rec in tbl_tandem_dup_breakpoints.data():\n",
    "        genotype_results['faceaway'][rec[7]] = calc_proportion_faceaway(\n",
    "            bam_fn,\n",
    "            chrom = rec[0],\n",
    "            start_region = [\n",
    "                rec[2] - region_offset,\n",
    "                rec[2] - region_offset + region_size\n",
    "            ],\n",
    "            end_region = [\n",
    "                rec[3] - region_size,\n",
    "                rec[3],\n",
    "            ]\n",
    "        )[0]\n",
    "    \n",
    "    for rec in tbl_dup_trpinv_dup_breakpoints.data():\n",
    "#         genotype_results['dup_trpinv_dup'][\"%s first\" % rec[13]] = 0.0\n",
    "        genotype_results['dup_trpinv_dup'][\"%s first\" % rec[13]] = calc_proportion_same_direction(\n",
    "#         print(calc_proportion_same_direction(\n",
    "            bam_fn,\n",
    "            chrom = rec[0],\n",
    "            start_region = [\n",
    "                rec[1] - region_offset,\n",
    "                rec[1] - region_offset + region_size\n",
    "            ],\n",
    "            end_region = [\n",
    "                rec[3] - region_offset,\n",
    "                rec[3] - region_offset + region_size,\n",
    "            ],\n",
    "            direction = 'reverse'\n",
    "        )[0]\n",
    "        genotype_results['dup_trpinv_dup'][\"%s second\" % rec[13]] = calc_proportion_same_direction(\n",
    "            bam_fn,\n",
    "            chrom = rec[0],\n",
    "            start_region = [\n",
    "                rec[6] - region_size + region_offset,\n",
    "                rec[6] + region_offset\n",
    "            ],\n",
    "            end_region = [\n",
    "                rec[8] - region_size + region_offset,\n",
    "                rec[8] + region_offset,\n",
    "            ],\n",
    "            direction = 'forward'\n",
    "        )[0]\n",
    "    \n",
    "    return(genotype_results)\n",
    "\n",
    "genotype_duplications()"
   ]
  },
  {
   "cell_type": "code",
   "execution_count": 135,
   "metadata": {
    "collapsed": false
   },
   "outputs": [
    {
     "data": {
      "text/plain": [
       "OrderedDict([('faceaway',\n",
       "              OrderedDict([('199kb around MDR1', 0.0),\n",
       "                           ('94kb around MDR1', 0.0),\n",
       "                           ('169kb around MDR1', 0.0),\n",
       "                           ('82kb around MDR1', 0.0),\n",
       "                           ('96kb around MDR1', 0.0),\n",
       "                           ('18kb around MDR1', 0.0),\n",
       "                           ('17kb from plasmepsin IV', 0.0),\n",
       "                           ('80kb from plasmepsin IV', 0.0),\n",
       "                           ('plasmepsin I to plasmepsin III', 0.0)])),\n",
       "             ('dup_trpinv_dup',\n",
       "              OrderedDict([('57kb dup-trpinv-dup MDR1 first', 0.05),\n",
       "                           ('57kb dup-trpinv-dup MDR1 second',\n",
       "                            0.04772234273318872)]))])"
      ]
     },
     "execution_count": 135,
     "metadata": {},
     "output_type": "execute_result"
    }
   ],
   "source": [
    "genotype_duplications('/lustre/scratch109/malaria/pfalciparum/output/4/f/4/3/44301/1_bam_merge/pe.1.bam')"
   ]
  },
  {
   "cell_type": "code",
   "execution_count": 110,
   "metadata": {
    "collapsed": false
   },
   "outputs": [
    {
     "data": {
      "text/plain": [
       "OrderedDict([('faceaway',\n",
       "              OrderedDict([('199kb around MDR1', 0.0),\n",
       "                           ('94kb around MDR1', 0.0),\n",
       "                           ('169kb around MDR1', 0.0),\n",
       "                           ('82kb around MDR1', 0.0),\n",
       "                           ('96kb around MDR1', 0.0),\n",
       "                           ('18kb around MDR1', 0.0),\n",
       "                           ('17kb from plasmepsin IV', 0.0),\n",
       "                           ('80kb from plasmepsin IV', 0.03680981595092025),\n",
       "                           ('plasmepsin I to plasmepsin III', 0.0)]))])"
      ]
     },
     "execution_count": 110,
     "metadata": {},
     "output_type": "execute_result"
    }
   ],
   "source": [
    "# This looks for pairs of reads mapping in the same direction (indicative of an inversion) in two separate locations\n",
    "# Test with PH0267-C\n",
    "\n",
    "def genotype_dup_trpinv_dups(\n",
    "    bam_fn = '/lustre/scratch109/malaria/pfalciparum/output/4/f/4/3/44301/1_bam_merge/pe.1.bam',\n",
    "    breakpoints_fn = dup_trpinv_dup_breakpoints_fn,\n",
    "    reads_region_size = 500,\n",
    "    reads_region_offset = 100,\n",
    "):\n",
    "    tbl_breakpoints = etl.fromtsv(breakpoints_fn).convertnumbers()\n",
    "    \n",
    "    genotype_results = collections.OrderedDict()\n",
    "    genotype_results['same_direction'] = collections.OrderedDict()\n",
    "    \n",
    "    for rec in tbl_breakpoints.data():\n",
    "        genotype_results['same_direction'][rec[7]] = calc_proportion_faceaway(\n",
    "            bam_fn,\n",
    "            chrom = rec[0],\n",
    "            start_region = [\n",
    "                rec[2] - faceaway_region_offset,\n",
    "                rec[2] - faceaway_region_offset + faceaway_region_size\n",
    "            ],\n",
    "            end_region = [\n",
    "                rec[3] - faceaway_region_size,\n",
    "                rec[3],\n",
    "            ]\n",
    "        )[0]\n",
    "    \n",
    "    return(genotype_results)\n",
    "\n",
    "genotype_tandem_dups()"
   ]
  },
  {
   "cell_type": "code",
   "execution_count": null,
   "metadata": {
    "collapsed": true
   },
   "outputs": [],
   "source": [
    "etl.fromtsv(breakpoints_fn).convertnumbers()"
   ]
  },
  {
   "cell_type": "code",
   "execution_count": 85,
   "metadata": {
    "collapsed": false
   },
   "outputs": [
    {
     "data": {
      "text/html": [
       "<table class='petl'>\n",
       "<thead>\n",
       "<tr>\n",
       "<th>chrom</th>\n",
       "<th>first_breakpoint_start</th>\n",
       "<th>first_breakpoint_end</th>\n",
       "<th>second_breakpoint_start</th>\n",
       "<th>second_breakpoint_end</th>\n",
       "<th>start_gene_id</th>\n",
       "<th>end_gene_id</th>\n",
       "<th>breakpoint_name</th>\n",
       "</tr>\n",
       "</thead>\n",
       "<tbody>\n",
       "<tr>\n",
       "<td>Pf3D7_14_v3</td>\n",
       "<td style='text-align: right'>946696</td>\n",
       "<td style='text-align: right'>946717</td>\n",
       "<td style='text-align: right'>964505</td>\n",
       "<td style='text-align: right'>964540</td>\n",
       "<td>PF3D7_1407800</td>\n",
       "<td>PF3D7_0523100</td>\n",
       "<td>18kb around MDR1</td>\n",
       "</tr>\n",
       "<tr>\n",
       "<td>Pf3D7_14_v3</td>\n",
       "<td style='text-align: right'>283034</td>\n",
       "<td style='text-align: right'>283069</td>\n",
       "<td style='text-align: right'>300493</td>\n",
       "<td style='text-align: right'>300522</td>\n",
       "<td>PF3D7_1407800</td>\n",
       "<td>PF3D7_1409200</td>\n",
       "<td>17kb from plasmepsin IV</td>\n",
       "</tr>\n",
       "<tr>\n",
       "<td>Pf3D7_14_v3</td>\n",
       "<td style='text-align: right'>283034</td>\n",
       "<td style='text-align: right'>283069</td>\n",
       "<td style='text-align: right'>362990</td>\n",
       "<td style='text-align: right'>363020</td>\n",
       "<td>PF3D7_1407800</td>\n",
       "<td>PF3D7_1409200</td>\n",
       "<td>80kb from plasmepsin IV</td>\n",
       "</tr>\n",
       "</tbody>\n",
       "</table>\n"
      ],
      "text/plain": [
       "+---------------+------------------------+----------------------+-------------------------+-----------------------+-----------------+-----------------+---------------------------+\n",
       "| chrom         | first_breakpoint_start | first_breakpoint_end | second_breakpoint_start | second_breakpoint_end | start_gene_id   | end_gene_id     | breakpoint_name           |\n",
       "+===============+========================+======================+=========================+=======================+=================+=================+===========================+\n",
       "| 'Pf3D7_14_v3' |                 946696 |               946717 |                  964505 |                964540 | 'PF3D7_1407800' | 'PF3D7_0523100' | '18kb around MDR1'        |\n",
       "+---------------+------------------------+----------------------+-------------------------+-----------------------+-----------------+-----------------+---------------------------+\n",
       "| 'Pf3D7_14_v3' |                 283034 |               283069 |                  300493 |                300522 | 'PF3D7_1407800' | 'PF3D7_1409200' | '17kb from plasmepsin IV' |\n",
       "+---------------+------------------------+----------------------+-------------------------+-----------------------+-----------------+-----------------+---------------------------+\n",
       "| 'Pf3D7_14_v3' |                 283034 |               283069 |                  362990 |                363020 | 'PF3D7_1407800' | 'PF3D7_1409200' | '80kb from plasmepsin IV' |\n",
       "+---------------+------------------------+----------------------+-------------------------+-----------------------+-----------------+-----------------+---------------------------+"
      ]
     },
     "execution_count": 85,
     "metadata": {},
     "output_type": "execute_result"
    }
   ],
   "source": [
    "tbl_breakpoints = etl.fromtsv(breakpoints_fn).convertnumbers()\n",
    "tbl_breakpoints"
   ]
  },
  {
   "cell_type": "markdown",
   "metadata": {},
   "source": [
    "# Analysis"
   ]
  },
  {
   "cell_type": "code",
   "execution_count": 70,
   "metadata": {
    "collapsed": false
   },
   "outputs": [
    {
     "data": {
      "text/html": [
       "<table class='petl'>\n",
       "<thead>\n",
       "<tr>\n",
       "<th>path</th>\n",
       "<th>sample</th>\n",
       "</tr>\n",
       "</thead>\n",
       "<tbody>\n",
       "<tr>\n",
       "<td>/lustre/scratch116/malaria/pfalciparum/output/4/4/f/e/42104/4_bam_mark_duplicates_v2/pe.1.markdup.bam</td>\n",
       "<td>PL0006-C</td>\n",
       "</tr>\n",
       "<tr>\n",
       "<td>/lustre/scratch116/malaria/pfalciparum/output/3/f/1/3/45100/4_bam_mark_duplicates_v2/pe.1.markdup.bam</td>\n",
       "<td>WS0081-C</td>\n",
       "</tr>\n",
       "<tr>\n",
       "<td>/lustre/scratch116/malaria/pfalciparum/output/5/4/3/5/44258/4_bam_mark_duplicates_v2/pe.1.markdup.bam</td>\n",
       "<td>QJ0018-C</td>\n",
       "</tr>\n",
       "<tr>\n",
       "<td>/lustre/scratch116/malaria/pfalciparum/output/d/6/0/c/41088/4_bam_mark_duplicates_v2/pe.1.markdup.bam</td>\n",
       "<td>PH0458-CW</td>\n",
       "</tr>\n",
       "<tr>\n",
       "<td>/lustre/scratch116/malaria/pfalciparum/output/3/9/6/1/38157/4_bam_mark_duplicates_v2/pe.1.markdup.bam</td>\n",
       "<td>PD0986-C</td>\n",
       "</tr>\n",
       "</tbody>\n",
       "</table>\n",
       "<p><strong>...</strong></p>"
      ],
      "text/plain": [
       "+---------------------------------------------------------------------------------------------------------+-------------+\n",
       "| path                                                                                                    | sample      |\n",
       "+=========================================================================================================+=============+\n",
       "| '/lustre/scratch116/malaria/pfalciparum/output/4/4/f/e/42104/4_bam_mark_duplicates_v2/pe.1.markdup.bam' | 'PL0006-C'  |\n",
       "+---------------------------------------------------------------------------------------------------------+-------------+\n",
       "| '/lustre/scratch116/malaria/pfalciparum/output/3/f/1/3/45100/4_bam_mark_duplicates_v2/pe.1.markdup.bam' | 'WS0081-C'  |\n",
       "+---------------------------------------------------------------------------------------------------------+-------------+\n",
       "| '/lustre/scratch116/malaria/pfalciparum/output/5/4/3/5/44258/4_bam_mark_duplicates_v2/pe.1.markdup.bam' | 'QJ0018-C'  |\n",
       "+---------------------------------------------------------------------------------------------------------+-------------+\n",
       "| '/lustre/scratch116/malaria/pfalciparum/output/d/6/0/c/41088/4_bam_mark_duplicates_v2/pe.1.markdup.bam' | 'PH0458-CW' |\n",
       "+---------------------------------------------------------------------------------------------------------+-------------+\n",
       "| '/lustre/scratch116/malaria/pfalciparum/output/3/9/6/1/38157/4_bam_mark_duplicates_v2/pe.1.markdup.bam' | 'PD0986-C'  |\n",
       "+---------------------------------------------------------------------------------------------------------+-------------+\n",
       "..."
      ]
     },
     "execution_count": 70,
     "metadata": {},
     "output_type": "execute_result"
    }
   ],
   "source": [
    "tbl_pf_60_bams = etl.fromtsv(pf_6_0_bams_fn)\n",
    "tbl_pf_60_bams"
   ]
  },
  {
   "cell_type": "code",
   "execution_count": 74,
   "metadata": {
    "collapsed": true
   },
   "outputs": [],
   "source": [
    "manifest_fn = '/nfs/team112_internal/rp7/data/Pf/hrp/metadata/hrp_manifest_20160621.txt'\n",
    "tbl_hrp_bams = etl.fromtsv(manifest_fn)"
   ]
  },
  {
   "cell_type": "markdown",
   "metadata": {},
   "source": [
    "## Identify MDR1 breakpoints by looking at samples from Rob's all_HMM_mdr1_pm23_final.txt file in IGV"
   ]
  },
  {
   "cell_type": "code",
   "execution_count": 82,
   "metadata": {
    "collapsed": false,
    "scrolled": true
   },
   "outputs": [
    {
     "data": {
      "text/html": [
       "<table class='petl'>\n",
       "<thead>\n",
       "<tr>\n",
       "<th>path</th>\n",
       "<th>sample</th>\n",
       "<th>oxford_src_code</th>\n",
       "<th>oxford_donor_code</th>\n",
       "<th>dataset</th>\n",
       "<th>type</th>\n",
       "<th>region_code</th>\n",
       "<th>country_code</th>\n",
       "<th>country_name</th>\n",
       "<th>sub_continent</th>\n",
       "<th>sub_continent_name</th>\n",
       "<th>sub_continent_number</th>\n",
       "<th>bases_of_5X_coverage</th>\n",
       "<th>mean_coverage</th>\n",
       "<th>bases_of_1X_coverage</th>\n",
       "<th>bases_of_10X_coverage</th>\n",
       "<th>bases_of_20X_coverage</th>\n",
       "</tr>\n",
       "</thead>\n",
       "<tbody>\n",
       "<tr>\n",
       "<td>/lustre/scratch109/malaria/pfalciparum/output/4/d/8/3/43032/1_bam_merge/pe.1.bam</td>\n",
       "<td>PC0080-C</td>\n",
       "<td>8388</td>\n",
       "<td>8388</td>\n",
       "<td>pf_community_5_0</td>\n",
       "<td>dna</td>\n",
       "<td>KE</td>\n",
       "<td>KE</td>\n",
       "<td>Kenya</td>\n",
       "<td>EAF</td>\n",
       "<td>East Africa</td>\n",
       "<td>3</td>\n",
       "<td>21446471</td>\n",
       "<td>185.08</td>\n",
       "<td>22440287</td>\n",
       "<td>20675365</td>\n",
       "<td>19603646</td>\n",
       "</tr>\n",
       "<tr>\n",
       "<td>/lustre/scratch109/malaria/pfalciparum/output/8/8/2/9/45620/1_bam_merge/pe.1.bam</td>\n",
       "<td>QC0156-C</td>\n",
       "<td>MKT46</td>\n",
       "<td>MKT46</td>\n",
       "<td>pf_community_5_0</td>\n",
       "<td>dna</td>\n",
       "<td>SMM</td>\n",
       "<td>MM</td>\n",
       "<td>Myanmar</td>\n",
       "<td>WSEA</td>\n",
       "<td>Western south-east Asia</td>\n",
       "<td>4</td>\n",
       "<td>22631913</td>\n",
       "<td>86.90</td>\n",
       "<td>22841902</td>\n",
       "<td>22452206</td>\n",
       "<td>22046570</td>\n",
       "</tr>\n",
       "<tr>\n",
       "<td>/lustre/scratch109/malaria/pfalciparum/output/b/5/6/3/246974/1_bam_merge/pe.1.bam</td>\n",
       "<td>PD0943-C</td>\n",
       "<td>NHP-04036</td>\n",
       "<td>NHP-04036</td>\n",
       "<td>pf_community_5_0</td>\n",
       "<td>dna</td>\n",
       "<td>WTH</td>\n",
       "<td>TH</td>\n",
       "<td>Thailand</td>\n",
       "<td>WSEA</td>\n",
       "<td>Western south-east Asia</td>\n",
       "<td>4</td>\n",
       "<td>21776395</td>\n",
       "<td>30.73</td>\n",
       "<td>22882928</td>\n",
       "<td>19875972</td>\n",
       "<td>15649296</td>\n",
       "</tr>\n",
       "<tr>\n",
       "<td>/lustre/scratch109/malaria/pfalciparum/output/6/0/8/4/247209/1_bam_merge/pe.1.bam</td>\n",
       "<td>PD1184-C</td>\n",
       "<td>NHP-04863</td>\n",
       "<td>NHP-04863</td>\n",
       "<td>pf_community_5_0</td>\n",
       "<td>dna</td>\n",
       "<td>WTH</td>\n",
       "<td>TH</td>\n",
       "<td>Thailand</td>\n",
       "<td>WSEA</td>\n",
       "<td>Western south-east Asia</td>\n",
       "<td>4</td>\n",
       "<td>22378342</td>\n",
       "<td>117.42</td>\n",
       "<td>22821247</td>\n",
       "<td>21845274</td>\n",
       "<td>20734051</td>\n",
       "</tr>\n",
       "<tr>\n",
       "<td>/lustre/scratch109/malaria/pfalciparum/output/c/8/5/4/247229/1_bam_merge/pe.1.bam</td>\n",
       "<td>PD1204-C</td>\n",
       "<td>NHP-04885</td>\n",
       "<td>NHP-04885</td>\n",
       "<td>pf_community_5_0</td>\n",
       "<td>dna</td>\n",
       "<td>WTH</td>\n",
       "<td>TH</td>\n",
       "<td>Thailand</td>\n",
       "<td>WSEA</td>\n",
       "<td>Western south-east Asia</td>\n",
       "<td>4</td>\n",
       "<td>21967261</td>\n",
       "<td>87.71</td>\n",
       "<td>22740254</td>\n",
       "<td>20890460</td>\n",
       "<td>18712071</td>\n",
       "</tr>\n",
       "<tr>\n",
       "<td>/lustre/scratch109/malaria/pfalciparum/output/d/a/7/3/44267/1_bam_merge/pe.1.bam</td>\n",
       "<td>PH0233-C</td>\n",
       "<td>ANL2</td>\n",
       "<td>ANL2</td>\n",
       "<td>pf_community_5_0</td>\n",
       "<td>dna</td>\n",
       "<td>WKH</td>\n",
       "<td>KH</td>\n",
       "<td>Cambodia</td>\n",
       "<td>ESEA</td>\n",
       "<td>Eastern south-east Asia</td>\n",
       "<td>5</td>\n",
       "<td>22241945</td>\n",
       "<td>31.80</td>\n",
       "<td>22913701</td>\n",
       "<td>21309507</td>\n",
       "<td>17902706</td>\n",
       "</tr>\n",
       "<tr>\n",
       "<td>/lustre/scratch109/malaria/pfalciparum/output/f/c/3/e/44288/1_bam_merge/pe.1.bam</td>\n",
       "<td>PH0254-C</td>\n",
       "<td>PF949_LP</td>\n",
       "<td>PF949_LP</td>\n",
       "<td>pf_community_5_0</td>\n",
       "<td>dna</td>\n",
       "<td>WKH</td>\n",
       "<td>KH</td>\n",
       "<td>Cambodia</td>\n",
       "<td>ESEA</td>\n",
       "<td>Eastern south-east Asia</td>\n",
       "<td>5</td>\n",
       "<td>22680518</td>\n",
       "<td>82.68</td>\n",
       "<td>22955284</td>\n",
       "<td>22461797</td>\n",
       "<td>21957452</td>\n",
       "</tr>\n",
       "<tr>\n",
       "<td>/lustre/scratch109/malaria/pfalciparum/output/4/f/4/3/44301/1_bam_merge/pe.1.bam</td>\n",
       "<td>PH0267-C</td>\n",
       "<td>PF962_LP</td>\n",
       "<td>PF962_LP</td>\n",
       "<td>pf_community_5_0</td>\n",
       "<td>dna</td>\n",
       "<td>WKH</td>\n",
       "<td>KH</td>\n",
       "<td>Cambodia</td>\n",
       "<td>ESEA</td>\n",
       "<td>Eastern south-east Asia</td>\n",
       "<td>5</td>\n",
       "<td>22468780</td>\n",
       "<td>33.30</td>\n",
       "<td>22910900</td>\n",
       "<td>21794246</td>\n",
       "<td>19121689</td>\n",
       "</tr>\n",
       "<tr>\n",
       "<td>/lustre/scratch109/malaria/pfalciparum/output/d/b/4/1/43868/1_bam_merge/pe.1.bam</td>\n",
       "<td>PG0116-C</td>\n",
       "<td>FCR-3</td>\n",
       "<td>FCR-3</td>\n",
       "<td>pf_community_5_1</td>\n",
       "<td>dna</td>\n",
       "<td>Lab</td>\n",
       "<td>Lab</td>\n",
       "<td></td>\n",
       "<td>Lab</td>\n",
       "<td>Lab strains</td>\n",
       "<td>9</td>\n",
       "<td>22734768</td>\n",
       "<td>94.53</td>\n",
       "<td>22967399</td>\n",
       "<td>22579079</td>\n",
       "<td>22301525</td>\n",
       "</tr>\n",
       "</tbody>\n",
       "</table>\n"
      ]
     },
     "metadata": {},
     "output_type": "display_data"
    }
   ],
   "source": [
    "# \n",
    "tbl_hrp_bams.selectin('sample', ['PH0254-C', 'PH0267-C', 'PH0233-C', 'PC0080-C', 'QC0156-C', 'PD0943-C', 'PG0116-C',\n",
    "                                 'PD1184-C', 'PD1204-C']).displayall()"
   ]
  },
  {
   "cell_type": "code",
   "execution_count": 89,
   "metadata": {
    "collapsed": false
   },
   "outputs": [
    {
     "name": "stdout",
     "output_type": "stream",
     "text": [
      "mkdir -p /lustre/scratch109/malaria/rp7/data/methods-dev/analysis/20160926_pf_60_duplications/bams\n",
      "scp malsrv2:/lustre/scratch109/malaria/pfalciparum/output/4/d/8/3/43032/1_bam_merge/pe.1.bam.bai /lustre/scratch109/malaria/rp7/data/methods-dev/analysis/20160926_pf_60_duplications/bams/PC0080-C.bam.bai\n",
      "scp malsrv2:/lustre/scratch109/malaria/pfalciparum/output/4/d/8/3/43032/1_bam_merge/pe.1.bam /lustre/scratch109/malaria/rp7/data/methods-dev/analysis/20160926_pf_60_duplications/bams/PC0080-C.bam\n",
      "scp malsrv2:/lustre/scratch109/malaria/pfalciparum/output/8/8/2/9/45620/1_bam_merge/pe.1.bam.bai /lustre/scratch109/malaria/rp7/data/methods-dev/analysis/20160926_pf_60_duplications/bams/QC0156-C.bam.bai\n",
      "scp malsrv2:/lustre/scratch109/malaria/pfalciparum/output/8/8/2/9/45620/1_bam_merge/pe.1.bam /lustre/scratch109/malaria/rp7/data/methods-dev/analysis/20160926_pf_60_duplications/bams/QC0156-C.bam\n",
      "scp malsrv2:/lustre/scratch109/malaria/pfalciparum/output/b/5/6/3/246974/1_bam_merge/pe.1.bam.bai /lustre/scratch109/malaria/rp7/data/methods-dev/analysis/20160926_pf_60_duplications/bams/PD0943-C.bam.bai\n",
      "scp malsrv2:/lustre/scratch109/malaria/pfalciparum/output/b/5/6/3/246974/1_bam_merge/pe.1.bam /lustre/scratch109/malaria/rp7/data/methods-dev/analysis/20160926_pf_60_duplications/bams/PD0943-C.bam\n",
      "scp malsrv2:/lustre/scratch109/malaria/pfalciparum/output/6/0/8/4/247209/1_bam_merge/pe.1.bam.bai /lustre/scratch109/malaria/rp7/data/methods-dev/analysis/20160926_pf_60_duplications/bams/PD1184-C.bam.bai\n",
      "scp malsrv2:/lustre/scratch109/malaria/pfalciparum/output/6/0/8/4/247209/1_bam_merge/pe.1.bam /lustre/scratch109/malaria/rp7/data/methods-dev/analysis/20160926_pf_60_duplications/bams/PD1184-C.bam\n",
      "scp malsrv2:/lustre/scratch109/malaria/pfalciparum/output/c/8/5/4/247229/1_bam_merge/pe.1.bam.bai /lustre/scratch109/malaria/rp7/data/methods-dev/analysis/20160926_pf_60_duplications/bams/PD1204-C.bam.bai\n",
      "scp malsrv2:/lustre/scratch109/malaria/pfalciparum/output/c/8/5/4/247229/1_bam_merge/pe.1.bam /lustre/scratch109/malaria/rp7/data/methods-dev/analysis/20160926_pf_60_duplications/bams/PD1204-C.bam\n",
      "scp malsrv2:/lustre/scratch109/malaria/pfalciparum/output/d/a/7/3/44267/1_bam_merge/pe.1.bam.bai /lustre/scratch109/malaria/rp7/data/methods-dev/analysis/20160926_pf_60_duplications/bams/PH0233-C.bam.bai\n",
      "scp malsrv2:/lustre/scratch109/malaria/pfalciparum/output/d/a/7/3/44267/1_bam_merge/pe.1.bam /lustre/scratch109/malaria/rp7/data/methods-dev/analysis/20160926_pf_60_duplications/bams/PH0233-C.bam\n",
      "scp malsrv2:/lustre/scratch109/malaria/pfalciparum/output/f/c/3/e/44288/1_bam_merge/pe.1.bam.bai /lustre/scratch109/malaria/rp7/data/methods-dev/analysis/20160926_pf_60_duplications/bams/PH0254-C.bam.bai\n",
      "scp malsrv2:/lustre/scratch109/malaria/pfalciparum/output/f/c/3/e/44288/1_bam_merge/pe.1.bam /lustre/scratch109/malaria/rp7/data/methods-dev/analysis/20160926_pf_60_duplications/bams/PH0254-C.bam\n",
      "scp malsrv2:/lustre/scratch109/malaria/pfalciparum/output/4/f/4/3/44301/1_bam_merge/pe.1.bam.bai /lustre/scratch109/malaria/rp7/data/methods-dev/analysis/20160926_pf_60_duplications/bams/PH0267-C.bam.bai\n",
      "scp malsrv2:/lustre/scratch109/malaria/pfalciparum/output/4/f/4/3/44301/1_bam_merge/pe.1.bam /lustre/scratch109/malaria/rp7/data/methods-dev/analysis/20160926_pf_60_duplications/bams/PH0267-C.bam\n",
      "scp malsrv2:/lustre/scratch109/malaria/pfalciparum/output/d/b/4/1/43868/1_bam_merge/pe.1.bam.bai /lustre/scratch109/malaria/rp7/data/methods-dev/analysis/20160926_pf_60_duplications/bams/PG0116-C.bam.bai\n",
      "scp malsrv2:/lustre/scratch109/malaria/pfalciparum/output/d/b/4/1/43868/1_bam_merge/pe.1.bam /lustre/scratch109/malaria/rp7/data/methods-dev/analysis/20160926_pf_60_duplications/bams/PG0116-C.bam\n"
     ]
    }
   ],
   "source": [
    "print(\"mkdir -p %s/bams\" % scratch_dir)\n",
    "for rec in tbl_hrp_bams.selectin('sample', ['PH0254-C', 'PH0267-C', 'PH0233-C', 'PC0080-C', 'QC0156-C', 'PD0943-C', 'PG0116-C',\n",
    "                                 'PD1184-C', 'PD1204-C']).data():\n",
    "    original_bam = rec[0]\n",
    "    macbook_bam = \"%s/bams/%s.bam\" % (scratch_dir, rec[1])\n",
    "    print(\"scp malsrv2:%s %s\" % (original_bam.replace('.bam', '.bam.bai'), macbook_bam.replace('.bam', '.bam.bai')))\n",
    "    print(\"scp malsrv2:%s %s\" % (original_bam, macbook_bam))\n"
   ]
  },
  {
   "cell_type": "code",
   "execution_count": 139,
   "metadata": {
    "collapsed": false
   },
   "outputs": [
    {
     "name": "stdout",
     "output_type": "stream",
     "text": [
      "scp malsrv2:/lustre/scratch109/malaria/pfalciparum/output/2/e/f/6/43382/1_bam_merge/pe.1.bam.bai /lustre/scratch109/malaria/rp7/data/methods-dev/analysis/20160926_pf_60_duplications/bams/PF0077-C.bam.bai\n",
      "scp malsrv2:/lustre/scratch109/malaria/pfalciparum/output/2/e/f/6/43382/1_bam_merge/pe.1.bam /lustre/scratch109/malaria/rp7/data/methods-dev/analysis/20160926_pf_60_duplications/bams/PF0077-C.bam\n",
      "scp malsrv2:/lustre/scratch109/malaria/pfalciparum/output/0/b/e/1/43073/1_bam_merge/pe.1.bam.bai /lustre/scratch109/malaria/rp7/data/methods-dev/analysis/20160926_pf_60_duplications/bams/PD0032-C.bam.bai\n",
      "scp malsrv2:/lustre/scratch109/malaria/pfalciparum/output/0/b/e/1/43073/1_bam_merge/pe.1.bam /lustre/scratch109/malaria/rp7/data/methods-dev/analysis/20160926_pf_60_duplications/bams/PD0032-C.bam\n",
      "scp malsrv2:/lustre/scratch109/malaria/pfalciparum/output/3/4/d/d/44281/1_bam_merge/pe.1.bam.bai /lustre/scratch109/malaria/rp7/data/methods-dev/analysis/20160926_pf_60_duplications/bams/PH0247-C.bam.bai\n",
      "scp malsrv2:/lustre/scratch109/malaria/pfalciparum/output/3/4/d/d/44281/1_bam_merge/pe.1.bam /lustre/scratch109/malaria/rp7/data/methods-dev/analysis/20160926_pf_60_duplications/bams/PH0247-C.bam\n"
     ]
    }
   ],
   "source": [
    "# Samples with more than one duplication\n",
    "for rec in tbl_hrp_bams.selectin('sample', ['PF0077-C', 'PD0032-C', 'PH0247-C']).data():\n",
    "    original_bam = rec[0]\n",
    "    macbook_bam = \"%s/bams/%s.bam\" % (scratch_dir, rec[1])\n",
    "    print(\"scp malsrv2:%s %s\" % (original_bam.replace('.bam', '.bam.bai'), macbook_bam.replace('.bam', '.bam.bai')))\n",
    "    print(\"scp malsrv2:%s %s\" % (original_bam, macbook_bam))\n"
   ]
  },
  {
   "cell_type": "code",
   "execution_count": 97,
   "metadata": {
    "collapsed": false
   },
   "outputs": [
    {
     "name": "stdout",
     "output_type": "stream",
     "text": [
      "mkdir -p /lustre/scratch109/malaria/rp7/data/methods-dev/analysis/20160926_pf_60_duplications/bams\n",
      "scp malsrv2:/lustre/scratch109/malaria/pfalciparum/output/b/e/2/1/218023/1_bam_merge/pe.1.bam.bai /lustre/scratch109/malaria/rp7/data/methods-dev/analysis/20160926_pf_60_duplications/bams/QP0184-C.bam.bai\n",
      "scp malsrv2:/lustre/scratch109/malaria/pfalciparum/output/b/e/2/1/218023/1_bam_merge/pe.1.bam /lustre/scratch109/malaria/rp7/data/methods-dev/analysis/20160926_pf_60_duplications/bams/QP0184-C.bam\n",
      "scp malsrv2:/lustre/scratch109/malaria/pfalciparum/output/3/9/b/e/43612/1_bam_merge/pe.1.bam.bai /lustre/scratch109/malaria/rp7/data/methods-dev/analysis/20160926_pf_60_duplications/bams/PF0364-C.bam.bai\n",
      "scp malsrv2:/lustre/scratch109/malaria/pfalciparum/output/3/9/b/e/43612/1_bam_merge/pe.1.bam /lustre/scratch109/malaria/rp7/data/methods-dev/analysis/20160926_pf_60_duplications/bams/PF0364-C.bam\n"
     ]
    }
   ],
   "source": [
    "print(\"mkdir -p %s/bams\" % scratch_dir)\n",
    "for rec in tbl_hrp_bams.selectin('sample', ['PF0364-C', 'QP0184-C']).data():\n",
    "    original_bam = rec[0]\n",
    "    macbook_bam = \"%s/bams/%s.bam\" % (scratch_dir, rec[1])\n",
    "    print(\"scp malsrv2:%s %s\" % (original_bam.replace('.bam', '.bam.bai'), macbook_bam.replace('.bam', '.bam.bai')))\n",
    "    print(\"scp malsrv2:%s %s\" % (original_bam, macbook_bam))\n"
   ]
  },
  {
   "cell_type": "code",
   "execution_count": 79,
   "metadata": {
    "collapsed": false
   },
   "outputs": [
    {
     "data": {
      "text/html": [
       "<table class='petl'>\n",
       "<thead>\n",
       "<tr>\n",
       "<th>path</th>\n",
       "<th>sample</th>\n",
       "<th>oxford_src_code</th>\n",
       "<th>oxford_donor_code</th>\n",
       "<th>dataset</th>\n",
       "<th>type</th>\n",
       "<th>region_code</th>\n",
       "<th>country_code</th>\n",
       "<th>country_name</th>\n",
       "<th>sub_continent</th>\n",
       "<th>sub_continent_name</th>\n",
       "<th>sub_continent_number</th>\n",
       "<th>bases_of_5X_coverage</th>\n",
       "<th>mean_coverage</th>\n",
       "<th>bases_of_1X_coverage</th>\n",
       "<th>bases_of_10X_coverage</th>\n",
       "<th>bases_of_20X_coverage</th>\n",
       "</tr>\n",
       "</thead>\n",
       "<tbody>\n",
       "<tr>\n",
       "<td>/lustre/scratch109/malaria/pfalciparum/output/a/1/d/0/265637/1_bam_merge/pe.1.bam</td>\n",
       "<td>QT0001-C</td>\n",
       "<td>CM001-J0</td>\n",
       "<td>CM001</td>\n",
       "<td>pf_community_5_1</td>\n",
       "<td>dna</td>\n",
       "<td>BJ</td>\n",
       "<td>BJ</td>\n",
       "<td>Benin</td>\n",
       "<td>WAF</td>\n",
       "<td>West Africa</td>\n",
       "<td>1</td>\n",
       "<td>22429396</td>\n",
       "<td>110.27</td>\n",
       "<td>22866093</td>\n",
       "<td>21829039</td>\n",
       "<td>20453074</td>\n",
       "</tr>\n",
       "<tr>\n",
       "<td>/lustre/scratch109/malaria/pfalciparum/output/f/1/2/c/265638/1_bam_merge/pe.1.bam</td>\n",
       "<td>QT0001-CW4</td>\n",
       "<td>CM001-H8</td>\n",
       "<td>CM001</td>\n",
       "<td>pf_community_5_1</td>\n",
       "<td>MDA</td>\n",
       "<td>BJ</td>\n",
       "<td>BJ</td>\n",
       "<td>Benin</td>\n",
       "<td>WAF</td>\n",
       "<td>West Africa</td>\n",
       "<td>1</td>\n",
       "<td>21661068</td>\n",
       "<td>96.55</td>\n",
       "<td>22734327</td>\n",
       "<td>20463738</td>\n",
       "<td>18329425</td>\n",
       "</tr>\n",
       "<tr>\n",
       "<td>/lustre/scratch109/malaria/pfalciparum/output/0/2/0/6/265639/1_bam_merge/pe.1.bam</td>\n",
       "<td>QT0001-CW5</td>\n",
       "<td>CM001-H16</td>\n",
       "<td>CM001</td>\n",
       "<td>pf_community_5_1</td>\n",
       "<td>MDA</td>\n",
       "<td>BJ</td>\n",
       "<td>BJ</td>\n",
       "<td>Benin</td>\n",
       "<td>WAF</td>\n",
       "<td>West Africa</td>\n",
       "<td>1</td>\n",
       "<td>21409846</td>\n",
       "<td>68.65</td>\n",
       "<td>22651241</td>\n",
       "<td>19897257</td>\n",
       "<td>17210983</td>\n",
       "</tr>\n",
       "<tr>\n",
       "<td>/lustre/scratch109/malaria/pfalciparum/output/d/a/a/f/265640/1_bam_merge/pe.1.bam</td>\n",
       "<td>QT0001-CW6</td>\n",
       "<td>CM001-H24</td>\n",
       "<td>CM001</td>\n",
       "<td>pf_community_5_1</td>\n",
       "<td>MDA</td>\n",
       "<td>BJ</td>\n",
       "<td>BJ</td>\n",
       "<td>Benin</td>\n",
       "<td>WAF</td>\n",
       "<td>West Africa</td>\n",
       "<td>1</td>\n",
       "<td>6065338</td>\n",
       "<td>4.34</td>\n",
       "<td>16902776</td>\n",
       "<td>1391631</td>\n",
       "<td>106667</td>\n",
       "</tr>\n",
       "<tr>\n",
       "<td>/lustre/scratch109/malaria/pfalciparum/output/6/7/b/4/265641/1_bam_merge/pe.1.bam</td>\n",
       "<td>QT0002-C</td>\n",
       "<td>CM002-J0</td>\n",
       "<td>CM002</td>\n",
       "<td>pf_community_5_1</td>\n",
       "<td>dna</td>\n",
       "<td>BJ</td>\n",
       "<td>BJ</td>\n",
       "<td>Benin</td>\n",
       "<td>WAF</td>\n",
       "<td>West Africa</td>\n",
       "<td>1</td>\n",
       "<td>22434258</td>\n",
       "<td>92.75</td>\n",
       "<td>22854818</td>\n",
       "<td>21789730</td>\n",
       "<td>20157016</td>\n",
       "</tr>\n",
       "</tbody>\n",
       "</table>\n",
       "<p><strong>...</strong></p>"
      ],
      "text/plain": [
       "+-------------------------------------------------------------------------------------+--------------+-----------------+-------------------+--------------------+-------+-------------+--------------+--------------+---------------+--------------------+----------------------+----------------------+---------------+----------------------+-----------------------+-----------------------+\n",
       "| path                                                                                | sample       | oxford_src_code | oxford_donor_code | dataset            | type  | region_code | country_code | country_name | sub_continent | sub_continent_name | sub_continent_number | bases_of_5X_coverage | mean_coverage | bases_of_1X_coverage | bases_of_10X_coverage | bases_of_20X_coverage |\n",
       "+=====================================================================================+==============+=================+===================+====================+=======+=============+==============+==============+===============+====================+======================+======================+===============+======================+=======================+=======================+\n",
       "| '/lustre/scratch109/malaria/pfalciparum/output/a/1/d/0/265637/1_bam_merge/pe.1.bam' | 'QT0001-C'   | 'CM001-J0'      | 'CM001'           | 'pf_community_5_1' | 'dna' | 'BJ'        | 'BJ'         | 'Benin'      | 'WAF'         | 'West Africa'      | '1'                  | '22429396'           | '110.27'      | '22866093'           | '21829039'            | '20453074'            |\n",
       "+-------------------------------------------------------------------------------------+--------------+-----------------+-------------------+--------------------+-------+-------------+--------------+--------------+---------------+--------------------+----------------------+----------------------+---------------+----------------------+-----------------------+-----------------------+\n",
       "| '/lustre/scratch109/malaria/pfalciparum/output/f/1/2/c/265638/1_bam_merge/pe.1.bam' | 'QT0001-CW4' | 'CM001-H8'      | 'CM001'           | 'pf_community_5_1' | 'MDA' | 'BJ'        | 'BJ'         | 'Benin'      | 'WAF'         | 'West Africa'      | '1'                  | '21661068'           | '96.55'       | '22734327'           | '20463738'            | '18329425'            |\n",
       "+-------------------------------------------------------------------------------------+--------------+-----------------+-------------------+--------------------+-------+-------------+--------------+--------------+---------------+--------------------+----------------------+----------------------+---------------+----------------------+-----------------------+-----------------------+\n",
       "| '/lustre/scratch109/malaria/pfalciparum/output/0/2/0/6/265639/1_bam_merge/pe.1.bam' | 'QT0001-CW5' | 'CM001-H16'     | 'CM001'           | 'pf_community_5_1' | 'MDA' | 'BJ'        | 'BJ'         | 'Benin'      | 'WAF'         | 'West Africa'      | '1'                  | '21409846'           | '68.65'       | '22651241'           | '19897257'            | '17210983'            |\n",
       "+-------------------------------------------------------------------------------------+--------------+-----------------+-------------------+--------------------+-------+-------------+--------------+--------------+---------------+--------------------+----------------------+----------------------+---------------+----------------------+-----------------------+-----------------------+\n",
       "| '/lustre/scratch109/malaria/pfalciparum/output/d/a/a/f/265640/1_bam_merge/pe.1.bam' | 'QT0001-CW6' | 'CM001-H24'     | 'CM001'           | 'pf_community_5_1' | 'MDA' | 'BJ'        | 'BJ'         | 'Benin'      | 'WAF'         | 'West Africa'      | '1'                  | '6065338'            | '4.34'        | '16902776'           | '1391631'             | '106667'              |\n",
       "+-------------------------------------------------------------------------------------+--------------+-----------------+-------------------+--------------------+-------+-------------+--------------+--------------+---------------+--------------------+----------------------+----------------------+---------------+----------------------+-----------------------+-----------------------+\n",
       "| '/lustre/scratch109/malaria/pfalciparum/output/6/7/b/4/265641/1_bam_merge/pe.1.bam' | 'QT0002-C'   | 'CM002-J0'      | 'CM002'           | 'pf_community_5_1' | 'dna' | 'BJ'        | 'BJ'         | 'Benin'      | 'WAF'         | 'West Africa'      | '1'                  | '22434258'           | '92.75'       | '22854818'           | '21789730'            | '20157016'            |\n",
       "+-------------------------------------------------------------------------------------+--------------+-----------------+-------------------+--------------------+-------+-------------+--------------+--------------+---------------+--------------------+----------------------+----------------------+---------------+----------------------+-----------------------+-----------------------+\n",
       "..."
      ]
     },
     "execution_count": 79,
     "metadata": {},
     "output_type": "execute_result"
    }
   ],
   "source": [
    "tbl_hrp_bams"
   ]
  },
  {
   "cell_type": "code",
   "execution_count": 142,
   "metadata": {
    "collapsed": false
   },
   "outputs": [
    {
     "name": "stdout",
     "output_type": "stream",
     "text": [
      "..............................................................................."
     ]
    }
   ],
   "source": [
    "# Note the pf 6.0 bams didn't appear to have index files at the time of writing, so reverted to HRP bams\n",
    "# for rec in tbl_pf_60_bams.data():\n",
    "fo = open(dup_results_hrp_list_fn, 'w')\n",
    "print(\"sample\\t%s\" % '\\t'.join(etl.fromtsv(tandem_dup_breakpoints_fn).values('breakpoint_name')), end='\\t', file=fo)\n",
    "print('\\t'.join(etl.fromtsv(dup_trpinv_dup_breakpoints_fn).values('breakpoint_name')), end='\\t', file=fo)\n",
    "\n",
    "i = 0\n",
    "for rec in tbl_hrp_bams.data():\n",
    "    i += 1\n",
    "    if i%100 == 0:\n",
    "        print('.', end=\"\")\n",
    "#     if(os.path.exists(rec[0]) and os.path.exists(rec[0].replace('.bam', '.bai'))):\n",
    "    if(os.path.exists(rec[0]) and os.path.exists(rec[0].replace('.bam', '.bam.bai'))):\n",
    "#     print(rec[0])\n",
    "        duplication_genotypes = genotype_duplications(rec[0])\n",
    "        print(\"\\n%s\" % rec[1], end=\"\", file=fo)\n",
    "        for dup in duplication_genotypes['faceaway']:\n",
    "            print(\"\\t%6.4f\" % duplication_genotypes['faceaway'][dup], end=\"\", file=fo)\n",
    "        for dup in duplication_genotypes['dup_trpinv_dup']:\n",
    "            print(\"\\t%6.4f\" % duplication_genotypes['dup_trpinv_dup'][dup], end=\"\", file=fo)\n",
    "    "
   ]
  },
  {
   "cell_type": "code",
   "execution_count": 163,
   "metadata": {
    "collapsed": false
   },
   "outputs": [
    {
     "name": "stdout",
     "output_type": "stream",
     "text": [
      ".................................................................................."
     ]
    }
   ],
   "source": [
    "# pf 6.0 bams later got indexed, so ran on these\n",
    "fo = open(dup_results_6_0_fn, 'w')\n",
    "print(\"sample\\t%s\" % '\\t'.join(etl.fromtsv(tandem_dup_breakpoints_fn).values('breakpoint_name')), end='\\t', file=fo)\n",
    "print('\\t'.join(etl.fromtsv(dup_trpinv_dup_breakpoints_fn).values('breakpoint_name')), end='\\t', file=fo)\n",
    "\n",
    "i = 0\n",
    "for rec in tbl_pf_60_bams.data():\n",
    "    i += 1\n",
    "    if i%100 == 0:\n",
    "        print('.', end=\"\")\n",
    "    if(os.path.exists(rec[0]) and os.path.exists(rec[0].replace('.bam', '.bam.bai'))):\n",
    "        duplication_genotypes = genotype_duplications(rec[0])\n",
    "        print(\"\\n%s\" % rec[1], end=\"\", file=fo)\n",
    "        for dup in duplication_genotypes['faceaway']:\n",
    "            print(\"\\t%6.4f\" % duplication_genotypes['faceaway'][dup], end=\"\", file=fo)\n",
    "        for dup in duplication_genotypes['dup_trpinv_dup']:\n",
    "            print(\"\\t%6.4f\" % duplication_genotypes['dup_trpinv_dup'][dup], end=\"\", file=fo)\n",
    "\n",
    "fo.close()\n",
    "    "
   ]
  },
  {
   "cell_type": "code",
   "execution_count": 154,
   "metadata": {
    "collapsed": true
   },
   "outputs": [],
   "source": [
    "fo.close()"
   ]
  },
  {
   "cell_type": "code",
   "execution_count": 153,
   "metadata": {
    "collapsed": false
   },
   "outputs": [
    {
     "data": {
      "text/plain": [
       "8251"
      ]
     },
     "execution_count": 153,
     "metadata": {},
     "output_type": "execute_result"
    }
   ],
   "source": [
    "len(tbl_pf_60_bams.data())"
   ]
  },
  {
   "cell_type": "code",
   "execution_count": 56,
   "metadata": {
    "collapsed": false
   },
   "outputs": [
    {
     "name": "stdout",
     "output_type": "stream",
     "text": [
      "\n",
      "5.0, 80kb\n",
      "(0.0, 0, 769)\n",
      "\n",
      "5.0, 17kb\n",
      "(0.09622886866059818, 74, 769)\n",
      "\n",
      "6.0, 80kb\n",
      "(0.0, 0, 779)\n",
      "\n",
      "6.0, 17kb\n",
      "(0.1245186136071887, 97, 779)\n"
     ]
    }
   ],
   "source": [
    "# PH0243-C, PfCP 5.0\n",
    "bam_fn = '/lustre/scratch109/malaria/pfalciparum/output/8/c/f/3/61719/1_bam_merge/pe.1.bam'\n",
    "print('\\n5.0, 80kb')\n",
    "print(calc_proportion_faceaway(bam_fn))\n",
    "print('\\n5.0, 17kb')\n",
    "print(calc_proportion_faceaway(bam_fn, end_region=[300193, 300493]))\n",
    "bam_fn = '/lustre/scratch116/malaria/pfalciparum/output/9/5/9/5/27793/2_gatk_print_reads_gatk3_v2/6297_1_nonhuman_7.pe.markdup.recal.bam'\n",
    "print('\\n6.0, 80kb')\n",
    "print(calc_proportion_faceaway(bam_fn))\n",
    "print('\\n6.0, 17kb')\n",
    "print(calc_proportion_faceaway(bam_fn, end_region=[300193, 300493]))\n"
   ]
  }
 ],
 "metadata": {
  "anaconda-cloud": {},
  "kernelspec": {
   "display_name": "Python 3",
   "language": "python",
   "name": "python3"
  },
  "language_info": {
   "codemirror_mode": {
    "name": "ipython",
    "version": 3
   },
   "file_extension": ".py",
   "mimetype": "text/x-python",
   "name": "python",
   "nbconvert_exporter": "python",
   "pygments_lexer": "ipython3",
   "version": "3.4.5"
  }
 },
 "nbformat": 4,
 "nbformat_minor": 1
}
