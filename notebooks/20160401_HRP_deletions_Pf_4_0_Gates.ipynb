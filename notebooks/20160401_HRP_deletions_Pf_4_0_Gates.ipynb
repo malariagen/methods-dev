{
 "cells": [
  {
   "cell_type": "code",
   "execution_count": 1,
   "metadata": {
    "collapsed": false
   },
   "outputs": [
    {
     "name": "stdout",
     "output_type": "stream",
     "text": [
      "python 3.4.3 |Anaconda 2.2.0 (64-bit)| (default, Mar  6 2015, 12:03:53) \n",
      "[GCC 4.4.7 20120313 (Red Hat 4.4.7-1)]\n",
      "numpy 1.9.2\n",
      "scipy 0.15.1\n",
      "pandas 0.15.2\n",
      "numexpr 2.3.1\n",
      "pysam 0.8.3\n",
      "pysamstats 0.23\n",
      "petl 1.0.11\n",
      "petlx 1.0.3\n",
      "vcf 0.6.7\n",
      "vcfnp 2.3.0.dev0\n",
      "h5py 2.4.0\n",
      "tables 3.1.1\n"
     ]
    }
   ],
   "source": [
    "%run _standard_imports.ipynb"
   ]
  },
  {
   "cell_type": "code",
   "execution_count": 2,
   "metadata": {
    "collapsed": true
   },
   "outputs": [],
   "source": [
    "import stat\n",
    "# from sh import ssh\n",
    "# farm3 = ssh.bake(\"farm3-login\")\n",
    "bsub = sh.Command('bsub')"
   ]
  },
  {
   "cell_type": "code",
   "execution_count": 44,
   "metadata": {
    "collapsed": false
   },
   "outputs": [],
   "source": [
    "pf_40_freeze_manifest_fn = '/nfs/team112_internal/production_files/Pf/4_0/pf_40_freeze_manifest.tab'\n",
    "samples_subset_fn = '/nfs/team112_internal/rp7/data/Pf/4_0/meta/PfCP_4.txt' # From Roberto March 30, 2106 14:14\n",
    "cinzia_metadata_fn = '/nfs/team112_internal/rp7/data/Pf/4_0/meta/PF_metadata_base.csv' # From Cinzia 22/03/2016 07:47\n",
    "cinzia_extra_metadata_fn = '/nfs/team112_internal/rp7/data/Pf/4_0/meta/PF_extrametadata.csv' # From Cinzia 22/03/2016 08:22\n",
    "compiled_metadata_3488_fn = '/nfs/team112_internal/rp7/data/Pf/4_0/meta/PfCP_4_3488_withtypes.txt'\n",
    "output_dir = '/lustre/scratch109/malaria/rp7/data/Pf/4_0/pysamstats'\n",
    "# output_dir = '/nfs/team112_internal/rp7/data/Pf/4_0/pysamstats'\n",
    "# !mkdir -p {\"%s/scripts\" % output_dir}\n",
    "# !mkdir -p {\"%s/results\" % output_dir}\n",
    "\n",
    "analysis_chroms = collections.OrderedDict()\n",
    "analysis_chroms['Pf3D7_05_v3'] = [37901, 1321390]\n",
    "analysis_chroms['Pf3D7_08_v3'] = [1, 1472805]\n",
    "analysis_chroms['Pf3D7_09_v3'] = [79101, 1473560]\n",
    "analysis_chroms['Pf3D7_13_v3'] = [1, 2925236]\n",
    "\n",
    "analysis_exons = collections.OrderedDict()\n",
    "analysis_exons['PF3D7_0831800_exon1'] = ['Pf3D7_08_v3', 1375231, 1375299]\n",
    "analysis_exons['PF3D7_0831800_exon2'] = ['Pf3D7_08_v3', 1374236, 1375084]\n",
    "analysis_exons['PF3D7_0831700_exon1'] = ['Pf3D7_08_v3', 1365467, 1367506]\n",
    "analysis_exons['PF3D7_0831900_exon1'] = ['Pf3D7_08_v3', 1380834, 1380971]\n",
    "analysis_exons['PF3D7_0831900_exon2'] = ['Pf3D7_08_v3', 1381108, 1381835]\n",
    "analysis_exons['PF3D7_0832000_exon1'] = ['Pf3D7_08_v3', 1384330, 1384377]\n",
    "analysis_exons['PF3D7_0832000_exon2'] = ['Pf3D7_08_v3', 1383349, 1384212]\n",
    "analysis_exons['PF3D7_1372200_exon1'] = ['Pf3D7_13_v3', 2841635, 2841703]\n",
    "analysis_exons['PF3D7_1372200_exon2'] = ['Pf3D7_13_v3', 2840727, 2841485]\n",
    "analysis_exons['PF3D7_1372100_exon1'] = ['Pf3D7_13_v3', 2837053, 2837136]\n",
    "analysis_exons['PF3D7_1372100_exon2'] = ['Pf3D7_13_v3', 2837313, 2839058]\n",
    "analysis_exons['PF3D7_1372300_exon1'] = ['Pf3D7_13_v3', 2845767, 2845850]\n",
    "analysis_exons['PF3D7_1372300_exon2'] = ['Pf3D7_13_v3', 2846002, 2846538]\n",
    "analysis_exons['PF3D7_0523000_exon1'] = ['Pf3D7_05_v3', 957890, 962149]\n"
   ]
  },
  {
   "cell_type": "code",
   "execution_count": 17,
   "metadata": {
    "collapsed": false,
    "scrolled": true
   },
   "outputs": [
    {
     "name": "stdout",
     "output_type": "stream",
     "text": [
      "3488\n"
     ]
    },
    {
     "data": {
      "text/html": [
       "<table class='petl'>\n",
       "<thead>\n",
       "<tr>\n",
       "<th>sample</th>\n",
       "<th>temp</th>\n",
       "</tr>\n",
       "</thead>\n",
       "<tbody>\n",
       "<tr>\n",
       "<td>PA0007-C</td>\n",
       "<td style='text-align: right'>0</td>\n",
       "</tr>\n",
       "<tr>\n",
       "<td>PA0008-C</td>\n",
       "<td style='text-align: right'>0</td>\n",
       "</tr>\n",
       "<tr>\n",
       "<td>PA0011-C</td>\n",
       "<td style='text-align: right'>0</td>\n",
       "</tr>\n",
       "<tr>\n",
       "<td>PA0012-C</td>\n",
       "<td style='text-align: right'>0</td>\n",
       "</tr>\n",
       "<tr>\n",
       "<td>PA0015-C</td>\n",
       "<td style='text-align: right'>0</td>\n",
       "</tr>\n",
       "</tbody>\n",
       "</table>\n",
       "<p><strong>...</strong></p>"
      ],
      "text/plain": [
       "+------------+------+\n",
       "| sample     | temp |\n",
       "+============+======+\n",
       "| 'PA0007-C' |    0 |\n",
       "+------------+------+\n",
       "| 'PA0008-C' |    0 |\n",
       "+------------+------+\n",
       "| 'PA0011-C' |    0 |\n",
       "+------------+------+\n",
       "| 'PA0012-C' |    0 |\n",
       "+------------+------+\n",
       "| 'PA0015-C' |    0 |\n",
       "+------------+------+\n",
       "..."
      ]
     },
     "execution_count": 17,
     "metadata": {},
     "output_type": "execute_result"
    }
   ],
   "source": [
    "tbl_samples_subset = etl.fromtsv(samples_subset_fn).pushheader(['sample']).addfield('temp', 0)\n",
    "print(len(tbl_samples_subset.data()))\n",
    "tbl_samples_subset"
   ]
  },
  {
   "cell_type": "code",
   "execution_count": 42,
   "metadata": {
    "collapsed": false
   },
   "outputs": [
    {
     "data": {
      "text/html": [
       "<table class='petl'>\n",
       "<thead>\n",
       "<tr>\n",
       "<th>oxford_code</th>\n",
       "<th>type</th>\n",
       "<th>ostype</th>\n",
       "</tr>\n",
       "</thead>\n",
       "<tbody>\n",
       "<tr>\n",
       "<td>PH0047-Cx</td>\n",
       "<td>dna</td>\n",
       "<td>NULL</td>\n",
       "</tr>\n",
       "</tbody>\n",
       "</table>\n"
      ]
     },
     "metadata": {},
     "output_type": "display_data"
    }
   ],
   "source": [
    "tbl_type = etl.fromcsv(cinzia_extra_metadata_fn, encoding='latin1').cut(['oxford_code', 'type', 'ostype'])\n",
    "tbl_type.head(1892).tail(1).displayall()"
   ]
  },
  {
   "cell_type": "code",
   "execution_count": 43,
   "metadata": {
    "collapsed": false,
    "scrolled": true
   },
   "outputs": [
    {
     "name": "stdout",
     "output_type": "stream",
     "text": [
      "3488\n"
     ]
    },
    {
     "data": {
      "text/html": [
       "<table class='petl'>\n",
       "<thead>\n",
       "<tr>\n",
       "<th>0|path</th>\n",
       "<th>1|study</th>\n",
       "<th>2|sample</th>\n",
       "<th>3|bases</th>\n",
       "<th>4|bases_mapped</th>\n",
       "<th>5|avg_read_length</th>\n",
       "<th>6|bases_of_1X_coverage</th>\n",
       "<th>7|bases_of_5X_coverage</th>\n",
       "<th>8|bases_of_10X_coverage</th>\n",
       "<th>9|bases_of_50X_coverage</th>\n",
       "<th>10|mean_coverage</th>\n",
       "<th>11|sample_acc</th>\n",
       "<th>12|run_acc</th>\n",
       "<th>13|temp</th>\n",
       "<th>14|type</th>\n",
       "<th>15|ostype</th>\n",
       "</tr>\n",
       "</thead>\n",
       "<tbody>\n",
       "<tr>\n",
       "<td>/lustre/scratch109/malaria/pfalciparum/output/2/d/d/a/42721/1_bam_merge/pe.1.bam</td>\n",
       "<td>PF6</td>\n",
       "<td>PA0007-C</td>\n",
       "<td>2074610304</td>\n",
       "<td>1849037212</td>\n",
       "<td>76</td>\n",
       "<td>22703916</td>\n",
       "<td>20226914</td>\n",
       "<td>17341168</td>\n",
       "<td>9063212</td>\n",
       "<td>74.27</td>\n",
       "<td>ERS010116</td>\n",
       "<td>ERR018933</td>\n",
       "<td style='text-align: right'>0</td>\n",
       "<td>dna</td>\n",
       "<td>Non-cultured Blood</td>\n",
       "</tr>\n",
       "<tr>\n",
       "<td>/lustre/scratch109/malaria/pfalciparum/output/0/2/f/9/42722/1_bam_merge/pe.1.bam</td>\n",
       "<td>PF6</td>\n",
       "<td>PA0008-C</td>\n",
       "<td>2529943176</td>\n",
       "<td>2302964844</td>\n",
       "<td>76</td>\n",
       "<td>23160225</td>\n",
       "<td>22873797</td>\n",
       "<td>22241258</td>\n",
       "<td>14633143</td>\n",
       "<td>96.81</td>\n",
       "<td>ERS010126</td>\n",
       "<td>ERR018936</td>\n",
       "<td style='text-align: right'>0</td>\n",
       "<td>dna</td>\n",
       "<td>Non-cultured Blood</td>\n",
       "</tr>\n",
       "<tr>\n",
       "<td>/lustre/scratch109/malaria/pfalciparum/output/3/d/9/5/42723/1_bam_merge/pe.1.bam</td>\n",
       "<td>PF6</td>\n",
       "<td>PA0011-C</td>\n",
       "<td>3707830088</td>\n",
       "<td>3451499872</td>\n",
       "<td>76</td>\n",
       "<td>22960209</td>\n",
       "<td>22798857</td>\n",
       "<td>22697202</td>\n",
       "<td>21815652</td>\n",
       "<td>149.59</td>\n",
       "<td>ERS010043</td>\n",
       "<td>ERR015410</td>\n",
       "<td style='text-align: right'>0</td>\n",
       "<td>dna</td>\n",
       "<td>Non-cultured Blood</td>\n",
       "</tr>\n",
       "<tr>\n",
       "<td>/lustre/scratch109/malaria/pfalciparum/output/5/6/7/1/42724/1_bam_merge/pe.1.bam</td>\n",
       "<td>PF6</td>\n",
       "<td>PA0012-C</td>\n",
       "<td>2910823712</td>\n",
       "<td>2219976340</td>\n",
       "<td>76</td>\n",
       "<td>22982697</td>\n",
       "<td>22430685</td>\n",
       "<td>21499677</td>\n",
       "<td>14970548</td>\n",
       "<td>95.02</td>\n",
       "<td>ERS010127</td>\n",
       "<td>ERR021977</td>\n",
       "<td style='text-align: right'>0</td>\n",
       "<td>dna</td>\n",
       "<td>Non-cultured Blood</td>\n",
       "</tr>\n",
       "<tr>\n",
       "<td>/lustre/scratch109/malaria/pfalciparum/output/b/a/0/5/42725/1_bam_merge/pe.1.bam</td>\n",
       "<td>PF6</td>\n",
       "<td>PA0013-C</td>\n",
       "<td>1706925600</td>\n",
       "<td>1536128300</td>\n",
       "<td>100</td>\n",
       "<td>22819992</td>\n",
       "<td>22447606</td>\n",
       "<td>21882221</td>\n",
       "<td>14505222</td>\n",
       "<td>65.28</td>\n",
       "<td>ERS157495</td>\n",
       "<td>ERR211480</td>\n",
       "<td style='text-align: right'>0</td>\n",
       "<td>dna</td>\n",
       "<td>Non-cultured Blood</td>\n",
       "</tr>\n",
       "</tbody>\n",
       "</table>\n",
       "<p><strong>...</strong></p>"
      ]
     },
     "metadata": {},
     "output_type": "display_data"
    }
   ],
   "source": [
    "tbl_pf_40_freeze_manifest = (etl\n",
    "    .fromtsv(pf_40_freeze_manifest_fn)\n",
    "    .sub('path', 'scratch108', 'scratch109')\n",
    "    .join(tbl_samples_subset, key='sample')\n",
    "    .leftjoin(tbl_type, lkey='sample', rkey='oxford_code')\n",
    ")\n",
    "print(len(tbl_pf_40_freeze_manifest.data()))\n",
    "tbl_pf_40_freeze_manifest.display(index_header=True)"
   ]
  },
  {
   "cell_type": "code",
   "execution_count": 45,
   "metadata": {
    "collapsed": true
   },
   "outputs": [],
   "source": [
    "tbl_pf_40_freeze_manifest.totsv(compiled_metadata_3488_fn)"
   ]
  },
  {
   "cell_type": "code",
   "execution_count": 46,
   "metadata": {
    "collapsed": false
   },
   "outputs": [
    {
     "data": {
      "text/html": [
       "<table class='petl'>\n",
       "<thead>\n",
       "<tr>\n",
       "<th>path</th>\n",
       "<th>study</th>\n",
       "<th>sample</th>\n",
       "<th>bases</th>\n",
       "<th>bases_mapped</th>\n",
       "<th>avg_read_length</th>\n",
       "<th>bases_of_1X_coverage</th>\n",
       "<th>bases_of_5X_coverage</th>\n",
       "<th>bases_of_10X_coverage</th>\n",
       "<th>bases_of_50X_coverage</th>\n",
       "<th>mean_coverage</th>\n",
       "<th>sample_acc</th>\n",
       "<th>run_acc</th>\n",
       "<th>temp</th>\n",
       "<th>type</th>\n",
       "<th>ostype</th>\n",
       "</tr>\n",
       "</thead>\n",
       "<tbody>\n",
       "<tr>\n",
       "<td>/lustre/scratch109/malaria/pfalciparum/output/1/2/4/7/45344/1_bam_merge/pe.1.bam</td>\n",
       "<td>ARCE</td>\n",
       "<td>PV0097-C</td>\n",
       "<td>261885800</td>\n",
       "<td>194178900</td>\n",
       "<td>100</td>\n",
       "<td>22388905</td>\n",
       "<td>17846219</td>\n",
       "<td>8889398</td>\n",
       "<td>12870</td>\n",
       "<td>8.67</td>\n",
       "<td>ERS086908</td>\n",
       "<td>ERR126469</td>\n",
       "<td style='text-align: right'>0</td>\n",
       "<td>dna</td>\n",
       "<td>NULL</td>\n",
       "</tr>\n",
       "</tbody>\n",
       "</table>\n"
      ],
      "text/plain": [
       "+------------------------------------------------------------------------------------+--------+------------+-------------+--------------+-----------------+----------------------+----------------------+-----------------------+-----------------------+---------------+-------------+-------------+------+-------+--------+\n",
       "| path                                                                               | study  | sample     | bases       | bases_mapped | avg_read_length | bases_of_1X_coverage | bases_of_5X_coverage | bases_of_10X_coverage | bases_of_50X_coverage | mean_coverage | sample_acc  | run_acc     | temp | type  | ostype |\n",
       "+====================================================================================+========+============+=============+==============+=================+======================+======================+=======================+=======================+===============+=============+=============+======+=======+========+\n",
       "| '/lustre/scratch109/malaria/pfalciparum/output/1/2/4/7/45344/1_bam_merge/pe.1.bam' | 'ARCE' | 'PV0097-C' | '261885800' | '194178900'  | '100'           | '22388905'           | '17846219'           | '8889398'             | '12870'               | '8.67'        | 'ERS086908' | 'ERR126469' |    0 | 'dna' | 'NULL' |\n",
       "+------------------------------------------------------------------------------------+--------+------------+-------------+--------------+-----------------+----------------------+----------------------+-----------------------+-----------------------+---------------+-------------+-------------+------+-------+--------+"
      ]
     },
     "execution_count": 46,
     "metadata": {},
     "output_type": "execute_result"
    }
   ],
   "source": [
    "tbl_pf_40_freeze_manifest.selecteq('sample', 'PV0097-C')"
   ]
  },
  {
   "cell_type": "code",
   "execution_count": 47,
   "metadata": {
    "collapsed": false
   },
   "outputs": [
    {
     "data": {
      "text/html": [
       "<table class='petl'>\n",
       "<thead>\n",
       "<tr>\n",
       "<th>path</th>\n",
       "<th>study</th>\n",
       "<th>sample</th>\n",
       "<th>bases</th>\n",
       "<th>bases_mapped</th>\n",
       "<th>avg_read_length</th>\n",
       "<th>bases_of_1X_coverage</th>\n",
       "<th>bases_of_5X_coverage</th>\n",
       "<th>bases_of_10X_coverage</th>\n",
       "<th>bases_of_50X_coverage</th>\n",
       "<th>mean_coverage</th>\n",
       "<th>sample_acc</th>\n",
       "<th>run_acc</th>\n",
       "<th>temp</th>\n",
       "<th>type</th>\n",
       "<th>ostype</th>\n",
       "</tr>\n",
       "</thead>\n",
       "<tbody>\n",
       "<tr>\n",
       "<td>/lustre/scratch109/malaria/pfalciparum/output/3/1/1/a/44438/1_bam_merge/pe.1.bam</td>\n",
       "<td>ARC3</td>\n",
       "<td>PH0416-C</td>\n",
       "<td>431737500</td>\n",
       "<td>390882450</td>\n",
       "<td>75</td>\n",
       "<td>22843242</td>\n",
       "<td>21965447</td>\n",
       "<td>19530322</td>\n",
       "<td>106194</td>\n",
       "<td>17.11</td>\n",
       "<td>ERS032056</td>\n",
       "<td>ERR039983</td>\n",
       "<td style='text-align: right'>0</td>\n",
       "<td>dna</td>\n",
       "<td>NULL</td>\n",
       "</tr>\n",
       "</tbody>\n",
       "</table>\n"
      ],
      "text/plain": [
       "+------------------------------------------------------------------------------------+--------+------------+-------------+--------------+-----------------+----------------------+----------------------+-----------------------+-----------------------+---------------+-------------+-------------+------+-------+--------+\n",
       "| path                                                                               | study  | sample     | bases       | bases_mapped | avg_read_length | bases_of_1X_coverage | bases_of_5X_coverage | bases_of_10X_coverage | bases_of_50X_coverage | mean_coverage | sample_acc  | run_acc     | temp | type  | ostype |\n",
       "+====================================================================================+========+============+=============+==============+=================+======================+======================+=======================+=======================+===============+=============+=============+======+=======+========+\n",
       "| '/lustre/scratch109/malaria/pfalciparum/output/3/1/1/a/44438/1_bam_merge/pe.1.bam' | 'ARC3' | 'PH0416-C' | '431737500' | '390882450'  | '75'            | '22843242'           | '21965447'           | '19530322'            | '106194'              | '17.11'       | 'ERS032056' | 'ERR039983' |    0 | 'dna' | 'NULL' |\n",
       "+------------------------------------------------------------------------------------+--------+------------+-------------+--------------+-----------------+----------------------+----------------------+-----------------------+-----------------------+---------------+-------------+-------------+------+-------+--------+"
      ]
     },
     "execution_count": 47,
     "metadata": {},
     "output_type": "execute_result"
    }
   ],
   "source": [
    "tbl_pf_40_freeze_manifest.selecteq('sample', 'PH0416-C')"
   ]
  },
  {
   "cell_type": "code",
   "execution_count": 48,
   "metadata": {
    "collapsed": false
   },
   "outputs": [
    {
     "data": {
      "text/html": [
       "<table class='petl'>\n",
       "<thead>\n",
       "<tr>\n",
       "<th>path</th>\n",
       "<th>study</th>\n",
       "<th>sample</th>\n",
       "<th>bases</th>\n",
       "<th>bases_mapped</th>\n",
       "<th>avg_read_length</th>\n",
       "<th>bases_of_1X_coverage</th>\n",
       "<th>bases_of_5X_coverage</th>\n",
       "<th>bases_of_10X_coverage</th>\n",
       "<th>bases_of_50X_coverage</th>\n",
       "<th>mean_coverage</th>\n",
       "<th>sample_acc</th>\n",
       "<th>run_acc</th>\n",
       "<th>temp</th>\n",
       "<th>type</th>\n",
       "<th>ostype</th>\n",
       "</tr>\n",
       "</thead>\n",
       "<tbody>\n",
       "<tr>\n",
       "<td>/lustre/scratch109/malaria/pfalciparum/output/4/1/3/3/44417/1_bam_merge/pe.1.bam</td>\n",
       "<td>ARC3</td>\n",
       "<td>PH0395-C</td>\n",
       "<td>243637800</td>\n",
       "<td>204407475</td>\n",
       "<td>75</td>\n",
       "<td>22501655</td>\n",
       "<td>18740810</td>\n",
       "<td>9758607</td>\n",
       "<td>19203</td>\n",
       "<td>9.08</td>\n",
       "<td>ERS032073</td>\n",
       "<td>ERR040000</td>\n",
       "<td style='text-align: right'>0</td>\n",
       "<td>dna</td>\n",
       "<td>NULL</td>\n",
       "</tr>\n",
       "</tbody>\n",
       "</table>\n"
      ],
      "text/plain": [
       "+------------------------------------------------------------------------------------+--------+------------+-------------+--------------+-----------------+----------------------+----------------------+-----------------------+-----------------------+---------------+-------------+-------------+------+-------+--------+\n",
       "| path                                                                               | study  | sample     | bases       | bases_mapped | avg_read_length | bases_of_1X_coverage | bases_of_5X_coverage | bases_of_10X_coverage | bases_of_50X_coverage | mean_coverage | sample_acc  | run_acc     | temp | type  | ostype |\n",
       "+====================================================================================+========+============+=============+==============+=================+======================+======================+=======================+=======================+===============+=============+=============+======+=======+========+\n",
       "| '/lustre/scratch109/malaria/pfalciparum/output/4/1/3/3/44417/1_bam_merge/pe.1.bam' | 'ARC3' | 'PH0395-C' | '243637800' | '204407475'  | '75'            | '22501655'           | '18740810'           | '9758607'             | '19203'               | '9.08'        | 'ERS032073' | 'ERR040000' |    0 | 'dna' | 'NULL' |\n",
       "+------------------------------------------------------------------------------------+--------+------------+-------------+--------------+-----------------+----------------------+----------------------+-----------------------+-----------------------+---------------+-------------+-------------+------+-------+--------+"
      ]
     },
     "execution_count": 48,
     "metadata": {},
     "output_type": "execute_result"
    }
   ],
   "source": [
    "tbl_pf_40_freeze_manifest.selecteq('sample', 'PH0395-C')"
   ]
  },
  {
   "cell_type": "code",
   "execution_count": 49,
   "metadata": {
    "collapsed": false
   },
   "outputs": [
    {
     "data": {
      "text/html": [
       "<table class='petl'>\n",
       "<thead>\n",
       "<tr>\n",
       "<th>path</th>\n",
       "<th>study</th>\n",
       "<th>sample</th>\n",
       "<th>bases</th>\n",
       "<th>bases_mapped</th>\n",
       "<th>avg_read_length</th>\n",
       "<th>bases_of_1X_coverage</th>\n",
       "<th>bases_of_5X_coverage</th>\n",
       "<th>bases_of_10X_coverage</th>\n",
       "<th>bases_of_50X_coverage</th>\n",
       "<th>mean_coverage</th>\n",
       "<th>sample_acc</th>\n",
       "<th>run_acc</th>\n",
       "<th>temp</th>\n",
       "<th>type</th>\n",
       "<th>ostype</th>\n",
       "</tr>\n",
       "</thead>\n",
       "<tbody>\n",
       "<tr>\n",
       "<td>/lustre/scratch109/malaria/pfalciparum/output/4/0/e/d/45490/1_bam_merge/pe.1.bam</td>\n",
       "<td>TRAC1</td>\n",
       "<td>PV0274-C</td>\n",
       "<td>2228748200</td>\n",
       "<td>2058050500</td>\n",
       "<td>100</td>\n",
       "<td>22819514</td>\n",
       "<td>22553897</td>\n",
       "<td>22145792</td>\n",
       "<td>16271860</td>\n",
       "<td>89.43</td>\n",
       "<td>ERS143473</td>\n",
       "<td>ERR180071</td>\n",
       "<td style='text-align: right'>0</td>\n",
       "<td>dna</td>\n",
       "<td>NULL</td>\n",
       "</tr>\n",
       "</tbody>\n",
       "</table>\n"
      ],
      "text/plain": [
       "+------------------------------------------------------------------------------------+---------+------------+--------------+--------------+-----------------+----------------------+----------------------+-----------------------+-----------------------+---------------+-------------+-------------+------+-------+--------+\n",
       "| path                                                                               | study   | sample     | bases        | bases_mapped | avg_read_length | bases_of_1X_coverage | bases_of_5X_coverage | bases_of_10X_coverage | bases_of_50X_coverage | mean_coverage | sample_acc  | run_acc     | temp | type  | ostype |\n",
       "+====================================================================================+=========+============+==============+==============+=================+======================+======================+=======================+=======================+===============+=============+=============+======+=======+========+\n",
       "| '/lustre/scratch109/malaria/pfalciparum/output/4/0/e/d/45490/1_bam_merge/pe.1.bam' | 'TRAC1' | 'PV0274-C' | '2228748200' | '2058050500' | '100'           | '22819514'           | '22553897'           | '22145792'            | '16271860'            | '89.43'       | 'ERS143473' | 'ERR180071' |    0 | 'dna' | 'NULL' |\n",
       "+------------------------------------------------------------------------------------+---------+------------+--------------+--------------+-----------------+----------------------+----------------------+-----------------------+-----------------------+---------------+-------------+-------------+------+-------+--------+"
      ]
     },
     "execution_count": 49,
     "metadata": {},
     "output_type": "execute_result"
    }
   ],
   "source": [
    "tbl_pf_40_freeze_manifest.selecteq('sample', 'PV0274-C')"
   ]
  },
  {
   "cell_type": "code",
   "execution_count": 58,
   "metadata": {
    "collapsed": false
   },
   "outputs": [
    {
     "data": {
      "text/html": [
       "<table class='petl'>\n",
       "<thead>\n",
       "<tr>\n",
       "<th>path</th>\n",
       "<th>study</th>\n",
       "<th>sample</th>\n",
       "<th>bases</th>\n",
       "<th>bases_mapped</th>\n",
       "<th>avg_read_length</th>\n",
       "<th>bases_of_1X_coverage</th>\n",
       "<th>bases_of_5X_coverage</th>\n",
       "<th>bases_of_10X_coverage</th>\n",
       "<th>bases_of_50X_coverage</th>\n",
       "<th>mean_coverage</th>\n",
       "<th>sample_acc</th>\n",
       "<th>run_acc</th>\n",
       "<th>temp</th>\n",
       "<th>type</th>\n",
       "<th>ostype</th>\n",
       "</tr>\n",
       "</thead>\n",
       "<tbody>\n",
       "<tr>\n",
       "<td>/lustre/scratch109/malaria/pfalciparum/output/0/0/4/b/44220/1_bam_merge/pe.1.bam</td>\n",
       "<td>ARC3</td>\n",
       "<td>PH0153-CW</td>\n",
       "<td>1397387250</td>\n",
       "<td>1289171925</td>\n",
       "<td>75</td>\n",
       "<td>22889980</td>\n",
       "<td>22430053</td>\n",
       "<td>21956548</td>\n",
       "<td>12339237</td>\n",
       "<td>56.32</td>\n",
       "<td>ERS024152</td>\n",
       "<td>ERR036594</td>\n",
       "<td style='text-align: right'>0</td>\n",
       "<td>MDA</td>\n",
       "<td>NULL</td>\n",
       "</tr>\n",
       "</tbody>\n",
       "</table>\n"
      ],
      "text/plain": [
       "+------------------------------------------------------------------------------------+--------+-------------+--------------+--------------+-----------------+----------------------+----------------------+-----------------------+-----------------------+---------------+-------------+-------------+------+-------+--------+\n",
       "| path                                                                               | study  | sample      | bases        | bases_mapped | avg_read_length | bases_of_1X_coverage | bases_of_5X_coverage | bases_of_10X_coverage | bases_of_50X_coverage | mean_coverage | sample_acc  | run_acc     | temp | type  | ostype |\n",
       "+====================================================================================+========+=============+==============+==============+=================+======================+======================+=======================+=======================+===============+=============+=============+======+=======+========+\n",
       "| '/lustre/scratch109/malaria/pfalciparum/output/0/0/4/b/44220/1_bam_merge/pe.1.bam' | 'ARC3' | 'PH0153-CW' | '1397387250' | '1289171925' | '75'            | '22889980'           | '22430053'           | '21956548'            | '12339237'            | '56.32'       | 'ERS024152' | 'ERR036594' |    0 | 'MDA' | 'NULL' |\n",
       "+------------------------------------------------------------------------------------+--------+-------------+--------------+--------------+-----------------+----------------------+----------------------+-----------------------+-----------------------+---------------+-------------+-------------+------+-------+--------+"
      ]
     },
     "execution_count": 58,
     "metadata": {},
     "output_type": "execute_result"
    }
   ],
   "source": [
    "tbl_pf_40_freeze_manifest.selecteq('sample', 'PH0153-CW')"
   ]
  },
  {
   "cell_type": "code",
   "execution_count": 59,
   "metadata": {
    "collapsed": false
   },
   "outputs": [
    {
     "data": {
      "text/html": [
       "<table class='petl'>\n",
       "<thead>\n",
       "<tr>\n",
       "<th>path</th>\n",
       "<th>study</th>\n",
       "<th>sample</th>\n",
       "<th>bases</th>\n",
       "<th>bases_mapped</th>\n",
       "<th>avg_read_length</th>\n",
       "<th>bases_of_1X_coverage</th>\n",
       "<th>bases_of_5X_coverage</th>\n",
       "<th>bases_of_10X_coverage</th>\n",
       "<th>bases_of_50X_coverage</th>\n",
       "<th>mean_coverage</th>\n",
       "<th>sample_acc</th>\n",
       "<th>run_acc</th>\n",
       "<th>temp</th>\n",
       "<th>type</th>\n",
       "<th>ostype</th>\n",
       "</tr>\n",
       "</thead>\n",
       "<tbody>\n",
       "<tr>\n",
       "<td>/lustre/scratch109/malaria/pfalciparum/output/5/7/5/8/45741/1_bam_merge/pe.1.bam</td>\n",
       "<td>TRAC1</td>\n",
       "<td>QE0455-C</td>\n",
       "<td>1793021400</td>\n",
       "<td>1627002600</td>\n",
       "<td>100</td>\n",
       "<td>22888264</td>\n",
       "<td>22672815</td>\n",
       "<td>22430448</td>\n",
       "<td>16538494</td>\n",
       "<td>70.50</td>\n",
       "<td>ERS174616</td>\n",
       "<td>ERR216573</td>\n",
       "<td style='text-align: right'>0</td>\n",
       "<td>dna</td>\n",
       "<td>NULL</td>\n",
       "</tr>\n",
       "</tbody>\n",
       "</table>\n"
      ],
      "text/plain": [
       "+------------------------------------------------------------------------------------+---------+------------+--------------+--------------+-----------------+----------------------+----------------------+-----------------------+-----------------------+---------------+-------------+-------------+------+-------+--------+\n",
       "| path                                                                               | study   | sample     | bases        | bases_mapped | avg_read_length | bases_of_1X_coverage | bases_of_5X_coverage | bases_of_10X_coverage | bases_of_50X_coverage | mean_coverage | sample_acc  | run_acc     | temp | type  | ostype |\n",
       "+====================================================================================+=========+============+==============+==============+=================+======================+======================+=======================+=======================+===============+=============+=============+======+=======+========+\n",
       "| '/lustre/scratch109/malaria/pfalciparum/output/5/7/5/8/45741/1_bam_merge/pe.1.bam' | 'TRAC1' | 'QE0455-C' | '1793021400' | '1627002600' | '100'           | '22888264'           | '22672815'           | '22430448'            | '16538494'            | '70.50'       | 'ERS174616' | 'ERR216573' |    0 | 'dna' | 'NULL' |\n",
       "+------------------------------------------------------------------------------------+---------+------------+--------------+--------------+-----------------+----------------------+----------------------+-----------------------+-----------------------+---------------+-------------+-------------+------+-------+--------+"
      ]
     },
     "execution_count": 59,
     "metadata": {},
     "output_type": "execute_result"
    }
   ],
   "source": [
    "tbl_pf_40_freeze_manifest.selecteq('sample', 'QE0455-C')"
   ]
  },
  {
   "cell_type": "code",
   "execution_count": 50,
   "metadata": {
    "collapsed": false
   },
   "outputs": [
    {
     "data": {
      "text/plain": [
       "3488"
      ]
     },
     "execution_count": 50,
     "metadata": {},
     "output_type": "execute_result"
    }
   ],
   "source": [
    "len(tbl_pf_40_freeze_manifest.data())"
   ]
  },
  {
   "cell_type": "code",
   "execution_count": 54,
   "metadata": {
    "collapsed": false
   },
   "outputs": [
    {
     "name": "stdout",
     "output_type": "stream",
     "text": [
      "TAAACCCTAAACCCTGAATTATAT\n"
     ]
    }
   ],
   "source": [
    "from Bio.Seq import Seq\n",
    "print(Seq('ATATAATTCAGGGTTTAGGGTTTA').reverse_complement())"
   ]
  },
  {
   "cell_type": "code",
   "execution_count": 52,
   "metadata": {
    "collapsed": false
   },
   "outputs": [
    {
     "name": "stdout",
     "output_type": "stream",
     "text": [
      "................................................................................................................................................................................................................................................................................................................................................................................................................................................................................................................................................................................................................................................................................................................................................................................................................................................................................................................................................................................................................................................................................................................................................................................................................................................................................................................................................................................................................................................................................................................................................................................................................................................................................................................................................................................................................................................................................................................................................................................................................................................................................................................................................................................................................................................................................................................................................................................................................................................................................................................................................................................................................................................................................................................................................................................................................................................................................................................................................................................................................................................................................................................................................................................................................................................................................................................................................................................................................................................................................................................................................................................................................................"
     ]
    }
   ],
   "source": [
    "# PH0395-C\n",
    "print(Seq('ATATAATTCAGGGTTTAGGGTTTA').reverse_complement())\n",
    "\n",
    "import stat\n",
    "bsub = sh.Command('bsub')\n",
    "\n",
    "breakpoint_reads_dir = '/lustre/scratch109/malaria/rp7/data/Pf/4_0/breakpoint_spanning_reads/Pf3D7_13_v3_2830953'\n",
    "!mkdir -p {breakpoint_reads_dir}/results\n",
    "!mkdir -p {breakpoint_reads_dir}/scripts\n",
    "!mkdir -p {breakpoint_reads_dir}/logs\n",
    "\n",
    "breakpoint_sequence = \"'ATATAATTCAGGGTTTAGGGTTTA|TAAACCCTAAACCCTGAATTATAT'\"\n",
    "for rec in tbl_pf_40_freeze_manifest.data():\n",
    "    bam_fn = rec[0]\n",
    "    ox_code = rec[2].replace('-', '_')\n",
    "    print('.', end='')\n",
    "    num_breakpoint_reads_fn = \"%s/results/num_breakpoint_reads_%s.txt\" % (breakpoint_reads_dir, ox_code)\n",
    "    if not os.path.exists(num_breakpoint_reads_fn):\n",
    "        script_fn = \"%s/scripts/nbpr_%s.sh\" % (breakpoint_reads_dir, ox_code)\n",
    "        fo = open(script_fn, 'w')\n",
    "        print('samtools view %s | grep -E %s | wc -l > %s' % (bam_fn, breakpoint_sequence, num_breakpoint_reads_fn), file = fo)\n",
    "        fo.close()\n",
    "        st = os.stat(script_fn)\n",
    "        os.chmod(script_fn, st.st_mode | stat.S_IEXEC)\n",
    "        bsub(\n",
    "            '-G', 'malaria-dk',\n",
    "            '-P', 'malaria-dk',\n",
    "            '-q', 'normal',\n",
    "            '-o', '%s/logs/nbpr_%s.out' % (breakpoint_reads_dir, ox_code),\n",
    "            '-e', '%s/logs/nbpr_%s.err' % (breakpoint_reads_dir, ox_code),\n",
    "            '-J', 'nbpr_%s' % (ox_code),\n",
    "            '-R', \"'select[mem>4000] rusage[mem=4000]'\",\n",
    "            '-M', '4000',\n",
    "            script_fn\n",
    "        )\n"
   ]
  },
  {
   "cell_type": "code",
   "execution_count": 60,
   "metadata": {
    "collapsed": false
   },
   "outputs": [
    {
     "name": "stdout",
     "output_type": "stream",
     "text": [
      "TAAAACCTAAAACCTGAATTATATACAGATGAAC\n",
      "TAAACCCTAAACCCTGAATTATATACAGATGAAC\n"
     ]
    }
   ],
   "source": [
    "print(Seq('GTTCATCTGTATATAATTCAGGTTTTAGGTTTTA').reverse_complement())\n",
    "print(Seq('GTTCATCTGTATATAATTCAGGGTTTAGGGTTTA').reverse_complement())\n"
   ]
  },
  {
   "cell_type": "code",
   "execution_count": 61,
   "metadata": {
    "collapsed": false
   },
   "outputs": [
    {
     "name": "stdout",
     "output_type": "stream",
     "text": [
      "TAAAACCTAAAACCTGAATTATATACAGATGAAC\n",
      "TAAACCCTAAACCCTGAATTATATACAGATGAAC\n",
      "................................................................................................................................................................................................................................................................................................................................................................................................................................................................................................................................................................................................................................................................................................................................................................................................................................................................................................................................................................................................................................................................................................................................................................................................................................................................................................................................................................................................................................................................................................................................................................................................................................................................................................................................................................................................................................................................................................................................................................................................................................................................................................................................................................................................................................................................................................................................................................................................................................................................................................................................................................................................................................................................................................................................................................................................................................................................................................................................................................................................................................................................................................................................................................................................................................................................................................................................................................................................................................................................................................................................................................................................................................"
     ]
    }
   ],
   "source": [
    "# PH0395-C\n",
    "print(Seq('GTTCATCTGTATATAATTCAGGTTTTAGGTTTTA').reverse_complement())\n",
    "print(Seq('GTTCATCTGTATATAATTCAGGGTTTAGGGTTTA').reverse_complement())\n",
    "\n",
    "import stat\n",
    "bsub = sh.Command('bsub')\n",
    "\n",
    "breakpoint_reads_dir = '/lustre/scratch109/malaria/rp7/data/Pf/4_0/breakpoint_spanning_reads/Pf3D7_13_v3_2830953_34'\n",
    "!mkdir -p {breakpoint_reads_dir}/results\n",
    "!mkdir -p {breakpoint_reads_dir}/scripts\n",
    "!mkdir -p {breakpoint_reads_dir}/logs\n",
    "\n",
    "breakpoint_sequence = \"'GTTCATCTGTATATAATTCAGG[T|G]TTTAGG[T|G]TTTA|TAAA[A|C]CCTAAA[A|C]CCTGAATTATATACAGATGAAC'\"\n",
    "for rec in tbl_pf_40_freeze_manifest.data():\n",
    "    bam_fn = rec[0]\n",
    "    ox_code = rec[2].replace('-', '_')\n",
    "    print('.', end='')\n",
    "    num_breakpoint_reads_fn = \"%s/results/num_breakpoint_reads_%s.txt\" % (breakpoint_reads_dir, ox_code)\n",
    "    if not os.path.exists(num_breakpoint_reads_fn):\n",
    "        script_fn = \"%s/scripts/nbpr_%s.sh\" % (breakpoint_reads_dir, ox_code)\n",
    "        fo = open(script_fn, 'w')\n",
    "        print('samtools view %s | grep -E %s | wc -l > %s' % (bam_fn, breakpoint_sequence, num_breakpoint_reads_fn), file = fo)\n",
    "        fo.close()\n",
    "        st = os.stat(script_fn)\n",
    "        os.chmod(script_fn, st.st_mode | stat.S_IEXEC)\n",
    "        bsub(\n",
    "            '-G', 'malaria-dk',\n",
    "            '-P', 'malaria-dk',\n",
    "            '-q', 'normal',\n",
    "            '-o', '%s/logs/nbpr_%s.out' % (breakpoint_reads_dir, ox_code),\n",
    "            '-e', '%s/logs/nbpr_%s.err' % (breakpoint_reads_dir, ox_code),\n",
    "            '-J', 'nbpr_%s' % (ox_code),\n",
    "            '-R', \"'select[mem>4000] rusage[mem=4000]'\",\n",
    "            '-M', '4000',\n",
    "            script_fn\n",
    "        )\n"
   ]
  },
  {
   "cell_type": "code",
   "execution_count": null,
   "metadata": {
    "collapsed": true
   },
   "outputs": [],
   "source": [
    "l /lustre/scratch109/malaria/rp7/data/Pf/4_0/breakpoint_spanning_reads/Pf3D7_13_v3_2830953/results/* | wc -l\n",
    "bjobs | wc -l\n",
    "!egrep -v '^0$' /lustre/scratch109/malaria/rp7/data/Pf/4_0/breakpoint_spanning_reads/Pf3D7_13_v3_2830953/results/*"
   ]
  },
  {
   "cell_type": "code",
   "execution_count": 56,
   "metadata": {
    "collapsed": false
   },
   "outputs": [
    {
     "name": "stdout",
     "output_type": "stream",
     "text": [
      "AACCCTGAACCCTAAACCTACCAA\n"
     ]
    }
   ],
   "source": [
    "print(Seq('TTGGTAGGTTTAGGGTTCAGGGTT').reverse_complement())"
   ]
  },
  {
   "cell_type": "code",
   "execution_count": 57,
   "metadata": {
    "collapsed": false
   },
   "outputs": [
    {
     "name": "stdout",
     "output_type": "stream",
     "text": [
      "AACCCTGAACCCTAAACCTACCAA\n",
      "................................................................................................................................................................................................................................................................................................................................................................................................................................................................................................................................................................................................................................................................................................................................................................................................................................................................................................................................................................................................................................................................................................................................................................................................................................................................................................................................................................................................................................................................................................................................................................................................................................................................................................................................................................................................................................................................................................................................................................................................................................................................................................................................................................................................................................................................................................................................................................................................................................................................................................................................................................................................................................................................................................................................................................................................................................................................................................................................................................................................................................................................................................................................................................................................................................................................................................................................................................................................................................................................................................................................................................................................................................"
     ]
    }
   ],
   "source": [
    "# PV0097-C\n",
    "print(Seq('TTGGTAGGTTTAGGGTTCAGGGTT').reverse_complement())\n",
    "\n",
    "import stat\n",
    "bsub = sh.Command('bsub')\n",
    "\n",
    "breakpoint_reads_dir = '/lustre/scratch109/malaria/rp7/data/Pf/4_0/breakpoint_spanning_reads/Pf3D7_13_v3_2837144'\n",
    "!mkdir -p {breakpoint_reads_dir}/results\n",
    "!mkdir -p {breakpoint_reads_dir}/scripts\n",
    "!mkdir -p {breakpoint_reads_dir}/logs\n",
    "\n",
    "breakpoint_sequence = \"'TTGGTAGGTTTAGGGTTCAGGGTT|AACCCTGAACCCTAAACCTACCAA'\"\n",
    "for rec in tbl_pf_40_freeze_manifest.data():\n",
    "    bam_fn = rec[0]\n",
    "    ox_code = rec[2].replace('-', '_')\n",
    "    print('.', end='')\n",
    "    num_breakpoint_reads_fn = \"%s/results/num_breakpoint_reads_%s.txt\" % (breakpoint_reads_dir, ox_code)\n",
    "    if not os.path.exists(num_breakpoint_reads_fn):\n",
    "        script_fn = \"%s/scripts/nbpr_%s.sh\" % (breakpoint_reads_dir, ox_code)\n",
    "        fo = open(script_fn, 'w')\n",
    "        print('samtools view %s | grep -E %s | wc -l > %s' % (bam_fn, breakpoint_sequence, num_breakpoint_reads_fn), file = fo)\n",
    "        fo.close()\n",
    "        st = os.stat(script_fn)\n",
    "        os.chmod(script_fn, st.st_mode | stat.S_IEXEC)\n",
    "        bsub(\n",
    "            '-G', 'malaria-dk',\n",
    "            '-P', 'malaria-dk',\n",
    "            '-q', 'normal',\n",
    "            '-o', '%s/logs/nbpr_%s.out' % (breakpoint_reads_dir, ox_code),\n",
    "            '-e', '%s/logs/nbpr_%s.err' % (breakpoint_reads_dir, ox_code),\n",
    "            '-J', 'nbpr_%s' % (ox_code),\n",
    "            '-R', \"'select[mem>4000] rusage[mem=4000]'\",\n",
    "            '-M', '4000',\n",
    "            script_fn\n",
    "        )\n"
   ]
  },
  {
   "cell_type": "code",
   "execution_count": null,
   "metadata": {
    "collapsed": true
   },
   "outputs": [],
   "source": []
  }
 ],
 "metadata": {
  "anaconda-cloud": {},
  "kernelspec": {
   "display_name": "Python [default]",
   "language": "python",
   "name": "python3"
  },
  "language_info": {
   "codemirror_mode": {
    "name": "ipython",
    "version": 3
   },
   "file_extension": ".py",
   "mimetype": "text/x-python",
   "name": "python",
   "nbconvert_exporter": "python",
   "pygments_lexer": "ipython3",
   "version": "3.4.5"
  }
 },
 "nbformat": 4,
 "nbformat_minor": 0
}
