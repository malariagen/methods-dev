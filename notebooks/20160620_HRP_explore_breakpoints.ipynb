{
 "cells": [
  {
   "cell_type": "code",
   "execution_count": 2,
   "metadata": {
    "collapsed": false
   },
   "outputs": [
    {
     "name": "stdout",
     "output_type": "stream",
     "text": [
      "numpy 1.9.2\n",
      "scipy 0.14.0\n",
      "pandas 0.14.1\n",
      "numexpr 2.3.1\n",
      "pysam 0.8.3\n",
      "petl 1.0.10\n",
      "petlx 1.0.3\n",
      "h5py 2.3.1\n",
      "tables 3.1.1\n",
      "vcfplt 0.8\n"
     ]
    }
   ],
   "source": [
    "%run standard_imports.ipynb"
   ]
  },
  {
   "cell_type": "code",
   "execution_count": 4,
   "metadata": {
    "collapsed": false
   },
   "outputs": [],
   "source": [
    "manual_inspection_fn = '/Users/rpearson/Documents/projects/HRP2:3/Manual inspection HRP2 20160621.xlsx'\n",
    "\n",
    "output_dir = '/nfs/team112_internal/rp7/data/Pf/hrp'\n",
    "manifest_fn = '%s/metadata/hrp_manifest.txt' % output_dir\n",
    "manifest_fn = '/Users/rpearson/Desktop/hrp_manifest_20160620.txt'\n"
   ]
  },
  {
   "cell_type": "code",
   "execution_count": 5,
   "metadata": {
    "collapsed": false
   },
   "outputs": [
    {
     "data": {
      "text/html": [
       "<table class='petl'>\n",
       "<thead>\n",
       "<tr>\n",
       "<th>sample</th>\n",
       "<th>classification</th>\n",
       "<th>notes</th>\n",
       "</tr>\n",
       "</thead>\n",
       "<tbody>\n",
       "<tr>\n",
       "<td>PC0080-C</td>\n",
       "<td>Mixed ST -1</td>\n",
       "<td>None</td>\n",
       "</tr>\n",
       "<tr>\n",
       "<td>PC0083-C</td>\n",
       "<td>ST -1</td>\n",
       "<td>None</td>\n",
       "</tr>\n",
       "<tr>\n",
       "<td>PT0008-CW</td>\n",
       "<td>small del ex2 ~</td>\n",
       "<td>Should be able to find breakpoints with IGV</td>\n",
       "</tr>\n",
       "<tr>\n",
       "<td>QS0170-C</td>\n",
       "<td>small del ex2 ~</td>\n",
       "<td>Should be able to find breakpoints with IGV</td>\n",
       "</tr>\n",
       "<tr>\n",
       "<td>PP0002-C</td>\n",
       "<td>ST 0</td>\n",
       "<td>Possibly major component of mixture?</td>\n",
       "</tr>\n",
       "</tbody>\n",
       "</table>\n",
       "<p><strong>...</strong></p>"
      ],
      "text/plain": [
       "+-------------+-------------------+-----------------------------------------------+\n",
       "| sample      | classification    | notes                                         |\n",
       "+=============+===================+===============================================+\n",
       "| 'PC0080-C'  | 'Mixed ST -1'     | None                                          |\n",
       "+-------------+-------------------+-----------------------------------------------+\n",
       "| 'PC0083-C'  | 'ST -1'           | None                                          |\n",
       "+-------------+-------------------+-----------------------------------------------+\n",
       "| 'PT0008-CW' | 'small del ex2 ~' | 'Should be able to find breakpoints with IGV' |\n",
       "+-------------+-------------------+-----------------------------------------------+\n",
       "| 'QS0170-C'  | 'small del ex2 ~' | 'Should be able to find breakpoints with IGV' |\n",
       "+-------------+-------------------+-----------------------------------------------+\n",
       "| 'PP0002-C'  | 'ST 0'            | 'Possibly major component of mixture?'        |\n",
       "+-------------+-------------------+-----------------------------------------------+\n",
       "..."
      ]
     },
     "execution_count": 5,
     "metadata": {},
     "output_type": "execute_result"
    }
   ],
   "source": [
    "etl.fromxlsx(manual_inspection_fn, 'HRP2 definite').pushheader(['sample', 'classification', 'notes'])"
   ]
  },
  {
   "cell_type": "code",
   "execution_count": 6,
   "metadata": {
    "collapsed": false
   },
   "outputs": [
    {
     "data": {
      "text/plain": [
       "7979"
      ]
     },
     "execution_count": 6,
     "metadata": {},
     "output_type": "execute_result"
    }
   ],
   "source": [
    "len(etl.fromtsv(manifest_fn).cut(['path', 'sample']).data())"
   ]
  },
  {
   "cell_type": "code",
   "execution_count": 7,
   "metadata": {
    "collapsed": false,
    "scrolled": true
   },
   "outputs": [
    {
     "name": "stdout",
     "output_type": "stream",
     "text": [
      "16\n"
     ]
    },
    {
     "data": {
      "text/html": [
       "<table class='petl'>\n",
       "<thead>\n",
       "<tr>\n",
       "<th>sample</th>\n",
       "<th>classification</th>\n",
       "<th>notes</th>\n",
       "<th>path</th>\n",
       "<th>oxford_src_code</th>\n",
       "<th>oxford_donor_code</th>\n",
       "<th>dataset</th>\n",
       "<th>type</th>\n",
       "<th>region_code</th>\n",
       "<th>country_code</th>\n",
       "<th>country_name</th>\n",
       "<th>sub_continent</th>\n",
       "<th>sub_continent_name</th>\n",
       "<th>sub_continent_number</th>\n",
       "</tr>\n",
       "</thead>\n",
       "<tbody>\n",
       "<tr>\n",
       "<td>PC0080-C</td>\n",
       "<td>Mixed ST -1</td>\n",
       "<td>None</td>\n",
       "<td>/lustre/scratch109/malaria/pfalciparum/output/4/d/8/3/43032/1_bam_merge/pe.1.bam</td>\n",
       "<td>8388</td>\n",
       "<td>8388</td>\n",
       "<td>pf_community_5_0</td>\n",
       "<td>dna</td>\n",
       "<td>KE</td>\n",
       "<td>KE</td>\n",
       "<td>Kenya</td>\n",
       "<td>EAF</td>\n",
       "<td>East Africa</td>\n",
       "<td>3</td>\n",
       "</tr>\n",
       "<tr>\n",
       "<td>PC0083-C</td>\n",
       "<td>ST -1</td>\n",
       "<td>None</td>\n",
       "<td>/lustre/scratch109/malaria/pfalciparum/output/1/5/b/9/43033/1_bam_merge/pe.1.bam</td>\n",
       "<td>9428</td>\n",
       "<td>9428</td>\n",
       "<td>pf_community_5_0</td>\n",
       "<td>dna</td>\n",
       "<td>KE</td>\n",
       "<td>KE</td>\n",
       "<td>Kenya</td>\n",
       "<td>EAF</td>\n",
       "<td>East Africa</td>\n",
       "<td>3</td>\n",
       "</tr>\n",
       "<tr>\n",
       "<td>PH0029-Cx</td>\n",
       "<td>ST -1</td>\n",
       "<td>None</td>\n",
       "<td>/lustre/scratch109/malaria/pfalciparum/output/8/2/e/b/44143/1_bam_merge/pe.1.bam</td>\n",
       "<td>CP271</td>\n",
       "<td>CP271</td>\n",
       "<td>pf_community_5_0</td>\n",
       "<td>dna</td>\n",
       "<td>WKH</td>\n",
       "<td>KH</td>\n",
       "<td>Cambodia</td>\n",
       "<td>ESEA</td>\n",
       "<td>Eastern south-east Asia</td>\n",
       "<td>5</td>\n",
       "</tr>\n",
       "<tr>\n",
       "<td>PJ0135-Cx</td>\n",
       "<td>ST 0</td>\n",
       "<td>None</td>\n",
       "<td>/lustre/scratch109/malaria/pfalciparum/output/0/c/d/1/203182/1_bam_merge/pe.1.bam</td>\n",
       "<td>UFM_34</td>\n",
       "<td>UFM_34</td>\n",
       "<td>pf_community_5_0</td>\n",
       "<td>dna</td>\n",
       "<td>ID</td>\n",
       "<td>ID</td>\n",
       "<td>Indonesia</td>\n",
       "<td>OCE</td>\n",
       "<td>Oceania</td>\n",
       "<td>7</td>\n",
       "</tr>\n",
       "<tr>\n",
       "<td>PJ0233-C</td>\n",
       "<td>ST 0</td>\n",
       "<td>None</td>\n",
       "<td>/lustre/scratch109/malaria/pfalciparum/output/d/9/5/e/265602/1_bam_merge/pe.1.bam</td>\n",
       "<td>UFD_138</td>\n",
       "<td>UFD_138</td>\n",
       "<td>pf_community_5_1</td>\n",
       "<td>dna</td>\n",
       "<td>ID</td>\n",
       "<td>ID</td>\n",
       "<td>Indonesia</td>\n",
       "<td>OCE</td>\n",
       "<td>Oceania</td>\n",
       "<td>7</td>\n",
       "</tr>\n",
       "</tbody>\n",
       "</table>\n",
       "<p><strong>...</strong></p>"
      ],
      "text/plain": [
       "+-------------+----------------+-------+-------------------------------------------------------------------------------------+-----------------+-------------------+--------------------+-------+-------------+--------------+--------------+---------------+---------------------------+----------------------+\n",
       "| sample      | classification | notes | path                                                                                | oxford_src_code | oxford_donor_code | dataset            | type  | region_code | country_code | country_name | sub_continent | sub_continent_name        | sub_continent_number |\n",
       "+=============+================+=======+=====================================================================================+=================+===================+====================+=======+=============+==============+==============+===============+===========================+======================+\n",
       "| 'PC0080-C'  | 'Mixed ST -1'  | None  | '/lustre/scratch109/malaria/pfalciparum/output/4/d/8/3/43032/1_bam_merge/pe.1.bam'  | '8388'          | '8388'            | 'pf_community_5_0' | 'dna' | 'KE'        | 'KE'         | 'Kenya'      | 'EAF'         | 'East Africa'             | '3'                  |\n",
       "+-------------+----------------+-------+-------------------------------------------------------------------------------------+-----------------+-------------------+--------------------+-------+-------------+--------------+--------------+---------------+---------------------------+----------------------+\n",
       "| 'PC0083-C'  | 'ST -1'        | None  | '/lustre/scratch109/malaria/pfalciparum/output/1/5/b/9/43033/1_bam_merge/pe.1.bam'  | '9428'          | '9428'            | 'pf_community_5_0' | 'dna' | 'KE'        | 'KE'         | 'Kenya'      | 'EAF'         | 'East Africa'             | '3'                  |\n",
       "+-------------+----------------+-------+-------------------------------------------------------------------------------------+-----------------+-------------------+--------------------+-------+-------------+--------------+--------------+---------------+---------------------------+----------------------+\n",
       "| 'PH0029-Cx' | 'ST -1'        | None  | '/lustre/scratch109/malaria/pfalciparum/output/8/2/e/b/44143/1_bam_merge/pe.1.bam'  | 'CP271'         | 'CP271'           | 'pf_community_5_0' | 'dna' | 'WKH'       | 'KH'         | 'Cambodia'   | 'ESEA'        | 'Eastern south-east Asia' | '5'                  |\n",
       "+-------------+----------------+-------+-------------------------------------------------------------------------------------+-----------------+-------------------+--------------------+-------+-------------+--------------+--------------+---------------+---------------------------+----------------------+\n",
       "| 'PJ0135-Cx' | 'ST 0'         | None  | '/lustre/scratch109/malaria/pfalciparum/output/0/c/d/1/203182/1_bam_merge/pe.1.bam' | 'UFM_34'        | 'UFM_34'          | 'pf_community_5_0' | 'dna' | 'ID'        | 'ID'         | 'Indonesia'  | 'OCE'         | 'Oceania'                 | '7'                  |\n",
       "+-------------+----------------+-------+-------------------------------------------------------------------------------------+-----------------+-------------------+--------------------+-------+-------------+--------------+--------------+---------------+---------------------------+----------------------+\n",
       "| 'PJ0233-C'  | 'ST 0'         | None  | '/lustre/scratch109/malaria/pfalciparum/output/d/9/5/e/265602/1_bam_merge/pe.1.bam' | 'UFD_138'       | 'UFD_138'         | 'pf_community_5_1' | 'dna' | 'ID'        | 'ID'         | 'Indonesia'  | 'OCE'         | 'Oceania'                 | '7'                  |\n",
       "+-------------+----------------+-------+-------------------------------------------------------------------------------------+-----------------+-------------------+--------------------+-------+-------------+--------------+--------------+---------------+---------------------------+----------------------+\n",
       "..."
      ]
     },
     "execution_count": 7,
     "metadata": {},
     "output_type": "execute_result"
    }
   ],
   "source": [
    "tbl_hrp2_definite = (\n",
    "    etl.fromxlsx(manual_inspection_fn, 'HRP2 definite')\n",
    "    .pushheader(['sample', 'classification', 'notes'])\n",
    "    .leftjoin(etl.fromtsv(manifest_fn), key='sample')\n",
    ")\n",
    "print(len(tbl_hrp2_definite.data()))\n",
    "tbl_hrp2_definite"
   ]
  },
  {
   "cell_type": "code",
   "execution_count": 8,
   "metadata": {
    "collapsed": false
   },
   "outputs": [
    {
     "name": "stdout",
     "output_type": "stream",
     "text": [
      "/lustre/scratch109/malaria/pfalciparum/output/4/d/8/3/43032/1_bam_merge/pe.1.bam\n",
      "receiving file list ... done\n",
      "pe.1.bam\n",
      "\n",
      "sent 42 bytes  received 2914169694 bytes  2498216.66 bytes/sec\n",
      "total size is 2913813869  speedup is 1.00\n",
      "/lustre/scratch109/malaria/pfalciparum/output/1/5/b/9/43033/1_bam_merge/pe.1.bam\n",
      "receiving file list ... done\n",
      "pe.1.bam\n",
      "\n",
      "sent 42 bytes  received 3091247663 bytes  2316408.92 bytes/sec\n",
      "total size is 3090870226  speedup is 1.00\n",
      "/lustre/scratch109/malaria/pfalciparum/output/8/2/e/b/44143/1_bam_merge/pe.1.bam\n",
      "receiving file list ... done\n",
      "pe.1.bam\n",
      "\n",
      "sent 42 bytes  received 4241997662 bytes  2424691.46 bytes/sec\n",
      "total size is 4241479769  speedup is 1.00\n",
      "/lustre/scratch109/malaria/pfalciparum/output/0/c/d/1/203182/1_bam_merge/pe.1.bam\n",
      "receiving file list ... done\n",
      "pe.1.bam\n",
      "\n",
      "sent 42 bytes  received 1661169423 bytes  2541957.87 bytes/sec\n",
      "total size is 1660966542  speedup is 1.00\n",
      "/lustre/scratch109/malaria/pfalciparum/output/d/9/5/e/265602/1_bam_merge/pe.1.bam\n",
      "receiving file list ... done\n",
      "pe.1.bam\n",
      "\n",
      "sent 42 bytes  received 1268279507 bytes  2455526.72 bytes/sec\n",
      "total size is 1268124578  speedup is 1.00\n",
      "/lustre/scratch109/malaria/pfalciparum/output/6/5/1/8/265618/1_bam_merge/pe.1.bam\n",
      "receiving file list ... done\n",
      "pe.1.bam\n",
      "\n",
      "sent 42 bytes  received 2880828701 bytes  2461195.00 bytes/sec\n",
      "total size is 2880476944  speedup is 1.00\n",
      "/lustre/scratch109/malaria/pfalciparum/output/6/8/e/6/45077/1_bam_merge/pe.1.bam\n",
      "receiving file list ... done\n",
      "pe.1.bam\n",
      "\n",
      "sent 42 bytes  received 2857848806 bytes  2512394.59 bytes/sec\n",
      "total size is 2857499857  speedup is 1.00\n",
      "/lustre/scratch109/malaria/pfalciparum/output/b/0/f/0/45084/1_bam_merge/pe.1.bam\n",
      "receiving file list ... done\n",
      "pe.1.bam\n",
      "\n",
      "sent 42 bytes  received 4874935021 bytes  2473958.42 bytes/sec\n",
      "total size is 4874339872  speedup is 1.00\n",
      "/lustre/scratch109/malaria/pfalciparum/output/7/1/7/d/61739/1_bam_merge/pe.1.bam\n",
      "receiving file list ... done\n",
      "pe.1.bam\n",
      "\n",
      "sent 42 bytes  received 2618391356 bytes  2624953.78 bytes/sec\n",
      "total size is 2618071631  speedup is 1.00\n",
      "/lustre/scratch109/malaria/pfalciparum/output/5/9/0/c/248432/1_bam_merge/pe.1.bam\n",
      "receiving file list ... done\n",
      "pe.1.bam\n",
      "\n",
      "sent 42 bytes  received 2307707495 bytes  2577004.51 bytes/sec\n",
      "total size is 2307425690  speedup is 1.00\n",
      "/lustre/scratch109/malaria/pfalciparum/output/f/f/b/7/248433/1_bam_merge/pe.1.bam\n",
      "receiving file list ... done\n",
      "pe.1.bam\n",
      "\n",
      "sent 42 bytes  received 2273637646 bytes  2576359.99 bytes/sec\n",
      "total size is 2273360001  speedup is 1.00\n",
      "/lustre/scratch109/malaria/pfalciparum/output/0/b/1/d/248434/1_bam_merge/pe.1.bam\n",
      "receiving file list ... done\n",
      "pe.1.bam\n",
      "\n",
      "sent 42 bytes  received 1977331026 bytes  2666663.61 bytes/sec\n",
      "total size is 1977089557  speedup is 1.00\n",
      "/lustre/scratch109/malaria/pfalciparum/output/7/2/8/7/248436/1_bam_merge/pe.1.bam\n",
      "receiving file list ... done\n",
      "pe.1.bam\n",
      "\n",
      "sent 42 bytes  received 2372447584 bytes  2201807.54 bytes/sec\n",
      "total size is 2372157879  speedup is 1.00\n",
      "/lustre/scratch109/malaria/pfalciparum/output/6/3/a/0/248437/1_bam_merge/pe.1.bam\n",
      "receiving file list ... done\n",
      "pe.1.bam\n",
      "\n",
      "sent 42 bytes  received 2206789819 bytes  2413110.84 bytes/sec\n",
      "total size is 2206520334  speedup is 1.00\n",
      "/lustre/scratch109/malaria/pfalciparum/output/d/6/0/c/61748/1_bam_merge/pe.1.bam\n",
      "receiving file list ... done\n",
      "\n",
      "sent 20 bytes  received 83 bytes  68.67 bytes/sec\n",
      "total size is 1551632121  speedup is 15064389.52\n",
      "/lustre/scratch111/malaria/pdna/output/6/8/2/2/558458/1_bam_merge/pe.1.bam\n",
      "receiving file list ... done\n",
      "pe.1.bam\n",
      "\n",
      "sent 42 bytes  received 2002613450 bytes  2783340.50 bytes/sec\n",
      "total size is 2002368893  speedup is 1.00\n"
     ]
    }
   ],
   "source": [
    "for path in tbl_hrp2_definite.values('path').list():\n",
    "    print(path)\n",
    "    if not os.path.exists(path):\n",
    "        !mkdir -p {os.path.dirname(path)}\n",
    "        !rsync -av malsrv2:{path} {os.path.dirname(path)}"
   ]
  },
  {
   "cell_type": "code",
   "execution_count": null,
   "metadata": {
    "collapsed": true
   },
   "outputs": [],
   "source": []
  }
 ],
 "metadata": {
  "kernelspec": {
   "display_name": "Python 3",
   "language": "python",
   "name": "python3"
  },
  "language_info": {
   "codemirror_mode": {
    "name": "ipython",
    "version": 3
   },
   "file_extension": ".py",
   "mimetype": "text/x-python",
   "name": "python",
   "nbconvert_exporter": "python",
   "pygments_lexer": "ipython3",
   "version": "3.5.2"
  }
 },
 "nbformat": 4,
 "nbformat_minor": 0
}
