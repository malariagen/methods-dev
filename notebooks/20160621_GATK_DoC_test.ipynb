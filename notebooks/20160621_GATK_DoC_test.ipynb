{
 "cells": [
  {
   "cell_type": "code",
   "execution_count": 2,
   "metadata": {
    "collapsed": false
   },
   "outputs": [
    {
     "name": "stdout",
     "output_type": "stream",
     "text": [
      "python 3.4.3 |Anaconda 2.2.0 (64-bit)| (default, Mar  6 2015, 12:03:53) \n",
      "[GCC 4.4.7 20120313 (Red Hat 4.4.7-1)]\n",
      "numpy 1.9.2\n",
      "scipy 0.15.1\n",
      "pandas 0.15.2\n",
      "numexpr 2.3.1\n",
      "pysam 0.8.3\n",
      "pysamstats 0.23\n",
      "petl 1.0.11\n",
      "petlx 1.0.3\n",
      "vcf 0.6.7\n",
      "vcfnp 2.3.0.dev0\n",
      "h5py 2.4.0\n",
      "tables 3.1.1\n"
     ]
    }
   ],
   "source": [
    "%run _standard_imports.ipynb"
   ]
  },
  {
   "cell_type": "code",
   "execution_count": 12,
   "metadata": {
    "collapsed": true
   },
   "outputs": [],
   "source": [
    "output_dir = '/nfs/team112_internal/rp7/data/Pf/hrp'\n",
    "!mkdir -p {output_dir}/intervals\n",
    "\n",
    "test_intervals_fn = \"%s/intervals/hrp_only.interval_list\" % output_dir\n",
    "\n",
    "bam_fn = \"/lustre/scratch109/malaria/pfalciparum/output/5/e/4/0/43016/1_bam_merge/pe.1.bam\"\n",
    "sample = \"PC0061-C\"\n",
    "test_doc_fn = \"%s/intervals/doc_%s\" % (output_dir, sample)\n",
    "genome_fn = \"/lustre/scratch109/malaria/pfalciparum/resources/3D7_V3.fasta\"\n",
    "GenomeAnalysisTK=\"/software/jre1.7.0_25/bin/java -Xmx2G -jar /nfs/team112_internal/production/tools/bin/gatk/GenomeAnalysisTK-3.5/GenomeAnalysisTK.jar\""
   ]
  },
  {
   "cell_type": "code",
   "execution_count": 7,
   "metadata": {
    "collapsed": false
   },
   "outputs": [],
   "source": [
    "fo = open(test_intervals_fn, \"w\")\n",
    "print(\"Pf3D7_08_v3:1374236-1375084\", file=fo)\n",
    "print(\"Pf3D7_08_v3:1375231-1375299\", file=fo)\n",
    "print(\"Pf3D7_13_v3:2840727-2841485\", file=fo)\n",
    "print(\"Pf3D7_13_v3:2841635-2841703\", file=fo)\n",
    "fo.close()\n"
   ]
  },
  {
   "cell_type": "code",
   "execution_count": 15,
   "metadata": {
    "collapsed": false
   },
   "outputs": [
    {
     "name": "stdout",
     "output_type": "stream",
     "text": [
      "INFO  16:54:04,750 HelpFormatter - -------------------------------------------------------------------------------- \n",
      "INFO  16:54:04,754 HelpFormatter - The Genome Analysis Toolkit (GATK) v3.5-0-g36282e4, Compiled 2015/11/25 04:03:56 \n",
      "INFO  16:54:04,754 HelpFormatter - Copyright (c) 2010 The Broad Institute \n",
      "INFO  16:54:04,755 HelpFormatter - For support and documentation go to http://www.broadinstitute.org/gatk \n",
      "INFO  16:54:04,761 HelpFormatter - Program Args: -T DepthOfCoverage -R /lustre/scratch109/malaria/pfalciparum/resources/3D7_V3.fasta -I /lustre/scratch109/malaria/pfalciparum/output/5/e/4/0/43016/1_bam_merge/pe.1.bam -I /lustre/scratch109/malaria/pfalciparum/output/0/0/f/9/43017/1_bam_merge/pe.1.bam -I /lustre/scratch109/malaria/pfalciparum/output/a/f/5/a/43018/1_bam_merge/pe.1.bam -o /nfs/team112_internal/rp7/data/Pf/hrp/intervals/doc_PC0061-C -L /nfs/team112_internal/rp7/data/Pf/hrp/intervals/hrp_only.interval_list \n",
      "INFO  16:54:04,765 HelpFormatter - Executing as rp7@malsrv3 on Linux 3.2.0-75-generic amd64; Java HotSpot(TM) 64-Bit Server VM 1.7.0_25-b15. \n",
      "INFO  16:54:04,766 HelpFormatter - Date/Time: 2016/06/21 16:54:04 \n",
      "INFO  16:54:04,766 HelpFormatter - -------------------------------------------------------------------------------- \n",
      "INFO  16:54:04,767 HelpFormatter - -------------------------------------------------------------------------------- \n",
      "INFO  16:54:05,013 GenomeAnalysisEngine - Strictness is SILENT \n",
      "INFO  16:54:05,135 GenomeAnalysisEngine - Downsampling Settings: No downsampling \n",
      "INFO  16:54:05,145 SAMDataSource$SAMReaders - Initializing SAMRecords in serial \n",
      "INFO  16:54:05,342 SAMDataSource$SAMReaders - Done initializing BAM readers: total time 0.20 \n",
      "INFO  16:54:05,432 IntervalUtils - Processing 1746 bp from intervals \n",
      "INFO  16:54:05,524 GenomeAnalysisEngine - Preparing for traversal over 3 BAM files \n",
      "INFO  16:54:05,664 GenomeAnalysisEngine - Done preparing for traversal \n",
      "INFO  16:54:05,668 ProgressMeter - [INITIALIZATION COMPLETE; STARTING PROCESSING] \n",
      "INFO  16:54:05,669 ProgressMeter -                 | processed |    time |    per 1M |           |   total | remaining \n",
      "INFO  16:54:05,669 ProgressMeter -        Location |     sites | elapsed |     sites | completed | runtime |   runtime \n",
      "INFO  16:54:09,186 DepthOfCoverage - Printing summary info \n",
      "INFO  16:54:09,249 DepthOfCoverage - Printing locus summary \n",
      "INFO  16:54:09,435 ProgressMeter -            done      3354.0     3.0 s      18.7 m       96.0%     3.0 s       0.0 s \n",
      "INFO  16:54:09,436 ProgressMeter - Total runtime 3.77 secs, 0.06 min, 0.00 hours \n",
      "INFO  16:54:09,441 MicroScheduler - 2461 reads were filtered out during the traversal out of approximately 13211 total reads (18.63%) \n",
      "INFO  16:54:09,442 MicroScheduler -   -> 0 reads (0.00% of total) failing BadCigarFilter \n",
      "INFO  16:54:09,442 MicroScheduler -   -> 2108 reads (15.96% of total) failing DuplicateReadFilter \n",
      "INFO  16:54:09,443 MicroScheduler -   -> 0 reads (0.00% of total) failing FailsVendorQualityCheckFilter \n",
      "INFO  16:54:09,443 MicroScheduler -   -> 0 reads (0.00% of total) failing MalformedReadFilter \n",
      "INFO  16:54:09,444 MicroScheduler -   -> 0 reads (0.00% of total) failing NotPrimaryAlignmentFilter \n",
      "INFO  16:54:09,445 MicroScheduler -   -> 353 reads (2.67% of total) failing UnmappedReadFilter \n"
     ]
    }
   ],
   "source": [
    "!{GenomeAnalysisTK} \\\n",
    "-T DepthOfCoverage \\\n",
    "-R {genome_fn} \\\n",
    "-I {bam_fn} \\\n",
    "-I /lustre/scratch109/malaria/pfalciparum/output/0/0/f/9/43017/1_bam_merge/pe.1.bam \\\n",
    "-I /lustre/scratch109/malaria/pfalciparum/output/a/f/5/a/43018/1_bam_merge/pe.1.bam \\\n",
    "-o {test_doc_fn} \\\n",
    "-L {test_intervals_fn}\n"
   ]
  },
  {
   "cell_type": "code",
   "execution_count": 16,
   "metadata": {
    "collapsed": false
   },
   "outputs": [
    {
     "name": "stdout",
     "output_type": "stream",
     "text": [
      "INFO  17:03:51,571 HelpFormatter - -------------------------------------------------------------------------------- \n",
      "INFO  17:03:51,576 HelpFormatter - The Genome Analysis Toolkit (GATK) v3.5-0-g36282e4, Compiled 2015/11/25 04:03:56 \n",
      "INFO  17:03:51,576 HelpFormatter - Copyright (c) 2010 The Broad Institute \n",
      "INFO  17:03:51,576 HelpFormatter - For support and documentation go to http://www.broadinstitute.org/gatk \n",
      "INFO  17:03:51,583 HelpFormatter - Program Args: -T GCContentByInterval -R /lustre/scratch109/malaria/pfalciparum/resources/3D7_V3.fasta -o /nfs/team112_internal/rp7/data/Pf/hrp/test_GC.txt -L /nfs/team112_internal/rp7/data/Pf/hrp/intervals/hrp_only.interval_list \n",
      "INFO  17:03:51,589 HelpFormatter - Executing as rp7@malsrv3 on Linux 3.2.0-75-generic amd64; Java HotSpot(TM) 64-Bit Server VM 1.7.0_25-b15. \n",
      "INFO  17:03:51,589 HelpFormatter - Date/Time: 2016/06/21 17:03:51 \n",
      "INFO  17:03:51,590 HelpFormatter - -------------------------------------------------------------------------------- \n",
      "INFO  17:03:51,590 HelpFormatter - -------------------------------------------------------------------------------- \n",
      "INFO  17:03:51,795 GenomeAnalysisEngine - Strictness is SILENT \n",
      "INFO  17:03:51,915 GenomeAnalysisEngine - Downsampling Settings: Method: BY_SAMPLE, Target Coverage: 1000 \n",
      "INFO  17:03:51,957 IntervalUtils - Processing 1746 bp from intervals \n",
      "INFO  17:03:52,045 GenomeAnalysisEngine - Preparing for traversal \n",
      "INFO  17:03:52,046 GenomeAnalysisEngine - Done preparing for traversal \n",
      "INFO  17:03:52,047 ProgressMeter - [INITIALIZATION COMPLETE; STARTING PROCESSING] \n",
      "INFO  17:03:52,048 ProgressMeter -                 | processed |    time |    per 1M |           |   total | remaining \n",
      "INFO  17:03:52,048 ProgressMeter -        Location |     sites | elapsed |     sites | completed | runtime |   runtime \n",
      "INFO  17:03:52,139 ProgressMeter -            done      1746.0     0.0 s      51.0 s       96.0%     0.0 s       0.0 s \n",
      "INFO  17:03:52,140 ProgressMeter - Total runtime 0.09 secs, 0.00 min, 0.00 hours \n"
     ]
    }
   ],
   "source": [
    "!{GenomeAnalysisTK} \\\n",
    "-T GCContentByInterval \\\n",
    "-R {genome_fn} \\\n",
    "-o /nfs/team112_internal/rp7/data/Pf/hrp/test_GC.txt \\\n",
    "-L {test_intervals_fn}\n"
   ]
  },
  {
   "cell_type": "code",
   "execution_count": null,
   "metadata": {
    "collapsed": true
   },
   "outputs": [],
   "source": []
  }
 ],
 "metadata": {
  "kernelspec": {
   "display_name": "Python 3",
   "language": "python",
   "name": "python3"
  },
  "language_info": {
   "codemirror_mode": {
    "name": "ipython",
    "version": 3
   },
   "file_extension": ".py",
   "mimetype": "text/x-python",
   "name": "python",
   "nbconvert_exporter": "python",
   "pygments_lexer": "ipython3",
   "version": "3.5.2"
  }
 },
 "nbformat": 4,
 "nbformat_minor": 0
}
