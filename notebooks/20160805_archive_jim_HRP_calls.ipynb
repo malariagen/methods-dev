{
 "cells": [
  {
   "cell_type": "markdown",
   "metadata": {},
   "source": [
    "# Introduction\n",
    "As part of cleanup of lustre, I decided we should copy the output created by Jim (see email 23/06/2016 19:57) using vrpipe pipelines pf_hrp_haplotype_caller, pf_hrp_combine_gvcfs, pf_hrp_genotype_gvcfs and pf_hrp_variant_annotation_using_snpeff_gatk_vcf_annotate\n",
    "\n",
    "I decided it might be good to keep both outputs of HaplotypeCaller and final vcf"
   ]
  },
  {
   "cell_type": "code",
   "execution_count": 2,
   "metadata": {
    "collapsed": true
   },
   "outputs": [],
   "source": [
    "archive_dir = '/nfs/team112_internal/rp7/data/Pf/hrp/vcf'\n",
    "!mkdir -p {archive_dir}\n"
   ]
  },
  {
   "cell_type": "raw",
   "metadata": {},
   "source": [
    "cd /nfs/team112_internal/rp7/data/Pf/hrp/vcf\n",
    "mkdir vcf_symlinks\n",
    "mkdir haplotype_caller\n",
    "vrpipe-output --setup pf_hrp_haplotype_caller --output_dir /nfs/team112_internal/rp7/data/Pf/hrp/vcf/vcf_symlinks --basename_from_metadata %sample%\n",
    "cp -L vcf_symlinks/* haplotype_caller/\n",
    "rm -R vcf_symlinks"
   ]
  },
  {
   "cell_type": "raw",
   "metadata": {
    "collapsed": true
   },
   "source": [
    "cd /nfs/team112_internal/rp7/data/Pf/hrp/vcf\n",
    "mkdir vcf_symlinks_2\n",
    "mkdir annotated\n",
    "vrpipe-output --setup pf_hrp_variant_annotation_using_snpeff_gatk_vcf_annotate --step 4 --step 5 --output_dir /nfs/team112_internal/rp7/data/Pf/hrp/vcf/vcf_symlinks_2 --basename_as_output\n",
    "cp -L vcf_symlinks_2/* annotated/\n",
    "rm -R vcf_symlinks_2"
   ]
  }
 ],
 "metadata": {
  "kernelspec": {
   "display_name": "Python 3",
   "language": "python",
   "name": "python3"
  },
  "language_info": {
   "codemirror_mode": {
    "name": "ipython",
    "version": 3
   },
   "file_extension": ".py",
   "mimetype": "text/x-python",
   "name": "python",
   "nbconvert_exporter": "python",
   "pygments_lexer": "ipython3",
   "version": "3.4.3"
  }
 },
 "nbformat": 4,
 "nbformat_minor": 0
}
