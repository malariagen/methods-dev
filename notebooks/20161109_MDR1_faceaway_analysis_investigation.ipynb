{
 "cells": [
  {
   "cell_type": "markdown",
   "metadata": {},
   "source": [
    "# Introduction\n",
    "On looking at results of faceaway reads analysis, noticed there were many samples with very low proportions. As one example PG0025-C has potential calls in 5 different MDR1 duplications. Decided to donwload the bam to look in IGV"
   ]
  },
  {
   "cell_type": "code",
   "execution_count": 1,
   "metadata": {
    "collapsed": false
   },
   "outputs": [
    {
     "name": "stdout",
     "output_type": "stream",
     "text": [
      "python 3.4.5 |Anaconda 2.2.0 (64-bit)| (default, Jul  2 2016, 17:47:47) \n",
      "[GCC 4.4.7 20120313 (Red Hat 4.4.7-1)]\n",
      "numpy 1.11.1\n",
      "scipy 0.18.0\n",
      "pandas 0.19.0\n",
      "numexpr 2.6.1\n",
      "pysam 0.9.1.4\n",
      "petl 1.1.0\n",
      "petlx 1.0.3\n",
      "vcf 0.6.8\n",
      "vcfnp 2.3.0.dev0\n",
      "h5py 2.4.0\n",
      "tables 3.1.1\n"
     ]
    }
   ],
   "source": [
    "%run _standard_imports.ipynb\n"
   ]
  },
  {
   "cell_type": "code",
   "execution_count": 2,
   "metadata": {
    "collapsed": false
   },
   "outputs": [
    {
     "name": "stdout",
     "output_type": "stream",
     "text": [
      "/lustre/scratch116/malaria/pfalciparum/output/f/e/e/e/40041/4_bam_mark_duplicates_v2/pe.1.markdup.bam\tPG0025-C\r\n"
     ]
    }
   ],
   "source": [
    "!grep PG0025 /nfs/team112_internal/rp7/data/methods-dev/analysis/20160926_pf_60_duplications/pf_6_0_bams.txt"
   ]
  },
  {
   "cell_type": "code",
   "execution_count": 3,
   "metadata": {
    "collapsed": false
   },
   "outputs": [
    {
     "name": "stdout",
     "output_type": "stream",
     "text": [
      "/lustre/scratch116/malaria/pfalciparum/output/b/0/5/3/37922/4_bam_mark_duplicates_v2/pe.1.markdup.bam\tPD0720-C\r\n"
     ]
    }
   ],
   "source": [
    "!grep PD0720 /nfs/team112_internal/rp7/data/methods-dev/analysis/20160926_pf_60_duplications/pf_6_0_bams.txt"
   ]
  },
  {
   "cell_type": "code",
   "execution_count": 5,
   "metadata": {
    "collapsed": false
   },
   "outputs": [
    {
     "name": "stdout",
     "output_type": "stream",
     "text": [
      "/lustre/scratch116/malaria/pfalciparum/output/5/1/9/8/38574/4_bam_mark_duplicates_v2/pe.1.markdup.bam\tPD1496-C\r\n"
     ]
    }
   ],
   "source": [
    "!grep PD1496 /nfs/team112_internal/rp7/data/methods-dev/analysis/20160926_pf_60_duplications/pf_6_0_bams.txt"
   ]
  },
  {
   "cell_type": "code",
   "execution_count": 6,
   "metadata": {
    "collapsed": false
   },
   "outputs": [
    {
     "name": "stdout",
     "output_type": "stream",
     "text": [
      "/lustre/scratch116/malaria/pfalciparum/output/e/d/c/4/38480/4_bam_mark_duplicates_v2/pe.1.markdup.bam\tPD1333-C\r\n"
     ]
    }
   ],
   "source": [
    "!grep PD1333 /nfs/team112_internal/rp7/data/methods-dev/analysis/20160926_pf_60_duplications/pf_6_0_bams.txt"
   ]
  },
  {
   "cell_type": "code",
   "execution_count": 7,
   "metadata": {
    "collapsed": false
   },
   "outputs": [
    {
     "name": "stdout",
     "output_type": "stream",
     "text": [
      "/lustre/scratch116/malaria/pfalciparum/output/d/a/8/a/43524/4_bam_mark_duplicates_v2/pe.1.markdup.bam\tQC0147-C\r\n"
     ]
    }
   ],
   "source": [
    "!grep QC0147 /nfs/team112_internal/rp7/data/methods-dev/analysis/20160926_pf_60_duplications/pf_6_0_bams.txt"
   ]
  },
  {
   "cell_type": "code",
   "execution_count": 8,
   "metadata": {
    "collapsed": false
   },
   "outputs": [
    {
     "name": "stdout",
     "output_type": "stream",
     "text": [
      "/lustre/scratch116/malaria/pfalciparum/output/a/1/5/8/38293/4_bam_mark_duplicates_v2/pe.1.markdup.bam\tPD1125-C\r\n"
     ]
    }
   ],
   "source": [
    "!grep PD1125 /nfs/team112_internal/rp7/data/methods-dev/analysis/20160926_pf_60_duplications/pf_6_0_bams.txt"
   ]
  },
  {
   "cell_type": "code",
   "execution_count": 9,
   "metadata": {
    "collapsed": false
   },
   "outputs": [
    {
     "name": "stdout",
     "output_type": "stream",
     "text": [
      "/lustre/scratch116/malaria/pfalciparum/output/0/6/4/5/37974/4_bam_mark_duplicates_v2/pe.1.markdup.bam\tPD0789-C\r\n"
     ]
    }
   ],
   "source": [
    "!grep PD0789 /nfs/team112_internal/rp7/data/methods-dev/analysis/20160926_pf_60_duplications/pf_6_0_bams.txt"
   ]
  },
  {
   "cell_type": "code",
   "execution_count": 10,
   "metadata": {
    "collapsed": false
   },
   "outputs": [
    {
     "name": "stdout",
     "output_type": "stream",
     "text": [
      "/lustre/scratch116/malaria/pfalciparum/output/e/8/4/c/38590/4_bam_mark_duplicates_v2/pe.1.markdup.bam\tPD1515-C\r\n"
     ]
    }
   ],
   "source": [
    "!grep PD1515 /nfs/team112_internal/rp7/data/methods-dev/analysis/20160926_pf_60_duplications/pf_6_0_bams.txt"
   ]
  },
  {
   "cell_type": "code",
   "execution_count": 4,
   "metadata": {
    "collapsed": false
   },
   "outputs": [
    {
     "name": "stdout",
     "output_type": "stream",
     "text": [
      "-rw-rw-rw- 1 jws team112 434646665 Sep 23 22:03 /lustre/scratch116/malaria/pfalciparum/output/b/0/5/3/37922/4_bam_mark_duplicates_v2/pe.1.markdup.bam\r\n"
     ]
    }
   ],
   "source": [
    "!ls -al /lustre/scratch116/malaria/pfalciparum/output/b/0/5/3/37922/4_bam_mark_duplicates_v2/pe.1.markdup.bam"
   ]
  },
  {
   "cell_type": "raw",
   "metadata": {},
   "source": [
    "On macbook:\n",
    "mkdir -p /lustre/scratch116/malaria/pfalciparum/output/f/e/e/e/40041/4_bam_mark_duplicates_v2\n",
    "scp maslrv2:/lustre/scratch116/malaria/pfalciparum/output/f/e/e/e/40041/4_bam_mark_duplicates_v2/pe.1.markdup.bam /lustre/scratch116/malaria/pfalciparum/output/f/e/e/e/40041/4_bam_mark_duplicates_v2/\n",
    "\n",
    "mkdir -p /lustre/scratch116/malaria/pfalciparum/output/b/0/5/3/37922/4_bam_mark_duplicates_v2\n",
    "scp malsrv2:/lustre/scratch116/malaria/pfalciparum/output/b/0/5/3/37922/4_bam_mark_duplicates_v2/pe.1.markdup.bam /lustre/scratch116/malaria/pfalciparum/output/b/0/5/3/37922/4_bam_mark_duplicates_v2/"
   ]
  }
 ],
 "metadata": {
  "kernelspec": {
   "display_name": "Python [default]",
   "language": "python",
   "name": "python3"
  },
  "language_info": {
   "codemirror_mode": {
    "name": "ipython",
    "version": 3
   },
   "file_extension": ".py",
   "mimetype": "text/x-python",
   "name": "python",
   "nbconvert_exporter": "python",
   "pygments_lexer": "ipython3",
   "version": "3.4.5"
  }
 },
 "nbformat": 4,
 "nbformat_minor": 1
}
