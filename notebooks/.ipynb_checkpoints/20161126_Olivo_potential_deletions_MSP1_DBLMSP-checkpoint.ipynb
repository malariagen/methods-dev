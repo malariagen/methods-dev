{
 "cells": [
  {
   "cell_type": "code",
   "execution_count": 17,
   "metadata": {
    "collapsed": false
   },
   "outputs": [],
   "source": [
    "output_dir = '/lustre/scratch109/malaria/rp7/data/methods-dev/20161126_Olivo_potential_deletions_MSP1_DBLMSP'\n",
    "!mkdir -p {output_dir}"
   ]
  },
  {
   "cell_type": "code",
   "execution_count": 3,
   "metadata": {
    "collapsed": true
   },
   "outputs": [],
   "source": [
    "pf_6_bams_fn = '/nfs/team112_internal/rp7/data/methods-dev/builds/Pf6.0/20161117_run_Olivo_GRC/pf_60_mergelanes.txt'\n",
    "pf_5_bams_fn = '/nfs/team112_internal/rp7/data/Pf/hrp/metadata/hrp_manifest_20160621.txt'"
   ]
  },
  {
   "cell_type": "code",
   "execution_count": 2,
   "metadata": {
    "collapsed": false
   },
   "outputs": [
    {
     "name": "stdout",
     "output_type": "stream",
     "text": [
      "/lustre/scratch116/malaria/pfalciparum/output/6/0/2/a/37065/4_bam_mark_duplicates_v2/pe.1.markdup.bam\tPA0169-C\r\n"
     ]
    }
   ],
   "source": [
    "!grep PA0169 {pf_6_bams_fn}"
   ]
  },
  {
   "cell_type": "code",
   "execution_count": 4,
   "metadata": {
    "collapsed": false
   },
   "outputs": [
    {
     "name": "stdout",
     "output_type": "stream",
     "text": [
      "/lustre/scratch109/malaria/pfalciparum/output/6/6/d/4/42867/1_bam_merge/pe.1.bam\tPA0169-C\tZRS042\tZRS042\tpf_community_5_0\tdna\tGN\tGN\tGuinea\tWAF\tWest Africa\t1\t22537022\t62.99\t22781552\t22320614\t21772904\r",
      "\r\n"
     ]
    }
   ],
   "source": [
    "!grep PA0169 {pf_5_bams_fn}"
   ]
  },
  {
   "cell_type": "code",
   "execution_count": 5,
   "metadata": {
    "collapsed": false
   },
   "outputs": [
    {
     "name": "stdout",
     "output_type": "stream",
     "text": [
      "/lustre/scratch116/malaria/pfalciparum/output/4/8/a/6/42310/4_bam_mark_duplicates_v2/pe.1.markdup.bam\tPM0293-C\r\n"
     ]
    }
   ],
   "source": [
    "!grep PM0293 {pf_6_bams_fn}"
   ]
  },
  {
   "cell_type": "code",
   "execution_count": 6,
   "metadata": {
    "collapsed": false
   },
   "outputs": [
    {
     "name": "stdout",
     "output_type": "stream",
     "text": [
      "/lustre/scratch109/malaria/pfalciparum/output/9/5/f/d/248228/1_bam_merge/pe.1.bam\tPM0293-C\tARF_112\tARF_112\tpf_community_5_0\tdna\tML\tML\tMali\tWAF\tWest Africa\t1\t19173444\t84.13\t21176237\t17774053\t15923190\r",
      "\r\n"
     ]
    }
   ],
   "source": [
    "!grep PM0293 {pf_5_bams_fn}"
   ]
  },
  {
   "cell_type": "code",
   "execution_count": 9,
   "metadata": {
    "collapsed": true
   },
   "outputs": [],
   "source": [
    "!samtools view -b \\\n",
    "/lustre/scratch116/malaria/pfalciparum/output/6/0/2/a/37065/4_bam_mark_duplicates_v2/pe.1.markdup.bam \\\n",
    "Pf3D7_09_v3:1200000-1210000 > ~/PA0169_C_Pf3D7_09_v3_1200000_1210000_bwa_mem.bam\n",
    "!samtools index ~/PA0169_C_Pf3D7_09_v3_1200000_1210000_bwa_mem.bam"
   ]
  },
  {
   "cell_type": "code",
   "execution_count": 10,
   "metadata": {
    "collapsed": true
   },
   "outputs": [],
   "source": [
    "!samtools view -b \\\n",
    "/lustre/scratch116/malaria/pfalciparum/output/6/0/2/a/37065/4_bam_mark_duplicates_v2/pe.1.markdup.bam \\\n",
    "Pf3D7_09_v3:1200000-1210000 > ~/PA0169_C_Pf3D7_09_v3_1200000_1210000_bwa_mem.bam\n",
    "!samtools index ~/PA0169_C_Pf3D7_09_v3_1200000_1210000_bwa_mem.bam"
   ]
  },
  {
   "cell_type": "code",
   "execution_count": 7,
   "metadata": {
    "collapsed": true
   },
   "outputs": [],
   "source": [
    "!samtools view -b \\\n",
    "/lustre/scratch116/malaria/pfalciparum/output/6/0/2/a/37065/4_bam_mark_duplicates_v2/pe.1.markdup.bam \\\n",
    "Pf3D7_09_v3:1200000-1210000 > ~/PA0169_C_Pf3D7_09_v3_1200000_1210000.bam "
   ]
  },
  {
   "cell_type": "code",
   "execution_count": null,
   "metadata": {
    "collapsed": true
   },
   "outputs": [],
   "source": [
    "!samtools view -b \\\n",
    "/lustre/scratch116/malaria/pfalciparum/output/6/0/2/a/37065/4_bam_mark_duplicates_v2/pe.1.markdup.bam \\\n",
    "Pf3D7_10_v3:1403500-1420000 > ~/PA0169_C_Pf3D7_10_v3_1403500_1420000_bwa_mem.bam\n",
    "!samtools index ~/PA0169_C_Pf3D7_10_v3_1403500_1420000_bwa_mem.bam\n",
    "\n",
    "!samtools view -b \\\n",
    "/lustre/scratch116/malaria/pfalciparum/output/6/0/2/a/37065/4_bam_mark_duplicates_v2/pe.1.markdup.bam \\\n",
    "Pf3D7_09_v3:1200000-1210000 > ~/PA0169_C_Pf3D7_10_v3_1403500_1420000_bwa_aln.bam\n",
    "!samtools index ~/PA0169_C_Pf3D7_10_v3_1403500_1420000_bwa_aln.bam"
   ]
  },
  {
   "cell_type": "markdown",
   "metadata": {},
   "source": [
    "# Map to 16 ref genomes"
   ]
  },
  {
   "cell_type": "code",
   "execution_count": 19,
   "metadata": {
    "collapsed": false
   },
   "outputs": [
    {
     "name": "stdout",
     "output_type": "stream",
     "text": [
      "--2016-11-26 15:29:54--  ftp://ftp.sanger.ac.uk/pub/project/pathogens/Plasmodium/falciparum/PF3K/PilotReferenceGenomes/GenomeSequence/Version1/\n",
      "           => `/lustre/scratch109/malaria/rp7/data/methods-dev/20161126_Olivo_potential_deletions_MSP1_DBLMSP/ftp.sanger.ac.uk/pub/project/pathogens/Plasmodium/falciparum/PF3K/PilotReferenceGenomes/GenomeSequence/Version1/.listing'\n",
      "Resolving ftp.sanger.ac.uk (ftp.sanger.ac.uk)... 193.62.203.17\n",
      "Connecting to ftp.sanger.ac.uk (ftp.sanger.ac.uk)|193.62.203.17|:21... connected.\n",
      "Logging in as anonymous ... Logged in!\n",
      "==> SYST ... done.    ==> PWD ... done.\n",
      "==> TYPE I ... done.  ==> CWD (1) /pub/project/pathogens/Plasmodium/falciparum/PF3K/PilotReferenceGenomes/GenomeSequence/Version1 ... done.\n",
      "==> PASV ... done.    ==> LIST ... done.\n",
      "\n",
      "    [ <=>                                   ] 1,451       --.-K/s   in 0s      \n",
      "\n",
      "2016-11-26 15:29:54 (82.6 MB/s) - `/lustre/scratch109/malaria/rp7/data/methods-dev/20161126_Olivo_potential_deletions_MSP1_DBLMSP/ftp.sanger.ac.uk/pub/project/pathogens/Plasmodium/falciparum/PF3K/PilotReferenceGenomes/GenomeSequence/Version1/.listing' saved [1451]\n",
      "\n",
      "Removed `/lustre/scratch109/malaria/rp7/data/methods-dev/20161126_Olivo_potential_deletions_MSP1_DBLMSP/ftp.sanger.ac.uk/pub/project/pathogens/Plasmodium/falciparum/PF3K/PilotReferenceGenomes/GenomeSequence/Version1/.listing'.\n",
      "--2016-11-26 15:29:54--  ftp://ftp.sanger.ac.uk/pub/project/pathogens/Plasmodium/falciparum/PF3K/PilotReferenceGenomes/GenomeSequence/Version1/Pf7G8.Jul2015.fasta.gz\n",
      "           => `/lustre/scratch109/malaria/rp7/data/methods-dev/20161126_Olivo_potential_deletions_MSP1_DBLMSP/ftp.sanger.ac.uk/pub/project/pathogens/Plasmodium/falciparum/PF3K/PilotReferenceGenomes/GenomeSequence/Version1/Pf7G8.Jul2015.fasta.gz'\n",
      "==> CWD not required.\n",
      "==> PASV ... done.    ==> RETR Pf7G8.Jul2015.fasta.gz ... done.\n",
      "Length: 6187316 (5.9M)\n",
      "\n",
      "100%[======================================>] 6,187,316   --.-K/s   in 0.1s    \n",
      "\n",
      "2016-11-26 15:29:55 (58.3 MB/s) - `/lustre/scratch109/malaria/rp7/data/methods-dev/20161126_Olivo_potential_deletions_MSP1_DBLMSP/ftp.sanger.ac.uk/pub/project/pathogens/Plasmodium/falciparum/PF3K/PilotReferenceGenomes/GenomeSequence/Version1/Pf7G8.Jul2015.fasta.gz' saved [6187316]\n",
      "\n",
      "--2016-11-26 15:29:55--  ftp://ftp.sanger.ac.uk/pub/project/pathogens/Plasmodium/falciparum/PF3K/PilotReferenceGenomes/GenomeSequence/Version1/PfCD01.Oct2015.fasta.gz\n",
      "           => `/lustre/scratch109/malaria/rp7/data/methods-dev/20161126_Olivo_potential_deletions_MSP1_DBLMSP/ftp.sanger.ac.uk/pub/project/pathogens/Plasmodium/falciparum/PF3K/PilotReferenceGenomes/GenomeSequence/Version1/PfCD01.Oct2015.fasta.gz'\n",
      "==> CWD not required.\n",
      "==> PASV ... done.    ==> RETR PfCD01.Oct2015.fasta.gz ... done.\n",
      "Length: 6481162 (6.2M)\n",
      "\n",
      "100%[======================================>] 6,481,162   --.-K/s   in 0.07s   \n",
      "\n",
      "2016-11-26 15:29:55 (90.8 MB/s) - `/lustre/scratch109/malaria/rp7/data/methods-dev/20161126_Olivo_potential_deletions_MSP1_DBLMSP/ftp.sanger.ac.uk/pub/project/pathogens/Plasmodium/falciparum/PF3K/PilotReferenceGenomes/GenomeSequence/Version1/PfCD01.Oct2015.fasta.gz' saved [6481162]\n",
      "\n",
      "--2016-11-26 15:29:55--  ftp://ftp.sanger.ac.uk/pub/project/pathogens/Plasmodium/falciparum/PF3K/PilotReferenceGenomes/GenomeSequence/Version1/PfDd2.Jul2015.fasta.gz\n",
      "           => `/lustre/scratch109/malaria/rp7/data/methods-dev/20161126_Olivo_potential_deletions_MSP1_DBLMSP/ftp.sanger.ac.uk/pub/project/pathogens/Plasmodium/falciparum/PF3K/PilotReferenceGenomes/GenomeSequence/Version1/PfDd2.Jul2015.fasta.gz'\n",
      "==> CWD not required.\n",
      "==> PASV ... done.    ==> RETR PfDd2.Jul2015.fasta.gz ... done.\n",
      "Length: 6152270 (5.9M)\n",
      "\n",
      "100%[======================================>] 6,152,270   --.-K/s   in 0.09s   \n",
      "\n",
      "2016-11-26 15:29:55 (66.0 MB/s) - `/lustre/scratch109/malaria/rp7/data/methods-dev/20161126_Olivo_potential_deletions_MSP1_DBLMSP/ftp.sanger.ac.uk/pub/project/pathogens/Plasmodium/falciparum/PF3K/PilotReferenceGenomes/GenomeSequence/Version1/PfDd2.Jul2015.fasta.gz' saved [6152270]\n",
      "\n",
      "--2016-11-26 15:29:55--  ftp://ftp.sanger.ac.uk/pub/project/pathogens/Plasmodium/falciparum/PF3K/PilotReferenceGenomes/GenomeSequence/Version1/PfGA01.Jun2015.fasta.gz\n",
      "           => `/lustre/scratch109/malaria/rp7/data/methods-dev/20161126_Olivo_potential_deletions_MSP1_DBLMSP/ftp.sanger.ac.uk/pub/project/pathogens/Plasmodium/falciparum/PF3K/PilotReferenceGenomes/GenomeSequence/Version1/PfGA01.Jun2015.fasta.gz'\n",
      "==> CWD not required.\n",
      "==> PASV ... done.    ==> RETR PfGA01.Jun2015.fasta.gz ... done.\n",
      "Length: 6263193 (6.0M)\n",
      "\n",
      "100%[======================================>] 6,263,193   --.-K/s   in 0.09s   \n",
      "\n",
      "2016-11-26 15:29:55 (70.0 MB/s) - `/lustre/scratch109/malaria/rp7/data/methods-dev/20161126_Olivo_potential_deletions_MSP1_DBLMSP/ftp.sanger.ac.uk/pub/project/pathogens/Plasmodium/falciparum/PF3K/PilotReferenceGenomes/GenomeSequence/Version1/PfGA01.Jun2015.fasta.gz' saved [6263193]\n",
      "\n",
      "--2016-11-26 15:29:55--  ftp://ftp.sanger.ac.uk/pub/project/pathogens/Plasmodium/falciparum/PF3K/PilotReferenceGenomes/GenomeSequence/Version1/PfGB4.Jul2015.fasta.gz\n",
      "           => `/lustre/scratch109/malaria/rp7/data/methods-dev/20161126_Olivo_potential_deletions_MSP1_DBLMSP/ftp.sanger.ac.uk/pub/project/pathogens/Plasmodium/falciparum/PF3K/PilotReferenceGenomes/GenomeSequence/Version1/PfGB4.Jul2015.fasta.gz'\n",
      "==> CWD not required.\n",
      "==> PASV ... done.    ==> RETR PfGB4.Jul2015.fasta.gz ... done.\n",
      "Length: 6368533 (6.1M)\n",
      "\n",
      "100%[======================================>] 6,368,533   --.-K/s   in 0.1s    \n",
      "\n",
      "2016-11-26 15:29:55 (57.6 MB/s) - `/lustre/scratch109/malaria/rp7/data/methods-dev/20161126_Olivo_potential_deletions_MSP1_DBLMSP/ftp.sanger.ac.uk/pub/project/pathogens/Plasmodium/falciparum/PF3K/PilotReferenceGenomes/GenomeSequence/Version1/PfGB4.Jul2015.fasta.gz' saved [6368533]\n",
      "\n",
      "--2016-11-26 15:29:55--  ftp://ftp.sanger.ac.uk/pub/project/pathogens/Plasmodium/falciparum/PF3K/PilotReferenceGenomes/GenomeSequence/Version1/PfGN01.Jun2015.fasta.gz\n",
      "           => `/lustre/scratch109/malaria/rp7/data/methods-dev/20161126_Olivo_potential_deletions_MSP1_DBLMSP/ftp.sanger.ac.uk/pub/project/pathogens/Plasmodium/falciparum/PF3K/PilotReferenceGenomes/GenomeSequence/Version1/PfGN01.Jun2015.fasta.gz'\n",
      "==> CWD not required.\n",
      "==> PASV ... done.    ==> RETR PfGN01.Jun2015.fasta.gz ... done.\n",
      "Length: 6491287 (6.2M)\n",
      "\n",
      "100%[======================================>] 6,491,287   --.-K/s   in 0.06s   \n",
      "\n",
      "2016-11-26 15:29:55 (100 MB/s) - `/lustre/scratch109/malaria/rp7/data/methods-dev/20161126_Olivo_potential_deletions_MSP1_DBLMSP/ftp.sanger.ac.uk/pub/project/pathogens/Plasmodium/falciparum/PF3K/PilotReferenceGenomes/GenomeSequence/Version1/PfGN01.Jun2015.fasta.gz' saved [6491287]\n",
      "\n",
      "--2016-11-26 15:29:55--  ftp://ftp.sanger.ac.uk/pub/project/pathogens/Plasmodium/falciparum/PF3K/PilotReferenceGenomes/GenomeSequence/Version1/PfHB3.Jul2015.fasta.gz\n",
      "           => `/lustre/scratch109/malaria/rp7/data/methods-dev/20161126_Olivo_potential_deletions_MSP1_DBLMSP/ftp.sanger.ac.uk/pub/project/pathogens/Plasmodium/falciparum/PF3K/PilotReferenceGenomes/GenomeSequence/Version1/PfHB3.Jul2015.fasta.gz'\n",
      "==> CWD not required.\n",
      "==> PASV ... done.    ==> RETR PfHB3.Jul2015.fasta.gz ... done.\n",
      "Length: 6181509 (5.9M)\n",
      "\n",
      "100%[======================================>] 6,181,509   31.2M/s   in 0.2s    \n",
      "\n",
      "2016-11-26 15:29:56 (31.2 MB/s) - `/lustre/scratch109/malaria/rp7/data/methods-dev/20161126_Olivo_potential_deletions_MSP1_DBLMSP/ftp.sanger.ac.uk/pub/project/pathogens/Plasmodium/falciparum/PF3K/PilotReferenceGenomes/GenomeSequence/Version1/PfHB3.Jul2015.fasta.gz' saved [6181509]\n",
      "\n",
      "--2016-11-26 15:29:56--  ftp://ftp.sanger.ac.uk/pub/project/pathogens/Plasmodium/falciparum/PF3K/PilotReferenceGenomes/GenomeSequence/Version1/PfIT.Jun2015.fasta.gz\n",
      "           => `/lustre/scratch109/malaria/rp7/data/methods-dev/20161126_Olivo_potential_deletions_MSP1_DBLMSP/ftp.sanger.ac.uk/pub/project/pathogens/Plasmodium/falciparum/PF3K/PilotReferenceGenomes/GenomeSequence/Version1/PfIT.Jun2015.fasta.gz'\n",
      "==> CWD not required.\n",
      "==> PASV ... done.    ==> RETR PfIT.Jun2015.fasta.gz ... done.\n",
      "Length: 6288606 (6.0M)\n",
      "\n",
      "100%[======================================>] 6,288,606   --.-K/s   in 0.09s   \n",
      "\n",
      "2016-11-26 15:29:56 (65.5 MB/s) - `/lustre/scratch109/malaria/rp7/data/methods-dev/20161126_Olivo_potential_deletions_MSP1_DBLMSP/ftp.sanger.ac.uk/pub/project/pathogens/Plasmodium/falciparum/PF3K/PilotReferenceGenomes/GenomeSequence/Version1/PfIT.Jun2015.fasta.gz' saved [6288606]\n",
      "\n",
      "--2016-11-26 15:29:56--  ftp://ftp.sanger.ac.uk/pub/project/pathogens/Plasmodium/falciparum/PF3K/PilotReferenceGenomes/GenomeSequence/Version1/PfKE01.Jun2015.fasta.gz\n",
      "           => `/lustre/scratch109/malaria/rp7/data/methods-dev/20161126_Olivo_potential_deletions_MSP1_DBLMSP/ftp.sanger.ac.uk/pub/project/pathogens/Plasmodium/falciparum/PF3K/PilotReferenceGenomes/GenomeSequence/Version1/PfKE01.Jun2015.fasta.gz'\n",
      "==> CWD not required.\n",
      "==> PASV ... done.    ==> RETR PfKE01.Jun2015.fasta.gz ... done.\n",
      "Length: 6182431 (5.9M)\n",
      "\n",
      "100%[======================================>] 6,182,431   --.-K/s   in 0.1s    \n",
      "\n",
      "2016-11-26 15:29:56 (43.5 MB/s) - `/lustre/scratch109/malaria/rp7/data/methods-dev/20161126_Olivo_potential_deletions_MSP1_DBLMSP/ftp.sanger.ac.uk/pub/project/pathogens/Plasmodium/falciparum/PF3K/PilotReferenceGenomes/GenomeSequence/Version1/PfKE01.Jun2015.fasta.gz' saved [6182431]\n",
      "\n",
      "--2016-11-26 15:29:56--  ftp://ftp.sanger.ac.uk/pub/project/pathogens/Plasmodium/falciparum/PF3K/PilotReferenceGenomes/GenomeSequence/Version1/PfKH01.Oct2015.fasta.gz\n",
      "           => `/lustre/scratch109/malaria/rp7/data/methods-dev/20161126_Olivo_potential_deletions_MSP1_DBLMSP/ftp.sanger.ac.uk/pub/project/pathogens/Plasmodium/falciparum/PF3K/PilotReferenceGenomes/GenomeSequence/Version1/PfKH01.Oct2015.fasta.gz'\n",
      "==> CWD not required.\n",
      "==> PASV ... done.    ==> RETR PfKH01.Oct2015.fasta.gz ... done.\n",
      "Length: 6459635 (6.2M)\n",
      "\n",
      "100%[======================================>] 6,459,635   --.-K/s   in 0.1s    \n",
      "\n",
      "2016-11-26 15:29:56 (45.6 MB/s) - `/lustre/scratch109/malaria/rp7/data/methods-dev/20161126_Olivo_potential_deletions_MSP1_DBLMSP/ftp.sanger.ac.uk/pub/project/pathogens/Plasmodium/falciparum/PF3K/PilotReferenceGenomes/GenomeSequence/Version1/PfKH01.Oct2015.fasta.gz' saved [6459635]\n",
      "\n",
      "--2016-11-26 15:29:56--  ftp://ftp.sanger.ac.uk/pub/project/pathogens/Plasmodium/falciparum/PF3K/PilotReferenceGenomes/GenomeSequence/Version1/PfKH02.Jun2015.fasta.gz\n",
      "           => `/lustre/scratch109/malaria/rp7/data/methods-dev/20161126_Olivo_potential_deletions_MSP1_DBLMSP/ftp.sanger.ac.uk/pub/project/pathogens/Plasmodium/falciparum/PF3K/PilotReferenceGenomes/GenomeSequence/Version1/PfKH02.Jun2015.fasta.gz'\n",
      "==> CWD not required.\n",
      "==> PASV ... done.    ==> RETR PfKH02.Jun2015.fasta.gz ... done.\n",
      "Length: 6267507 (6.0M)\n",
      "\n",
      "100%[======================================>] 6,267,507   --.-K/s   in 0.06s   \n",
      "\n",
      "2016-11-26 15:29:56 (95.9 MB/s) - `/lustre/scratch109/malaria/rp7/data/methods-dev/20161126_Olivo_potential_deletions_MSP1_DBLMSP/ftp.sanger.ac.uk/pub/project/pathogens/Plasmodium/falciparum/PF3K/PilotReferenceGenomes/GenomeSequence/Version1/PfKH02.Jun2015.fasta.gz' saved [6267507]\n",
      "\n",
      "--2016-11-26 15:29:56--  ftp://ftp.sanger.ac.uk/pub/project/pathogens/Plasmodium/falciparum/PF3K/PilotReferenceGenomes/GenomeSequence/Version1/PfML01.Oct2015.fasta.gz\n",
      "           => `/lustre/scratch109/malaria/rp7/data/methods-dev/20161126_Olivo_potential_deletions_MSP1_DBLMSP/ftp.sanger.ac.uk/pub/project/pathogens/Plasmodium/falciparum/PF3K/PilotReferenceGenomes/GenomeSequence/Version1/PfML01.Oct2015.fasta.gz'\n",
      "==> CWD not required.\n",
      "==> PASV ... done.    ==> RETR PfML01.Oct2015.fasta.gz ... done.\n",
      "Length: 7072319 (6.7M)\n",
      "\n",
      "100%[======================================>] 7,072,319   --.-K/s   in 0.08s   \n",
      "\n",
      "2016-11-26 15:29:56 (88.6 MB/s) - `/lustre/scratch109/malaria/rp7/data/methods-dev/20161126_Olivo_potential_deletions_MSP1_DBLMSP/ftp.sanger.ac.uk/pub/project/pathogens/Plasmodium/falciparum/PF3K/PilotReferenceGenomes/GenomeSequence/Version1/PfML01.Oct2015.fasta.gz' saved [7072319]\n",
      "\n",
      "--2016-11-26 15:29:56--  ftp://ftp.sanger.ac.uk/pub/project/pathogens/Plasmodium/falciparum/PF3K/PilotReferenceGenomes/GenomeSequence/Version1/PfSD01.Jun2015.fasta.gz\n",
      "           => `/lustre/scratch109/malaria/rp7/data/methods-dev/20161126_Olivo_potential_deletions_MSP1_DBLMSP/ftp.sanger.ac.uk/pub/project/pathogens/Plasmodium/falciparum/PF3K/PilotReferenceGenomes/GenomeSequence/Version1/PfSD01.Jun2015.fasta.gz'\n",
      "==> CWD not required.\n",
      "==> PASV ... done.    ==> RETR PfSD01.Jun2015.fasta.gz ... done.\n",
      "Length: 6169594 (5.9M)\n",
      "\n",
      "100%[======================================>] 6,169,594   --.-K/s   in 0.1s    \n",
      "\n",
      "2016-11-26 15:29:56 (44.3 MB/s) - `/lustre/scratch109/malaria/rp7/data/methods-dev/20161126_Olivo_potential_deletions_MSP1_DBLMSP/ftp.sanger.ac.uk/pub/project/pathogens/Plasmodium/falciparum/PF3K/PilotReferenceGenomes/GenomeSequence/Version1/PfSD01.Jun2015.fasta.gz' saved [6169594]\n",
      "\n",
      "--2016-11-26 15:29:56--  ftp://ftp.sanger.ac.uk/pub/project/pathogens/Plasmodium/falciparum/PF3K/PilotReferenceGenomes/GenomeSequence/Version1/PfSN01.Jun2015.fasta.gz\n",
      "           => `/lustre/scratch109/malaria/rp7/data/methods-dev/20161126_Olivo_potential_deletions_MSP1_DBLMSP/ftp.sanger.ac.uk/pub/project/pathogens/Plasmodium/falciparum/PF3K/PilotReferenceGenomes/GenomeSequence/Version1/PfSN01.Jun2015.fasta.gz'\n",
      "==> CWD not required.\n",
      "==> PASV ... done.    ==> RETR PfSN01.Jun2015.fasta.gz ... done.\n",
      "Length: 6369763 (6.1M)\n",
      "\n",
      "100%[======================================>] 6,369,763   --.-K/s   in 0.1s    \n",
      "\n",
      "2016-11-26 15:29:57 (54.2 MB/s) - `/lustre/scratch109/malaria/rp7/data/methods-dev/20161126_Olivo_potential_deletions_MSP1_DBLMSP/ftp.sanger.ac.uk/pub/project/pathogens/Plasmodium/falciparum/PF3K/PilotReferenceGenomes/GenomeSequence/Version1/PfSN01.Jun2015.fasta.gz' saved [6369763]\n",
      "\n",
      "--2016-11-26 15:29:57--  ftp://ftp.sanger.ac.uk/pub/project/pathogens/Plasmodium/falciparum/PF3K/PilotReferenceGenomes/GenomeSequence/Version1/PfTG01.Oct2015.fasta.gz\n",
      "           => `/lustre/scratch109/malaria/rp7/data/methods-dev/20161126_Olivo_potential_deletions_MSP1_DBLMSP/ftp.sanger.ac.uk/pub/project/pathogens/Plasmodium/falciparum/PF3K/PilotReferenceGenomes/GenomeSequence/Version1/PfTG01.Oct2015.fasta.gz'\n",
      "==> CWD not required.\n",
      "==> PASV ... done.    ==> RETR PfTG01.Oct2015.fasta.gz ... done.\n",
      "Length: 7038280 (6.7M)\n",
      "\n",
      "100%[======================================>] 7,038,280   --.-K/s   in 0.1s    \n",
      "\n",
      "2016-11-26 15:29:57 (57.2 MB/s) - `/lustre/scratch109/malaria/rp7/data/methods-dev/20161126_Olivo_potential_deletions_MSP1_DBLMSP/ftp.sanger.ac.uk/pub/project/pathogens/Plasmodium/falciparum/PF3K/PilotReferenceGenomes/GenomeSequence/Version1/PfTG01.Oct2015.fasta.gz' saved [7038280]\n",
      "\n",
      "--2016-11-26 15:29:57--  ftp://ftp.sanger.ac.uk/pub/project/pathogens/Plasmodium/falciparum/PF3K/PilotReferenceGenomes/GenomeSequence/Version1/README.txt\n",
      "           => `/lustre/scratch109/malaria/rp7/data/methods-dev/20161126_Olivo_potential_deletions_MSP1_DBLMSP/ftp.sanger.ac.uk/pub/project/pathogens/Plasmodium/falciparum/PF3K/PilotReferenceGenomes/GenomeSequence/Version1/README.txt'\n",
      "==> CWD not required.\n",
      "==> PASV ... done.    ==> RETR README.txt ... done.\n",
      "Length: 661\n",
      "\n",
      "100%[======================================>] 661         --.-K/s   in 0s      \n",
      "\n",
      "2016-11-26 15:29:57 (56.4 MB/s) - `/lustre/scratch109/malaria/rp7/data/methods-dev/20161126_Olivo_potential_deletions_MSP1_DBLMSP/ftp.sanger.ac.uk/pub/project/pathogens/Plasmodium/falciparum/PF3K/PilotReferenceGenomes/GenomeSequence/Version1/README.txt' saved [661]\n",
      "\n",
      "--2016-11-26 15:29:57--  ftp://ftp.sanger.ac.uk/pub/project/pathogens/Plasmodium/falciparum/PF3K/PilotReferenceGenomes/GenomeSequence/Version1/RELEASE_NOTE.txt\n",
      "           => `/lustre/scratch109/malaria/rp7/data/methods-dev/20161126_Olivo_potential_deletions_MSP1_DBLMSP/ftp.sanger.ac.uk/pub/project/pathogens/Plasmodium/falciparum/PF3K/PilotReferenceGenomes/GenomeSequence/Version1/RELEASE_NOTE.txt'\n",
      "==> CWD not required.\n",
      "==> PASV ... done.    ==> RETR RELEASE_NOTE.txt ... done.\n",
      "Length: 658\n",
      "\n",
      "100%[======================================>] 658         --.-K/s   in 0s      \n",
      "\n",
      "2016-11-26 15:29:57 (42.4 MB/s) - `/lustre/scratch109/malaria/rp7/data/methods-dev/20161126_Olivo_potential_deletions_MSP1_DBLMSP/ftp.sanger.ac.uk/pub/project/pathogens/Plasmodium/falciparum/PF3K/PilotReferenceGenomes/GenomeSequence/Version1/RELEASE_NOTE.txt' saved [658]\n",
      "\n",
      "FINISHED --2016-11-26 15:29:57--\n",
      "Total wall clock time: 2.4s\n",
      "Downloaded: 17 files, 92M in 1.6s (58.6 MB/s)\n"
     ]
    }
   ],
   "source": [
    "ftp_dir = 'ftp://ftp.sanger.ac.uk/pub/project/pathogens/Plasmodium/falciparum/PF3K/PilotReferenceGenomes/GenomeSequence/Version1/'\n",
    "!wget -r {ftp_dir} -P {output_dir}/"
   ]
  },
  {
   "cell_type": "code",
   "execution_count": 14,
   "metadata": {
    "collapsed": false
   },
   "outputs": [
    {
     "data": {
      "text/plain": [
       "'/lustre/scratch109/malaria/rp7/data/methods-dev/20161126_Olivo_potential_deletions_MSP1_DBLMSP'"
      ]
     },
     "execution_count": 14,
     "metadata": {},
     "output_type": "execute_result"
    }
   ],
   "source": [
    "output_dir"
   ]
  },
  {
   "cell_type": "code",
   "execution_count": null,
   "metadata": {
    "collapsed": true
   },
   "outputs": [],
   "source": [
    "!samtools bamshuf -uon 128 \\\n",
    "/lustre/scratch116/malaria/pfalciparum/output/6/0/2/a/37065/4_bam_mark_duplicates_v2/pe.1.markdup.bam tmp-prefix \\\n",
    "| samtools bam2fq -s se.fq.gz - | bwa mem -p ref.fa -"
   ]
  }
 ],
 "metadata": {
  "kernelspec": {
   "display_name": "Python 3",
   "language": "python",
   "name": "python3"
  },
  "language_info": {
   "codemirror_mode": {
    "name": "ipython",
    "version": 3
   },
   "file_extension": ".py",
   "mimetype": "text/x-python",
   "name": "python",
   "nbconvert_exporter": "python",
   "pygments_lexer": "ipython3",
   "version": "3.5.2"
  }
 },
 "nbformat": 4,
 "nbformat_minor": 1
}
