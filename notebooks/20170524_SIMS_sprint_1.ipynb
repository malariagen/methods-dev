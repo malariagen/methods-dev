{
 "cells": [
  {
   "cell_type": "code",
   "execution_count": 1,
   "metadata": {
    "collapsed": false
   },
   "outputs": [
    {
     "name": "stdout",
     "output_type": "stream",
     "text": [
      "python 3.5.2 |Continuum Analytics, Inc.| (default, Jul  2 2016, 17:53:06) \n",
      "[GCC 4.4.7 20120313 (Red Hat 4.4.7-1)]\n",
      "numpy 1.11.3\n",
      "scipy 0.18.1\n",
      "pandas 0.19.2\n",
      "numexpr 2.6.2\n",
      "pysam 0.8.4\n",
      "petl 1.1.0\n",
      "petlx 1.0.3\n",
      "vcf 0.6.8\n",
      "vcfnp 2.3.0\n",
      "h5py 2.6.0\n",
      "tables 3.3.0\n"
     ]
    }
   ],
   "source": [
    "%run _standard_imports.ipynb\n",
    "import pandas as pd"
   ]
  },
  {
   "cell_type": "code",
   "execution_count": 2,
   "metadata": {
    "collapsed": true
   },
   "outputs": [],
   "source": [
    "output_dir = '/nfs/team112_internal/rp7/data/methods-dev/analysis/20170524_SIMS_sprint_1'\n",
    "vw_vrpipe_fn = \"%s/vw_vrpipe.txt\" % output_dir\n",
    "vw_vrpipe_nofilter_fn = \"%s/vw_vrpipe_nofilter.txt\" % output_dir\n",
    "\n",
    "pf_60_fn = '/lustre/scratch118/malaria/team112/personal/rp7/data/wtsi-team112/Pf-6.0-public-release/20170523_update_partner_metadata/Pf_60_samples_panoptes_20170523.txt'\n"
   ]
  },
  {
   "cell_type": "code",
   "execution_count": 3,
   "metadata": {
    "collapsed": true
   },
   "outputs": [],
   "source": [
    "!mkdir -p {output_dir}"
   ]
  },
  {
   "cell_type": "code",
   "execution_count": 4,
   "metadata": {
    "collapsed": true
   },
   "outputs": [],
   "source": [
    "# This is the query I used in Pv 3.0, but the libs table is no longer updated, so using this reduces the number of\n",
    "# rows returned from 34189 to 24682\n",
    "sql_query = \"\\\n",
    "select alfresco, oxford_code, l.lib_name, name, oxford_src_code, type \\\n",
    "from vw_vrpipe, libs l, sample \\\n",
    "where seqscape_library_id=ss_asset_id and \\\n",
    "sample_id=sample.id\\\n",
    "\""
   ]
  },
  {
   "cell_type": "code",
   "execution_count": 5,
   "metadata": {
    "collapsed": true
   },
   "outputs": [],
   "source": [
    "# This overcomes the problem with empty records in libs, if libs are needed (which here they are not)\n",
    "sql_query = \"\\\n",
    "select oxford_code, study_group, alfresco, l.lib_name, name, oxford_src_code, type \\\n",
    "from vw_vrpipe JOIN sample ON (sample_id=sample.id) LEFT JOIN libs l ON (seqscape_library_id=ss_asset_id)\""
   ]
  },
  {
   "cell_type": "code",
   "execution_count": 6,
   "metadata": {
    "collapsed": true
   },
   "outputs": [],
   "source": [
    "# This was a sanity check that all records have a matching row in the sample table (they do)\n",
    "sql_query = \"\\\n",
    "select alfresco, oxford_code, name, oxford_src_code, type \\\n",
    "from vw_vrpipe, sample \\\n",
    "where sample_id=sample.id\\\n",
    "\""
   ]
  },
  {
   "cell_type": "code",
   "execution_count": 31,
   "metadata": {
    "collapsed": true
   },
   "outputs": [],
   "source": [
    "# This is all the data that is actually needed\n",
    "sql_query_vw_vrpipe = \"select oxford_code, study_group, alfresco, name from vw_vrpipe\"\n",
    "sql_query_vw_vrpipe_nofilter = \"select oxford_code, study_group, alfresco, name from vw_vrpipe_nofilter\""
   ]
  },
  {
   "cell_type": "code",
   "execution_count": 32,
   "metadata": {
    "collapsed": false
   },
   "outputs": [],
   "source": [
    "!mysql -u solaris_ro -hmalloc-db -P3309 solaris -e \"{sql_query_vw_vrpipe}\" > {vw_vrpipe_fn}\n",
    "!mysql -u solaris_ro -hmalloc-db -P3309 solaris -e \"{sql_query_vw_vrpipe_nofilter}\" > {vw_vrpipe_nofilter_fn}"
   ]
  },
  {
   "cell_type": "code",
   "execution_count": 33,
   "metadata": {
    "collapsed": false
   },
   "outputs": [
    {
     "name": "stdout",
     "output_type": "stream",
     "text": [
      "cat: select oxford_code, study_group, alfresco, name from vw_vrpipe: No such file or directory\r\n"
     ]
    }
   ],
   "source": [
    "!cat \"{sql_query_vw_vrpipe}\""
   ]
  },
  {
   "cell_type": "code",
   "execution_count": 9,
   "metadata": {
    "collapsed": false
   },
   "outputs": [
    {
     "name": "stdout",
     "output_type": "stream",
     "text": [
      "34189 /nfs/team112_internal/rp7/data/methods-dev/analysis/20170524_SIMS_sprint_1/vw_vrpipe.txt\r\n"
     ]
    }
   ],
   "source": [
    "!wc -l {vw_vrpipe_fn}"
   ]
  },
  {
   "cell_type": "code",
   "execution_count": 12,
   "metadata": {
    "collapsed": false
   },
   "outputs": [
    {
     "name": "stdout",
     "output_type": "stream",
     "text": [
      "42146 /nfs/team112_internal/rp7/data/methods-dev/analysis/20170524_SIMS_sprint_1/vw_vrpipe_nofilter.txt\r\n"
     ]
    }
   ],
   "source": [
    "!wc -l {vw_vrpipe_nofilter_fn}"
   ]
  },
  {
   "cell_type": "code",
   "execution_count": 13,
   "metadata": {
    "collapsed": false
   },
   "outputs": [
    {
     "name": "stdout",
     "output_type": "stream",
     "text": [
      "34188\n"
     ]
    },
    {
     "data": {
      "text/html": [
       "<div>\n",
       "<table border=\"1\" class=\"dataframe\">\n",
       "  <thead>\n",
       "    <tr style=\"text-align: right;\">\n",
       "      <th></th>\n",
       "      <th>oxford_code</th>\n",
       "      <th>study_group</th>\n",
       "      <th>alfresco</th>\n",
       "      <th>name</th>\n",
       "    </tr>\n",
       "  </thead>\n",
       "  <tbody>\n",
       "    <tr>\n",
       "      <th>0</th>\n",
       "      <td>PH0042-C</td>\n",
       "      <td>PF</td>\n",
       "      <td>1011-PF-KH-SU</td>\n",
       "      <td>3288_6_nonhuman.bam</td>\n",
       "    </tr>\n",
       "    <tr>\n",
       "      <th>1</th>\n",
       "      <td>PD0123-C</td>\n",
       "      <td>PF</td>\n",
       "      <td>1010-PF-TH-ANDERSON</td>\n",
       "      <td>5380_2_nonhuman.bam</td>\n",
       "    </tr>\n",
       "    <tr>\n",
       "      <th>2</th>\n",
       "      <td>PD0128-C</td>\n",
       "      <td>PF</td>\n",
       "      <td>1010-PF-TH-ANDERSON</td>\n",
       "      <td>5617_5_nonhuman.bam</td>\n",
       "    </tr>\n",
       "    <tr>\n",
       "      <th>3</th>\n",
       "      <td>PD0004-03</td>\n",
       "      <td>PF</td>\n",
       "      <td>1016-PF-TH-NOSTEN</td>\n",
       "      <td>1748_3_nonhuman.bam</td>\n",
       "    </tr>\n",
       "    <tr>\n",
       "      <th>4</th>\n",
       "      <td>PM0014-C</td>\n",
       "      <td>PF</td>\n",
       "      <td>1001-PF-ML-DJIMDE</td>\n",
       "      <td>1112_8_nonhuman.bam</td>\n",
       "    </tr>\n",
       "  </tbody>\n",
       "</table>\n",
       "</div>"
      ],
      "text/plain": [
       "  oxford_code study_group             alfresco                 name\n",
       "0    PH0042-C          PF        1011-PF-KH-SU  3288_6_nonhuman.bam\n",
       "1    PD0123-C          PF  1010-PF-TH-ANDERSON  5380_2_nonhuman.bam\n",
       "2    PD0128-C          PF  1010-PF-TH-ANDERSON  5617_5_nonhuman.bam\n",
       "3   PD0004-03          PF    1016-PF-TH-NOSTEN  1748_3_nonhuman.bam\n",
       "4    PM0014-C          PF    1001-PF-ML-DJIMDE  1112_8_nonhuman.bam"
      ]
     },
     "execution_count": 13,
     "metadata": {},
     "output_type": "execute_result"
    }
   ],
   "source": [
    "df_vw_vrpipe = pd.read_csv(vw_vrpipe_fn, sep='\\t')\n",
    "print(len(df_vw_vrpipe))\n",
    "df_vw_vrpipe[0:5]"
   ]
  },
  {
   "cell_type": "code",
   "execution_count": 14,
   "metadata": {
    "collapsed": false
   },
   "outputs": [
    {
     "name": "stdout",
     "output_type": "stream",
     "text": [
      "42145\n"
     ]
    },
    {
     "data": {
      "text/html": [
       "<div>\n",
       "<table border=\"1\" class=\"dataframe\">\n",
       "  <thead>\n",
       "    <tr style=\"text-align: right;\">\n",
       "      <th></th>\n",
       "      <th>oxford_code</th>\n",
       "      <th>study_group</th>\n",
       "      <th>alfresco</th>\n",
       "      <th>name</th>\n",
       "    </tr>\n",
       "  </thead>\n",
       "  <tbody>\n",
       "    <tr>\n",
       "      <th>0</th>\n",
       "      <td>PH0042-C</td>\n",
       "      <td>PF</td>\n",
       "      <td>1011-PF-KH-SU</td>\n",
       "      <td>3288_6_nonhuman.bam</td>\n",
       "    </tr>\n",
       "    <tr>\n",
       "      <th>1</th>\n",
       "      <td>PD0123-C</td>\n",
       "      <td>PF</td>\n",
       "      <td>1010-PF-TH-ANDERSON</td>\n",
       "      <td>5380_2_nonhuman.bam</td>\n",
       "    </tr>\n",
       "    <tr>\n",
       "      <th>2</th>\n",
       "      <td>PD0128-C</td>\n",
       "      <td>PF</td>\n",
       "      <td>1010-PF-TH-ANDERSON</td>\n",
       "      <td>5617_5_nonhuman.bam</td>\n",
       "    </tr>\n",
       "    <tr>\n",
       "      <th>3</th>\n",
       "      <td>PD0004-03</td>\n",
       "      <td>PF</td>\n",
       "      <td>1016-PF-TH-NOSTEN</td>\n",
       "      <td>1748_3_nonhuman.bam</td>\n",
       "    </tr>\n",
       "    <tr>\n",
       "      <th>4</th>\n",
       "      <td>PJ0001-C</td>\n",
       "      <td>PV</td>\n",
       "      <td>1161-PV-ID-PRICE</td>\n",
       "      <td>2729_6_nonhuman.bam</td>\n",
       "    </tr>\n",
       "  </tbody>\n",
       "</table>\n",
       "</div>"
      ],
      "text/plain": [
       "  oxford_code study_group             alfresco                 name\n",
       "0    PH0042-C          PF        1011-PF-KH-SU  3288_6_nonhuman.bam\n",
       "1    PD0123-C          PF  1010-PF-TH-ANDERSON  5380_2_nonhuman.bam\n",
       "2    PD0128-C          PF  1010-PF-TH-ANDERSON  5617_5_nonhuman.bam\n",
       "3   PD0004-03          PF    1016-PF-TH-NOSTEN  1748_3_nonhuman.bam\n",
       "4    PJ0001-C          PV     1161-PV-ID-PRICE  2729_6_nonhuman.bam"
      ]
     },
     "execution_count": 14,
     "metadata": {},
     "output_type": "execute_result"
    }
   ],
   "source": [
    "df_vw_vrpipe_nofilter = pd.read_csv(vw_vrpipe_nofilter_fn, sep='\\t')\n",
    "print(len(df_vw_vrpipe_nofilter))\n",
    "df_vw_vrpipe_nofilter[0:5]"
   ]
  },
  {
   "cell_type": "code",
   "execution_count": 30,
   "metadata": {
    "collapsed": false
   },
   "outputs": [
    {
     "name": "stdout",
     "output_type": "stream",
     "text": [
      "15599\n"
     ]
    }
   ],
   "source": [
    "print(len(df_vw_vrpipe.drop_duplicates('oxford_code')))\n"
   ]
  },
  {
   "cell_type": "code",
   "execution_count": 27,
   "metadata": {
    "collapsed": false
   },
   "outputs": [
    {
     "data": {
      "text/plain": [
       "study_group  alfresco                       \n",
       "@@           1087-AN-HAPMAP-DONNELLY             124\n",
       "             1098-PF-ET-GOLASSA                    2\n",
       "AA           1003-AG-KEGM-BURT                    11\n",
       "             1030-AG-GB-DONNELLY                 372\n",
       "             1055-AG-SSA-DONNELLY                 24\n",
       "             1087-AN-HAPMAP-DONNELLY             901\n",
       "AC           1087-AN-HAPMAP-DONNELLY             511\n",
       "AE           1087-AN-HAPMAP-DONNELLY               2\n",
       "AF           1087-AN-HAPMAP-DONNELLY              29\n",
       "AG           1002-AG-BFUG-LAWNICZAK              177\n",
       "             1003-AG-KEGM-BURT                    22\n",
       "             1028-AG-WAGB-VERNICK                 57\n",
       "             1029-AG-GB-LEVASHINA                  9\n",
       "             1030-AG-GB-DONNELLY                1299\n",
       "             1055-AG-SSA-DONNELLY                120\n",
       "             1087-AN-HAPMAP-DONNELLY            7708\n",
       "             1105-AG-WA-DJOGBENOU                 48\n",
       "             1109-AG-COLONIES-DONNELLY            21\n",
       "             1110-AG-GM-GODFRAY                  528\n",
       "             1112-AG-LABCROSS-WEILL               30\n",
       "             1129-AG-MULTI-VERNICK               765\n",
       "             1130-AG-GM-CAPUTO                   327\n",
       "AM           1003-AG-KEGM-BURT                     6\n",
       "             1030-AG-GB-DONNELLY                 153\n",
       "HS           1142-HUM-GM-WGS_GGVP               1391\n",
       "             1144-HUM-GM-CP1_GMSM               5325\n",
       "             1174-HUM-KE-CP1                    3368\n",
       "PB           1086-PB-GB-IANTORNO                  15\n",
       "PF           1001-PF-ML-DJIMDE                   217\n",
       "             1004-PF-BF-OUEDRAOGO                144\n",
       "             1006-PF-GM-CONWAY                    81\n",
       "             1007-PF-TZ-DUFFY                     50\n",
       "             1008-PF-SEA-RINGWALD                234\n",
       "             1009-PF-KH-PLOWE                      5\n",
       "             1010-PF-TH-ANDERSON                 134\n",
       "             1011-PF-KH-SU                       110\n",
       "             1012-PF-KH-WHITE                     27\n",
       "             1013-PF-PEGB-BRANCH                  26\n",
       "             1014-PF-SSA-SUTHERLAND               16\n",
       "             1015-PF-KE-NZILA                     87\n",
       "             1016-PF-TH-NOSTEN                    93\n",
       "             1017-PF-GH-AMENGA-ETEGO             419\n",
       "             1018-PF-GB-NEWBOLD                   10\n",
       "             1020-PF-VN-BONI                      26\n",
       "             1021-PF-PG-MUELLER                   88\n",
       "             1022-PF-MW-OCHOLLA                  371\n",
       "             1023-PF-CO-ECHEVERRI-GARCIA          17\n",
       "             1024-PF-UG-BOUSEMA                   15\n",
       "             1025-PF-KH-PLOWE                     10\n",
       "             1026-PF-GN-CONWAY                   199\n",
       "             1027-PF-KE-BULL                      11\n",
       "             1031-PF-SEA-PLOWE                   182\n",
       "             1032-PF-BRHN-SMITHEE                 42\n",
       "             1033-PF-BRGHSEA-SU                    8\n",
       "             1034-PF-BRSEA-RAYNER                  3\n",
       "             1035-PF-PNGB-CAMPINO                  2\n",
       "             1036-PF-VN-NZILA                      1\n",
       "             1037-PF-GM-CONWAY                    44\n",
       "             1038-PF-SD-HVIID                      7\n",
       "             1039-PF-PFLAB9-BAKER                  3\n",
       "             1040-PF-GB-HAMILTON                 636\n",
       "             1041-PF-US-FERDIG                    45\n",
       "             1042-PF-HN-RANFORD-CARTWRIGHT        44\n",
       "             1043-PF-GB-RAYNER                    58\n",
       "             1044-PF-KH-FAIRHURST                645\n",
       "             1052-PF-TRAC-WHITE                 1174\n",
       "             1062-PF-PG-BARRY                     82\n",
       "             1083-PF-GH-CONWAY                   117\n",
       "             1089-R&amp;D-GB-ALCOCK              160\n",
       "             1093-PF-CM-APINJOH                  239\n",
       "             1094-PF-GH-AMENGA-ETEGO             256\n",
       "             1095-PF-TZ-ISHENGOMA                300\n",
       "             1096-PF-GH-GHANSAH                  101\n",
       "             1097-PF-ML-MAIGA                    138\n",
       "             1098-PF-ET-GOLASSA                   34\n",
       "             1100-PF-CI-YAVO                      71\n",
       "             1101-PF-CD-ONYAMBOKO                175\n",
       "             1102-PF-MG-RANDRIANARIVELOJOSIA      25\n",
       "             1103-PF-PDN-GMSN-NGWA                34\n",
       "             1104-PF-LAB-WENDLER                  28\n",
       "             1107-PF-KEN-KAMAU                    64\n",
       "             1108-PF-PDN-GAB-BOUYOU-AKOTET        59\n",
       "             1111-PF-LAB3D7-BULL                  28\n",
       "             1125-PF-TH-NOSTEN                   674\n",
       "             1126-PF-LAB-FAIRHURST                60\n",
       "             1127-PF-ML-SOULEYMANE               164\n",
       "             1131-PF-BJ-BERTIN                   102\n",
       "             1132--PF-K1000g-DBS-KE-BEJON         73\n",
       "             1133-PF-LAB-MERRICK                  85\n",
       "             1134-PF-ML-CONWAY                    95\n",
       "             1135-PF-SN-CONWAY                    93\n",
       "             1136-PF-GM-NGWA                     123\n",
       "             1137-PF-GM-DALESSANDRO               68\n",
       "             1138-PF-CD-FANELLO                  160\n",
       "             1140-PF-ML-DUFFY                     68\n",
       "             1141-PF-GM-CLAESSENS                236\n",
       "             1145-PF-PE-GAMBOA                    13\n",
       "             1147-PF-MR-CONWAY                   104\n",
       "             1149-PF-MM-RINGWALD                 158\n",
       "             1150-PF-Pf3KLAB-CONWAY                5\n",
       "             1151-PF-GH-AMENGA-ETEGO             128\n",
       "             1152-PF-DBS-GH-AMENGA-ETEGO          96\n",
       "             1153-PF-Pf3KLAB-KWIATKOWSKI          16\n",
       "             1155-PF-ID-PRICE                     93\n",
       "             1169-PF-CO-CORREDOR                  68\n",
       "             1185-PF-KH-KYLE                       5\n",
       "             1195-PF-TRAC2-DONDORP               150\n",
       "             1199-PF-ML-LAWNICZAK                  9\n",
       "PM           1045-PF-PN-MUELLER                    3\n",
       "PV           1044-PF-KH-FAIRHURST                108\n",
       "             1046-PV-BR-FERRERIA                   5\n",
       "             1047-PV-LK-KARUNAWEERA                2\n",
       "             1049-PV-VN-BONI                      23\n",
       "             1050-PV-PN-MUELLER                   26\n",
       "             1052-PF-TRAC-WHITE                    4\n",
       "             1098-PF-ET-GOLASSA                   86\n",
       "             1102-PF-MG-RANDRIANARIVELOJOSIA       1\n",
       "             1128-PV-GSKMULTI-RAYNER              20\n",
       "             1154-PV-TH-PRICE                    106\n",
       "             1156-PV-ID-PRICE                    186\n",
       "             1157-PV-MULTI-PRICE                 232\n",
       "Name: study_group, dtype: int64"
      ]
     },
     "execution_count": 27,
     "metadata": {},
     "output_type": "execute_result"
    }
   ],
   "source": [
    "pd.set_option('display.max_rows', 500)\n",
    "df_vw_vrpipe.fillna('?').groupby(['study_group', 'alfresco'])['study_group'].count()"
   ]
  },
  {
   "cell_type": "code",
   "execution_count": 28,
   "metadata": {
    "collapsed": false
   },
   "outputs": [
    {
     "data": {
      "text/plain": [
       "study_group\n",
       "@@      126\n",
       "AA     1308\n",
       "AC      511\n",
       "AE        2\n",
       "AF       29\n",
       "AG    11111\n",
       "AM      159\n",
       "HS    10084\n",
       "PB       15\n",
       "PF    10041\n",
       "PM        3\n",
       "PV      799\n",
       "Name: study_group, dtype: int64"
      ]
     },
     "execution_count": 28,
     "metadata": {},
     "output_type": "execute_result"
    }
   ],
   "source": [
    "df_vw_vrpipe.fillna('?').groupby(['study_group'])['study_group'].count()"
   ]
  },
  {
   "cell_type": "code",
   "execution_count": 16,
   "metadata": {
    "collapsed": false
   },
   "outputs": [
    {
     "data": {
      "text/html": [
       "<div>\n",
       "<table border=\"1\" class=\"dataframe\">\n",
       "  <thead>\n",
       "    <tr style=\"text-align: right;\">\n",
       "      <th></th>\n",
       "      <th>lanelets_filter</th>\n",
       "      <th>lanelets_nofilter</th>\n",
       "      <th>oxford_codes_filter</th>\n",
       "      <th>oxford_codes_nofilter</th>\n",
       "    </tr>\n",
       "    <tr>\n",
       "      <th>study_group</th>\n",
       "      <th></th>\n",
       "      <th></th>\n",
       "      <th></th>\n",
       "      <th></th>\n",
       "    </tr>\n",
       "  </thead>\n",
       "  <tbody>\n",
       "    <tr>\n",
       "      <th>@@</th>\n",
       "      <td>126</td>\n",
       "      <td>126</td>\n",
       "      <td>46</td>\n",
       "      <td>46</td>\n",
       "    </tr>\n",
       "    <tr>\n",
       "      <th>AA</th>\n",
       "      <td>1308</td>\n",
       "      <td>1404</td>\n",
       "      <td>460</td>\n",
       "      <td>460</td>\n",
       "    </tr>\n",
       "    <tr>\n",
       "      <th>AC</th>\n",
       "      <td>511</td>\n",
       "      <td>511</td>\n",
       "      <td>237</td>\n",
       "      <td>237</td>\n",
       "    </tr>\n",
       "    <tr>\n",
       "      <th>AE</th>\n",
       "      <td>2</td>\n",
       "      <td>2</td>\n",
       "      <td>2</td>\n",
       "      <td>2</td>\n",
       "    </tr>\n",
       "    <tr>\n",
       "      <th>AF</th>\n",
       "      <td>29</td>\n",
       "      <td>29</td>\n",
       "      <td>11</td>\n",
       "      <td>11</td>\n",
       "    </tr>\n",
       "    <tr>\n",
       "      <th>AG</th>\n",
       "      <td>11111</td>\n",
       "      <td>14974</td>\n",
       "      <td>3789</td>\n",
       "      <td>3803</td>\n",
       "    </tr>\n",
       "    <tr>\n",
       "      <th>AM</th>\n",
       "      <td>159</td>\n",
       "      <td>159</td>\n",
       "      <td>57</td>\n",
       "      <td>57</td>\n",
       "    </tr>\n",
       "    <tr>\n",
       "      <th>HS</th>\n",
       "      <td>10084</td>\n",
       "      <td>10127</td>\n",
       "      <td>963</td>\n",
       "      <td>963</td>\n",
       "    </tr>\n",
       "    <tr>\n",
       "      <th>PB</th>\n",
       "      <td>15</td>\n",
       "      <td>18</td>\n",
       "      <td>15</td>\n",
       "      <td>15</td>\n",
       "    </tr>\n",
       "    <tr>\n",
       "      <th>PF</th>\n",
       "      <td>10041</td>\n",
       "      <td>13665</td>\n",
       "      <td>9278</td>\n",
       "      <td>9276</td>\n",
       "    </tr>\n",
       "    <tr>\n",
       "      <th>PM</th>\n",
       "      <td>3</td>\n",
       "      <td>4</td>\n",
       "      <td>3</td>\n",
       "      <td>3</td>\n",
       "    </tr>\n",
       "    <tr>\n",
       "      <th>PV</th>\n",
       "      <td>799</td>\n",
       "      <td>1126</td>\n",
       "      <td>738</td>\n",
       "      <td>742</td>\n",
       "    </tr>\n",
       "  </tbody>\n",
       "</table>\n",
       "</div>"
      ],
      "text/plain": [
       "             lanelets_filter  lanelets_nofilter  oxford_codes_filter  \\\n",
       "study_group                                                            \n",
       "@@                       126                126                   46   \n",
       "AA                      1308               1404                  460   \n",
       "AC                       511                511                  237   \n",
       "AE                         2                  2                    2   \n",
       "AF                        29                 29                   11   \n",
       "AG                     11111              14974                 3789   \n",
       "AM                       159                159                   57   \n",
       "HS                     10084              10127                  963   \n",
       "PB                        15                 18                   15   \n",
       "PF                     10041              13665                 9278   \n",
       "PM                         3                  4                    3   \n",
       "PV                       799               1126                  738   \n",
       "\n",
       "             oxford_codes_nofilter  \n",
       "study_group                         \n",
       "@@                              46  \n",
       "AA                             460  \n",
       "AC                             237  \n",
       "AE                               2  \n",
       "AF                              11  \n",
       "AG                            3803  \n",
       "AM                              57  \n",
       "HS                             963  \n",
       "PB                              15  \n",
       "PF                            9276  \n",
       "PM                               3  \n",
       "PV                             742  "
      ]
     },
     "execution_count": 16,
     "metadata": {},
     "output_type": "execute_result"
    }
   ],
   "source": [
    "df_study_group_summary = pd.DataFrame(\n",
    "    {\n",
    "        'lanelets_nofilter': df_vw_vrpipe_nofilter.fillna('?').groupby(['study_group'])['study_group'].count(),\n",
    "        'oxford_codes_nofilter': df_vw_vrpipe_nofilter.fillna('?').drop_duplicates('oxford_code').groupby(['study_group'])['study_group'].count(),\n",
    "        'lanelets_filter': df_vw_vrpipe.fillna('?').groupby(['study_group'])['study_group'].count(),\n",
    "        'oxford_codes_filter': df_vw_vrpipe.fillna('?').drop_duplicates('oxford_code').groupby(['study_group'])['study_group'].count()\n",
    "    }\n",
    ")\n",
    "df_study_group_summary"
   ]
  },
  {
   "cell_type": "code",
   "execution_count": 20,
   "metadata": {
    "collapsed": false
   },
   "outputs": [
    {
     "data": {
      "text/html": [
       "<div>\n",
       "<table border=\"1\" class=\"dataframe\">\n",
       "  <thead>\n",
       "    <tr style=\"text-align: right;\">\n",
       "      <th></th>\n",
       "      <th>lanelets</th>\n",
       "      <th>oxford_codes</th>\n",
       "    </tr>\n",
       "    <tr>\n",
       "      <th>study_group</th>\n",
       "      <th></th>\n",
       "      <th></th>\n",
       "    </tr>\n",
       "  </thead>\n",
       "  <tbody>\n",
       "    <tr>\n",
       "      <th>@@</th>\n",
       "      <td>126</td>\n",
       "      <td>46</td>\n",
       "    </tr>\n",
       "    <tr>\n",
       "      <th>AA</th>\n",
       "      <td>1308</td>\n",
       "      <td>460</td>\n",
       "    </tr>\n",
       "    <tr>\n",
       "      <th>AC</th>\n",
       "      <td>511</td>\n",
       "      <td>237</td>\n",
       "    </tr>\n",
       "    <tr>\n",
       "      <th>AE</th>\n",
       "      <td>2</td>\n",
       "      <td>2</td>\n",
       "    </tr>\n",
       "    <tr>\n",
       "      <th>AF</th>\n",
       "      <td>29</td>\n",
       "      <td>11</td>\n",
       "    </tr>\n",
       "    <tr>\n",
       "      <th>AG</th>\n",
       "      <td>11111</td>\n",
       "      <td>3789</td>\n",
       "    </tr>\n",
       "    <tr>\n",
       "      <th>AM</th>\n",
       "      <td>159</td>\n",
       "      <td>57</td>\n",
       "    </tr>\n",
       "    <tr>\n",
       "      <th>HS</th>\n",
       "      <td>10084</td>\n",
       "      <td>963</td>\n",
       "    </tr>\n",
       "    <tr>\n",
       "      <th>PB</th>\n",
       "      <td>15</td>\n",
       "      <td>15</td>\n",
       "    </tr>\n",
       "    <tr>\n",
       "      <th>PF</th>\n",
       "      <td>10041</td>\n",
       "      <td>9278</td>\n",
       "    </tr>\n",
       "    <tr>\n",
       "      <th>PM</th>\n",
       "      <td>3</td>\n",
       "      <td>3</td>\n",
       "    </tr>\n",
       "    <tr>\n",
       "      <th>PV</th>\n",
       "      <td>799</td>\n",
       "      <td>738</td>\n",
       "    </tr>\n",
       "  </tbody>\n",
       "</table>\n",
       "</div>"
      ],
      "text/plain": [
       "             lanelets  oxford_codes\n",
       "study_group                        \n",
       "@@                126            46\n",
       "AA               1308           460\n",
       "AC                511           237\n",
       "AE                  2             2\n",
       "AF                 29            11\n",
       "AG              11111          3789\n",
       "AM                159            57\n",
       "HS              10084           963\n",
       "PB                 15            15\n",
       "PF              10041          9278\n",
       "PM                  3             3\n",
       "PV                799           738"
      ]
     },
     "execution_count": 20,
     "metadata": {},
     "output_type": "execute_result"
    }
   ],
   "source": [
    "df_study_group_summary = pd.DataFrame(\n",
    "    {\n",
    "        'lanelets': df_vw_vrpipe.fillna('?').groupby(['study_group'])['study_group'].count(),\n",
    "        'oxford_codes': df_vw_vrpipe.fillna('?').drop_duplicates('oxford_code').groupby(['study_group'])['study_group'].count()\n",
    "    }\n",
    ")\n",
    "df_study_group_summary"
   ]
  },
  {
   "cell_type": "code",
   "execution_count": 26,
   "metadata": {
    "collapsed": false
   },
   "outputs": [],
   "source": [
    "df_study_group_summary.to_excel(\"%s/study_group_summary.xlsx\" % output_dir)"
   ]
  },
  {
   "cell_type": "code",
   "execution_count": null,
   "metadata": {
    "collapsed": true
   },
   "outputs": [],
   "source": []
  },
  {
   "cell_type": "code",
   "execution_count": null,
   "metadata": {
    "collapsed": true
   },
   "outputs": [],
   "source": []
  },
  {
   "cell_type": "code",
   "execution_count": 40,
   "metadata": {
    "collapsed": false
   },
   "outputs": [
    {
     "name": "stdout",
     "output_type": "stream",
     "text": [
      "7182\n"
     ]
    },
    {
     "data": {
      "text/html": [
       "<div>\n",
       "<table border=\"1\" class=\"dataframe\">\n",
       "  <thead>\n",
       "    <tr style=\"text-align: right;\">\n",
       "      <th></th>\n",
       "      <th>OxfordSrcCode</th>\n",
       "      <th>OxfordDonorCode</th>\n",
       "      <th>Individual_ID</th>\n",
       "      <th>AlfrescoStudyCode</th>\n",
       "      <th>Type</th>\n",
       "      <th>InV5.1</th>\n",
       "      <th>InV5</th>\n",
       "      <th>SubContinentCode</th>\n",
       "      <th>SubContinentName</th>\n",
       "      <th>RegionCode</th>\n",
       "      <th>...</th>\n",
       "      <th>mean_indel_len</th>\n",
       "      <th>total_indel_len</th>\n",
       "      <th>dont_release_Year</th>\n",
       "      <th>release_exclusion_reason</th>\n",
       "      <th>platform</th>\n",
       "      <th>pe_se</th>\n",
       "      <th>path</th>\n",
       "      <th>max_length</th>\n",
       "      <th>min_length</th>\n",
       "      <th>most_common_length</th>\n",
       "    </tr>\n",
       "    <tr>\n",
       "      <th>Sample</th>\n",
       "      <th></th>\n",
       "      <th></th>\n",
       "      <th></th>\n",
       "      <th></th>\n",
       "      <th></th>\n",
       "      <th></th>\n",
       "      <th></th>\n",
       "      <th></th>\n",
       "      <th></th>\n",
       "      <th></th>\n",
       "      <th></th>\n",
       "      <th></th>\n",
       "      <th></th>\n",
       "      <th></th>\n",
       "      <th></th>\n",
       "      <th></th>\n",
       "      <th></th>\n",
       "      <th></th>\n",
       "      <th></th>\n",
       "      <th></th>\n",
       "      <th></th>\n",
       "    </tr>\n",
       "  </thead>\n",
       "  <tbody>\n",
       "    <tr>\n",
       "      <th>FP0008-C</th>\n",
       "      <td>KB02.14</td>\n",
       "      <td>KB02.14</td>\n",
       "      <td>KB02.14</td>\n",
       "      <td>1147-PF-MR-CONWAY</td>\n",
       "      <td>DNA</td>\n",
       "      <td>False</td>\n",
       "      <td>False</td>\n",
       "      <td>WAF</td>\n",
       "      <td>West Africa</td>\n",
       "      <td>MR</td>\n",
       "      <td>...</td>\n",
       "      <td>-0.188319</td>\n",
       "      <td>-586569</td>\n",
       "      <td>2014</td>\n",
       "      <td>None</td>\n",
       "      <td>HiSeq</td>\n",
       "      <td>pe</td>\n",
       "      <td>/lustre/scratch116/malaria/pfalciparum/output/...</td>\n",
       "      <td>100</td>\n",
       "      <td>30</td>\n",
       "      <td>100</td>\n",
       "    </tr>\n",
       "    <tr>\n",
       "      <th>FP0009-C</th>\n",
       "      <td>KB03.14</td>\n",
       "      <td>KB03.14</td>\n",
       "      <td>KB03.14</td>\n",
       "      <td>1147-PF-MR-CONWAY</td>\n",
       "      <td>DNA</td>\n",
       "      <td>False</td>\n",
       "      <td>False</td>\n",
       "      <td>WAF</td>\n",
       "      <td>West Africa</td>\n",
       "      <td>MR</td>\n",
       "      <td>...</td>\n",
       "      <td>-0.253752</td>\n",
       "      <td>-790377</td>\n",
       "      <td>2014</td>\n",
       "      <td>None</td>\n",
       "      <td>HiSeq</td>\n",
       "      <td>pe</td>\n",
       "      <td>/lustre/scratch116/malaria/pfalciparum/output/...</td>\n",
       "      <td>100</td>\n",
       "      <td>30</td>\n",
       "      <td>100</td>\n",
       "    </tr>\n",
       "    <tr>\n",
       "      <th>FP0015-C</th>\n",
       "      <td>KB18.14</td>\n",
       "      <td>KB18.14</td>\n",
       "      <td>KB18.14</td>\n",
       "      <td>1147-PF-MR-CONWAY</td>\n",
       "      <td>DNA</td>\n",
       "      <td>False</td>\n",
       "      <td>False</td>\n",
       "      <td>WAF</td>\n",
       "      <td>West Africa</td>\n",
       "      <td>MR</td>\n",
       "      <td>...</td>\n",
       "      <td>-0.241471</td>\n",
       "      <td>-752124</td>\n",
       "      <td>2014</td>\n",
       "      <td>None</td>\n",
       "      <td>HiSeq</td>\n",
       "      <td>pe</td>\n",
       "      <td>/lustre/scratch116/malaria/pfalciparum/output/...</td>\n",
       "      <td>100</td>\n",
       "      <td>30</td>\n",
       "      <td>100</td>\n",
       "    </tr>\n",
       "    <tr>\n",
       "      <th>FP0016-C</th>\n",
       "      <td>KB19.14</td>\n",
       "      <td>KB19.14</td>\n",
       "      <td>KB19.14</td>\n",
       "      <td>1147-PF-MR-CONWAY</td>\n",
       "      <td>DNA</td>\n",
       "      <td>False</td>\n",
       "      <td>False</td>\n",
       "      <td>WAF</td>\n",
       "      <td>West Africa</td>\n",
       "      <td>MR</td>\n",
       "      <td>...</td>\n",
       "      <td>-0.096027</td>\n",
       "      <td>-299102</td>\n",
       "      <td>2014</td>\n",
       "      <td>None</td>\n",
       "      <td>HiSeq</td>\n",
       "      <td>pe</td>\n",
       "      <td>/lustre/scratch116/malaria/pfalciparum/output/...</td>\n",
       "      <td>100</td>\n",
       "      <td>33</td>\n",
       "      <td>100</td>\n",
       "    </tr>\n",
       "    <tr>\n",
       "      <th>FP0017-C</th>\n",
       "      <td>KB20.14</td>\n",
       "      <td>KB20.14</td>\n",
       "      <td>KB20.14</td>\n",
       "      <td>1147-PF-MR-CONWAY</td>\n",
       "      <td>DNA</td>\n",
       "      <td>False</td>\n",
       "      <td>False</td>\n",
       "      <td>WAF</td>\n",
       "      <td>West Africa</td>\n",
       "      <td>MR</td>\n",
       "      <td>...</td>\n",
       "      <td>-0.262139</td>\n",
       "      <td>-816501</td>\n",
       "      <td>2014</td>\n",
       "      <td>None</td>\n",
       "      <td>HiSeq</td>\n",
       "      <td>pe</td>\n",
       "      <td>/lustre/scratch116/malaria/pfalciparum/output/...</td>\n",
       "      <td>100</td>\n",
       "      <td>30</td>\n",
       "      <td>100</td>\n",
       "    </tr>\n",
       "  </tbody>\n",
       "</table>\n",
       "<p>5 rows × 176 columns</p>\n",
       "</div>"
      ],
      "text/plain": [
       "         OxfordSrcCode OxfordDonorCode Individual_ID  AlfrescoStudyCode Type  \\\n",
       "Sample                                                                         \n",
       "FP0008-C       KB02.14         KB02.14       KB02.14  1147-PF-MR-CONWAY  DNA   \n",
       "FP0009-C       KB03.14         KB03.14       KB03.14  1147-PF-MR-CONWAY  DNA   \n",
       "FP0015-C       KB18.14         KB18.14       KB18.14  1147-PF-MR-CONWAY  DNA   \n",
       "FP0016-C       KB19.14         KB19.14       KB19.14  1147-PF-MR-CONWAY  DNA   \n",
       "FP0017-C       KB20.14         KB20.14       KB20.14  1147-PF-MR-CONWAY  DNA   \n",
       "\n",
       "         InV5.1   InV5 SubContinentCode SubContinentName RegionCode  \\\n",
       "Sample                                                                \n",
       "FP0008-C  False  False              WAF      West Africa         MR   \n",
       "FP0009-C  False  False              WAF      West Africa         MR   \n",
       "FP0015-C  False  False              WAF      West Africa         MR   \n",
       "FP0016-C  False  False              WAF      West Africa         MR   \n",
       "FP0017-C  False  False              WAF      West Africa         MR   \n",
       "\n",
       "                 ...         mean_indel_len total_indel_len dont_release_Year  \\\n",
       "Sample           ...                                                            \n",
       "FP0008-C         ...              -0.188319         -586569              2014   \n",
       "FP0009-C         ...              -0.253752         -790377              2014   \n",
       "FP0015-C         ...              -0.241471         -752124              2014   \n",
       "FP0016-C         ...              -0.096027         -299102              2014   \n",
       "FP0017-C         ...              -0.262139         -816501              2014   \n",
       "\n",
       "         release_exclusion_reason platform pe_se  \\\n",
       "Sample                                             \n",
       "FP0008-C                     None    HiSeq    pe   \n",
       "FP0009-C                     None    HiSeq    pe   \n",
       "FP0015-C                     None    HiSeq    pe   \n",
       "FP0016-C                     None    HiSeq    pe   \n",
       "FP0017-C                     None    HiSeq    pe   \n",
       "\n",
       "                                                       path max_length  \\\n",
       "Sample                                                                   \n",
       "FP0008-C  /lustre/scratch116/malaria/pfalciparum/output/...        100   \n",
       "FP0009-C  /lustre/scratch116/malaria/pfalciparum/output/...        100   \n",
       "FP0015-C  /lustre/scratch116/malaria/pfalciparum/output/...        100   \n",
       "FP0016-C  /lustre/scratch116/malaria/pfalciparum/output/...        100   \n",
       "FP0017-C  /lustre/scratch116/malaria/pfalciparum/output/...        100   \n",
       "\n",
       "         min_length  most_common_length  \n",
       "Sample                                   \n",
       "FP0008-C         30                 100  \n",
       "FP0009-C         30                 100  \n",
       "FP0015-C         30                 100  \n",
       "FP0016-C         33                 100  \n",
       "FP0017-C         30                 100  \n",
       "\n",
       "[5 rows x 176 columns]"
      ]
     },
     "execution_count": 40,
     "metadata": {},
     "output_type": "execute_result"
    }
   ],
   "source": [
    "df_pf_60 = pd.read_csv(pf_60_fn, sep='\\t', index_col=0)\n",
    "print(len(df_pf_60))\n",
    "df_pf_60[0:5]"
   ]
  },
  {
   "cell_type": "code",
   "execution_count": 44,
   "metadata": {
    "collapsed": false
   },
   "outputs": [
    {
     "data": {
      "text/plain": [
       "1052-PF-TRAC-WHITE                 1172\n",
       "1125-PF-TH-NOSTEN                   674\n",
       "1044-PF-KH-FAIRHURST                602\n",
       "1017-PF-GH-AMENGA-ETEGO             390\n",
       "1022-PF-MW-OCHOLLA                  351\n",
       "1095-PF-TZ-ISHENGOMA                300\n",
       "1094-PF-GH-AMENGA-ETEGO             256\n",
       "1093-PF-CM-APINJOH                  239\n",
       "1008-PF-SEA-RINGWALD                234\n",
       "1026-PF-GN-CONWAY                   197\n",
       "1031-PF-SEA-PLOWE                   177\n",
       "1101-PF-CD-ONYAMBOKO                174\n",
       "1127-PF-ML-SOULEYMANE               164\n",
       "1097-PF-ML-MAIGA                    137\n",
       "1151-PF-GH-AMENGA-ETEGO             111\n",
       "1010-PF-TH-ANDERSON                 108\n",
       "1131-PF-BJ-BERTIN                   102\n",
       "1083-PF-GH-CONWAY                   101\n",
       "1096-PF-GH-GHANSAH                  101\n",
       "1136-PF-GM-NGWA                     100\n",
       "1001-PF-ML-DJIMDE                    96\n",
       "1155-PF-ID-PRICE                     92\n",
       "1135-PF-SN-CONWAY                    86\n",
       "1147-PF-MR-CONWAY                    86\n",
       "1062-PF-PG-BARRY                     82\n",
       "1006-PF-GM-CONWAY                    79\n",
       "1138-PF-CD-FANELLO                   77\n",
       "1100-PF-CI-YAVO                      70\n",
       "1137-PF-GM-DALESSANDRO               68\n",
       "1133-PF-LAB-MERRICK                  66\n",
       "1107-PF-KEN-KAMAU                    61\n",
       "1015-PF-KE-NZILA                     60\n",
       "1004-PF-BF-OUEDRAOGO                 57\n",
       "1021-PF-PG-MUELLER                   57\n",
       "1134-PF-ML-CONWAY                    52\n",
       "1007-PF-TZ-DUFFY                     50\n",
       "1152-PF-DBS-GH-AMENGA-ETEGO          44\n",
       "1011-PF-KH-SU                        41\n",
       "1103-PF-PDN-GMSN-NGWA                34\n",
       "1098-PF-ET-GOLASSA                   34\n",
       "1141-PF-GM-CLAESSENS                 31\n",
       "1102-PF-MG-RANDRIANARIVELOJOSIA      25\n",
       "1020-PF-VN-BONI                      24\n",
       "1016-PF-TH-NOSTEN                    21\n",
       "1023-PF-CO-ECHEVERRI-GARCIA          17\n",
       "1013-PF-PEGB-BRANCH                  16\n",
       "1024-PF-UG-BOUSEMA                   14\n",
       "1145-PF-PE-GAMBOA                    13\n",
       "1027-PF-KE-BULL                      11\n",
       "1014-PF-SSA-SUTHERLAND               10\n",
       "1025-PF-KH-PLOWE                     10\n",
       "1009-PF-KH-PLOWE                      5\n",
       "1012-PF-KH-WHITE                      2\n",
       "1018-PF-GB-NEWBOLD                    1\n",
       "Name: AlfrescoStudyCode, dtype: int64"
      ]
     },
     "execution_count": 44,
     "metadata": {},
     "output_type": "execute_result"
    }
   ],
   "source": [
    "df_pf_60['AlfrescoStudyCode'].value_counts()"
   ]
  },
  {
   "cell_type": "code",
   "execution_count": 42,
   "metadata": {
    "collapsed": false
   },
   "outputs": [
    {
     "data": {
      "text/html": [
       "<div>\n",
       "<table border=\"1\" class=\"dataframe\">\n",
       "  <thead>\n",
       "    <tr style=\"text-align: right;\">\n",
       "      <th></th>\n",
       "      <th>OxfordSrcCode</th>\n",
       "      <th>OxfordDonorCode</th>\n",
       "      <th>Individual_ID</th>\n",
       "      <th>AlfrescoStudyCode</th>\n",
       "      <th>Type</th>\n",
       "      <th>InV5.1</th>\n",
       "      <th>InV5</th>\n",
       "      <th>SubContinentCode</th>\n",
       "      <th>SubContinentName</th>\n",
       "      <th>RegionCode</th>\n",
       "      <th>...</th>\n",
       "      <th>mean_indel_len</th>\n",
       "      <th>total_indel_len</th>\n",
       "      <th>dont_release_Year</th>\n",
       "      <th>release_exclusion_reason</th>\n",
       "      <th>platform</th>\n",
       "      <th>pe_se</th>\n",
       "      <th>path</th>\n",
       "      <th>max_length</th>\n",
       "      <th>min_length</th>\n",
       "      <th>most_common_length</th>\n",
       "    </tr>\n",
       "    <tr>\n",
       "      <th>Sample</th>\n",
       "      <th></th>\n",
       "      <th></th>\n",
       "      <th></th>\n",
       "      <th></th>\n",
       "      <th></th>\n",
       "      <th></th>\n",
       "      <th></th>\n",
       "      <th></th>\n",
       "      <th></th>\n",
       "      <th></th>\n",
       "      <th></th>\n",
       "      <th></th>\n",
       "      <th></th>\n",
       "      <th></th>\n",
       "      <th></th>\n",
       "      <th></th>\n",
       "      <th></th>\n",
       "      <th></th>\n",
       "      <th></th>\n",
       "      <th></th>\n",
       "      <th></th>\n",
       "    </tr>\n",
       "  </thead>\n",
       "  <tbody>\n",
       "  </tbody>\n",
       "</table>\n",
       "<p>0 rows × 176 columns</p>\n",
       "</div>"
      ],
      "text/plain": [
       "Empty DataFrame\n",
       "Columns: [OxfordSrcCode, OxfordDonorCode, Individual_ID, AlfrescoStudyCode, Type, InV5.1, InV5, SubContinentCode, SubContinentName, RegionCode, CountryCode, CountryName, Site, incomplete_Year, Date, HasDuplicate, run_accessions, Year_source, sort_AlfrescoStudyCode, IndividualGroup, AllSamplesThisIndividual, Lat, Long, Site_source, PreferredSample, center_name, pc_bases_callable, pc_bases_no_coverage, pc_bases_low_coverage, pc_bases_excessive_coverage, pc_bases_poor_mapping_quality, pc_bases_ref_n, bases_of_1X_coverage, bases_of_2X_coverage, bases_of_5X_coverage, pc_genome_covered_at_1x, pc_genome_covered_at_5x, mean_coverage, mean_insert_size, sd_insert_size, avg_read_length, reads, reads_mapped, reads_mapped_and_paired, reads_properly_paired, reads_qc_failed, pairs_on_different_chromosomes, non_primary_alignments, pc_reads_mapped, pc_mapped_reads_properly_paired, pc_pairs_on_different_chromosomes, pc_non_primary_alignments, pc_reads_qc_failed, num_variants, num_pass_variants, num_missing, num_pass_missing, num_called, num_pass_called, num_hom_ref, num_het, num_pass_het, num_hom_alt, num_pass_hom_alt, num_pass_non_ref, num_biallelic_het, num_biallelic_hom_alt, num_spanning_del_het, num_spanning_del_hom_alt, num_multiallelic_het, num_multiallelic_hom_alt, num_snp_het, num_snp_hom_alt, num_snp, num_indel_het, num_indel_hom_alt, num_indel, num_ins_het, num_ins_hom_alt, num_ins, num_del_het, num_del_hom_alt, num_del, num_coding_het, num_coding_hom_alt, num_coding, num_hq_snp_called, num_hq_snp_hom_ref, num_hq_snp_het, num_hq_snp_hom_alt, num_vhq_snp_called, num_vhq_snp_hom_ref, num_vhq_snp_het, num_vhq_snp_hom_alt, num_singleton, num_biallelic_singleton, num_hq_snp_singleton, num_vhq_snp_singleton, num_bi_nonsynonymous, num_bi_synonymous, ...]\n",
       "Index: []\n",
       "\n",
       "[0 rows x 176 columns]"
      ]
     },
     "execution_count": 42,
     "metadata": {},
     "output_type": "execute_result"
    }
   ],
   "source": [
    "df_pf_60.ix[df_pf_60['AlfrescoStudyCode'] == '1195-PF-TRAC2-DONDORP']"
   ]
  },
  {
   "cell_type": "code",
   "execution_count": null,
   "metadata": {
    "collapsed": true
   },
   "outputs": [],
   "source": []
  }
 ],
 "metadata": {
  "kernelspec": {
   "display_name": "Python 3",
   "language": "python",
   "name": "python3"
  },
  "language_info": {
   "codemirror_mode": {
    "name": "ipython",
    "version": 3
   },
   "file_extension": ".py",
   "mimetype": "text/x-python",
   "name": "python",
   "nbconvert_exporter": "python",
   "pygments_lexer": "ipython3",
   "version": "3.5.2"
  }
 },
 "nbformat": 4,
 "nbformat_minor": 1
}
