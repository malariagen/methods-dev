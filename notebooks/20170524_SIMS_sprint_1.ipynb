{
 "cells": [
  {
   "cell_type": "code",
   "execution_count": 1,
   "metadata": {
    "collapsed": false
   },
   "outputs": [
    {
     "name": "stderr",
     "output_type": "stream",
     "text": [
      "/Users/rpearson/miniconda3/envs/biipy/lib/python3.5/site-packages/rpy2/robjects/robject.py:6: UserWarning: Bioconductor version 3.2 (BiocInstaller 1.20.3), ?biocLite for help\n",
      "\n",
      "  rpy2.rinterface.initr()\n",
      "/Users/rpearson/miniconda3/envs/biipy/lib/python3.5/site-packages/rpy2/robjects/robject.py:6: UserWarning: A new version of Bioconductor is available after installing the most recent version of R; see http://bioconductor.org/install\n",
      "\n",
      "  rpy2.rinterface.initr()\n"
     ]
    },
    {
     "name": "stdout",
     "output_type": "stream",
     "text": [
      "python 3.5.2 |Continuum Analytics, Inc.| (default, Jul  2 2016, 17:52:12) \n",
      "[GCC 4.2.1 Compatible Apple LLVM 4.2 (clang-425.0.28)]\n",
      "numpy 1.11.2\n",
      "scipy 0.18.1\n",
      "pandas 0.19.0\n",
      "numexpr 2.6.1\n",
      "pysam 0.9.1.4\n",
      "petl 1.1.0\n",
      "petlx 1.0.3\n",
      "vcf 0.6.8\n",
      "vcfnp 2.2.0\n",
      "h5py 2.6.0\n",
      "tables 3.3.0\n"
     ]
    }
   ],
   "source": [
    "%run _standard_imports.ipynb"
   ]
  },
  {
   "cell_type": "code",
   "execution_count": 2,
   "metadata": {
    "collapsed": true
   },
   "outputs": [],
   "source": [
    "output_dir = '/nfs/team112_internal/rp7/data/methods-dev/analysis/20170524_SIMS_sprint_1'\n",
    "vw_vrpipe_fn = \"%s/vw_vrpipe.txt\" % output_dir"
   ]
  },
  {
   "cell_type": "code",
   "execution_count": 5,
   "metadata": {
    "collapsed": true
   },
   "outputs": [],
   "source": [
    "!mkdir -p {output_dir}"
   ]
  },
  {
   "cell_type": "code",
   "execution_count": 3,
   "metadata": {
    "collapsed": true
   },
   "outputs": [],
   "source": [
    "sql_query = \"\\\n",
    "select alfresco, oxford_code, l.lib_name, name, oxford_src_code, type \\\n",
    "from vw_vrpipe, libs l, sample \\\n",
    "where seqscape_library_id=ss_asset_id and \\\n",
    "sample_id=sample.id\\\n",
    "\""
   ]
  },
  {
   "cell_type": "code",
   "execution_count": null,
   "metadata": {
    "collapsed": true
   },
   "outputs": [],
   "source": [
    "sql_query = \"\\\n",
    "select alfresco, oxford_code, l.lib_name, name, oxford_src_code, type \\\n",
    "from vw_vrpipe, sample \\\n",
    "where sample_id=sample.id\\\n",
    "\""
   ]
  },
  {
   "cell_type": "code",
   "execution_count": 7,
   "metadata": {
    "collapsed": false
   },
   "outputs": [
    {
     "name": "stdout",
     "output_type": "stream",
     "text": [
      "/bin/sh: /usr/bin/mysql: No such file or directory\r\n"
     ]
    }
   ],
   "source": [
    "!/usr/bin/mysql -u solaris_ro -hmalloc-db -P3309 solaris -e \"{sql_query}\" > {vw_vrpipe_fn}"
   ]
  },
  {
   "cell_type": "code",
   "execution_count": 8,
   "metadata": {
    "collapsed": false
   },
   "outputs": [
    {
     "name": "stdout",
     "output_type": "stream",
     "text": [
      "       0 /nfs/team112_internal/rp7/data/methods-dev/analysis/20170524_SIMS_sprint_1/vw_vrpipe.txt\r\n"
     ]
    }
   ],
   "source": [
    "!wc -l {vw_vrpipe_fn}"
   ]
  },
  {
   "cell_type": "code",
   "execution_count": null,
   "metadata": {
    "collapsed": true
   },
   "outputs": [],
   "source": []
  }
 ],
 "metadata": {
  "kernelspec": {
   "display_name": "Python 3",
   "language": "python",
   "name": "python3"
  },
  "language_info": {
   "codemirror_mode": {
    "name": "ipython",
    "version": 3
   },
   "file_extension": ".py",
   "mimetype": "text/x-python",
   "name": "python",
   "nbconvert_exporter": "python",
   "pygments_lexer": "ipython3",
   "version": "3.5.2"
  }
 },
 "nbformat": 4,
 "nbformat_minor": 1
}
