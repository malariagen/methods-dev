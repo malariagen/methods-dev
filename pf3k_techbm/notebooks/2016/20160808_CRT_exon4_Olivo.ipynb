{
 "cells": [
  {
   "cell_type": "markdown",
   "metadata": {},
   "source": [
    "# Plan\n",
    "- Determine invariant sequence near start of exon 4\n",
    "- grep this in PD0479-C and PD0471-C, both Pf3k and Pf 5.0\n",
    "- If we find any , how well do they map in their other location? Does CRT appear as alternative mapping location?\n",
    "- If reads in 1) and 2), are there any bwa parameters that might stop this?\n",
    "- Look into Thomas assemblies to see what true variation around here looks like. Is 3D7II similar to 3D7? Is intron between 3 and 4 very different between isolates?\n"
   ]
  },
  {
   "cell_type": "code",
   "execution_count": 1,
   "metadata": {
    "collapsed": false
   },
   "outputs": [
    {
     "name": "stdout",
     "output_type": "stream",
     "text": [
      "python 3.4.3 |Anaconda 2.2.0 (64-bit)| (default, Mar  6 2015, 12:03:53) \n",
      "[GCC 4.4.7 20120313 (Red Hat 4.4.7-1)]\n",
      "numpy 1.9.2\n",
      "scipy 0.15.1\n",
      "pandas 0.15.2\n",
      "numexpr 2.3.1\n",
      "pysam 0.8.3\n",
      "pysamstats 0.23\n",
      "petl 1.1.0\n",
      "petlx 1.0.3\n",
      "vcf 0.6.7\n",
      "vcfnp 2.3.0.dev0\n",
      "h5py 2.4.0\n",
      "tables 3.1.1\n"
     ]
    }
   ],
   "source": [
    "%run _standard_imports.ipynb\n",
    "%run _shared_setup.ipynb\n"
   ]
  },
  {
   "cell_type": "code",
   "execution_count": 12,
   "metadata": {
    "collapsed": true
   },
   "outputs": [],
   "source": [
    "bam_fns = collections.OrderedDict()\n",
    "bam_fns['PD0479-C Pf3k'] = '/lustre/scratch109/malaria/pf3k_methods/output/2/8/4/f/290788/4_bam_mark_duplicates_v2/pe.1.markdup.bam'\n",
    "bam_fns['PD0471-C Pf3k'] = '/lustre/scratch109/malaria/pf3k_methods/output/8/3/4/7/290780/4_bam_mark_duplicates_v2/pe.1.markdup.bam'\n",
    "bam_fns['PD0479-C Pf 5.0'] = '/lustre/scratch109/malaria/pfalciparum/output/4/4/3/3/43216/1_bam_merge/pe.1.bam'\n",
    "bam_fns['PD0471-C Pf 5.0'] = '/lustre/scratch109/malaria/pfalciparum/output/f/5/2/7/43208/1_bam_merge/pe.1.bam'\n",
    "\n",
    "vcf_fns = collections.OrderedDict()\n",
    "vcf_fns['Pf3k'] = '/nfs/team112_internal/production/release_build/Pf3K/pilot_5_0/SNP_INDEL_WG.combined.filtered.vcf.gz'\n",
    "vcf_fns['Pf 5.0'] = '/nfs/team112_internal/production_files/Pf/5_0/pf_50_vfp1.newCoverageFilters_pass_5_99.5.vcf.gz'\n",
    "\n",
    "exon4_coordinates = 'Pf3D7_07_v3:404283-404415'\n",
    "\n",
    "seeds = collections.OrderedDict()\n",
    "seeds['Pf3D7_07_v3:404290-404310'] = 'TTATACAATTATCTCGGAGCA'\n",
    "seeds['Pf3D7_07_v3:404356-404376'] = 'TTTGAAACACAAGAAGAAAAT'\n"
   ]
  },
  {
   "cell_type": "code",
   "execution_count": 13,
   "metadata": {
    "collapsed": false
   },
   "outputs": [
    {
     "name": "stdout",
     "output_type": "stream",
     "text": [
      "Pf3D7_07_v3:404290-404310\n",
      "TGCTCCGAGATAATTGTATAA\n",
      "Pf3D7_07_v3:404356-404376\n",
      "ATTTTCTTCTTGTGTTTCAAA\n"
     ]
    }
   ],
   "source": [
    "from Bio.Seq import Seq\n",
    "for seed in seeds:\n",
    "    print(seed)\n",
    "    print(Seq(seeds[seed]).reverse_complement())\n"
   ]
  },
  {
   "cell_type": "code",
   "execution_count": 11,
   "metadata": {
    "collapsed": false
   },
   "outputs": [
    {
     "name": "stdout",
     "output_type": "stream",
     "text": [
      "Pf3k\n",
      "Pf3D7_07_v3\t404289\t.\tC\tT\t164.94\tLow_VQSLOD\n",
      "Pf3D7_07_v3\t404330\t.\tT\tC\t82978.88\tPASS\n",
      "Pf3D7_07_v3\t404336\t.\tT\tC\t3054.24\tPASS\n",
      "Pf3D7_07_v3\t404337\t.\tT\tA\t2029.09\tPASS\n",
      "Pf3D7_07_v3\t404383\t.\tA\tG\t810.06\tLow_VQSLOD\n",
      "Pf3D7_07_v3\t404401\t.\tA\tT\t4212.57\tPASS\n",
      "Pf3D7_07_v3\t404407\t.\tG\tT\t881859.89\tPASS\n",
      "Pf 5.0\n",
      "Pf3D7_07_v3\t404289\t.\tC\tT\t.\tMinCoverage\n",
      "Pf3D7_07_v3\t404298\t.\tT\tA\t.\tMinAlt;MinCoverage\n",
      "Pf3D7_07_v3\t404302\t.\tC\tT\t.\tMinAlt;MinCoverage\n",
      "Pf3D7_07_v3\t404308\t.\tG\tA\t.\tMinAlt;MinCoverage\n",
      "Pf3D7_07_v3\t404311\t.\tG\tA,C\t.\tBiallelic;MinCoverage\n",
      "Pf3D7_07_v3\t404319\t.\tT\tC\t.\tMinCoverage\n",
      "Pf3D7_07_v3\t404323\t.\tG\tC\t.\tMinAlt;MinCoverage\n",
      "Pf3D7_07_v3\t404327\t.\tC\tA\t.\tMinAlt;MinCoverage\n",
      "Pf3D7_07_v3\t404328\t.\tA\tC\t.\tMinAlt;MinCoverage\n",
      "Pf3D7_07_v3\t404330\t.\tT\tC\t.\tMinCoverage\n",
      "Pf3D7_07_v3\t404331\t.\tA\tT\t.\tMinAlt;MinCoverage\n",
      "Pf3D7_07_v3\t404335\t.\tC\tG,T\t.\tMinAlt;Biallelic;MinCoverage\n",
      "Pf3D7_07_v3\t404336\t.\tT\tC\t.\tMinCoverage\n",
      "Pf3D7_07_v3\t404337\t.\tT\tA\t.\tMinCoverage\n",
      "Pf3D7_07_v3\t404343\t.\tA\tG\t.\tMinCoverage\n",
      "Pf3D7_07_v3\t404347\t.\tA\tG\t.\tMinAlt;MinCoverage\n",
      "Pf3D7_07_v3\t404349\t.\tA\tT\t.\tMinAlt;MinCoverage\n",
      "Pf3D7_07_v3\t404355\t.\tT\tA\t.\tMinCoverage\n",
      "Pf3D7_07_v3\t404359\t.\tG\tT\t.\tMinAlt;MinCoverage\n",
      "Pf3D7_07_v3\t404363\t.\tC\tA\t.\tMinAlt;MinCoverage\n",
      "Pf3D7_07_v3\t404369\t.\tA\tG\t.\tMinAlt;MinCoverage\n",
      "Pf3D7_07_v3\t404378\t.\tC\tA,G\t.\tMinAlt;Biallelic;MinCoverage\n",
      "Pf3D7_07_v3\t404383\t.\tA\tG\t.\tMinCoverage\n",
      "Pf3D7_07_v3\t404390\t.\tA\tG\t.\tMinAlt;MinCoverage\n",
      "Pf3D7_07_v3\t404401\t.\tA\tT\t.\tMinCoverage\n",
      "Pf3D7_07_v3\t404404\t.\tA\tG\t.\tMinAlt;MinCoverage\n",
      "Pf3D7_07_v3\t404405\t.\tG\tC\t.\tMinAlt;MinCoverage\n",
      "Pf3D7_07_v3\t404407\t.\tG\tT\t.\tMinCoverage\n"
     ]
    }
   ],
   "source": [
    "for vcf_fn in vcf_fns:\n",
    "    print(vcf_fn)\n",
    "    !tabix {vcf_fns[vcf_fn]} {exon4_coordinates} | cut -f 1-7"
   ]
  },
  {
   "cell_type": "code",
   "execution_count": 10,
   "metadata": {
    "collapsed": false
   },
   "outputs": [
    {
     "name": "stdout",
     "output_type": "stream",
     "text": [
      "Pf3k\n",
      "Pf3D7_07_v3\t404289\t.\tC\tT\t164.94\tLow_VQSLOD\n",
      "Pf3D7_07_v3\t404330\t.\tT\tC\t82978.88\tPASS\n",
      "Pf3D7_07_v3\t404336\t.\tT\tC\t3054.24\tPASS\n",
      "Pf3D7_07_v3\t404337\t.\tT\tA\t2029.09\tPASS\n",
      "Pf3D7_07_v3\t404383\t.\tA\tG\t810.06\tLow_VQSLOD\n",
      "Pf3D7_07_v3\t404401\t.\tA\tT\t4212.57\tPASS\n",
      "Pf3D7_07_v3\t404407\t.\tG\tT\t881859.89\tPASS\n",
      "Pf 5.0\n",
      "Pf3D7_07_v3\t404289\t.\tC\tT\t.\tMinCoverage\n",
      "Pf3D7_07_v3\t404311\t.\tG\tA,C\t.\tBiallelic;MinCoverage\n",
      "Pf3D7_07_v3\t404319\t.\tT\tC\t.\tMinCoverage\n",
      "Pf3D7_07_v3\t404330\t.\tT\tC\t.\tMinCoverage\n",
      "Pf3D7_07_v3\t404336\t.\tT\tC\t.\tMinCoverage\n",
      "Pf3D7_07_v3\t404337\t.\tT\tA\t.\tMinCoverage\n",
      "Pf3D7_07_v3\t404343\t.\tA\tG\t.\tMinCoverage\n",
      "Pf3D7_07_v3\t404355\t.\tT\tA\t.\tMinCoverage\n",
      "Pf3D7_07_v3\t404383\t.\tA\tG\t.\tMinCoverage\n",
      "Pf3D7_07_v3\t404401\t.\tA\tT\t.\tMinCoverage\n",
      "Pf3D7_07_v3\t404407\t.\tG\tT\t.\tMinCoverage\n"
     ]
    }
   ],
   "source": [
    "for vcf_fn in vcf_fns:\n",
    "    print(vcf_fn)\n",
    "    !tabix {vcf_fns[vcf_fn]} {exon4_coordinates} | grep -v MinAlt | cut -f 1-7"
   ]
  },
  {
   "cell_type": "code",
   "execution_count": 18,
   "metadata": {
    "collapsed": false
   },
   "outputs": [
    {
     "name": "stdout",
     "output_type": "stream",
     "text": [
      "\n",
      "\n",
      " Pf3D7_07_v3:404290-404310 Pf 5.0\n",
      "HS26_08036:5:2101:5661:41266#3\t163\tPf3D7_07_v3\t404213\t60\t100M\t=\t404325\t212\n",
      "HS26_08036:5:2214:16001:27203#3\t99\tPf3D7_07_v3\t404214\t60\t100M\t=\t404317\t203\n",
      "HS26_08036:5:2311:7862:29784#3\t163\tPf3D7_07_v3\t404215\t60\t100M\t=\t404276\t161\n",
      "HS26_08036:5:1312:10695:44272#3\t99\tPf3D7_07_v3\t404221\t60\t100M\t=\t404399\t270\n",
      "HS26_08036:5:1211:11701:54128#3\t99\tPf3D7_07_v3\t404222\t60\t100M\t=\t404341\t219\n",
      "HS26_08036:5:1210:4825:47637#3\t163\tPf3D7_07_v3\t404223\t60\t100M\t=\t404339\t216\n",
      "HS26_08036:5:2208:4197:61009#3\t163\tPf3D7_07_v3\t404226\t60\t100M\t=\t404297\t171\n",
      "HS26_08036:5:2215:4507:92511#3\t99\tPf3D7_07_v3\t404226\t60\t100M\t=\t404437\t274\n",
      "HS26_08036:5:2309:14775:26995#3\t99\tPf3D7_07_v3\t404227\t60\t100M\t=\t404364\t237\n",
      "HS26_08036:5:2211:11475:76156#3\t163\tPf3D7_07_v3\t404228\t60\t100M\t=\t404385\t247\n",
      "HS26_08036:5:1310:12221:91324#3\t99\tPf3D7_07_v3\t404237\t60\t100M\t=\t404331\t194\n",
      "HS26_08036:5:2214:13136:36085#3\t163\tPf3D7_07_v3\t404238\t60\t100M\t=\t404449\t311\n",
      "HS26_08036:5:1314:17837:12566#3\t145\tPf3D7_07_v3\t404238\t60\t100M\t=\t847737\t443399\n",
      "HS26_08036:5:2113:13361:99320#3\t163\tPf3D7_07_v3\t404241\t60\t100M\t=\t404398\t249\n",
      "HS26_08036:5:2207:8995:97923#3\t99\tPf3D7_07_v3\t404244\t60\t100M\t=\t404352\t208\n",
      "HS26_08036:5:2208:11502:8368#3\t163\tPf3D7_07_v3\t404254\t60\t100M\t=\t404328\t174\n",
      "HS26_08036:5:2301:1897:48861#3\t163\tPf3D7_07_v3\t404254\t60\t100M\t=\t404346\t192\n",
      "HS26_08036:5:1315:5245:84031#3\t99\tPf3D7_07_v3\t404261\t60\t100M\t=\t404346\t185\n",
      "HS26_08036:5:2210:20345:41045#3\t163\tPf3D7_07_v3\t404263\t60\t100M\t=\t404358\t195\n",
      "HS26_08036:5:2114:20268:83520#3\t99\tPf3D7_07_v3\t404266\t60\t100M\t=\t404342\t176\n",
      "HS26_08036:5:2311:7862:29784#3\t83\tPf3D7_07_v3\t404276\t60\t100M\t=\t404215\t-161\n",
      "HS26_08036:5:1210:19715:76111#3\t97\tPf3D7_07_v3\t404278\t60\t100M\tPf3D7_11_v3\t1704189\t0\n",
      "HS26_08036:5:1214:17081:59928#3\t163\tPf3D7_07_v3\t404278\t60\t100M\t=\t404445\t265\n",
      "HS26_08036:5:2104:17115:34218#3\t163\tPf3D7_07_v3\t404284\t60\t100M\t=\t404414\t222\n",
      "\n",
      "\n",
      " Pf3D7_07_v3:404290-404310 Pf 5.0\n",
      "HS26_08036:8:1307:3401:87753#38\t163\tPf3D7_07_v3\t404211\t60\t100M\t=\t404332\t221\n",
      "HS26_08036:8:2202:5724:4082#38\t163\tPf3D7_07_v3\t404211\t60\t100M\t=\t404288\t177\n",
      "HS26_08036:8:1115:1244:45494#38\t163\tPf3D7_07_v3\t404212\t60\t100M\t=\t404356\t244\n",
      "HS26_08036:8:1116:11486:26740#38\t163\tPf3D7_07_v3\t404235\t60\t100M\t=\t404356\t221\n",
      "HS26_08036:8:2213:20964:89534#38\t163\tPf3D7_07_v3\t404241\t60\t100M\t=\t404317\t176\n",
      "HS26_08036:8:2210:8577:57137#38\t163\tPf3D7_07_v3\t404247\t60\t100M\t=\t404316\t169\n",
      "HS26_08036:8:2208:21259:70044#38\t99\tPf3D7_07_v3\t404255\t60\t100M\t=\t404357\t202\n",
      "HS26_08036:8:1116:16370:77920#38\t163\tPf3D7_07_v3\t404256\t60\t100M\t=\t404432\t270\n",
      "HS26_08036:8:2205:16077:72844#38\t163\tPf3D7_07_v3\t404256\t60\t100M\t=\t404342\t186\n",
      "HS26_08036:8:2115:20208:65405#38\t163\tPf3D7_07_v3\t404259\t60\t100M\t=\t404463\t303\n",
      "HS26_08036:8:2112:13901:55475#38\t163\tPf3D7_07_v3\t404260\t60\t100M\t=\t404429\t244\n",
      "HS26_08036:8:2115:11569:63831#38\t99\tPf3D7_07_v3\t404269\t60\t100M\t=\t404330\t161\n",
      "HS26_08036:8:1114:9884:42073#38\t177\tPf3D7_07_v3\t404271\t60\t100M\tPf3D7_13_v3\t517588\t0\n",
      "HS26_08036:8:2212:4293:57283#38\t163\tPf3D7_07_v3\t404275\t60\t100M\t=\t404509\t336\n",
      "HS26_08036:8:1113:7174:97009#38\t99\tPf3D7_07_v3\t404280\t60\t100M\t=\t404342\t162\n",
      "HS26_08036:8:1114:19843:60873#38\t129\tPf3D7_07_v3\t404283\t60\t100M\tPf3D7_13_v3\t1727048\t0\n",
      "HS26_08036:8:2202:5724:4082#38\t83\tPf3D7_07_v3\t404288\t60\t100M\t=\t404211\t-177\n",
      "\n",
      "\n",
      " Pf3D7_07_v3:404290-404310 Pf 5.0\n",
      "HS26_08036:5:2101:5661:41266#3\t163\tPf3D7_07_v3\t404213\t60\t100M\t=\t404325\t212\n",
      "HS26_08036:5:2214:16001:27203#3\t99\tPf3D7_07_v3\t404214\t60\t100M\t=\t404317\t203\n",
      "HS26_08036:5:2311:7862:29784#3\t163\tPf3D7_07_v3\t404215\t60\t100M\t=\t404276\t161\n",
      "HS26_08036:5:1312:10695:44272#3\t99\tPf3D7_07_v3\t404221\t29\t100M\t=\t404399\t270\n",
      "HS26_08036:5:1211:11701:54128#3\t99\tPf3D7_07_v3\t404222\t60\t100M\t=\t404341\t219\n",
      "HS26_08036:5:1210:4825:47637#3\t163\tPf3D7_07_v3\t404223\t60\t100M\t=\t404339\t216\n",
      "HS26_08036:5:2208:4197:61009#3\t163\tPf3D7_07_v3\t404226\t60\t100M\t=\t404297\t171\n",
      "HS26_08036:5:2215:4507:92511#3\t99\tPf3D7_07_v3\t404226\t29\t100M\t=\t404429\t274\n",
      "HS26_08036:5:2309:14775:26995#3\t99\tPf3D7_07_v3\t404227\t60\t100M\t=\t404364\t237\n",
      "HS26_08036:5:2211:11475:76156#3\t163\tPf3D7_07_v3\t404228\t29\t100M\t=\t404388\t254\n",
      "HS26_08036:5:1310:12221:91324#3\t99\tPf3D7_07_v3\t404237\t60\t100M\t=\t404331\t194\n",
      "HS26_08036:5:2214:13136:36085#3\t163\tPf3D7_07_v3\t404238\t60\t100M\t=\t404449\t311\n",
      "HS26_08036:5:1314:17837:12566#3\t147\tPf3D7_07_v3\t404238\t29\t100M\t=\t404138\t-200\n",
      "HS26_08036:5:2113:13361:99320#3\t163\tPf3D7_07_v3\t404241\t29\t100M\t=\t404398\t249\n",
      "HS26_08036:5:2207:8995:97923#3\t99\tPf3D7_07_v3\t404244\t60\t100M\t=\t404352\t208\n",
      "HS26_08036:5:2208:11502:8368#3\t163\tPf3D7_07_v3\t404254\t60\t100M\t=\t404328\t174\n",
      "HS26_08036:5:2301:1897:48861#3\t163\tPf3D7_07_v3\t404254\t60\t100M\t=\t404346\t192\n",
      "HS26_08036:5:1315:5245:84031#3\t99\tPf3D7_07_v3\t404261\t60\t100M\t=\t404346\t185\n",
      "HS26_08036:5:2210:20345:41045#3\t163\tPf3D7_07_v3\t404263\t60\t100M\t=\t404358\t195\n",
      "HS26_08036:5:2114:20268:83520#3\t99\tPf3D7_07_v3\t404266\t60\t100M\t=\t404342\t176\n",
      "HS26_08036:5:2311:7862:29784#3\t83\tPf3D7_07_v3\t404276\t60\t100M\t=\t404215\t-161\n",
      "HS26_08036:5:1210:19715:76111#3\t99\tPf3D7_07_v3\t404278\t29\t100M\t=\t404382\t191\n",
      "HS26_08036:5:1214:17081:59928#3\t163\tPf3D7_07_v3\t404278\t60\t100M\t=\t404443\t265\n",
      "HS26_08036:5:2104:17115:34218#3\t163\tPf3D7_07_v3\t404284\t29\t100M\t=\t404414\t222\n",
      "\n",
      "\n",
      " Pf3D7_07_v3:404290-404310 Pf 5.0\n",
      "HS26_08036:8:1307:3401:87753#38\t163\tPf3D7_07_v3\t404211\t60\t100M\t=\t404332\t221\n",
      "HS26_08036:8:2202:5724:4082#38\t163\tPf3D7_07_v3\t404211\t60\t100M\t=\t404288\t177\n",
      "HS26_08036:8:1115:1244:45494#38\t163\tPf3D7_07_v3\t404212\t60\t100M\t=\t404356\t244\n",
      "HS26_08036:8:1116:11486:26740#38\t163\tPf3D7_07_v3\t404235\t60\t100M\t=\t404356\t221\n",
      "HS26_08036:8:2213:20964:89534#38\t163\tPf3D7_07_v3\t404241\t60\t100M\t=\t404317\t176\n",
      "HS26_08036:8:2210:8577:57137#38\t163\tPf3D7_07_v3\t404247\t60\t100M\t=\t404316\t169\n",
      "HS26_08036:8:2208:21259:70044#38\t99\tPf3D7_07_v3\t404255\t60\t100M\t=\t404357\t202\n",
      "HS26_08036:8:1116:16370:77920#38\t163\tPf3D7_07_v3\t404256\t60\t100M\t=\t404428\t270\n",
      "HS26_08036:8:2205:16077:72844#38\t163\tPf3D7_07_v3\t404256\t60\t100M\t=\t404342\t186\n",
      "HS26_08036:8:2115:20208:65405#38\t163\tPf3D7_07_v3\t404259\t60\t100M\t=\t404463\t303\n",
      "HS26_08036:8:2112:13901:55475#38\t163\tPf3D7_07_v3\t404260\t29\t100M\t=\t404429\t244\n",
      "HS26_08036:8:2115:11569:63831#38\t99\tPf3D7_07_v3\t404269\t60\t100M\t=\t404330\t161\n",
      "HS26_08036:8:1114:9884:42073#38\t147\tPf3D7_07_v3\t404271\t29\t100M\t=\t404169\t-202\n",
      "HS26_08036:8:2212:4293:57283#38\t163\tPf3D7_07_v3\t404275\t60\t100M\t=\t404509\t336\n",
      "HS26_08036:8:1113:7174:97009#38\t99\tPf3D7_07_v3\t404280\t60\t100M\t=\t404342\t162\n",
      "HS26_08036:8:1114:19843:60873#38\t163\tPf3D7_07_v3\t404283\t29\t100M\t=\t404394\t206\n",
      "HS26_08036:8:2202:5724:4082#38\t83\tPf3D7_07_v3\t404288\t60\t100M\t=\t404211\t-177\n",
      "\n",
      "\n",
      " Pf3D7_07_v3:404356-404376 Pf 5.0\n",
      "HS26_08036:5:1210:19715:76111#3\t97\tPf3D7_07_v3\t404278\t60\t100M\tPf3D7_11_v3\t1704189\t0\n",
      "HS26_08036:5:1214:17081:59928#3\t163\tPf3D7_07_v3\t404278\t60\t100M\t=\t404445\t265\n",
      "HS26_08036:5:2104:17115:34218#3\t163\tPf3D7_07_v3\t404284\t60\t100M\t=\t404414\t222\n",
      "HS26_08036:5:2208:4197:61009#3\t83\tPf3D7_07_v3\t404297\t60\t100M\t=\t404226\t-171\n",
      "HS26_08036:5:2213:18084:41723#3\t99\tPf3D7_07_v3\t404304\t60\t100M\t=\t404441\t229\n",
      "HS26_08036:5:1116:6985:90363#3\t81\tPf3D7_07_v3\t404317\t60\t100M\tPf3D7_14_v3\t2892777\t0\n",
      "HS26_08036:5:2214:16001:27203#3\t147\tPf3D7_07_v3\t404317\t60\t100M\t=\t404214\t-203\n",
      "HS26_08036:5:1302:6182:11917#3\t99\tPf3D7_07_v3\t404325\t60\t100M\t=\t404336\t111\n",
      "HS26_08036:5:2101:5661:41266#3\t83\tPf3D7_07_v3\t404325\t60\t100M\t=\t404213\t-212\n",
      "HS26_08036:5:2204:16405:33165#3\t99\tPf3D7_07_v3\t404328\t60\t100M\t=\t404415\t179\n",
      "HS26_08036:5:2208:11502:8368#3\t83\tPf3D7_07_v3\t404328\t60\t100M\t=\t404254\t-174\n",
      "HS26_08036:5:1310:12221:91324#3\t147\tPf3D7_07_v3\t404331\t60\t100M\t=\t404237\t-194\n",
      "HS26_08036:5:1302:6182:11917#3\t147\tPf3D7_07_v3\t404336\t60\t100M\t=\t404325\t-111\n",
      "HS26_08036:5:1210:4825:47637#3\t83\tPf3D7_07_v3\t404339\t60\t100M\t=\t404223\t-216\n",
      "HS26_08036:5:1211:11701:54128#3\t147\tPf3D7_07_v3\t404341\t60\t100M\t=\t404222\t-219\n",
      "HS26_08036:5:1315:5245:84031#3\t147\tPf3D7_07_v3\t404346\t60\t100M\t=\t404261\t-185\n",
      "HS26_08036:5:2301:1897:48861#3\t83\tPf3D7_07_v3\t404346\t60\t100M\t=\t404254\t-192\n",
      "HS26_08036:5:2207:8995:97923#3\t147\tPf3D7_07_v3\t404352\t60\t100M\t=\t404244\t-208\n",
      "HS26_08036:5:2315:13156:60561#3\t163\tPf3D7_07_v3\t404355\t60\t100M\t=\t404445\t187\n",
      "\n",
      "\n",
      " Pf3D7_07_v3:404356-404376 Pf 5.0\n",
      "HS26_08036:8:1113:7174:97009#38\t99\tPf3D7_07_v3\t404280\t60\t100M\t=\t404342\t162\n",
      "HS26_08036:8:1114:19843:60873#38\t129\tPf3D7_07_v3\t404283\t60\t100M\tPf3D7_13_v3\t1727048\t0\n",
      "HS26_08036:8:2202:5724:4082#38\t83\tPf3D7_07_v3\t404288\t60\t100M\t=\t404211\t-177\n",
      "HS26_08036:8:2212:6623:26735#38\t163\tPf3D7_07_v3\t404299\t60\t100M\t=\t404454\t256\n",
      "HS26_08036:8:1116:12063:6050#38\t99\tPf3D7_07_v3\t404310\t60\t100M\t=\t404418\t200\n",
      "HS26_08036:8:2108:15389:42545#38\t163\tPf3D7_07_v3\t404315\t60\t100M\t=\t404437\t194\n",
      "HS26_08036:8:2210:8577:57137#38\t83\tPf3D7_07_v3\t404316\t60\t100M\t=\t404247\t-169\n",
      "HS26_08036:8:2213:20964:89534#38\t83\tPf3D7_07_v3\t404317\t60\t100M\t=\t404241\t-176\n",
      "HS26_08036:8:1214:5051:26037#38\t99\tPf3D7_07_v3\t404320\t60\t100M\t=\t404477\t257\n",
      "HS26_08036:8:2115:11569:63831#38\t147\tPf3D7_07_v3\t404330\t60\t100M\t=\t404269\t-161\n",
      "HS26_08036:8:1307:3401:87753#38\t83\tPf3D7_07_v3\t404332\t60\t100M\t=\t404211\t-221\n",
      "HS26_08036:8:1116:5109:12554#38\t163\tPf3D7_07_v3\t404334\t60\t100M\t=\t404497\t264\n",
      "HS26_08036:8:1114:15674:13714#38\t163\tPf3D7_07_v3\t404338\t60\t100M\t=\t404535\t297\n",
      "HS26_08036:8:1116:10027:78837#38\t99\tPf3D7_07_v3\t404339\t60\t100M\t=\t404534\t249\n",
      "HS26_08036:8:1113:7174:97009#38\t147\tPf3D7_07_v3\t404342\t60\t100M\t=\t404280\t-162\n",
      "HS26_08036:8:2205:16077:72844#38\t83\tPf3D7_07_v3\t404342\t60\t100M\t=\t404256\t-186\n",
      "HS26_08036:8:1115:1244:45494#38\t83\tPf3D7_07_v3\t404356\t60\t100M\t=\t404212\t-244\n",
      "HS26_08036:8:1116:11486:26740#38\t83\tPf3D7_07_v3\t404356\t60\t100M\t=\t404235\t-221\n",
      "\n",
      "\n",
      " Pf3D7_07_v3:404356-404376 Pf 5.0\n",
      "HS26_08036:5:1210:19715:76111#3\t99\tPf3D7_07_v3\t404278\t29\t100M\t=\t404382\t191\n",
      "HS26_08036:5:1214:17081:59928#3\t163\tPf3D7_07_v3\t404278\t60\t100M\t=\t404443\t265\n",
      "HS26_08036:5:2104:17115:34218#3\t163\tPf3D7_07_v3\t404284\t29\t100M\t=\t404414\t222\n",
      "HS26_08036:5:2208:4197:61009#3\t83\tPf3D7_07_v3\t404297\t60\t100M\t=\t404226\t-171\n",
      "HS26_08036:5:2213:18084:41723#3\t99\tPf3D7_07_v3\t404304\t60\t100M\t=\t404433\t229\n",
      "HS26_08036:5:1116:6985:90363#3\t83\tPf3D7_07_v3\t404317\t29\t100M\t=\t404172\t-245\n",
      "HS26_08036:5:2214:16001:27203#3\t147\tPf3D7_07_v3\t404317\t60\t100M\t=\t404214\t-203\n",
      "HS26_08036:5:1302:6182:11917#3\t99\tPf3D7_07_v3\t404325\t60\t100M\t=\t404336\t111\n",
      "HS26_08036:5:2101:5661:41266#3\t83\tPf3D7_07_v3\t404325\t60\t100M\t=\t404213\t-212\n",
      "HS26_08036:5:2204:16405:33165#3\t99\tPf3D7_07_v3\t404328\t29\t100M\t=\t404428\t179\n",
      "HS26_08036:5:2208:11502:8368#3\t83\tPf3D7_07_v3\t404328\t60\t100M\t=\t404254\t-174\n",
      "HS26_08036:5:1310:12221:91324#3\t147\tPf3D7_07_v3\t404331\t60\t100M\t=\t404237\t-194\n",
      "HS26_08036:5:1302:6182:11917#3\t147\tPf3D7_07_v3\t404336\t60\t100M\t=\t404325\t-111\n",
      "HS26_08036:5:1210:4825:47637#3\t83\tPf3D7_07_v3\t404339\t60\t100M\t=\t404223\t-216\n",
      "HS26_08036:5:1211:11701:54128#3\t147\tPf3D7_07_v3\t404341\t60\t100M\t=\t404222\t-219\n",
      "HS26_08036:5:2301:1897:48861#3\t83\tPf3D7_07_v3\t404346\t60\t100M\t=\t404254\t-192\n",
      "HS26_08036:5:1315:5245:84031#3\t147\tPf3D7_07_v3\t404346\t60\t100M\t=\t404261\t-185\n",
      "HS26_08036:5:2207:8995:97923#3\t147\tPf3D7_07_v3\t404352\t60\t100M\t=\t404244\t-208\n",
      "HS26_08036:5:2315:13156:60561#3\t163\tPf3D7_07_v3\t404355\t60\t100M\t=\t404442\t187\n",
      "\n",
      "\n",
      " Pf3D7_07_v3:404356-404376 Pf 5.0\n",
      "HS26_08036:8:1113:7174:97009#38\t99\tPf3D7_07_v3\t404280\t60\t100M\t=\t404342\t162\n",
      "HS26_08036:8:1114:19843:60873#38\t163\tPf3D7_07_v3\t404283\t29\t100M\t=\t404394\t206\n",
      "HS26_08036:8:2202:5724:4082#38\t83\tPf3D7_07_v3\t404288\t60\t100M\t=\t404211\t-177\n",
      "HS26_08036:8:2212:6623:26735#38\t163\tPf3D7_07_v3\t404299\t60\t100M\t=\t404454\t255\n",
      "HS26_08036:8:1116:12063:6050#38\t99\tPf3D7_07_v3\t404310\t29\t100M\t=\t404418\t200\n",
      "HS26_08036:8:2108:15389:42545#38\t163\tPf3D7_07_v3\t404315\t29\t100M\t=\t404429\t194\n",
      "HS26_08036:8:2210:8577:57137#38\t83\tPf3D7_07_v3\t404316\t60\t100M\t=\t404247\t-169\n",
      "HS26_08036:8:2213:20964:89534#38\t83\tPf3D7_07_v3\t404317\t60\t100M\t=\t404241\t-176\n",
      "HS26_08036:8:1214:5051:26037#38\t99\tPf3D7_07_v3\t404320\t29\t100M\t=\t404477\t257\n",
      "HS26_08036:8:2115:11569:63831#38\t147\tPf3D7_07_v3\t404330\t60\t100M\t=\t404269\t-161\n",
      "HS26_08036:8:1307:3401:87753#38\t83\tPf3D7_07_v3\t404332\t60\t100M\t=\t404211\t-221\n",
      "HS26_08036:8:1116:5109:12554#38\t163\tPf3D7_07_v3\t404334\t29\t100M\t=\t404497\t263\n",
      "HS26_08036:8:1114:15674:13714#38\t163\tPf3D7_07_v3\t404338\t60\t100M\t=\t404536\t297\n",
      "HS26_08036:8:1116:10027:78837#38\t99\tPf3D7_07_v3\t404339\t29\t100M\t=\t404487\t249\n",
      "HS26_08036:8:1113:7174:97009#38\t147\tPf3D7_07_v3\t404342\t60\t100M\t=\t404280\t-162\n",
      "HS26_08036:8:2205:16077:72844#38\t83\tPf3D7_07_v3\t404342\t60\t100M\t=\t404256\t-186\n",
      "HS26_08036:8:1115:1244:45494#38\t83\tPf3D7_07_v3\t404356\t60\t100M\t=\t404212\t-244\n",
      "HS26_08036:8:1116:11486:26740#38\t83\tPf3D7_07_v3\t404356\t60\t100M\t=\t404235\t-221\n"
     ]
    }
   ],
   "source": [
    "for seed in seeds:\n",
    "    for bam_fn in bam_fns:\n",
    "        print('\\n\\n', seed, bam_fn)\n",
    "        seed_sequence = \"'%s|%s'\" % (\n",
    "            seeds[seed],\n",
    "            Seq(seeds[seed]).reverse_complement()\n",
    "        )\n",
    "        !samtools view {bam_fns[bam_fn]} | grep -E {seed_sequence} | cut -f 1-9\n",
    "    "
   ]
  },
  {
   "cell_type": "code",
   "execution_count": 19,
   "metadata": {
    "collapsed": false
   },
   "outputs": [
    {
     "name": "stdout",
     "output_type": "stream",
     "text": [
      "\n",
      "\n",
      " Pf3D7_07_v3:404290-404310 PD0479-C Pf3k\n",
      "\n",
      "\n",
      " Pf3D7_07_v3:404290-404310 PD0471-C Pf3k\n",
      "\n",
      "\n",
      " Pf3D7_07_v3:404290-404310 PD0479-C Pf 5.0\n",
      "\n",
      "\n",
      " Pf3D7_07_v3:404290-404310 PD0471-C Pf 5.0\n",
      "\n",
      "\n",
      " Pf3D7_07_v3:404356-404376 PD0479-C Pf3k\n",
      "\n",
      "\n",
      " Pf3D7_07_v3:404356-404376 PD0471-C Pf3k\n",
      "\n",
      "\n",
      " Pf3D7_07_v3:404356-404376 PD0479-C Pf 5.0\n",
      "\n",
      "\n",
      " Pf3D7_07_v3:404356-404376 PD0471-C Pf 5.0\n"
     ]
    }
   ],
   "source": [
    "for seed in seeds:\n",
    "    for bam_fn in bam_fns:\n",
    "        print('\\n\\n', seed, bam_fn)\n",
    "        seed_sequence = \"'%s|%s'\" % (\n",
    "            seeds[seed],\n",
    "            Seq(seeds[seed]).reverse_complement()\n",
    "        )\n",
    "        !samtools view -f 4 {bam_fns[bam_fn]} | grep -E {seed_sequence} | cut -f 1-9\n",
    "    "
   ]
  },
  {
   "cell_type": "markdown",
   "metadata": {},
   "source": [
    "# Conclusion\n",
    "It seems that we really do only see reads with seed sequences where the mate maps to the right of the seed. There must be some bias against fragments where the mate would expect to map to the left, or at the very least, either the mate or even both reads don't map. Presumably something to do with the very high AT content (100% AT for 130+ bases) in the intron to the left.\n",
    "\n",
    "I didn't go into looking at Thomas assemblies, as don't think sequence variation in the intron is relevant after all.\n"
   ]
  },
  {
   "cell_type": "code",
   "execution_count": null,
   "metadata": {
    "collapsed": true
   },
   "outputs": [],
   "source": []
  }
 ],
 "metadata": {
  "kernelspec": {
   "display_name": "Python 3",
   "language": "python",
   "name": "python3"
  },
  "language_info": {
   "codemirror_mode": {
    "name": "ipython",
    "version": 3
   },
   "file_extension": ".py",
   "mimetype": "text/x-python",
   "name": "python",
   "nbconvert_exporter": "python",
   "pygments_lexer": "ipython3",
   "version": "3.4.3"
  }
 },
 "nbformat": 4,
 "nbformat_minor": 0
}
