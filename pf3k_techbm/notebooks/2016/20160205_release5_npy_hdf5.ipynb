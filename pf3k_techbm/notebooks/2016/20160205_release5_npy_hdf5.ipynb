{
 "cells": [
  {
   "cell_type": "markdown",
   "metadata": {},
   "source": [
    "# Introduction\n",
    "I originally started doing this on my Macbook with notebook 20160203_release5_npy_hdf5. I then discovered the\n",
    "bug I had introduced into the release5 build by not using --ignore_all_filters in ApplyRecalibration\n",
    "\n",
    "After rebuilding release5 on malsrv2/farm3 (see 20160204_create_release_5_farm.ipynb), I decided to create the various\n",
    "vcf, npy and hdf5 files also on malsrv2\n",
    "# Plan\n",
    "- Create new WG vcf\n",
    "- Create npy and hdf5 files for release5\n",
    "    - Create mixtures and crosses specific vcfs\n",
    "    - Create biallelic versions of the above\n",
    "    - Create WG npy variants and 2d calldata files for these 4 vcfs\n",
    "    - Create sites only vcf\n",
    "    - Create npy WG variants files\n",
    "    - Create chrom npy variants and calldata files\n",
    "    - Create HDF5 file"
   ]
  },
  {
   "cell_type": "markdown",
   "metadata": {},
   "source": [
    "# Setup"
   ]
  },
  {
   "cell_type": "code",
   "execution_count": 2,
   "metadata": {
    "collapsed": false
   },
   "outputs": [],
   "source": [
    "%run imports.ipynb\n",
    "%run _shared_setup.ipynb"
   ]
  },
  {
   "cell_type": "code",
   "execution_count": 3,
   "metadata": {
    "collapsed": true
   },
   "outputs": [],
   "source": [
    "release5_final_files_dir = '/nfs/team112_internal/production/release_build/Pf3K/pilot_5_0'"
   ]
  },
  {
   "cell_type": "code",
   "execution_count": 4,
   "metadata": {
    "collapsed": true
   },
   "outputs": [],
   "source": [
    "bcftools=\"/nfs/team112_internal/production/tools/bin/bcftools_git\""
   ]
  },
  {
   "cell_type": "code",
   "execution_count": 5,
   "metadata": {
    "collapsed": false
   },
   "outputs": [],
   "source": [
    "mixtures_ids = np.array([\"PG%04d-C\" % n for n in range(389, 416)])\n",
    "crosses_fns = ['../../meta/crosses_samples_%s.txt' % x for x in ['3D7xHB3', 'HB3xDd2', '7G8xGB4']]\n",
    "crosses_samples = (etl\n",
    "    .fromtsv(crosses_fns[0])\n",
    "    .cat(etl.fromtsv(crosses_fns[1]))\n",
    "    .cat(etl.fromtsv(crosses_fns[2]))\n",
    "    .convert('sample', 'replace', 'PG0083-C', '7G8')\n",
    "    .convert('sample', 'replace', 'PG0084-C', 'GB4')\n",
    "    .sort('sample')\n",
    "#     .convert('sample', '7G8', where=lambda rec: rec['sample'] == 'PG0083-C')\n",
    "#     .convert('sample', 'GB4', where=lambda rec: rec['sample'] == 'PG0084-C')\n",
    ")\n",
    "crosses_ids = crosses_samples.values('sample').array()"
   ]
  },
  {
   "cell_type": "code",
   "execution_count": 6,
   "metadata": {
    "collapsed": false
   },
   "outputs": [
    {
     "data": {
      "text/plain": [
       "array(['7G8', 'GB4', 'PG0004-CW', 'PG0008-CW', 'PG0015-C', 'PG0016-C',\n",
       "       'PG0017-C', 'PG0018-C', 'PG0019-C', 'PG0020-C', 'PG0021-C',\n",
       "       'PG0022-Cx', 'PG0023-C', 'PG0024-C', 'PG0025-C', 'PG0026-C',\n",
       "       'PG0027-C', 'PG0028-C', 'PG0029-Cx', 'PG0030-C', 'PG0031-C',\n",
       "       'PG0032-Cx', 'PG0033-Cx', 'PG0034-C', 'PG0035-Cx', 'PG0036-C',\n",
       "       'PG0037-C', 'PG0038-C', 'PG0039-C', 'PG0040-Cx', 'PG0041-C',\n",
       "       'PG0042-C', 'PG0043-C', 'PG0044-C', 'PG0045-C', 'PG0046-Cx',\n",
       "       'PG0047-C', 'PG0048-C', 'PG0051-C', 'PG0052-C', 'PG0053-C',\n",
       "       'PG0054-C', 'PG0055-C', 'PG0056-C', 'PG0057-C', 'PG0058-C',\n",
       "       'PG0060-C', 'PG0061-C', 'PG0062-C', 'PG0063-C', 'PG0064-C',\n",
       "       'PG0065-C', 'PG0066-C', 'PG0067-C', 'PG0068-C', 'PG0069-C',\n",
       "       'PG0070-C', 'PG0071-C', 'PG0072-C', 'PG0074-C', 'PG0077-CW',\n",
       "       'PG0078-C', 'PG0078-CW', 'PG0079-C', 'PG0079-CW', 'PG0080-C',\n",
       "       'PG0081-CW', 'PG0082-C', 'PG0085-C', 'PG0086-C', 'PG0086-CW',\n",
       "       'PG0087-C', 'PG0088-C', 'PG0091-C', 'PG0093-C', 'PG0094-CW',\n",
       "       'PG0095-C', 'PG0095-CW', 'PG0096-C', 'PG0097-C', 'PG0098-C',\n",
       "       'PG0099-C', 'PG0100-C', 'PG0100-CW', 'PG0102-C', 'PG0102-CW',\n",
       "       'PG0103-CW', 'PG0104-C', 'PG0104-CW', 'PG0105-C', 'PG0105-CW',\n",
       "       'PG0106-C', 'PG0107-C', 'PG0109-C', 'PG0111-C', 'PG0111-CW',\n",
       "       'PG0112-C', 'PG0112-CW'], \n",
       "      dtype='<U9')"
      ]
     },
     "execution_count": 6,
     "metadata": {},
     "output_type": "execute_result"
    }
   ],
   "source": [
    "crosses_ids"
   ]
  },
  {
   "cell_type": "markdown",
   "metadata": {},
   "source": [
    "# Create files"
   ]
  },
  {
   "cell_type": "code",
   "execution_count": 7,
   "metadata": {
    "collapsed": true
   },
   "outputs": [],
   "source": [
    "# Create WG VCF file\n",
    "input_files = ' '.join(\n",
    "    [\"%s/SNP_INDEL_%s.combined.filtered.vcf.gz\" % (release5_final_files_dir, chrom) for chrom in CHROM_VCF_FNS['interim5'].keys()]\n",
    ")\n",
    "output_vcf_fn = \"%s/SNP_INDEL_WG.combined.filtered.vcf.gz\" % (release5_final_files_dir)\n",
    "if not os.path.exists(output_vcf_fn):\n",
    "    !{bcftools} concat --output-type z --output {output_vcf_fn} {input_files}\n",
    "    !{bcftools} index --tbi {output_vcf_fn}\n"
   ]
  },
  {
   "cell_type": "code",
   "execution_count": 8,
   "metadata": {
    "collapsed": true
   },
   "outputs": [],
   "source": [
    "wg_vcf_fn = \"%s/SNP_INDEL_WG.combined.filtered.vcf.gz\" % (release5_final_files_dir)"
   ]
  },
  {
   "cell_type": "code",
   "execution_count": 9,
   "metadata": {
    "collapsed": false
   },
   "outputs": [],
   "source": [
    "# Create mixtures and crosses vcfs\n",
    "mixtures_samples = ','.join(mixtures_ids)\n",
    "crosses_samples = ','.join(crosses_ids)\n",
    "\n",
    "mixtures_vcf_fn = wg_vcf_fn.replace('filtered', 'filtered.mixtures')\n",
    "mixtures_biallelic_vcf_fn = wg_vcf_fn.replace('filtered', 'filtered.mixtures_biallelic')\n",
    "crosses_vcf_fn = wg_vcf_fn.replace('filtered', 'filtered.crosses')\n",
    "crosses_biallelic_vcf_fn = wg_vcf_fn.replace('filtered', 'filtered.crosses_biallelic')\n",
    "\n",
    "if not os.path.exists(mixtures_vcf_fn):\n",
    "    !{bcftools} view -Oz -o {mixtures_vcf_fn} -s {mixtures_samples} {wg_vcf_fn}\n",
    "    !{bcftools} index --tbi {mixtures_vcf_fn}\n",
    "\n",
    "if not os.path.exists(mixtures_biallelic_vcf_fn):\n",
    "    !{bcftools} view -Ou -s {mixtures_samples} {wg_vcf_fn} | {bcftools} norm -m -any -Oz -o {mixtures_biallelic_vcf_fn}\n",
    "    !{bcftools} index --tbi {mixtures_biallelic_vcf_fn}\n",
    "\n",
    "if not os.path.exists(crosses_vcf_fn):\n",
    "    !{bcftools} view -Oz -o {crosses_vcf_fn} -s {crosses_samples} {wg_vcf_fn}\n",
    "    !{bcftools} index --tbi {crosses_vcf_fn}\n",
    "\n",
    "if not os.path.exists(crosses_biallelic_vcf_fn):\n",
    "    !{bcftools} view -Ou -s {crosses_samples} {wg_vcf_fn} | {bcftools} norm -m -any -Oz -o {crosses_biallelic_vcf_fn}\n",
    "    !{bcftools} index --tbi {crosses_biallelic_vcf_fn}\n"
   ]
  },
  {
   "cell_type": "code",
   "execution_count": 10,
   "metadata": {
    "collapsed": true
   },
   "outputs": [],
   "source": [
    "def create_variants_npy(vcf_fn=mixtures_vcf_fn, max_alleles=7, rewrite=False):\n",
    "    output_dir = '%s.vcfnp_cache' % vcf_fn\n",
    "    print(output_dir)\n",
    "    if not os.path.exists(output_dir):\n",
    "        os.makedirs(output_dir)\n",
    "    if rewrite or not os.path.exists(\"%s/variants.npy\" % output_dir):\n",
    "        vcfnp.variants(\n",
    "            vcf_fn,\n",
    "            dtypes={\n",
    "                'REF':                      'a10',\n",
    "                'ALT':                      'a10',\n",
    "                'RegionType':               'a25',\n",
    "                'VariantType':              'a40',\n",
    "                'RU':                       'a40',\n",
    "                'set':                      'a40',\n",
    "                'SNPEFF_AMINO_ACID_CHANGE': 'a20',\n",
    "                'SNPEFF_CODON_CHANGE':      'a20',\n",
    "                'SNPEFF_EFFECT':            'a33',\n",
    "                'SNPEFF_EXON_ID':            'a2',\n",
    "                'SNPEFF_FUNCTIONAL_CLASS':   'a8',\n",
    "                'SNPEFF_GENE_BIOTYPE':      'a14',\n",
    "                'SNPEFF_GENE_NAME':         'a20',\n",
    "                'SNPEFF_IMPACT':             'a8',\n",
    "                'SNPEFF_TRANSCRIPT_ID':     'a20',\n",
    "                'culprit':                  'a14',\n",
    "            },\n",
    "            arities={\n",
    "                'ALT':   max_alleles - 1,\n",
    "                'AF':    max_alleles - 1,\n",
    "                'AC':    max_alleles - 1,\n",
    "                'MLEAF': max_alleles - 1,\n",
    "                'MLEAC': max_alleles - 1,\n",
    "                'RPA':   max_alleles,\n",
    "                'ANN':   1,\n",
    "            },\n",
    "            fills={\n",
    "                'VQSLOD': np.nan,\n",
    "                'QD': np.nan,\n",
    "                'MQ': np.nan,\n",
    "                'MQRankSum': np.nan,\n",
    "                'ReadPosRankSum': np.nan,\n",
    "                'FS': np.nan,\n",
    "                'SOR': np.nan,\n",
    "                'DP': np.nan,\n",
    "            },\n",
    "            flatten_filter=True,\n",
    "            verbose=False,\n",
    "            cache=True,\n",
    "            cachedir=output_dir\n",
    "        )\n",
    "\n",
    "def create_calldata_npy(vcf_fn=mixtures_vcf_fn, max_alleles=7, rewrite=False):\n",
    "    output_dir = '%s.vcfnp_cache' % vcf_fn\n",
    "    print(output_dir)\n",
    "    if not os.path.exists(output_dir):\n",
    "        os.makedirs(output_dir)\n",
    "    if rewrite or not os.path.exists(\"%s/calldata_2d.npy\" % output_dir):\n",
    "        vcfnp.calldata_2d(\n",
    "            vcf_fn,\n",
    "            fields=['AD'],\n",
    "            dtypes={\n",
    "                'AD': 'u2',\n",
    "            },\n",
    "            arities={\n",
    "                'AD': max_alleles,\n",
    "            },\n",
    "    #         fills={\n",
    "    #             'AD': np.nan,\n",
    "    #         },\n",
    "    #         flatten_filter=True,\n",
    "            verbose=False,\n",
    "            cache=True,\n",
    "            cachedir=output_dir\n",
    "        )\n"
   ]
  },
  {
   "cell_type": "code",
   "execution_count": null,
   "metadata": {
    "collapsed": false
   },
   "outputs": [
    {
     "name": "stdout",
     "output_type": "stream",
     "text": [
      "/nfs/team112_internal/production/release_build/Pf3K/pilot_5_0/SNP_INDEL_WG.combined.filtered.mixtures.vcf.gz.vcfnp_cache\n",
      "/nfs/team112_internal/production/release_build/Pf3K/pilot_5_0/SNP_INDEL_WG.combined.filtered.mixtures.vcf.gz.vcfnp_cache\n",
      "/nfs/team112_internal/production/release_build/Pf3K/pilot_5_0/SNP_INDEL_WG.combined.filtered.mixtures_biallelic.vcf.gz.vcfnp_cache\n",
      "/nfs/team112_internal/production/release_build/Pf3K/pilot_5_0/SNP_INDEL_WG.combined.filtered.mixtures_biallelic.vcf.gz.vcfnp_cache\n",
      "/nfs/team112_internal/production/release_build/Pf3K/pilot_5_0/SNP_INDEL_WG.combined.filtered.crosses.vcf.gz.vcfnp_cache\n",
      "/nfs/team112_internal/production/release_build/Pf3K/pilot_5_0/SNP_INDEL_WG.combined.filtered.crosses_biallelic.vcf.gz.vcfnp_cache\n",
      "/nfs/team112_internal/production/release_build/Pf3K/pilot_5_0/SNP_INDEL_WG.combined.filtered.crosses_biallelic.vcf.gz.vcfnp_cache"
     ]
    }
   ],
   "source": [
    "# Create mixtures and crosses npy files\n",
    "create_variants_npy(mixtures_vcf_fn)\n",
    "create_calldata_npy(mixtures_vcf_fn)\n",
    "create_variants_npy(mixtures_biallelic_vcf_fn, 2)\n",
    "create_calldata_npy(mixtures_biallelic_vcf_fn, 2)\n",
    "create_variants_npy(crosses_vcf_fn)\n",
    "# create_calldata_npy(crosses_vcf_fn)\n",
    "create_variants_npy(crosses_biallelic_vcf_fn, 2)\n",
    "create_calldata_npy(crosses_biallelic_vcf_fn, 2)\n"
   ]
  },
  {
   "cell_type": "code",
   "execution_count": null,
   "metadata": {
    "collapsed": true
   },
   "outputs": [],
   "source": [
    "# Create sites only vcf and npy\n",
    "wg_sites_vcf_fn = wg_vcf_fn.replace('filtered', 'filtered.sites')\n",
    "!{bcftools} view --drop-genotypes --output-type z --output-file {wg_sites_vcf_fn} {wg_vcf_fn}\n",
    "!{bcftools} index --tbi {wg_sites_vcf_fn}\n"
   ]
  },
  {
   "cell_type": "code",
   "execution_count": null,
   "metadata": {
    "collapsed": true
   },
   "outputs": [],
   "source": []
  }
 ],
 "metadata": {
  "kernelspec": {
   "display_name": "Python [default]",
   "language": "python",
   "name": "python3"
  },
  "language_info": {
   "codemirror_mode": {
    "name": "ipython",
    "version": 3
   },
   "file_extension": ".py",
   "mimetype": "text/x-python",
   "name": "python",
   "nbconvert_exporter": "python",
   "pygments_lexer": "ipython3",
   "version": "3.4.5"
  }
 },
 "nbformat": 4,
 "nbformat_minor": 0
}
