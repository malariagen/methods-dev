{
 "cells": [
  {
   "cell_type": "code",
   "execution_count": 1,
   "metadata": {
    "collapsed": false
   },
   "outputs": [
    {
     "name": "stdout",
     "output_type": "stream",
     "text": [
      "python 3.4.5 |Anaconda 2.2.0 (64-bit)| (default, Jul  2 2016, 17:47:47) \n",
      "[GCC 4.4.7 20120313 (Red Hat 4.4.7-1)]\n",
      "numpy 1.11.1\n",
      "scipy 0.18.0\n",
      "pandas 0.19.0\n",
      "numexpr 2.6.1\n",
      "pysam 0.9.1.4\n",
      "pysamstats 0.24.3\n",
      "petl 1.1.0\n",
      "petlx 1.0.3\n",
      "vcf 0.6.8\n",
      "vcfnp 2.3.0.dev0\n",
      "h5py 2.4.0\n",
      "tables 3.1.1\n"
     ]
    }
   ],
   "source": [
    "%run _standard_imports.ipynb\n",
    "%run _shared_setup.ipynb\n",
    "%run _plotting_setup.ipynb"
   ]
  },
  {
   "cell_type": "code",
   "execution_count": 4,
   "metadata": {
    "collapsed": false
   },
   "outputs": [],
   "source": [
    "release5_final_files_dir = '/nfs/team112_internal/production/release_build/Pf3K/pilot_5_0'\n",
    "release5_final_files_dir\n",
    "crosses_variants_npy_fn = '/nfs/team112_internal/production/release_build/Pf3K/pilot_5_0/SNP_INDEL_WG.combined.filtered.crosses.vcf.gz.vcfnp_cache/variants.npy'"
   ]
  },
  {
   "cell_type": "code",
   "execution_count": 5,
   "metadata": {
    "collapsed": true
   },
   "outputs": [],
   "source": [
    "variants = np.load(crosses_variants_npy_fn)"
   ]
  },
  {
   "cell_type": "code",
   "execution_count": 6,
   "metadata": {
    "collapsed": false
   },
   "outputs": [
    {
     "data": {
      "text/plain": [
       "array([ (b'Pf3D7_01_v3', 37, b'.', b'GAACCCTAAA', [b'G', b'', b'', b'', b'', b''], 4131.72021484375, False, False, False, False, False, False, True, False, False, False, False, False, 2, False, -21, [0, 0, 0, 0, 0, 0], [0.0017719268798828125, 0.0, 0.0, 0.0, 0.0, 0.0], 172, 0.0, 0.72705078125, 10101, False, 0, 0.0, 47.619998931884766, 0.0, 0.0, [1, 0, 0, 0, 0, 0], [0.00029540061950683594, 0.0, 0.0, 0.0, 0.0, 0.0], 29.328125, 1.48046875, False, False, 34.25, [0, 0, 0, 0, 0, 0, 0], b'', 0.72705078125, b'SubtelomericRepeat', b'', b'', b'INTERGENIC', b'', b'NONE', b'', b'', b'MODIFIER', b'', 0.8299999833106995, False, 3.5799999237060547, b'DELETION.NOVEL_10orMore', b'FS', b'indel'),\n",
       "       (b'Pf3D7_01_v3', 67, b'.', b'AC', [b'A', b'', b'', b'', b'', b''], 136.66000366210938, False, False, False, False, False, False, True, False, False, False, False, False, 2, False, -1, [0, 0, 0, 0, 0, 0], [0.00024437904357910156, 0.0, 0.0, 0.0, 0.0, 0.0], 186, -0.06500244140625, -0.587890625, 16058, False, 0, 0.0, 47.619998931884766, 0.0, 0.0, [1, 0, 0, 0, 0, 0], [0.00024437904357910156, 0.0, 0.0, 0.0, 0.0, 0.0], 28.59375, -1.7626953125, False, False, 9.109375, [3, 2, 0, 0, 0, 0, 0], b'C', 1.1103515625, b'SubtelomericRepeat', b'', b'', b'INTERGENIC', b'', b'NONE', b'', b'', b'MODIFIER', b'', 0.6899999976158142, True, 3.049999952316284, b'DELETION.NumRepetitions_3.EventLength_1.', b'QD', b'indel'),\n",
       "       (b'Pf3D7_01_v3', 68, b'.', b'C', [b'*', b'A', b'', b'', b'', b''], 433.1199951171875, False, False, False, True, False, False, True, False, False, False, False, False, 3, True, 0, [0, 0, 0, 0, 0, 0], [0.0014791488647460938, 0.0007395744323730469, 0.0, 0.0, 0.0, 0.0], 182, 1.3095703125, -0.52880859375, 16155, False, 0, 0.0, 47.619998931884766, 0.0, 0.0, [4, 2, 0, 0, 0, 0], [0.0009860992431640625, 0.0004930496215820312, 0.0, 0.0, 0.0, 0.0], 33.40625, 1.7900390625, False, False, 9.6171875, [0, 0, 0, 0, 0, 0, 0], b'', -2.79296875, b'SubtelomericRepeat', b'', b'', b'INTERGENIC', b'', b'NONE', b'', b'', b'MODIFIER', b'', 0.6430000066757202, False, -5.140999794006348, b'MULTIALLELIC_SNP', b'QD', b'FilteredInAll'),\n",
       "       ...,\n",
       "       (b'Pf_M76611', 5960, b'.', b'T', [b'C', b'', b'', b'', b'', b''], 2784.64990234375, False, False, False, True, False, False, False, False, False, False, False, False, 2, True, 0, [0, 0, 0, 0, 0, 0], [0.5, 0.0, 0.0, 0.0, 0.0, 0.0], 0, -19.90625, -0.96923828125, 2689179, False, 0, 0.0, 11.109999656677246, 0.0, 0.0, [1, 0, 0, 0, 0, 0], [0.5, 0.0, 0.0, 0.0, 0.0, 0.0], 60.0, -1.0087890625, False, False, 3.259765625, [0, 0, 0, 0, 0, 0, 0], b'', 2.41015625, b'', b'', b'', b'', b'', b'', b'', b'', b'', b'', 0.7440000176429749, False, -98.30999755859375, b'SNP', b'DP', b'FilteredInAll'),\n",
       "       (b'Pf_M76611', 5963, b'.', b'T', [b'G', b'', b'', b'', b'', b''], 9916.650390625, False, False, False, True, False, False, False, False, False, False, False, False, 2, True, 0, [0, 0, 0, 0, 0, 0], [1.0, 0.0, 0.0, 0.0, 0.0, 0.0], 0, -2.91796875, 0.2548828125, 2688838, False, 0, 31.765625, 6.670000076293945, 0.0, 0.0, [2, 0, 0, 0, 0, 0], [1.0, 0.0, 0.0, 0.0, 0.0, 0.0], 60.0, 0.006999969482421875, False, False, 27.703125, [0, 0, 0, 0, 0, 0, 0], b'', -0.20703125, b'', b'', b'', b'', b'', b'', b'', b'', b'', b'', 5.329999923706055, False, -60.68000030517578, b'SNP', b'DP', b'FilteredInAll'),\n",
       "       (b'Pf_M76611', 5964, b'.', b'A', [b'G', b'', b'', b'', b'', b''], 25361.69921875, False, False, False, True, False, False, False, False, False, False, False, False, 2, True, 0, [0, 0, 0, 0, 0, 0], [1.0, 0.0, 0.0, 0.0, 0.0, 0.0], 0, -5.6640625, 0.60888671875, 2688084, False, 0, 7.1796875, 7.139999866485596, 0.0, 0.0, [4, 0, 0, 0, 0, 0], [1.0, 0.0, 0.0, 0.0, 0.0, 0.0], 60.0, -0.114990234375, False, False, 26.46875, [0, 0, 0, 0, 0, 0, 0], b'', -0.373046875, b'', b'', b'', b'', b'', b'', b'', b'', b'', b'', 4.183000087738037, False, -65.69999694824219, b'SNP', b'DP', b'FilteredInAll')], \n",
       "      dtype=[('CHROM', 'S12'), ('POS', '<i4'), ('ID', 'S12'), ('REF', 'S10'), ('ALT', 'S10', (6,)), ('QUAL', '<f4'), ('FILTER_Centromere', '?'), ('FILTER_InternalHypervariable', '?'), ('FILTER_LowQual', '?'), ('FILTER_Low_VQSLOD', '?'), ('FILTER_PASS', '?'), ('FILTER_SubtelomericHypervariable', '?'), ('FILTER_SubtelomericRepeat', '?'), ('FILTER_VQSRTrancheINDEL99.00to99.90', '?'), ('FILTER_VQSRTrancheINDEL99.90to100.00', '?'), ('FILTER_VQSRTrancheINDEL99.90to100.00+', '?'), ('FILTER_VQSRTrancheSNP99.90to100.00', '?'), ('FILTER_VQSRTrancheSNP99.90to100.00+', '?'), ('num_alleles', 'u1'), ('is_snp', '?'), ('svlen', '<i4'), ('AC', '<u2', (6,)), ('AF', '<f2', (6,)), ('AN', '<u2'), ('BaseQRankSum', '<f2'), ('ClippingRankSum', '<f2'), ('DP', '<i4'), ('DS', '?'), ('END', '<i4'), ('FS', '<f2'), ('GC', '<f4'), ('HaplotypeScore', '<f2'), ('InbreedingCoeff', '<f2'), ('MLEAC', '<u2', (6,)), ('MLEAF', '<f2', (6,)), ('MQ', '<f2'), ('MQRankSum', '<f2'), ('NEGATIVE_TRAIN_SITE', '?'), ('POSITIVE_TRAIN_SITE', '?'), ('QD', '<f2'), ('RPA', '<u2', (7,)), ('RU', 'S40'), ('ReadPosRankSum', '<f2'), ('RegionType', 'S25'), ('SNPEFF_AMINO_ACID_CHANGE', 'S20'), ('SNPEFF_CODON_CHANGE', 'S20'), ('SNPEFF_EFFECT', 'S33'), ('SNPEFF_EXON_ID', 'S2'), ('SNPEFF_FUNCTIONAL_CLASS', 'S8'), ('SNPEFF_GENE_BIOTYPE', 'S14'), ('SNPEFF_GENE_NAME', 'S20'), ('SNPEFF_IMPACT', 'S8'), ('SNPEFF_TRANSCRIPT_ID', 'S20'), ('SOR', '<f4'), ('STR', '?'), ('VQSLOD', '<f4'), ('VariantType', 'S40'), ('culprit', 'S14'), ('set', 'S40')])"
      ]
     },
     "execution_count": 6,
     "metadata": {},
     "output_type": "execute_result"
    }
   ],
   "source": [
    "variants"
   ]
  },
  {
   "cell_type": "code",
   "execution_count": 7,
   "metadata": {
    "collapsed": false
   },
   "outputs": [
    {
     "data": {
      "text/plain": [
       "(array([b'', b'CODON_CHANGE_PLUS_CODON_DELETION',\n",
       "        b'CODON_CHANGE_PLUS_CODON_INSERTION', b'CODON_DELETION',\n",
       "        b'CODON_INSERTION', b'EXON_DELETED', b'FRAME_SHIFT', b'INTERGENIC',\n",
       "        b'INTRAGENIC', b'INTRON', b'NON_SYNONYMOUS_CODING',\n",
       "        b'NON_SYNONYMOUS_START', b'SPLICE_SITE_ACCEPTOR',\n",
       "        b'SPLICE_SITE_DONOR', b'START_LOST', b'STOP_GAINED', b'STOP_LOST',\n",
       "        b'SYNONYMOUS_CODING', b'SYNONYMOUS_STOP'], \n",
       "       dtype='|S33'),\n",
       " array([  56767,   15154,   11500,   23542,   38301,      61,  334815,\n",
       "        2016885,   67414,  324564,  893888,      50,     672,     689,\n",
       "            410,   11457,     618,  415085,     593]))"
      ]
     },
     "execution_count": 7,
     "metadata": {},
     "output_type": "execute_result"
    }
   ],
   "source": [
    "np.unique(variants['SNPEFF_EFFECT'], return_counts=True)"
   ]
  },
  {
   "cell_type": "code",
   "execution_count": null,
   "metadata": {
    "collapsed": true
   },
   "outputs": [],
   "source": []
  }
 ],
 "metadata": {
  "anaconda-cloud": {},
  "kernelspec": {
   "display_name": "Python [default]",
   "language": "python",
   "name": "python3"
  },
  "language_info": {
   "codemirror_mode": {
    "name": "ipython",
    "version": 3
   },
   "file_extension": ".py",
   "mimetype": "text/x-python",
   "name": "python",
   "nbconvert_exporter": "python",
   "pygments_lexer": "ipython3",
   "version": "3.4.5"
  }
 },
 "nbformat": 4,
 "nbformat_minor": 1
}
