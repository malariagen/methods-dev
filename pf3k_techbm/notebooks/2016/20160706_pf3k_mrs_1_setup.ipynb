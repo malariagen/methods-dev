{
 "cells": [
  {
   "cell_type": "markdown",
   "metadata": {},
   "source": [
    "# Introduction\n",
    "This is details of a VR-PIPE setup of full calling pipeline of 100bp reads from 16 \"multiple reference strain\" (MRS) samples. I originally tried doing this without success from Thomas's mapping (see 20160523_pf3k_mrs_1_setup.ipynb). I then tried to set up using a vrtrack database, but this failed, we think becuase of problems with changes to iRODs commands (and also an issue with libs table in solaris that Cinzia is looking into). Trying here by manually downloading files from iRODs and creating a fofn."
   ]
  },
  {
   "cell_type": "code",
   "execution_count": 1,
   "metadata": {
    "collapsed": false
   },
   "outputs": [
    {
     "name": "stdout",
     "output_type": "stream",
     "text": [
      "python 3.4.3 |Anaconda 2.2.0 (64-bit)| (default, Mar  6 2015, 12:03:53) \n",
      "[GCC 4.4.7 20120313 (Red Hat 4.4.7-1)]\n",
      "numpy 1.9.2\n",
      "scipy 0.15.1\n",
      "pandas 0.15.2\n",
      "numexpr 2.3.1\n",
      "pysam 0.8.3\n",
      "pysamstats 0.23\n",
      "petl 1.0.11\n",
      "petlx 1.0.3\n",
      "vcf 0.6.7\n",
      "vcfnp 2.3.0.dev0\n",
      "h5py 2.4.0\n",
      "tables 3.1.1\n"
     ]
    }
   ],
   "source": [
    "%run _standard_imports.ipynb\n",
    "%run _shared_setup.ipynb\n"
   ]
  },
  {
   "cell_type": "code",
   "execution_count": 2,
   "metadata": {
    "collapsed": true
   },
   "outputs": [],
   "source": [
    "RELEASE_DIR = \"%s/mrs_1\" % DATA_DIR\n",
    "RESOURCES_DIR = '%s/resources' % RELEASE_DIR\n",
    "\n",
    "# GENOME_FN = \"/nfs/pathogen003/tdo/Pfalciparum/3D7/Reference/Oct2011/Pf3D7_v3.fasta\" # Note this ref used by Thomas is different to other refs we have used, e.g. chromsomes aren't in numerical order\n",
    "GENOME_FN = \"/lustre/scratch109/malaria/pf3k_methods/resources/Pfalciparum.genome.fasta\"\n",
    "SNPEFF_DIR = \"/lustre/scratch109/malaria/pf3k_methods/resources/snpEff\"\n",
    "REGIONS_FN = \"/nfs/team112_internal/rp7/src/github/malariagen/pf-crosses/meta/regions-20130225.bed.gz\"\n",
    "\n",
    "RELEASE_METADATA_FN = \"%s/pf3k_mrs_1_sample_metadata.txt\" % RELEASE_DIR\n",
    "WG_VCF_FN = \"%s/vcf/pf3k_mrs_1.vcf.gz\" % RELEASE_DIR\n",
    "\n",
    "BCFTOOLS = '/nfs/team112_internal/rp7/src/github/malariagen/methods-dev/pf3k_techbm/opt_4/bcftools/bcftools'\n",
    "\n",
    "VRPIPE_FOFN = \"%s/pf3k_mrs_1.fofn\" % RELEASE_DIR"
   ]
  },
  {
   "cell_type": "code",
   "execution_count": 3,
   "metadata": {
    "collapsed": false
   },
   "outputs": [
    {
     "name": "stdout",
     "output_type": "stream",
     "text": [
      "/nfs/team112_internal/rp7/data/pf3k/mrs_1/vcf/pf3k_mrs_1.vcf.gz\n"
     ]
    }
   ],
   "source": [
    "print(WG_VCF_FN)"
   ]
  },
  {
   "cell_type": "code",
   "execution_count": 4,
   "metadata": {
    "collapsed": true
   },
   "outputs": [],
   "source": [
    "chromosomes = [\"Pf3D7_%02d_v3\" % x for x in range(1, 15, 1)] + [\n",
    "    'Pf3D7_API_v3', 'Pf_M76611'\n",
    "]\n",
    "chromosome_vcfs = [\"%s/vcf/SNP_INDEL_%s.combined.filtered.vcf.gz\" % (RELEASE_DIR, x) for x in chromosomes]\n"
   ]
  },
  {
   "cell_type": "code",
   "execution_count": 5,
   "metadata": {
    "collapsed": true
   },
   "outputs": [],
   "source": [
    "if not os.path.exists(RESOURCES_DIR):\n",
    "    os.makedirs(RESOURCES_DIR)"
   ]
  },
  {
   "cell_type": "code",
   "execution_count": 6,
   "metadata": {
    "collapsed": true
   },
   "outputs": [],
   "source": [
    "!cp {GENOME_FN}* {RESOURCES_DIR}\n",
    "!cp -R {SNPEFF_DIR} {RESOURCES_DIR}\n",
    "!cp -R {REGIONS_FN} {RESOURCES_DIR}"
   ]
  },
  {
   "cell_type": "code",
   "execution_count": 7,
   "metadata": {
    "collapsed": false
   },
   "outputs": [
    {
     "ename": "FileExistsError",
     "evalue": "[Errno 17] File exists: '/lustre/scratch109/malaria/pf3k_mrs_1/input'",
     "output_type": "error",
     "traceback": [
      "\u001b[1;31m---------------------------------------------------------------------------\u001b[0m",
      "\u001b[1;31mFileExistsError\u001b[0m                           Traceback (most recent call last)",
      "\u001b[1;32m<ipython-input-7-85708f980657>\u001b[0m in \u001b[0;36m<module>\u001b[1;34m()\u001b[0m\n\u001b[0;32m      1\u001b[0m \u001b[1;32mfor\u001b[0m \u001b[0mlustre_dir\u001b[0m \u001b[1;32min\u001b[0m \u001b[1;33m[\u001b[0m\u001b[1;34m'input'\u001b[0m\u001b[1;33m,\u001b[0m \u001b[1;34m'output'\u001b[0m\u001b[1;33m,\u001b[0m \u001b[1;34m'meta'\u001b[0m\u001b[1;33m]\u001b[0m\u001b[1;33m:\u001b[0m\u001b[1;33m\u001b[0m\u001b[0m\n\u001b[1;32m----> 2\u001b[1;33m     \u001b[0mos\u001b[0m\u001b[1;33m.\u001b[0m\u001b[0mmakedirs\u001b[0m\u001b[1;33m(\u001b[0m\u001b[1;34m\"/lustre/scratch109/malaria/pf3k_mrs_1/%s\"\u001b[0m \u001b[1;33m%\u001b[0m \u001b[0mlustre_dir\u001b[0m\u001b[1;33m)\u001b[0m\u001b[1;33m\u001b[0m\u001b[0m\n\u001b[0m",
      "\u001b[1;32m/nfs/users/nfs_r/rp7/anaconda3/lib/python3.4/os.py\u001b[0m in \u001b[0;36mmakedirs\u001b[1;34m(name, mode, exist_ok)\u001b[0m\n\u001b[0;32m    235\u001b[0m             \u001b[1;32mreturn\u001b[0m\u001b[1;33m\u001b[0m\u001b[0m\n\u001b[0;32m    236\u001b[0m     \u001b[1;32mtry\u001b[0m\u001b[1;33m:\u001b[0m\u001b[1;33m\u001b[0m\u001b[0m\n\u001b[1;32m--> 237\u001b[1;33m         \u001b[0mmkdir\u001b[0m\u001b[1;33m(\u001b[0m\u001b[0mname\u001b[0m\u001b[1;33m,\u001b[0m \u001b[0mmode\u001b[0m\u001b[1;33m)\u001b[0m\u001b[1;33m\u001b[0m\u001b[0m\n\u001b[0m\u001b[0;32m    238\u001b[0m     \u001b[1;32mexcept\u001b[0m \u001b[0mOSError\u001b[0m \u001b[1;32mas\u001b[0m \u001b[0me\u001b[0m\u001b[1;33m:\u001b[0m\u001b[1;33m\u001b[0m\u001b[0m\n\u001b[0;32m    239\u001b[0m         \u001b[1;32mif\u001b[0m \u001b[1;32mnot\u001b[0m \u001b[0mexist_ok\u001b[0m \u001b[1;32mor\u001b[0m \u001b[0me\u001b[0m\u001b[1;33m.\u001b[0m\u001b[0merrno\u001b[0m \u001b[1;33m!=\u001b[0m \u001b[0merrno\u001b[0m\u001b[1;33m.\u001b[0m\u001b[0mEEXIST\u001b[0m \u001b[1;32mor\u001b[0m \u001b[1;32mnot\u001b[0m \u001b[0mpath\u001b[0m\u001b[1;33m.\u001b[0m\u001b[0misdir\u001b[0m\u001b[1;33m(\u001b[0m\u001b[0mname\u001b[0m\u001b[1;33m)\u001b[0m\u001b[1;33m:\u001b[0m\u001b[1;33m\u001b[0m\u001b[0m\n",
      "\u001b[1;31mFileExistsError\u001b[0m: [Errno 17] File exists: '/lustre/scratch109/malaria/pf3k_mrs_1/input'"
     ]
    }
   ],
   "source": [
    "for lustre_dir in ['input', 'output', 'meta']:\n",
    "    os.makedirs(\"/lustre/scratch109/malaria/pf3k_mrs_1/%s\" % lustre_dir)"
   ]
  },
  {
   "cell_type": "markdown",
   "metadata": {},
   "source": [
    "# Manual import"
   ]
  },
  {
   "cell_type": "code",
   "execution_count": 6,
   "metadata": {
    "collapsed": false
   },
   "outputs": [
    {
     "data": {
      "text/plain": [
       "'/nfs/team112_internal/rp7/data/pf3k/mrs_1/pf3k_mrs_1.fofn'"
      ]
     },
     "execution_count": 6,
     "metadata": {},
     "output_type": "execute_result"
    }
   ],
   "source": [
    "VRPIPE_FOFN"
   ]
  },
  {
   "cell_type": "raw",
   "metadata": {},
   "source": [
    "# create initial build manifest of lane bam/sample\n",
    "mysql -usolaris_ro -hmalloc-db -P3309 solaris --skip-column-names \\\n",
    "-e \"select name, oxford_code from vw_vrpipe where alfresco like '1153%'\" \\\n",
    "> /nfs/team112_internal/rp7/data/pf3k/mrs_1/pf3k_mrs_1.fofn\n",
    "\n",
    "# Then manually modified the above by adding header (path/sample/reads/paired) changing path to full path (/lustre/scratch109/malaria/pf3k_mrs_1/input) and filling in reads info using commands like:\n",
    "/software/irods-3.3/icommands/bin/imeta ls -d /seq/19406/19406_1#1.cram | grep -A 1 total_reads\n"
   ]
  },
  {
   "cell_type": "code",
   "execution_count": 20,
   "metadata": {
    "collapsed": false
   },
   "outputs": [
    {
     "name": "stdout",
     "output_type": "stream",
     "text": [
      "/lustre/scratch109/malaria/pf3k_mrs_1/input/19406_1#1.cram /seq/19406/19406_1#1.cram\n",
      "ERROR: getUtil: get error for /lustre/scratch109/malaria/pf3k_mrs_1/input/19406_1#1.cram status = -312000 OVERWRITE_WITHOUT_FORCE_FLAG\n",
      "/lustre/scratch109/malaria/pf3k_mrs_1/input/19406_1#2.cram /seq/19406/19406_1#2.cram\n",
      "/lustre/scratch109/malaria/pf3k_mrs_1/input/19406_1#3.cram /seq/19406/19406_1#3.cram\n",
      "/lustre/scratch109/malaria/pf3k_mrs_1/input/19406_1#4.cram /seq/19406/19406_1#4.cram\n",
      "/lustre/scratch109/malaria/pf3k_mrs_1/input/19406_1#5.cram /seq/19406/19406_1#5.cram\n",
      "/lustre/scratch109/malaria/pf3k_mrs_1/input/19406_1#6.cram /seq/19406/19406_1#6.cram\n",
      "/lustre/scratch109/malaria/pf3k_mrs_1/input/19406_1#7.cram /seq/19406/19406_1#7.cram\n",
      "/lustre/scratch109/malaria/pf3k_mrs_1/input/19406_1#8.cram /seq/19406/19406_1#8.cram\n",
      "/lustre/scratch109/malaria/pf3k_mrs_1/input/19406_2#1.cram /seq/19406/19406_2#1.cram\n",
      "/lustre/scratch109/malaria/pf3k_mrs_1/input/19406_2#2.cram /seq/19406/19406_2#2.cram\n",
      "/lustre/scratch109/malaria/pf3k_mrs_1/input/19406_2#3.cram /seq/19406/19406_2#3.cram\n",
      "/lustre/scratch109/malaria/pf3k_mrs_1/input/19406_2#4.cram /seq/19406/19406_2#4.cram\n",
      "/lustre/scratch109/malaria/pf3k_mrs_1/input/19406_2#5.cram /seq/19406/19406_2#5.cram\n",
      "/lustre/scratch109/malaria/pf3k_mrs_1/input/19406_2#6.cram /seq/19406/19406_2#6.cram\n",
      "/lustre/scratch109/malaria/pf3k_mrs_1/input/19406_2#7.cram /seq/19406/19406_2#7.cram\n",
      "/lustre/scratch109/malaria/pf3k_mrs_1/input/19406_2#8.cram /seq/19406/19406_2#8.cram\n"
     ]
    }
   ],
   "source": [
    "# Download files from iRODS\n",
    "for rec in etl.fromtsv(VRPIPE_FOFN).data():\n",
    "    output_fn = rec[0]\n",
    "    irods_fn = '/seq/19406/%s' % os.path.basename(output_fn)\n",
    "    print(output_fn, irods_fn)\n",
    "    !/software/irods-3.3/icommands/bin/iget {irods_fn} {output_fn}"
   ]
  },
  {
   "cell_type": "code",
   "execution_count": 21,
   "metadata": {
    "collapsed": false
   },
   "outputs": [
    {
     "name": "stdout",
     "output_type": "stream",
     "text": [
      "/lustre/scratch109/malaria/pf3k_mrs_1/input/19406_1#1.cram /lustre/scratch109/malaria/pf3k_mrs_1/input/19406_1#1.bam\n",
      "/lustre/scratch109/malaria/pf3k_mrs_1/input/19406_1#2.cram /lustre/scratch109/malaria/pf3k_mrs_1/input/19406_1#2.bam\n",
      "/lustre/scratch109/malaria/pf3k_mrs_1/input/19406_1#3.cram /lustre/scratch109/malaria/pf3k_mrs_1/input/19406_1#3.bam\n",
      "/lustre/scratch109/malaria/pf3k_mrs_1/input/19406_1#4.cram /lustre/scratch109/malaria/pf3k_mrs_1/input/19406_1#4.bam\n",
      "/lustre/scratch109/malaria/pf3k_mrs_1/input/19406_1#5.cram /lustre/scratch109/malaria/pf3k_mrs_1/input/19406_1#5.bam\n",
      "/lustre/scratch109/malaria/pf3k_mrs_1/input/19406_1#6.cram /lustre/scratch109/malaria/pf3k_mrs_1/input/19406_1#6.bam\n",
      "/lustre/scratch109/malaria/pf3k_mrs_1/input/19406_1#7.cram /lustre/scratch109/malaria/pf3k_mrs_1/input/19406_1#7.bam\n",
      "/lustre/scratch109/malaria/pf3k_mrs_1/input/19406_1#8.cram /lustre/scratch109/malaria/pf3k_mrs_1/input/19406_1#8.bam\n",
      "/lustre/scratch109/malaria/pf3k_mrs_1/input/19406_2#1.cram /lustre/scratch109/malaria/pf3k_mrs_1/input/19406_2#1.bam\n",
      "/lustre/scratch109/malaria/pf3k_mrs_1/input/19406_2#2.cram /lustre/scratch109/malaria/pf3k_mrs_1/input/19406_2#2.bam\n",
      "/lustre/scratch109/malaria/pf3k_mrs_1/input/19406_2#3.cram /lustre/scratch109/malaria/pf3k_mrs_1/input/19406_2#3.bam\n",
      "/lustre/scratch109/malaria/pf3k_mrs_1/input/19406_2#4.cram /lustre/scratch109/malaria/pf3k_mrs_1/input/19406_2#4.bam\n",
      "/lustre/scratch109/malaria/pf3k_mrs_1/input/19406_2#5.cram /lustre/scratch109/malaria/pf3k_mrs_1/input/19406_2#5.bam\n",
      "/lustre/scratch109/malaria/pf3k_mrs_1/input/19406_2#6.cram /lustre/scratch109/malaria/pf3k_mrs_1/input/19406_2#6.bam\n",
      "/lustre/scratch109/malaria/pf3k_mrs_1/input/19406_2#7.cram /lustre/scratch109/malaria/pf3k_mrs_1/input/19406_2#7.bam\n",
      "/lustre/scratch109/malaria/pf3k_mrs_1/input/19406_2#8.cram /lustre/scratch109/malaria/pf3k_mrs_1/input/19406_2#8.bam\n"
     ]
    }
   ],
   "source": [
    "for rec in etl.fromtsv(VRPIPE_FOFN).data():\n",
    "    input_fn = rec[0]\n",
    "    output_fn = rec[0].replace('cram', 'bam')\n",
    "    print(input_fn, output_fn)\n",
    "    !/software/solexa/pkg/samtools/samtools-1.2/samtools view -Sb -F 2816 {input_fn} -o {output_fn}"
   ]
  },
  {
   "cell_type": "markdown",
   "metadata": {},
   "source": [
    "# VR-PIPE pipeline\n",
    "These were created using vrpipe-setup --based_on, with the setups originally created in 20160523_pf3k_mrs_1_setup"
   ]
  },
  {
   "cell_type": "raw",
   "metadata": {},
   "source": [
    "We've now gathered all information; here's what you've asked for:\n",
    "\tPipelineSetup name: pf3k_mrs_1_mapping (for user rp7 controlled by farm 'farm3')\n",
    "\tDataSource: fofn_with_metadata->all with source /nfs/team112_internal/rp7/data/pf3k/mrs_1/pf3k_mrs_1.fofn:\n",
    "\tPipeline: bam_mapping_with_bwa_mem_via_fastq_v2 (outputting to /lustre/scratch109/malaria/pf3k_mrs_1/output belonging to group team112):\n",
    "\t\tbam2fastq_exe => /nfs/team112_internal/production/tools/bin/bam2fastq\n",
    "\t\tbam_merge_keep_single_paired_separate => 1\n",
    "\t\tbamcheck_exe => /nfs/team112_internal/production/tools/bin/bamcheck-2012-02-11\n",
    "\t\tbwa_exe => /nfs/team112_internal/production/tools/bin/bwa-0.7.12\n",
    "\t\tbwa_index_options => -a bwtsw\n",
    "\t\tbwa_mem_options => -M\n",
    "\t\tcleanup => 1\n",
    "\t\tcompressed_bam_output => 1\n",
    "\t\tdelete_input_bams => 0\n",
    "\t\tfastq_chunk_size => 1000000000\n",
    "\t\tfastqcheck_exe => /nfs/team112_internal/production/tools/bin/fastqcheck\n",
    "\t\treference_assembly_name => Pf3D7_v3\n",
    "\t\treference_fasta => /lustre/scratch109/malaria/pf3k_methods/resources/Pfalciparum.genome.fasta\n",
    "\t\treference_public_url => http://plasmodb.org/common/downloads/release-9.2/Pfalciparum3D7/fasta/data/PlasmoDB-9.2_Pfalciparum3D7_Genome.fasta\n",
    "\t\treference_species => P.falciparum\n",
    "\t\tsamtools_exe => /nfs/team112_internal/production/tools/bin/samtools_1.2\n",
    "\t\tstore_original_pg_chain => 1\n",
    "Is all of this correct? <y|n>: y\n",
    "\n",
    "Your new PipelineSetup has been created!\n",
    "Name: pf3k_mrs_1_mapping; Id: 799 (remember at least one of these for use later)\n"
   ]
  },
  {
   "cell_type": "raw",
   "metadata": {},
   "source": [
    "We've now gathered all information; here's what you've asked for:\n",
    "\tPipelineSetup name: pf3k_mrs_1_mark_duplicates (for user rp7 controlled by farm 'farm3')\n",
    "\tDataSource: vrpipe->all with source pf3k_mrs_1_mapping[bam_merge_lane_splits_v2:merged_lane_bams]:\n",
    "\t\tfilter_after_grouping => 1\n",
    "\t\tmaintain_element_grouping => 1\n",
    "\tPipeline: bam_mark_duplicates_v2 (outputting to /lustre/scratch109/malaria/pf3k_mrs_1/output belonging to group team112):\n",
    "\t\tdelete_input_bams => 1\n",
    "\t\tjava_exe => /software/jre1.7.0_25/bin/java\n",
    "\t\tmarkdup_options => ASSUME_SORTED=TRUE METRICS_FILE=/dev/null VALIDATION_STRINGENCY=SILENT\n",
    "\t\tpicard_path => /nfs/team112_internal/production/tools/bin/picard-tools-1.137/\n",
    "Is all of this correct? <y|n>: y\n",
    "\n",
    "Your new PipelineSetup has been created!\n",
    "Name: pf3k_mrs_1_mark_duplicates; Id: 800 (remember at least one of these for use later)\n"
   ]
  },
  {
   "cell_type": "raw",
   "metadata": {},
   "source": [
    "We've now gathered all information; here's what you've asked for:\n",
    "\tPipelineSetup name: pf3k_mrs_1_indel_realignment (for user rp7 controlled by farm 'farm3')\n",
    "\tDataSource: vrpipe->all with source pf3k_mrs_1_mark_duplicates[1]:\n",
    "\t\tfilter_after_grouping => 1\n",
    "\t\tmaintain_element_grouping => 1\n",
    "\tPipeline: gatk_indel_realignment_gatk3_v2 (outputting to /lustre/scratch109/malaria/pf3k_mrs_1/output belonging to group team112):\n",
    "\t\tcleanup => 1\n",
    "\t\tdelete_input_bams => 1\n",
    "\t\tgatk_key => /nfs/team112_internal/production/tools/bin/gatk/dj6_sanger.ac.uk.key\n",
    "\t\tgatk_path => /nfs/team112_internal/production/tools/bin/gatk/GenomeAnalysisTK-3.4-46\n",
    "\t\tjava_exe => /software/jre1.7.0_25/bin/java\n",
    "\t\treference_fasta => /lustre/scratch109/malaria/pf3k_methods/resources/Pfalciparum.genome.fasta\n",
    "Is all of this correct? <y|n>: y\n",
    "\n",
    "Your new PipelineSetup has been created!\n",
    "Name: pf3k_mrs_1_indel_realignment; Id: 801 (remember at least one of these for use later)\n"
   ]
  },
  {
   "cell_type": "raw",
   "metadata": {},
   "source": [
    "We've now gathered all information; here's what you've asked for:\n",
    "\tPipelineSetup name: pf3k_mrs_1_bqsr (for user rp7 controlled by farm 'farm3')\n",
    "\tDataSource: vrpipe->all with source pf3k_mrs_1_indel_realignment[gatk_indel_realigner_gatk3_v2:realigned_bam_files]:\n",
    "\t\tfilter_after_grouping => 1\n",
    "\t\tmaintain_element_grouping => 1\n",
    "\tPipeline: gatk_base_quality_score_recalibration_gatk3 (outputting to /lustre/scratch109/malaria/pf3k_mrs_1/output belonging to group team112):\n",
    "\t\tcleanup => 1\n",
    "\t\tdelete_input_bams => 1\n",
    "\t\tgatk_base_recalibrator_options => -knownSites /nfs/team112_internal/oxford_mirror/data/plasmodium/pfalciparum/pf-crosses/data/public/1.0/7g8_gb4.combined.final.vcf.gz -knownSites /nfs/team112_internal/oxford_mirror/data/plasmodium/pfalciparum/pf-crosses/data/public/1.0/hb3_dd2.combined.final.vcf.gz -knownSites /nfs/team112_internal/oxford_mirror/data/plasmodium/pfalciparum/pf-crosses/data/public/1.0/3d7_hb3.combined.final.vcf.gz\n",
    "\t\tgatk_key => /nfs/team112_internal/production/tools/bin/gatk/dj6_sanger.ac.uk.key\n",
    "\t\tgatk_path => /nfs/team112_internal/production/tools/bin/gatk/GenomeAnalysisTK-3.4-46\n",
    "\t\tjava_exe => /software/jre1.7.0_25/bin/java\n",
    "\t\treference_fasta => /lustre/scratch109/malaria/pf3k_methods/resources/Pfalciparum.genome.fasta\n",
    "Is all of this correct? <y|n>: y\n",
    "\n",
    "Your new PipelineSetup has been created!\n",
    "Name: pf3k_mrs_1_bqsr; Id: 802 (remember at least one of these for use later)\n"
   ]
  },
  {
   "cell_type": "raw",
   "metadata": {},
   "source": [
    "We've now gathered all information; here's what you've asked for:\n",
    "\tPipelineSetup name: pf3k_mrs_1_sample_bam_summary (for user rp7 controlled by farm 'farm3')\n",
    "\tDataSource: vrpipe->all with source pf3k_mrs_1_bqsr[gatk_print_reads_gatk3:recalibrated_bam_files]:\n",
    "\t\tfilter_after_grouping => 1\n",
    "\t\tmaintain_element_grouping => 1\n",
    "\tPipeline: samtools_bam_stats_gatk_callable_loci_gatk3 (outputting to /lustre/scratch109/malaria/pf3k_mrs_1/output belonging to group team112):\n",
    "\t\tcallable_loci_options => --minDepth 5\n",
    "\t\tcleanup => 0\n",
    "\t\tgatk_key => /nfs/team112_internal/production/tools/bin/gatk/dj6_sanger.ac.uk.key\n",
    "\t\tgatk_path => /nfs/team112_internal/production/tools/bin/gatk/GenomeAnalysisTK-3.5\n",
    "\t\tjava_exe => /software/jre1.7.0_25/bin/java\n",
    "\t\treference_fasta => /lustre/scratch109/malaria/pf3k_methods/resources/Pfalciparum.genome.fasta\n",
    "\t\tsamtools_exe => /nfs/team112_internal/production/tools/bin/samtools_1.2\n",
    "Is all of this correct? <y|n>: y\n",
    "\n",
    "Your new PipelineSetup has been created!\n",
    "Name: pf3k_mrs_1_sample_bam_summary; Id: 803 (remember at least one of these for use later)\n"
   ]
  },
  {
   "cell_type": "raw",
   "metadata": {
    "collapsed": true
   },
   "source": [
    "# Because of a wrinkle in vrpipe, we need to create a fofn of sample bams at this stage\n",
    "# See email from Dushi 24/03/2016 11:51 for further details\n",
    "\n",
    "vrpipe-fileinfo --setup pf3k_mrs_1_bqsr --step gatk_print_reads_gatk3 | grep '\\.bam$' > /lustre/scratch109/malaria/pf3k_mrs_1/meta/pf3k_mrs_1_bqsr.output\n",
    "\n",
    "# We also create a set of symlinks, which might be useful for people to access the improved sample bams\n",
    "cd /nfs/team112_internal/rp7/data/pf3k/mrs_1\n",
    "mkdir bam\n",
    "vrpipe-output --setup pf3k_mrs_1_bqsr --step gatk_print_reads_gatk3 --output_dir /nfs/team112_internal/rp7/data/pf3k/mrs_1/bam --basename_from_metadata %sample% --pretend | less -S\n",
    "vrpipe-output --setup pf3k_mrs_1_bqsr --step gatk_print_reads_gatk3 --output_dir /nfs/team112_internal/rp7/data/pf3k/mrs_1/bam --basename_from_metadata %sample%\n",
    "\n"
   ]
  },
  {
   "cell_type": "raw",
   "metadata": {
    "collapsed": true
   },
   "source": [
    "We've now gathered all information; here's what you've asked for:\n",
    "\tPipelineSetup name: pf3k_mrs_1_haplotype_caller (for user rp7 controlled by farm 'farm3')\n",
    "\tDataSource: fofn_with_genome_chunking->all with source /lustre/scratch109/malaria/pf3k_mrs_1/meta/pf3k_mrs_1_bqsr.output:\n",
    "\t\tchunk_overlap => 0\n",
    "\t\tchunk_override_file => /lustre/scratch109/malaria/pf3k_methods/resources/Pfalciparum_chunk_override\n",
    "\t\tchunk_size => 4000000\n",
    "\t\treference_index => /lustre/scratch109/malaria/pf3k_methods/resources/Pfalciparum.genome.fasta.fai\n",
    "\tPipeline: snp_calling_gatk3_haplotype_caller_v2 (outputting to /lustre/scratch109/malaria/pf3k_mrs_1/output ):\n",
    "\t\tdelete_input_bams => 0\n",
    "\t\tgatk_key => /nfs/team112_internal/production/tools/bin/gatk/dj6_sanger.ac.uk.key\n",
    "\t\tgatk_path => /nfs/team112_internal/production/tools/bin/gatk/GenomeAnalysisTK-3.4-46\n",
    "\t\thaplotype_caller_options => --emitRefConfidence GVCF --variant_index_type LINEAR --variant_index_parameter 128000 --max_alternate_alleles 6\n",
    "\t\tjava_exe => /software/jre1.7.0_25/bin/java\n",
    "\t\tminimum_records => 0\n",
    "\t\treference_fasta => /lustre/scratch109/malaria/pf3k_methods/resources/Pfalciparum.genome.fasta\n",
    "Is all of this correct? <y|n>: y\n",
    "\n",
    "Your new PipelineSetup has been created!\n",
    "Name: pf3k_mrs_1_haplotype_caller; Id: 805 (remember at least one of these for use later)\n"
   ]
  },
  {
   "cell_type": "raw",
   "metadata": {
    "collapsed": true
   },
   "source": [
    "We've now gathered all information; here's what you've asked for:\n",
    "\tPipelineSetup name: pf3k_mrs_1_combine_gvcfs (for user rp7 controlled by farm 'farm3')\n",
    "\tDataSource: vrpipe->group_by_metadata with source pf3k_mrs_1_haplotype_caller[gatk_haplotype_caller_gatk3_v2:gatk_vcf_file]:\n",
    "\t\tfilter_after_grouping => 1\n",
    "\t\tmetadata_keys => chrom\n",
    "\tPipeline: gatk_combine_gvcfs_gatk3_merge_prepared (outputting to /lustre/scratch109/malaria/pf3k_mrs_1/output belonging to group team112):\n",
    "\t\tgatk_key => /nfs/team112_internal/production/tools/bin/gatk/dj6_sanger.ac.uk.key\n",
    "\t\tgatk_path => /nfs/team112_internal/production/tools/bin/gatk/GenomeAnalysisTK-3.5\n",
    "\t\tjava_exe => /software/jre1.7.0_25/bin/java\n",
    "\t\tmaxDirectMergingGroup => 100\n",
    "\t\tminimum_records => 0\n",
    "\t\treference_fasta => /lustre/scratch109/malaria/pf3k_methods/resources/Pfalciparum.genome.fasta\n",
    "\t\tremove_input_vcfs => 0\n",
    "Is all of this correct? <y|n>: y\n",
    "\n",
    "Your new PipelineSetup has been created!\n",
    "Name: pf3k_mrs_1_combine_gvcfs; Id: 806 (remember at least one of these for use later)\n"
   ]
  },
  {
   "cell_type": "raw",
   "metadata": {
    "collapsed": true
   },
   "source": [
    "We've now gathered all information; here's what you've asked for:\n",
    "\tPipelineSetup name: pf3k_mrs_1_genotype_gvcfs (for user rp7 controlled by farm 'farm3')\n",
    "\tDataSource: vrpipe->group_by_metadata with source pf3k_mrs_1_combine_gvcfs[1:genomic_vcf_files]:\n",
    "\t\tfilter_after_grouping => 1\n",
    "\t\tmetadata_keys => chrom\n",
    "\tPipeline: snp_calling_gatk3_genotype_gvcfs (outputting to /lustre/scratch109/malaria/pf3k_mrs_1/output belonging to group team112):\n",
    "\t\tgatk_key => /nfs/team112_internal/production/tools/bin/gatk/dj6_sanger.ac.uk.key\n",
    "\t\tgatk_path => /nfs/team112_internal/production/tools/bin/gatk/GenomeAnalysisTK-3.4-46\n",
    "\t\tgenotyper_options => --max_alternate_alleles 6 --annotation QualByDepth --annotation FisherStrand --annotation StrandOddsRatio --annotation VariantType --annotation GCContent --annotation TandemRepeatAnnotator\n",
    "\t\tjava_exe => /software/jre1.7.0_25/bin/java\n",
    "\t\tminimum_records => 0\n",
    "\t\treference_fasta => /lustre/scratch109/malaria/pf3k_methods/resources/Pfalciparum.genome.fasta\n",
    "\t\tremove_input_vcfs => 0\n",
    "Is all of this correct? <y|n>: y\n",
    "\n",
    "Your new PipelineSetup has been created!\n",
    "Name: pf3k_mrs_1_genotype_gvcfs; Id: 807 (remember at least one of these for use later)\n"
   ]
  },
  {
   "cell_type": "raw",
   "metadata": {
    "collapsed": true
   },
   "source": [
    "We've now gathered all information; here's what you've asked for:\n",
    "\tPipelineSetup name: pf3k_mrs_1_variant_recalibration_snps (for user rp7 controlled by farm 'farm3')\n",
    "\tDataSource: vrpipe->group_all with source pf3k_mrs_1_genotype_gvcfs[gatk_genotype_gvcfs_gatk3:gatk_vcf_file]:\n",
    "\tPipeline: gatk_variant_recalibration_for_snps_gatk3 (outputting to /lustre/scratch109/malaria/pf3k_mrs_1/output belonging to group team112):\n",
    "\t\tgatk_key => /nfs/team112_internal/production/tools/bin/gatk/dj6_sanger.ac.uk.key\n",
    "\t\tgatk_path => /nfs/team112_internal/production/tools/bin/gatk/GenomeAnalysisTK-3.4-46\n",
    "\t\tjava_exe => /software/jre1.7.0_25/bin/java\n",
    "\t\treference_fasta => /lustre/scratch109/malaria/pf3k_methods/resources/Pfalciparum.genome.fasta\n",
    "\t\tsnp_variant_recalibration_options => -resource:7g8_gb4,known=false,training=true,truth=true,prior=15.0 /nfs/team112_internal/oxford_mirror/data/plasmodium/pfalciparum/pf-crosses/data/public/1.0/7g8_gb4.combined.final.vcf.gz -resource:hb3_dd2,known=false,training=true,truth=true,prior=15.0 /nfs/team112_internal/oxford_mirror/data/plasmodium/pfalciparum/pf-crosses/data/public/1.0/hb3_dd2.combined.final.vcf.gz -resource:3d7_hb3,known=false,training=true,truth=true,prior=15.0 /nfs/team112_internal/oxford_mirror/data/plasmodium/pfalciparum/pf-crosses/data/public/1.0/3d7_hb3.combined.final.vcf.gz -an QD -an MQ -an MQRankSum -an ReadPosRankSum -an FS -an SOR -an DP --maxGaussians 8\n",
    "Is all of this correct? <y|n>: y\n",
    "\n",
    "Your new PipelineSetup has been created!\n",
    "Name: pf3k_mrs_1_variant_recalibration_snps; Id: 808 (remember at least one of these for use later)\n"
   ]
  },
  {
   "cell_type": "raw",
   "metadata": {
    "collapsed": true
   },
   "source": [
    "We've now gathered all information; here's what you've asked for:\n",
    "\tPipelineSetup name: pf3k_mrs_1_variant_recalibration_indels (for user rp7 controlled by farm 'farm3')\n",
    "\tDataSource: vrpipe->group_all with source pf3k_mrs_1_genotype_gvcfs[gatk_genotype_gvcfs_gatk3:gatk_vcf_file]:\n",
    "\tPipeline: gatk_variant_recalibration_for_indels_gatk3 (outputting to /lustre/scratch109/malaria/pf3k_mrs_1/output belonging to group team112):\n",
    "\t\tgatk_key => /nfs/team112_internal/production/tools/bin/gatk/dj6_sanger.ac.uk.key\n",
    "\t\tgatk_path => /nfs/team112_internal/production/tools/bin/gatk/GenomeAnalysisTK-3.4-46\n",
    "\t\tindel_variant_recalibration_options => -resource:7g8_gb4,known=false,training=true,truth=true,prior=15.0 /nfs/team112_internal/oxford_mirror/data/plasmodium/pfalciparum/pf-crosses/data/public/1.0/7g8_gb4.combined.final.vcf.gz -resource:hb3_dd2,known=false,training=true,truth=true,prior=15.0 /nfs/team112_internal/oxford_mirror/data/plasmodium/pfalciparum/pf-crosses/data/public/1.0/hb3_dd2.combined.final.vcf.gz -resource:3d7_hb3,known=false,training=true,truth=true,prior=15.0 /nfs/team112_internal/oxford_mirror/data/plasmodium/pfalciparum/pf-crosses/data/public/1.0/3d7_hb3.combined.final.vcf.gz -an QD -an DP -an MQ -an FS -an BaseQRankSum --maxGaussians 4\n",
    "\t\tjava_exe => /software/jre1.7.0_25/bin/java\n",
    "\t\treference_fasta => /lustre/scratch109/malaria/pf3k_methods/resources/Pfalciparum.genome.fasta\n",
    "Is all of this correct? <y|n>: y\n",
    "\n",
    "Your new PipelineSetup has been created!\n",
    "Name: pf3k_mrs_1_variant_recalibration_indels; Id: 809 (remember at least one of these for use later)\n"
   ]
  },
  {
   "cell_type": "raw",
   "metadata": {},
   "source": [
    "# We need to manually find the outputs of the previous 2 setups to feed into the next 2 setups\n",
    "\n",
    "malsrv3[rp7]3: vrpipe-fileinfo --setup pf3k_mrs_1_variant_recalibration_snps\n",
    "path\n",
    "/lustre/scratch109/malaria/pf3k_mrs_1/output/a/0/f/3/640831/1_gatk_variant_recalibration_for_snps_gatk3/SNP.recal\n",
    "/lustre/scratch109/malaria/pf3k_mrs_1/output/a/0/f/3/640831/1_gatk_variant_recalibration_for_snps_gatk3/SNP.recal.tranches\n",
    "/lustre/scratch109/malaria/pf3k_mrs_1/output/a/0/f/3/640831/1_gatk_variant_recalibration_for_snps_gatk3/SNP.recal.r\n",
    "\n",
    "malsrv3[rp7]5: vrpipe-fileinfo --setup pf3k_mrs_1_variant_recalibration_indels\n",
    "path\n",
    "/lustre/scratch109/malaria/pf3k_mrs_1/output/e/7/d/c/640831/1_gatk_variant_recalibration_for_indels_gatk3/INDEL.recal\n",
    "/lustre/scratch109/malaria/pf3k_mrs_1/output/e/7/d/c/640831/1_gatk_variant_recalibration_for_indels_gatk3/INDEL.recal.tranches\n",
    "/lustre/scratch109/malaria/pf3k_mrs_1/output/e/7/d/c/640831/1_gatk_variant_recalibration_for_indels_gatk3/INDEL.recal.r\n",
    "\n"
   ]
  },
  {
   "cell_type": "raw",
   "metadata": {},
   "source": [
    "We've now gathered all information; here's what you've asked for:\n",
    "\tPipelineSetup name: pf3k_mrs_1_apply_recalibration_snps (for user rp7 controlled by farm 'farm3')\n",
    "\tDataSource: vrpipe->all with source pf3k_mrs_1_genotype_gvcfs[gatk_genotype_gvcfs_gatk3:gatk_vcf_file]:\n",
    "\t\tfilter_after_grouping => 1\n",
    "\t\tmaintain_element_grouping => 1\n",
    "\tPipeline: gatk_select_variants_apply_recalibration_for_snps_gatk3 (outputting to /lustre/scratch109/malaria/pf3k_mrs_1/output belonging to group team112):\n",
    "\t\tcleanup => 0\n",
    "\t\tgatk_key => /nfs/team112_internal/production/tools/bin/gatk/dj6_sanger.ac.uk.key\n",
    "\t\tgatk_path => /nfs/team112_internal/production/tools/bin/gatk/GenomeAnalysisTK-3.4-46\n",
    "\t\tgatk_select_variants_options => -selectType SNP\n",
    "\t\tjava_exe => /software/jre1.7.0_25/bin/java\n",
    "\t\treference_fasta => /lustre/scratch109/malaria/pf3k_methods/resources/Pfalciparum.genome.fasta\n",
    "\t\tremove_input_vcfs => 0\n",
    "\t\tsnp_apply_recalibraton_options => --ts_filter_level 99.5 -tranchesFile /lustre/scratch109/malaria/pf3k_mrs_1/output/a/0/f/3/640831/1_gatk_variant_recalibration_for_snps_gatk3/SNP.recal.tranches -recalFile /lustre/scratch109/malaria/pf3k_mrs_1/output/a/0/f/3/640831/1_gatk_variant_recalibration_for_snps_gatk3/SNP.recal\n",
    "Is all of this correct? <y|n>: y\n",
    "\n",
    "Your new PipelineSetup has been created!\n",
    "Name: pf3k_mrs_1_apply_recalibration_snps; Id: 810 (remember at least one of these for use later)\n"
   ]
  },
  {
   "cell_type": "raw",
   "metadata": {},
   "source": [
    "We've now gathered all information; here's what you've asked for:\n",
    "\tPipelineSetup name: pf3k_mrs_1_apply_recalibration_indels (for user rp7 controlled by farm 'farm3')\n",
    "\tDataSource: vrpipe->all with source pf3k_mrs_1_genotype_gvcfs[gatk_genotype_gvcfs_gatk3:gatk_vcf_file]:\n",
    "\t\tfilter_after_grouping => 1\n",
    "\t\tmaintain_element_grouping => 1\n",
    "\tPipeline: gatk_select_variants_apply_recalibration_for_indels_gatk3 (outputting to /lustre/scratch109/malaria/pf3k_mrs_1/output belonging to group team112):\n",
    "\t\tcleanup => 0\n",
    "\t\tgatk_key => /nfs/team112_internal/production/tools/bin/gatk/dj6_sanger.ac.uk.key\n",
    "\t\tgatk_path => /nfs/team112_internal/production/tools/bin/gatk/GenomeAnalysisTK-3.4-46\n",
    "\t\tgatk_select_variants_options => -xlSelectType SNP\n",
    "\t\tindel_apply_recalibraton_options => --ts_filter_level 99.0 -tranchesFile /lustre/scratch109/malaria/pf3k_mrs_1/output/e/7/d/c/640831/1_gatk_variant_recalibration_for_indels_gatk3/INDEL.recal.tranches -recalFile /lustre/scratch109/malaria/pf3k_mrs_1/output/e/7/d/c/640831/1_gatk_variant_recalibration_for_indels_gatk3/INDEL.recal\n",
    "\t\tjava_exe => /software/jre1.7.0_25/bin/java\n",
    "\t\treference_fasta => /lustre/scratch109/malaria/pf3k_methods/resources/Pfalciparum.genome.fasta\n",
    "\t\tremove_input_vcfs => 0\n",
    "Is all of this correct? <y|n>: y\n",
    "\n",
    "Your new PipelineSetup has been created!\n",
    "Name: pf3k_mrs_1_apply_recalibration_indels; Id: 811 (remember at least one of these for use later)\n"
   ]
  },
  {
   "cell_type": "raw",
   "metadata": {},
   "source": [
    "# Note this was orginally setup 812 but had wrong regions bed, and then as setup 816 but Dushi had changed .tbi index file, so had to delete 812 and 816 create this new setup\n",
    "\n",
    "We've now gathered all information; here's what you've asked for:\n",
    "\tPipelineSetup name: pf3k_mrs_1_annotate_snps (for user rp7 controlled by farm 'farm3')\n",
    "\tDataSource: vrpipe->all with source pf3k_mrs_1_apply_recalibration_snps[gatk_apply_recalibration_for_snps_gatk3:recalibrated_vcf_files]:\n",
    "\t\tfilter_after_grouping => 1\n",
    "\t\tmaintain_element_grouping => 1\n",
    "\tPipeline: variant_annotation_using_snpeff_gatk_vcf_annotate (outputting to /lustre/scratch109/malaria/pf3k_mrs_1/output belonging to group team112):\n",
    "\t\tcleanup => 0\n",
    "\t\tgatk_key => /nfs/team112_internal/production/tools/bin/gatk/dj6_sanger.ac.uk.key\n",
    "\t\tgatk_path => /nfs/team112_internal/production/tools/bin/gatk/GenomeAnalysisTK-3.4-46\n",
    "\t\tjava_exe => /software/jre1.7.0_25/bin/java\n",
    "\t\treference_fasta => /lustre/scratch109/malaria/pf3k_methods/resources/Pfalciparum.genome.fasta\n",
    "\t\tremove_input_vcfs => 0\n",
    "\t\tsnpeff_config_path => /lustre/scratch109/malaria/pf3k_methods/resources/snpEff/snpEff.config\n",
    "\t\tsnpeff_datadir_path => /lustre/scratch109/malaria/pf3k_methods/resources/snpEff/data/\n",
    "\t\tsnpeff_genome_version => Pfalciparum_GeneDB_Aug2015\n",
    "\t\tsnpeff_options => -no-downstream -no-upstream -onlyProtein\n",
    "\t\tsnpeff_output_format => gatk\n",
    "\t\tsnpeff_path => /nfs/team112_internal/production/tools/bin/snpEff_4_1/\n",
    "\t\ttabix_exe => /usr/bin/tabix\n",
    "\t\tvariant_annotator_options => -A SnpEff\n",
    "\t\tvcf-annotate_exe => /nfs/team112_internal/production/tools/bin/vcftools_0.1.10/bin/vcf-annotate\n",
    "\t\tvcf-annotate_options => -a /nfs/users/nfs_r/rp7/temp_github_src/pf-crosses/meta/regions-20130225.bed.gz -d key=INFO,ID=RegionType,Number=1,Type=String,Description='The type of genome region within which the variant is found. SubtelomericRepeat: repetitive regions at the ends of the chromosomes. SubtelomericHypervariable: subtelomeric region of poor conservation between the 3D7 reference genome and other samples. InternalHypervariable: chromosome-internal region of poor conservation between the 3D7 reference genome and other samples. Centromere: start and end coordinates of the centromere genome annotation. Core: everything else.' -c CHROM,FROM,TO,INFO/RegionType\n",
    "Is all of this correct? <y|n>: y\n",
    "\n",
    "Your new PipelineSetup has been created!\n",
    "Name: pf3k_mrs_1_annotate_snps; Id: 818 (remember at least one of these for use later)\n"
   ]
  },
  {
   "cell_type": "raw",
   "metadata": {},
   "source": [
    "    # Note this was orginally setup 813 but had wrong regions bed so had to delete 813 and create this new setup. Also had reset and reactivate after realising problem with bed file (see above)\n",
    "\n",
    "We've now gathered all information; here's what you've asked for:\n",
    "\tPipelineSetup name: pf3k_mrs_1_annotate_indels (for user rp7 controlled by farm 'farm3')\n",
    "\tDataSource: vrpipe->all with source pf3k_mrs_1_apply_recalibration_indels[gatk_apply_recalibration_for_indels_gatk3:recalibrated_vcf_files]:\n",
    "\t\tfilter_after_grouping => 1\n",
    "\t\tmaintain_element_grouping => 1\n",
    "\tPipeline: variant_annotation_using_snpeff_gatk_vcf_annotate (outputting to /lustre/scratch109/malaria/pf3k_mrs_1/output belonging to group team112):\n",
    "\t\tcleanup => 0\n",
    "\t\tgatk_key => /nfs/team112_internal/production/tools/bin/gatk/dj6_sanger.ac.uk.key\n",
    "\t\tgatk_path => /nfs/team112_internal/production/tools/bin/gatk/GenomeAnalysisTK-3.4-46\n",
    "\t\tjava_exe => /software/jre1.7.0_25/bin/java\n",
    "\t\treference_fasta => /lustre/scratch109/malaria/pf3k_methods/resources/Pfalciparum.genome.fasta\n",
    "\t\tremove_input_vcfs => 0\n",
    "\t\tsnpeff_config_path => /lustre/scratch109/malaria/pf3k_methods/resources/snpEff/snpEff.config\n",
    "\t\tsnpeff_datadir_path => /lustre/scratch109/malaria/pf3k_methods/resources/snpEff/data/\n",
    "\t\tsnpeff_genome_version => Pfalciparum_GeneDB_Aug2015\n",
    "\t\tsnpeff_options => -no-downstream -no-upstream -onlyProtein\n",
    "\t\tsnpeff_output_format => gatk\n",
    "\t\tsnpeff_path => /nfs/team112_internal/production/tools/bin/snpEff_4_1/\n",
    "\t\ttabix_exe => /usr/bin/tabix\n",
    "\t\tvariant_annotator_options => -A SnpEff\n",
    "\t\tvcf-annotate_exe => /nfs/team112_internal/production/tools/bin/vcftools_0.1.10/bin/vcf-annotate\n",
    "\t\tvcf-annotate_options => -a /nfs/team112_internal/rp7/src/github/malariagen/pf-crosses/meta/regions-20130225.bed.gz -d key=INFO,ID=RegionType,Number=1,Type=String,Description='The type of genome region within which the variant is found. SubtelomericRepeat: repetitive regions at the ends of the chromosomes. SubtelomericHypervariable: subtelomeric region of poor conservation between the 3D7 reference genome and other samples. InternalHypervariable: chromosome-internal region of poor conservation between the 3D7 reference genome and other samples. Centromere: start and end coordinates of the centromere genome annotation. Core: everything else.' -c CHROM,FROM,TO,INFO/RegionType\n",
    "Is all of this correct? <y|n>: y\n",
    "\n",
    "Your new PipelineSetup has been created!\n",
    "Name: pf3k_mrs_1_annotate_indels; Id: 817 (remember at least one of these for use later)\n"
   ]
  },
  {
   "cell_type": "raw",
   "metadata": {},
   "source": [
    "# Note this had to be reset and reactivated after original annotation setups (812 and 813) had wrong regions bed\n",
    "\n",
    "We've now gathered all information; here's what you've asked for:\n",
    "\tPipelineSetup name: pf3k_mrs_1_combine_variants (for user rp7 controlled by farm 'farm3')\n",
    "\tDataSource: vrpipe->group_by_metadata with source pf3k_mrs_1_annotate_snps[vcf_annotate:annotated_vcf]|pf3k_mrs_1_annotate_indels[vcf_annotate:annotated_vcf]:\n",
    "\t\tfilter_after_grouping => 1\n",
    "\t\tmetadata_keys => chrom\n",
    "\tPipeline: gatk_combine_variants_gatk3 (outputting to /lustre/scratch109/malaria/pf3k_mrs_1/output belonging to group team112):\n",
    "\t\tgatk_combine_variants_options => -genotypeMergeOptions PRIORITIZE -priority snp,indel\n",
    "\t\tgatk_key => /nfs/team112_internal/production/tools/bin/gatk/dj6_sanger.ac.uk.key\n",
    "\t\tgatk_path => /nfs/team112_internal/production/tools/bin/gatk/GenomeAnalysisTK-3.4-46\n",
    "\t\tjava_exe => /software/jre1.7.0_25/bin/java\n",
    "\t\treference_fasta => /lustre/scratch109/malaria/pf3k_methods/resources/Pfalciparum.genome.fasta\n",
    "\t\tremove_input_vcfs => 0\n",
    "Is all of this correct? <y|n>: y\n",
    "\n",
    "Your new PipelineSetup has been created!\n",
    "Name: pf3k_mrs_1_combine_variants; Id: 814 (remember at least one of these for use later)\n"
   ]
  },
  {
   "cell_type": "raw",
   "metadata": {},
   "source": [
    "# Note this had to be reset and reactivated after original annotation setups (812 and 813) had wrong regions bed\n",
    "\n",
    "We've now gathered all information; here's what you've asked for:\n",
    "\tPipelineSetup name: pf3k_mrs_1_variant_filtration (for user rp7 controlled by farm 'farm3')\n",
    "\tDataSource: vrpipe->all with source pf3k_mrs_1_combine_variants[gatk_combine_variants_gatk3:combined_vcf_files]:\n",
    "\t\tfilter_after_grouping => 1\n",
    "\t\tmaintain_element_grouping => 1\n",
    "\tPipeline: gatk_variant_filter_gatk3 (outputting to /lustre/scratch109/malaria/pf3k_mrs_1/output belonging to group team112):\n",
    "\t\tgatk_key => /nfs/team112_internal/production/tools/bin/gatk/dj6_sanger.ac.uk.key\n",
    "\t\tgatk_path => /nfs/team112_internal/production/tools/bin/gatk/GenomeAnalysisTK-3.4-46\n",
    "\t\tgatk_variant_filtration_options => --filterName \\\"Low_VQSLOD\\\" --filterExpression \\\"VQSLOD <= 0.0\\\" --filterName \\\"Centromere\\\" --filterExpression \\\"RegionType == 'Centromere'\\\" --filterName \\\"InternalHypervariable\\\" --filterExpression \\\"RegionType == 'InternalHypervariable'\\\" --filterName \\\"SubtelomericHypervariable\\\" --filterExpression \\\"RegionType == 'SubtelomericHypervariable'\\\" --filterName \\\"SubtelomericRepeat\\\" --filterExpression \\\"RegionType == 'SubtelomericRepeat'\\\" --invalidatePreviousFilters\n",
    "\t\tjava_exe => /software/jre1.7.0_25/bin/java\n",
    "\t\treference_fasta => /lustre/scratch109/malaria/pf3k_methods/resources/Pfalciparum.genome.fasta\n",
    "\t\tremove_input_vcfs => 0\n",
    "Is all of this correct? <y|n>: y\n",
    "\n",
    "Your new PipelineSetup has been created!\n",
    "Name: pf3k_mrs_1_variant_filtration; Id: 815 (remember at least one of these for use later)\n"
   ]
  },
  {
   "cell_type": "raw",
   "metadata": {},
   "source": [
    "cd /nfs/team112_internal/rp7/data/pf3k/mrs_1\n",
    "mkdir vcf_symlinks\n",
    "mkdir vcf\n",
    "vrpipe-output --setup pf3k_mrs_1_variant_filtration --output_dir /nfs/team112_internal/rp7/data/pf3k/mrs_1/vcf_symlinks --basename_as_output\n",
    "cp -L vcf_symlinks/* vcf/\n",
    "rm -R vcf_symlinks"
   ]
  },
  {
   "cell_type": "markdown",
   "metadata": {
    "collapsed": true
   },
   "source": [
    "# Create whole genome VCF"
   ]
  },
  {
   "cell_type": "code",
   "execution_count": 10,
   "metadata": {
    "collapsed": true
   },
   "outputs": [],
   "source": [
    "!{BCFTOOLS} concat {\" \".join(chromosome_vcfs)} \\\n",
    "| sed 's/##FORMAT=<ID=AD,Number=./##FORMAT=<ID=AD,Number=R/' \\\n",
    "| bgzip -c > {WG_VCF_FN}\n",
    "!tabix -p vcf {WG_VCF_FN}"
   ]
  },
  {
   "cell_type": "code",
   "execution_count": 11,
   "metadata": {
    "collapsed": false
   },
   "outputs": [
    {
     "data": {
      "text/plain": [
       "'/nfs/team112_internal/rp7/data/pf3k/mrs_1/vcf/pf3k_mrs_1.vcf.gz'"
      ]
     },
     "execution_count": 11,
     "metadata": {},
     "output_type": "execute_result"
    }
   ],
   "source": [
    "WG_VCF_FN"
   ]
  },
  {
   "cell_type": "markdown",
   "metadata": {},
   "source": [
    "# Create bam summary file"
   ]
  },
  {
   "cell_type": "code",
   "execution_count": 12,
   "metadata": {
    "collapsed": false
   },
   "outputs": [
    {
     "data": {
      "text/plain": [
       "'/nfs/team112_internal/rp7/data/pf3k/mrs_1/pf3k_mrs_1_sample_metadata.txt'"
      ]
     },
     "execution_count": 12,
     "metadata": {},
     "output_type": "execute_result"
    }
   ],
   "source": [
    "RELEASE_METADATA_FN"
   ]
  },
  {
   "cell_type": "code",
   "execution_count": 18,
   "metadata": {
    "collapsed": false
   },
   "outputs": [],
   "source": [
    "!vrpipe-fileinfo \\\n",
    "--setup pf3k_mrs_1_bqsr \\\n",
    "--step gatk_print_reads_gatk3 \\\n",
    "--metadata sample,study,bases_callable_percent,bases_no_coverage_percent,bases_low_coverage_percent,bases_poor_mapping_quality_percent,mean_coverage \\\n",
    "| grep -v '\\.bai' \\\n",
    "> {RELEASE_METADATA_FN}\n"
   ]
  },
  {
   "cell_type": "markdown",
   "metadata": {},
   "source": [
    "# Create README section containing variant numbers"
   ]
  },
  {
   "cell_type": "code",
   "execution_count": 19,
   "metadata": {
    "collapsed": false
   },
   "outputs": [
    {
     "name": "stdout",
     "output_type": "stream",
     "text": [
      "574,132 variants\n",
      "358,702 SNPs\n",
      "215,430 indels\n",
      "\n",
      "168,486 PASS variants\n",
      "73,829 PASS SNPs\n",
      "94,657 PASS indels\n",
      "\n",
      "111,694 PASS biallelic variants\n",
      "66,073 PASS biallelic SNPs\n",
      "45,621 PASS biallelic indels\n",
      "\n",
      "78,657 VQSLOD>6.0 variants\n",
      "41,352 VQSLOD>6.0 SNPs\n",
      "37,305 VQSLOD>6.0 indels\n",
      "\n"
     ]
    }
   ],
   "source": [
    "number_of_snps = !{BCFTOOLS} query -f '%CHROM\\t%POS\\n' --include 'TYPE=\"snp\"' {WG_VCF_FN} | wc -l\n",
    "number_of_indels = !{BCFTOOLS} query -f '%CHROM\\t%POS\\n' --include 'TYPE!=\"snp\"' {WG_VCF_FN} | wc -l\n",
    "number_of_pass_snps = !{BCFTOOLS} query -f '%CHROM\\t%POS\\n' --include 'FILTER=\"PASS\" && TYPE=\"snp\"' {WG_VCF_FN} | wc -l\n",
    "number_of_pass_indels = !{BCFTOOLS} query -f '%CHROM\\t%POS\\n' --include 'FILTER=\"PASS\" && TYPE!=\"snp\"' {WG_VCF_FN} | wc -l\n",
    "number_of_pass_biallelic_snps = !{BCFTOOLS} query -f '%CHROM\\t%POS\\n' --include 'FILTER=\"PASS\" && TYPE=\"snp\" && N_ALT=1' {WG_VCF_FN} | wc -l\n",
    "number_of_pass_biallelic_indels = !{BCFTOOLS} query -f '%CHROM\\t%POS\\n' --include 'FILTER=\"PASS\" && TYPE!=\"snp\" && N_ALT=1' {WG_VCF_FN} | wc -l\n",
    "number_of_VQSLODgt6_snps = !{BCFTOOLS} query -f '%CHROM\\t%POS\\n' --include 'FILTER=\"PASS\" && TYPE=\"snp\" && VQSLOD>6' {WG_VCF_FN} | wc -l\n",
    "number_of_VQSLODgt6_indels = !{BCFTOOLS} query -f '%CHROM\\t%POS\\n' --include 'FILTER=\"PASS\" && TYPE!=\"snp\" && VQSLOD>6' {WG_VCF_FN} | wc -l\n",
    "\n",
    "print(\"%s variants\" % (\"{:,}\".format(int(number_of_snps[0]) + int(number_of_indels[0]))))\n",
    "print(\"%s SNPs\" % (\"{:,}\".format(int(number_of_snps[0]))))\n",
    "print(\"%s indels\" % (\"{:,}\".format(int(number_of_indels[0]))))\n",
    "print()\n",
    "print(\"%s PASS variants\" % (\"{:,}\".format(int(number_of_pass_snps[0]) + int(number_of_pass_indels[0]))))\n",
    "print(\"%s PASS SNPs\" % (\"{:,}\".format(int(number_of_pass_snps[0]))))\n",
    "print(\"%s PASS indels\" % (\"{:,}\".format(int(number_of_pass_indels[0]))))\n",
    "print()\n",
    "print(\"%s PASS biallelic variants\" % (\"{:,}\".format(int(number_of_pass_biallelic_snps[0]) + int(number_of_pass_biallelic_indels[0]))))\n",
    "print(\"%s PASS biallelic SNPs\" % (\"{:,}\".format(int(number_of_pass_biallelic_snps[0]))))\n",
    "print(\"%s PASS biallelic indels\" % (\"{:,}\".format(int(number_of_pass_biallelic_indels[0]))))\n",
    "print()\n",
    "print(\"%s VQSLOD>6.0 variants\" % (\"{:,}\".format(int(number_of_VQSLODgt6_snps[0]) + int(number_of_VQSLODgt6_indels[0]))))\n",
    "print(\"%s VQSLOD>6.0 SNPs\" % (\"{:,}\".format(int(number_of_VQSLODgt6_snps[0]))))\n",
    "print(\"%s VQSLOD>6.0 indels\" % (\"{:,}\".format(int(number_of_VQSLODgt6_indels[0]))))\n",
    "print()"
   ]
  },
  {
   "cell_type": "code",
   "execution_count": 20,
   "metadata": {
    "collapsed": false
   },
   "outputs": [
    {
     "name": "stdout",
     "output_type": "stream",
     "text": [
      "\n",
      "The VCF file contains details of 574,132 discovered variants of which 358,702\n",
      "are SNPs and 215,430 are indels (or multi-allelic mixtures of SNPs\n",
      "and indels). It is important to note that many of these variants are\n",
      "considered low quality. Only the variants for which the FILTER column is set\n",
      "to PASS should be considered of high quality. There are 168,486 such high-\n",
      "quality PASS variants (73,829 SNPs and 94,657 indels).\n",
      "\n",
      "The FILTER column is based on two types of information. Firstly certain regions\n",
      "of the genome are considered \"non-core\". This includes sub-telomeric regions,\n",
      "centromeres and internal VAR gene clusters on chromosomes 4, 6, 7, 8 and 12.\n",
      "The apicoplast and mitochondrion are also considered non-core. All variants within\n",
      "non-core regions are considered to be low quality, and hence will not have the\n",
      "FILTER column set to PASS. The regions which are core and non-core can be found\n",
      "in the file resources/regions-20130225.bed.gz.\n",
      "\n",
      "Secondly, variants are filtered out based on a quality score called VQSLOD. All\n",
      "variants with a VQSLOD score below 0 are filtered out, i.e. will have a value of\n",
      "Low_VQSLOD in the FILTER column, rather than PASS. The VQSLOD score for each\n",
      "variant can be found in the INFO field of the VCF file. It is possible to use the\n",
      "VQSLOD score to define a more or less stringent set of variants. For example for\n",
      "a very stringent set of the highest quality variants, select only those variants\n",
      "where VQSLOD >= 6. There are 41,352 such stringent SNPs and 37,305\n",
      "such stringent indels.\n",
      "\n",
      "It is also important to note that some variants have more than two alleles. For\n",
      "example, amongst the 73,829 high quality PASS SNPs, 66,073 are biallelic. The\n",
      "remaining 7,756 high quality PASS SNPs have 3 or more alleles. Similarly, amongst\n",
      "the 94,657 high-quality PASS indels, 45,621 are biallelic. The remaining\n",
      "49,036 high quality PASS indels have 3 or more alleles.\n",
      "\n"
     ]
    }
   ],
   "source": [
    "print('''\n",
    "The VCF file contains details of {number_of_variants} discovered variants of which {number_of_snps}\n",
    "are SNPs and {number_of_indels} are indels (or multi-allelic mixtures of SNPs\n",
    "and indels). It is important to note that many of these variants are\n",
    "considered low quality. Only the variants for which the FILTER column is set\n",
    "to PASS should be considered of high quality. There are {number_of_pass_variants} such high-\n",
    "quality PASS variants ({number_of_pass_snps} SNPs and {number_of_pass_indels} indels).\n",
    "\n",
    "The FILTER column is based on two types of information. Firstly certain regions\n",
    "of the genome are considered \"non-core\". This includes sub-telomeric regions,\n",
    "centromeres and internal VAR gene clusters on chromosomes 4, 6, 7, 8 and 12.\n",
    "The apicoplast and mitochondrion are also considered non-core. All variants within\n",
    "non-core regions are considered to be low quality, and hence will not have the\n",
    "FILTER column set to PASS. The regions which are core and non-core can be found\n",
    "in the file resources/regions-20130225.bed.gz.\n",
    "\n",
    "Secondly, variants are filtered out based on a quality score called VQSLOD. All\n",
    "variants with a VQSLOD score below 0 are filtered out, i.e. will have a value of\n",
    "Low_VQSLOD in the FILTER column, rather than PASS. The VQSLOD score for each\n",
    "variant can be found in the INFO field of the VCF file. It is possible to use the\n",
    "VQSLOD score to define a more or less stringent set of variants. For example for\n",
    "a very stringent set of the highest quality variants, select only those variants\n",
    "where VQSLOD >= 6. There are {number_of_VQSLODgt6_snps} such stringent SNPs and {number_of_VQSLODgt6_indels}\n",
    "such stringent indels.\n",
    "\n",
    "It is also important to note that some variants have more than two alleles. For\n",
    "example, amongst the {number_of_pass_snps} high quality PASS SNPs, {number_of_pass_biallelic_snps} are biallelic. The\n",
    "remaining {number_of_pass_multiallelic_snps} high quality PASS SNPs have 3 or more alleles. Similarly, amongst\n",
    "the {number_of_pass_indels} high-quality PASS indels, {number_of_pass_biallelic_indels} are biallelic. The remaining\n",
    "{number_of_pass_multiallelic_indels} high quality PASS indels have 3 or more alleles.\n",
    "'''.format(\n",
    "        number_of_variants=\"{:,}\".format(int(number_of_snps[0]) + int(number_of_indels[0])),\n",
    "        number_of_snps=\"{:,}\".format(int(number_of_snps[0])),\n",
    "        number_of_indels=\"{:,}\".format(int(number_of_indels[0])),\n",
    "        number_of_pass_variants=\"{:,}\".format(int(number_of_pass_snps[0]) + int(number_of_pass_indels[0])),\n",
    "        number_of_pass_snps=\"{:,}\".format(int(number_of_pass_snps[0])),\n",
    "        number_of_pass_indels=\"{:,}\".format(int(number_of_pass_indels[0])),\n",
    "        number_of_VQSLODgt6_snps=\"{:,}\".format(int(number_of_VQSLODgt6_snps[0])),\n",
    "        number_of_VQSLODgt6_indels=\"{:,}\".format(int(number_of_VQSLODgt6_indels[0])),\n",
    "        number_of_pass_biallelic_snps=\"{:,}\".format(int(number_of_pass_biallelic_snps[0])),\n",
    "        number_of_pass_biallelic_indels=\"{:,}\".format(int(number_of_pass_biallelic_indels[0])),\n",
    "        number_of_pass_multiallelic_snps=\"{:,}\".format(int(number_of_pass_snps[0]) - int(number_of_pass_biallelic_snps[0])),\n",
    "        number_of_pass_multiallelic_indels=\"{:,}\".format(int(number_of_pass_indels[0]) - int(number_of_pass_biallelic_indels[0])),\n",
    "    )\n",
    ")"
   ]
  },
  {
   "cell_type": "code",
   "execution_count": 21,
   "metadata": {
    "collapsed": false
   },
   "outputs": [
    {
     "data": {
      "text/plain": [
       "'168,486/574,132 variants (29%) pass all filters'"
      ]
     },
     "execution_count": 21,
     "metadata": {},
     "output_type": "execute_result"
    }
   ],
   "source": [
    "\"{number_of_pass_variants}/{number_of_variants} variants ({pct_pass}%) pass all filters\".format(\n",
    "        number_of_variants=\"{:,}\".format(int(number_of_snps[0]) + int(number_of_indels[0])),\n",
    "        number_of_pass_variants=\"{:,}\".format(int(number_of_pass_snps[0]) + int(number_of_pass_indels[0])),\n",
    "        pct_pass=round((\n",
    "            (int(number_of_pass_snps[0]) + int(number_of_pass_indels[0])) /\n",
    "            (int(number_of_snps[0]) + int(number_of_indels[0]))\n",
    "        ) * 100)\n",
    ")"
   ]
  },
  {
   "cell_type": "markdown",
   "metadata": {},
   "source": [
    "# Make all files read-only"
   ]
  },
  {
   "cell_type": "code",
   "execution_count": 23,
   "metadata": {
    "collapsed": false
   },
   "outputs": [
    {
     "name": "stdout",
     "output_type": "stream",
     "text": [
      "chmod: changing permissions of `/nfs/team112_internal/rp7/data/pf3k/mrs_1/pf3k_mrs_1_thomas_bams.txt': Operation not permitted\r\n"
     ]
    }
   ],
   "source": [
    "!chmod -R uga-w {RELEASE_DIR}"
   ]
  },
  {
   "cell_type": "code",
   "execution_count": null,
   "metadata": {
    "collapsed": true
   },
   "outputs": [],
   "source": []
  }
 ],
 "metadata": {
  "kernelspec": {
   "display_name": "Python 3",
   "language": "python",
   "name": "python3"
  },
  "language_info": {
   "codemirror_mode": {
    "name": "ipython",
    "version": 3
   },
   "file_extension": ".py",
   "mimetype": "text/x-python",
   "name": "python",
   "nbconvert_exporter": "python",
   "pygments_lexer": "ipython3",
   "version": "3.4.3"
  }
 },
 "nbformat": 4,
 "nbformat_minor": 0
}
