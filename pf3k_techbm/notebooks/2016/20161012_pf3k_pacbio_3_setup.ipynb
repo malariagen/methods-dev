{
 "cells": [
  {
   "cell_type": "markdown",
   "metadata": {},
   "source": [
    "# Introduction\n",
    "This is details of a VR-PIPE setup of full calling pipeline of \"reads\" created by splitting PacBio reference genomes in 50kb chunks, with 7 different starting points 1kb apart, giving 7x coverage (Thomas created these). Unlike previous versions (pf3k_pacbio_1 and pf3k_pacbio_2) here we only use the 5 samples we want to use in FDR and sensitivity analyses. The reason we want to do this is that the number of alt alleles is limited to 6, so we want to make sure we capture them all"
   ]
  },
  {
   "cell_type": "code",
   "execution_count": 1,
   "metadata": {
    "collapsed": false
   },
   "outputs": [
    {
     "name": "stdout",
     "output_type": "stream",
     "text": [
      "python 3.4.5 |Anaconda 2.2.0 (64-bit)| (default, Jul  2 2016, 17:47:47) \n",
      "[GCC 4.4.7 20120313 (Red Hat 4.4.7-1)]\n",
      "numpy 1.11.1\n",
      "scipy 0.18.0\n",
      "pandas 0.15.2\n",
      "numexpr 2.3.1\n",
      "pysam 0.9.1.4\n",
      "pysamstats 0.24.3\n",
      "petl 1.1.0\n",
      "petlx 1.0.3\n",
      "vcf 0.6.7\n",
      "vcfnp 2.3.0.dev0\n",
      "h5py 2.4.0\n",
      "tables 3.1.1\n"
     ]
    }
   ],
   "source": [
    "%run _standard_imports.ipynb\n",
    "%run _shared_setup.ipynb\n"
   ]
  },
  {
   "cell_type": "code",
   "execution_count": 2,
   "metadata": {
    "collapsed": false
   },
   "outputs": [
    {
     "data": {
      "text/plain": [
       "'/nfs/team112_internal/rp7/data/pf3k'"
      ]
     },
     "execution_count": 2,
     "metadata": {},
     "output_type": "execute_result"
    }
   ],
   "source": [
    "DATA_DIR"
   ]
  },
  {
   "cell_type": "code",
   "execution_count": 8,
   "metadata": {
    "collapsed": true
   },
   "outputs": [],
   "source": [
    "RELEASE_DIR = \"%s/pacbio_3\" % DATA_DIR\n",
    "RESOURCES_DIR = '%s/resources' % RELEASE_DIR\n",
    "\n",
    "# GENOME_FN = \"/nfs/pathogen003/tdo/Pfalciparum/3D7/Reference/Oct2011/Pf3D7_v3.fasta\" # Note this ref used by Thomas is different to other refs we have used, e.g. chromsomes aren't in numerical order\n",
    "GENOME_FN = \"/lustre/scratch109/malaria/pf3k_methods/resources/Pfalciparum.genome.fasta\"\n",
    "SNPEFF_DIR = \"/lustre/scratch109/malaria/pf3k_methods/resources/snpEff\"\n",
    "REGIONS_FN = \"/nfs/team112_internal/rp7/src/github/malariagen/pf-crosses/meta/regions-20130225.bed.gz\"\n",
    "\n",
    "RELEASE_METADATA_FN = \"%s/pf3k_pacbio_3_sample_metadata.txt\" % RELEASE_DIR\n",
    "WG_VCF_FN = \"%s/vcf/pf3k_pacbio_3.vcf.gz\" % RELEASE_DIR\n",
    "\n",
    "BCFTOOLS = '/nfs/team112_internal/rp7/src/github/malariagen/methods-dev/pf3k_techbm/opt_4/bcftools/bcftools'\n",
    "PICARD = 'java -jar /nfs/team112_internal/rp7/src/github/malariagen/methods-dev/pf3k_techbm/opt_4/picard/picard-tools-1.137/picard.jar'\n",
    "\n",
    "VRPIPE_FOFN = \"%s/pf3k_pacbio_3.fofn\" % RELEASE_DIR\n",
    "HC_INPUT_FOFN = \"%s/pf3k_pacbio_3_hc_input.fofn\" % RELEASE_DIR\n"
   ]
  },
  {
   "cell_type": "code",
   "execution_count": 3,
   "metadata": {
    "collapsed": false
   },
   "outputs": [
    {
     "name": "stdout",
     "output_type": "stream",
     "text": [
      "/nfs/team112_internal/rp7/data/pf3k/pacbio_3/vcf/pf3k_pacbio_3.vcf.gz\n"
     ]
    }
   ],
   "source": [
    "print(WG_VCF_FN)"
   ]
  },
  {
   "cell_type": "code",
   "execution_count": 4,
   "metadata": {
    "collapsed": false
   },
   "outputs": [
    {
     "data": {
      "text/plain": [
       "['/nfs/team112_internal/rp7/data/pf3k/pacbio_3/vcf/SNP_INDEL_Pf3D7_01_v3.combined.filtered.vcf.gz',\n",
       " '/nfs/team112_internal/rp7/data/pf3k/pacbio_3/vcf/SNP_INDEL_Pf3D7_02_v3.combined.filtered.vcf.gz',\n",
       " '/nfs/team112_internal/rp7/data/pf3k/pacbio_3/vcf/SNP_INDEL_Pf3D7_03_v3.combined.filtered.vcf.gz',\n",
       " '/nfs/team112_internal/rp7/data/pf3k/pacbio_3/vcf/SNP_INDEL_Pf3D7_04_v3.combined.filtered.vcf.gz',\n",
       " '/nfs/team112_internal/rp7/data/pf3k/pacbio_3/vcf/SNP_INDEL_Pf3D7_05_v3.combined.filtered.vcf.gz',\n",
       " '/nfs/team112_internal/rp7/data/pf3k/pacbio_3/vcf/SNP_INDEL_Pf3D7_06_v3.combined.filtered.vcf.gz',\n",
       " '/nfs/team112_internal/rp7/data/pf3k/pacbio_3/vcf/SNP_INDEL_Pf3D7_07_v3.combined.filtered.vcf.gz',\n",
       " '/nfs/team112_internal/rp7/data/pf3k/pacbio_3/vcf/SNP_INDEL_Pf3D7_08_v3.combined.filtered.vcf.gz',\n",
       " '/nfs/team112_internal/rp7/data/pf3k/pacbio_3/vcf/SNP_INDEL_Pf3D7_09_v3.combined.filtered.vcf.gz',\n",
       " '/nfs/team112_internal/rp7/data/pf3k/pacbio_3/vcf/SNP_INDEL_Pf3D7_10_v3.combined.filtered.vcf.gz',\n",
       " '/nfs/team112_internal/rp7/data/pf3k/pacbio_3/vcf/SNP_INDEL_Pf3D7_11_v3.combined.filtered.vcf.gz',\n",
       " '/nfs/team112_internal/rp7/data/pf3k/pacbio_3/vcf/SNP_INDEL_Pf3D7_12_v3.combined.filtered.vcf.gz',\n",
       " '/nfs/team112_internal/rp7/data/pf3k/pacbio_3/vcf/SNP_INDEL_Pf3D7_13_v3.combined.filtered.vcf.gz',\n",
       " '/nfs/team112_internal/rp7/data/pf3k/pacbio_3/vcf/SNP_INDEL_Pf3D7_14_v3.combined.filtered.vcf.gz']"
      ]
     },
     "execution_count": 4,
     "metadata": {},
     "output_type": "execute_result"
    }
   ],
   "source": [
    "chromosomes = [\"Pf3D7_%02d_v3\" % x for x in range(1, 15, 1)]\n",
    "#     'Pf3D7_API_v3', 'Pf_M76611'\n",
    "# ]\n",
    "chromosome_vcfs = [\"%s/vcf/SNP_INDEL_%s.combined.filtered.vcf.gz\" % (RELEASE_DIR, x) for x in chromosomes]\n",
    "chromosome_vcfs"
   ]
  },
  {
   "cell_type": "code",
   "execution_count": 5,
   "metadata": {
    "collapsed": true
   },
   "outputs": [],
   "source": [
    "if not os.path.exists(RESOURCES_DIR):\n",
    "    os.makedirs(RESOURCES_DIR)"
   ]
  },
  {
   "cell_type": "code",
   "execution_count": 6,
   "metadata": {
    "collapsed": false
   },
   "outputs": [],
   "source": [
    "for lustre_dir in ['temp', 'input', 'output', 'meta']:\n",
    "    new_dir = \"/lustre/scratch109/malaria/pf3k_pacbio/%s\" % lustre_dir\n",
    "    if not os.path.exists(new_dir):\n",
    "        os.makedirs(new_dir)"
   ]
  },
  {
   "cell_type": "code",
   "execution_count": 7,
   "metadata": {
    "collapsed": true
   },
   "outputs": [],
   "source": [
    "validation_bam_sample_ids = ['Pf7G8', 'PfGB4', 'PfGN01', 'PfKE01', 'PfKH02']"
   ]
  },
  {
   "cell_type": "code",
   "execution_count": 12,
   "metadata": {
    "collapsed": false
   },
   "outputs": [
    {
     "name": "stdout",
     "output_type": "stream",
     "text": [
      "[Mon Jul 18 18:24:30 BST 2016] picard.sam.AddOrReplaceReadGroups INPUT=/lustre/scratch108/parasites/tdo/Pfalciparum/PF3K/Reference12Genomes/Mapping_wholeChromosomes/ReRun_Splitting_50k_14072016/Res.Mapped.PfSD01_04_07.fasta.Merged.0407.bam OUTPUT=/lustre/scratch109/malaria/pf3k_pacbio/temp/PfSD01_04_07.bam RGID=PfSD01 RGLB=PfSD01 RGPL=illumina RGPU=PfSD01 RGSM=PfSD01    VERBOSITY=INFO QUIET=false VALIDATION_STRINGENCY=STRICT COMPRESSION_LEVEL=5 MAX_RECORDS_IN_RAM=500000 CREATE_INDEX=false CREATE_MD5_FILE=false GA4GH_CLIENT_SECRETS=client_secrets.json\n",
      "[Mon Jul 18 18:24:30 BST 2016] Executing as rp7@malsrv3 on Linux 3.2.0-75-generic amd64; OpenJDK 64-Bit Server VM 1.6.0_32-b32; Picard version: 1.137(c8c9f584d7042e98867ea3cfc355fb7b89acd2e6_1438018139) IntelDeflater\n",
      "INFO\t2016-07-18 18:24:31\tAddOrReplaceReadGroups\tCreated read group ID=PfSD01 PL=illumina LB=PfSD01 SM=PfSD01\n",
      "\n",
      "[Mon Jul 18 18:24:33 BST 2016] picard.sam.AddOrReplaceReadGroups done. Elapsed time: 0.06 minutes.\n",
      "Runtime.totalMemory()=154599424\n"
     ]
    }
   ],
   "source": [
    "sample_chrom = 'PfSD01_04_07'\n",
    "sample_id = 'PfSD01'\n",
    "!{PICARD} AddOrReplaceReadGroups I=/lustre/scratch108/parasites/tdo/Pfalciparum/PF3K/Reference12Genomes/Mapping_wholeChromosomes/ReRun_Splitting_50k_14072016/Res.Mapped.PfSD01_04_07.fasta.Merged.0407.bam \\\n",
    "O=/lustre/scratch109/malaria/pf3k_pacbio/temp/{sample_chrom}.bam RGID={sample_id} RGSM={sample_id} \\\n",
    "RGLB={sample_id} RGPU={sample_id} RGPL=illumina\n",
    "\n"
   ]
  },
  {
   "cell_type": "code",
   "execution_count": 36,
   "metadata": {
    "collapsed": false
   },
   "outputs": [
    {
     "name": "stdout",
     "output_type": "stream",
     "text": [
      "[Mon Jul 18 21:01:49 BST 2016] picard.sam.MergeSamFiles INPUT=[/lustre/scratch109/malaria/pf3k_pacbio/temp/PfSD01_04_07.bam, /lustre/scratch109/malaria/pf3k_pacbio/temp/PfSD01_01.bam, /lustre/scratch109/malaria/pf3k_pacbio/temp/PfSD01_02.bam, /lustre/scratch109/malaria/pf3k_pacbio/temp/PfSD01_03.bam, /lustre/scratch109/malaria/pf3k_pacbio/temp/PfSD01_05.bam, /lustre/scratch109/malaria/pf3k_pacbio/temp/PfSD01_06.bam, /lustre/scratch109/malaria/pf3k_pacbio/temp/PfSD01_08.bam, /lustre/scratch109/malaria/pf3k_pacbio/temp/PfSD01_09.bam, /lustre/scratch109/malaria/pf3k_pacbio/temp/PfSD01_10.bam, /lustre/scratch109/malaria/pf3k_pacbio/temp/PfSD01_11.bam, /lustre/scratch109/malaria/pf3k_pacbio/temp/PfSD01_12.bam, /lustre/scratch109/malaria/pf3k_pacbio/temp/PfSD01_13.bam, /lustre/scratch109/malaria/pf3k_pacbio/temp/PfSD01_14.bam] OUTPUT=/lustre/scratch109/malaria/pf3k_pacbio/input/PfSD01.bam MERGE_SEQUENCE_DICTIONARIES=true    SORT_ORDER=coordinate ASSUME_SORTED=false USE_THREADING=false VERBOSITY=INFO QUIET=false VALIDATION_STRINGENCY=STRICT COMPRESSION_LEVEL=5 MAX_RECORDS_IN_RAM=500000 CREATE_INDEX=false CREATE_MD5_FILE=false GA4GH_CLIENT_SECRETS=client_secrets.json\n",
      "[Mon Jul 18 21:01:49 BST 2016] Executing as rp7@malsrv3 on Linux 3.2.0-75-generic amd64; OpenJDK 64-Bit Server VM 1.6.0_32-b32; Picard version: 1.137(c8c9f584d7042e98867ea3cfc355fb7b89acd2e6_1438018139) IntelDeflater\n",
      "INFO\t2016-07-18 21:01:49\tMergeSamFiles\tInput files are in same order as output so sorting to temp directory is not needed.\n",
      "INFO\t2016-07-18 21:02:08\tMergeSamFiles\tFinished reading inputs.\n",
      "[Mon Jul 18 21:02:08 BST 2016] picard.sam.MergeSamFiles done. Elapsed time: 0.32 minutes.\n",
      "Runtime.totalMemory()=105840640\n",
      "[Mon Jul 18 21:02:08 BST 2016] picard.sam.BuildBamIndex INPUT=/lustre/scratch109/malaria/pf3k_pacbio/input/PfSD01.bam    VERBOSITY=INFO QUIET=false VALIDATION_STRINGENCY=STRICT COMPRESSION_LEVEL=5 MAX_RECORDS_IN_RAM=500000 CREATE_INDEX=false CREATE_MD5_FILE=false GA4GH_CLIENT_SECRETS=client_secrets.json\n",
      "[Mon Jul 18 21:02:08 BST 2016] Executing as rp7@malsrv3 on Linux 3.2.0-75-generic amd64; OpenJDK 64-Bit Server VM 1.6.0_32-b32; Picard version: 1.137(c8c9f584d7042e98867ea3cfc355fb7b89acd2e6_1438018139) IntelDeflater\n",
      "WARNING: BAM index file /lustre/scratch109/malaria/pf3k_pacbio/input/PfSD01.bai is older than BAM /lustre/scratch109/malaria/pf3k_pacbio/input/PfSD01.bam\n",
      "INFO\t2016-07-18 21:02:11\tBuildBamIndex\tSuccessfully wrote bam index file /lustre/scratch109/malaria/pf3k_pacbio/input/PfSD01.bai\n",
      "[Mon Jul 18 21:02:11 BST 2016] picard.sam.BuildBamIndex done. Elapsed time: 0.05 minutes.\n",
      "Runtime.totalMemory()=337641472\n"
     ]
    }
   ],
   "source": [
    "sample_id = 'PfSD01'\n",
    "sample_chrom = 'PfSD01_04_07'\n",
    "input_bams = ['I=/lustre/scratch109/malaria/pf3k_pacbio/temp/%s.bam' % sample_chrom] + ['I=/lustre/scratch109/malaria/pf3k_pacbio/temp/%s_%02d.bam' % (sample_id, x) for x in\n",
    "              [1, 2, 3, 5, 6, 8, 9, 10, 11, 12, 13, 14]]\n",
    "output_bam = '/lustre/scratch109/malaria/pf3k_pacbio/input/%s.bam' % sample_id\n",
    "!{PICARD} MergeSamFiles {' '.join(input_bams)} O={output_bam} MERGE_SEQUENCE_DICTIONARIES=true\n",
    "!{PICARD} BuildBamIndex I={output_bam}"
   ]
  },
  {
   "cell_type": "code",
   "execution_count": 43,
   "metadata": {
    "collapsed": false,
    "scrolled": true
   },
   "outputs": [
    {
     "name": "stdout",
     "output_type": "stream",
     "text": [
      "[Mon Jul 18 21:26:45 BST 2016] picard.sam.ReplaceSamHeader INPUT=/lustre/scratch109/malaria/pf3k_pacbio/input/PfSD01.bam HEADER=/lustre/scratch109/malaria/pf3k_pacbio/input/PfSD01.header.sam OUTPUT=/lustre/scratch109/malaria/pf3k_pacbio/input/PfSD01reheader.bam    VERBOSITY=INFO QUIET=false VALIDATION_STRINGENCY=STRICT COMPRESSION_LEVEL=5 MAX_RECORDS_IN_RAM=500000 CREATE_INDEX=false CREATE_MD5_FILE=false GA4GH_CLIENT_SECRETS=client_secrets.json\n",
      "[Mon Jul 18 21:26:45 BST 2016] Executing as rp7@malsrv3 on Linux 3.2.0-75-generic amd64; OpenJDK 64-Bit Server VM 1.6.0_32-b32; Picard version: 1.137(c8c9f584d7042e98867ea3cfc355fb7b89acd2e6_1438018139) IntelDeflater\n",
      "[Mon Jul 18 21:26:46 BST 2016] picard.sam.ReplaceSamHeader done. Elapsed time: 0.01 minutes.\n",
      "Runtime.totalMemory()=125435904\n"
     ]
    }
   ],
   "source": [
    "!{PICARD} ReplaceSamHeader I={output_bam} O={output_bam.replace('.bam', 'reheader.bam')} \\\n",
    "HEADER=/lustre/scratch109/malaria/pf3k_pacbio/input/PfSD01.header.sam"
   ]
  },
  {
   "cell_type": "code",
   "execution_count": 37,
   "metadata": {
    "collapsed": false
   },
   "outputs": [
    {
     "data": {
      "text/plain": [
       "['I=/lustre/scratch109/malaria/pf3k_pacbio/temp/PfSD01_04_07.bam',\n",
       " 'I=/lustre/scratch109/malaria/pf3k_pacbio/temp/PfSD01_01.bam',\n",
       " 'I=/lustre/scratch109/malaria/pf3k_pacbio/temp/PfSD01_02.bam',\n",
       " 'I=/lustre/scratch109/malaria/pf3k_pacbio/temp/PfSD01_03.bam',\n",
       " 'I=/lustre/scratch109/malaria/pf3k_pacbio/temp/PfSD01_05.bam',\n",
       " 'I=/lustre/scratch109/malaria/pf3k_pacbio/temp/PfSD01_06.bam',\n",
       " 'I=/lustre/scratch109/malaria/pf3k_pacbio/temp/PfSD01_08.bam',\n",
       " 'I=/lustre/scratch109/malaria/pf3k_pacbio/temp/PfSD01_09.bam',\n",
       " 'I=/lustre/scratch109/malaria/pf3k_pacbio/temp/PfSD01_10.bam',\n",
       " 'I=/lustre/scratch109/malaria/pf3k_pacbio/temp/PfSD01_11.bam',\n",
       " 'I=/lustre/scratch109/malaria/pf3k_pacbio/temp/PfSD01_12.bam',\n",
       " 'I=/lustre/scratch109/malaria/pf3k_pacbio/temp/PfSD01_13.bam',\n",
       " 'I=/lustre/scratch109/malaria/pf3k_pacbio/temp/PfSD01_14.bam']"
      ]
     },
     "execution_count": 37,
     "metadata": {},
     "output_type": "execute_result"
    }
   ],
   "source": [
    "input_bams"
   ]
  },
  {
   "cell_type": "code",
   "execution_count": 45,
   "metadata": {
    "collapsed": false
   },
   "outputs": [
    {
     "name": "stdout",
     "output_type": "stream",
     "text": [
      "[Mon Jul 18 21:28:31 BST 2016] picard.sam.ReorderSam INPUT=/lustre/scratch109/malaria/pf3k_pacbio/input/PfSD01reheader.bam OUTPUT=/lustre/scratch109/malaria/pf3k_pacbio/input/PfSD01.sorted.bam REFERENCE=/lustre/scratch109/malaria/pf3k_methods/resources/Pfalciparum.genome.fasta    ALLOW_INCOMPLETE_DICT_CONCORDANCE=false ALLOW_CONTIG_LENGTH_DISCORDANCE=false VERBOSITY=INFO QUIET=false VALIDATION_STRINGENCY=STRICT COMPRESSION_LEVEL=5 MAX_RECORDS_IN_RAM=500000 CREATE_INDEX=false CREATE_MD5_FILE=false GA4GH_CLIENT_SECRETS=client_secrets.json\n",
      "[Mon Jul 18 21:28:31 BST 2016] Executing as rp7@malsrv3 on Linux 3.2.0-75-generic amd64; OpenJDK 64-Bit Server VM 1.6.0_32-b32; Picard version: 1.135(83ec44e03ec8d07ef180ef86b7a62d59a80dedd3_1435607037) IntelDeflater\n",
      "INFO\t2016-07-18 21:28:31\tReorderSam\tSAM/BAM file\n",
      "INFO\t2016-07-18 21:28:31\tReorderSam\t  SN=%s LN=%d%nPf3D7_04_v31200490\n",
      "INFO\t2016-07-18 21:28:31\tReorderSam\t  SN=%s LN=%d%nPf3D7_07_v31445207\n",
      "INFO\t2016-07-18 21:28:31\tReorderSam\t  SN=%s LN=%d%nPf3D7_01_v3640851\n",
      "INFO\t2016-07-18 21:28:31\tReorderSam\t  SN=%s LN=%d%nPf3D7_02_v3947102\n",
      "INFO\t2016-07-18 21:28:31\tReorderSam\t  SN=%s LN=%d%nPf3D7_03_v31067971\n",
      "INFO\t2016-07-18 21:28:31\tReorderSam\t  SN=%s LN=%d%nPf3D7_05_v31343557\n",
      "INFO\t2016-07-18 21:28:31\tReorderSam\t  SN=%s LN=%d%nPf3D7_06_v31418242\n",
      "INFO\t2016-07-18 21:28:31\tReorderSam\t  SN=%s LN=%d%nPf3D7_08_v31472805\n",
      "INFO\t2016-07-18 21:28:31\tReorderSam\t  SN=%s LN=%d%nPf3D7_09_v31541735\n",
      "INFO\t2016-07-18 21:28:31\tReorderSam\t  SN=%s LN=%d%nPf3D7_10_v31687656\n",
      "INFO\t2016-07-18 21:28:31\tReorderSam\t  SN=%s LN=%d%nPf3D7_11_v32038340\n",
      "INFO\t2016-07-18 21:28:31\tReorderSam\t  SN=%s LN=%d%nPf3D7_12_v32271494\n",
      "INFO\t2016-07-18 21:28:31\tReorderSam\t  SN=%s LN=%d%nPf3D7_13_v32925236\n",
      "INFO\t2016-07-18 21:28:31\tReorderSam\t  SN=%s LN=%d%nPf3D7_14_v33291936\n",
      "INFO\t2016-07-18 21:28:31\tReorderSam\t  SN=%s LN=%d%nPf3D7_API_v334250\n",
      "INFO\t2016-07-18 21:28:31\tReorderSam\t  SN=%s LN=%d%nPf_M766115967\n",
      "INFO\t2016-07-18 21:28:31\tReorderSam\tReference\n",
      "INFO\t2016-07-18 21:28:31\tReorderSam\t  SN=%s LN=%d%nPf3D7_01_v3640851\n",
      "INFO\t2016-07-18 21:28:31\tReorderSam\t  SN=%s LN=%d%nPf3D7_02_v3947102\n",
      "INFO\t2016-07-18 21:28:31\tReorderSam\t  SN=%s LN=%d%nPf3D7_03_v31067971\n",
      "INFO\t2016-07-18 21:28:31\tReorderSam\t  SN=%s LN=%d%nPf3D7_04_v31200490\n",
      "INFO\t2016-07-18 21:28:31\tReorderSam\t  SN=%s LN=%d%nPf3D7_05_v31343557\n",
      "INFO\t2016-07-18 21:28:31\tReorderSam\t  SN=%s LN=%d%nPf3D7_06_v31418242\n",
      "INFO\t2016-07-18 21:28:31\tReorderSam\t  SN=%s LN=%d%nPf3D7_07_v31445207\n",
      "INFO\t2016-07-18 21:28:31\tReorderSam\t  SN=%s LN=%d%nPf3D7_08_v31472805\n",
      "INFO\t2016-07-18 21:28:31\tReorderSam\t  SN=%s LN=%d%nPf3D7_09_v31541735\n",
      "INFO\t2016-07-18 21:28:31\tReorderSam\t  SN=%s LN=%d%nPf3D7_10_v31687656\n",
      "INFO\t2016-07-18 21:28:31\tReorderSam\t  SN=%s LN=%d%nPf3D7_11_v32038340\n",
      "INFO\t2016-07-18 21:28:31\tReorderSam\t  SN=%s LN=%d%nPf3D7_12_v32271494\n",
      "INFO\t2016-07-18 21:28:31\tReorderSam\t  SN=%s LN=%d%nPf3D7_13_v32925236\n",
      "INFO\t2016-07-18 21:28:31\tReorderSam\t  SN=%s LN=%d%nPf3D7_14_v33291936\n",
      "INFO\t2016-07-18 21:28:31\tReorderSam\t  SN=%s LN=%d%nPf3D7_API_v334250\n",
      "INFO\t2016-07-18 21:28:31\tReorderSam\t  SN=%s LN=%d%nPf_M766115967\n",
      "INFO\t2016-07-18 21:28:31\tReorderSam\tReordering SAM/BAM file:\n",
      "INFO\t2016-07-18 21:28:31\tReorderSam\t  Reordering read contig Pf3D7_01_v3 [index=2] to => ref contig Pf3D7_01_v3 [index=0]\n",
      "\n",
      "INFO\t2016-07-18 21:28:31\tReorderSam\t  Reordering read contig Pf3D7_02_v3 [index=3] to => ref contig Pf3D7_02_v3 [index=1]\n",
      "\n",
      "INFO\t2016-07-18 21:28:31\tReorderSam\t  Reordering read contig Pf3D7_03_v3 [index=4] to => ref contig Pf3D7_03_v3 [index=2]\n",
      "\n",
      "INFO\t2016-07-18 21:28:31\tReorderSam\t  Reordering read contig Pf3D7_04_v3 [index=0] to => ref contig Pf3D7_04_v3 [index=3]\n",
      "\n",
      "INFO\t2016-07-18 21:28:31\tReorderSam\t  Reordering read contig Pf3D7_05_v3 [index=5] to => ref contig Pf3D7_05_v3 [index=4]\n",
      "\n",
      "INFO\t2016-07-18 21:28:31\tReorderSam\t  Reordering read contig Pf3D7_06_v3 [index=6] to => ref contig Pf3D7_06_v3 [index=5]\n",
      "\n",
      "INFO\t2016-07-18 21:28:31\tReorderSam\t  Reordering read contig Pf3D7_07_v3 [index=1] to => ref contig Pf3D7_07_v3 [index=6]\n",
      "\n",
      "INFO\t2016-07-18 21:28:31\tReorderSam\t  Reordering read contig Pf3D7_08_v3 [index=7] to => ref contig Pf3D7_08_v3 [index=7]\n",
      "\n",
      "INFO\t2016-07-18 21:28:31\tReorderSam\t  Reordering read contig Pf3D7_09_v3 [index=8] to => ref contig Pf3D7_09_v3 [index=8]\n",
      "\n",
      "INFO\t2016-07-18 21:28:31\tReorderSam\t  Reordering read contig Pf3D7_10_v3 [index=9] to => ref contig Pf3D7_10_v3 [index=9]\n",
      "\n",
      "INFO\t2016-07-18 21:28:31\tReorderSam\t  Reordering read contig Pf3D7_11_v3 [index=10] to => ref contig Pf3D7_11_v3 [index=10]\n",
      "\n",
      "INFO\t2016-07-18 21:28:31\tReorderSam\t  Reordering read contig Pf3D7_12_v3 [index=11] to => ref contig Pf3D7_12_v3 [index=11]\n",
      "\n",
      "INFO\t2016-07-18 21:28:31\tReorderSam\t  Reordering read contig Pf3D7_13_v3 [index=12] to => ref contig Pf3D7_13_v3 [index=12]\n",
      "\n",
      "INFO\t2016-07-18 21:28:31\tReorderSam\t  Reordering read contig Pf3D7_14_v3 [index=13] to => ref contig Pf3D7_14_v3 [index=13]\n",
      "\n",
      "INFO\t2016-07-18 21:28:31\tReorderSam\t  Reordering read contig Pf3D7_API_v3 [index=14] to => ref contig Pf3D7_API_v3 [index=14]\n",
      "\n",
      "INFO\t2016-07-18 21:28:31\tReorderSam\t  Reordering read contig Pf_M76611 [index=15] to => ref contig Pf_M76611 [index=15]\n",
      "\n",
      "INFO\t2016-07-18 21:28:31\tReorderSam\tWriting reads...\n",
      "INFO\t2016-07-18 21:28:31\tReorderSam\t  Processing All reads\n",
      "INFO\t2016-07-18 21:28:35\tReorderSam\tWrote 6835 reads\n",
      "[Mon Jul 18 21:28:48 BST 2016] picard.sam.ReorderSam done. Elapsed time: 0.29 minutes.\n",
      "Runtime.totalMemory()=865533952\n",
      "[Mon Jul 18 21:28:49 BST 2016] picard.sam.BuildBamIndex INPUT=/lustre/scratch109/malaria/pf3k_pacbio/input/PfSD01.bam    VERBOSITY=INFO QUIET=false VALIDATION_STRINGENCY=STRICT COMPRESSION_LEVEL=5 MAX_RECORDS_IN_RAM=500000 CREATE_INDEX=false CREATE_MD5_FILE=false GA4GH_CLIENT_SECRETS=client_secrets.json\n",
      "[Mon Jul 18 21:28:49 BST 2016] Executing as rp7@malsrv3 on Linux 3.2.0-75-generic amd64; OpenJDK 64-Bit Server VM 1.6.0_32-b32; Picard version: 1.137(c8c9f584d7042e98867ea3cfc355fb7b89acd2e6_1438018139) IntelDeflater\n",
      "WARNING: BAM index file /lustre/scratch109/malaria/pf3k_pacbio/input/PfSD01.bai is older than BAM /lustre/scratch109/malaria/pf3k_pacbio/input/PfSD01.bam\n",
      "INFO\t2016-07-18 21:28:52\tBuildBamIndex\tSuccessfully wrote bam index file /lustre/scratch109/malaria/pf3k_pacbio/input/PfSD01.bai\n",
      "[Mon Jul 18 21:28:52 BST 2016] picard.sam.BuildBamIndex done. Elapsed time: 0.05 minutes.\n",
      "Runtime.totalMemory()=350879744\n"
     ]
    }
   ],
   "source": [
    "sample_id = 'PfSD01'\n",
    "output_bam = '/lustre/scratch109/malaria/pf3k_pacbio/input/%s.bam' % sample_id\n",
    "!java -jar /nfs/team112_internal/rp7/src/github/malariagen/methods-dev/pf3k_techbm/opt/picard/picard-tools-1.135/picard.jar \\\n",
    "ReorderSam I={output_bam.replace('.bam', 'reheader.bam')} O={output_bam.replace('.bam', '.sorted.bam')} \\\n",
    "REFERENCE=/lustre/scratch109/malaria/pf3k_methods/resources/Pfalciparum.genome.fasta\n",
    "# CREATE_INDEX=TRUE\n",
    "!mv {output_bam.replace('.bam', '.sorted.bam')} {output_bam}\n",
    "!{PICARD} BuildBamIndex I={output_bam}"
   ]
  },
  {
   "cell_type": "code",
   "execution_count": 29,
   "metadata": {
    "collapsed": false
   },
   "outputs": [
    {
     "data": {
      "text/plain": [
       "'/lustre/scratch109/malaria/pf3k_pacbio/input/PfSD01.bam'"
      ]
     },
     "execution_count": 29,
     "metadata": {},
     "output_type": "execute_result"
    }
   ],
   "source": [
    "output_bam"
   ]
  },
  {
   "cell_type": "code",
   "execution_count": 46,
   "metadata": {
    "collapsed": false
   },
   "outputs": [
    {
     "name": "stdout",
     "output_type": "stream",
     "text": [
      "[Mon Jul 18 21:30:55 BST 2016] picard.sam.MergeSamFiles INPUT=[/lustre/scratch109/malaria/pf3k_pacbio/temp/PfTG01_01.bam, /lustre/scratch109/malaria/pf3k_pacbio/temp/PfTG01_02.bam, /lustre/scratch109/malaria/pf3k_pacbio/temp/PfTG01_03.bam, /lustre/scratch109/malaria/pf3k_pacbio/temp/PfTG01_04.bam, /lustre/scratch109/malaria/pf3k_pacbio/temp/PfTG01_05.bam, /lustre/scratch109/malaria/pf3k_pacbio/temp/PfTG01_06.bam, /lustre/scratch109/malaria/pf3k_pacbio/temp/PfTG01_07.bam, /lustre/scratch109/malaria/pf3k_pacbio/temp/PfTG01_08.bam, /lustre/scratch109/malaria/pf3k_pacbio/temp/PfTG01_09.bam, /lustre/scratch109/malaria/pf3k_pacbio/temp/PfTG01_10.bam, /lustre/scratch109/malaria/pf3k_pacbio/temp/PfTG01_11.bam, /lustre/scratch109/malaria/pf3k_pacbio/temp/PfTG01_12.bam, /lustre/scratch109/malaria/pf3k_pacbio/temp/PfTG01_13.bam, /lustre/scratch109/malaria/pf3k_pacbio/temp/PfTG01_14.bam] OUTPUT=/lustre/scratch109/malaria/pf3k_pacbio/input/PfTG01.bam MERGE_SEQUENCE_DICTIONARIES=true    SORT_ORDER=coordinate ASSUME_SORTED=false USE_THREADING=false VERBOSITY=INFO QUIET=false VALIDATION_STRINGENCY=STRICT COMPRESSION_LEVEL=5 MAX_RECORDS_IN_RAM=500000 CREATE_INDEX=false CREATE_MD5_FILE=false GA4GH_CLIENT_SECRETS=client_secrets.json\n",
      "[Mon Jul 18 21:30:55 BST 2016] Executing as rp7@malsrv3 on Linux 3.2.0-75-generic amd64; OpenJDK 64-Bit Server VM 1.6.0_32-b32; Picard version: 1.137(c8c9f584d7042e98867ea3cfc355fb7b89acd2e6_1438018139) IntelDeflater\n",
      "INFO\t2016-07-18 21:30:56\tMergeSamFiles\tInput files are in same order as output so sorting to temp directory is not needed.\n",
      "INFO\t2016-07-18 21:31:15\tMergeSamFiles\tFinished reading inputs.\n",
      "[Mon Jul 18 21:31:15 BST 2016] picard.sam.MergeSamFiles done. Elapsed time: 0.33 minutes.\n",
      "Runtime.totalMemory()=105709568\n",
      "[Mon Jul 18 21:31:16 BST 2016] picard.sam.BuildBamIndex INPUT=/lustre/scratch109/malaria/pf3k_pacbio/input/PfTG01.bam    VERBOSITY=INFO QUIET=false VALIDATION_STRINGENCY=STRICT COMPRESSION_LEVEL=5 MAX_RECORDS_IN_RAM=500000 CREATE_INDEX=false CREATE_MD5_FILE=false GA4GH_CLIENT_SECRETS=client_secrets.json\n",
      "[Mon Jul 18 21:31:16 BST 2016] Executing as rp7@malsrv3 on Linux 3.2.0-75-generic amd64; OpenJDK 64-Bit Server VM 1.6.0_32-b32; Picard version: 1.137(c8c9f584d7042e98867ea3cfc355fb7b89acd2e6_1438018139) IntelDeflater\n",
      "INFO\t2016-07-18 21:31:19\tBuildBamIndex\tSuccessfully wrote bam index file /lustre/scratch109/malaria/pf3k_pacbio/input/PfTG01.bai\n",
      "[Mon Jul 18 21:31:19 BST 2016] picard.sam.BuildBamIndex done. Elapsed time: 0.05 minutes.\n",
      "Runtime.totalMemory()=350945280\n"
     ]
    }
   ],
   "source": [
    "# I messed up the folowing by accident so had to recreate\n",
    "for sample_id in ['PfTG01']:\n",
    "    input_bams = ['I=/lustre/scratch109/malaria/pf3k_pacbio/temp/%s_%02d.bam' % (sample_id, x) for x in range(1, 15)]\n",
    "    output_bam = '/lustre/scratch109/malaria/pf3k_pacbio/input/%s.bam' % sample_id\n",
    "    !{PICARD} MergeSamFiles {' '.join(input_bams)} O={output_bam} MERGE_SEQUENCE_DICTIONARIES=true\n",
    "    !{PICARD} BuildBamIndex I={output_bam}"
   ]
  },
  {
   "cell_type": "code",
   "execution_count": 40,
   "metadata": {
    "collapsed": true
   },
   "outputs": [],
   "source": [
    "# # Removed PfSD01 as no reads for chromsome 4 - see email from Thomas 14/07/2016 20:17 and response 17/07/2016 11:37\n",
    "# thomas_bam_sample_ids = ['Pf3D7II', 'Pf7G8', 'PfCD01', 'PfDd2', 'PfGA01', 'PfGB4', 'PfGN01', 'PfHB3',\n",
    "#                          'PfIT', 'PfKE01', 'PfKH01', 'PfKH02', 'PfML01', 'PfSN01', 'PfTG01']"
   ]
  },
  {
   "cell_type": "code",
   "execution_count": 9,
   "metadata": {
    "collapsed": false
   },
   "outputs": [],
   "source": [
    "fo = open(HC_INPUT_FOFN, 'w')\n",
    "for sample_id in validation_bam_sample_ids:\n",
    "    output_bam = '/lustre/scratch109/malaria/pf3k_pacbio/input/%s.bam' % sample_id\n",
    "    print('%s' % (output_bam), file=fo)\n",
    "fo.close()\n"
   ]
  },
  {
   "cell_type": "code",
   "execution_count": 10,
   "metadata": {
    "collapsed": false
   },
   "outputs": [
    {
     "data": {
      "text/plain": [
       "'/nfs/team112_internal/rp7/data/pf3k/pacbio_3/pf3k_pacbio_3_hc_input.fofn'"
      ]
     },
     "execution_count": 10,
     "metadata": {},
     "output_type": "execute_result"
    }
   ],
   "source": [
    "HC_INPUT_FOFN"
   ]
  },
  {
   "cell_type": "markdown",
   "metadata": {},
   "source": [
    "# VR-PIPE pipeline\n",
    "These were created using vrpipe-setup, using parameters from setups originally created in 20160718_pf3k_pacbio_2_setup.\n",
    "\n",
    "Originally thought the following, but then realised Pipeline names were included in 20160718_pf3k_pacbio_2_setup:\n",
    "\n",
    "Because those setups are no longer accessible using vrpipe-setup --based_on, had to figure out which pipeline to use had to run commands like the following for each setup:\n",
    "\n",
    "source /nfs/team112_internal/production/prod_code_old_db/vrpipe_env.csh # to access old vrpipe DB\n",
    "\n",
    "vrpipe-elements --setup pf3k_pacbio_2_haplotype_caller\n"
   ]
  },
  {
   "cell_type": "raw",
   "metadata": {
    "collapsed": true
   },
   "source": [
    "We've now gathered all information; here's what you've asked for:\n",
    "\tPipelineSetup name: pf3k_pacbio_3_haplotype_caller (for user rp7 controlled by farm 'farm3')\n",
    "\tDataSource: fofn_with_genome_chunking->all with source /nfs/team112_internal/rp7/data/pf3k/pacbio_3/pf3k_pacbio_3_hc_input.fofn:\n",
    "\t\tchunk_overlap => 0\n",
    "\t\tchunk_override_file => /lustre/scratch109/malaria/pf3k_methods/resources/Pfalciparum_chunk_override\n",
    "\t\tchunk_size => 4000000\n",
    "\t\treference_index => /lustre/scratch109/malaria/pf3k_pacbio/Pfalciparum.autosomes.fasta.fai\n",
    "\tPipeline: snp_calling_gatk3_haplotype_caller_v2 (outputting to /lustre/scratch109/malaria/pf3k_pacbio/output ):\n",
    "\t\tdelete_input_bams => 0\n",
    "\t\tgatk_key => /nfs/team112_internal/production/tools/bin/gatk/dj6_sanger.ac.uk.key\n",
    "\t\tgatk_path => /nfs/team112_internal/production/tools/bin/gatk/GenomeAnalysisTK-3.4-46\n",
    "\t\thaplotype_caller_options => --defaultBaseQualities 30 --emitRefConfidence GVCF --variant_index_type LINEAR --variant_index_parameter 128000 --max_alternate_alleles 6\n",
    "\t\tjava_exe => /software/jre1.7.0_25/bin/java\n",
    "\t\tminimum_records => 0\n",
    "\t\treference_fasta => /lustre/scratch109/malaria/pf3k_methods/resources/Pfalciparum.genome.fasta\n",
    "Is all of this correct? <y|n>: y\n",
    "\n",
    "Your new PipelineSetup has been created!\n",
    "Name: pf3k_pacbio_3_haplotype_caller; Id: 54 (remember at least one of these for use later)\n"
   ]
  },
  {
   "cell_type": "raw",
   "metadata": {
    "collapsed": true
   },
   "source": [
    "We've now gathered all information; here's what you've asked for:\n",
    "\tPipelineSetup name: pf3k_pacbio_3_combine_gvcfs (for user rp7 controlled by farm 'farm3')\n",
    "\tDataSource: vrpipe->group_by_metadata with source pf3k_pacbio_3_haplotype_caller[gatk_haplotype_caller_gatk3_v2:gatk_vcf_file]:\n",
    "\t\tfilter_after_grouping => 1\n",
    "\t\tmetadata_keys => chrom\n",
    "\tPipeline: gatk_combine_gvcfs_gatk3_merge_prepared (outputting to /lustre/scratch109/malaria/pf3k_pacbio/output belonging to group team112):\n",
    "\t\tgatk_key => /nfs/team112_internal/production/tools/bin/gatk/dj6_sanger.ac.uk.key\n",
    "\t\tgatk_path => /nfs/team112_internal/production/tools/bin/gatk/GenomeAnalysisTK-3.5\n",
    "\t\tjava_exe => /software/jre1.7.0_25/bin/java\n",
    "\t\tmaxDirectMergingGroup => 100\n",
    "\t\tminimum_records => 0\n",
    "\t\treference_fasta => /lustre/scratch109/malaria/pf3k_methods/resources/Pfalciparum.genome.fasta\n",
    "\t\tremove_input_vcfs => 0\n",
    "Is all of this correct? <y|n>: y\n",
    "\n",
    "Your new PipelineSetup has been created!\n",
    "Name: pf3k_pacbio_3_combine_gvcfs; Id: 55 (remember at least one of these for use later)\n"
   ]
  },
  {
   "cell_type": "raw",
   "metadata": {
    "collapsed": true
   },
   "source": [
    "We've now gathered all information; here's what you've asked for:\n",
    "\tPipelineSetup name: pf3k_pacbio_3_genotype_gvcfs (for user rp7 controlled by farm 'farm3')\n",
    "\tDataSource: vrpipe->group_by_metadata with source pf3k_pacbio_3_combine_gvcfs[1:genomic_vcf_files]:\n",
    "\t\tfilter_after_grouping => 1\n",
    "\t\tmetadata_keys => chrom\n",
    "\tPipeline: snp_calling_gatk3_genotype_gvcfs (outputting to /lustre/scratch109/malaria/pf3k_pacbio/output belonging to group team112):\n",
    "\t\tgatk_key => /nfs/team112_internal/production/tools/bin/gatk/dj6_sanger.ac.uk.key\n",
    "\t\tgatk_path => /nfs/team112_internal/production/tools/bin/gatk/GenomeAnalysisTK-3.4-46\n",
    "\t\tgenotyper_options => --max_alternate_alleles 6 --annotation QualByDepth --annotation FisherStrand --annotation StrandOddsRatio --annotation VariantType --annotation GCContent --annotation TandemRepeatAnnotator\n",
    "\t\tjava_exe => /software/jre1.7.0_25/bin/java\n",
    "\t\tminimum_records => 0\n",
    "\t\treference_fasta => /lustre/scratch109/malaria/pf3k_methods/resources/Pfalciparum.genome.fasta\n",
    "\t\tremove_input_vcfs => 0\n",
    "Is all of this correct? <y|n>: y\n",
    "\n",
    "Your new PipelineSetup has been created!\n",
    "Name: pf3k_pacbio_3_genotype_gvcfs; Id: 56 (remember at least one of these for use later)\n"
   ]
  },
  {
   "cell_type": "raw",
   "metadata": {
    "collapsed": true
   },
   "source": [
    "# Note the following failed, presumably because there were not enough variants (previous version had 16 samples, this version only 5). We ended up outputting the results from the previous step and ignoring filtering\n",
    "\n",
    "We've now gathered all information; here's what you've asked for:\n",
    "\tPipelineSetup name: pf3k_pacbio_3_variant_recalibration_snps_QD_SOR_DP (for user rp7 controlled by farm 'farm3')\n",
    "\tDataSource: vrpipe->group_all with source pf3k_pacbio_3_genotype_gvcfs[gatk_genotype_gvcfs_gatk3:gatk_vcf_file]:\n",
    "\tPipeline: gatk_variant_recalibration_for_snps_gatk3 (outputting to /lustre/scratch109/malaria/pf3k_pacbio/output belonging to group team112):\n",
    "\t\tgatk_key => /nfs/team112_internal/production/tools/bin/gatk/dj6_sanger.ac.uk.key\n",
    "\t\tgatk_path => /nfs/team112_internal/production/tools/bin/gatk/GenomeAnalysisTK-3.4-46\n",
    "\t\tjava_exe => /software/jre1.7.0_25/bin/java\n",
    "\t\treference_fasta => /lustre/scratch109/malaria/pf3k_methods/resources/Pfalciparum.genome.fasta\n",
    "\t\tsnp_variant_recalibration_options => -resource:7g8_gb4,known=false,training=true,truth=true,prior=15.0 /nfs/team112_internal/oxford_mirror/data/plasmodium/pfalciparum/pf-crosses/data/public/1.0/7g8_gb4.combined.final.vcf.gz -resource:hb3_dd2,known=false,training=true,truth=true,prior=15.0 /nfs/team112_internal/oxford_mirror/data/plasmodium/pfalciparum/pf-crosses/data/public/1.0/hb3_dd2.combined.final.vcf.gz -resource:3d7_hb3,known=false,training=true,truth=true,prior=15.0 /nfs/team112_internal/oxford_mirror/data/plasmodium/pfalciparum/pf-crosses/data/public/1.0/3d7_hb3.combined.final.vcf.gz -an QD -an SOR -an DP --maxGaussians 8\n",
    "Is all of this correct? <y|n>: y\n",
    "\n",
    "Your new PipelineSetup has been created!\n",
    "Name: pf3k_pacbio_3_variant_recalibration_snps_QD_SOR_DP; Id: 57 (remember at least one of these for use later)\n"
   ]
  },
  {
   "cell_type": "raw",
   "metadata": {
    "collapsed": true
   },
   "source": [
    "# Note the following failed, presumably because there were not enough variants (previous version had 16 samples, this version only 5). We ended up outputting the results from the previous step and ignoring filtering\n",
    "\n",
    "We've now gathered all information; here's what you've asked for:\n",
    "\tPipelineSetup name: pf3k_pacbio_3_variant_recalibration_indels_QD_DP (for user rp7 controlled by farm 'farm3')\n",
    "\tDataSource: vrpipe->group_all with source pf3k_pacbio_3_genotype_gvcfs[gatk_genotype_gvcfs_gatk3:gatk_vcf_file]:\n",
    "\tPipeline: gatk_variant_recalibration_for_indels_gatk3 (outputting to /lustre/scratch109/malaria/pf3k_pacbio/output belonging to group team112):\n",
    "\t\tgatk_key => /nfs/team112_internal/production/tools/bin/gatk/dj6_sanger.ac.uk.key\n",
    "\t\tgatk_path => /nfs/team112_internal/production/tools/bin/gatk/GenomeAnalysisTK-3.4-46\n",
    "\t\tindel_variant_recalibration_options => -resource:7g8_gb4,known=false,training=true,truth=true,prior=15.0 /nfs/team112_internal/oxford_mirror/data/plasmodium/pfalciparum/pf-crosses/data/public/1.0/7g8_gb4.combined.final.vcf.gz -resource:hb3_dd2,known=false,training=true,truth=true,prior=15.0 /nfs/team112_internal/oxford_mirror/data/plasmodium/pfalciparum/pf-crosses/data/public/1.0/hb3_dd2.combined.final.vcf.gz -resource:3d7_hb3,known=false,training=true,truth=true,prior=15.0 /nfs/team112_internal/oxford_mirror/data/plasmodium/pfalciparum/pf-crosses/data/public/1.0/3d7_hb3.combined.final.vcf.gz -an QD -an DP --maxGaussians 4\n",
    "\t\tjava_exe => /software/jre1.7.0_25/bin/java\n",
    "\t\treference_fasta => /lustre/scratch109/malaria/pf3k_methods/resources/Pfalciparum.genome.fasta\n",
    "Is all of this correct? <y|n>: y\n",
    "\n",
    "Your new PipelineSetup has been created!\n",
    "Name: pf3k_pacbio_3_variant_recalibration_indels_QD_DP; Id: 58 (remember at least one of these for use later)\n"
   ]
  },
  {
   "cell_type": "raw",
   "metadata": {},
   "source": [
    "cd /nfs/team112_internal/rp7/data/pf3k/pacbio_3\n",
    "mkdir vcf_symlinks\n",
    "mkdir vcf\n",
    "vrpipe-output --setup pf3k_pacbio_3_genotype_gvcfs --output_dir /nfs/team112_internal/rp7/data/pf3k/pacbio_3/vcf_symlinks --basename_as_output\n",
    "cp -L vcf_symlinks/* vcf/\n",
    "rm -R vcf_symlinks"
   ]
  },
  {
   "cell_type": "code",
   "execution_count": 15,
   "metadata": {
    "collapsed": false
   },
   "outputs": [
    {
     "data": {
      "text/plain": [
       "['/nfs/team112_internal/rp7/data/pf3k/pacbio_3/vcf/Pf3D7_01_v3_1-640851.gatk.genotyped.vcf.gz',\n",
       " '/nfs/team112_internal/rp7/data/pf3k/pacbio_3/vcf/Pf3D7_02_v3_1-947102.gatk.genotyped.vcf.gz',\n",
       " '/nfs/team112_internal/rp7/data/pf3k/pacbio_3/vcf/Pf3D7_03_v3_1-1067971.gatk.genotyped.vcf.gz',\n",
       " '/nfs/team112_internal/rp7/data/pf3k/pacbio_3/vcf/Pf3D7_04_v3_1-1200490.gatk.genotyped.vcf.gz',\n",
       " '/nfs/team112_internal/rp7/data/pf3k/pacbio_3/vcf/Pf3D7_05_v3_1-1343557.gatk.genotyped.vcf.gz',\n",
       " '/nfs/team112_internal/rp7/data/pf3k/pacbio_3/vcf/Pf3D7_06_v3_1-1418242.gatk.genotyped.vcf.gz',\n",
       " '/nfs/team112_internal/rp7/data/pf3k/pacbio_3/vcf/Pf3D7_07_v3_1-1445207.gatk.genotyped.vcf.gz',\n",
       " '/nfs/team112_internal/rp7/data/pf3k/pacbio_3/vcf/Pf3D7_08_v3_1-1472805.gatk.genotyped.vcf.gz',\n",
       " '/nfs/team112_internal/rp7/data/pf3k/pacbio_3/vcf/Pf3D7_09_v3_1-1541735.gatk.genotyped.vcf.gz',\n",
       " '/nfs/team112_internal/rp7/data/pf3k/pacbio_3/vcf/Pf3D7_10_v3_1-1687656.gatk.genotyped.vcf.gz',\n",
       " '/nfs/team112_internal/rp7/data/pf3k/pacbio_3/vcf/Pf3D7_11_v3_1-2038340.gatk.genotyped.vcf.gz',\n",
       " '/nfs/team112_internal/rp7/data/pf3k/pacbio_3/vcf/Pf3D7_12_v3_1-2271494.gatk.genotyped.vcf.gz',\n",
       " '/nfs/team112_internal/rp7/data/pf3k/pacbio_3/vcf/Pf3D7_13_v3_1-2925236.gatk.genotyped.vcf.gz',\n",
       " '/nfs/team112_internal/rp7/data/pf3k/pacbio_3/vcf/Pf3D7_14_v3_1-3291936.gatk.genotyped.vcf.gz']"
      ]
     },
     "execution_count": 15,
     "metadata": {},
     "output_type": "execute_result"
    }
   ],
   "source": [
    "chrom_vcfs = !dir /nfs/team112_internal/rp7/data/pf3k/pacbio_3/vcf/*.vcf.gz\n",
    "chrom_vcfs"
   ]
  },
  {
   "cell_type": "markdown",
   "metadata": {
    "collapsed": true
   },
   "source": [
    "# Create whole genome VCF"
   ]
  },
  {
   "cell_type": "code",
   "execution_count": 16,
   "metadata": {
    "collapsed": true
   },
   "outputs": [],
   "source": [
    "!{BCFTOOLS} concat {\" \".join(chrom_vcfs)} \\\n",
    "| sed 's/##FORMAT=<ID=AD,Number=./##FORMAT=<ID=AD,Number=R/' \\\n",
    "| bgzip -c > {WG_VCF_FN}\n",
    "!tabix -p vcf {WG_VCF_FN}"
   ]
  },
  {
   "cell_type": "code",
   "execution_count": 17,
   "metadata": {
    "collapsed": false
   },
   "outputs": [
    {
     "data": {
      "text/plain": [
       "'/nfs/team112_internal/rp7/data/pf3k/pacbio_3/vcf/pf3k_pacbio_3.vcf.gz'"
      ]
     },
     "execution_count": 17,
     "metadata": {},
     "output_type": "execute_result"
    }
   ],
   "source": [
    "WG_VCF_FN"
   ]
  },
  {
   "cell_type": "markdown",
   "metadata": {},
   "source": [
    "# Create README section containing variant numbers"
   ]
  },
  {
   "cell_type": "code",
   "execution_count": 19,
   "metadata": {
    "collapsed": false
   },
   "outputs": [
    {
     "name": "stdout",
     "output_type": "stream",
     "text": [
      "154,250 variants\n",
      "59,695 SNPs\n",
      "94,555 indels\n",
      "\n",
      "0 PASS variants\n",
      "0 PASS SNPs\n",
      "0 PASS indels\n",
      "\n",
      "0 PASS biallelic variants\n",
      "0 PASS biallelic SNPs\n",
      "0 PASS biallelic indels\n",
      "\n"
     ]
    }
   ],
   "source": [
    "number_of_snps = !{BCFTOOLS} query -f '%CHROM\\t%POS\\n' --include 'TYPE=\"snp\"' {WG_VCF_FN} | wc -l\n",
    "number_of_indels = !{BCFTOOLS} query -f '%CHROM\\t%POS\\n' --include 'TYPE!=\"snp\"' {WG_VCF_FN} | wc -l\n",
    "number_of_pass_snps = !{BCFTOOLS} query -f '%CHROM\\t%POS\\n' --include 'FILTER=\"PASS\" && TYPE=\"snp\"' {WG_VCF_FN} | wc -l\n",
    "number_of_pass_indels = !{BCFTOOLS} query -f '%CHROM\\t%POS\\n' --include 'FILTER=\"PASS\" && TYPE!=\"snp\"' {WG_VCF_FN} | wc -l\n",
    "number_of_pass_biallelic_snps = !{BCFTOOLS} query -f '%CHROM\\t%POS\\n' --include 'FILTER=\"PASS\" && TYPE=\"snp\" && N_ALT=1' {WG_VCF_FN} | wc -l\n",
    "number_of_pass_biallelic_indels = !{BCFTOOLS} query -f '%CHROM\\t%POS\\n' --include 'FILTER=\"PASS\" && TYPE!=\"snp\" && N_ALT=1' {WG_VCF_FN} | wc -l\n",
    "number_of_VQSLODgt6_snps = !{BCFTOOLS} query -f '%CHROM\\t%POS\\n' --include 'FILTER=\"PASS\" && TYPE=\"snp\" && VQSLOD>6' {WG_VCF_FN} | wc -l\n",
    "number_of_VQSLODgt6_indels = !{BCFTOOLS} query -f '%CHROM\\t%POS\\n' --include 'FILTER=\"PASS\" && TYPE!=\"snp\" && VQSLOD>6' {WG_VCF_FN} | wc -l\n",
    "\n",
    "print(\"%s variants\" % (\"{:,}\".format(int(number_of_snps[0]) + int(number_of_indels[0]))))\n",
    "print(\"%s SNPs\" % (\"{:,}\".format(int(number_of_snps[0]))))\n",
    "print(\"%s indels\" % (\"{:,}\".format(int(number_of_indels[0]))))\n",
    "print()\n",
    "print(\"%s PASS variants\" % (\"{:,}\".format(int(number_of_pass_snps[0]) + int(number_of_pass_indels[0]))))\n",
    "print(\"%s PASS SNPs\" % (\"{:,}\".format(int(number_of_pass_snps[0]))))\n",
    "print(\"%s PASS indels\" % (\"{:,}\".format(int(number_of_pass_indels[0]))))\n",
    "print()\n",
    "print(\"%s PASS biallelic variants\" % (\"{:,}\".format(int(number_of_pass_biallelic_snps[0]) + int(number_of_pass_biallelic_indels[0]))))\n",
    "print(\"%s PASS biallelic SNPs\" % (\"{:,}\".format(int(number_of_pass_biallelic_snps[0]))))\n",
    "print(\"%s PASS biallelic indels\" % (\"{:,}\".format(int(number_of_pass_biallelic_indels[0]))))\n",
    "print()\n"
   ]
  },
  {
   "cell_type": "code",
   "execution_count": 20,
   "metadata": {
    "collapsed": false
   },
   "outputs": [
    {
     "data": {
      "text/plain": [
       "'0/154,250 variants (0%) pass all filters'"
      ]
     },
     "execution_count": 20,
     "metadata": {},
     "output_type": "execute_result"
    }
   ],
   "source": [
    "\"{number_of_pass_variants}/{number_of_variants} variants ({pct_pass}%) pass all filters\".format(\n",
    "        number_of_variants=\"{:,}\".format(int(number_of_snps[0]) + int(number_of_indels[0])),\n",
    "        number_of_pass_variants=\"{:,}\".format(int(number_of_pass_snps[0]) + int(number_of_pass_indels[0])),\n",
    "        pct_pass=round((\n",
    "            (int(number_of_pass_snps[0]) + int(number_of_pass_indels[0])) /\n",
    "            (int(number_of_snps[0]) + int(number_of_indels[0]))\n",
    "        ) * 100)\n",
    ")"
   ]
  },
  {
   "cell_type": "code",
   "execution_count": 21,
   "metadata": {
    "collapsed": false
   },
   "outputs": [
    {
     "ename": "ValueError",
     "evalue": "invalid literal for int() with base 10: '[filter.c:1352 filters_init1] Error: the tag \"INFO/VQSLOD\" is not defined in the VCF header'",
     "output_type": "error",
     "traceback": [
      "\u001b[0;31m---------------------------------------------------------------------------\u001b[0m",
      "\u001b[0;31mValueError\u001b[0m                                Traceback (most recent call last)",
      "\u001b[0;32m<ipython-input-21-4c4612882989>\u001b[0m in \u001b[0;36m<module>\u001b[0;34m()\u001b[0m\n\u001b[1;32m     36\u001b[0m         \u001b[0mnumber_of_pass_snps\u001b[0m\u001b[0;34m=\u001b[0m\u001b[0;34m\"{:,}\"\u001b[0m\u001b[0;34m.\u001b[0m\u001b[0mformat\u001b[0m\u001b[0;34m(\u001b[0m\u001b[0mint\u001b[0m\u001b[0;34m(\u001b[0m\u001b[0mnumber_of_pass_snps\u001b[0m\u001b[0;34m[\u001b[0m\u001b[0;36m0\u001b[0m\u001b[0;34m]\u001b[0m\u001b[0;34m)\u001b[0m\u001b[0;34m)\u001b[0m\u001b[0;34m,\u001b[0m\u001b[0;34m\u001b[0m\u001b[0m\n\u001b[1;32m     37\u001b[0m         \u001b[0mnumber_of_pass_indels\u001b[0m\u001b[0;34m=\u001b[0m\u001b[0;34m\"{:,}\"\u001b[0m\u001b[0;34m.\u001b[0m\u001b[0mformat\u001b[0m\u001b[0;34m(\u001b[0m\u001b[0mint\u001b[0m\u001b[0;34m(\u001b[0m\u001b[0mnumber_of_pass_indels\u001b[0m\u001b[0;34m[\u001b[0m\u001b[0;36m0\u001b[0m\u001b[0;34m]\u001b[0m\u001b[0;34m)\u001b[0m\u001b[0;34m)\u001b[0m\u001b[0;34m,\u001b[0m\u001b[0;34m\u001b[0m\u001b[0m\n\u001b[0;32m---> 38\u001b[0;31m         \u001b[0mnumber_of_VQSLODgt6_snps\u001b[0m\u001b[0;34m=\u001b[0m\u001b[0;34m\"{:,}\"\u001b[0m\u001b[0;34m.\u001b[0m\u001b[0mformat\u001b[0m\u001b[0;34m(\u001b[0m\u001b[0mint\u001b[0m\u001b[0;34m(\u001b[0m\u001b[0mnumber_of_VQSLODgt6_snps\u001b[0m\u001b[0;34m[\u001b[0m\u001b[0;36m0\u001b[0m\u001b[0;34m]\u001b[0m\u001b[0;34m)\u001b[0m\u001b[0;34m)\u001b[0m\u001b[0;34m,\u001b[0m\u001b[0;34m\u001b[0m\u001b[0m\n\u001b[0m\u001b[1;32m     39\u001b[0m         \u001b[0mnumber_of_VQSLODgt6_indels\u001b[0m\u001b[0;34m=\u001b[0m\u001b[0;34m\"{:,}\"\u001b[0m\u001b[0;34m.\u001b[0m\u001b[0mformat\u001b[0m\u001b[0;34m(\u001b[0m\u001b[0mint\u001b[0m\u001b[0;34m(\u001b[0m\u001b[0mnumber_of_VQSLODgt6_indels\u001b[0m\u001b[0;34m[\u001b[0m\u001b[0;36m0\u001b[0m\u001b[0;34m]\u001b[0m\u001b[0;34m)\u001b[0m\u001b[0;34m)\u001b[0m\u001b[0;34m,\u001b[0m\u001b[0;34m\u001b[0m\u001b[0m\n\u001b[1;32m     40\u001b[0m         \u001b[0mnumber_of_pass_biallelic_snps\u001b[0m\u001b[0;34m=\u001b[0m\u001b[0;34m\"{:,}\"\u001b[0m\u001b[0;34m.\u001b[0m\u001b[0mformat\u001b[0m\u001b[0;34m(\u001b[0m\u001b[0mint\u001b[0m\u001b[0;34m(\u001b[0m\u001b[0mnumber_of_pass_biallelic_snps\u001b[0m\u001b[0;34m[\u001b[0m\u001b[0;36m0\u001b[0m\u001b[0;34m]\u001b[0m\u001b[0;34m)\u001b[0m\u001b[0;34m)\u001b[0m\u001b[0;34m,\u001b[0m\u001b[0;34m\u001b[0m\u001b[0m\n",
      "\u001b[0;31mValueError\u001b[0m: invalid literal for int() with base 10: '[filter.c:1352 filters_init1] Error: the tag \"INFO/VQSLOD\" is not defined in the VCF header'"
     ]
    }
   ],
   "source": [
    "print('''\n",
    "The VCF file contains details of {number_of_variants} discovered variants of which {number_of_snps}\n",
    "are SNPs and {number_of_indels} are indels (or multi-allelic mixtures of SNPs\n",
    "and indels). It is important to note that many of these variants are\n",
    "considered low quality. Only the variants for which the FILTER column is set\n",
    "to PASS should be considered of high quality. There are {number_of_pass_variants} such high-\n",
    "quality PASS variants ({number_of_pass_snps} SNPs and {number_of_pass_indels} indels).\n",
    "\n",
    "The FILTER column is based on two types of information. Firstly certain regions\n",
    "of the genome are considered \"non-core\". This includes sub-telomeric regions,\n",
    "centromeres and internal VAR gene clusters on chromosomes 4, 6, 7, 8 and 12.\n",
    "The apicoplast and mitochondrion are also considered non-core. All variants within\n",
    "non-core regions are considered to be low quality, and hence will not have the\n",
    "FILTER column set to PASS. The regions which are core and non-core can be found\n",
    "in the file resources/regions-20130225.bed.gz.\n",
    "\n",
    "Secondly, variants are filtered out based on a quality score called VQSLOD. All\n",
    "variants with a VQSLOD score below 0 are filtered out, i.e. will have a value of\n",
    "Low_VQSLOD in the FILTER column, rather than PASS. The VQSLOD score for each\n",
    "variant can be found in the INFO field of the VCF file. It is possible to use the\n",
    "VQSLOD score to define a more or less stringent set of variants. For example for\n",
    "a very stringent set of the highest quality variants, select only those variants\n",
    "where VQSLOD >= 6. There are {number_of_VQSLODgt6_snps} such stringent SNPs and {number_of_VQSLODgt6_indels}\n",
    "such stringent indels.\n",
    "\n",
    "It is also important to note that some variants have more than two alleles. For\n",
    "example, amongst the {number_of_pass_snps} high quality PASS SNPs, {number_of_pass_biallelic_snps} are biallelic. The\n",
    "remaining {number_of_pass_multiallelic_snps} high quality PASS SNPs have 3 or more alleles. Similarly, amongst\n",
    "the {number_of_pass_indels} high-quality PASS indels, {number_of_pass_biallelic_indels} are biallelic. The remaining\n",
    "{number_of_pass_multiallelic_indels} high quality PASS indels have 3 or more alleles.\n",
    "'''.format(\n",
    "        number_of_variants=\"{:,}\".format(int(number_of_snps[0]) + int(number_of_indels[0])),\n",
    "        number_of_snps=\"{:,}\".format(int(number_of_snps[0])),\n",
    "        number_of_indels=\"{:,}\".format(int(number_of_indels[0])),\n",
    "        number_of_pass_variants=\"{:,}\".format(int(number_of_pass_snps[0]) + int(number_of_pass_indels[0])),\n",
    "        number_of_pass_snps=\"{:,}\".format(int(number_of_pass_snps[0])),\n",
    "        number_of_pass_indels=\"{:,}\".format(int(number_of_pass_indels[0])),\n",
    "        number_of_VQSLODgt6_snps=\"{:,}\".format(int(number_of_VQSLODgt6_snps[0])),\n",
    "        number_of_VQSLODgt6_indels=\"{:,}\".format(int(number_of_VQSLODgt6_indels[0])),\n",
    "        number_of_pass_biallelic_snps=\"{:,}\".format(int(number_of_pass_biallelic_snps[0])),\n",
    "        number_of_pass_biallelic_indels=\"{:,}\".format(int(number_of_pass_biallelic_indels[0])),\n",
    "        number_of_pass_multiallelic_snps=\"{:,}\".format(int(number_of_pass_snps[0]) - int(number_of_pass_biallelic_snps[0])),\n",
    "        number_of_pass_multiallelic_indels=\"{:,}\".format(int(number_of_pass_indels[0]) - int(number_of_pass_biallelic_indels[0])),\n",
    "    )\n",
    ")"
   ]
  },
  {
   "cell_type": "markdown",
   "metadata": {},
   "source": [
    "# Make all files read-only"
   ]
  },
  {
   "cell_type": "code",
   "execution_count": 23,
   "metadata": {
    "collapsed": false
   },
   "outputs": [
    {
     "name": "stdout",
     "output_type": "stream",
     "text": [
      "chmod: changing permissions of `/nfs/team112_internal/rp7/data/pf3k/mrs_1/pf3k_mrs_1_thomas_bams.txt': Operation not permitted\r\n"
     ]
    }
   ],
   "source": [
    "# Seems like Jim prefers team112 to have write access, so haven't made unreadable\n",
    "# !chmod -R uga-w {RELEASE_DIR}"
   ]
  },
  {
   "cell_type": "code",
   "execution_count": 22,
   "metadata": {
    "collapsed": false
   },
   "outputs": [
    {
     "data": {
      "text/plain": [
       "'/nfs/team112_internal/rp7/data/pf3k/pacbio_3'"
      ]
     },
     "execution_count": 22,
     "metadata": {},
     "output_type": "execute_result"
    }
   ],
   "source": [
    "RELEASE_DIR"
   ]
  },
  {
   "cell_type": "markdown",
   "metadata": {
    "collapsed": true
   },
   "source": [
    "# Cleanup\n",
    "vrpipe-setup --setup pf3k_pacbio_3_haplotype_caller --deactivate\n",
    "\n",
    "vrpipe-setup --setup pf3k_pacbio_3_combine_gvcfs --deactivate\n",
    "\n",
    "vrpipe-setup --setup pf3k_pacbio_3_genotype_gvcfs --deactivate\n",
    "\n",
    "vrpipe-setup --setup pf3k_pacbio_3_variant_recalibration_snps_QD_SOR_DP --deactivate\n",
    "\n",
    "vrpipe-setup --setup pf3k_pacbio_3_variant_recalibration_indels_QD_DP --deactivate\n",
    "\n"
   ]
  },
  {
   "cell_type": "code",
   "execution_count": null,
   "metadata": {
    "collapsed": true
   },
   "outputs": [],
   "source": []
  }
 ],
 "metadata": {
  "kernelspec": {
   "display_name": "Python [default]",
   "language": "python",
   "name": "python3"
  },
  "language_info": {
   "codemirror_mode": {
    "name": "ipython",
    "version": 3
   },
   "file_extension": ".py",
   "mimetype": "text/x-python",
   "name": "python",
   "nbconvert_exporter": "python",
   "pygments_lexer": "ipython3",
   "version": "3.4.5"
  }
 },
 "nbformat": 4,
 "nbformat_minor": 0
}
