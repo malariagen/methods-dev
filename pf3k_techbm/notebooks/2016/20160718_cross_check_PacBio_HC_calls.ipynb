{
 "cells": [
  {
   "cell_type": "code",
   "execution_count": 1,
   "metadata": {
    "collapsed": false
   },
   "outputs": [
    {
     "name": "stdout",
     "output_type": "stream",
     "text": [
      "python 3.4.3 |Anaconda 2.2.0 (64-bit)| (default, Mar  6 2015, 12:03:53) \n",
      "[GCC 4.4.7 20120313 (Red Hat 4.4.7-1)]\n",
      "numpy 1.9.2\n",
      "scipy 0.15.1\n",
      "pandas 0.15.2\n",
      "numexpr 2.3.1\n",
      "pysam 0.8.3\n",
      "pysamstats 0.23\n",
      "petl 1.0.11\n",
      "petlx 1.0.3\n",
      "vcf 0.6.7\n",
      "vcfnp 2.3.0.dev0\n",
      "h5py 2.4.0\n",
      "tables 3.1.1\n"
     ]
    }
   ],
   "source": [
    "%run _standard_imports.ipynb\n",
    "%run _shared_setup.ipynb"
   ]
  },
  {
   "cell_type": "code",
   "execution_count": 10,
   "metadata": {
    "collapsed": false
   },
   "outputs": [],
   "source": [
    "output_dir = \"/lustre/scratch109/malaria/rp7/data/pf3k/pilot_5_0/20160718_cross_check_PacBio_HC_calls\"\n",
    "!mkdir -p {output_dir}\n",
    "BCFTOOLS = '/nfs/team112_internal/rp7/src/github/malariagen/methods-dev/pf3k_techbm/opt_4/bcftools/bcftools'"
   ]
  },
  {
   "cell_type": "raw",
   "metadata": {},
   "source": [
    "# To find 7G8 chrom 1 HC file:\n",
    "vrpipe-fileinfo --setup pf3k_pacbio_1_haplotype_caller --metadata sample,chrom | grep 7G8 | grep Pf3D7_01\n",
    "\n",
    "# To find outputs of "
   ]
  },
  {
   "cell_type": "code",
   "execution_count": 27,
   "metadata": {
    "collapsed": true
   },
   "outputs": [],
   "source": [
    "thomas_orig_hc_fn = '/lustre/scratch108/parasites/tdo/Pfalciparum/PF3K/Reference12Genomes/Mapping_wholeChromosomes/ReRun_Splitting_50k_14072016/gatk_haplo.Pf7G8_01.01.vcf'\n",
    "thomas_hc_fn = '%s/gatk_haplo.Pf7G8_01.01.vcf' % output_dir\n",
    "richard_hc_fn = '/lustre/scratch109/malaria/pf3k_pacbio/output/b/7/4/6/641470/1_gatk_haplotype_caller_gatk3_v2/Pf3D7_01_v3_1-640851.gatk.vcf.gz'\n",
    "richard_cg_fn = '/lustre/scratch109/malaria/pf3k_pacbio/output/3/e/4/4/641695/1_gatk_combine_gvcfs_gatk3_merge_prepared/Pf3D7_01_v3_1-640851.gatk.g0.vcf.gz'\n",
    "richard_gg_gn = '/lustre/scratch109/malaria/pf3k_pacbio/output/6/0/f/4/641709/1_gatk_genotype_gvcfs_gatk3/Pf3D7_01_v3_1-640851.gatk.genotyped.vcf.gz'"
   ]
  },
  {
   "cell_type": "code",
   "execution_count": 15,
   "metadata": {
    "collapsed": false
   },
   "outputs": [
    {
     "name": "stdout",
     "output_type": "stream",
     "text": [
      "[tabix] the index file exists. Please use '-f' to overwrite.\r\n"
     ]
    }
   ],
   "source": [
    "# !cp {thomas_orig_hc_fn} {output_dir}/\n",
    "# !bgzip {thomas_hc_fn}\n",
    "!tabix -p vcf {thomas_hc_fn}.gz"
   ]
  },
  {
   "cell_type": "code",
   "execution_count": 23,
   "metadata": {
    "collapsed": false
   },
   "outputs": [
    {
     "name": "stdout",
     "output_type": "stream",
     "text": [
      "Note: -w option not given, printing list of sites...\n",
      "Note: -w option not given, printing list of sites...\n"
     ]
    }
   ],
   "source": [
    "thomas_minus_richard_fn = \"%s/thomas_minus_richard_HC_7G8_Pf3D7_01_v3.vcf.gz\" % output_dir\n",
    "!{BCFTOOLS} isec --complement --output {thomas_minus_richard_fn} --output-type z {thomas_hc_fn}.gz {richard_hc_fn}\n",
    "richard_minus_thomas_fn = \"%s/richard_minus_thomas_HC_7G8_Pf3D7_01_v3.vcf.gz\" % output_dir\n",
    "!{BCFTOOLS} isec --complement --output {richard_minus_thomas_fn} --output-type z {richard_hc_fn} {thomas_hc_fn}.gz "
   ]
  },
  {
   "cell_type": "code",
   "execution_count": 29,
   "metadata": {
    "collapsed": false
   },
   "outputs": [
    {
     "name": "stdout",
     "output_type": "stream",
     "text": [
      "Note: -w option not given, printing list of sites...\r\n"
     ]
    }
   ],
   "source": [
    "hc_minus_cg_fn = \"%s/hc_minus_cg_7G8_Pf3D7_01_v3.vcf.gz\" % output_dir\n",
    "!{BCFTOOLS} isec --collapse all --complement --output {hc_minus_cg_fn} --output-type z {richard_hc_fn} {richard_cg_fn} "
   ]
  },
  {
   "cell_type": "code",
   "execution_count": 30,
   "metadata": {
    "collapsed": false
   },
   "outputs": [
    {
     "name": "stdout",
     "output_type": "stream",
     "text": [
      "Note: -w option not given, printing list of sites...\r\n"
     ]
    }
   ],
   "source": [
    "hc_minus_gg_fn = \"%s/hc_minus_gg_7G8_Pf3D7_01_v3.vcf.gz\" % output_dir\n",
    "!{BCFTOOLS} isec --collapse all --complement --output {hc_minus_gg_fn} --output-type z {richard_hc_fn} {richard_gg_gn} "
   ]
  },
  {
   "cell_type": "code",
   "execution_count": null,
   "metadata": {
    "collapsed": true
   },
   "outputs": [],
   "source": []
  }
 ],
 "metadata": {
  "kernelspec": {
   "display_name": "Python 3",
   "language": "python",
   "name": "python3"
  },
  "language_info": {
   "codemirror_mode": {
    "name": "ipython",
    "version": 3
   },
   "file_extension": ".py",
   "mimetype": "text/x-python",
   "name": "python",
   "nbconvert_exporter": "python",
   "pygments_lexer": "ipython3",
   "version": "3.4.3"
  }
 },
 "nbformat": 4,
 "nbformat_minor": 0
}
