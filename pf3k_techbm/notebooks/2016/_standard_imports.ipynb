{
 "cells": [
  {
   "cell_type": "code",
   "execution_count": 1,
   "metadata": {
    "collapsed": false
   },
   "outputs": [],
   "source": [
    "# add following as first line of notebook to use\n",
    "# %run _standard_imports.ipynb\n",
    "\n",
    "# standard libraries\n",
    "from __future__ import division, print_function\n",
    "import sys\n",
    "import os\n",
    "import operator\n",
    "import itertools\n",
    "import collections\n",
    "import functools\n",
    "import glob\n",
    "import csv\n",
    "import datetime\n",
    "import bisect\n",
    "import sqlite3\n",
    "import subprocess\n",
    "import traceback\n",
    "import random\n",
    "import gc\n",
    "\n",
    "# third party libraries\n",
    "# N.B., don't import matplotlib because notebooks and scripts may want to import it in different ways (e.g., if using different backends)\n",
    "import numpy as np\n",
    "import scipy\n",
    "import scipy.stats as stats\n",
    "import pandas\n",
    "import numexpr\n",
    "import sklearn\n",
    "import sklearn.decomposition\n",
    "import sklearn.manifold\n",
    "import pyfasta\n",
    "import pysam\n",
    "import petl\n",
    "import petl as etl\n",
    "etl.repr_index_header = True\n",
    "import pysamstats\n",
    "import petl.io\n",
    "import petlx\n",
    "import vcf\n",
    "import vcfnp\n",
    "import h5py\n",
    "import tables\n",
    "import sh\n",
    "import Bio\n",
    "from Bio import SeqIO\n",
    "\n",
    "import stat\n",
    "from sh import ssh\n",
    "bsub = sh.Command('bsub')"
   ]
  },
  {
   "cell_type": "code",
   "execution_count": 2,
   "metadata": {
    "collapsed": false
   },
   "outputs": [],
   "source": [
    "def print_library_versions():\n",
    "    print('python', sys.version)\n",
    "    print('numpy', np.__version__)\n",
    "    print('scipy', scipy.__version__)\n",
    "    print('pandas', pandas.__version__)\n",
    "    print('numexpr', numexpr.__version__)\n",
    "    print('pysam', pysam.__version__)\n",
    "    print('pysamstats', pysamstats.__version__)\n",
    "    print('petl', petl.__version__)\n",
    "    etl.repr_index_header = True\n",
    "    print('petlx', petlx.__version__)\n",
    "    print('vcf', vcf.VERSION)\n",
    "    print('vcfnp', vcfnp.__version__)\n",
    "    print('h5py', h5py.__version__)\n",
    "    print('tables', tables.__version__)\n"
   ]
  },
  {
   "cell_type": "code",
   "execution_count": 3,
   "metadata": {
    "collapsed": false
   },
   "outputs": [
    {
     "name": "stdout",
     "output_type": "stream",
     "text": [
      "python 3.4.5 |Anaconda 2.2.0 (64-bit)| (default, Jul  2 2016, 17:47:47) \n",
      "[GCC 4.4.7 20120313 (Red Hat 4.4.7-1)]\n",
      "numpy 1.11.1\n",
      "scipy 0.18.0\n",
      "pandas 0.15.2\n",
      "numexpr 2.3.1\n",
      "pysam 0.9.1.4\n",
      "pysamstats 0.24.3\n",
      "petl 1.1.0\n",
      "petlx 1.0.3\n",
      "vcf 0.6.7\n",
      "vcfnp 2.3.0.dev0\n",
      "h5py 2.4.0\n",
      "tables 3.1.1\n"
     ]
    }
   ],
   "source": [
    "print_library_versions()"
   ]
  },
  {
   "cell_type": "code",
   "execution_count": null,
   "metadata": {
    "collapsed": false
   },
   "outputs": [],
   "source": []
  }
 ],
 "metadata": {
  "anaconda-cloud": {},
  "kernelspec": {
   "display_name": "Python [default]",
   "language": "python",
   "name": "python3"
  },
  "language_info": {
   "codemirror_mode": {
    "name": "ipython",
    "version": 3
   },
   "file_extension": ".py",
   "mimetype": "text/x-python",
   "name": "python",
   "nbconvert_exporter": "python",
   "pygments_lexer": "ipython3",
   "version": "3.4.5"
  }
 },
 "nbformat": 4,
 "nbformat_minor": 0
}
