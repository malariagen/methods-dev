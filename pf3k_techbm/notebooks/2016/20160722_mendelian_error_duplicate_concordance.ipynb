{
 "cells": [
  {
   "cell_type": "markdown",
   "metadata": {},
   "source": [
    "#Plan\n",
    "- Similar to 20160721_mendelian_error_duplicate_concordance but\n",
    "- remove all alleles that are hom ref"
   ]
  },
  {
   "cell_type": "markdown",
   "metadata": {},
   "source": [
    "See 20160203_release5_npy_hdf5.ipynb for creation of VCF specific to crosses"
   ]
  },
  {
   "cell_type": "code",
   "execution_count": 1,
   "metadata": {
    "collapsed": false
   },
   "outputs": [
    {
     "name": "stdout",
     "output_type": "stream",
     "text": [
      "python 3.4.3 |Anaconda 2.2.0 (64-bit)| (default, Mar  6 2015, 12:03:53) \n",
      "[GCC 4.4.7 20120313 (Red Hat 4.4.7-1)]\n",
      "numpy 1.9.2\n",
      "scipy 0.15.1\n",
      "pandas 0.15.2\n",
      "numexpr 2.3.1\n",
      "pysam 0.8.3\n",
      "pysamstats 0.23\n",
      "petl 1.0.11\n",
      "petlx 1.0.3\n",
      "vcf 0.6.7\n",
      "vcfnp 2.3.0.dev0\n",
      "h5py 2.4.0\n",
      "tables 3.1.1\n"
     ]
    }
   ],
   "source": [
    "%run _standard_imports.ipynb\n",
    "%run _shared_setup.ipynb\n"
   ]
  },
  {
   "cell_type": "code",
   "execution_count": 2,
   "metadata": {
    "collapsed": false
   },
   "outputs": [],
   "source": [
    "release5_final_files_dir = '/nfs/team112_internal/production/release_build/Pf3K/pilot_5_0'\n",
    "# chrom_vcf_fn = \"%s/SNP_INDEL_Pf3D7_14_v3.combined.filtered.vcf.gz\" % (release5_final_files_dir)\n",
    "crosses_vcf_fn = \"%s/SNP_INDEL_WG.combined.filtered.crosses.vcf.gz\" % (release5_final_files_dir)\n",
    "sites_only_vcf_fn = \"%s/SNP_INDEL_WG.combined.filtered.sites.vcf.gz\" % (release5_final_files_dir)\n",
    "\n",
    "output_dir = \"/lustre/scratch109/malaria/rp7/data/pf3k/pilot_5_0/20160722_mendelian_error_duplicate_concordance\"\n",
    "!mkdir -p {output_dir}/vcf\n",
    "\n",
    "release5_crosses_metadata_txt_fn = '../../meta/pf3k_release_5_crosses_metadata.txt'\n",
    "gff_fn = \"%s/Pfalciparum.noseq.gff3.gz\" % output_dir\n",
    "cds_gff_fn = \"%s/Pfalciparum.noseq.gff3.cds.gz\" % output_dir\n",
    "\n",
    "results_table_fn = \"%s/genotype_quality.xlsx\" % output_dir\n",
    "counts_table_fn = \"%s/variant_counts.xlsx\" % output_dir\n",
    "simplifed_counts_table_fn = \"%s/simplified_variant_counts.xlsx\" % output_dir\n",
    "\n",
    "BCFTOOLS = '/nfs/team112_internal/rp7/src/github/malariagen/methods-dev/pf3k_techbm/opt_4/bcftools/bcftools'\n",
    "GATK = '/software/jre1.7.0_25/bin/java -jar /nfs/team112_internal/production/tools/bin/gatk/GenomeAnalysisTK-3.4-46/GenomeAnalysisTK.jar'"
   ]
  },
  {
   "cell_type": "code",
   "execution_count": 3,
   "metadata": {
    "collapsed": false
   },
   "outputs": [
    {
     "data": {
      "text/plain": [
       "'/lustre/scratch109/malaria/rp7/data/pf3k/pilot_5_0/20160722_mendelian_error_duplicate_concordance/Pfalciparum.noseq.gff3.gz'"
      ]
     },
     "execution_count": 3,
     "metadata": {},
     "output_type": "execute_result"
    }
   ],
   "source": [
    "gff_fn"
   ]
  },
  {
   "cell_type": "code",
   "execution_count": 4,
   "metadata": {
    "collapsed": false
   },
   "outputs": [
    {
     "name": "stdout",
     "output_type": "stream",
     "text": [
      "--2016-07-22 08:57:17--  ftp://ftp.sanger.ac.uk/pub/project/pathogens/gff3/2016-06/Pfalciparum.noseq.gff3.gz\n",
      "           => `/lustre/scratch109/malaria/rp7/data/pf3k/pilot_5_0/20160722_mendelian_error_duplicate_concordance/Pfalciparum.noseq.gff3.gz'\n",
      "Resolving ftp.sanger.ac.uk (ftp.sanger.ac.uk)... 193.62.203.17\n",
      "Connecting to ftp.sanger.ac.uk (ftp.sanger.ac.uk)|193.62.203.17|:21... connected.\n",
      "Logging in as anonymous ... Logged in!\n",
      "==> SYST ... done.    ==> PWD ... done.\n",
      "==> TYPE I ... done.  ==> CWD (1) /pub/project/pathogens/gff3/2016-06 ... done.\n",
      "==> SIZE Pfalciparum.noseq.gff3.gz ... 4852221\n",
      "==> PASV ... done.    ==> RETR Pfalciparum.noseq.gff3.gz ... done.\n",
      "Length: 4852221 (4.6M) (unauthoritative)\n",
      "\n",
      "100%[======================================>] 4,852,221   --.-K/s   in 0.07s   \n",
      "\n",
      "2016-07-22 08:57:17 (61.9 MB/s) - `/lustre/scratch109/malaria/rp7/data/pf3k/pilot_5_0/20160722_mendelian_error_duplicate_concordance/Pfalciparum.noseq.gff3.gz' saved [4852221]\n",
      "\n"
     ]
    }
   ],
   "source": [
    "!wget ftp://ftp.sanger.ac.uk/pub/project/pathogens/gff3/2016-06/Pfalciparum.noseq.gff3.gz \\\n",
    "    -O {gff_fn}"
   ]
  },
  {
   "cell_type": "code",
   "execution_count": 5,
   "metadata": {
    "collapsed": false
   },
   "outputs": [],
   "source": [
    "!zgrep CDS {gff_fn} | sort -k1,1 -k4n,5n | cut -f 1,4,5 | sed 's/$/\\t1/' | bgzip -c > {cds_gff_fn} && tabix -s1 -b2 -e3 {cds_gff_fn}"
   ]
  },
  {
   "cell_type": "code",
   "execution_count": 6,
   "metadata": {
    "collapsed": false
   },
   "outputs": [
    {
     "data": {
      "text/plain": [
       "'/nfs/team112_internal/production/release_build/Pf3K/pilot_5_0/SNP_INDEL_WG.combined.filtered.crosses.vcf.gz'"
      ]
     },
     "execution_count": 6,
     "metadata": {},
     "output_type": "execute_result"
    }
   ],
   "source": [
    "crosses_vcf_fn"
   ]
  },
  {
   "cell_type": "code",
   "execution_count": 7,
   "metadata": {
    "collapsed": false
   },
   "outputs": [],
   "source": [
    "multiallelic_header_fn = \"%s/vcf/MULTIALLELIC.hdr\" % (output_dir)\n",
    "fo=open(multiallelic_header_fn, 'w')\n",
    "print('##INFO=<ID=MULTIALLELIC,Number=1,Type=String,Description=\"Is position biallelic (BI), biallelic plus spanning deletion (SD) or truly multiallelic (MU)\">', file=fo)\n",
    "fo.close()"
   ]
  },
  {
   "cell_type": "code",
   "execution_count": 8,
   "metadata": {
    "collapsed": false
   },
   "outputs": [],
   "source": [
    "variant_type_header_fn = \"%s/vcf/VARIANT_TYPE.hdr\" % (output_dir)\n",
    "fo=open(variant_type_header_fn, 'w')\n",
    "print('##INFO=<ID=VARIANT_TYPE,Number=1,Type=String,Description=\"SNP or indel (IND)\">', file=fo)\n",
    "fo.close()"
   ]
  },
  {
   "cell_type": "code",
   "execution_count": 9,
   "metadata": {
    "collapsed": false
   },
   "outputs": [],
   "source": [
    "cds_header_fn = \"%s/vcf/CDS.hdr\" % (output_dir)\n",
    "fo=open(cds_header_fn, 'w')\n",
    "print('##INFO=<ID=CDS,Number=0,Type=Flag,Description=\"Is position coding\">', file=fo)\n",
    "fo.close()"
   ]
  },
  {
   "cell_type": "code",
   "execution_count": 10,
   "metadata": {
    "collapsed": false
   },
   "outputs": [],
   "source": [
    "def create_analysis_vcf(input_vcf_fn=crosses_vcf_fn, region='Pf3D7_14_v3:1000000-1100000',\n",
    "                        output_vcf_fn=None, BCFTOOLS=BCFTOOLS, rewrite=False):\n",
    "    if output_vcf_fn is None:\n",
    "        if region is None:\n",
    "            output_vcf_fn = \"%s/vcf/SNP_INDEL_WG.analysis.vcf.gz\" % (output_dir)\n",
    "        else:\n",
    "            output_vcf_fn = \"%s/vcf/SNP_INDEL_%s.analysis.vcf.gz\" % (output_dir, region)\n",
    "    intermediate_fns = collections.OrderedDict()\n",
    "    for intermediate_file in ['nonref', 'multiallelic', 'triallelic', 'bi_allelic', 'spanning_deletion', 'triallelic_no_sd', 'multiallelics',\n",
    "                              'biallelic', 'str', 'snps', 'indels', 'strs', 'variant_type', 'coding', 'analysis',\n",
    "                             'site_snps', 'site_indels', 'site_variant_type', 'site_analysis']:\n",
    "        intermediate_fns[intermediate_file] = output_vcf_fn.replace('analysis', intermediate_file)\n",
    "    \n",
    "    if rewrite or not os.path.exists(intermediate_fns['nonref']):\n",
    "        if region is not None:\n",
    "            !{BCFTOOLS} annotate --regions {region} --remove INFO/AF,INFO/BaseQRankSum,INFO/ClippingRankSum,INFO/DP,INFO/DS,INFO/END,INFO/FS,\\\n",
    "INFO/GC,INFO/HaplotypeScore,INFO/InbreedingCoeff,INFO/MLEAC,INFO/MLEAF,INFO/MQ,INFO/MQRankSum,INFO/NEGATIVE_TRAIN_SITE,\\\n",
    "INFO/POSITIVE_TRAIN_SITE,INFO/QD,INFO/ReadPosRankSum,INFO/RegionType,INFO/RPA,INFO/RU,INFO/STR,INFO/SNPEFF_AMINO_ACID_CHANGE,\\\n",
    "INFO/SNPEFF_CODON_CHANGE,INFO/SNPEFF_EXON_ID,INFO/SNPEFF_FUNCTIONAL_CLASS,INFO/SNPEFF_GENE_BIOTYPE,\\\n",
    "INFO/SNPEFF_GENE_NAME,INFO/SNPEFF_IMPACT,INFO/SNPEFF_TRANSCRIPT_ID,INFO/SOR,INFO/culprit,INFO/set,\\\n",
    "FORMAT/PGT,FORMAT/PID,FORMAT/PL {input_vcf_fn} | \\\n",
    "            {BCFTOOLS} norm -m -any  | \\\n",
    "            {BCFTOOLS} view --include 'AC>0' | \\\n",
    "            {BCFTOOLS} norm -m +any | \\\n",
    "            {BCFTOOLS} view --include 'ALT!=\"*\"' -Oz -o {intermediate_fns['nonref']}\n",
    "        else:\n",
    "            !{BCFTOOLS} annotate --remove INFO/AF,INFO/BaseQRankSum,INFO/ClippingRankSum,INFO/DP,INFO/DS,INFO/END,INFO/FS,\\\n",
    "INFO/GC,INFO/HaplotypeScore,INFO/InbreedingCoeff,INFO/MLEAC,INFO/MLEAF,INFO/MQ,INFO/MQRankSum,INFO/NEGATIVE_TRAIN_SITE,\\\n",
    "INFO/POSITIVE_TRAIN_SITE,INFO/QD,INFO/ReadPosRankSum,INFO/RegionType,INFO/RPA,INFO/RU,INFO/STR,INFO/SNPEFF_AMINO_ACID_CHANGE,\\\n",
    "INFO/SNPEFF_CODON_CHANGE,INFO/SNPEFF_EXON_ID,INFO/SNPEFF_FUNCTIONAL_CLASS,INFO/SNPEFF_GENE_BIOTYPE,\\\n",
    "INFO/SNPEFF_GENE_NAME,INFO/SNPEFF_IMPACT,INFO/SNPEFF_TRANSCRIPT_ID,INFO/SOR,INFO/culprit,INFO/set,\\\n",
    "FORMAT/PGT,FORMAT/PID,FORMAT/PL {input_vcf_fn} | \\\n",
    "            {BCFTOOLS} norm -m -any  | \\\n",
    "            {BCFTOOLS} view --include 'AC>0' | \\\n",
    "            {BCFTOOLS} norm -m +any | \\\n",
    "            {BCFTOOLS} view --include 'ALT!=\"*\"' -Oz -o {intermediate_fns['nonref']}\n",
    "        !{BCFTOOLS} index --tbi {intermediate_fns['nonref']}\n",
    "\n",
    "    if rewrite or not os.path.exists(intermediate_fns['snps']):\n",
    "        !{BCFTOOLS} query -f'%CHROM\\t%POS\\tSNP\\n' --include 'TYPE=\"snp\"' {intermediate_fns['nonref']} | bgzip -c > {intermediate_fns['snps']} && tabix -s1 -b2 -e2 -f {intermediate_fns['snps']}\n",
    "\n",
    "    if rewrite or not os.path.exists(intermediate_fns['indels']):\n",
    "        !{BCFTOOLS} query -f'%CHROM\\t%POS\\tINDEL\\n' --include 'TYPE!=\"snp\"' {intermediate_fns['nonref']} | bgzip -c > {intermediate_fns['indels']} && tabix -s1 -b2 -e2 -f {intermediate_fns['indels']}\n",
    "\n",
    "#     if rewrite or not os.path.exists(intermediate_fns['strs']):\n",
    "#         !{BCFTOOLS} query -f'%CHROM\\t%POS\\tSTR\\n' --include 'TYPE!=\"snp\" && STR=1' {intermediate_fns['str']} | bgzip -c > {intermediate_fns['strs']} && tabix -s1 -b2 -e2 -f {intermediate_fns['strs']}\n",
    "\n",
    "    if rewrite or not os.path.exists(intermediate_fns['variant_type']):\n",
    "        !{BCFTOOLS} annotate -a {intermediate_fns['snps']} -c CHROM,POS,INFO/VARIANT_TYPE \\\n",
    "        -h {variant_type_header_fn} {intermediate_fns['nonref']} |\\\n",
    "        {BCFTOOLS} annotate -a {intermediate_fns['indels']} -c CHROM,POS,INFO/VARIANT_TYPE \\\n",
    "        -Oz -o {intermediate_fns['variant_type']} \n",
    "        !{BCFTOOLS} index --tbi {intermediate_fns['variant_type']}\n",
    "\n",
    "        #         {BCFTOOLS} annotate -a {intermediate_fns['strs']} -c CHROM,POS,INFO/VARIANT_TYPE \\\n",
    "\n",
    "    if rewrite or not os.path.exists(intermediate_fns['multiallelic']):\n",
    "        !{BCFTOOLS} query -f'%CHROM\\t%POS\\tMU\\n' --include 'N_ALT>2' {intermediate_fns['variant_type']} | bgzip -c > {intermediate_fns['multiallelic']} && tabix -s1 -b2 -e2 {intermediate_fns['multiallelic']}\n",
    "        \n",
    "    if rewrite or not os.path.exists(intermediate_fns['triallelic']):\n",
    "        !{BCFTOOLS} query -f'%CHROM\\t%POS\\t%ALT\\tSD\\n' --include 'N_ALT=2' {intermediate_fns['variant_type']} | bgzip -c > {intermediate_fns['triallelic']} && tabix -s1 -b2 -e2 {intermediate_fns['triallelic']}\n",
    "\n",
    "    if rewrite or not os.path.exists(intermediate_fns['bi_allelic']):\n",
    "        !{BCFTOOLS} query -f'%CHROM\\t%POS\\t%ALT\\tBI\\n' --include 'N_ALT=1' {intermediate_fns['variant_type']} | bgzip -c > {intermediate_fns['bi_allelic']} && tabix -s1 -b2 -e2 {intermediate_fns['bi_allelic']}\n",
    "\n",
    "    if rewrite or not os.path.exists(intermediate_fns['spanning_deletion']):\n",
    "        !zgrep '\\*' {intermediate_fns['triallelic']} | bgzip -c > {intermediate_fns['spanning_deletion']} && tabix -s1 -b2 -e2 {intermediate_fns['spanning_deletion']}\n",
    "        \n",
    "    if rewrite or not os.path.exists(intermediate_fns['triallelic_no_sd']):\n",
    "        !zgrep -v '\\*' {intermediate_fns['triallelic']} | sed 's/SD/MU/g' | bgzip -c > {intermediate_fns['triallelic_no_sd']} && tabix -s1 -b2 -e2 {intermediate_fns['triallelic_no_sd']}\n",
    "        \n",
    "    if rewrite or not os.path.exists(intermediate_fns['multiallelics']):\n",
    "        !{BCFTOOLS} annotate -a {intermediate_fns['bi_allelic']} -c CHROM,POS,-,INFO/MULTIALLELIC \\\n",
    "        -h {multiallelic_header_fn} {intermediate_fns['variant_type']} | \\\n",
    "        {BCFTOOLS} annotate -a {intermediate_fns['spanning_deletion']} -c CHROM,POS,-,INFO/MULTIALLELIC |\\\n",
    "        {BCFTOOLS} annotate -a {intermediate_fns['multiallelic']} -c CHROM,POS,INFO/MULTIALLELIC |\\\n",
    "        {BCFTOOLS} annotate -a {intermediate_fns['triallelic_no_sd']} -c CHROM,POS,-,INFO/MULTIALLELIC \\\n",
    "        -Oz -o {intermediate_fns['multiallelics']}\n",
    "        !{BCFTOOLS} index --tbi {intermediate_fns['multiallelics']}\n",
    "        \n",
    "    if rewrite or not os.path.exists(intermediate_fns['biallelic']):\n",
    "        !{BCFTOOLS} norm -m -any --fasta-ref {GENOME_FN} {intermediate_fns['multiallelics']} | \\\n",
    "        {BCFTOOLS} view --include 'AC>0 && ALT!=\"*\"' -Oz -o {intermediate_fns['biallelic']}\n",
    "        !{BCFTOOLS} index --tbi {intermediate_fns['biallelic']}\n",
    "\n",
    "    if rewrite or not os.path.exists(intermediate_fns['analysis']):\n",
    "        !{BCFTOOLS} annotate -a {cds_gff_fn} -c CHROM,FROM,TO,CDS \\\n",
    "        -h {cds_header_fn} \\\n",
    "        -Oz -o {intermediate_fns['analysis']} {intermediate_fns['biallelic']}\n",
    "        !{BCFTOOLS} index --tbi {intermediate_fns['analysis']}\n"
   ]
  },
  {
   "cell_type": "code",
   "execution_count": 11,
   "metadata": {
    "collapsed": false
   },
   "outputs": [],
   "source": [
    "create_analysis_vcf(region=None)"
   ]
  },
  {
   "cell_type": "code",
   "execution_count": 12,
   "metadata": {
    "collapsed": false
   },
   "outputs": [
    {
     "data": {
      "text/plain": [
       "'/lustre/scratch109/malaria/rp7/data/pf3k/pilot_5_0/20160722_mendelian_error_duplicate_concordance'"
      ]
     },
     "execution_count": 12,
     "metadata": {},
     "output_type": "execute_result"
    }
   ],
   "source": [
    "output_dir"
   ]
  },
  {
   "cell_type": "code",
   "execution_count": 13,
   "metadata": {
    "collapsed": false
   },
   "outputs": [
    {
     "name": "stdout",
     "output_type": "stream",
     "text": [
      "98\n"
     ]
    },
    {
     "data": {
      "text/html": [
       "<table class='petl'>\n",
       "<thead>\n",
       "<tr>\n",
       "<th>sample</th>\n",
       "<th>acc</th>\n",
       "<th>study</th>\n",
       "<th>study_title</th>\n",
       "<th>clone</th>\n",
       "<th>parent_or_progeny</th>\n",
       "</tr>\n",
       "</thead>\n",
       "<tbody>\n",
       "<tr>\n",
       "<td>PG0008-CW</td>\n",
       "<td>ERS010540</td>\n",
       "<td>1041</td>\n",
       "<td>HB3xDD2 cross progeny</td>\n",
       "<td>DD2</td>\n",
       "<td>parent</td>\n",
       "</tr>\n",
       "<tr>\n",
       "<td>PG0004-CW</td>\n",
       "<td>ERS010539</td>\n",
       "<td>1041</td>\n",
       "<td>HB3xDD2 cross progeny</td>\n",
       "<td>HB3</td>\n",
       "<td>parent</td>\n",
       "</tr>\n",
       "<tr>\n",
       "<td>PG0023-C</td>\n",
       "<td>ERS010581,ERS010543</td>\n",
       "<td>1041</td>\n",
       "<td>HB3xDD2 cross progeny</td>\n",
       "<td>1BB5</td>\n",
       "<td>progeny</td>\n",
       "</tr>\n",
       "<tr>\n",
       "<td>PG0022-Cx</td>\n",
       "<td>ERS088714</td>\n",
       "<td>1041</td>\n",
       "<td>HB3xDD2 cross progeny</td>\n",
       "<td>3BA6</td>\n",
       "<td>progeny</td>\n",
       "</tr>\n",
       "<tr>\n",
       "<td>PG0024-C</td>\n",
       "<td>ERS010150</td>\n",
       "<td>1041</td>\n",
       "<td>HB3xDD2 cross progeny</td>\n",
       "<td>3BD5</td>\n",
       "<td>progeny</td>\n",
       "</tr>\n",
       "</tbody>\n",
       "</table>\n",
       "<p><strong>...</strong></p>"
      ],
      "text/plain": [
       "+-------------+-----------------------+--------+-------------------------+--------+-------------------+\n",
       "| sample      | acc                   | study  | study_title             | clone  | parent_or_progeny |\n",
       "+=============+=======================+========+=========================+========+===================+\n",
       "| 'PG0008-CW' | 'ERS010540'           | '1041' | 'HB3xDD2 cross progeny' | 'DD2'  | 'parent'          |\n",
       "+-------------+-----------------------+--------+-------------------------+--------+-------------------+\n",
       "| 'PG0004-CW' | 'ERS010539'           | '1041' | 'HB3xDD2 cross progeny' | 'HB3'  | 'parent'          |\n",
       "+-------------+-----------------------+--------+-------------------------+--------+-------------------+\n",
       "| 'PG0023-C'  | 'ERS010581,ERS010543' | '1041' | 'HB3xDD2 cross progeny' | '1BB5' | 'progeny'         |\n",
       "+-------------+-----------------------+--------+-------------------------+--------+-------------------+\n",
       "| 'PG0022-Cx' | 'ERS088714'           | '1041' | 'HB3xDD2 cross progeny' | '3BA6' | 'progeny'         |\n",
       "+-------------+-----------------------+--------+-------------------------+--------+-------------------+\n",
       "| 'PG0024-C'  | 'ERS010150'           | '1041' | 'HB3xDD2 cross progeny' | '3BD5' | 'progeny'         |\n",
       "+-------------+-----------------------+--------+-------------------------+--------+-------------------+\n",
       "..."
      ]
     },
     "execution_count": 13,
     "metadata": {},
     "output_type": "execute_result"
    }
   ],
   "source": [
    "tbl_release5_crosses_metadata = etl.fromtsv(release5_crosses_metadata_txt_fn)\n",
    "print(len(tbl_release5_crosses_metadata.data()))\n",
    "tbl_release5_crosses_metadata"
   ]
  },
  {
   "cell_type": "code",
   "execution_count": 14,
   "metadata": {
    "collapsed": true
   },
   "outputs": [],
   "source": [
    "replicates_first = [\n",
    " 'PG0112-C',\n",
    " 'PG0062-C',\n",
    " 'PG0053-C',\n",
    " 'PG0053-C',\n",
    " 'PG0053-C',\n",
    " 'PG0055-C',\n",
    " 'PG0055-C',\n",
    " 'PG0056-C',\n",
    " 'PG0004-CW',\n",
    " 'PG0111-C',\n",
    " 'PG0100-C',\n",
    " 'PG0079-C',\n",
    " 'PG0104-C',\n",
    " 'PG0086-C',\n",
    " 'PG0095-C',\n",
    " 'PG0078-C',\n",
    " 'PG0105-C',\n",
    " 'PG0102-C']\n",
    "\n",
    "replicates_second = [\n",
    " 'PG0112-CW',\n",
    " 'PG0065-C',\n",
    " 'PG0055-C',\n",
    " 'PG0056-C',\n",
    " 'PG0067-C',\n",
    " 'PG0056-C',\n",
    " 'PG0067-C',\n",
    " 'PG0067-C',\n",
    " 'PG0052-C',\n",
    " 'PG0111-CW',\n",
    " 'PG0100-CW',\n",
    " 'PG0079-CW',\n",
    " 'PG0104-CW',\n",
    " 'PG0086-CW',\n",
    " 'PG0095-CW',\n",
    " 'PG0078-CW',\n",
    " 'PG0105-CW',\n",
    " 'PG0102-CW']"
   ]
  },
  {
   "cell_type": "code",
   "execution_count": 15,
   "metadata": {
    "collapsed": true
   },
   "outputs": [],
   "source": [
    "quads_first = [\n",
    " 'PG0053-C',\n",
    " 'PG0053-C',\n",
    " 'PG0053-C',\n",
    " 'PG0055-C',\n",
    " 'PG0055-C',\n",
    " 'PG0056-C']\n",
    "\n",
    "quads_second = [\n",
    " 'PG0055-C',\n",
    " 'PG0056-C',\n",
    " 'PG0067-C',\n",
    " 'PG0056-C',\n",
    " 'PG0067-C',\n",
    " 'PG0067-C']"
   ]
  },
  {
   "cell_type": "code",
   "execution_count": 16,
   "metadata": {
    "collapsed": false
   },
   "outputs": [],
   "source": [
    "# Note the version created in this notebook doesn't work. I think this is because of R in Number of FORMAT field for AD,\n",
    "# which is part of spec for v4.2, but think GATK must have got rid of this in previous notebook\n",
    "analysis_vcf_fn = \"/lustre/scratch109/malaria/rp7/data/pf3k/pilot_5_0/20160719_mendelian_error_duplicate_concordance/vcf/SNP_INDEL_WG.analysis.vcf.gz\"\n",
    "vcf_reader = vcf.Reader(filename=analysis_vcf_fn)\n",
    "sample_ids = np.array(vcf_reader.samples)"
   ]
  },
  {
   "cell_type": "code",
   "execution_count": 17,
   "metadata": {
    "collapsed": false
   },
   "outputs": [
    {
     "name": "stdout",
     "output_type": "stream",
     "text": [
      "18\n",
      "[96 48 40 40 40 42 42 43  2 94 82 63 87 69 76 61 89 84]\n",
      "18\n",
      "[97 51 42 43 53 43 53 53 39 95 83 64 88 70 77 62 90 85]\n"
     ]
    }
   ],
   "source": [
    "# sample_ids = tbl_release5_crosses_metadata.values('sample').array()\n",
    "\n",
    "rep_index_first = np.argsort(sample_ids)[np.searchsorted(sample_ids[np.argsort(sample_ids)], replicates_first)]\n",
    "rep_index_second = np.argsort(sample_ids)[np.searchsorted(sample_ids[np.argsort(sample_ids)], replicates_second)]\n",
    "print(len(rep_index_first))\n",
    "print(rep_index_first)\n",
    "print(len(rep_index_second))\n",
    "print(rep_index_second)\n"
   ]
  },
  {
   "cell_type": "code",
   "execution_count": 18,
   "metadata": {
    "collapsed": false
   },
   "outputs": [
    {
     "name": "stdout",
     "output_type": "stream",
     "text": [
      "6\n",
      "[40 40 40 42 42 43]\n",
      "6\n",
      "[42 43 53 43 53 53]\n"
     ]
    }
   ],
   "source": [
    "# sample_ids = tbl_release5_crosses_metadata.values('sample').array()\n",
    "\n",
    "quad_index_first = np.argsort(sample_ids)[np.searchsorted(sample_ids[np.argsort(sample_ids)], quads_first)]\n",
    "quad_index_second = np.argsort(sample_ids)[np.searchsorted(sample_ids[np.argsort(sample_ids)], quads_second)]\n",
    "print(len(quad_index_first))\n",
    "print(quad_index_first)\n",
    "print(len(quad_index_second))\n",
    "print(quad_index_second)\n"
   ]
  },
  {
   "cell_type": "code",
   "execution_count": 19,
   "metadata": {
    "collapsed": false
   },
   "outputs": [
    {
     "data": {
      "text/plain": [
       "array(['3D7xHB3 cross progeny', '7G8xGB4 cross progeny',\n",
       "       'HB3xDD2 cross progeny'], \n",
       "      dtype='<U21')"
      ]
     },
     "execution_count": 19,
     "metadata": {},
     "output_type": "execute_result"
    }
   ],
   "source": [
    "tbl_release5_crosses_metadata.distinct('study_title').values('study_title').array()"
   ]
  },
  {
   "cell_type": "code",
   "execution_count": 20,
   "metadata": {
    "collapsed": false
   },
   "outputs": [],
   "source": [
    "def create_variants_npy(vcf_fn):\n",
    "    output_dir = '%s.vcfnp_cache' % vcf_fn\n",
    "    if not os.path.exists(output_dir):\n",
    "        os.makedirs(output_dir)\n",
    "    vcfnp.variants(\n",
    "        vcf_fn,\n",
    "        fields=['CHROM', 'POS', 'REF', 'ALT', 'VariantType', 'VARIANT_TYPE',\n",
    "                'SNPEFF_EFFECT', 'AC', 'AN', 'CDS', 'MULTIALLELIC',\n",
    "                'VQSLOD', 'FILTER'],\n",
    "        dtypes={\n",
    "            'REF':                      'a10',\n",
    "            'ALT':                      'a10',\n",
    "            'RegionType':               'a25',\n",
    "            'VariantType':              'a40',\n",
    "            'VARIANT_TYPE':             'a3',\n",
    "            'RU':                       'a40',\n",
    "            'SNPEFF_EFFECT':            'a33',\n",
    "            'CDS':                      bool,\n",
    "            'MULTIALLELIC':             'a2',\n",
    "        },\n",
    "        arities={\n",
    "            'ALT':   1,\n",
    "            'AF':    1,\n",
    "            'AC':    1,\n",
    "            'RPA':   2,\n",
    "            'ANN':   1,\n",
    "        },\n",
    "        fills={\n",
    "            'VQSLOD': np.nan,\n",
    "        },\n",
    "        flatten_filter=True,\n",
    "        progress=100000,\n",
    "        verbose=True,\n",
    "        cache=True,\n",
    "        cachedir=output_dir\n",
    "    )\n",
    "\n",
    "def create_calldata_npy(vcf_fn, max_alleles=2):\n",
    "    output_dir = '%s.vcfnp_cache' % vcf_fn\n",
    "    if not os.path.exists(output_dir):\n",
    "        os.makedirs(output_dir)\n",
    "    vcfnp.calldata_2d(\n",
    "        vcf_fn,\n",
    "        fields=['GT', 'AD', 'DP', 'GQ'],\n",
    "        dtypes={\n",
    "            'AD': 'u2',\n",
    "        },\n",
    "        arities={\n",
    "            'AD': max_alleles,\n",
    "        },\n",
    "        progress=100000,\n",
    "        verbose=True,\n",
    "        cache=True,\n",
    "        cachedir=output_dir\n",
    "    )\n"
   ]
  },
  {
   "cell_type": "code",
   "execution_count": 21,
   "metadata": {
    "collapsed": false
   },
   "outputs": [
    {
     "name": "stderr",
     "output_type": "stream",
     "text": [
      "[vcfnp] 2016-07-22 08:57:33.872000 :: caching is enabled\n",
      "[vcfnp] 2016-07-22 08:57:33.873819 :: cache file available\n",
      "[vcfnp] 2016-07-22 08:57:33.875285 :: loading from cache file /lustre/scratch109/malaria/rp7/data/pf3k/pilot_5_0/20160722_mendelian_error_duplicate_concordance/vcf/SNP_INDEL_WG.analysis.vcf.gz.vcfnp_cache/variants.npy\n",
      "[vcfnp] 2016-07-22 08:57:34.563094 :: caching is enabled\n",
      "[vcfnp] 2016-07-22 08:57:34.565569 :: cache file available\n",
      "[vcfnp] 2016-07-22 08:57:34.566204 :: loading from cache file /lustre/scratch109/malaria/rp7/data/pf3k/pilot_5_0/20160722_mendelian_error_duplicate_concordance/vcf/SNP_INDEL_WG.analysis.vcf.gz.vcfnp_cache/calldata_2d.npy\n"
     ]
    }
   ],
   "source": [
    "create_variants_npy(\"%s/vcf/SNP_INDEL_WG.analysis.vcf.gz\" % (output_dir))\n",
    "create_calldata_npy(\"%s/vcf/SNP_INDEL_WG.analysis.vcf.gz\" % (output_dir))\n"
   ]
  },
  {
   "cell_type": "code",
   "execution_count": 22,
   "metadata": {
    "collapsed": false
   },
   "outputs": [],
   "source": [
    "analysis_vcf_fn = \"%s/vcf/SNP_INDEL_WG.analysis.vcf.gz\" % (output_dir)\n",
    "variants = np.load(\"%s.vcfnp_cache/variants.npy\" % analysis_vcf_fn)\n",
    "calldata = np.load(\"%s.vcfnp_cache/calldata_2d.npy\" % analysis_vcf_fn)\n"
   ]
  },
  {
   "cell_type": "code",
   "execution_count": 23,
   "metadata": {
    "collapsed": false
   },
   "outputs": [
    {
     "name": "stdout",
     "output_type": "stream",
     "text": [
      "(array([b'IND', b'SNP'], \n",
      "      dtype='|S3'), array([476766, 355977]))\n"
     ]
    }
   ],
   "source": [
    "print(np.unique(variants['VARIANT_TYPE'], return_counts=True))\n"
   ]
  },
  {
   "cell_type": "code",
   "execution_count": 23,
   "metadata": {
    "collapsed": false
   },
   "outputs": [
    {
     "name": "stdout",
     "output_type": "stream",
     "text": [
      "(array([b'IND', b'SNP'], \n",
      "      dtype='|S3'), array([476766, 355977]))\n"
     ]
    }
   ],
   "source": [
    "print(np.unique(variants['VARIANT_TYPE'], return_counts=True))\n"
   ]
  },
  {
   "cell_type": "code",
   "execution_count": 38,
   "metadata": {
    "collapsed": false
   },
   "outputs": [
    {
     "data": {
      "text/plain": [
       "(array([b'BI', b'MU', b'SD'], \n",
       "       dtype='|S2'), array([ 86374, 659316,  87053]))"
      ]
     },
     "execution_count": 38,
     "metadata": {},
     "output_type": "execute_result"
    }
   ],
   "source": [
    "np.unique(variants['MULTIALLELIC'], return_counts=True)"
   ]
  },
  {
   "cell_type": "code",
   "execution_count": 24,
   "metadata": {
    "collapsed": false
   },
   "outputs": [
    {
     "data": {
      "text/plain": [
       "(array([b'BI', b'MU', b'SD'], \n",
       "       dtype='|S2'), array([327581, 385047, 120115]))"
      ]
     },
     "execution_count": 24,
     "metadata": {},
     "output_type": "execute_result"
    }
   ],
   "source": [
    "np.unique(variants['MULTIALLELIC'], return_counts=True)"
   ]
  },
  {
   "cell_type": "code",
   "execution_count": 25,
   "metadata": {
    "collapsed": false
   },
   "outputs": [],
   "source": [
    "def genotype_concordance_gatk(calldata=calldata,\n",
    "                              ix = ((variants['VARIANT_TYPE'] == b'SNP') & (variants['MULTIALLELIC'] == b'BI') &\n",
    "                                    (variants['CDS']) & variants['FILTER_PASS']),\n",
    "                              GQ_threshold=30,\n",
    "                              rep_index_first=rep_index_first, rep_index_second=rep_index_second,\n",
    "                              verbose=False):\n",
    "    GT = calldata['GT'][ix, :]\n",
    "    GT[calldata['GQ'][ix, :] < GQ_threshold] = b'./.'\n",
    "    \n",
    "    all_samples = sample_ids\n",
    "    total_mendelian_errors = 0\n",
    "    total_homozygotes = 0\n",
    "    for cross in tbl_release5_crosses_metadata.distinct('study_title').values('study_title').array():\n",
    "        parents = (tbl_release5_crosses_metadata\n",
    "            .selecteq('study_title', cross)\n",
    "            .selecteq('parent_or_progeny', 'parent')\n",
    "            .values('sample')\n",
    "            .array()\n",
    "        )\n",
    "        parent1_calls = GT[:, all_samples==parents[0]]\n",
    "        parent2_calls = GT[:, all_samples==parents[1]]\n",
    "        progeny = (tbl_release5_crosses_metadata\n",
    "            .selecteq('study_title', cross)\n",
    "            .selecteq('parent_or_progeny', 'progeny')\n",
    "            .values('sample')\n",
    "            .array()\n",
    "        )\n",
    "        mendelian_errors = np.zeros(len(progeny))\n",
    "        homozygotes = np.zeros(len(progeny))\n",
    "        for i, ox_code in enumerate(progeny):\n",
    "            progeny_calls = GT[:, all_samples==ox_code]\n",
    "            error_calls = (\n",
    "                ((parent1_calls == b'0/0') & (parent2_calls == b'0/0') & (progeny_calls == b'1/1')) |\n",
    "                ((parent1_calls == b'1/1') & (parent2_calls == b'1/1') & (progeny_calls == b'0/0'))\n",
    "            )\n",
    "            homozygous_calls = (\n",
    "                ((parent1_calls == b'0/0') | (parent1_calls == b'1/1' )) &\n",
    "                ((parent2_calls == b'0/0') | (parent2_calls == b'1/1' )) &\n",
    "                ((progeny_calls == b'0/0') | (progeny_calls == b'1/1' ))\n",
    "            )\n",
    "            mendelian_errors[i] = np.sum(error_calls)\n",
    "            homozygotes[i] = np.sum(homozygous_calls)\n",
    "        total_mendelian_errors = total_mendelian_errors + np.sum(mendelian_errors)\n",
    "        total_homozygotes = total_homozygotes + np.sum(homozygotes)\n",
    "        \n",
    "    mendelian_error_rate = total_mendelian_errors / total_homozygotes\n",
    "    \n",
    "    GT_both = (np.in1d(GT[:, rep_index_first], [b'0/0', b'1/1']) &\n",
    "                     np.in1d(GT[:, rep_index_second], [b'0/0', b'1/1'])\n",
    "                    )\n",
    "    GT_both = (\n",
    "        ((GT[:, rep_index_first] == b'0/0') | (GT[:, rep_index_first] == b'1/1')) &\n",
    "        ((GT[:, rep_index_second] == b'0/0') | (GT[:, rep_index_second] == b'1/1'))\n",
    "    )\n",
    "    GT_discordant = (\n",
    "        ((GT[:, rep_index_first] == b'0/0') & (GT[:, rep_index_second] == b'1/1')) |\n",
    "        ((GT[:, rep_index_first] == b'1/1') & (GT[:, rep_index_second] == b'0/0'))\n",
    "    )\n",
    "    missingness_per_sample = np.sum(GT == b'./.', 0)\n",
    "    if verbose:\n",
    "        print(missingness_per_sample)\n",
    "    mean_missingness = np.sum(missingness_per_sample) / (GT.shape[0] * GT.shape[1])\n",
    "    heterozygosity_per_sample = np.sum(GT == b'0/1', 0)\n",
    "    if verbose:\n",
    "        print(heterozygosity_per_sample)\n",
    "    mean_heterozygosity = np.sum(heterozygosity_per_sample) / (GT.shape[0] * GT.shape[1])\n",
    "    num_discordance_per_sample_pair = np.sum(GT_discordant, 0)\n",
    "    num_both_calls_per_sample_pair = np.sum(GT_both, 0)\n",
    "    if verbose:\n",
    "        print(num_discordance_per_sample_pair)\n",
    "        print(num_both_calls_per_sample_pair)\n",
    "    prop_discordances_per_sample_pair = num_discordance_per_sample_pair/num_both_calls_per_sample_pair\n",
    "    num_discordance_per_snp = np.sum(GT_discordant, 1)\n",
    "    mean_prop_discordances = (np.sum(num_discordance_per_sample_pair) / np.sum(num_both_calls_per_sample_pair))\n",
    "    num_of_alleles = np.sum(ix)\n",
    "    return(\n",
    "#         num_of_alleles,\n",
    "        mean_missingness,\n",
    "        mean_heterozygosity,\n",
    "        mean_prop_discordances,\n",
    "        mendelian_error_rate,\n",
    "#         prop_discordances_per_sample_pair,\n",
    "#         GT.shape\n",
    "    )\n",
    "    "
   ]
  },
  {
   "cell_type": "code",
   "execution_count": 121,
   "metadata": {
    "collapsed": false
   },
   "outputs": [
    {
     "data": {
      "text/plain": [
       "(0.052356625919844309,\n",
       " 0.0032449761513800922,\n",
       " 1.4812620352540365e-05,\n",
       " 3.1193964068578418e-05)"
      ]
     },
     "execution_count": 121,
     "metadata": {},
     "output_type": "execute_result"
    }
   ],
   "source": [
    "genotype_concordance_gatk()"
   ]
  },
  {
   "cell_type": "code",
   "execution_count": 125,
   "metadata": {
    "collapsed": false
   },
   "outputs": [
    {
     "data": {
      "text/plain": [
       "(0.017184907168486807,\n",
       " 0.0042406234524461125,\n",
       " 1.4499548097417631e-05,\n",
       " 3.1662086857739367e-05)"
      ]
     },
     "execution_count": 125,
     "metadata": {},
     "output_type": "execute_result"
    }
   ],
   "source": [
    "genotype_concordance_gatk()"
   ]
  },
  {
   "cell_type": "code",
   "execution_count": 68,
   "metadata": {
    "collapsed": false
   },
   "outputs": [
    {
     "data": {
      "text/plain": [
       "(0.017230241313679999,\n",
       " 0.0042580681013045111,\n",
       " 1.449226354664335e-05,\n",
       " 3.1646874583436029e-05)"
      ]
     },
     "execution_count": 68,
     "metadata": {},
     "output_type": "execute_result"
    }
   ],
   "source": [
    "genotype_concordance_gatk()"
   ]
  },
  {
   "cell_type": "code",
   "execution_count": 40,
   "metadata": {
    "collapsed": false
   },
   "outputs": [
    {
     "data": {
      "text/plain": [
       "(0.017184907168486807,\n",
       " 0.0042406234524461125,\n",
       " 1.4499548097417631e-05,\n",
       " 3.1662086857739367e-05)"
      ]
     },
     "execution_count": 40,
     "metadata": {},
     "output_type": "execute_result"
    }
   ],
   "source": [
    "genotype_concordance_gatk()"
   ]
  },
  {
   "cell_type": "code",
   "execution_count": null,
   "metadata": {
    "collapsed": false
   },
   "outputs": [
    {
     "data": {
      "text/plain": [
       "(0.017184907168486807,\n",
       " 0.0042406234524461125,\n",
       " 1.4499548097417631e-05,\n",
       " 3.1662086857739367e-05)"
      ]
     },
     "execution_count": 59,
     "metadata": {},
     "output_type": "execute_result"
    }
   ],
   "source": [
    "genotype_concordance_gatk()"
   ]
  },
  {
   "cell_type": "code",
   "execution_count": 26,
   "metadata": {
    "collapsed": false
   },
   "outputs": [
    {
     "data": {
      "text/plain": [
       "(0.078914532846105473,\n",
       " 0.0084792158621690428,\n",
       " 0.00017328076060445561,\n",
       " 0.00039702741949261127)"
      ]
     },
     "execution_count": 26,
     "metadata": {},
     "output_type": "execute_result"
    }
   ],
   "source": [
    "genotype_concordance_gatk()"
   ]
  },
  {
   "cell_type": "code",
   "execution_count": 26,
   "metadata": {
    "collapsed": false
   },
   "outputs": [
    {
     "data": {
      "text/plain": [
       "(0.078914532846105473,\n",
       " 0.0084792158621690428,\n",
       " 0.00017328076060445561,\n",
       " 0.00039702741949261127)"
      ]
     },
     "execution_count": 26,
     "metadata": {},
     "output_type": "execute_result"
    }
   ],
   "source": [
    "genotype_concordance_gatk()"
   ]
  },
  {
   "cell_type": "code",
   "execution_count": 27,
   "metadata": {
    "collapsed": false,
    "scrolled": true
   },
   "outputs": [
    {
     "name": "stdout",
     "output_type": "stream",
     "text": [
      "0 True b'SNP' True b'BI'\n",
      "0 True b'SNP' True b'SD'\n",
      "0 True b'SNP' True b'MU'\n",
      "0 True b'SNP' False b'BI'\n",
      "0 True b'SNP' False b'SD'\n",
      "0 True b'SNP' False b'MU'\n",
      "0 True b'IND' True b'BI'\n",
      "0 True b'IND' True b'SD'\n",
      "0 True b'IND' True b'MU'\n",
      "0 True b'IND' False b'BI'\n",
      "0 True b'IND' False b'SD'\n",
      "0 True b'IND' False b'MU'\n",
      "0 False b'SNP' True b'BI'\n",
      "0 False b'SNP' True b'SD'\n",
      "0 False b'SNP' True b'MU'\n",
      "0 False b'SNP' False b'BI'\n",
      "0 False b'SNP' False b'SD'\n",
      "0 False b'SNP' False b'MU'\n",
      "0 False b'IND' True b'BI'\n",
      "0 False b'IND' True b'SD'\n",
      "0 False b'IND' True b'MU'\n",
      "0 False b'IND' False b'BI'\n",
      "0 False b'IND' False b'SD'\n",
      "0 False b'IND' False b'MU'\n",
      "30 True b'SNP' True b'BI'\n",
      "30 True b'SNP' True b'SD'\n",
      "30 True b'SNP' True b'MU'\n",
      "30 True b'SNP' False b'BI'\n",
      "30 True b'SNP' False b'SD'\n",
      "30 True b'SNP' False b'MU'\n",
      "30 True b'IND' True b'BI'\n",
      "30 True b'IND' True b'SD'\n",
      "30 True b'IND' True b'MU'\n",
      "30 True b'IND' False b'BI'\n",
      "30 True b'IND' False b'SD'\n",
      "30 True b'IND' False b'MU'\n",
      "30 False b'SNP' True b'BI'\n",
      "30 False b'SNP' True b'SD'\n",
      "30 False b'SNP' True b'MU'\n",
      "30 False b'SNP' False b'BI'\n",
      "30 False b'SNP' False b'SD'\n",
      "30 False b'SNP' False b'MU'\n",
      "30 False b'IND' True b'BI'\n",
      "30 False b'IND' True b'SD'\n",
      "30 False b'IND' True b'MU'\n",
      "30 False b'IND' False b'BI'\n",
      "30 False b'IND' False b'SD'\n",
      "30 False b'IND' False b'MU'\n",
      "99 True b'SNP' True b'BI'\n",
      "99 True b'SNP' True b'SD'\n",
      "99 True b'SNP' True b'MU'\n",
      "99 True b'SNP' False b'BI'\n",
      "99 True b'SNP' False b'SD'\n",
      "99 True b'SNP' False b'MU'\n",
      "99 True b'IND' True b'BI'\n",
      "99 True b'IND' True b'SD'\n",
      "99 True b'IND' True b'MU'\n",
      "99 True b'IND' False b'BI'\n",
      "99 True b'IND' False b'SD'\n",
      "99 True b'IND' False b'MU'\n",
      "99 False b'SNP' True b'BI'\n",
      "99 False b'SNP' True b'SD'\n",
      "99 False b'SNP' True b'MU'\n",
      "99 False b'SNP' False b'BI'\n",
      "99 False b'SNP' False b'SD'\n",
      "99 False b'SNP' False b'MU'\n",
      "99 False b'IND' True b'BI'\n",
      "99 False b'IND' True b'SD'\n",
      "99 False b'IND' True b'MU'\n",
      "99 False b'IND' False b'BI'\n",
      "99 False b'IND' False b'SD'\n",
      "99 False b'IND' False b'MU'\n"
     ]
    }
   ],
   "source": [
    "results_list = list()\n",
    "# GQ_thresholds = [30, 99, 0]\n",
    "GQ_thresholds = [0, 30, 99]\n",
    "variant_types = [b'SNP', b'IND']\n",
    "# variant_types = [b'SNP', b'IND', b'STR']\n",
    "multiallelics = [b'BI', b'SD', b'MU']\n",
    "codings = [True, False]\n",
    "filter_passes = [True, False]\n",
    "\n",
    "for GQ_threshold in GQ_thresholds:\n",
    "    for filter_pass in filter_passes:\n",
    "        for variant_type in variant_types:\n",
    "            for coding in codings:\n",
    "                for multiallelic in multiallelics:\n",
    "                    print(GQ_threshold, filter_pass, variant_type, coding, multiallelic)\n",
    "                    ix = (\n",
    "                        (variants['VARIANT_TYPE'] == variant_type) &\n",
    "                        (variants['MULTIALLELIC'] == multiallelic) &\n",
    "                        (variants['CDS'] == coding) &\n",
    "                        (variants['FILTER_PASS'] == filter_pass)\n",
    "                    )\n",
    "                    number_of_alleles = np.sum(ix)\n",
    "                    number_of_sites = len(np.unique(variants[['CHROM', 'POS']][ix]))\n",
    "                    mean_nraf = np.sum(variants['AC'][ix]) / np.sum(variants['AN'][ix])\n",
    "                    genotype_quality_results = list(genotype_concordance_gatk(ix=ix, GQ_threshold=GQ_threshold))\n",
    "#                     sites_ix = (\n",
    "#                         (site_variants['VARIANT_TYPE'] == variant_type) &\n",
    "#                         (site_variants['MULTIALLELIC'] == multiallelic) &\n",
    "#                         (site_variants['CDS'] == coding) &\n",
    "#                         (site_variants['FILTER_PASS'] == filter_pass)\n",
    "#                     )\n",
    "#                     num_sites = np.sum(sites_ix)\n",
    "                    results_list.append(\n",
    "                        [GQ_threshold, filter_pass, variant_type, coding, multiallelic, number_of_sites, number_of_alleles, mean_nraf] +\n",
    "                        genotype_quality_results\n",
    "                    )\n",
    "\n",
    "# print(results_list)"
   ]
  },
  {
   "cell_type": "code",
   "execution_count": 28,
   "metadata": {
    "collapsed": false
   },
   "outputs": [
    {
     "data": {
      "text/plain": [
       "array([], \n",
       "      dtype=[('CHROM', 'S12'), ('POS', '<i4')])"
      ]
     },
     "execution_count": 28,
     "metadata": {},
     "output_type": "execute_result"
    }
   ],
   "source": [
    "# Sanity check. Previously this was showing 2 variants, which was due to a bug\n",
    "variant_type = b'SNP'\n",
    "multiallelic = b'BI'\n",
    "coding = False\n",
    "filter_pass = True\n",
    "ix = (\n",
    "                        (variants['VARIANT_TYPE'] == variant_type) &\n",
    "                        (variants['MULTIALLELIC'] == multiallelic) &\n",
    "                        (variants['CDS'] == coding) &\n",
    "                        (variants['FILTER_PASS'] == filter_pass)\n",
    "                    )\n",
    "temp = variants[['CHROM', 'POS']][ix]\n",
    "s = np.sort(temp, axis=None)\n",
    "s[s[1:] == s[:-1]]"
   ]
  },
  {
   "cell_type": "code",
   "execution_count": 29,
   "metadata": {
    "collapsed": false
   },
   "outputs": [
    {
     "data": {
      "text/plain": [
       "array([ (b'Pf3D7_01_v3', 514753, b'A', b'C', b'MULTIALLELIC_MIXED', b'SNP', b'INTRAGENIC', 6, 162, False, b'MU', 3.0399999618530273, False, False, False, False, True, False, False, False, False, False, False, False),\n",
       "       (b'Pf3D7_01_v3', 514753, b'A', b'T', b'MULTIALLELIC_MIXED', b'SNP', b'INTRAGENIC', 12, 162, False, b'MU', 3.0399999618530273, False, False, False, False, True, False, False, False, False, False, False, False)], \n",
       "      dtype=[('CHROM', 'S12'), ('POS', '<i4'), ('REF', 'S10'), ('ALT', 'S10'), ('VariantType', 'S40'), ('VARIANT_TYPE', 'S3'), ('SNPEFF_EFFECT', 'S33'), ('AC', '<u2'), ('AN', '<u2'), ('CDS', '?'), ('MULTIALLELIC', 'S2'), ('VQSLOD', '<f4'), ('FILTER_Centromere', '?'), ('FILTER_InternalHypervariable', '?'), ('FILTER_LowQual', '?'), ('FILTER_Low_VQSLOD', '?'), ('FILTER_PASS', '?'), ('FILTER_SubtelomericHypervariable', '?'), ('FILTER_SubtelomericRepeat', '?'), ('FILTER_VQSRTrancheINDEL99.00to99.90', '?'), ('FILTER_VQSRTrancheINDEL99.90to100.00', '?'), ('FILTER_VQSRTrancheINDEL99.90to100.00+', '?'), ('FILTER_VQSRTrancheSNP99.90to100.00', '?'), ('FILTER_VQSRTrancheSNP99.90to100.00+', '?')])"
      ]
     },
     "execution_count": 29,
     "metadata": {},
     "output_type": "execute_result"
    }
   ],
   "source": [
    "# Sanity check. Previously this was 1 of the two variants shown above and multiallelic was b'BI' not b'MU'\n",
    "variants[(variants['CHROM']==b'Pf3D7_01_v3') & (variants['POS']==514753)]"
   ]
  },
  {
   "cell_type": "code",
   "execution_count": 47,
   "metadata": {
    "collapsed": false,
    "scrolled": true
   },
   "outputs": [
    {
     "data": {
      "text/html": [
       "<table class='petl'>\n",
       "<thead>\n",
       "<tr>\n",
       "<th>GQ threshold</th>\n",
       "<th>PASS</th>\n",
       "<th>Type</th>\n",
       "<th>Coding</th>\n",
       "<th>Multiallelic</th>\n",
       "<th>Variants</th>\n",
       "<th>Alleles</th>\n",
       "<th>Mean NRAF</th>\n",
       "<th>Missingness</th>\n",
       "<th>Heterozygosity</th>\n",
       "<th>Discordance</th>\n",
       "<th>MER</th>\n",
       "</tr>\n",
       "</thead>\n",
       "<tbody>\n",
       "<tr>\n",
       "<td style='text-align: right'>0</td>\n",
       "<td>True</td>\n",
       "<td>b'SNP'</td>\n",
       "<td>True</td>\n",
       "<td>b'BI'</td>\n",
       "<td style='text-align: right'>18564</td>\n",
       "<td>18564</td>\n",
       "<td style='text-align: right'>0.337478437843</td>\n",
       "<td style='text-align: right'>0.0325646742213</td>\n",
       "<td style='text-align: right'>0.0101606576697</td>\n",
       "<td style='text-align: right'>0.00154831753673</td>\n",
       "<td style='text-align: right'>0.00148145231857</td>\n",
       "</tr>\n",
       "<tr>\n",
       "<td style='text-align: right'>0</td>\n",
       "<td>True</td>\n",
       "<td>b'SNP'</td>\n",
       "<td>True</td>\n",
       "<td>b'SD'</td>\n",
       "<td style='text-align: right'>1576</td>\n",
       "<td>1576</td>\n",
       "<td style='text-align: right'>0.0975487886705</td>\n",
       "<td style='text-align: right'>0.0929374287786</td>\n",
       "<td style='text-align: right'>0.0216318761007</td>\n",
       "<td style='text-align: right'>0.0135777877149</td>\n",
       "<td style='text-align: right'>0.0111533721662</td>\n",
       "</tr>\n",
       "<tr>\n",
       "<td style='text-align: right'>0</td>\n",
       "<td>True</td>\n",
       "<td>b'SNP'</td>\n",
       "<td>True</td>\n",
       "<td>b'MU'</td>\n",
       "<td style='text-align: right'>132</td>\n",
       "<td>267</td>\n",
       "<td style='text-align: right'>0.244650086755</td>\n",
       "<td style='text-align: right'>0.0749063670412</td>\n",
       "<td style='text-align: right'>0.0215164717572</td>\n",
       "<td style='text-align: right'>0.00580551523948</td>\n",
       "<td style='text-align: right'>0.00243766187598</td>\n",
       "</tr>\n",
       "<tr>\n",
       "<td style='text-align: right'>0</td>\n",
       "<td>True</td>\n",
       "<td>b'SNP'</td>\n",
       "<td>False</td>\n",
       "<td>b'BI'</td>\n",
       "<td style='text-align: right'>19586</td>\n",
       "<td>19586</td>\n",
       "<td style='text-align: right'>0.263065535322</td>\n",
       "<td style='text-align: right'>0.0321434302303</td>\n",
       "<td style='text-align: right'>0.0167852089268</td>\n",
       "<td style='text-align: right'>0.00187894404553</td>\n",
       "<td style='text-align: right'>0.00135034955134</td>\n",
       "</tr>\n",
       "<tr>\n",
       "<td style='text-align: right'>0</td>\n",
       "<td>True</td>\n",
       "<td>b'SNP'</td>\n",
       "<td>False</td>\n",
       "<td>b'SD'</td>\n",
       "<td style='text-align: right'>12792</td>\n",
       "<td>12792</td>\n",
       "<td style='text-align: right'>0.0361434710251</td>\n",
       "<td style='text-align: right'>0.0365710073898</td>\n",
       "<td style='text-align: right'>0.0233444691197</td>\n",
       "<td style='text-align: right'>0.00449156102031</td>\n",
       "<td style='text-align: right'>0.00310237135168</td>\n",
       "</tr>\n",
       "<tr>\n",
       "<td style='text-align: right'>0</td>\n",
       "<td>True</td>\n",
       "<td>b'SNP'</td>\n",
       "<td>False</td>\n",
       "<td>b'MU'</td>\n",
       "<td style='text-align: right'>170</td>\n",
       "<td>341</td>\n",
       "<td style='text-align: right'>0.158507170795</td>\n",
       "<td style='text-align: right'>0.0819318929918</td>\n",
       "<td style='text-align: right'>0.0321084445508</td>\n",
       "<td style='text-align: right'>0.00857959961868</td>\n",
       "<td style='text-align: right'>0.00560998074186</td>\n",
       "</tr>\n",
       "<tr>\n",
       "<td style='text-align: right'>0</td>\n",
       "<td>True</td>\n",
       "<td>b'IND'</td>\n",
       "<td>True</td>\n",
       "<td>b'BI'</td>\n",
       "<td style='text-align: right'>5250</td>\n",
       "<td>5250</td>\n",
       "<td style='text-align: right'>0.260164189991</td>\n",
       "<td style='text-align: right'>0.0300174927114</td>\n",
       "<td style='text-align: right'>0.0130903790087</td>\n",
       "<td style='text-align: right'>0.0073616084336</td>\n",
       "<td style='text-align: right'>0.00628450182511</td>\n",
       "</tr>\n",
       "<tr>\n",
       "<td style='text-align: right'>0</td>\n",
       "<td>True</td>\n",
       "<td>b'IND'</td>\n",
       "<td>True</td>\n",
       "<td>b'SD'</td>\n",
       "<td style='text-align: right'>3886</td>\n",
       "<td>3886</td>\n",
       "<td style='text-align: right'>0.134203822735</td>\n",
       "<td style='text-align: right'>0.070204921907</td>\n",
       "<td style='text-align: right'>0.0201534551031</td>\n",
       "<td style='text-align: right'>0.016283891547</td>\n",
       "<td style='text-align: right'>0.0125900013585</td>\n",
       "</tr>\n",
       "<tr>\n",
       "<td style='text-align: right'>0</td>\n",
       "<td>True</td>\n",
       "<td>b'IND'</td>\n",
       "<td>True</td>\n",
       "<td>b'MU'</td>\n",
       "<td style='text-align: right'>4338</td>\n",
       "<td>9846</td>\n",
       "<td style='text-align: right'>0.178394925644</td>\n",
       "<td style='text-align: right'>0.0315926492474</td>\n",
       "<td style='text-align: right'>0.0263341168277</td>\n",
       "<td style='text-align: right'>0.00865494021749</td>\n",
       "<td style='text-align: right'>0.00504460320042</td>\n",
       "</tr>\n",
       "<tr>\n",
       "<td style='text-align: right'>0</td>\n",
       "<td>True</td>\n",
       "<td>b'IND'</td>\n",
       "<td>False</td>\n",
       "<td>b'BI'</td>\n",
       "<td style='text-align: right'>21823</td>\n",
       "<td>21823</td>\n",
       "<td style='text-align: right'>0.197368515827</td>\n",
       "<td style='text-align: right'>0.0262506230554</td>\n",
       "<td style='text-align: right'>0.0234750455193</td>\n",
       "<td style='text-align: right'>0.0062040516703</td>\n",
       "<td style='text-align: right'>0.00410006840875</td>\n",
       "</tr>\n",
       "<tr>\n",
       "<td style='text-align: right'>0</td>\n",
       "<td>True</td>\n",
       "<td>b'IND'</td>\n",
       "<td>False</td>\n",
       "<td>b'SD'</td>\n",
       "<td style='text-align: right'>21906</td>\n",
       "<td>21906</td>\n",
       "<td style='text-align: right'>0.0713875569414</td>\n",
       "<td style='text-align: right'>0.0516688187189</td>\n",
       "<td style='text-align: right'>0.0291132613001</td>\n",
       "<td style='text-align: right'>0.0075951322497</td>\n",
       "<td style='text-align: right'>0.00499694015131</td>\n",
       "</tr>\n",
       "<tr>\n",
       "<td style='text-align: right'>0</td>\n",
       "<td>True</td>\n",
       "<td>b'IND'</td>\n",
       "<td>False</td>\n",
       "<td>b'MU'</td>\n",
       "<td style='text-align: right'>51336</td>\n",
       "<td>147864</td>\n",
       "<td style='text-align: right'>0.125227692106</td>\n",
       "<td style='text-align: right'>0.0285767975426</td>\n",
       "<td style='text-align: right'>0.0460616319243</td>\n",
       "<td style='text-align: right'>0.0114260261508</td>\n",
       "<td style='text-align: right'>0.00625249806877</td>\n",
       "</tr>\n",
       "<tr>\n",
       "<td style='text-align: right'>0</td>\n",
       "<td>False</td>\n",
       "<td>b'SNP'</td>\n",
       "<td>True</td>\n",
       "<td>b'BI'</td>\n",
       "<td style='text-align: right'>77679</td>\n",
       "<td>77679</td>\n",
       "<td style='text-align: right'>0.133432090815</td>\n",
       "<td style='text-align: right'>0.302336854102</td>\n",
       "<td style='text-align: right'>0.0630132483998</td>\n",
       "<td style='text-align: right'>0.00886656828332</td>\n",
       "<td style='text-align: right'>0.00861688346889</td>\n",
       "</tr>\n",
       "<tr>\n",
       "<td style='text-align: right'>0</td>\n",
       "<td>False</td>\n",
       "<td>b'SNP'</td>\n",
       "<td>True</td>\n",
       "<td>b'SD'</td>\n",
       "<td style='text-align: right'>6385</td>\n",
       "<td>6385</td>\n",
       "<td style='text-align: right'>0.106315638682</td>\n",
       "<td style='text-align: right'>0.286011538523</td>\n",
       "<td style='text-align: right'>0.0587186166557</td>\n",
       "<td style='text-align: right'>0.00963074929821</td>\n",
       "<td style='text-align: right'>0.00884329678104</td>\n",
       "</tr>\n",
       "<tr>\n",
       "<td style='text-align: right'>0</td>\n",
       "<td>False</td>\n",
       "<td>b'SNP'</td>\n",
       "<td>True</td>\n",
       "<td>b'MU'</td>\n",
       "<td style='text-align: right'>10668</td>\n",
       "<td>22094</td>\n",
       "<td style='text-align: right'>0.122690777893</td>\n",
       "<td style='text-align: right'>0.312593870716</td>\n",
       "<td style='text-align: right'>0.0617251336128</td>\n",
       "<td style='text-align: right'>0.0103884311867</td>\n",
       "<td style='text-align: right'>0.0105766753763</td>\n",
       "</tr>\n",
       "<tr>\n",
       "<td style='text-align: right'>0</td>\n",
       "<td>False</td>\n",
       "<td>b'SNP'</td>\n",
       "<td>False</td>\n",
       "<td>b'BI'</td>\n",
       "<td style='text-align: right'>143678</td>\n",
       "<td>143678</td>\n",
       "<td style='text-align: right'>0.090890676301</td>\n",
       "<td style='text-align: right'>0.162034023927</td>\n",
       "<td style='text-align: right'>0.0799677907884</td>\n",
       "<td style='text-align: right'>0.00534064901207</td>\n",
       "<td style='text-align: right'>0.00392341119175</td>\n",
       "</tr>\n",
       "<tr>\n",
       "<td style='text-align: right'>0</td>\n",
       "<td>False</td>\n",
       "<td>b'SNP'</td>\n",
       "<td>False</td>\n",
       "<td>b'SD'</td>\n",
       "<td style='text-align: right'>26647</td>\n",
       "<td>26647</td>\n",
       "<td style='text-align: right'>0.0660413678252</td>\n",
       "<td style='text-align: right'>0.132652295354</td>\n",
       "<td style='text-align: right'>0.0776535705287</td>\n",
       "<td style='text-align: right'>0.00625467224305</td>\n",
       "<td style='text-align: right'>0.00355200766695</td>\n",
       "</tr>\n",
       "<tr>\n",
       "<td style='text-align: right'>0</td>\n",
       "<td>False</td>\n",
       "<td>b'SNP'</td>\n",
       "<td>False</td>\n",
       "<td>b'MU'</td>\n",
       "<td style='text-align: right'>12764</td>\n",
       "<td>26368</td>\n",
       "<td style='text-align: right'>0.0987754031639</td>\n",
       "<td style='text-align: right'>0.213477684763</td>\n",
       "<td style='text-align: right'>0.0783061100654</td>\n",
       "<td style='text-align: right'>0.00902801775698</td>\n",
       "<td style='text-align: right'>0.00686888488855</td>\n",
       "</tr>\n",
       "<tr>\n",
       "<td style='text-align: right'>0</td>\n",
       "<td>False</td>\n",
       "<td>b'IND'</td>\n",
       "<td>True</td>\n",
       "<td>b'BI'</td>\n",
       "<td style='text-align: right'>16511</td>\n",
       "<td>16511</td>\n",
       "<td style='text-align: right'>0.0712736219573</td>\n",
       "<td style='text-align: right'>0.309988146431</td>\n",
       "<td style='text-align: right'>0.0284294082238</td>\n",
       "<td style='text-align: right'>0.0124440715884</td>\n",
       "<td style='text-align: right'>0.00857748168413</td>\n",
       "</tr>\n",
       "<tr>\n",
       "<td style='text-align: right'>0</td>\n",
       "<td>False</td>\n",
       "<td>b'IND'</td>\n",
       "<td>True</td>\n",
       "<td>b'SD'</td>\n",
       "<td style='text-align: right'>14519</td>\n",
       "<td>14519</td>\n",
       "<td style='text-align: right'>0.0914511771087</td>\n",
       "<td style='text-align: right'>0.368963399121</td>\n",
       "<td style='text-align: right'>0.0347054036161</td>\n",
       "<td style='text-align: right'>0.0136768752653</td>\n",
       "<td style='text-align: right'>0.0104763307909</td>\n",
       "</tr>\n",
       "<tr>\n",
       "<td style='text-align: right'>0</td>\n",
       "<td>False</td>\n",
       "<td>b'IND'</td>\n",
       "<td>True</td>\n",
       "<td>b'MU'</td>\n",
       "<td style='text-align: right'>32871</td>\n",
       "<td>57299</td>\n",
       "<td style='text-align: right'>0.0819567551692</td>\n",
       "<td style='text-align: right'>0.339092536786</td>\n",
       "<td style='text-align: right'>0.0395870070746</td>\n",
       "<td style='text-align: right'>0.0112550984414</td>\n",
       "<td style='text-align: right'>0.00851971734572</td>\n",
       "</tr>\n",
       "<tr>\n",
       "<td style='text-align: right'>0</td>\n",
       "<td>False</td>\n",
       "<td>b'IND'</td>\n",
       "<td>False</td>\n",
       "<td>b'BI'</td>\n",
       "<td style='text-align: right'>24490</td>\n",
       "<td>24490</td>\n",
       "<td style='text-align: right'>0.0533584984322</td>\n",
       "<td style='text-align: right'>0.152492895893</td>\n",
       "<td style='text-align: right'>0.0417671519404</td>\n",
       "<td style='text-align: right'>0.0066939492238</td>\n",
       "<td style='text-align: right'>0.00416045054979</td>\n",
       "</tr>\n",
       "<tr>\n",
       "<td style='text-align: right'>0</td>\n",
       "<td>False</td>\n",
       "<td>b'IND'</td>\n",
       "<td>False</td>\n",
       "<td>b'SD'</td>\n",
       "<td style='text-align: right'>32404</td>\n",
       "<td>32404</td>\n",
       "<td style='text-align: right'>0.0489232407184</td>\n",
       "<td style='text-align: right'>0.160000717976</td>\n",
       "<td style='text-align: right'>0.0483251626783</td>\n",
       "<td style='text-align: right'>0.0072257949894</td>\n",
       "<td style='text-align: right'>0.00430451032167</td>\n",
       "</tr>\n",
       "<tr>\n",
       "<td style='text-align: right'>0</td>\n",
       "<td>False</td>\n",
       "<td>b'IND'</td>\n",
       "<td>False</td>\n",
       "<td>b'MU'</td>\n",
       "<td style='text-align: right'>64944</td>\n",
       "<td>120968</td>\n",
       "<td style='text-align: right'>0.0544709318429</td>\n",
       "<td style='text-align: right'>0.134793026727</td>\n",
       "<td style='text-align: right'>0.0556948607761</td>\n",
       "<td style='text-align: right'>0.00963712364904</td>\n",
       "<td style='text-align: right'>0.00495720552964</td>\n",
       "</tr>\n",
       "<tr>\n",
       "<td style='text-align: right'>30</td>\n",
       "<td>True</td>\n",
       "<td>b'SNP'</td>\n",
       "<td>True</td>\n",
       "<td>b'BI'</td>\n",
       "<td style='text-align: right'>18564</td>\n",
       "<td>18564</td>\n",
       "<td style='text-align: right'>0.337478437843</td>\n",
       "<td style='text-align: right'>0.0789145328461</td>\n",
       "<td style='text-align: right'>0.00847921586217</td>\n",
       "<td style='text-align: right'>0.000173280760604</td>\n",
       "<td style='text-align: right'>0.000397027419493</td>\n",
       "</tr>\n",
       "<tr>\n",
       "<td style='text-align: right'>30</td>\n",
       "<td>True</td>\n",
       "<td>b'SNP'</td>\n",
       "<td>True</td>\n",
       "<td>b'SD'</td>\n",
       "<td style='text-align: right'>1576</td>\n",
       "<td>1576</td>\n",
       "<td style='text-align: right'>0.0975487886705</td>\n",
       "<td style='text-align: right'>0.231760851549</td>\n",
       "<td style='text-align: right'>0.0141471563245</td>\n",
       "<td style='text-align: right'>0.00590541652549</td>\n",
       "<td style='text-align: right'>0.00680387000265</td>\n",
       "</tr>\n",
       "<tr>\n",
       "<td style='text-align: right'>30</td>\n",
       "<td>True</td>\n",
       "<td>b'SNP'</td>\n",
       "<td>True</td>\n",
       "<td>b'MU'</td>\n",
       "<td style='text-align: right'>132</td>\n",
       "<td>267</td>\n",
       "<td style='text-align: right'>0.244650086755</td>\n",
       "<td style='text-align: right'>0.166055186119</td>\n",
       "<td style='text-align: right'>0.0195291599786</td>\n",
       "<td style='text-align: right'>0.00080064051241</td>\n",
       "<td style='text-align: right'>0.0</td>\n",
       "</tr>\n",
       "<tr>\n",
       "<td style='text-align: right'>30</td>\n",
       "<td>True</td>\n",
       "<td>b'SNP'</td>\n",
       "<td>False</td>\n",
       "<td>b'BI'</td>\n",
       "<td style='text-align: right'>19586</td>\n",
       "<td>19586</td>\n",
       "<td style='text-align: right'>0.263065535322</td>\n",
       "<td style='text-align: right'>0.194433445797</td>\n",
       "<td style='text-align: right'>0.0123271099515</td>\n",
       "<td style='text-align: right'>0.000551054667543</td>\n",
       "<td style='text-align: right'>0.000376191129088</td>\n",
       "</tr>\n",
       "<tr>\n",
       "<td style='text-align: right'>30</td>\n",
       "<td>True</td>\n",
       "<td>b'SNP'</td>\n",
       "<td>False</td>\n",
       "<td>b'SD'</td>\n",
       "<td style='text-align: right'>12792</td>\n",
       "<td>12792</td>\n",
       "<td style='text-align: right'>0.0361434710251</td>\n",
       "<td style='text-align: right'>0.291527868183</td>\n",
       "<td style='text-align: right'>0.0128851259078</td>\n",
       "<td style='text-align: right'>0.00196157009977</td>\n",
       "<td style='text-align: right'>0.00128509009909</td>\n",
       "</tr>\n",
       "<tr>\n",
       "<td style='text-align: right'>30</td>\n",
       "<td>True</td>\n",
       "<td>b'SNP'</td>\n",
       "<td>False</td>\n",
       "<td>b'MU'</td>\n",
       "<td style='text-align: right'>170</td>\n",
       "<td>341</td>\n",
       "<td style='text-align: right'>0.158507170795</td>\n",
       "<td style='text-align: right'>0.357920880962</td>\n",
       "<td style='text-align: right'>0.0220240588904</td>\n",
       "<td style='text-align: right'>0.00265957446809</td>\n",
       "<td style='text-align: right'>8.55798031665e-05</td>\n",
       "</tr>\n",
       "<tr>\n",
       "<td style='text-align: right'>30</td>\n",
       "<td>True</td>\n",
       "<td>b'IND'</td>\n",
       "<td>True</td>\n",
       "<td>b'BI'</td>\n",
       "<td style='text-align: right'>5250</td>\n",
       "<td>5250</td>\n",
       "<td style='text-align: right'>0.260164189991</td>\n",
       "<td style='text-align: right'>0.0987094266278</td>\n",
       "<td style='text-align: right'>0.00907288629738</td>\n",
       "<td style='text-align: right'>0.00415730873991</td>\n",
       "<td style='text-align: right'>0.00409874502866</td>\n",
       "</tr>\n",
       "<tr>\n",
       "<td style='text-align: right'>30</td>\n",
       "<td>True</td>\n",
       "<td>b'IND'</td>\n",
       "<td>True</td>\n",
       "<td>b'SD'</td>\n",
       "<td style='text-align: right'>3886</td>\n",
       "<td>3886</td>\n",
       "<td style='text-align: right'>0.134203822735</td>\n",
       "<td style='text-align: right'>0.192953249236</td>\n",
       "<td style='text-align: right'>0.013780499333</td>\n",
       "<td style='text-align: right'>0.00980517933398</td>\n",
       "<td style='text-align: right'>0.00760260010673</td>\n",
       "</tr>\n",
       "<tr>\n",
       "<td style='text-align: right'>30</td>\n",
       "<td>True</td>\n",
       "<td>b'IND'</td>\n",
       "<td>True</td>\n",
       "<td>b'MU'</td>\n",
       "<td style='text-align: right'>4338</td>\n",
       "<td>9846</td>\n",
       "<td style='text-align: right'>0.178394925644</td>\n",
       "<td style='text-align: right'>0.191018211063</td>\n",
       "<td style='text-align: right'>0.0158388157213</td>\n",
       "<td style='text-align: right'>0.00385270344201</td>\n",
       "<td style='text-align: right'>0.00198807157058</td>\n",
       "</tr>\n",
       "<tr>\n",
       "<td style='text-align: right'>30</td>\n",
       "<td>True</td>\n",
       "<td>b'IND'</td>\n",
       "<td>False</td>\n",
       "<td>b'BI'</td>\n",
       "<td style='text-align: right'>21823</td>\n",
       "<td>21823</td>\n",
       "<td style='text-align: right'>0.197368515827</td>\n",
       "<td style='text-align: right'>0.226704272874</td>\n",
       "<td style='text-align: right'>0.0125616392366</td>\n",
       "<td style='text-align: right'>0.0012975964082</td>\n",
       "<td style='text-align: right'>0.000875100262959</td>\n",
       "</tr>\n",
       "<tr>\n",
       "<td style='text-align: right'>30</td>\n",
       "<td>True</td>\n",
       "<td>b'IND'</td>\n",
       "<td>False</td>\n",
       "<td>b'SD'</td>\n",
       "<td style='text-align: right'>21906</td>\n",
       "<td>21906</td>\n",
       "<td style='text-align: right'>0.0713875569414</td>\n",
       "<td style='text-align: right'>0.324092085478</td>\n",
       "<td style='text-align: right'>0.0164571443477</td>\n",
       "<td style='text-align: right'>0.00298481674262</td>\n",
       "<td style='text-align: right'>0.00166292243646</td>\n",
       "</tr>\n",
       "<tr>\n",
       "<td style='text-align: right'>30</td>\n",
       "<td>True</td>\n",
       "<td>b'IND'</td>\n",
       "<td>False</td>\n",
       "<td>b'MU'</td>\n",
       "<td style='text-align: right'>51336</td>\n",
       "<td>147864</td>\n",
       "<td style='text-align: right'>0.125227692106</td>\n",
       "<td style='text-align: right'>0.415916321893</td>\n",
       "<td style='text-align: right'>0.0231217020163</td>\n",
       "<td style='text-align: right'>0.00207960098774</td>\n",
       "<td style='text-align: right'>0.000733397702854</td>\n",
       "</tr>\n",
       "<tr>\n",
       "<td style='text-align: right'>30</td>\n",
       "<td>False</td>\n",
       "<td>b'SNP'</td>\n",
       "<td>True</td>\n",
       "<td>b'BI'</td>\n",
       "<td style='text-align: right'>77679</td>\n",
       "<td>77679</td>\n",
       "<td style='text-align: right'>0.133432090815</td>\n",
       "<td style='text-align: right'>0.547586469802</td>\n",
       "<td style='text-align: right'>0.0572848070986</td>\n",
       "<td style='text-align: right'>0.000282850988105</td>\n",
       "<td style='text-align: right'>0.000660405113651</td>\n",
       "</tr>\n",
       "<tr>\n",
       "<td style='text-align: right'>30</td>\n",
       "<td>False</td>\n",
       "<td>b'SNP'</td>\n",
       "<td>True</td>\n",
       "<td>b'SD'</td>\n",
       "<td style='text-align: right'>6385</td>\n",
       "<td>6385</td>\n",
       "<td style='text-align: right'>0.106315638682</td>\n",
       "<td style='text-align: right'>0.551520623911</td>\n",
       "<td style='text-align: right'>0.0526968500791</td>\n",
       "<td style='text-align: right'>0.00125579598145</td>\n",
       "<td style='text-align: right'>0.00136123505072</td>\n",
       "</tr>\n",
       "<tr>\n",
       "<td style='text-align: right'>30</td>\n",
       "<td>False</td>\n",
       "<td>b'SNP'</td>\n",
       "<td>True</td>\n",
       "<td>b'MU'</td>\n",
       "<td style='text-align: right'>10668</td>\n",
       "<td>22094</td>\n",
       "<td style='text-align: right'>0.122690777893</td>\n",
       "<td style='text-align: right'>0.58047572247</td>\n",
       "<td style='text-align: right'>0.0553853387105</td>\n",
       "<td style='text-align: right'>0.000706106284346</td>\n",
       "<td style='text-align: right'>0.00159173760114</td>\n",
       "</tr>\n",
       "<tr>\n",
       "<td style='text-align: right'>30</td>\n",
       "<td>False</td>\n",
       "<td>b'SNP'</td>\n",
       "<td>False</td>\n",
       "<td>b'BI'</td>\n",
       "<td style='text-align: right'>143678</td>\n",
       "<td>143678</td>\n",
       "<td style='text-align: right'>0.090890676301</td>\n",
       "<td style='text-align: right'>0.490720889199</td>\n",
       "<td style='text-align: right'>0.0707513200578</td>\n",
       "<td style='text-align: right'>0.000134435771134</td>\n",
       "<td style='text-align: right'>0.000341740839963</td>\n",
       "</tr>\n",
       "<tr>\n",
       "<td style='text-align: right'>30</td>\n",
       "<td>False</td>\n",
       "<td>b'SNP'</td>\n",
       "<td>False</td>\n",
       "<td>b'SD'</td>\n",
       "<td style='text-align: right'>26647</td>\n",
       "<td>26647</td>\n",
       "<td style='text-align: right'>0.0660413678252</td>\n",
       "<td style='text-align: right'>0.528123547239</td>\n",
       "<td style='text-align: right'>0.0660981096007</td>\n",
       "<td style='text-align: right'>0.00119022479891</td>\n",
       "<td style='text-align: right'>0.000804801389234</td>\n",
       "</tr>\n",
       "<tr>\n",
       "<td style='text-align: right'>30</td>\n",
       "<td>False</td>\n",
       "<td>b'SNP'</td>\n",
       "<td>False</td>\n",
       "<td>b'MU'</td>\n",
       "<td style='text-align: right'>12764</td>\n",
       "<td>26368</td>\n",
       "<td style='text-align: right'>0.0987754031639</td>\n",
       "<td style='text-align: right'>0.53027130907</td>\n",
       "<td style='text-align: right'>0.0702873458243</td>\n",
       "<td style='text-align: right'>0.000508037885111</td>\n",
       "<td style='text-align: right'>0.00080665415811</td>\n",
       "</tr>\n",
       "<tr>\n",
       "<td style='text-align: right'>30</td>\n",
       "<td>False</td>\n",
       "<td>b'IND'</td>\n",
       "<td>True</td>\n",
       "<td>b'BI'</td>\n",
       "<td style='text-align: right'>16511</td>\n",
       "<td>16511</td>\n",
       "<td style='text-align: right'>0.0712736219573</td>\n",
       "<td style='text-align: right'>0.5190207147</td>\n",
       "<td style='text-align: right'>0.0250692488248</td>\n",
       "<td style='text-align: right'>0.00318173744488</td>\n",
       "<td style='text-align: right'>0.0026172154617</td>\n",
       "</tr>\n",
       "<tr>\n",
       "<td style='text-align: right'>30</td>\n",
       "<td>False</td>\n",
       "<td>b'IND'</td>\n",
       "<td>True</td>\n",
       "<td>b'SD'</td>\n",
       "<td style='text-align: right'>14519</td>\n",
       "<td>14519</td>\n",
       "<td style='text-align: right'>0.0914511771087</td>\n",
       "<td style='text-align: right'>0.592519864892</td>\n",
       "<td style='text-align: right'>0.0311541105181</td>\n",
       "<td style='text-align: right'>0.00312129676655</td>\n",
       "<td style='text-align: right'>0.0031550164762</td>\n",
       "</tr>\n",
       "<tr>\n",
       "<td style='text-align: right'>30</td>\n",
       "<td>False</td>\n",
       "<td>b'IND'</td>\n",
       "<td>True</td>\n",
       "<td>b'MU'</td>\n",
       "<td style='text-align: right'>32871</td>\n",
       "<td>57299</td>\n",
       "<td style='text-align: right'>0.0819567551692</td>\n",
       "<td style='text-align: right'>0.594745750095</td>\n",
       "<td style='text-align: right'>0.0338295251084</td>\n",
       "<td style='text-align: right'>0.00214909295199</td>\n",
       "<td style='text-align: right'>0.0020217576848</td>\n",
       "</tr>\n",
       "<tr>\n",
       "<td style='text-align: right'>30</td>\n",
       "<td>False</td>\n",
       "<td>b'IND'</td>\n",
       "<td>False</td>\n",
       "<td>b'BI'</td>\n",
       "<td style='text-align: right'>24490</td>\n",
       "<td>24490</td>\n",
       "<td style='text-align: right'>0.0533584984322</td>\n",
       "<td style='text-align: right'>0.414026549779</td>\n",
       "<td style='text-align: right'>0.0352422063149</td>\n",
       "<td style='text-align: right'>0.00075159551128</td>\n",
       "<td style='text-align: right'>0.000786398408036</td>\n",
       "</tr>\n",
       "<tr>\n",
       "<td style='text-align: right'>30</td>\n",
       "<td>False</td>\n",
       "<td>b'IND'</td>\n",
       "<td>False</td>\n",
       "<td>b'SD'</td>\n",
       "<td style='text-align: right'>32404</td>\n",
       "<td>32404</td>\n",
       "<td style='text-align: right'>0.0489232407184</td>\n",
       "<td style='text-align: right'>0.46483742244</td>\n",
       "<td style='text-align: right'>0.0407873555545</td>\n",
       "<td style='text-align: right'>0.000848343986055</td>\n",
       "<td style='text-align: right'>0.000612531096699</td>\n",
       "</tr>\n",
       "<tr>\n",
       "<td style='text-align: right'>30</td>\n",
       "<td>False</td>\n",
       "<td>b'IND'</td>\n",
       "<td>False</td>\n",
       "<td>b'MU'</td>\n",
       "<td style='text-align: right'>64944</td>\n",
       "<td>120968</td>\n",
       "<td style='text-align: right'>0.0544709318429</td>\n",
       "<td style='text-align: right'>0.535416348935</td>\n",
       "<td style='text-align: right'>0.0412277188503</td>\n",
       "<td style='text-align: right'>0.0014669586383</td>\n",
       "<td style='text-align: right'>0.000884774762806</td>\n",
       "</tr>\n",
       "<tr>\n",
       "<td style='text-align: right'>99</td>\n",
       "<td>True</td>\n",
       "<td>b'SNP'</td>\n",
       "<td>True</td>\n",
       "<td>b'BI'</td>\n",
       "<td style='text-align: right'>18564</td>\n",
       "<td>18564</td>\n",
       "<td style='text-align: right'>0.337478437843</td>\n",
       "<td style='text-align: right'>0.12640825561</td>\n",
       "<td style='text-align: right'>0.00695662880537</td>\n",
       "<td style='text-align: right'>4.74682471333e-05</td>\n",
       "<td style='text-align: right'>0.000253029590567</td>\n",
       "</tr>\n",
       "<tr>\n",
       "<td style='text-align: right'>99</td>\n",
       "<td>True</td>\n",
       "<td>b'SNP'</td>\n",
       "<td>True</td>\n",
       "<td>b'SD'</td>\n",
       "<td style='text-align: right'>1576</td>\n",
       "<td>1576</td>\n",
       "<td style='text-align: right'>0.0975487886705</td>\n",
       "<td style='text-align: right'>0.383792603336</td>\n",
       "<td style='text-align: right'>0.010456593805</td>\n",
       "<td style='text-align: right'>0.00320959244232</td>\n",
       "<td style='text-align: right'>0.00359848484848</td>\n",
       "</tr>\n",
       "<tr>\n",
       "<td style='text-align: right'>99</td>\n",
       "<td>True</td>\n",
       "<td>b'SNP'</td>\n",
       "<td>True</td>\n",
       "<td>b'MU'</td>\n",
       "<td style='text-align: right'>132</td>\n",
       "<td>267</td>\n",
       "<td style='text-align: right'>0.244650086755</td>\n",
       "<td style='text-align: right'>0.234273484675</td>\n",
       "<td style='text-align: right'>0.0173507605289</td>\n",
       "<td style='text-align: right'>0.000568181818182</td>\n",
       "<td style='text-align: right'>0.0</td>\n",
       "</tr>\n",
       "<tr>\n",
       "<td style='text-align: right'>99</td>\n",
       "<td>True</td>\n",
       "<td>b'SNP'</td>\n",
       "<td>False</td>\n",
       "<td>b'BI'</td>\n",
       "<td style='text-align: right'>19586</td>\n",
       "<td>19586</td>\n",
       "<td style='text-align: right'>0.263065535322</td>\n",
       "<td style='text-align: right'>0.401946309005</td>\n",
       "<td style='text-align: right'>0.0072464296655</td>\n",
       "<td style='text-align: right'>0.000334144329466</td>\n",
       "<td style='text-align: right'>0.000280828082808</td>\n",
       "</tr>\n",
       "<tr>\n",
       "<td style='text-align: right'>99</td>\n",
       "<td>True</td>\n",
       "<td>b'SNP'</td>\n",
       "<td>False</td>\n",
       "<td>b'SD'</td>\n",
       "<td style='text-align: right'>12792</td>\n",
       "<td>12792</td>\n",
       "<td style='text-align: right'>0.0361434710251</td>\n",
       "<td style='text-align: right'>0.651629366568</td>\n",
       "<td style='text-align: right'>0.00557507243047</td>\n",
       "<td style='text-align: right'>0.000584554764121</td>\n",
       "<td style='text-align: right'>0.000693565446569</td>\n",
       "</tr>\n",
       "<tr>\n",
       "<td style='text-align: right'>99</td>\n",
       "<td>True</td>\n",
       "<td>b'SNP'</td>\n",
       "<td>False</td>\n",
       "<td>b'MU'</td>\n",
       "<td style='text-align: right'>170</td>\n",
       "<td>341</td>\n",
       "<td style='text-align: right'>0.158507170795</td>\n",
       "<td style='text-align: right'>0.595996169729</td>\n",
       "<td style='text-align: right'>0.0134358728829</td>\n",
       "<td style='text-align: right'>0.00100502512563</td>\n",
       "<td style='text-align: right'>0.0</td>\n",
       "</tr>\n",
       "<tr>\n",
       "<td style='text-align: right'>99</td>\n",
       "<td>True</td>\n",
       "<td>b'IND'</td>\n",
       "<td>True</td>\n",
       "<td>b'BI'</td>\n",
       "<td style='text-align: right'>5250</td>\n",
       "<td>5250</td>\n",
       "<td style='text-align: right'>0.260164189991</td>\n",
       "<td style='text-align: right'>0.183138969874</td>\n",
       "<td style='text-align: right'>0.00604275996113</td>\n",
       "<td style='text-align: right'>0.00255261512815</td>\n",
       "<td style='text-align: right'>0.00264737848504</td>\n",
       "</tr>\n",
       "<tr>\n",
       "<td style='text-align: right'>99</td>\n",
       "<td>True</td>\n",
       "<td>b'IND'</td>\n",
       "<td>True</td>\n",
       "<td>b'SD'</td>\n",
       "<td style='text-align: right'>3886</td>\n",
       "<td>3886</td>\n",
       "<td style='text-align: right'>0.134203822735</td>\n",
       "<td style='text-align: right'>0.337005157184</td>\n",
       "<td style='text-align: right'>0.0100622853362</td>\n",
       "<td style='text-align: right'>0.00532418102215</td>\n",
       "<td style='text-align: right'>0.00442445869701</td>\n",
       "</tr>\n",
       "<tr>\n",
       "<td style='text-align: right'>99</td>\n",
       "<td>True</td>\n",
       "<td>b'IND'</td>\n",
       "<td>True</td>\n",
       "<td>b'MU'</td>\n",
       "<td style='text-align: right'>4338</td>\n",
       "<td>9846</td>\n",
       "<td style='text-align: right'>0.178394925644</td>\n",
       "<td style='text-align: right'>0.355444249607</td>\n",
       "<td style='text-align: right'>0.0075437243758</td>\n",
       "<td style='text-align: right'>0.00232150378591</td>\n",
       "<td style='text-align: right'>0.00121430982571</td>\n",
       "</tr>\n",
       "<tr>\n",
       "<td style='text-align: right'>99</td>\n",
       "<td>True</td>\n",
       "<td>b'IND'</td>\n",
       "<td>False</td>\n",
       "<td>b'BI'</td>\n",
       "<td style='text-align: right'>21823</td>\n",
       "<td>21823</td>\n",
       "<td style='text-align: right'>0.197368515827</td>\n",
       "<td style='text-align: right'>0.500314683909</td>\n",
       "<td style='text-align: right'>0.00449628598174</td>\n",
       "<td style='text-align: right'>0.000356113613432</td>\n",
       "<td style='text-align: right'>0.000425388920075</td>\n",
       "</tr>\n",
       "<tr>\n",
       "<td style='text-align: right'>99</td>\n",
       "<td>True</td>\n",
       "<td>b'IND'</td>\n",
       "<td>False</td>\n",
       "<td>b'SD'</td>\n",
       "<td style='text-align: right'>21906</td>\n",
       "<td>21906</td>\n",
       "<td style='text-align: right'>0.0713875569414</td>\n",
       "<td style='text-align: right'>0.667645338059</td>\n",
       "<td style='text-align: right'>0.00713018705154</td>\n",
       "<td style='text-align: right'>0.00102257047112</td>\n",
       "<td style='text-align: right'>0.000698357784809</td>\n",
       "</tr>\n",
       "<tr>\n",
       "<td style='text-align: right'>99</td>\n",
       "<td>True</td>\n",
       "<td>b'IND'</td>\n",
       "<td>False</td>\n",
       "<td>b'MU'</td>\n",
       "<td style='text-align: right'>51336</td>\n",
       "<td>147864</td>\n",
       "<td style='text-align: right'>0.125227692106</td>\n",
       "<td style='text-align: right'>0.747525442574</td>\n",
       "<td style='text-align: right'>0.0061773532656</td>\n",
       "<td style='text-align: right'>0.000613486592621</td>\n",
       "<td style='text-align: right'>0.000251108446845</td>\n",
       "</tr>\n",
       "<tr>\n",
       "<td style='text-align: right'>99</td>\n",
       "<td>False</td>\n",
       "<td>b'SNP'</td>\n",
       "<td>True</td>\n",
       "<td>b'BI'</td>\n",
       "<td style='text-align: right'>77679</td>\n",
       "<td>77679</td>\n",
       "<td style='text-align: right'>0.133432090815</td>\n",
       "<td style='text-align: right'>0.692253914658</td>\n",
       "<td style='text-align: right'>0.0446260920465</td>\n",
       "<td style='text-align: right'>1.29661997106e-05</td>\n",
       "<td style='text-align: right'>9.05522086749e-05</td>\n",
       "</tr>\n",
       "<tr>\n",
       "<td style='text-align: right'>99</td>\n",
       "<td>False</td>\n",
       "<td>b'SNP'</td>\n",
       "<td>True</td>\n",
       "<td>b'SD'</td>\n",
       "<td style='text-align: right'>6385</td>\n",
       "<td>6385</td>\n",
       "<td style='text-align: right'>0.106315638682</td>\n",
       "<td style='text-align: right'>0.70353187477</td>\n",
       "<td style='text-align: right'>0.0399741102392</td>\n",
       "<td style='text-align: right'>0.000208782796298</td>\n",
       "<td style='text-align: right'>0.000693465762924</td>\n",
       "</tr>\n",
       "<tr>\n",
       "<td style='text-align: right'>99</td>\n",
       "<td>False</td>\n",
       "<td>b'SNP'</td>\n",
       "<td>True</td>\n",
       "<td>b'MU'</td>\n",
       "<td style='text-align: right'>10668</td>\n",
       "<td>22094</td>\n",
       "<td style='text-align: right'>0.122690777893</td>\n",
       "<td style='text-align: right'>0.726758395945</td>\n",
       "<td style='text-align: right'>0.0410934356543</td>\n",
       "<td style='text-align: right'>7.73275595422e-05</td>\n",
       "<td style='text-align: right'>0.000554042199548</td>\n",
       "</tr>\n",
       "<tr>\n",
       "<td style='text-align: right'>99</td>\n",
       "<td>False</td>\n",
       "<td>b'SNP'</td>\n",
       "<td>False</td>\n",
       "<td>b'BI'</td>\n",
       "<td style='text-align: right'>143678</td>\n",
       "<td>143678</td>\n",
       "<td style='text-align: right'>0.090890676301</td>\n",
       "<td style='text-align: right'>0.684332255432</td>\n",
       "<td style='text-align: right'>0.0523336480014</td>\n",
       "<td style='text-align: right'>2.18644777201e-05</td>\n",
       "<td style='text-align: right'>7.71924994931e-05</td>\n",
       "</tr>\n",
       "<tr>\n",
       "<td style='text-align: right'>99</td>\n",
       "<td>False</td>\n",
       "<td>b'SNP'</td>\n",
       "<td>False</td>\n",
       "<td>b'SD'</td>\n",
       "<td style='text-align: right'>26647</td>\n",
       "<td>26647</td>\n",
       "<td style='text-align: right'>0.0660413678252</td>\n",
       "<td style='text-align: right'>0.745475808817</td>\n",
       "<td style='text-align: right'>0.0460862845532</td>\n",
       "<td style='text-align: right'>0.000289889446706</td>\n",
       "<td style='text-align: right'>0.000227978683993</td>\n",
       "</tr>\n",
       "<tr>\n",
       "<td style='text-align: right'>99</td>\n",
       "<td>False</td>\n",
       "<td>b'SNP'</td>\n",
       "<td>False</td>\n",
       "<td>b'MU'</td>\n",
       "<td style='text-align: right'>12764</td>\n",
       "<td>26368</td>\n",
       "<td style='text-align: right'>0.0987754031639</td>\n",
       "<td style='text-align: right'>0.694997492322</td>\n",
       "<td style='text-align: right'>0.0519809106895</td>\n",
       "<td style='text-align: right'>1.77253108576e-05</td>\n",
       "<td style='text-align: right'>0.000165671437524</td>\n",
       "</tr>\n",
       "<tr>\n",
       "<td style='text-align: right'>99</td>\n",
       "<td>False</td>\n",
       "<td>b'IND'</td>\n",
       "<td>True</td>\n",
       "<td>b'BI'</td>\n",
       "<td style='text-align: right'>16511</td>\n",
       "<td>16511</td>\n",
       "<td style='text-align: right'>0.0712736219573</td>\n",
       "<td style='text-align: right'>0.668077805891</td>\n",
       "<td style='text-align: right'>0.0192944963098</td>\n",
       "<td style='text-align: right'>0.000899329889558</td>\n",
       "<td style='text-align: right'>0.000984350328783</td>\n",
       "</tr>\n",
       "<tr>\n",
       "<td style='text-align: right'>99</td>\n",
       "<td>False</td>\n",
       "<td>b'IND'</td>\n",
       "<td>True</td>\n",
       "<td>b'SD'</td>\n",
       "<td style='text-align: right'>14519</td>\n",
       "<td>14519</td>\n",
       "<td style='text-align: right'>0.0914511771087</td>\n",
       "<td style='text-align: right'>0.730032146477</td>\n",
       "<td style='text-align: right'>0.0241239136332</td>\n",
       "<td style='text-align: right'>0.000639357668575</td>\n",
       "<td style='text-align: right'>0.00104821802935</td>\n",
       "</tr>\n",
       "<tr>\n",
       "<td style='text-align: right'>99</td>\n",
       "<td>False</td>\n",
       "<td>b'IND'</td>\n",
       "<td>True</td>\n",
       "<td>b'MU'</td>\n",
       "<td style='text-align: right'>32871</td>\n",
       "<td>57299</td>\n",
       "<td style='text-align: right'>0.0819567551692</td>\n",
       "<td style='text-align: right'>0.747269692708</td>\n",
       "<td style='text-align: right'>0.0242004793331</td>\n",
       "<td style='text-align: right'>0.000309471163118</td>\n",
       "<td style='text-align: right'>0.000471763459299</td>\n",
       "</tr>\n",
       "<tr>\n",
       "<td style='text-align: right'>99</td>\n",
       "<td>False</td>\n",
       "<td>b'IND'</td>\n",
       "<td>False</td>\n",
       "<td>b'BI'</td>\n",
       "<td style='text-align: right'>24490</td>\n",
       "<td>24490</td>\n",
       "<td style='text-align: right'>0.0533584984322</td>\n",
       "<td style='text-align: right'>0.638008849926</td>\n",
       "<td style='text-align: right'>0.0255068707761</td>\n",
       "<td style='text-align: right'>0.000258344528263</td>\n",
       "<td style='text-align: right'>0.000196495824464</td>\n",
       "</tr>\n",
       "<tr>\n",
       "<td style='text-align: right'>99</td>\n",
       "<td>False</td>\n",
       "<td>b'IND'</td>\n",
       "<td>False</td>\n",
       "<td>b'SD'</td>\n",
       "<td style='text-align: right'>32404</td>\n",
       "<td>32404</td>\n",
       "<td style='text-align: right'>0.0489232407184</td>\n",
       "<td style='text-align: right'>0.685536114211</td>\n",
       "<td style='text-align: right'>0.0280152488103</td>\n",
       "<td style='text-align: right'>0.000130762136791</td>\n",
       "<td style='text-align: right'>0.000139275766017</td>\n",
       "</tr>\n",
       "<tr>\n",
       "<td style='text-align: right'>99</td>\n",
       "<td>False</td>\n",
       "<td>b'IND'</td>\n",
       "<td>False</td>\n",
       "<td>b'MU'</td>\n",
       "<td style='text-align: right'>64944</td>\n",
       "<td>120968</td>\n",
       "<td style='text-align: right'>0.0544709318429</td>\n",
       "<td style='text-align: right'>0.759725712585</td>\n",
       "<td style='text-align: right'>0.0241263839045</td>\n",
       "<td style='text-align: right'>0.000133462256057</td>\n",
       "<td style='text-align: right'>0.000143295605279</td>\n",
       "</tr>\n",
       "</tbody>\n",
       "</table>\n"
      ]
     },
     "metadata": {},
     "output_type": "display_data"
    }
   ],
   "source": [
    "headers = ['GQ threshold', 'PASS', 'Type', 'Coding', 'Multiallelic', 'Variants', 'Alleles', 'Mean NRAF', 'Missingness',\n",
    "           'Heterozygosity', 'Discordance', 'MER']\n",
    "etl.wrap(results_list).pushheader(headers).displayall()\n"
   ]
  },
  {
   "cell_type": "code",
   "execution_count": 114,
   "metadata": {
    "collapsed": false
   },
   "outputs": [
    {
     "data": {
      "text/plain": [
       "624919"
      ]
     },
     "execution_count": 114,
     "metadata": {},
     "output_type": "execute_result"
    }
   ],
   "source": [
    "np.sum(etl.wrap(results_list).pushheader(headers).values('Variants').array())"
   ]
  },
  {
   "cell_type": "code",
   "execution_count": 31,
   "metadata": {
    "collapsed": false
   },
   "outputs": [
    {
     "data": {
      "text/plain": [
       "1874757"
      ]
     },
     "execution_count": 31,
     "metadata": {},
     "output_type": "execute_result"
    }
   ],
   "source": [
    "np.sum(etl.wrap(results_list).pushheader(headers).values('Variants').array())"
   ]
  },
  {
   "cell_type": "code",
   "execution_count": null,
   "metadata": {
    "collapsed": true
   },
   "outputs": [],
   "source": []
  },
  {
   "cell_type": "code",
   "execution_count": 49,
   "metadata": {
    "collapsed": false
   },
   "outputs": [
    {
     "data": {
      "text/plain": [
       "'/lustre/scratch109/malaria/rp7/data/pf3k/pilot_5_0/20160722_mendelian_error_duplicate_concordance/genotype_quality.xlsx'"
      ]
     },
     "execution_count": 49,
     "metadata": {},
     "output_type": "execute_result"
    }
   ],
   "source": [
    "# etl.wrap(results_list).pushheader(headers).convert('Alleles', int).toxlsx(results_table_fn)\n",
    "etl.wrap(results_list).pushheader(headers).cutout('Mean NRAF').convert('Alleles', int).toxlsx(results_table_fn)\n",
    "results_table_fn"
   ]
  },
  {
   "cell_type": "code",
   "execution_count": null,
   "metadata": {
    "collapsed": true
   },
   "outputs": [],
   "source": []
  },
  {
   "cell_type": "code",
   "execution_count": null,
   "metadata": {
    "collapsed": true
   },
   "outputs": [],
   "source": []
  },
  {
   "cell_type": "code",
   "execution_count": 48,
   "metadata": {
    "collapsed": false
   },
   "outputs": [],
   "source": [
    "# variant_type_header_2_fn = \"%s/vcf/VARIANT_TYPE_2.hdr\" % (output_dir)\n",
    "# fo=open(variant_type_header_2_fn, 'w')\n",
    "# print('##INFO=<ID=VARIANT_TYPE,Number=1,Type=String,Description=\"SNP or INDEL\">', file=fo)\n",
    "# fo.close()"
   ]
  },
  {
   "cell_type": "code",
   "execution_count": 33,
   "metadata": {
    "collapsed": false
   },
   "outputs": [],
   "source": [
    "def create_variant_counts_vcf(input_vcf_fn=sites_only_vcf_fn, region='Pf3D7_14_v3:1000000-1100000',\n",
    "                        output_vcf_fn=None, BCFTOOLS=BCFTOOLS, rewrite=False):\n",
    "    if output_vcf_fn is None:\n",
    "        if region is None:\n",
    "            output_vcf_fn = \"%s/vcf/SNP_INDEL_WG.sites.analysis.vcf.gz\" % (output_dir)\n",
    "        else:\n",
    "            output_vcf_fn = \"%s/vcf/SNP_INDEL_%s.sites.analysis.vcf.gz\" % (output_dir, region)\n",
    "    intermediate_fns = collections.OrderedDict()\n",
    "    for intermediate_file in ['multiallelic', 'multiallelics', 'snps', 'indels', 'triallelic', 'bi_allelic', 'spanning_deletion',\n",
    "                              'triallelic_no_sd', 'biallelic',\n",
    "                              'variant_type', 'analysis']:\n",
    "        intermediate_fns[intermediate_file] = output_vcf_fn.replace('analysis', intermediate_file)\n",
    "\n",
    "    if rewrite or not os.path.exists(intermediate_fns['snps']):\n",
    "        !{BCFTOOLS} query -f'%CHROM\\t%POS\\tSNP\\n' --include 'TYPE=\"snp\"' {input_vcf_fn} | bgzip -c > {intermediate_fns['snps']} && tabix -s1 -b2 -e2 -f {intermediate_fns['snps']}\n",
    "\n",
    "    if rewrite or not os.path.exists(intermediate_fns['indels']):\n",
    "        !{BCFTOOLS} query -f'%CHROM\\t%POS\\tINDEL\\n' --include 'TYPE!=\"snp\"' {input_vcf_fn} | bgzip -c > {intermediate_fns['indels']} && tabix -s1 -b2 -e2 -f {intermediate_fns['indels']}\n",
    "\n",
    "    if rewrite or not os.path.exists(intermediate_fns['variant_type']):\n",
    "        !{BCFTOOLS} annotate -a {intermediate_fns['snps']} -c CHROM,POS,INFO/VARIANT_TYPE \\\n",
    "        -h {variant_type_header_fn} {input_vcf_fn} | \\\n",
    "        {BCFTOOLS} annotate -a {intermediate_fns['indels']} -c CHROM,POS,INFO/VARIANT_TYPE \\\n",
    "        -Oz -o {intermediate_fns['variant_type']} \n",
    "        !{BCFTOOLS} index --tbi {intermediate_fns['variant_type']}\n",
    "\n",
    "    if rewrite or not os.path.exists(intermediate_fns['multiallelic']):\n",
    "        !{BCFTOOLS} query -f'%CHROM\\t%POS\\tMU\\n' --include 'N_ALT>2' {intermediate_fns['variant_type']} | bgzip -c > {intermediate_fns['multiallelic']} && tabix -s1 -b2 -e2 {intermediate_fns['multiallelic']}\n",
    "        \n",
    "    if rewrite or not os.path.exists(intermediate_fns['triallelic']):\n",
    "        !{BCFTOOLS} query -f'%CHROM\\t%POS\\t%ALT\\tSD\\n' --include 'N_ALT=2' {intermediate_fns['variant_type']} | bgzip -c > {intermediate_fns['triallelic']} && tabix -s1 -b2 -e2 {intermediate_fns['triallelic']}\n",
    "\n",
    "    if rewrite or not os.path.exists(intermediate_fns['bi_allelic']):\n",
    "        !{BCFTOOLS} query -f'%CHROM\\t%POS\\t%ALT\\tBI\\n' --include 'N_ALT=1' {intermediate_fns['variant_type']} | bgzip -c > {intermediate_fns['bi_allelic']} && tabix -s1 -b2 -e2 {intermediate_fns['bi_allelic']}\n",
    "\n",
    "    if rewrite or not os.path.exists(intermediate_fns['spanning_deletion']):\n",
    "        !zgrep '\\*' {intermediate_fns['triallelic']} | bgzip -c > {intermediate_fns['spanning_deletion']} && tabix -s1 -b2 -e2 {intermediate_fns['spanning_deletion']}\n",
    "        \n",
    "    if rewrite or not os.path.exists(intermediate_fns['triallelic_no_sd']):\n",
    "        !zgrep -v '\\*' {intermediate_fns['triallelic']} | sed 's/SD/MU/g' | bgzip -c > {intermediate_fns['triallelic_no_sd']} && tabix -s1 -b2 -e2 {intermediate_fns['triallelic_no_sd']}\n",
    "        \n",
    "    if rewrite or not os.path.exists(intermediate_fns['multiallelics']):\n",
    "        !{BCFTOOLS} annotate --remove INFO/AF,INFO/BaseQRankSum,INFO/ClippingRankSum,INFO/DP,INFO/DS,INFO/END,INFO/FS,\\\n",
    "INFO/GC,INFO/HaplotypeScore,INFO/InbreedingCoeff,INFO/MLEAC,INFO/MLEAF,INFO/MQ,INFO/MQRankSum,INFO/NEGATIVE_TRAIN_SITE,\\\n",
    "INFO/POSITIVE_TRAIN_SITE,INFO/QD,INFO/ReadPosRankSum,INFO/RegionType,INFO/RPA,INFO/RU,INFO/STR,INFO/SNPEFF_AMINO_ACID_CHANGE,\\\n",
    "INFO/SNPEFF_CODON_CHANGE,INFO/SNPEFF_EXON_ID,INFO/SNPEFF_FUNCTIONAL_CLASS,INFO/SNPEFF_GENE_BIOTYPE,\\\n",
    "INFO/SNPEFF_GENE_NAME,INFO/SNPEFF_IMPACT,INFO/SNPEFF_TRANSCRIPT_ID,INFO/SOR,INFO/culprit,INFO/set\\\n",
    "        -a {intermediate_fns['bi_allelic']} -c CHROM,POS,-,INFO/MULTIALLELIC \\\n",
    "        -h {multiallelic_header_fn} {intermediate_fns['variant_type']} | \\\n",
    "        {BCFTOOLS} annotate -a {intermediate_fns['spanning_deletion']} -c CHROM,POS,-,INFO/MULTIALLELIC |\\\n",
    "        {BCFTOOLS} annotate -a {intermediate_fns['multiallelic']} -c CHROM,POS,INFO/MULTIALLELIC |\\\n",
    "        {BCFTOOLS} annotate -a {intermediate_fns['triallelic_no_sd']} -c CHROM,POS,-,INFO/MULTIALLELIC \\\n",
    "        -Oz -o {intermediate_fns['multiallelics']}\n",
    "        !{BCFTOOLS} index --tbi {intermediate_fns['multiallelics']}\n",
    "                \n",
    "    if rewrite or not os.path.exists(intermediate_fns['biallelic']):\n",
    "        !{BCFTOOLS} norm -m -any --fasta-ref {GENOME_FN} {intermediate_fns['multiallelics']} | \\\n",
    "        {BCFTOOLS} view --include 'ALT!=\"*\"' -Oz -o {intermediate_fns['biallelic']}\n",
    "        !{BCFTOOLS} index --tbi {intermediate_fns['biallelic']}\n",
    "\n",
    "    if rewrite or not os.path.exists(intermediate_fns['analysis']):\n",
    "        !{BCFTOOLS} annotate -a {cds_gff_fn} -c CHROM,FROM,TO,CDS \\\n",
    "        -h {cds_header_fn} \\\n",
    "        -Oz -o {intermediate_fns['analysis']} {intermediate_fns['biallelic']}\n",
    "        !{BCFTOOLS} index --tbi {intermediate_fns['analysis']}\n"
   ]
  },
  {
   "cell_type": "raw",
   "metadata": {},
   "source": [
    "/nfs/team112_internal/rp7/src/github/malariagen/methods-dev/pf3k_techbm/opt_4/bcftools/bcftools \\\n",
    "annotate --remove INFO/AF,INFO/BaseQRankSum,INFO/ClippingRankSum,INFO/DP,INFO/DS,INFO/END,INFO/FS,\\\n",
    "INFO/GC,INFO/HaplotypeScore,INFO/InbreedingCoeff,INFO/MLEAC,INFO/MLEAF,INFO/MQ,INFO/MQRankSum,INFO/NEGATIVE_TRAIN_SITE,\\\n",
    "INFO/POSITIVE_TRAIN_SITE,INFO/QD,INFO/ReadPosRankSum,INFO/RegionType,INFO/RPA,INFO/RU,INFO/STR,INFO/SNPEFF_AMINO_ACID_CHANGE,\\\n",
    "INFO/SNPEFF_CODON_CHANGE,INFO/SNPEFF_EXON_ID,INFO/SNPEFF_FUNCTIONAL_CLASS,INFO/SNPEFF_GENE_BIOTYPE,\\\n",
    "INFO/SNPEFF_GENE_NAME,INFO/SNPEFF_IMPACT,INFO/SNPEFF_TRANSCRIPT_ID,INFO/SOR,INFO/culprit,INFO/set \\\n",
    "-a SNP_INDEL_WG.sites.spanning_deletion.vcf.gz -c CHROM,POS,-,INFO/MULTIALLELIC \\\n",
    "-h MULTIALLELIC.hdr SNP_INDEL_WG.sites.variant_type.vcf.gz | \\\n",
    "/nfs/team112_internal/rp7/src/github/malariagen/methods-dev/pf3k_techbm/opt_4/bcftools/bcftools annotate \\\n",
    "-a SNP_INDEL_WG.sites.bi_allelic.vcf.gz -c CHROM,POS,-,INFO/MULTIALLELIC | \\\n",
    "less -S"
   ]
  },
  {
   "cell_type": "raw",
   "metadata": {},
   "source": [
    "/nfs/team112_internal/rp7/src/github/malariagen/methods-dev/pf3k_techbm/opt_4/bcftools/bcftools \\\n",
    "annotate --remove INFO/AF,INFO/BaseQRankSum,INFO/ClippingRankSum,INFO/DP,INFO/DS,INFO/END,INFO/FS,\\\n",
    "INFO/GC,INFO/HaplotypeScore,INFO/InbreedingCoeff,INFO/MLEAC,INFO/MLEAF,INFO/MQ,INFO/MQRankSum,INFO/NEGATIVE_TRAIN_SITE,\\\n",
    "INFO/POSITIVE_TRAIN_SITE,INFO/QD,INFO/ReadPosRankSum,INFO/RegionType,INFO/RPA,INFO/RU,INFO/STR,INFO/SNPEFF_AMINO_ACID_CHANGE,\\\n",
    "INFO/SNPEFF_CODON_CHANGE,INFO/SNPEFF_EXON_ID,INFO/SNPEFF_FUNCTIONAL_CLASS,INFO/SNPEFF_GENE_BIOTYPE,\\\n",
    "INFO/SNPEFF_GENE_NAME,INFO/SNPEFF_IMPACT,INFO/SNPEFF_TRANSCRIPT_ID,INFO/SOR,INFO/culprit,INFO/set \\\n",
    "-h MULTIALLELIC.hdr SNP_INDEL_WG.sites.variant_type.vcf.gz | \\\n",
    "/nfs/team112_internal/rp7/src/github/malariagen/methods-dev/pf3k_techbm/opt_4/bcftools/bcftools isec \\\n",
    "SNP_INDEL_WG.sites.spanning_deletion.vcf.gz -n+1 | \\\n",
    "less -S\n",
    "\n",
    "-a SNP_INDEL_WG.sites.bi_allelic.vcf.gz -c CHROM,POS,-,INFO/MULTIALLELIC | \\\n"
   ]
  },
  {
   "cell_type": "raw",
   "metadata": {},
   "source": [
    "/nfs/team112_internal/rp7/src/github/malariagen/methods-dev/pf3k_techbm/opt_4/bcftools/bcftools \\\n",
    "annotate --remove INFO/AF,INFO/BaseQRankSum,INFO/ClippingRankSum,INFO/DP,INFO/DS,INFO/END,INFO/FS,\\\n",
    "INFO/GC,INFO/HaplotypeScore,INFO/InbreedingCoeff,INFO/MLEAC,INFO/MLEAF,INFO/MQ,INFO/MQRankSum,INFO/NEGATIVE_TRAIN_SITE,\\\n",
    "INFO/POSITIVE_TRAIN_SITE,INFO/QD,INFO/ReadPosRankSum,INFO/RegionType,INFO/RPA,INFO/RU,INFO/STR,INFO/SNPEFF_AMINO_ACID_CHANGE,\\\n",
    "INFO/SNPEFF_CODON_CHANGE,INFO/SNPEFF_EXON_ID,INFO/SNPEFF_FUNCTIONAL_CLASS,INFO/SNPEFF_GENE_BIOTYPE,\\\n",
    "INFO/SNPEFF_GENE_NAME,INFO/SNPEFF_IMPACT,INFO/SNPEFF_TRANSCRIPT_ID,INFO/SOR,INFO/culprit,INFO/set \\\n",
    "-h MULTIALLELIC.hdr SNP_INDEL_WG.sites.variant_type.vcf.gz | \\\n",
    "\n",
    "/nfs/team112_internal/rp7/src/github/malariagen/methods-dev/pf3k_techbm/opt_4/bcftools/bcftools isec \\\n",
    "SNP_INDEL_WG.sites.variant_type.vcf.gz SNP_INDEL_WG.sites.spanning_deletion.vcf.gz -n+1 -c all | \\\n",
    "less -S\n",
    "\n",
    "-a SNP_INDEL_WG.sites.bi_allelic.vcf.gz -c CHROM,POS,-,INFO/MULTIALLELIC | \\\n"
   ]
  },
  {
   "cell_type": "code",
   "execution_count": null,
   "metadata": {
    "collapsed": true
   },
   "outputs": [],
   "source": [
    "/nfs/team112_internal/rp7/src/github/malariagen/methods-dev/pf3k_techbm/opt_4/bcftools/bcftools \\\n",
    "query -f'%CHROM\\t%POS\\t%REF\\t%ALT\\tSD\\n' --include 'N_ALT=2' SNP_INDEL_WG.sites.variant_type.vcf.gz | \\\n",
    "bgzip -c > temp.triallelic.txt.gz && tabix -s1 -b2 -e2 temp.triallelic.txt.gz\n",
    "\n",
    "zgrep '\\*' temp.triallelic.txt.gz | \\\n",
    "bgzip -c > temp.spanning_deletion.txt.gz && tabix -s1 -b2 -e2 temp.spanning_deletion.txt.gz\n",
    "\n",
    "/nfs/team112_internal/rp7/src/github/malariagen/methods-dev/pf3k_techbm/opt_4/bcftools/bcftools \\\n",
    "annotate --remove INFO/AF,INFO/BaseQRankSum,INFO/ClippingRankSum,INFO/DP,INFO/DS,INFO/END,INFO/FS,\\\n",
    "INFO/GC,INFO/HaplotypeScore,INFO/InbreedingCoeff,INFO/MLEAC,INFO/MLEAF,INFO/MQ,INFO/MQRankSum,INFO/NEGATIVE_TRAIN_SITE,\\\n",
    "INFO/POSITIVE_TRAIN_SITE,INFO/QD,INFO/ReadPosRankSum,INFO/RegionType,INFO/RPA,INFO/RU,INFO/STR,INFO/SNPEFF_AMINO_ACID_CHANGE,\\\n",
    "INFO/SNPEFF_CODON_CHANGE,INFO/SNPEFF_EXON_ID,INFO/SNPEFF_FUNCTIONAL_CLASS,INFO/SNPEFF_GENE_BIOTYPE,\\\n",
    "INFO/SNPEFF_GENE_NAME,INFO/SNPEFF_IMPACT,INFO/SNPEFF_TRANSCRIPT_ID,INFO/SOR,INFO/culprit,INFO/set \\\n",
    "-a temp.spanning_deletion.txt.gz -c CHROM,POS,REF,ALT,INFO/MULTIALLELIC \\\n",
    "-h MULTIALLELIC.hdr SNP_INDEL_WG.sites.variant_type.vcf.gz | \\\n",
    "/nfs/team112_internal/rp7/src/github/malariagen/methods-dev/pf3k_techbm/opt_4/bcftools/bcftools annotate \\\n",
    "-a SNP_INDEL_WG.sites.bi_allelic.vcf.gz -c CHROM,POS,-,INFO/MULTIALLELIC | \\\n",
    "less -S"
   ]
  },
  {
   "cell_type": "code",
   "execution_count": 34,
   "metadata": {
    "collapsed": false
   },
   "outputs": [
    {
     "data": {
      "text/plain": [
       "'/nfs/team112_internal/production/release_build/Pf3K/pilot_5_0/SNP_INDEL_WG.combined.filtered.sites.vcf.gz'"
      ]
     },
     "execution_count": 34,
     "metadata": {},
     "output_type": "execute_result"
    }
   ],
   "source": [
    "sites_only_vcf_fn"
   ]
  },
  {
   "cell_type": "code",
   "execution_count": 35,
   "metadata": {
    "collapsed": false
   },
   "outputs": [
    {
     "name": "stdout",
     "output_type": "stream",
     "text": [
      "Lines   total/split/realigned/skipped:\t4212465/2095789/2226778/0\r\n"
     ]
    }
   ],
   "source": [
    "create_variant_counts_vcf(region=None)"
   ]
  },
  {
   "cell_type": "code",
   "execution_count": 36,
   "metadata": {
    "collapsed": false
   },
   "outputs": [
    {
     "name": "stderr",
     "output_type": "stream",
     "text": [
      "[vcfnp] 2016-07-22 09:14:52.157437 :: caching is enabled\n",
      "[vcfnp] 2016-07-22 09:14:52.161077 :: no cache file found\n",
      "[vcfnp] 2016-07-22 09:14:52.162679 :: building array\n",
      "[vcfnp] 2016-07-22 09:14:55.365699 :: 100000 rows in 3.17s; batch in 3.17s (31496 rows/s)\n",
      "[vcfnp] 2016-07-22 09:14:58.314595 :: 200000 rows in 6.12s; batch in 2.95s (33910 rows/s)\n",
      "[vcfnp] 2016-07-22 09:15:01.459270 :: 300000 rows in 9.27s; batch in 3.14s (31799 rows/s)\n",
      "[vcfnp] 2016-07-22 09:15:04.704475 :: 400000 rows in 12.51s; batch in 3.25s (30814 rows/s)\n",
      "[vcfnp] 2016-07-22 09:15:08.028807 :: 500000 rows in 15.84s; batch in 3.32s (30081 rows/s)\n",
      "[vcfnp] 2016-07-22 09:15:11.442869 :: 600000 rows in 19.25s; batch in 3.41s (29290 rows/s)\n",
      "[vcfnp] 2016-07-22 09:15:15.065988 :: 700000 rows in 22.88s; batch in 3.62s (27600 rows/s)\n",
      "[vcfnp] 2016-07-22 09:15:18.395130 :: 800000 rows in 26.20s; batch in 3.33s (30037 rows/s)\n",
      "[vcfnp] 2016-07-22 09:15:21.771938 :: 900000 rows in 29.58s; batch in 3.38s (29613 rows/s)\n",
      "[vcfnp] 2016-07-22 09:15:25.199338 :: 1000000 rows in 33.01s; batch in 3.43s (29176 rows/s)\n",
      "[vcfnp] 2016-07-22 09:15:28.633110 :: 1100000 rows in 36.44s; batch in 3.43s (29122 rows/s)\n",
      "[vcfnp] 2016-07-22 09:15:32.188382 :: 1200000 rows in 40.00s; batch in 3.56s (28127 rows/s)\n",
      "[vcfnp] 2016-07-22 09:15:35.452041 :: 1300000 rows in 43.26s; batch in 3.26s (30640 rows/s)\n",
      "[vcfnp] 2016-07-22 09:15:38.549348 :: 1400000 rows in 46.36s; batch in 3.10s (32286 rows/s)\n",
      "[vcfnp] 2016-07-22 09:15:41.901396 :: 1500000 rows in 49.71s; batch in 3.35s (29832 rows/s)\n",
      "[vcfnp] 2016-07-22 09:15:45.920362 :: 1600000 rows in 53.73s; batch in 4.02s (24882 rows/s)\n",
      "[vcfnp] 2016-07-22 09:15:49.527824 :: 1700000 rows in 57.34s; batch in 3.61s (27720 rows/s)\n",
      "[vcfnp] 2016-07-22 09:15:53.034432 :: 1800000 rows in 60.84s; batch in 3.51s (28517 rows/s)\n",
      "[vcfnp] 2016-07-22 09:15:56.984343 :: 1900000 rows in 64.79s; batch in 3.95s (25317 rows/s)\n",
      "[vcfnp] 2016-07-22 09:16:00.972600 :: 2000000 rows in 68.78s; batch in 3.99s (25073 rows/s)\n",
      "[vcfnp] 2016-07-22 09:16:05.311171 :: 2100000 rows in 73.12s; batch in 4.34s (23049 rows/s)\n",
      "[vcfnp] 2016-07-22 09:16:09.248027 :: 2200000 rows in 77.06s; batch in 3.94s (25400 rows/s)\n",
      "[vcfnp] 2016-07-22 09:16:12.882897 :: 2300000 rows in 80.69s; batch in 3.63s (27511 rows/s)\n",
      "[vcfnp] 2016-07-22 09:16:16.714627 :: 2400000 rows in 84.52s; batch in 3.83s (26097 rows/s)\n",
      "[vcfnp] 2016-07-22 09:16:20.780302 :: 2500000 rows in 88.59s; batch in 4.07s (24596 rows/s)\n",
      "[vcfnp] 2016-07-22 09:16:24.924939 :: 2600000 rows in 92.73s; batch in 4.14s (24127 rows/s)\n",
      "[vcfnp] 2016-07-22 09:16:28.704356 :: 2700000 rows in 96.51s; batch in 3.78s (26459 rows/s)\n",
      "[vcfnp] 2016-07-22 09:16:32.943606 :: 2800000 rows in 100.75s; batch in 4.24s (23589 rows/s)\n",
      "[vcfnp] 2016-07-22 09:16:36.561907 :: 2900000 rows in 104.37s; batch in 3.62s (27637 rows/s)\n",
      "[vcfnp] 2016-07-22 09:16:39.888951 :: 3000000 rows in 107.70s; batch in 3.33s (30056 rows/s)\n",
      "[vcfnp] 2016-07-22 09:16:43.821676 :: 3100000 rows in 111.63s; batch in 3.93s (25427 rows/s)\n",
      "[vcfnp] 2016-07-22 09:16:47.646811 :: 3200000 rows in 115.46s; batch in 3.83s (26142 rows/s)\n",
      "[vcfnp] 2016-07-22 09:16:51.147554 :: 3300000 rows in 118.96s; batch in 3.50s (28565 rows/s)\n",
      "[vcfnp] 2016-07-22 09:16:54.425460 :: 3400000 rows in 122.23s; batch in 3.28s (30507 rows/s)\n",
      "[vcfnp] 2016-07-22 09:16:57.926211 :: 3500000 rows in 125.74s; batch in 3.50s (28565 rows/s)\n",
      "[vcfnp] 2016-07-22 09:17:02.129079 :: 3600000 rows in 129.94s; batch in 4.20s (23793 rows/s)\n",
      "[vcfnp] 2016-07-22 09:17:05.887331 :: 3700000 rows in 133.70s; batch in 3.76s (26608 rows/s)\n",
      "[vcfnp] 2016-07-22 09:17:09.575052 :: 3800000 rows in 137.38s; batch in 3.69s (27116 rows/s)\n",
      "[vcfnp] 2016-07-22 09:17:12.797791 :: 3900000 rows in 140.61s; batch in 3.22s (31029 rows/s)\n",
      "[vcfnp] 2016-07-22 09:17:15.971542 :: 4000000 rows in 143.78s; batch in 3.17s (31508 rows/s)\n",
      "[vcfnp] 2016-07-22 09:17:19.105137 :: 4100000 rows in 146.91s; batch in 3.13s (31912 rows/s)\n",
      "[vcfnp] 2016-07-22 09:17:22.171220 :: 4200000 rows in 149.98s; batch in 3.07s (32614 rows/s)\n",
      "[vcfnp] 2016-07-22 09:17:25.207941 :: 4300000 rows in 153.02s; batch in 3.04s (32930 rows/s)\n",
      "[vcfnp] 2016-07-22 09:17:28.085073 :: 4400000 rows in 155.89s; batch in 2.88s (34756 rows/s)\n",
      "[vcfnp] 2016-07-22 09:17:31.133702 :: 4500000 rows in 158.94s; batch in 3.05s (32801 rows/s)\n",
      "[vcfnp] 2016-07-22 09:17:34.198582 :: 4600000 rows in 162.01s; batch in 3.06s (32627 rows/s)\n",
      "[vcfnp] 2016-07-22 09:17:37.190932 :: 4700000 rows in 165.00s; batch in 2.99s (33418 rows/s)\n",
      "[vcfnp] 2016-07-22 09:17:40.285791 :: 4800000 rows in 168.10s; batch in 3.09s (32311 rows/s)\n",
      "[vcfnp] 2016-07-22 09:17:43.401194 :: 4900000 rows in 171.21s; batch in 3.12s (32098 rows/s)\n",
      "[vcfnp] 2016-07-22 09:17:46.527144 :: 5000000 rows in 174.34s; batch in 3.13s (31990 rows/s)\n",
      "[vcfnp] 2016-07-22 09:17:49.738775 :: 5100000 rows in 177.55s; batch in 3.21s (31136 rows/s)\n",
      "[vcfnp] 2016-07-22 09:17:52.723326 :: 5200000 rows in 180.53s; batch in 2.98s (33505 rows/s)\n",
      "[vcfnp] 2016-07-22 09:17:55.776749 :: 5300000 rows in 183.59s; batch in 3.05s (32750 rows/s)\n",
      "[vcfnp] 2016-07-22 09:17:59.038374 :: 5400000 rows in 186.85s; batch in 3.26s (30659 rows/s)\n",
      "[vcfnp] 2016-07-22 09:18:02.220208 :: 5500000 rows in 190.03s; batch in 3.18s (31428 rows/s)\n",
      "[vcfnp] 2016-07-22 09:18:05.329494 :: 5600000 rows in 193.14s; batch in 3.11s (32161 rows/s)\n",
      "[vcfnp] 2016-07-22 09:18:08.445058 :: 5700000 rows in 196.25s; batch in 3.12s (32096 rows/s)\n",
      "[vcfnp] 2016-07-22 09:18:11.620699 :: 5800000 rows in 199.43s; batch in 3.18s (31489 rows/s)\n",
      "[vcfnp] 2016-07-22 09:18:14.757771 :: 5900000 rows in 202.57s; batch in 3.14s (31876 rows/s)\n",
      "[vcfnp] 2016-07-22 09:18:17.772912 :: 6000000 rows in 205.58s; batch in 3.02s (33165 rows/s)\n",
      "[vcfnp] 2016-07-22 09:18:20.872089 :: 6100000 rows in 208.68s; batch in 3.10s (32266 rows/s)\n",
      "[vcfnp] 2016-07-22 09:18:23.828348 :: 6200000 rows in 211.64s; batch in 2.96s (33826 rows/s)\n",
      "[vcfnp] 2016-07-22 09:18:26.899868 :: 6300000 rows in 214.71s; batch in 3.07s (32557 rows/s)\n",
      "[vcfnp] 2016-07-22 09:18:29.755063 :: 6400000 rows in 217.56s; batch in 2.86s (35023 rows/s)\n",
      "[vcfnp] 2016-07-22 09:18:33.163338 :: 6500000 rows in 220.97s; batch in 3.41s (29340 rows/s)\n",
      "[vcfnp] 2016-07-22 09:18:36.837324 :: 6600000 rows in 224.65s; batch in 3.67s (27218 rows/s)\n",
      "[vcfnp] 2016-07-22 09:18:40.638016 :: 6700000 rows in 228.45s; batch in 3.80s (26311 rows/s)\n",
      "[vcfnp] 2016-07-22 09:18:44.030111 :: 6800000 rows in 231.84s; batch in 3.39s (29480 rows/s)\n",
      "[vcfnp] 2016-07-22 09:18:44.828044 :: 6824972 rows in 232.64s (29337 rows/s)\n",
      "[vcfnp] 2016-07-22 09:18:44.834307 :: saving to cache file /lustre/scratch109/malaria/rp7/data/pf3k/pilot_5_0/20160722_mendelian_error_duplicate_concordance/vcf/SNP_INDEL_WG.sites.analysis.vcf.gz.vcfnp_cache/variants.npy\n"
     ]
    }
   ],
   "source": [
    "create_variants_npy(\"%s/vcf/SNP_INDEL_WG.sites.analysis.vcf.gz\" % (output_dir))\n"
   ]
  },
  {
   "cell_type": "code",
   "execution_count": 37,
   "metadata": {
    "collapsed": true
   },
   "outputs": [],
   "source": [
    "sites_vcf_fn = \"%s/vcf/SNP_INDEL_WG.sites.analysis.vcf.gz\" % (output_dir)\n",
    "variants_all = np.load(\"%s.vcfnp_cache/variants.npy\" % sites_vcf_fn)\n"
   ]
  },
  {
   "cell_type": "code",
   "execution_count": 38,
   "metadata": {
    "collapsed": false
   },
   "outputs": [
    {
     "name": "stdout",
     "output_type": "stream",
     "text": [
      "True b'SNP' True b'BI'\n",
      "True b'SNP' True b'SD'\n",
      "True b'SNP' True b'MU'\n",
      "True b'SNP' False b'BI'\n",
      "True b'SNP' False b'SD'\n",
      "True b'SNP' False b'MU'\n",
      "True b'IND' True b'BI'\n",
      "True b'IND' True b'SD'\n",
      "True b'IND' True b'MU'\n",
      "True b'IND' False b'BI'\n",
      "True b'IND' False b'SD'\n",
      "True b'IND' False b'MU'\n",
      "False b'SNP' True b'BI'\n",
      "False b'SNP' True b'SD'\n",
      "False b'SNP' True b'MU'\n",
      "False b'SNP' False b'BI'\n",
      "False b'SNP' False b'SD'\n",
      "False b'SNP' False b'MU'\n",
      "False b'IND' True b'BI'\n",
      "False b'IND' True b'SD'\n",
      "False b'IND' True b'MU'\n",
      "False b'IND' False b'BI'\n",
      "False b'IND' False b'SD'\n",
      "False b'IND' False b'MU'\n",
      "[[True, b'SNP', True, b'BI', 641856, 641856, 0.0077220200341972644], [True, b'SNP', True, b'SD', 63110, 63110, 0.0085720430149710813], [True, b'SNP', True, b'MU', 51184, 104234, 0.0082275055926029905], [True, b'SNP', False, b'BI', 417751, 417751, 0.0082117160465197854], [True, b'SNP', False, b'SD', 124960, 124960, 0.012127685251806146], [True, b'SNP', False, b'MU', 30468, 61887, 0.009392034784424564], [True, b'IND', True, b'BI', 7310, 7310, 0.010850542187022943], [True, b'IND', True, b'SD', 23353, 23353, 0.0083160411325552859], [True, b'IND', True, b'MU', 89704, 233332, 0.021754514123097819], [True, b'IND', False, b'BI', 67700, 67700, 0.0073883577101844832], [True, b'IND', False, b'SD', 112947, 112947, 0.0097027243605674746], [True, b'IND', False, b'MU', 304890, 814433, 0.031848117868553634], [False, b'SNP', True, b'BI', 369312, 369312, 0.0056312908353769522], [False, b'SNP', True, b'SD', 58060, 58060, 0.018944357907089166], [False, b'SNP', True, b'MU', 68746, 150939, 0.028838345014673018], [False, b'SNP', False, b'BI', 424579, 424579, 0.0092001860773348026], [False, b'SNP', False, b'SD', 168923, 168923, 0.014748859060237407], [False, b'SNP', False, b'MU', 142941, 320230, 0.02020102936331326], [False, b'IND', True, b'BI', 29418, 29418, 0.0030583324924715219], [False, b'IND', True, b'SD', 23309, 23309, 0.0065419368283468077], [False, b'IND', True, b'MU', 335248, 1117301, 0.019580362367099383], [False, b'IND', False, b'BI', 78760, 78760, 0.0027401173723013493], [False, b'IND', False, b'SD', 73278, 73278, 0.0060184339690194585], [False, b'IND', False, b'MU', 504952, 1337990, 0.012505704275215667]]\n"
     ]
    }
   ],
   "source": [
    "counts_list = list()\n",
    "GQ_thresholds = [0, 30, 99]\n",
    "variant_types = [b'SNP', b'IND']\n",
    "# variant_types = [b'SNP', b'IND', b'STR']\n",
    "multiallelics = [b'BI', b'SD', b'MU']\n",
    "codings = [True, False]\n",
    "filter_passes = [True, False]\n",
    "\n",
    "# GQ_thresholds = [30, 99, 0]\n",
    "# variant_types = [b'SNP', b'IND']\n",
    "# multiallelics = [False, True]\n",
    "# codings = [True, False]\n",
    "# filter_passes = [True, False]\n",
    "\n",
    "\n",
    "for filter_pass in filter_passes:\n",
    "    for variant_type in variant_types:\n",
    "        for coding in codings:\n",
    "            for multiallelic in multiallelics:\n",
    "                print(filter_pass, variant_type, coding, multiallelic)\n",
    "                ix = (\n",
    "                    (variants_all['VARIANT_TYPE'] == variant_type) &\n",
    "                    (variants_all['MULTIALLELIC'] == multiallelic) &\n",
    "                    (variants_all['CDS'] == coding) &\n",
    "                    (variants_all['FILTER_PASS'] == filter_pass)\n",
    "                )\n",
    "                number_of_alleles = np.sum(ix)\n",
    "                number_of_sites = len(np.unique(variants_all[['CHROM', 'POS']][ix]))\n",
    "                mean_nraf = np.sum(variants_all['AC'][ix]) / np.sum(variants_all['AN'][ix])\n",
    "#                 number_of_variants = np.sum(ix)\n",
    "                counts_list.append(\n",
    "                    [filter_pass, variant_type, coding, multiallelic, number_of_sites, number_of_alleles, mean_nraf]\n",
    "                )\n",
    "\n",
    "print(counts_list)"
   ]
  },
  {
   "cell_type": "code",
   "execution_count": 39,
   "metadata": {
    "collapsed": false
   },
   "outputs": [
    {
     "data": {
      "text/html": [
       "<table class='petl'>\n",
       "<thead>\n",
       "<tr>\n",
       "<th>PASS</th>\n",
       "<th>Type</th>\n",
       "<th>Coding</th>\n",
       "<th>Multiallelic</th>\n",
       "<th>Variants</th>\n",
       "<th>Alleles</th>\n",
       "<th>Mean NRAF</th>\n",
       "</tr>\n",
       "</thead>\n",
       "<tbody>\n",
       "<tr>\n",
       "<td>True</td>\n",
       "<td>b'SNP'</td>\n",
       "<td>True</td>\n",
       "<td>b'BI'</td>\n",
       "<td style='text-align: right'>641856</td>\n",
       "<td style='text-align: right'>641856</td>\n",
       "<td style='text-align: right'>0.007722020034197264</td>\n",
       "</tr>\n",
       "<tr>\n",
       "<td>True</td>\n",
       "<td>b'SNP'</td>\n",
       "<td>True</td>\n",
       "<td>b'SD'</td>\n",
       "<td style='text-align: right'>63110</td>\n",
       "<td style='text-align: right'>63110</td>\n",
       "<td style='text-align: right'>0.008572043014971081</td>\n",
       "</tr>\n",
       "<tr>\n",
       "<td>True</td>\n",
       "<td>b'SNP'</td>\n",
       "<td>True</td>\n",
       "<td>b'MU'</td>\n",
       "<td style='text-align: right'>51184</td>\n",
       "<td style='text-align: right'>104234</td>\n",
       "<td style='text-align: right'>0.00822750559260299</td>\n",
       "</tr>\n",
       "<tr>\n",
       "<td>True</td>\n",
       "<td>b'SNP'</td>\n",
       "<td>False</td>\n",
       "<td>b'BI'</td>\n",
       "<td style='text-align: right'>417751</td>\n",
       "<td style='text-align: right'>417751</td>\n",
       "<td style='text-align: right'>0.008211716046519785</td>\n",
       "</tr>\n",
       "<tr>\n",
       "<td>True</td>\n",
       "<td>b'SNP'</td>\n",
       "<td>False</td>\n",
       "<td>b'SD'</td>\n",
       "<td style='text-align: right'>124960</td>\n",
       "<td style='text-align: right'>124960</td>\n",
       "<td style='text-align: right'>0.012127685251806146</td>\n",
       "</tr>\n",
       "<tr>\n",
       "<td>True</td>\n",
       "<td>b'SNP'</td>\n",
       "<td>False</td>\n",
       "<td>b'MU'</td>\n",
       "<td style='text-align: right'>30468</td>\n",
       "<td style='text-align: right'>61887</td>\n",
       "<td style='text-align: right'>0.009392034784424564</td>\n",
       "</tr>\n",
       "<tr>\n",
       "<td>True</td>\n",
       "<td>b'IND'</td>\n",
       "<td>True</td>\n",
       "<td>b'BI'</td>\n",
       "<td style='text-align: right'>7310</td>\n",
       "<td style='text-align: right'>7310</td>\n",
       "<td style='text-align: right'>0.010850542187022943</td>\n",
       "</tr>\n",
       "<tr>\n",
       "<td>True</td>\n",
       "<td>b'IND'</td>\n",
       "<td>True</td>\n",
       "<td>b'SD'</td>\n",
       "<td style='text-align: right'>23353</td>\n",
       "<td style='text-align: right'>23353</td>\n",
       "<td style='text-align: right'>0.008316041132555286</td>\n",
       "</tr>\n",
       "<tr>\n",
       "<td>True</td>\n",
       "<td>b'IND'</td>\n",
       "<td>True</td>\n",
       "<td>b'MU'</td>\n",
       "<td style='text-align: right'>89704</td>\n",
       "<td style='text-align: right'>233332</td>\n",
       "<td style='text-align: right'>0.02175451412309782</td>\n",
       "</tr>\n",
       "<tr>\n",
       "<td>True</td>\n",
       "<td>b'IND'</td>\n",
       "<td>False</td>\n",
       "<td>b'BI'</td>\n",
       "<td style='text-align: right'>67700</td>\n",
       "<td style='text-align: right'>67700</td>\n",
       "<td style='text-align: right'>0.007388357710184483</td>\n",
       "</tr>\n",
       "<tr>\n",
       "<td>True</td>\n",
       "<td>b'IND'</td>\n",
       "<td>False</td>\n",
       "<td>b'SD'</td>\n",
       "<td style='text-align: right'>112947</td>\n",
       "<td style='text-align: right'>112947</td>\n",
       "<td style='text-align: right'>0.009702724360567475</td>\n",
       "</tr>\n",
       "<tr>\n",
       "<td>True</td>\n",
       "<td>b'IND'</td>\n",
       "<td>False</td>\n",
       "<td>b'MU'</td>\n",
       "<td style='text-align: right'>304890</td>\n",
       "<td style='text-align: right'>814433</td>\n",
       "<td style='text-align: right'>0.031848117868553634</td>\n",
       "</tr>\n",
       "<tr>\n",
       "<td>False</td>\n",
       "<td>b'SNP'</td>\n",
       "<td>True</td>\n",
       "<td>b'BI'</td>\n",
       "<td style='text-align: right'>369312</td>\n",
       "<td style='text-align: right'>369312</td>\n",
       "<td style='text-align: right'>0.005631290835376952</td>\n",
       "</tr>\n",
       "<tr>\n",
       "<td>False</td>\n",
       "<td>b'SNP'</td>\n",
       "<td>True</td>\n",
       "<td>b'SD'</td>\n",
       "<td style='text-align: right'>58060</td>\n",
       "<td style='text-align: right'>58060</td>\n",
       "<td style='text-align: right'>0.018944357907089166</td>\n",
       "</tr>\n",
       "<tr>\n",
       "<td>False</td>\n",
       "<td>b'SNP'</td>\n",
       "<td>True</td>\n",
       "<td>b'MU'</td>\n",
       "<td style='text-align: right'>68746</td>\n",
       "<td style='text-align: right'>150939</td>\n",
       "<td style='text-align: right'>0.028838345014673018</td>\n",
       "</tr>\n",
       "<tr>\n",
       "<td>False</td>\n",
       "<td>b'SNP'</td>\n",
       "<td>False</td>\n",
       "<td>b'BI'</td>\n",
       "<td style='text-align: right'>424579</td>\n",
       "<td style='text-align: right'>424579</td>\n",
       "<td style='text-align: right'>0.009200186077334803</td>\n",
       "</tr>\n",
       "<tr>\n",
       "<td>False</td>\n",
       "<td>b'SNP'</td>\n",
       "<td>False</td>\n",
       "<td>b'SD'</td>\n",
       "<td style='text-align: right'>168923</td>\n",
       "<td style='text-align: right'>168923</td>\n",
       "<td style='text-align: right'>0.014748859060237407</td>\n",
       "</tr>\n",
       "<tr>\n",
       "<td>False</td>\n",
       "<td>b'SNP'</td>\n",
       "<td>False</td>\n",
       "<td>b'MU'</td>\n",
       "<td style='text-align: right'>142941</td>\n",
       "<td style='text-align: right'>320230</td>\n",
       "<td style='text-align: right'>0.02020102936331326</td>\n",
       "</tr>\n",
       "<tr>\n",
       "<td>False</td>\n",
       "<td>b'IND'</td>\n",
       "<td>True</td>\n",
       "<td>b'BI'</td>\n",
       "<td style='text-align: right'>29418</td>\n",
       "<td style='text-align: right'>29418</td>\n",
       "<td style='text-align: right'>0.003058332492471522</td>\n",
       "</tr>\n",
       "<tr>\n",
       "<td>False</td>\n",
       "<td>b'IND'</td>\n",
       "<td>True</td>\n",
       "<td>b'SD'</td>\n",
       "<td style='text-align: right'>23309</td>\n",
       "<td style='text-align: right'>23309</td>\n",
       "<td style='text-align: right'>0.006541936828346808</td>\n",
       "</tr>\n",
       "<tr>\n",
       "<td>False</td>\n",
       "<td>b'IND'</td>\n",
       "<td>True</td>\n",
       "<td>b'MU'</td>\n",
       "<td style='text-align: right'>335248</td>\n",
       "<td style='text-align: right'>1117301</td>\n",
       "<td style='text-align: right'>0.019580362367099383</td>\n",
       "</tr>\n",
       "<tr>\n",
       "<td>False</td>\n",
       "<td>b'IND'</td>\n",
       "<td>False</td>\n",
       "<td>b'BI'</td>\n",
       "<td style='text-align: right'>78760</td>\n",
       "<td style='text-align: right'>78760</td>\n",
       "<td style='text-align: right'>0.0027401173723013493</td>\n",
       "</tr>\n",
       "<tr>\n",
       "<td>False</td>\n",
       "<td>b'IND'</td>\n",
       "<td>False</td>\n",
       "<td>b'SD'</td>\n",
       "<td style='text-align: right'>73278</td>\n",
       "<td style='text-align: right'>73278</td>\n",
       "<td style='text-align: right'>0.0060184339690194585</td>\n",
       "</tr>\n",
       "<tr>\n",
       "<td>False</td>\n",
       "<td>b'IND'</td>\n",
       "<td>False</td>\n",
       "<td>b'MU'</td>\n",
       "<td style='text-align: right'>504952</td>\n",
       "<td style='text-align: right'>1337990</td>\n",
       "<td style='text-align: right'>0.012505704275215667</td>\n",
       "</tr>\n",
       "</tbody>\n",
       "</table>\n"
      ]
     },
     "metadata": {},
     "output_type": "display_data"
    }
   ],
   "source": [
    "headers = ['PASS', 'Type', 'Coding', 'Multiallelic', 'Variants', 'Alleles', 'Mean NRAF']\n",
    "(etl\n",
    " .wrap(counts_list)\n",
    " .pushheader(headers)\n",
    " .convert('Mean NRAF', float)\n",
    " .convert('Variants', int)\n",
    " .convert('Alleles', int)\n",
    " .displayall()\n",
    ")\n"
   ]
  },
  {
   "cell_type": "code",
   "execution_count": 40,
   "metadata": {
    "collapsed": false
   },
   "outputs": [
    {
     "data": {
      "text/plain": [
       "'/lustre/scratch109/malaria/rp7/data/pf3k/pilot_5_0/20160722_mendelian_error_duplicate_concordance/variant_counts.xlsx'"
      ]
     },
     "execution_count": 40,
     "metadata": {},
     "output_type": "execute_result"
    }
   ],
   "source": [
    "(etl\n",
    " .wrap(counts_list)\n",
    " .pushheader(headers)\n",
    " .convert('Mean NRAF', float)\n",
    " .convert('Variants', int)\n",
    " .convert('Alleles', int)\n",
    " .toxlsx(counts_table_fn)\n",
    ")\n",
    "# etl.wrap(counts_list).pushheader(headers).convertnumbers().toxlsx(counts_table_fn)\n",
    "counts_table_fn"
   ]
  },
  {
   "cell_type": "code",
   "execution_count": 60,
   "metadata": {
    "collapsed": false
   },
   "outputs": [
    {
     "data": {
      "text/plain": [
       "1935195"
      ]
     },
     "execution_count": 60,
     "metadata": {},
     "output_type": "execute_result"
    }
   ],
   "source": [
    "np.sum(etl\n",
    "       .fromtsv('/nfs/team112_internal/production/release_build/Pf3K/pilot_5_0/passcounts')\n",
    "       .pushheader(('CHROM', 'count'))\n",
    "       .convertnumbers()\n",
    "       .values('count')\n",
    "       .array()\n",
    "       )"
   ]
  },
  {
   "cell_type": "code",
   "execution_count": 41,
   "metadata": {
    "collapsed": false
   },
   "outputs": [
    {
     "name": "stdout",
     "output_type": "stream",
     "text": [
      "True b'SNP' True\n",
      "True b'SNP' False\n",
      "True b'IND' True\n",
      "True b'IND' False\n",
      "False b'SNP' True\n",
      "False b'SNP' False\n",
      "False b'IND' True\n",
      "False b'IND' False\n"
     ]
    }
   ],
   "source": [
    "simplified_counts_list = list()\n",
    "GQ_thresholds = [0, 30, 99]\n",
    "variant_types = [b'SNP', b'IND']\n",
    "# multiallelics = [b'BI', b'SD', b'MU']\n",
    "codings = [True, False]\n",
    "filter_passes = [True, False]\n",
    "\n",
    "for filter_pass in filter_passes:\n",
    "    for variant_type in variant_types:\n",
    "        for coding in codings:\n",
    "            print(filter_pass, variant_type, coding)\n",
    "            ix = (\n",
    "                (variants_all['VARIANT_TYPE'] == variant_type) &\n",
    "                (variants_all['CDS'] == coding) &\n",
    "                (variants_all['FILTER_PASS'] == filter_pass)\n",
    "            )\n",
    "            number_of_alleles = np.sum(ix)\n",
    "            number_of_sites = len(np.unique(variants_all[['CHROM', 'POS']][ix]))\n",
    "            mean_nraf = np.sum(variants_all['AC'][ix]) / np.sum(variants_all['AN'][ix])\n",
    "            simplified_counts_list.append(\n",
    "                [filter_pass, variant_type, coding, number_of_sites, number_of_alleles, mean_nraf]\n",
    "            )\n"
   ]
  },
  {
   "cell_type": "code",
   "execution_count": 42,
   "metadata": {
    "collapsed": false
   },
   "outputs": [
    {
     "data": {
      "text/html": [
       "<table class='petl'>\n",
       "<thead>\n",
       "<tr>\n",
       "<th>PASS</th>\n",
       "<th>Type</th>\n",
       "<th>Coding</th>\n",
       "<th>Variants</th>\n",
       "<th>Alleles</th>\n",
       "<th>Mean NRAF</th>\n",
       "</tr>\n",
       "</thead>\n",
       "<tbody>\n",
       "<tr>\n",
       "<td>True</td>\n",
       "<td>b'SNP'</td>\n",
       "<td>True</td>\n",
       "<td style='text-align: right'>756150</td>\n",
       "<td style='text-align: right'>809200</td>\n",
       "<td style='text-align: right'>0.00785208304896205</td>\n",
       "</tr>\n",
       "<tr>\n",
       "<td>True</td>\n",
       "<td>b'SNP'</td>\n",
       "<td>False</td>\n",
       "<td style='text-align: right'>573179</td>\n",
       "<td style='text-align: right'>604598</td>\n",
       "<td style='text-align: right'>0.009089964304648836</td>\n",
       "</tr>\n",
       "<tr>\n",
       "<td>True</td>\n",
       "<td>b'IND'</td>\n",
       "<td>True</td>\n",
       "<td style='text-align: right'>120367</td>\n",
       "<td style='text-align: right'>263995</td>\n",
       "<td style='text-align: right'>0.020251354354441885</td>\n",
       "</tr>\n",
       "<tr>\n",
       "<td>True</td>\n",
       "<td>b'IND'</td>\n",
       "<td>False</td>\n",
       "<td style='text-align: right'>485537</td>\n",
       "<td style='text-align: right'>995080</td>\n",
       "<td style='text-align: right'>0.027550309483529975</td>\n",
       "</tr>\n",
       "<tr>\n",
       "<td>False</td>\n",
       "<td>b'SNP'</td>\n",
       "<td>True</td>\n",
       "<td style='text-align: right'>496118</td>\n",
       "<td style='text-align: right'>578311</td>\n",
       "<td style='text-align: right'>0.012179819542683986</td>\n",
       "</tr>\n",
       "<tr>\n",
       "<td>False</td>\n",
       "<td>b'SNP'</td>\n",
       "<td>False</td>\n",
       "<td style='text-align: right'>736443</td>\n",
       "<td style='text-align: right'>913732</td>\n",
       "<td style='text-align: right'>0.013960779678370307</td>\n",
       "</tr>\n",
       "<tr>\n",
       "<td>False</td>\n",
       "<td>b'IND'</td>\n",
       "<td>True</td>\n",
       "<td style='text-align: right'>387975</td>\n",
       "<td style='text-align: right'>1170028</td>\n",
       "<td style='text-align: right'>0.018603420295281024</td>\n",
       "</tr>\n",
       "<tr>\n",
       "<td>False</td>\n",
       "<td>b'IND'</td>\n",
       "<td>False</td>\n",
       "<td style='text-align: right'>656990</td>\n",
       "<td style='text-align: right'>1490028</td>\n",
       "<td style='text-align: right'>0.011596675697973416</td>\n",
       "</tr>\n",
       "</tbody>\n",
       "</table>\n"
      ]
     },
     "metadata": {},
     "output_type": "display_data"
    }
   ],
   "source": [
    "headers = ['PASS', 'Type', 'Coding', 'Variants', 'Alleles', 'Mean NRAF']\n",
    "(etl\n",
    " .wrap(simplified_counts_list)\n",
    " .pushheader(headers)\n",
    " .convert('Mean NRAF', float)\n",
    " .convert('Variants', int)\n",
    " .convert('Alleles', int)\n",
    " .displayall()\n",
    ")\n"
   ]
  },
  {
   "cell_type": "code",
   "execution_count": 43,
   "metadata": {
    "collapsed": false
   },
   "outputs": [],
   "source": [
    "headers = ['PASS', 'Type', 'Coding', 'Variants', 'Alleles', 'Mean NRAF']\n",
    "(etl\n",
    " .wrap(simplified_counts_list)\n",
    " .pushheader(headers)\n",
    " .convert('Mean NRAF', float)\n",
    " .convert('Variants', int)\n",
    " .convert('Alleles', int)\n",
    " .toxlsx(simplifed_counts_table_fn)\n",
    ")\n"
   ]
  },
  {
   "cell_type": "code",
   "execution_count": 44,
   "metadata": {
    "collapsed": false
   },
   "outputs": [
    {
     "data": {
      "text/plain": [
       "1935195"
      ]
     },
     "execution_count": 44,
     "metadata": {},
     "output_type": "execute_result"
    }
   ],
   "source": [
    "np.sum(etl\n",
    "       .fromtsv('/nfs/team112_internal/production/release_build/Pf3K/pilot_5_0/passcounts')\n",
    "       .pushheader(('CHROM', 'count'))\n",
    "       .convertnumbers()\n",
    "       .values('count')\n",
    "       .array()\n",
    "       )"
   ]
  },
  {
   "cell_type": "code",
   "execution_count": 45,
   "metadata": {
    "collapsed": false
   },
   "outputs": [
    {
     "data": {
      "text/plain": [
       "4"
      ]
     },
     "execution_count": 45,
     "metadata": {},
     "output_type": "execute_result"
    }
   ],
   "source": [
    "2+2"
   ]
  },
  {
   "cell_type": "code",
   "execution_count": null,
   "metadata": {
    "collapsed": true
   },
   "outputs": [],
   "source": []
  }
 ],
 "metadata": {
  "anaconda-cloud": {},
  "kernelspec": {
   "display_name": "Python [default]",
   "language": "python",
   "name": "python3"
  },
  "language_info": {
   "codemirror_mode": {
    "name": "ipython",
    "version": 3
   },
   "file_extension": ".py",
   "mimetype": "text/x-python",
   "name": "python",
   "nbconvert_exporter": "python",
   "pygments_lexer": "ipython3",
   "version": "3.4.5"
  }
 },
 "nbformat": 4,
 "nbformat_minor": 0
}
