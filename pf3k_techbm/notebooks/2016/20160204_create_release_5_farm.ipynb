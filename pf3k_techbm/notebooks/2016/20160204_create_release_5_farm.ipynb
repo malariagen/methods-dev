{
 "cells": [
  {
   "cell_type": "markdown",
   "metadata": {},
   "source": [
    "# Create pf3k release5\n",
    "\n",
    "This notebook was run from malsrv2\n",
    "\n",
    "This notebook requires the output from notebook 20160120_vqsr_delta_exploration.ipynb (which was run on Richard'd MacBook, and results copied over to malsrv2)"
   ]
  },
  {
   "cell_type": "code",
   "execution_count": 1,
   "metadata": {
    "collapsed": false
   },
   "outputs": [],
   "source": [
    "%run imports.ipynb\n",
    "%run _shared_setup.ipynb"
   ]
  },
  {
   "cell_type": "code",
   "execution_count": 36,
   "metadata": {
    "collapsed": true
   },
   "outputs": [],
   "source": [
    "import stat\n",
    "from sh import ssh\n",
    "farm3 = ssh.bake(\"farm3-login\")\n",
    "bsub = sh.Command('bsub')"
   ]
  },
  {
   "cell_type": "code",
   "execution_count": 2,
   "metadata": {
    "collapsed": false
   },
   "outputs": [],
   "source": [
    "# !apt-get update\n",
    "# !apt-get install tabix"
   ]
  },
  {
   "cell_type": "markdown",
   "metadata": {},
   "source": [
    "# Setup"
   ]
  },
  {
   "cell_type": "code",
   "execution_count": 18,
   "metadata": {
    "collapsed": true
   },
   "outputs": [],
   "source": [
    "release5_intermediate_files_dir = '/nfs/team112_internal/rp7/data/pf3k/release5/intermediate_files'\n",
    "release5_intermediate_files_dir = '/lustre/scratch110/malaria/rp7/data/pf3k/release5/intermediate_files'\n",
    "release5_final_files_dir = '/nfs/team112_internal/production/release_build/Pf3K/pilot_5_0'\n",
    "output_dir = '/nfs/team112_internal/rp7/data/pf3k/analysis/20160204_create_release_5_farm'\n",
    "if not os.path.exists(output_dir + '/scripts'):\n",
    "    os.makedirs(output_dir + '/scripts')"
   ]
  },
  {
   "cell_type": "code",
   "execution_count": 4,
   "metadata": {
    "collapsed": false
   },
   "outputs": [],
   "source": [
    "if not os.path.exists(release5_intermediate_files_dir):\n",
    "    os.makedirs(release5_intermediate_files_dir)\n",
    "if not os.path.exists(os.path.dirname(CHROM_VCF_FNS['release5']['Pf3D7_01_v3'])):\n",
    "    os.makedirs(os.path.dirname(CHROM_VCF_FNS['release5']['Pf3D7_01_v3']))"
   ]
  },
  {
   "cell_type": "code",
   "execution_count": 5,
   "metadata": {
    "collapsed": false
   },
   "outputs": [
    {
     "data": {
      "text/plain": [
       "'/nfs/team112_internal/production/release_build/Pf3K/pilot_5_0/SNP_INDEL_Pf3D7_01_v3.combined.filtered.vcf.gz'"
      ]
     },
     "execution_count": 5,
     "metadata": {},
     "output_type": "execute_result"
    }
   ],
   "source": [
    "CHROM_VCF_FNS['release5']['Pf3D7_01_v3']"
   ]
  },
  {
   "cell_type": "markdown",
   "metadata": {},
   "source": [
    "# Plan\n",
    "- Make SNP and indel files for each chrom using SelectVariants\n",
    "- Add VQSLOD scores to these using ApplyRecalibration with outputs of 20160120_vqsr_delta_exploration.ipynb\n",
    "- Combine SNP and indel files using CombineVariants\n",
    "- Create final filtered versions using VariantFiltration\n",
    "- Merge all chroms using bcftools concat"
   ]
  },
  {
   "cell_type": "code",
   "execution_count": 38,
   "metadata": {
    "collapsed": true
   },
   "outputs": [],
   "source": [
    "GenomeAnalysisTK=\"/software/jre1.7.0_25/bin/java -Xmx4G -jar /nfs/team112_internal/production/tools/bin/gatk/GenomeAnalysisTK-3.5/GenomeAnalysisTK.jar\"\n",
    "bcftools=\"/nfs/team112_internal/production/tools/bin/bcftools_git\""
   ]
  },
  {
   "cell_type": "code",
   "execution_count": 7,
   "metadata": {
    "collapsed": false
   },
   "outputs": [
    {
     "name": "stdout",
     "output_type": "stream",
     "text": [
      "##### ERROR ------------------------------------------------------------------------------------------\r\n",
      "##### ERROR A USER ERROR has occurred (version 3.5-0-g36282e4): \r\n",
      "##### ERROR\r\n",
      "##### ERROR This means that one or more arguments or inputs in your command are incorrect.\r\n",
      "##### ERROR The error message below tells you what is the problem.\r\n",
      "##### ERROR\r\n",
      "##### ERROR If the problem is an invalid argument, please check the online documentation guide\r\n",
      "##### ERROR (or rerun your command with --help) to view allowable command-line arguments for this tool.\r\n",
      "##### ERROR\r\n",
      "##### ERROR Visit our website and forum for extensive documentation and answers to \r\n",
      "##### ERROR commonly asked questions http://www.broadinstitute.org/gatk\r\n",
      "##### ERROR\r\n",
      "##### ERROR Please do NOT post this error to the GATK forum unless you have really tried to fix it yourself.\r\n",
      "##### ERROR\r\n",
      "##### ERROR MESSAGE: Argument with name '--analysis_type' (-T) is missing.\r\n",
      "##### ERROR ------------------------------------------------------------------------------------------\r\n"
     ]
    }
   ],
   "source": [
    "!{GenomeAnalysisTK}"
   ]
  },
  {
   "cell_type": "code",
   "execution_count": 8,
   "metadata": {
    "collapsed": false
   },
   "outputs": [
    {
     "name": "stdout",
     "output_type": "stream",
     "text": [
      "\r\n",
      "Program: bcftools (Tools for variant calling and manipulating VCFs and BCFs)\r\n",
      "Version: 1.1-113-gd991f3f (using htslib 1.1-104-g948a68c)\r\n",
      "\r\n",
      "Usage:   bcftools <command> <argument>\r\n",
      "\r\n",
      "Commands:\r\n",
      "\r\n",
      " -- Indexing\r\n",
      "    index        index VCF/BCF files\r\n",
      "\r\n",
      " -- VCF/BCF manipulation\r\n",
      "    annotate     annotate and edit VCF/BCF files\r\n",
      "    concat       concatenate VCF/BCF files from the same set of samples\r\n",
      "    convert      convert VCF/BCF files to different formats and back\r\n",
      "    isec         intersections of VCF/BCF files\r\n",
      "    merge        merge VCF/BCF files files from non-overlapping sample sets\r\n",
      "    norm         left-align and normalize indels\r\n",
      "    plugin       user-defined plugins\r\n",
      "    query        transform VCF/BCF into user-defined formats\r\n",
      "    reheader     modify VCF/BCF header, change sample names\r\n",
      "    view         VCF/BCF conversion, view, subset and filter VCF/BCF files\r\n",
      "\r\n",
      " -- VCF/BCF analysis\r\n",
      "    call         SNP/indel calling\r\n",
      "    consensus    create consensus sequence by applying VCF variants\r\n",
      "    filter       filter VCF/BCF files using fixed thresholds\r\n",
      "    gtcheck      check sample concordance, detect sample swaps and contamination\r\n",
      "    roh          identify runs of autozygosity (HMM)\r\n",
      "    stats        produce VCF/BCF stats\r\n",
      "\r\n",
      " Most commands accept VCF, bgzipped VCF, and BCF with the file type detected\r\n",
      " automatically even when streaming from a pipe. Indexed VCF and BCF will work\r\n",
      " in all situations. Un-indexed VCF and BCF and streams will work in most but\r\n",
      " not all situations.\r\n",
      "\r\n"
     ]
    }
   ],
   "source": [
    "!{bcftools}"
   ]
  },
  {
   "cell_type": "code",
   "execution_count": 9,
   "metadata": {
    "collapsed": true
   },
   "outputs": [],
   "source": [
    "chroms = CHROM_VCF_FNS['release5'].keys()"
   ]
  },
  {
   "cell_type": "code",
   "execution_count": 14,
   "metadata": {
    "collapsed": false
   },
   "outputs": [
    {
     "data": {
      "text/plain": [
       "['Pf3D7_01_v3',\n",
       " 'Pf3D7_02_v3',\n",
       " 'Pf3D7_03_v3',\n",
       " 'Pf3D7_04_v3',\n",
       " 'Pf3D7_05_v3',\n",
       " 'Pf3D7_06_v3',\n",
       " 'Pf3D7_07_v3',\n",
       " 'Pf3D7_08_v3',\n",
       " 'Pf3D7_09_v3',\n",
       " 'Pf3D7_10_v3']"
      ]
     },
     "execution_count": 14,
     "metadata": {},
     "output_type": "execute_result"
    }
   ],
   "source": [
    "list(chroms)[0:10]"
   ]
  },
  {
   "cell_type": "code",
   "execution_count": null,
   "metadata": {
    "collapsed": false
   },
   "outputs": [
    {
     "name": "stdout",
     "output_type": "stream",
     "text": [
      "INFO  12:12:01,662 HelpFormatter - -------------------------------------------------------------------------------- \n",
      "INFO  12:12:01,668 HelpFormatter - The Genome Analysis Toolkit (GATK) v3.5-0-g36282e4, Compiled 2015/11/25 04:03:56 \n",
      "INFO  12:12:01,669 HelpFormatter - Copyright (c) 2010 The Broad Institute \n",
      "INFO  12:12:01,669 HelpFormatter - For support and documentation go to http://www.broadinstitute.org/gatk \n",
      "INFO  12:12:01,674 HelpFormatter - Program Args: -T SelectVariants -R /lustre/scratch109/malaria/pf3k_methods/resources/Pfalciparum.genome.fasta -V /lustre/scratch109/malaria/pf3k_methods/output/1/f/5/c/394734/1_gatk_variant_filter_gatk3/SNP_INDEL_Pf3D7_01_v3.combined.filtered.vcf.gz -selectType SNP -o /dev/stdout \n",
      "INFO  12:12:01,682 HelpFormatter - Executing as rp7@malsrv2 on Linux 3.2.0-75-generic amd64; Java HotSpot(TM) 64-Bit Server VM 1.7.0_25-b15. \n",
      "INFO  12:12:01,683 HelpFormatter - Date/Time: 2016/02/04 12:12:01 \n",
      "INFO  12:12:01,683 HelpFormatter - -------------------------------------------------------------------------------- \n",
      "INFO  12:12:01,684 HelpFormatter - -------------------------------------------------------------------------------- \n",
      "INFO  12:12:02,187 GenomeAnalysisEngine - Strictness is SILENT \n",
      "INFO  12:12:02,368 GenomeAnalysisEngine - Downsampling Settings: Method: BY_SAMPLE, Target Coverage: 1000 \n",
      "WARN  12:12:02,607 IndexDictionaryUtils - Track variant doesn't have a sequence dictionary built in, skipping dictionary validation \n",
      "INFO  12:12:03,036 GenomeAnalysisEngine - Preparing for traversal \n",
      "INFO  12:12:03,039 GenomeAnalysisEngine - Done preparing for traversal \n",
      "INFO  12:12:03,040 ProgressMeter - [INITIALIZATION COMPLETE; STARTING PROCESSING] \n",
      "INFO  12:12:03,041 ProgressMeter -                 | processed |    time |    per 1M |           |   total | remaining \n",
      "INFO  12:12:03,042 ProgressMeter -        Location |     sites | elapsed |     sites | completed | runtime |   runtime \n",
      "INFO  12:12:33,054 ProgressMeter - Pf3D7_01_v3:5167         0.0    30.0 s      49.6 w        0.0%    37.6 h      37.6 h \n",
      "INFO  12:13:33,056 ProgressMeter - Pf3D7_01_v3:18984         0.0    90.0 s     148.8 w        0.1%    30.7 h      30.7 h \n",
      "INFO  12:14:33,061 ProgressMeter - Pf3D7_01_v3:34726         0.0     2.5 m     248.1 w        0.1%    28.0 h      28.0 h \n"
     ]
    }
   ],
   "source": [
    "# Make SNP and indel files for each chrom using SelectVariants\n",
    "\n",
    "for chrom in chroms:\n",
    "    input_vcf_fn = CHROM_VCF_FNS['interim5'][chrom]\n",
    "    snps_fn = \"%s/snps_%s.vcf.gz\" % (release5_intermediate_files_dir, chrom)\n",
    "    indels_fn = \"%s/indels_%s.vcf.gz\" % (release5_intermediate_files_dir, chrom)\n",
    "    if not os.path.exists(\"%s.tbi\" % input_vcf_fn):\n",
    "        !bcftools index --tbi {input_vcf_fn}\n",
    "    !{GenomeAnalysisTK} \\\n",
    "        -T SelectVariants \\\n",
    "        -R {GENOME_FN} \\\n",
    "        -V {input_vcf_fn} \\\n",
    "        -selectType SNP \\\n",
    "        -o /dev/stdout | bgzip > {snps_fn}\n",
    "    !{bcftools} index --tbi {snps_fn}\n",
    "    !{GenomeAnalysisTK} \\\n",
    "        -T SelectVariants \\\n",
    "        -R {GENOME_FN} \\\n",
    "        -V {input_vcf_fn} \\\n",
    "        -xlSelectType SNP \\\n",
    "        -o /dev/stdout | bgzip > {indels_fn}\n",
    "    !{bcftools} index --tbi {indels_fn}\n"
   ]
  },
  {
   "cell_type": "code",
   "execution_count": 40,
   "metadata": {
    "collapsed": false
   },
   "outputs": [
    {
     "name": "stdout",
     "output_type": "stream",
     "text": [
      "/nfs/team112_internal/rp7/data/pf3k/analysis/20160204_create_release_5_farm/scripts/ApplyRecalibration_INDEL_Pf3D7_08_v3.sh\n"
     ]
    }
   ],
   "source": [
    "tranches_snp_fn = '/lustre/scratch110/malaria/rp7/data/pf3k/interim5/vqsr/no_ranksum_3_5_mqcap70/SNP.tranches'\n",
    "recal_snp_fn = '/lustre/scratch110/malaria/rp7/data/pf3k/interim5/vqsr/no_ranksum_3_5_mqcap70/SNP.recal'\n",
    "tranches_indel_fn = '/lustre/scratch110/malaria/rp7/data/pf3k/interim5/vqsr/gatk_rec_indel/INDEL.tranches'\n",
    "recal_indel_fn = '/lustre/scratch110/malaria/rp7/data/pf3k/interim5/vqsr/gatk_rec_indel/INDEL.recal'\n",
    "\n",
    "for chrom in chroms:\n",
    "    snps_fn = \"%s/snps_%s.vcf.gz\" % (release5_intermediate_files_dir, chrom)\n",
    "    indels_fn = \"%s/indels_%s.vcf.gz\" % (release5_intermediate_files_dir, chrom)\n",
    "    snps_recalibrated_fn = \"%s/snps_recalibrated_%s.vcf.gz\" % (release5_intermediate_files_dir, chrom)\n",
    "    indels_recalibrated_fn = \"%s/indels_recalibrated_%s.vcf.gz\" % (release5_intermediate_files_dir, chrom)\n",
    "    \n",
    "    if not os.path.exists(snps_recalibrated_fn):\n",
    "        script_fn = \"%s/scripts/ApplyRecalibration_SNP_%s.sh\" % (output_dir, chrom)\n",
    "        fo = open(script_fn, 'w')\n",
    "        print(script_fn)\n",
    "        print('''\\\n",
    "%s \\\n",
    "-T ApplyRecalibration \\\n",
    "-R %s \\\n",
    "-input %s \\\n",
    "-tranchesFile %s \\\n",
    "-recalFile %s \\\n",
    "--ts_filter_level 99.5 \\\n",
    "-mode SNP \\\n",
    "--ignore_all_filters \\\n",
    "-o /dev/stdout | bgzip > %s\n",
    "''' % (\n",
    "                GenomeAnalysisTK,\n",
    "                GENOME_FN,\n",
    "                snps_fn,\n",
    "                tranches_snp_fn,\n",
    "                recal_snp_fn,\n",
    "                snps_recalibrated_fn\n",
    "            ),\n",
    "            file = fo\n",
    "        )\n",
    "        fo.close()\n",
    "        st = os.stat(script_fn)\n",
    "        os.chmod(script_fn, st.st_mode | stat.S_IEXEC)\n",
    "#         farm3.bsub(\n",
    "        bsub(\n",
    "            '-G', 'malaria-dk',\n",
    "            '-P', 'malaria-dk',\n",
    "            '-q', 'normal',\n",
    "            '-o', '%s/%s_SNP.out' % (output_dir, chrom),\n",
    "            '-e', '%s/%s_SNP.err' % (output_dir, chrom),\n",
    "            '-J', '%s_SNP' % (chrom),\n",
    "            '-R', \"'select[mem>8000] rusage[mem=8000]'\",\n",
    "            '-M', '8000',\n",
    "            script_fn)\n",
    "\n",
    "    if not os.path.exists(indels_recalibrated_fn):\n",
    "        script_fn = \"%s/scripts/ApplyRecalibration_INDEL_%s.sh\" % (output_dir, chrom)\n",
    "        fo = open(script_fn, 'w')\n",
    "        print(script_fn)\n",
    "        print('''\\\n",
    "%s \\\n",
    "-T ApplyRecalibration \\\n",
    "-R %s \\\n",
    "-input %s \\\n",
    "-tranchesFile %s \\\n",
    "-recalFile %s \\\n",
    "--ts_filter_level 99.0 \\\n",
    "-mode INDEL \\\n",
    "--ignore_all_filters \\\n",
    "-o /dev/stdout | bgzip > %s\n",
    "''' % (\n",
    "                GenomeAnalysisTK,\n",
    "                GENOME_FN,\n",
    "                indels_fn,\n",
    "                tranches_indel_fn,\n",
    "                recal_indel_fn,\n",
    "                indels_recalibrated_fn\n",
    "            ),\n",
    "            file = fo\n",
    "        )\n",
    "        fo.close()\n",
    "        st = os.stat(script_fn)\n",
    "        os.chmod(script_fn, st.st_mode | stat.S_IEXEC)\n",
    "#         farm3.bsub(\n",
    "        bsub(\n",
    "            '-G', 'malaria-dk',\n",
    "            '-P', 'malaria-dk',\n",
    "            '-q', 'normal',\n",
    "            '-o', '%s/%s_INDEL.out' % (output_dir, chrom),\n",
    "            '-e', '%s/%s_INDEL.err' % (output_dir, chrom),\n",
    "            '-J', '%s_IND' % (chrom),\n",
    "            '-R', \"'select[mem>8000] rusage[mem=8000]'\",\n",
    "            '-M', '8000',\n",
    "            script_fn)\n"
   ]
  },
  {
   "cell_type": "code",
   "execution_count": 41,
   "metadata": {
    "collapsed": false
   },
   "outputs": [
    {
     "name": "stdout",
     "output_type": "stream",
     "text": [
      "/nfs/team112_internal/rp7/data/pf3k/analysis/20160204_create_release_5_farm/scripts/index_ApplyRecalibration_SNP_Pf3D7_01_v3.sh\n",
      "/nfs/team112_internal/rp7/data/pf3k/analysis/20160204_create_release_5_farm/scripts/index_ApplyRecalibration_INDEL_Pf3D7_01_v3.sh\n",
      "/nfs/team112_internal/rp7/data/pf3k/analysis/20160204_create_release_5_farm/scripts/index_ApplyRecalibration_SNP_Pf3D7_02_v3.sh\n",
      "/nfs/team112_internal/rp7/data/pf3k/analysis/20160204_create_release_5_farm/scripts/index_ApplyRecalibration_INDEL_Pf3D7_02_v3.sh\n",
      "/nfs/team112_internal/rp7/data/pf3k/analysis/20160204_create_release_5_farm/scripts/index_ApplyRecalibration_SNP_Pf3D7_03_v3.sh\n",
      "/nfs/team112_internal/rp7/data/pf3k/analysis/20160204_create_release_5_farm/scripts/index_ApplyRecalibration_INDEL_Pf3D7_03_v3.sh\n",
      "/nfs/team112_internal/rp7/data/pf3k/analysis/20160204_create_release_5_farm/scripts/index_ApplyRecalibration_SNP_Pf3D7_04_v3.sh\n",
      "/nfs/team112_internal/rp7/data/pf3k/analysis/20160204_create_release_5_farm/scripts/index_ApplyRecalibration_INDEL_Pf3D7_04_v3.sh\n",
      "/nfs/team112_internal/rp7/data/pf3k/analysis/20160204_create_release_5_farm/scripts/index_ApplyRecalibration_SNP_Pf3D7_05_v3.sh\n",
      "/nfs/team112_internal/rp7/data/pf3k/analysis/20160204_create_release_5_farm/scripts/index_ApplyRecalibration_INDEL_Pf3D7_05_v3.sh\n",
      "/nfs/team112_internal/rp7/data/pf3k/analysis/20160204_create_release_5_farm/scripts/index_ApplyRecalibration_SNP_Pf3D7_06_v3.sh\n",
      "/nfs/team112_internal/rp7/data/pf3k/analysis/20160204_create_release_5_farm/scripts/index_ApplyRecalibration_INDEL_Pf3D7_06_v3.sh\n",
      "/nfs/team112_internal/rp7/data/pf3k/analysis/20160204_create_release_5_farm/scripts/index_ApplyRecalibration_SNP_Pf3D7_07_v3.sh\n",
      "/nfs/team112_internal/rp7/data/pf3k/analysis/20160204_create_release_5_farm/scripts/index_ApplyRecalibration_INDEL_Pf3D7_07_v3.sh\n",
      "/nfs/team112_internal/rp7/data/pf3k/analysis/20160204_create_release_5_farm/scripts/index_ApplyRecalibration_SNP_Pf3D7_08_v3.sh\n",
      "/nfs/team112_internal/rp7/data/pf3k/analysis/20160204_create_release_5_farm/scripts/index_ApplyRecalibration_INDEL_Pf3D7_08_v3.sh\n",
      "/nfs/team112_internal/rp7/data/pf3k/analysis/20160204_create_release_5_farm/scripts/index_ApplyRecalibration_SNP_Pf3D7_09_v3.sh\n",
      "/nfs/team112_internal/rp7/data/pf3k/analysis/20160204_create_release_5_farm/scripts/index_ApplyRecalibration_INDEL_Pf3D7_09_v3.sh\n",
      "/nfs/team112_internal/rp7/data/pf3k/analysis/20160204_create_release_5_farm/scripts/index_ApplyRecalibration_SNP_Pf3D7_10_v3.sh\n",
      "/nfs/team112_internal/rp7/data/pf3k/analysis/20160204_create_release_5_farm/scripts/index_ApplyRecalibration_INDEL_Pf3D7_10_v3.sh\n",
      "/nfs/team112_internal/rp7/data/pf3k/analysis/20160204_create_release_5_farm/scripts/index_ApplyRecalibration_SNP_Pf3D7_11_v3.sh\n",
      "/nfs/team112_internal/rp7/data/pf3k/analysis/20160204_create_release_5_farm/scripts/index_ApplyRecalibration_INDEL_Pf3D7_11_v3.sh\n",
      "/nfs/team112_internal/rp7/data/pf3k/analysis/20160204_create_release_5_farm/scripts/index_ApplyRecalibration_SNP_Pf3D7_12_v3.sh\n",
      "/nfs/team112_internal/rp7/data/pf3k/analysis/20160204_create_release_5_farm/scripts/index_ApplyRecalibration_INDEL_Pf3D7_12_v3.sh\n",
      "/nfs/team112_internal/rp7/data/pf3k/analysis/20160204_create_release_5_farm/scripts/index_ApplyRecalibration_SNP_Pf3D7_13_v3.sh\n",
      "/nfs/team112_internal/rp7/data/pf3k/analysis/20160204_create_release_5_farm/scripts/index_ApplyRecalibration_INDEL_Pf3D7_13_v3.sh\n",
      "/nfs/team112_internal/rp7/data/pf3k/analysis/20160204_create_release_5_farm/scripts/index_ApplyRecalibration_SNP_Pf3D7_14_v3.sh\n",
      "/nfs/team112_internal/rp7/data/pf3k/analysis/20160204_create_release_5_farm/scripts/index_ApplyRecalibration_INDEL_Pf3D7_14_v3.sh\n",
      "/nfs/team112_internal/rp7/data/pf3k/analysis/20160204_create_release_5_farm/scripts/index_ApplyRecalibration_SNP_Pf3D7_API_v3.sh\n",
      "/nfs/team112_internal/rp7/data/pf3k/analysis/20160204_create_release_5_farm/scripts/index_ApplyRecalibration_INDEL_Pf3D7_API_v3.sh\n",
      "/nfs/team112_internal/rp7/data/pf3k/analysis/20160204_create_release_5_farm/scripts/index_ApplyRecalibration_SNP_Pf_M76611.sh\n",
      "/nfs/team112_internal/rp7/data/pf3k/analysis/20160204_create_release_5_farm/scripts/index_ApplyRecalibration_INDEL_Pf_M76611.sh\n"
     ]
    }
   ],
   "source": [
    "for chrom in chroms:\n",
    "    snps_recalibrated_fn = \"%s/snps_recalibrated_%s.vcf.gz\" % (release5_intermediate_files_dir, chrom)\n",
    "    indels_recalibrated_fn = \"%s/indels_recalibrated_%s.vcf.gz\" % (release5_intermediate_files_dir, chrom)\n",
    "    \n",
    "    if not os.path.exists(\"%s.tbi\" % snps_recalibrated_fn):\n",
    "        script_fn = \"%s/scripts/index_ApplyRecalibration_SNP_%s.sh\" % (output_dir, chrom)\n",
    "        fo = open(script_fn, 'w')\n",
    "        print(script_fn)\n",
    "        print('%s index --tbi %s' % (bcftools, snps_recalibrated_fn), file = fo)\n",
    "        fo.close()\n",
    "        st = os.stat(script_fn)\n",
    "        os.chmod(script_fn, st.st_mode | stat.S_IEXEC)\n",
    "        bsub(\n",
    "            '-G', 'malaria-dk',\n",
    "            '-P', 'malaria-dk',\n",
    "            '-q', 'normal',\n",
    "            '-o', '%s/iAR_%s_SNP.out' % (output_dir, chrom),\n",
    "            '-e', '%s/iAR_%s_SNP.err' % (output_dir, chrom),\n",
    "            '-J', 'iAR_%s_SNP' % (chrom),\n",
    "            '-R', \"'select[mem>4000] rusage[mem=4000]'\",\n",
    "            '-M', '4000',\n",
    "            script_fn)\n",
    "\n",
    "    if not os.path.exists(\"%s.tbi\" % indels_recalibrated_fn):\n",
    "        script_fn = \"%s/scripts/index_ApplyRecalibration_INDEL_%s.sh\" % (output_dir, chrom)\n",
    "        fo = open(script_fn, 'w')\n",
    "        print(script_fn)\n",
    "        print('%s index --tbi %s' % (bcftools, indels_recalibrated_fn), file = fo)\n",
    "        fo.close()\n",
    "        st = os.stat(script_fn)\n",
    "        os.chmod(script_fn, st.st_mode | stat.S_IEXEC)\n",
    "        bsub(\n",
    "            '-G', 'malaria-dk',\n",
    "            '-P', 'malaria-dk',\n",
    "            '-q', 'normal',\n",
    "            '-o', '%s/iAR_%s_IND.out' % (output_dir, chrom),\n",
    "            '-e', '%s/iAR_%s_IND.err' % (output_dir, chrom),\n",
    "            '-J', 'iAR_%s_IND' % (chrom),\n",
    "            '-R', \"'select[mem>4000] rusage[mem=4000]'\",\n",
    "            '-M', '4000',\n",
    "            script_fn)\n",
    "\n"
   ]
  },
  {
   "cell_type": "code",
   "execution_count": 46,
   "metadata": {
    "collapsed": false
   },
   "outputs": [
    {
     "name": "stdout",
     "output_type": "stream",
     "text": [
      "/nfs/team112_internal/rp7/data/pf3k/analysis/20160204_create_release_5_farm/scripts/CombineVariants_Pf3D7_01_v3.sh\n",
      "/nfs/team112_internal/rp7/data/pf3k/analysis/20160204_create_release_5_farm/scripts/CombineVariants_Pf3D7_02_v3.sh\n",
      "/nfs/team112_internal/rp7/data/pf3k/analysis/20160204_create_release_5_farm/scripts/CombineVariants_Pf3D7_03_v3.sh\n",
      "/nfs/team112_internal/rp7/data/pf3k/analysis/20160204_create_release_5_farm/scripts/CombineVariants_Pf3D7_04_v3.sh\n",
      "/nfs/team112_internal/rp7/data/pf3k/analysis/20160204_create_release_5_farm/scripts/CombineVariants_Pf3D7_05_v3.sh\n",
      "/nfs/team112_internal/rp7/data/pf3k/analysis/20160204_create_release_5_farm/scripts/CombineVariants_Pf3D7_06_v3.sh\n",
      "/nfs/team112_internal/rp7/data/pf3k/analysis/20160204_create_release_5_farm/scripts/CombineVariants_Pf3D7_07_v3.sh\n",
      "/nfs/team112_internal/rp7/data/pf3k/analysis/20160204_create_release_5_farm/scripts/CombineVariants_Pf3D7_08_v3.sh\n",
      "/nfs/team112_internal/rp7/data/pf3k/analysis/20160204_create_release_5_farm/scripts/CombineVariants_Pf3D7_09_v3.sh\n",
      "/nfs/team112_internal/rp7/data/pf3k/analysis/20160204_create_release_5_farm/scripts/CombineVariants_Pf3D7_10_v3.sh\n",
      "/nfs/team112_internal/rp7/data/pf3k/analysis/20160204_create_release_5_farm/scripts/CombineVariants_Pf3D7_11_v3.sh\n",
      "/nfs/team112_internal/rp7/data/pf3k/analysis/20160204_create_release_5_farm/scripts/CombineVariants_Pf3D7_12_v3.sh\n",
      "/nfs/team112_internal/rp7/data/pf3k/analysis/20160204_create_release_5_farm/scripts/CombineVariants_Pf3D7_13_v3.sh\n",
      "/nfs/team112_internal/rp7/data/pf3k/analysis/20160204_create_release_5_farm/scripts/CombineVariants_Pf3D7_14_v3.sh\n",
      "/nfs/team112_internal/rp7/data/pf3k/analysis/20160204_create_release_5_farm/scripts/CombineVariants_Pf3D7_API_v3.sh\n",
      "/nfs/team112_internal/rp7/data/pf3k/analysis/20160204_create_release_5_farm/scripts/CombineVariants_Pf_M76611.sh\n"
     ]
    }
   ],
   "source": [
    "for chrom in chroms:\n",
    "    snps_recalibrated_fn = \"%s/snps_recalibrated_%s.vcf.gz\" % (release5_intermediate_files_dir, chrom)\n",
    "    indels_recalibrated_fn = \"%s/indels_recalibrated_%s.vcf.gz\" % (release5_intermediate_files_dir, chrom)\n",
    "    combined_recalibrated_fn = \"%s/snps_indels_recalibrated_%s.vcf.gz\" % (release5_intermediate_files_dir, chrom)\n",
    "    \n",
    "    if not os.path.exists(combined_recalibrated_fn):\n",
    "        script_fn = \"%s/scripts/CombineVariants_%s.sh\" % (output_dir, chrom)\n",
    "        fo = open(script_fn, 'w')\n",
    "        print(script_fn)\n",
    "        print('''\\\n",
    "%s \\\n",
    "-T CombineVariants \\\n",
    "-R %s \\\n",
    "--variant:snp %s \\\n",
    "--variant:indel %s \\\n",
    "-genotypeMergeOptions PRIORITIZE \\\n",
    "-priority snp,indel \\\n",
    "-o /dev/stdout | bgzip > %s\n",
    "\n",
    "%s index --tbi %s\n",
    "''' % (\n",
    "                GenomeAnalysisTK,\n",
    "                GENOME_FN,\n",
    "                snps_recalibrated_fn,\n",
    "                indels_recalibrated_fn,\n",
    "                combined_recalibrated_fn,\n",
    "                bcftools,\n",
    "                combined_recalibrated_fn\n",
    "            ),\n",
    "            file = fo\n",
    "        )\n",
    "        fo.close()\n",
    "        st = os.stat(script_fn)\n",
    "        os.chmod(script_fn, st.st_mode | stat.S_IEXEC)\n",
    "        bsub(\n",
    "            '-G', 'malaria-dk',\n",
    "            '-P', 'malaria-dk',\n",
    "            '-q', 'normal',\n",
    "            '-o', '%s/CV_%s_SNP.out' % (output_dir, chrom),\n",
    "            '-e', '%s/CV_%s_SNP.err' % (output_dir, chrom),\n",
    "            '-J', 'CV_%s_SNP' % (chrom),\n",
    "            '-R', \"'select[mem>8000] rusage[mem=8000]'\",\n",
    "            '-M', '8000',\n",
    "            script_fn)\n"
   ]
  },
  {
   "cell_type": "code",
   "execution_count": 46,
   "metadata": {
    "collapsed": false
   },
   "outputs": [
    {
     "name": "stdout",
     "output_type": "stream",
     "text": [
      "/nfs/team112_internal/rp7/data/pf3k/analysis/20160204_create_release_5_farm/scripts/CombineVariants_Pf3D7_01_v3.sh\n",
      "/nfs/team112_internal/rp7/data/pf3k/analysis/20160204_create_release_5_farm/scripts/CombineVariants_Pf3D7_02_v3.sh\n",
      "/nfs/team112_internal/rp7/data/pf3k/analysis/20160204_create_release_5_farm/scripts/CombineVariants_Pf3D7_03_v3.sh\n",
      "/nfs/team112_internal/rp7/data/pf3k/analysis/20160204_create_release_5_farm/scripts/CombineVariants_Pf3D7_04_v3.sh\n",
      "/nfs/team112_internal/rp7/data/pf3k/analysis/20160204_create_release_5_farm/scripts/CombineVariants_Pf3D7_05_v3.sh\n",
      "/nfs/team112_internal/rp7/data/pf3k/analysis/20160204_create_release_5_farm/scripts/CombineVariants_Pf3D7_06_v3.sh\n",
      "/nfs/team112_internal/rp7/data/pf3k/analysis/20160204_create_release_5_farm/scripts/CombineVariants_Pf3D7_07_v3.sh\n",
      "/nfs/team112_internal/rp7/data/pf3k/analysis/20160204_create_release_5_farm/scripts/CombineVariants_Pf3D7_08_v3.sh\n",
      "/nfs/team112_internal/rp7/data/pf3k/analysis/20160204_create_release_5_farm/scripts/CombineVariants_Pf3D7_09_v3.sh\n",
      "/nfs/team112_internal/rp7/data/pf3k/analysis/20160204_create_release_5_farm/scripts/CombineVariants_Pf3D7_10_v3.sh\n",
      "/nfs/team112_internal/rp7/data/pf3k/analysis/20160204_create_release_5_farm/scripts/CombineVariants_Pf3D7_11_v3.sh\n",
      "/nfs/team112_internal/rp7/data/pf3k/analysis/20160204_create_release_5_farm/scripts/CombineVariants_Pf3D7_12_v3.sh\n",
      "/nfs/team112_internal/rp7/data/pf3k/analysis/20160204_create_release_5_farm/scripts/CombineVariants_Pf3D7_13_v3.sh\n",
      "/nfs/team112_internal/rp7/data/pf3k/analysis/20160204_create_release_5_farm/scripts/CombineVariants_Pf3D7_14_v3.sh\n",
      "/nfs/team112_internal/rp7/data/pf3k/analysis/20160204_create_release_5_farm/scripts/CombineVariants_Pf3D7_API_v3.sh\n",
      "/nfs/team112_internal/rp7/data/pf3k/analysis/20160204_create_release_5_farm/scripts/CombineVariants_Pf_M76611.sh\n"
     ]
    }
   ],
   "source": [
    "for chrom in chroms:\n",
    "    snps_recalibrated_fn = \"%s/snps_recalibrated_%s.vcf.gz\" % (release5_intermediate_files_dir, chrom)\n",
    "    indels_recalibrated_fn = \"%s/indels_recalibrated_%s.vcf.gz\" % (release5_intermediate_files_dir, chrom)\n",
    "    combined_recalibrated_fn = \"%s/snps_indels_recalibrated_%s.vcf.gz\" % (release5_intermediate_files_dir, chrom)\n",
    "    \n",
    "    if not os.path.exists(combined_recalibrated_fn):\n",
    "        script_fn = \"%s/scripts/CombineVariants_%s.sh\" % (output_dir, chrom)\n",
    "        fo = open(script_fn, 'w')\n",
    "        print(script_fn)\n",
    "        print('''\\\n",
    "%s \\\n",
    "-T CombineVariants \\\n",
    "-R %s \\\n",
    "--variant:snp %s \\\n",
    "--variant:indel %s \\\n",
    "-genotypeMergeOptions PRIORITIZE \\\n",
    "-priority snp,indel \\\n",
    "-o /dev/stdout | bgzip > %s\n",
    "\n",
    "%s index --tbi %s\n",
    "''' % (\n",
    "                GenomeAnalysisTK,\n",
    "                GENOME_FN,\n",
    "                snps_recalibrated_fn,\n",
    "                indels_recalibrated_fn,\n",
    "                combined_recalibrated_fn,\n",
    "                bcftools,\n",
    "                combined_recalibrated_fn\n",
    "            ),\n",
    "            file = fo\n",
    "        )\n",
    "        fo.close()\n",
    "        st = os.stat(script_fn)\n",
    "        os.chmod(script_fn, st.st_mode | stat.S_IEXEC)\n",
    "        bsub(\n",
    "            '-G', 'malaria-dk',\n",
    "            '-P', 'malaria-dk',\n",
    "            '-q', 'normal',\n",
    "            '-o', '%s/CV_%s_SNP.out' % (output_dir, chrom),\n",
    "            '-e', '%s/CV_%s_SNP.err' % (output_dir, chrom),\n",
    "            '-J', 'CV_%s_SNP' % (chrom),\n",
    "            '-R', \"'select[mem>8000] rusage[mem=8000]'\",\n",
    "            '-M', '8000',\n",
    "            script_fn)\n"
   ]
  },
  {
   "cell_type": "code",
   "execution_count": 52,
   "metadata": {
    "collapsed": false
   },
   "outputs": [
    {
     "name": "stdout",
     "output_type": "stream",
     "text": [
      "/nfs/team112_internal/rp7/data/pf3k/analysis/20160204_create_release_5_farm/scripts/VariantFiltration_Pf3D7_06_v3.sh\n",
      "/nfs/team112_internal/rp7/data/pf3k/analysis/20160204_create_release_5_farm/scripts/VariantFiltration_Pf3D7_07_v3.sh\n",
      "/nfs/team112_internal/rp7/data/pf3k/analysis/20160204_create_release_5_farm/scripts/VariantFiltration_Pf3D7_08_v3.sh\n",
      "/nfs/team112_internal/rp7/data/pf3k/analysis/20160204_create_release_5_farm/scripts/VariantFiltration_Pf3D7_09_v3.sh\n",
      "/nfs/team112_internal/rp7/data/pf3k/analysis/20160204_create_release_5_farm/scripts/VariantFiltration_Pf3D7_10_v3.sh\n",
      "/nfs/team112_internal/rp7/data/pf3k/analysis/20160204_create_release_5_farm/scripts/VariantFiltration_Pf3D7_11_v3.sh\n",
      "/nfs/team112_internal/rp7/data/pf3k/analysis/20160204_create_release_5_farm/scripts/VariantFiltration_Pf3D7_12_v3.sh\n",
      "/nfs/team112_internal/rp7/data/pf3k/analysis/20160204_create_release_5_farm/scripts/VariantFiltration_Pf3D7_13_v3.sh\n",
      "/nfs/team112_internal/rp7/data/pf3k/analysis/20160204_create_release_5_farm/scripts/VariantFiltration_Pf3D7_14_v3.sh\n"
     ]
    }
   ],
   "source": [
    "# Note that unlike previous run, this time we are fixing AD Number=R in the header\n",
    "# for chrom in ['Pf_M76611', 'Pf3D7_API_v3']:\n",
    "# for chrom in ['Pf3D7_%02d_v3' % n for n in range(1,6)]:\n",
    "for chrom in chroms:\n",
    "    combined_recalibrated_fn = \"%s/snps_indels_recalibrated_%s.vcf.gz\" % (release5_intermediate_files_dir, chrom)\n",
    "    combined_filtered_fn = \"%s/SNP_INDEL_%s.combined.filtered.vcf.gz\" % (release5_final_files_dir, chrom)\n",
    "\n",
    "    if not os.path.exists(combined_filtered_fn):\n",
    "        script_fn = \"%s/scripts/VariantFiltration_%s.sh\" % (output_dir, chrom)\n",
    "        fo = open(script_fn, 'w')\n",
    "        print(script_fn)\n",
    "        print('''\\\n",
    "%s \\\n",
    "-T VariantFiltration \\\n",
    "-R %s \\\n",
    "--variant %s \\\n",
    "--filterName \"Low_VQSLOD\" --filterExpression \"VQSLOD<=0.0\" \\\n",
    "--filterName \"Centromere\" --filterExpression \"RegionType=='Centromere'\" \\\n",
    "--filterName \"InternalHypervariable\" --filterExpression \"RegionType=='InternalHypervariable'\" \\\n",
    "--filterName \"SubtelomericHypervariable\" --filterExpression \"RegionType=='SubtelomericHypervariable'\" \\\n",
    "--filterName \"SubtelomericRepeat\" --filterExpression \"RegionType=='SubtelomericRepeat'\" \\\n",
    "--invalidatePreviousFilters \\\n",
    "-o /dev/stdout | sed 's/##FORMAT=<ID=AD,Number=./##FORMAT=<ID=AD,Number=R/' | bgzip > %s\n",
    "\n",
    "%s index --tbi %s\n",
    "''' % (\n",
    "                GenomeAnalysisTK,\n",
    "                GENOME_FN,\n",
    "                combined_recalibrated_fn,\n",
    "                combined_filtered_fn,\n",
    "                bcftools,\n",
    "                combined_filtered_fn\n",
    "            ),\n",
    "            file = fo\n",
    "        )\n",
    "        fo.close()\n",
    "        st = os.stat(script_fn)\n",
    "        os.chmod(script_fn, st.st_mode | stat.S_IEXEC)\n",
    "        bsub(\n",
    "            '-G', 'malaria-dk',\n",
    "            '-P', 'malaria-dk',\n",
    "            '-q', 'normal',\n",
    "            '-o', '%s/VF_%s_SNP.out' % (output_dir, chrom),\n",
    "            '-e', '%s/VF_%s_SNP.err' % (output_dir, chrom),\n",
    "            '-J', 'VF_%s_SNP' % (chrom),\n",
    "            '-R', \"'select[mem>8000] rusage[mem=8000]'\",\n",
    "            '-M', '8000',\n",
    "            script_fn)\n",
    "\n",
    "#         !GenomeAnalysisTK \\\n",
    "#             -T  \\\n",
    "#             -R {GENOME_FN} \\\n",
    "#             --variant {combined_recalibrated_fn} \\\n",
    "#             --filterName \"Low_VQSLOD\" --filterExpression \"VQSLOD<=0.0\" \\\n",
    "#             --filterName \"Centromere\" --filterExpression \"RegionType=='Centromere'\" \\\n",
    "#             --filterName \"InternalHypervariable\" --filterExpression \"RegionType=='InternalHypervariable'\" \\\n",
    "#             --filterName \"SubtelomericHypervariable\" --filterExpression \"RegionType=='SubtelomericHypervariable'\" \\\n",
    "#             --filterName \"SubtelomericRepeat\" --filterExpression \"RegionType=='SubtelomericRepeat'\" \\\n",
    "#             --invalidatePreviousFilters \\\n",
    "#             -o /dev/stdout | bgzip > {combined_filtered_fn}\n",
    "\n",
    "#     if not os.path.exists(\"%s.tbi\" % combined_filtered_fn):\n",
    "#         !bcftools index --tbi {combined_filtered_fn}\n"
   ]
  },
  {
   "cell_type": "code",
   "execution_count": 54,
   "metadata": {
    "collapsed": false
   },
   "outputs": [
    {
     "name": "stdout",
     "output_type": "stream",
     "text": [
      "LD_LIBRARY_PATH: Undefined variable.\n",
      "sending incremental file list\n",
      "SNP_INDEL_Pf3D7_01_v3.combined.filtered.vcf.gz\n",
      "SNP_INDEL_Pf3D7_01_v3.combined.filtered.vcf.gz.tbi\n",
      "SNP_INDEL_Pf3D7_02_v3.combined.filtered.vcf.gz\n",
      "SNP_INDEL_Pf3D7_02_v3.combined.filtered.vcf.gz.tbi\n",
      "SNP_INDEL_Pf3D7_03_v3.combined.filtered.vcf.gz\n",
      "SNP_INDEL_Pf3D7_03_v3.combined.filtered.vcf.gz.tbi\n",
      "SNP_INDEL_Pf3D7_04_v3.combined.filtered.vcf.gz\n",
      "SNP_INDEL_Pf3D7_04_v3.combined.filtered.vcf.gz.tbi\n",
      "SNP_INDEL_Pf3D7_05_v3.combined.filtered.vcf.gz\n",
      "SNP_INDEL_Pf3D7_05_v3.combined.filtered.vcf.gz.tbi\n",
      "SNP_INDEL_Pf3D7_06_v3.combined.filtered.vcf.gz\n",
      "SNP_INDEL_Pf3D7_06_v3.combined.filtered.vcf.gz.tbi\n",
      "SNP_INDEL_Pf3D7_07_v3.combined.filtered.vcf.gz\n",
      "SNP_INDEL_Pf3D7_07_v3.combined.filtered.vcf.gz.tbi\n",
      "SNP_INDEL_Pf3D7_08_v3.combined.filtered.vcf.gz\n",
      "SNP_INDEL_Pf3D7_08_v3.combined.filtered.vcf.gz.tbi\n",
      "SNP_INDEL_Pf3D7_09_v3.combined.filtered.vcf.gz\n",
      "SNP_INDEL_Pf3D7_09_v3.combined.filtered.vcf.gz.tbi\n",
      "SNP_INDEL_Pf3D7_10_v3.combined.filtered.vcf.gz\n",
      "SNP_INDEL_Pf3D7_10_v3.combined.filtered.vcf.gz.tbi\n",
      "SNP_INDEL_Pf3D7_11_v3.combined.filtered.vcf.gz\n",
      "SNP_INDEL_Pf3D7_11_v3.combined.filtered.vcf.gz.tbi\n",
      "SNP_INDEL_Pf3D7_12_v3.combined.filtered.vcf.gz\n",
      "SNP_INDEL_Pf3D7_12_v3.combined.filtered.vcf.gz.tbi\n",
      "SNP_INDEL_Pf3D7_13_v3.combined.filtered.vcf.gz\n",
      "SNP_INDEL_Pf3D7_13_v3.combined.filtered.vcf.gz.tbi\n",
      "SNP_INDEL_Pf3D7_14_v3.combined.filtered.vcf.gz\n",
      "SNP_INDEL_Pf3D7_14_v3.combined.filtered.vcf.gz.tbi\n",
      "SNP_INDEL_Pf3D7_API_v3.combined.filtered.vcf.gz\n",
      "SNP_INDEL_Pf3D7_API_v3.combined.filtered.vcf.gz.tbi\n",
      "SNP_INDEL_Pf_M76611.combined.filtered.vcf.gz\n",
      "SNP_INDEL_Pf_M76611.combined.filtered.vcf.gz.tbi\n",
      "\n",
      "sent 71104520009 bytes  received 620 bytes  23097131.92 bytes/sec\n",
      "total size is 71095839050  speedup is 1.00\n"
     ]
    }
   ],
   "source": [
    "# Copy these to external ftp site\n",
    "!rsync -av /nfs/team112_internal/production/release_build/Pf3K/pilot_5_0/SNP* \\\n",
    "web-bfint:/data/production/pf3k/release_5/5.1/"
   ]
  },
  {
   "cell_type": "code",
   "execution_count": 48,
   "metadata": {
    "collapsed": false
   },
   "outputs": [
    {
     "name": "stdout",
     "output_type": "stream",
     "text": [
      "1041\n",
      "0\n",
      "3935\n",
      "2303\n"
     ]
    }
   ],
   "source": [
    "# sanity check\n",
    "combined_filtered_fn = \"%s/SNP_INDEL_%s.combined.filtered.vcf.gz\" % (release5_final_files_dir, 'Pf_M76611')\n",
    "!zgrep -v '^#' {combined_filtered_fn} | wc -l\n",
    "!zgrep -v '^#' {combined_filtered_fn} | grep PASS | wc -l\n",
    "combined_filtered_fn = \"%s/SNP_INDEL_%s.combined.filtered.vcf.gz\" % (release5_final_files_dir, 'Pf3D7_API_v3')\n",
    "!zgrep -v '^#' {combined_filtered_fn} | wc -l\n",
    "!zgrep -v '^#' {combined_filtered_fn} | grep PASS | wc -l\n"
   ]
  },
  {
   "cell_type": "code",
   "execution_count": 51,
   "metadata": {
    "collapsed": false
   },
   "outputs": [
    {
     "name": "stdout",
     "output_type": "stream",
     "text": [
      "159946\n",
      "45117\n"
     ]
    }
   ],
   "source": [
    "# Sanity check on chr1. 20160205_release5_expected_variants.ipynb gives estimate of 22837+19672 = 42509 PASS variants\n",
    "# but this is an underestimate due to is_snp bug in vcfnp\n",
    "combined_filtered_fn = \"%s/SNP_INDEL_%s.combined.filtered.vcf.gz\" % (release5_final_files_dir, 'Pf3D7_01_v3')\n",
    "!zgrep -v '^#' {combined_filtered_fn} | wc -l\n",
    "!zgrep -v '^#' {combined_filtered_fn} | grep PASS | wc -l\n"
   ]
  },
  {
   "cell_type": "code",
   "execution_count": 53,
   "metadata": {
    "collapsed": false
   },
   "outputs": [
    {
     "name": "stdout",
     "output_type": "stream",
     "text": [
      "196674\n",
      "115681\n"
     ]
    }
   ],
   "source": [
    "# Sanity check on chr5. 20160205_release5_expected_variants.ipynb gives estimate of 65425+43780 = 109205 PASS variants\n",
    "# but this is an underestimate due to is_snp bug in vcfnp\n",
    "combined_filtered_fn = \"%s/SNP_INDEL_%s.combined.filtered.vcf.gz\" % (release5_final_files_dir, 'Pf3D7_05_v3')\n",
    "!zgrep -v '^#' {combined_filtered_fn} | wc -l\n",
    "!zgrep -v '^#' {combined_filtered_fn} | grep PASS | wc -l\n"
   ]
  },
  {
   "cell_type": "code",
   "execution_count": 58,
   "metadata": {
    "collapsed": false
   },
   "outputs": [
    {
     "name": "stdout",
     "output_type": "stream",
     "text": [
      "500801\n",
      "313307\n"
     ]
    }
   ],
   "source": [
    "# Sanity check on chr14. 20160205_release5_expected_variants.ipynb gives estimate of 197478+99568 = 297046 PASS variants\n",
    "# but this is an underestimate due to is_snp bug in vcfnp\n",
    "combined_filtered_fn = \"%s/SNP_INDEL_%s.combined.filtered.vcf.gz\" % (release5_final_files_dir, 'Pf3D7_14_v3')\n",
    "!zgrep -v '^#' {combined_filtered_fn} | wc -l\n",
    "!zgrep -v '^#' {combined_filtered_fn} | grep PASS | wc -l\n"
   ]
  },
  {
   "cell_type": "code",
   "execution_count": null,
   "metadata": {
    "collapsed": true
   },
   "outputs": [],
   "source": []
  }
 ],
 "metadata": {
  "anaconda-cloud": {},
  "kernelspec": {
   "display_name": "Python [default]",
   "language": "python",
   "name": "python3"
  },
  "language_info": {
   "codemirror_mode": {
    "name": "ipython",
    "version": 3
   },
   "file_extension": ".py",
   "mimetype": "text/x-python",
   "name": "python",
   "nbconvert_exporter": "python",
   "pygments_lexer": "ipython3",
   "version": "3.5.0+"
  }
 },
 "nbformat": 4,
 "nbformat_minor": 0
}
