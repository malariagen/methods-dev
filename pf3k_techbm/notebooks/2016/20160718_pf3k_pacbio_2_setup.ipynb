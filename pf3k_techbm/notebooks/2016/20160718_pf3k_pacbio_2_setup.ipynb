{
 "cells": [
  {
   "cell_type": "markdown",
   "metadata": {},
   "source": [
    "# Introduction\n",
    "This is details of a VR-PIPE setup of full calling pipeline of \"reads\" created by splitting PacBio reference genomes in 50kb chunks (don't know exact details - would need to get this from Thomas)."
   ]
  },
  {
   "cell_type": "code",
   "execution_count": 1,
   "metadata": {
    "collapsed": false
   },
   "outputs": [
    {
     "name": "stdout",
     "output_type": "stream",
     "text": [
      "python 3.4.3 |Anaconda 2.2.0 (64-bit)| (default, Mar  6 2015, 12:03:53) \n",
      "[GCC 4.4.7 20120313 (Red Hat 4.4.7-1)]\n",
      "numpy 1.9.2\n",
      "scipy 0.15.1\n",
      "pandas 0.15.2\n",
      "numexpr 2.3.1\n",
      "pysam 0.8.3\n",
      "pysamstats 0.23\n",
      "petl 1.0.11\n",
      "petlx 1.0.3\n",
      "vcf 0.6.7\n",
      "vcfnp 2.3.0.dev0\n",
      "h5py 2.4.0\n",
      "tables 3.1.1\n"
     ]
    }
   ],
   "source": [
    "%run _standard_imports.ipynb\n",
    "%run _shared_setup.ipynb\n"
   ]
  },
  {
   "cell_type": "code",
   "execution_count": 2,
   "metadata": {
    "collapsed": false
   },
   "outputs": [
    {
     "data": {
      "text/plain": [
       "'/nfs/team112_internal/rp7/data/pf3k'"
      ]
     },
     "execution_count": 2,
     "metadata": {},
     "output_type": "execute_result"
    }
   ],
   "source": [
    "DATA_DIR"
   ]
  },
  {
   "cell_type": "code",
   "execution_count": 11,
   "metadata": {
    "collapsed": true
   },
   "outputs": [],
   "source": [
    "RELEASE_DIR = \"%s/pacbio_2\" % DATA_DIR\n",
    "RESOURCES_DIR = '%s/resources' % RELEASE_DIR\n",
    "\n",
    "# GENOME_FN = \"/nfs/pathogen003/tdo/Pfalciparum/3D7/Reference/Oct2011/Pf3D7_v3.fasta\" # Note this ref used by Thomas is different to other refs we have used, e.g. chromsomes aren't in numerical order\n",
    "GENOME_FN = \"/lustre/scratch109/malaria/pf3k_methods/resources/Pfalciparum.genome.fasta\"\n",
    "SNPEFF_DIR = \"/lustre/scratch109/malaria/pf3k_methods/resources/snpEff\"\n",
    "REGIONS_FN = \"/nfs/team112_internal/rp7/src/github/malariagen/pf-crosses/meta/regions-20130225.bed.gz\"\n",
    "\n",
    "RELEASE_METADATA_FN = \"%s/pf3k_pacbio_2_sample_metadata.txt\" % RELEASE_DIR\n",
    "WG_VCF_FN = \"%s/vcf/pf3k_pacbio_2.vcf.gz\" % RELEASE_DIR\n",
    "\n",
    "BCFTOOLS = '/nfs/team112_internal/rp7/src/github/malariagen/methods-dev/pf3k_techbm/opt_4/bcftools/bcftools'\n",
    "PICARD = 'java -jar /nfs/team112_internal/rp7/src/github/malariagen/methods-dev/pf3k_techbm/opt_4/picard/picard-tools-1.137/picard.jar'\n",
    "\n",
    "VRPIPE_FOFN = \"%s/pf3k_pacbio_2.fofn\" % RELEASE_DIR\n",
    "HC_INPUT_FOFN = \"%s/pf3k_pacbio_2_hc_input.fofn\" % RELEASE_DIR\n"
   ]
  },
  {
   "cell_type": "code",
   "execution_count": 5,
   "metadata": {
    "collapsed": false
   },
   "outputs": [
    {
     "name": "stdout",
     "output_type": "stream",
     "text": [
      "/nfs/team112_internal/rp7/data/pf3k/pacbio_2/vcf/pf3k_pacbio_2.vcf.gz\n"
     ]
    }
   ],
   "source": [
    "print(WG_VCF_FN)"
   ]
  },
  {
   "cell_type": "code",
   "execution_count": 6,
   "metadata": {
    "collapsed": false
   },
   "outputs": [
    {
     "data": {
      "text/plain": [
       "['/nfs/team112_internal/rp7/data/pf3k/pacbio_2/vcf/SNP_INDEL_Pf3D7_01_v3.combined.filtered.vcf.gz',\n",
       " '/nfs/team112_internal/rp7/data/pf3k/pacbio_2/vcf/SNP_INDEL_Pf3D7_02_v3.combined.filtered.vcf.gz',\n",
       " '/nfs/team112_internal/rp7/data/pf3k/pacbio_2/vcf/SNP_INDEL_Pf3D7_03_v3.combined.filtered.vcf.gz',\n",
       " '/nfs/team112_internal/rp7/data/pf3k/pacbio_2/vcf/SNP_INDEL_Pf3D7_04_v3.combined.filtered.vcf.gz',\n",
       " '/nfs/team112_internal/rp7/data/pf3k/pacbio_2/vcf/SNP_INDEL_Pf3D7_05_v3.combined.filtered.vcf.gz',\n",
       " '/nfs/team112_internal/rp7/data/pf3k/pacbio_2/vcf/SNP_INDEL_Pf3D7_06_v3.combined.filtered.vcf.gz',\n",
       " '/nfs/team112_internal/rp7/data/pf3k/pacbio_2/vcf/SNP_INDEL_Pf3D7_07_v3.combined.filtered.vcf.gz',\n",
       " '/nfs/team112_internal/rp7/data/pf3k/pacbio_2/vcf/SNP_INDEL_Pf3D7_08_v3.combined.filtered.vcf.gz',\n",
       " '/nfs/team112_internal/rp7/data/pf3k/pacbio_2/vcf/SNP_INDEL_Pf3D7_09_v3.combined.filtered.vcf.gz',\n",
       " '/nfs/team112_internal/rp7/data/pf3k/pacbio_2/vcf/SNP_INDEL_Pf3D7_10_v3.combined.filtered.vcf.gz',\n",
       " '/nfs/team112_internal/rp7/data/pf3k/pacbio_2/vcf/SNP_INDEL_Pf3D7_11_v3.combined.filtered.vcf.gz',\n",
       " '/nfs/team112_internal/rp7/data/pf3k/pacbio_2/vcf/SNP_INDEL_Pf3D7_12_v3.combined.filtered.vcf.gz',\n",
       " '/nfs/team112_internal/rp7/data/pf3k/pacbio_2/vcf/SNP_INDEL_Pf3D7_13_v3.combined.filtered.vcf.gz',\n",
       " '/nfs/team112_internal/rp7/data/pf3k/pacbio_2/vcf/SNP_INDEL_Pf3D7_14_v3.combined.filtered.vcf.gz']"
      ]
     },
     "execution_count": 6,
     "metadata": {},
     "output_type": "execute_result"
    }
   ],
   "source": [
    "chromosomes = [\"Pf3D7_%02d_v3\" % x for x in range(1, 15, 1)]\n",
    "#     'Pf3D7_API_v3', 'Pf_M76611'\n",
    "# ]\n",
    "chromosome_vcfs = [\"%s/vcf/SNP_INDEL_%s.combined.filtered.vcf.gz\" % (RELEASE_DIR, x) for x in chromosomes]\n",
    "chromosome_vcfs"
   ]
  },
  {
   "cell_type": "code",
   "execution_count": 7,
   "metadata": {
    "collapsed": true
   },
   "outputs": [],
   "source": [
    "if not os.path.exists(RESOURCES_DIR):\n",
    "    os.makedirs(RESOURCES_DIR)"
   ]
  },
  {
   "cell_type": "code",
   "execution_count": 13,
   "metadata": {
    "collapsed": false
   },
   "outputs": [],
   "source": [
    "for lustre_dir in ['temp', 'input', 'output', 'meta']:\n",
    "    new_dir = \"/lustre/scratch109/malaria/pf3k_pacbio/%s\" % lustre_dir\n",
    "    if not os.path.exists(new_dir):\n",
    "        os.makedirs(new_dir)"
   ]
  },
  {
   "cell_type": "code",
   "execution_count": 18,
   "metadata": {
    "collapsed": true
   },
   "outputs": [],
   "source": [
    "thomas_bam_sample_ids = ['Pf3D7II', 'Pf7G8', 'PfCD01', 'PfDd2', 'PfGA01', 'PfGB4', 'PfGN01', 'PfHB3',\n",
    "                         'PfIT', 'PfKE01', 'PfKH01', 'PfKH02', 'PfML01', 'PfSD01', 'PfSN01', 'PfTG01']"
   ]
  },
  {
   "cell_type": "code",
   "execution_count": 12,
   "metadata": {
    "collapsed": false
   },
   "outputs": [
    {
     "name": "stdout",
     "output_type": "stream",
     "text": [
      "[Mon Jul 18 18:24:30 BST 2016] picard.sam.AddOrReplaceReadGroups INPUT=/lustre/scratch108/parasites/tdo/Pfalciparum/PF3K/Reference12Genomes/Mapping_wholeChromosomes/ReRun_Splitting_50k_14072016/Res.Mapped.PfSD01_04_07.fasta.Merged.0407.bam OUTPUT=/lustre/scratch109/malaria/pf3k_pacbio/temp/PfSD01_04_07.bam RGID=PfSD01 RGLB=PfSD01 RGPL=illumina RGPU=PfSD01 RGSM=PfSD01    VERBOSITY=INFO QUIET=false VALIDATION_STRINGENCY=STRICT COMPRESSION_LEVEL=5 MAX_RECORDS_IN_RAM=500000 CREATE_INDEX=false CREATE_MD5_FILE=false GA4GH_CLIENT_SECRETS=client_secrets.json\n",
      "[Mon Jul 18 18:24:30 BST 2016] Executing as rp7@malsrv3 on Linux 3.2.0-75-generic amd64; OpenJDK 64-Bit Server VM 1.6.0_32-b32; Picard version: 1.137(c8c9f584d7042e98867ea3cfc355fb7b89acd2e6_1438018139) IntelDeflater\n",
      "INFO\t2016-07-18 18:24:31\tAddOrReplaceReadGroups\tCreated read group ID=PfSD01 PL=illumina LB=PfSD01 SM=PfSD01\n",
      "\n",
      "[Mon Jul 18 18:24:33 BST 2016] picard.sam.AddOrReplaceReadGroups done. Elapsed time: 0.06 minutes.\n",
      "Runtime.totalMemory()=154599424\n"
     ]
    }
   ],
   "source": [
    "sample_chrom = 'PfSD01_04_07'\n",
    "sample_id = 'PfSD01'\n",
    "!{PICARD} AddOrReplaceReadGroups I=/lustre/scratch108/parasites/tdo/Pfalciparum/PF3K/Reference12Genomes/Mapping_wholeChromosomes/ReRun_Splitting_50k_14072016/Res.Mapped.PfSD01_04_07.fasta.Merged.0407.bam \\\n",
    "O=/lustre/scratch109/malaria/pf3k_pacbio/temp/{sample_chrom}.bam RGID={sample_id} RGSM={sample_id} \\\n",
    "RGLB={sample_id} RGPU={sample_id} RGPL=illumina\n",
    "\n"
   ]
  },
  {
   "cell_type": "code",
   "execution_count": 36,
   "metadata": {
    "collapsed": false
   },
   "outputs": [
    {
     "name": "stdout",
     "output_type": "stream",
     "text": [
      "[Mon Jul 18 21:01:49 BST 2016] picard.sam.MergeSamFiles INPUT=[/lustre/scratch109/malaria/pf3k_pacbio/temp/PfSD01_04_07.bam, /lustre/scratch109/malaria/pf3k_pacbio/temp/PfSD01_01.bam, /lustre/scratch109/malaria/pf3k_pacbio/temp/PfSD01_02.bam, /lustre/scratch109/malaria/pf3k_pacbio/temp/PfSD01_03.bam, /lustre/scratch109/malaria/pf3k_pacbio/temp/PfSD01_05.bam, /lustre/scratch109/malaria/pf3k_pacbio/temp/PfSD01_06.bam, /lustre/scratch109/malaria/pf3k_pacbio/temp/PfSD01_08.bam, /lustre/scratch109/malaria/pf3k_pacbio/temp/PfSD01_09.bam, /lustre/scratch109/malaria/pf3k_pacbio/temp/PfSD01_10.bam, /lustre/scratch109/malaria/pf3k_pacbio/temp/PfSD01_11.bam, /lustre/scratch109/malaria/pf3k_pacbio/temp/PfSD01_12.bam, /lustre/scratch109/malaria/pf3k_pacbio/temp/PfSD01_13.bam, /lustre/scratch109/malaria/pf3k_pacbio/temp/PfSD01_14.bam] OUTPUT=/lustre/scratch109/malaria/pf3k_pacbio/input/PfSD01.bam MERGE_SEQUENCE_DICTIONARIES=true    SORT_ORDER=coordinate ASSUME_SORTED=false USE_THREADING=false VERBOSITY=INFO QUIET=false VALIDATION_STRINGENCY=STRICT COMPRESSION_LEVEL=5 MAX_RECORDS_IN_RAM=500000 CREATE_INDEX=false CREATE_MD5_FILE=false GA4GH_CLIENT_SECRETS=client_secrets.json\n",
      "[Mon Jul 18 21:01:49 BST 2016] Executing as rp7@malsrv3 on Linux 3.2.0-75-generic amd64; OpenJDK 64-Bit Server VM 1.6.0_32-b32; Picard version: 1.137(c8c9f584d7042e98867ea3cfc355fb7b89acd2e6_1438018139) IntelDeflater\n",
      "INFO\t2016-07-18 21:01:49\tMergeSamFiles\tInput files are in same order as output so sorting to temp directory is not needed.\n",
      "INFO\t2016-07-18 21:02:08\tMergeSamFiles\tFinished reading inputs.\n",
      "[Mon Jul 18 21:02:08 BST 2016] picard.sam.MergeSamFiles done. Elapsed time: 0.32 minutes.\n",
      "Runtime.totalMemory()=105840640\n",
      "[Mon Jul 18 21:02:08 BST 2016] picard.sam.BuildBamIndex INPUT=/lustre/scratch109/malaria/pf3k_pacbio/input/PfSD01.bam    VERBOSITY=INFO QUIET=false VALIDATION_STRINGENCY=STRICT COMPRESSION_LEVEL=5 MAX_RECORDS_IN_RAM=500000 CREATE_INDEX=false CREATE_MD5_FILE=false GA4GH_CLIENT_SECRETS=client_secrets.json\n",
      "[Mon Jul 18 21:02:08 BST 2016] Executing as rp7@malsrv3 on Linux 3.2.0-75-generic amd64; OpenJDK 64-Bit Server VM 1.6.0_32-b32; Picard version: 1.137(c8c9f584d7042e98867ea3cfc355fb7b89acd2e6_1438018139) IntelDeflater\n",
      "WARNING: BAM index file /lustre/scratch109/malaria/pf3k_pacbio/input/PfSD01.bai is older than BAM /lustre/scratch109/malaria/pf3k_pacbio/input/PfSD01.bam\n",
      "INFO\t2016-07-18 21:02:11\tBuildBamIndex\tSuccessfully wrote bam index file /lustre/scratch109/malaria/pf3k_pacbio/input/PfSD01.bai\n",
      "[Mon Jul 18 21:02:11 BST 2016] picard.sam.BuildBamIndex done. Elapsed time: 0.05 minutes.\n",
      "Runtime.totalMemory()=337641472\n"
     ]
    }
   ],
   "source": [
    "sample_id = 'PfSD01'\n",
    "sample_chrom = 'PfSD01_04_07'\n",
    "input_bams = ['I=/lustre/scratch109/malaria/pf3k_pacbio/temp/%s.bam' % sample_chrom] + ['I=/lustre/scratch109/malaria/pf3k_pacbio/temp/%s_%02d.bam' % (sample_id, x) for x in\n",
    "              [1, 2, 3, 5, 6, 8, 9, 10, 11, 12, 13, 14]]\n",
    "output_bam = '/lustre/scratch109/malaria/pf3k_pacbio/input/%s.bam' % sample_id\n",
    "!{PICARD} MergeSamFiles {' '.join(input_bams)} O={output_bam} MERGE_SEQUENCE_DICTIONARIES=true\n",
    "!{PICARD} BuildBamIndex I={output_bam}"
   ]
  },
  {
   "cell_type": "code",
   "execution_count": 43,
   "metadata": {
    "collapsed": false,
    "scrolled": true
   },
   "outputs": [
    {
     "name": "stdout",
     "output_type": "stream",
     "text": [
      "[Mon Jul 18 21:26:45 BST 2016] picard.sam.ReplaceSamHeader INPUT=/lustre/scratch109/malaria/pf3k_pacbio/input/PfSD01.bam HEADER=/lustre/scratch109/malaria/pf3k_pacbio/input/PfSD01.header.sam OUTPUT=/lustre/scratch109/malaria/pf3k_pacbio/input/PfSD01reheader.bam    VERBOSITY=INFO QUIET=false VALIDATION_STRINGENCY=STRICT COMPRESSION_LEVEL=5 MAX_RECORDS_IN_RAM=500000 CREATE_INDEX=false CREATE_MD5_FILE=false GA4GH_CLIENT_SECRETS=client_secrets.json\n",
      "[Mon Jul 18 21:26:45 BST 2016] Executing as rp7@malsrv3 on Linux 3.2.0-75-generic amd64; OpenJDK 64-Bit Server VM 1.6.0_32-b32; Picard version: 1.137(c8c9f584d7042e98867ea3cfc355fb7b89acd2e6_1438018139) IntelDeflater\n",
      "[Mon Jul 18 21:26:46 BST 2016] picard.sam.ReplaceSamHeader done. Elapsed time: 0.01 minutes.\n",
      "Runtime.totalMemory()=125435904\n"
     ]
    }
   ],
   "source": [
    "!{PICARD} ReplaceSamHeader I={output_bam} O={output_bam.replace('.bam', 'reheader.bam')} \\\n",
    "HEADER=/lustre/scratch109/malaria/pf3k_pacbio/input/PfSD01.header.sam"
   ]
  },
  {
   "cell_type": "code",
   "execution_count": 37,
   "metadata": {
    "collapsed": false
   },
   "outputs": [
    {
     "data": {
      "text/plain": [
       "['I=/lustre/scratch109/malaria/pf3k_pacbio/temp/PfSD01_04_07.bam',\n",
       " 'I=/lustre/scratch109/malaria/pf3k_pacbio/temp/PfSD01_01.bam',\n",
       " 'I=/lustre/scratch109/malaria/pf3k_pacbio/temp/PfSD01_02.bam',\n",
       " 'I=/lustre/scratch109/malaria/pf3k_pacbio/temp/PfSD01_03.bam',\n",
       " 'I=/lustre/scratch109/malaria/pf3k_pacbio/temp/PfSD01_05.bam',\n",
       " 'I=/lustre/scratch109/malaria/pf3k_pacbio/temp/PfSD01_06.bam',\n",
       " 'I=/lustre/scratch109/malaria/pf3k_pacbio/temp/PfSD01_08.bam',\n",
       " 'I=/lustre/scratch109/malaria/pf3k_pacbio/temp/PfSD01_09.bam',\n",
       " 'I=/lustre/scratch109/malaria/pf3k_pacbio/temp/PfSD01_10.bam',\n",
       " 'I=/lustre/scratch109/malaria/pf3k_pacbio/temp/PfSD01_11.bam',\n",
       " 'I=/lustre/scratch109/malaria/pf3k_pacbio/temp/PfSD01_12.bam',\n",
       " 'I=/lustre/scratch109/malaria/pf3k_pacbio/temp/PfSD01_13.bam',\n",
       " 'I=/lustre/scratch109/malaria/pf3k_pacbio/temp/PfSD01_14.bam']"
      ]
     },
     "execution_count": 37,
     "metadata": {},
     "output_type": "execute_result"
    }
   ],
   "source": [
    "input_bams"
   ]
  },
  {
   "cell_type": "code",
   "execution_count": 45,
   "metadata": {
    "collapsed": false
   },
   "outputs": [
    {
     "name": "stdout",
     "output_type": "stream",
     "text": [
      "[Mon Jul 18 21:28:31 BST 2016] picard.sam.ReorderSam INPUT=/lustre/scratch109/malaria/pf3k_pacbio/input/PfSD01reheader.bam OUTPUT=/lustre/scratch109/malaria/pf3k_pacbio/input/PfSD01.sorted.bam REFERENCE=/lustre/scratch109/malaria/pf3k_methods/resources/Pfalciparum.genome.fasta    ALLOW_INCOMPLETE_DICT_CONCORDANCE=false ALLOW_CONTIG_LENGTH_DISCORDANCE=false VERBOSITY=INFO QUIET=false VALIDATION_STRINGENCY=STRICT COMPRESSION_LEVEL=5 MAX_RECORDS_IN_RAM=500000 CREATE_INDEX=false CREATE_MD5_FILE=false GA4GH_CLIENT_SECRETS=client_secrets.json\n",
      "[Mon Jul 18 21:28:31 BST 2016] Executing as rp7@malsrv3 on Linux 3.2.0-75-generic amd64; OpenJDK 64-Bit Server VM 1.6.0_32-b32; Picard version: 1.135(83ec44e03ec8d07ef180ef86b7a62d59a80dedd3_1435607037) IntelDeflater\n",
      "INFO\t2016-07-18 21:28:31\tReorderSam\tSAM/BAM file\n",
      "INFO\t2016-07-18 21:28:31\tReorderSam\t  SN=%s LN=%d%nPf3D7_04_v31200490\n",
      "INFO\t2016-07-18 21:28:31\tReorderSam\t  SN=%s LN=%d%nPf3D7_07_v31445207\n",
      "INFO\t2016-07-18 21:28:31\tReorderSam\t  SN=%s LN=%d%nPf3D7_01_v3640851\n",
      "INFO\t2016-07-18 21:28:31\tReorderSam\t  SN=%s LN=%d%nPf3D7_02_v3947102\n",
      "INFO\t2016-07-18 21:28:31\tReorderSam\t  SN=%s LN=%d%nPf3D7_03_v31067971\n",
      "INFO\t2016-07-18 21:28:31\tReorderSam\t  SN=%s LN=%d%nPf3D7_05_v31343557\n",
      "INFO\t2016-07-18 21:28:31\tReorderSam\t  SN=%s LN=%d%nPf3D7_06_v31418242\n",
      "INFO\t2016-07-18 21:28:31\tReorderSam\t  SN=%s LN=%d%nPf3D7_08_v31472805\n",
      "INFO\t2016-07-18 21:28:31\tReorderSam\t  SN=%s LN=%d%nPf3D7_09_v31541735\n",
      "INFO\t2016-07-18 21:28:31\tReorderSam\t  SN=%s LN=%d%nPf3D7_10_v31687656\n",
      "INFO\t2016-07-18 21:28:31\tReorderSam\t  SN=%s LN=%d%nPf3D7_11_v32038340\n",
      "INFO\t2016-07-18 21:28:31\tReorderSam\t  SN=%s LN=%d%nPf3D7_12_v32271494\n",
      "INFO\t2016-07-18 21:28:31\tReorderSam\t  SN=%s LN=%d%nPf3D7_13_v32925236\n",
      "INFO\t2016-07-18 21:28:31\tReorderSam\t  SN=%s LN=%d%nPf3D7_14_v33291936\n",
      "INFO\t2016-07-18 21:28:31\tReorderSam\t  SN=%s LN=%d%nPf3D7_API_v334250\n",
      "INFO\t2016-07-18 21:28:31\tReorderSam\t  SN=%s LN=%d%nPf_M766115967\n",
      "INFO\t2016-07-18 21:28:31\tReorderSam\tReference\n",
      "INFO\t2016-07-18 21:28:31\tReorderSam\t  SN=%s LN=%d%nPf3D7_01_v3640851\n",
      "INFO\t2016-07-18 21:28:31\tReorderSam\t  SN=%s LN=%d%nPf3D7_02_v3947102\n",
      "INFO\t2016-07-18 21:28:31\tReorderSam\t  SN=%s LN=%d%nPf3D7_03_v31067971\n",
      "INFO\t2016-07-18 21:28:31\tReorderSam\t  SN=%s LN=%d%nPf3D7_04_v31200490\n",
      "INFO\t2016-07-18 21:28:31\tReorderSam\t  SN=%s LN=%d%nPf3D7_05_v31343557\n",
      "INFO\t2016-07-18 21:28:31\tReorderSam\t  SN=%s LN=%d%nPf3D7_06_v31418242\n",
      "INFO\t2016-07-18 21:28:31\tReorderSam\t  SN=%s LN=%d%nPf3D7_07_v31445207\n",
      "INFO\t2016-07-18 21:28:31\tReorderSam\t  SN=%s LN=%d%nPf3D7_08_v31472805\n",
      "INFO\t2016-07-18 21:28:31\tReorderSam\t  SN=%s LN=%d%nPf3D7_09_v31541735\n",
      "INFO\t2016-07-18 21:28:31\tReorderSam\t  SN=%s LN=%d%nPf3D7_10_v31687656\n",
      "INFO\t2016-07-18 21:28:31\tReorderSam\t  SN=%s LN=%d%nPf3D7_11_v32038340\n",
      "INFO\t2016-07-18 21:28:31\tReorderSam\t  SN=%s LN=%d%nPf3D7_12_v32271494\n",
      "INFO\t2016-07-18 21:28:31\tReorderSam\t  SN=%s LN=%d%nPf3D7_13_v32925236\n",
      "INFO\t2016-07-18 21:28:31\tReorderSam\t  SN=%s LN=%d%nPf3D7_14_v33291936\n",
      "INFO\t2016-07-18 21:28:31\tReorderSam\t  SN=%s LN=%d%nPf3D7_API_v334250\n",
      "INFO\t2016-07-18 21:28:31\tReorderSam\t  SN=%s LN=%d%nPf_M766115967\n",
      "INFO\t2016-07-18 21:28:31\tReorderSam\tReordering SAM/BAM file:\n",
      "INFO\t2016-07-18 21:28:31\tReorderSam\t  Reordering read contig Pf3D7_01_v3 [index=2] to => ref contig Pf3D7_01_v3 [index=0]\n",
      "\n",
      "INFO\t2016-07-18 21:28:31\tReorderSam\t  Reordering read contig Pf3D7_02_v3 [index=3] to => ref contig Pf3D7_02_v3 [index=1]\n",
      "\n",
      "INFO\t2016-07-18 21:28:31\tReorderSam\t  Reordering read contig Pf3D7_03_v3 [index=4] to => ref contig Pf3D7_03_v3 [index=2]\n",
      "\n",
      "INFO\t2016-07-18 21:28:31\tReorderSam\t  Reordering read contig Pf3D7_04_v3 [index=0] to => ref contig Pf3D7_04_v3 [index=3]\n",
      "\n",
      "INFO\t2016-07-18 21:28:31\tReorderSam\t  Reordering read contig Pf3D7_05_v3 [index=5] to => ref contig Pf3D7_05_v3 [index=4]\n",
      "\n",
      "INFO\t2016-07-18 21:28:31\tReorderSam\t  Reordering read contig Pf3D7_06_v3 [index=6] to => ref contig Pf3D7_06_v3 [index=5]\n",
      "\n",
      "INFO\t2016-07-18 21:28:31\tReorderSam\t  Reordering read contig Pf3D7_07_v3 [index=1] to => ref contig Pf3D7_07_v3 [index=6]\n",
      "\n",
      "INFO\t2016-07-18 21:28:31\tReorderSam\t  Reordering read contig Pf3D7_08_v3 [index=7] to => ref contig Pf3D7_08_v3 [index=7]\n",
      "\n",
      "INFO\t2016-07-18 21:28:31\tReorderSam\t  Reordering read contig Pf3D7_09_v3 [index=8] to => ref contig Pf3D7_09_v3 [index=8]\n",
      "\n",
      "INFO\t2016-07-18 21:28:31\tReorderSam\t  Reordering read contig Pf3D7_10_v3 [index=9] to => ref contig Pf3D7_10_v3 [index=9]\n",
      "\n",
      "INFO\t2016-07-18 21:28:31\tReorderSam\t  Reordering read contig Pf3D7_11_v3 [index=10] to => ref contig Pf3D7_11_v3 [index=10]\n",
      "\n",
      "INFO\t2016-07-18 21:28:31\tReorderSam\t  Reordering read contig Pf3D7_12_v3 [index=11] to => ref contig Pf3D7_12_v3 [index=11]\n",
      "\n",
      "INFO\t2016-07-18 21:28:31\tReorderSam\t  Reordering read contig Pf3D7_13_v3 [index=12] to => ref contig Pf3D7_13_v3 [index=12]\n",
      "\n",
      "INFO\t2016-07-18 21:28:31\tReorderSam\t  Reordering read contig Pf3D7_14_v3 [index=13] to => ref contig Pf3D7_14_v3 [index=13]\n",
      "\n",
      "INFO\t2016-07-18 21:28:31\tReorderSam\t  Reordering read contig Pf3D7_API_v3 [index=14] to => ref contig Pf3D7_API_v3 [index=14]\n",
      "\n",
      "INFO\t2016-07-18 21:28:31\tReorderSam\t  Reordering read contig Pf_M76611 [index=15] to => ref contig Pf_M76611 [index=15]\n",
      "\n",
      "INFO\t2016-07-18 21:28:31\tReorderSam\tWriting reads...\n",
      "INFO\t2016-07-18 21:28:31\tReorderSam\t  Processing All reads\n",
      "INFO\t2016-07-18 21:28:35\tReorderSam\tWrote 6835 reads\n",
      "[Mon Jul 18 21:28:48 BST 2016] picard.sam.ReorderSam done. Elapsed time: 0.29 minutes.\n",
      "Runtime.totalMemory()=865533952\n",
      "[Mon Jul 18 21:28:49 BST 2016] picard.sam.BuildBamIndex INPUT=/lustre/scratch109/malaria/pf3k_pacbio/input/PfSD01.bam    VERBOSITY=INFO QUIET=false VALIDATION_STRINGENCY=STRICT COMPRESSION_LEVEL=5 MAX_RECORDS_IN_RAM=500000 CREATE_INDEX=false CREATE_MD5_FILE=false GA4GH_CLIENT_SECRETS=client_secrets.json\n",
      "[Mon Jul 18 21:28:49 BST 2016] Executing as rp7@malsrv3 on Linux 3.2.0-75-generic amd64; OpenJDK 64-Bit Server VM 1.6.0_32-b32; Picard version: 1.137(c8c9f584d7042e98867ea3cfc355fb7b89acd2e6_1438018139) IntelDeflater\n",
      "WARNING: BAM index file /lustre/scratch109/malaria/pf3k_pacbio/input/PfSD01.bai is older than BAM /lustre/scratch109/malaria/pf3k_pacbio/input/PfSD01.bam\n",
      "INFO\t2016-07-18 21:28:52\tBuildBamIndex\tSuccessfully wrote bam index file /lustre/scratch109/malaria/pf3k_pacbio/input/PfSD01.bai\n",
      "[Mon Jul 18 21:28:52 BST 2016] picard.sam.BuildBamIndex done. Elapsed time: 0.05 minutes.\n",
      "Runtime.totalMemory()=350879744\n"
     ]
    }
   ],
   "source": [
    "sample_id = 'PfSD01'\n",
    "output_bam = '/lustre/scratch109/malaria/pf3k_pacbio/input/%s.bam' % sample_id\n",
    "!java -jar /nfs/team112_internal/rp7/src/github/malariagen/methods-dev/pf3k_techbm/opt/picard/picard-tools-1.135/picard.jar \\\n",
    "ReorderSam I={output_bam.replace('.bam', 'reheader.bam')} O={output_bam.replace('.bam', '.sorted.bam')} \\\n",
    "REFERENCE=/lustre/scratch109/malaria/pf3k_methods/resources/Pfalciparum.genome.fasta\n",
    "# CREATE_INDEX=TRUE\n",
    "!mv {output_bam.replace('.bam', '.sorted.bam')} {output_bam}\n",
    "!{PICARD} BuildBamIndex I={output_bam}"
   ]
  },
  {
   "cell_type": "code",
   "execution_count": 29,
   "metadata": {
    "collapsed": false
   },
   "outputs": [
    {
     "data": {
      "text/plain": [
       "'/lustre/scratch109/malaria/pf3k_pacbio/input/PfSD01.bam'"
      ]
     },
     "execution_count": 29,
     "metadata": {},
     "output_type": "execute_result"
    }
   ],
   "source": [
    "output_bam"
   ]
  },
  {
   "cell_type": "code",
   "execution_count": 46,
   "metadata": {
    "collapsed": false
   },
   "outputs": [
    {
     "name": "stdout",
     "output_type": "stream",
     "text": [
      "[Mon Jul 18 21:30:55 BST 2016] picard.sam.MergeSamFiles INPUT=[/lustre/scratch109/malaria/pf3k_pacbio/temp/PfTG01_01.bam, /lustre/scratch109/malaria/pf3k_pacbio/temp/PfTG01_02.bam, /lustre/scratch109/malaria/pf3k_pacbio/temp/PfTG01_03.bam, /lustre/scratch109/malaria/pf3k_pacbio/temp/PfTG01_04.bam, /lustre/scratch109/malaria/pf3k_pacbio/temp/PfTG01_05.bam, /lustre/scratch109/malaria/pf3k_pacbio/temp/PfTG01_06.bam, /lustre/scratch109/malaria/pf3k_pacbio/temp/PfTG01_07.bam, /lustre/scratch109/malaria/pf3k_pacbio/temp/PfTG01_08.bam, /lustre/scratch109/malaria/pf3k_pacbio/temp/PfTG01_09.bam, /lustre/scratch109/malaria/pf3k_pacbio/temp/PfTG01_10.bam, /lustre/scratch109/malaria/pf3k_pacbio/temp/PfTG01_11.bam, /lustre/scratch109/malaria/pf3k_pacbio/temp/PfTG01_12.bam, /lustre/scratch109/malaria/pf3k_pacbio/temp/PfTG01_13.bam, /lustre/scratch109/malaria/pf3k_pacbio/temp/PfTG01_14.bam] OUTPUT=/lustre/scratch109/malaria/pf3k_pacbio/input/PfTG01.bam MERGE_SEQUENCE_DICTIONARIES=true    SORT_ORDER=coordinate ASSUME_SORTED=false USE_THREADING=false VERBOSITY=INFO QUIET=false VALIDATION_STRINGENCY=STRICT COMPRESSION_LEVEL=5 MAX_RECORDS_IN_RAM=500000 CREATE_INDEX=false CREATE_MD5_FILE=false GA4GH_CLIENT_SECRETS=client_secrets.json\n",
      "[Mon Jul 18 21:30:55 BST 2016] Executing as rp7@malsrv3 on Linux 3.2.0-75-generic amd64; OpenJDK 64-Bit Server VM 1.6.0_32-b32; Picard version: 1.137(c8c9f584d7042e98867ea3cfc355fb7b89acd2e6_1438018139) IntelDeflater\n",
      "INFO\t2016-07-18 21:30:56\tMergeSamFiles\tInput files are in same order as output so sorting to temp directory is not needed.\n",
      "INFO\t2016-07-18 21:31:15\tMergeSamFiles\tFinished reading inputs.\n",
      "[Mon Jul 18 21:31:15 BST 2016] picard.sam.MergeSamFiles done. Elapsed time: 0.33 minutes.\n",
      "Runtime.totalMemory()=105709568\n",
      "[Mon Jul 18 21:31:16 BST 2016] picard.sam.BuildBamIndex INPUT=/lustre/scratch109/malaria/pf3k_pacbio/input/PfTG01.bam    VERBOSITY=INFO QUIET=false VALIDATION_STRINGENCY=STRICT COMPRESSION_LEVEL=5 MAX_RECORDS_IN_RAM=500000 CREATE_INDEX=false CREATE_MD5_FILE=false GA4GH_CLIENT_SECRETS=client_secrets.json\n",
      "[Mon Jul 18 21:31:16 BST 2016] Executing as rp7@malsrv3 on Linux 3.2.0-75-generic amd64; OpenJDK 64-Bit Server VM 1.6.0_32-b32; Picard version: 1.137(c8c9f584d7042e98867ea3cfc355fb7b89acd2e6_1438018139) IntelDeflater\n",
      "INFO\t2016-07-18 21:31:19\tBuildBamIndex\tSuccessfully wrote bam index file /lustre/scratch109/malaria/pf3k_pacbio/input/PfTG01.bai\n",
      "[Mon Jul 18 21:31:19 BST 2016] picard.sam.BuildBamIndex done. Elapsed time: 0.05 minutes.\n",
      "Runtime.totalMemory()=350945280\n"
     ]
    }
   ],
   "source": [
    "# I messed up the folowing by accident so had to recreate\n",
    "for sample_id in ['PfTG01']:\n",
    "    input_bams = ['I=/lustre/scratch109/malaria/pf3k_pacbio/temp/%s_%02d.bam' % (sample_id, x) for x in range(1, 15)]\n",
    "    output_bam = '/lustre/scratch109/malaria/pf3k_pacbio/input/%s.bam' % sample_id\n",
    "    !{PICARD} MergeSamFiles {' '.join(input_bams)} O={output_bam} MERGE_SEQUENCE_DICTIONARIES=true\n",
    "    !{PICARD} BuildBamIndex I={output_bam}"
   ]
  },
  {
   "cell_type": "code",
   "execution_count": 40,
   "metadata": {
    "collapsed": true
   },
   "outputs": [],
   "source": [
    "# # Removed PfSD01 as no reads for chromsome 4 - see email from Thomas 14/07/2016 20:17 and response 17/07/2016 11:37\n",
    "# thomas_bam_sample_ids = ['Pf3D7II', 'Pf7G8', 'PfCD01', 'PfDd2', 'PfGA01', 'PfGB4', 'PfGN01', 'PfHB3',\n",
    "#                          'PfIT', 'PfKE01', 'PfKH01', 'PfKH02', 'PfML01', 'PfSN01', 'PfTG01']"
   ]
  },
  {
   "cell_type": "code",
   "execution_count": 20,
   "metadata": {
    "collapsed": false
   },
   "outputs": [],
   "source": [
    "fo = open(HC_INPUT_FOFN, 'w')\n",
    "for sample_id in thomas_bam_sample_ids:\n",
    "    output_bam = '/lustre/scratch109/malaria/pf3k_pacbio/input/%s.bam' % sample_id\n",
    "    print('%s' % (output_bam), file=fo)\n",
    "fo.close()\n"
   ]
  },
  {
   "cell_type": "code",
   "execution_count": 19,
   "metadata": {
    "collapsed": false
   },
   "outputs": [
    {
     "data": {
      "text/plain": [
       "'/nfs/team112_internal/rp7/data/pf3k/pacbio_2/pf3k_pacbio_2_hc_input.fofn'"
      ]
     },
     "execution_count": 19,
     "metadata": {},
     "output_type": "execute_result"
    }
   ],
   "source": [
    "HC_INPUT_FOFN"
   ]
  },
  {
   "cell_type": "markdown",
   "metadata": {},
   "source": [
    "# VR-PIPE pipeline\n",
    "These were created using vrpipe-setup --based_on, with the setups originally created in 20160716_pf3k_pacbio_1_setup"
   ]
  },
  {
   "cell_type": "raw",
   "metadata": {
    "collapsed": true
   },
   "source": [
    "We've now gathered all information; here's what you've asked for:\n",
    "\tPipelineSetup name: pf3k_pacbio_2_haplotype_caller (for user rp7 controlled by farm 'farm3')\n",
    "\tDataSource: fofn_with_genome_chunking->all with source /nfs/team112_internal/rp7/data/pf3k/pacbio_2/pf3k_pacbio_2_hc_input.fofn:\n",
    "\t\tchunk_overlap => 0\n",
    "\t\tchunk_override_file => /lustre/scratch109/malaria/pf3k_methods/resources/Pfalciparum_chunk_override\n",
    "\t\tchunk_size => 4000000\n",
    "\t\treference_index => /lustre/scratch109/malaria/pf3k_pacbio/Pfalciparum.autosomes.fasta.fai\n",
    "\tPipeline: snp_calling_gatk3_haplotype_caller_v2 (outputting to /lustre/scratch109/malaria/pf3k_pacbio/output ):\n",
    "\t\tdelete_input_bams => 0\n",
    "\t\tgatk_key => /nfs/team112_internal/production/tools/bin/gatk/dj6_sanger.ac.uk.key\n",
    "\t\tgatk_path => /nfs/team112_internal/production/tools/bin/gatk/GenomeAnalysisTK-3.4-46\n",
    "\t\thaplotype_caller_options => --defaultBaseQualities 30 --emitRefConfidence GVCF --variant_index_type LINEAR --variant_index_parameter 128000 --max_alternate_alleles 6\n",
    "\t\tjava_exe => /software/jre1.7.0_25/bin/java\n",
    "\t\tminimum_records => 0\n",
    "\t\treference_fasta => /lustre/scratch109/malaria/pf3k_methods/resources/Pfalciparum.genome.fasta\n",
    "Is all of this correct? <y|n>: y\n",
    "\n",
    "Your new PipelineSetup has been created!\n",
    "Name: pf3k_pacbio_2_haplotype_caller; Id: 843 (remember at least one of these for use later)\n"
   ]
  },
  {
   "cell_type": "raw",
   "metadata": {
    "collapsed": true
   },
   "source": [
    "We've now gathered all information; here's what you've asked for:\n",
    "\tPipelineSetup name: pf3k_pacbio_2_combine_gvcfs (for user rp7 controlled by farm 'farm3')\n",
    "\tDataSource: vrpipe->group_by_metadata with source pf3k_pacbio_2_haplotype_caller[gatk_haplotype_caller_gatk3_v2:gatk_vcf_file]:\n",
    "\t\tfilter_after_grouping => 1\n",
    "\t\tmetadata_keys => chrom\n",
    "\tPipeline: gatk_combine_gvcfs_gatk3_merge_prepared (outputting to /lustre/scratch109/malaria/pf3k_pacbio/output belonging to group team112):\n",
    "\t\tgatk_key => /nfs/team112_internal/production/tools/bin/gatk/dj6_sanger.ac.uk.key\n",
    "\t\tgatk_path => /nfs/team112_internal/production/tools/bin/gatk/GenomeAnalysisTK-3.5\n",
    "\t\tjava_exe => /software/jre1.7.0_25/bin/java\n",
    "\t\tmaxDirectMergingGroup => 100\n",
    "\t\tminimum_records => 0\n",
    "\t\treference_fasta => /lustre/scratch109/malaria/pf3k_methods/resources/Pfalciparum.genome.fasta\n",
    "\t\tremove_input_vcfs => 0\n",
    "Is all of this correct? <y|n>: y\n",
    "\n",
    "Your new PipelineSetup has been created!\n",
    "Name: pf3k_pacbio_2_combine_gvcfs; Id: 844 (remember at least one of these for use later)\n"
   ]
  },
  {
   "cell_type": "raw",
   "metadata": {
    "collapsed": true
   },
   "source": [
    "We've now gathered all information; here's what you've asked for:\n",
    "\tPipelineSetup name: pf3k_pacbio_2_genotype_gvcfs (for user rp7 controlled by farm 'farm3')\n",
    "\tDataSource: vrpipe->group_by_metadata with source pf3k_pacbio_2_combine_gvcfs[1:genomic_vcf_files]:\n",
    "\t\tfilter_after_grouping => 1\n",
    "\t\tmetadata_keys => chrom\n",
    "\tPipeline: snp_calling_gatk3_genotype_gvcfs (outputting to /lustre/scratch109/malaria/pf3k_pacbio/output belonging to group team112):\n",
    "\t\tgatk_key => /nfs/team112_internal/production/tools/bin/gatk/dj6_sanger.ac.uk.key\n",
    "\t\tgatk_path => /nfs/team112_internal/production/tools/bin/gatk/GenomeAnalysisTK-3.4-46\n",
    "\t\tgenotyper_options => --max_alternate_alleles 6 --annotation QualByDepth --annotation FisherStrand --annotation StrandOddsRatio --annotation VariantType --annotation GCContent --annotation TandemRepeatAnnotator\n",
    "\t\tjava_exe => /software/jre1.7.0_25/bin/java\n",
    "\t\tminimum_records => 0\n",
    "\t\treference_fasta => /lustre/scratch109/malaria/pf3k_methods/resources/Pfalciparum.genome.fasta\n",
    "\t\tremove_input_vcfs => 0\n",
    "Is all of this correct? <y|n>: y\n",
    "\n",
    "Your new PipelineSetup has been created!\n",
    "Name: pf3k_pacbio_2_genotype_gvcfs; Id: 845 (remember at least one of these for use later)\n"
   ]
  },
  {
   "cell_type": "raw",
   "metadata": {
    "collapsed": true
   },
   "source": [
    "We've now gathered all information; here's what you've asked for:\n",
    "\tPipelineSetup name: pf3k_pacbio_2_variant_recalibration_snps_QD_SOR_DP (for user rp7 controlled by farm 'farm3')\n",
    "\tDataSource: vrpipe->group_all with source pf3k_pacbio_2_genotype_gvcfs[gatk_genotype_gvcfs_gatk3:gatk_vcf_file]:\n",
    "\tPipeline: gatk_variant_recalibration_for_snps_gatk3 (outputting to /lustre/scratch109/malaria/pf3k_pacbio/output belonging to group team112):\n",
    "\t\tgatk_key => /nfs/team112_internal/production/tools/bin/gatk/dj6_sanger.ac.uk.key\n",
    "\t\tgatk_path => /nfs/team112_internal/production/tools/bin/gatk/GenomeAnalysisTK-3.4-46\n",
    "\t\tjava_exe => /software/jre1.7.0_25/bin/java\n",
    "\t\treference_fasta => /lustre/scratch109/malaria/pf3k_methods/resources/Pfalciparum.genome.fasta\n",
    "\t\tsnp_variant_recalibration_options => -resource:7g8_gb4,known=false,training=true,truth=true,prior=15.0 /nfs/team112_internal/oxford_mirror/data/plasmodium/pfalciparum/pf-crosses/data/public/1.0/7g8_gb4.combined.final.vcf.gz -resource:hb3_dd2,known=false,training=true,truth=true,prior=15.0 /nfs/team112_internal/oxford_mirror/data/plasmodium/pfalciparum/pf-crosses/data/public/1.0/hb3_dd2.combined.final.vcf.gz -resource:3d7_hb3,known=false,training=true,truth=true,prior=15.0 /nfs/team112_internal/oxford_mirror/data/plasmodium/pfalciparum/pf-crosses/data/public/1.0/3d7_hb3.combined.final.vcf.gz -an QD -an SOR -an DP --maxGaussians 8\n",
    "Is all of this correct? <y|n>: y\n",
    "\n",
    "Your new PipelineSetup has been created!\n",
    "Name: pf3k_pacbio_2_variant_recalibration_snps_QD_SOR_DP; Id: 846 (remember at least one of these for use later)\n"
   ]
  },
  {
   "cell_type": "raw",
   "metadata": {
    "collapsed": true
   },
   "source": [
    "We've now gathered all information; here's what you've asked for:\n",
    "\tPipelineSetup name: pf3k_pacbio_2_variant_recalibration_indels_QD_DP (for user rp7 controlled by farm 'farm3')\n",
    "\tDataSource: vrpipe->group_all with source pf3k_pacbio_2_genotype_gvcfs[gatk_genotype_gvcfs_gatk3:gatk_vcf_file]:\n",
    "\tPipeline: gatk_variant_recalibration_for_indels_gatk3 (outputting to /lustre/scratch109/malaria/pf3k_pacbio/output belonging to group team112):\n",
    "\t\tgatk_key => /nfs/team112_internal/production/tools/bin/gatk/dj6_sanger.ac.uk.key\n",
    "\t\tgatk_path => /nfs/team112_internal/production/tools/bin/gatk/GenomeAnalysisTK-3.4-46\n",
    "\t\tindel_variant_recalibration_options => -resource:7g8_gb4,known=false,training=true,truth=true,prior=15.0 /nfs/team112_internal/oxford_mirror/data/plasmodium/pfalciparum/pf-crosses/data/public/1.0/7g8_gb4.combined.final.vcf.gz -resource:hb3_dd2,known=false,training=true,truth=true,prior=15.0 /nfs/team112_internal/oxford_mirror/data/plasmodium/pfalciparum/pf-crosses/data/public/1.0/hb3_dd2.combined.final.vcf.gz -resource:3d7_hb3,known=false,training=true,truth=true,prior=15.0 /nfs/team112_internal/oxford_mirror/data/plasmodium/pfalciparum/pf-crosses/data/public/1.0/3d7_hb3.combined.final.vcf.gz -an QD -an DP --maxGaussians 4\n",
    "\t\tjava_exe => /software/jre1.7.0_25/bin/java\n",
    "\t\treference_fasta => /lustre/scratch109/malaria/pf3k_methods/resources/Pfalciparum.genome.fasta\n",
    "Is all of this correct? <y|n>: y\n",
    "\n",
    "Your new PipelineSetup has been created!\n",
    "Name: pf3k_pacbio_2_variant_recalibration_indels_QD_DP; Id: 847 (remember at least one of these for use later)\n"
   ]
  },
  {
   "cell_type": "raw",
   "metadata": {},
   "source": [
    "# We need to manually find the outputs of the previous 2 setups to feed into the next 2 setups\n",
    "\n",
    "vrpipe-fileinfo --setup pf3k_pacbio_2_variant_recalibration_snps_QD_SOR_DP\n",
    "path\n",
    "/lustre/scratch109/malaria/pf3k_pacbio/output/8/a/c/0/642540/1_gatk_variant_recalibration_for_snps_gatk3/SNP.recal\n",
    "/lustre/scratch109/malaria/pf3k_pacbio/output/8/a/c/0/642540/1_gatk_variant_recalibration_for_snps_gatk3/SNP.recal.tranches\n",
    "/lustre/scratch109/malaria/pf3k_pacbio/output/8/a/c/0/642540/1_gatk_variant_recalibration_for_snps_gatk3/SNP.recal.r\n",
    "\n",
    "vrpipe-fileinfo --setup pf3k_pacbio_2_variant_recalibration_indels_QD_DP\n",
    "path\n",
    "/lustre/scratch109/malaria/pf3k_pacbio/output/a/6/3/4/642540/1_gatk_variant_recalibration_for_indels_gatk3/INDEL.recal\n",
    "/lustre/scratch109/malaria/pf3k_pacbio/output/a/6/3/4/642540/1_gatk_variant_recalibration_for_indels_gatk3/INDEL.recal.tranches\n",
    "/lustre/scratch109/malaria/pf3k_pacbio/output/a/6/3/4/642540/1_gatk_variant_recalibration_for_indels_gatk3/INDEL.recal.r\n"
   ]
  },
  {
   "cell_type": "raw",
   "metadata": {},
   "source": [
    "We've now gathered all information; here's what you've asked for:\n",
    "\tPipelineSetup name: pf3k_pacbio_2_apply_recalibration_snps (for user rp7 controlled by farm 'farm3')\n",
    "\tDataSource: vrpipe->all with source pf3k_pacbio_2_genotype_gvcfs[gatk_genotype_gvcfs_gatk3:gatk_vcf_file]:\n",
    "\t\tfilter_after_grouping => 1\n",
    "\t\tmaintain_element_grouping => 1\n",
    "\tPipeline: gatk_select_variants_apply_recalibration_for_snps_gatk3 (outputting to /lustre/scratch109/malaria/pf3k_pacbio/output belonging to group team112):\n",
    "\t\tcleanup => 0\n",
    "\t\tgatk_key => /nfs/team112_internal/production/tools/bin/gatk/dj6_sanger.ac.uk.key\n",
    "\t\tgatk_path => /nfs/team112_internal/production/tools/bin/gatk/GenomeAnalysisTK-3.4-46\n",
    "\t\tgatk_select_variants_options => -selectType SNP\n",
    "\t\tjava_exe => /software/jre1.7.0_25/bin/java\n",
    "\t\treference_fasta => /lustre/scratch109/malaria/pf3k_methods/resources/Pfalciparum.genome.fasta\n",
    "\t\tremove_input_vcfs => 0\n",
    "\t\tsnp_apply_recalibraton_options => --ts_filter_level 99.5 -tranchesFile /lustre/scratch109/malaria/pf3k_pacbio/output/8/a/c/0/642540/1_gatk_variant_recalibration_for_snps_gatk3/SNP.recal.tranches -recalFile /lustre/scratch109/malaria/pf3k_pacbio/output/8/a/c/0/642540/1_gatk_variant_recalibration_for_snps_gatk3/SNP.recal\n",
    "Is all of this correct? <y|n>: y\n",
    "\n",
    "Your new PipelineSetup has been created!\n",
    "Name: pf3k_pacbio_2_apply_recalibration_snps; Id: 849 (remember at least one of these for use later)\n"
   ]
  },
  {
   "cell_type": "raw",
   "metadata": {},
   "source": [
    "We've now gathered all information; here's what you've asked for:\n",
    "\tPipelineSetup name: pf3k_pacbio_2_apply_recalibration_indels (for user rp7 controlled by farm 'farm3')\n",
    "\tDataSource: vrpipe->all with source pf3k_pacbio_2_genotype_gvcfs[gatk_genotype_gvcfs_gatk3:gatk_vcf_file]:\n",
    "\t\tfilter_after_grouping => 1\n",
    "\t\tmaintain_element_grouping => 1\n",
    "\tPipeline: gatk_select_variants_apply_recalibration_for_indels_gatk3 (outputting to /lustre/scratch109/malaria/pf3k_pacbio/output belonging to group team112):\n",
    "\t\tcleanup => 0\n",
    "\t\tgatk_key => /nfs/team112_internal/production/tools/bin/gatk/dj6_sanger.ac.uk.key\n",
    "\t\tgatk_path => /nfs/team112_internal/production/tools/bin/gatk/GenomeAnalysisTK-3.4-46\n",
    "\t\tgatk_select_variants_options => -xlSelectType SNP\n",
    "\t\tindel_apply_recalibraton_options => --ts_filter_level 99.0 -tranchesFile /lustre/scratch109/malaria/pf3k_pacbio/output/a/6/3/4/642540/1_gatk_variant_recalibration_for_indels_gatk3/INDEL.recal.tranches -recalFile /lustre/scratch109/malaria/pf3k_pacbio/output/a/6/3/4/642540/1_gatk_variant_recalibration_for_indels_gatk3/INDEL.recal\n",
    "\t\tjava_exe => /software/jre1.7.0_25/bin/java\n",
    "\t\treference_fasta => /lustre/scratch109/malaria/pf3k_methods/resources/Pfalciparum.genome.fasta\n",
    "\t\tremove_input_vcfs => 0\n",
    "Is all of this correct? <y|n>: y\n",
    "\n",
    "Your new PipelineSetup has been created!\n",
    "Name: pf3k_pacbio_2_apply_recalibration_indels; Id: 850 (remember at least one of these for use later)\n"
   ]
  },
  {
   "cell_type": "raw",
   "metadata": {},
   "source": [
    "We've now gathered all information; here's what you've asked for:\n",
    "\tPipelineSetup name: pf3k_pacbio_2_annotate_snps (for user rp7 controlled by farm 'farm3')\n",
    "\tDataSource: vrpipe->all with source pf3k_pacbio_2_apply_recalibration_snps[gatk_apply_recalibration_for_snps_gatk3:recalibrated_vcf_files]:\n",
    "\t\tfilter_after_grouping => 1\n",
    "\t\tmaintain_element_grouping => 1\n",
    "\tPipeline: variant_annotation_using_snpeff_gatk_vcf_annotate (outputting to /lustre/scratch109/malaria/pf3k_pacbio/output belonging to group team112):\n",
    "\t\tcleanup => 0\n",
    "\t\tgatk_key => /nfs/team112_internal/production/tools/bin/gatk/dj6_sanger.ac.uk.key\n",
    "\t\tgatk_path => /nfs/team112_internal/production/tools/bin/gatk/GenomeAnalysisTK-3.4-46\n",
    "\t\tjava_exe => /software/jre1.7.0_25/bin/java\n",
    "\t\treference_fasta => /lustre/scratch109/malaria/pf3k_methods/resources/Pfalciparum.genome.fasta\n",
    "\t\tremove_input_vcfs => 0\n",
    "\t\tsnpeff_config_path => /lustre/scratch109/malaria/pf3k_methods/resources/snpEff/snpEff.config\n",
    "\t\tsnpeff_datadir_path => /lustre/scratch109/malaria/pf3k_methods/resources/snpEff/data/\n",
    "\t\tsnpeff_genome_version => Pfalciparum_GeneDB_Aug2015\n",
    "\t\tsnpeff_options => -no-downstream -no-upstream -onlyProtein\n",
    "\t\tsnpeff_output_format => gatk\n",
    "\t\tsnpeff_path => /nfs/team112_internal/production/tools/bin/snpEff_4_1/\n",
    "\t\ttabix_exe => /usr/bin/tabix\n",
    "\t\tvariant_annotator_options => -A SnpEff\n",
    "\t\tvcf-annotate_exe => /nfs/team112_internal/production/tools/bin/vcftools_0.1.10/bin/vcf-annotate\n",
    "\t\tvcf-annotate_options => -a /nfs/users/nfs_r/rp7/temp_github_src/pf-crosses/meta/regions-20130225.bed.gz -d key=INFO,ID=RegionType,Number=1,Type=String,Description='The type of genome region within which the variant is found. SubtelomericRepeat: repetitive regions at the ends of the chromosomes. SubtelomericHypervariable: subtelomeric region of poor conservation between the 3D7 reference genome and other samples. InternalHypervariable: chromosome-internal region of poor conservation between the 3D7 reference genome and other samples. Centromere: start and end coordinates of the centromere genome annotation. Core: everything else.' -c CHROM,FROM,TO,INFO/RegionType\n",
    "Is all of this correct? <y|n>: y\n",
    "\n",
    "Your new PipelineSetup has been created!\n",
    "Name: pf3k_pacbio_2_annotate_snps; Id: 851 (remember at least one of these for use later)\n"
   ]
  },
  {
   "cell_type": "raw",
   "metadata": {},
   "source": [
    "We've now gathered all information; here's what you've asked for:\n",
    "\tPipelineSetup name: pf3k_pacbio_2_annotate_indels (for user rp7 controlled by farm 'farm3')\n",
    "\tDataSource: vrpipe->all with source pf3k_pacbio_2_apply_recalibration_indels[gatk_apply_recalibration_for_indels_gatk3:recalibrated_vcf_files]:\n",
    "\t\tfilter_after_grouping => 1\n",
    "\t\tmaintain_element_grouping => 1\n",
    "\tPipeline: variant_annotation_using_snpeff_gatk_vcf_annotate (outputting to /lustre/scratch109/malaria/pf3k_pacbio/output belonging to group team112):\n",
    "\t\tcleanup => 0\n",
    "\t\tgatk_key => /nfs/team112_internal/production/tools/bin/gatk/dj6_sanger.ac.uk.key\n",
    "\t\tgatk_path => /nfs/team112_internal/production/tools/bin/gatk/GenomeAnalysisTK-3.4-46\n",
    "\t\tjava_exe => /software/jre1.7.0_25/bin/java\n",
    "\t\treference_fasta => /lustre/scratch109/malaria/pf3k_methods/resources/Pfalciparum.genome.fasta\n",
    "\t\tremove_input_vcfs => 0\n",
    "\t\tsnpeff_config_path => /lustre/scratch109/malaria/pf3k_methods/resources/snpEff/snpEff.config\n",
    "\t\tsnpeff_datadir_path => /lustre/scratch109/malaria/pf3k_methods/resources/snpEff/data/\n",
    "\t\tsnpeff_genome_version => Pfalciparum_GeneDB_Aug2015\n",
    "\t\tsnpeff_options => -no-downstream -no-upstream -onlyProtein\n",
    "\t\tsnpeff_output_format => gatk\n",
    "\t\tsnpeff_path => /nfs/team112_internal/production/tools/bin/snpEff_4_1/\n",
    "\t\ttabix_exe => /usr/bin/tabix\n",
    "\t\tvariant_annotator_options => -A SnpEff\n",
    "\t\tvcf-annotate_exe => /nfs/team112_internal/production/tools/bin/vcftools_0.1.10/bin/vcf-annotate\n",
    "\t\tvcf-annotate_options => -a /nfs/team112_internal/rp7/src/github/malariagen/pf-crosses/meta/regions-20130225.bed.gz -d key=INFO,ID=RegionType,Number=1,Type=String,Description='The type of genome region within which the variant is found. SubtelomericRepeat: repetitive regions at the ends of the chromosomes. SubtelomericHypervariable: subtelomeric region of poor conservation between the 3D7 reference genome and other samples. InternalHypervariable: chromosome-internal region of poor conservation between the 3D7 reference genome and other samples. Centromere: start and end coordinates of the centromere genome annotation. Core: everything else.' -c CHROM,FROM,TO,INFO/RegionType\n",
    "Is all of this correct? <y|n>: y\n",
    "\n",
    "Your new PipelineSetup has been created!\n",
    "Name: pf3k_pacbio_2_annotate_indels; Id: 852 (remember at least one of these for use later)\n"
   ]
  },
  {
   "cell_type": "raw",
   "metadata": {},
   "source": [
    "We've now gathered all information; here's what you've asked for:\n",
    "\tPipelineSetup name: pf3k_pacbio_2_combine_variants (for user rp7 controlled by farm 'farm3')\n",
    "\tDataSource: vrpipe->group_by_metadata with source pf3k_pacbio_2_annotate_snps[vcf_annotate:annotated_vcf]|pf3k_pacbio_2_annotate_indels[vcf_annotate:annotated_vcf]:\n",
    "\t\tfilter_after_grouping => 1\n",
    "\t\tmetadata_keys => chrom\n",
    "\tPipeline: gatk_combine_variants_gatk3 (outputting to /lustre/scratch109/malaria/pf3k_pacbio/output belonging to group team112):\n",
    "\t\tgatk_combine_variants_options => -genotypeMergeOptions PRIORITIZE -priority snp,indel\n",
    "\t\tgatk_key => /nfs/team112_internal/production/tools/bin/gatk/dj6_sanger.ac.uk.key\n",
    "\t\tgatk_path => /nfs/team112_internal/production/tools/bin/gatk/GenomeAnalysisTK-3.4-46\n",
    "\t\tjava_exe => /software/jre1.7.0_25/bin/java\n",
    "\t\treference_fasta => /lustre/scratch109/malaria/pf3k_methods/resources/Pfalciparum.genome.fasta\n",
    "\t\tremove_input_vcfs => 0\n",
    "Is all of this correct? <y|n>: y\n",
    "\n",
    "Your new PipelineSetup has been created!\n",
    "Name: pf3k_pacbio_2_combine_variants; Id: 853 (remember at least one of these for use later)\n"
   ]
  },
  {
   "cell_type": "raw",
   "metadata": {},
   "source": [
    "We've now gathered all information; here's what you've asked for:\n",
    "\tPipelineSetup name: pf3k_pacbio_2_variant_filtration (for user rp7 controlled by farm 'farm3')\n",
    "\tDataSource: vrpipe->all with source pf3k_pacbio_2_combine_variants[gatk_combine_variants_gatk3:combined_vcf_files]:\n",
    "\t\tfilter_after_grouping => 1\n",
    "\t\tmaintain_element_grouping => 1\n",
    "\tPipeline: gatk_variant_filter_gatk3 (outputting to /lustre/scratch109/malaria/pf3k_pacbio/output belonging to group team112):\n",
    "\t\tgatk_key => /nfs/team112_internal/production/tools/bin/gatk/dj6_sanger.ac.uk.key\n",
    "\t\tgatk_path => /nfs/team112_internal/production/tools/bin/gatk/GenomeAnalysisTK-3.4-46\n",
    "\t\tgatk_variant_filtration_options => --filterName \\\"Low_VQSLOD\\\" --filterExpression \\\"VQSLOD <= 0.0\\\" --filterName \\\"Centromere\\\" --filterExpression \\\"RegionType == 'Centromere'\\\" --filterName \\\"InternalHypervariable\\\" --filterExpression \\\"RegionType == 'InternalHypervariable'\\\" --filterName \\\"SubtelomericHypervariable\\\" --filterExpression \\\"RegionType == 'SubtelomericHypervariable'\\\" --filterName \\\"SubtelomericRepeat\\\" --filterExpression \\\"RegionType == 'SubtelomericRepeat'\\\" --invalidatePreviousFilters\n",
    "\t\tjava_exe => /software/jre1.7.0_25/bin/java\n",
    "\t\treference_fasta => /lustre/scratch109/malaria/pf3k_methods/resources/Pfalciparum.genome.fasta\n",
    "\t\tremove_input_vcfs => 0\n",
    "Is all of this correct? <y|n>: y\n",
    "\n",
    "Your new PipelineSetup has been created!\n",
    "Name: pf3k_pacbio_2_variant_filtration; Id: 854 (remember at least one of these for use later)\n"
   ]
  },
  {
   "cell_type": "raw",
   "metadata": {},
   "source": [
    "cd /nfs/team112_internal/rp7/data/pf3k/pacbio_2\n",
    "mkdir vcf_symlinks\n",
    "mkdir vcf\n",
    "vrpipe-output --setup pf3k_pacbio_2_variant_filtration --output_dir /nfs/team112_internal/rp7/data/pf3k/pacbio_2/vcf_symlinks --basename_as_output\n",
    "cp -L vcf_symlinks/* vcf/\n",
    "rm -R vcf_symlinks"
   ]
  },
  {
   "cell_type": "markdown",
   "metadata": {
    "collapsed": true
   },
   "source": [
    "# Create whole genome VCF"
   ]
  },
  {
   "cell_type": "code",
   "execution_count": 51,
   "metadata": {
    "collapsed": true
   },
   "outputs": [],
   "source": [
    "!{BCFTOOLS} concat {\" \".join(chromosome_vcfs)} \\\n",
    "| sed 's/##FORMAT=<ID=AD,Number=./##FORMAT=<ID=AD,Number=R/' \\\n",
    "| bgzip -c > {WG_VCF_FN}\n",
    "!tabix -p vcf {WG_VCF_FN}"
   ]
  },
  {
   "cell_type": "code",
   "execution_count": 48,
   "metadata": {
    "collapsed": false
   },
   "outputs": [
    {
     "data": {
      "text/plain": [
       "'/nfs/team112_internal/rp7/data/pf3k/pacbio_2/vcf/pf3k_pacbio_2.vcf.gz'"
      ]
     },
     "execution_count": 48,
     "metadata": {},
     "output_type": "execute_result"
    }
   ],
   "source": [
    "WG_VCF_FN"
   ]
  },
  {
   "cell_type": "markdown",
   "metadata": {},
   "source": [
    "# Create README section containing variant numbers"
   ]
  },
  {
   "cell_type": "code",
   "execution_count": 52,
   "metadata": {
    "collapsed": false
   },
   "outputs": [
    {
     "name": "stdout",
     "output_type": "stream",
     "text": [
      "259,931 variants\n",
      "104,118 SNPs\n",
      "155,813 indels\n",
      "\n",
      "221,850 PASS variants\n",
      "79,776 PASS SNPs\n",
      "142,074 PASS indels\n",
      "\n",
      "127,070 PASS biallelic variants\n",
      "67,297 PASS biallelic SNPs\n",
      "59,773 PASS biallelic indels\n",
      "\n",
      "176,843 VQSLOD>6.0 variants\n",
      "61,191 VQSLOD>6.0 SNPs\n",
      "115,652 VQSLOD>6.0 indels\n",
      "\n"
     ]
    }
   ],
   "source": [
    "number_of_snps = !{BCFTOOLS} query -f '%CHROM\\t%POS\\n' --include 'TYPE=\"snp\"' {WG_VCF_FN} | wc -l\n",
    "number_of_indels = !{BCFTOOLS} query -f '%CHROM\\t%POS\\n' --include 'TYPE!=\"snp\"' {WG_VCF_FN} | wc -l\n",
    "number_of_pass_snps = !{BCFTOOLS} query -f '%CHROM\\t%POS\\n' --include 'FILTER=\"PASS\" && TYPE=\"snp\"' {WG_VCF_FN} | wc -l\n",
    "number_of_pass_indels = !{BCFTOOLS} query -f '%CHROM\\t%POS\\n' --include 'FILTER=\"PASS\" && TYPE!=\"snp\"' {WG_VCF_FN} | wc -l\n",
    "number_of_pass_biallelic_snps = !{BCFTOOLS} query -f '%CHROM\\t%POS\\n' --include 'FILTER=\"PASS\" && TYPE=\"snp\" && N_ALT=1' {WG_VCF_FN} | wc -l\n",
    "number_of_pass_biallelic_indels = !{BCFTOOLS} query -f '%CHROM\\t%POS\\n' --include 'FILTER=\"PASS\" && TYPE!=\"snp\" && N_ALT=1' {WG_VCF_FN} | wc -l\n",
    "number_of_VQSLODgt6_snps = !{BCFTOOLS} query -f '%CHROM\\t%POS\\n' --include 'FILTER=\"PASS\" && TYPE=\"snp\" && VQSLOD>6' {WG_VCF_FN} | wc -l\n",
    "number_of_VQSLODgt6_indels = !{BCFTOOLS} query -f '%CHROM\\t%POS\\n' --include 'FILTER=\"PASS\" && TYPE!=\"snp\" && VQSLOD>6' {WG_VCF_FN} | wc -l\n",
    "\n",
    "print(\"%s variants\" % (\"{:,}\".format(int(number_of_snps[0]) + int(number_of_indels[0]))))\n",
    "print(\"%s SNPs\" % (\"{:,}\".format(int(number_of_snps[0]))))\n",
    "print(\"%s indels\" % (\"{:,}\".format(int(number_of_indels[0]))))\n",
    "print()\n",
    "print(\"%s PASS variants\" % (\"{:,}\".format(int(number_of_pass_snps[0]) + int(number_of_pass_indels[0]))))\n",
    "print(\"%s PASS SNPs\" % (\"{:,}\".format(int(number_of_pass_snps[0]))))\n",
    "print(\"%s PASS indels\" % (\"{:,}\".format(int(number_of_pass_indels[0]))))\n",
    "print()\n",
    "print(\"%s PASS biallelic variants\" % (\"{:,}\".format(int(number_of_pass_biallelic_snps[0]) + int(number_of_pass_biallelic_indels[0]))))\n",
    "print(\"%s PASS biallelic SNPs\" % (\"{:,}\".format(int(number_of_pass_biallelic_snps[0]))))\n",
    "print(\"%s PASS biallelic indels\" % (\"{:,}\".format(int(number_of_pass_biallelic_indels[0]))))\n",
    "print()\n",
    "print(\"%s VQSLOD>6.0 variants\" % (\"{:,}\".format(int(number_of_VQSLODgt6_snps[0]) + int(number_of_VQSLODgt6_indels[0]))))\n",
    "print(\"%s VQSLOD>6.0 SNPs\" % (\"{:,}\".format(int(number_of_VQSLODgt6_snps[0]))))\n",
    "print(\"%s VQSLOD>6.0 indels\" % (\"{:,}\".format(int(number_of_VQSLODgt6_indels[0]))))\n",
    "print()"
   ]
  },
  {
   "cell_type": "code",
   "execution_count": 53,
   "metadata": {
    "collapsed": false
   },
   "outputs": [
    {
     "data": {
      "text/plain": [
       "'221,850/259,931 variants (85%) pass all filters'"
      ]
     },
     "execution_count": 53,
     "metadata": {},
     "output_type": "execute_result"
    }
   ],
   "source": [
    "\"{number_of_pass_variants}/{number_of_variants} variants ({pct_pass}%) pass all filters\".format(\n",
    "        number_of_variants=\"{:,}\".format(int(number_of_snps[0]) + int(number_of_indels[0])),\n",
    "        number_of_pass_variants=\"{:,}\".format(int(number_of_pass_snps[0]) + int(number_of_pass_indels[0])),\n",
    "        pct_pass=round((\n",
    "            (int(number_of_pass_snps[0]) + int(number_of_pass_indels[0])) /\n",
    "            (int(number_of_snps[0]) + int(number_of_indels[0]))\n",
    "        ) * 100)\n",
    ")"
   ]
  },
  {
   "cell_type": "code",
   "execution_count": 52,
   "metadata": {
    "collapsed": false
   },
   "outputs": [
    {
     "data": {
      "text/plain": [
       "'214,349/251,945 variants (85%) pass all filters'"
      ]
     },
     "execution_count": 52,
     "metadata": {},
     "output_type": "execute_result"
    }
   ],
   "source": [
    "\"{number_of_pass_variants}/{number_of_variants} variants ({pct_pass}%) pass all filters\".format(\n",
    "        number_of_variants=\"{:,}\".format(int(number_of_snps[0]) + int(number_of_indels[0])),\n",
    "        number_of_pass_variants=\"{:,}\".format(int(number_of_pass_snps[0]) + int(number_of_pass_indels[0])),\n",
    "        pct_pass=round((\n",
    "            (int(number_of_pass_snps[0]) + int(number_of_pass_indels[0])) /\n",
    "            (int(number_of_snps[0]) + int(number_of_indels[0]))\n",
    "        ) * 100)\n",
    ")"
   ]
  },
  {
   "cell_type": "code",
   "execution_count": 54,
   "metadata": {
    "collapsed": false
   },
   "outputs": [
    {
     "name": "stdout",
     "output_type": "stream",
     "text": [
      "\n",
      "The VCF file contains details of 259,931 discovered variants of which 104,118\n",
      "are SNPs and 155,813 are indels (or multi-allelic mixtures of SNPs\n",
      "and indels). It is important to note that many of these variants are\n",
      "considered low quality. Only the variants for which the FILTER column is set\n",
      "to PASS should be considered of high quality. There are 221,850 such high-\n",
      "quality PASS variants (79,776 SNPs and 142,074 indels).\n",
      "\n",
      "The FILTER column is based on two types of information. Firstly certain regions\n",
      "of the genome are considered \"non-core\". This includes sub-telomeric regions,\n",
      "centromeres and internal VAR gene clusters on chromosomes 4, 6, 7, 8 and 12.\n",
      "The apicoplast and mitochondrion are also considered non-core. All variants within\n",
      "non-core regions are considered to be low quality, and hence will not have the\n",
      "FILTER column set to PASS. The regions which are core and non-core can be found\n",
      "in the file resources/regions-20130225.bed.gz.\n",
      "\n",
      "Secondly, variants are filtered out based on a quality score called VQSLOD. All\n",
      "variants with a VQSLOD score below 0 are filtered out, i.e. will have a value of\n",
      "Low_VQSLOD in the FILTER column, rather than PASS. The VQSLOD score for each\n",
      "variant can be found in the INFO field of the VCF file. It is possible to use the\n",
      "VQSLOD score to define a more or less stringent set of variants. For example for\n",
      "a very stringent set of the highest quality variants, select only those variants\n",
      "where VQSLOD >= 6. There are 61,191 such stringent SNPs and 115,652\n",
      "such stringent indels.\n",
      "\n",
      "It is also important to note that some variants have more than two alleles. For\n",
      "example, amongst the 79,776 high quality PASS SNPs, 67,297 are biallelic. The\n",
      "remaining 12,479 high quality PASS SNPs have 3 or more alleles. Similarly, amongst\n",
      "the 142,074 high-quality PASS indels, 59,773 are biallelic. The remaining\n",
      "82,301 high quality PASS indels have 3 or more alleles.\n",
      "\n"
     ]
    }
   ],
   "source": [
    "print('''\n",
    "The VCF file contains details of {number_of_variants} discovered variants of which {number_of_snps}\n",
    "are SNPs and {number_of_indels} are indels (or multi-allelic mixtures of SNPs\n",
    "and indels). It is important to note that many of these variants are\n",
    "considered low quality. Only the variants for which the FILTER column is set\n",
    "to PASS should be considered of high quality. There are {number_of_pass_variants} such high-\n",
    "quality PASS variants ({number_of_pass_snps} SNPs and {number_of_pass_indels} indels).\n",
    "\n",
    "The FILTER column is based on two types of information. Firstly certain regions\n",
    "of the genome are considered \"non-core\". This includes sub-telomeric regions,\n",
    "centromeres and internal VAR gene clusters on chromosomes 4, 6, 7, 8 and 12.\n",
    "The apicoplast and mitochondrion are also considered non-core. All variants within\n",
    "non-core regions are considered to be low quality, and hence will not have the\n",
    "FILTER column set to PASS. The regions which are core and non-core can be found\n",
    "in the file resources/regions-20130225.bed.gz.\n",
    "\n",
    "Secondly, variants are filtered out based on a quality score called VQSLOD. All\n",
    "variants with a VQSLOD score below 0 are filtered out, i.e. will have a value of\n",
    "Low_VQSLOD in the FILTER column, rather than PASS. The VQSLOD score for each\n",
    "variant can be found in the INFO field of the VCF file. It is possible to use the\n",
    "VQSLOD score to define a more or less stringent set of variants. For example for\n",
    "a very stringent set of the highest quality variants, select only those variants\n",
    "where VQSLOD >= 6. There are {number_of_VQSLODgt6_snps} such stringent SNPs and {number_of_VQSLODgt6_indels}\n",
    "such stringent indels.\n",
    "\n",
    "It is also important to note that some variants have more than two alleles. For\n",
    "example, amongst the {number_of_pass_snps} high quality PASS SNPs, {number_of_pass_biallelic_snps} are biallelic. The\n",
    "remaining {number_of_pass_multiallelic_snps} high quality PASS SNPs have 3 or more alleles. Similarly, amongst\n",
    "the {number_of_pass_indels} high-quality PASS indels, {number_of_pass_biallelic_indels} are biallelic. The remaining\n",
    "{number_of_pass_multiallelic_indels} high quality PASS indels have 3 or more alleles.\n",
    "'''.format(\n",
    "        number_of_variants=\"{:,}\".format(int(number_of_snps[0]) + int(number_of_indels[0])),\n",
    "        number_of_snps=\"{:,}\".format(int(number_of_snps[0])),\n",
    "        number_of_indels=\"{:,}\".format(int(number_of_indels[0])),\n",
    "        number_of_pass_variants=\"{:,}\".format(int(number_of_pass_snps[0]) + int(number_of_pass_indels[0])),\n",
    "        number_of_pass_snps=\"{:,}\".format(int(number_of_pass_snps[0])),\n",
    "        number_of_pass_indels=\"{:,}\".format(int(number_of_pass_indels[0])),\n",
    "        number_of_VQSLODgt6_snps=\"{:,}\".format(int(number_of_VQSLODgt6_snps[0])),\n",
    "        number_of_VQSLODgt6_indels=\"{:,}\".format(int(number_of_VQSLODgt6_indels[0])),\n",
    "        number_of_pass_biallelic_snps=\"{:,}\".format(int(number_of_pass_biallelic_snps[0])),\n",
    "        number_of_pass_biallelic_indels=\"{:,}\".format(int(number_of_pass_biallelic_indels[0])),\n",
    "        number_of_pass_multiallelic_snps=\"{:,}\".format(int(number_of_pass_snps[0]) - int(number_of_pass_biallelic_snps[0])),\n",
    "        number_of_pass_multiallelic_indels=\"{:,}\".format(int(number_of_pass_indels[0]) - int(number_of_pass_biallelic_indels[0])),\n",
    "    )\n",
    ")"
   ]
  },
  {
   "cell_type": "code",
   "execution_count": 53,
   "metadata": {
    "collapsed": false
   },
   "outputs": [
    {
     "name": "stdout",
     "output_type": "stream",
     "text": [
      "\n",
      "The VCF file contains details of 251,945 discovered variants of which 100,477\n",
      "are SNPs and 151,468 are indels (or multi-allelic mixtures of SNPs\n",
      "and indels). It is important to note that many of these variants are\n",
      "considered low quality. Only the variants for which the FILTER column is set\n",
      "to PASS should be considered of high quality. There are 214,349 such high-\n",
      "quality PASS variants (76,589 SNPs and 137,760 indels).\n",
      "\n",
      "The FILTER column is based on two types of information. Firstly certain regions\n",
      "of the genome are considered \"non-core\". This includes sub-telomeric regions,\n",
      "centromeres and internal VAR gene clusters on chromosomes 4, 6, 7, 8 and 12.\n",
      "The apicoplast and mitochondrion are also considered non-core. All variants within\n",
      "non-core regions are considered to be low quality, and hence will not have the\n",
      "FILTER column set to PASS. The regions which are core and non-core can be found\n",
      "in the file resources/regions-20130225.bed.gz.\n",
      "\n",
      "Secondly, variants are filtered out based on a quality score called VQSLOD. All\n",
      "variants with a VQSLOD score below 0 are filtered out, i.e. will have a value of\n",
      "Low_VQSLOD in the FILTER column, rather than PASS. The VQSLOD score for each\n",
      "variant can be found in the INFO field of the VCF file. It is possible to use the\n",
      "VQSLOD score to define a more or less stringent set of variants. For example for\n",
      "a very stringent set of the highest quality variants, select only those variants\n",
      "where VQSLOD >= 6. There are 59,522 such stringent SNPs and 113,974\n",
      "such stringent indels.\n",
      "\n",
      "It is also important to note that some variants have more than two alleles. For\n",
      "example, amongst the 76,589 high quality PASS SNPs, 64,825 are biallelic. The\n",
      "remaining 11,764 high quality PASS SNPs have 3 or more alleles. Similarly, amongst\n",
      "the 137,760 high-quality PASS indels, 58,804 are biallelic. The remaining\n",
      "78,956 high quality PASS indels have 3 or more alleles.\n",
      "\n"
     ]
    }
   ],
   "source": [
    "print('''\n",
    "The VCF file contains details of {number_of_variants} discovered variants of which {number_of_snps}\n",
    "are SNPs and {number_of_indels} are indels (or multi-allelic mixtures of SNPs\n",
    "and indels). It is important to note that many of these variants are\n",
    "considered low quality. Only the variants for which the FILTER column is set\n",
    "to PASS should be considered of high quality. There are {number_of_pass_variants} such high-\n",
    "quality PASS variants ({number_of_pass_snps} SNPs and {number_of_pass_indels} indels).\n",
    "\n",
    "The FILTER column is based on two types of information. Firstly certain regions\n",
    "of the genome are considered \"non-core\". This includes sub-telomeric regions,\n",
    "centromeres and internal VAR gene clusters on chromosomes 4, 6, 7, 8 and 12.\n",
    "The apicoplast and mitochondrion are also considered non-core. All variants within\n",
    "non-core regions are considered to be low quality, and hence will not have the\n",
    "FILTER column set to PASS. The regions which are core and non-core can be found\n",
    "in the file resources/regions-20130225.bed.gz.\n",
    "\n",
    "Secondly, variants are filtered out based on a quality score called VQSLOD. All\n",
    "variants with a VQSLOD score below 0 are filtered out, i.e. will have a value of\n",
    "Low_VQSLOD in the FILTER column, rather than PASS. The VQSLOD score for each\n",
    "variant can be found in the INFO field of the VCF file. It is possible to use the\n",
    "VQSLOD score to define a more or less stringent set of variants. For example for\n",
    "a very stringent set of the highest quality variants, select only those variants\n",
    "where VQSLOD >= 6. There are {number_of_VQSLODgt6_snps} such stringent SNPs and {number_of_VQSLODgt6_indels}\n",
    "such stringent indels.\n",
    "\n",
    "It is also important to note that some variants have more than two alleles. For\n",
    "example, amongst the {number_of_pass_snps} high quality PASS SNPs, {number_of_pass_biallelic_snps} are biallelic. The\n",
    "remaining {number_of_pass_multiallelic_snps} high quality PASS SNPs have 3 or more alleles. Similarly, amongst\n",
    "the {number_of_pass_indels} high-quality PASS indels, {number_of_pass_biallelic_indels} are biallelic. The remaining\n",
    "{number_of_pass_multiallelic_indels} high quality PASS indels have 3 or more alleles.\n",
    "'''.format(\n",
    "        number_of_variants=\"{:,}\".format(int(number_of_snps[0]) + int(number_of_indels[0])),\n",
    "        number_of_snps=\"{:,}\".format(int(number_of_snps[0])),\n",
    "        number_of_indels=\"{:,}\".format(int(number_of_indels[0])),\n",
    "        number_of_pass_variants=\"{:,}\".format(int(number_of_pass_snps[0]) + int(number_of_pass_indels[0])),\n",
    "        number_of_pass_snps=\"{:,}\".format(int(number_of_pass_snps[0])),\n",
    "        number_of_pass_indels=\"{:,}\".format(int(number_of_pass_indels[0])),\n",
    "        number_of_VQSLODgt6_snps=\"{:,}\".format(int(number_of_VQSLODgt6_snps[0])),\n",
    "        number_of_VQSLODgt6_indels=\"{:,}\".format(int(number_of_VQSLODgt6_indels[0])),\n",
    "        number_of_pass_biallelic_snps=\"{:,}\".format(int(number_of_pass_biallelic_snps[0])),\n",
    "        number_of_pass_biallelic_indels=\"{:,}\".format(int(number_of_pass_biallelic_indels[0])),\n",
    "        number_of_pass_multiallelic_snps=\"{:,}\".format(int(number_of_pass_snps[0]) - int(number_of_pass_biallelic_snps[0])),\n",
    "        number_of_pass_multiallelic_indels=\"{:,}\".format(int(number_of_pass_indels[0]) - int(number_of_pass_biallelic_indels[0])),\n",
    "    )\n",
    ")"
   ]
  },
  {
   "cell_type": "markdown",
   "metadata": {},
   "source": [
    "# Make all files read-only"
   ]
  },
  {
   "cell_type": "code",
   "execution_count": 23,
   "metadata": {
    "collapsed": false
   },
   "outputs": [
    {
     "name": "stdout",
     "output_type": "stream",
     "text": [
      "chmod: changing permissions of `/nfs/team112_internal/rp7/data/pf3k/mrs_1/pf3k_mrs_1_thomas_bams.txt': Operation not permitted\r\n"
     ]
    }
   ],
   "source": [
    "# Seems like Jim prefers team112 to have write access, so haven't made unreadable\n",
    "# !chmod -R uga-w {RELEASE_DIR}"
   ]
  },
  {
   "cell_type": "code",
   "execution_count": 54,
   "metadata": {
    "collapsed": false
   },
   "outputs": [
    {
     "data": {
      "text/plain": [
       "'/nfs/team112_internal/rp7/data/pf3k/pacbio_1'"
      ]
     },
     "execution_count": 54,
     "metadata": {},
     "output_type": "execute_result"
    }
   ],
   "source": [
    "RELEASE_DIR"
   ]
  },
  {
   "cell_type": "markdown",
   "metadata": {
    "collapsed": true
   },
   "source": [
    "# Cleanup\n",
    "vrpipe-setup --setup pf3k_pacbio_2_haplotype_caller --deactivate\n",
    "\n",
    "vrpipe-setup --setup pf3k_pacbio_2_combine_gvcfs --deactivate\n",
    "\n",
    "vrpipe-setup --setup pf3k_pacbio_2_genotype_gvcfs --deactivate\n",
    "\n",
    "vrpipe-setup --setup pf3k_pacbio_2_variant_recalibration_snps_QD_SOR_DP --deactivate\n",
    "\n",
    "vrpipe-setup --setup pf3k_pacbio_2_variant_recalibration_indels_QD_DP --deactivate\n",
    "\n",
    "vrpipe-setup --setup pf3k_pacbio_2_apply_recalibration_snps --deactivate\n",
    "\n",
    "vrpipe-setup --setup pf3k_pacbio_2_apply_recalibration_indels --deactivate\n",
    "\n",
    "vrpipe-setup --setup pf3k_pacbio_2_annotate_snps --deactivate\n",
    "\n",
    "vrpipe-setup --setup pf3k_pacbio_2_annotate_indels --deactivate\n",
    "\n",
    "vrpipe-setup --setup pf3k_pacbio_2_combine_variants --deactivate\n",
    "\n",
    "vrpipe-setup --setup pf3k_pacbio_2_variant_filtration --deactivate\n",
    "\n"
   ]
  },
  {
   "cell_type": "code",
   "execution_count": null,
   "metadata": {
    "collapsed": true
   },
   "outputs": [],
   "source": []
  }
 ],
 "metadata": {
  "anaconda-cloud": {},
  "kernelspec": {
   "display_name": "Python 3",
   "language": "python",
   "name": "python3"
  },
  "language_info": {
   "codemirror_mode": {
    "name": "ipython",
    "version": 3
   },
   "file_extension": ".py",
   "mimetype": "text/x-python",
   "name": "python",
   "nbconvert_exporter": "python",
   "pygments_lexer": "ipython3",
   "version": "3.5.2"
  }
 },
 "nbformat": 4,
 "nbformat_minor": 0
}
