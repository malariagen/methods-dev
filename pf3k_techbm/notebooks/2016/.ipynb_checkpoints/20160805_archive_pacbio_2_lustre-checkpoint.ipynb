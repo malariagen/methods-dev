{
 "cells": [
  {
   "cell_type": "markdown",
   "metadata": {},
   "source": [
    "# Introduction\n",
    "As part of cleanup of lustre, I decided we should copy various pf3k_pacbio_2 outputs used or created by vrpipe.\n",
    "\n",
    "Setups used were: 843-847, 849-854\n",
    "\n",
    "I decided it might be good to keep inputs, resources, outputs of HaplotypeCaller and final vcfs\n"
   ]
  },
  {
   "cell_type": "code",
   "execution_count": 3,
   "metadata": {
    "collapsed": true
   },
   "outputs": [],
   "source": [
    "archive_dir = '/nfs/team112_internal/rp7/data/pf3k/pacbio_2'\n",
    "for chrom in ['Pf3D7_%02d_v3' % n for n in range(1, 15)] + ['Pf3D7_API_v3', 'Pf_M76611']:\n",
    "    !mkdir -p {\"%s/vcf/vcf_symlinks/%s\" % (archive_dir, chrom)}"
   ]
  },
  {
   "cell_type": "code",
   "execution_count": 2,
   "metadata": {
    "collapsed": true
   },
   "outputs": [],
   "source": [
    "!cp -R /lustre/scratch109/malaria/pf3k_pacbio/input {archive_dir}/"
   ]
  },
  {
   "cell_type": "code",
   "execution_count": null,
   "metadata": {
    "collapsed": true
   },
   "outputs": [],
   "source": [
    "pf3k_pacbio_2_haplotype_caller\n"
   ]
  },
  {
   "cell_type": "raw",
   "metadata": {},
   "source": [
    "# copy HaplotypeCaller outputs\n",
    "cd /nfs/team112_internal/rp7/data/pf3k/pacbio_2/vcf\n",
    "mkdir haplotype_caller\n",
    "vrpipe-output --setup pf3k_pacbio_2_haplotype_caller --output_dir /nfs/team112_internal/rp7/data/pf3k/pacbio_2/vcf/vcf_symlinks --basename_from_metadata %chrom%/%sample%.%chrom%\n",
    "cp -R -L vcf_symlinks/* haplotype_caller/\n",
    "rm -R vcf_symlinks\n"
   ]
  },
  {
   "cell_type": "raw",
   "metadata": {},
   "source": [
    "# The above gave the following errors - seems like SD01 is not included - though SD01 was included in final vcfs, so must simply be an issue of VR-PIPE metadata\n",
    "DataElement 642498 resulted in output files, none of which had metadata keys chrom sample chrom; skipping\n",
    "DataElement 642499 resulted in output files, none of which had metadata keys chrom sample chrom; skipping\n",
    "DataElement 642500 resulted in output files, none of which had metadata keys chrom sample chrom; skipping\n",
    "DataElement 642501 resulted in output files, none of which had metadata keys chrom sample chrom; skipping\n",
    "DataElement 642502 resulted in output files, none of which had metadata keys chrom sample chrom; skipping\n",
    "DataElement 642503 resulted in output files, none of which had metadata keys chrom sample chrom; skipping\n",
    "DataElement 642504 resulted in output files, none of which had metadata keys chrom sample chrom; skipping\n",
    "DataElement 642505 resulted in output files, none of which had metadata keys chrom sample chrom; skipping\n",
    "DataElement 642506 resulted in output files, none of which had metadata keys chrom sample chrom; skipping\n",
    "DataElement 642507 resulted in output files, none of which had metadata keys chrom sample chrom; skipping\n",
    "DataElement 642508 resulted in output files, none of which had metadata keys chrom sample chrom; skipping\n",
    "DataElement 642509 resulted in output files, none of which had metadata keys chrom sample chrom; skipping\n",
    "DataElement 642510 resulted in output files, none of which had metadata keys chrom sample chrom; skipping\n",
    "DataElement 642511 resulted in output files, none of which had metadata keys chrom sample chrom; skipping\n"
   ]
  }
 ],
 "metadata": {
  "kernelspec": {
   "display_name": "Python 3",
   "language": "python",
   "name": "python3"
  },
  "language_info": {
   "codemirror_mode": {
    "name": "ipython",
    "version": 3
   },
   "file_extension": ".py",
   "mimetype": "text/x-python",
   "name": "python",
   "nbconvert_exporter": "python",
   "pygments_lexer": "ipython3",
   "version": "3.4.3"
  }
 },
 "nbformat": 4,
 "nbformat_minor": 0
}
