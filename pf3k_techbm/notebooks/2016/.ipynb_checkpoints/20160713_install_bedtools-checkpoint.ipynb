{
 "cells": [
  {
   "cell_type": "raw",
   "metadata": {},
   "source": [
    "mkdir -p /nfs/team112_internal/rp7/opt/bedtools\n",
    "cd /nfs/team112_internal/rp7/opt/bedtools\n",
    "wget https://github.com/arq5x/bedtools2/releases/download/v2.26.0/bedtools-2.26.0.tar.gz\n",
    "tar -zxvf bedtools-2.26.0.tar.gz\n",
    "cd bedtools2\n",
    "make"
   ]
  },
  {
   "cell_type": "code",
   "execution_count": 1,
   "metadata": {
    "collapsed": true
   },
   "outputs": [],
   "source": [
    "multiIntersectBed = '/nfs/team112_internal/rp7/opt/bedtools/bedtools-2.26.0/bin/multiIntersectBed'"
   ]
  },
  {
   "cell_type": "code",
   "execution_count": null,
   "metadata": {
    "collapsed": true
   },
   "outputs": [],
   "source": [
    "bedtools_command = '''\\\n",
    "{multiIntersectBed} \\\n",
    "-i {bed_files_list} \\\n",
    "-empty \\\n",
    "-g {genome} \\\n",
    "| cut -f 1-4 \\\n",
    "> {output_filename}'''.format(\n",
    "    multiIntersectBed = multiIntersectBed,\n",
    "    bed_files_list = \" \".join([callable_loci_dir + '/' + x + '.callable.bed' for x in high_coverage_samples]),\n",
    "    genome = fasta_fai_fn,\n",
    "    output_filename = callable_loci_fn\n",
    ")"
   ]
  }
 ],
 "metadata": {
  "kernelspec": {
   "display_name": "Python 3",
   "language": "python",
   "name": "python3"
  },
  "language_info": {
   "codemirror_mode": {
    "name": "ipython",
    "version": 3
   },
   "file_extension": ".py",
   "mimetype": "text/x-python",
   "name": "python",
   "nbconvert_exporter": "python",
   "pygments_lexer": "ipython3",
   "version": "3.4.3"
  }
 },
 "nbformat": 4,
 "nbformat_minor": 0
}
