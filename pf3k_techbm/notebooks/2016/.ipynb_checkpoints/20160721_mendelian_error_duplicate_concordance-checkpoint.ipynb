{
 "cells": [
  {
   "cell_type": "markdown",
   "metadata": {},
   "source": [
    "#Plan\n",
    "- Similar to 20160720_mendelian_error_duplicate_concordance but\n",
    "- Classify as SNP/INDEL before deciding which are multiallelic"
   ]
  },
  {
   "cell_type": "markdown",
   "metadata": {},
   "source": [
    "See 20160203_release5_npy_hdf5.ipynb for creation of VCF specific to crosses"
   ]
  },
  {
   "cell_type": "code",
   "execution_count": 1,
   "metadata": {
    "collapsed": false
   },
   "outputs": [
    {
     "name": "stdout",
     "output_type": "stream",
     "text": [
      "python 3.4.3 |Anaconda 2.2.0 (64-bit)| (default, Mar  6 2015, 12:03:53) \n",
      "[GCC 4.4.7 20120313 (Red Hat 4.4.7-1)]\n",
      "numpy 1.9.2\n",
      "scipy 0.15.1\n",
      "pandas 0.15.2\n",
      "numexpr 2.3.1\n",
      "pysam 0.8.3\n",
      "pysamstats 0.23\n",
      "petl 1.0.11\n",
      "petlx 1.0.3\n",
      "vcf 0.6.7\n",
      "vcfnp 2.3.0.dev0\n",
      "h5py 2.4.0\n",
      "tables 3.1.1\n"
     ]
    }
   ],
   "source": [
    "%run _standard_imports.ipynb\n",
    "%run _shared_setup.ipynb\n"
   ]
  },
  {
   "cell_type": "code",
   "execution_count": null,
   "metadata": {
    "collapsed": false
   },
   "outputs": [],
   "source": [
    "release5_final_files_dir = '/nfs/team112_internal/production/release_build/Pf3K/pilot_5_0'\n",
    "# chrom_vcf_fn = \"%s/SNP_INDEL_Pf3D7_14_v3.combined.filtered.vcf.gz\" % (release5_final_files_dir)\n",
    "crosses_vcf_fn = \"%s/SNP_INDEL_WG.combined.filtered.crosses.vcf.gz\" % (release5_final_files_dir)\n",
    "sites_only_vcf_fn = \"%s/SNP_INDEL_WG.combined.filtered.sites.vcf.gz\" % (release5_final_files_dir)\n",
    "\n",
    "output_dir = \"/lustre/scratch109/malaria/rp7/data/pf3k/pilot_5_0/20160721_mendelian_error_duplicate_concordance\"\n",
    "!mkdir -p {output_dir}/vcf\n",
    "\n",
    "release5_crosses_metadata_txt_fn = '../../meta/pf3k_release_5_crosses_metadata.txt'\n",
    "gff_fn = \"%s/Pfalciparum.noseq.gff3.gz\" % output_dir\n",
    "cds_gff_fn = \"%s/Pfalciparum.noseq.gff3.cds.gz\" % output_dir\n",
    "\n",
    "results_table_fn = \"%s/genotype_quality.xlsx\" % output_dir\n",
    "counts_table_fn = \"%s/variant_counts.xlsx\" % output_dir\n",
    "simplifed_counts_table_fn = \"%s/simplified_variant_counts.xlsx\" % output_dir\n",
    "\n",
    "BCFTOOLS = '/nfs/team112_internal/rp7/src/github/malariagen/methods-dev/pf3k_techbm/opt_4/bcftools/bcftools'\n",
    "GATK = '/software/jre1.7.0_25/bin/java -jar /nfs/team112_internal/production/tools/bin/gatk/GenomeAnalysisTK-3.4-46/GenomeAnalysisTK.jar'"
   ]
  },
  {
   "cell_type": "code",
   "execution_count": 3,
   "metadata": {
    "collapsed": false
   },
   "outputs": [
    {
     "data": {
      "text/plain": [
       "'/lustre/scratch109/malaria/rp7/data/pf3k/pilot_5_0/20160721_mendelian_error_duplicate_concordance/Pfalciparum.noseq.gff3.gz'"
      ]
     },
     "execution_count": 3,
     "metadata": {},
     "output_type": "execute_result"
    }
   ],
   "source": [
    "gff_fn"
   ]
  },
  {
   "cell_type": "code",
   "execution_count": 4,
   "metadata": {
    "collapsed": false
   },
   "outputs": [
    {
     "name": "stdout",
     "output_type": "stream",
     "text": [
      "--2016-07-21 19:20:58--  ftp://ftp.sanger.ac.uk/pub/project/pathogens/gff3/2016-06/Pfalciparum.noseq.gff3.gz\n",
      "           => `/lustre/scratch109/malaria/rp7/data/pf3k/pilot_5_0/20160721_mendelian_error_duplicate_concordance/Pfalciparum.noseq.gff3.gz'\n",
      "Resolving ftp.sanger.ac.uk (ftp.sanger.ac.uk)... 193.62.203.17\n",
      "Connecting to ftp.sanger.ac.uk (ftp.sanger.ac.uk)|193.62.203.17|:21... connected.\n",
      "Logging in as anonymous ... Logged in!\n",
      "==> SYST ... done.    ==> PWD ... done.\n",
      "==> TYPE I ... done.  ==> CWD (1) /pub/project/pathogens/gff3/2016-06 ... done.\n",
      "==> SIZE Pfalciparum.noseq.gff3.gz ... 4852221\n",
      "==> PASV ... done.    ==> RETR Pfalciparum.noseq.gff3.gz ... done.\n",
      "Length: 4852221 (4.6M) (unauthoritative)\n",
      "\n",
      "100%[======================================>] 4,852,221   --.-K/s   in 0.08s   \n",
      "\n",
      "2016-07-21 19:20:58 (56.9 MB/s) - `/lustre/scratch109/malaria/rp7/data/pf3k/pilot_5_0/20160721_mendelian_error_duplicate_concordance/Pfalciparum.noseq.gff3.gz' saved [4852221]\n",
      "\n"
     ]
    }
   ],
   "source": [
    "!wget ftp://ftp.sanger.ac.uk/pub/project/pathogens/gff3/2016-06/Pfalciparum.noseq.gff3.gz \\\n",
    "    -O {gff_fn}"
   ]
  },
  {
   "cell_type": "code",
   "execution_count": 5,
   "metadata": {
    "collapsed": false
   },
   "outputs": [],
   "source": [
    "!zgrep CDS {gff_fn} | sort -k1,1 -k4n,5n | cut -f 1,4,5 | sed 's/$/\\t1/' | bgzip -c > {cds_gff_fn} && tabix -s1 -b2 -e3 {cds_gff_fn}"
   ]
  },
  {
   "cell_type": "code",
   "execution_count": 6,
   "metadata": {
    "collapsed": false
   },
   "outputs": [
    {
     "data": {
      "text/plain": [
       "'/nfs/team112_internal/production/release_build/Pf3K/pilot_5_0/SNP_INDEL_WG.combined.filtered.crosses.vcf.gz'"
      ]
     },
     "execution_count": 6,
     "metadata": {},
     "output_type": "execute_result"
    }
   ],
   "source": [
    "crosses_vcf_fn"
   ]
  },
  {
   "cell_type": "code",
   "execution_count": 7,
   "metadata": {
    "collapsed": false
   },
   "outputs": [],
   "source": [
    "multiallelic_header_fn = \"%s/vcf/MULTIALLELIC.hdr\" % (output_dir)\n",
    "fo=open(multiallelic_header_fn, 'w')\n",
    "print('##INFO=<ID=MULTIALLELIC,Number=1,Type=String,Description=\"Is position biallelic (BI), biallelic plus spanning deletion (SD) or truly multiallelic (MU)\">', file=fo)\n",
    "fo.close()"
   ]
  },
  {
   "cell_type": "code",
   "execution_count": 8,
   "metadata": {
    "collapsed": false
   },
   "outputs": [],
   "source": [
    "variant_type_header_fn = \"%s/vcf/VARIANT_TYPE.hdr\" % (output_dir)\n",
    "fo=open(variant_type_header_fn, 'w')\n",
    "print('##INFO=<ID=VARIANT_TYPE,Number=1,Type=String,Description=\"SNP or indel (IND)\">', file=fo)\n",
    "fo.close()"
   ]
  },
  {
   "cell_type": "code",
   "execution_count": 9,
   "metadata": {
    "collapsed": false
   },
   "outputs": [],
   "source": [
    "cds_header_fn = \"%s/vcf/CDS.hdr\" % (output_dir)\n",
    "fo=open(cds_header_fn, 'w')\n",
    "print('##INFO=<ID=CDS,Number=0,Type=Flag,Description=\"Is position coding\">', file=fo)\n",
    "fo.close()"
   ]
  },
  {
   "cell_type": "code",
   "execution_count": 43,
   "metadata": {
    "collapsed": false
   },
   "outputs": [],
   "source": [
    "def create_analysis_vcf(input_vcf_fn=crosses_vcf_fn, region='Pf3D7_14_v3:1000000-1100000',\n",
    "                        output_vcf_fn=None, BCFTOOLS=BCFTOOLS, rewrite=False):\n",
    "    if output_vcf_fn is None:\n",
    "        if region is None:\n",
    "            output_vcf_fn = \"%s/vcf/SNP_INDEL_WG.analysis.vcf.gz\" % (output_dir)\n",
    "        else:\n",
    "            output_vcf_fn = \"%s/vcf/SNP_INDEL_%s.analysis.vcf.gz\" % (output_dir, region)\n",
    "    intermediate_fns = collections.OrderedDict()\n",
    "    for intermediate_file in ['nonref', 'multiallelic', 'triallelic', 'bi_allelic', 'spanning_deletion', 'triallelic_no_sd', 'multiallelics',\n",
    "                              'biallelic', 'str', 'snps', 'indels', 'strs', 'variant_type', 'coding', 'analysis',\n",
    "                             'site_snps', 'site_indels', 'site_variant_type', 'site_analysis']:\n",
    "        intermediate_fns[intermediate_file] = output_vcf_fn.replace('analysis', intermediate_file)\n",
    "    \n",
    "    if rewrite or not os.path.exists(intermediate_fns['nonref']):\n",
    "        if region is not None:\n",
    "            !{BCFTOOLS} annotate --regions {region} --remove INFO/AF,INFO/BaseQRankSum,INFO/ClippingRankSum,INFO/DP,INFO/DS,INFO/END,INFO/FS,\\\n",
    "INFO/GC,INFO/HaplotypeScore,INFO/InbreedingCoeff,INFO/MLEAC,INFO/MLEAF,INFO/MQ,INFO/MQRankSum,INFO/NEGATIVE_TRAIN_SITE,\\\n",
    "INFO/POSITIVE_TRAIN_SITE,INFO/QD,INFO/ReadPosRankSum,INFO/RegionType,INFO/RPA,INFO/RU,INFO/STR,INFO/SNPEFF_AMINO_ACID_CHANGE,\\\n",
    "INFO/SNPEFF_CODON_CHANGE,INFO/SNPEFF_EXON_ID,INFO/SNPEFF_FUNCTIONAL_CLASS,INFO/SNPEFF_GENE_BIOTYPE,\\\n",
    "INFO/SNPEFF_GENE_NAME,INFO/SNPEFF_IMPACT,INFO/SNPEFF_TRANSCRIPT_ID,INFO/SOR,INFO/culprit,INFO/set,\\\n",
    "FORMAT/PGT,FORMAT/PID,FORMAT/PL {input_vcf_fn} | \\\n",
    "            {BCFTOOLS} view --include 'AC>0 && ALT!=\"*\"' -Oz -o {intermediate_fns['nonref']}\n",
    "        else:\n",
    "            !{BCFTOOLS} annotate --remove INFO/AF,INFO/BaseQRankSum,INFO/ClippingRankSum,INFO/DP,INFO/DS,INFO/END,INFO/FS,\\\n",
    "INFO/GC,INFO/HaplotypeScore,INFO/InbreedingCoeff,INFO/MLEAC,INFO/MLEAF,INFO/MQ,INFO/MQRankSum,INFO/NEGATIVE_TRAIN_SITE,\\\n",
    "INFO/POSITIVE_TRAIN_SITE,INFO/QD,INFO/ReadPosRankSum,INFO/RegionType,INFO/RPA,INFO/RU,INFO/STR,INFO/SNPEFF_AMINO_ACID_CHANGE,\\\n",
    "INFO/SNPEFF_CODON_CHANGE,INFO/SNPEFF_EXON_ID,INFO/SNPEFF_FUNCTIONAL_CLASS,INFO/SNPEFF_GENE_BIOTYPE,\\\n",
    "INFO/SNPEFF_GENE_NAME,INFO/SNPEFF_IMPACT,INFO/SNPEFF_TRANSCRIPT_ID,INFO/SOR,INFO/culprit,INFO/set,\\\n",
    "FORMAT/PGT,FORMAT/PID,FORMAT/PL {input_vcf_fn} | \\\n",
    "            {BCFTOOLS} view --include 'AC>0 && ALT!=\"*\"' -Oz -o {intermediate_fns['nonref']}\n",
    "        !{BCFTOOLS} index --tbi {intermediate_fns['nonref']}\n",
    "\n",
    "    if rewrite or not os.path.exists(intermediate_fns['snps']):\n",
    "        !{BCFTOOLS} query -f'%CHROM\\t%POS\\tSNP\\n' --include 'TYPE=\"snp\"' {intermediate_fns['nonref']} | bgzip -c > {intermediate_fns['snps']} && tabix -s1 -b2 -e2 -f {intermediate_fns['snps']}\n",
    "\n",
    "    if rewrite or not os.path.exists(intermediate_fns['indels']):\n",
    "        !{BCFTOOLS} query -f'%CHROM\\t%POS\\tINDEL\\n' --include 'TYPE!=\"snp\"' {intermediate_fns['nonref']} | bgzip -c > {intermediate_fns['indels']} && tabix -s1 -b2 -e2 -f {intermediate_fns['indels']}\n",
    "\n",
    "#     if rewrite or not os.path.exists(intermediate_fns['strs']):\n",
    "#         !{BCFTOOLS} query -f'%CHROM\\t%POS\\tSTR\\n' --include 'TYPE!=\"snp\" && STR=1' {intermediate_fns['str']} | bgzip -c > {intermediate_fns['strs']} && tabix -s1 -b2 -e2 -f {intermediate_fns['strs']}\n",
    "\n",
    "    if rewrite or not os.path.exists(intermediate_fns['variant_type']):\n",
    "        !{BCFTOOLS} annotate -a {intermediate_fns['snps']} -c CHROM,POS,INFO/VARIANT_TYPE \\\n",
    "        -h {variant_type_header_fn} {intermediate_fns['nonref']} |\\\n",
    "        {BCFTOOLS} annotate -a {intermediate_fns['indels']} -c CHROM,POS,INFO/VARIANT_TYPE \\\n",
    "        -Oz -o {intermediate_fns['variant_type']} \n",
    "        !{BCFTOOLS} index --tbi {intermediate_fns['variant_type']}\n",
    "\n",
    "        #         {BCFTOOLS} annotate -a {intermediate_fns['strs']} -c CHROM,POS,INFO/VARIANT_TYPE \\\n",
    "\n",
    "    if rewrite or not os.path.exists(intermediate_fns['multiallelic']):\n",
    "        !{BCFTOOLS} query -f'%CHROM\\t%POS\\tMU\\n' --include 'N_ALT>2' {intermediate_fns['variant_type']} | bgzip -c > {intermediate_fns['multiallelic']} && tabix -s1 -b2 -e2 {intermediate_fns['multiallelic']}\n",
    "        \n",
    "    if rewrite or not os.path.exists(intermediate_fns['triallelic']):\n",
    "        !{BCFTOOLS} query -f'%CHROM\\t%POS\\t%ALT\\tSD\\n' --include 'N_ALT=2' {intermediate_fns['variant_type']} | bgzip -c > {intermediate_fns['triallelic']} && tabix -s1 -b2 -e2 {intermediate_fns['triallelic']}\n",
    "\n",
    "    if rewrite or not os.path.exists(intermediate_fns['bi_allelic']):\n",
    "        !{BCFTOOLS} query -f'%CHROM\\t%POS\\t%ALT\\tBI\\n' --include 'N_ALT=1' {intermediate_fns['variant_type']} | bgzip -c > {intermediate_fns['bi_allelic']} && tabix -s1 -b2 -e2 {intermediate_fns['bi_allelic']}\n",
    "\n",
    "    if rewrite or not os.path.exists(intermediate_fns['spanning_deletion']):\n",
    "        !zgrep '\\*' {intermediate_fns['triallelic']} | bgzip -c > {intermediate_fns['spanning_deletion']} && tabix -s1 -b2 -e2 {intermediate_fns['spanning_deletion']}\n",
    "        \n",
    "    if rewrite or not os.path.exists(intermediate_fns['triallelic_no_sd']):\n",
    "        !zgrep -v '\\*' {intermediate_fns['triallelic']} | sed 's/SD/MU/g' | bgzip -c > {intermediate_fns['triallelic_no_sd']} && tabix -s1 -b2 -e2 {intermediate_fns['triallelic_no_sd']}\n",
    "        \n",
    "    if rewrite or not os.path.exists(intermediate_fns['multiallelics']):\n",
    "        !{BCFTOOLS} annotate -a {intermediate_fns['bi_allelic']} -c CHROM,POS,-,INFO/MULTIALLELIC \\\n",
    "        -h {multiallelic_header_fn} {intermediate_fns['variant_type']} | \\\n",
    "        {BCFTOOLS} annotate -a {intermediate_fns['spanning_deletion']} -c CHROM,POS,-,INFO/MULTIALLELIC |\\\n",
    "        {BCFTOOLS} annotate -a {intermediate_fns['multiallelic']} -c CHROM,POS,INFO/MULTIALLELIC |\\\n",
    "        {BCFTOOLS} annotate -a {intermediate_fns['triallelic_no_sd']} -c CHROM,POS,-,INFO/MULTIALLELIC \\\n",
    "        -Oz -o {intermediate_fns['multiallelics']}\n",
    "        !{BCFTOOLS} index --tbi {intermediate_fns['multiallelics']}\n",
    "        \n",
    "    if rewrite or not os.path.exists(intermediate_fns['biallelic']):\n",
    "        !{BCFTOOLS} norm -m -any --fasta-ref {GENOME_FN} {intermediate_fns['multiallelics']} | \\\n",
    "        {BCFTOOLS} view --include 'AC>0 && ALT!=\"*\"' -Oz -o {intermediate_fns['biallelic']}\n",
    "        !{BCFTOOLS} index --tbi {intermediate_fns['biallelic']}\n",
    "\n",
    "    if rewrite or not os.path.exists(intermediate_fns['analysis']):\n",
    "        !{BCFTOOLS} annotate -a {cds_gff_fn} -c CHROM,FROM,TO,CDS \\\n",
    "        -h {cds_header_fn} \\\n",
    "        -Oz -o {intermediate_fns['analysis']} {intermediate_fns['biallelic']}\n",
    "        !{BCFTOOLS} index --tbi {intermediate_fns['analysis']}\n"
   ]
  },
  {
   "cell_type": "code",
   "execution_count": 44,
   "metadata": {
    "collapsed": false
   },
   "outputs": [],
   "source": [
    "create_analysis_vcf(region=None)"
   ]
  },
  {
   "cell_type": "code",
   "execution_count": 13,
   "metadata": {
    "collapsed": false
   },
   "outputs": [
    {
     "data": {
      "text/plain": [
       "'/lustre/scratch109/malaria/rp7/data/pf3k/pilot_5_0/20160721_mendelian_error_duplicate_concordance'"
      ]
     },
     "execution_count": 13,
     "metadata": {},
     "output_type": "execute_result"
    }
   ],
   "source": [
    "output_dir"
   ]
  },
  {
   "cell_type": "code",
   "execution_count": 14,
   "metadata": {
    "collapsed": false
   },
   "outputs": [
    {
     "name": "stdout",
     "output_type": "stream",
     "text": [
      "98\n"
     ]
    },
    {
     "data": {
      "text/html": [
       "<table class='petl'>\n",
       "<thead>\n",
       "<tr>\n",
       "<th>sample</th>\n",
       "<th>acc</th>\n",
       "<th>study</th>\n",
       "<th>study_title</th>\n",
       "<th>clone</th>\n",
       "<th>parent_or_progeny</th>\n",
       "</tr>\n",
       "</thead>\n",
       "<tbody>\n",
       "<tr>\n",
       "<td>PG0008-CW</td>\n",
       "<td>ERS010540</td>\n",
       "<td>1041</td>\n",
       "<td>HB3xDD2 cross progeny</td>\n",
       "<td>DD2</td>\n",
       "<td>parent</td>\n",
       "</tr>\n",
       "<tr>\n",
       "<td>PG0004-CW</td>\n",
       "<td>ERS010539</td>\n",
       "<td>1041</td>\n",
       "<td>HB3xDD2 cross progeny</td>\n",
       "<td>HB3</td>\n",
       "<td>parent</td>\n",
       "</tr>\n",
       "<tr>\n",
       "<td>PG0023-C</td>\n",
       "<td>ERS010581,ERS010543</td>\n",
       "<td>1041</td>\n",
       "<td>HB3xDD2 cross progeny</td>\n",
       "<td>1BB5</td>\n",
       "<td>progeny</td>\n",
       "</tr>\n",
       "<tr>\n",
       "<td>PG0022-Cx</td>\n",
       "<td>ERS088714</td>\n",
       "<td>1041</td>\n",
       "<td>HB3xDD2 cross progeny</td>\n",
       "<td>3BA6</td>\n",
       "<td>progeny</td>\n",
       "</tr>\n",
       "<tr>\n",
       "<td>PG0024-C</td>\n",
       "<td>ERS010150</td>\n",
       "<td>1041</td>\n",
       "<td>HB3xDD2 cross progeny</td>\n",
       "<td>3BD5</td>\n",
       "<td>progeny</td>\n",
       "</tr>\n",
       "</tbody>\n",
       "</table>\n",
       "<p><strong>...</strong></p>"
      ],
      "text/plain": [
       "+-------------+-----------------------+--------+-------------------------+--------+-------------------+\n",
       "| sample      | acc                   | study  | study_title             | clone  | parent_or_progeny |\n",
       "+=============+=======================+========+=========================+========+===================+\n",
       "| 'PG0008-CW' | 'ERS010540'           | '1041' | 'HB3xDD2 cross progeny' | 'DD2'  | 'parent'          |\n",
       "+-------------+-----------------------+--------+-------------------------+--------+-------------------+\n",
       "| 'PG0004-CW' | 'ERS010539'           | '1041' | 'HB3xDD2 cross progeny' | 'HB3'  | 'parent'          |\n",
       "+-------------+-----------------------+--------+-------------------------+--------+-------------------+\n",
       "| 'PG0023-C'  | 'ERS010581,ERS010543' | '1041' | 'HB3xDD2 cross progeny' | '1BB5' | 'progeny'         |\n",
       "+-------------+-----------------------+--------+-------------------------+--------+-------------------+\n",
       "| 'PG0022-Cx' | 'ERS088714'           | '1041' | 'HB3xDD2 cross progeny' | '3BA6' | 'progeny'         |\n",
       "+-------------+-----------------------+--------+-------------------------+--------+-------------------+\n",
       "| 'PG0024-C'  | 'ERS010150'           | '1041' | 'HB3xDD2 cross progeny' | '3BD5' | 'progeny'         |\n",
       "+-------------+-----------------------+--------+-------------------------+--------+-------------------+\n",
       "..."
      ]
     },
     "execution_count": 14,
     "metadata": {},
     "output_type": "execute_result"
    }
   ],
   "source": [
    "tbl_release5_crosses_metadata = etl.fromtsv(release5_crosses_metadata_txt_fn)\n",
    "print(len(tbl_release5_crosses_metadata.data()))\n",
    "tbl_release5_crosses_metadata"
   ]
  },
  {
   "cell_type": "code",
   "execution_count": 15,
   "metadata": {
    "collapsed": true
   },
   "outputs": [],
   "source": [
    "replicates_first = [\n",
    " 'PG0112-C',\n",
    " 'PG0062-C',\n",
    " 'PG0053-C',\n",
    " 'PG0053-C',\n",
    " 'PG0053-C',\n",
    " 'PG0055-C',\n",
    " 'PG0055-C',\n",
    " 'PG0056-C',\n",
    " 'PG0004-CW',\n",
    " 'PG0111-C',\n",
    " 'PG0100-C',\n",
    " 'PG0079-C',\n",
    " 'PG0104-C',\n",
    " 'PG0086-C',\n",
    " 'PG0095-C',\n",
    " 'PG0078-C',\n",
    " 'PG0105-C',\n",
    " 'PG0102-C']\n",
    "\n",
    "replicates_second = [\n",
    " 'PG0112-CW',\n",
    " 'PG0065-C',\n",
    " 'PG0055-C',\n",
    " 'PG0056-C',\n",
    " 'PG0067-C',\n",
    " 'PG0056-C',\n",
    " 'PG0067-C',\n",
    " 'PG0067-C',\n",
    " 'PG0052-C',\n",
    " 'PG0111-CW',\n",
    " 'PG0100-CW',\n",
    " 'PG0079-CW',\n",
    " 'PG0104-CW',\n",
    " 'PG0086-CW',\n",
    " 'PG0095-CW',\n",
    " 'PG0078-CW',\n",
    " 'PG0105-CW',\n",
    " 'PG0102-CW']"
   ]
  },
  {
   "cell_type": "code",
   "execution_count": 16,
   "metadata": {
    "collapsed": true
   },
   "outputs": [],
   "source": [
    "quads_first = [\n",
    " 'PG0053-C',\n",
    " 'PG0053-C',\n",
    " 'PG0053-C',\n",
    " 'PG0055-C',\n",
    " 'PG0055-C',\n",
    " 'PG0056-C']\n",
    "\n",
    "quads_second = [\n",
    " 'PG0055-C',\n",
    " 'PG0056-C',\n",
    " 'PG0067-C',\n",
    " 'PG0056-C',\n",
    " 'PG0067-C',\n",
    " 'PG0067-C']"
   ]
  },
  {
   "cell_type": "code",
   "execution_count": 17,
   "metadata": {
    "collapsed": false
   },
   "outputs": [],
   "source": [
    "# Note the version created in this notebook doesn't work. I think this is because of R in Number of FORMAT field for AD,\n",
    "# which is part of spec for v4.2, but think GATK must have got rid of this in previous notebook\n",
    "analysis_vcf_fn = \"/lustre/scratch109/malaria/rp7/data/pf3k/pilot_5_0/20160719_mendelian_error_duplicate_concordance/vcf/SNP_INDEL_WG.analysis.vcf.gz\"\n",
    "vcf_reader = vcf.Reader(filename=analysis_vcf_fn)\n",
    "sample_ids = np.array(vcf_reader.samples)"
   ]
  },
  {
   "cell_type": "code",
   "execution_count": 18,
   "metadata": {
    "collapsed": false
   },
   "outputs": [
    {
     "name": "stdout",
     "output_type": "stream",
     "text": [
      "18\n",
      "[96 48 40 40 40 42 42 43  2 94 82 63 87 69 76 61 89 84]\n",
      "18\n",
      "[97 51 42 43 53 43 53 53 39 95 83 64 88 70 77 62 90 85]\n"
     ]
    }
   ],
   "source": [
    "# sample_ids = tbl_release5_crosses_metadata.values('sample').array()\n",
    "\n",
    "rep_index_first = np.argsort(sample_ids)[np.searchsorted(sample_ids[np.argsort(sample_ids)], replicates_first)]\n",
    "rep_index_second = np.argsort(sample_ids)[np.searchsorted(sample_ids[np.argsort(sample_ids)], replicates_second)]\n",
    "print(len(rep_index_first))\n",
    "print(rep_index_first)\n",
    "print(len(rep_index_second))\n",
    "print(rep_index_second)\n"
   ]
  },
  {
   "cell_type": "code",
   "execution_count": 19,
   "metadata": {
    "collapsed": false
   },
   "outputs": [
    {
     "name": "stdout",
     "output_type": "stream",
     "text": [
      "6\n",
      "[40 40 40 42 42 43]\n",
      "6\n",
      "[42 43 53 43 53 53]\n"
     ]
    }
   ],
   "source": [
    "# sample_ids = tbl_release5_crosses_metadata.values('sample').array()\n",
    "\n",
    "quad_index_first = np.argsort(sample_ids)[np.searchsorted(sample_ids[np.argsort(sample_ids)], quads_first)]\n",
    "quad_index_second = np.argsort(sample_ids)[np.searchsorted(sample_ids[np.argsort(sample_ids)], quads_second)]\n",
    "print(len(quad_index_first))\n",
    "print(quad_index_first)\n",
    "print(len(quad_index_second))\n",
    "print(quad_index_second)\n"
   ]
  },
  {
   "cell_type": "code",
   "execution_count": 20,
   "metadata": {
    "collapsed": false
   },
   "outputs": [
    {
     "data": {
      "text/plain": [
       "array(['3D7xHB3 cross progeny', '7G8xGB4 cross progeny',\n",
       "       'HB3xDD2 cross progeny'], \n",
       "      dtype='<U21')"
      ]
     },
     "execution_count": 20,
     "metadata": {},
     "output_type": "execute_result"
    }
   ],
   "source": [
    "tbl_release5_crosses_metadata.distinct('study_title').values('study_title').array()"
   ]
  },
  {
   "cell_type": "code",
   "execution_count": 21,
   "metadata": {
    "collapsed": false
   },
   "outputs": [],
   "source": [
    "def create_variants_npy(vcf_fn):\n",
    "    output_dir = '%s.vcfnp_cache' % vcf_fn\n",
    "    if not os.path.exists(output_dir):\n",
    "        os.makedirs(output_dir)\n",
    "    vcfnp.variants(\n",
    "        vcf_fn,\n",
    "        fields=['CHROM', 'POS', 'REF', 'ALT', 'VariantType', 'VARIANT_TYPE',\n",
    "                'SNPEFF_EFFECT', 'AC', 'AN', 'CDS', 'MULTIALLELIC',\n",
    "                'VQSLOD', 'FILTER'],\n",
    "        dtypes={\n",
    "            'REF':                      'a10',\n",
    "            'ALT':                      'a10',\n",
    "            'RegionType':               'a25',\n",
    "            'VariantType':              'a40',\n",
    "            'VARIANT_TYPE':             'a3',\n",
    "            'RU':                       'a40',\n",
    "            'SNPEFF_EFFECT':            'a33',\n",
    "            'CDS':                      bool,\n",
    "            'MULTIALLELIC':             'a2',\n",
    "        },\n",
    "        arities={\n",
    "            'ALT':   1,\n",
    "            'AF':    1,\n",
    "            'AC':    1,\n",
    "            'RPA':   2,\n",
    "            'ANN':   1,\n",
    "        },\n",
    "        fills={\n",
    "            'VQSLOD': np.nan,\n",
    "        },\n",
    "        flatten_filter=True,\n",
    "        progress=100000,\n",
    "        verbose=True,\n",
    "        cache=True,\n",
    "        cachedir=output_dir\n",
    "    )\n",
    "\n",
    "def create_calldata_npy(vcf_fn, max_alleles=2):\n",
    "    output_dir = '%s.vcfnp_cache' % vcf_fn\n",
    "    if not os.path.exists(output_dir):\n",
    "        os.makedirs(output_dir)\n",
    "    vcfnp.calldata_2d(\n",
    "        vcf_fn,\n",
    "        fields=['GT', 'AD', 'DP', 'GQ'],\n",
    "        dtypes={\n",
    "            'AD': 'u2',\n",
    "        },\n",
    "        arities={\n",
    "            'AD': max_alleles,\n",
    "        },\n",
    "        progress=100000,\n",
    "        verbose=True,\n",
    "        cache=True,\n",
    "        cachedir=output_dir\n",
    "    )\n"
   ]
  },
  {
   "cell_type": "code",
   "execution_count": 54,
   "metadata": {
    "collapsed": false
   },
   "outputs": [
    {
     "name": "stderr",
     "output_type": "stream",
     "text": [
      "[vcfnp] 2016-07-21 21:05:40.950768 :: caching is enabled\n",
      "[vcfnp] 2016-07-21 21:05:40.954333 :: no cache file found\n",
      "[vcfnp] 2016-07-21 21:05:40.954929 :: building array\n",
      "[vcfnp] 2016-07-21 21:05:48.029936 :: 100000 rows in 7.03s; batch in 7.03s (14229 rows/s)\n",
      "[vcfnp] 2016-07-21 21:05:54.984397 :: 200000 rows in 13.98s; batch in 6.95s (14379 rows/s)\n",
      "[vcfnp] 2016-07-21 21:06:02.966743 :: 300000 rows in 21.96s; batch in 7.98s (12527 rows/s)\n",
      "[vcfnp] 2016-07-21 21:06:10.435136 :: 400000 rows in 29.43s; batch in 7.47s (13389 rows/s)\n",
      "[vcfnp] 2016-07-21 21:06:18.834630 :: 500000 rows in 37.83s; batch in 8.40s (11905 rows/s)\n",
      "[vcfnp] 2016-07-21 21:06:26.820778 :: 600000 rows in 45.82s; batch in 7.99s (12521 rows/s)\n",
      "[vcfnp] 2016-07-21 21:06:34.481934 :: 700000 rows in 53.48s; batch in 7.66s (13052 rows/s)\n",
      "[vcfnp] 2016-07-21 21:06:42.611427 :: 800000 rows in 61.61s; batch in 8.13s (12300 rows/s)\n",
      "[vcfnp] 2016-07-21 21:06:45.155566 :: 832743 rows in 64.15s (12980 rows/s)\n",
      "[vcfnp] 2016-07-21 21:06:45.159136 :: saving to cache file /lustre/scratch109/malaria/rp7/data/pf3k/pilot_5_0/20160721_mendelian_error_duplicate_concordance/vcf/SNP_INDEL_WG.analysis.vcf.gz.vcfnp_cache/variants.npy\n",
      "[vcfnp] 2016-07-21 21:06:45.518006 :: caching is enabled\n",
      "[vcfnp] 2016-07-21 21:06:45.519278 :: no cache file found\n",
      "[vcfnp] 2016-07-21 21:06:45.519727 :: building array\n",
      "[vcfnp] 2016-07-21 21:08:25.291687 :: 100000 rows in 99.74s; batch in 99.74s (1002 rows/s)\n",
      "[vcfnp] 2016-07-21 21:10:21.190538 :: 200000 rows in 215.64s; batch in 115.90s (862 rows/s)\n",
      "[vcfnp] 2016-07-21 21:11:58.200130 :: 300000 rows in 312.65s; batch in 97.01s (1030 rows/s)\n",
      "[vcfnp] 2016-07-21 21:13:33.896391 :: 400000 rows in 408.35s; batch in 95.70s (1044 rows/s)\n",
      "[vcfnp] 2016-07-21 21:15:07.551575 :: 500000 rows in 502.00s; batch in 93.66s (1067 rows/s)\n",
      "[vcfnp] 2016-07-21 21:16:48.981705 :: 600000 rows in 603.43s; batch in 101.43s (985 rows/s)\n",
      "[vcfnp] 2016-07-21 21:18:19.157316 :: 700000 rows in 693.61s; batch in 90.18s (1108 rows/s)\n",
      "[vcfnp] 2016-07-21 21:20:09.764483 :: 800000 rows in 804.21s; batch in 110.61s (904 rows/s)\n",
      "[vcfnp] 2016-07-21 21:20:43.960815 :: 832743 rows in 838.41s (993 rows/s)\n",
      "[vcfnp] 2016-07-21 21:20:43.966604 :: saving to cache file /lustre/scratch109/malaria/rp7/data/pf3k/pilot_5_0/20160721_mendelian_error_duplicate_concordance/vcf/SNP_INDEL_WG.analysis.vcf.gz.vcfnp_cache/calldata_2d.npy\n"
     ]
    }
   ],
   "source": [
    "create_variants_npy(\"%s/vcf/SNP_INDEL_WG.analysis.vcf.gz\" % (output_dir))\n",
    "create_calldata_npy(\"%s/vcf/SNP_INDEL_WG.analysis.vcf.gz\" % (output_dir))\n"
   ]
  },
  {
   "cell_type": "code",
   "execution_count": 55,
   "metadata": {
    "collapsed": false
   },
   "outputs": [],
   "source": [
    "analysis_vcf_fn = \"%s/vcf/SNP_INDEL_WG.analysis.vcf.gz\" % (output_dir)\n",
    "variants = np.load(\"%s.vcfnp_cache/variants.npy\" % analysis_vcf_fn)\n",
    "calldata = np.load(\"%s.vcfnp_cache/calldata_2d.npy\" % analysis_vcf_fn)\n"
   ]
  },
  {
   "cell_type": "code",
   "execution_count": 33,
   "metadata": {
    "collapsed": false
   },
   "outputs": [
    {
     "name": "stdout",
     "output_type": "stream",
     "text": [
      "(array([b'IND', b'SNP'], \n",
      "      dtype='|S3'), array([417635, 415108]))\n"
     ]
    }
   ],
   "source": [
    "print(np.unique(variants['VARIANT_TYPE'], return_counts=True))\n"
   ]
  },
  {
   "cell_type": "code",
   "execution_count": 56,
   "metadata": {
    "collapsed": false
   },
   "outputs": [
    {
     "name": "stdout",
     "output_type": "stream",
     "text": [
      "(array([b'IND', b'SNP'], \n",
      "      dtype='|S3'), array([605217, 227526]))\n"
     ]
    }
   ],
   "source": [
    "print(np.unique(variants['VARIANT_TYPE'], return_counts=True))\n"
   ]
  },
  {
   "cell_type": "code",
   "execution_count": 38,
   "metadata": {
    "collapsed": false
   },
   "outputs": [
    {
     "data": {
      "text/plain": [
       "(array([b'BI', b'MU', b'SD'], \n",
       "       dtype='|S2'), array([ 86374, 659316,  87053]))"
      ]
     },
     "execution_count": 38,
     "metadata": {},
     "output_type": "execute_result"
    }
   ],
   "source": [
    "np.unique(variants['MULTIALLELIC'], return_counts=True)"
   ]
  },
  {
   "cell_type": "code",
   "execution_count": 57,
   "metadata": {
    "collapsed": false
   },
   "outputs": [
    {
     "data": {
      "text/plain": [
       "(array([b'BI', b'MU', b'SD'], \n",
       "       dtype='|S2'), array([ 86374, 659316,  87053]))"
      ]
     },
     "execution_count": 57,
     "metadata": {},
     "output_type": "execute_result"
    }
   ],
   "source": [
    "np.unique(variants['MULTIALLELIC'], return_counts=True)"
   ]
  },
  {
   "cell_type": "code",
   "execution_count": 58,
   "metadata": {
    "collapsed": false
   },
   "outputs": [],
   "source": [
    "def genotype_concordance_gatk(calldata=calldata,\n",
    "                              ix = ((variants['VARIANT_TYPE'] == b'SNP') & (variants['MULTIALLELIC'] == b'BI') &\n",
    "                                    (variants['CDS']) & variants['FILTER_PASS']),\n",
    "                              GQ_threshold=30,\n",
    "                              rep_index_first=rep_index_first, rep_index_second=rep_index_second,\n",
    "                              verbose=False):\n",
    "    GT = calldata['GT'][ix, :]\n",
    "    GT[calldata['GQ'][ix, :] < GQ_threshold] = b'./.'\n",
    "    \n",
    "    all_samples = sample_ids\n",
    "    total_mendelian_errors = 0\n",
    "    total_homozygotes = 0\n",
    "    for cross in tbl_release5_crosses_metadata.distinct('study_title').values('study_title').array():\n",
    "        parents = (tbl_release5_crosses_metadata\n",
    "            .selecteq('study_title', cross)\n",
    "            .selecteq('parent_or_progeny', 'parent')\n",
    "            .values('sample')\n",
    "            .array()\n",
    "        )\n",
    "        parent1_calls = GT[:, all_samples==parents[0]]\n",
    "        parent2_calls = GT[:, all_samples==parents[1]]\n",
    "        progeny = (tbl_release5_crosses_metadata\n",
    "            .selecteq('study_title', cross)\n",
    "            .selecteq('parent_or_progeny', 'progeny')\n",
    "            .values('sample')\n",
    "            .array()\n",
    "        )\n",
    "        mendelian_errors = np.zeros(len(progeny))\n",
    "        homozygotes = np.zeros(len(progeny))\n",
    "        for i, ox_code in enumerate(progeny):\n",
    "            progeny_calls = GT[:, all_samples==ox_code]\n",
    "            error_calls = (\n",
    "                ((parent1_calls == b'0/0') & (parent2_calls == b'0/0') & (progeny_calls == b'1/1')) |\n",
    "                ((parent1_calls == b'1/1') & (parent2_calls == b'1/1') & (progeny_calls == b'0/0'))\n",
    "            )\n",
    "            homozygous_calls = (\n",
    "                ((parent1_calls == b'0/0') | (parent1_calls == b'1/1' )) &\n",
    "                ((parent2_calls == b'0/0') | (parent2_calls == b'1/1' )) &\n",
    "                ((progeny_calls == b'0/0') | (progeny_calls == b'1/1' ))\n",
    "            )\n",
    "            mendelian_errors[i] = np.sum(error_calls)\n",
    "            homozygotes[i] = np.sum(homozygous_calls)\n",
    "        total_mendelian_errors = total_mendelian_errors + np.sum(mendelian_errors)\n",
    "        total_homozygotes = total_homozygotes + np.sum(homozygotes)\n",
    "        \n",
    "    mendelian_error_rate = total_mendelian_errors / total_homozygotes\n",
    "    \n",
    "    GT_both = (np.in1d(GT[:, rep_index_first], [b'0/0', b'1/1']) &\n",
    "                     np.in1d(GT[:, rep_index_second], [b'0/0', b'1/1'])\n",
    "                    )\n",
    "    GT_both = (\n",
    "        ((GT[:, rep_index_first] == b'0/0') | (GT[:, rep_index_first] == b'1/1')) &\n",
    "        ((GT[:, rep_index_second] == b'0/0') | (GT[:, rep_index_second] == b'1/1'))\n",
    "    )\n",
    "    GT_discordant = (\n",
    "        ((GT[:, rep_index_first] == b'0/0') & (GT[:, rep_index_second] == b'1/1')) |\n",
    "        ((GT[:, rep_index_first] == b'1/1') & (GT[:, rep_index_second] == b'0/0'))\n",
    "    )\n",
    "    missingness_per_sample = np.sum(GT == b'./.', 0)\n",
    "    if verbose:\n",
    "        print(missingness_per_sample)\n",
    "    mean_missingness = np.sum(missingness_per_sample) / (GT.shape[0] * GT.shape[1])\n",
    "    heterozygosity_per_sample = np.sum(GT == b'0/1', 0)\n",
    "    if verbose:\n",
    "        print(heterozygosity_per_sample)\n",
    "    mean_heterozygosity = np.sum(heterozygosity_per_sample) / (GT.shape[0] * GT.shape[1])\n",
    "    num_discordance_per_sample_pair = np.sum(GT_discordant, 0)\n",
    "    num_both_calls_per_sample_pair = np.sum(GT_both, 0)\n",
    "    if verbose:\n",
    "        print(num_discordance_per_sample_pair)\n",
    "        print(num_both_calls_per_sample_pair)\n",
    "    prop_discordances_per_sample_pair = num_discordance_per_sample_pair/num_both_calls_per_sample_pair\n",
    "    num_discordance_per_snp = np.sum(GT_discordant, 1)\n",
    "    mean_prop_discordances = (np.sum(num_discordance_per_sample_pair) / np.sum(num_both_calls_per_sample_pair))\n",
    "    num_of_alleles = np.sum(ix)\n",
    "    return(\n",
    "#         num_of_alleles,\n",
    "        mean_missingness,\n",
    "        mean_heterozygosity,\n",
    "        mean_prop_discordances,\n",
    "        mendelian_error_rate,\n",
    "#         prop_discordances_per_sample_pair,\n",
    "#         GT.shape\n",
    "    )\n",
    "    "
   ]
  },
  {
   "cell_type": "code",
   "execution_count": 121,
   "metadata": {
    "collapsed": false
   },
   "outputs": [
    {
     "data": {
      "text/plain": [
       "(0.052356625919844309,\n",
       " 0.0032449761513800922,\n",
       " 1.4812620352540365e-05,\n",
       " 3.1193964068578418e-05)"
      ]
     },
     "execution_count": 121,
     "metadata": {},
     "output_type": "execute_result"
    }
   ],
   "source": [
    "genotype_concordance_gatk()"
   ]
  },
  {
   "cell_type": "code",
   "execution_count": 125,
   "metadata": {
    "collapsed": false
   },
   "outputs": [
    {
     "data": {
      "text/plain": [
       "(0.017184907168486807,\n",
       " 0.0042406234524461125,\n",
       " 1.4499548097417631e-05,\n",
       " 3.1662086857739367e-05)"
      ]
     },
     "execution_count": 125,
     "metadata": {},
     "output_type": "execute_result"
    }
   ],
   "source": [
    "genotype_concordance_gatk()"
   ]
  },
  {
   "cell_type": "code",
   "execution_count": 68,
   "metadata": {
    "collapsed": false
   },
   "outputs": [
    {
     "data": {
      "text/plain": [
       "(0.017230241313679999,\n",
       " 0.0042580681013045111,\n",
       " 1.449226354664335e-05,\n",
       " 3.1646874583436029e-05)"
      ]
     },
     "execution_count": 68,
     "metadata": {},
     "output_type": "execute_result"
    }
   ],
   "source": [
    "genotype_concordance_gatk()"
   ]
  },
  {
   "cell_type": "code",
   "execution_count": 40,
   "metadata": {
    "collapsed": false
   },
   "outputs": [
    {
     "data": {
      "text/plain": [
       "(0.017184907168486807,\n",
       " 0.0042406234524461125,\n",
       " 1.4499548097417631e-05,\n",
       " 3.1662086857739367e-05)"
      ]
     },
     "execution_count": 40,
     "metadata": {},
     "output_type": "execute_result"
    }
   ],
   "source": [
    "genotype_concordance_gatk()"
   ]
  },
  {
   "cell_type": "code",
   "execution_count": null,
   "metadata": {
    "collapsed": false
   },
   "outputs": [
    {
     "data": {
      "text/plain": [
       "(0.017184907168486807,\n",
       " 0.0042406234524461125,\n",
       " 1.4499548097417631e-05,\n",
       " 3.1662086857739367e-05)"
      ]
     },
     "execution_count": 59,
     "metadata": {},
     "output_type": "execute_result"
    }
   ],
   "source": [
    "genotype_concordance_gatk()"
   ]
  },
  {
   "cell_type": "code",
   "execution_count": null,
   "metadata": {
    "collapsed": false
   },
   "outputs": [
    {
     "name": "stdout",
     "output_type": "stream",
     "text": [
      "0 True b'SNP' True b'BI'\n",
      "0 True b'SNP' True b'SD'\n",
      "0 True b'SNP' True b'MU'\n",
      "0 True b'SNP' False b'BI'\n",
      "0 True b'SNP' False b'SD'\n",
      "0 True b'SNP' False b'MU'\n",
      "0 True b'IND' True b'BI'\n",
      "0 True b'IND' True b'SD'\n",
      "0 True b'IND' True b'MU'\n",
      "0 True b'IND' False b'BI'\n",
      "0 True b'IND' False b'SD'\n",
      "0 True b'IND' False b'MU'\n",
      "0 False b'SNP' True b'BI'\n",
      "0 False b'SNP' True b'SD'\n",
      "0 False b'SNP' True b'MU'\n",
      "0 False b'SNP' False b'BI'\n",
      "0 False b'SNP' False b'SD'\n",
      "0 False b'SNP' False b'MU'\n",
      "0 False b'IND' True b'BI'\n",
      "0 False b'IND' True b'SD'\n",
      "0 False b'IND' True b'MU'\n",
      "0 False b'IND' False b'BI'\n",
      "0 False b'IND' False b'SD'\n",
      "0 False b'IND' False b'MU'\n",
      "30 True b'SNP' True b'BI'\n",
      "30 True b'SNP' True b'SD'\n",
      "30 True b'SNP' True b'MU'\n",
      "30 True b'SNP' False b'BI'\n",
      "30 True b'SNP' False b'SD'\n",
      "30 True b'SNP' False b'MU'\n",
      "30 True b'IND' True b'BI'\n",
      "30 True b'IND' True b'SD'\n",
      "30 True b'IND' True b'MU'\n",
      "30 True b'IND' False b'BI'\n",
      "30 True b'IND' False b'SD'\n",
      "30 True b'IND' False b'MU'\n",
      "30 False b'SNP' True b'BI'\n",
      "30 False b'SNP' True b'SD'\n",
      "30 False b'SNP' True b'MU'\n",
      "30 False b'SNP' False b'BI'\n",
      "30 False b'SNP' False b'SD'\n",
      "30 False b'SNP' False b'MU'\n",
      "30 False b'IND' True b'BI'\n",
      "30 False b'IND' True b'SD'\n",
      "30 False b'IND' True b'MU'\n",
      "30 False b'IND' False b'BI'\n",
      "30 False b'IND' False b'SD'\n",
      "30 False b'IND' False b'MU'\n",
      "99 True b'SNP' True b'BI'\n",
      "99 True b'SNP' True b'SD'\n",
      "99 True b'SNP' True b'MU'\n",
      "99 True b'SNP' False b'BI'\n",
      "99 True b'SNP' False b'SD'\n",
      "99 True b'SNP' False b'MU'\n",
      "99 True b'IND' True b'BI'\n",
      "99 True b'IND' True b'SD'\n",
      "99"
     ]
    }
   ],
   "source": [
    "results_list = list()\n",
    "# GQ_thresholds = [30, 99, 0]\n",
    "GQ_thresholds = [0, 30, 99]\n",
    "variant_types = [b'SNP', b'IND']\n",
    "# variant_types = [b'SNP', b'IND', b'STR']\n",
    "multiallelics = [b'BI', b'SD', b'MU']\n",
    "codings = [True, False]\n",
    "filter_passes = [True, False]\n",
    "\n",
    "for GQ_threshold in GQ_thresholds:\n",
    "    for filter_pass in filter_passes:\n",
    "        for variant_type in variant_types:\n",
    "            for coding in codings:\n",
    "                for multiallelic in multiallelics:\n",
    "                    print(GQ_threshold, filter_pass, variant_type, coding, multiallelic)\n",
    "                    ix = (\n",
    "                        (variants['VARIANT_TYPE'] == variant_type) &\n",
    "                        (variants['MULTIALLELIC'] == multiallelic) &\n",
    "                        (variants['CDS'] == coding) &\n",
    "                        (variants['FILTER_PASS'] == filter_pass)\n",
    "                    )\n",
    "                    number_of_alleles = np.sum(ix)\n",
    "                    number_of_sites = len(np.unique(variants[['CHROM', 'POS']][ix]))\n",
    "                    mean_nraf = np.sum(variants['AC'][ix]) / np.sum(variants['AN'][ix])\n",
    "                    genotype_quality_results = list(genotype_concordance_gatk(ix=ix, GQ_threshold=GQ_threshold))\n",
    "#                     sites_ix = (\n",
    "#                         (site_variants['VARIANT_TYPE'] == variant_type) &\n",
    "#                         (site_variants['MULTIALLELIC'] == multiallelic) &\n",
    "#                         (site_variants['CDS'] == coding) &\n",
    "#                         (site_variants['FILTER_PASS'] == filter_pass)\n",
    "#                     )\n",
    "#                     num_sites = np.sum(sites_ix)\n",
    "                    results_list.append(\n",
    "                        [GQ_threshold, filter_pass, variant_type, coding, multiallelic, number_of_sites, number_of_alleles, mean_nraf] +\n",
    "                        genotype_quality_results\n",
    "                    )\n",
    "\n",
    "# print(results_list)"
   ]
  },
  {
   "cell_type": "code",
   "execution_count": null,
   "metadata": {
    "collapsed": false
   },
   "outputs": [],
   "source": [
    "# Sanity check. Previously this was showing 2 variants, which was due to a bug\n",
    "variant_type = b'SNP'\n",
    "multiallelic = b'BI'\n",
    "coding = False\n",
    "filter_pass = True\n",
    "ix = (\n",
    "                        (variants['VARIANT_TYPE'] == variant_type) &\n",
    "                        (variants['MULTIALLELIC'] == multiallelic) &\n",
    "                        (variants['CDS'] == coding) &\n",
    "                        (variants['FILTER_PASS'] == filter_pass)\n",
    "                    )\n",
    "temp = variants[['CHROM', 'POS']][ix]\n",
    "s = np.sort(temp, axis=None)\n",
    "s[s[1:] == s[:-1]]"
   ]
  },
  {
   "cell_type": "code",
   "execution_count": null,
   "metadata": {
    "collapsed": false
   },
   "outputs": [],
   "source": [
    "# Sanity check. Previously this was 1 of the two variants shown above and multiallelic was b'BI' not b'MU'\n",
    "variants[(variants['CHROM']==b'Pf3D7_01_v3') & (variants['POS']==514753)]"
   ]
  },
  {
   "cell_type": "code",
   "execution_count": null,
   "metadata": {
    "collapsed": false,
    "scrolled": true
   },
   "outputs": [],
   "source": [
    "headers = ['GQ threshold', 'PASS', 'Type', 'Coding', 'Multiallelic', 'Variants', 'Alleles', 'Mean NRAF', 'Missingness',\n",
    "           'Heterozygosity', 'Discordance', 'MER']\n",
    "etl.wrap(results_list).pushheader(headers).displayall()\n"
   ]
  },
  {
   "cell_type": "code",
   "execution_count": 114,
   "metadata": {
    "collapsed": false
   },
   "outputs": [
    {
     "data": {
      "text/plain": [
       "624919"
      ]
     },
     "execution_count": 114,
     "metadata": {},
     "output_type": "execute_result"
    }
   ],
   "source": [
    "np.sum(etl.wrap(results_list).pushheader(headers).values('Variants').array())"
   ]
  },
  {
   "cell_type": "code",
   "execution_count": null,
   "metadata": {
    "collapsed": false
   },
   "outputs": [],
   "source": [
    "np.sum(etl.wrap(results_list).pushheader(headers).values('Variants').array())"
   ]
  },
  {
   "cell_type": "code",
   "execution_count": null,
   "metadata": {
    "collapsed": true
   },
   "outputs": [],
   "source": []
  },
  {
   "cell_type": "code",
   "execution_count": null,
   "metadata": {
    "collapsed": false
   },
   "outputs": [],
   "source": [
    "# etl.wrap(results_list).pushheader(headers).convert('Alleles', int).toxlsx(results_table_fn)\n",
    "etl.wrap(results_list).pushheader(headers).cutout('Alleles').cutout('Mean NRAF').toxlsx(results_table_fn)\n",
    "results_table_fn"
   ]
  },
  {
   "cell_type": "code",
   "execution_count": null,
   "metadata": {
    "collapsed": true
   },
   "outputs": [],
   "source": []
  },
  {
   "cell_type": "code",
   "execution_count": null,
   "metadata": {
    "collapsed": true
   },
   "outputs": [],
   "source": []
  },
  {
   "cell_type": "code",
   "execution_count": 48,
   "metadata": {
    "collapsed": false
   },
   "outputs": [],
   "source": [
    "# variant_type_header_2_fn = \"%s/vcf/VARIANT_TYPE_2.hdr\" % (output_dir)\n",
    "# fo=open(variant_type_header_2_fn, 'w')\n",
    "# print('##INFO=<ID=VARIANT_TYPE,Number=1,Type=String,Description=\"SNP or INDEL\">', file=fo)\n",
    "# fo.close()"
   ]
  },
  {
   "cell_type": "code",
   "execution_count": 45,
   "metadata": {
    "collapsed": false
   },
   "outputs": [],
   "source": [
    "def create_variant_counts_vcf(input_vcf_fn=sites_only_vcf_fn, region='Pf3D7_14_v3:1000000-1100000',\n",
    "                        output_vcf_fn=None, BCFTOOLS=BCFTOOLS, rewrite=False):\n",
    "    if output_vcf_fn is None:\n",
    "        if region is None:\n",
    "            output_vcf_fn = \"%s/vcf/SNP_INDEL_WG.sites.analysis.vcf.gz\" % (output_dir)\n",
    "        else:\n",
    "            output_vcf_fn = \"%s/vcf/SNP_INDEL_%s.sites.analysis.vcf.gz\" % (output_dir, region)\n",
    "    intermediate_fns = collections.OrderedDict()\n",
    "    for intermediate_file in ['multiallelic', 'multiallelics', 'snps', 'indels', 'triallelic', 'bi_allelic', 'spanning_deletion',\n",
    "                              'triallelic_no_sd', 'biallelic',\n",
    "                              'variant_type', 'analysis']:\n",
    "        intermediate_fns[intermediate_file] = output_vcf_fn.replace('analysis', intermediate_file)\n",
    "\n",
    "    if rewrite or not os.path.exists(intermediate_fns['snps']):\n",
    "        !{BCFTOOLS} query -f'%CHROM\\t%POS\\tSNP\\n' --include 'TYPE=\"snp\"' {input_vcf_fn} | bgzip -c > {intermediate_fns['snps']} && tabix -s1 -b2 -e2 -f {intermediate_fns['snps']}\n",
    "\n",
    "    if rewrite or not os.path.exists(intermediate_fns['indels']):\n",
    "        !{BCFTOOLS} query -f'%CHROM\\t%POS\\tINDEL\\n' --include 'TYPE!=\"snp\"' {input_vcf_fn} | bgzip -c > {intermediate_fns['indels']} && tabix -s1 -b2 -e2 -f {intermediate_fns['indels']}\n",
    "\n",
    "    if rewrite or not os.path.exists(intermediate_fns['variant_type']):\n",
    "        !{BCFTOOLS} annotate -a {intermediate_fns['snps']} -c CHROM,POS,INFO/VARIANT_TYPE \\\n",
    "        -h {variant_type_header_fn} {input_vcf_fn} | \\\n",
    "        {BCFTOOLS} annotate -a {intermediate_fns['indels']} -c CHROM,POS,INFO/VARIANT_TYPE \\\n",
    "        -Oz -o {intermediate_fns['variant_type']} \n",
    "        !{BCFTOOLS} index --tbi {intermediate_fns['variant_type']}\n",
    "\n",
    "    if rewrite or not os.path.exists(intermediate_fns['multiallelic']):\n",
    "        !{BCFTOOLS} query -f'%CHROM\\t%POS\\tMU\\n' --include 'N_ALT>2' {intermediate_fns['variant_type']} | bgzip -c > {intermediate_fns['multiallelic']} && tabix -s1 -b2 -e2 {intermediate_fns['multiallelic']}\n",
    "        \n",
    "    if rewrite or not os.path.exists(intermediate_fns['triallelic']):\n",
    "        !{BCFTOOLS} query -f'%CHROM\\t%POS\\t%ALT\\tSD\\n' --include 'N_ALT=2' {intermediate_fns['variant_type']} | bgzip -c > {intermediate_fns['triallelic']} && tabix -s1 -b2 -e2 {intermediate_fns['triallelic']}\n",
    "\n",
    "    if rewrite or not os.path.exists(intermediate_fns['bi_allelic']):\n",
    "        !{BCFTOOLS} query -f'%CHROM\\t%POS\\t%ALT\\tBI\\n' --include 'N_ALT=1' {intermediate_fns['variant_type']} | bgzip -c > {intermediate_fns['bi_allelic']} && tabix -s1 -b2 -e2 {intermediate_fns['bi_allelic']}\n",
    "\n",
    "    if rewrite or not os.path.exists(intermediate_fns['spanning_deletion']):\n",
    "        !zgrep '\\*' {intermediate_fns['triallelic']} | bgzip -c > {intermediate_fns['spanning_deletion']} && tabix -s1 -b2 -e2 {intermediate_fns['spanning_deletion']}\n",
    "        \n",
    "    if rewrite or not os.path.exists(intermediate_fns['triallelic_no_sd']):\n",
    "        !zgrep -v '\\*' {intermediate_fns['triallelic']} | sed 's/SD/MU/g' | bgzip -c > {intermediate_fns['triallelic_no_sd']} && tabix -s1 -b2 -e2 {intermediate_fns['triallelic_no_sd']}\n",
    "        \n",
    "    if rewrite or not os.path.exists(intermediate_fns['multiallelics']):\n",
    "        !{BCFTOOLS} annotate --remove INFO/AF,INFO/BaseQRankSum,INFO/ClippingRankSum,INFO/DP,INFO/DS,INFO/END,INFO/FS,\\\n",
    "INFO/GC,INFO/HaplotypeScore,INFO/InbreedingCoeff,INFO/MLEAC,INFO/MLEAF,INFO/MQ,INFO/MQRankSum,INFO/NEGATIVE_TRAIN_SITE,\\\n",
    "INFO/POSITIVE_TRAIN_SITE,INFO/QD,INFO/ReadPosRankSum,INFO/RegionType,INFO/RPA,INFO/RU,INFO/STR,INFO/SNPEFF_AMINO_ACID_CHANGE,\\\n",
    "INFO/SNPEFF_CODON_CHANGE,INFO/SNPEFF_EXON_ID,INFO/SNPEFF_FUNCTIONAL_CLASS,INFO/SNPEFF_GENE_BIOTYPE,\\\n",
    "INFO/SNPEFF_GENE_NAME,INFO/SNPEFF_IMPACT,INFO/SNPEFF_TRANSCRIPT_ID,INFO/SOR,INFO/culprit,INFO/set\\\n",
    "        -a {intermediate_fns['bi_allelic']} -c CHROM,POS,-,INFO/MULTIALLELIC \\\n",
    "        -h {multiallelic_header_fn} {intermediate_fns['variant_type']} | \\\n",
    "        {BCFTOOLS} annotate -a {intermediate_fns['spanning_deletion']} -c CHROM,POS,-,INFO/MULTIALLELIC |\\\n",
    "        {BCFTOOLS} annotate -a {intermediate_fns['multiallelic']} -c CHROM,POS,INFO/MULTIALLELIC |\\\n",
    "        {BCFTOOLS} annotate -a {intermediate_fns['triallelic_no_sd']} -c CHROM,POS,-,INFO/MULTIALLELIC \\\n",
    "        -Oz -o {intermediate_fns['multiallelics']}\n",
    "        !{BCFTOOLS} index --tbi {intermediate_fns['multiallelics']}\n",
    "                \n",
    "    if rewrite or not os.path.exists(intermediate_fns['biallelic']):\n",
    "        !{BCFTOOLS} norm -m -any --fasta-ref {GENOME_FN} {intermediate_fns['multiallelics']} | \\\n",
    "        {BCFTOOLS} view --include 'ALT!=\"*\"' -Oz -o {intermediate_fns['biallelic']}\n",
    "        !{BCFTOOLS} index --tbi {intermediate_fns['biallelic']}\n",
    "\n",
    "    if rewrite or not os.path.exists(intermediate_fns['analysis']):\n",
    "        !{BCFTOOLS} annotate -a {cds_gff_fn} -c CHROM,FROM,TO,CDS \\\n",
    "        -h {cds_header_fn} \\\n",
    "        -Oz -o {intermediate_fns['analysis']} {intermediate_fns['biallelic']}\n",
    "        !{BCFTOOLS} index --tbi {intermediate_fns['analysis']}\n"
   ]
  },
  {
   "cell_type": "code",
   "execution_count": 46,
   "metadata": {
    "collapsed": false
   },
   "outputs": [
    {
     "data": {
      "text/plain": [
       "'/nfs/team112_internal/production/release_build/Pf3K/pilot_5_0/SNP_INDEL_WG.combined.filtered.sites.vcf.gz'"
      ]
     },
     "execution_count": 46,
     "metadata": {},
     "output_type": "execute_result"
    }
   ],
   "source": [
    "sites_only_vcf_fn"
   ]
  },
  {
   "cell_type": "code",
   "execution_count": 47,
   "metadata": {
    "collapsed": false
   },
   "outputs": [],
   "source": [
    "create_variant_counts_vcf(region=None)"
   ]
  },
  {
   "cell_type": "code",
   "execution_count": 48,
   "metadata": {
    "collapsed": false
   },
   "outputs": [
    {
     "name": "stderr",
     "output_type": "stream",
     "text": [
      "[vcfnp] 2016-07-21 21:01:15.206169 :: caching is enabled\n",
      "[vcfnp] 2016-07-21 21:01:15.208673 :: no cache file found\n",
      "[vcfnp] 2016-07-21 21:01:15.209949 :: building array\n",
      "[vcfnp] 2016-07-21 21:01:18.497955 :: 100000 rows in 3.27s; batch in 3.27s (30576 rows/s)\n",
      "[vcfnp] 2016-07-21 21:01:21.658985 :: 200000 rows in 6.43s; batch in 3.16s (31635 rows/s)\n",
      "[vcfnp] 2016-07-21 21:01:24.805028 :: 300000 rows in 9.58s; batch in 3.15s (31785 rows/s)\n",
      "[vcfnp] 2016-07-21 21:01:27.916122 :: 400000 rows in 12.69s; batch in 3.11s (32143 rows/s)\n",
      "[vcfnp] 2016-07-21 21:01:31.050655 :: 500000 rows in 15.82s; batch in 3.13s (31902 rows/s)\n",
      "[vcfnp] 2016-07-21 21:01:34.329587 :: 600000 rows in 19.10s; batch in 3.28s (30497 rows/s)\n",
      "[vcfnp] 2016-07-21 21:01:37.540556 :: 700000 rows in 22.31s; batch in 3.21s (31143 rows/s)\n",
      "[vcfnp] 2016-07-21 21:01:40.624572 :: 800000 rows in 25.40s; batch in 3.08s (32425 rows/s)\n",
      "[vcfnp] 2016-07-21 21:01:43.728616 :: 900000 rows in 28.50s; batch in 3.10s (32216 rows/s)\n",
      "[vcfnp] 2016-07-21 21:01:46.816322 :: 1000000 rows in 31.59s; batch in 3.09s (32386 rows/s)\n",
      "[vcfnp] 2016-07-21 21:01:50.151172 :: 1100000 rows in 34.92s; batch in 3.33s (29986 rows/s)\n",
      "[vcfnp] 2016-07-21 21:01:53.398705 :: 1200000 rows in 38.17s; batch in 3.25s (30792 rows/s)\n",
      "[vcfnp] 2016-07-21 21:01:56.576758 :: 1300000 rows in 41.35s; batch in 3.18s (31465 rows/s)\n",
      "[vcfnp] 2016-07-21 21:01:59.826702 :: 1400000 rows in 44.60s; batch in 3.25s (30769 rows/s)\n",
      "[vcfnp] 2016-07-21 21:02:03.043526 :: 1500000 rows in 47.82s; batch in 3.22s (31086 rows/s)\n",
      "[vcfnp] 2016-07-21 21:02:06.202106 :: 1600000 rows in 50.97s; batch in 3.16s (31659 rows/s)\n",
      "[vcfnp] 2016-07-21 21:02:09.207878 :: 1700000 rows in 53.98s; batch in 3.01s (33269 rows/s)\n",
      "[vcfnp] 2016-07-21 21:02:12.597728 :: 1800000 rows in 57.37s; batch in 3.39s (29499 rows/s)\n",
      "[vcfnp] 2016-07-21 21:02:15.745529 :: 1900000 rows in 60.52s; batch in 3.15s (31768 rows/s)\n",
      "[vcfnp] 2016-07-21 21:02:18.809837 :: 2000000 rows in 63.58s; batch in 3.06s (32633 rows/s)\n",
      "[vcfnp] 2016-07-21 21:02:22.059027 :: 2100000 rows in 66.83s; batch in 3.25s (30776 rows/s)\n",
      "[vcfnp] 2016-07-21 21:02:25.435875 :: 2200000 rows in 70.21s; batch in 3.38s (29613 rows/s)\n",
      "[vcfnp] 2016-07-21 21:02:28.806436 :: 2300000 rows in 73.58s; batch in 3.37s (29668 rows/s)\n",
      "[vcfnp] 2016-07-21 21:02:32.134943 :: 2400000 rows in 76.91s; batch in 3.33s (30043 rows/s)\n",
      "[vcfnp] 2016-07-21 21:02:36.273249 :: 2500000 rows in 81.05s; batch in 4.14s (24164 rows/s)\n",
      "[vcfnp] 2016-07-21 21:02:39.784800 :: 2600000 rows in 84.56s; batch in 3.51s (28477 rows/s)\n",
      "[vcfnp] 2016-07-21 21:02:43.315262 :: 2700000 rows in 88.09s; batch in 3.53s (28324 rows/s)\n",
      "[vcfnp] 2016-07-21 21:02:47.059497 :: 2800000 rows in 91.83s; batch in 3.74s (26707 rows/s)\n",
      "[vcfnp] 2016-07-21 21:02:50.447988 :: 2900000 rows in 95.22s; batch in 3.39s (29512 rows/s)\n",
      "[vcfnp] 2016-07-21 21:02:53.740723 :: 3000000 rows in 98.51s; batch in 3.29s (30368 rows/s)\n",
      "[vcfnp] 2016-07-21 21:02:57.471044 :: 3100000 rows in 102.24s; batch in 3.73s (26807 rows/s)\n",
      "[vcfnp] 2016-07-21 21:03:00.932702 :: 3200000 rows in 105.71s; batch in 3.46s (28887 rows/s)\n",
      "[vcfnp] 2016-07-21 21:03:04.391620 :: 3300000 rows in 109.16s; batch in 3.46s (28910 rows/s)\n",
      "[vcfnp] 2016-07-21 21:03:08.021937 :: 3400000 rows in 112.79s; batch in 3.63s (27545 rows/s)\n",
      "[vcfnp] 2016-07-21 21:03:11.522111 :: 3500000 rows in 116.29s; batch in 3.50s (28570 rows/s)\n",
      "[vcfnp] 2016-07-21 21:03:14.930038 :: 3600000 rows in 119.70s; batch in 3.41s (29343 rows/s)\n",
      "[vcfnp] 2016-07-21 21:03:18.473970 :: 3700000 rows in 123.25s; batch in 3.54s (28217 rows/s)\n",
      "[vcfnp] 2016-07-21 21:03:22.062572 :: 3800000 rows in 126.84s; batch in 3.59s (27866 rows/s)\n",
      "[vcfnp] 2016-07-21 21:03:26.127810 :: 3900000 rows in 130.90s; batch in 4.07s (24598 rows/s)\n",
      "[vcfnp] 2016-07-21 21:03:30.032415 :: 4000000 rows in 134.80s; batch in 3.90s (25610 rows/s)\n",
      "[vcfnp] 2016-07-21 21:03:33.901478 :: 4100000 rows in 138.67s; batch in 3.87s (25846 rows/s)\n",
      "[vcfnp] 2016-07-21 21:03:37.757415 :: 4200000 rows in 142.53s; batch in 3.86s (25934 rows/s)\n",
      "[vcfnp] 2016-07-21 21:03:41.517932 :: 4300000 rows in 146.29s; batch in 3.76s (26592 rows/s)\n",
      "[vcfnp] 2016-07-21 21:03:45.528271 :: 4400000 rows in 150.30s; batch in 4.01s (24935 rows/s)\n",
      "[vcfnp] 2016-07-21 21:03:49.007553 :: 4500000 rows in 153.78s; batch in 3.48s (28741 rows/s)\n",
      "[vcfnp] 2016-07-21 21:03:52.549129 :: 4600000 rows in 157.32s; batch in 3.54s (28235 rows/s)\n",
      "[vcfnp] 2016-07-21 21:03:56.062843 :: 4700000 rows in 160.84s; batch in 3.51s (28459 rows/s)\n",
      "[vcfnp] 2016-07-21 21:03:59.574700 :: 4800000 rows in 164.35s; batch in 3.51s (28474 rows/s)\n",
      "[vcfnp] 2016-07-21 21:04:03.373967 :: 4900000 rows in 168.15s; batch in 3.80s (26320 rows/s)\n",
      "[vcfnp] 2016-07-21 21:04:06.872440 :: 5000000 rows in 171.64s; batch in 3.50s (28583 rows/s)\n",
      "[vcfnp] 2016-07-21 21:04:10.043172 :: 5100000 rows in 174.82s; batch in 3.17s (31538 rows/s)\n",
      "[vcfnp] 2016-07-21 21:04:13.221354 :: 5200000 rows in 177.99s; batch in 3.18s (31464 rows/s)\n",
      "[vcfnp] 2016-07-21 21:04:16.620328 :: 5300000 rows in 181.39s; batch in 3.40s (29420 rows/s)\n",
      "[vcfnp] 2016-07-21 21:04:19.983271 :: 5400000 rows in 184.76s; batch in 3.36s (29735 rows/s)\n",
      "[vcfnp] 2016-07-21 21:04:23.476795 :: 5500000 rows in 188.25s; batch in 3.49s (28624 rows/s)\n",
      "[vcfnp] 2016-07-21 21:04:26.686998 :: 5600000 rows in 191.46s; batch in 3.21s (31150 rows/s)\n",
      "[vcfnp] 2016-07-21 21:04:29.757396 :: 5700000 rows in 194.53s; batch in 3.07s (32569 rows/s)\n",
      "[vcfnp] 2016-07-21 21:04:32.995744 :: 5800000 rows in 197.77s; batch in 3.24s (30880 rows/s)\n",
      "[vcfnp] 2016-07-21 21:04:36.548010 :: 5900000 rows in 201.32s; batch in 3.55s (28151 rows/s)\n",
      "[vcfnp] 2016-07-21 21:04:39.807528 :: 6000000 rows in 204.58s; batch in 3.26s (30679 rows/s)\n",
      "[vcfnp] 2016-07-21 21:04:42.746100 :: 6100000 rows in 207.52s; batch in 2.94s (34030 rows/s)\n",
      "[vcfnp] 2016-07-21 21:04:45.694875 :: 6200000 rows in 210.47s; batch in 2.95s (33912 rows/s)\n",
      "[vcfnp] 2016-07-21 21:04:48.454546 :: 6300000 rows in 213.23s; batch in 2.76s (36236 rows/s)\n",
      "[vcfnp] 2016-07-21 21:04:51.804367 :: 6400000 rows in 216.58s; batch in 3.35s (29852 rows/s)\n",
      "[vcfnp] 2016-07-21 21:04:55.044984 :: 6500000 rows in 219.82s; batch in 3.24s (30858 rows/s)\n",
      "[vcfnp] 2016-07-21 21:04:58.038299 :: 6600000 rows in 222.81s; batch in 2.99s (33407 rows/s)\n",
      "[vcfnp] 2016-07-21 21:05:00.921392 :: 6700000 rows in 225.69s; batch in 2.88s (34684 rows/s)\n",
      "[vcfnp] 2016-07-21 21:05:04.032224 :: 6800000 rows in 228.80s; batch in 3.11s (32145 rows/s)\n",
      "[vcfnp] 2016-07-21 21:05:04.847976 :: 6824972 rows in 229.62s (29722 rows/s)\n",
      "[vcfnp] 2016-07-21 21:05:04.850808 :: saving to cache file /lustre/scratch109/malaria/rp7/data/pf3k/pilot_5_0/20160721_mendelian_error_duplicate_concordance/vcf/SNP_INDEL_WG.sites.analysis.vcf.gz.vcfnp_cache/variants.npy\n"
     ]
    }
   ],
   "source": [
    "create_variants_npy(\"%s/vcf/SNP_INDEL_WG.sites.analysis.vcf.gz\" % (output_dir))\n"
   ]
  },
  {
   "cell_type": "code",
   "execution_count": 49,
   "metadata": {
    "collapsed": true
   },
   "outputs": [],
   "source": [
    "sites_vcf_fn = \"%s/vcf/SNP_INDEL_WG.sites.analysis.vcf.gz\" % (output_dir)\n",
    "variants_all = np.load(\"%s.vcfnp_cache/variants.npy\" % sites_vcf_fn)\n"
   ]
  },
  {
   "cell_type": "code",
   "execution_count": 50,
   "metadata": {
    "collapsed": false
   },
   "outputs": [
    {
     "name": "stdout",
     "output_type": "stream",
     "text": [
      "True b'SNP' True b'BI'\n",
      "True b'SNP' True b'SD'\n",
      "True b'SNP' True b'MU'\n",
      "True b'SNP' False b'BI'\n",
      "True b'SNP' False b'SD'\n",
      "True b'SNP' False b'MU'\n",
      "True b'IND' True b'BI'\n",
      "True b'IND' True b'SD'\n",
      "True b'IND' True b'MU'\n",
      "True b'IND' False b'BI'\n",
      "True b'IND' False b'SD'\n",
      "True b'IND' False b'MU'\n",
      "False b'SNP' True b'BI'\n",
      "False b'SNP' True b'SD'\n",
      "False b'SNP' True b'MU'\n",
      "False b'SNP' False b'BI'\n",
      "False b'SNP' False b'SD'\n",
      "False b'SNP' False b'MU'\n",
      "False b'IND' True b'BI'\n",
      "False b'IND' True b'SD'\n",
      "False b'IND' True b'MU'\n",
      "False b'IND' False b'BI'\n",
      "False b'IND' False b'SD'\n",
      "False b'IND' False b'MU'\n",
      "[[True, b'SNP', True, b'BI', 641856, 641856, 0.0077220200341972644], [True, b'SNP', True, b'SD', 63110, 63110, 0.0085720430149710813], [True, b'SNP', True, b'MU', 51184, 104234, 0.0082275055926029905], [True, b'SNP', False, b'BI', 417751, 417751, 0.0082117160465197854], [True, b'SNP', False, b'SD', 124960, 124960, 0.012127685251806146], [True, b'SNP', False, b'MU', 30468, 61887, 0.009392034784424564], [True, b'IND', True, b'BI', 7310, 7310, 0.010850542187022943], [True, b'IND', True, b'SD', 23353, 23353, 0.0083160411325552859], [True, b'IND', True, b'MU', 89704, 233332, 0.021754514123097819], [True, b'IND', False, b'BI', 67700, 67700, 0.0073883577101844832], [True, b'IND', False, b'SD', 112947, 112947, 0.0097027243605674746], [True, b'IND', False, b'MU', 304890, 814433, 0.031848117868553634], [False, b'SNP', True, b'BI', 369312, 369312, 0.0056312908353769522], [False, b'SNP', True, b'SD', 58060, 58060, 0.018944357907089166], [False, b'SNP', True, b'MU', 68746, 150939, 0.028838345014673018], [False, b'SNP', False, b'BI', 424579, 424579, 0.0092001860773348026], [False, b'SNP', False, b'SD', 168923, 168923, 0.014748859060237407], [False, b'SNP', False, b'MU', 142941, 320230, 0.02020102936331326], [False, b'IND', True, b'BI', 29418, 29418, 0.0030583324924715219], [False, b'IND', True, b'SD', 23309, 23309, 0.0065419368283468077], [False, b'IND', True, b'MU', 335248, 1117301, 0.019580362367099383], [False, b'IND', False, b'BI', 78760, 78760, 0.0027401173723013493], [False, b'IND', False, b'SD', 73278, 73278, 0.0060184339690194585], [False, b'IND', False, b'MU', 504952, 1337990, 0.012505704275215667]]\n"
     ]
    }
   ],
   "source": [
    "counts_list = list()\n",
    "GQ_thresholds = [0, 30, 99]\n",
    "variant_types = [b'SNP', b'IND']\n",
    "# variant_types = [b'SNP', b'IND', b'STR']\n",
    "multiallelics = [b'BI', b'SD', b'MU']\n",
    "codings = [True, False]\n",
    "filter_passes = [True, False]\n",
    "\n",
    "# GQ_thresholds = [30, 99, 0]\n",
    "# variant_types = [b'SNP', b'IND']\n",
    "# multiallelics = [False, True]\n",
    "# codings = [True, False]\n",
    "# filter_passes = [True, False]\n",
    "\n",
    "\n",
    "for filter_pass in filter_passes:\n",
    "    for variant_type in variant_types:\n",
    "        for coding in codings:\n",
    "            for multiallelic in multiallelics:\n",
    "                print(filter_pass, variant_type, coding, multiallelic)\n",
    "                ix = (\n",
    "                    (variants_all['VARIANT_TYPE'] == variant_type) &\n",
    "                    (variants_all['MULTIALLELIC'] == multiallelic) &\n",
    "                    (variants_all['CDS'] == coding) &\n",
    "                    (variants_all['FILTER_PASS'] == filter_pass)\n",
    "                )\n",
    "                number_of_alleles = np.sum(ix)\n",
    "                number_of_sites = len(np.unique(variants_all[['CHROM', 'POS']][ix]))\n",
    "                mean_nraf = np.sum(variants_all['AC'][ix]) / np.sum(variants_all['AN'][ix])\n",
    "#                 number_of_variants = np.sum(ix)\n",
    "                counts_list.append(\n",
    "                    [filter_pass, variant_type, coding, multiallelic, number_of_sites, number_of_alleles, mean_nraf]\n",
    "                )\n",
    "\n",
    "print(counts_list)"
   ]
  },
  {
   "cell_type": "code",
   "execution_count": 51,
   "metadata": {
    "collapsed": false
   },
   "outputs": [
    {
     "data": {
      "text/html": [
       "<table class='petl'>\n",
       "<thead>\n",
       "<tr>\n",
       "<th>PASS</th>\n",
       "<th>Type</th>\n",
       "<th>Coding</th>\n",
       "<th>Multiallelic</th>\n",
       "<th>Variants</th>\n",
       "<th>Alleles</th>\n",
       "<th>Mean NRAF</th>\n",
       "</tr>\n",
       "</thead>\n",
       "<tbody>\n",
       "<tr>\n",
       "<td>True</td>\n",
       "<td>b'SNP'</td>\n",
       "<td>True</td>\n",
       "<td>b'BI'</td>\n",
       "<td style='text-align: right'>641856</td>\n",
       "<td style='text-align: right'>641856</td>\n",
       "<td style='text-align: right'>0.007722020034197264</td>\n",
       "</tr>\n",
       "<tr>\n",
       "<td>True</td>\n",
       "<td>b'SNP'</td>\n",
       "<td>True</td>\n",
       "<td>b'SD'</td>\n",
       "<td style='text-align: right'>63110</td>\n",
       "<td style='text-align: right'>63110</td>\n",
       "<td style='text-align: right'>0.008572043014971081</td>\n",
       "</tr>\n",
       "<tr>\n",
       "<td>True</td>\n",
       "<td>b'SNP'</td>\n",
       "<td>True</td>\n",
       "<td>b'MU'</td>\n",
       "<td style='text-align: right'>51184</td>\n",
       "<td style='text-align: right'>104234</td>\n",
       "<td style='text-align: right'>0.00822750559260299</td>\n",
       "</tr>\n",
       "<tr>\n",
       "<td>True</td>\n",
       "<td>b'SNP'</td>\n",
       "<td>False</td>\n",
       "<td>b'BI'</td>\n",
       "<td style='text-align: right'>417751</td>\n",
       "<td style='text-align: right'>417751</td>\n",
       "<td style='text-align: right'>0.008211716046519785</td>\n",
       "</tr>\n",
       "<tr>\n",
       "<td>True</td>\n",
       "<td>b'SNP'</td>\n",
       "<td>False</td>\n",
       "<td>b'SD'</td>\n",
       "<td style='text-align: right'>124960</td>\n",
       "<td style='text-align: right'>124960</td>\n",
       "<td style='text-align: right'>0.012127685251806146</td>\n",
       "</tr>\n",
       "<tr>\n",
       "<td>True</td>\n",
       "<td>b'SNP'</td>\n",
       "<td>False</td>\n",
       "<td>b'MU'</td>\n",
       "<td style='text-align: right'>30468</td>\n",
       "<td style='text-align: right'>61887</td>\n",
       "<td style='text-align: right'>0.009392034784424564</td>\n",
       "</tr>\n",
       "<tr>\n",
       "<td>True</td>\n",
       "<td>b'IND'</td>\n",
       "<td>True</td>\n",
       "<td>b'BI'</td>\n",
       "<td style='text-align: right'>7310</td>\n",
       "<td style='text-align: right'>7310</td>\n",
       "<td style='text-align: right'>0.010850542187022943</td>\n",
       "</tr>\n",
       "<tr>\n",
       "<td>True</td>\n",
       "<td>b'IND'</td>\n",
       "<td>True</td>\n",
       "<td>b'SD'</td>\n",
       "<td style='text-align: right'>23353</td>\n",
       "<td style='text-align: right'>23353</td>\n",
       "<td style='text-align: right'>0.008316041132555286</td>\n",
       "</tr>\n",
       "<tr>\n",
       "<td>True</td>\n",
       "<td>b'IND'</td>\n",
       "<td>True</td>\n",
       "<td>b'MU'</td>\n",
       "<td style='text-align: right'>89704</td>\n",
       "<td style='text-align: right'>233332</td>\n",
       "<td style='text-align: right'>0.02175451412309782</td>\n",
       "</tr>\n",
       "<tr>\n",
       "<td>True</td>\n",
       "<td>b'IND'</td>\n",
       "<td>False</td>\n",
       "<td>b'BI'</td>\n",
       "<td style='text-align: right'>67700</td>\n",
       "<td style='text-align: right'>67700</td>\n",
       "<td style='text-align: right'>0.007388357710184483</td>\n",
       "</tr>\n",
       "<tr>\n",
       "<td>True</td>\n",
       "<td>b'IND'</td>\n",
       "<td>False</td>\n",
       "<td>b'SD'</td>\n",
       "<td style='text-align: right'>112947</td>\n",
       "<td style='text-align: right'>112947</td>\n",
       "<td style='text-align: right'>0.009702724360567475</td>\n",
       "</tr>\n",
       "<tr>\n",
       "<td>True</td>\n",
       "<td>b'IND'</td>\n",
       "<td>False</td>\n",
       "<td>b'MU'</td>\n",
       "<td style='text-align: right'>304890</td>\n",
       "<td style='text-align: right'>814433</td>\n",
       "<td style='text-align: right'>0.031848117868553634</td>\n",
       "</tr>\n",
       "<tr>\n",
       "<td>False</td>\n",
       "<td>b'SNP'</td>\n",
       "<td>True</td>\n",
       "<td>b'BI'</td>\n",
       "<td style='text-align: right'>369312</td>\n",
       "<td style='text-align: right'>369312</td>\n",
       "<td style='text-align: right'>0.005631290835376952</td>\n",
       "</tr>\n",
       "<tr>\n",
       "<td>False</td>\n",
       "<td>b'SNP'</td>\n",
       "<td>True</td>\n",
       "<td>b'SD'</td>\n",
       "<td style='text-align: right'>58060</td>\n",
       "<td style='text-align: right'>58060</td>\n",
       "<td style='text-align: right'>0.018944357907089166</td>\n",
       "</tr>\n",
       "<tr>\n",
       "<td>False</td>\n",
       "<td>b'SNP'</td>\n",
       "<td>True</td>\n",
       "<td>b'MU'</td>\n",
       "<td style='text-align: right'>68746</td>\n",
       "<td style='text-align: right'>150939</td>\n",
       "<td style='text-align: right'>0.028838345014673018</td>\n",
       "</tr>\n",
       "<tr>\n",
       "<td>False</td>\n",
       "<td>b'SNP'</td>\n",
       "<td>False</td>\n",
       "<td>b'BI'</td>\n",
       "<td style='text-align: right'>424579</td>\n",
       "<td style='text-align: right'>424579</td>\n",
       "<td style='text-align: right'>0.009200186077334803</td>\n",
       "</tr>\n",
       "<tr>\n",
       "<td>False</td>\n",
       "<td>b'SNP'</td>\n",
       "<td>False</td>\n",
       "<td>b'SD'</td>\n",
       "<td style='text-align: right'>168923</td>\n",
       "<td style='text-align: right'>168923</td>\n",
       "<td style='text-align: right'>0.014748859060237407</td>\n",
       "</tr>\n",
       "<tr>\n",
       "<td>False</td>\n",
       "<td>b'SNP'</td>\n",
       "<td>False</td>\n",
       "<td>b'MU'</td>\n",
       "<td style='text-align: right'>142941</td>\n",
       "<td style='text-align: right'>320230</td>\n",
       "<td style='text-align: right'>0.02020102936331326</td>\n",
       "</tr>\n",
       "<tr>\n",
       "<td>False</td>\n",
       "<td>b'IND'</td>\n",
       "<td>True</td>\n",
       "<td>b'BI'</td>\n",
       "<td style='text-align: right'>29418</td>\n",
       "<td style='text-align: right'>29418</td>\n",
       "<td style='text-align: right'>0.003058332492471522</td>\n",
       "</tr>\n",
       "<tr>\n",
       "<td>False</td>\n",
       "<td>b'IND'</td>\n",
       "<td>True</td>\n",
       "<td>b'SD'</td>\n",
       "<td style='text-align: right'>23309</td>\n",
       "<td style='text-align: right'>23309</td>\n",
       "<td style='text-align: right'>0.006541936828346808</td>\n",
       "</tr>\n",
       "<tr>\n",
       "<td>False</td>\n",
       "<td>b'IND'</td>\n",
       "<td>True</td>\n",
       "<td>b'MU'</td>\n",
       "<td style='text-align: right'>335248</td>\n",
       "<td style='text-align: right'>1117301</td>\n",
       "<td style='text-align: right'>0.019580362367099383</td>\n",
       "</tr>\n",
       "<tr>\n",
       "<td>False</td>\n",
       "<td>b'IND'</td>\n",
       "<td>False</td>\n",
       "<td>b'BI'</td>\n",
       "<td style='text-align: right'>78760</td>\n",
       "<td style='text-align: right'>78760</td>\n",
       "<td style='text-align: right'>0.0027401173723013493</td>\n",
       "</tr>\n",
       "<tr>\n",
       "<td>False</td>\n",
       "<td>b'IND'</td>\n",
       "<td>False</td>\n",
       "<td>b'SD'</td>\n",
       "<td style='text-align: right'>73278</td>\n",
       "<td style='text-align: right'>73278</td>\n",
       "<td style='text-align: right'>0.0060184339690194585</td>\n",
       "</tr>\n",
       "<tr>\n",
       "<td>False</td>\n",
       "<td>b'IND'</td>\n",
       "<td>False</td>\n",
       "<td>b'MU'</td>\n",
       "<td style='text-align: right'>504952</td>\n",
       "<td style='text-align: right'>1337990</td>\n",
       "<td style='text-align: right'>0.012505704275215667</td>\n",
       "</tr>\n",
       "</tbody>\n",
       "</table>\n"
      ]
     },
     "metadata": {},
     "output_type": "display_data"
    }
   ],
   "source": [
    "headers = ['PASS', 'Type', 'Coding', 'Multiallelic', 'Variants', 'Alleles', 'Mean NRAF']\n",
    "(etl\n",
    " .wrap(counts_list)\n",
    " .pushheader(headers)\n",
    " .convert('Mean NRAF', float)\n",
    " .convert('Variants', int)\n",
    " .convert('Alleles', int)\n",
    " .displayall()\n",
    ")\n"
   ]
  },
  {
   "cell_type": "code",
   "execution_count": 52,
   "metadata": {
    "collapsed": false
   },
   "outputs": [
    {
     "data": {
      "text/plain": [
       "'/lustre/scratch109/malaria/rp7/data/pf3k/pilot_5_0/20160721_mendelian_error_duplicate_concordance/variant_counts.xlsx'"
      ]
     },
     "execution_count": 52,
     "metadata": {},
     "output_type": "execute_result"
    }
   ],
   "source": [
    "(etl\n",
    " .wrap(counts_list)\n",
    " .pushheader(headers)\n",
    " .convert('Mean NRAF', float)\n",
    " .convert('Variants', int)\n",
    " .convert('Alleles', int)\n",
    " .toxlsx(counts_table_fn)\n",
    ")\n",
    "# etl.wrap(counts_list).pushheader(headers).convertnumbers().toxlsx(counts_table_fn)\n",
    "counts_table_fn"
   ]
  },
  {
   "cell_type": "code",
   "execution_count": 60,
   "metadata": {
    "collapsed": false
   },
   "outputs": [
    {
     "data": {
      "text/plain": [
       "1935195"
      ]
     },
     "execution_count": 60,
     "metadata": {},
     "output_type": "execute_result"
    }
   ],
   "source": [
    "np.sum(etl\n",
    "       .fromtsv('/nfs/team112_internal/production/release_build/Pf3K/pilot_5_0/passcounts')\n",
    "       .pushheader(('CHROM', 'count'))\n",
    "       .convertnumbers()\n",
    "       .values('count')\n",
    "       .array()\n",
    "       )"
   ]
  },
  {
   "cell_type": "code",
   "execution_count": null,
   "metadata": {
    "collapsed": false
   },
   "outputs": [],
   "source": [
    "simplified_counts_list = list()\n",
    "GQ_thresholds = [0, 30, 99]\n",
    "variant_types = [b'SNP', b'IND']\n",
    "# multiallelics = [b'BI', b'SD', b'MU']\n",
    "codings = [True, False]\n",
    "filter_passes = [True, False]\n",
    "\n",
    "for filter_pass in filter_passes:\n",
    "    for variant_type in variant_types:\n",
    "        for coding in codings:\n",
    "            print(filter_pass, variant_type, coding)\n",
    "            ix = (\n",
    "                (variants_all['VARIANT_TYPE'] == variant_type) &\n",
    "                (variants_all['CDS'] == coding) &\n",
    "                (variants_all['FILTER_PASS'] == filter_pass)\n",
    "            )\n",
    "            number_of_alleles = np.sum(ix)\n",
    "            number_of_sites = len(np.unique(variants_all[['CHROM', 'POS']][ix]))\n",
    "            mean_nraf = np.sum(variants_all['AC'][ix]) / np.sum(variants_all['AN'][ix])\n",
    "            simplified_counts_list.append(\n",
    "                [filter_pass, variant_type, coding, number_of_sites, number_of_alleles, mean_nraf]\n",
    "            )\n"
   ]
  },
  {
   "cell_type": "code",
   "execution_count": null,
   "metadata": {
    "collapsed": false
   },
   "outputs": [],
   "source": [
    "headers = ['PASS', 'Type', 'Coding', 'Variants', 'Alleles', 'Mean NRAF']\n",
    "(etl\n",
    " .wrap(simplified_counts_list)\n",
    " .pushheader(headers)\n",
    " .convert('Mean NRAF', float)\n",
    " .convert('Variants', int)\n",
    " .convert('Alleles', int)\n",
    " .displayall()\n",
    ")\n"
   ]
  },
  {
   "cell_type": "code",
   "execution_count": 51,
   "metadata": {
    "collapsed": false
   },
   "outputs": [
    {
     "data": {
      "text/html": [
       "<table class='petl'>\n",
       "<thead>\n",
       "<tr>\n",
       "<th>PASS</th>\n",
       "<th>Type</th>\n",
       "<th>Coding</th>\n",
       "<th>Multiallelic</th>\n",
       "<th>Variants</th>\n",
       "<th>Alleles</th>\n",
       "<th>Mean NRAF</th>\n",
       "</tr>\n",
       "</thead>\n",
       "<tbody>\n",
       "<tr>\n",
       "<td>True</td>\n",
       "<td>b'SNP'</td>\n",
       "<td>True</td>\n",
       "<td>b'BI'</td>\n",
       "<td style='text-align: right'>641856</td>\n",
       "<td style='text-align: right'>641856</td>\n",
       "<td style='text-align: right'>0.007722020034197264</td>\n",
       "</tr>\n",
       "<tr>\n",
       "<td>True</td>\n",
       "<td>b'SNP'</td>\n",
       "<td>True</td>\n",
       "<td>b'SD'</td>\n",
       "<td style='text-align: right'>63110</td>\n",
       "<td style='text-align: right'>63110</td>\n",
       "<td style='text-align: right'>0.008572043014971081</td>\n",
       "</tr>\n",
       "<tr>\n",
       "<td>True</td>\n",
       "<td>b'SNP'</td>\n",
       "<td>True</td>\n",
       "<td>b'MU'</td>\n",
       "<td style='text-align: right'>51184</td>\n",
       "<td style='text-align: right'>104234</td>\n",
       "<td style='text-align: right'>0.00822750559260299</td>\n",
       "</tr>\n",
       "<tr>\n",
       "<td>True</td>\n",
       "<td>b'SNP'</td>\n",
       "<td>False</td>\n",
       "<td>b'BI'</td>\n",
       "<td style='text-align: right'>417751</td>\n",
       "<td style='text-align: right'>417751</td>\n",
       "<td style='text-align: right'>0.008211716046519785</td>\n",
       "</tr>\n",
       "<tr>\n",
       "<td>True</td>\n",
       "<td>b'SNP'</td>\n",
       "<td>False</td>\n",
       "<td>b'SD'</td>\n",
       "<td style='text-align: right'>124960</td>\n",
       "<td style='text-align: right'>124960</td>\n",
       "<td style='text-align: right'>0.012127685251806146</td>\n",
       "</tr>\n",
       "<tr>\n",
       "<td>True</td>\n",
       "<td>b'SNP'</td>\n",
       "<td>False</td>\n",
       "<td>b'MU'</td>\n",
       "<td style='text-align: right'>30468</td>\n",
       "<td style='text-align: right'>61887</td>\n",
       "<td style='text-align: right'>0.009392034784424564</td>\n",
       "</tr>\n",
       "<tr>\n",
       "<td>True</td>\n",
       "<td>b'IND'</td>\n",
       "<td>True</td>\n",
       "<td>b'BI'</td>\n",
       "<td style='text-align: right'>7310</td>\n",
       "<td style='text-align: right'>7310</td>\n",
       "<td style='text-align: right'>0.010850542187022943</td>\n",
       "</tr>\n",
       "<tr>\n",
       "<td>True</td>\n",
       "<td>b'IND'</td>\n",
       "<td>True</td>\n",
       "<td>b'SD'</td>\n",
       "<td style='text-align: right'>23353</td>\n",
       "<td style='text-align: right'>23353</td>\n",
       "<td style='text-align: right'>0.008316041132555286</td>\n",
       "</tr>\n",
       "<tr>\n",
       "<td>True</td>\n",
       "<td>b'IND'</td>\n",
       "<td>True</td>\n",
       "<td>b'MU'</td>\n",
       "<td style='text-align: right'>89704</td>\n",
       "<td style='text-align: right'>233332</td>\n",
       "<td style='text-align: right'>0.02175451412309782</td>\n",
       "</tr>\n",
       "<tr>\n",
       "<td>True</td>\n",
       "<td>b'IND'</td>\n",
       "<td>False</td>\n",
       "<td>b'BI'</td>\n",
       "<td style='text-align: right'>67700</td>\n",
       "<td style='text-align: right'>67700</td>\n",
       "<td style='text-align: right'>0.007388357710184483</td>\n",
       "</tr>\n",
       "<tr>\n",
       "<td>True</td>\n",
       "<td>b'IND'</td>\n",
       "<td>False</td>\n",
       "<td>b'SD'</td>\n",
       "<td style='text-align: right'>112947</td>\n",
       "<td style='text-align: right'>112947</td>\n",
       "<td style='text-align: right'>0.009702724360567475</td>\n",
       "</tr>\n",
       "<tr>\n",
       "<td>True</td>\n",
       "<td>b'IND'</td>\n",
       "<td>False</td>\n",
       "<td>b'MU'</td>\n",
       "<td style='text-align: right'>304890</td>\n",
       "<td style='text-align: right'>814433</td>\n",
       "<td style='text-align: right'>0.031848117868553634</td>\n",
       "</tr>\n",
       "<tr>\n",
       "<td>False</td>\n",
       "<td>b'SNP'</td>\n",
       "<td>True</td>\n",
       "<td>b'BI'</td>\n",
       "<td style='text-align: right'>369312</td>\n",
       "<td style='text-align: right'>369312</td>\n",
       "<td style='text-align: right'>0.005631290835376952</td>\n",
       "</tr>\n",
       "<tr>\n",
       "<td>False</td>\n",
       "<td>b'SNP'</td>\n",
       "<td>True</td>\n",
       "<td>b'SD'</td>\n",
       "<td style='text-align: right'>58060</td>\n",
       "<td style='text-align: right'>58060</td>\n",
       "<td style='text-align: right'>0.018944357907089166</td>\n",
       "</tr>\n",
       "<tr>\n",
       "<td>False</td>\n",
       "<td>b'SNP'</td>\n",
       "<td>True</td>\n",
       "<td>b'MU'</td>\n",
       "<td style='text-align: right'>68746</td>\n",
       "<td style='text-align: right'>150939</td>\n",
       "<td style='text-align: right'>0.028838345014673018</td>\n",
       "</tr>\n",
       "<tr>\n",
       "<td>False</td>\n",
       "<td>b'SNP'</td>\n",
       "<td>False</td>\n",
       "<td>b'BI'</td>\n",
       "<td style='text-align: right'>424579</td>\n",
       "<td style='text-align: right'>424579</td>\n",
       "<td style='text-align: right'>0.009200186077334803</td>\n",
       "</tr>\n",
       "<tr>\n",
       "<td>False</td>\n",
       "<td>b'SNP'</td>\n",
       "<td>False</td>\n",
       "<td>b'SD'</td>\n",
       "<td style='text-align: right'>168923</td>\n",
       "<td style='text-align: right'>168923</td>\n",
       "<td style='text-align: right'>0.014748859060237407</td>\n",
       "</tr>\n",
       "<tr>\n",
       "<td>False</td>\n",
       "<td>b'SNP'</td>\n",
       "<td>False</td>\n",
       "<td>b'MU'</td>\n",
       "<td style='text-align: right'>142941</td>\n",
       "<td style='text-align: right'>320230</td>\n",
       "<td style='text-align: right'>0.02020102936331326</td>\n",
       "</tr>\n",
       "<tr>\n",
       "<td>False</td>\n",
       "<td>b'IND'</td>\n",
       "<td>True</td>\n",
       "<td>b'BI'</td>\n",
       "<td style='text-align: right'>29418</td>\n",
       "<td style='text-align: right'>29418</td>\n",
       "<td style='text-align: right'>0.003058332492471522</td>\n",
       "</tr>\n",
       "<tr>\n",
       "<td>False</td>\n",
       "<td>b'IND'</td>\n",
       "<td>True</td>\n",
       "<td>b'SD'</td>\n",
       "<td style='text-align: right'>23309</td>\n",
       "<td style='text-align: right'>23309</td>\n",
       "<td style='text-align: right'>0.006541936828346808</td>\n",
       "</tr>\n",
       "<tr>\n",
       "<td>False</td>\n",
       "<td>b'IND'</td>\n",
       "<td>True</td>\n",
       "<td>b'MU'</td>\n",
       "<td style='text-align: right'>335248</td>\n",
       "<td style='text-align: right'>1117301</td>\n",
       "<td style='text-align: right'>0.019580362367099383</td>\n",
       "</tr>\n",
       "<tr>\n",
       "<td>False</td>\n",
       "<td>b'IND'</td>\n",
       "<td>False</td>\n",
       "<td>b'BI'</td>\n",
       "<td style='text-align: right'>78760</td>\n",
       "<td style='text-align: right'>78760</td>\n",
       "<td style='text-align: right'>0.0027401173723013493</td>\n",
       "</tr>\n",
       "<tr>\n",
       "<td>False</td>\n",
       "<td>b'IND'</td>\n",
       "<td>False</td>\n",
       "<td>b'SD'</td>\n",
       "<td style='text-align: right'>73278</td>\n",
       "<td style='text-align: right'>73278</td>\n",
       "<td style='text-align: right'>0.0060184339690194585</td>\n",
       "</tr>\n",
       "<tr>\n",
       "<td>False</td>\n",
       "<td>b'IND'</td>\n",
       "<td>False</td>\n",
       "<td>b'MU'</td>\n",
       "<td style='text-align: right'>504952</td>\n",
       "<td style='text-align: right'>1337990</td>\n",
       "<td style='text-align: right'>0.012505704275215667</td>\n",
       "</tr>\n",
       "</tbody>\n",
       "</table>\n"
      ]
     },
     "metadata": {},
     "output_type": "display_data"
    }
   ],
   "source": [
    "headers = ['PASS', 'Type', 'Coding', 'Variants', 'Alleles', 'Mean NRAF']\n",
    "(etl\n",
    " .wrap(simplified_counts_list)\n",
    " .pushheader(headers)\n",
    " .convert('Mean NRAF', float)\n",
    " .convert('Variants', int)\n",
    " .convert('Alleles', int)\n",
    " .toxlsx(simplifed_counts_table_fn)\n",
    ")\n"
   ]
  },
  {
   "cell_type": "code",
   "execution_count": 53,
   "metadata": {
    "collapsed": false
   },
   "outputs": [
    {
     "data": {
      "text/plain": [
       "1935195"
      ]
     },
     "execution_count": 53,
     "metadata": {},
     "output_type": "execute_result"
    }
   ],
   "source": [
    "np.sum(etl\n",
    "       .fromtsv('/nfs/team112_internal/production/release_build/Pf3K/pilot_5_0/passcounts')\n",
    "       .pushheader(('CHROM', 'count'))\n",
    "       .convertnumbers()\n",
    "       .values('count')\n",
    "       .array()\n",
    "       )"
   ]
  },
  {
   "cell_type": "code",
   "execution_count": 61,
   "metadata": {
    "collapsed": false
   },
   "outputs": [
    {
     "data": {
      "text/plain": [
       "4"
      ]
     },
     "execution_count": 61,
     "metadata": {},
     "output_type": "execute_result"
    }
   ],
   "source": [
    "2+2"
   ]
  },
  {
   "cell_type": "code",
   "execution_count": null,
   "metadata": {
    "collapsed": true
   },
   "outputs": [],
   "source": []
  }
 ],
 "metadata": {
  "kernelspec": {
   "display_name": "Python 3",
   "language": "python",
   "name": "python3"
  },
  "language_info": {
   "codemirror_mode": {
    "name": "ipython",
    "version": 3
   },
   "file_extension": ".py",
   "mimetype": "text/x-python",
   "name": "python",
   "nbconvert_exporter": "python",
   "pygments_lexer": "ipython3",
   "version": "3.4.3"
  }
 },
 "nbformat": 4,
 "nbformat_minor": 0
}
