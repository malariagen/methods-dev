{
 "cells": [
  {
   "cell_type": "markdown",
   "metadata": {},
   "source": [
    "# Plan\n",
    "- dict of boolean array of core genome\n",
    "- for each sample determine % core callable\n",
    "- plot histogram of this\n",
    "- dict of number of samples callable at each position\n",
    "- for each well-covered samples, add to number of callable samples\n",
    "- plot this genome-wide"
   ]
  },
  {
   "cell_type": "code",
   "execution_count": 27,
   "metadata": {
    "collapsed": false
   },
   "outputs": [
    {
     "name": "stdout",
     "output_type": "stream",
     "text": [
      "python 3.4.3 |Anaconda 2.2.0 (64-bit)| (default, Mar  6 2015, 12:03:53) \n",
      "[GCC 4.4.7 20120313 (Red Hat 4.4.7-1)]\n",
      "numpy 1.9.2\n",
      "scipy 0.15.1\n",
      "pandas 0.15.2\n",
      "numexpr 2.3.1\n",
      "pysam 0.8.3\n",
      "pysamstats 0.23\n",
      "petl 1.0.11\n",
      "petlx 1.0.3\n",
      "vcf 0.6.7\n",
      "vcfnp 2.3.0.dev0\n",
      "h5py 2.4.0\n",
      "tables 3.1.1\n"
     ]
    }
   ],
   "source": [
    "%run _standard_imports.ipynb\n",
    "%run _shared_setup.ipynb"
   ]
  },
  {
   "cell_type": "code",
   "execution_count": 32,
   "metadata": {
    "collapsed": true
   },
   "outputs": [],
   "source": [
    "# see 20160525_CallableLoci_bed_release_5.ipynb\n",
    "callable_loci_bed_fn_format = \"/lustre/scratch109/malaria/rp7/data/pf3k/pilot_5_0/20160525_CallableLoci_bed_release_5/results/callable_loci_%s.bed\"\n",
    "\n",
    "# core_regions_fn = '/nfs/team112_internal/rp7/src/github/malariagen/pf-crosses/meta/regions-20130225.bed.gz'"
   ]
  },
  {
   "cell_type": "code",
   "execution_count": 24,
   "metadata": {
    "collapsed": false,
    "scrolled": true
   },
   "outputs": [
    {
     "data": {
      "text/html": [
       "<table class='petl'>\n",
       "<thead>\n",
       "<tr>\n",
       "<th>chrom</th>\n",
       "<th>start</th>\n",
       "<th>end</th>\n",
       "<th>region</th>\n",
       "</tr>\n",
       "</thead>\n",
       "<tbody>\n",
       "<tr>\n",
       "<td>Pf3D7_01_v3</td>\n",
       "<td>0</td>\n",
       "<td>27336</td>\n",
       "<td>SubtelomericRepeat</td>\n",
       "</tr>\n",
       "<tr>\n",
       "<td>Pf3D7_01_v3</td>\n",
       "<td>27336</td>\n",
       "<td>92900</td>\n",
       "<td>SubtelomericHypervariable</td>\n",
       "</tr>\n",
       "<tr>\n",
       "<td>Pf3D7_01_v3</td>\n",
       "<td>92900</td>\n",
       "<td>457931</td>\n",
       "<td>Core</td>\n",
       "</tr>\n",
       "<tr>\n",
       "<td>Pf3D7_01_v3</td>\n",
       "<td>457931</td>\n",
       "<td>460311</td>\n",
       "<td>Centromere</td>\n",
       "</tr>\n",
       "<tr>\n",
       "<td>Pf3D7_01_v3</td>\n",
       "<td>460311</td>\n",
       "<td>575900</td>\n",
       "<td>Core</td>\n",
       "</tr>\n",
       "</tbody>\n",
       "</table>\n",
       "<p><strong>...</strong></p>"
      ],
      "text/plain": [
       "+---------------+----------+----------+-----------------------------+\n",
       "| chrom         | start    | end      | region                      |\n",
       "+===============+==========+==========+=============================+\n",
       "| 'Pf3D7_01_v3' | '0'      | '27336'  | 'SubtelomericRepeat'        |\n",
       "+---------------+----------+----------+-----------------------------+\n",
       "| 'Pf3D7_01_v3' | '27336'  | '92900'  | 'SubtelomericHypervariable' |\n",
       "+---------------+----------+----------+-----------------------------+\n",
       "| 'Pf3D7_01_v3' | '92900'  | '457931' | 'Core'                      |\n",
       "+---------------+----------+----------+-----------------------------+\n",
       "| 'Pf3D7_01_v3' | '457931' | '460311' | 'Centromere'                |\n",
       "+---------------+----------+----------+-----------------------------+\n",
       "| 'Pf3D7_01_v3' | '460311' | '575900' | 'Core'                      |\n",
       "+---------------+----------+----------+-----------------------------+\n",
       "..."
      ]
     },
     "execution_count": 24,
     "metadata": {},
     "output_type": "execute_result"
    }
   ],
   "source": [
    "etl.fromtsv(REGIONS_FN).pushheader('chrom', 'start', 'end', 'region')"
   ]
  },
  {
   "cell_type": "code",
   "execution_count": 25,
   "metadata": {
    "collapsed": false
   },
   "outputs": [],
   "source": [
    "core_genome_dict = collections.OrderedDict()\n",
    "for chrom in ['Pf3D7_%02d_v3' % i for i in range(1, 15)]:\n",
    "    this_chrom_regions = (etl\n",
    "                          .fromtabix(core_regions_fn, chrom)\n",
    "                          .pushheader('chrom', 'start', 'end', 'region')\n",
    "                          .convertnumbers()\n",
    "                          )\n",
    "    chrom_length = np.max(this_chrom_regions.convert('end', int).values('end').array())\n",
    "    core_genome_dict[chrom] = np.zeros(chrom_length, dtype=bool)\n",
    "    for rec in this_chrom_regions:\n",
    "        if rec[3] == 'Core':\n",
    "            core_genome_dict[chrom][rec[1]:rec[2]] = True"
   ]
  },
  {
   "cell_type": "code",
   "execution_count": 35,
   "metadata": {
    "collapsed": false
   },
   "outputs": [
    {
     "name": "stdout",
     "output_type": "stream",
     "text": [
      "Pf3D7_01_v3 640851 480620\n",
      "Pf3D7_02_v3 947102 753550\n",
      "Pf3D7_03_v3 1067971 929971\n",
      "Pf3D7_04_v3 1200490 932894\n",
      "Pf3D7_05_v3 1343577 1281978\n",
      "Pf3D7_06_v3 1418242 1200478\n",
      "Pf3D7_07_v3 1445207 1204739\n",
      "Pf3D7_08_v3 1472805 1249936\n",
      "Pf3D7_09_v3 1541735 1392114\n",
      "Pf3D7_10_v3 1687656 1502845\n",
      "Pf3D7_11_v3 2038340 1891043\n",
      "Pf3D7_12_v3 2271494 2030380\n",
      "Pf3D7_13_v3 2925236 2715189\n",
      "Pf3D7_14_v3 3291936 3216370\n",
      "20782107\n"
     ]
    }
   ],
   "source": [
    "core_genome_length = 0\n",
    "for chrom in core_genome_dict:\n",
    "    print(chrom, len(core_genome_dict[chrom]), np.sum(core_genome_dict[chrom]))\n",
    "    core_genome_length = core_genome_length + np.sum(core_genome_dict[chrom])\n",
    "print(core_genome_length)"
   ]
  },
  {
   "cell_type": "code",
   "execution_count": 29,
   "metadata": {
    "collapsed": false
   },
   "outputs": [],
   "source": [
    "tbl_sample_metadata = etl.fromtsv(SAMPLE_METADATA_FN)"
   ]
  },
  {
   "cell_type": "code",
   "execution_count": 30,
   "metadata": {
    "collapsed": true
   },
   "outputs": [],
   "source": [
    "tbl_field_samples = tbl_sample_metadata.select(lambda rec: not rec['study'] in ['1041', '1042', '1043', '1104', ''])"
   ]
  },
  {
   "cell_type": "code",
   "execution_count": 31,
   "metadata": {
    "collapsed": false
   },
   "outputs": [
    {
     "data": {
      "text/plain": [
       "2512"
      ]
     },
     "execution_count": 31,
     "metadata": {},
     "output_type": "execute_result"
    }
   ],
   "source": [
    "len(tbl_field_samples.data())"
   ]
  },
  {
   "cell_type": "code",
   "execution_count": null,
   "metadata": {
    "collapsed": false
   },
   "outputs": [
    {
     "name": "stdout",
     "output_type": "stream",
     "text": [
      "......................"
     ]
    }
   ],
   "source": [
    "bases_callable = collections.OrderedDict()\n",
    "core_bases_callable = collections.OrderedDict()\n",
    "autosomes = ['Pf3D7_%02d_v3' % i for i in range(1, 15)]\n",
    "for i, ox_code in tbl_field_samples.values('sample'):\n",
    "    this_sample_callable_loci = collections.OrderedDict()\n",
    "    callable_loci_bed_fn = callable_loci_bed_fn_format % ox_code\n",
    "    for chrom in core_genome_dict.keys():\n",
    "        chrom_length = len(core_genome_dict[chrom])\n",
    "        this_sample_callable_loci[chrom] = np.zeros(chrom_length, dtype=bool)\n",
    "    tbl_this_sample_callable_loci = (etl\n",
    "                                     .fromtsv(callable_loci_bed_fn)\n",
    "                                     .pushheader('chrom', 'start', 'end', 'region')\n",
    "                                     .selecteq('region', 'CALLABLE')\n",
    "                                     .selectin('chrom', autosomes)\n",
    "                                     .convertnumbers()\n",
    "                                    )\n",
    "    for rec in tbl_this_sample_callable_loci.data():\n",
    "        this_sample_callable_loci[rec[0]][rec[1]:rec[2]] = True\n",
    "    bases_callable[ox_code] = 0\n",
    "    core_bases_callable[ox_code] = 0\n",
    "    for chrom in core_genome_dict.keys():\n",
    "        bases_callable[ox_code] = bases_callable[ox_code] + np.sum(this_sample_callable_loci[chrom])\n",
    "        core_bases_callable[ox_code] = core_bases_callable[ox_code] + np.sum((this_sample_callable_loci[chrom] & core_genome_dict[chrom]))\n",
    "#     print(ox_code, bases_callable, core_bases_callable)\n",
    "    print('%d' % i%%10, end='', flush=True)\n",
    "    \n",
    "        "
   ]
  },
  {
   "cell_type": "code",
   "execution_count": 36,
   "metadata": {
    "collapsed": false
   },
   "outputs": [
    {
     "data": {
      "text/plain": [
       "0.9766541477242899"
      ]
     },
     "execution_count": 36,
     "metadata": {},
     "output_type": "execute_result"
    }
   ],
   "source": [
    "20296931 / 20782107 "
   ]
  },
  {
   "cell_type": "code",
   "execution_count": 37,
   "metadata": {
    "collapsed": false
   },
   "outputs": [
    {
     "data": {
      "text/plain": [
       "19743001.65"
      ]
     },
     "execution_count": 37,
     "metadata": {},
     "output_type": "execute_result"
    }
   ],
   "source": [
    "20782107 * 0.95"
   ]
  },
  {
   "cell_type": "code",
   "execution_count": null,
   "metadata": {
    "collapsed": true
   },
   "outputs": [],
   "source": []
  }
 ],
 "metadata": {
  "kernelspec": {
   "display_name": "Python 3",
   "language": "python",
   "name": "python3"
  },
  "language_info": {
   "codemirror_mode": {
    "name": "ipython",
    "version": 3
   },
   "file_extension": ".py",
   "mimetype": "text/x-python",
   "name": "python",
   "nbconvert_exporter": "python",
   "pygments_lexer": "ipython3",
   "version": "3.4.3"
  }
 },
 "nbformat": 4,
 "nbformat_minor": 0
}
