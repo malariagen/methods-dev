{
 "cells": [
  {
   "cell_type": "code",
   "execution_count": 3,
   "metadata": {
    "collapsed": false
   },
   "outputs": [
    {
     "ename": "ValueError",
     "evalue": "pysam.cfaidx.FastaFile has the wrong size, try recompiling",
     "output_type": "error",
     "traceback": [
      "\u001b[0;31m---------------------------------------------------------------------------\u001b[0m",
      "\u001b[0;31mValueError\u001b[0m                                Traceback (most recent call last)",
      "\u001b[0;32m<ipython-input-3-83da7d0732a3>\u001b[0m in \u001b[0;36m<module>\u001b[0;34m()\u001b[0m\n\u001b[1;32m     35\u001b[0m \u001b[0;32mimport\u001b[0m \u001b[0mpetl\u001b[0m \u001b[0;32mas\u001b[0m \u001b[0metl\u001b[0m\u001b[0;34m\u001b[0m\u001b[0m\n\u001b[1;32m     36\u001b[0m \u001b[0metl\u001b[0m\u001b[0;34m.\u001b[0m\u001b[0mrepr_index_header\u001b[0m \u001b[0;34m=\u001b[0m \u001b[0;32mTrue\u001b[0m\u001b[0;34m\u001b[0m\u001b[0m\n\u001b[0;32m---> 37\u001b[0;31m \u001b[0;32mimport\u001b[0m \u001b[0mpysamstats\u001b[0m\u001b[0;34m\u001b[0m\u001b[0m\n\u001b[0m\u001b[1;32m     38\u001b[0m \u001b[0;32mimport\u001b[0m \u001b[0mpetl\u001b[0m\u001b[0;34m.\u001b[0m\u001b[0mio\u001b[0m\u001b[0;34m\u001b[0m\u001b[0m\n\u001b[1;32m     39\u001b[0m \u001b[0;32mimport\u001b[0m \u001b[0mpetlx\u001b[0m\u001b[0;34m\u001b[0m\u001b[0m\n",
      "\u001b[0;32mcfaidx.pxd\u001b[0m in \u001b[0;36minit pysamstats (pysamstats.c:48716)\u001b[0;34m()\u001b[0m\n",
      "\u001b[0;31mValueError\u001b[0m: pysam.cfaidx.FastaFile has the wrong size, try recompiling"
     ]
    }
   ],
   "source": [
    "# add following as first line of notebook to use\n",
    "# %run _standard_imports.ipynb\n",
    "\n",
    "# standard libraries\n",
    "from __future__ import division, print_function\n",
    "import sys\n",
    "import os\n",
    "import operator\n",
    "import itertools\n",
    "import collections\n",
    "import functools\n",
    "import glob\n",
    "import csv\n",
    "import datetime\n",
    "import bisect\n",
    "import sqlite3\n",
    "import subprocess\n",
    "import traceback\n",
    "import random\n",
    "import gc\n",
    "\n",
    "# third party libraries\n",
    "# N.B., don't import matplotlib because notebooks and scripts may want to import it in different ways (e.g., if using different backends)\n",
    "import numpy as np\n",
    "import scipy\n",
    "import scipy.stats as stats\n",
    "import pandas\n",
    "import numexpr\n",
    "import sklearn\n",
    "import sklearn.decomposition\n",
    "import sklearn.manifold\n",
    "import pyfasta\n",
    "import pysam\n",
    "import petl\n",
    "import petl as etl\n",
    "etl.repr_index_header = True\n",
    "import pysamstats\n",
    "import petl.io\n",
    "import petlx\n",
    "import vcf\n",
    "import vcfnp\n",
    "import h5py\n",
    "import tables\n",
    "import sh\n",
    "import Bio\n",
    "from Bio import SeqIO\n",
    "\n",
    "import stat\n",
    "from sh import ssh\n",
    "bsub = sh.Command('bsub')"
   ]
  },
  {
   "cell_type": "code",
   "execution_count": 2,
   "metadata": {
    "collapsed": false
   },
   "outputs": [],
   "source": [
    "def print_library_versions():\n",
    "    print('python', sys.version)\n",
    "    print('numpy', np.__version__)\n",
    "    print('scipy', scipy.__version__)\n",
    "    print('pandas', pandas.__version__)\n",
    "    print('numexpr', numexpr.__version__)\n",
    "    print('pysam', pysam.__version__)\n",
    "    print('pysamstats', pysamstats.__version__)\n",
    "    print('petl', petl.__version__)\n",
    "    etl.repr_index_header = True\n",
    "    print('petlx', petlx.__version__)\n",
    "    print('vcf', vcf.VERSION)\n",
    "    print('vcfnp', vcfnp.__version__)\n",
    "    print('h5py', h5py.__version__)\n",
    "    print('tables', tables.__version__)\n"
   ]
  },
  {
   "cell_type": "code",
   "execution_count": 3,
   "metadata": {
    "collapsed": false
   },
   "outputs": [
    {
     "name": "stdout",
     "output_type": "stream",
     "text": [
      "python 3.5.0+ (default, Oct 11 2015, 09:05:38) \n",
      "[GCC 5.2.1 20151010]\n",
      "numpy 1.10.1\n",
      "scipy 0.16.1\n",
      "pandas 0.17.1\n",
      "numexpr 2.4.6\n",
      "pysam 0.8.4\n",
      "pysamstats 0.24.1\n",
      "petl 1.1.0\n",
      "petlx 1.0.3\n",
      "vcf 0.6.7\n",
      "vcfnp 2.2.0\n",
      "h5py 2.5.0\n",
      "tables 3.2.2\n"
     ]
    }
   ],
   "source": [
    "print_library_versions()"
   ]
  },
  {
   "cell_type": "code",
   "execution_count": null,
   "metadata": {
    "collapsed": false
   },
   "outputs": [],
   "source": []
  }
 ],
 "metadata": {
  "anaconda-cloud": {},
  "kernelspec": {
   "display_name": "Python [default]",
   "language": "python",
   "name": "python3"
  }
 },
 "nbformat": 4,
 "nbformat_minor": 0
}
