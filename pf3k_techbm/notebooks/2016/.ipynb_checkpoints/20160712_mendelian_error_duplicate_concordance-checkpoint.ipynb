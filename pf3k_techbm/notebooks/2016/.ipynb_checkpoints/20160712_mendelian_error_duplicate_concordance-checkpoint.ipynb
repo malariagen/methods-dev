{
 "cells": [
  {
   "cell_type": "markdown",
   "metadata": {},
   "source": [
    "#Plan\n",
    "- Create function to create biallelic, 5/2 rule, new AF, segregating, minimal, renormalised VCF\n",
    "- Split the above into SNPs and INDELs\n",
    "- Test function on small subset of chr14\n",
    "- Run function on chrom 14\n",
    "- New function to also create npy file\n",
    "- Read in chr14 npy file, and calculate Mendelian error and genotype concordance\n",
    "- Attempt to reannotate above with STR and SNPEFF annotations\n",
    "- Rerun scripts to get breakdown by SNP/STR/nonSTR coding/noncoding"
   ]
  },
  {
   "cell_type": "markdown",
   "metadata": {},
   "source": [
    "See 20160203_release5_npy_hdf5.ipynb for creation of VCF specific to crosses"
   ]
  },
  {
   "cell_type": "code",
   "execution_count": 1,
   "metadata": {
    "collapsed": false
   },
   "outputs": [
    {
     "name": "stdout",
     "output_type": "stream",
     "text": [
      "python 3.4.3 |Anaconda 2.2.0 (64-bit)| (default, Mar  6 2015, 12:03:53) \n",
      "[GCC 4.4.7 20120313 (Red Hat 4.4.7-1)]\n",
      "numpy 1.9.2\n",
      "scipy 0.15.1\n",
      "pandas 0.15.2\n",
      "numexpr 2.3.1\n",
      "pysam 0.8.3\n",
      "pysamstats 0.23\n",
      "petl 1.0.11\n",
      "petlx 1.0.3\n",
      "vcf 0.6.7\n",
      "vcfnp 2.3.0.dev0\n",
      "h5py 2.4.0\n",
      "tables 3.1.1\n"
     ]
    }
   ],
   "source": [
    "%run _standard_imports.ipynb\n",
    "%run _shared_setup.ipynb\n"
   ]
  },
  {
   "cell_type": "code",
   "execution_count": 33,
   "metadata": {
    "collapsed": true
   },
   "outputs": [],
   "source": [
    "release5_final_files_dir = '/nfs/team112_internal/production/release_build/Pf3K/pilot_5_0'\n",
    "# chrom_vcf_fn = \"%s/SNP_INDEL_Pf3D7_14_v3.combined.filtered.vcf.gz\" % (release5_final_files_dir)\n",
    "chrom_vcf_fn = \"%s/SNP_INDEL_WG.combined.filtered.crosses.vcf.gz\" % (release5_final_files_dir)\n",
    "\n",
    "output_dir = \"/lustre/scratch109/malaria/rp7/data/pf3k/pilot_5_0/20160607_mendelian_error_duplicate_concordance\"\n",
    "!mkdir -p {output_dir}/vcf\n",
    "chrom_analysis_vcf_fn = \"%s/vcf/SNP_INDEL_Pf3D7_14_v3.analysis.vcf.gz\" % output_dir\n",
    "\n",
    "release5_crosses_metadata_txt_fn = '../../meta/pf3k_release_5_crosses_metadata.txt'\n",
    "\n",
    "BCFTOOLS = '/nfs/team112_internal/rp7/src/github/malariagen/methods-dev/pf3k_techbm/opt_4/bcftools/bcftools'"
   ]
  },
  {
   "cell_type": "code",
   "execution_count": 7,
   "metadata": {
    "collapsed": false
   },
   "outputs": [],
   "source": [
    "vfp_tool_configs = collections.OrderedDict()\n",
    "vfp_tool_configs['5_2'] = '/nfs/team112/software/htslib/vfp/just_call.config'\n",
    "vfp_tool_configs['6_3'] = '%s/call_3het.config' % output_dir\n"
   ]
  },
  {
   "cell_type": "code",
   "execution_count": 11,
   "metadata": {
    "collapsed": false
   },
   "outputs": [
    {
     "name": "stdout",
     "output_type": "stream",
     "text": [
      "Overwriting /lustre/scratch109/malaria/rp7/data/pf3k/pilot_5_0/20160607_mendelian_error_duplicate_concordance/call_3het.config\n"
     ]
    }
   ],
   "source": [
    "%%writefile {vfp_tool_configs['6_3']}\n",
    "testing=0\n",
    "filters=gtcall\n",
    "input_is_vcf=1\n",
    "output_is_vcf=1\n",
    "callMinCov=6\n",
    "callMinAlleleCov=3\n",
    "\n"
   ]
  },
  {
   "cell_type": "code",
   "execution_count": 12,
   "metadata": {
    "collapsed": false
   },
   "outputs": [
    {
     "data": {
      "text/plain": [
       "'/nfs/team112_internal/production/release_build/Pf3K/pilot_5_0/SNP_INDEL_WG.combined.filtered.crosses.vcf.gz'"
      ]
     },
     "execution_count": 12,
     "metadata": {},
     "output_type": "execute_result"
    }
   ],
   "source": [
    "chrom_vcf_fn"
   ]
  },
  {
   "cell_type": "code",
   "execution_count": 13,
   "metadata": {
    "collapsed": false
   },
   "outputs": [
    {
     "name": "stdout",
     "output_type": "stream",
     "text": [
      "98\n"
     ]
    },
    {
     "data": {
      "text/html": [
       "<table class='petl'>\n",
       "<thead>\n",
       "<tr>\n",
       "<th>sample</th>\n",
       "<th>acc</th>\n",
       "<th>study</th>\n",
       "<th>study_title</th>\n",
       "<th>clone</th>\n",
       "<th>parent_or_progeny</th>\n",
       "</tr>\n",
       "</thead>\n",
       "<tbody>\n",
       "<tr>\n",
       "<td>PG0008-CW</td>\n",
       "<td>ERS010540</td>\n",
       "<td>1041</td>\n",
       "<td>HB3xDD2 cross progeny</td>\n",
       "<td>DD2</td>\n",
       "<td>parent</td>\n",
       "</tr>\n",
       "<tr>\n",
       "<td>PG0004-CW</td>\n",
       "<td>ERS010539</td>\n",
       "<td>1041</td>\n",
       "<td>HB3xDD2 cross progeny</td>\n",
       "<td>HB3</td>\n",
       "<td>parent</td>\n",
       "</tr>\n",
       "<tr>\n",
       "<td>PG0023-C</td>\n",
       "<td>ERS010581,ERS010543</td>\n",
       "<td>1041</td>\n",
       "<td>HB3xDD2 cross progeny</td>\n",
       "<td>1BB5</td>\n",
       "<td>progeny</td>\n",
       "</tr>\n",
       "<tr>\n",
       "<td>PG0022-Cx</td>\n",
       "<td>ERS088714</td>\n",
       "<td>1041</td>\n",
       "<td>HB3xDD2 cross progeny</td>\n",
       "<td>3BA6</td>\n",
       "<td>progeny</td>\n",
       "</tr>\n",
       "<tr>\n",
       "<td>PG0024-C</td>\n",
       "<td>ERS010150</td>\n",
       "<td>1041</td>\n",
       "<td>HB3xDD2 cross progeny</td>\n",
       "<td>3BD5</td>\n",
       "<td>progeny</td>\n",
       "</tr>\n",
       "</tbody>\n",
       "</table>\n",
       "<p><strong>...</strong></p>"
      ],
      "text/plain": [
       "+-------------+-----------------------+--------+-------------------------+--------+-------------------+\n",
       "| sample      | acc                   | study  | study_title             | clone  | parent_or_progeny |\n",
       "+=============+=======================+========+=========================+========+===================+\n",
       "| 'PG0008-CW' | 'ERS010540'           | '1041' | 'HB3xDD2 cross progeny' | 'DD2'  | 'parent'          |\n",
       "+-------------+-----------------------+--------+-------------------------+--------+-------------------+\n",
       "| 'PG0004-CW' | 'ERS010539'           | '1041' | 'HB3xDD2 cross progeny' | 'HB3'  | 'parent'          |\n",
       "+-------------+-----------------------+--------+-------------------------+--------+-------------------+\n",
       "| 'PG0023-C'  | 'ERS010581,ERS010543' | '1041' | 'HB3xDD2 cross progeny' | '1BB5' | 'progeny'         |\n",
       "+-------------+-----------------------+--------+-------------------------+--------+-------------------+\n",
       "| 'PG0022-Cx' | 'ERS088714'           | '1041' | 'HB3xDD2 cross progeny' | '3BA6' | 'progeny'         |\n",
       "+-------------+-----------------------+--------+-------------------------+--------+-------------------+\n",
       "| 'PG0024-C'  | 'ERS010150'           | '1041' | 'HB3xDD2 cross progeny' | '3BD5' | 'progeny'         |\n",
       "+-------------+-----------------------+--------+-------------------------+--------+-------------------+\n",
       "..."
      ]
     },
     "execution_count": 13,
     "metadata": {},
     "output_type": "execute_result"
    }
   ],
   "source": [
    "tbl_release5_crosses_metadata = etl.fromtsv(release5_crosses_metadata_txt_fn)\n",
    "print(len(tbl_release5_crosses_metadata.data()))\n",
    "tbl_release5_crosses_metadata"
   ]
  },
  {
   "cell_type": "code",
   "execution_count": 14,
   "metadata": {
    "collapsed": false
   },
   "outputs": [],
   "source": [
    "all_samples = ','.join(tbl_release5_crosses_metadata.values('sample'))"
   ]
  },
  {
   "cell_type": "code",
   "execution_count": 15,
   "metadata": {
    "collapsed": false
   },
   "outputs": [
    {
     "data": {
      "text/plain": [
       "'PG0008-CW,PG0004-CW,PG0023-C,PG0022-Cx,PG0024-C,PG0074-C,PG0038-C,PG0035-Cx,PG0047-C,PG0039-C,PG0040-Cx,PG0036-C,PG0041-C,PG0042-C,PG0030-C,PG0037-C,PG0034-C,PG0031-C,PG0043-C,PG0044-C,PG0046-Cx,PG0048-C,PG0015-C,PG0018-C,PG0032-Cx,PG0033-Cx,PG0029-Cx,PG0021-C,PG0028-C,PG0017-C,PG0016-C,PG0045-C,PG0026-C,PG0025-C,PG0019-C,PG0027-C,PG0020-C,PG0051-C,PG0052-C,PG0062-C,PG0065-C,PG0053-C,PG0055-C,PG0056-C,PG0067-C,PG0066-C,PG0061-C,PG0068-C,PG0069-C,PG0070-C,PG0071-C,PG0072-C,PG0063-C,PG0064-C,PG0058-C,PG0054-C,PG0060-C,PG0057-C,7G8,GB4,PG0103-CW,PG0112-C,PG0112-CW,PG0094-CW,PG0098-C,PG0081-CW,PG0099-C,PG0087-C,PG0077-CW,PG0111-C,PG0111-CW,PG0100-C,PG0100-CW,PG0079-C,PG0079-CW,PG0107-C,PG0091-C,PG0104-C,PG0104-CW,PG0088-C,PG0086-C,PG0086-CW,PG0096-C,PG0095-C,PG0095-CW,PG0078-C,PG0078-CW,PG0080-C,PG0082-C,PG0085-C,PG0097-C,PG0093-C,PG0105-C,PG0105-CW,PG0106-C,PG0102-C,PG0102-CW,PG0109-C'"
      ]
     },
     "execution_count": 15,
     "metadata": {},
     "output_type": "execute_result"
    }
   ],
   "source": [
    "all_samples"
   ]
  },
  {
   "cell_type": "code",
   "execution_count": 16,
   "metadata": {
    "collapsed": false
   },
   "outputs": [
    {
     "data": {
      "text/plain": [
       "['PG0112-C',\n",
       " 'PG0062-C',\n",
       " 'PG0053-C',\n",
       " 'PG0056-C',\n",
       " 'PG0004-CW',\n",
       " 'PG0111-C',\n",
       " 'PG0100-C',\n",
       " 'PG0079-C',\n",
       " 'PG0104-C',\n",
       " 'PG0086-C',\n",
       " 'PG0095-C',\n",
       " 'PG0078-C',\n",
       " 'PG0105-C',\n",
       " 'PG0102-C']"
      ]
     },
     "execution_count": 16,
     "metadata": {},
     "output_type": "execute_result"
    }
   ],
   "source": [
    "tbl_release5_crosses_metadata.duplicates('clone').addrownumbers().select(lambda rec: rec['row']%2 == 1).values('sample').list()"
   ]
  },
  {
   "cell_type": "code",
   "execution_count": 17,
   "metadata": {
    "collapsed": false
   },
   "outputs": [
    {
     "data": {
      "text/plain": [
       "['PG0112-CW',\n",
       " 'PG0065-C',\n",
       " 'PG0055-C',\n",
       " 'PG0067-C',\n",
       " 'PG0052-C',\n",
       " 'PG0111-CW',\n",
       " 'PG0100-CW',\n",
       " 'PG0079-CW',\n",
       " 'PG0104-CW',\n",
       " 'PG0086-CW',\n",
       " 'PG0095-CW',\n",
       " 'PG0078-CW',\n",
       " 'PG0105-CW',\n",
       " 'PG0102-CW']"
      ]
     },
     "execution_count": 17,
     "metadata": {},
     "output_type": "execute_result"
    }
   ],
   "source": [
    "tbl_release5_crosses_metadata.duplicates('clone').addrownumbers().select(lambda rec: rec['row']%2 == 0).values('sample').list()"
   ]
  },
  {
   "cell_type": "code",
   "execution_count": 18,
   "metadata": {
    "collapsed": true
   },
   "outputs": [],
   "source": [
    "replicates_first = [\n",
    " 'PG0112-C',\n",
    " 'PG0062-C',\n",
    " 'PG0053-C',\n",
    " 'PG0053-C',\n",
    " 'PG0053-C',\n",
    " 'PG0055-C',\n",
    " 'PG0055-C',\n",
    " 'PG0056-C',\n",
    " 'PG0004-CW',\n",
    " 'PG0111-C',\n",
    " 'PG0100-C',\n",
    " 'PG0079-C',\n",
    " 'PG0104-C',\n",
    " 'PG0086-C',\n",
    " 'PG0095-C',\n",
    " 'PG0078-C',\n",
    " 'PG0105-C',\n",
    " 'PG0102-C']\n",
    "\n",
    "replicates_second = [\n",
    " 'PG0112-CW',\n",
    " 'PG0065-C',\n",
    " 'PG0055-C',\n",
    " 'PG0056-C',\n",
    " 'PG0067-C',\n",
    " 'PG0056-C',\n",
    " 'PG0067-C',\n",
    " 'PG0067-C',\n",
    " 'PG0052-C',\n",
    " 'PG0111-CW',\n",
    " 'PG0100-CW',\n",
    " 'PG0079-CW',\n",
    " 'PG0104-CW',\n",
    " 'PG0086-CW',\n",
    " 'PG0095-CW',\n",
    " 'PG0078-CW',\n",
    " 'PG0105-CW',\n",
    " 'PG0102-CW']"
   ]
  },
  {
   "cell_type": "code",
   "execution_count": 19,
   "metadata": {
    "collapsed": true
   },
   "outputs": [],
   "source": [
    "quads_first = [\n",
    " 'PG0053-C',\n",
    " 'PG0053-C',\n",
    " 'PG0053-C',\n",
    " 'PG0055-C',\n",
    " 'PG0055-C',\n",
    " 'PG0056-C']\n",
    "\n",
    "quads_second = [\n",
    " 'PG0055-C',\n",
    " 'PG0056-C',\n",
    " 'PG0067-C',\n",
    " 'PG0056-C',\n",
    " 'PG0067-C',\n",
    " 'PG0067-C']"
   ]
  },
  {
   "cell_type": "code",
   "execution_count": 20,
   "metadata": {
    "collapsed": false
   },
   "outputs": [
    {
     "data": {
      "text/plain": [
       "array([ True,  True,  True,  True,  True,  True,  True,  True,  True,\n",
       "        True,  True,  True,  True,  True,  True,  True,  True,  True], dtype=bool)"
      ]
     },
     "execution_count": 20,
     "metadata": {},
     "output_type": "execute_result"
    }
   ],
   "source": [
    "np.in1d(replicates_first, tbl_release5_crosses_metadata.values('sample').array())"
   ]
  },
  {
   "cell_type": "code",
   "execution_count": 21,
   "metadata": {
    "collapsed": false
   },
   "outputs": [
    {
     "name": "stdout",
     "output_type": "stream",
     "text": [
      "15\n",
      "15\n"
     ]
    }
   ],
   "source": [
    "rep_index_first = np.in1d(tbl_release5_crosses_metadata.values('sample').array(), replicates_first)\n",
    "rep_index_second = np.in1d(tbl_release5_crosses_metadata.values('sample').array(), replicates_second)\n",
    "print(np.sum(rep_index_first))\n",
    "print(np.sum(rep_index_second))\n"
   ]
  },
  {
   "cell_type": "code",
   "execution_count": 22,
   "metadata": {
    "collapsed": false
   },
   "outputs": [
    {
     "name": "stdout",
     "output_type": "stream",
     "text": [
      "18\n",
      "[61 39 41 41 41 42 42 43  1 69 71 73 77 80 83 85 92 95]\n",
      "18\n",
      "[62 40 42 43 44 43 44 44 38 70 72 74 78 81 84 86 93 96]\n"
     ]
    }
   ],
   "source": [
    "sample_ids = tbl_release5_crosses_metadata.values('sample').array()\n",
    "\n",
    "rep_index_first = np.argsort(sample_ids)[np.searchsorted(sample_ids[np.argsort(sample_ids)], replicates_first)]\n",
    "rep_index_second = np.argsort(sample_ids)[np.searchsorted(sample_ids[np.argsort(sample_ids)], replicates_second)]\n",
    "print(len(rep_index_first))\n",
    "print(rep_index_first)\n",
    "print(len(rep_index_second))\n",
    "print(rep_index_second)\n"
   ]
  },
  {
   "cell_type": "code",
   "execution_count": 23,
   "metadata": {
    "collapsed": false
   },
   "outputs": [
    {
     "name": "stdout",
     "output_type": "stream",
     "text": [
      "6\n",
      "[41 41 41 42 42 43]\n",
      "6\n",
      "[42 43 44 43 44 44]\n"
     ]
    }
   ],
   "source": [
    "sample_ids = tbl_release5_crosses_metadata.values('sample').array()\n",
    "\n",
    "quad_index_first = np.argsort(sample_ids)[np.searchsorted(sample_ids[np.argsort(sample_ids)], quads_first)]\n",
    "quad_index_second = np.argsort(sample_ids)[np.searchsorted(sample_ids[np.argsort(sample_ids)], quads_second)]\n",
    "print(len(quad_index_first))\n",
    "print(quad_index_first)\n",
    "print(len(quad_index_second))\n",
    "print(quad_index_second)\n"
   ]
  },
  {
   "cell_type": "code",
   "execution_count": 24,
   "metadata": {
    "collapsed": false
   },
   "outputs": [
    {
     "data": {
      "text/html": [
       "<table class='petl'>\n",
       "<thead>\n",
       "<tr>\n",
       "<th>sample</th>\n",
       "<th>acc</th>\n",
       "<th>study</th>\n",
       "<th>study_title</th>\n",
       "<th>clone</th>\n",
       "<th>parent_or_progeny</th>\n",
       "</tr>\n",
       "</thead>\n",
       "<tbody>\n",
       "<tr>\n",
       "<td>PG0112-C</td>\n",
       "<td>ERS016797</td>\n",
       "<td>1043</td>\n",
       "<td>7G8xGB4 cross progeny</td>\n",
       "<td>AUD</td>\n",
       "<td>progeny</td>\n",
       "</tr>\n",
       "<tr>\n",
       "<td>PG0112-CW</td>\n",
       "<td>ERS035294</td>\n",
       "<td>1043</td>\n",
       "<td>7G8xGB4 cross progeny</td>\n",
       "<td>AUD</td>\n",
       "<td>progeny</td>\n",
       "</tr>\n",
       "<tr>\n",
       "<td>PG0062-C</td>\n",
       "<td>ERS010015</td>\n",
       "<td>1042</td>\n",
       "<td>3D7xHB3 cross progeny</td>\n",
       "<td>C01</td>\n",
       "<td>progeny</td>\n",
       "</tr>\n",
       "<tr>\n",
       "<td>PG0065-C</td>\n",
       "<td>ERS010009</td>\n",
       "<td>1042</td>\n",
       "<td>3D7xHB3 cross progeny</td>\n",
       "<td>C01</td>\n",
       "<td>progeny</td>\n",
       "</tr>\n",
       "<tr>\n",
       "<td>PG0053-C</td>\n",
       "<td>ERS010012</td>\n",
       "<td>1042</td>\n",
       "<td>3D7xHB3 cross progeny</td>\n",
       "<td>C02</td>\n",
       "<td>progeny</td>\n",
       "</tr>\n",
       "<tr>\n",
       "<td>PG0055-C</td>\n",
       "<td>ERS010011</td>\n",
       "<td>1042</td>\n",
       "<td>3D7xHB3 cross progeny</td>\n",
       "<td>C02</td>\n",
       "<td>progeny</td>\n",
       "</tr>\n",
       "<tr>\n",
       "<td>PG0056-C</td>\n",
       "<td>ERS010013</td>\n",
       "<td>1042</td>\n",
       "<td>3D7xHB3 cross progeny</td>\n",
       "<td>C02</td>\n",
       "<td>progeny</td>\n",
       "</tr>\n",
       "<tr>\n",
       "<td>PG0067-C</td>\n",
       "<td>ERS010018</td>\n",
       "<td>1042</td>\n",
       "<td>3D7xHB3 cross progeny</td>\n",
       "<td>C02</td>\n",
       "<td>progeny</td>\n",
       "</tr>\n",
       "<tr>\n",
       "<td>PG0004-CW</td>\n",
       "<td>ERS010539</td>\n",
       "<td>1041</td>\n",
       "<td>HB3xDD2 cross progeny</td>\n",
       "<td>HB3</td>\n",
       "<td>parent</td>\n",
       "</tr>\n",
       "<tr>\n",
       "<td>PG0052-C</td>\n",
       "<td>ERS010000</td>\n",
       "<td>1042</td>\n",
       "<td>3D7xHB3 cross progeny</td>\n",
       "<td>HB3</td>\n",
       "<td>parent</td>\n",
       "</tr>\n",
       "<tr>\n",
       "<td>PG0111-C</td>\n",
       "<td>ERS016796</td>\n",
       "<td>1043</td>\n",
       "<td>7G8xGB4 cross progeny</td>\n",
       "<td>JC9</td>\n",
       "<td>progeny</td>\n",
       "</tr>\n",
       "<tr>\n",
       "<td>PG0111-CW</td>\n",
       "<td>ERS035528</td>\n",
       "<td>1043</td>\n",
       "<td>7G8xGB4 cross progeny</td>\n",
       "<td>JC9</td>\n",
       "<td>progeny</td>\n",
       "</tr>\n",
       "<tr>\n",
       "<td>PG0100-C</td>\n",
       "<td>ERS016785</td>\n",
       "<td>1043</td>\n",
       "<td>7G8xGB4 cross progeny</td>\n",
       "<td>JE11</td>\n",
       "<td>progeny</td>\n",
       "</tr>\n",
       "<tr>\n",
       "<td>PG0100-CW</td>\n",
       "<td>ERS035485</td>\n",
       "<td>1043</td>\n",
       "<td>7G8xGB4 cross progeny</td>\n",
       "<td>JE11</td>\n",
       "<td>progeny</td>\n",
       "</tr>\n",
       "<tr>\n",
       "<td>PG0079-C</td>\n",
       "<td>ERS016326</td>\n",
       "<td>1043</td>\n",
       "<td>7G8xGB4 cross progeny</td>\n",
       "<td>JF6</td>\n",
       "<td>progeny</td>\n",
       "</tr>\n",
       "<tr>\n",
       "<td>PG0079-CW</td>\n",
       "<td>ERS035292</td>\n",
       "<td>1043</td>\n",
       "<td>7G8xGB4 cross progeny</td>\n",
       "<td>JF6</td>\n",
       "<td>progeny</td>\n",
       "</tr>\n",
       "<tr>\n",
       "<td>PG0104-C</td>\n",
       "<td>ERS016789</td>\n",
       "<td>1043</td>\n",
       "<td>7G8xGB4 cross progeny</td>\n",
       "<td>KB8</td>\n",
       "<td>progeny</td>\n",
       "</tr>\n",
       "<tr>\n",
       "<td>PG0104-CW</td>\n",
       "<td>ERS035323</td>\n",
       "<td>1043</td>\n",
       "<td>7G8xGB4 cross progeny</td>\n",
       "<td>KB8</td>\n",
       "<td>progeny</td>\n",
       "</tr>\n",
       "<tr>\n",
       "<td>PG0086-C</td>\n",
       "<td>ERS016321</td>\n",
       "<td>1043</td>\n",
       "<td>7G8xGB4 cross progeny</td>\n",
       "<td>LA10</td>\n",
       "<td>progeny</td>\n",
       "</tr>\n",
       "<tr>\n",
       "<td>PG0086-CW</td>\n",
       "<td>ERS035475</td>\n",
       "<td>1043</td>\n",
       "<td>7G8xGB4 cross progeny</td>\n",
       "<td>LA10</td>\n",
       "<td>progeny</td>\n",
       "</tr>\n",
       "<tr>\n",
       "<td>PG0095-C</td>\n",
       "<td>ERS016694</td>\n",
       "<td>1043</td>\n",
       "<td>7G8xGB4 cross progeny</td>\n",
       "<td>NIC</td>\n",
       "<td>progeny</td>\n",
       "</tr>\n",
       "<tr>\n",
       "<td>PG0095-CW</td>\n",
       "<td>ERS035495</td>\n",
       "<td>1043</td>\n",
       "<td>7G8xGB4 cross progeny</td>\n",
       "<td>NIC</td>\n",
       "<td>progeny</td>\n",
       "</tr>\n",
       "<tr>\n",
       "<td>PG0078-C</td>\n",
       "<td>ERS016325</td>\n",
       "<td>1043</td>\n",
       "<td>7G8xGB4 cross progeny</td>\n",
       "<td>QF5</td>\n",
       "<td>progeny</td>\n",
       "</tr>\n",
       "<tr>\n",
       "<td>PG0078-CW</td>\n",
       "<td>ERS035293</td>\n",
       "<td>1043</td>\n",
       "<td>7G8xGB4 cross progeny</td>\n",
       "<td>QF5</td>\n",
       "<td>progeny</td>\n",
       "</tr>\n",
       "<tr>\n",
       "<td>PG0105-C</td>\n",
       "<td>ERS016790</td>\n",
       "<td>1043</td>\n",
       "<td>7G8xGB4 cross progeny</td>\n",
       "<td>XD8</td>\n",
       "<td>progeny</td>\n",
       "</tr>\n",
       "<tr>\n",
       "<td>PG0105-CW</td>\n",
       "<td>ERS035465</td>\n",
       "<td>1043</td>\n",
       "<td>7G8xGB4 cross progeny</td>\n",
       "<td>XD8</td>\n",
       "<td>progeny</td>\n",
       "</tr>\n",
       "<tr>\n",
       "<td>PG0102-C</td>\n",
       "<td>ERS016787</td>\n",
       "<td>1043</td>\n",
       "<td>7G8xGB4 cross progeny</td>\n",
       "<td>XF12</td>\n",
       "<td>progeny</td>\n",
       "</tr>\n",
       "<tr>\n",
       "<td>PG0102-CW</td>\n",
       "<td>ERS035537</td>\n",
       "<td>1043</td>\n",
       "<td>7G8xGB4 cross progeny</td>\n",
       "<td>XF12</td>\n",
       "<td>progeny</td>\n",
       "</tr>\n",
       "</tbody>\n",
       "</table>\n"
      ]
     },
     "metadata": {},
     "output_type": "display_data"
    }
   ],
   "source": [
    "tbl_release5_crosses_metadata.duplicates('clone').displayall()"
   ]
  },
  {
   "cell_type": "code",
   "execution_count": 25,
   "metadata": {
    "collapsed": false
   },
   "outputs": [
    {
     "data": {
      "text/plain": [
       "array(['3D7xHB3 cross progeny', '7G8xGB4 cross progeny',\n",
       "       'HB3xDD2 cross progeny'], \n",
       "      dtype='<U21')"
      ]
     },
     "execution_count": 25,
     "metadata": {},
     "output_type": "execute_result"
    }
   ],
   "source": [
    "tbl_release5_crosses_metadata.distinct('study_title').values('study_title').array()"
   ]
  },
  {
   "cell_type": "code",
   "execution_count": 26,
   "metadata": {
    "collapsed": false
   },
   "outputs": [
    {
     "data": {
      "text/plain": [
       "array(['PG0051-C', 'PG0052-C'], \n",
       "      dtype='<U8')"
      ]
     },
     "execution_count": 26,
     "metadata": {},
     "output_type": "execute_result"
    }
   ],
   "source": [
    "(tbl_release5_crosses_metadata\n",
    " .selecteq('study_title', '3D7xHB3 cross progeny')\n",
    " .selecteq('parent_or_progeny', 'parent')\n",
    " .values('sample')\n",
    " .array()\n",
    ")"
   ]
  },
  {
   "cell_type": "code",
   "execution_count": 27,
   "metadata": {
    "collapsed": false
   },
   "outputs": [],
   "source": [
    "def create_variants_npy(vcf_fn):\n",
    "    output_dir = '%s.vcfnp_cache' % vcf_fn\n",
    "    if not os.path.exists(output_dir):\n",
    "        os.makedirs(output_dir)\n",
    "    vcfnp.variants(\n",
    "        vcf_fn,\n",
    "        dtypes={\n",
    "            'REF':                      'a10',\n",
    "            'ALT':                      'a10',\n",
    "            'RegionType':               'a25',\n",
    "            'VariantType':              'a40',\n",
    "            'RU':                       'a40',\n",
    "            'set':                      'a40',\n",
    "            'SNPEFF_AMINO_ACID_CHANGE': 'a20',\n",
    "            'SNPEFF_CODON_CHANGE':      'a20',\n",
    "            'SNPEFF_EFFECT':            'a33',\n",
    "            'SNPEFF_EXON_ID':            'a2',\n",
    "            'SNPEFF_FUNCTIONAL_CLASS':   'a8',\n",
    "            'SNPEFF_GENE_BIOTYPE':      'a14',\n",
    "            'SNPEFF_GENE_NAME':         'a20',\n",
    "            'SNPEFF_IMPACT':             'a8',\n",
    "            'SNPEFF_TRANSCRIPT_ID':     'a20',\n",
    "            'culprit':                  'a14',\n",
    "        },\n",
    "        arities={\n",
    "            'ALT':   1,\n",
    "            'AF':    1,\n",
    "            'AC':    1,\n",
    "            'MLEAF': 1,\n",
    "            'MLEAC': 1,\n",
    "            'RPA':   2,\n",
    "            'ANN':   1,\n",
    "        },\n",
    "        fills={\n",
    "            'VQSLOD': np.nan,\n",
    "            'QD': np.nan,\n",
    "            'MQ': np.nan,\n",
    "            'MQRankSum': np.nan,\n",
    "            'ReadPosRankSum': np.nan,\n",
    "            'FS': np.nan,\n",
    "            'SOR': np.nan,\n",
    "            'DP': np.nan,\n",
    "        },\n",
    "        flatten_filter=True,\n",
    "        verbose=False,\n",
    "        cache=True,\n",
    "        cachedir=output_dir\n",
    "    )\n",
    "\n",
    "def create_calldata_npy(vcf_fn, max_alleles=2):\n",
    "    output_dir = '%s.vcfnp_cache' % vcf_fn\n",
    "    if not os.path.exists(output_dir):\n",
    "        os.makedirs(output_dir)\n",
    "    vcfnp.calldata_2d(\n",
    "        vcf_fn,\n",
    "        fields=['GT', 'AD'],\n",
    "        dtypes={\n",
    "            'AD': 'u2',\n",
    "        },\n",
    "        arities={\n",
    "            'AD': max_alleles,\n",
    "        },\n",
    "        verbose=False,\n",
    "        cache=True,\n",
    "        cachedir=output_dir\n",
    "    )\n"
   ]
  },
  {
   "cell_type": "code",
   "execution_count": 44,
   "metadata": {
    "collapsed": false
   },
   "outputs": [],
   "source": [
    "def create_analysis_vcf(input_vcf_fn=chrom_vcf_fn, region='Pf3D7_14_v3:1000000-1100000', vfp_tool_config='5_2',\n",
    "                        output_vcf_fn=None, BCFTOOLS=BCFTOOLS, rewrite=False):\n",
    "    if output_vcf_fn is None:\n",
    "        output_vcf_fn = \"%s/vcf/SNP_INDEL_%s_%s.analysis.vcf.gz\" % (output_dir, region, vfp_tool_config)\n",
    "    intermediate_fns = collections.OrderedDict()\n",
    "    for intermediate_file in ['biallelic', 'regenotyped', 'new_af', 'nonref', 'pass', 'minimal', 'analysis', 'SNP', 'INDEL',\n",
    "                             'SNP_BIALLELIC', 'SNP_MULTIALLELIC', 'SNP_MIXED', 'INDEL_BIALLELIC', 'INDEL_MULTIALLELIC',\n",
    "                             'gatk_new_af', 'gatk_nonref', 'gatk_pass', 'gatk_minimal', 'gatk_analysis', 'gatk_SNP', 'gatk_INDEL',\n",
    "                             'gatk_SNP_BIALLELIC', 'gatk_SNP_MULTIALLELIC', 'gatk_SNP_MIXED', 'gatk_INDEL_BIALLELIC', 'gatk_INDEL_MULTIALLELIC']:\n",
    "        intermediate_fns[intermediate_file] = output_vcf_fn.replace('analysis', intermediate_file)\n",
    "\n",
    "#     if not os.path.exists(subset_vcf_fn):\n",
    "#         !{BCFTOOLS} view -Oz -o {subset_vcf_fn} -s {validation_samples} {chrom_vcf_fn}\n",
    "#         !{BCFTOOLS} index --tbi {subset_vcf_fn}\n",
    "\n",
    "    if rewrite or not os.path.exists(intermediate_fns['biallelic']):\n",
    "        if region is not None:\n",
    "            !{BCFTOOLS} annotate --regions {region} --remove FORMAT/DP,FORMAT/GQ,FORMAT/PGT,FORMAT/PID,FORMAT/PL {input_vcf_fn} | \\\n",
    "            {BCFTOOLS} norm -m -any -Oz -o {intermediate_fns['biallelic']}\n",
    "        else:\n",
    "            !{BCFTOOLS} annotate --remove FORMAT/DP,FORMAT/GQ,FORMAT/PGT,FORMAT/PID,FORMAT/PL {input_vcf_fn} | \\\n",
    "            {BCFTOOLS} norm -m -any -Oz -o {intermediate_fns['biallelic']}\n",
    "        !{BCFTOOLS} index --tbi {intermediate_fns['biallelic']}\n",
    "\n",
    "    if rewrite or not os.path.exists(intermediate_fns['regenotyped']):\n",
    "        !/nfs/team112/software/htslib/vfp/vfp_tool {intermediate_fns['biallelic']} {vfp_tool_configs[vfp_tool_config]} | \\\n",
    "        bgzip -c > {intermediate_fns['regenotyped']}\n",
    "        !{BCFTOOLS} index --tbi {intermediate_fns['regenotyped']}\n",
    "\n",
    "    if rewrite or not os.path.exists(intermediate_fns['new_af']):\n",
    "        !{BCFTOOLS} view --samples {all_samples} -Oz -o {intermediate_fns['new_af']} {intermediate_fns['regenotyped']}\n",
    "        !{BCFTOOLS} index --tbi {intermediate_fns['new_af']}\n",
    "\n",
    "    if rewrite or not os.path.exists(intermediate_fns['nonref']):\n",
    "        !{BCFTOOLS} view --include 'AC>0 && ALT!=\"*\"' -Oz -o {intermediate_fns['nonref']} {intermediate_fns['new_af']}\n",
    "        !{BCFTOOLS} index --tbi {intermediate_fns['nonref']}\n",
    "\n",
    "    if rewrite or not os.path.exists(intermediate_fns['pass']):\n",
    "        !{BCFTOOLS} view -f PASS -Oz -o {intermediate_fns['pass']} {intermediate_fns['nonref']}\n",
    "        !{BCFTOOLS} index --tbi {intermediate_fns['pass']}\n",
    "\n",
    "    if rewrite or not os.path.exists(intermediate_fns['minimal']):\n",
    "        !{BCFTOOLS} annotate --remove INFO/AF,INFO/BaseQRankSum,INFO/ClippingRankSum,INFO/DP,INFO/DS,INFO/END,INFO/FS,\\\n",
    "INFO/GC,INFO/HaplotypeScore,INFO/InbreedingCoeff,INFO/MLEAC,INFO/MLEAF,INFO/MQ,INFO/MQRankSum,INFO/NEGATIVE_TRAIN_SITE,\\\n",
    "INFO/POSITIVE_TRAIN_SITE,INFO/QD,INFO/ReadPosRankSum,INFO/RegionType,INFO/RPA,INFO/RU,INFO/SNPEFF_AMINO_ACID_CHANGE,\\\n",
    "INFO/SNPEFF_CODON_CHANGE,INFO/SNPEFF_EXON_ID,INFO/SNPEFF_FUNCTIONAL_CLASS,INFO/SNPEFF_GENE_BIOTYPE,\\\n",
    "INFO/SNPEFF_GENE_NAME,INFO/SNPEFF_IMPACT,INFO/SNPEFF_TRANSCRIPT_ID,INFO/SOR,INFO/culprit,INFO/set, \\\n",
    "-Oz -o {intermediate_fns['minimal']} \\\n",
    "{intermediate_fns['pass']}\n",
    "        !{BCFTOOLS} index --tbi {intermediate_fns['minimal']}\n",
    "\n",
    "    if rewrite or not os.path.exists(intermediate_fns['analysis']):\n",
    "        !{BCFTOOLS} norm --fasta-ref {GENOME_FN} -Oz -o {intermediate_fns['analysis']} {intermediate_fns['minimal']}\n",
    "        !{BCFTOOLS} index --tbi {intermediate_fns['analysis']}\n",
    "        \n",
    "    if rewrite or not os.path.exists(intermediate_fns['SNP']):\n",
    "        !{BCFTOOLS} view --include 'TYPE=\"snp\"' -Oz -o {intermediate_fns['SNP']} {intermediate_fns['analysis']}\n",
    "        !{BCFTOOLS} index --tbi {intermediate_fns['SNP']}\n",
    "\n",
    "    if rewrite or not os.path.exists(intermediate_fns['SNP_BIALLELIC']):\n",
    "        !{BCFTOOLS} view --include 'TYPE=\"snp\" && VariantType=\"SNP\"' -Oz -o {intermediate_fns['SNP_BIALLELIC']} {intermediate_fns['analysis']}\n",
    "        !{BCFTOOLS} index --tbi {intermediate_fns['SNP_BIALLELIC']}\n",
    "\n",
    "    if rewrite or not os.path.exists(intermediate_fns['SNP_MULTIALLELIC']):\n",
    "        !{BCFTOOLS} view --include 'TYPE=\"snp\" && VariantType=\"MULTIALLELIC_SNP\"' -Oz -o {intermediate_fns['SNP_MULTIALLELIC']} {intermediate_fns['analysis']}\n",
    "        !{BCFTOOLS} index --tbi {intermediate_fns['SNP_MULTIALLELIC']}\n",
    "\n",
    "    if rewrite or not os.path.exists(intermediate_fns['SNP_MIXED']):\n",
    "        !{BCFTOOLS} view --include 'TYPE=\"snp\" && VariantType!=\"SNP\" && VariantType!=\"MULTIALLELIC_SNP\"' -Oz -o {intermediate_fns['SNP_MIXED']} {intermediate_fns['analysis']}\n",
    "        !{BCFTOOLS} index --tbi {intermediate_fns['SNP_MIXED']}\n",
    "\n",
    "    if rewrite or not os.path.exists(intermediate_fns['INDEL']):\n",
    "        !{BCFTOOLS} view --exclude 'TYPE=\"snp\"' -Oz -o {intermediate_fns['INDEL']} {intermediate_fns['analysis']}\n",
    "        !{BCFTOOLS} index --tbi {intermediate_fns['INDEL']}\n",
    "\n",
    "    if rewrite or not os.path.exists(intermediate_fns['INDEL_BIALLELIC']):\n",
    "        !{BCFTOOLS} view --include 'TYPE!=\"snp\" && VariantType!~\"^MULTIALLELIC\"' -Oz -o {intermediate_fns['INDEL_BIALLELIC']} {intermediate_fns['analysis']}\n",
    "        !{BCFTOOLS} index --tbi {intermediate_fns['INDEL_BIALLELIC']}\n",
    "\n",
    "    if rewrite or not os.path.exists(intermediate_fns['INDEL_MULTIALLELIC']):\n",
    "        !{BCFTOOLS} view --include 'TYPE!=\"snp\" && VariantType~\"^MULTIALLELIC\"' -Oz -o {intermediate_fns['INDEL_MULTIALLELIC']} {intermediate_fns['analysis']}\n",
    "        !{BCFTOOLS} index --tbi {intermediate_fns['INDEL_MULTIALLELIC']}\n",
    "        \n",
    "    if rewrite or not os.path.exists(intermediate_fns['gatk_new_af']):\n",
    "        !{BCFTOOLS} view --samples {all_samples} -Oz -o {intermediate_fns['gatk_new_af']} {intermediate_fns['biallelic']}\n",
    "        !{BCFTOOLS} index --tbi {intermediate_fns['gatk_new_af']}\n",
    "\n",
    "    if rewrite or not os.path.exists(intermediate_fns['gatk_nonref']):\n",
    "        !{BCFTOOLS} view --include 'AC>0 && ALT!=\"*\"' -Oz -o {intermediate_fns['gatk_nonref']} {intermediate_fns['gatk_new_af']}\n",
    "        !{BCFTOOLS} index --tbi {intermediate_fns['gatk_nonref']}\n",
    "\n",
    "    if rewrite or not os.path.exists(intermediate_fns['gatk_pass']):\n",
    "        !{BCFTOOLS} view -f PASS -Oz -o {intermediate_fns['gatk_pass']} {intermediate_fns['gatk_nonref']}\n",
    "        !{BCFTOOLS} index --tbi {intermediate_fns['gatk_pass']}\n",
    "\n",
    "    if rewrite or not os.path.exists(intermediate_fns['gatk_minimal']):\n",
    "        !{BCFTOOLS} annotate --remove INFO/AF,INFO/BaseQRankSum,INFO/ClippingRankSum,INFO/DP,INFO/DS,INFO/END,INFO/FS,\\\n",
    "INFO/GC,INFO/HaplotypeScore,INFO/InbreedingCoeff,INFO/MLEAC,INFO/MLEAF,INFO/MQ,INFO/MQRankSum,INFO/NEGATIVE_TRAIN_SITE,\\\n",
    "INFO/POSITIVE_TRAIN_SITE,INFO/QD,INFO/ReadPosRankSum,INFO/RegionType,INFO/RPA,INFO/RU,INFO/SNPEFF_AMINO_ACID_CHANGE,\\\n",
    "INFO/SNPEFF_CODON_CHANGE,INFO/SNPEFF_EXON_ID,INFO/SNPEFF_FUNCTIONAL_CLASS,INFO/SNPEFF_GENE_BIOTYPE,\\\n",
    "INFO/SNPEFF_GENE_NAME,INFO/SNPEFF_IMPACT,INFO/SNPEFF_TRANSCRIPT_ID,INFO/SOR,INFO/culprit,INFO/set, \\\n",
    "-Oz -o {intermediate_fns['gatk_minimal']} \\\n",
    "{intermediate_fns['gatk_pass']}\n",
    "        !{BCFTOOLS} index --tbi {intermediate_fns['gatk_minimal']}\n",
    "\n",
    "    if rewrite or not os.path.exists(intermediate_fns['gatk_analysis']):\n",
    "        !{BCFTOOLS} norm --fasta-ref {GENOME_FN} -Oz -o {intermediate_fns['gatk_analysis']} {intermediate_fns['gatk_minimal']}\n",
    "        !{BCFTOOLS} index --tbi {intermediate_fns['gatk_analysis']}\n",
    "        \n",
    "    if rewrite or not os.path.exists(intermediate_fns['gatk_SNP']):\n",
    "        !{BCFTOOLS} view --include 'TYPE=\"snp\"' -Oz -o {intermediate_fns['gatk_SNP']} {intermediate_fns['gatk_analysis']}\n",
    "        !{BCFTOOLS} index --tbi {intermediate_fns['gatk_SNP']}\n",
    "\n",
    "    if rewrite or not os.path.exists(intermediate_fns['gatk_SNP_BIALLELIC']):\n",
    "        !{BCFTOOLS} view --include 'TYPE=\"snp\" && VariantType=\"SNP\"' -Oz -o {intermediate_fns['gatk_SNP_BIALLELIC']} {intermediate_fns['gatk_analysis']}\n",
    "        !{BCFTOOLS} index --tbi {intermediate_fns['gatk_SNP_BIALLELIC']}\n",
    "\n",
    "    if rewrite or not os.path.exists(intermediate_fns['gatk_SNP_MULTIALLELIC']):\n",
    "        !{BCFTOOLS} view --include 'TYPE=\"snp\" && VariantType=\"MULTIALLELIC_SNP\"' -Oz -o {intermediate_fns['gatk_SNP_MULTIALLELIC']} {intermediate_fns['gatk_analysis']}\n",
    "        !{BCFTOOLS} index --tbi {intermediate_fns['gatk_SNP_MULTIALLELIC']}\n",
    "\n",
    "    if rewrite or not os.path.exists(intermediate_fns['gatk_SNP_MIXED']):\n",
    "        !{BCFTOOLS} view --include 'TYPE=\"snp\" && VariantType!=\"SNP\" && VariantType!=\"MULTIALLELIC_SNP\"' -Oz -o {intermediate_fns['gatk_SNP_MIXED']} {intermediate_fns['gatk_analysis']}\n",
    "        !{BCFTOOLS} index --tbi {intermediate_fns['gatk_SNP_MIXED']}\n",
    "\n",
    "    if rewrite or not os.path.exists(intermediate_fns['gatk_INDEL']):\n",
    "        !{BCFTOOLS} view --exclude 'TYPE=\"snp\"' -Oz -o {intermediate_fns['gatk_INDEL']} {intermediate_fns['gatk_analysis']}\n",
    "        !{BCFTOOLS} index --tbi {intermediate_fns['gatk_INDEL']}\n",
    "\n",
    "    if rewrite or not os.path.exists(intermediate_fns['gatk_INDEL_BIALLELIC']):\n",
    "        !{BCFTOOLS} view --include 'TYPE!=\"snp\" && VariantType!~\"^MULTIALLELIC\"' -Oz -o {intermediate_fns['gatk_INDEL_BIALLELIC']} {intermediate_fns['gatk_analysis']}\n",
    "        !{BCFTOOLS} index --tbi {intermediate_fns['gatk_INDEL_BIALLELIC']}\n",
    "\n",
    "    if rewrite or not os.path.exists(intermediate_fns['gatk_INDEL_MULTIALLELIC']):\n",
    "        !{BCFTOOLS} view --include 'TYPE!=\"snp\" && VariantType~\"^MULTIALLELIC\"' -Oz -o {intermediate_fns['gatk_INDEL_MULTIALLELIC']} {intermediate_fns['gatk_analysis']}\n",
    "        !{BCFTOOLS} index --tbi {intermediate_fns['gatk_INDEL_MULTIALLELIC']}\n",
    "        \n",
    "    for variant_type in ['SNP_BIALLELIC', 'SNP_MULTIALLELIC', 'SNP_MIXED', 'INDEL_BIALLELIC', 'INDEL_MULTIALLELIC',\n",
    "                        'gatk_SNP_BIALLELIC', 'gatk_SNP_MULTIALLELIC', 'gatk_SNP_MIXED', 'gatk_INDEL_BIALLELIC', 'gatk_INDEL_MULTIALLELIC']:\n",
    "        if rewrite or not os.path.exists(\"%s/.vcfnp_cache/variants.npy\" % intermediate_fns[variant_type]):\n",
    "            create_variants_npy(intermediate_fns[variant_type])\n",
    "        if rewrite or not os.path.exists(\"%s/.vcfnp_cache/calldata_2d.npy\" % intermediate_fns[variant_type]):\n",
    "            create_calldata_npy(intermediate_fns[variant_type])\n",
    "        \n",
    "\n"
   ]
  },
  {
   "cell_type": "code",
   "execution_count": 45,
   "metadata": {
    "collapsed": false
   },
   "outputs": [
    {
     "name": "stdout",
     "output_type": "stream",
     "text": [
      "Lines   total/split/realigned/skipped:\t1150/0/700/0\r\n"
     ]
    }
   ],
   "source": [
    "# create_analysis_vcf(region='Pf3D7_14_v3', rewrite=True)\n",
    "create_analysis_vcf()"
   ]
  },
  {
   "cell_type": "code",
   "execution_count": 46,
   "metadata": {
    "collapsed": false
   },
   "outputs": [
    {
     "name": "stdout",
     "output_type": "stream",
     "text": [
      "Pf3D7_04_v3 5_2\n",
      "Lines   total/split/realigned/skipped:\t14303/0/7267/0\n",
      "Pf3D7_04_v3 6_3\n",
      "Lines   total/split/realigned/skipped:\t14303/0/7267/0\n",
      "Pf3D7_14_v3 5_2\n",
      "Lines   total/split/realigned/skipped:\t37697/0/22070/0\n",
      "Pf3D7_14_v3 6_3\n",
      "Lines   total/split/realigned/skipped:\t37697/0/22070/0\n"
     ]
    }
   ],
   "source": [
    "for region in ['Pf3D7_04_v3', 'Pf3D7_14_v3']:\n",
    "    for vfp_tool_config in vfp_tool_configs:\n",
    "        print(region, vfp_tool_config)\n",
    "        create_analysis_vcf(region=region, vfp_tool_config=vfp_tool_config)"
   ]
  },
  {
   "cell_type": "code",
   "execution_count": 48,
   "metadata": {
    "collapsed": false
   },
   "outputs": [],
   "source": [
    "chrom_analysis_vcf_fn = \"%s/vcf/SNP_INDEL_Pf3D7_14_v3_5_2.analysis.vcf.gz\" % output_dir\n",
    "variants_SNP_BIALLELIC = np.load(\"%s.vcfnp_cache/variants.npy\" % chrom_analysis_vcf_fn.replace('analysis', 'SNP_BIALLELIC'))\n",
    "calldata_SNP_BIALLELIC = np.load(\"%s.vcfnp_cache/calldata_2d.npy\" % chrom_analysis_vcf_fn.replace('analysis', 'SNP_BIALLELIC'))\n"
   ]
  },
  {
   "cell_type": "code",
   "execution_count": 25,
   "metadata": {
    "collapsed": false
   },
   "outputs": [
    {
     "data": {
      "text/plain": [
       "98"
      ]
     },
     "execution_count": 25,
     "metadata": {},
     "output_type": "execute_result"
    }
   ],
   "source": [
    "calldata_SNP_BIALLELIC['GT'].shape[1]"
   ]
  },
  {
   "cell_type": "code",
   "execution_count": 63,
   "metadata": {
    "collapsed": false
   },
   "outputs": [
    {
     "data": {
      "text/plain": [
       "array([ True,  True,  True, ..., False, False,  True], dtype=bool)"
      ]
     },
     "execution_count": 63,
     "metadata": {},
     "output_type": "execute_result"
    }
   ],
   "source": [
    "calldata_SNP_BIALLELIC['GT'][:, 1] == b'0'"
   ]
  },
  {
   "cell_type": "code",
   "execution_count": 145,
   "metadata": {
    "collapsed": false
   },
   "outputs": [
    {
     "data": {
      "text/plain": [
       "(array([b'', b'INTERGENIC', b'INTRAGENIC', b'INTRON',\n",
       "        b'NON_SYNONYMOUS_CODING', b'START_LOST', b'STOP_GAINED',\n",
       "        b'STOP_LOST', b'SYNONYMOUS_CODING', b'SYNONYMOUS_STOP'], \n",
       "       dtype='|S33'),\n",
       " array([   3, 1256,   52,  207, 1082,    1,    3,    1,  440,    1]))"
      ]
     },
     "execution_count": 145,
     "metadata": {},
     "output_type": "execute_result"
    }
   ],
   "source": [
    "np.unique(variants_SNP_BIALLELIC['SNPEFF_EFFECT'], return_counts=True)"
   ]
  },
  {
   "cell_type": "code",
   "execution_count": 146,
   "metadata": {
    "collapsed": false
   },
   "outputs": [
    {
     "data": {
      "text/plain": [
       "(array([b'.', b'0', b'0/1', b'1'], \n",
       "       dtype='|S3'), array([  1533, 196926,   4788,  95261]))"
      ]
     },
     "execution_count": 146,
     "metadata": {},
     "output_type": "execute_result"
    }
   ],
   "source": [
    "np.unique(calldata_SNP_BIALLELIC['GT'], return_counts=True)"
   ]
  },
  {
   "cell_type": "code",
   "execution_count": 50,
   "metadata": {
    "collapsed": false
   },
   "outputs": [
    {
     "data": {
      "text/plain": [
       "0.01603977112841197"
      ]
     },
     "execution_count": 50,
     "metadata": {},
     "output_type": "execute_result"
    }
   ],
   "source": [
    "4788/(np.sum([  1533, 196926,   4788,  95261]))"
   ]
  },
  {
   "cell_type": "code",
   "execution_count": 147,
   "metadata": {
    "collapsed": false
   },
   "outputs": [
    {
     "name": "stdout",
     "output_type": "stream",
     "text": [
      "98\n"
     ]
    }
   ],
   "source": [
    "hets_per_sample = np.sum(calldata_SNP_BIALLELIC['GT'] == b'0/1', 0)\n",
    "print(len(hets_per_sample))"
   ]
  },
  {
   "cell_type": "code",
   "execution_count": 148,
   "metadata": {
    "collapsed": false
   },
   "outputs": [
    {
     "data": {
      "text/plain": [
       "array([ 31,  27,  20,  10,  16, 228,  23, 126,  36,  28,  18,   8,  24,\n",
       "       519,  31,  22,  32,  47,  26,  27,  16,  21, 803,  42,  31, 455,\n",
       "         5,  30,  15,  18,  33,  39,   7,  29,  16,  17,  23,   2,  15,\n",
       "        18,  19,   5, 189,   6,   4,  13,   6,   4,  15,  24,  20,  17,\n",
       "         8,   1,  20,  16,   8,   5,  11,   9,  59,  36,  29, 356,  20,\n",
       "        37,  13,  17,  66,  14,  47,  25,  39,  20,  51,  27,  16,  10,\n",
       "        36,  15,  23,  43,   9,   9,  41,  28,  52,   8,  22,  17,  14,\n",
       "        27,  21,  55,  66,  24,  41,  21])"
      ]
     },
     "execution_count": 148,
     "metadata": {},
     "output_type": "execute_result"
    }
   ],
   "source": [
    "hets_per_sample"
   ]
  },
  {
   "cell_type": "code",
   "execution_count": 42,
   "metadata": {
    "collapsed": false
   },
   "outputs": [],
   "source": [
    "def genotype_concordance(calldata=calldata_SNP_BIALLELIC['GT'], rep_index_first=rep_index_first,\n",
    "                         rep_index_second=rep_index_second, verbose=False):\n",
    "    all_samples = tbl_release5_crosses_metadata.values('sample').array()\n",
    "    total_mendelian_errors = 0\n",
    "    total_homozygotes = 0\n",
    "    for cross in tbl_release5_crosses_metadata.distinct('study_title').values('study_title').array():\n",
    "        parents = (tbl_release5_crosses_metadata\n",
    "            .selecteq('study_title', cross)\n",
    "            .selecteq('parent_or_progeny', 'parent')\n",
    "            .values('sample')\n",
    "            .array()\n",
    "        )\n",
    "        parent1_calls = calldata[:, all_samples==parents[0]]\n",
    "#         print(parent1_calls.shape)\n",
    "#         print(parent1_calls == b'1')\n",
    "        parent2_calls = calldata[:, all_samples==parents[1]]\n",
    "#         print(parent1_calls.shape)\n",
    "        progeny = (tbl_release5_crosses_metadata\n",
    "            .selecteq('study_title', cross)\n",
    "            .selecteq('parent_or_progeny', 'progeny')\n",
    "            .values('sample')\n",
    "            .array()\n",
    "        )\n",
    "        mendelian_errors = np.zeros(len(progeny))\n",
    "        homozygotes = np.zeros(len(progeny))\n",
    "        for i, ox_code in enumerate(progeny):\n",
    "            progeny_calls = calldata[:, all_samples==ox_code]\n",
    "#             print(ox_code, progeny_calls.shape)\n",
    "            error_calls = (\n",
    "                ((parent1_calls == b'0') & (parent2_calls == b'0') & (progeny_calls == b'1')) |\n",
    "                ((parent1_calls == b'1') & (parent2_calls == b'1') & (progeny_calls == b'0'))\n",
    "            )\n",
    "            homozygous_calls = (\n",
    "                ((parent1_calls == b'0') | (parent1_calls == b'1' )) &\n",
    "                ((parent2_calls == b'0') | (parent2_calls == b'1' )) &\n",
    "                ((progeny_calls == b'0') | (progeny_calls == b'1' ))\n",
    "            )\n",
    "            mendelian_errors[i] = np.sum(error_calls)\n",
    "            homozygotes[i] = np.sum(homozygous_calls)\n",
    "#         print(cross, mendelian_errors, homozygotes)\n",
    "        total_mendelian_errors = total_mendelian_errors + np.sum(mendelian_errors)\n",
    "        total_homozygotes = total_homozygotes + np.sum(homozygotes)\n",
    "        \n",
    "    mendelian_error_rate = total_mendelian_errors / total_homozygotes\n",
    "    \n",
    "    calldata_both = (np.in1d(calldata[:, rep_index_first], [b'0', b'1']) &\n",
    "                     np.in1d(calldata[:, rep_index_second], [b'0', b'1'])\n",
    "                    )\n",
    "    calldata_both = (\n",
    "        ((calldata[:, rep_index_first] == b'0') | (calldata[:, rep_index_first] == b'1')) &\n",
    "        ((calldata[:, rep_index_second] == b'0') | (calldata[:, rep_index_second] == b'1'))\n",
    "    )\n",
    "    calldata_discordant = (\n",
    "        ((calldata[:, rep_index_first] == b'0') & (calldata[:, rep_index_second] == b'1')) |\n",
    "        ((calldata[:, rep_index_first] == b'1') & (calldata[:, rep_index_second] == b'0'))\n",
    "    )\n",
    "    missingness_per_sample = np.sum(calldata == b'.', 0)\n",
    "    if verbose:\n",
    "        print(missingness_per_sample)\n",
    "    mean_missingness = np.sum(missingness_per_sample) / (calldata.shape[0] * calldata.shape[1])\n",
    "    heterozygosity_per_sample = np.sum(calldata == b'0/1', 0)\n",
    "    if verbose:\n",
    "        print(heterozygosity_per_sample)\n",
    "#     print(heterozygosity_per_sample)\n",
    "    mean_heterozygosity = np.sum(heterozygosity_per_sample) / (calldata.shape[0] * calldata.shape[1])\n",
    "#     print(calldata_both.shape)\n",
    "#     print(calldata_discordant.shape)\n",
    "    num_discordance_per_sample_pair = np.sum(calldata_discordant, 0)\n",
    "    num_both_calls_per_sample_pair = np.sum(calldata_both, 0)\n",
    "    if verbose:\n",
    "        print(num_discordance_per_sample_pair)\n",
    "        print(num_both_calls_per_sample_pair)\n",
    "    prop_discordances_per_sample_pair = num_discordance_per_sample_pair/num_both_calls_per_sample_pair\n",
    "    num_discordance_per_snp = np.sum(calldata_discordant, 1)\n",
    "#     print(num_discordance_per_snp)\n",
    "#     print(variants_SNP_BIALLELIC[num_discordance_per_snp > 0])\n",
    "    mean_prop_discordances = (np.sum(num_discordance_per_sample_pair) / np.sum(num_both_calls_per_sample_pair))\n",
    "    return(\n",
    "        mean_missingness,\n",
    "        mean_heterozygosity,\n",
    "        mean_prop_discordances,\n",
    "        mendelian_error_rate,\n",
    "        prop_discordances_per_sample_pair,\n",
    "        calldata.shape\n",
    "    )\n",
    "    "
   ]
  },
  {
   "cell_type": "code",
   "execution_count": 53,
   "metadata": {
    "collapsed": false
   },
   "outputs": [],
   "source": [
    "def genotype_concordance_gatk(calldata=calldata_SNP_BIALLELIC['GT'], rep_index_first=rep_index_first,\n",
    "                         rep_index_second=rep_index_second, verbose=False):\n",
    "    all_samples = tbl_release5_crosses_metadata.values('sample').array()\n",
    "    total_mendelian_errors = 0\n",
    "    total_homozygotes = 0\n",
    "    for cross in tbl_release5_crosses_metadata.distinct('study_title').values('study_title').array():\n",
    "        parents = (tbl_release5_crosses_metadata\n",
    "            .selecteq('study_title', cross)\n",
    "            .selecteq('parent_or_progeny', 'parent')\n",
    "            .values('sample')\n",
    "            .array()\n",
    "        )\n",
    "        parent1_calls = calldata[:, all_samples==parents[0]]\n",
    "#         print(parent1_calls.shape)\n",
    "#         print(parent1_calls == b'1')\n",
    "        parent2_calls = calldata[:, all_samples==parents[1]]\n",
    "#         print(parent1_calls.shape)\n",
    "        progeny = (tbl_release5_crosses_metadata\n",
    "            .selecteq('study_title', cross)\n",
    "            .selecteq('parent_or_progeny', 'progeny')\n",
    "            .values('sample')\n",
    "            .array()\n",
    "        )\n",
    "        mendelian_errors = np.zeros(len(progeny))\n",
    "        homozygotes = np.zeros(len(progeny))\n",
    "        for i, ox_code in enumerate(progeny):\n",
    "            progeny_calls = calldata[:, all_samples==ox_code]\n",
    "#             print(ox_code, progeny_calls.shape)\n",
    "            error_calls = (\n",
    "                ((parent1_calls == b'0/0') & (parent2_calls == b'0/0') & (progeny_calls == b'1/1')) |\n",
    "                ((parent1_calls == b'1/1') & (parent2_calls == b'1/1') & (progeny_calls == b'0/0'))\n",
    "            )\n",
    "            homozygous_calls = (\n",
    "                ((parent1_calls == b'0/0') | (parent1_calls == b'1/1' )) &\n",
    "                ((parent2_calls == b'0/0') | (parent2_calls == b'1/1' )) &\n",
    "                ((progeny_calls == b'0/0') | (progeny_calls == b'1/1' ))\n",
    "            )\n",
    "            mendelian_errors[i] = np.sum(error_calls)\n",
    "            homozygotes[i] = np.sum(homozygous_calls)\n",
    "#         print(cross, mendelian_errors, homozygotes)\n",
    "        total_mendelian_errors = total_mendelian_errors + np.sum(mendelian_errors)\n",
    "        total_homozygotes = total_homozygotes + np.sum(homozygotes)\n",
    "        \n",
    "    mendelian_error_rate = total_mendelian_errors / total_homozygotes\n",
    "    \n",
    "    calldata_both = (np.in1d(calldata[:, rep_index_first], [b'0/0', b'1/1']) &\n",
    "                     np.in1d(calldata[:, rep_index_second], [b'0/0', b'1/1'])\n",
    "                    )\n",
    "    calldata_both = (\n",
    "        ((calldata[:, rep_index_first] == b'0/0') | (calldata[:, rep_index_first] == b'1/1')) &\n",
    "        ((calldata[:, rep_index_second] == b'0/0') | (calldata[:, rep_index_second] == b'1/1'))\n",
    "    )\n",
    "    calldata_discordant = (\n",
    "        ((calldata[:, rep_index_first] == b'0/0') & (calldata[:, rep_index_second] == b'1/1')) |\n",
    "        ((calldata[:, rep_index_first] == b'1/1') & (calldata[:, rep_index_second] == b'0/0'))\n",
    "    )\n",
    "    missingness_per_sample = np.sum(calldata == b'./.', 0)\n",
    "    if verbose:\n",
    "        print(missingness_per_sample)\n",
    "    mean_missingness = np.sum(missingness_per_sample) / (calldata.shape[0] * calldata.shape[1])\n",
    "    heterozygosity_per_sample = np.sum(calldata == b'0/1', 0)\n",
    "    if verbose:\n",
    "        print(heterozygosity_per_sample)\n",
    "#     print(heterozygosity_per_sample)\n",
    "    mean_heterozygosity = np.sum(heterozygosity_per_sample) / (calldata.shape[0] * calldata.shape[1])\n",
    "#     print(calldata_both.shape)\n",
    "#     print(calldata_discordant.shape)\n",
    "    num_discordance_per_sample_pair = np.sum(calldata_discordant, 0)\n",
    "    num_both_calls_per_sample_pair = np.sum(calldata_both, 0)\n",
    "    if verbose:\n",
    "        print(num_discordance_per_sample_pair)\n",
    "        print(num_both_calls_per_sample_pair)\n",
    "    prop_discordances_per_sample_pair = num_discordance_per_sample_pair/num_both_calls_per_sample_pair\n",
    "    num_discordance_per_snp = np.sum(calldata_discordant, 1)\n",
    "#     print(num_discordance_per_snp)\n",
    "#     print(variants_SNP_BIALLELIC[num_discordance_per_snp > 0])\n",
    "    mean_prop_discordances = (np.sum(num_discordance_per_sample_pair) / np.sum(num_both_calls_per_sample_pair))\n",
    "    return(\n",
    "        mean_missingness,\n",
    "        mean_heterozygosity,\n",
    "        mean_prop_discordances,\n",
    "        mendelian_error_rate,\n",
    "        prop_discordances_per_sample_pair,\n",
    "        calldata.shape\n",
    "    )\n",
    "    "
   ]
  },
  {
   "cell_type": "code",
   "execution_count": 43,
   "metadata": {
    "collapsed": false
   },
   "outputs": [
    {
     "name": "stdout",
     "output_type": "stream",
     "text": [
      "Pf3D7_04_v3 5_2 SNP_BIALLELIC 0.00740865999429 0.0235787738192 0.00861858935315 0.00239468166222 (1931, 98)\n",
      "Pf3D7_04_v3 5_2 SNP_MULTIALLELIC 0.0967312988042 0.0395526047757 0.00989788886801 0.00467985249749 (1082, 98)\n",
      "Pf3D7_04_v3 5_2 SNP_MIXED 0.149744897959 0.0525912996778 0.0146834195615 0.00617813626223 (1520, 98)\n",
      "Pf3D7_04_v3 5_2 INDEL_BIALLELIC 0.0178571428571 0.0353114930183 0.00318407960199 0.00119827448474 (304, 98)\n",
      "Pf3D7_04_v3 5_2 INDEL_MULTIALLELIC 0.272946106485 0.0773239616712 0.0104065850877 0.00488227546847 (10534, 98)\n",
      "Pf3D7_04_v3 6_3 SNP_BIALLELIC 0.00847457627119 0.0202298080249 0.00885668276973 0.00249874153187 (1888, 98)\n",
      "Pf3D7_04_v3 6_3 SNP_MULTIALLELIC 0.0980895352153 0.0351745488615 0.0111491705286 0.00538651080167 (1002, 98)\n",
      "Pf3D7_04_v3 6_3 SNP_MIXED 0.156599323146 0.046368870592 0.0167399935615 0.00671491457136 (1393, 98)\n",
      "Pf3D7_04_v3 6_3 INDEL_BIALLELIC 0.0217295551314 0.0288870944061 0.00474240137961 0.00117708605807 (278, 98)\n",
      "Pf3D7_04_v3 6_3 INDEL_MULTIALLELIC 0.287420192416 0.0621882434596 0.0121574661925 0.00537811382396 (9762, 98)\n",
      "Pf3D7_14_v3 5_2 SNP_BIALLELIC 0.00513554075603 0.0160397711284 0.00125350795136 0.000781005935645 (3046, 98)\n",
      "Pf3D7_14_v3 5_2 SNP_MULTIALLELIC 0.103595630873 0.0350126634267 0.00530173085919 0.00265907885495 (2087, 98)\n",
      "Pf3D7_14_v3 5_2 SNP_MIXED 0.145553028378 0.0524551150554 0.00920040507638 0.00467097422413 (3293, 98)\n",
      "Pf3D7_14_v3 5_2 INDEL_BIALLELIC 0.017113799162 0.0344979051223 0.00327056491576 0.00304376940403 (604, 98)\n",
      "Pf3D7_14_v3 5_2 INDEL_MULTIALLELIC 0.277143610777 0.0831989990714 0.00549538938841 0.00366390562952 (31954, 98)\n",
      "Pf3D7_14_v3 6_3 SNP_BIALLELIC 0.00630149249556 0.011466478298 0.00135769424726 0.000799573560768 (2918, 98)\n",
      "Pf3D7_14_v3 6_3 SNP_MULTIALLELIC 0.0974426092798 0.0315909564734 0.00676243740176 0.00309736350426 (1762, 98)\n",
      "Pf3D7_14_v3 6_3 SNP_MIXED 0.15351520485 0.047437455475 0.011211362144 0.00541557750024 (2922, 98)\n",
      "Pf3D7_14_v3 6_3 INDEL_BIALLELIC 0.0209343405871 0.0285827037998 0.00384193194292 0.00288678394226 (543, 98)\n",
      "Pf3D7_14_v3 6_3 INDEL_MULTIALLELIC 0.292351156761 0.0670942039714 0.0064930090608 0.00388897341479 (29635, 98)\n"
     ]
    }
   ],
   "source": [
    "for region in ['Pf3D7_04_v3', 'Pf3D7_14_v3']:\n",
    "    for vfp_tool_config in vfp_tool_configs:\n",
    "        chrom_analysis_vcf_fn = \"%s/vcf/SNP_INDEL_%s_%s.analysis.vcf.gz\" % (output_dir, region, vfp_tool_config)\n",
    "        for variant_type in ['SNP_BIALLELIC', 'SNP_MULTIALLELIC', 'SNP_MIXED', 'INDEL_BIALLELIC', 'INDEL_MULTIALLELIC']:\n",
    "            variants = np.load(\"%s.vcfnp_cache/variants.npy\" % chrom_analysis_vcf_fn.replace('analysis', variant_type))\n",
    "            calldata = np.load(\"%s.vcfnp_cache/calldata_2d.npy\" % chrom_analysis_vcf_fn.replace('analysis', variant_type))\n",
    "        #     print(variant_type)\n",
    "            mean_missingness, mean_heterozygosity, mean_discordance, mendelian_error_rate, prop_discordances_per_sample_pair, dims = genotype_concordance(calldata['GT'])\n",
    "            print(region, vfp_tool_config, variant_type, mean_missingness, mean_heterozygosity, mean_discordance, mendelian_error_rate, dims)\n",
    "#             mean_missingness, mean_heterozygosity, mean_discordance, mendelian_error_rate, prop_discordances_per_sample_pair, dims = genotype_concordance(calldata['GT'], quad_index_first, quad_index_second)\n",
    "#             print(region, vfp_tool_config, variant_type, mean_missingness, mean_heterozygosity, mean_discordance, mendelian_error_rate, dims)"
   ]
  },
  {
   "cell_type": "code",
   "execution_count": 54,
   "metadata": {
    "collapsed": false
   },
   "outputs": [
    {
     "name": "stdout",
     "output_type": "stream",
     "text": [
      "Pf3D7_04_v3 5_2 gatk_SNP_BIALLELIC 0.0212835804563 0.0131531432949 9.40291490362e-05 0.000167543685465 (1865, 98)\n",
      "Pf3D7_04_v3 5_2 gatk_SNP_MULTIALLELIC 0.0477238173206 0.0236828255658 0.0024419482307 0.00228130686293 (1396, 98)\n",
      "Pf3D7_04_v3 5_2 gatk_SNP_MIXED 0.0771198830409 0.0340285236902 0.00984624339138 0.00569567088037 (1368, 98)\n",
      "Pf3D7_04_v3 5_2 gatk_INDEL_BIALLELIC 0.0288744318688 0.0194724177881 0.00390015600624 0.00125450838952 (229, 98)\n",
      "Pf3D7_04_v3 5_2 gatk_INDEL_MULTIALLELIC 0.0353626257279 0.0394345350634 0.0128090290219 0.00642838668769 (9445, 98)\n",
      "Pf3D7_04_v3 6_3 gatk_SNP_BIALLELIC 0.0212835804563 0.0131531432949 9.40291490362e-05 0.000167543685465 (1865, 98)\n",
      "Pf3D7_04_v3 6_3 gatk_SNP_MULTIALLELIC 0.0477238173206 0.0236828255658 0.0024419482307 0.00228130686293 (1396, 98)\n",
      "Pf3D7_04_v3 6_3 gatk_SNP_MIXED 0.0771198830409 0.0340285236902 0.00984624339138 0.00569567088037 (1368, 98)\n",
      "Pf3D7_04_v3 6_3 gatk_INDEL_BIALLELIC 0.0288744318688 0.0194724177881 0.00390015600624 0.00125450838952 (229, 98)\n",
      "Pf3D7_04_v3 6_3 gatk_INDEL_MULTIALLELIC 0.0353626257279 0.0394345350634 0.0128090290219 0.00642838668769 (9445, 98)\n",
      "Pf3D7_14_v3 5_2 gatk_SNP_BIALLELIC 0.00689592563004 0.00412520880238 7.97638988594e-05 7.51481209015e-05 (2810, 98)\n",
      "Pf3D7_14_v3 5_2 gatk_SNP_MULTIALLELIC 0.0344859867389 0.0188877195927 0.00441304594871 0.00346372237292 (3161, 98)\n",
      "Pf3D7_14_v3 5_2 gatk_SNP_MIXED 0.0677326330252 0.0361185848814 0.00871307636888 0.00515448705968 (2852, 98)\n",
      "Pf3D7_14_v3 5_2 gatk_INDEL_BIALLELIC 0.0202424357214 0.014939154316 0.00269796303791 0.00181373491989 (431, 98)\n",
      "Pf3D7_14_v3 5_2 gatk_INDEL_MULTIALLELIC 0.0268883631926 0.0406882508303 0.00918384989682 0.00574347353488 (28443, 98)\n",
      "Pf3D7_14_v3 6_3 gatk_SNP_BIALLELIC 0.00689592563004 0.00412520880238 7.97638988594e-05 7.51481209015e-05 (2810, 98)\n",
      "Pf3D7_14_v3 6_3 gatk_SNP_MULTIALLELIC 0.0344859867389 0.0188877195927 0.00441304594871 0.00346372237292 (3161, 98)\n",
      "Pf3D7_14_v3 6_3 gatk_SNP_MIXED 0.0677326330252 0.0361185848814 0.00871307636888 0.00515448705968 (2852, 98)\n",
      "Pf3D7_14_v3 6_3 gatk_INDEL_BIALLELIC 0.0202424357214 0.014939154316 0.00269796303791 0.00181373491989 (431, 98)\n",
      "Pf3D7_14_v3 6_3 gatk_INDEL_MULTIALLELIC 0.0268883631926 0.0406882508303 0.00918384989682 0.00574347353488 (28443, 98)\n"
     ]
    }
   ],
   "source": [
    "for region in ['Pf3D7_04_v3', 'Pf3D7_14_v3']:\n",
    "    for vfp_tool_config in vfp_tool_configs:\n",
    "        chrom_analysis_vcf_fn = \"%s/vcf/SNP_INDEL_%s_%s.analysis.vcf.gz\" % (output_dir, region, vfp_tool_config)\n",
    "        for variant_type in ['gatk_SNP_BIALLELIC', 'gatk_SNP_MULTIALLELIC', 'gatk_SNP_MIXED', 'gatk_INDEL_BIALLELIC', 'gatk_INDEL_MULTIALLELIC']:\n",
    "            variants = np.load(\"%s.vcfnp_cache/variants.npy\" % chrom_analysis_vcf_fn.replace('analysis', variant_type))\n",
    "            calldata = np.load(\"%s.vcfnp_cache/calldata_2d.npy\" % chrom_analysis_vcf_fn.replace('analysis', variant_type))\n",
    "        #     print(variant_type)\n",
    "            mean_missingness, mean_heterozygosity, mean_discordance, mendelian_error_rate, prop_discordances_per_sample_pair, dims = genotype_concordance_gatk(calldata['GT'])\n",
    "            print(region, vfp_tool_config, variant_type, mean_missingness, mean_heterozygosity, mean_discordance, mendelian_error_rate, dims)\n",
    "#             mean_missingness, mean_heterozygosity, mean_discordance, mendelian_error_rate, prop_discordances_per_sample_pair, dims = genotype_concordance(calldata['GT'], quad_index_first, quad_index_second)\n",
    "#             print(region, vfp_tool_config, variant_type, mean_missingness, mean_heterozygosity, mean_discordance, mendelian_error_rate, dims)"
   ]
  },
  {
   "cell_type": "code",
   "execution_count": 57,
   "metadata": {
    "collapsed": false
   },
   "outputs": [
    {
     "name": "stdout",
     "output_type": "stream",
     "text": [
      "Pf3D7_14_v3 5_2 SNP_BIALLELIC 0.00513554075603 0.0160397711284 0.00125350795136 0.000781005935645 (3046, 98)\n",
      "Pf3D7_14_v3 5_2 SNP_MULTIALLELIC 0.103595630873 0.0350126634267 0.00530173085919 0.00265907885495 (2087, 98)\n",
      "Pf3D7_14_v3 5_2 SNP_MIXED 0.145553028378 0.0524551150554 0.00920040507638 0.00467097422413 (3293, 98)\n",
      "Pf3D7_14_v3 5_2 INDEL_BIALLELIC 0.017113799162 0.0344979051223 0.00327056491576 0.00304376940403 (604, 98)\n",
      "Pf3D7_14_v3 5_2 INDEL_MULTIALLELIC 0.277143610777 0.0831989990714 0.00549538938841 0.00366390562952 (31954, 98)\n"
     ]
    }
   ],
   "source": [
    "for region in ['Pf3D7_14_v3']:\n",
    "    for vfp_tool_config in ['5_2']:\n",
    "        chrom_analysis_vcf_fn = \"%s/vcf/SNP_INDEL_%s_%s.analysis.vcf.gz\" % (output_dir, region, vfp_tool_config)\n",
    "        for variant_type in ['SNP_BIALLELIC', 'SNP_MULTIALLELIC', 'SNP_MIXED', 'INDEL_BIALLELIC', 'INDEL_MULTIALLELIC']:\n",
    "            variants = np.load(\"%s.vcfnp_cache/variants.npy\" % chrom_analysis_vcf_fn.replace('analysis', variant_type))\n",
    "            calldata = np.load(\"%s.vcfnp_cache/calldata_2d.npy\" % chrom_analysis_vcf_fn.replace('analysis', variant_type))\n",
    "        #     print(variant_type)\n",
    "            mean_missingness, mean_heterozygosity, mean_discordance, mendelian_error_rate, prop_discordances_per_sample_pair, dims = genotype_concordance(calldata['GT'])\n",
    "            print(region, vfp_tool_config, variant_type, mean_missingness, mean_heterozygosity, mean_discordance, mendelian_error_rate, dims)\n",
    "#             mean_missingness, mean_heterozygosity, mean_discordance, mendelian_error_rate, prop_discordances_per_sample_pair, dims = genotype_concordance(calldata['GT'], quad_index_first, quad_index_second)\n",
    "#             print(region, vfp_tool_config, variant_type, mean_missingness, mean_heterozygosity, mean_discordance, mendelian_error_rate, dims)"
   ]
  },
  {
   "cell_type": "code",
   "execution_count": 58,
   "metadata": {
    "collapsed": false
   },
   "outputs": [
    {
     "name": "stdout",
     "output_type": "stream",
     "text": [
      "Pf3D7_14_v3 5_2 gatk_SNP_BIALLELIC 0.00689592563004 0.00412520880238 7.97638988594e-05 7.51481209015e-05 (2810, 98)\n",
      "Pf3D7_14_v3 5_2 gatk_SNP_MULTIALLELIC 0.0344859867389 0.0188877195927 0.00441304594871 0.00346372237292 (3161, 98)\n",
      "Pf3D7_14_v3 5_2 gatk_SNP_MIXED 0.0677326330252 0.0361185848814 0.00871307636888 0.00515448705968 (2852, 98)\n",
      "Pf3D7_14_v3 5_2 gatk_INDEL_BIALLELIC 0.0202424357214 0.014939154316 0.00269796303791 0.00181373491989 (431, 98)\n",
      "Pf3D7_14_v3 5_2 gatk_INDEL_MULTIALLELIC 0.0268883631926 0.0406882508303 0.00918384989682 0.00574347353488 (28443, 98)\n"
     ]
    }
   ],
   "source": [
    "for region in ['Pf3D7_14_v3']:\n",
    "    for vfp_tool_config in ['5_2']:\n",
    "        chrom_analysis_vcf_fn = \"%s/vcf/SNP_INDEL_%s_%s.analysis.vcf.gz\" % (output_dir, region, vfp_tool_config)\n",
    "        for variant_type in ['gatk_SNP_BIALLELIC', 'gatk_SNP_MULTIALLELIC', 'gatk_SNP_MIXED', 'gatk_INDEL_BIALLELIC', 'gatk_INDEL_MULTIALLELIC']:\n",
    "            variants = np.load(\"%s.vcfnp_cache/variants.npy\" % chrom_analysis_vcf_fn.replace('analysis', variant_type))\n",
    "            calldata = np.load(\"%s.vcfnp_cache/calldata_2d.npy\" % chrom_analysis_vcf_fn.replace('analysis', variant_type))\n",
    "        #     print(variant_type)\n",
    "            mean_missingness, mean_heterozygosity, mean_discordance, mendelian_error_rate, prop_discordances_per_sample_pair, dims = genotype_concordance_gatk(calldata['GT'])\n",
    "            print(region, vfp_tool_config, variant_type, mean_missingness, mean_heterozygosity, mean_discordance, mendelian_error_rate, dims)\n",
    "#             mean_missingness, mean_heterozygosity, mean_discordance, mendelian_error_rate, prop_discordances_per_sample_pair, dims = genotype_concordance(calldata['GT'], quad_index_first, quad_index_second)\n",
    "#             print(region, vfp_tool_config, variant_type, mean_missingness, mean_heterozygosity, mean_discordance, mendelian_error_rate, dims)"
   ]
  },
  {
   "cell_type": "code",
   "execution_count": 65,
   "metadata": {
    "collapsed": false
   },
   "outputs": [
    {
     "name": "stdout",
     "output_type": "stream",
     "text": [
      "(2810, 98)\n"
     ]
    }
   ],
   "source": [
    "calldata_SNP_BIALLELIC = np.load(\"%s.vcfnp_cache/calldata_2d.npy\" % chrom_analysis_vcf_fn.replace('analysis', 'gatk_SNP_BIALLELIC'))\n",
    "np.unique(calldata_SNP_BIALLELIC['GT'], return_counts=True)\n",
    "print(calldata_SNP_BIALLELIC.shape)"
   ]
  },
  {
   "cell_type": "code",
   "execution_count": 60,
   "metadata": {
    "collapsed": false
   },
   "outputs": [
    {
     "data": {
      "text/plain": [
       "0.0041252088023821624"
      ]
     },
     "execution_count": 60,
     "metadata": {},
     "output_type": "execute_result"
    }
   ],
   "source": [
    "1136/(1899+173626+1136+98719)"
   ]
  },
  {
   "cell_type": "code",
   "execution_count": 59,
   "metadata": {
    "collapsed": false
   },
   "outputs": [
    {
     "data": {
      "text/plain": [
       "'/lustre/scratch109/malaria/rp7/data/pf3k/pilot_5_0/20160607_mendelian_error_duplicate_concordance/vcf/SNP_INDEL_Pf3D7_14_v3_5_2.analysis.vcf.gz'"
      ]
     },
     "execution_count": 59,
     "metadata": {},
     "output_type": "execute_result"
    }
   ],
   "source": [
    "chrom_analysis_vcf_fn"
   ]
  },
  {
   "cell_type": "code",
   "execution_count": 66,
   "metadata": {
    "collapsed": false
   },
   "outputs": [
    {
     "name": "stdout",
     "output_type": "stream",
     "text": [
      "(3046, 98)\n"
     ]
    }
   ],
   "source": [
    "calldata_SNP_BIALLELIC = np.load(\"%s.vcfnp_cache/calldata_2d.npy\" % chrom_analysis_vcf_fn.replace('analysis', 'SNP_BIALLELIC'))\n",
    "np.unique(calldata_SNP_BIALLELIC['GT'], return_counts=True)\n",
    "print(calldata_SNP_BIALLELIC.shape)"
   ]
  },
  {
   "cell_type": "code",
   "execution_count": 63,
   "metadata": {
    "collapsed": false
   },
   "outputs": [
    {
     "data": {
      "text/plain": [
       "275380"
      ]
     },
     "execution_count": 63,
     "metadata": {},
     "output_type": "execute_result"
    }
   ],
   "source": [
    "np.sum(np.array([  1899, 173626,   1136,  98719]))"
   ]
  },
  {
   "cell_type": "code",
   "execution_count": 62,
   "metadata": {
    "collapsed": false
   },
   "outputs": [
    {
     "data": {
      "text/plain": [
       "285964"
      ]
     },
     "execution_count": 62,
     "metadata": {},
     "output_type": "execute_result"
    }
   ],
   "source": [
    "np.sum(np.array([  1802, 184456,   3279,  96427]))"
   ]
  },
  {
   "cell_type": "code",
   "execution_count": 52,
   "metadata": {
    "collapsed": false
   },
   "outputs": [
    {
     "data": {
      "text/plain": [
       "(array([b'./.', b'0/0', b'0/1', b'1/1'], \n",
       "       dtype='|S3'), array([  1899, 173626,   1136,  98719]))"
      ]
     },
     "execution_count": 52,
     "metadata": {},
     "output_type": "execute_result"
    }
   ],
   "source": [
    "np.unique(calldata_SNP_BIALLELIC['GT'], return_counts=True)"
   ]
  },
  {
   "cell_type": "code",
   "execution_count": 152,
   "metadata": {
    "collapsed": false
   },
   "outputs": [
    {
     "name": "stdout",
     "output_type": "stream",
     "text": [
      "[7 8 1 1 1 2 0 2 7 6 8 4 4 3 8 0 3 2]\n",
      "[2986 3011 2849 3029 3034 2849 2855 3032 2995 2990 2988 2968 2997 2988 2936\n",
      " 2982 2972 2989]\n",
      "0.00125350795136\n"
     ]
    },
    {
     "data": {
      "text/plain": [
       "array([ 0.00234427,  0.00265692,  0.000351  ,  0.00033014,  0.0003296 ,\n",
       "        0.000702  ,  0.        ,  0.00065963,  0.00233723,  0.00200669,\n",
       "        0.00267738,  0.00134771,  0.00133467,  0.00100402,  0.0027248 ,\n",
       "        0.        ,  0.00100942,  0.00066912])"
      ]
     },
     "execution_count": 152,
     "metadata": {},
     "output_type": "execute_result"
    }
   ],
   "source": [
    "genotype_concordance()"
   ]
  },
  {
   "cell_type": "code",
   "execution_count": 115,
   "metadata": {
    "collapsed": false
   },
   "outputs": [
    {
     "data": {
      "text/plain": [
       "array([[(b'1', [1, 39]), (b'0', [42, 0]), (b'0', [30, 0]), ...,\n",
       "        (b'0', [81, 0]), (b'0', [39, 0]), (b'0', [68, 0])],\n",
       "       [(b'1', [0, 101]), (b'0', [73, 0]), (b'0', [41, 0]), ...,\n",
       "        (b'0', [121, 0]), (b'0', [66, 0]), (b'0', [97, 0])],\n",
       "       [(b'0', [135, 0]), (b'0', [90, 0]), (b'0', [69, 0]), ...,\n",
       "        (b'0', [120, 0]), (b'0', [119, 0]), (b'0', [135, 0])],\n",
       "       ..., \n",
       "       [(b'0', [67, 0]), (b'0', [60, 0]), (b'0', [37, 0]), ...,\n",
       "        (b'0', [76, 0]), (b'0', [55, 0]), (b'0', [73, 0])],\n",
       "       [(b'0', [67, 0]), (b'0', [60, 0]), (b'0', [37, 0]), ...,\n",
       "        (b'1', [0, 169]), (b'1', [0, 180]), (b'1', [0, 203])],\n",
       "       [(b'0', [67, 0]), (b'0', [60, 0]), (b'0', [37, 0]), ...,\n",
       "        (b'1', [0, 88]), (b'1', [1, 83]), (b'1', [1, 103])]], \n",
       "      dtype=[('GT', 'S3'), ('AD', '<u2', (2,))])"
      ]
     },
     "execution_count": 115,
     "metadata": {},
     "output_type": "execute_result"
    }
   ],
   "source": [
    "calldata_SNP_BIALLELIC[:, rep_index_first]"
   ]
  },
  {
   "cell_type": "code",
   "execution_count": 37,
   "metadata": {
    "collapsed": true
   },
   "outputs": [],
   "source": [
    "variants_crosses = np.load('/nfs/team112_internal/production/release_build/Pf3K/pilot_5_0/SNP_INDEL_WG.combined.filtered.crosses.vcf.gz.vcfnp_cache/variants.npy')"
   ]
  },
  {
   "cell_type": "code",
   "execution_count": 39,
   "metadata": {
    "collapsed": false
   },
   "outputs": [
    {
     "data": {
      "text/plain": [
       "('CHROM',\n",
       " 'POS',\n",
       " 'ID',\n",
       " 'REF',\n",
       " 'ALT',\n",
       " 'QUAL',\n",
       " 'FILTER_Centromere',\n",
       " 'FILTER_InternalHypervariable',\n",
       " 'FILTER_LowQual',\n",
       " 'FILTER_Low_VQSLOD',\n",
       " 'FILTER_PASS',\n",
       " 'FILTER_SubtelomericHypervariable',\n",
       " 'FILTER_SubtelomericRepeat',\n",
       " 'FILTER_VQSRTrancheINDEL99.00to99.90',\n",
       " 'FILTER_VQSRTrancheINDEL99.90to100.00',\n",
       " 'FILTER_VQSRTrancheINDEL99.90to100.00+',\n",
       " 'FILTER_VQSRTrancheSNP99.90to100.00',\n",
       " 'FILTER_VQSRTrancheSNP99.90to100.00+',\n",
       " 'num_alleles',\n",
       " 'is_snp',\n",
       " 'svlen',\n",
       " 'AC',\n",
       " 'AF',\n",
       " 'AN',\n",
       " 'BaseQRankSum',\n",
       " 'ClippingRankSum',\n",
       " 'DP',\n",
       " 'DS',\n",
       " 'END',\n",
       " 'FS',\n",
       " 'GC',\n",
       " 'HaplotypeScore',\n",
       " 'InbreedingCoeff',\n",
       " 'MLEAC',\n",
       " 'MLEAF',\n",
       " 'MQ',\n",
       " 'MQRankSum',\n",
       " 'NEGATIVE_TRAIN_SITE',\n",
       " 'POSITIVE_TRAIN_SITE',\n",
       " 'QD',\n",
       " 'RPA',\n",
       " 'RU',\n",
       " 'ReadPosRankSum',\n",
       " 'RegionType',\n",
       " 'SNPEFF_AMINO_ACID_CHANGE',\n",
       " 'SNPEFF_CODON_CHANGE',\n",
       " 'SNPEFF_EFFECT',\n",
       " 'SNPEFF_EXON_ID',\n",
       " 'SNPEFF_FUNCTIONAL_CLASS',\n",
       " 'SNPEFF_GENE_BIOTYPE',\n",
       " 'SNPEFF_GENE_NAME',\n",
       " 'SNPEFF_IMPACT',\n",
       " 'SNPEFF_TRANSCRIPT_ID',\n",
       " 'SOR',\n",
       " 'STR',\n",
       " 'VQSLOD',\n",
       " 'VariantType',\n",
       " 'culprit',\n",
       " 'set')"
      ]
     },
     "execution_count": 39,
     "metadata": {},
     "output_type": "execute_result"
    }
   ],
   "source": [
    "variants_crosses.dtype.names"
   ]
  },
  {
   "cell_type": "code",
   "execution_count": 40,
   "metadata": {
    "collapsed": false
   },
   "outputs": [
    {
     "data": {
      "text/plain": [
       "array([b'DELETION.NOVEL_10orMore',\n",
       "       b'DELETION.NumRepetitions_1.EventLength_1.',\n",
       "       b'DELETION.NumRepetitions_1.EventLength_2.',\n",
       "       b'DELETION.NumRepetitions_1.EventLength_3',\n",
       "       b'DELETION.NumRepetitions_1.EventLength_4',\n",
       "       b'DELETION.NumRepetitions_1.EventLength_5',\n",
       "       b'DELETION.NumRepetitions_1.EventLength_6',\n",
       "       b'DELETION.NumRepetitions_1.EventLength_7',\n",
       "       b'DELETION.NumRepetitions_1.EventLength_8',\n",
       "       b'DELETION.NumRepetitions_1.EventLength_9',\n",
       "       b'DELETION.NumRepetitions_2.EventLength_1.',\n",
       "       b'DELETION.NumRepetitions_2.EventLength_2.',\n",
       "       b'DELETION.NumRepetitions_2.EventLength_3',\n",
       "       b'DELETION.NumRepetitions_2.EventLength_4',\n",
       "       b'DELETION.NumRepetitions_3.EventLength_1.',\n",
       "       b'DELETION.NumRepetitions_3.EventLength_2.',\n",
       "       b'DELETION.NumRepetitions_3.EventLength_3',\n",
       "       b'DELETION.NumRepetitions_4.EventLength_1.',\n",
       "       b'DELETION.NumRepetitions_4.EventLength_2.',\n",
       "       b'DELETION.NumRepetitions_5.EventLength_1.',\n",
       "       b'DELETION.NumRepetitions_6.EventLength_1.',\n",
       "       b'DELETION.NumRepetitions_7.EventLength_1.',\n",
       "       b'DELETION.NumRepetitions_8.EventLength_1.',\n",
       "       b'DELETION.NumRepetitions_9.EventLength_1.',\n",
       "       b'INSERTION.NOVEL_1.Novel_A', b'INSERTION.NOVEL_1.Novel_C',\n",
       "       b'INSERTION.NOVEL_1.Novel_G', b'INSERTION.NOVEL_1.Novel_T',\n",
       "       b'INSERTION.NOVEL_10orMore', b'INSERTION.NOVEL_2',\n",
       "       b'INSERTION.NOVEL_3', b'INSERTION.NOVEL_4', b'INSERTION.NOVEL_5',\n",
       "       b'INSERTION.NOVEL_6', b'INSERTION.NOVEL_7', b'INSERTION.NOVEL_8',\n",
       "       b'INSERTION.NOVEL_9', b'INSERTION.NumRepetitions_1.EventLength_1',\n",
       "       b'INSERTION.NumRepetitions_1.EventLength_2',\n",
       "       b'INSERTION.NumRepetitions_1.EventLength_3',\n",
       "       b'INSERTION.NumRepetitions_1.EventLength_4',\n",
       "       b'INSERTION.NumRepetitions_1.EventLength_5',\n",
       "       b'INSERTION.NumRepetitions_1.EventLength_6',\n",
       "       b'INSERTION.NumRepetitions_1.EventLength_7',\n",
       "       b'INSERTION.NumRepetitions_1.EventLength_8',\n",
       "       b'INSERTION.NumRepetitions_1.EventLength_9',\n",
       "       b'INSERTION.NumRepetitions_2.EventLength_1',\n",
       "       b'INSERTION.NumRepetitions_2.EventLength_2',\n",
       "       b'INSERTION.NumRepetitions_2.EventLength_3',\n",
       "       b'INSERTION.NumRepetitions_2.EventLength_4',\n",
       "       b'INSERTION.NumRepetitions_3.EventLength_1',\n",
       "       b'INSERTION.NumRepetitions_3.EventLength_2',\n",
       "       b'INSERTION.NumRepetitions_3.EventLength_3',\n",
       "       b'INSERTION.NumRepetitions_4.EventLength_1',\n",
       "       b'INSERTION.NumRepetitions_4.EventLength_2',\n",
       "       b'INSERTION.NumRepetitions_5.EventLength_1',\n",
       "       b'INSERTION.NumRepetitions_6.EventLength_1',\n",
       "       b'INSERTION.NumRepetitions_7.EventLength_1',\n",
       "       b'INSERTION.NumRepetitions_8.EventLength_1',\n",
       "       b'INSERTION.NumRepetitions_9.EventLength_1',\n",
       "       b'MULTIALLELIC_COMPLEX.Other', b'MULTIALLELIC_MIXED',\n",
       "       b'MULTIALLELIC_SNP', b'SNP'], \n",
       "      dtype='|S40')"
      ]
     },
     "execution_count": 40,
     "metadata": {},
     "output_type": "execute_result"
    }
   ],
   "source": [
    "np.unique(variants_crosses['VariantType'])"
   ]
  },
  {
   "cell_type": "code",
   "execution_count": 44,
   "metadata": {
    "collapsed": false
   },
   "outputs": [
    {
     "data": {
      "text/plain": [
       "325"
      ]
     },
     "execution_count": 44,
     "metadata": {},
     "output_type": "execute_result"
    }
   ],
   "source": [
    "del(variants_crosses)\n",
    "gc.collect()"
   ]
  },
  {
   "cell_type": "code",
   "execution_count": null,
   "metadata": {
    "collapsed": true
   },
   "outputs": [],
   "source": [
    "2+2"
   ]
  },
  {
   "cell_type": "code",
   "execution_count": null,
   "metadata": {
    "collapsed": true
   },
   "outputs": [],
   "source": []
  }
 ],
 "metadata": {
  "kernelspec": {
   "display_name": "Python 3",
   "language": "python",
   "name": "python3"
  },
  "language_info": {
   "codemirror_mode": {
    "name": "ipython",
    "version": 3
   },
   "file_extension": ".py",
   "mimetype": "text/x-python",
   "name": "python",
   "nbconvert_exporter": "python",
   "pygments_lexer": "ipython3",
   "version": "3.4.3"
  }
 },
 "nbformat": 4,
 "nbformat_minor": 0
}
