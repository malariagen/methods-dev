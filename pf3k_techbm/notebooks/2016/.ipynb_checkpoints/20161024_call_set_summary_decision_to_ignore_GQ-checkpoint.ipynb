{
 "cells": [
  {
   "cell_type": "markdown",
   "metadata": {},
   "source": [
    "# To fix\n"
   ]
  },
  {
   "cell_type": "markdown",
   "metadata": {},
   "source": [
    "# Plan\n",
    "- Create an annotation file with VARIANT_TYPE, MULTIALLELIC and CDS using code from 20160722_mendelian_error_duplicate_concordance\n",
    "- Function to create, for a given sample and GQ threshold, a list of variants (maybe using bcftools)\n",
    "- Create confusion matrix from GATK and Thomas versions\n",
    "- Function to create, for a sample, TP, FPhom, FPhet, FN, broken down by coding/variant_type/multi-allelic\n",
    "- Function to create sum of these across 5 samples\n",
    "- Function to turn this into a table\n",
    "- 3 (FPhom, FPhet, FPall) GQ ROC (FDR vs sensitivity) for coding/variant_type/multi-allelic (12 lines) across all samples\n",
    "- GQ ROC (FDR vs sensitivity) for coding/variant_type/FPtype (12 lines) across all samples\n",
    "- 12 GQ ROCs with line for each sample\n",
    "- VQSLOD ROCs for coding/variant_type/multi-allelic (12 lines) across all samples\n",
    "- 12 VQSLOD ROCs with line for each sample\n",
    "- Does VQSLOD threshold 0 look sane?\n",
    "- Create table for given GQ threshold\n",
    "- Create table for no GQ or VQSLOD threshold\n",
    "- Create table for GQ=99 and VQSLOD>=6\n",
    "\n",
    "\n",
    "- Create VCF with genotypes filtered by GQ (i.e. missing if GQ < threshold)\n",
    "- Calculate summary of full data set\n",
    "- Calculate crosses variables\n",
    "- Calculate FDR/sensitivity"
   ]
  },
  {
   "cell_type": "code",
   "execution_count": 1,
   "metadata": {
    "collapsed": false
   },
   "outputs": [
    {
     "name": "stdout",
     "output_type": "stream",
     "text": [
      "python 3.4.5 |Anaconda 2.2.0 (64-bit)| (default, Jul  2 2016, 17:47:47) \n",
      "[GCC 4.4.7 20120313 (Red Hat 4.4.7-1)]\n",
      "numpy 1.11.1\n",
      "scipy 0.18.0\n",
      "pandas 0.19.0\n",
      "numexpr 2.6.1\n",
      "pysam 0.9.1.4\n",
      "pysamstats 0.24.3\n",
      "petl 1.1.0\n",
      "petlx 1.0.3\n",
      "vcf 0.6.8\n",
      "vcfnp 2.3.0.dev0\n",
      "h5py 2.4.0\n",
      "tables 3.1.1\n"
     ]
    }
   ],
   "source": [
    "%run _standard_imports.ipynb\n",
    "%run _shared_setup.ipynb\n",
    "%run _plotting_setup.ipynb"
   ]
  },
  {
   "cell_type": "code",
   "execution_count": 2,
   "metadata": {
    "collapsed": true
   },
   "outputs": [],
   "source": [
    "release5_final_files_dir = '/nfs/team112_internal/production/release_build/Pf3K/pilot_5_0'\n",
    "# chrom_vcf_fn = \"%s/SNP_INDEL_Pf3D7_14_v3.combined.filtered.vcf.gz\" % (release5_final_files_dir)\n",
    "wg_vcf_fn = \"%s/SNP_INDEL_WG.combined.filtered.vcf.gz\" % (release5_final_files_dir)\n",
    "crosses_vcf_fn = \"%s/SNP_INDEL_WG.combined.filtered.crosses.vcf.gz\" % (release5_final_files_dir)\n",
    "sites_only_vcf_fn = \"%s/SNP_INDEL_WG.combined.filtered.sites.vcf.gz\" % (release5_final_files_dir)\n",
    "pacbio_vcf_fn = \"/nfs/team112_internal/rp7/data/pf3k/pacbio_3/vcf/pf3k_pacbio_3.vcf.gz\" # See 20161012_pf3k_pacbio_3_setup.ipynb\n",
    "\n",
    "output_dir = \"/lustre/scratch109/malaria/rp7/data/pf3k/pilot_5_0/20161019_call_set_summary\"\n",
    "!mkdir -p {output_dir}/vcf\n",
    "\n",
    "fdr_vcf_fn = \"%s/vcf/SNP_INDEL_WG.combined.filtered.fdr.vcf.gz\" % output_dir\n",
    "pacbio_fdr_vcf_fn = \"%s/vcf/pf3k_pacbio_3.fdr.vcf.gz\" % output_dir\n",
    "release5_crosses_metadata_txt_fn = '../../meta/pf3k_release_5_crosses_metadata.txt'\n",
    "release5_mixtures_metadata_txt_fn = '../../meta/pf3k_release_5_mixtures_metadata.txt'\n",
    "gff_fn = \"%s/Pfalciparum.noseq.gff3.gz\" % output_dir\n",
    "cds_gff_fn = \"%s/Pfalciparum.noseq.gff3.cds.gz\" % output_dir\n",
    "core_bed_fn = '/nfs/users/nfs_r/rp7/temp_github_src/pf-crosses/meta/regions-20130115.Conserved.bed'\n",
    "\n",
    "summary_table_fn = \"%s/callset_summary.xlsx\" % output_dir\n",
    "# simplifed_counts_table_fn = \"%s/simplified_variant_counts.xlsx\" % output_dir\n",
    "\n",
    "GENOME_FN = \"/lustre/scratch109/malaria/pf3k_methods/resources/Pfalciparum.genome.fasta\"\n",
    "\n",
    "BCFTOOLS = '/nfs/team112_internal/rp7/src/github/malariagen/methods-dev/pf3k_techbm/opt_4/bcftools/bcftools'\n",
    "GATK = '/software/jre1.7.0_25/bin/java -jar /nfs/team112_internal/production/tools/bin/gatk/GenomeAnalysisTK-3.4-46/GenomeAnalysisTK.jar'"
   ]
  },
  {
   "cell_type": "code",
   "execution_count": 3,
   "metadata": {
    "collapsed": false
   },
   "outputs": [
    {
     "data": {
      "text/plain": [
       "'/nfs/team112_internal/production/release_build/Pf3K/pilot_5_0/SNP_INDEL_WG.combined.filtered.vcf.gz'"
      ]
     },
     "execution_count": 3,
     "metadata": {},
     "output_type": "execute_result"
    }
   ],
   "source": [
    "wg_vcf_fn"
   ]
  },
  {
   "cell_type": "code",
   "execution_count": 4,
   "metadata": {
    "collapsed": false
   },
   "outputs": [
    {
     "data": {
      "text/plain": [
       "array(['Pf7G8', 'PfGB4', 'PfGN01', 'PfKE01', 'PfKH02'], \n",
       "      dtype='<U6')"
      ]
     },
     "execution_count": 4,
     "metadata": {},
     "output_type": "execute_result"
    }
   ],
   "source": [
    "pacbio_vcf_reader = vcf.Reader(filename=pacbio_vcf_fn)\n",
    "pacbio_samples = np.array(pacbio_vcf_reader.samples)\n",
    "pacbio_samples"
   ]
  },
  {
   "cell_type": "code",
   "execution_count": 5,
   "metadata": {
    "collapsed": true
   },
   "outputs": [],
   "source": [
    "fdr_samples = collections.OrderedDict()\n",
    "fdr_samples['Pf7G8'] = '7G8' # This is 76bp crosses parent\n",
    "fdr_samples['PfGB4'] = 'GB4' # This is 76bp crosses parent\n",
    "fdr_samples['PfGN01'] = 'ERS740940' # This is 100bp version created from 250bp MiSeq data\n",
    "fdr_samples['PfKE01'] = 'ERS740937' # This is 100bp version created from 250bp MiSeq data\n",
    "# fdr_samples['PfKH02'] = 'PH0197-C' # This is 76bp originally sequenced sample. There is also 100bp version created from 250bp MiSeq data (ERS740936)\n",
    "fdr_samples['PfKH02'] = 'ERS740936' # This is 100bp version created from 250bp MiSeq data, There is also 76bp originally sequenced sample (PH0197-C)"
   ]
  },
  {
   "cell_type": "code",
   "execution_count": 6,
   "metadata": {
    "collapsed": false
   },
   "outputs": [
    {
     "data": {
      "text/plain": [
       "'7G8,GB4,ERS740940,ERS740937,ERS740936'"
      ]
     },
     "execution_count": 6,
     "metadata": {},
     "output_type": "execute_result"
    }
   ],
   "source": [
    "fdr_samples_text = ','.join(list(fdr_samples.values()))\n",
    "fdr_samples_text"
   ]
  },
  {
   "cell_type": "code",
   "execution_count": 7,
   "metadata": {
    "collapsed": false
   },
   "outputs": [
    {
     "name": "stdout",
     "output_type": "stream",
     "text": [
      "--2016-10-22 12:07:20--  ftp://ftp.sanger.ac.uk/pub/project/pathogens/gff3/2016-06/Pfalciparum.noseq.gff3.gz\n",
      "           => `/lustre/scratch109/malaria/rp7/data/pf3k/pilot_5_0/20161019_call_set_summary/Pfalciparum.noseq.gff3.gz'\n",
      "Resolving ftp.sanger.ac.uk (ftp.sanger.ac.uk)... 193.62.203.17\n",
      "Connecting to ftp.sanger.ac.uk (ftp.sanger.ac.uk)|193.62.203.17|:21... connected.\n",
      "Logging in as anonymous ... Logged in!\n",
      "==> SYST ... done.    ==> PWD ... done.\n",
      "==> TYPE I ... done.  ==> CWD (1) /pub/project/pathogens/gff3/2016-06 ... done.\n",
      "==> SIZE Pfalciparum.noseq.gff3.gz ... 4852221\n",
      "==> PASV ... done.    ==> RETR Pfalciparum.noseq.gff3.gz ... done.\n",
      "Length: 4852221 (4.6M) (unauthoritative)\n",
      "\n",
      "100%[======================================>] 4,852,221   --.-K/s   in 0.05s   \n",
      "\n",
      "2016-10-22 12:07:20 (98.3 MB/s) - `/lustre/scratch109/malaria/rp7/data/pf3k/pilot_5_0/20161019_call_set_summary/Pfalciparum.noseq.gff3.gz' saved [4852221]\n",
      "\n"
     ]
    }
   ],
   "source": [
    "!wget ftp://ftp.sanger.ac.uk/pub/project/pathogens/gff3/2016-06/Pfalciparum.noseq.gff3.gz \\\n",
    "    -O {gff_fn}"
   ]
  },
  {
   "cell_type": "code",
   "execution_count": 8,
   "metadata": {
    "collapsed": true
   },
   "outputs": [],
   "source": [
    "!zgrep CDS {gff_fn} | sort -k1,1 -k4n,5n | cut -f 1,4,5 | sed 's/$/\\t1/' | bgzip -c > {cds_gff_fn} && tabix -s1 -b2 -e3 {cds_gff_fn}"
   ]
  },
  {
   "cell_type": "code",
   "execution_count": 9,
   "metadata": {
    "collapsed": true
   },
   "outputs": [],
   "source": [
    "annotations_header_fn = \"%s/vcf/annotations.hdr\" % (output_dir)\n",
    "fo=open(annotations_header_fn, 'w')\n",
    "print('##INFO=<ID=CDS,Number=0,Type=Flag,Description=\"Is position coding\">', file=fo)\n",
    "print('##INFO=<ID=VARIANT_TYPE,Number=1,Type=String,Description=\"SNP or indel (IND)\">', file=fo)\n",
    "print('##INFO=<ID=MULTIALLELIC,Number=1,Type=String,Description=\"Is position biallelic (BI), biallelic plus spanning deletion (SD) or truly multiallelic (MU)\">', file=fo)\n",
    "fo.close()"
   ]
  },
  {
   "cell_type": "code",
   "execution_count": null,
   "metadata": {
    "collapsed": true
   },
   "outputs": [],
   "source": []
  },
  {
   "cell_type": "code",
   "execution_count": 8,
   "metadata": {
    "collapsed": false
   },
   "outputs": [],
   "source": [
    "def create_multiallelics_file(input_vcf_fn=sites_only_vcf_fn, multiallelics_fn=None):\n",
    "    if multiallelics_fn is None:\n",
    "        multiallelics_fn = \"%s/vcf/SNP_INDEL_WG.sites.multiallelics.txt\" % (output_dir)\n",
    "    fo = open(multiallelics_fn, 'w')\n",
    "    input_vcf_reader = vcf.Reader(filename=input_vcf_fn)\n",
    "#     for record in input_vcf_reader.fetch('Pf3D7_01_v3', 29000, 29100):\n",
    "    for record in input_vcf_reader:\n",
    "        if len(record.ALT) == 1:\n",
    "            multiallelic = 'BI'\n",
    "        elif len(record.ALT) == 2 and (record.ALT[0] == '*' or record.ALT[1] == '*'):\n",
    "            multiallelic = 'SD'\n",
    "        else:\n",
    "            multiallelic = 'MU'\n",
    "#         print(multiallelic, record.ALT)\n",
    "        print(\"%s\\t%s\\t%s\\t%s\\t%s\" % (\n",
    "                record.CHROM,\n",
    "                record.POS,\n",
    "                record.REF,\n",
    "                \",\".join([str(x) for x in record.ALT]),\n",
    "                multiallelic), file=fo)\n",
    "    fo.close()\n",
    "    \n",
    "    !bgzip {multiallelics_fn} && tabix -s1 -b2 -e2 {multiallelics_fn}.gz"
   ]
  },
  {
   "cell_type": "code",
   "execution_count": 85,
   "metadata": {
    "collapsed": false
   },
   "outputs": [],
   "source": [
    "temp = create_multiallelics_file()\n",
    "temp"
   ]
  },
  {
   "cell_type": "code",
   "execution_count": 9,
   "metadata": {
    "collapsed": false
   },
   "outputs": [],
   "source": [
    "def create_annotation_file(input_vcf_fn=sites_only_vcf_fn, annotation_fn=None, BCFTOOLS=BCFTOOLS, rewrite=False):\n",
    "    if annotation_fn is None:\n",
    "        annotation_fn = \"%s/vcf/SNP_INDEL_WG.sites.annotation.txt.gz\" % (output_dir)\n",
    "                                               \n",
    "    intermediate_fns = collections.OrderedDict()\n",
    "    for intermediate_file in ['snp', 'indel', 'multiallelics']:\n",
    "        intermediate_fns[intermediate_file] = annotation_fn.replace('annotation', intermediate_file)\n",
    "\n",
    "    if rewrite or not os.path.exists(intermediate_fns['snp']):\n",
    "        !{BCFTOOLS} query -f'%CHROM\\t%POS\\t%REF\\t%ALT\\tSNP\\n' --include 'TYPE=\"snp\"' {input_vcf_fn} | \\\n",
    "        bgzip -c > {intermediate_fns['snp']} && tabix -s1 -b2 -e2 -f {intermediate_fns['snp']}\n",
    "\n",
    "    if rewrite or not os.path.exists(intermediate_fns['indel']):\n",
    "        !{BCFTOOLS} query -f'%CHROM\\t%POS\\t%REF\\t%ALT\\tINDEL\\n' --include 'TYPE!=\"snp\"' {input_vcf_fn} | \\\n",
    "        bgzip -c > {intermediate_fns['indel']} && tabix -s1 -b2 -e2 -f {intermediate_fns['indel']}\n",
    "\n",
    "    if rewrite or not os.path.exists(intermediate_fns['multiallelics']):\n",
    "        create_multiallelics_file(input_vcf_fn, \"%s/vcf/pf3k_pacbio_3.multiallelics.txt\" % (output_dir))\n",
    "        \n",
    "    if rewrite or not os.path.exists(annotation_fn):\n",
    "        !{BCFTOOLS} annotate -a {cds_gff_fn} -c CHROM,FROM,TO,CDS -h {annotations_header_fn} {input_vcf_fn} | \\\n",
    "        {BCFTOOLS} annotate -a {intermediate_fns['snp']} -c CHROM,POS,REF,ALT,INFO/VARIANT_TYPE | \\\n",
    "        {BCFTOOLS} annotate -a {intermediate_fns['indel']} -c CHROM,POS,REF,ALT,INFO/VARIANT_TYPE | \\\n",
    "        {BCFTOOLS} annotate -a {intermediate_fns['multiallelics']} -c CHROM,POS,REF,ALT,INFO/MULTIALLELIC | \\\n",
    "        {BCFTOOLS} query -f'%CHROM\\t%POS\\t%REF\\t%ALT\\t%CDS\\t%VARIANT_TYPE\\t%MULTIALLELIC\\n' | \\\n",
    "        bgzip -c > {annotation_fn}\n",
    "        !tabix -s1 -b2 -e2 {annotation_fn}\n",
    "      "
   ]
  },
  {
   "cell_type": "code",
   "execution_count": 87,
   "metadata": {
    "collapsed": false
   },
   "outputs": [],
   "source": [
    "create_annotation_file()"
   ]
  },
  {
   "cell_type": "code",
   "execution_count": 13,
   "metadata": {
    "collapsed": false
   },
   "outputs": [],
   "source": [
    "create_annotation_file(pacbio_vcf_fn, \"%s/vcf/pf3k_pacbio_3.annotation.txt.gz\" % (output_dir))"
   ]
  },
  {
   "cell_type": "code",
   "execution_count": 12,
   "metadata": {
    "collapsed": false
   },
   "outputs": [
    {
     "name": "stdout",
     "output_type": "stream",
     "text": [
      "2561890\n",
      "1650575\n"
     ]
    },
    {
     "data": {
      "text/plain": [
       "4212465"
      ]
     },
     "execution_count": 12,
     "metadata": {},
     "output_type": "execute_result"
    }
   ],
   "source": [
    "!zgrep SNP /lustre/scratch109/malaria/rp7/data/pf3k/pilot_5_0/20161019_call_set_summary/vcf/SNP_INDEL_WG.sites.annotation.txt.gz | wc -l\n",
    "!zgrep INDEL /lustre/scratch109/malaria/rp7/data/pf3k/pilot_5_0/20161019_call_set_summary/vcf/SNP_INDEL_WG.sites.annotation.txt.gz | wc -l\n",
    "# zgrep SNP SNP_INDEL_WG.sites.annotation.txt.gz | wc -l\n",
    "# zgrep INDEL SNP_INDEL_WG.sites.annotation.txt.gz | wc -l\n",
    "\n",
    "2561890+1650575"
   ]
  },
  {
   "cell_type": "code",
   "execution_count": 90,
   "metadata": {
    "collapsed": false
   },
   "outputs": [
    {
     "name": "stdout",
     "output_type": "stream",
     "text": [
      "1267853\n",
      "2116676\n",
      "827936\n",
      "1267853\n",
      "2116676\n",
      "827936\n"
     ]
    },
    {
     "data": {
      "text/plain": [
       "4212465"
      ]
     },
     "execution_count": 90,
     "metadata": {},
     "output_type": "execute_result"
    }
   ],
   "source": [
    "# Here sanity checking that:\n",
    "# a) Multi-allelic annotations are added 1-1\n",
    "# b) Every position has a multi-allelic annotation\n",
    "\n",
    "!zgrep MU /lustre/scratch109/malaria/rp7/data/pf3k/pilot_5_0/20161019_call_set_summary/vcf/SNP_INDEL_WG.sites.annotation.txt.gz | wc -l\n",
    "!zgrep BI /lustre/scratch109/malaria/rp7/data/pf3k/pilot_5_0/20161019_call_set_summary/vcf/SNP_INDEL_WG.sites.annotation.txt.gz | wc -l\n",
    "!zgrep SD /lustre/scratch109/malaria/rp7/data/pf3k/pilot_5_0/20161019_call_set_summary/vcf/SNP_INDEL_WG.sites.annotation.txt.gz | wc -l\n",
    "\n",
    "!zgrep MU /lustre/scratch109/malaria/rp7/data/pf3k/pilot_5_0/20161019_call_set_summary/vcf/SNP_INDEL_WG.sites.multiallelics.txt.gz | wc -l\n",
    "!zgrep BI /lustre/scratch109/malaria/rp7/data/pf3k/pilot_5_0/20161019_call_set_summary/vcf/SNP_INDEL_WG.sites.multiallelics.txt.gz | wc -l\n",
    "!zgrep SD /lustre/scratch109/malaria/rp7/data/pf3k/pilot_5_0/20161019_call_set_summary/vcf/SNP_INDEL_WG.sites.multiallelics.txt.gz | wc -l\n",
    "\n",
    "# zgrep MU SNP_INDEL_WG.sites.annotation.txt.gz | wc -l\n",
    "# zgrep BI SNP_INDEL_WG.sites.annotation.txt.gz | wc -l\n",
    "# zgrep SD SNP_INDEL_WG.sites.annotation.txt.gz | wc -l\n",
    "\n",
    "# 1180582+2118683+913200\n",
    "1267853+2116676+827936"
   ]
  },
  {
   "cell_type": "code",
   "execution_count": 91,
   "metadata": {
    "collapsed": false
   },
   "outputs": [
    {
     "name": "stdout",
     "output_type": "stream",
     "text": [
      "Lines   total/split/realigned/skipped:\t283133/253218/339064/0\r\n"
     ]
    }
   ],
   "source": [
    "# This command is slow (~1.5 hours)\n",
    "\n",
    "annotation_fn = \"%s/vcf/SNP_INDEL_WG.sites.annotation.txt.gz\" % (output_dir)\n",
    "\n",
    "# !{BCFTOOLS} view --regions Pf3D7_01_v3:29000-30000 --min-ac 1 -s {fdr_samples_text} {wg_vcf_fn} | \\\n",
    "!{BCFTOOLS} view --regions-file {core_bed_fn} --min-ac 1 -s {fdr_samples_text} {wg_vcf_fn} | \\\n",
    "{BCFTOOLS} norm -m -any --fasta-ref {GENOME_FN} | \\\n",
    "{BCFTOOLS} view --include 'ALT!=\"*\"' | \\\n",
    "{BCFTOOLS} annotate -h {annotations_header_fn} \\\n",
    "-a {annotation_fn} -c CHROM,POS,REF,ALT,CDS,VARIANT_TYPE,MULTIALLELIC \\\n",
    "--include 'INFO/AC>0' \\\n",
    "--remove ^INFO/AC,INFO/AN,INFO/AF,INFO/VQSLOD,^FORMAT/GT,FORMAT/AD,FORMAT/GQ -Oz -o {fdr_vcf_fn}\n",
    "\n",
    "!{BCFTOOLS} index --tbi {fdr_vcf_fn}"
   ]
  },
  {
   "cell_type": "code",
   "execution_count": 90,
   "metadata": {
    "collapsed": false
   },
   "outputs": [
    {
     "name": "stdout",
     "output_type": "stream",
     "text": [
      "Lines   total/split/realigned/skipped:\t138566/50292/48401/0\r\n"
     ]
    }
   ],
   "source": [
    "pacbio_annotation_fn = \"%s/vcf/pf3k_pacbio_3.annotation.txt.gz\" % (output_dir)\n",
    "\n",
    "!{BCFTOOLS} view --regions-file {core_bed_fn} --min-ac 1 {pacbio_vcf_fn} | \\\n",
    "{BCFTOOLS} norm -m -any --fasta-ref {GENOME_FN} | \\\n",
    "{BCFTOOLS} view --include 'ALT!=\"*\"' | \\\n",
    "{BCFTOOLS} annotate -h {annotations_header_fn} \\\n",
    "-a {pacbio_annotation_fn} -c CHROM,POS,REF,ALT,CDS,VARIANT_TYPE,MULTIALLELIC \\\n",
    "--include 'INFO/AC>0' \\\n",
    "--remove ^INFO/AC,INFO/AN,^FORMAT/GT,FORMAT/AD,FORMAT/GQ -Oz -o {pacbio_fdr_vcf_fn}\n",
    "\n",
    "!{BCFTOOLS} index --tbi {pacbio_fdr_vcf_fn}"
   ]
  },
  {
   "cell_type": "code",
   "execution_count": 93,
   "metadata": {
    "collapsed": true
   },
   "outputs": [],
   "source": [
    "def create_variants_npy(vcf_fn):\n",
    "    output_dir = '%s.vcfnp_cache' % vcf_fn\n",
    "    if not os.path.exists(output_dir):\n",
    "        os.makedirs(output_dir)\n",
    "    vcfnp.variants(\n",
    "        vcf_fn,\n",
    "        fields=['CHROM', 'POS', 'REF', 'ALT', 'CDS', 'VARIANT_TYPE', 'MULTIALLELIC',\n",
    "                'AC', 'AN', 'FILTER'],\n",
    "        dtypes={\n",
    "            'REF':                      'a200',\n",
    "            'ALT':                      'a200',\n",
    "            'VARIANT_TYPE':             'a3',\n",
    "            'CDS':                      bool,\n",
    "            'MULTIALLELIC':             'a2',\n",
    "        },\n",
    "        arities={\n",
    "            'ALT':   1,\n",
    "            'AC':    1,\n",
    "        },\n",
    "        flatten_filter=True,\n",
    "        progress=100000,\n",
    "        verbose=True,\n",
    "        cache=True,\n",
    "        cachedir=output_dir\n",
    "    )\n",
    "\n",
    "def create_calldata_npy(vcf_fn, max_alleles=2):\n",
    "    output_dir = '%s.vcfnp_cache' % vcf_fn\n",
    "    if not os.path.exists(output_dir):\n",
    "        os.makedirs(output_dir)\n",
    "    vcfnp.calldata_2d(\n",
    "        vcf_fn,\n",
    "        fields=['GT', 'AD', 'GQ'],\n",
    "        dtypes={\n",
    "            'AD': 'u2',\n",
    "        },\n",
    "        arities={\n",
    "            'AD': max_alleles,\n",
    "        },\n",
    "        progress=100000,\n",
    "        verbose=True,\n",
    "        cache=True,\n",
    "        cachedir=output_dir\n",
    "    )\n"
   ]
  },
  {
   "cell_type": "code",
   "execution_count": 94,
   "metadata": {
    "collapsed": false
   },
   "outputs": [
    {
     "name": "stderr",
     "output_type": "stream",
     "text": [
      "[vcfnp] 2016-10-21 11:11:23.898359 :: caching is enabled\n",
      "[vcfnp] 2016-10-21 11:11:23.900831 :: no cache file found\n",
      "[vcfnp] 2016-10-21 11:11:23.901873 :: building array\n",
      "[vcfnp] 2016-10-21 11:11:26.745341 :: 100000 rows in 2.80s; batch in 2.80s (35757 rows/s)\n",
      "[vcfnp] 2016-10-21 11:11:28.575096 :: 169464 rows in 4.63s (36629 rows/s)\n",
      "[vcfnp] 2016-10-21 11:11:28.576519 :: saving to cache file /lustre/scratch109/malaria/rp7/data/pf3k/pilot_5_0/20161019_call_set_summary/vcf/SNP_INDEL_WG.combined.filtered.fdr.vcf.gz.vcfnp_cache/variants.npy\n",
      "[vcfnp] 2016-10-21 11:11:28.723833 :: caching is enabled\n",
      "[vcfnp] 2016-10-21 11:11:28.733069 :: no cache file found\n",
      "[vcfnp] 2016-10-21 11:11:28.734260 :: building array\n",
      "[vcfnp] 2016-10-21 11:11:33.669547 :: 100000 rows in 4.88s; batch in 4.88s (20491 rows/s)\n",
      "[vcfnp] 2016-10-21 11:11:36.939550 :: 169464 rows in 8.15s (20792 rows/s)\n",
      "[vcfnp] 2016-10-21 11:11:36.941084 :: saving to cache file /lustre/scratch109/malaria/rp7/data/pf3k/pilot_5_0/20161019_call_set_summary/vcf/SNP_INDEL_WG.combined.filtered.fdr.vcf.gz.vcfnp_cache/calldata_2d.npy\n"
     ]
    }
   ],
   "source": [
    "create_variants_npy(fdr_vcf_fn)\n",
    "create_calldata_npy(fdr_vcf_fn)\n"
   ]
  },
  {
   "cell_type": "code",
   "execution_count": 95,
   "metadata": {
    "collapsed": false
   },
   "outputs": [
    {
     "name": "stderr",
     "output_type": "stream",
     "text": [
      "[vcfnp] 2016-10-21 11:11:41.646747 :: caching is enabled\n",
      "[vcfnp] 2016-10-21 11:11:41.649909 :: no cache file found\n",
      "[vcfnp] 2016-10-21 11:11:41.651157 :: building array\n",
      "[vcfnp] 2016-10-21 11:11:44.028893 :: 100000 rows in 2.30s; batch in 2.30s (43455 rows/s)\n",
      "[vcfnp] 2016-10-21 11:11:46.094792 :: 200000 rows in 4.37s; batch in 2.07s (48405 rows/s)\n",
      "[vcfnp] 2016-10-21 11:11:46.327683 :: 210538 rows in 4.60s (45768 rows/s)\n",
      "[vcfnp] 2016-10-21 11:11:46.329374 :: saving to cache file /lustre/scratch109/malaria/rp7/data/pf3k/pilot_5_0/20161019_call_set_summary/vcf/pf3k_pacbio_3.fdr.vcf.gz.vcfnp_cache/variants.npy\n",
      "[vcfnp] 2016-10-21 11:11:46.494958 :: caching is enabled\n",
      "[vcfnp] 2016-10-21 11:11:46.497579 :: no cache file found\n",
      "[vcfnp] 2016-10-21 11:11:46.499799 :: building array\n",
      "[vcfnp] 2016-10-21 11:11:51.008049 :: 100000 rows in 4.49s; batch in 4.49s (22295 rows/s)\n",
      "[vcfnp] 2016-10-21 11:11:55.522822 :: 200000 rows in 9.00s; batch in 4.51s (22149 rows/s)\n",
      "[vcfnp] 2016-10-21 11:11:56.010554 :: 210538 rows in 9.49s (22190 rows/s)\n",
      "[vcfnp] 2016-10-21 11:11:56.012318 :: saving to cache file /lustre/scratch109/malaria/rp7/data/pf3k/pilot_5_0/20161019_call_set_summary/vcf/pf3k_pacbio_3.fdr.vcf.gz.vcfnp_cache/calldata_2d.npy\n"
     ]
    }
   ],
   "source": [
    "create_variants_npy(pacbio_fdr_vcf_fn)\n",
    "create_calldata_npy(pacbio_fdr_vcf_fn)\n"
   ]
  },
  {
   "cell_type": "code",
   "execution_count": 10,
   "metadata": {
    "collapsed": true
   },
   "outputs": [],
   "source": [
    "gatk_variants = np.load(\"%s.vcfnp_cache/variants.npy\" % fdr_vcf_fn)\n",
    "gatk_calldata = np.load(\"%s.vcfnp_cache/calldata_2d.npy\" % fdr_vcf_fn)\n",
    "\n",
    "pacbio_variants = np.load(\"%s.vcfnp_cache/variants.npy\" % pacbio_fdr_vcf_fn)\n",
    "pacbio_calldata = np.load(\"%s.vcfnp_cache/calldata_2d.npy\" % pacbio_fdr_vcf_fn)\n"
   ]
  },
  {
   "cell_type": "code",
   "execution_count": 11,
   "metadata": {
    "collapsed": false
   },
   "outputs": [
    {
     "data": {
      "text/plain": [
       "array(['7G8', 'GB4', 'ERS740940', 'ERS740937', 'ERS740936'], \n",
       "      dtype='<U9')"
      ]
     },
     "execution_count": 11,
     "metadata": {},
     "output_type": "execute_result"
    }
   ],
   "source": [
    "gatk_vcf_reader = vcf.Reader(filename=fdr_vcf_fn)\n",
    "gatk_samples = np.array(gatk_vcf_reader.samples)\n",
    "gatk_samples"
   ]
  },
  {
   "cell_type": "code",
   "execution_count": 12,
   "metadata": {
    "collapsed": false
   },
   "outputs": [
    {
     "data": {
      "text/plain": [
       "array([ True, False, False, False, False], dtype=bool)"
      ]
     },
     "execution_count": 12,
     "metadata": {},
     "output_type": "execute_result"
    }
   ],
   "source": [
    "gatk_samples == fdr_samples['Pf7G8']"
   ]
  },
  {
   "cell_type": "code",
   "execution_count": 13,
   "metadata": {
    "collapsed": false
   },
   "outputs": [
    {
     "data": {
      "text/plain": [
       "(array([b'./.', b'0/0', b'0/1', b'1/0', b'1/1'], \n",
       "       dtype='|S3'), array([  8407, 108567,  11369,   1036,  40085]))"
      ]
     },
     "execution_count": 13,
     "metadata": {},
     "output_type": "execute_result"
    }
   ],
   "source": [
    "np.unique(gatk_calldata['GT'][:, gatk_samples == fdr_samples['Pf7G8']], return_counts=True)"
   ]
  },
  {
   "cell_type": "code",
   "execution_count": 14,
   "metadata": {
    "collapsed": false
   },
   "outputs": [],
   "source": [
    "import pandas as pd\n",
    "\n",
    "def set_status(df_calls):\n",
    "    df_calls.assign(status='!!!NM')\n",
    "    df_calls.loc[(df_calls['VARIANT_TYPE_x'] == b'MIS') & (df_calls['VARIANT_TYPE_y'] == b'MIS'),\n",
    "                 'status'] = '!!!NR'\n",
    "    df_calls.loc[(df_calls['VARIANT_TYPE_x'] == b'MIS') & (df_calls['VARIANT_TYPE_y'] != b'MIS'),\n",
    "                 'status'] = 'FN'\n",
    "    df_calls.loc[(df_calls['VARIANT_TYPE_y'] == b'MIS') & (df_calls['GT'] == b'1/1'),\n",
    "                 'status'] = 'FPhom'\n",
    "    df_calls.loc[(df_calls['VARIANT_TYPE_y'] == b'MIS') & (np.in1d(df_calls['GT'], [b'0/1', b'1/0'])),\n",
    "                 'status'] = 'FPhet'\n",
    "    df_calls.loc[(df_calls['VARIANT_TYPE_y'] == b'MIS') & (df_calls['GT'] == b'0/0'),\n",
    "                 'status'] = '!TPHR'\n",
    "    df_calls.loc[(df_calls['VARIANT_TYPE_y'] == b'MIS') & (np.logical_not(np.in1d(df_calls['GT'], [b'0/0', b'0/1', b'1/0', b'1/1']))),\n",
    "                 'status'] = '!!!FP'\n",
    "    df_calls.loc[(df_calls['VARIANT_TYPE_y'] != b'MIS') & (df_calls['VARIANT_TYPE_x'] != b'MIS') & (np.logical_not(np.in1d(df_calls['GT'], [b'0/0', b'0/1', b'1/0', b'1/1']))),\n",
    "                 'status'] = '!!!FN'\n",
    "    df_calls.loc[(df_calls['VARIANT_TYPE_x'] != b'MIS') & (df_calls['VARIANT_TYPE_y'] != b'MIS') & (np.in1d(df_calls['GT'], [b'0/1', b'1/0'])),\n",
    "                 'status'] = 'TPhet'\n",
    "    df_calls.loc[(df_calls['VARIANT_TYPE_x'] != b'MIS') & (df_calls['VARIANT_TYPE_y'] != b'MIS') & (np.in1d(df_calls['GT'], [b'1/1'])),\n",
    "                 'status'] = 'TPhom'\n",
    "    df_calls.loc[(df_calls['VARIANT_TYPE_x'] != b'MIS') & (df_calls['VARIANT_TYPE_y'] != b'MIS') & (np.in1d(df_calls['GT'], [b'0/0'])),\n",
    "                 'status'] = '!FPHR'\n",
    "    return(df_calls)\n",
    "\n",
    "def set_cds(df_calls):\n",
    "    df_calls.assign(CDS=b'MIS')\n",
    "    df_calls.loc[(df_calls['CDS_x'] == b'MIS'), 'CDS'] = df_calls.loc[(df_calls['CDS_x'] == b'MIS'), 'CDS_y']\n",
    "    df_calls.loc[(df_calls['CDS_x'] != b'MIS'), 'CDS'] = df_calls.loc[(df_calls['CDS_x'] != b'MIS'), 'CDS_x']\n",
    "    return(df_calls)\n",
    "\n",
    "def set_variant_type(df_calls):\n",
    "    df_calls.assign(VARIANT_TYPE=b'MIS')\n",
    "    df_calls.loc[(df_calls['VARIANT_TYPE_x'] == b'MIS'), 'VARIANT_TYPE'] = df_calls.loc[(df_calls['VARIANT_TYPE_x'] == b'MIS'), 'VARIANT_TYPE_y']\n",
    "    df_calls.loc[(df_calls['VARIANT_TYPE_x'] != b'MIS'), 'VARIANT_TYPE'] = df_calls.loc[(df_calls['VARIANT_TYPE_x'] != b'MIS'), 'VARIANT_TYPE_x']\n",
    "    return(df_calls)\n",
    "\n",
    "def determine_fdr_pd(sample='Pf7G8', GQ_threshold=30):\n",
    "    columns_of_interest = ['CHROM', 'POS', 'REF', 'ALT', 'CDS', 'VARIANT_TYPE', 'MULTIALLELIC']\n",
    "    ix_good_calls = np.logical_and(\n",
    "        gatk_variants['FILTER_PASS'],\n",
    "        gatk_calldata['GQ'][:, gatk_samples == fdr_samples[sample]][:,0] >= GQ_threshold\n",
    "    )\n",
    "    ix_pacbio_calls = (pacbio_calldata['GT'][:, pacbio_samples == sample][:,0] == b'1/1')\n",
    "    gatk_GT = gatk_calldata['GT'][:, gatk_samples == fdr_samples[sample]][:,0]\n",
    "    df_gatk_calls = pd.DataFrame(gatk_variants[ix_good_calls]).loc[:, columns_of_interest]\n",
    "    df_gatk_calls['GT'] = gatk_calldata['GT'][:, gatk_samples == fdr_samples[sample]][ix_good_calls][:,0]\n",
    "    df_pacbio_calls = pd.DataFrame(pacbio_variants[ix_pacbio_calls]).loc[:, columns_of_interest]\n",
    "    df_calls = pd.merge(\n",
    "        df_gatk_calls, df_pacbio_calls, how='outer', on=['CHROM', 'POS', 'REF', 'ALT']\n",
    "    )\n",
    "    df_calls['VARIANT_TYPE_x'].fillna(b'MIS', inplace=True)\n",
    "    df_calls['VARIANT_TYPE_y'].fillna(b'MIS', inplace=True)\n",
    "    df_calls['CDS_x'].fillna(b'MIS', inplace=True)\n",
    "    df_calls['CDS_y'].fillna(b'MIS', inplace=True)\n",
    "    df_calls['MULTIALLELIC_x'].fillna(b'MIS', inplace=True)\n",
    "    df_calls = set_status(df_calls)\n",
    "    df_calls = set_cds(df_calls)\n",
    "    df_calls = set_variant_type(df_calls)\n",
    "    \n",
    "    gb = df_calls.groupby(['VARIANT_TYPE', 'CDS', 'MULTIALLELIC_x', 'status']).size()\n",
    "    return(gb, df_calls)\n",
    "    \n"
   ]
  },
  {
   "cell_type": "code",
   "execution_count": 15,
   "metadata": {
    "collapsed": false
   },
   "outputs": [
    {
     "data": {
      "text/plain": [
       "VARIANT_TYPE  CDS    MULTIALLELIC_x  status\n",
       "b'IND'        False  b'BI'           !FPHR         4\n",
       "                                     !TPHR       978\n",
       "                                     FPhet        11\n",
       "                                     FPhom         8\n",
       "                                     TPhet         8\n",
       "                                     TPhom       525\n",
       "                     b'MIS'          FN        21287\n",
       "                     b'MU'           !FPHR       111\n",
       "                                     !TPHR     34767\n",
       "                                     FPhet       799\n",
       "                                     FPhom       281\n",
       "                                     TPhet       709\n",
       "                                     TPhom     15398\n",
       "                     b'SD'           !FPHR        11\n",
       "                                     !TPHR      2038\n",
       "                                     FPhet        80\n",
       "                                     FPhom        26\n",
       "                                     TPhet        52\n",
       "                                     TPhom       727\n",
       "              True   b'BI'           !FPHR         1\n",
       "                                     !TPHR       214\n",
       "                                     FPhet         3\n",
       "                                     FPhom         1\n",
       "                                     TPhet         1\n",
       "                                     TPhom       115\n",
       "                     b'MIS'          FN         2378\n",
       "                     b'MU'           !FPHR       148\n",
       "                                     !TPHR      9061\n",
       "                                     FPhet       135\n",
       "                                     FPhom       149\n",
       "                                               ...  \n",
       "b'SNP'        False  b'MU'           !TPHR       809\n",
       "                                     FPhet        24\n",
       "                                     FPhom         8\n",
       "                                     TPhet         2\n",
       "                                     TPhom       513\n",
       "                     b'SD'           !FPHR         5\n",
       "                                     !TPHR      1348\n",
       "                                     FPhet        85\n",
       "                                     FPhom        19\n",
       "                                     TPhet        26\n",
       "                                     TPhom       588\n",
       "              True   b'BI'           !FPHR         1\n",
       "                                     !TPHR      7806\n",
       "                                     FPhet        22\n",
       "                                     FPhom         9\n",
       "                                     TPhet         4\n",
       "                                     TPhom      4896\n",
       "                     b'MIS'          FN         2221\n",
       "                     b'MU'           !FPHR         3\n",
       "                                     !TPHR      1399\n",
       "                                     FPhet        13\n",
       "                                     FPhom         7\n",
       "                                     TPhet         4\n",
       "                                     TPhom       805\n",
       "                     b'SD'           !FPHR        14\n",
       "                                     !TPHR      1024\n",
       "                                     FPhet        26\n",
       "                                     FPhom        46\n",
       "                                     TPhet        16\n",
       "                                     TPhom       247\n",
       "dtype: int64"
      ]
     },
     "execution_count": 15,
     "metadata": {},
     "output_type": "execute_result"
    }
   ],
   "source": [
    "gb, df_calls = determine_fdr_pd()\n",
    "gb"
   ]
  },
  {
   "cell_type": "code",
   "execution_count": 17,
   "metadata": {
    "collapsed": false
   },
   "outputs": [
    {
     "data": {
      "text/plain": [
       "VARIANT_TYPE  CDS    status\n",
       "b'IND'        False  !FPHR       126\n",
       "                     !TPHR     37783\n",
       "                     FN        21287\n",
       "                     FPhet       890\n",
       "                     FPhom       315\n",
       "                     TPhet       769\n",
       "                     TPhom     16650\n",
       "              True   !FPHR       165\n",
       "                     !TPHR      9947\n",
       "                     FN         2378\n",
       "                     FPhet       154\n",
       "                     FPhom       195\n",
       "                     TPhet        77\n",
       "                     TPhom      3982\n",
       "b'SNP'        False  !FPHR         5\n",
       "                     !TPHR      7310\n",
       "                     FN         2794\n",
       "                     FPhet       132\n",
       "                     FPhom        70\n",
       "                     TPhet        33\n",
       "                     TPhom      4335\n",
       "              True   !FPHR        18\n",
       "                     !TPHR     10229\n",
       "                     FN         2221\n",
       "                     FPhet        61\n",
       "                     FPhom        62\n",
       "                     TPhet        24\n",
       "                     TPhom      5948\n",
       "dtype: int64"
      ]
     },
     "execution_count": 17,
     "metadata": {},
     "output_type": "execute_result"
    }
   ],
   "source": [
    "gb.groupby(level=['VARIANT_TYPE', 'CDS', 'status']).sum()"
   ]
  },
  {
   "cell_type": "code",
   "execution_count": 18,
   "metadata": {
    "collapsed": false
   },
   "outputs": [
    {
     "data": {
      "text/plain": [
       "status\n",
       "!FPHR      314\n",
       "!TPHR    65269\n",
       "FN       28680\n",
       "FPhet     1237\n",
       "FPhom      642\n",
       "TPhet      903\n",
       "TPhom    30915\n",
       "dtype: int64"
      ]
     },
     "execution_count": 18,
     "metadata": {},
     "output_type": "execute_result"
    }
   ],
   "source": [
    "gb.groupby(level=['status']).sum()"
   ]
  },
  {
   "cell_type": "code",
   "execution_count": null,
   "metadata": {
    "collapsed": false
   },
   "outputs": [
    {
     "name": "stdout",
     "output_type": "stream",
     "text": [
      "0 1 2 3 4 5 6 "
     ]
    }
   ],
   "source": [
    "GQ_dict = collections.OrderedDict()\n",
    "for GQ_threshold in np.arange(0, 100):\n",
    "    print(GQ_threshold, end=\" \")\n",
    "    GQ_dict[GQ_threshold] = collections.OrderedDict()\n",
    "    for sample in pacbio_samples:\n",
    "        GQ_dict[GQ_threshold][sample], _ = determine_fdr_pd(sample, GQ_threshold)\n"
   ]
  },
  {
   "cell_type": "code",
   "execution_count": null,
   "metadata": {
    "collapsed": false
   },
   "outputs": [],
   "source": [
    "GQ_dict[30]['Pf7G8']"
   ]
  },
  {
   "cell_type": "code",
   "execution_count": null,
   "metadata": {
    "collapsed": false
   },
   "outputs": [],
   "source": [
    "df_colours = pd.DataFrame(\n",
    "    [\n",
    "        [b'SNP', True, b'all', '#a50f15'], # ColorBrewer 5-class Reds\n",
    "        [b'SNP', True, b'het', '#de2d26'],\n",
    "        [b'SNP', True, b'hom', '#fb6a4a'],\n",
    "        [b'IND', True, b'all', '#08519c'], # ColorBrewer 5-class Blues\n",
    "        [b'IND', True, b'het', '#3182bd'],\n",
    "        [b'IND', True, b'hom', '#6baed6'],\n",
    "        [b'SNP', False, b'all', '#a63603'], # ColorBrewer 5-class Oranges\n",
    "        [b'SNP', False, b'het', '#e6550d'],\n",
    "        [b'SNP', False, b'hom', '#fd8d3c'],\n",
    "        [b'IND', False, b'all', '#006d2c'], # ColorBrewer 5-class Greens\n",
    "        [b'IND', False, b'het', '#31a354'],\n",
    "        [b'IND', False, b'hom', '#74c476'],\n",
    "    ],\n",
    "    columns = ['VARIANT_TYPE', 'CDS_GATK', 'FDR', 'colour']\n",
    ")\n",
    "df_colours"
   ]
  },
  {
   "cell_type": "code",
   "execution_count": null,
   "metadata": {
    "collapsed": false
   },
   "outputs": [],
   "source": [
    "df_colours.set_index(['VARIANT_TYPE', 'CDS_GATK', 'FDR'], inplace=True)\n",
    "df_colours"
   ]
  },
  {
   "cell_type": "code",
   "execution_count": null,
   "metadata": {
    "collapsed": true
   },
   "outputs": [],
   "source": [
    "df_colours['colour'][b'SNP'][False][b'het']"
   ]
  },
  {
   "cell_type": "code",
   "execution_count": null,
   "metadata": {
    "collapsed": false
   },
   "outputs": [],
   "source": [
    "#  GQ ROC (FDR vs sensitivity) for coding/variant_type/FPtype (12 lines) across all samples\n",
    "fig = plt.figure(figsize=(12, 4))\n",
    "ax1 = fig.add_subplot(1, 3, 1)\n",
    "ax2 = fig.add_subplot(1, 3, 2)\n",
    "ax3 = fig.add_subplot(1, 3, 3)\n",
    "\n",
    "FDR = collections.OrderedDict()\n",
    "sensitivity = collections.OrderedDict()\n",
    "for variant_type in [b'SNP', b'IND']:\n",
    "    FDR[variant_type] = collections.OrderedDict()\n",
    "    sensitivity[variant_type] = collections.OrderedDict()\n",
    "    for coding in [True, False]:\n",
    "        FDR[variant_type][coding] = collections.OrderedDict()\n",
    "        FDR[variant_type][coding]['FPhom'] = np.zeros(100, dtype=float)\n",
    "        FDR[variant_type][coding]['FPhet'] = np.zeros(100, dtype=float)\n",
    "        FDR[variant_type][coding]['FPall'] = np.zeros(100, dtype=float)\n",
    "        sensitivity[variant_type][coding] = np.zeros(100, dtype=float)\n",
    "        for GQ_threshold in np.arange(0, 100):\n",
    "            TP = 0\n",
    "            FPhom = 0\n",
    "            FPhet = 0\n",
    "            FPall = 0\n",
    "            FN = 0\n",
    "            for sample in pacbio_samples:\n",
    "                status_sum = GQ_dict[GQ_threshold][sample].groupby(level=['VARIANT_TYPE', 'CDS', 'status']).sum()\n",
    "                if 'FPhom' in status_sum[variant_type][coding].keys():\n",
    "                    FPhom = FPhom + status_sum[variant_type][coding]['FPhom']\n",
    "                if 'FPhet' in status_sum[variant_type][coding].keys():\n",
    "                    FPhet = FPhet + status_sum[variant_type][coding]['FPhet']\n",
    "                FPall = FPhom + FPhet\n",
    "                if 'TPhom' in status_sum[variant_type][coding].keys():\n",
    "                    TP = TP + status_sum[variant_type][coding]['TPhom']\n",
    "                if 'FN' in status_sum[variant_type][coding].keys():\n",
    "                    FN = FN + status_sum[variant_type][coding]['FN']\n",
    "            FDR[variant_type][coding]['FPhom'][GQ_threshold] = FPhom/(TP+FPhom)\n",
    "            FDR[variant_type][coding]['FPhet'][GQ_threshold] = FPhet/(TP+FPhet)\n",
    "            FDR[variant_type][coding]['FPall'][GQ_threshold] = FPall/(TP+FPall)\n",
    "            sensitivity[variant_type][coding][GQ_threshold] = TP/(TP+FN)\n",
    "        colour = df_colours['colour'][variant_type][coding][b'hom']\n",
    "        if variant_type == b'SNP':\n",
    "            text_offset = -0.007\n",
    "        else:\n",
    "            text_offset = 0.002\n",
    "        if coding == True and variant_type == b'SNP':\n",
    "            label = \"Coding SNPs\" \n",
    "        if coding == False and variant_type == b'SNP':\n",
    "            label = \"Non-coding SNPs\" \n",
    "        if coding == True and variant_type == b'IND':\n",
    "            label = \"Coding indels\" \n",
    "        if coding == False and variant_type == b'IND':\n",
    "            label = \"Non-coding indels\" \n",
    "        ax1.plot(FDR[variant_type][coding]['FPhom'], sensitivity[variant_type][coding], color=colour, label=label)\n",
    "        for GQ in [0, 10, 20, 30, 40, 50, 60, 70, 80, 90, 99]:\n",
    "            if GQ == 30:\n",
    "                ax1.plot(FDR[variant_type][coding]['FPhom'][GQ], sensitivity[variant_type][coding][GQ], 'o', color=\"black\")\n",
    "            else:\n",
    "                ax1.plot(FDR[variant_type][coding]['FPhom'][GQ], sensitivity[variant_type][coding][GQ], 'o', color=colour)\n",
    "            ax1.text(FDR[variant_type][coding]['FPhom'][GQ]+text_offset, sensitivity[variant_type][coding][GQ], GQ, fontsize=8, color=colour)\n",
    "        colour = df_colours['colour'][variant_type][coding][b'het']\n",
    "        ax2.plot(FDR[variant_type][coding]['FPhet'], sensitivity[variant_type][coding], color=colour, label=label)\n",
    "        for GQ in [0, 10, 20, 30, 40, 50, 60, 70, 80, 90, 99]:\n",
    "            if GQ == 30:\n",
    "                ax2.plot(FDR[variant_type][coding]['FPhet'][GQ], sensitivity[variant_type][coding][GQ], 'o', color=\"black\")\n",
    "            else:\n",
    "                ax2.plot(FDR[variant_type][coding]['FPhet'][GQ], sensitivity[variant_type][coding][GQ], 'o', color=colour)\n",
    "            ax2.text(FDR[variant_type][coding]['FPhet'][GQ]+text_offset, sensitivity[variant_type][coding][GQ], GQ, fontsize=8, color=colour)\n",
    "        colour = df_colours['colour'][variant_type][coding][b'all']\n",
    "        ax3.plot(FDR[variant_type][coding]['FPall'], sensitivity[variant_type][coding], color=colour, label=label)\n",
    "        for GQ in [0, 10, 20, 30, 40, 50, 60, 70, 80, 90, 99]:\n",
    "            if GQ == 30:\n",
    "                ax3.plot(FDR[variant_type][coding]['FPall'][GQ], sensitivity[variant_type][coding][GQ], 'o', color=\"black\")\n",
    "            else:\n",
    "                ax3.plot(FDR[variant_type][coding]['FPall'][GQ], sensitivity[variant_type][coding][GQ], 'o', color=colour)\n",
    "            ax3.text(FDR[variant_type][coding]['FPall'][GQ]+text_offset, sensitivity[variant_type][coding][GQ], GQ, fontsize=8, color=colour)\n",
    "        sns.despine(ax=ax1, offset=5)\n",
    "        sns.despine(ax=ax2, offset=5)\n",
    "        sns.despine(ax=ax3, offset=5)\n",
    "        ax1.set_xlim(0, 0.12)\n",
    "        ax2.set_xlim(0, 0.12)\n",
    "        ax3.set_xlim(0, 0.12)\n",
    "        ax1.set_xlabel(r'$\\mathrm{FDR_{hom}}$')\n",
    "        ax2.set_xlabel(r'$\\mathrm{FDR_{het}}$')\n",
    "        ax3.set_xlabel(r'$\\mathrm{FDR_{all}}$')\n",
    "        ax1.set_ylabel(r'$\\mathrm{Sensitivity}$')\n",
    "        ax1.legend(loc='lower right')\n",
    "        ax2.legend(loc='lower right')\n",
    "        ax3.legend(loc='lower right')\n",
    "\n",
    "fig.tight_layout()\n"
   ]
  },
  {
   "cell_type": "code",
   "execution_count": null,
   "metadata": {
    "collapsed": false
   },
   "outputs": [],
   "source": [
    "sample_colours = { # ColorBrewer 5-class Set 1\n",
    "    'Pf7G8': '#e41a1c',\n",
    "    'PfGB4': '#377eb8',\n",
    "    'PfGN01': '#4daf4a',\n",
    "    'PfKE01': '#984ea3',\n",
    "    'PfKH02': '#ff7f00',\n",
    "}\n",
    "sample_colours['PfKE01']"
   ]
  },
  {
   "cell_type": "code",
   "execution_count": null,
   "metadata": {
    "collapsed": false
   },
   "outputs": [],
   "source": [
    "#  GQ ROC (FDR vs sensitivity) for coding/variant_type/FPtype (12 lines) across all samples\n",
    "fig = plt.figure(figsize=(12, 16))\n",
    "gs = mpl.gridspec.GridSpec(4, 3)\n",
    "\n",
    "FDR = collections.OrderedDict()\n",
    "sensitivity = collections.OrderedDict()\n",
    "for i, variant_type in enumerate([b'SNP', b'IND']):\n",
    "    FDR[variant_type] = collections.OrderedDict()\n",
    "    sensitivity[variant_type] = collections.OrderedDict()\n",
    "    for j, coding in enumerate([True, False]):\n",
    "        FDR[variant_type][coding] = collections.OrderedDict()\n",
    "        sensitivity[variant_type][coding] = collections.OrderedDict()\n",
    "        row_num = (i*2) + j\n",
    "        ax1 = fig.add_subplot(gs[row_num, 0])\n",
    "        ax2 = fig.add_subplot(gs[row_num, 1])\n",
    "        ax3 = fig.add_subplot(gs[row_num, 2])\n",
    "        for sample in pacbio_samples:\n",
    "            FDR[variant_type][coding][sample] = collections.OrderedDict()\n",
    "            FDR[variant_type][coding][sample]['FPhom'] = np.zeros(100, dtype=float)\n",
    "            FDR[variant_type][coding][sample]['FPhet'] = np.zeros(100, dtype=float)\n",
    "            FDR[variant_type][coding][sample]['FPall'] = np.zeros(100, dtype=float)\n",
    "            sensitivity[variant_type][coding][sample] = np.zeros(100, dtype=float)\n",
    "            for GQ_threshold in np.arange(0, 100):\n",
    "                status_sum = GQ_dict[GQ_threshold][sample].groupby(level=['VARIANT_TYPE', 'CDS', 'status']).sum()\n",
    "                if 'FPhom' in status_sum[variant_type][coding].keys():\n",
    "                    FPhom = status_sum[variant_type][coding]['FPhom']\n",
    "                if 'FPhet' in status_sum[variant_type][coding].keys():\n",
    "                    FPhet = status_sum[variant_type][coding]['FPhet']\n",
    "                FPall = FPhom + FPhet\n",
    "                if 'TPhom' in status_sum[variant_type][coding].keys():\n",
    "                    TP = status_sum[variant_type][coding]['TPhom']\n",
    "                if 'FN' in status_sum[variant_type][coding].keys():\n",
    "                    FN = status_sum[variant_type][coding]['FN']\n",
    "                FDR[variant_type][coding][sample]['FPhom'][GQ_threshold] = FPhom/(TP+FPhom)\n",
    "                FDR[variant_type][coding][sample]['FPhet'][GQ_threshold] = FPhet/(TP+FPhet)\n",
    "                FDR[variant_type][coding][sample]['FPall'][GQ_threshold] = FPall/(TP+FPall)\n",
    "                sensitivity[variant_type][coding][sample][GQ_threshold] = TP/(TP+FN)\n",
    "            colour = sample_colours[sample]\n",
    "            if coding == True and variant_type == b'SNP':\n",
    "                label = \"Sensitivity (coding SNPs)\" \n",
    "            if coding == False and variant_type == b'SNP':\n",
    "                label = \"Sensitivity (non-coding SNPs)\" \n",
    "            if coding == True and variant_type == b'IND':\n",
    "                label = \"Sensitivity (coding indels)\" \n",
    "            if coding == False and variant_type == b'IND':\n",
    "                label = \"Sensitivity (non-coding indels)\" \n",
    "            ax1.plot(FDR[variant_type][coding][sample]['FPhom'], sensitivity[variant_type][coding][sample], color=colour, label=sample)\n",
    "            for GQ in [0, 10, 20, 30, 40, 50, 60, 70, 80, 90, 99]:\n",
    "                if GQ == 30:\n",
    "                    ax1.plot(FDR[variant_type][coding][sample]['FPhom'][GQ], sensitivity[variant_type][coding][sample][GQ], 'o', color=\"black\")\n",
    "                else:\n",
    "                    ax1.plot(FDR[variant_type][coding][sample]['FPhom'][GQ], sensitivity[variant_type][coding][sample][GQ], 'o', color=colour)\n",
    "                ax1.text(FDR[variant_type][coding][sample]['FPhom'][GQ]+text_offset, sensitivity[variant_type][coding][sample][GQ], GQ, fontsize=8, color=colour)\n",
    "#             colour = df_colours['colour'][variant_type][coding][b'het']\n",
    "            ax2.plot(FDR[variant_type][coding][sample]['FPhet'], sensitivity[variant_type][coding][sample], color=colour, label=sample)\n",
    "            for GQ in [0, 10, 20, 30, 40, 50, 60, 70, 80, 90, 99]:\n",
    "                if GQ == 30:\n",
    "                    ax2.plot(FDR[variant_type][coding][sample]['FPhet'][GQ], sensitivity[variant_type][coding][sample][GQ], 'o', color=\"black\")\n",
    "                else:\n",
    "                    ax2.plot(FDR[variant_type][coding][sample]['FPhet'][GQ], sensitivity[variant_type][coding][sample][GQ], 'o', color=colour)\n",
    "                ax2.text(FDR[variant_type][coding][sample]['FPhet'][GQ]+text_offset, sensitivity[variant_type][coding][sample][GQ], GQ, fontsize=8, color=colour)\n",
    "#             colour = df_colours['colour'][variant_type][coding][[sample]b'all']\n",
    "            ax3.plot(FDR[variant_type][coding][sample]['FPall'], sensitivity[variant_type][coding][sample], color=colour, label=sample)\n",
    "            for GQ in [0, 10, 20, 30, 40, 50, 60, 70, 80, 90, 99]:\n",
    "                if GQ == 30:\n",
    "                    ax3.plot(FDR[variant_type][coding][sample]['FPall'][GQ], sensitivity[variant_type][coding][sample][GQ], 'o', color=\"black\")\n",
    "                else:\n",
    "                    ax3.plot(FDR[variant_type][coding][sample]['FPall'][GQ], sensitivity[variant_type][coding][sample][GQ], 'o', color=colour)\n",
    "                ax3.text(FDR[variant_type][coding][sample]['FPall'][GQ]+text_offset, sensitivity[variant_type][coding][sample][GQ], GQ, fontsize=8, color=colour)\n",
    "            sns.despine(ax=ax1, offset=5)\n",
    "            sns.despine(ax=ax2, offset=5)\n",
    "            sns.despine(ax=ax3, offset=5)\n",
    "            ax1.set_xlim(0, 0.12)\n",
    "            ax2.set_xlim(0, 0.12)\n",
    "            ax3.set_xlim(0, 0.12)\n",
    "            ax1.set_xlabel(r'$\\mathrm{FDR_{hom}}$')\n",
    "            ax2.set_xlabel(r'$\\mathrm{FDR_{het}}$')\n",
    "            ax3.set_xlabel(r'$\\mathrm{FDR_{all}}$')\n",
    "            ax1.set_ylabel(r'$\\mathrm{%s}$' % label)\n",
    "            ax1.legend(loc='lower right')\n",
    "\n",
    "fig.tight_layout()\n"
   ]
  },
  {
   "cell_type": "code",
   "execution_count": null,
   "metadata": {
    "collapsed": true
   },
   "outputs": [],
   "source": []
  },
  {
   "cell_type": "code",
   "execution_count": null,
   "metadata": {
    "collapsed": true
   },
   "outputs": [],
   "source": [
    "def confusion_tr_style(row):\n",
    "    style = 'background-color: %s' % ('#4f4' if row.status == 'TP' \n",
    "                                      else '#f44' if row.status == 'FP'\n",
    "                                      else '#44f' if row.status == 'FN'\n",
    "                                      else 'white')\n",
    "    return style\n"
   ]
  },
  {
   "cell_type": "code",
   "execution_count": null,
   "metadata": {
    "collapsed": false
   },
   "outputs": [],
   "source": [
    "df_calls.display(100, tr_style=confusion_tr_style)"
   ]
  },
  {
   "cell_type": "code",
   "execution_count": 268,
   "metadata": {
    "collapsed": false
   },
   "outputs": [],
   "source": []
  }
 ],
 "metadata": {
  "anaconda-cloud": {},
  "kernelspec": {
   "display_name": "Python [default]",
   "language": "python",
   "name": "python3"
  },
  "language_info": {
   "codemirror_mode": {
    "name": "ipython",
    "version": 3
   },
   "file_extension": ".py",
   "mimetype": "text/x-python",
   "name": "python",
   "nbconvert_exporter": "python",
   "pygments_lexer": "ipython3",
   "version": "3.4.5"
  }
 },
 "nbformat": 4,
 "nbformat_minor": 1
}
