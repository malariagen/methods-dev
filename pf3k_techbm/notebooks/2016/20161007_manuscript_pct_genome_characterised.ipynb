{
 "cells": [
  {
   "cell_type": "code",
   "execution_count": 1,
   "metadata": {
    "collapsed": true
   },
   "outputs": [],
   "source": [
    "# see 20160525_CallableLoci_bed_release_5.ipynb for creation of CallableLoci results and\n",
    "# 20160718_pilot_manuscript_accessibility_bedtools.ipynb for combining across samples"
   ]
  },
  {
   "cell_type": "code",
   "execution_count": 2,
   "metadata": {
    "collapsed": false
   },
   "outputs": [
    {
     "name": "stdout",
     "output_type": "stream",
     "text": [
      "python 3.4.5 |Anaconda 2.2.0 (64-bit)| (default, Jul  2 2016, 17:47:47) \n",
      "[GCC 4.4.7 20120313 (Red Hat 4.4.7-1)]\n",
      "numpy 1.11.1\n",
      "scipy 0.18.0\n",
      "pandas 0.15.2\n",
      "numexpr 2.3.1\n",
      "pysam 0.9.1.4\n",
      "pysamstats 0.24.3\n",
      "petl 1.1.0\n",
      "petlx 1.0.3\n",
      "vcf 0.6.7\n",
      "vcfnp 2.3.0.dev0\n",
      "h5py 2.4.0\n",
      "tables 3.1.1\n"
     ]
    }
   ],
   "source": [
    "%run _standard_imports.ipynb\n",
    "%run _shared_setup.ipynb\n",
    "%run _plotting_setup.ipynb"
   ]
  },
  {
   "cell_type": "code",
   "execution_count": 14,
   "metadata": {
    "collapsed": true
   },
   "outputs": [],
   "source": [
    "accessibility_array_fn = \"/nfs/team112_internal/rp7/data/pf3k/analysis/20160718_pilot_manuscript_accessibility/accessibility_array_2512_field.npy\"\n",
    "core_regions_fn = \"/nfs/team112_internal/rp7/src/github/malariagen/pf-crosses/meta/regions-20130225.bed.gz\"\n"
   ]
  },
  {
   "cell_type": "code",
   "execution_count": 4,
   "metadata": {
    "collapsed": true
   },
   "outputs": [],
   "source": [
    "accessibility_array = np.load(accessibility_array_fn)"
   ]
  },
  {
   "cell_type": "code",
   "execution_count": 5,
   "metadata": {
    "collapsed": false
   },
   "outputs": [
    {
     "data": {
      "text/plain": [
       "array([(b'Pf3D7_01_v3', 1, 8), (b'Pf3D7_01_v3', 2, 9),\n",
       "       (b'Pf3D7_01_v3', 3, 19), ..., (b'Pf_M76611', 5965, 2502),\n",
       "       (b'Pf_M76611', 5966, 2501), (b'Pf_M76611', 5967, 2501)], \n",
       "      dtype=[('chrom', 'S11'), ('pos', '<i4'), ('coverage', '<i4')])"
      ]
     },
     "execution_count": 5,
     "metadata": {},
     "output_type": "execute_result"
    }
   ],
   "source": [
    "accessibility_array"
   ]
  },
  {
   "cell_type": "code",
   "execution_count": 8,
   "metadata": {
    "collapsed": false
   },
   "outputs": [
    {
     "data": {
      "text/plain": [
       "(array([  754077.,   139932.,    98288.,    77197.,    65322.,    56107.,\n",
       "           48777.,    42736.,    38389.,    37017.,    34078.,    31470.,\n",
       "           31293.,    28505.,    27657.,    27310.,    24694.,    23897.,\n",
       "           24167.,    23647.,    23684.,    22994.,    23241.,    22083.,\n",
       "           21808.,    23350.,    22733.,    22366.,    22325.,    21914.,\n",
       "           21821.,    21840.,    21939.,    22549.,    21674.,    21941.,\n",
       "           21447.,    21850.,    20973.,    20963.,    21001.,    20569.,\n",
       "           20813.,    21071.,    21835.,    21673.,    22018.,    21906.,\n",
       "           21479.,    21118.,    23185.,    22894.,    22936.,    23207.,\n",
       "           24271.,    24939.,    24751.,    26101.,    26796.,    27138.,\n",
       "           28598.,    29328.,    32422.,    32908.,    34338.,    36581.,\n",
       "           38621.,    42063.,    45675.,    48945.,    55143.,    59760.,\n",
       "           67379.,    74084.,    78689.,    91486.,    99600.,   112155.,\n",
       "          128917.,   148402.,   167331.,   191188.,   216111.,   240705.,\n",
       "          277600.,   318932.,   362914.,   433380.,   482797.,   555261.,\n",
       "          625324.,   684248.,   709842.,   680738.,   671327.,   729570.,\n",
       "          922221.,  1536762.,  5311398.,  4392340.]),\n",
       " array([ 0.        ,  0.00998408,  0.01996815,  0.02995223,  0.03993631,\n",
       "         0.04992038,  0.05990446,  0.06988854,  0.07987261,  0.08985669,\n",
       "         0.09984076,  0.10982484,  0.11980892,  0.12979299,  0.13977707,\n",
       "         0.14976115,  0.15974522,  0.1697293 ,  0.17971338,  0.18969745,\n",
       "         0.19968153,  0.20966561,  0.21964968,  0.22963376,  0.23961783,\n",
       "         0.24960191,  0.25958599,  0.26957006,  0.27955414,  0.28953822,\n",
       "         0.29952229,  0.30950637,  0.31949045,  0.32947452,  0.3394586 ,\n",
       "         0.34944268,  0.35942675,  0.36941083,  0.3793949 ,  0.38937898,\n",
       "         0.39936306,  0.40934713,  0.41933121,  0.42931529,  0.43929936,\n",
       "         0.44928344,  0.45926752,  0.46925159,  0.47923567,  0.48921975,\n",
       "         0.49920382,  0.5091879 ,  0.51917197,  0.52915605,  0.53914013,\n",
       "         0.5491242 ,  0.55910828,  0.56909236,  0.57907643,  0.58906051,\n",
       "         0.59904459,  0.60902866,  0.61901274,  0.62899682,  0.63898089,\n",
       "         0.64896497,  0.65894904,  0.66893312,  0.6789172 ,  0.68890127,\n",
       "         0.69888535,  0.70886943,  0.7188535 ,  0.72883758,  0.73882166,\n",
       "         0.74880573,  0.75878981,  0.76877389,  0.77875796,  0.78874204,\n",
       "         0.79872611,  0.80871019,  0.81869427,  0.82867834,  0.83866242,\n",
       "         0.8486465 ,  0.85863057,  0.86861465,  0.87859873,  0.8885828 ,\n",
       "         0.89856688,  0.90855096,  0.91853503,  0.92851911,  0.93850318,\n",
       "         0.94848726,  0.95847134,  0.96845541,  0.97843949,  0.98842357,\n",
       "         0.99840764]),\n",
       " <a list of 100 Patch objects>)"
      ]
     },
     "execution_count": 8,
     "metadata": {},
     "output_type": "execute_result"
    },
    {
     "data": {
      "image/png": "[encoded data removed]",
      "text/plain": [
       "<matplotlib.figure.Figure at 0x7f21ddef9be0>"
      ]
     },
     "metadata": {},
     "output_type": "display_data"
    }
   ],
   "source": [
    "fig = plt.figure(figsize=(5, 3))\n",
    "ax = fig.add_subplot(1, 1, 1)\n",
    "ax.hist(accessibility_array['coverage']/2512, bins=100)"
   ]
  },
  {
   "cell_type": "code",
   "execution_count": 10,
   "metadata": {
    "collapsed": false
   },
   "outputs": [
    {
     "data": {
      "text/plain": [
       "0"
      ]
     },
     "execution_count": 10,
     "metadata": {},
     "output_type": "execute_result"
    }
   ],
   "source": [
    "np.min(accessibility_array['coverage'])"
   ]
  },
  {
   "cell_type": "code",
   "execution_count": 25,
   "metadata": {
    "collapsed": true
   },
   "outputs": [],
   "source": [
    "def calc_pct_genome_accessible(accessibility_array=accessibility_array, number_of_samples=2512,\n",
    "                               proportion_of_samples=0.8):\n",
    "    return(np.sum(accessibility_array['coverage'] > number_of_samples * proportion_of_samples) / len(accessibility_array['coverage']))"
   ]
  },
  {
   "cell_type": "code",
   "execution_count": 28,
   "metadata": {
    "collapsed": false
   },
   "outputs": [
    {
     "name": "stdout",
     "output_type": "stream",
     "text": [
      "% genome acessible in 0.50 of samples = 0.902\n",
      "% genome acessible in 0.60 of samples = 0.891\n",
      "% genome acessible in 0.70 of samples = 0.875\n",
      "% genome acessible in 0.80 of samples = 0.835\n",
      "% genome acessible in 0.90 of samples = 0.694\n",
      "% genome acessible in 0.95 of samples = 0.548\n"
     ]
    }
   ],
   "source": [
    "for proportion_of_samples in [0.5, 0.6, 0.7, 0.8, 0.9, 0.95]:\n",
    "    print(\"%% genome acessible in %4.2f of samples = %5.3f\" % (\n",
    "            proportion_of_samples,\n",
    "            calc_pct_genome_accessible(proportion_of_samples=proportion_of_samples)\n",
    "    ))"
   ]
  },
  {
   "cell_type": "code",
   "execution_count": 11,
   "metadata": {
    "collapsed": false
   },
   "outputs": [
    {
     "data": {
      "text/plain": [
       "0.83535081178934123"
      ]
     },
     "execution_count": 11,
     "metadata": {},
     "output_type": "execute_result"
    }
   ],
   "source": [
    "np.sum(accessibility_array['coverage'] > 2512 * 0.8) / len(accessibility_array['coverage'])"
   ]
  },
  {
   "cell_type": "code",
   "execution_count": 32,
   "metadata": {
    "collapsed": false
   },
   "outputs": [
    {
     "name": "stdout",
     "output_type": "stream",
     "text": [
      "By comparing different methods of variant discovery and genotype calling, we find that 83.5% of genomic positions can be reliably characterised by short-read sequencing, \n"
     ]
    }
   ],
   "source": [
    "print(\"By comparing different methods of variant discovery and genotype calling, \\\n",
    "we find that %4.1f%% of genomic positions can be reliably characterised by short-read sequencing, \" %\n",
    "     (calc_pct_genome_accessible(proportion_of_samples=0.8) * 100) )"
   ]
  },
  {
   "cell_type": "code",
   "execution_count": null,
   "metadata": {
    "collapsed": true
   },
   "outputs": [],
   "source": []
  },
  {
   "cell_type": "code",
   "execution_count": 19,
   "metadata": {
    "collapsed": false
   },
   "outputs": [
    {
     "name": "stdout",
     "output_type": "stream",
     "text": [
      "110\n"
     ]
    },
    {
     "data": {
      "text/html": [
       "<table class='petl'>\n",
       "<thead>\n",
       "<tr>\n",
       "<th>chrom</th>\n",
       "<th>start</th>\n",
       "<th>end</th>\n",
       "<th>region_type</th>\n",
       "<th>length</th>\n",
       "</tr>\n",
       "</thead>\n",
       "<tbody>\n",
       "<tr>\n",
       "<td>Pf3D7_01_v3</td>\n",
       "<td style='text-align: right'>0</td>\n",
       "<td style='text-align: right'>27336</td>\n",
       "<td>SubtelomericRepeat</td>\n",
       "<td style='text-align: right'>27336</td>\n",
       "</tr>\n",
       "<tr>\n",
       "<td>Pf3D7_01_v3</td>\n",
       "<td style='text-align: right'>27336</td>\n",
       "<td style='text-align: right'>92900</td>\n",
       "<td>SubtelomericHypervariable</td>\n",
       "<td style='text-align: right'>65564</td>\n",
       "</tr>\n",
       "<tr>\n",
       "<td>Pf3D7_01_v3</td>\n",
       "<td style='text-align: right'>92900</td>\n",
       "<td style='text-align: right'>457931</td>\n",
       "<td>Core</td>\n",
       "<td style='text-align: right'>365031</td>\n",
       "</tr>\n",
       "<tr>\n",
       "<td>Pf3D7_01_v3</td>\n",
       "<td style='text-align: right'>457931</td>\n",
       "<td style='text-align: right'>460311</td>\n",
       "<td>Centromere</td>\n",
       "<td style='text-align: right'>2380</td>\n",
       "</tr>\n",
       "<tr>\n",
       "<td>Pf3D7_01_v3</td>\n",
       "<td style='text-align: right'>460311</td>\n",
       "<td style='text-align: right'>575900</td>\n",
       "<td>Core</td>\n",
       "<td style='text-align: right'>115589</td>\n",
       "</tr>\n",
       "</tbody>\n",
       "</table>\n",
       "<p><strong>...</strong></p>"
      ],
      "text/plain": [
       "+---------------+--------+--------+-----------------------------+--------+\n",
       "| chrom         | start  | end    | region_type                 | length |\n",
       "+===============+========+========+=============================+========+\n",
       "| 'Pf3D7_01_v3' |      0 |  27336 | 'SubtelomericRepeat'        |  27336 |\n",
       "+---------------+--------+--------+-----------------------------+--------+\n",
       "| 'Pf3D7_01_v3' |  27336 |  92900 | 'SubtelomericHypervariable' |  65564 |\n",
       "+---------------+--------+--------+-----------------------------+--------+\n",
       "| 'Pf3D7_01_v3' |  92900 | 457931 | 'Core'                      | 365031 |\n",
       "+---------------+--------+--------+-----------------------------+--------+\n",
       "| 'Pf3D7_01_v3' | 457931 | 460311 | 'Centromere'                |   2380 |\n",
       "+---------------+--------+--------+-----------------------------+--------+\n",
       "| 'Pf3D7_01_v3' | 460311 | 575900 | 'Core'                      | 115589 |\n",
       "+---------------+--------+--------+-----------------------------+--------+\n",
       "..."
      ]
     },
     "execution_count": 19,
     "metadata": {},
     "output_type": "execute_result"
    }
   ],
   "source": [
    "core_region = (etl\n",
    "               .fromtsv(core_regions_fn)\n",
    "               .pushheader(['chrom', 'start','end', 'region_type'])\n",
    "               .convertnumbers()\n",
    "               .addfield('length', lambda rec: rec[2] - rec[1])\n",
    ")\n",
    "print(len(core_region.data()))\n",
    "core_region"
   ]
  },
  {
   "cell_type": "code",
   "execution_count": 22,
   "metadata": {
    "collapsed": false
   },
   "outputs": [
    {
     "data": {
      "text/plain": [
       "23292642"
      ]
     },
     "execution_count": 22,
     "metadata": {},
     "output_type": "execute_result"
    }
   ],
   "source": [
    "sum(core_region.aggregate('region_type', sum, 'length').values('value'))"
   ]
  },
  {
   "cell_type": "code",
   "execution_count": 23,
   "metadata": {
    "collapsed": false
   },
   "outputs": [
    {
     "data": {
      "text/html": [
       "<table class='petl'>\n",
       "<thead>\n",
       "<tr>\n",
       "<th>region_type</th>\n",
       "<th>value</th>\n",
       "</tr>\n",
       "</thead>\n",
       "<tbody>\n",
       "<tr>\n",
       "<td>Centromere</td>\n",
       "<td style='text-align: right'>31922</td>\n",
       "</tr>\n",
       "<tr>\n",
       "<td>Core</td>\n",
       "<td style='text-align: right'>20782107</td>\n",
       "</tr>\n",
       "<tr>\n",
       "<td>InternalHypervariable</td>\n",
       "<td style='text-align: right'>344759</td>\n",
       "</tr>\n",
       "<tr>\n",
       "<td>SubtelomericHypervariable</td>\n",
       "<td style='text-align: right'>1571888</td>\n",
       "</tr>\n",
       "<tr>\n",
       "<td>SubtelomericRepeat</td>\n",
       "<td style='text-align: right'>561966</td>\n",
       "</tr>\n",
       "</tbody>\n",
       "</table>\n"
      ]
     },
     "metadata": {},
     "output_type": "display_data"
    }
   ],
   "source": [
    "core_region.aggregate('region_type', sum, 'length').displayall()"
   ]
  },
  {
   "cell_type": "code",
   "execution_count": 24,
   "metadata": {
    "collapsed": false
   },
   "outputs": [
    {
     "data": {
      "text/plain": [
       "0.892217679729075"
      ]
     },
     "execution_count": 24,
     "metadata": {},
     "output_type": "execute_result"
    }
   ],
   "source": [
    "20782107/23292642"
   ]
  },
  {
   "cell_type": "code",
   "execution_count": null,
   "metadata": {
    "collapsed": true
   },
   "outputs": [],
   "source": []
  }
 ],
 "metadata": {
  "kernelspec": {
   "display_name": "Python [default]",
   "language": "python",
   "name": "python3"
  },
  "language_info": {
   "codemirror_mode": {
    "name": "ipython",
    "version": 3
   },
   "file_extension": ".py",
   "mimetype": "text/x-python",
   "name": "python",
   "nbconvert_exporter": "python",
   "pygments_lexer": "ipython3",
   "version": "3.4.5"
  }
 },
 "nbformat": 4,
 "nbformat_minor": 1
}
