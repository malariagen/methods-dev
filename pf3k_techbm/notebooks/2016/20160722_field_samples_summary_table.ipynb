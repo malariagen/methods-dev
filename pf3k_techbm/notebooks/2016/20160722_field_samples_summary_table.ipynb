{
 "cells": [
  {
   "cell_type": "code",
   "execution_count": 1,
   "metadata": {
    "collapsed": false
   },
   "outputs": [
    {
     "name": "stdout",
     "output_type": "stream",
     "text": [
      "python 3.4.3 |Anaconda 2.2.0 (64-bit)| (default, Mar  6 2015, 12:03:53) \n",
      "[GCC 4.4.7 20120313 (Red Hat 4.4.7-1)]\n",
      "numpy 1.9.2\n",
      "scipy 0.15.1\n",
      "pandas 0.15.2\n",
      "numexpr 2.3.1\n",
      "pysam 0.8.3\n",
      "pysamstats 0.23\n",
      "petl 1.0.11\n",
      "petlx 1.0.3\n",
      "vcf 0.6.7\n",
      "vcfnp 2.3.0.dev0\n",
      "h5py 2.4.0\n",
      "tables 3.1.1\n"
     ]
    }
   ],
   "source": [
    "%run _standard_imports.ipynb\n",
    "%run _shared_setup.ipynb\n"
   ]
  },
  {
   "cell_type": "code",
   "execution_count": 16,
   "metadata": {
    "collapsed": true
   },
   "outputs": [],
   "source": [
    "output_dir = '/nfs/team112_internal/rp7/data/pf3k/analysis/20160722_field_samples_summary_table'\n",
    "!mkdir -p {output_dir}\n",
    "output_xlsx_fn = \"%s/pf3k_release_5_field_samples_summary.xlsx\" % output_dir"
   ]
  },
  {
   "cell_type": "code",
   "execution_count": 6,
   "metadata": {
    "collapsed": false
   },
   "outputs": [
    {
     "name": "stdout",
     "output_type": "stream",
     "text": [
      "2640\n",
      "2512\n"
     ]
    }
   ],
   "source": [
    "release_5_metadata_fn = '../../meta/pf3k_release_5_metadata_20160208.xls'\n",
    "tbl_release_5_metadata = etl.fromxls(release_5_metadata_fn).convertnumbers()\n",
    "print(len(tbl_release_5_metadata.data()))\n",
    "tbl_release_5_field_samples = tbl_release_5_metadata.selectne('country', '')\n",
    "print(len(tbl_release_5_field_samples.data()))\n"
   ]
  },
  {
   "cell_type": "code",
   "execution_count": 13,
   "metadata": {
    "collapsed": false
   },
   "outputs": [
    {
     "data": {
      "text/html": [
       "<table class='petl'>\n",
       "<thead>\n",
       "<tr>\n",
       "<th>study</th>\n",
       "<th>study_title</th>\n",
       "<th>contact_name</th>\n",
       "<th>country</th>\n",
       "<th>count</th>\n",
       "<th>frequency</th>\n",
       "</tr>\n",
       "</thead>\n",
       "<tbody>\n",
       "<tr>\n",
       "<td style='text-align: right'>1001</td>\n",
       "<td>Developing the P. falciparum Community Project with partners in Mali</td>\n",
       "<td>Abdoulaye Djimde</td>\n",
       "<td>Mali</td>\n",
       "<td style='text-align: right'>96</td>\n",
       "<td style='text-align: right'>0.03821656050955414</td>\n",
       "</tr>\n",
       "<tr>\n",
       "<td style='text-align: right'>1006</td>\n",
       "<td>Genome-wide analysis of genetic variation in the Gambia</td>\n",
       "<td>Alfred Amambua-Ngwa</td>\n",
       "<td>The Gambia</td>\n",
       "<td style='text-align: right'>65</td>\n",
       "<td style='text-align: right'>0.02587579617834395</td>\n",
       "</tr>\n",
       "<tr>\n",
       "<td style='text-align: right'>1017</td>\n",
       "<td>Population genetics of natural populations in Northern Ghana</td>\n",
       "<td>Lucas Amenga-Etego</td>\n",
       "<td>Ghana</td>\n",
       "<td style='text-align: right'>409</td>\n",
       "<td style='text-align: right'>0.16281847133757962</td>\n",
       "</tr>\n",
       "<tr>\n",
       "<td style='text-align: right'>1022</td>\n",
       "<td>Genome variation and selection in clinical isolates from rural Malawi</td>\n",
       "<td>Alister Craig</td>\n",
       "<td>Malawi</td>\n",
       "<td style='text-align: right'>369</td>\n",
       "<td style='text-align: right'>0.14689490445859874</td>\n",
       "</tr>\n",
       "<tr>\n",
       "<td style='text-align: right'>1026</td>\n",
       "<td>Effects of transmission intensity on population structure and signatures of selection in Guinea</td>\n",
       "<td>David Conway</td>\n",
       "<td>Guinea</td>\n",
       "<td style='text-align: right'>100</td>\n",
       "<td style='text-align: right'>0.03980891719745223</td>\n",
       "</tr>\n",
       "<tr>\n",
       "<td style='text-align: right'>1044</td>\n",
       "<td>Genomics of parasite clearance in Cambodia</td>\n",
       "<td>Rick Fairhurst</td>\n",
       "<td>Cambodia</td>\n",
       "<td style='text-align: right'>181</td>\n",
       "<td style='text-align: right'>0.07205414012738853</td>\n",
       "</tr>\n",
       "<tr>\n",
       "<td style='text-align: right'>1052</td>\n",
       "<td>Tracking Resistance to Artemisinin Collaboration (TRAC)</td>\n",
       "<td>Elizabeth Ashley</td>\n",
       "<td>Cambodia</td>\n",
       "<td style='text-align: right'>389</td>\n",
       "<td style='text-align: right'>0.15485668789808918</td>\n",
       "</tr>\n",
       "<tr>\n",
       "<td style='text-align: right'>1052</td>\n",
       "<td>Tracking Resistance to Artemisinin Collaboration (TRAC)</td>\n",
       "<td>Elizabeth Ashley</td>\n",
       "<td>Thailand</td>\n",
       "<td style='text-align: right'>148</td>\n",
       "<td style='text-align: right'>0.0589171974522293</td>\n",
       "</tr>\n",
       "<tr>\n",
       "<td style='text-align: right'>1052</td>\n",
       "<td>Tracking Resistance to Artemisinin Collaboration (TRAC)</td>\n",
       "<td>Elizabeth Ashley</td>\n",
       "<td>DR of the Congo</td>\n",
       "<td style='text-align: right'>113</td>\n",
       "<td style='text-align: right'>0.044984076433121016</td>\n",
       "</tr>\n",
       "<tr>\n",
       "<td style='text-align: right'>1052</td>\n",
       "<td>Tracking Resistance to Artemisinin Collaboration (TRAC)</td>\n",
       "<td>Elizabeth Ashley</td>\n",
       "<td>Vietnam</td>\n",
       "<td style='text-align: right'>97</td>\n",
       "<td style='text-align: right'>0.03861464968152866</td>\n",
       "</tr>\n",
       "<tr>\n",
       "<td style='text-align: right'>1052</td>\n",
       "<td>Tracking Resistance to Artemisinin Collaboration (TRAC)</td>\n",
       "<td>Elizabeth Ashley</td>\n",
       "<td>Laos</td>\n",
       "<td style='text-align: right'>85</td>\n",
       "<td style='text-align: right'>0.033837579617834394</td>\n",
       "</tr>\n",
       "<tr>\n",
       "<td style='text-align: right'>1052</td>\n",
       "<td>Tracking Resistance to Artemisinin Collaboration (TRAC)</td>\n",
       "<td>Elizabeth Ashley</td>\n",
       "<td>Myanmar</td>\n",
       "<td style='text-align: right'>60</td>\n",
       "<td style='text-align: right'>0.02388535031847134</td>\n",
       "</tr>\n",
       "<tr>\n",
       "<td style='text-align: right'>1052</td>\n",
       "<td>Tracking Resistance to Artemisinin Collaboration (TRAC)</td>\n",
       "<td>Elizabeth Ashley</td>\n",
       "<td>Bangladesh</td>\n",
       "<td style='text-align: right'>50</td>\n",
       "<td style='text-align: right'>0.019904458598726114</td>\n",
       "</tr>\n",
       "<tr>\n",
       "<td style='text-align: right'>1052</td>\n",
       "<td>Tracking Resistance to Artemisinin Collaboration (TRAC)</td>\n",
       "<td>Elizabeth Ashley</td>\n",
       "<td>Nigeria</td>\n",
       "<td style='text-align: right'>5</td>\n",
       "<td style='text-align: right'>0.0019904458598726115</td>\n",
       "</tr>\n",
       "<tr>\n",
       "<td style='text-align: right'>1083</td>\n",
       "<td>Alternative molecular mechanisms for erythrocyte invasion by Plasmodium falciparum in Ghana</td>\n",
       "<td>Gordon Awandare</td>\n",
       "<td>Ghana</td>\n",
       "<td style='text-align: right'>116</td>\n",
       "<td style='text-align: right'>0.04617834394904458</td>\n",
       "</tr>\n",
       "<tr>\n",
       "<td style='text-align: right'>1094</td>\n",
       "<td>Population genetics of P. falciparum parasites in Northern Ghana</td>\n",
       "<td>Lucas Amenga-Etego</td>\n",
       "<td>Ghana</td>\n",
       "<td style='text-align: right'>92</td>\n",
       "<td style='text-align: right'>0.03662420382165605</td>\n",
       "</tr>\n",
       "<tr>\n",
       "<td>Broad Senegal</td>\n",
       "<td>Genomic diversity of P. falciparum in Senegal</td>\n",
       "<td>Dyann Wirth</td>\n",
       "<td>Senegal</td>\n",
       "<td style='text-align: right'>137</td>\n",
       "<td style='text-align: right'>0.054538216560509556</td>\n",
       "</tr>\n",
       "</tbody>\n",
       "</table>\n"
      ]
     },
     "metadata": {},
     "output_type": "display_data"
    }
   ],
   "source": [
    "tbl_release_5_field_samples.valuecounts('study', 'study_title', 'contact_name', 'country').sort('study').displayall()"
   ]
  },
  {
   "cell_type": "code",
   "execution_count": 17,
   "metadata": {
    "collapsed": false
   },
   "outputs": [],
   "source": [
    "tbl_release_5_field_samples.valuecounts('study', 'study_title', 'contact_name', 'country').sort('study').toxlsx(output_xlsx_fn)"
   ]
  },
  {
   "cell_type": "code",
   "execution_count": null,
   "metadata": {
    "collapsed": true
   },
   "outputs": [],
   "source": []
  }
 ],
 "metadata": {
  "kernelspec": {
   "display_name": "Python 3",
   "language": "python",
   "name": "python3"
  },
  "language_info": {
   "codemirror_mode": {
    "name": "ipython",
    "version": 3
   },
   "file_extension": ".py",
   "mimetype": "text/x-python",
   "name": "python",
   "nbconvert_exporter": "python",
   "pygments_lexer": "ipython3",
   "version": "3.4.3"
  }
 },
 "nbformat": 4,
 "nbformat_minor": 0
}
