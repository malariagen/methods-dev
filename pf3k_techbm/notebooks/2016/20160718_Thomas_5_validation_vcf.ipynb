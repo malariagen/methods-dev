{
 "cells": [
  {
   "cell_type": "code",
   "execution_count": 1,
   "metadata": {
    "collapsed": false
   },
   "outputs": [
    {
     "name": "stdout",
     "output_type": "stream",
     "text": [
      "python 3.4.3 |Anaconda 2.2.0 (64-bit)| (default, Mar  6 2015, 12:03:53) \n",
      "[GCC 4.4.7 20120313 (Red Hat 4.4.7-1)]\n",
      "numpy 1.9.2\n",
      "scipy 0.15.1\n",
      "pandas 0.15.2\n",
      "numexpr 2.3.1\n",
      "pysam 0.8.3\n",
      "pysamstats 0.23\n",
      "petl 1.0.11\n",
      "petlx 1.0.3\n",
      "vcf 0.6.7\n",
      "vcfnp 2.3.0.dev0\n",
      "h5py 2.4.0\n",
      "tables 3.1.1\n"
     ]
    }
   ],
   "source": [
    "%run _standard_imports.ipynb\n",
    "%run _shared_setup.ipynb\n"
   ]
  },
  {
   "cell_type": "code",
   "execution_count": 9,
   "metadata": {
    "collapsed": true
   },
   "outputs": [],
   "source": [
    "release5_final_files_dir = '/nfs/team112_internal/production/release_build/Pf3K/pilot_5_0'\n",
    "# chrom_vcf_fn = \"%s/SNP_INDEL_Pf3D7_04_v3.combined.filtered.vcf.gz\" % (release5_final_files_dir)\n",
    "\n",
    "output_dir = \"/lustre/scratch109/malaria/rp7/data/pf3k/pilot_5_0/20160718_Thomas_5_validation_vcf\"\n",
    "previous_output_dir = \"/lustre/scratch109/malaria/rp7/data/pf3k/pilot_5_0/20160524_Thomas_5_validation_vcf_and_CL\"\n",
    "\n",
    "!mkdir -p {output_dir}"
   ]
  },
  {
   "cell_type": "code",
   "execution_count": 3,
   "metadata": {
    "collapsed": true
   },
   "outputs": [],
   "source": [
    "BCFTOOLS = '/nfs/team112_internal/rp7/src/github/malariagen/methods-dev/pf3k_techbm/opt_4/bcftools/bcftools'"
   ]
  },
  {
   "cell_type": "code",
   "execution_count": 4,
   "metadata": {
    "collapsed": true
   },
   "outputs": [],
   "source": [
    "validation_ids = ['7G8', 'GB4', 'ERS740940', 'ERS740937', 'ERS740936']"
   ]
  },
  {
   "cell_type": "code",
   "execution_count": 10,
   "metadata": {
    "collapsed": false
   },
   "outputs": [
    {
     "name": "stdout",
     "output_type": "stream",
     "text": [
      "Lines   total/split/realigned/skipped:\t323786/0/153221/0\r\n"
     ]
    }
   ],
   "source": [
    "# Create Illumina VCF for Thomas\n",
    "wg_vcf_fn = \"%s/SNP_INDEL_WG.combined.filtered.vcf.gz\" % (release5_final_files_dir)\n",
    "\n",
    "validation_samples = ','.join(validation_ids)\n",
    "\n",
    "# subset_vcf_fn = \"%s/SNP_INDEL_WG.combined.filtered.validation.vcf.gz\" %  output_dir\n",
    "# biallelic_vcf_fn = \"%s/SNP_INDEL_WG.biallelic.vcf.gz\" %  output_dir\n",
    "subset_vcf_fn = \"%s/SNP_INDEL_WG.combined.filtered.validation.vcf.gz\" %  previous_output_dir\n",
    "biallelic_vcf_fn = \"%s/SNP_INDEL_WG.biallelic.vcf.gz\" %  previous_output_dir\n",
    "# regenotyped_vcf_fn = \"%s/SNP_INDEL_WG.regenotyped.vcf.gz\" %  output_dir\n",
    "new_af_vcf_fn = \"%s/SNP_INDEL_WG.new_af.vcf.gz\" %  output_dir\n",
    "nonref_vcf_fn = \"%s/SNP_INDEL_WG.nonref.vcf.gz\" %  output_dir\n",
    "minimal_vcf_fn = \"%s/SNP_INDEL_WG.minimal.vcf.gz\" %  output_dir\n",
    "thomas_vcf_fn = \"%s/SNP_INDEL_WG.for_thomas.vcf.gz\" %  output_dir\n",
    "pass_vcf_fn = \"%s/SNP_INDEL_WG.pass.vcf.gz\" %  output_dir\n",
    "\n",
    "# if not os.path.exists(subset_vcf_fn):\n",
    "#     !{BCFTOOLS} view -Oz -o {subset_vcf_fn} -s {validation_samples} {wg_vcf_fn}\n",
    "#     !{BCFTOOLS} index --tbi {subset_vcf_fn}\n",
    "\n",
    "# if not os.path.exists(biallelic_vcf_fn):\n",
    "#     !{BCFTOOLS} annotate --remove FORMAT/DP,FORMAT/GQ,FORMAT/PGT,FORMAT/PID,FORMAT/PL {subset_vcf_fn} | \\\n",
    "#     {BCFTOOLS} norm -m -any -Oz -o {biallelic_vcf_fn}\n",
    "#     !{BCFTOOLS} index --tbi {biallelic_vcf_fn}\n",
    "\n",
    "# if not os.path.exists(regenotyped_vcf_fn):\n",
    "#     !/nfs/team112/software/htslib/vfp/vfp_tool {biallelic_vcf_fn} /nfs/team112/software/htslib/vfp/just_call.config | \\\n",
    "#     bgzip -c > {regenotyped_vcf_fn}\n",
    "#     !{BCFTOOLS} index --tbi {regenotyped_vcf_fn}\n",
    "\n",
    "# This step no longer necessary as not regenotyping, so AD field already correct\n",
    "# if not os.path.exists(new_af_vcf_fn):\n",
    "#     !{BCFTOOLS} view -Oz -o {new_af_vcf_fn} {biallelic_vcf_fn}\n",
    "#     !{BCFTOOLS} index --tbi {new_af_vcf_fn}\n",
    "\n",
    "if not os.path.exists(nonref_vcf_fn):\n",
    "    !{BCFTOOLS} view --include 'AC>0 && ALT!=\"*\"' -Oz -o {nonref_vcf_fn} {biallelic_vcf_fn}\n",
    "    !{BCFTOOLS} index --tbi {nonref_vcf_fn}\n",
    "\n",
    "if not os.path.exists(minimal_vcf_fn):\n",
    "    !{BCFTOOLS} annotate --remove INFO/AF,INFO/BaseQRankSum,INFO/ClippingRankSum,INFO/DP,INFO/DS,INFO/END,INFO/FS,\\\n",
    "INFO/GC,INFO/HaplotypeScore,INFO/InbreedingCoeff,INFO/MLEAC,INFO/MLEAF,INFO/MQ,INFO/MQRankSum,INFO/NEGATIVE_TRAIN_SITE,\\\n",
    "INFO/POSITIVE_TRAIN_SITE,INFO/QD,INFO/ReadPosRankSum,INFO/RegionType,INFO/RPA,INFO/RU,INFO/SNPEFF_AMINO_ACID_CHANGE,\\\n",
    "INFO/SNPEFF_CODON_CHANGE,INFO/SNPEFF_EFFECT,INFO/SNPEFF_EXON_ID,INFO/SNPEFF_FUNCTIONAL_CLASS,INFO/SNPEFF_GENE_BIOTYPE,\\\n",
    "INFO/SNPEFF_GENE_NAME,INFO/SNPEFF_IMPACT,INFO/SNPEFF_TRANSCRIPT_ID,INFO/SOR,INFO/STR,INFO/VariantType,INFO/culprit,INFO/set, \\\n",
    "-Oz -o {minimal_vcf_fn} \\\n",
    "{nonref_vcf_fn}\n",
    "    !{BCFTOOLS} index --tbi {minimal_vcf_fn}\n",
    "\n",
    "if not os.path.exists(thomas_vcf_fn):\n",
    "    !{BCFTOOLS} norm --fasta-ref {GENOME_FN} -Oz -o {thomas_vcf_fn} {minimal_vcf_fn}\n",
    "    !{BCFTOOLS} index --tbi {thomas_vcf_fn}\n",
    "\n",
    "if not os.path.exists(pass_vcf_fn):\n",
    "    !{BCFTOOLS} view -f PASS -Oz -o {pass_vcf_fn} {thomas_vcf_fn}\n",
    "    !{BCFTOOLS} index --tbi {pass_vcf_fn}\n",
    "\n",
    "\n",
    "\n",
    "\n"
   ]
  },
  {
   "cell_type": "code",
   "execution_count": 13,
   "metadata": {
    "collapsed": false
   },
   "outputs": [],
   "source": [
    "# Sanity check what was changed by left aligning and normalising indels\n",
    "left_align_norm_diffs_dir = \"%s/left_align_norm_diffs\" %  output_dir\n",
    "!{BCFTOOLS} isec -p {left_align_norm_diffs_dir} -n-1 -c all {minimal_vcf_fn} {thomas_vcf_fn}"
   ]
  },
  {
   "cell_type": "code",
   "execution_count": 15,
   "metadata": {
    "collapsed": false
   },
   "outputs": [
    {
     "name": "stdout",
     "output_type": "stream",
     "text": [
      "Lines   total/split/realigned/skipped:\t251945/97387/0/0\n",
      "Lines   total/split/realigned/skipped:\t414363/0/114069/0\n"
     ]
    }
   ],
   "source": [
    "# Create PacBio VCF for Thomas\n",
    "pacbio_wg_vcf_fn = \"/nfs/team112_internal/rp7/data/pf3k/pacbio_1/vcf/pf3k_pacbio_1.vcf.gz\"\n",
    "\n",
    "biallelic_vcf_fn = \"%s/pf3k_pacbio_1.biallelic.vcf.gz\" %  output_dir\n",
    "nonref_vcf_fn = \"%s/pf3k_pacbio_1.nonref.vcf.gz\" %  output_dir\n",
    "minimal_vcf_fn = \"%s/pf3k_pacbio_1.minimal.vcf.gz\" %  output_dir\n",
    "thomas_vcf_fn = \"%s/pf3k_pacbio_1.for_thomas.vcf.gz\" %  output_dir\n",
    "pass_vcf_fn = \"%s/pf3k_pacbio_1.pass.vcf.gz\" %  output_dir\n",
    "\n",
    "if not os.path.exists(biallelic_vcf_fn):\n",
    "    !{BCFTOOLS} annotate --remove FORMAT/DP,FORMAT/GQ,FORMAT/PGT,FORMAT/PID,FORMAT/PL {pacbio_wg_vcf_fn} | \\\n",
    "    {BCFTOOLS} norm -m -any -Oz -o {biallelic_vcf_fn}\n",
    "    !{BCFTOOLS} index --tbi {biallelic_vcf_fn}\n",
    "\n",
    "if not os.path.exists(nonref_vcf_fn):\n",
    "    !{BCFTOOLS} view --include 'AC>0 && ALT!=\"*\"' -Oz -o {nonref_vcf_fn} {biallelic_vcf_fn}\n",
    "    !{BCFTOOLS} index --tbi {nonref_vcf_fn}\n",
    "\n",
    "if not os.path.exists(minimal_vcf_fn):\n",
    "    !{BCFTOOLS} annotate --remove INFO/AF,INFO/BaseQRankSum,INFO/ClippingRankSum,INFO/DP,INFO/DS,INFO/END,INFO/FS,\\\n",
    "INFO/GC,INFO/HaplotypeScore,INFO/InbreedingCoeff,INFO/MLEAC,INFO/MLEAF,INFO/MQ,INFO/MQRankSum,INFO/NEGATIVE_TRAIN_SITE,\\\n",
    "INFO/POSITIVE_TRAIN_SITE,INFO/QD,INFO/ReadPosRankSum,INFO/RegionType,INFO/RPA,INFO/RU,INFO/SNPEFF_AMINO_ACID_CHANGE,\\\n",
    "INFO/SNPEFF_CODON_CHANGE,INFO/SNPEFF_EFFECT,INFO/SNPEFF_EXON_ID,INFO/SNPEFF_FUNCTIONAL_CLASS,INFO/SNPEFF_GENE_BIOTYPE,\\\n",
    "INFO/SNPEFF_GENE_NAME,INFO/SNPEFF_IMPACT,INFO/SNPEFF_TRANSCRIPT_ID,INFO/SOR,INFO/STR,INFO/VariantType,INFO/culprit,INFO/set, \\\n",
    "-Oz -o {minimal_vcf_fn} \\\n",
    "{nonref_vcf_fn}\n",
    "    !{BCFTOOLS} index --tbi {minimal_vcf_fn}\n",
    "\n",
    "if not os.path.exists(thomas_vcf_fn):\n",
    "    !{BCFTOOLS} norm --fasta-ref {GENOME_FN} -Oz -o {thomas_vcf_fn} {minimal_vcf_fn}\n",
    "    !{BCFTOOLS} index --tbi {thomas_vcf_fn}\n",
    "\n",
    "if not os.path.exists(pass_vcf_fn):\n",
    "    !{BCFTOOLS} view -f PASS -Oz -o {pass_vcf_fn} {thomas_vcf_fn}\n",
    "    !{BCFTOOLS} index --tbi {pass_vcf_fn}\n"
   ]
  },
  {
   "cell_type": "code",
   "execution_count": 18,
   "metadata": {
    "collapsed": false
   },
   "outputs": [
    {
     "name": "stdout",
     "output_type": "stream",
     "text": [
      "Lines   total/split/realigned/skipped:\t259931/101637/0/0\n",
      "Lines   total/split/realigned/skipped:\t428336/0/118206/0\n"
     ]
    }
   ],
   "source": [
    "# Create PacBio 2 VCF for Thomas\n",
    "pacbio_wg_vcf_fn = \"/nfs/team112_internal/rp7/data/pf3k/pacbio_2/vcf/pf3k_pacbio_2.vcf.gz\"\n",
    "\n",
    "biallelic_vcf_fn = \"%s/pf3k_pacbio_2.biallelic.vcf.gz\" %  output_dir\n",
    "nonref_vcf_fn = \"%s/pf3k_pacbio_2.nonref.vcf.gz\" %  output_dir\n",
    "minimal_vcf_fn = \"%s/pf3k_pacbio_2.minimal.vcf.gz\" %  output_dir\n",
    "thomas_vcf_fn = \"%s/pf3k_pacbio_2.for_thomas.vcf.gz\" %  output_dir\n",
    "pass_vcf_fn = \"%s/pf3k_pacbio_2.pass.vcf.gz\" %  output_dir\n",
    "\n",
    "if not os.path.exists(biallelic_vcf_fn):\n",
    "    !{BCFTOOLS} annotate --remove FORMAT/DP,FORMAT/GQ,FORMAT/PGT,FORMAT/PID,FORMAT/PL {pacbio_wg_vcf_fn} | \\\n",
    "    {BCFTOOLS} norm -m -any -Oz -o {biallelic_vcf_fn}\n",
    "    !{BCFTOOLS} index --tbi {biallelic_vcf_fn}\n",
    "\n",
    "if not os.path.exists(nonref_vcf_fn):\n",
    "    !{BCFTOOLS} view --include 'AC>0 && ALT!=\"*\"' -Oz -o {nonref_vcf_fn} {biallelic_vcf_fn}\n",
    "    !{BCFTOOLS} index --tbi {nonref_vcf_fn}\n",
    "\n",
    "if not os.path.exists(minimal_vcf_fn):\n",
    "    !{BCFTOOLS} annotate --remove INFO/AF,INFO/BaseQRankSum,INFO/ClippingRankSum,INFO/DP,INFO/DS,INFO/END,INFO/FS,\\\n",
    "INFO/GC,INFO/HaplotypeScore,INFO/InbreedingCoeff,INFO/MLEAC,INFO/MLEAF,INFO/MQ,INFO/MQRankSum,INFO/NEGATIVE_TRAIN_SITE,\\\n",
    "INFO/POSITIVE_TRAIN_SITE,INFO/QD,INFO/ReadPosRankSum,INFO/RegionType,INFO/RPA,INFO/RU,INFO/SNPEFF_AMINO_ACID_CHANGE,\\\n",
    "INFO/SNPEFF_CODON_CHANGE,INFO/SNPEFF_EFFECT,INFO/SNPEFF_EXON_ID,INFO/SNPEFF_FUNCTIONAL_CLASS,INFO/SNPEFF_GENE_BIOTYPE,\\\n",
    "INFO/SNPEFF_GENE_NAME,INFO/SNPEFF_IMPACT,INFO/SNPEFF_TRANSCRIPT_ID,INFO/SOR,INFO/STR,INFO/VariantType,INFO/culprit,INFO/set, \\\n",
    "-Oz -o {minimal_vcf_fn} \\\n",
    "{nonref_vcf_fn}\n",
    "    !{BCFTOOLS} index --tbi {minimal_vcf_fn}\n",
    "\n",
    "if not os.path.exists(thomas_vcf_fn):\n",
    "    !{BCFTOOLS} norm --fasta-ref {GENOME_FN} -Oz -o {thomas_vcf_fn} {minimal_vcf_fn}\n",
    "    !{BCFTOOLS} index --tbi {thomas_vcf_fn}\n",
    "\n",
    "if not os.path.exists(pass_vcf_fn):\n",
    "    !{BCFTOOLS} view -f PASS -Oz -o {pass_vcf_fn} {thomas_vcf_fn}\n",
    "    !{BCFTOOLS} index --tbi {pass_vcf_fn}\n"
   ]
  },
  {
   "cell_type": "code",
   "execution_count": 19,
   "metadata": {
    "collapsed": false
   },
   "outputs": [
    {
     "data": {
      "text/plain": [
       "'/lustre/scratch109/malaria/rp7/data/pf3k/pilot_5_0/20160718_Thomas_5_validation_vcf/pf3k_pacbio_2.for_thomas.vcf.gz'"
      ]
     },
     "execution_count": 19,
     "metadata": {},
     "output_type": "execute_result"
    }
   ],
   "source": [
    "thomas_vcf_fn"
   ]
  },
  {
   "cell_type": "code",
   "execution_count": 16,
   "metadata": {
    "collapsed": false
   },
   "outputs": [
    {
     "name": "stdout",
     "output_type": "stream",
     "text": [
      "Lines   total/split/realigned/skipped:\t574132/177620/0/0\n",
      "Lines   total/split/realigned/skipped:\t737644/0/95757/0\n"
     ]
    }
   ],
   "source": [
    "# Create Illumina 16 100bp VCF for Thomas\n",
    "mrs_1_wg_vcf_fn = \"/nfs/team112_internal/rp7/data/pf3k/mrs_1/vcf/pf3k_mrs_1.vcf.gz\"\n",
    "\n",
    "biallelic_vcf_fn = \"%s/pf3k_mrs_1.biallelic.vcf.gz\" %  output_dir\n",
    "nonref_vcf_fn = \"%s/pf3k_mrs_1.nonref.vcf.gz\" %  output_dir\n",
    "minimal_vcf_fn = \"%s/pf3k_mrs_1.minimal.vcf.gz\" %  output_dir\n",
    "thomas_vcf_fn = \"%s/pf3k_mrs_1.for_thomas.vcf.gz\" %  output_dir\n",
    "pass_vcf_fn = \"%s/pf3k_mrs_1.pass.vcf.gz\" %  output_dir\n",
    "\n",
    "if not os.path.exists(biallelic_vcf_fn):\n",
    "    !{BCFTOOLS} annotate --remove FORMAT/DP,FORMAT/GQ,FORMAT/PGT,FORMAT/PID,FORMAT/PL {mrs_1_wg_vcf_fn} | \\\n",
    "    {BCFTOOLS} norm -m -any -Oz -o {biallelic_vcf_fn}\n",
    "    !{BCFTOOLS} index --tbi {biallelic_vcf_fn}\n",
    "\n",
    "if not os.path.exists(nonref_vcf_fn):\n",
    "    !{BCFTOOLS} view --include 'AC>0 && ALT!=\"*\"' -Oz -o {nonref_vcf_fn} {biallelic_vcf_fn}\n",
    "    !{BCFTOOLS} index --tbi {nonref_vcf_fn}\n",
    "\n",
    "if not os.path.exists(minimal_vcf_fn):\n",
    "    !{BCFTOOLS} annotate --remove INFO/AF,INFO/BaseQRankSum,INFO/ClippingRankSum,INFO/DP,INFO/DS,INFO/END,INFO/FS,\\\n",
    "INFO/GC,INFO/HaplotypeScore,INFO/InbreedingCoeff,INFO/MLEAC,INFO/MLEAF,INFO/MQ,INFO/MQRankSum,INFO/NEGATIVE_TRAIN_SITE,\\\n",
    "INFO/POSITIVE_TRAIN_SITE,INFO/QD,INFO/ReadPosRankSum,INFO/RegionType,INFO/RPA,INFO/RU,INFO/SNPEFF_AMINO_ACID_CHANGE,\\\n",
    "INFO/SNPEFF_CODON_CHANGE,INFO/SNPEFF_EFFECT,INFO/SNPEFF_EXON_ID,INFO/SNPEFF_FUNCTIONAL_CLASS,INFO/SNPEFF_GENE_BIOTYPE,\\\n",
    "INFO/SNPEFF_GENE_NAME,INFO/SNPEFF_IMPACT,INFO/SNPEFF_TRANSCRIPT_ID,INFO/SOR,INFO/STR,INFO/VariantType,INFO/culprit,INFO/set, \\\n",
    "-Oz -o {minimal_vcf_fn} \\\n",
    "{nonref_vcf_fn}\n",
    "    !{BCFTOOLS} index --tbi {minimal_vcf_fn}\n",
    "\n",
    "if not os.path.exists(thomas_vcf_fn):\n",
    "    !{BCFTOOLS} norm --fasta-ref {GENOME_FN} -Oz -o {thomas_vcf_fn} {minimal_vcf_fn}\n",
    "    !{BCFTOOLS} index --tbi {thomas_vcf_fn}\n",
    "\n",
    "if not os.path.exists(pass_vcf_fn):\n",
    "    !{BCFTOOLS} view -f PASS -Oz -o {pass_vcf_fn} {thomas_vcf_fn}\n",
    "    !{BCFTOOLS} index --tbi {pass_vcf_fn}\n"
   ]
  },
  {
   "cell_type": "code",
   "execution_count": 14,
   "metadata": {
    "collapsed": true
   },
   "outputs": [],
   "source": [
    "!{BCFTOOLS} isec -p {left_align_norm_diffs_dir} {minimal_vcf_fn} {thomas_vcf_fn}"
   ]
  },
  {
   "cell_type": "code",
   "execution_count": null,
   "metadata": {
    "collapsed": true
   },
   "outputs": [],
   "source": []
  }
 ],
 "metadata": {
  "kernelspec": {
   "display_name": "Python [default]",
   "language": "python",
   "name": "python3"
  },
  "language_info": {
   "codemirror_mode": {
    "name": "ipython",
    "version": 3
   },
   "file_extension": ".py",
   "mimetype": "text/x-python",
   "name": "python",
   "nbconvert_exporter": "python",
   "pygments_lexer": "ipython3",
   "version": "3.4.5"
  }
 },
 "nbformat": 4,
 "nbformat_minor": 0
}
