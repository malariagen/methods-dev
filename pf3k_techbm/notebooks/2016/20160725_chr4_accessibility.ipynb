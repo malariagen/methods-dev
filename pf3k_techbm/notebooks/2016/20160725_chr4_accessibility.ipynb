{
 "cells": [
  {
   "cell_type": "code",
   "execution_count": 1,
   "metadata": {
    "collapsed": false
   },
   "outputs": [
    {
     "name": "stdout",
     "output_type": "stream",
     "text": [
      "python 3.4.3 |Anaconda 2.2.0 (64-bit)| (default, Mar  6 2015, 12:03:53) \n",
      "[GCC 4.4.7 20120313 (Red Hat 4.4.7-1)]\n",
      "numpy 1.9.2\n",
      "scipy 0.15.1\n",
      "pandas 0.15.2\n",
      "numexpr 2.3.1\n",
      "pysam 0.8.3\n",
      "pysamstats 0.23\n",
      "petl 1.0.11\n",
      "petlx 1.0.3\n",
      "vcf 0.6.7\n",
      "vcfnp 2.3.0.dev0\n",
      "h5py 2.4.0\n",
      "tables 3.1.1\n"
     ]
    }
   ],
   "source": [
    "%run _standard_imports.ipynb\n",
    "%run _shared_setup.ipynb\n",
    "%run _plotting_setup.ipynb"
   ]
  },
  {
   "cell_type": "code",
   "execution_count": 2,
   "metadata": {
    "collapsed": true
   },
   "outputs": [],
   "source": [
    "accessibility_fn = \"/nfs/team112_internal/rp7/data/pf3k/analysis/20160718_pilot_manuscript_accessibility/accessibility_array_2512_field.npy\""
   ]
  },
  {
   "cell_type": "code",
   "execution_count": 3,
   "metadata": {
    "collapsed": true
   },
   "outputs": [],
   "source": [
    "accessibility = np.load(accessibility_fn)"
   ]
  },
  {
   "cell_type": "code",
   "execution_count": 4,
   "metadata": {
    "collapsed": false
   },
   "outputs": [
    {
     "data": {
      "text/plain": [
       "array([(b'Pf3D7_01_v3', 1, 8), (b'Pf3D7_01_v3', 2, 9),\n",
       "       (b'Pf3D7_01_v3', 3, 19), ..., (b'Pf_M76611', 5965, 2502),\n",
       "       (b'Pf_M76611', 5966, 2501), (b'Pf_M76611', 5967, 2501)], \n",
       "      dtype=[('chrom', 'S11'), ('pos', '<i4'), ('coverage', '<i4')])"
      ]
     },
     "execution_count": 4,
     "metadata": {},
     "output_type": "execute_result"
    }
   ],
   "source": [
    "accessibility"
   ]
  },
  {
   "cell_type": "code",
   "execution_count": 26,
   "metadata": {
    "collapsed": false,
    "scrolled": true
   },
   "outputs": [
    {
     "data": {
      "text/plain": [
       "array([2356, 2353, 2353, ..., 2348, 2353, 2350], dtype=int32)"
      ]
     },
     "execution_count": 26,
     "metadata": {},
     "output_type": "execute_result"
    }
   ],
   "source": [
    "chr4_core = (\n",
    "    ( accessibility['chrom']==b'Pf3D7_04_v3' ) &\n",
    "    (\n",
    "        ( (accessibility['pos'] >= 91421) & (accessibility['pos'] <= 545800) ) |\n",
    "        ( (accessibility['pos'] >= 614901) & (accessibility['pos'] <= 642003) ) |\n",
    "        ( (accessibility['pos'] >= 644530) & (accessibility['pos'] <= 935030) ) |\n",
    "        ( (accessibility['pos'] >= 983081) & (accessibility['pos'] <= 1143990) )\n",
    "    )\n",
    ")\n",
    "np.sum(chr4_core)\n",
    "accessibility[chr4_core]['coverage']"
   ]
  },
  {
   "cell_type": "code",
   "execution_count": 23,
   "metadata": {
    "collapsed": false
   },
   "outputs": [
    {
     "data": {
      "text/plain": [
       "160910"
      ]
     },
     "execution_count": 23,
     "metadata": {},
     "output_type": "execute_result"
    }
   ],
   "source": [
    "np.sum((accessibility['chrom']==b'Pf3D7_04_v3') & (accessibility['pos'] >= 983081) & (accessibility['pos'] <= 1143990))"
   ]
  },
  {
   "cell_type": "code",
   "execution_count": 27,
   "metadata": {
    "collapsed": false
   },
   "outputs": [
    {
     "name": "stdout",
     "output_type": "stream",
     "text": [
      "0.5 913830 0.979564666511\n",
      "0.8 861066 0.923005186013\n",
      "0.9 712786 0.764058939172\n",
      "0.95 564666 0.605284201635\n",
      "0.98 420645 0.450903318062\n"
     ]
    }
   ],
   "source": [
    "for threshold in [0.5, 0.8, 0.9, 0.95, 0.98]:\n",
    "    number_of_bases_accessible = np.sum(accessibility[chr4_core]['coverage'] >= 2512*threshold)\n",
    "    print(threshold, number_of_bases_accessible, number_of_bases_accessible/np.sum(chr4_core))"
   ]
  },
  {
   "cell_type": "code",
   "execution_count": 28,
   "metadata": {
    "collapsed": true
   },
   "outputs": [],
   "source": [
    "accessibility2 = np.load(\"/nfs/team112_internal/rp7/data/pf3k/analysis/20160713_pilot_manuscript_accessibility/accessibility_array.npy\")"
   ]
  },
  {
   "cell_type": "code",
   "execution_count": 29,
   "metadata": {
    "collapsed": false
   },
   "outputs": [
    {
     "data": {
      "text/plain": [
       "array([1844, 1844, 1844, ..., 1822, 1822, 1822], dtype=int32)"
      ]
     },
     "execution_count": 29,
     "metadata": {},
     "output_type": "execute_result"
    }
   ],
   "source": [
    "chr4_core = (\n",
    "    ( accessibility2['chrom']==b'Pf3D7_04_v3' ) &\n",
    "    (\n",
    "        ( (accessibility2['pos'] >= 91421) & (accessibility2['pos'] <= 545800) ) |\n",
    "        ( (accessibility2['pos'] >= 614901) & (accessibility2['pos'] <= 642003) ) |\n",
    "        ( (accessibility2['pos'] >= 644530) & (accessibility2['pos'] <= 935030) ) |\n",
    "        ( (accessibility2['pos'] >= 983081) & (accessibility2['pos'] <= 1143990) )\n",
    "    )\n",
    ")\n",
    "np.sum(chr4_core)\n",
    "accessibility2[chr4_core]['coverage']"
   ]
  },
  {
   "cell_type": "code",
   "execution_count": 30,
   "metadata": {
    "collapsed": false
   },
   "outputs": [
    {
     "name": "stdout",
     "output_type": "stream",
     "text": [
      "0.5 916077 0.981973300289\n",
      "0.8 901397 0.966237321711\n",
      "0.9 884093 0.947688590558\n",
      "0.95 859692 0.92153234987\n",
      "0.98 811873 0.870273578777\n",
      "0.99 781541 0.837759702603\n"
     ]
    }
   ],
   "source": [
    "for threshold in [0.5, 0.8, 0.9, 0.95, 0.98, 0.99]:\n",
    "    number_of_bases_accessible = np.sum(accessibility2[chr4_core]['coverage'] >= 1848*threshold)\n",
    "    print(threshold, number_of_bases_accessible, number_of_bases_accessible/np.sum(chr4_core))"
   ]
  },
  {
   "cell_type": "code",
   "execution_count": null,
   "metadata": {
    "collapsed": true
   },
   "outputs": [],
   "source": []
  }
 ],
 "metadata": {
  "kernelspec": {
   "display_name": "Python 3",
   "language": "python",
   "name": "python3"
  },
  "language_info": {
   "codemirror_mode": {
    "name": "ipython",
    "version": 3
   },
   "file_extension": ".py",
   "mimetype": "text/x-python",
   "name": "python",
   "nbconvert_exporter": "python",
   "pygments_lexer": "ipython3",
   "version": "3.5.2"
  }
 },
 "nbformat": 4,
 "nbformat_minor": 0
}
