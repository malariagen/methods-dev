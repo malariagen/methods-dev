{
 "cells": [
  {
   "cell_type": "markdown",
   "metadata": {},
   "source": [
    "# Imports"
   ]
  },
  {
   "cell_type": "code",
   "execution_count": 2,
   "metadata": {
    "collapsed": false
   },
   "outputs": [
    {
     "name": "stdout",
     "output_type": "stream",
     "text": [
      "docker image: podpearson/biipy_rdp:latest\n"
     ]
    }
   ],
   "source": [
    "# %run imports.ipynb"
   ]
  },
  {
   "cell_type": "markdown",
   "metadata": {},
   "source": [
    "# Key emails\n",
    "- Release 4 pipeline details are in \"Re: Pf3k pipeline status\" sent by Dushi 02/10/2015 16:47\n",
    "- Release 4_5validation details are in \"Re: Modifications to Pf3k pipeline\" sent by Dushi 28/09/2015 12:00\n",
    "- Interim 5 details are in \"pf3k gatk pipelines\" sent by Dushi 30/10/2015 12:36"
   ]
  },
  {
   "cell_type": "markdown",
   "metadata": {},
   "source": [
    "# Setup"
   ]
  },
  {
   "cell_type": "code",
   "execution_count": 3,
   "metadata": {
    "collapsed": false
   },
   "outputs": [],
   "source": [
    "DATA_DIR = '/nfs/team112_internal/rp7/data/pf3k'\n",
    "if not os.path.exists(DATA_DIR):\n",
    "    os.makedirs(DATA_DIR)"
   ]
  },
  {
   "cell_type": "markdown",
   "metadata": {},
   "source": [
    "## All potentailly interesting VCF filenames"
   ]
  },
  {
   "cell_type": "code",
   "execution_count": 4,
   "metadata": {
    "collapsed": false
   },
   "outputs": [],
   "source": [
    "WG_VCF_FNS = collections.OrderedDict()\n",
    "CHROM_VCF_FNS = collections.OrderedDict()\n",
    "\n",
    "WG_VCF_FNS['release3'] = '/nfs/team112_internal/production/release_build/Pf3K/pilot_3_0/all_merged_with_calls_vfp_v4.vcf.gz'\n",
    "WG_VCF_FNS['release4'] = os.path.join(DATA_DIR, 'release4', 'sites', 'sites_only_vcfs', 'release4_WG_sites.vcf.gz')\n",
    "WG_VCF_FNS['release4_5validation'] = os.path.join(DATA_DIR, 'release4_5validation', 'sites', 'sites_only_vcfs', 'release4_5validation_WG_sites.vcf.gz')\n",
    "WG_VCF_FNS['interim5'] = os.path.join(DATA_DIR, 'interim5', 'sites', 'sites_only_vcfs', 'interim5_WG_sites.vcf.gz')\n",
    "WG_VCF_FNS['release5'] = '/nfs/team112_internal/production/release_build/Pf3K/pilot_5_0/SNP_INDEL_WG.combined.filtered.vcf.gz'\n",
    "# WG_VCF_FNS['release4_5validation'] = os.path.join(DATA_DIR, 'release4_5validation')\n",
    "# WG_VCF_FNS['interim5'] = os.path.join(DATA_DIR, 'interim5')\n",
    "\n",
    "CHROM_VCF_FNS['release4'] = collections.OrderedDict()\n",
    "for chrom in ['Pf3D7_%02d_v3' % x for x in range(1, 15)] + ['Pf3D7_API_v3', 'Pf_M76611']:\n",
    "    CHROM_VCF_FNS['release4'][chrom] = '/nfs/team112_internal/production/release_build/Pf3K/pilot_4_0/SNP_INDEL_%s.combined.filtered.vcf.gz' % chrom\n",
    "\n",
    "CHROM_VCF_FNS['release4_5validation'] = collections.OrderedDict()\n",
    "CHROM_VCF_FNS['release4_5validation']['Pf3D7_01_v3'] = '/lustre/scratch110/malaria/dj6/pf3k/output/variant_filtration/e/b/f/a/15179/1_gatk_variant_filter_gatk3/SNP_INDEL_Pf3D7_01_v3.combined.filtered.vcf.gz'\n",
    "CHROM_VCF_FNS['release4_5validation']['Pf3D7_02_v3'] = '/lustre/scratch110/malaria/dj6/pf3k/output/variant_filtration/4/8/3/9/15180/1_gatk_variant_filter_gatk3/SNP_INDEL_Pf3D7_02_v3.combined.filtered.vcf.gz'\n",
    "CHROM_VCF_FNS['release4_5validation']['Pf3D7_03_v3'] = '/lustre/scratch110/malaria/dj6/pf3k/output/variant_filtration/4/2/4/0/15181/1_gatk_variant_filter_gatk3/SNP_INDEL_Pf3D7_03_v3.combined.filtered.vcf.gz'\n",
    "CHROM_VCF_FNS['release4_5validation']['Pf3D7_04_v3'] = '/lustre/scratch110/malaria/dj6/pf3k/output/variant_filtration/5/c/c/9/15182/1_gatk_variant_filter_gatk3/SNP_INDEL_Pf3D7_04_v3.combined.filtered.vcf.gz'\n",
    "CHROM_VCF_FNS['release4_5validation']['Pf3D7_05_v3'] = '/lustre/scratch110/malaria/dj6/pf3k/output/variant_filtration/6/1/c/9/15183/1_gatk_variant_filter_gatk3/SNP_INDEL_Pf3D7_05_v3.combined.filtered.vcf.gz'\n",
    "CHROM_VCF_FNS['release4_5validation']['Pf3D7_06_v3'] = '/lustre/scratch110/malaria/dj6/pf3k/output/variant_filtration/f/4/2/9/15184/1_gatk_variant_filter_gatk3/SNP_INDEL_Pf3D7_06_v3.combined.filtered.vcf.gz'\n",
    "CHROM_VCF_FNS['release4_5validation']['Pf3D7_07_v3'] = '/lustre/scratch110/malaria/dj6/pf3k/output/variant_filtration/7/c/e/d/15185/1_gatk_variant_filter_gatk3/SNP_INDEL_Pf3D7_07_v3.combined.filtered.vcf.gz'\n",
    "CHROM_VCF_FNS['release4_5validation']['Pf3D7_08_v3'] = '/lustre/scratch110/malaria/dj6/pf3k/output/variant_filtration/0/5/1/0/15186/1_gatk_variant_filter_gatk3/SNP_INDEL_Pf3D7_08_v3.combined.filtered.vcf.gz'\n",
    "CHROM_VCF_FNS['release4_5validation']['Pf3D7_09_v3'] = '/lustre/scratch110/malaria/dj6/pf3k/output/variant_filtration/c/4/c/f/15187/1_gatk_variant_filter_gatk3/SNP_INDEL_Pf3D7_09_v3.combined.filtered.vcf.gz'\n",
    "CHROM_VCF_FNS['release4_5validation']['Pf3D7_10_v3'] = '/lustre/scratch110/malaria/dj6/pf3k/output/variant_filtration/a/2/4/2/15188/1_gatk_variant_filter_gatk3/SNP_INDEL_Pf3D7_10_v3.combined.filtered.vcf.gz'\n",
    "CHROM_VCF_FNS['release4_5validation']['Pf3D7_11_v3'] = '/lustre/scratch110/malaria/dj6/pf3k/output/variant_filtration/3/e/1/d/15189/1_gatk_variant_filter_gatk3/SNP_INDEL_Pf3D7_11_v3.combined.filtered.vcf.gz'\n",
    "CHROM_VCF_FNS['release4_5validation']['Pf3D7_12_v3'] = '/lustre/scratch110/malaria/dj6/pf3k/output/variant_filtration/6/6/c/8/15190/1_gatk_variant_filter_gatk3/SNP_INDEL_Pf3D7_12_v3.combined.filtered.vcf.gz'\n",
    "CHROM_VCF_FNS['release4_5validation']['Pf3D7_13_v3'] = '/lustre/scratch110/malaria/dj6/pf3k/output/variant_filtration/b/6/7/4/15191/1_gatk_variant_filter_gatk3/SNP_INDEL_Pf3D7_13_v3.combined.filtered.vcf.gz'\n",
    "CHROM_VCF_FNS['release4_5validation']['Pf3D7_14_v3'] = '/lustre/scratch110/malaria/dj6/pf3k/output/variant_filtration/3/e/2/d/15192/1_gatk_variant_filter_gatk3/SNP_INDEL_Pf3D7_14_v3.combined.filtered.vcf.gz'\n",
    "CHROM_VCF_FNS['release4_5validation']['Pf3D7_API_v3'] = '/lustre/scratch110/malaria/dj6/pf3k/output/variant_filtration/0/3/b/e/15193/1_gatk_variant_filter_gatk3/SNP_INDEL_Pf3D7_API_v3.combined.filtered.vcf.gz'\n",
    "CHROM_VCF_FNS['release4_5validation']['Pf_M76611'] = '/lustre/scratch110/malaria/dj6/pf3k/output/variant_filtration/3/7/6/3/15194/1_gatk_variant_filter_gatk3/SNP_INDEL_Pf_M76611.combined.filtered.vcf.gz'\n",
    "\n",
    "CHROM_VCF_FNS['release4'] = collections.OrderedDict()\n",
    "for chrom in ['Pf3D7_%02d_v3' % x for x in range(1, 15)] + ['Pf3D7_API_v3', 'Pf_M76611']:\n",
    "    CHROM_VCF_FNS['release4'][chrom] = '/nfs/team112_internal/production/release_build/Pf3K/pilot_4_0/SNP_INDEL_%s.combined.filtered.vcf.gz' % chrom\n",
    "CHROM_VCF_FNS['release5'] = collections.OrderedDict()\n",
    "for chrom in ['Pf3D7_%02d_v3' % x for x in range(1, 15)] + ['Pf3D7_API_v3', 'Pf_M76611']:\n",
    "    CHROM_VCF_FNS['release5'][chrom] = '/nfs/team112_internal/production/release_build/Pf3K/pilot_5_0/SNP_INDEL_%s.combined.filtered.vcf.gz' % chrom\n",
    "\n",
    "INTERIM5_VCF_FOFN = '/lustre/scratch109/malaria/pf3k_methods/input/output_fofn/pf3kgatk_variant_filtration_ps583for_2640samples.output'\n",
    "CHROM_VCF_FNS['interim5'] = collections.OrderedDict()\n",
    "for row in etl.fromtsv(INTERIM5_VCF_FOFN).sort('chrom').data():\n",
    "    CHROM_VCF_FNS['interim5'][row[1]] = row[0]\n"
   ]
  },
  {
   "cell_type": "markdown",
   "metadata": {},
   "source": [
    "## Numpy files"
   ]
  },
  {
   "cell_type": "code",
   "execution_count": 5,
   "metadata": {
    "collapsed": true
   },
   "outputs": [],
   "source": [
    "SITES_NPY_FNS = collections.OrderedDict()\n",
    "for release in WG_VCF_FNS:\n",
    "    output_dir = '%s/%s/sites/sites_only_vcfs' % (DATA_DIR, release)\n",
    "    SITES_NPY_FNS[release] = '%s/%s_%s_sites.vcf.gz.vcfnp_cache/variants.npy' % (output_dir, release, 'WG')\n"
   ]
  },
  {
   "cell_type": "code",
   "execution_count": 8,
   "metadata": {
    "collapsed": true
   },
   "outputs": [],
   "source": [
    "CROSSES_TRAINING_FNS = collections.OrderedDict()\n",
    "CROSSES_TRAINING_FNS['hb3_dd2']='/data/plasmodium/pfalciparum/pf-crosses/data/public/1.0/hb3_dd2.combined.final.npz'\n",
    "CROSSES_TRAINING_FNS['3d7_hb3']='/data/plasmodium/pfalciparum/pf-crosses/data/public/1.0/3d7_hb3.combined.final.npz'\n",
    "CROSSES_TRAINING_FNS['7g8_gb4']='/data/plasmodium/pfalciparum/pf-crosses/data/public/1.0/7g8_gb4.combined.final.npz'\n"
   ]
  },
  {
   "cell_type": "code",
   "execution_count": 6,
   "metadata": {
    "collapsed": false
   },
   "outputs": [],
   "source": [
    "SITES_H5_FNS = collections.OrderedDict()\n",
    "for release in WG_VCF_FNS:\n",
    "    output_dir = '%s/%s/sites/sites_only_vcfs' % (DATA_DIR, release)\n",
    "    SITES_H5_FNS[release] = '%s/%s_%s_sites.h5' % (output_dir, release, 'WG')\n"
   ]
  },
  {
   "cell_type": "markdown",
   "metadata": {},
   "source": [
    "## Reference files"
   ]
  },
  {
   "cell_type": "code",
   "execution_count": 7,
   "metadata": {
    "collapsed": true
   },
   "outputs": [],
   "source": [
    "RELEASE4_RESOURCES_DIR = '/lustre/scratch109/malaria/pf3k_methods/resources'\n",
    "\n",
    "GENOME_FNS = collections.OrderedDict()\n",
    "# The following is from http://plasmodb.org/common/downloads/release-9.2/Pfalciparum3D7/fasta/data/PlasmoDB-9.2_Pfalciparum3D7_Genome.fasta\n",
    "GENOME_FNS['release4'] = '%s/Pfalciparum.genome.fasta' % RELEASE4_RESOURCES_DIR\n",
    "GENOME_FN = GENOME_FNS['release4']\n",
    "\n",
    "SNPEFF_DIRS = collections.OrderedDict()\n",
    "SNPEFF_DIRS['release4'] = '%s/snpEff/data/Pfalciparum_GeneDB_Aug2015' % RELEASE4_RESOURCES_DIR\n",
    "\n",
    "GFF_FNS = collections.OrderedDict()\n",
    "for annotation_version in SNPEFF_DIRS:\n",
    "    GFF_FNS[annotation_version] = \"%s/genes.gff\" % SNPEFF_DIRS[annotation_version]\n",
    "    \n",
    "# REGIONS_FN = '/nfs/team112_internal/rp7/src/github/malariagen/pf-crosses/meta/regions-20130225.bed.gz'\n",
    "REGIONS_FN = '/nfs/team112_internal/rp7/src/github/malariagen/pf-crosses/meta/regions-20130225.bed.gz'"
   ]
  },
  {
   "cell_type": "markdown",
   "metadata": {
    "collapsed": true
   },
   "source": [
    "## Sample metadata"
   ]
  },
  {
   "cell_type": "code",
   "execution_count": 2,
   "metadata": {
    "collapsed": true
   },
   "outputs": [],
   "source": [
    "SAMPLE_METADATA_FN = '/nfs/team112_internal/production/release_build/Pf3K/pilot_5_0/pf3k_release_5_metadata.txt'"
   ]
  },
  {
   "cell_type": "markdown",
   "metadata": {},
   "source": [
    "# Sanity checks"
   ]
  },
  {
   "cell_type": "code",
   "execution_count": 14,
   "metadata": {
    "collapsed": false
   },
   "outputs": [
    {
     "data": {
      "text/plain": [
       "'/lustre/scratch109/malaria/pf3k_methods/output/1/f/5/c/394734/1_gatk_variant_filter_gatk3/SNP_INDEL_Pf3D7_01_v3.combined.filtered.vcf.gz'"
      ]
     },
     "execution_count": 14,
     "metadata": {},
     "output_type": "execute_result"
    }
   ],
   "source": [
    "CHROM_VCF_FNS['interim5']['Pf3D7_01_v3']"
   ]
  },
  {
   "cell_type": "code",
   "execution_count": null,
   "metadata": {
    "collapsed": true
   },
   "outputs": [],
   "source": []
  }
 ],
 "metadata": {
  "kernelspec": {
   "display_name": "Python 3",
   "language": "python",
   "name": "python3"
  },
  "language_info": {
   "codemirror_mode": {
    "name": "ipython",
    "version": 3
   },
   "file_extension": ".py",
   "mimetype": "text/x-python",
   "name": "python",
   "nbconvert_exporter": "python",
   "pygments_lexer": "ipython3",
   "version": "3.4.3"
  }
 },
 "nbformat": 4,
 "nbformat_minor": 0
}
