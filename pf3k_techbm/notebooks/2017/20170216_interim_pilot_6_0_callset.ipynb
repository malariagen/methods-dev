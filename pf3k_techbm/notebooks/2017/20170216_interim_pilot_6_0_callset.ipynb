{
 "cells": [
  {
   "cell_type": "markdown",
   "metadata": {},
   "source": [
    "# Introduction\n",
    "This notebook is used to create the Pf3k pilot 6.0 release call set. This call set is exactly the same as the 5.0 call set, except a new defintion of the core genome (from Thomas) is used, and hence filters need changing appropriately.\n",
    "\n",
    "Following emails on 16/02/2017, it was decided not to use this new call set for analyses."
   ]
  },
  {
   "cell_type": "code",
   "execution_count": 2,
   "metadata": {
    "collapsed": false
   },
   "outputs": [
    {
     "name": "stdout",
     "output_type": "stream",
     "text": [
      "python 3.5.2 |Continuum Analytics, Inc.| (default, Jul  2 2016, 17:53:06) \n",
      "[GCC 4.4.7 20120313 (Red Hat 4.4.7-1)]\n",
      "numpy 1.11.2\n",
      "scipy 0.18.1\n",
      "pandas 0.19.0\n",
      "numexpr 2.6.1\n",
      "pysam 0.8.4\n",
      "petl 1.1.0\n",
      "petlx 1.0.3\n",
      "vcf 0.6.8\n",
      "vcfnp 2.2.0\n",
      "h5py 2.6.0\n",
      "tables 3.3.0\n"
     ]
    }
   ],
   "source": [
    "%run _standard_imports.ipynb"
   ]
  },
  {
   "cell_type": "code",
   "execution_count": 36,
   "metadata": {
    "collapsed": false
   },
   "outputs": [],
   "source": [
    "temp_dir = '/lustre/scratch118/malaria/team112/personal/rp7/data/methods-dev/pf3k_techbm/20170216_pilot_6_0_callset'\n",
    "release5_final_files_dir = '/nfs/team112_internal/production/release_build/Pf3K/pilot_5_0'\n",
    "release6_final_files_dir = '/nfs/team112_internal/production/release_build/Pf3K/interim_pilot_6_0'\n",
    "alt_core_bed_fn = '%s/regions-20170213.onebased.txt.gz' % release5_final_files_dir\n",
    "\n",
    "GENOME_FN = \"/lustre/scratch118/malaria/team112/pipelines/resources/pf3k_methods/resources/Pfalciparum.genome.fasta\"\n",
    "genome_fn = \"%s/Pfalciparum.genome.fasta\" % temp_dir\n"
   ]
  },
  {
   "cell_type": "code",
   "execution_count": 32,
   "metadata": {
    "collapsed": true
   },
   "outputs": [],
   "source": [
    "!mkdir -p {temp_dir}\n",
    "!mkdir -p {release6_final_files_dir}\n",
    "\n",
    "!mkdir -p {temp_dir}/scripts\n",
    "!mkdir -p {temp_dir}/log\n"
   ]
  },
  {
   "cell_type": "code",
   "execution_count": 38,
   "metadata": {
    "collapsed": false
   },
   "outputs": [
    {
     "data": {
      "text/plain": [
       "<pyfasta.fasta.Fasta at 0x2adbfae17d30>"
      ]
     },
     "execution_count": 38,
     "metadata": {},
     "output_type": "execute_result"
    }
   ],
   "source": [
    "!cp {GENOME_FN} {genome_fn}\n",
    "genome = pyfasta.Fasta(genome_fn)\n",
    "genome"
   ]
  },
  {
   "cell_type": "markdown",
   "metadata": {},
   "source": [
    "# Function to filter one chromosome"
   ]
  },
  {
   "cell_type": "code",
   "execution_count": 12,
   "metadata": {
    "collapsed": false
   },
   "outputs": [],
   "source": [
    "annotations_header_fn = \"%s/annotations.hdr\" % (temp_dir)\n",
    "fo=open(annotations_header_fn, 'w')\n",
    "print('##INFO=<ID=NewRegionType,Number=1,Type=String,Description=\"The type of genome region within which the variant is found. SubtelomericRepeat: repetitive regions at the ends of the chromosomes. SubtelomericHypervariable: subtelomeric region of poor conservation between the 3D7 reference genome and other samples. InternalHypervariable: chromosome-internal region of poor conservation between the 3D7 reference genome and other samples. Centromere: start and end coordinates of the centromere genome annotation. Core_both: core region defined both in crosses paper and by Thomas. Core_Thomas: core region defined only by Thomas (i.e. not core in crosses paper).\">', file=fo)\n",
    "fo.close()"
   ]
  },
  {
   "cell_type": "code",
   "execution_count": 22,
   "metadata": {
    "collapsed": false
   },
   "outputs": [],
   "source": [
    "def filter_vcf(\n",
    "    input_vcf_fn = \"%s/SNP_INDEL_%s.combined.filtered.vcf.gz\" % (release5_final_files_dir, 'Pf3D7_01_v3'),\n",
    "    output_vcf_fn = \"%s/SNP_INDEL_%s.combined.filtered.vcf.gz\" % (release6_final_files_dir, 'Pf3D7_01_v3')\n",
    "):\n",
    "    !bcftools annotate -a {alt_core_bed_fn} -c CHROM,FROM,TO,NewRegionType --remove 'FILTER' -h {annotations_header_fn} {input_vcf_fn} | \\\n",
    "    bcftools filter --soft-filter 'Non_core' --include 'NewRegionType=\"Core_both\" || NewRegionType=\"Core_Thomas\"' | \\\n",
    "    bcftools filter --soft-filter 'Low_VQSLOD' --include 'VQSLOD>0.0' --mode + --output {output_vcf_fn} --output-type z"
   ]
  },
  {
   "cell_type": "code",
   "execution_count": null,
   "metadata": {
    "collapsed": true
   },
   "outputs": [],
   "source": []
  },
  {
   "cell_type": "code",
   "execution_count": 23,
   "metadata": {
    "collapsed": false
   },
   "outputs": [],
   "source": [
    "filter_vcf()"
   ]
  },
  {
   "cell_type": "code",
   "execution_count": 24,
   "metadata": {
    "collapsed": true
   },
   "outputs": [],
   "source": [
    "!bcftools index --tbi {\"%s/SNP_INDEL_%s.combined.filtered.vcf.gz\" % (release6_final_files_dir, 'Pf3D7_01_v3')}"
   ]
  },
  {
   "cell_type": "markdown",
   "metadata": {},
   "source": [
    "# Sanity check results"
   ]
  },
  {
   "cell_type": "code",
   "execution_count": 25,
   "metadata": {
    "collapsed": true
   },
   "outputs": [],
   "source": [
    "def create_variants_npy(vcf_fn):\n",
    "    output_dir = '%s.vcfnp_cache' % vcf_fn\n",
    "    if not os.path.exists(output_dir):\n",
    "        os.makedirs(output_dir)\n",
    "    vcfnp.variants(\n",
    "        vcf_fn,\n",
    "#         fields=['NewRegionType', 'RegionType', 'FILTER', 'VQSLOD'],\n",
    "        fields=['NewRegionType', 'RegionType', 'FILTER'],\n",
    "        dtypes={\n",
    "            'NewRegionType':            'a25',\n",
    "            'RegionType':               'a25',\n",
    "        },\n",
    "        flatten_filter=True,\n",
    "        progress=100000,\n",
    "        verbose=True,\n",
    "        cache=True,\n",
    "        cachedir=output_dir\n",
    "    )\n"
   ]
  },
  {
   "cell_type": "code",
   "execution_count": 26,
   "metadata": {
    "collapsed": false,
    "scrolled": true
   },
   "outputs": [
    {
     "name": "stderr",
     "output_type": "stream",
     "text": [
      "[vcfnp] 2017-02-16 09:43:13.732328 :: caching is enabled\n",
      "[vcfnp] 2017-02-16 09:43:13.734344 :: no cache file found\n",
      "[vcfnp] 2017-02-16 09:43:13.735887 :: building array\n",
      "[vcfnp] 2017-02-16 09:47:08.435299 :: 100000 rows in 234.69s; batch in 234.69s (426 rows/s)\n",
      "[vcfnp] 2017-02-16 09:49:32.785427 :: 159946 rows in 379.04s (421 rows/s)\n",
      "[vcfnp] 2017-02-16 09:49:32.786914 :: saving to cache file /nfs/team112_internal/production/release_build/Pf3K/pilot_6_0/SNP_INDEL_Pf3D7_01_v3.combined.filtered.vcf.gz.vcfnp_cache/variants.npy\n"
     ]
    }
   ],
   "source": [
    "create_variants_npy(\"%s/SNP_INDEL_%s.combined.filtered.vcf.gz\" % (release6_final_files_dir, 'Pf3D7_01_v3'))"
   ]
  },
  {
   "cell_type": "code",
   "execution_count": 27,
   "metadata": {
    "collapsed": false,
    "scrolled": true
   },
   "outputs": [
    {
     "name": "stderr",
     "output_type": "stream",
     "text": [
      "[vcfnp] 2017-02-16 09:50:07.101182 :: caching is enabled\n",
      "[vcfnp] 2017-02-16 09:50:07.105952 :: no cache file found\n",
      "[vcfnp] 2017-02-16 09:50:07.107077 :: building array\n",
      "WARNING: duplicate definition in header: Centromere\n",
      "WARNING: duplicate definition in header: InternalHypervariable\n",
      "WARNING: duplicate definition in header: Low_VQSLOD\n",
      "WARNING: duplicate definition in header: SubtelomericHypervariable\n",
      "WARNING: duplicate definition in header: SubtelomericRepeat\n",
      "WARNING: no INFO definition found for field NewRegionType\n",
      "[vcfnp] 2017-02-16 09:54:02.343486 :: 100000 rows in 235.22s; batch in 235.22s (425 rows/s)\n",
      "[vcfnp] 2017-02-16 09:56:27.664961 :: 159946 rows in 380.54s (420 rows/s)\n",
      "[vcfnp] 2017-02-16 09:56:27.666740 :: saving to cache file /nfs/team112_internal/production/release_build/Pf3K/pilot_5_0/SNP_INDEL_Pf3D7_01_v3.combined.filtered.vcf.gz.vcfnp_cache/variants.npy\n"
     ]
    }
   ],
   "source": [
    "create_variants_npy(\"%s/SNP_INDEL_%s.combined.filtered.vcf.gz\" % (release5_final_files_dir, 'Pf3D7_01_v3'))"
   ]
  },
  {
   "cell_type": "code",
   "execution_count": 28,
   "metadata": {
    "collapsed": true
   },
   "outputs": [],
   "source": [
    "release_5_variants = np.load(\"%s.vcfnp_cache/variants.npy\" % \"%s/SNP_INDEL_%s.combined.filtered.vcf.gz\" % (release5_final_files_dir, 'Pf3D7_01_v3'))\n",
    "release_6_variants = np.load(\"%s.vcfnp_cache/variants.npy\" % \"%s/SNP_INDEL_%s.combined.filtered.vcf.gz\" % (release6_final_files_dir, 'Pf3D7_01_v3'))\n"
   ]
  },
  {
   "cell_type": "code",
   "execution_count": 29,
   "metadata": {
    "collapsed": false
   },
   "outputs": [
    {
     "data": {
      "text/plain": [
       "(array([ (b'', b'Centromere', True, False, False, False, False, False, False, False, False, False, False, False),\n",
       "        (b'', b'Centromere', True, False, False, True, False, False, False, False, False, False, False, False),\n",
       "        (b'', b'Core', False, False, False, False, False, False, False, False, False, False, False, True),\n",
       "        (b'', b'Core', False, False, False, True, False, False, False, False, False, False, False, False),\n",
       "        (b'', b'SubtelomericHypervariable', False, False, False, False, False, False, False, False, False, False, False, True),\n",
       "        (b'', b'SubtelomericHypervariable', False, False, False, False, True, False, False, False, False, False, False, False),\n",
       "        (b'', b'SubtelomericHypervariable', False, False, False, True, False, False, False, False, False, False, False, False),\n",
       "        (b'', b'SubtelomericHypervariable', False, False, False, True, True, False, False, False, False, False, False, False),\n",
       "        (b'', b'SubtelomericRepeat', False, False, False, False, False, False, False, False, False, False, False, True),\n",
       "        (b'', b'SubtelomericRepeat', False, False, False, False, False, True, False, False, False, False, False, False),\n",
       "        (b'', b'SubtelomericRepeat', False, False, False, True, False, True, False, False, False, False, False, False)], \n",
       "       dtype=[('NewRegionType', 'S25'), ('RegionType', 'S25'), ('FILTER_Centromere', '?'), ('FILTER_InternalHypervariable', '?'), ('FILTER_LowQual', '?'), ('FILTER_Low_VQSLOD', '?'), ('FILTER_SubtelomericHypervariable', '?'), ('FILTER_SubtelomericRepeat', '?'), ('FILTER_VQSRTrancheINDEL99.00to99.90', '?'), ('FILTER_VQSRTrancheINDEL99.90to100.00', '?'), ('FILTER_VQSRTrancheINDEL99.90to100.00+', '?'), ('FILTER_VQSRTrancheSNP99.90to100.00', '?'), ('FILTER_VQSRTrancheSNP99.90to100.00+', '?'), ('FILTER_PASS', '?')]),\n",
       " array([   80,    24, 45115, 25405,     1, 13452,     1, 35436,     1,\n",
       "        12848, 27583]))"
      ]
     },
     "execution_count": 29,
     "metadata": {},
     "output_type": "execute_result"
    }
   ],
   "source": [
    "np.unique(release_5_variants, return_counts=True)"
   ]
  },
  {
   "cell_type": "code",
   "execution_count": 30,
   "metadata": {
    "collapsed": false
   },
   "outputs": [
    {
     "data": {
      "text/plain": [
       "(array([(b'Centromere', b'Centromere', False, True, False),\n",
       "        (b'Centromere', b'Centromere', True, True, False),\n",
       "        (b'Core_Thomas', b'SubtelomericHypervariable', False, False, True),\n",
       "        (b'Core_Thomas', b'SubtelomericHypervariable', True, False, False),\n",
       "        (b'Core_both', b'Core', False, False, True),\n",
       "        (b'Core_both', b'Core', True, False, False),\n",
       "        (b'SubtelomericHypervariable', b'SubtelomericHypervariable', False, True, False),\n",
       "        (b'SubtelomericHypervariable', b'SubtelomericHypervariable', True, True, False),\n",
       "        (b'SubtelomericRepeat', b'SubtelomericRepeat', False, True, False),\n",
       "        (b'SubtelomericRepeat', b'SubtelomericRepeat', True, True, False)], \n",
       "       dtype=[('NewRegionType', 'S25'), ('RegionType', 'S25'), ('FILTER_Low_VQSLOD', '?'), ('FILTER_Non_core', '?'), ('FILTER_PASS', '?')]),\n",
       " array([   80,    24,  1523,  8944, 45115, 25405, 11930, 26493, 12849, 27583]))"
      ]
     },
     "execution_count": 30,
     "metadata": {},
     "output_type": "execute_result"
    }
   ],
   "source": [
    "np.unique(release_6_variants, return_counts=True)"
   ]
  },
  {
   "cell_type": "markdown",
   "metadata": {},
   "source": [
    "# Filter all chromosomes"
   ]
  },
  {
   "cell_type": "code",
   "execution_count": 34,
   "metadata": {
    "collapsed": false
   },
   "outputs": [],
   "source": [
    "fo = open(\"%s/scripts/filter_vcf.sh\" % temp_dir, 'w')\n",
    "print('''#!/bin/bash\n",
    "\n",
    "#set changes bash options\n",
    "#x prints commands & args as they are executed\n",
    "set -x\n",
    "#-e  Exit immediately if a command exits with a non-zero status\n",
    "set -e\n",
    "#reports the last program to return a non-0 exit code rather than the exit code of the last problem\n",
    "set -o pipefail\n",
    "\n",
    "input_vcf_fn=$1\n",
    "output_vcf_fn=$2\n",
    "alt_core_bed_fn=$3\n",
    "annotations_header_fn=$4\n",
    "\n",
    "bcftools annotate -a $alt_core_bed_fn -c CHROM,FROM,TO,NewRegionType --remove 'FILTER' -h $annotations_header_fn $input_vcf_fn | \\\n",
    "    bcftools filter --soft-filter 'Non_core' --include 'NewRegionType=\"Core_both\" || NewRegionType=\"Core_Thomas\"' | \\\n",
    "    bcftools filter --soft-filter 'Low_VQSLOD' --include 'VQSLOD>0.0' --mode + --output $output_vcf_fn --output-type z\n",
    "\n",
    "bcftools index --tbi $output_vcf_fn\n",
    "\n",
    "''', file=fo)\n",
    "fo.close()\n"
   ]
  },
  {
   "cell_type": "code",
   "execution_count": 46,
   "metadata": {
    "collapsed": false
   },
   "outputs": [
    {
     "name": "stdout",
     "output_type": "stream",
     "text": [
      "Pf3D7_01_v3\n",
      "Job <2936484> is submitted to queue <normal>.\n",
      "Pf3D7_02_v3\n",
      "Job <2936485> is submitted to queue <normal>.\n",
      "Pf3D7_03_v3\n",
      "Job <2936486> is submitted to queue <normal>.\n",
      "Pf3D7_04_v3\n",
      "Job <2936487> is submitted to queue <normal>.\n",
      "Pf3D7_05_v3\n",
      "Job <2936488> is submitted to queue <normal>.\n",
      "Pf3D7_06_v3\n",
      "Job <2936489> is submitted to queue <normal>.\n",
      "Pf3D7_07_v3\n",
      "Job <2936490> is submitted to queue <normal>.\n",
      "Pf3D7_08_v3\n",
      "Job <2936492> is submitted to queue <normal>.\n",
      "Pf3D7_09_v3\n",
      "Job <2936494> is submitted to queue <normal>.\n",
      "Pf3D7_10_v3\n",
      "Job <2936497> is submitted to queue <normal>.\n",
      "Pf3D7_11_v3\n",
      "Job <2936499> is submitted to queue <normal>.\n",
      "Pf3D7_12_v3\n",
      "Job <2936501> is submitted to queue <normal>.\n",
      "Pf3D7_13_v3\n",
      "Job <2936504> is submitted to queue <normal>.\n",
      "Pf3D7_14_v3\n",
      "Job <2936505> is submitted to queue <normal>.\n",
      "Pf3D7_API_v3\n",
      "Job <2936506> is submitted to queue <normal>.\n",
      "Pf_M76611\n",
      "Job <2936508> is submitted to queue <normal>.\n"
     ]
    }
   ],
   "source": [
    "for chrom in sorted(genome.keys()):\n",
    "    input_vcf_fn = \"%s/SNP_INDEL_%s.combined.filtered.vcf.gz\" % (release5_final_files_dir, chrom)\n",
    "    output_vcf_fn = \"%s/SNP_INDEL_%s.combined.filtered.vcf.gz\" % (release6_final_files_dir, chrom)\n",
    "    \n",
    "    print(chrom)\n",
    "\n",
    "    task = \"%s/scripts/filter_vcf.sh\" % temp_dir\n",
    "    !bsub -q normal -G malaria-dk -J \"v_{chrom[6:8]}\" -n2 -R\"select[mem>4000] rusage[mem=4000] span[hosts=1]\" -M 4000 -o {temp_dir}/log/output_%J.log bash {task} {input_vcf_fn} {output_vcf_fn} {alt_core_bed_fn} {annotations_header_fn} \n"
   ]
  },
  {
   "cell_type": "markdown",
   "metadata": {},
   "source": [
    "# Cleanup"
   ]
  },
  {
   "cell_type": "code",
   "execution_count": null,
   "metadata": {
    "collapsed": true
   },
   "outputs": [],
   "source": [
    "!rm -R /nfs/team112_internal/production/release_build/Pf3K/pilot_6_0\n",
    "# !rm -R {temp_dir}"
   ]
  },
  {
   "cell_type": "code",
   "execution_count": null,
   "metadata": {
    "collapsed": true
   },
   "outputs": [],
   "source": [
    "2+2"
   ]
  },
  {
   "cell_type": "code",
   "execution_count": null,
   "metadata": {
    "collapsed": true
   },
   "outputs": [],
   "source": []
  }
 ],
 "metadata": {
  "kernelspec": {
   "display_name": "Python 3",
   "language": "python",
   "name": "python3"
  },
  "language_info": {
   "codemirror_mode": {
    "name": "ipython",
    "version": 3
   },
   "file_extension": ".py",
   "mimetype": "text/x-python",
   "name": "python",
   "nbconvert_exporter": "python",
   "pygments_lexer": "ipython3",
   "version": "3.5.2"
  }
 },
 "nbformat": 4,
 "nbformat_minor": 1
}
