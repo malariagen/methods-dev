{
 "cells": [
  {
   "cell_type": "code",
   "execution_count": 1,
   "metadata": {
    "collapsed": false
   },
   "outputs": [
    {
     "name": "stdout",
     "output_type": "stream",
     "text": [
      "python 3.5.2 |Continuum Analytics, Inc.| (default, Jul  2 2016, 17:53:06) \n",
      "[GCC 4.4.7 20120313 (Red Hat 4.4.7-1)]\n",
      "numpy 1.11.2\n",
      "scipy 0.18.1\n",
      "pandas 0.19.0\n",
      "numexpr 2.6.1\n",
      "pysam 0.8.4\n",
      "petl 1.1.0\n",
      "petlx 1.0.3\n",
      "vcf 0.6.8\n",
      "vcfnp 2.2.0\n",
      "h5py 2.6.0\n",
      "tables 3.3.0\n"
     ]
    }
   ],
   "source": [
    "%run _standard_imports.ipynb"
   ]
  },
  {
   "cell_type": "code",
   "execution_count": 5,
   "metadata": {
    "collapsed": false
   },
   "outputs": [],
   "source": [
    "release5_final_files_dir = '/nfs/team112_internal/production/release_build/Pf3K/pilot_5_0'\n",
    "alt_core_bed_fn = '%s/regions-20170213.onebased.txt.gz' % release5_final_files_dir\n"
   ]
  },
  {
   "cell_type": "code",
   "execution_count": 9,
   "metadata": {
    "collapsed": false
   },
   "outputs": [
    {
     "data": {
      "text/html": [
       "<table class='petl'>\n",
       "<thead>\n",
       "<tr>\n",
       "<th>chrom</th>\n",
       "<th>start</th>\n",
       "<th>end</th>\n",
       "<th>region</th>\n",
       "<th>length</th>\n",
       "</tr>\n",
       "</thead>\n",
       "<tbody>\n",
       "<tr>\n",
       "<td>Pf3D7_01_v3</td>\n",
       "<td style='text-align: right'>1</td>\n",
       "<td style='text-align: right'>27336</td>\n",
       "<td>SubtelomericRepeat</td>\n",
       "<td style='text-align: right'>27336</td>\n",
       "</tr>\n",
       "<tr>\n",
       "<td>Pf3D7_01_v3</td>\n",
       "<td style='text-align: right'>27337</td>\n",
       "<td style='text-align: right'>66912</td>\n",
       "<td>SubtelomericHypervariable</td>\n",
       "<td style='text-align: right'>39576</td>\n",
       "</tr>\n",
       "<tr>\n",
       "<td>Pf3D7_01_v3</td>\n",
       "<td style='text-align: right'>66913</td>\n",
       "<td style='text-align: right'>92900</td>\n",
       "<td>Core_Thomas</td>\n",
       "<td style='text-align: right'>25988</td>\n",
       "</tr>\n",
       "<tr>\n",
       "<td>Pf3D7_01_v3</td>\n",
       "<td style='text-align: right'>92901</td>\n",
       "<td style='text-align: right'>457931</td>\n",
       "<td>Core_both</td>\n",
       "<td style='text-align: right'>365031</td>\n",
       "</tr>\n",
       "<tr>\n",
       "<td>Pf3D7_01_v3</td>\n",
       "<td style='text-align: right'>457932</td>\n",
       "<td style='text-align: right'>460311</td>\n",
       "<td>Centromere</td>\n",
       "<td style='text-align: right'>2380</td>\n",
       "</tr>\n",
       "</tbody>\n",
       "</table>\n",
       "<p><strong>...</strong></p>"
      ],
      "text/plain": [
       "+---------------+--------+--------+-----------------------------+--------+\n",
       "| chrom         | start  | end    | region                      | length |\n",
       "+===============+========+========+=============================+========+\n",
       "| 'Pf3D7_01_v3' |      1 |  27336 | 'SubtelomericRepeat'        |  27336 |\n",
       "+---------------+--------+--------+-----------------------------+--------+\n",
       "| 'Pf3D7_01_v3' |  27337 |  66912 | 'SubtelomericHypervariable' |  39576 |\n",
       "+---------------+--------+--------+-----------------------------+--------+\n",
       "| 'Pf3D7_01_v3' |  66913 |  92900 | 'Core_Thomas'               |  25988 |\n",
       "+---------------+--------+--------+-----------------------------+--------+\n",
       "| 'Pf3D7_01_v3' |  92901 | 457931 | 'Core_both'                 | 365031 |\n",
       "+---------------+--------+--------+-----------------------------+--------+\n",
       "| 'Pf3D7_01_v3' | 457932 | 460311 | 'Centromere'                |   2380 |\n",
       "+---------------+--------+--------+-----------------------------+--------+\n",
       "..."
      ]
     },
     "execution_count": 9,
     "metadata": {},
     "output_type": "execute_result"
    }
   ],
   "source": [
    "tbl_alt_core_bed = (\n",
    "    etl\n",
    "    .fromtsv(alt_core_bed_fn)\n",
    "    .pushheader(['chrom', 'start', 'end', 'region'])\n",
    "    .convertnumbers()\n",
    "    .addfield('length', lambda rec: rec['end'] - rec['start'] + 1)    \n",
    ")\n",
    "tbl_alt_core_bed"
   ]
  },
  {
   "cell_type": "code",
   "execution_count": 10,
   "metadata": {
    "collapsed": false
   },
   "outputs": [
    {
     "data": {
      "text/plain": [
       "23292642"
      ]
     },
     "execution_count": 10,
     "metadata": {},
     "output_type": "execute_result"
    }
   ],
   "source": [
    "sum(tbl_alt_core_bed.values('length'))"
   ]
  },
  {
   "cell_type": "code",
   "execution_count": 12,
   "metadata": {
    "collapsed": false
   },
   "outputs": [
    {
     "data": {
      "text/html": [
       "<table class='petl'>\n",
       "<thead>\n",
       "<tr>\n",
       "<th>region</th>\n",
       "<th>value</th>\n",
       "</tr>\n",
       "</thead>\n",
       "<tbody>\n",
       "<tr>\n",
       "<td>Centromere</td>\n",
       "<td style='text-align: right'>31922</td>\n",
       "</tr>\n",
       "<tr>\n",
       "<td>Core_Thomas</td>\n",
       "<td style='text-align: right'>511281</td>\n",
       "</tr>\n",
       "<tr>\n",
       "<td>Core_both</td>\n",
       "<td style='text-align: right'>20782107</td>\n",
       "</tr>\n",
       "<tr>\n",
       "<td>InternalHypervariable</td>\n",
       "<td style='text-align: right'>285092</td>\n",
       "</tr>\n",
       "<tr>\n",
       "<td>SubtelomericHypervariable</td>\n",
       "<td style='text-align: right'>1120274</td>\n",
       "</tr>\n",
       "<tr>\n",
       "<td>SubtelomericRepeat</td>\n",
       "<td style='text-align: right'>561966</td>\n",
       "</tr>\n",
       "</tbody>\n",
       "</table>\n"
      ]
     },
     "metadata": {},
     "output_type": "display_data"
    }
   ],
   "source": [
    "(\n",
    "    tbl_alt_core_bed\n",
    "    .aggregate('region', sum, 'length')\n",
    "    .displayall()\n",
    ")\n",
    "    \n"
   ]
  },
  {
   "cell_type": "code",
   "execution_count": null,
   "metadata": {
    "collapsed": true
   },
   "outputs": [],
   "source": []
  }
 ],
 "metadata": {
  "kernelspec": {
   "display_name": "Python 3",
   "language": "python",
   "name": "python3"
  },
  "language_info": {
   "codemirror_mode": {
    "name": "ipython",
    "version": 3
   },
   "file_extension": ".py",
   "mimetype": "text/x-python",
   "name": "python",
   "nbconvert_exporter": "python",
   "pygments_lexer": "ipython3",
   "version": "3.5.2"
  }
 },
 "nbformat": 4,
 "nbformat_minor": 1
}
