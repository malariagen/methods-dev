{
 "cells": [
  {
   "cell_type": "code",
   "execution_count": 12,
   "metadata": {
    "collapsed": true
   },
   "outputs": [],
   "source": [
    "WG_VCF_FN = \"/nfs/team112_internal/production_files/Pf/1147_Conway/conway_5_1_annot_gt.vcf.gz\"\n",
    "FINAL_VCF_FN = \"/nfs/team112_internal/production_files/Pf/1147_Conway/conway_5_1_annot_gt_nonref.vcf.gz\"\n",
    "BCFTOOLS = 'bcftools'\n"
   ]
  },
  {
   "cell_type": "code",
   "execution_count": 2,
   "metadata": {
    "collapsed": true
   },
   "outputs": [],
   "source": [
    "!tabix -p vcf {WG_VCF_FN}\n",
    "!md5sum {WG_VCF_FN} > {WG_VCF_FN}.md5"
   ]
  },
  {
   "cell_type": "code",
   "execution_count": 14,
   "metadata": {
    "collapsed": false
   },
   "outputs": [],
   "source": [
    "!bcftools view --include 'AC>0' --output-type z --output-file {FINAL_VCF_FN} {WG_VCF_FN}\n",
    "!bcftools index --tbi {FINAL_VCF_FN}\n",
    "!md5sum {FINAL_VCF_FN} > {FINAL_VCF_FN}.md5"
   ]
  },
  {
   "cell_type": "code",
   "execution_count": 3,
   "metadata": {
    "collapsed": false
   },
   "outputs": [
    {
     "name": "stdout",
     "output_type": "stream",
     "text": [
      "5,141,838 variants\n",
      "1,441,405 SNPs\n",
      "3,700,433 indels\n",
      "\n",
      "1,241,840 PASS variants\n",
      "425,161 PASS SNPs\n",
      "816,679 PASS indels\n",
      "\n",
      "416,083 PASS biallelic variants\n",
      "416,083 PASS biallelic SNPs\n",
      "0 PASS biallelic indels\n",
      "\n"
     ]
    },
    {
     "ename": "ValueError",
     "evalue": "invalid literal for int() with base 10: '[filter.c:1449 filters_init1] Error: the tag \"INFO/VQSLOD\" is not defined in the VCF header'",
     "output_type": "error",
     "traceback": [
      "\u001b[0;31m---------------------------------------------------------------------------\u001b[0m",
      "\u001b[0;31mValueError\u001b[0m                                Traceback (most recent call last)",
      "\u001b[0;32m<ipython-input-3-bdae99ee5902>\u001b[0m in \u001b[0;36m<module>\u001b[0;34m()\u001b[0m\n\u001b[1;32m     20\u001b[0m \u001b[0mprint\u001b[0m\u001b[0;34m(\u001b[0m\u001b[0;34m\"%s PASS biallelic indels\"\u001b[0m \u001b[0;34m%\u001b[0m \u001b[0;34m(\u001b[0m\u001b[0;34m\"{:,}\"\u001b[0m\u001b[0;34m.\u001b[0m\u001b[0mformat\u001b[0m\u001b[0;34m(\u001b[0m\u001b[0mint\u001b[0m\u001b[0;34m(\u001b[0m\u001b[0mnumber_of_pass_biallelic_indels\u001b[0m\u001b[0;34m[\u001b[0m\u001b[0;36m0\u001b[0m\u001b[0;34m]\u001b[0m\u001b[0;34m)\u001b[0m\u001b[0;34m)\u001b[0m\u001b[0;34m)\u001b[0m\u001b[0;34m)\u001b[0m\u001b[0;34m\u001b[0m\u001b[0m\n\u001b[1;32m     21\u001b[0m \u001b[0mprint\u001b[0m\u001b[0;34m(\u001b[0m\u001b[0;34m)\u001b[0m\u001b[0;34m\u001b[0m\u001b[0m\n\u001b[0;32m---> 22\u001b[0;31m \u001b[0mprint\u001b[0m\u001b[0;34m(\u001b[0m\u001b[0;34m\"%s VQSLOD>6.0 variants\"\u001b[0m \u001b[0;34m%\u001b[0m \u001b[0;34m(\u001b[0m\u001b[0;34m\"{:,}\"\u001b[0m\u001b[0;34m.\u001b[0m\u001b[0mformat\u001b[0m\u001b[0;34m(\u001b[0m\u001b[0mint\u001b[0m\u001b[0;34m(\u001b[0m\u001b[0mnumber_of_VQSLODgt6_snps\u001b[0m\u001b[0;34m[\u001b[0m\u001b[0;36m0\u001b[0m\u001b[0;34m]\u001b[0m\u001b[0;34m)\u001b[0m \u001b[0;34m+\u001b[0m \u001b[0mint\u001b[0m\u001b[0;34m(\u001b[0m\u001b[0mnumber_of_VQSLODgt6_indels\u001b[0m\u001b[0;34m[\u001b[0m\u001b[0;36m0\u001b[0m\u001b[0;34m]\u001b[0m\u001b[0;34m)\u001b[0m\u001b[0;34m)\u001b[0m\u001b[0;34m)\u001b[0m\u001b[0;34m)\u001b[0m\u001b[0;34m\u001b[0m\u001b[0m\n\u001b[0m\u001b[1;32m     23\u001b[0m \u001b[0mprint\u001b[0m\u001b[0;34m(\u001b[0m\u001b[0;34m\"%s VQSLOD>6.0 SNPs\"\u001b[0m \u001b[0;34m%\u001b[0m \u001b[0;34m(\u001b[0m\u001b[0;34m\"{:,}\"\u001b[0m\u001b[0;34m.\u001b[0m\u001b[0mformat\u001b[0m\u001b[0;34m(\u001b[0m\u001b[0mint\u001b[0m\u001b[0;34m(\u001b[0m\u001b[0mnumber_of_VQSLODgt6_snps\u001b[0m\u001b[0;34m[\u001b[0m\u001b[0;36m0\u001b[0m\u001b[0;34m]\u001b[0m\u001b[0;34m)\u001b[0m\u001b[0;34m)\u001b[0m\u001b[0;34m)\u001b[0m\u001b[0;34m)\u001b[0m\u001b[0;34m\u001b[0m\u001b[0m\n\u001b[1;32m     24\u001b[0m \u001b[0mprint\u001b[0m\u001b[0;34m(\u001b[0m\u001b[0;34m\"%s VQSLOD>6.0 indels\"\u001b[0m \u001b[0;34m%\u001b[0m \u001b[0;34m(\u001b[0m\u001b[0;34m\"{:,}\"\u001b[0m\u001b[0;34m.\u001b[0m\u001b[0mformat\u001b[0m\u001b[0;34m(\u001b[0m\u001b[0mint\u001b[0m\u001b[0;34m(\u001b[0m\u001b[0mnumber_of_VQSLODgt6_indels\u001b[0m\u001b[0;34m[\u001b[0m\u001b[0;36m0\u001b[0m\u001b[0;34m]\u001b[0m\u001b[0;34m)\u001b[0m\u001b[0;34m)\u001b[0m\u001b[0;34m)\u001b[0m\u001b[0;34m)\u001b[0m\u001b[0;34m\u001b[0m\u001b[0m\n",
      "\u001b[0;31mValueError\u001b[0m: invalid literal for int() with base 10: '[filter.c:1449 filters_init1] Error: the tag \"INFO/VQSLOD\" is not defined in the VCF header'"
     ]
    }
   ],
   "source": [
    "number_of_variants = !{BCFTOOLS} query -f '%CHROM\\t%POS\\n' {WG_VCF_FN} | wc -l\n",
    "number_of_snps = !{BCFTOOLS} query -f '%CHROM\\t%POS\\n' --include 'TYPE=\"snp\"' {WG_VCF_FN} | wc -l\n",
    "number_of_ref_only = !{BCFTOOLS} query -f '%CHROM\\t%POS\\n' --include 'N_ALT=0' {WG_VCF_FN} | wc -l\n",
    "number_of_pass_variants = !{BCFTOOLS} query -f '%CHROM\\t%POS\\n' --include 'FILTER=\"PASS\"' {WG_VCF_FN} | wc -l\n",
    "number_of_pass_snps = !{BCFTOOLS} query -f '%CHROM\\t%POS\\n' --include 'FILTER=\"PASS\" && TYPE=\"snp\"' {WG_VCF_FN} | wc -l\n",
    "number_of_pass_ref_only = !{BCFTOOLS} query -f '%CHROM\\t%POS\\n' --include 'FILTER=\"PASS\" && N_ALT=0' {WG_VCF_FN} | wc -l\n",
    "number_of_pass_biallelic_variants = !{BCFTOOLS} query -f '%CHROM\\t%POS\\n' --include 'FILTER=\"PASS\" && N_ALT=1' {WG_VCF_FN} | wc -l\n",
    "number_of_pass_biallelic_snps = !{BCFTOOLS} query -f '%CHROM\\t%POS\\n' --include 'FILTER=\"PASS\" && TYPE=\"snp\" && N_ALT=1' {WG_VCF_FN} | wc -l\n",
    "number_of_pass_biallelic_ref_only = !{BCFTOOLS} query -f '%CHROM\\t%POS\\n' --include 'FILTER=\"PASS\" && TYPE=\"snp\" && N_ALT=1 && N_ALT=0' {WG_VCF_FN} | wc -l\n",
    "\n",
    "print(\"%s variants\" % (\"{:,}\".format(int(number_of_variants))))\n",
    "print(\"%s SNPs\" % (\"{:,}\".format(int(number_of_snps[0]))))\n",
    "print(\"%s ref only\" % (\"{:,}\".format(int(number_of_ref_only[0]))))\n",
    "print()\n",
    "print(\"%s PASS variants\" % (\"{:,}\".format(int(number_of_pass_variants))))\n",
    "print(\"%s PASS SNPs\" % (\"{:,}\".format(int(number_of_pass_snps[0]))))\n",
    "print(\"%s PASS ref only\" % (\"{:,}\".format(int(number_of_pass_indels[0]))))\n",
    "print()\n",
    "print(\"%s PASS biallelic variants\" % (\"{:,}\".format(int(number_of_pass_biallelic_variants))))\n",
    "print(\"%s PASS biallelic SNPs\" % (\"{:,}\".format(int(number_of_pass_biallelic_snps[0]))))\n",
    "print(\"%s PASS biallelic ref only\" % (\"{:,}\".format(int(number_of_pass_biallelic_ref_only[0]))))\n",
    "print()\n",
    "# print(\"%s VQSLOD>6.0 variants\" % (\"{:,}\".format(int(number_of_VQSLODgt6_snps[0]) + int(number_of_VQSLODgt6_indels[0]))))\n",
    "# print(\"%s VQSLOD>6.0 SNPs\" % (\"{:,}\".format(int(number_of_VQSLODgt6_snps[0]))))\n",
    "# print(\"%s VQSLOD>6.0 indels\" % (\"{:,}\".format(int(number_of_VQSLODgt6_indels[0]))))\n",
    "# print()\n",
    "     "
   ]
  },
  {
   "cell_type": "code",
   "execution_count": 5,
   "metadata": {
    "collapsed": false
   },
   "outputs": [
    {
     "name": "stdout",
     "output_type": "stream",
     "text": [
      "5,141,838 variants\n",
      "1,441,405 SNPs\n",
      "3,700,433 ref only\n",
      "\n",
      "1,241,840 PASS variants\n",
      "425,161 PASS SNPs\n",
      "816,679 PASS ref only\n",
      "\n",
      "416,083 PASS biallelic variants\n",
      "416,083 PASS biallelic SNPs\n",
      "0 PASS biallelic ref only\n",
      "\n"
     ]
    }
   ],
   "source": [
    "number_of_variants = !{BCFTOOLS} query -f '%CHROM\\t%POS\\n' {WG_VCF_FN} | wc -l\n",
    "number_of_snps = !{BCFTOOLS} query -f '%CHROM\\t%POS\\n' --include 'TYPE=\"snp\"' {WG_VCF_FN} | wc -l\n",
    "number_of_ref_only = !{BCFTOOLS} query -f '%CHROM\\t%POS\\n' --include 'N_ALT=0' {WG_VCF_FN} | wc -l\n",
    "number_of_pass_variants = !{BCFTOOLS} query -f '%CHROM\\t%POS\\n' --include 'FILTER=\"PASS\"' {WG_VCF_FN} | wc -l\n",
    "number_of_pass_snps = !{BCFTOOLS} query -f '%CHROM\\t%POS\\n' --include 'FILTER=\"PASS\" && TYPE=\"snp\"' {WG_VCF_FN} | wc -l\n",
    "number_of_pass_ref_only = !{BCFTOOLS} query -f '%CHROM\\t%POS\\n' --include 'FILTER=\"PASS\" && N_ALT=0' {WG_VCF_FN} | wc -l\n",
    "number_of_pass_biallelic_variants = !{BCFTOOLS} query -f '%CHROM\\t%POS\\n' --include 'FILTER=\"PASS\" && N_ALT=1' {WG_VCF_FN} | wc -l\n",
    "number_of_pass_biallelic_snps = !{BCFTOOLS} query -f '%CHROM\\t%POS\\n' --include 'FILTER=\"PASS\" && TYPE=\"snp\" && N_ALT=1' {WG_VCF_FN} | wc -l\n",
    "number_of_pass_biallelic_ref_only = !{BCFTOOLS} query -f '%CHROM\\t%POS\\n' --include 'FILTER=\"PASS\" && TYPE=\"snp\" && N_ALT=1 && N_ALT=0' {WG_VCF_FN} | wc -l\n",
    "\n",
    "print(\"%s variants\" % (\"{:,}\".format(int(number_of_variants[0]))))\n",
    "print(\"%s SNPs\" % (\"{:,}\".format(int(number_of_snps[0]))))\n",
    "print(\"%s ref only\" % (\"{:,}\".format(int(number_of_ref_only[0]))))\n",
    "print()\n",
    "print(\"%s PASS variants\" % (\"{:,}\".format(int(number_of_pass_variants[0]))))\n",
    "print(\"%s PASS SNPs\" % (\"{:,}\".format(int(number_of_pass_snps[0]))))\n",
    "print(\"%s PASS ref only\" % (\"{:,}\".format(int(number_of_pass_indels[0]))))\n",
    "print()\n",
    "print(\"%s PASS biallelic variants\" % (\"{:,}\".format(int(number_of_pass_biallelic_variants[0]))))\n",
    "print(\"%s PASS biallelic SNPs\" % (\"{:,}\".format(int(number_of_pass_biallelic_snps[0]))))\n",
    "print(\"%s PASS biallelic ref only\" % (\"{:,}\".format(int(number_of_pass_biallelic_ref_only[0]))))\n",
    "print()\n",
    "     "
   ]
  },
  {
   "cell_type": "code",
   "execution_count": 15,
   "metadata": {
    "collapsed": false
   },
   "outputs": [
    {
     "name": "stdout",
     "output_type": "stream",
     "text": [
      "428,402 variants\n",
      "428,402 SNPs\n",
      "0 ref only\n",
      "\n",
      "80,801 PASS variants\n",
      "80,801 PASS SNPs\n",
      "816,679 PASS ref only\n",
      "\n",
      "80,801 PASS biallelic variants\n",
      "80,801 PASS biallelic SNPs\n",
      "0 PASS biallelic ref only\n",
      "\n"
     ]
    }
   ],
   "source": [
    "number_of_variants = !{BCFTOOLS} query -f '%CHROM\\t%POS\\n' {FINAL_VCF_FN} | wc -l\n",
    "number_of_snps = !{BCFTOOLS} query -f '%CHROM\\t%POS\\n' --include 'TYPE=\"snp\"' {FINAL_VCF_FN} | wc -l\n",
    "number_of_ref_only = !{BCFTOOLS} query -f '%CHROM\\t%POS\\n' --include 'N_ALT=0' {FINAL_VCF_FN} | wc -l\n",
    "number_of_pass_variants = !{BCFTOOLS} query -f '%CHROM\\t%POS\\n' --include 'FILTER=\"PASS\"' {FINAL_VCF_FN} | wc -l\n",
    "number_of_pass_snps = !{BCFTOOLS} query -f '%CHROM\\t%POS\\n' --include 'FILTER=\"PASS\" && TYPE=\"snp\"' {FINAL_VCF_FN} | wc -l\n",
    "number_of_pass_ref_only = !{BCFTOOLS} query -f '%CHROM\\t%POS\\n' --include 'FILTER=\"PASS\" && N_ALT=0' {FINAL_VCF_FN} | wc -l\n",
    "number_of_pass_biallelic_variants = !{BCFTOOLS} query -f '%CHROM\\t%POS\\n' --include 'FILTER=\"PASS\" && N_ALT=1' {FINAL_VCF_FN} | wc -l\n",
    "number_of_pass_biallelic_snps = !{BCFTOOLS} query -f '%CHROM\\t%POS\\n' --include 'FILTER=\"PASS\" && TYPE=\"snp\" && N_ALT=1' {FINAL_VCF_FN} | wc -l\n",
    "number_of_pass_biallelic_ref_only = !{BCFTOOLS} query -f '%CHROM\\t%POS\\n' --include 'FILTER=\"PASS\" && TYPE=\"snp\" && N_ALT=1 && N_ALT=0' {FINAL_VCF_FN} | wc -l\n",
    "\n",
    "print(\"%s variants\" % (\"{:,}\".format(int(number_of_variants[0]))))\n",
    "print(\"%s SNPs\" % (\"{:,}\".format(int(number_of_snps[0]))))\n",
    "print(\"%s ref only\" % (\"{:,}\".format(int(number_of_ref_only[0]))))\n",
    "print()\n",
    "print(\"%s PASS variants\" % (\"{:,}\".format(int(number_of_pass_variants[0]))))\n",
    "print(\"%s PASS SNPs\" % (\"{:,}\".format(int(number_of_pass_snps[0]))))\n",
    "print(\"%s PASS ref only\" % (\"{:,}\".format(int(number_of_pass_ref_only[0]))))\n",
    "print()\n",
    "print(\"%s PASS biallelic variants\" % (\"{:,}\".format(int(number_of_pass_biallelic_variants[0]))))\n",
    "print(\"%s PASS biallelic SNPs\" % (\"{:,}\".format(int(number_of_pass_biallelic_snps[0]))))\n",
    "print(\"%s PASS biallelic ref only\" % (\"{:,}\".format(int(number_of_pass_biallelic_ref_only[0]))))\n",
    "print()\n",
    "     "
   ]
  },
  {
   "cell_type": "code",
   "execution_count": 30,
   "metadata": {
    "collapsed": false
   },
   "outputs": [
    {
     "data": {
      "text/plain": [
       "['126236']"
      ]
     },
     "execution_count": 30,
     "metadata": {},
     "output_type": "execute_result"
    }
   ],
   "source": [
    "number_of_pass_inc_noncoding_variants = !{BCFTOOLS} query -f '%CHROM\\t%POS\\n' --include 'FILTER!=\"Biallelic\" && FILTER!=\"HetUniq\" && FILTER!=\"HyperHet\" && FILTER!=\"MaxCoverage\" && FILTER!=\"MinAlt\" && FILTER!=\"MinCoverage\" && FILTER!=\"MonoAllelic\" && FILTER!=\"NoAltAllele\" && FILTER!=\"Region\" && FILTER!=\"triallelic\"' {FINAL_VCF_FN} | wc -l\n",
    "number_of_pass_inc_noncoding_variants"
   ]
  },
  {
   "cell_type": "code",
   "execution_count": 34,
   "metadata": {
    "collapsed": false
   },
   "outputs": [
    {
     "data": {
      "text/plain": [
       "['45435']"
      ]
     },
     "execution_count": 34,
     "metadata": {},
     "output_type": "execute_result"
    }
   ],
   "source": [
    "number_of_hq_noncoding_variants = !{BCFTOOLS} query -f '%CHROM\\t%POS\\n' --include 'FILTER!=\"PASS\" && FILTER!=\"Biallelic\" && FILTER!=\"HetUniq\" && FILTER!=\"HyperHet\" && FILTER!=\"MaxCoverage\" && FILTER!=\"MinAlt\" && FILTER!=\"MinCoverage\" && FILTER!=\"MonoAllelic\" && FILTER!=\"NoAltAllele\" && FILTER!=\"Region\" && FILTER!=\"triallelic\"' {FINAL_VCF_FN} | wc -l\n",
    "number_of_hq_noncoding_variants"
   ]
  },
  {
   "cell_type": "code",
   "execution_count": 22,
   "metadata": {
    "collapsed": false
   },
   "outputs": [
    {
     "data": {
      "text/plain": [
       "['301820']"
      ]
     },
     "execution_count": 22,
     "metadata": {},
     "output_type": "execute_result"
    }
   ],
   "source": [
    "number_of_pass_inc_noncoding_variants = !{BCFTOOLS} view --apply-filters \"PASS,.,CodingType\" {FINAL_VCF_FN} | {BCFTOOLS} query -f '%CHROM\\t%POS\\n' | wc -l\n",
    "number_of_pass_inc_noncoding_variants"
   ]
  },
  {
   "cell_type": "code",
   "execution_count": 17,
   "metadata": {
    "collapsed": false
   },
   "outputs": [
    {
     "data": {
      "text/plain": [
       "['301820']"
      ]
     },
     "execution_count": 17,
     "metadata": {},
     "output_type": "execute_result"
    }
   ],
   "source": [
    "number_of_pass_inc_noncoding_variants"
   ]
  },
  {
   "cell_type": "code",
   "execution_count": 18,
   "metadata": {
    "collapsed": false
   },
   "outputs": [
    {
     "data": {
      "text/plain": [
       "['221019']"
      ]
     },
     "execution_count": 18,
     "metadata": {},
     "output_type": "execute_result"
    }
   ],
   "source": [
    "number_of_noncoding_pass_variants = !{BCFTOOLS} query -f '%CHROM\\t%POS\\n' --include 'FILTER=\"CodingType\"' {FINAL_VCF_FN} | wc -l\n",
    "number_of_noncoding_pass_variants"
   ]
  },
  {
   "cell_type": "code",
   "execution_count": 20,
   "metadata": {
    "collapsed": false
   },
   "outputs": [
    {
     "data": {
      "text/plain": [
       "['243140']"
      ]
     },
     "execution_count": 20,
     "metadata": {},
     "output_type": "execute_result"
    }
   ],
   "source": [
    "temp = !{BCFTOOLS} query -f '%CHROM\\t%POS\\n' --include 'FILTER=\"HetUniq\"' {FINAL_VCF_FN} | wc -l\n",
    "temp"
   ]
  },
  {
   "cell_type": "code",
   "execution_count": 10,
   "metadata": {
    "collapsed": true
   },
   "outputs": [],
   "source": [
    "number_of_nonref = !{BCFTOOLS} view --include 'AC>0' {WG_VCF_FN} | {BCFTOOLS} query -f '%CHROM\\t%POS\\n' | wc -l\n"
   ]
  },
  {
   "cell_type": "code",
   "execution_count": 11,
   "metadata": {
    "collapsed": false
   },
   "outputs": [
    {
     "data": {
      "text/plain": [
       "['428402']"
      ]
     },
     "execution_count": 11,
     "metadata": {},
     "output_type": "execute_result"
    }
   ],
   "source": [
    "number_of_nonref"
   ]
  },
  {
   "cell_type": "code",
   "execution_count": 33,
   "metadata": {
    "collapsed": false
   },
   "outputs": [
    {
     "data": {
      "text/plain": [
       "['86']"
      ]
     },
     "execution_count": 33,
     "metadata": {},
     "output_type": "execute_result"
    }
   ],
   "source": [
    "number_of_samples = !bcftools query --list-samples {FINAL_VCF_FN} | wc -l\n",
    "number_of_samples"
   ]
  },
  {
   "cell_type": "code",
   "execution_count": 37,
   "metadata": {
    "collapsed": false
   },
   "outputs": [
    {
     "name": "stdout",
     "output_type": "stream",
     "text": [
      "\n",
      "The VCF file contains details of 428,402 SNPs in 86 samples. These are all\n",
      "the SNPs discovered in the MalariaGEN 5.0 release to partners that are\n",
      "segregating and biallelic in the 86 samples.\n",
      "\n",
      "It is important to note that many of these SNPs are considered low quality. Only\n",
      "the variants for which the FILTER column is set to PASS should be considered of\n",
      "high quality. There are 80,801 such high-quality PASS SNPs.\n",
      "Note that this set only includes coding SNPs (those in exons). There are an\n",
      "additional 45,435 SNPs that are in non-coding regions but\n",
      "which pass all other variant filters.\n",
      "\n"
     ]
    }
   ],
   "source": [
    "print('''\n",
    "===================================================================================\n",
    "MalariaGEN P. falciparum Community Project - Biallelic SNP genotypes for study 1147\n",
    "===================================================================================\n",
    "\n",
    "Date: 2017-01-30\n",
    "\n",
    "\n",
    "Description \n",
    "-----------\n",
    "\n",
    "Through an analysis of 3,394 parasite samples collected at 42 different locations in Africa, Asia, America and Oceania, we identified single nucleotide polymorphisms (SNPs). This download includes genotyping data for samples contributed to the MalariaGEN Plasmodium falciparum Community Project under study 1147 <FULL TITLE NEEDED> that were genotyped at these SNPs.\n",
    "\n",
    "Potential data users are asked to respect the legitimate interest of the Community Project and its partners by abiding any restrictions on the use of a data as described in the Terms of Use: http://www.malariagen.net/projects/parasite/pf/use-p-falciparum-community-project-data\n",
    "\n",
    "For more information on the P. falciparum Community Project that generated these data, please visit: https://www.malariagen.net/projects/p-falciparum-community-project\n",
    "\n",
    "Genotyping data is currently released for all identified biallelic single nucleotide polymorphisms (SNPs) that are segregating amongst the {number_of_samples} samples of study 1147. \n",
    "\n",
    "The methods used to generate the data are described in detail in MalariaGEN Plasmodium falciparum Community Project, eLife (2016), DOI: 10.7554/eLife.08714.\n",
    "\n",
    "This data was created as an ad-hoc build and hasn't been quality assessed by the MalariaGEN team.\n",
    "\n",
    "\n",
    "Citation information\n",
    "--------------------\n",
    "\n",
    "Publications using these data should acknowledge and cite the source of the data using the following format: \"This publication uses data from the MalariaGEN Plasmodium falciparum Community Project as described in Genomic epidemiology of artemisinin resistant malaria, eLife, 2016 (DOI: 10.7554/eLife.08714).\"\n",
    "\n",
    "\n",
    "File descriptions\n",
    "-----------------\n",
    "\n",
    "- conway_5_1_annot_gt_nonref.vcf.gz\n",
    "\n",
    "The data file (\"*.vcf.gz\") is a zipped VCF format file containing all samples\n",
    "in the study.  The file, once unzipped, is a tab-separated text file, but may\n",
    "be too big to open in Excel.  \n",
    "\n",
    "The format is described in https://github.com/samtools/hts-specs\n",
    "\n",
    "Tools to assist in handling VCF files are freely available from\n",
    "https://vcftools.github.io/index.html\n",
    "http://samtools.github.io/bcftools/\n",
    "\n",
    "- conway_5_1_annot_gt_nonref.vcf.gz.tbi\n",
    "\n",
    "This is a tabix index file for conway_5_1_annot_gt_nonref.vcf.gz\n",
    "\n",
    "Further details on tabix indexes are available at\n",
    "http://www.htslib.org/doc/tabix.html\n",
    "\n",
    "- conway_5_1_annot_gt_nonref.vcf.gz.md5\n",
    "\n",
    "This is an MD5 checksum for conway_5_1_annot_gt_nonref.vcf.gz\n",
    "\n",
    "The VCF file contains details of {number_of_variants} SNPs in {number_of_samples} samples. These are all\n",
    "the SNPs discovered in the MalariaGEN 5.0 release to partners that are\n",
    "segregating and biallelic in the {number_of_samples} samples.\n",
    "\n",
    "It is important to note that many of these SNPs are considered low quality. Only\n",
    "the variants for which the FILTER column is set to PASS should be considered of\n",
    "high quality. There are {number_of_pass_variants} such high-quality PASS SNPs.\n",
    "Note that this set only includes coding SNPs (those in exons). There are an\n",
    "additional {number_of_hq_noncoding_variants} SNPs that are in non-coding regions but\n",
    "which pass all other variant filters.\n",
    "'''.format(\n",
    "        number_of_variants=\"{:,}\".format(int(number_of_snps[0])),\n",
    "        number_of_samples=\"{:,}\".format(int(number_of_samples[0])),\n",
    "        number_of_pass_variants=\"{:,}\".format(int(number_of_pass_snps[0])),\n",
    "        number_of_hq_noncoding_variants=\"{:,}\".format(int(number_of_hq_noncoding_variants[0])),\n",
    "    )\n",
    ")"
   ]
  },
  {
   "cell_type": "code",
   "execution_count": null,
   "metadata": {
    "collapsed": true
   },
   "outputs": [],
   "source": []
  }
 ],
 "metadata": {
  "kernelspec": {
   "display_name": "Python 3",
   "language": "python",
   "name": "python3"
  },
  "language_info": {
   "codemirror_mode": {
    "name": "ipython",
    "version": 3
   },
   "file_extension": ".py",
   "mimetype": "text/x-python",
   "name": "python",
   "nbconvert_exporter": "python",
   "pygments_lexer": "ipython3",
   "version": "3.5.2"
  }
 },
 "nbformat": 4,
 "nbformat_minor": 1
}
