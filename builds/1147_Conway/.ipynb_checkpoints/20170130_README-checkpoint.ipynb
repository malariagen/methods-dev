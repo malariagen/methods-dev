{
 "cells": [
  {
   "cell_type": "code",
   "execution_count": 2,
   "metadata": {
    "collapsed": true
   },
   "outputs": [],
   "source": [
    "WG_VCF_FN = \"/nfs/team112_internal/production_files/Pf/1147_Conway/conway_5_1_annot_gt.vcf.gz\"\n",
    "FINAL_VCF_FN = \"/nfs/team112_internal/production_files/Pf/1147_Conway/conway_5_1_annot_gt_nonref.vcf.gz\"\n",
    "# BCFTOOLS = 'bcftools'\n"
   ]
  },
  {
   "cell_type": "code",
   "execution_count": 2,
   "metadata": {
    "collapsed": true
   },
   "outputs": [],
   "source": [
    "!tabix -p vcf {WG_VCF_FN}\n",
    "!md5sum {WG_VCF_FN} > {WG_VCF_FN}.md5"
   ]
  },
  {
   "cell_type": "code",
   "execution_count": 14,
   "metadata": {
    "collapsed": false
   },
   "outputs": [],
   "source": [
    "!bcftools view --include 'AC>0' --output-type z --output-file {FINAL_VCF_FN} {WG_VCF_FN}\n",
    "!bcftools index --tbi {FINAL_VCF_FN}\n",
    "!md5sum {FINAL_VCF_FN} > {FINAL_VCF_FN}.md5"
   ]
  },
  {
   "cell_type": "code",
   "execution_count": 3,
   "metadata": {
    "collapsed": false
   },
   "outputs": [
    {
     "name": "stdout",
     "output_type": "stream",
     "text": [
      "428,402 variants\n",
      "428,402 SNPs\n",
      "0 ref only\n",
      "\n",
      "80,801 PASS variants\n",
      "80,801 PASS SNPs\n",
      "0 PASS ref only\n",
      "\n",
      "80,801 PASS biallelic variants\n",
      "80,801 PASS biallelic SNPs\n",
      "0 PASS biallelic ref only\n",
      "\n"
     ]
    }
   ],
   "source": [
    "number_of_variants = !bcftools query -f '%CHROM\\t%POS\\n' {FINAL_VCF_FN} | wc -l\n",
    "number_of_snps = !bcftools query -f '%CHROM\\t%POS\\n' --include 'TYPE=\"snp\"' {FINAL_VCF_FN} | wc -l\n",
    "number_of_ref_only = !bcftools query -f '%CHROM\\t%POS\\n' --include 'N_ALT=0' {FINAL_VCF_FN} | wc -l\n",
    "number_of_pass_variants = !bcftools query -f '%CHROM\\t%POS\\n' --include 'FILTER=\"PASS\"' {FINAL_VCF_FN} | wc -l\n",
    "number_of_pass_snps = !bcftools query -f '%CHROM\\t%POS\\n' --include 'FILTER=\"PASS\" && TYPE=\"snp\"' {FINAL_VCF_FN} | wc -l\n",
    "number_of_pass_ref_only = !bcftools query -f '%CHROM\\t%POS\\n' --include 'FILTER=\"PASS\" && N_ALT=0' {FINAL_VCF_FN} | wc -l\n",
    "number_of_pass_biallelic_variants = !bcftools query -f '%CHROM\\t%POS\\n' --include 'FILTER=\"PASS\" && N_ALT=1' {FINAL_VCF_FN} | wc -l\n",
    "number_of_pass_biallelic_snps = !bcftools query -f '%CHROM\\t%POS\\n' --include 'FILTER=\"PASS\" && TYPE=\"snp\" && N_ALT=1' {FINAL_VCF_FN} | wc -l\n",
    "number_of_pass_biallelic_ref_only = !bcftools query -f '%CHROM\\t%POS\\n' --include 'FILTER=\"PASS\" && TYPE=\"snp\" && N_ALT=1 && N_ALT=0' {FINAL_VCF_FN} | wc -l\n",
    "\n",
    "print(\"%s variants\" % (\"{:,}\".format(int(number_of_variants[0]))))\n",
    "print(\"%s SNPs\" % (\"{:,}\".format(int(number_of_snps[0]))))\n",
    "print(\"%s ref only\" % (\"{:,}\".format(int(number_of_ref_only[0]))))\n",
    "print()\n",
    "print(\"%s PASS variants\" % (\"{:,}\".format(int(number_of_pass_variants[0]))))\n",
    "print(\"%s PASS SNPs\" % (\"{:,}\".format(int(number_of_pass_snps[0]))))\n",
    "print(\"%s PASS ref only\" % (\"{:,}\".format(int(number_of_pass_ref_only[0]))))\n",
    "print()\n",
    "print(\"%s PASS biallelic variants\" % (\"{:,}\".format(int(number_of_pass_biallelic_variants[0]))))\n",
    "print(\"%s PASS biallelic SNPs\" % (\"{:,}\".format(int(number_of_pass_biallelic_snps[0]))))\n",
    "print(\"%s PASS biallelic ref only\" % (\"{:,}\".format(int(number_of_pass_biallelic_ref_only[0]))))\n",
    "print()\n",
    "     "
   ]
  },
  {
   "cell_type": "code",
   "execution_count": 4,
   "metadata": {
    "collapsed": false
   },
   "outputs": [
    {
     "data": {
      "text/plain": [
       "['126236']"
      ]
     },
     "execution_count": 4,
     "metadata": {},
     "output_type": "execute_result"
    }
   ],
   "source": [
    "number_of_pass_inc_noncoding_variants = !{BCFTOOLS} query -f '%CHROM\\t%POS\\n' --include 'FILTER!=\"Biallelic\" && FILTER!=\"HetUniq\" && FILTER!=\"HyperHet\" && FILTER!=\"MaxCoverage\" && FILTER!=\"MinAlt\" && FILTER!=\"MinCoverage\" && FILTER!=\"MonoAllelic\" && FILTER!=\"NoAltAllele\" && FILTER!=\"Region\" && FILTER!=\"triallelic\"' {FINAL_VCF_FN} | wc -l\n",
    "number_of_pass_inc_noncoding_variants"
   ]
  },
  {
   "cell_type": "code",
   "execution_count": 5,
   "metadata": {
    "collapsed": false
   },
   "outputs": [
    {
     "data": {
      "text/plain": [
       "['45435']"
      ]
     },
     "execution_count": 5,
     "metadata": {},
     "output_type": "execute_result"
    }
   ],
   "source": [
    "number_of_hq_noncoding_variants = !{BCFTOOLS} query -f '%CHROM\\t%POS\\n' --include 'FILTER!=\"PASS\" && FILTER!=\"Biallelic\" && FILTER!=\"HetUniq\" && FILTER!=\"HyperHet\" && FILTER!=\"MaxCoverage\" && FILTER!=\"MinAlt\" && FILTER!=\"MinCoverage\" && FILTER!=\"MonoAllelic\" && FILTER!=\"NoAltAllele\" && FILTER!=\"Region\" && FILTER!=\"triallelic\"' {FINAL_VCF_FN} | wc -l\n",
    "number_of_hq_noncoding_variants"
   ]
  },
  {
   "cell_type": "code",
   "execution_count": 6,
   "metadata": {
    "collapsed": false
   },
   "outputs": [
    {
     "data": {
      "text/plain": [
       "['86']"
      ]
     },
     "execution_count": 6,
     "metadata": {},
     "output_type": "execute_result"
    }
   ],
   "source": [
    "number_of_samples = !bcftools query --list-samples {FINAL_VCF_FN} | wc -l\n",
    "number_of_samples"
   ]
  },
  {
   "cell_type": "code",
   "execution_count": 7,
   "metadata": {
    "collapsed": false
   },
   "outputs": [
    {
     "name": "stdout",
     "output_type": "stream",
     "text": [
      "\n",
      "===================================================================================\n",
      "MalariaGEN P. falciparum Community Project - Biallelic SNP genotypes for study 1147\n",
      "===================================================================================\n",
      "\n",
      "Date: 2017-01-30\n",
      "\n",
      "\n",
      "Description \n",
      "-----------\n",
      "\n",
      "Through an analysis of 3,394 parasite samples collected at 42 different locations in Africa, Asia, America and Oceania, we identified single nucleotide polymorphisms (SNPs). This download includes genotyping data for samples contributed to the MalariaGEN Plasmodium falciparum Community Project under study 1147 DC-MRC-Mauritania that were genotyped at these SNPs.\n",
      "\n",
      "Potential data users are asked to respect the legitimate interest of the Community Project and its partners by abiding any restrictions on the use of a data as described in the Terms of Use: http://www.malariagen.net/projects/parasite/pf/use-p-falciparum-community-project-data\n",
      "\n",
      "For more information on the P. falciparum Community Project that generated these data, please visit: https://www.malariagen.net/projects/p-falciparum-community-project\n",
      "\n",
      "Genotyping data is currently released for all identified biallelic single nucleotide polymorphisms (SNPs) that are segregating amongst the 86 samples of study 1147. \n",
      "\n",
      "The methods used to generate the data are described in detail in MalariaGEN Plasmodium falciparum Community Project, eLife (2016), DOI: 10.7554/eLife.08714.\n",
      "\n",
      "This data was created as an ad-hoc build and hasn't been quality assessed by the MalariaGEN team.\n",
      "\n",
      "\n",
      "Citation information\n",
      "--------------------\n",
      "\n",
      "Publications using these data should acknowledge and cite the source of the data using the following format: \"This publication uses data from the MalariaGEN Plasmodium falciparum Community Project as described in Genomic epidemiology of artemisinin resistant malaria, eLife, 2016 (DOI: 10.7554/eLife.08714).\"\n",
      "\n",
      "\n",
      "File descriptions\n",
      "-----------------\n",
      "\n",
      "- conway_5_1_annot_gt_nonref.vcf.gz\n",
      "\n",
      "The data file (\"*.vcf.gz\") is a zipped VCF format file containing all samples in the study.  The file, once unzipped, is a tab-separated text file, but may be too big to open in Excel.  \n",
      "\n",
      "The format is described in https://github.com/samtools/hts-specs\n",
      "\n",
      "Tools to assist in handling VCF files are freely available from\n",
      "https://vcftools.github.io/index.html\n",
      "http://samtools.github.io/bcftools/\n",
      "\n",
      "- conway_5_1_annot_gt_nonref.vcf.gz.tbi\n",
      "\n",
      "This is a tabix index file for conway_5_1_annot_gt_nonref.vcf.gz\n",
      "\n",
      "Further details on tabix indexes are available at\n",
      "http://www.htslib.org/doc/tabix.html\n",
      "\n",
      "- conway_5_1_annot_gt_nonref.vcf.gz.md5\n",
      "\n",
      "This is an MD5 checksum for conway_5_1_annot_gt_nonref.vcf.gz\n",
      "\n",
      "\n",
      "Contents of the VCF file\n",
      "------------------------\n",
      "\n",
      "The VCF file contains details of 428,402 SNPs in 86 samples. These are all the SNPs discovered in the MalariaGEN 5.0 release to partners that are segregating and biallelic in the 86 samples.\n",
      "\n",
      "It is important to note that many of these SNPs are considered low quality. Only the variants for which the FILTER column is set to PASS should be considered of high quality. There are 80,801 such high-quality PASS SNPs. Note that this set only includes coding SNPs (those in exons). There are an additional 45,435 SNPs that are in non-coding regions but which pass all other variant filters.\n",
      "\n",
      "Columns 10 and onwards of the VCF contain the information for each sample. The first component of this (GT) is the genotype call. A value of 0 indicates a homozygous reference call (at least 5 reads in total and <= 1 read with alternative allele). A value of 1 indicates a homozygous alternative call (at least 5 reads in total and <= 1 read with reference allele). A value of 0/1 indicates the sample has a heterozygous call (at least 5 reads in total, >=2 reads with reference allele and >=2 reads with alternative allele). A value of . indicates a missing genotype call (<5 reads in total).\n",
      "\n",
      "\n"
     ]
    }
   ],
   "source": [
    "print('''\n",
    "===================================================================================\n",
    "MalariaGEN P. falciparum Community Project - Biallelic SNP genotypes for study 1147\n",
    "===================================================================================\n",
    "\n",
    "Date: 2017-01-30\n",
    "\n",
    "\n",
    "Description \n",
    "-----------\n",
    "\n",
    "Through an analysis of 3,394 parasite samples collected at 42 different locations in Africa, Asia, America and Oceania, we identified single nucleotide polymorphisms (SNPs). This download includes genotyping data for samples contributed to the MalariaGEN Plasmodium falciparum Community Project under study 1147 DC-MRC-Mauritania that were genotyped at these SNPs.\n",
    "\n",
    "Potential data users are asked to respect the legitimate interest of the Community Project and its partners by abiding any restrictions on the use of a data as described in the Terms of Use: http://www.malariagen.net/projects/parasite/pf/use-p-falciparum-community-project-data\n",
    "\n",
    "For more information on the P. falciparum Community Project that generated these data, please visit: https://www.malariagen.net/projects/p-falciparum-community-project\n",
    "\n",
    "Genotyping data is currently released for all identified biallelic single nucleotide polymorphisms (SNPs) that are segregating amongst the {number_of_samples} samples of study 1147. \n",
    "\n",
    "The methods used to generate the data are described in detail in MalariaGEN Plasmodium falciparum Community Project, eLife (2016), DOI: 10.7554/eLife.08714.\n",
    "\n",
    "This data was created as an ad-hoc build and hasn't been quality assessed by the MalariaGEN team.\n",
    "\n",
    "\n",
    "Citation information\n",
    "--------------------\n",
    "\n",
    "Publications using these data should acknowledge and cite the source of the data using the following format: \"This publication uses data from the MalariaGEN Plasmodium falciparum Community Project as described in Genomic epidemiology of artemisinin resistant malaria, eLife, 2016 (DOI: 10.7554/eLife.08714).\"\n",
    "\n",
    "\n",
    "File descriptions\n",
    "-----------------\n",
    "\n",
    "- conway_5_1_annot_gt_nonref.vcf.gz\n",
    "\n",
    "The data file (\"*.vcf.gz\") is a zipped VCF format file containing all samples in the study.  The file, once unzipped, is a tab-separated text file, but may be too big to open in Excel.  \n",
    "\n",
    "The format is described in https://github.com/samtools/hts-specs\n",
    "\n",
    "Tools to assist in handling VCF files are freely available from\n",
    "https://vcftools.github.io/index.html\n",
    "http://samtools.github.io/bcftools/\n",
    "\n",
    "- conway_5_1_annot_gt_nonref.vcf.gz.tbi\n",
    "\n",
    "This is a tabix index file for conway_5_1_annot_gt_nonref.vcf.gz\n",
    "\n",
    "Further details on tabix indexes are available at\n",
    "http://www.htslib.org/doc/tabix.html\n",
    "\n",
    "- conway_5_1_annot_gt_nonref.vcf.gz.md5\n",
    "\n",
    "This is an MD5 checksum for conway_5_1_annot_gt_nonref.vcf.gz\n",
    "\n",
    "\n",
    "Contents of the VCF file\n",
    "------------------------\n",
    "\n",
    "The VCF file contains details of {number_of_variants} SNPs in {number_of_samples} samples. These are all the SNPs discovered in the MalariaGEN 5.0 release to partners that are segregating and biallelic in the {number_of_samples} samples.\n",
    "\n",
    "It is important to note that many of these SNPs are considered low quality. Only the variants for which the FILTER column is set to PASS should be considered of high quality. There are {number_of_pass_variants} such high-quality PASS SNPs. Note that this set only includes coding SNPs (those in exons). There are an additional {number_of_hq_noncoding_variants} SNPs that are in non-coding regions but which pass all other variant filters.\n",
    "\n",
    "Columns 10 and onwards of the VCF contain the information for each sample. The first component of this (GT) is the genotype call. A value of 0 indicates a homozygous reference call (at least 5 reads in total and <= 1 read with alternative allele). A value of 1 indicates a homozygous alternative call (at least 5 reads in total and <= 1 read with reference allele). A value of 0/1 indicates the sample has a heterozygous call (at least 5 reads in total, >=2 reads with reference allele and >=2 reads with alternative allele). A value of . indicates a missing genotype call (<5 reads in total).\n",
    "\n",
    "'''.format(\n",
    "        number_of_variants=\"{:,}\".format(int(number_of_snps[0])),\n",
    "        number_of_samples=\"{:,}\".format(int(number_of_samples[0])),\n",
    "        number_of_pass_variants=\"{:,}\".format(int(number_of_pass_snps[0])),\n",
    "        number_of_hq_noncoding_variants=\"{:,}\".format(int(number_of_hq_noncoding_variants[0])),\n",
    "    )\n",
    ")"
   ]
  },
  {
   "cell_type": "raw",
   "metadata": {},
   "source": [
    "Extracting data from the VCF file\n",
    "-----------------------------\n",
    "\n",
    "We recommend the use of bcftools. To install bcftools, follow the instructions\n",
    "at: https://github.com/samtools/bcftools/wiki/HOWTOs\n",
    "\n",
    "The following are some commands which you might find useful for extracting data\n",
    "from the vcf.gz files.\n",
    "\n",
    "To extract sample IDs and put into a file, one per line:\n",
    "bcftools query --list-samples filename.vcf.gz > samples.txt\n",
    "\n",
    "To extract chromosome, position, reference allele, alternate allele and filter value for all variants into a tab-delimited file:\n",
    "bcftools query -f \\\n",
    "'%CHROM\\t%POS\\t%REF\\t%ALT{0}\\t%ALT{1}\\t%ALT{2}\\t%ALT{3}\\t%ALT{4}\\t%ALT{5}\\t%FILTER\\n' \\\n",
    "filename.vcf.gz > all_variants.txt\n",
    "\n",
    "To extract chromosome, position, reference allele and alternate allele for PASS SNPs only into a tab-delimited file:\n",
    "bcftools query -f \\\n",
    "'%CHROM\\t%POS\\t%REF\\t%ALT{0}\\n' \\\n",
    "--include 'FILTER=\"PASS\"' \\\n",
    "filename.vcf.gz > pass_snps.txt\n",
    "\n",
    "To extract chromosome, position, reference allele and alternate allele for PASS SNPs and SNPs that fail no filters other than the CodingType filter into a tab-delimited file:\n",
    "bcftools query -f \\\n",
    "'%CHROM\\t%POS\\t%REF\\t%ALT{0}\\n' \\\n",
    "--include 'FILTER!=\"Biallelic\" && FILTER!=\"HetUniq\" && FILTER!=\"HyperHet\" && FILTER!=\"MaxCoverage\" && FILTER!=\"MinAlt\" && FILTER!=\"MinCoverage\" && FILTER!=\"MonoAllelic\" && FILTER!=\"NoAltAllele\" && FILTER!=\"Region\" && FILTER!=\"triallelic\"' \\\n",
    "filename.vcf.gz > pass_and_unfiltered_noncoding_snps.txt\n",
    "\n",
    "To extract genotype calls for PASS SNPs in gene MDR1 into a tab-delimited text file, including the chromosome, position, ref and alt alleles, and a header containing sample names:\n",
    "bcftools query \\\n",
    "-f '%CHROM\\t%POS\\t%REF\\t%ALT{0}[\\t%GT]\\n' \\\n",
    "--regions Pf3D7_05_v3:957890-962149 \\\n",
    "--include 'FILTER=\"PASS\"' \\\n",
    "--print-header \\\n",
    "filename.vcf.gz > mdr1_genotypes.txt\n",
    "\n",
    "To extract ref allele depths for SNPs in gene MDR1 into a tab-delimited text file, including the chromosome, position, ref and alt alleles, and a header containing sample names:\n",
    "bcftools query \\\n",
    "-f '%CHROM\\t%POS\\t%REF\\t%ALT{0}[\\t%AD{0}]\\n' \\\n",
    "--regions Pf3D7_05_v3:957890-962149 \\\n",
    "--include 'FILTER=\"PASS\"' \\\n",
    "--print-header \\\n",
    "filename.vcf.gz > mdr1_ref_allele_depth.txt\n",
    "\n",
    "To extract alt allele depths for SNPs in gene MDR1 into a tab-delimited text file, including the chromosome, position, ref and alt alleles, and a header containing sample names:\n",
    "bcftools query \\\n",
    "-f '%CHROM\\t%POS\\t%REF\\t%ALT{0}[\\t%AD{1}]\\n' \\\n",
    "--regions Pf3D7_05_v3:957890-962149 \\\n",
    "--include 'FILTER=\"PASS\"' \\\n",
    "--print-header \\\n",
    "filename.vcf.gz > mdr1_alt_allele_depth.txt\n"
   ]
  },
  {
   "cell_type": "markdown",
   "metadata": {},
   "source": [
    "Copy and pasted above 2 cells into /nfs/team112_internal/production_files/Pf/1147_Conway/README_for_FTP then ran following code:"
   ]
  },
  {
   "cell_type": "raw",
   "metadata": {},
   "source": [
    "cd /nfs/team112_internal/production_files/Pf/1147_Conway\n",
    "sftp web-bfint\n",
    "cd /data/production/malaria/Resource\n",
    "mkdir 22\n",
    "cd 22\n",
    "put README_for_FTP README\n",
    "mput conway_5_1_annot_gt_nonref*"
   ]
  },
  {
   "cell_type": "code",
   "execution_count": null,
   "metadata": {
    "collapsed": true
   },
   "outputs": [],
   "source": []
  }
 ],
 "metadata": {
  "kernelspec": {
   "display_name": "Python 3",
   "language": "python",
   "name": "python3"
  },
  "language_info": {
   "codemirror_mode": {
    "name": "ipython",
    "version": 3
   },
   "file_extension": ".py",
   "mimetype": "text/x-python",
   "name": "python",
   "nbconvert_exporter": "python",
   "pygments_lexer": "ipython3",
   "version": "3.5.2"
  }
 },
 "nbformat": 4,
 "nbformat_minor": 1
}
