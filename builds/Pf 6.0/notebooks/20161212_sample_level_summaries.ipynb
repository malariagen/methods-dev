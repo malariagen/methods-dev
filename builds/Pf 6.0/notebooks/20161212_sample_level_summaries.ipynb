{
 "cells": [
  {
   "cell_type": "code",
   "execution_count": 1,
   "metadata": {
    "collapsed": false
   },
   "outputs": [
    {
     "name": "stdout",
     "output_type": "stream",
     "text": [
      "python 3.5.2 |Continuum Analytics, Inc.| (default, Jul  2 2016, 17:53:06) \n",
      "[GCC 4.4.7 20120313 (Red Hat 4.4.7-1)]\n",
      "numpy 1.11.2\n",
      "scipy 0.18.1\n",
      "pandas 0.19.0\n",
      "numexpr 2.6.1\n",
      "pysam 0.8.4\n",
      "petl 1.1.0\n",
      "petlx 1.0.3\n",
      "vcf 0.6.8\n",
      "vcfnp 2.2.0\n",
      "h5py 2.6.0\n",
      "tables 3.3.0\n"
     ]
    }
   ],
   "source": [
    "%run _standard_imports.ipynb\n",
    "%run _plotting_setup.ipynb"
   ]
  },
  {
   "cell_type": "code",
   "execution_count": 2,
   "metadata": {
    "collapsed": false
   },
   "outputs": [],
   "source": [
    "output_dir = '/lustre/scratch109/malaria/rp7/data/methods-dev/builds/Pf6.0/20161212_sample_level_summaries'\n",
    "!mkdir -p {output_dir}/sample_summaries/Pf60\n",
    "!mkdir -p {output_dir}/sample_summaries/Pv30\n",
    "!mkdir -p {output_dir}/scripts\n",
    "!mkdir -p {output_dir}/log\n",
    "\n",
    "GENOME_FN = collections.OrderedDict()\n",
    "genome_fn = collections.OrderedDict()\n",
    "genome = collections.OrderedDict()\n",
    "GENOME_FN['Pf60'] = \"/lustre/scratch116/malaria/pfalciparum/resources/Pfalciparum.genome.fasta\"\n",
    "GENOME_FN['Pv30'] = \"/lustre/scratch109/malaria/pvivax/resources/gatk/PvivaxP01.genome.fasta\"\n",
    "genome_fn['Pf60'] = \"%s/Pfalciparum.genome.fasta\" % output_dir\n",
    "genome_fn['Pv30'] = \"%s/PvivaxP01.genome.fasta\" % output_dir\n",
    "\n",
    "run_create_sample_summary_job_fn = \"%s/scripts/run_create_sample_summary_job.sh\" % output_dir\n",
    "submit_create_sample_summary_jobs_fn = \"%s/scripts/submit_create_sample_summary_jobs.sh\" % output_dir\n",
    "\n",
    "\n",
    "# sites_annotation_pf60_fn = '/lustre/scratch109/malaria/rp7/data/methods-dev/builds/Pf6.0/20161125_Pf60_final_vcfs/vcf/SNP_INDEL_WG.combined.filtered.annotation.vcf.gz'\n",
    "hdf_fn = collections.OrderedDict()\n",
    "hdf_fn['Pf60'] = '/lustre/scratch111/malaria/rp7/data/methods-dev/builds/Pf6.0/20161128_HDF5_build/hdf5/Pf_60_npy_PID_a12.h5'\n",
    "hdf_fn['Pv30'] = '/lustre/scratch111/malaria/rp7/data/methods-dev/builds/Pf6.0/20161201_Pv_30_HDF5_build/hdf5/Pv_30.h5'\n"
   ]
  },
  {
   "cell_type": "code",
   "execution_count": 3,
   "metadata": {
    "collapsed": false
   },
   "outputs": [
    {
     "name": "stdout",
     "output_type": "stream",
     "text": [
      "Pf3D7_01_v3\n",
      "PvP01_01_v1\n"
     ]
    }
   ],
   "source": [
    "for release in GENOME_FN:\n",
    "    !cp {GENOME_FN[release]} {genome_fn[release]}\n",
    "    genome[release] = pyfasta.Fasta(genome_fn[release])\n",
    "    print(sorted(genome[release].keys())[0])"
   ]
  },
  {
   "cell_type": "code",
   "execution_count": 4,
   "metadata": {
    "collapsed": false
   },
   "outputs": [
    {
     "name": "stdout",
     "output_type": "stream",
     "text": [
      "Pf60 7182\n",
      "Pv30 1001\n"
     ]
    }
   ],
   "source": [
    "hdf = collections.OrderedDict()\n",
    "for release in hdf_fn:\n",
    "    hdf[release] = h5py.File(hdf_fn[release], 'r')\n",
    "    print(release, len(hdf[release]['samples']))\n",
    "    "
   ]
  },
  {
   "cell_type": "code",
   "execution_count": 33,
   "metadata": {
    "collapsed": false
   },
   "outputs": [
    {
     "name": "stdout",
     "output_type": "stream",
     "text": [
      "creating Pf60 genotype first\n",
      "creating Pf60 genotype first_pass\n"
     ]
    },
    {
     "ename": "TypeError",
     "evalue": "bad number of dimensions: expected 3; found 2",
     "output_type": "error",
     "traceback": [
      "\u001b[0;31m---------------------------------------------------------------------------\u001b[0m",
      "\u001b[0;31mTypeError\u001b[0m                                 Traceback (most recent call last)",
      "\u001b[0;32m<ipython-input-33-e35a76c8ad42>\u001b[0m in \u001b[0;36m<module>\u001b[0;34m()\u001b[0m\n\u001b[0;32m----> 1\u001b[0;31m \u001b[0mget_ipython\u001b[0m\u001b[0;34m(\u001b[0m\u001b[0;34m)\u001b[0m\u001b[0;34m.\u001b[0m\u001b[0mrun_cell_magic\u001b[0m\u001b[0;34m(\u001b[0m\u001b[0;34m'time'\u001b[0m\u001b[0;34m,\u001b[0m \u001b[0;34m''\u001b[0m\u001b[0;34m,\u001b[0m \u001b[0;34m'import pickle\\nimport allel\\ncalldata_subset = collections.OrderedDict()\\nfor release in hdf_fn:\\n    calldata_subset[release] = collections.OrderedDict()\\n    for variable in [\\'genotype\\', \\'GQ\\', \\'DP\\', \\'PGT\\']:\\n        calldata_subset[release][variable] = collections.OrderedDict()\\n        calldata = allel.GenotypeChunkedArray(hdf[release][\\'calldata\\'][variable])\\n        \\n        calldata_subset_fn = \"%s/calldata_subset_%s_%s_first.p\" % (output_dir, release, variable)\\n        if os.path.exists(calldata_subset_fn):\\n            print(\\'loading\\', release, variable, \\'first\\')\\n            calldata_subset[release][variable][\\'first\\'] = pickle.load(open(calldata_subset_fn, \\'rb\\'))\\n        else:\\n            print(\\'creating\\', release, variable, \\'first\\')\\n            calldata_subset[release][variable][\\'first\\'] = calldata.subset(\\n                (hdf[release][\\'variants\\'][\\'CHROM\\'][:] == sorted(genome[release].keys())[0].encode(\\'ascii\\'))\\n            )\\n            \\n        calldata_subset_fn = \"%s/calldata_subset_%s_%s_first_pass.p\" % (output_dir, release, variable)\\n        if os.path.exists(calldata_subset_fn):\\n            print(\\'loading\\', release, variable, \\'first_pass\\')\\n            calldata_subset[release][variable][\\'first_pass\\'] = pickle.load(open(calldata_subset_fn, \\'rb\\'))\\n        else:\\n            print(\\'creating\\', release, variable, \\'first_pass\\')\\n            calldata_subset[release][variable][\\'first_pass\\'] = calldata.subset(\\n                (hdf[release][\\'variants\\'][\\'FILTER_PASS\\'][:]) &\\n                (hdf[release][\\'variants\\'][\\'CHROM\\'][:] == sorted(genome[release].keys())[0].encode(\\'ascii\\'))\\n            )\\n            \\n#         calldata_subset_fn = \"%s/calldata_subset_%s_%s_pass.p\" % (output_dir, release, variable)\\n#         if os.path.exists(calldata_subset_fn):\\n#             print(\\'loading\\', release, variable, \\'pass\\')\\n#             calldata_subset[release][variable][\\'pass\\'] = pickle.load(open(calldata_subset_fn, \\'rb\\'))\\n#         else:\\n#             print(\\'creating\\', release, variable, \\'pass\\')\\n#             calldata_subset[release][variable][\\'pass\\'] = calldata.subset(hdf[release][\\'variants\\'][\\'FILTER_PASS\\'][:])\\n            \\n#         calldata_subset_fn = \"%s/calldata_subset_%s_%s_all.p\" % (output_dir, release, variable)\\n#         if os.path.exists(calldata_subset_fn):\\n#             print(\\'loading\\', release, variable, \\'all\\')\\n#             calldata_subset[release][variable][\\'all\\'] = pickle.load(open(calldata_subset_fn, \\'rb\\'))\\n#         else:\\n#             print(\\'creating\\', release, variable, \\'all\\')\\n#             calldata_subset[release][variable][\\'all\\'] = calldata.subset()\\n            \\n#             print(release, \\'pass\\')\\n#             calldata_subset[release][variable][\\'pass\\'] = calldata.subset(hdf[release][\\'variants\\'][\\'FILTER_PASS\\'][:])\\n#             print(release, \\'all\\')\\n#             calldata_subset[release][variable][\\'all\\'] = calldata.subset()\\n        pickle.dump(genotypes_subset, open(genotypes_subset_fn, \"wb\"))'\u001b[0m\u001b[0;34m)\u001b[0m\u001b[0;34m\u001b[0m\u001b[0m\n\u001b[0m",
      "\u001b[0;32m/nfs/users/nfs_r/rp7/miniconda3/envs/biipy/lib/python3.5/site-packages/IPython/core/interactiveshell.py\u001b[0m in \u001b[0;36mrun_cell_magic\u001b[0;34m(self, magic_name, line, cell)\u001b[0m\n\u001b[1;32m   2113\u001b[0m             \u001b[0mmagic_arg_s\u001b[0m \u001b[0;34m=\u001b[0m \u001b[0mself\u001b[0m\u001b[0;34m.\u001b[0m\u001b[0mvar_expand\u001b[0m\u001b[0;34m(\u001b[0m\u001b[0mline\u001b[0m\u001b[0;34m,\u001b[0m \u001b[0mstack_depth\u001b[0m\u001b[0;34m)\u001b[0m\u001b[0;34m\u001b[0m\u001b[0m\n\u001b[1;32m   2114\u001b[0m             \u001b[0;32mwith\u001b[0m \u001b[0mself\u001b[0m\u001b[0;34m.\u001b[0m\u001b[0mbuiltin_trap\u001b[0m\u001b[0;34m:\u001b[0m\u001b[0;34m\u001b[0m\u001b[0m\n\u001b[0;32m-> 2115\u001b[0;31m                 \u001b[0mresult\u001b[0m \u001b[0;34m=\u001b[0m \u001b[0mfn\u001b[0m\u001b[0;34m(\u001b[0m\u001b[0mmagic_arg_s\u001b[0m\u001b[0;34m,\u001b[0m \u001b[0mcell\u001b[0m\u001b[0;34m)\u001b[0m\u001b[0;34m\u001b[0m\u001b[0m\n\u001b[0m\u001b[1;32m   2116\u001b[0m             \u001b[0;32mreturn\u001b[0m \u001b[0mresult\u001b[0m\u001b[0;34m\u001b[0m\u001b[0m\n\u001b[1;32m   2117\u001b[0m \u001b[0;34m\u001b[0m\u001b[0m\n",
      "\u001b[0;32m<decorator-gen-59>\u001b[0m in \u001b[0;36mtime\u001b[0;34m(self, line, cell, local_ns)\u001b[0m\n",
      "\u001b[0;32m/nfs/users/nfs_r/rp7/miniconda3/envs/biipy/lib/python3.5/site-packages/IPython/core/magic.py\u001b[0m in \u001b[0;36m<lambda>\u001b[0;34m(f, *a, **k)\u001b[0m\n\u001b[1;32m    186\u001b[0m     \u001b[0;31m# but it's overkill for just that one bit of state.\u001b[0m\u001b[0;34m\u001b[0m\u001b[0;34m\u001b[0m\u001b[0m\n\u001b[1;32m    187\u001b[0m     \u001b[0;32mdef\u001b[0m \u001b[0mmagic_deco\u001b[0m\u001b[0;34m(\u001b[0m\u001b[0marg\u001b[0m\u001b[0;34m)\u001b[0m\u001b[0;34m:\u001b[0m\u001b[0;34m\u001b[0m\u001b[0m\n\u001b[0;32m--> 188\u001b[0;31m         \u001b[0mcall\u001b[0m \u001b[0;34m=\u001b[0m \u001b[0;32mlambda\u001b[0m \u001b[0mf\u001b[0m\u001b[0;34m,\u001b[0m \u001b[0;34m*\u001b[0m\u001b[0ma\u001b[0m\u001b[0;34m,\u001b[0m \u001b[0;34m**\u001b[0m\u001b[0mk\u001b[0m\u001b[0;34m:\u001b[0m \u001b[0mf\u001b[0m\u001b[0;34m(\u001b[0m\u001b[0;34m*\u001b[0m\u001b[0ma\u001b[0m\u001b[0;34m,\u001b[0m \u001b[0;34m**\u001b[0m\u001b[0mk\u001b[0m\u001b[0;34m)\u001b[0m\u001b[0;34m\u001b[0m\u001b[0m\n\u001b[0m\u001b[1;32m    189\u001b[0m \u001b[0;34m\u001b[0m\u001b[0m\n\u001b[1;32m    190\u001b[0m         \u001b[0;32mif\u001b[0m \u001b[0mcallable\u001b[0m\u001b[0;34m(\u001b[0m\u001b[0marg\u001b[0m\u001b[0;34m)\u001b[0m\u001b[0;34m:\u001b[0m\u001b[0;34m\u001b[0m\u001b[0m\n",
      "\u001b[0;32m/nfs/users/nfs_r/rp7/miniconda3/envs/biipy/lib/python3.5/site-packages/IPython/core/magics/execution.py\u001b[0m in \u001b[0;36mtime\u001b[0;34m(self, line, cell, local_ns)\u001b[0m\n\u001b[1;32m   1178\u001b[0m         \u001b[0;32melse\u001b[0m\u001b[0;34m:\u001b[0m\u001b[0;34m\u001b[0m\u001b[0m\n\u001b[1;32m   1179\u001b[0m             \u001b[0mst\u001b[0m \u001b[0;34m=\u001b[0m \u001b[0mclock2\u001b[0m\u001b[0;34m(\u001b[0m\u001b[0;34m)\u001b[0m\u001b[0;34m\u001b[0m\u001b[0m\n\u001b[0;32m-> 1180\u001b[0;31m             \u001b[0mexec\u001b[0m\u001b[0;34m(\u001b[0m\u001b[0mcode\u001b[0m\u001b[0;34m,\u001b[0m \u001b[0mglob\u001b[0m\u001b[0;34m,\u001b[0m \u001b[0mlocal_ns\u001b[0m\u001b[0;34m)\u001b[0m\u001b[0;34m\u001b[0m\u001b[0m\n\u001b[0m\u001b[1;32m   1181\u001b[0m             \u001b[0mend\u001b[0m \u001b[0;34m=\u001b[0m \u001b[0mclock2\u001b[0m\u001b[0;34m(\u001b[0m\u001b[0;34m)\u001b[0m\u001b[0;34m\u001b[0m\u001b[0m\n\u001b[1;32m   1182\u001b[0m             \u001b[0mout\u001b[0m \u001b[0;34m=\u001b[0m \u001b[0;32mNone\u001b[0m\u001b[0;34m\u001b[0m\u001b[0m\n",
      "\u001b[0;32m<timed exec>\u001b[0m in \u001b[0;36m<module>\u001b[0;34m()\u001b[0m\n",
      "\u001b[0;32m/nfs/users/nfs_r/rp7/miniconda3/envs/biipy/lib/python3.5/site-packages/allel/model/chunked.py\u001b[0m in \u001b[0;36m__init__\u001b[0;34m(self, data)\u001b[0m\n\u001b[1;32m    116\u001b[0m     \u001b[0;32mdef\u001b[0m \u001b[0m__init__\u001b[0m\u001b[0;34m(\u001b[0m\u001b[0mself\u001b[0m\u001b[0;34m,\u001b[0m \u001b[0mdata\u001b[0m\u001b[0;34m)\u001b[0m\u001b[0;34m:\u001b[0m\u001b[0;34m\u001b[0m\u001b[0m\n\u001b[1;32m    117\u001b[0m         \u001b[0msuper\u001b[0m\u001b[0;34m(\u001b[0m\u001b[0mGenotypeChunkedArray\u001b[0m\u001b[0;34m,\u001b[0m \u001b[0mself\u001b[0m\u001b[0;34m)\u001b[0m\u001b[0;34m.\u001b[0m\u001b[0m__init__\u001b[0m\u001b[0;34m(\u001b[0m\u001b[0mdata\u001b[0m\u001b[0;34m)\u001b[0m\u001b[0;34m\u001b[0m\u001b[0m\n\u001b[0;32m--> 118\u001b[0;31m         \u001b[0mcheck_ndim\u001b[0m\u001b[0;34m(\u001b[0m\u001b[0mself\u001b[0m\u001b[0;34m.\u001b[0m\u001b[0mvalues\u001b[0m\u001b[0;34m,\u001b[0m \u001b[0;36m3\u001b[0m\u001b[0;34m)\u001b[0m\u001b[0;34m\u001b[0m\u001b[0m\n\u001b[0m\u001b[1;32m    119\u001b[0m         \u001b[0mcheck_integer_dtype\u001b[0m\u001b[0;34m(\u001b[0m\u001b[0mself\u001b[0m\u001b[0;34m.\u001b[0m\u001b[0mvalues\u001b[0m\u001b[0;34m)\u001b[0m\u001b[0;34m\u001b[0m\u001b[0m\n\u001b[1;32m    120\u001b[0m         \u001b[0mself\u001b[0m\u001b[0;34m.\u001b[0m\u001b[0m_mask\u001b[0m \u001b[0;34m=\u001b[0m \u001b[0;32mNone\u001b[0m\u001b[0;34m\u001b[0m\u001b[0m\n",
      "\u001b[0;32m/nfs/users/nfs_r/rp7/miniconda3/envs/biipy/lib/python3.5/site-packages/allel/util.py\u001b[0m in \u001b[0;36mcheck_ndim\u001b[0;34m(a, ndim)\u001b[0m\n\u001b[1;32m     64\u001b[0m \u001b[0;32mdef\u001b[0m \u001b[0mcheck_ndim\u001b[0m\u001b[0;34m(\u001b[0m\u001b[0ma\u001b[0m\u001b[0;34m,\u001b[0m \u001b[0mndim\u001b[0m\u001b[0;34m)\u001b[0m\u001b[0;34m:\u001b[0m\u001b[0;34m\u001b[0m\u001b[0m\n\u001b[1;32m     65\u001b[0m     \u001b[0;32mif\u001b[0m \u001b[0ma\u001b[0m\u001b[0;34m.\u001b[0m\u001b[0mndim\u001b[0m \u001b[0;34m!=\u001b[0m \u001b[0mndim\u001b[0m\u001b[0;34m:\u001b[0m\u001b[0;34m\u001b[0m\u001b[0m\n\u001b[0;32m---> 66\u001b[0;31m         \u001b[0;32mraise\u001b[0m \u001b[0mTypeError\u001b[0m\u001b[0;34m(\u001b[0m\u001b[0;34m'bad number of dimensions: expected %s; found %s'\u001b[0m \u001b[0;34m%\u001b[0m \u001b[0;34m(\u001b[0m\u001b[0mndim\u001b[0m\u001b[0;34m,\u001b[0m \u001b[0ma\u001b[0m\u001b[0;34m.\u001b[0m\u001b[0mndim\u001b[0m\u001b[0;34m)\u001b[0m\u001b[0;34m)\u001b[0m\u001b[0;34m\u001b[0m\u001b[0m\n\u001b[0m\u001b[1;32m     67\u001b[0m \u001b[0;34m\u001b[0m\u001b[0m\n\u001b[1;32m     68\u001b[0m \u001b[0;34m\u001b[0m\u001b[0m\n",
      "\u001b[0;31mTypeError\u001b[0m: bad number of dimensions: expected 3; found 2"
     ]
    }
   ],
   "source": [
    "%%time\n",
    "import pickle\n",
    "import allel\n",
    "calldata_subset = collections.OrderedDict()\n",
    "for release in hdf_fn:\n",
    "    calldata_subset[release] = collections.OrderedDict()\n",
    "    for variable in ['genotype', 'GQ', 'DP', 'PGT']:\n",
    "        calldata_subset[release][variable] = collections.OrderedDict()\n",
    "        calldata = allel.GenotypeChunkedArray(hdf[release]['calldata'][variable])\n",
    "        \n",
    "        calldata_subset_fn = \"%s/calldata_subset_%s_%s_first.p\" % (output_dir, release, variable)\n",
    "        if os.path.exists(calldata_subset_fn):\n",
    "            print('loading', release, variable, 'first')\n",
    "            calldata_subset[release][variable]['first'] = pickle.load(open(calldata_subset_fn, 'rb'))\n",
    "        else:\n",
    "            print('creating', release, variable, 'first')\n",
    "            calldata_subset[release][variable]['first'] = calldata.subset(\n",
    "                (hdf[release]['variants']['CHROM'][:] == sorted(genome[release].keys())[0].encode('ascii'))\n",
    "            )\n",
    "            \n",
    "        calldata_subset_fn = \"%s/calldata_subset_%s_%s_first_pass.p\" % (output_dir, release, variable)\n",
    "        if os.path.exists(calldata_subset_fn):\n",
    "            print('loading', release, variable, 'first_pass')\n",
    "            calldata_subset[release][variable]['first_pass'] = pickle.load(open(calldata_subset_fn, 'rb'))\n",
    "        else:\n",
    "            print('creating', release, variable, 'first_pass')\n",
    "            calldata_subset[release][variable]['first_pass'] = calldata.subset(\n",
    "                (hdf[release]['variants']['FILTER_PASS'][:]) &\n",
    "                (hdf[release]['variants']['CHROM'][:] == sorted(genome[release].keys())[0].encode('ascii'))\n",
    "            )\n",
    "            \n",
    "#         calldata_subset_fn = \"%s/calldata_subset_%s_%s_pass.p\" % (output_dir, release, variable)\n",
    "#         if os.path.exists(calldata_subset_fn):\n",
    "#             print('loading', release, variable, 'pass')\n",
    "#             calldata_subset[release][variable]['pass'] = pickle.load(open(calldata_subset_fn, 'rb'))\n",
    "#         else:\n",
    "#             print('creating', release, variable, 'pass')\n",
    "#             calldata_subset[release][variable]['pass'] = calldata.subset(hdf[release]['variants']['FILTER_PASS'][:])\n",
    "            \n",
    "#         calldata_subset_fn = \"%s/calldata_subset_%s_%s_all.p\" % (output_dir, release, variable)\n",
    "#         if os.path.exists(calldata_subset_fn):\n",
    "#             print('loading', release, variable, 'all')\n",
    "#             calldata_subset[release][variable]['all'] = pickle.load(open(calldata_subset_fn, 'rb'))\n",
    "#         else:\n",
    "#             print('creating', release, variable, 'all')\n",
    "#             calldata_subset[release][variable]['all'] = calldata.subset()\n",
    "            \n",
    "#             print(release, 'pass')\n",
    "#             calldata_subset[release][variable]['pass'] = calldata.subset(hdf[release]['variants']['FILTER_PASS'][:])\n",
    "#             print(release, 'all')\n",
    "#             calldata_subset[release][variable]['all'] = calldata.subset()\n",
    "        pickle.dump(genotypes_subset, open(genotypes_subset_fn, \"wb\"))\n"
   ]
  },
  {
   "cell_type": "code",
   "execution_count": 29,
   "metadata": {
    "collapsed": false
   },
   "outputs": [],
   "source": [
    "# %%time\n",
    "# import pickle\n",
    "# genotypes_subset_fn = \"%s/genotypes_subset.p\" % output_dir\n",
    "# if os.path.exists(genotypes_subset_fn):\n",
    "#     genotypes_subset = pickle.load(open(genotypes_subset_fn, \"rb\"))\n",
    "# else:\n",
    "#     genotypes = collections.OrderedDict()\n",
    "#     genotypes_subset = collections.OrderedDict()\n",
    "#     import allel\n",
    "#     for release in hdf_fn:\n",
    "#     # for release in ['Pv30']:\n",
    "#         genotypes[release] = allel.GenotypeChunkedArray(hdf[release]['calldata']['genotype'])\n",
    "#         genotypes_subset[release] = collections.OrderedDict()\n",
    "#         print(release, 'first')\n",
    "#         genotypes_subset[release]['first'] = genotypes[release].subset(\n",
    "#             (hdf[release]['variants']['FILTER_PASS'][:]) &\n",
    "#             (hdf[release]['variants']['CHROM'][:] == sorted(genome[release].keys())[0].encode('ascii'))\n",
    "#         )\n",
    "#         print(release, 'pass')\n",
    "#         genotypes_subset[release]['pass'] = genotypes[release].subset(hdf[release]['variants']['FILTER_PASS'][:])\n",
    "#         print(release, 'all')\n",
    "#         genotypes_subset[release]['all'] = genotypes[release].subset()\n",
    "#     pickle.dump(genotypes_subset, open(genotypes_subset_fn, \"wb\"))\n"
   ]
  },
  {
   "cell_type": "code",
   "execution_count": 5,
   "metadata": {
    "collapsed": false
   },
   "outputs": [
    {
     "name": "stdout",
     "output_type": "stream",
     "text": [
      "Pf60 first\n",
      "Pf60 pass\n",
      "Pf60 all\n",
      "Pv30 first\n",
      "Pv30 pass\n",
      "Pv30 all\n"
     ]
    },
    {
     "ename": "TypeError",
     "evalue": "file must have a 'write' attribute",
     "output_type": "error",
     "traceback": [
      "\u001b[0;31m---------------------------------------------------------------------------\u001b[0m",
      "\u001b[0;31mTypeError\u001b[0m                                 Traceback (most recent call last)",
      "\u001b[0;32m<ipython-input-5-e839dde89f60>\u001b[0m in \u001b[0;36m<module>\u001b[0;34m()\u001b[0m\n\u001b[0;32m----> 1\u001b[0;31m \u001b[0mget_ipython\u001b[0m\u001b[0;34m(\u001b[0m\u001b[0;34m)\u001b[0m\u001b[0;34m.\u001b[0m\u001b[0mrun_cell_magic\u001b[0m\u001b[0;34m(\u001b[0m\u001b[0;34m'time'\u001b[0m\u001b[0;34m,\u001b[0m \u001b[0;34m''\u001b[0m\u001b[0;34m,\u001b[0m \u001b[0;34m'import pickle\\ngenotypes_subset_fn = \"%s/genotypes_subset.p\" % output_dir\\nif os.path.exists(genotypes_subset_fn):\\n    genotypes_subset = pickle.load(genotypes_subset_fn)\\nelse:\\n    genotypes = collections.OrderedDict()\\n    genotypes_subset = collections.OrderedDict()\\n    import allel\\n    for release in hdf_fn:\\n    # for release in [\\'Pv30\\']:\\n        genotypes[release] = allel.GenotypeChunkedArray(hdf[release][\\'calldata\\'][\\'genotype\\'])\\n        genotypes_subset[release] = collections.OrderedDict()\\n        print(release, \\'first\\')\\n        genotypes_subset[release][\\'first\\'] = genotypes[release].subset(\\n            (hdf[release][\\'variants\\'][\\'FILTER_PASS\\'][:]) &\\n            (hdf[release][\\'variants\\'][\\'CHROM\\'][:] == sorted(genome[release].keys())[0].encode(\\'ascii\\'))\\n        )\\n        print(release, \\'pass\\')\\n        genotypes_subset[release][\\'pass\\'] = genotypes[release].subset(hdf[release][\\'variants\\'][\\'FILTER_PASS\\'][:])\\n        print(release, \\'all\\')\\n        genotypes_subset[release][\\'all\\'] = genotypes[release].subset()\\n    pickle.dump(genotypes_subset, genotypes_subset_fn)'\u001b[0m\u001b[0;34m)\u001b[0m\u001b[0;34m\u001b[0m\u001b[0m\n\u001b[0m",
      "\u001b[0;32m/nfs/users/nfs_r/rp7/miniconda3/envs/biipy/lib/python3.5/site-packages/IPython/core/interactiveshell.py\u001b[0m in \u001b[0;36mrun_cell_magic\u001b[0;34m(self, magic_name, line, cell)\u001b[0m\n\u001b[1;32m   2113\u001b[0m             \u001b[0mmagic_arg_s\u001b[0m \u001b[0;34m=\u001b[0m \u001b[0mself\u001b[0m\u001b[0;34m.\u001b[0m\u001b[0mvar_expand\u001b[0m\u001b[0;34m(\u001b[0m\u001b[0mline\u001b[0m\u001b[0;34m,\u001b[0m \u001b[0mstack_depth\u001b[0m\u001b[0;34m)\u001b[0m\u001b[0;34m\u001b[0m\u001b[0m\n\u001b[1;32m   2114\u001b[0m             \u001b[0;32mwith\u001b[0m \u001b[0mself\u001b[0m\u001b[0;34m.\u001b[0m\u001b[0mbuiltin_trap\u001b[0m\u001b[0;34m:\u001b[0m\u001b[0;34m\u001b[0m\u001b[0m\n\u001b[0;32m-> 2115\u001b[0;31m                 \u001b[0mresult\u001b[0m \u001b[0;34m=\u001b[0m \u001b[0mfn\u001b[0m\u001b[0;34m(\u001b[0m\u001b[0mmagic_arg_s\u001b[0m\u001b[0;34m,\u001b[0m \u001b[0mcell\u001b[0m\u001b[0;34m)\u001b[0m\u001b[0;34m\u001b[0m\u001b[0m\n\u001b[0m\u001b[1;32m   2116\u001b[0m             \u001b[0;32mreturn\u001b[0m \u001b[0mresult\u001b[0m\u001b[0;34m\u001b[0m\u001b[0m\n\u001b[1;32m   2117\u001b[0m \u001b[0;34m\u001b[0m\u001b[0m\n",
      "\u001b[0;32m<decorator-gen-59>\u001b[0m in \u001b[0;36mtime\u001b[0;34m(self, line, cell, local_ns)\u001b[0m\n",
      "\u001b[0;32m/nfs/users/nfs_r/rp7/miniconda3/envs/biipy/lib/python3.5/site-packages/IPython/core/magic.py\u001b[0m in \u001b[0;36m<lambda>\u001b[0;34m(f, *a, **k)\u001b[0m\n\u001b[1;32m    186\u001b[0m     \u001b[0;31m# but it's overkill for just that one bit of state.\u001b[0m\u001b[0;34m\u001b[0m\u001b[0;34m\u001b[0m\u001b[0m\n\u001b[1;32m    187\u001b[0m     \u001b[0;32mdef\u001b[0m \u001b[0mmagic_deco\u001b[0m\u001b[0;34m(\u001b[0m\u001b[0marg\u001b[0m\u001b[0;34m)\u001b[0m\u001b[0;34m:\u001b[0m\u001b[0;34m\u001b[0m\u001b[0m\n\u001b[0;32m--> 188\u001b[0;31m         \u001b[0mcall\u001b[0m \u001b[0;34m=\u001b[0m \u001b[0;32mlambda\u001b[0m \u001b[0mf\u001b[0m\u001b[0;34m,\u001b[0m \u001b[0;34m*\u001b[0m\u001b[0ma\u001b[0m\u001b[0;34m,\u001b[0m \u001b[0;34m**\u001b[0m\u001b[0mk\u001b[0m\u001b[0;34m:\u001b[0m \u001b[0mf\u001b[0m\u001b[0;34m(\u001b[0m\u001b[0;34m*\u001b[0m\u001b[0ma\u001b[0m\u001b[0;34m,\u001b[0m \u001b[0;34m**\u001b[0m\u001b[0mk\u001b[0m\u001b[0;34m)\u001b[0m\u001b[0;34m\u001b[0m\u001b[0m\n\u001b[0m\u001b[1;32m    189\u001b[0m \u001b[0;34m\u001b[0m\u001b[0m\n\u001b[1;32m    190\u001b[0m         \u001b[0;32mif\u001b[0m \u001b[0mcallable\u001b[0m\u001b[0;34m(\u001b[0m\u001b[0marg\u001b[0m\u001b[0;34m)\u001b[0m\u001b[0;34m:\u001b[0m\u001b[0;34m\u001b[0m\u001b[0m\n",
      "\u001b[0;32m/nfs/users/nfs_r/rp7/miniconda3/envs/biipy/lib/python3.5/site-packages/IPython/core/magics/execution.py\u001b[0m in \u001b[0;36mtime\u001b[0;34m(self, line, cell, local_ns)\u001b[0m\n\u001b[1;32m   1178\u001b[0m         \u001b[0;32melse\u001b[0m\u001b[0;34m:\u001b[0m\u001b[0;34m\u001b[0m\u001b[0m\n\u001b[1;32m   1179\u001b[0m             \u001b[0mst\u001b[0m \u001b[0;34m=\u001b[0m \u001b[0mclock2\u001b[0m\u001b[0;34m(\u001b[0m\u001b[0;34m)\u001b[0m\u001b[0;34m\u001b[0m\u001b[0m\n\u001b[0;32m-> 1180\u001b[0;31m             \u001b[0mexec\u001b[0m\u001b[0;34m(\u001b[0m\u001b[0mcode\u001b[0m\u001b[0;34m,\u001b[0m \u001b[0mglob\u001b[0m\u001b[0;34m,\u001b[0m \u001b[0mlocal_ns\u001b[0m\u001b[0;34m)\u001b[0m\u001b[0;34m\u001b[0m\u001b[0m\n\u001b[0m\u001b[1;32m   1181\u001b[0m             \u001b[0mend\u001b[0m \u001b[0;34m=\u001b[0m \u001b[0mclock2\u001b[0m\u001b[0;34m(\u001b[0m\u001b[0;34m)\u001b[0m\u001b[0;34m\u001b[0m\u001b[0m\n\u001b[1;32m   1182\u001b[0m             \u001b[0mout\u001b[0m \u001b[0;34m=\u001b[0m \u001b[0;32mNone\u001b[0m\u001b[0;34m\u001b[0m\u001b[0m\n",
      "\u001b[0;32m<timed exec>\u001b[0m in \u001b[0;36m<module>\u001b[0;34m()\u001b[0m\n",
      "\u001b[0;31mTypeError\u001b[0m: file must have a 'write' attribute"
     ]
    }
   ],
   "source": [
    "%%time\n",
    "import pickle\n",
    "GQ_subset_fn = \"%s/GQ_subset.p\" % output_dir\n",
    "if os.path.exists(GQ_subset_fn):\n",
    "    genotypes_subset = pickle.load(GQ_subset_fn)\n",
    "else:\n",
    "    GQ = collections.OrderedDict()\n",
    "    GQ_subset = collections.OrderedDict()\n",
    "    for release in hdf_fn:\n",
    "        GQ[release] = allel.GenotypeChunkedArray(hdf[release]['calldata']['GQ'])\n",
    "        GQ_subset[release] = collections.OrderedDict()\n",
    "        print(release, 'first')\n",
    "        GQ_subset[release]['first'] = GQ[release].subset(\n",
    "            (hdf[release]['variants']['FILTER_PASS'][:]) &\n",
    "            (hdf[release]['variants']['CHROM'][:] == sorted(genome[release].keys())[0].encode('ascii'))\n",
    "        )\n",
    "        print(release, 'pass')\n",
    "        GQ_subset[release]['pass'] = GQ[release].subset(hdf[release]['variants']['FILTER_PASS'][:])\n",
    "        print(release, 'all')\n",
    "        GQ_subset[release]['all'] = GQ[release].subset()\n",
    "    pickle.dump(GQ_subset, open(GQ_subset_fn, \"wb\"))\n"
   ]
  },
  {
   "cell_type": "code",
   "execution_count": 6,
   "metadata": {
    "collapsed": true
   },
   "outputs": [],
   "source": [
    "pickle.dump(genotypes_subset, open(genotypes_subset_fn, \"wb\"))"
   ]
  },
  {
   "cell_type": "code",
   "execution_count": 33,
   "metadata": {
    "collapsed": false
   },
   "outputs": [
    {
     "data": {
      "text/plain": [
       "False    4037882\n",
       "True       46537\n",
       "dtype: int64"
      ]
     },
     "execution_count": 33,
     "metadata": {},
     "output_type": "execute_result"
    }
   ],
   "source": [
    "temp = (\n",
    "    (hdf[release]['variants']['FILTER_PASS'][:]) &\n",
    "    (hdf[release]['variants']['CHROM'][:] == sorted(genome[release].keys())[0].encode('ascii'))\n",
    ")\n",
    "pd.value_counts(temp)"
   ]
  },
  {
   "cell_type": "code",
   "execution_count": 30,
   "metadata": {
    "collapsed": false
   },
   "outputs": [
    {
     "data": {
      "text/plain": [
       "b'PvP01_01_v1'"
      ]
     },
     "execution_count": 30,
     "metadata": {},
     "output_type": "execute_result"
    }
   ],
   "source": [
    "sorted(genome[release].keys())[0].encode('ascii')"
   ]
  },
  {
   "cell_type": "code",
   "execution_count": 28,
   "metadata": {
    "collapsed": false
   },
   "outputs": [
    {
     "data": {
      "text/plain": [
       "b'Transfer.PvP'    1593135\n",
       "b'PvP01_12_v1'      304616\n",
       "b'PvP01_09_v1'      264054\n",
       "b'PvP01_14_v1'      250792\n",
       "b'PvP01_10_v1'      199272\n",
       "b'PvP01_07_v1'      188371\n",
       "b'PvP01_11_v1'      183502\n",
       "b'PvP01_13_v1'      183133\n",
       "b'PvP01_08_v1'      168624\n",
       "b'PvP01_05_v1'      161750\n",
       "b'PvP01_02_v1'      141169\n",
       "b'PvP01_04_v1'      137416\n",
       "b'PvP01_01_v1'      125338\n",
       "b'PvP01_06_v1'       92927\n",
       "b'PvP01_03_v1'       86345\n",
       "b'PvP01_API_v1'       3268\n",
       "b'PvP01_MIT_v1'        707\n",
       "dtype: int64"
      ]
     },
     "execution_count": 28,
     "metadata": {},
     "output_type": "execute_result"
    }
   ],
   "source": [
    "pd.value_counts(hdf[release]['variants']['CHROM'][:])"
   ]
  },
  {
   "cell_type": "code",
   "execution_count": 14,
   "metadata": {
    "collapsed": false
   },
   "outputs": [
    {
     "data": {
      "text/plain": [
       "array([b'Brazil01', b'Brazil02', b'Brazil03', ..., b'malagasy19',\n",
       "       b'malagasy8', b'mauritania'], \n",
       "      dtype='|S22')"
      ]
     },
     "execution_count": 14,
     "metadata": {},
     "output_type": "execute_result"
    }
   ],
   "source": [
    "hdf[release]['samples'][:]"
   ]
  },
  {
   "cell_type": "code",
   "execution_count": null,
   "metadata": {
    "collapsed": false
   },
   "outputs": [],
   "source": [
    "genotypes_subset['Pf60']"
   ]
  },
  {
   "cell_type": "code",
   "execution_count": null,
   "metadata": {
    "collapsed": false,
    "scrolled": true
   },
   "outputs": [],
   "source": [
    "genotypes_subset['Pv30']"
   ]
  },
  {
   "cell_type": "code",
   "execution_count": 47,
   "metadata": {
    "collapsed": true
   },
   "outputs": [],
   "source": [
    "import allel\n",
    "def create_sample_summary(hdf5_fn=hdf_fn['Pf60'], index=0, output_filestem=\"%s/sample_summaries/Pf60\" % output_dir):\n",
    "    results = collections.OrderedDict()\n",
    "    \n",
    "    hdf = h5py.File(hdf5_fn, 'r')\n",
    "    samples = hdf['samples'][:]\n",
    "    results['sample_id'] = samples[index].decode('ascii')\n",
    "    output_fn = \"%s/%s.txt\" % (output_filestem, results['sample_id'])\n",
    "    fo = open(output_fn, 'w')\n",
    "    print(0)\n",
    "    is_pass = hdf['variants']['FILTER_PASS'][:]\n",
    "    \n",
    "#     genotypes = allel.GenotypeChunkedArray(hdf['calldata']['genotype'])\n",
    "    print(1)\n",
    "    genotypes = allel.GenotypeArray(hdf['calldata']['genotype'][:, [index], :])\n",
    "    print(2)\n",
    "    genotypes_pass = genotypes[is_pass]\n",
    "    \n",
    "    print(3)\n",
    "    svlen = hdf['variants']['svlen'][:]\n",
    "    svlen1 = svlen[np.arange(svlen.shape[0]), genotypes[:, 0, 0] - 1]\n",
    "    svlen1[np.in1d(genotypes[:, 0, 0], [-1, 0])] = 0 # Ref and missing are considered non-SV\n",
    "    svlen2 = svlen[np.arange(svlen.shape[0]), genotypes[:, 0, 1] - 1]\n",
    "    svlen2[np.in1d(genotypes[:, 0, 1], [-1, 0])] = 0 # Ref and missing are considered non-SV\n",
    "    \n",
    "    print(4)\n",
    "    is_snp = (hdf['variants']['VARIANT_TYPE'][:][is_pass] == b'SNP')\n",
    "    is_bi = (hdf['variants']['MULTIALLELIC'][:][is_pass] == b'BI')\n",
    "    is_sd = (hdf['variants']['MULTIALLELIC'][:][is_pass] == b'SD')\n",
    "    is_mu = (hdf['variants']['MULTIALLELIC'][:][is_pass] == b'MU')\n",
    "    is_ins = ((svlen1 > 0) | (svlen2 > 0))[is_pass]\n",
    "    is_del = ((svlen1 < 0) | (svlen2 < 0))[is_pass]\n",
    "    is_ins_del_het = (((svlen1 > 0) & (svlen2 < 0)) | ((svlen1 < 0) & (svlen2 > 0)))[is_pass] # These are hets where one allele is insertion and the other allele is deletion (these are probably rare)\n",
    "    \n",
    "    print(5)\n",
    "    results['num_variants']      = genotypes.shape[0]\n",
    "    results['num_pass_variants'] = np.count_nonzero(is_pass)\n",
    "    results['num_missing']       = genotypes.count_missing(axis=0)[0]\n",
    "    results['num_pass_missing']  = genotypes_pass.count_missing(axis=0)[0]\n",
    "    results['num_called']        = (results['num_variants'] - results['num_missing'])\n",
    "    results['num_pass_called']   = (results['num_pass_variants'] - results['num_pass_missing'])\n",
    "    print(6)\n",
    "    results['num_het']           = genotypes.count_het(axis=0)[0]\n",
    "    results['num_pass_het']      = genotypes_pass.count_het(axis=0)[0]\n",
    "    results['num_hom_alt']       = genotypes.count_hom_alt(axis=0)[0]\n",
    "    results['num_pass_hom_alt']  = genotypes_pass.count_hom_alt(axis=0)[0]\n",
    "    print(7)\n",
    "    results['num_snp_hom_ref']   = genotypes_pass.subset(is_snp).count_hom_ref(axis=0)[0]\n",
    "    results['num_snp_het']       = genotypes_pass.subset(is_snp).count_het(axis=0)[0]\n",
    "    results['num_snp_hom_alt']   = genotypes_pass.subset(is_snp).count_hom_alt(axis=0)[0]\n",
    "    results['num_indel_hom_ref'] = genotypes_pass.subset(~is_snp).count_hom_ref(axis=0)[0]\n",
    "    results['num_indel_het']     = genotypes_pass.subset(~is_snp).count_het(axis=0)[0]\n",
    "    results['num_indel_hom_alt'] = genotypes_pass.subset(~is_snp).count_hom_alt(axis=0)[0]\n",
    "    print(8)    \n",
    "    results['num_ins_hom_ref']   = genotypes_pass.subset(is_ins).count_hom_ref(axis=0)[0]\n",
    "    results['num_ins_het']       = genotypes_pass.subset(is_ins).count_het(axis=0)[0]\n",
    "    results['num_ins']           = (results['num_ins_hom_ref'] + results['num_ins_het'])\n",
    "    results['num_del_hom_ref']   = genotypes_pass.subset(is_del).count_hom_ref(axis=0)[0]\n",
    "    results['num_del_het']       = genotypes_pass.subset(is_del).count_het(axis=0)[0]\n",
    "    results['num_del']           = (results['num_del_hom_ref'] + results['num_del_het'])\n",
    "    \n",
    "    print(9)\n",
    "    results['pc_pass']           = results['num_pass_called'] / results['num_called']\n",
    "    results['pc_missing']        = results['num_missing'] / results['num_variants']\n",
    "    results['pc_pass_missing']   = results['num_pass_missing'] / results['num_pass_variants']\n",
    "    results['pc_het']            = results['num_het'] / results['num_called']\n",
    "    results['pc_pass_het']       = results['num_pass_het'] / results['num_pass_called']\n",
    "    results['pc_hom_alt']        = results['num_hom_alt'] / results['num_called']\n",
    "    results['pc_pass_hom_alt']   = results['num_pass_hom_alt'] / results['num_pass_called']\n",
    "    results['pc_snp']            = (results['num_snp_het'] + results['num_snp_hom_alt']) / (results['num_snp_het'] + results['num_snp_hom_alt'] + results['num_indel_het'] + results['num_indel_hom_alt'])\n",
    "    results['pc_ins']            = (results['num_ins'] / (results['num_ins'] + results['num_del']))\n",
    "\n",
    "    print(10)\n",
    "    \n",
    "    print('\\t'.join([str(x) for x in list(results.keys())]), file=fo)\n",
    "    print('\\t'.join([str(x) for x in list(results.values())]), file=fo)\n",
    "    fo.close()\n",
    "    \n",
    "    df_sample_summary = pd.DataFrame(\n",
    "            {\n",
    "                'Sample': pd.Series(results['sample_id']),\n",
    "                'Variants called': pd.Series(results['num_called']),\n",
    "                'Variants missing': pd.Series(results['num_missing']),\n",
    "                'Proportion missing': pd.Series(results['pc_missing']),\n",
    "                'Proportion pass missing': pd.Series(results['pc_pass_missing']),\n",
    "                'Proportion heterozygous': pd.Series(results['pc_het']),\n",
    "                'Proportion pass heterozygous': pd.Series(results['pc_pass_het']),\n",
    "                'Proportion homozygous alternative': pd.Series(results['pc_hom_alt']),\n",
    "                'Proportion pass homozygous alternative': pd.Series(results['pc_pass_hom_alt']),\n",
    "                'Proportion variants SNPs': pd.Series(results['pc_snp']),\n",
    "                'Proportion indels insertions': pd.Series(results['pc_ins']),\n",
    "            }\n",
    "        )  \n",
    "    return(df_sample_summary, results)"
   ]
  },
  {
   "cell_type": "code",
   "execution_count": 49,
   "metadata": {
    "collapsed": false
   },
   "outputs": [
    {
     "data": {
      "text/plain": [
       "'/lustre/scratch111/malaria/rp7/data/methods-dev/builds/Pf6.0/20161128_HDF5_build/hdf5/Pf_60_npy_PID_a12.h5'"
      ]
     },
     "execution_count": 49,
     "metadata": {},
     "output_type": "execute_result"
    }
   ],
   "source": [
    "hdf_fn['Pf60']"
   ]
  },
  {
   "cell_type": "code",
   "execution_count": 167,
   "metadata": {
    "collapsed": false
   },
   "outputs": [],
   "source": [
    "import allel\n",
    "def create_sample_summary(index=0, hdf5_fn='/lustre/scratch111/malaria/rp7/data/methods-dev/builds/Pf6.0/20161128_HDF5_build/hdf5/Pf_60_npy_PID_a12.h5'):\n",
    "    results = collections.OrderedDict()\n",
    "    \n",
    "    hdf = h5py.File(hdf5_fn, 'r')\n",
    "    samples = hdf['samples'][:]\n",
    "    results['sample_id'] = samples[index].decode('ascii')\n",
    "#     output_fn = \"%s/%s.txt\" % (output_filestem, results['sample_id'])\n",
    "#     fo = open(output_fn, 'w')\n",
    "    is_pass = hdf['variants']['FILTER_PASS'][:]\n",
    "    \n",
    "    genotypes = allel.GenotypeArray(hdf['calldata']['genotype'][:, [index], :])\n",
    "    genotypes_pass = genotypes[is_pass]\n",
    "    \n",
    "    svlen = hdf['variants']['svlen'][:]\n",
    "    svlen1 = svlen[np.arange(svlen.shape[0]), genotypes[:, 0, 0] - 1]\n",
    "    svlen1[np.in1d(genotypes[:, 0, 0], [-1, 0])] = 0 # Ref and missing are considered non-SV\n",
    "    svlen2 = svlen[np.arange(svlen.shape[0]), genotypes[:, 0, 1] - 1]\n",
    "    svlen2[np.in1d(genotypes[:, 0, 1], [-1, 0])] = 0 # Ref and missing are considered non-SV\n",
    "    \n",
    "    ac = hdf['variants']['AC'][:]\n",
    "    ac1 = ac[np.arange(ac.shape[0]), genotypes[:, 0, 0] - 1]\n",
    "    ac1[np.in1d(genotypes[:, 0, 0], [-1, 0])] = 0 # Ref and missing are considered non-singleton\n",
    "    ac2 = ac[np.arange(ac.shape[0]), genotypes[:, 0, 1] - 1]\n",
    "    ac2[np.in1d(genotypes[:, 0, 1], [-1, 0])] = 0 # Ref and missing are considered non-singleton\n",
    "    \n",
    "    is_snp = (hdf['variants']['VARIANT_TYPE'][:][is_pass] == b'SNP')\n",
    "    is_bi = (hdf['variants']['MULTIALLELIC'][:][is_pass] == b'BI')\n",
    "    is_sd = (hdf['variants']['MULTIALLELIC'][:][is_pass] == b'SD')\n",
    "    is_mu = (hdf['variants']['MULTIALLELIC'][:][is_pass] == b'MU')\n",
    "    is_ins = ((svlen1 > 0) | (svlen2 > 0))[is_pass]\n",
    "    is_del = ((svlen1 < 0) | (svlen2 < 0))[is_pass]\n",
    "    is_ins_del_het = (((svlen1 > 0) & (svlen2 < 0)) | ((svlen1 < 0) & (svlen2 > 0)))[is_pass] # These are hets where one allele is insertion and the other allele is deletion (these are probably rare)\n",
    "    is_coding = (hdf['variants']['CDS'][:][is_pass])\n",
    "    is_vqslod6 = (hdf['variants']['VQSLOD'][:][is_pass] >= 6.0)\n",
    "    is_vhq_snp = (is_vqslod6 & is_snp & is_bi & is_coding)\n",
    "    is_nonsynonymous = (hdf['variants']['SNPEFF_EFFECT'][:][is_pass] == b'NON_SYNONYMOUS_CODING')\n",
    "    is_synonymous = (hdf['variants']['SNPEFF_EFFECT'][:][is_pass] == b'SYNONYMOUS_CODING')\n",
    "    is_frameshift = (hdf['variants']['SNPEFF_EFFECT'][:][is_pass] == b'FRAME_SHIFT')\n",
    "    is_inframe = np.in1d(hdf['variants']['SNPEFF_EFFECT'][:][is_pass], [b'CODON_INSERTION', b'CODON_DELETION', b'CODON_CHANGE_PLUS_CODON_DELETION', b'CODON_CHANGE_PLUS_CODON_INSERTION'])\n",
    "\n",
    "    is_singleton = (\n",
    "        ((ac1 == 1) & (genotypes[:, 0, 0] > 0)) |\n",
    "        ((ac2 == 1) & (genotypes[:, 0, 1] > 0)) |\n",
    "        ((ac1 == 2) & (genotypes[:, 0, 0] > 0) & (genotypes[:, 0, 1] > 0))\n",
    "    )[is_pass]\n",
    "    \n",
    "    is_pass_nonref = (is_pass & ((genotypes[:, 0, 0] > 0) | (genotypes[:, 0, 1] > 0)))\n",
    "    is_biallelic_snp_nonref = (is_snp & is_bi &((genotypes_pass[:, 0, 0] > 0) | (genotypes_pass[:, 0, 1] > 0)))\n",
    "    is_biallelic_indel_nonref = (~is_snp & is_bi &((genotypes_pass[:, 0, 0] > 0) | (genotypes_pass[:, 0, 1] > 0)))\n",
    "    \n",
    "    GQ = hdf['calldata']['GQ'][:, [index]][is_pass]\n",
    "    DP = hdf['calldata']['DP'][:, [index]][is_pass]\n",
    "    PGT = hdf['calldata']['PGT'][:, [index]][is_pass]\n",
    "    \n",
    "    mutations = np.char.add(hdf['variants']['REF'][:][is_pass][is_biallelic_snp_nonref], hdf['variants']['ALT'][:, 0][is_pass][is_biallelic_snp_nonref])\n",
    "    is_transition = np.in1d(mutations, [b'AG', b'GA', b'CT', b'TC'])\n",
    "    is_transversion = np.in1d(mutations, [b'AC', b'AT', b'GC', b'GT', b'CA', b'CG', b'TA', b'TG'])\n",
    "    is_AT_to_AT = np.in1d(mutations, [b'AT', b'TA'])\n",
    "    is_CG_to_CG = np.in1d(mutations, [b'CG', b'GC'])\n",
    "    is_AT_to_CG = np.in1d(mutations, [b'AC', b'AG', b'TC', b'TG'])\n",
    "    is_CG_to_AT = np.in1d(mutations, [b'CA', b'GA', b'CT', b'GT'])\n",
    "\n",
    "    results['num_variants']             = genotypes.shape[0]\n",
    "    results['num_pass_variants']        = np.count_nonzero(is_pass)\n",
    "    results['num_missing']              = genotypes.count_missing(axis=0)[0]\n",
    "    results['num_pass_missing']         = genotypes_pass.count_missing(axis=0)[0]\n",
    "    results['num_called']               = (results['num_variants'] - results['num_missing'])\n",
    "    results['num_pass_called']          = (results['num_pass_variants'] - results['num_pass_missing'])\n",
    "\n",
    "    results['num_het']                  = genotypes.count_het(axis=0)[0]\n",
    "    results['num_pass_het']             = genotypes_pass.count_het(axis=0)[0]\n",
    "    results['num_hom_alt']              = genotypes.count_hom_alt(axis=0)[0]\n",
    "    results['num_pass_hom_alt']         = genotypes_pass.count_hom_alt(axis=0)[0]\n",
    "#     results['num_pass_non_ref']         = (results['num_pass_het'] + results['num_pass_hom_alt'])\n",
    "    results['num_pass_non_ref']         = np.count_nonzero(is_pass_nonref)\n",
    "    \n",
    "    results['num_biallelic_het']        = genotypes_pass.subset(is_bi).count_het(axis=0)[0]\n",
    "    results['num_biallelic_hom_alt']    = genotypes_pass.subset(is_bi).count_hom_alt(axis=0)[0]\n",
    "    results['num_spanning_del_het']     = genotypes_pass.subset(is_sd).count_het(axis=0)[0]\n",
    "    results['num_spanning_del_hom_alt'] = genotypes_pass.subset(is_sd).count_hom_alt(axis=0)[0]\n",
    "    results['num_multiallelic_het']     = genotypes_pass.subset(is_mu).count_het(axis=0)[0]\n",
    "    results['num_multiallelic_hom_alt'] = genotypes_pass.subset(is_mu).count_hom_alt(axis=0)[0]\n",
    "    \n",
    "    results['num_snp_hom_ref']          = genotypes_pass.subset(is_snp).count_hom_ref(axis=0)[0]\n",
    "    results['num_snp_het']              = genotypes_pass.subset(is_snp).count_het(axis=0)[0]\n",
    "    results['num_snp_hom_alt']          = genotypes_pass.subset(is_snp).count_hom_alt(axis=0)[0]\n",
    "    results['num_indel_hom_ref']        = genotypes_pass.subset(~is_snp).count_hom_ref(axis=0)[0]\n",
    "    results['num_indel_het']            = genotypes_pass.subset(~is_snp).count_het(axis=0)[0]\n",
    "    results['num_indel_hom_alt']        = genotypes_pass.subset(~is_snp).count_hom_alt(axis=0)[0]\n",
    "\n",
    "    results['num_ins_het']              = genotypes_pass.subset(is_ins).count_het(axis=0)[0]\n",
    "    results['num_ins_hom_alt']          = genotypes_pass.subset(is_ins).count_hom_alt(axis=0)[0]\n",
    "    results['num_ins']                  = (results['num_ins_hom_alt'] + results['num_ins_het'])\n",
    "    results['num_del_het']              = genotypes_pass.subset(is_del).count_het(axis=0)[0]\n",
    "    results['num_del_hom_alt']          = genotypes_pass.subset(is_del).count_hom_alt(axis=0)[0]\n",
    "    results['num_del']                  = (results['num_del_hom_alt'] + results['num_del_het'])\n",
    "    \n",
    "    results['num_coding_het']           = genotypes_pass.subset(is_coding).count_het(axis=0)[0]\n",
    "    results['num_coding_hom_alt']       = genotypes_pass.subset(is_coding).count_hom_alt(axis=0)[0]\n",
    "    results['num_coding']               = (results['num_coding_het'] + results['num_coding_hom_alt'])\n",
    "    \n",
    "    results['num_vhq_snp_hom_ref']      = genotypes_pass.subset(is_vhq_snp).count_hom_ref(axis=0)[0]\n",
    "    results['num_vhq_snp_het']          = genotypes_pass.subset(is_vhq_snp).count_het(axis=0)[0]\n",
    "    results['num_vhq_snp_hom_alt']      = genotypes_pass.subset(is_vhq_snp).count_hom_alt(axis=0)[0]\n",
    "    \n",
    "    results['num_singleton']            = np.count_nonzero(is_singleton)\n",
    "    results['num_biallelic_singleton']  = np.count_nonzero(is_bi & is_singleton)\n",
    "    results['num_vhq_snp_singleton']    = np.count_nonzero(is_vhq_snp & is_singleton)\n",
    "\n",
    "    results['num_bi_nonsynonymous']     = np.count_nonzero(is_biallelic_snp_nonref & is_nonsynonymous)\n",
    "    results['num_bi_synonymous']        = np.count_nonzero(is_biallelic_snp_nonref & is_synonymous)\n",
    "    results['num_bi_frameshift']        = np.count_nonzero(is_biallelic_indel_nonref & is_frameshift)\n",
    "    results['num_bi_inframe']           = np.count_nonzero(is_biallelic_indel_nonref & is_inframe)\n",
    "\n",
    "    results['num_bi_transition']        = np.count_nonzero(is_transition)\n",
    "    results['num_bi_transversion']      = np.count_nonzero(is_transversion)\n",
    "    results['num_bi_AT_to_AT']          = np.count_nonzero(is_AT_to_AT)\n",
    "    results['num_bi_CG_to_CG']          = np.count_nonzero(is_CG_to_CG)\n",
    "    results['num_bi_AT_to_CG']          = np.count_nonzero(is_AT_to_CG)\n",
    "    results['num_bi_CG_to_AT']          = np.count_nonzero(is_CG_to_AT)\n",
    "\n",
    "    results['pc_pass']                  = results['num_pass_called'] / results['num_called']\n",
    "    results['pc_missing']               = results['num_missing'] / results['num_variants']\n",
    "    results['pc_pass_missing']          = results['num_pass_missing'] / results['num_pass_variants']\n",
    "    results['pc_het']                   = results['num_het'] / results['num_called']\n",
    "    results['pc_pass_het']              = results['num_pass_het'] / results['num_pass_called']\n",
    "    results['pc_hom_alt']               = results['num_hom_alt'] / results['num_called']\n",
    "    results['pc_pass_hom_alt']          = results['num_pass_hom_alt'] / results['num_pass_called']\n",
    "    results['pc_snp']                   = (results['num_snp_het'] + results['num_snp_hom_alt']) / results['num_pass_non_ref']\n",
    "#     results['pc_snp_v2']                = (results['num_snp_het'] + results['num_snp_hom_alt']) / (results['num_snp_het'] + results['num_snp_hom_alt'] + results['num_indel_het'] + results['num_indel_hom_alt'])\n",
    "    results['pc_biallelic']             = (results['num_biallelic_het'] + results['num_biallelic_hom_alt']) / results['num_pass_non_ref']\n",
    "    results['pc_spanning_del']          = (results['num_spanning_del_het'] + results['num_spanning_del_hom_alt']) / results['num_pass_non_ref']\n",
    "    results['pc_mutliallelic']          = (results['num_multiallelic_het'] + results['num_multiallelic_hom_alt']) / results['num_pass_non_ref']\n",
    "    results['pc_ins']                   = (results['num_ins'] / (results['num_ins'] + results['num_del']))\n",
    "    results['pc_coding']                = results['num_coding'] / results['num_pass_non_ref']\n",
    "#     results['pc_bi_nonsynonymous']      = results['num_bi_nonsynonymous'] / (results['num_biallelic_het'] + results['num_biallelic_hom_alt'])\n",
    "    results['pc_bi_nonsynonymous']      = results['num_bi_nonsynonymous'] / (results['num_bi_nonsynonymous'] + results['num_bi_synonymous'])\n",
    "    results['pc_bi_frameshift']         = results['num_bi_frameshift'] / (results['num_bi_frameshift'] + results['num_bi_inframe'])\n",
    "    results['pc_bi_transition']         = results['num_bi_transition'] / (results['num_bi_transition'] + results['num_bi_transversion'])\n",
    "    results['pc_bi_AT_to_AT']           = results['num_bi_AT_to_AT'] / (results['num_bi_AT_to_AT'] + results['num_bi_CG_to_CG'] + results['num_bi_AT_to_CG'] + results['num_bi_CG_to_AT'])\n",
    "    results['pc_bi_CG_to_CG']           = results['num_bi_CG_to_CG'] / (results['num_bi_AT_to_AT'] + results['num_bi_CG_to_CG'] + results['num_bi_AT_to_CG'] + results['num_bi_CG_to_AT'])\n",
    "    results['pc_bi_AT_to_CG']           = results['num_bi_AT_to_CG'] / (results['num_bi_AT_to_AT'] + results['num_bi_CG_to_CG'] + results['num_bi_AT_to_CG'] + results['num_bi_CG_to_AT'])\n",
    "    results['pc_bi_CG_to_AT']           = results['num_bi_CG_to_AT'] / (results['num_bi_AT_to_AT'] + results['num_bi_CG_to_CG'] + results['num_bi_AT_to_CG'] + results['num_bi_CG_to_AT'])\n",
    "    \n",
    "    results['mean_GQ']                  = np.mean(GQ)\n",
    "    results['mean_GQ_2']                = np.nanmean(GQ)\n",
    "    results['mean_DP']                  = np.mean(DP)\n",
    "    results['mean_DP_2']                = np.nanmean(DP)\n",
    "    \n",
    "    print('\\t'.join([str(x) for x in list(results.keys())]))\n",
    "    print('\\t'.join([str(x) for x in list(results.values())]))\n",
    "\n",
    "    return(results, PGT)"
   ]
  },
  {
   "cell_type": "code",
   "execution_count": 301,
   "metadata": {
    "collapsed": false
   },
   "outputs": [],
   "source": [
    "import allel\n",
    "def create_sample_summary_2(index=0, hdf5_fn='/lustre/scratch111/malaria/rp7/data/methods-dev/builds/Pf6.0/20161128_HDF5_build/hdf5/Pf_60_npy_PID_a12.h5'):\n",
    "    results = collections.OrderedDict()\n",
    "    \n",
    "    hdf = h5py.File(hdf5_fn, 'r')\n",
    "    samples = hdf['samples'][:]\n",
    "    results['sample_id'] = samples[index].decode('ascii')\n",
    "#     output_fn = \"%s/%s.txt\" % (output_filestem, results['sample_id'])\n",
    "#     fo = open(output_fn, 'w')\n",
    "    is_pass = hdf['variants']['FILTER_PASS'][:]\n",
    "    \n",
    "    genotypes = allel.GenotypeArray(hdf['calldata']['genotype'][:, [index], :])\n",
    "#     genotypes_pass = genotypes[is_pass]\n",
    "    \n",
    "    svlen = hdf['variants']['svlen'][:]\n",
    "    svlen1 = svlen[np.arange(svlen.shape[0]), genotypes[:, 0, 0] - 1]\n",
    "    svlen1[np.in1d(genotypes[:, 0, 0], [-1, 0])] = 0 # Ref and missing are considered non-SV\n",
    "    svlen2 = svlen[np.arange(svlen.shape[0]), genotypes[:, 0, 1] - 1]\n",
    "    svlen2[np.in1d(genotypes[:, 0, 1], [-1, 0])] = 0 # Ref and missing are considered non-SV\n",
    "    indel_len = svlen1\n",
    "    het_indels = (svlen1 != svlen2)\n",
    "    indel_len[het_indels] = svlen1[het_indels] + svlen2[het_indels]\n",
    "    \n",
    "    is_indel = (indel_len != 0)\n",
    "    is_inframe = ((indel_len != 0) & (indel_len%3 == 0))\n",
    "    is_frameshift = ((indel_len != 0) & (indel_len%3 != 0))\n",
    "    \n",
    "    ac = hdf['variants']['AC'][:]\n",
    "    ac1 = ac[np.arange(ac.shape[0]), genotypes[:, 0, 0] - 1]\n",
    "    ac1[np.in1d(genotypes[:, 0, 0], [-1, 0])] = 0 # Ref and missing are considered non-singleton\n",
    "    ac2 = ac[np.arange(ac.shape[0]), genotypes[:, 0, 1] - 1]\n",
    "    ac2[np.in1d(genotypes[:, 0, 1], [-1, 0])] = 0 # Ref and missing are considered non-singleton\n",
    "    \n",
    "    is_snp = (hdf['variants']['VARIANT_TYPE'][:] == b'SNP')\n",
    "    is_bi = (hdf['variants']['MULTIALLELIC'][:] == b'BI')\n",
    "    is_sd = (hdf['variants']['MULTIALLELIC'][:] == b'SD')\n",
    "    is_mu = (hdf['variants']['MULTIALLELIC'][:] == b'MU')\n",
    "    is_ins = ((svlen1 > 0) | (svlen2 > 0))\n",
    "    is_del = ((svlen1 < 0) | (svlen2 < 0))\n",
    "    is_ins_del_het = (((svlen1 > 0) & (svlen2 < 0)) | ((svlen1 < 0) & (svlen2 > 0))) # These are hets where one allele is insertion and the other allele is deletion (these are probably rare)\n",
    "    is_coding = (hdf['variants']['CDS'][:])\n",
    "    is_vqslod6 = (hdf['variants']['VQSLOD'][:] >= 6.0)\n",
    "    is_hq_snp = (is_pass & is_snp & is_bi & is_coding)\n",
    "    is_vhq_snp = (is_pass & is_vqslod6 & is_snp & is_bi & is_coding)\n",
    "    is_nonsynonymous = (hdf['variants']['SNPEFF_EFFECT'][:] == b'NON_SYNONYMOUS_CODING')\n",
    "    is_synonymous = (hdf['variants']['SNPEFF_EFFECT'][:] == b'SYNONYMOUS_CODING')\n",
    "    is_frameshift_snpeff = (hdf['variants']['SNPEFF_EFFECT'][:] == b'FRAME_SHIFT')\n",
    "    is_inframe_snpeff = np.in1d(hdf['variants']['SNPEFF_EFFECT'][:], [b'CODON_INSERTION', b'CODON_DELETION', b'CODON_CHANGE_PLUS_CODON_DELETION', b'CODON_CHANGE_PLUS_CODON_INSERTION'])\n",
    "\n",
    "    is_singleton = (\n",
    "        ((ac1 == 1) & (genotypes[:, 0, 0] > 0)) |\n",
    "        ((ac2 == 1) & (genotypes[:, 0, 1] > 0)) |\n",
    "        ((ac1 == 2) & (genotypes[:, 0, 0] > 0) & (genotypes[:, 0, 1] > 0))\n",
    "    )\n",
    "    \n",
    "    is_hom_ref = ((genotypes[:, 0, 0] == 0) & (genotypes[:, 0, 1] == 0))\n",
    "    is_het = ((genotypes[:, 0, 0] != genotypes[:, 0, 1]))\n",
    "    is_hom_alt = ((genotypes[:, 0, 0] > 0) & (genotypes[:, 0, 0] == genotypes[:, 0, 1]))\n",
    "    is_non_ref = ((genotypes[:, 0, 0] > 0) | (genotypes[:, 0, 1] > 0))\n",
    "    is_missing = ((genotypes[:, 0, 0] == -1))\n",
    "    is_called = ((genotypes[:, 0, 0] >= 0))\n",
    "    \n",
    "    GQ = hdf['calldata']['GQ'][:, index]\n",
    "    is_GQ_30 = (GQ >= 30)\n",
    "    is_GQ_99 = (GQ >= 99)\n",
    "    DP = hdf['calldata']['DP'][:, index]\n",
    "    PGT = hdf['calldata']['PGT'][:, index]\n",
    "    is_phased = np.in1d(PGT, [b'.', b''], invert=True)\n",
    "    \n",
    "    mutations = np.char.add(hdf['variants']['REF'][:][(is_pass & is_snp & is_bi & is_non_ref)], hdf['variants']['ALT'][:, 0][(is_pass & is_snp & is_bi & is_non_ref)])\n",
    "    is_transition = np.in1d(mutations, [b'AG', b'GA', b'CT', b'TC'])\n",
    "    is_transversion = np.in1d(mutations, [b'AC', b'AT', b'GC', b'GT', b'CA', b'CG', b'TA', b'TG'])\n",
    "    is_AT_to_AT = np.in1d(mutations, [b'AT', b'TA'])\n",
    "    is_CG_to_CG = np.in1d(mutations, [b'CG', b'GC'])\n",
    "    is_AT_to_CG = np.in1d(mutations, [b'AC', b'AG', b'TC', b'TG'])\n",
    "    is_CG_to_AT = np.in1d(mutations, [b'CA', b'GA', b'CT', b'GT'])\n",
    "\n",
    "    results['num_variants']             = genotypes.shape[0]\n",
    "    results['num_pass_variants']        = np.count_nonzero(is_pass)\n",
    "    results['num_missing']              = np.count_nonzero(is_missing)\n",
    "    results['num_pass_missing']         = np.count_nonzero(is_pass & is_missing)\n",
    "    results['num_called']               = np.count_nonzero(~is_missing)\n",
    "#     results['num_called']               = (results['num_variants'] - results['num_missing'])\n",
    "    results['num_pass_called']          = np.count_nonzero(is_pass & is_called)\n",
    "#     results['num_pass_called_2']        = np.count_nonzero(is_pass & ~is_missing)\n",
    "#     results['num_pass_called']          = (results['num_pass_variants'] - results['num_pass_missing'])\n",
    "\n",
    "    results['num_hom_ref']              = np.count_nonzero(is_hom_ref)\n",
    "    results['num_het']                  = np.count_nonzero(is_het)\n",
    "    results['num_pass_het']             = np.count_nonzero(is_pass & is_het)\n",
    "    results['num_hom_alt']              = np.count_nonzero(is_hom_alt)\n",
    "    results['num_pass_hom_alt']         = np.count_nonzero(is_pass & is_hom_alt)\n",
    "#     results['num_pass_non_ref']         = (results['num_pass_het'] + results['num_pass_hom_alt'])\n",
    "    results['num_pass_non_ref']         = np.count_nonzero(is_pass & is_non_ref)\n",
    "#     results['num_variants_2']           = results['num_hom_ref'] + results['num_het'] + results['num_hom_alt'] + results['num_missing']\n",
    "    \n",
    "    results['num_biallelic_het']        = np.count_nonzero(is_pass & is_bi & is_het)\n",
    "    results['num_biallelic_hom_alt']    = np.count_nonzero(is_pass & is_bi & is_hom_alt)\n",
    "    results['num_spanning_del_het']     = np.count_nonzero(is_pass & is_sd & is_het)\n",
    "    results['num_spanning_del_hom_alt'] = np.count_nonzero(is_pass & is_sd & is_hom_alt)\n",
    "    results['num_multiallelic_het']     = np.count_nonzero(is_pass & is_mu & is_het)\n",
    "    results['num_multiallelic_hom_alt'] = np.count_nonzero(is_pass & is_mu & is_hom_alt)\n",
    "    \n",
    "#     results['num_snp_hom_ref']          = np.count_nonzero(is_pass & is_snp & is_het)\n",
    "    results['num_snp_het']              = np.count_nonzero(is_pass & is_snp & is_het)\n",
    "    results['num_snp_hom_alt']          = np.count_nonzero(is_pass & is_snp & is_hom_alt)\n",
    "    results['num_snp']                  = (results['num_snp_het'] + results['num_snp_hom_alt'])\n",
    "#     results['num_indel_hom_ref']        = genotypes_pass.subset(~is_snp).count_hom_ref(axis=0)[0]\n",
    "    results['num_indel_het']            = np.count_nonzero(is_pass & ~is_snp & is_het)\n",
    "    results['num_indel_hom_alt']        = np.count_nonzero(is_pass & ~is_snp & is_het)\n",
    "    results['num_indel']                  = (results['num_indel_het'] + results['num_indel_hom_alt'])\n",
    "\n",
    "    results['num_ins_het']              = np.count_nonzero(is_pass & is_ins & is_het)\n",
    "    results['num_ins_hom_alt']          = np.count_nonzero(is_pass & is_ins & is_hom_alt)\n",
    "    results['num_ins']                  = (results['num_ins_hom_alt'] + results['num_ins_het'])\n",
    "    results['num_del_het']              = np.count_nonzero(is_pass & is_del & is_het)\n",
    "    results['num_del_hom_alt']          = np.count_nonzero(is_pass & is_del & is_hom_alt)\n",
    "    results['num_del']                  = (results['num_del_hom_alt'] + results['num_del_het'])\n",
    "    \n",
    "    results['num_coding_het']           = np.count_nonzero(is_pass & is_coding & is_het)\n",
    "    results['num_coding_hom_alt']       = np.count_nonzero(is_pass & is_coding & is_hom_alt)\n",
    "    results['num_coding']               = (results['num_coding_het'] + results['num_coding_hom_alt'])\n",
    "    \n",
    "    results['num_hq_snp_called']        = np.count_nonzero(is_hq_snp & ~is_missing)\n",
    "    results['num_hq_snp_hom_ref']       = np.count_nonzero(is_hq_snp & is_hom_ref)\n",
    "    results['num_hq_snp_het']           = np.count_nonzero(is_hq_snp & is_het)\n",
    "    results['num_hq_snp_hom_alt']       = np.count_nonzero(is_hq_snp & is_hom_alt)\n",
    "    results['num_vhq_snp_called']       = np.count_nonzero(is_vhq_snp & ~is_missing)\n",
    "    results['num_vhq_snp_hom_ref']      = np.count_nonzero(is_vhq_snp & is_hom_ref)\n",
    "    results['num_vhq_snp_het']          = np.count_nonzero(is_vhq_snp & is_het)\n",
    "    results['num_vhq_snp_hom_alt']      = np.count_nonzero(is_vhq_snp & is_hom_alt)\n",
    "    \n",
    "    results['num_singleton']            = np.count_nonzero(is_pass & is_singleton)\n",
    "    results['num_biallelic_singleton']  = np.count_nonzero(is_pass & is_bi & is_singleton)\n",
    "    results['num_hq_snp_singleton']     = np.count_nonzero(is_hq_snp & is_singleton)\n",
    "    results['num_vhq_snp_singleton']    = np.count_nonzero(is_vhq_snp & is_singleton)\n",
    "\n",
    "    results['num_bi_nonsynonymous']     = np.count_nonzero(is_pass & is_bi & is_snp & is_non_ref & is_nonsynonymous)\n",
    "    results['num_bi_synonymous']        = np.count_nonzero(is_pass & is_bi & is_snp & is_non_ref & is_synonymous)\n",
    "#     results['num_frameshift']           = np.count_nonzero(is_pass & is_indel & is_non_ref & is_coding & is_frameshift)\n",
    "#     results['num_inframe']              = np.count_nonzero(is_pass & is_indel & is_non_ref & is_coding & is_inframe)\n",
    "    results['num_frameshift']           = np.count_nonzero(is_pass & is_indel & is_coding & is_frameshift)\n",
    "    results['num_inframe']              = np.count_nonzero(is_pass & is_indel & is_coding & is_inframe)\n",
    "    results['num_bi_frameshift']        = np.count_nonzero(is_pass & is_bi & is_indel & is_coding & is_non_ref & is_frameshift)\n",
    "    results['num_bi_inframe']           = np.count_nonzero(is_pass & is_bi & is_indel & is_coding & is_non_ref & is_inframe)\n",
    "    results['num_hq_frameshift']        = np.count_nonzero(is_pass & is_vqslod6 & is_bi & is_indel & is_coding & is_non_ref & is_frameshift)\n",
    "    results['num_hq_inframe']           = np.count_nonzero(is_pass & is_vqslod6 & is_bi & is_indel & is_coding & is_non_ref & is_inframe)\n",
    "    results['num_bi_frameshift_snpeff'] = np.count_nonzero(is_pass & is_bi & ~is_snp & is_non_ref & is_frameshift_snpeff)\n",
    "    results['num_bi_inframe_snpeff']    = np.count_nonzero(is_pass & is_bi & ~is_snp & is_non_ref & is_inframe_snpeff)\n",
    "\n",
    "    results['num_bi_transition']        = np.count_nonzero(is_transition)\n",
    "    results['num_bi_transversion']      = np.count_nonzero(is_transversion)\n",
    "    results['num_bi_AT_to_AT']          = np.count_nonzero(is_AT_to_AT)\n",
    "    results['num_bi_CG_to_CG']          = np.count_nonzero(is_CG_to_CG)\n",
    "    results['num_bi_AT_to_CG']          = np.count_nonzero(is_AT_to_CG)\n",
    "    results['num_bi_CG_to_AT']          = np.count_nonzero(is_CG_to_AT)\n",
    "\n",
    "    results['num_phased']               = np.count_nonzero(is_pass & is_phased)\n",
    "    results['num_phased_non_ref']       = np.count_nonzero(is_pass & is_phased & is_non_ref)\n",
    "    results['num_phased_hom_ref']       = np.count_nonzero(is_pass & is_phased & is_hom_ref)\n",
    "    results['num_phased_missing']       = np.count_nonzero(is_pass & is_phased & is_missing)\n",
    "    \n",
    "    results['num_GQ_30']                = np.count_nonzero(is_pass & is_called & is_GQ_30)\n",
    "    results['num_het_GQ_30']            = np.count_nonzero(is_pass & is_het & is_GQ_30)\n",
    "    results['num_hom_alt_GQ_30']        = np.count_nonzero(is_pass & is_hom_alt & is_GQ_30)\n",
    "    results['num_GQ_99']                = np.count_nonzero(is_pass & is_called & is_GQ_99)\n",
    "    results['num_het_GQ_99']            = np.count_nonzero(is_pass & is_het & is_GQ_99)\n",
    "    results['num_hom_alt_GQ_99']        = np.count_nonzero(is_pass & is_hom_alt & is_GQ_99)\n",
    "\n",
    "    results['pc_pass']                  = 0.0 if results['num_called'] == 0 else \\\n",
    "        results['num_pass_called'] / results['num_called']\n",
    "    results['pc_missing']               = 0.0 if results['num_variants'] == 0 else \\\n",
    "        results['num_missing'] / results['num_variants']\n",
    "    results['pc_pass_missing']          = 0.0 if results['num_pass_variants'] == 0 else \\\n",
    "        results['num_pass_missing'] / results['num_pass_variants']\n",
    "    results['pc_het']                   = 0.0 if results['num_called'] == 0 else \\\n",
    "        results['num_het'] / results['num_called']\n",
    "    results['pc_pass_het']              = 0.0 if results['num_pass_called'] == 0 else \\\n",
    "        results['num_pass_het'] / results['num_pass_called']\n",
    "    results['pc_hq_snp_het']            = 0.0 if results['num_hq_snp_called'] == 0 else \\\n",
    "        results['num_hq_snp_het'] / results['num_hq_snp_called']\n",
    "    results['pc_vhq_snp_het']           = 0.0 if results['num_vhq_snp_called'] == 0 else \\\n",
    "        results['num_vhq_snp_het'] / results['num_vhq_snp_called']\n",
    "    results['pc_hom_alt']               = 0.0 if results['num_called'] == 0 else \\\n",
    "        results['num_hom_alt'] / results['num_called']\n",
    "    results['pc_pass_hom_alt']          = 0.0 if results['num_pass_called'] == 0 else \\\n",
    "        results['num_pass_hom_alt'] / results['num_pass_called']\n",
    "    results['pc_snp']                   = 0.0 if results['num_pass_non_ref'] == 0 else \\\n",
    "        (results['num_snp_het'] + results['num_snp_hom_alt']) / results['num_pass_non_ref']\n",
    "#     results['pc_snp_v2']                = (results['num_snp_het'] + results['num_snp_hom_alt']) / (results['num_snp_het'] + results['num_snp_hom_alt'] + results['num_indel_het'] + results['num_indel_hom_alt'])\n",
    "    results['pc_biallelic']             = 0.0 if results['num_pass_non_ref'] == 0 else \\\n",
    "        (results['num_biallelic_het'] + results['num_biallelic_hom_alt']) / results['num_pass_non_ref']\n",
    "    results['pc_spanning_del']          = 0.0 if results['num_pass_non_ref'] == 0 else \\\n",
    "        (results['num_spanning_del_het'] + results['num_spanning_del_hom_alt']) / results['num_pass_non_ref']\n",
    "    results['pc_mutliallelic']          = 0.0 if results['num_pass_non_ref'] == 0 else \\\n",
    "        (results['num_multiallelic_het'] + results['num_multiallelic_hom_alt']) / results['num_pass_non_ref']\n",
    "    results['pc_ins']                   = 0.0 if (results['num_ins'] + results['num_del']) == 0 else \\\n",
    "        (results['num_ins'] / (results['num_ins'] + results['num_del']))\n",
    "    results['pc_coding']                = 0.0 if results['num_pass_non_ref'] == 0 else \\\n",
    "        results['num_coding'] / results['num_pass_non_ref']\n",
    "#     results['pc_bi_nonsynonymous']      = results['num_bi_nonsynonymous'] / (results['num_biallelic_het'] + results['num_biallelic_hom_alt'])\n",
    "    results['pc_bi_nonsynonymous']      = 0.0 if (results['num_bi_nonsynonymous'] + results['num_bi_synonymous']) == 0 else \\\n",
    "        results['num_bi_nonsynonymous'] / (results['num_bi_nonsynonymous'] + results['num_bi_synonymous'])\n",
    "    results['pc_frameshift']            = 0.0 if (results['num_frameshift'] + results['num_inframe']) == 0 else \\\n",
    "        results['num_frameshift'] / (results['num_frameshift'] + results['num_inframe'])\n",
    "    results['pc_bi_frameshift']         = 0.0 if (results['num_bi_frameshift'] + results['num_bi_inframe']) == 0 else \\\n",
    "        results['num_bi_frameshift'] / (results['num_bi_frameshift'] + results['num_bi_inframe'])\n",
    "    results['pc_hq_frameshift']         = 0.0 if (results['num_hq_frameshift'] + results['num_hq_inframe']) == 0 else \\\n",
    "        results['num_hq_frameshift'] / (results['num_hq_frameshift'] + results['num_hq_inframe'])\n",
    "    results['pc_bi_frameshift_snpeff']  = 0.0 if (results['num_bi_frameshift_snpeff'] + results['num_bi_inframe_snpeff']) == 0 else \\\n",
    "        results['num_bi_frameshift_snpeff'] / (results['num_bi_frameshift_snpeff'] + results['num_bi_inframe_snpeff'])\n",
    "    results['pc_bi_transition']         = 0.0 if (results['num_bi_transition'] + results['num_bi_transversion']) == 0 else \\\n",
    "        results['num_bi_transition'] / (results['num_bi_transition'] + results['num_bi_transversion'])\n",
    "    results['pc_bi_AT_to_AT']           = 0.0 if (results['num_bi_AT_to_AT'] + results['num_bi_CG_to_CG'] + results['num_bi_AT_to_CG'] + results['num_bi_CG_to_AT']) == 0 else \\\n",
    "        results['num_bi_AT_to_AT'] / (results['num_bi_AT_to_AT'] + results['num_bi_CG_to_CG'] + results['num_bi_AT_to_CG'] + results['num_bi_CG_to_AT'])\n",
    "    results['pc_bi_CG_to_CG']           = 0.0 if (results['num_bi_AT_to_AT'] + results['num_bi_CG_to_CG'] + results['num_bi_AT_to_CG'] + results['num_bi_CG_to_AT']) == 0 else \\\n",
    "        results['num_bi_CG_to_CG'] / (results['num_bi_AT_to_AT'] + results['num_bi_CG_to_CG'] + results['num_bi_AT_to_CG'] + results['num_bi_CG_to_AT'])\n",
    "    results['pc_bi_AT_to_CG']           = 0.0 if (results['num_bi_AT_to_AT'] + results['num_bi_CG_to_CG'] + results['num_bi_AT_to_CG'] + results['num_bi_CG_to_AT']) == 0 else \\\n",
    "        results['num_bi_AT_to_CG'] / (results['num_bi_AT_to_AT'] + results['num_bi_CG_to_CG'] + results['num_bi_AT_to_CG'] + results['num_bi_CG_to_AT'])\n",
    "    results['pc_bi_CG_to_AT']           = 0.0 if (results['num_bi_AT_to_AT'] + results['num_bi_CG_to_CG'] + results['num_bi_AT_to_CG'] + results['num_bi_CG_to_AT']) == 0 else \\\n",
    "        results['num_bi_CG_to_AT'] / (results['num_bi_AT_to_AT'] + results['num_bi_CG_to_CG'] + results['num_bi_AT_to_CG'] + results['num_bi_CG_to_AT'])\n",
    "    results['pc_phased']                = 0.0 if results['num_pass_non_ref'] == 0 else \\\n",
    "        results['num_phased_non_ref'] / results['num_pass_non_ref']\n",
    "    results['pc_phased_hom_ref']        = 0.0 if results['num_phased'] == 0 else \\\n",
    "        results['num_phased_hom_ref'] / results['num_phased']\n",
    "    results['pc_phased_missing']        = 0.0 if results['num_phased'] == 0 else \\\n",
    "        results['num_phased_missing'] / results['num_phased']\n",
    "    results['pc_GQ_30']                 = 0.0 if results['num_pass_called'] == 0 else \\\n",
    "        results['num_GQ_30'] / results['num_pass_called']\n",
    "    results['pc_het_GQ_30']             = 0.0 if results['num_pass_het'] == 0 else \\\n",
    "        results['num_het_GQ_30'] / results['num_pass_het']\n",
    "    results['pc_hom_alt_GQ_30']         = 0.0 if results['num_pass_hom_alt'] == 0 else \\\n",
    "        results['num_hom_alt_GQ_30'] / results['num_pass_hom_alt']\n",
    "    results['pc_GQ_99']                 = 0.0 if results['num_pass_called'] == 0 else \\\n",
    "        results['num_GQ_99'] / results['num_pass_called']\n",
    "    results['pc_het_GQ_99']             = 0.0 if results['num_pass_het'] == 0 else \\\n",
    "        results['num_het_GQ_99'] / results['num_pass_het']\n",
    "    results['pc_hom_alt_GQ_99']         = 0.0 if results['num_pass_hom_alt'] == 0 else \\\n",
    "        results['num_hom_alt_GQ_99'] / results['num_pass_hom_alt']\n",
    "     \n",
    "    results['mean_GQ']                  = np.mean(GQ[is_pass])\n",
    "    results['mean_GQ_hom_ref']          = np.mean(GQ[is_pass & is_hom_ref])\n",
    "    results['mean_GQ_het']              = np.mean(GQ[is_pass & is_het])\n",
    "    results['mean_GQ_hom_alt']          = np.mean(GQ[is_pass & is_hom_alt])\n",
    "    results['mean_DP']                  = np.mean(DP[is_pass])\n",
    "    results['mean_DP_hom_ref']          = np.mean(DP[is_pass & is_hom_ref])\n",
    "    results['mean_DP_het']              = np.mean(DP[is_pass & is_het])\n",
    "    results['mean_DP_hom_alt']          = np.mean(DP[is_pass & is_hom_alt])\n",
    "#     results['mean_GQ_2']                = np.nanmean(GQ[is_pass])\n",
    "#     results['mean_DP_2']                = np.nanmean(DP[is_pass])\n",
    "#     results['mean_DP']                  = np.mean(DP)\n",
    "#     results['mean_DP_2']                = np.nanmean(DP)\n",
    "\n",
    "    results['mean_indel_len']           = np.mean(indel_len[is_pass])\n",
    "    results['total_indel_len']          = np.sum(indel_len[is_pass])\n",
    "\n",
    "    print('\\t'.join([str(x) for x in list(results.keys())]))\n",
    "    print('\\t'.join([str(x) for x in list(results.values())]))\n",
    "\n",
    "#     return(results, is_pass, is_phased, is_non_ref, is_hom_ref, is_missing)\n",
    "#     return(results, svlen, svlen1, svlen2, indel_len, is_indel, is_inframe, is_frameshift, is_pass, is_bi, is_non_ref, is_frameshift_snpeff, is_inframe_snpeff, is_coding, is_vqslod6)\n",
    "#     return(results, is_pass, is_called, is_GQ_30)\n",
    "    return(results)\n"
   ]
  },
  {
   "cell_type": "markdown",
   "metadata": {},
   "source": [
    "- Create sample level summaries of genotypes\n",
    "    - #Pass/Fail SNP/INDEL BI/MU/SD het/hom\n",
    "    - Pass/Fail\n",
    "    - SNP/INDEL\n",
    "    - INS/DEL\n",
    "    - Coding/non-coding\n",
    "    - singletons\n",
    "    - singleton mean VQSLOD\n",
    "    - het/hom\n",
    "    - NS/S\n",
    "    - mean GQ\n",
    "    - mean DP\n",
    "    - %phased\n",
    "    - num_pass_biallelic_coding_snp_het, num_VQSLOD6_biallelic_coding_snp_het\n",
    "    - mean indel size, total_indel_size\n",
    "    - %coding indel mod3\n",
    "    - #transitions/transversions, Ti/Tv\n",
    "    "
   ]
  },
  {
   "cell_type": "code",
   "execution_count": 302,
   "metadata": {
    "collapsed": false
   },
   "outputs": [
    {
     "name": "stdout",
     "output_type": "stream",
     "text": [
      "sample_id\tnum_variants\tnum_pass_variants\tnum_missing\tnum_pass_missing\tnum_called\tnum_pass_called\tnum_hom_ref\tnum_het\tnum_pass_het\tnum_hom_alt\tnum_pass_hom_alt\tnum_pass_non_ref\tnum_biallelic_het\tnum_biallelic_hom_alt\tnum_spanning_del_het\tnum_spanning_del_hom_alt\tnum_multiallelic_het\tnum_multiallelic_hom_alt\tnum_snp_het\tnum_snp_hom_alt\tnum_snp\tnum_indel_het\tnum_indel_hom_alt\tnum_indel\tnum_ins_het\tnum_ins_hom_alt\tnum_ins\tnum_del_het\tnum_del_hom_alt\tnum_del\tnum_coding_het\tnum_coding_hom_alt\tnum_coding\tnum_hq_snp_called\tnum_hq_snp_hom_ref\tnum_hq_snp_het\tnum_hq_snp_hom_alt\tnum_vhq_snp_called\tnum_vhq_snp_hom_ref\tnum_vhq_snp_het\tnum_vhq_snp_hom_alt\tnum_singleton\tnum_biallelic_singleton\tnum_hq_snp_singleton\tnum_vhq_snp_singleton\tnum_bi_nonsynonymous\tnum_bi_synonymous\tnum_frameshift\tnum_inframe\tnum_bi_frameshift\tnum_bi_inframe\tnum_hq_frameshift\tnum_hq_inframe\tnum_bi_frameshift_snpeff\tnum_bi_inframe_snpeff\tnum_bi_transition\tnum_bi_transversion\tnum_bi_AT_to_AT\tnum_bi_CG_to_CG\tnum_bi_AT_to_CG\tnum_bi_CG_to_AT\tnum_phased\tnum_phased_non_ref\tnum_phased_hom_ref\tnum_phased_missing\tnum_GQ_30\tnum_het_GQ_30\tnum_hom_alt_GQ_30\tnum_GQ_99\tnum_het_GQ_99\tnum_hom_alt_GQ_99\tpc_pass\tpc_missing\tpc_pass_missing\tpc_het\tpc_pass_het\tpc_hq_snp_het\tpc_vhq_snp_het\tpc_hom_alt\tpc_pass_hom_alt\tpc_snp\tpc_biallelic\tpc_spanning_del\tpc_mutliallelic\tpc_ins\tpc_coding\tpc_bi_nonsynonymous\tpc_frameshift\tpc_bi_frameshift\tpc_hq_frameshift\tpc_bi_frameshift_snpeff\tpc_bi_transition\tpc_bi_AT_to_AT\tpc_bi_CG_to_CG\tpc_bi_AT_to_CG\tpc_bi_CG_to_AT\tpc_phased\tpc_phased_hom_ref\tpc_phased_missing\tpc_GQ_30\tpc_het_GQ_30\tpc_hom_alt_GQ_30\tpc_GQ_99\tpc_het_GQ_99\tpc_hom_alt_GQ_99\tmean_GQ\tmean_GQ_hom_ref\tmean_GQ_het\tmean_GQ_hom_alt\tmean_DP\tmean_DP_hom_ref\tmean_DP_het\tmean_DP_hom_alt\tmean_indel_len\ttotal_indel_len\n",
      "PA0247-C\t6051696\t3114760\t5670781\t2887816\t380915\t226944\t380705\t3\t1\t207\t113\t114\t0\t29\t0\t31\t1\t53\t1\t53\t54\t0\t0\t0\t0\t8\t8\t0\t39\t39\t1\t48\t49\t102504\t102486\t0\t18\t8131\t8116\t0\t15\t0\t0\t0\t0\t13\t5\t6\t8\t0\t0\t0\t0\t0\t0\t15\t13\t8\t0\t12\t8\t23\t21\t2\t0\t51\t0\t0\t8\t0\t0\t0.5957864615465392\t0.9370564879663487\t0.927139169631047\t7.875772810207e-06\t4.406373378454597e-06\t0.0\t0.0\t0.0005434283239042832\t0.0004979201917653694\t0.47368421052631576\t0.2543859649122807\t0.2719298245614035\t0.47368421052631576\t0.1702127659574468\t0.4298245614035088\t0.7222222222222222\t0.42857142857142855\t0.0\t0.0\t0.0\t0.5357142857142857\t0.2857142857142857\t0.0\t0.42857142857142855\t0.2857142857142857\t0.18421052631578946\t0.08695652173913043\t0.0\t0.00022472504230118442\t0.0\t0.0\t3.525098702763678e-05\t0.0\t0.0\t0.233499852316\t3.20343869858\t21.0\t5.65486725664\t0.0892967676482\t1.1409072874\t3.0\t1.87610619469\t-0.000100489283283\t-313\n"
     ]
    }
   ],
   "source": [
    "results = create_sample_summary_2(index=275)"
   ]
  },
  {
   "cell_type": "code",
   "execution_count": 277,
   "metadata": {
    "collapsed": false
   },
   "outputs": [
    {
     "name": "stdout",
     "output_type": "stream",
     "text": [
      "sample_id\tnum_variants\tnum_pass_variants\tnum_missing\tnum_pass_missing\tnum_called_2\tnum_called\tnum_pass_called_3\tnum_pass_called_2\tnum_pass_called\tnum_hom_ref\tnum_het\tnum_pass_het\tnum_hom_alt\tnum_pass_hom_alt\tnum_pass_non_ref\tnum_variants_2\tnum_biallelic_het\tnum_biallelic_hom_alt\tnum_spanning_del_het\tnum_spanning_del_hom_alt\tnum_multiallelic_het\tnum_multiallelic_hom_alt\tnum_snp_het\tnum_snp_hom_alt\tnum_snp\tnum_indel_het\tnum_indel_hom_alt\tnum_indel\tnum_ins_het\tnum_ins_hom_alt\tnum_ins\tnum_del_het\tnum_del_hom_alt\tnum_del\tnum_coding_het\tnum_coding_hom_alt\tnum_coding\tnum_hq_snp_called\tnum_hq_snp_hom_ref\tnum_hq_snp_het\tnum_hq_snp_hom_alt\tnum_vhq_snp_called\tnum_vhq_snp_hom_ref\tnum_vhq_snp_het\tnum_vhq_snp_hom_alt\tnum_singleton\tnum_biallelic_singleton\tnum_hq_snp_singleton\tnum_vhq_snp_singleton\tnum_bi_nonsynonymous\tnum_bi_synonymous\tnum_frameshift\tnum_inframe\tnum_frameshift_2\tnum_inframe_2\tnum_bi_frameshift\tnum_bi_inframe\tnum_hq_frameshift\tnum_hq_inframe\tnum_bi_frameshift_snpeff\tnum_bi_inframe_snpeff\tnum_bi_transition\tnum_bi_transversion\tnum_bi_AT_to_AT\tnum_bi_CG_to_CG\tnum_bi_AT_to_CG\tnum_bi_CG_to_AT\tnum_phased\tnum_phased_non_ref\tnum_phased_hom_ref\tnum_phased_missing\tnum_GQ_30\tnum_het_GQ_30\tnum_hom_alt_GQ_30\tnum_GQ_99\tnum_het_GQ_99\tnum_hom_alt_GQ_99\tpc_pass\tpc_missing\tpc_pass_missing\tpc_het\tpc_pass_het\tpc_hq_snp_het\tpc_vhq_snp_het\tpc_hom_alt\tpc_pass_hom_alt\tpc_snp\tpc_biallelic\tpc_spanning_del\tpc_mutliallelic\tpc_ins\tpc_coding\tpc_bi_nonsynonymous\tpc_frameshift\tpc_bi_frameshift\tpc_hq_frameshift\tpc_bi_frameshift_snpeff\tpc_bi_transition\tpc_bi_AT_to_AT\tpc_bi_CG_to_CG\tpc_bi_AT_to_CG\tpc_bi_CG_to_AT\tpc_phased\tpc_phased_hom_ref\tpc_phased_missing\tpc_GQ_30\tpc_het_GQ_30\tpc_hom_alt_GQ_30\tpc_GQ_99\tpc_het_GQ_99\tpc_hom_alt_GQ_99\tmean_GQ\tmean_GQ_hom_ref\tmean_GQ_het\tmean_GQ_hom_alt\tmean_DP\tmean_DP_hom_ref\tmean_DP_het\tmean_DP_hom_alt\tmean_indel_len\ttotal_indel_len\n",
      "FP0008-C\t6051696\t3114760\t705552\t214960\t5346144\t5346144\t2899800\t2899800\t2899800\t5173409\t75703\t30237\t97032\t65157\t95394\t6051696\t3556\t5476\t10087\t30724\t16594\t28957\t9188\t19951\t29139\t21049\t21049\t42098\t4105\t4728\t8833\t13145\t31726\t44871\t13744\t17108\t30852\t1042923\t1037626\t2260\t3037\t83095\t79328\t1295\t2472\t396\t251\t142\t11\t3510\t1754\t6589\t7780\t6589\t7780\t39\t62\t0\t5\t32\t62\t4656\t3837\t1752\t472\t3172\t3097\t20733\t17693\t2953\t87\t2098968\t21382\t28661\t1195439\t11750\t8487\t0.5424096320637828\t0.11658748225290894\t0.06901334292208709\t0.01416029946069541\t0.01042727084626526\t0.0021669864409932468\t0.015584571875564113\t0.01814990393075832\t0.022469480653838195\t0.3054594628592993\t0.09468100719122796\t0.4278151665723211\t0.47750382623645093\t0.16447564427230746\t0.3234165670796905\t0.6667933130699089\t0.4585566149349294\t0.38613861386138615\t0.0\t0.3404255319148936\t0.548216178028965\t0.20628753090780644\t0.055575179559637346\t0.3734840456846815\t0.36465324384787473\t0.18547288089397657\t0.14242994260357883\t0.004196208942265953\t0.723831988412994\t0.7071468730363462\t0.43987599183510595\t0.41224877577763985\t0.3885967523233125\t0.1302546157742069\t58.409232172\t63.3459959079\t60.7741508748\t37.5281397241\t23.9188714379\t25.8241581283\t23.5613652148\t15.0279325322\t-0.188319164237\t-586569\n"
     ]
    }
   ],
   "source": [
    "results, is_pass, is_called, is_GQ_30 = create_sample_summary_2()"
   ]
  },
  {
   "cell_type": "code",
   "execution_count": 279,
   "metadata": {
    "collapsed": false
   },
   "outputs": [
    {
     "name": "stdout",
     "output_type": "stream",
     "text": [
      "pc_GQ_30 0.723831988412994\n",
      "pc_het_GQ_30 0.7071468730363462\n",
      "pc_hom_alt_GQ_30 0.43987599183510595\n",
      "pc_GQ_99 0.41224877577763985\n",
      "pc_het_GQ_99 0.3885967523233125\n",
      "pc_hom_alt_GQ_99 0.1302546157742069\n"
     ]
    }
   ],
   "source": [
    "print('pc_GQ_30', results['pc_GQ_30'])\n",
    "print('pc_het_GQ_30', results['pc_het_GQ_30'])\n",
    "print('pc_hom_alt_GQ_30', results['pc_hom_alt_GQ_30'])\n",
    "print('pc_GQ_99', results['pc_GQ_99'])\n",
    "print('pc_het_GQ_99', results['pc_het_GQ_99'])\n",
    "print('pc_hom_alt_GQ_99', results['pc_hom_alt_GQ_99'])\n"
   ]
  },
  {
   "cell_type": "code",
   "execution_count": null,
   "metadata": {
    "collapsed": false
   },
   "outputs": [],
   "source": [
    "results = create_sample_summary_2()"
   ]
  },
  {
   "cell_type": "code",
   "execution_count": 263,
   "metadata": {
    "collapsed": false
   },
   "outputs": [
    {
     "name": "stdout",
     "output_type": "stream",
     "text": [
      "num_frameshift 6589\n",
      "num_inframe 7780\n",
      "num_bi_frameshift 39\n",
      "num_bi_inframe 62\n",
      "num_hq_frameshift 39\n",
      "num_hq_inframe 62\n",
      "num_bi_frameshift_snpeff 32\n",
      "num_bi_inframe_snpeff 62\n",
      "\n",
      "pc_frameshift 0.4585566149349294\n",
      "pc_bi_frameshift 0.38613861386138615\n",
      "pc_hq_frameshift 0.38613861386138615\n",
      "pc_bi_frameshift_snpeff 0.3404255319148936\n"
     ]
    }
   ],
   "source": [
    "print('num_frameshift', results['num_frameshift'])\n",
    "print('num_inframe', results['num_inframe'])\n",
    "print('num_bi_frameshift', results['num_bi_frameshift'])\n",
    "print('num_bi_inframe', results['num_bi_inframe'])\n",
    "print('num_hq_frameshift', results['num_bi_frameshift'])\n",
    "print('num_hq_inframe', results['num_bi_inframe'])\n",
    "print('num_bi_frameshift_snpeff', results['num_bi_frameshift_snpeff'])\n",
    "print('num_bi_inframe_snpeff', results['num_bi_inframe_snpeff'])\n",
    "print()\n",
    "print('pc_frameshift', results['pc_frameshift'])\n",
    "print('pc_bi_frameshift', results['pc_bi_frameshift'])\n",
    "print('pc_hq_frameshift', results['pc_bi_frameshift'])\n",
    "print('pc_bi_frameshift_snpeff', results['pc_bi_frameshift_snpeff'])\n",
    "\n"
   ]
  },
  {
   "cell_type": "code",
   "execution_count": 254,
   "metadata": {
    "collapsed": false
   },
   "outputs": [
    {
     "data": {
      "text/plain": [
       "39"
      ]
     },
     "execution_count": 254,
     "metadata": {},
     "output_type": "execute_result"
    }
   ],
   "source": [
    "np.count_nonzero(is_pass & is_bi & is_indel & is_non_ref & is_coding & is_frameshift)"
   ]
  },
  {
   "cell_type": "code",
   "execution_count": 264,
   "metadata": {
    "collapsed": false
   },
   "outputs": [
    {
     "data": {
      "text/plain": [
       "array([], dtype=int64)"
      ]
     },
     "execution_count": 264,
     "metadata": {},
     "output_type": "execute_result"
    }
   ],
   "source": [
    "np.where(is_pass & is_vqslod6 & is_bi & is_indel & is_non_ref & is_coding & is_frameshift)[0]"
   ]
  },
  {
   "cell_type": "code",
   "execution_count": 253,
   "metadata": {
    "collapsed": false
   },
   "outputs": [
    {
     "data": {
      "text/plain": [
       "array([ 140202,  144157,  152034,  152668,  336378,  421546,  923700,\n",
       "       1064264, 1222585, 1232245, 1232248, 1244211, 1391912, 1812400,\n",
       "       1883953, 1883956, 2062801, 2230731, 2508059, 2907499, 2930134,\n",
       "       3102859, 3216702, 3344070, 3344071, 3640329, 3764947, 4841378,\n",
       "       5465200, 5479183, 5509733, 5905061, 6009449, 6009450, 6010092,\n",
       "       6010093, 6025048, 6025161, 6025589])"
      ]
     },
     "execution_count": 253,
     "metadata": {},
     "output_type": "execute_result"
    }
   ],
   "source": [
    "np.where(is_pass & is_bi & is_indel & is_non_ref & is_coding & is_frameshift)[0]"
   ]
  },
  {
   "cell_type": "code",
   "execution_count": 255,
   "metadata": {
    "collapsed": false
   },
   "outputs": [
    {
     "data": {
      "text/plain": [
       "array([ 144157,  152034,  152668,  421546,  923700, 1064264, 1222585,\n",
       "       1232245, 1232248, 1244211, 1812400, 1883953, 1883956, 2062801,\n",
       "       2508059, 2907499, 2930134, 3102859, 3216702, 3344070, 3344071,\n",
       "       3640329, 3764947, 4841378, 5465200, 5479183, 5509733, 5905061,\n",
       "       6009449, 6009450, 6010092, 6010093])"
      ]
     },
     "execution_count": 255,
     "metadata": {},
     "output_type": "execute_result"
    }
   ],
   "source": [
    "np.where(is_pass & is_bi & is_indel & is_non_ref & is_coding & is_frameshift_snpeff)[0]"
   ]
  },
  {
   "cell_type": "code",
   "execution_count": 256,
   "metadata": {
    "collapsed": false
   },
   "outputs": [
    {
     "data": {
      "text/plain": [
       "array([ 140202,  336378, 1391912, 2230731, 6025048, 6025161, 6025589])"
      ]
     },
     "execution_count": 256,
     "metadata": {},
     "output_type": "execute_result"
    }
   ],
   "source": [
    "np.setdiff1d(\n",
    "    np.where(is_pass & is_bi & is_indel & is_non_ref & is_coding & is_frameshift)[0],\n",
    "    np.where(is_pass & is_bi & is_indel & is_non_ref & is_coding & is_frameshift_snpeff)[0]\n",
    ")"
   ]
  },
  {
   "cell_type": "code",
   "execution_count": 258,
   "metadata": {
    "collapsed": false
   },
   "outputs": [
    {
     "data": {
      "text/plain": [
       "array([], dtype=int64)"
      ]
     },
     "execution_count": 258,
     "metadata": {},
     "output_type": "execute_result"
    }
   ],
   "source": [
    "np.setdiff1d(\n",
    "    np.where(is_pass & is_bi & is_indel & is_non_ref & is_coding & is_frameshift_snpeff)[0],\n",
    "    np.where(is_pass & is_bi & is_indel & is_non_ref & is_coding & is_frameshift)[0]\n",
    ")"
   ]
  },
  {
   "cell_type": "code",
   "execution_count": 259,
   "metadata": {
    "collapsed": false
   },
   "outputs": [
    {
     "name": "stdout",
     "output_type": "stream",
     "text": [
      "b'TA'\n",
      "[b'T' b'' b'' b'' b'' b'']\n",
      "True\n",
      "b''\n",
      "[1 1]\n",
      "[0 9 0 0 0 0 0]\n",
      "[310  27   0   0   0   0   0   0   0   0   0   0   0   0   0   0   0   0\n",
      "   0   0   0   0   0   0   0   0   0   0]\n",
      "b'.'\n",
      "b'.'\n"
     ]
    }
   ],
   "source": [
    "index=140202\n",
    "print(hdf['Pf60']['variants']['REF'][index])\n",
    "print(hdf['Pf60']['variants']['ALT'][index, :])\n",
    "print(hdf['Pf60']['variants']['CDS'][index])\n",
    "print(hdf['Pf60']['variants']['SNPEFF_EFFECT'][index])\n",
    "print(hdf['Pf60']['calldata']['genotype'][index, 0, :])\n",
    "print(hdf['Pf60']['calldata']['AD'][index, 0, :])\n",
    "print(hdf['Pf60']['calldata']['PL'][index, 0, :])\n",
    "print(hdf['Pf60']['calldata']['PID'][index, 0])\n",
    "print(hdf['Pf60']['calldata']['PGT'][index, 0])\n"
   ]
  },
  {
   "cell_type": "code",
   "execution_count": 242,
   "metadata": {
    "collapsed": false
   },
   "outputs": [
    {
     "name": "stdout",
     "output_type": "stream",
     "text": [
      "b'TTA'\n",
      "[b'T' b'' b'' b'' b'' b'']\n",
      "b'INTERGENIC'\n",
      "[1 1]\n",
      "[ 0 10  0  0  0  0  0]\n",
      "[427  30   0   0   0   0   0   0   0   0   0   0   0   0   0   0   0   0\n",
      "   0   0   0   0   0   0   0   0   0   0]\n",
      "b'.'\n",
      "b'.'\n"
     ]
    }
   ],
   "source": [
    "index=61186\n",
    "print(hdf['Pf60']['variants']['REF'][index])\n",
    "print(hdf['Pf60']['variants']['ALT'][index, :])\n",
    "print(hdf['Pf60']['variants']['SNPEFF_EFFECT'][index])\n",
    "print(hdf['Pf60']['calldata']['genotype'][index, 0, :])\n",
    "print(hdf['Pf60']['calldata']['AD'][index, 0, :])\n",
    "print(hdf['Pf60']['calldata']['PL'][index, 0, :])\n",
    "print(hdf['Pf60']['calldata']['PID'][index, 0])\n",
    "print(hdf['Pf60']['calldata']['PGT'][index, 0])\n"
   ]
  },
  {
   "cell_type": "code",
   "execution_count": 190,
   "metadata": {
    "collapsed": false
   },
   "outputs": [
    {
     "name": "stdout",
     "output_type": "stream",
     "text": [
      "2953\n",
      "87\n"
     ]
    }
   ],
   "source": [
    "is_phased_hom_ref = (is_pass & is_phased & is_hom_ref)\n",
    "is_phased_missing = (is_pass & is_phased & is_missing)\n",
    "print(np.count_nonzero(is_phased_hom_ref))\n",
    "print(np.count_nonzero(is_phased_missing))\n"
   ]
  },
  {
   "cell_type": "code",
   "execution_count": 191,
   "metadata": {
    "collapsed": false
   },
   "outputs": [
    {
     "data": {
      "text/plain": [
       "(array([  71926,   73593,   82144, ..., 5997095, 6000998, 6016847]),)"
      ]
     },
     "execution_count": 191,
     "metadata": {},
     "output_type": "execute_result"
    }
   ],
   "source": [
    "np.where(is_phased_hom_ref)"
   ]
  },
  {
   "cell_type": "code",
   "execution_count": 208,
   "metadata": {
    "collapsed": false
   },
   "outputs": [
    {
     "name": "stdout",
     "output_type": "stream",
     "text": [
      "b'ATTTATATTATCATCCCCTTTTATATTATCACCCCCTTTTATATTATCACCCCCTTTTATATTATCATCC'\n",
      "[b'TTTTATATTATCATCCCCTTTTATATTATCACCCCCTTTTATATTATCACCCCCTTTTATATTATCATCC'\n",
      " b'ATATTATCATCCCCTTTTATATTATCATCCCCTTTTATATTATCACCCCCTTTTATATTATCACCCCCTTTTATATTATCATCC'\n",
      " b'ATATTATCACCCCCTTTTATATTATCATCCCCTTTTATATTATCACCCCCTTTTATATTATCACCCCCTTTTATATTATCATCC'\n",
      " b'*'\n",
      " b'ATATTATCACCCCCTTTTATATTATCATCCCCTTTTATATTATCATCCCCTTTTATATTATCACCCCCTTTTATATTATCACCCCCTTTTATATTATCATCC'\n",
      " b'ATATTATCATCCCCTTTTATATTATCACCCCCTTTTATATTATCATCCCCTTTTATATTATCACCCCCTTTTATATTATCACCCCCTTTTATATTATCATCC']\n",
      "[0 0]\n",
      "[38  3  0  0  0  0  0]\n",
      "[   0   47 1388  124 1397 1473  124 1397 1473 1473  124 1397 1473 1473 1473\n",
      "  124 1397 1473 1473 1473 1473  124 1397 1473 1473 1473 1473 1473]\n",
      "b'148912_TCCCC'\n",
      "b'1|0'\n"
     ]
    }
   ],
   "source": [
    "index=71926\n",
    "print(hdf['Pf60']['variants']['REF'][index])\n",
    "print(hdf['Pf60']['variants']['ALT'][index, :])\n",
    "print(hdf['Pf60']['calldata']['genotype'][index, 0, :])\n",
    "print(hdf['Pf60']['calldata']['AD'][index, 0, :])\n",
    "print(hdf['Pf60']['calldata']['PL'][index, 0, :])\n",
    "print(hdf['Pf60']['calldata']['PID'][index, 0])\n",
    "print(hdf['Pf60']['calldata']['PGT'][index, 0])\n"
   ]
  },
  {
   "cell_type": "code",
   "execution_count": 209,
   "metadata": {
    "collapsed": false
   },
   "outputs": [
    {
     "name": "stdout",
     "output_type": "stream",
     "text": [
      "b'CATATATATATATATATAT'\n",
      "[b'CAT' b'CATAT' b'CATATAT' b'CATATATAT' b'C' b'CATATATATAT']\n",
      "[-1 -1]\n",
      "[0 0 0 0 0 0 0]\n",
      "[0 0 0 0 0 0 0 0 0 0 0 0 0 0 0 0 0 0 0 0 0 0 0 0 0 0 0 0]\n",
      "b'181835_CAT_C'\n",
      "b'0|1'\n"
     ]
    }
   ],
   "source": [
    "index=79318\n",
    "print(hdf['Pf60']['variants']['REF'][index])\n",
    "print(hdf['Pf60']['variants']['ALT'][index, :])\n",
    "print(hdf['Pf60']['calldata']['genotype'][index, 0, :])\n",
    "print(hdf['Pf60']['calldata']['AD'][index, 0, :])\n",
    "print(hdf['Pf60']['calldata']['PL'][index, 0, :])\n",
    "print(hdf['Pf60']['calldata']['PID'][index, 0])\n",
    "print(hdf['Pf60']['calldata']['PGT'][index, 0])\n"
   ]
  },
  {
   "cell_type": "code",
   "execution_count": 207,
   "metadata": {
    "collapsed": false
   },
   "outputs": [
    {
     "name": "stdout",
     "output_type": "stream",
     "text": [
      "b'ATTTATATTATCATCCCCTTTTATATTATCACCCCCTTTTATATTATCACCCCCTTTTATATTATCATCC'\n",
      "[b'TTTTATATTATCATCCCCTTTTATATTATCACCCCCTTTTATATTATCACCCCCTTTTATATTATCATCC'\n",
      " b'ATATTATCATCCCCTTTTATATTATCATCCCCTTTTATATTATCACCCCCTTTTATATTATCACCCCCTTTTATATTATCATCC'\n",
      " b'ATATTATCACCCCCTTTTATATTATCATCCCCTTTTATATTATCACCCCCTTTTATATTATCACCCCCTTTTATATTATCATCC'\n",
      " b'*'\n",
      " b'ATATTATCACCCCCTTTTATATTATCATCCCCTTTTATATTATCATCCCCTTTTATATTATCACCCCCTTTTATATTATCACCCCCTTTTATATTATCATCC'\n",
      " b'ATATTATCATCCCCTTTTATATTATCACCCCCTTTTATATTATCATCCCCTTTTATATTATCACCCCCTTTTATATTATCACCCCCTTTTATATTATCATCC']\n",
      "[0 0]\n",
      "[38  3  0  0  0  0  0]\n",
      "[   0   47 1388  124 1397 1473  124 1397 1473 1473  124 1397 1473 1473 1473\n",
      "  124 1397 1473 1473 1473 1473  124 1397 1473 1473 1473 1473 1473]\n",
      "b'148912_TCCCC'\n",
      "b'1|0'\n"
     ]
    }
   ],
   "source": [
    "index=79318\n",
    "print(hdf['Pf60']['variants']['REF'][71926])\n",
    "print(hdf['Pf60']['variants']['ALT'][71926, :])\n",
    "print(hdf['Pf60']['calldata']['genotype'][71926, 0, :])\n",
    "print(hdf['Pf60']['calldata']['AD'][71926, 0, :])\n",
    "print(hdf['Pf60']['calldata']['PL'][71926, 0, :])\n",
    "print(hdf['Pf60']['calldata']['PID'][71926, 0])\n",
    "print(hdf['Pf60']['calldata']['PGT'][71926, 0])\n"
   ]
  },
  {
   "cell_type": "code",
   "execution_count": 194,
   "metadata": {
    "collapsed": false
   },
   "outputs": [
    {
     "data": {
      "text/plain": [
       "array([b'TTTTATATTATCATCCCCTTTTATATTATCACCCCCTTTTATATTATCACCCCCTTTTATATTATCATCC',\n",
       "       b'ATATTATCATCCCCTTTTATATTATCATCCCCTTTTATATTATCACCCCCTTTTATATTATCACCCCCTTTTATATTATCATCC',\n",
       "       b'ATATTATCACCCCCTTTTATATTATCATCCCCTTTTATATTATCACCCCCTTTTATATTATCACCCCCTTTTATATTATCATCC',\n",
       "       b'*',\n",
       "       b'ATATTATCACCCCCTTTTATATTATCATCCCCTTTTATATTATCATCCCCTTTTATATTATCACCCCCTTTTATATTATCACCCCCTTTTATATTATCATCC',\n",
       "       b'ATATTATCATCCCCTTTTATATTATCACCCCCTTTTATATTATCATCCCCTTTTATATTATCACCCCCTTTTATATTATCACCCCCTTTTATATTATCATCC'], \n",
       "      dtype='|S600')"
      ]
     },
     "execution_count": 194,
     "metadata": {},
     "output_type": "execute_result"
    }
   ],
   "source": [
    "hdf['Pf60']['variants']['ALT'][:][71926, :]"
   ]
  },
  {
   "cell_type": "code",
   "execution_count": 195,
   "metadata": {
    "collapsed": false
   },
   "outputs": [
    {
     "data": {
      "text/plain": [
       "array([0, 0], dtype=int8)"
      ]
     },
     "execution_count": 195,
     "metadata": {},
     "output_type": "execute_result"
    }
   ],
   "source": [
    "hdf['Pf60']['calldata']['genotype'][:, 0, :][71926, :]"
   ]
  },
  {
   "cell_type": "code",
   "execution_count": 196,
   "metadata": {
    "collapsed": false
   },
   "outputs": [
    {
     "data": {
      "text/plain": [
       "array([0, 0], dtype=int8)"
      ]
     },
     "execution_count": 196,
     "metadata": {},
     "output_type": "execute_result"
    }
   ],
   "source": [
    "hdf['Pf60']['calldata']['genotype'][71926, 0, :]"
   ]
  },
  {
   "cell_type": "code",
   "execution_count": 197,
   "metadata": {
    "collapsed": false
   },
   "outputs": [
    {
     "data": {
      "text/plain": [
       "array([38,  3,  0,  0,  0,  0,  0], dtype=uint16)"
      ]
     },
     "execution_count": 197,
     "metadata": {},
     "output_type": "execute_result"
    }
   ],
   "source": [
    "hdf['Pf60']['calldata']['AD'][71926, 0, :]"
   ]
  },
  {
   "cell_type": "code",
   "execution_count": 199,
   "metadata": {
    "collapsed": false
   },
   "outputs": [
    {
     "data": {
      "text/plain": [
       "array([   0,   47, 1388,  124, 1397, 1473,  124, 1397, 1473, 1473,  124,\n",
       "       1397, 1473, 1473, 1473,  124, 1397, 1473, 1473, 1473, 1473,  124,\n",
       "       1397, 1473, 1473, 1473, 1473, 1473], dtype=uint16)"
      ]
     },
     "execution_count": 199,
     "metadata": {},
     "output_type": "execute_result"
    }
   ],
   "source": [
    "hdf['Pf60']['calldata']['PL'][71926, 0, :]"
   ]
  },
  {
   "cell_type": "code",
   "execution_count": 201,
   "metadata": {
    "collapsed": false
   },
   "outputs": [
    {
     "data": {
      "text/plain": [
       "b'148912_TCCCC'"
      ]
     },
     "execution_count": 201,
     "metadata": {},
     "output_type": "execute_result"
    }
   ],
   "source": [
    "hdf['Pf60']['calldata']['PID'][71926, 0]"
   ]
  },
  {
   "cell_type": "code",
   "execution_count": 202,
   "metadata": {
    "collapsed": false
   },
   "outputs": [
    {
     "data": {
      "text/plain": [
       "b'1|0'"
      ]
     },
     "execution_count": 202,
     "metadata": {},
     "output_type": "execute_result"
    }
   ],
   "source": [
    "hdf['Pf60']['calldata']['PGT'][71926, 0]"
   ]
  },
  {
   "cell_type": "code",
   "execution_count": 192,
   "metadata": {
    "collapsed": false
   },
   "outputs": [
    {
     "data": {
      "text/plain": [
       "(array([  79318,   98016,   98017,   98018,   98019,   98020,  335358,\n",
       "         367251,  367256,  367261,  379392,  529130,  529131,  529132,\n",
       "         529133,  529134,  534104,  548215,  608215,  623212,  824808,\n",
       "         873459,  958601,  958602,  977466,  983633,  984468, 1069517,\n",
       "        1183037, 1183038, 1183039, 1183040, 1183041, 1183042, 1183043,\n",
       "        1214900, 1216035, 1287530, 1367360, 1479961, 1491183, 1988099,\n",
       "        2017840, 2033643, 2112752, 2238039, 2249990, 2298154, 2379711,\n",
       "        2395313, 2395314, 2432522, 2473649, 2644124, 2734966, 2860920,\n",
       "        2879401, 2921722, 3215240, 3282816, 3586075, 3643032, 3698994,\n",
       "        3732870, 3736603, 3736604, 3736605, 3742890, 3790927, 3876509,\n",
       "        3899903, 4048092, 4082213, 4153866, 4300349, 4417022, 4470618,\n",
       "        4659787, 4908652, 4936233, 5344427, 5430324, 5749911, 5796103,\n",
       "        5796106, 5796114, 5913608]),)"
      ]
     },
     "execution_count": 192,
     "metadata": {},
     "output_type": "execute_result"
    }
   ],
   "source": [
    "np.where(is_phased_missing)"
   ]
  },
  {
   "cell_type": "code",
   "execution_count": 184,
   "metadata": {
    "collapsed": false
   },
   "outputs": [
    {
     "data": {
      "text/plain": [
       "b'.'      3591768\n",
       "b''       2373818\n",
       "b'0|1'      48582\n",
       "b'1|1'      34755\n",
       "b'1|0'       2773\n",
       "dtype: int64"
      ]
     },
     "execution_count": 184,
     "metadata": {},
     "output_type": "execute_result"
    }
   ],
   "source": [
    "pd.value_counts(PGT[:,0])"
   ]
  },
  {
   "cell_type": "code",
   "execution_count": 168,
   "metadata": {
    "collapsed": false
   },
   "outputs": [
    {
     "name": "stdout",
     "output_type": "stream",
     "text": [
      "sample_id\tnum_variants\tnum_pass_variants\tnum_missing\tnum_pass_missing\tnum_called\tnum_pass_called\tnum_het\tnum_pass_het\tnum_hom_alt\tnum_pass_hom_alt\tnum_pass_non_ref\tnum_biallelic_het\tnum_biallelic_hom_alt\tnum_spanning_del_het\tnum_spanning_del_hom_alt\tnum_multiallelic_het\tnum_multiallelic_hom_alt\tnum_snp_hom_ref\tnum_snp_het\tnum_snp_hom_alt\tnum_indel_hom_ref\tnum_indel_het\tnum_indel_hom_alt\tnum_ins_het\tnum_ins_hom_alt\tnum_ins\tnum_del_het\tnum_del_hom_alt\tnum_del\tnum_coding_het\tnum_coding_hom_alt\tnum_coding\tnum_vhq_snp_hom_ref\tnum_vhq_snp_het\tnum_vhq_snp_hom_alt\tnum_singleton\tnum_biallelic_singleton\tnum_vhq_snp_singleton\tnum_bi_nonsynonymous\tnum_bi_synonymous\tnum_bi_frameshift\tnum_bi_inframe\tnum_bi_transition\tnum_bi_transversion\tnum_bi_AT_to_AT\tnum_bi_CG_to_CG\tnum_bi_AT_to_CG\tnum_bi_CG_to_AT\tpc_pass\tpc_missing\tpc_pass_missing\tpc_het\tpc_pass_het\tpc_hom_alt\tpc_pass_hom_alt\tpc_snp\tpc_biallelic\tpc_spanning_del\tpc_mutliallelic\tpc_ins\tpc_coding\tpc_bi_nonsynonymous\tpc_bi_frameshift\tpc_bi_transition\tpc_bi_AT_to_AT\tpc_bi_CG_to_CG\tpc_bi_AT_to_CG\tpc_bi_CG_to_AT\tmean_GQ\tmean_GQ_2\tmean_DP\tmean_DP_2\n",
      "FP0008-C\t6051696\t3114760\t705552\t214960\t5346144\t2899800\t75703\t30237\t97032\t65157\t95394\t3556\t5476\t10087\t30724\t16594\t28957\t2094500\t9188\t19951\t709906\t21049\t45206\t4166\t4728\t8894\t13248\t31726\t44974\t13744\t17108\t30852\t79328\t1295\t2472\t396\t251\t11\t3510\t1754\t32\t62\t4656\t3837\t1752\t472\t3172\t3097\t0.542409632064\t0.116587482253\t0.0690133429221\t0.0141602994607\t0.0104272708463\t0.0181499039308\t0.0224694806538\t0.305459462859\t0.0946810071912\t0.427815166572\t0.477503826236\t0.165107299324\t0.32341656708\t0.6667933130699089\t0.3404255319148936\t0.548216178028965\t0.20628753090780644\t0.055575179559637346\t0.3734840456846815\t0.36465324384787473\t44.896419062\t44.896419062\t17.7327714531\t17.7327714531\n"
     ]
    }
   ],
   "source": [
    "results, mutations = create_sample_summary()"
   ]
  },
  {
   "cell_type": "code",
   "execution_count": 140,
   "metadata": {
    "collapsed": false
   },
   "outputs": [],
   "source": [
    "is_pass = hdf['Pf60']['variants']['FILTER_PASS'][:]\n",
    "is_snp = (hdf['Pf60']['variants']['VARIANT_TYPE'][:][is_pass] == b'SNP')\n",
    "is_bi = (hdf['Pf60']['variants']['MULTIALLELIC'][:][is_pass] == b'BI')\n",
    "temp = hdf['Pf60']['variants']['REF'][:][is_pass][is_snp]"
   ]
  },
  {
   "cell_type": "code",
   "execution_count": 141,
   "metadata": {
    "collapsed": false
   },
   "outputs": [],
   "source": [
    "mutations = np.char.add(\n",
    "    hdf['Pf60']['variants']['REF'][:][is_pass][(is_snp & is_bi)],\n",
    "    hdf['Pf60']['variants']['ALT'][:, 0][is_pass][(is_snp & is_bi)]\n",
    ")\n"
   ]
  },
  {
   "cell_type": "code",
   "execution_count": 142,
   "metadata": {
    "collapsed": false
   },
   "outputs": [
    {
     "data": {
      "text/plain": [
       "b'TC'    256014\n",
       "b'AG'    255456\n",
       "b'GA'    191133\n",
       "b'CT'    189628\n",
       "b'AT'    181723\n",
       "b'TA'    181298\n",
       "b'GT'     75142\n",
       "b'CA'     74347\n",
       "b'TG'     71297\n",
       "b'AC'     70298\n",
       "b'GC'     40383\n",
       "b'CG'     40167\n",
       "dtype: int64"
      ]
     },
     "execution_count": 142,
     "metadata": {},
     "output_type": "execute_result"
    }
   ],
   "source": [
    "pd.value_counts(mutations)"
   ]
  },
  {
   "cell_type": "code",
   "execution_count": 138,
   "metadata": {
    "collapsed": false
   },
   "outputs": [
    {
     "data": {
      "text/plain": [
       "b'TC'    287482\n",
       "b'AG'    286027\n",
       "b'GA'    233352\n",
       "b'CT'    230504\n",
       "b'TA'    222426\n",
       "b'AT'    210870\n",
       "b'GT'    103832\n",
       "b'CA'    103091\n",
       "b'T*'     92997\n",
       "b'TG'     83774\n",
       "b'A*'     83332\n",
       "b'AC'     82614\n",
       "b'GC'     56907\n",
       "b'CG'     56619\n",
       "b'G*'     22504\n",
       "b'C*'     20979\n",
       "dtype: int64"
      ]
     },
     "execution_count": 138,
     "metadata": {},
     "output_type": "execute_result"
    }
   ],
   "source": [
    "pd.value_counts(mutations)"
   ]
  },
  {
   "cell_type": "code",
   "execution_count": 133,
   "metadata": {
    "collapsed": false
   },
   "outputs": [
    {
     "data": {
      "text/plain": [
       "['calldata', 'samples', 'variants']"
      ]
     },
     "execution_count": 133,
     "metadata": {},
     "output_type": "execute_result"
    }
   ],
   "source": [
    "list(hdf['Pf60'].keys())"
   ]
  },
  {
   "cell_type": "code",
   "execution_count": 110,
   "metadata": {
    "collapsed": false
   },
   "outputs": [
    {
     "data": {
      "text/plain": [
       "True     4664914\n",
       "False    1386782\n",
       "dtype: int64"
      ]
     },
     "execution_count": 110,
     "metadata": {},
     "output_type": "execute_result"
    }
   ],
   "source": [
    "pd.value_counts(hdf['Pf60']['variants']['AC'][:,0] == 0)"
   ]
  },
  {
   "cell_type": "code",
   "execution_count": 119,
   "metadata": {
    "collapsed": false
   },
   "outputs": [
    {
     "data": {
      "text/plain": [
       "b'INTERGENIC'                           2795496\n",
       "b'NON_SYNONYMOUS_CODING'                1430363\n",
       "b'SYNONYMOUS_CODING'                     641017\n",
       "b'INTRON'                                449418\n",
       "b'FRAME_SHIFT'                           444677\n",
       "b'INTRAGENIC'                             89670\n",
       "b''                                       70597\n",
       "b'CODON_INSERTION'                        47470\n",
       "b'CODON_DELETION'                         27491\n",
       "b'CODON_CHANGE_PLUS_CODON_DELETION'       17675\n",
       "b'STOP_GAINED'                            17488\n",
       "b'CODON_CHANGE_PLUS_CODON_INSERTION'      15638\n",
       "b'SPLICE_SITE_DONOR'                       1034\n",
       "b'SPLICE_SITE_ACCEPTOR'                    1017\n",
       "b'STOP_LOST'                                943\n",
       "b'SYNONYMOUS_STOP'                          877\n",
       "b'START_LOST'                               653\n",
       "b'EXON_DELETED'                              93\n",
       "b'NON_SYNONYMOUS_START'                      79\n",
       "dtype: int64"
      ]
     },
     "execution_count": 119,
     "metadata": {},
     "output_type": "execute_result"
    }
   ],
   "source": [
    "pd.value_counts(hdf['Pf60']['variants']['SNPEFF_EFFECT'][:])"
   ]
  },
  {
   "cell_type": "code",
   "execution_count": 154,
   "metadata": {
    "collapsed": false
   },
   "outputs": [
    {
     "data": {
      "text/plain": [
       "359.1"
      ]
     },
     "execution_count": 154,
     "metadata": {},
     "output_type": "execute_result"
    }
   ],
   "source": [
    "7182/20"
   ]
  },
  {
   "cell_type": "code",
   "execution_count": 159,
   "metadata": {
    "collapsed": false
   },
   "outputs": [
    {
     "data": {
      "text/plain": [
       "b'NON_SYNONYMOUS_CODING'                8240\n",
       "b'INTERGENIC'                           7939\n",
       "b'SYNONYMOUS_CODING'                    3709\n",
       "b'INTRON'                                956\n",
       "b'INTRAGENIC'                            808\n",
       "b'FRAME_SHIFT'                            88\n",
       "b''                                       83\n",
       "b'CODON_INSERTION'                        77\n",
       "b'CODON_DELETION'                         53\n",
       "b'STOP_GAINED'                            31\n",
       "b'CODON_CHANGE_PLUS_CODON_DELETION'       24\n",
       "b'CODON_CHANGE_PLUS_CODON_INSERTION'      11\n",
       "b'SYNONYMOUS_STOP'                         4\n",
       "b'SPLICE_SITE_ACCEPTOR'                    3\n",
       "b'STOP_LOST'                               3\n",
       "b'SPLICE_SITE_DONOR'                       2\n",
       "b'START_LOST'                              1\n",
       "dtype: int64"
      ]
     },
     "execution_count": 159,
     "metadata": {},
     "output_type": "execute_result"
    }
   ],
   "source": [
    "pd.value_counts(hdf['Pf60']['variants']['SNPEFF_EFFECT'][:][(\n",
    "            hdf['Pf60']['variants']['FILTER_PASS'][:] &\n",
    "            (hdf['Pf60']['variants']['MULTIALLELIC'][:] == b'BI') &\n",
    "            (hdf['Pf60']['variants']['AC'][:, 0] > 359) &\n",
    "            (hdf['Pf60']['variants']['AC'][:, 0] < (7182-359))\n",
    "        )])"
   ]
  },
  {
   "cell_type": "code",
   "execution_count": 162,
   "metadata": {
    "collapsed": false
   },
   "outputs": [
    {
     "name": "stdout",
     "output_type": "stream",
     "text": [
      "num_pass_non_ref 95394\n",
      "num_pass_non_ref_2 95394\n"
     ]
    }
   ],
   "source": [
    "print('num_pass_non_ref', results['num_pass_non_ref'])\n",
    "print('num_pass_non_ref_2', results['num_pass_non_ref_2'])\n"
   ]
  },
  {
   "cell_type": "code",
   "execution_count": 147,
   "metadata": {
    "collapsed": false
   },
   "outputs": [
    {
     "name": "stdout",
     "output_type": "stream",
     "text": [
      "pc_bi_transition 0.5484287159641179\n",
      "pc_bi_frameshift 0.4552585868773463\n",
      "num_bi_frameshift 8125\n",
      "num_bi_inframe 9722\n",
      "pc_biallelic 0.0946810071912\n",
      "pc_spanning_del 0.427815166572\n",
      "pc_mutliallelic 0.477503826236\n",
      "pc_bi_nonsynonymous 76.7018379097\n",
      "pc_bi_nonsynonymous_2 0.6681329300707124\n"
     ]
    }
   ],
   "source": [
    "print('pc_bi_transition', results['pc_bi_transition'])\n",
    "print('pc_bi_frameshift', results['pc_bi_frameshift'])\n",
    "print('num_bi_frameshift', results['num_bi_frameshift'])\n",
    "print('num_bi_inframe', results['num_bi_inframe'])\n",
    "print('pc_biallelic', results['pc_biallelic'])\n",
    "print('pc_spanning_del', results['pc_spanning_del'])\n",
    "print('pc_mutliallelic', results['pc_mutliallelic'])\n",
    "print('pc_bi_nonsynonymous', results['pc_bi_nonsynonymous'])\n",
    "print('pc_bi_nonsynonymous_2', results['pc_bi_nonsynonymous_2'])\n"
   ]
  },
  {
   "cell_type": "code",
   "execution_count": null,
   "metadata": {
    "collapsed": true
   },
   "outputs": [],
   "source": [
    "pd.value_counts(mutations)"
   ]
  },
  {
   "cell_type": "code",
   "execution_count": 93,
   "metadata": {
    "collapsed": false
   },
   "outputs": [
    {
     "name": "stdout",
     "output_type": "stream",
     "text": [
      "num_snp_hom_ref 2094500\n",
      "num_snp_het 9188\n",
      "num_snp_hom_alt 19951\n",
      "num_indel_hom_ref 709906\n",
      "num_indel_het 21049\n",
      "num_indel_hom_alt 45206\n",
      "\n",
      "pc_snp 0.305459462859\n",
      "pc_snp_v2 0.305459462859\n"
     ]
    }
   ],
   "source": [
    "print('num_snp_hom_ref', results['num_snp_hom_ref'])\n",
    "print('num_snp_het', results['num_snp_het'])\n",
    "print('num_snp_hom_alt', results['num_snp_hom_alt'])\n",
    "print('num_indel_hom_ref', results['num_indel_hom_ref'])\n",
    "print('num_indel_het', results['num_indel_het'])\n",
    "print('num_indel_hom_alt', results['num_indel_hom_alt'])\n",
    "print()\n",
    "print('pc_snp', results['pc_snp'])\n",
    "# print('pc_snp_v2', results['pc_snp_v2'])\n"
   ]
  },
  {
   "cell_type": "code",
   "execution_count": 51,
   "metadata": {
    "collapsed": false
   },
   "outputs": [
    {
     "name": "stdout",
     "output_type": "stream",
     "text": [
      "sample_id\tnum_variants\tnum_pass_variants\tnum_missing\tnum_pass_missing\tnum_called\tnum_pass_called\tnum_het\tnum_pass_het\tnum_hom_alt\tnum_pass_hom_alt\tnum_snp_hom_ref\tnum_snp_het\tnum_snp_hom_alt\tnum_indel_hom_ref\tnum_indel_het\tnum_indel_hom_alt\tnum_ins_hom_ref\tnum_ins_het\tnum_ins\tnum_del_hom_ref\tnum_del_het\tnum_del\tpc_pass\tpc_missing\tpc_pass_missing\tpc_het\tpc_pass_het\tpc_hom_alt\tpc_pass_hom_alt\tpc_snp\tpc_ins\n",
      "FP0008-C\t6051696\t3114760\t705552\t214960\t5346144\t2899800\t75703\t30237\t97032\t65157\t2094500\t9188\t19951\t709906\t21049\t45206\t0\t4166\t4166\t0\t13248\t13248\t0.542409632064\t0.116587482253\t0.0690133429221\t0.0141602994607\t0.0104272708463\t0.0181499039308\t0.0224694806538\t0.305459462859\t0.239232801194\n"
     ]
    }
   ],
   "source": [
    "create_sample_summary()"
   ]
  },
  {
   "cell_type": "code",
   "execution_count": 53,
   "metadata": {
    "collapsed": false
   },
   "outputs": [
    {
     "name": "stdout",
     "output_type": "stream",
     "text": [
      "sample_id\tnum_variants\tnum_pass_variants\tnum_missing\tnum_pass_missing\tnum_called\tnum_pass_called\tnum_het\tnum_pass_het\tnum_hom_alt\tnum_pass_hom_alt\tnum_snp_hom_ref\tnum_snp_het\tnum_snp_hom_alt\tnum_indel_hom_ref\tnum_indel_het\tnum_indel_hom_alt\tnum_ins_hom_ref\tnum_ins_het\tnum_ins\tnum_del_hom_ref\tnum_del_het\tnum_del\tpc_pass\tpc_missing\tpc_pass_missing\tpc_het\tpc_pass_het\tpc_hom_alt\tpc_pass_hom_alt\tpc_snp\tpc_ins\r\n",
      "FP0008-C\t6051696\t3114760\t705552\t214960\t5346144\t2899800\t75703\t30237\t97032\t65157\t2094500\t9188\t19951\t709906\t21049\t45206\t0\t4166\t4166\t0\t13248\t13248\t0.542409632064\t0.116587482253\t0.0690133429221\t0.0141602994607\t0.0104272708463\t0.0181499039308\t0.0224694806538\t0.305459462859\t0.239232801194\r\n"
     ]
    }
   ],
   "source": [
    "!/nfs/team112_internal/rp7/src/github/malariagen/methods-dev/builds/Pf\\ 6.0/scripts/create_sample_summary.py"
   ]
  },
  {
   "cell_type": "code",
   "execution_count": 61,
   "metadata": {
    "collapsed": false
   },
   "outputs": [],
   "source": [
    "fo = open(run_create_sample_summary_job_fn, 'w')\n",
    "print('''HDF5_FN=$1\n",
    "LSB_JOBINDEX=1\n",
    "INDEX=$((LSB_JOBINDEX-1))\n",
    "echo $INDEX\n",
    "\n",
    "/nfs/team112_internal/rp7/src/github/malariagen/methods-dev/builds/Pf\\ 6.0/scripts/create_sample_summary.py \\\n",
    "--hdf5_fn $HDF5_FN --index $INDEX\n",
    "\n",
    "''', file=fo)\n",
    "fo.close()\n"
   ]
  },
  {
   "cell_type": "code",
   "execution_count": 265,
   "metadata": {
    "collapsed": false
   },
   "outputs": [],
   "source": [
    "fo = open(run_create_sample_summary_job_fn, 'w')\n",
    "print('''HDF5_FN=$1\n",
    "RELEASE=$2\n",
    "# LSB_JOBINDEX=1\n",
    "INDEX=$((LSB_JOBINDEX-1))\n",
    "echo $INDEX\n",
    "OUTPUT_FN=%s/sample_summaries/$RELEASE/results_$INDEX.txt\n",
    "\n",
    "/nfs/team112_internal/rp7/src/github/malariagen/methods-dev/builds/Pf\\ 6.0/scripts/create_sample_summary.py \\\n",
    "--hdf5_fn $HDF5_FN --index $INDEX > $OUTPUT_FN\n",
    "\n",
    "''' % (output_dir), file=fo)\n",
    "fo.close()\n"
   ]
  },
  {
   "cell_type": "code",
   "execution_count": 98,
   "metadata": {
    "collapsed": false
   },
   "outputs": [
    {
     "name": "stdout",
     "output_type": "stream",
     "text": [
      "1\r\n"
     ]
    }
   ],
   "source": [
    "!LSB_JOBINDEX=2 && bash {run_create_sample_summary_job_fn} \\\n",
    "/lustre/scratch111/malaria/rp7/data/methods-dev/builds/Pf6.0/20161128_HDF5_build/hdf5/Pf_60_npy_PID_a12.h5 \\\n",
    "Pf60"
   ]
  },
  {
   "cell_type": "code",
   "execution_count": 306,
   "metadata": {
    "collapsed": false
   },
   "outputs": [
    {
     "name": "stdout",
     "output_type": "stream",
     "text": [
      "Job <9881744> is submitted to queue <normal>.\r\n"
     ]
    }
   ],
   "source": [
    "MEMORY=8000\n",
    "# Kick off Pf 6.0 jobs\n",
    "!bsub -q normal -G malaria-dk -J \"summ[1-7182]\" -n4 \\\n",
    "-R\"select[mem>{MEMORY}] rusage[mem={MEMORY}] span[hosts=1]\" -M {MEMORY} \\\n",
    "-o {\"%s/log/output_%%J-%%I.log\" % output_dir} bash {run_create_sample_summary_job_fn} \\\n",
    "/lustre/scratch111/malaria/rp7/data/methods-dev/builds/Pf6.0/20161128_HDF5_build/hdf5/Pf_60_npy_PID_a12.h5 \\\n",
    "Pf60"
   ]
  },
  {
   "cell_type": "code",
   "execution_count": 304,
   "metadata": {
    "collapsed": false
   },
   "outputs": [
    {
     "name": "stdout",
     "output_type": "stream",
     "text": [
      "Job <9877241> is submitted to queue <normal>.\r\n"
     ]
    }
   ],
   "source": [
    "MEMORY=8000\n",
    "# Kick off Pv 3.0 jobs\n",
    "!bsub -q normal -G malaria-dk -J \"summ[1-1001]\" -n4 \\\n",
    "-R\"select[mem>{MEMORY}] rusage[mem={MEMORY}] span[hosts=1]\" -M {MEMORY} \\\n",
    "-o {\"%s/log/output_%%J-%%I.log\" % output_dir} bash {run_create_sample_summary_job_fn} \\\n",
    "{hdf_fn['Pv30']} \\\n",
    "Pv30"
   ]
  },
  {
   "cell_type": "code",
   "execution_count": 308,
   "metadata": {
    "collapsed": true
   },
   "outputs": [],
   "source": [
    "!(head -n 1 {output_dir}/sample_summaries/Pf60/results_0.txt & \\\n",
    "  cat {output_dir}/sample_summaries/Pf60/results_*.txt | grep -v '^sample_id') > {output_dir}/pf_60_summaries.txt"
   ]
  },
  {
   "cell_type": "code",
   "execution_count": 309,
   "metadata": {
    "collapsed": true
   },
   "outputs": [],
   "source": [
    "!(head -n 1 {output_dir}/sample_summaries/Pv30/results_0.txt & \\\n",
    "  cat {output_dir}/sample_summaries/Pv30/results_*.txt | grep -v '^sample_id') > {output_dir}/pv_30_summaries.txt"
   ]
  },
  {
   "cell_type": "code",
   "execution_count": 284,
   "metadata": {
    "collapsed": false
   },
   "outputs": [
    {
     "data": {
      "text/plain": [
       "'/lustre/scratch109/malaria/rp7/data/methods-dev/builds/Pf6.0/20161205_sample_level_summaries'"
      ]
     },
     "execution_count": 284,
     "metadata": {},
     "output_type": "execute_result"
    }
   ],
   "source": [
    "output_dir"
   ]
  },
  {
   "cell_type": "code",
   "execution_count": null,
   "metadata": {
    "collapsed": true
   },
   "outputs": [],
   "source": []
  },
  {
   "cell_type": "code",
   "execution_count": 52,
   "metadata": {
    "collapsed": false
   },
   "outputs": [
    {
     "name": "stdout",
     "output_type": "stream",
     "text": [
      "sample_id\tnum_variants\tnum_pass_variants\tnum_missing\tnum_pass_missing\tnum_called\tnum_pass_called\tnum_het\tnum_pass_het\tnum_hom_alt\tnum_pass_hom_alt\tnum_snp_hom_ref\tnum_snp_het\tnum_snp_hom_alt\tnum_indel_hom_ref\tnum_indel_het\tnum_indel_hom_alt\tnum_ins_hom_ref\tnum_ins_het\tnum_ins\tnum_del_hom_ref\tnum_del_het\tnum_del\tpc_pass\tpc_missing\tpc_pass_missing\tpc_het\tpc_pass_het\tpc_hom_alt\tpc_pass_hom_alt\tpc_snp\tpc_ins\n",
      "FP0009-C\t6051696\t3114760\t459029\t84770\t5592667\t3029990\t80727\t19396\t139628\t101341\t2121375\t2466\t30860\t787878\t16930\t70481\t0\t4137\t4137\t0\t10711\t10711\t0.541779083217\t0.0758512985451\t0.0272155800126\t0.0144344370941\t0.00640134125855\t0.0249662638594\t0.0334459849702\t0.27602143502\t0.278623383621\n"
     ]
    }
   ],
   "source": [
    "create_sample_summary(1)"
   ]
  },
  {
   "cell_type": "code",
   "execution_count": 48,
   "metadata": {
    "collapsed": false
   },
   "outputs": [
    {
     "name": "stdout",
     "output_type": "stream",
     "text": [
      "0\n",
      "1\n",
      "2\n",
      "3\n",
      "4\n",
      "5\n",
      "6\n",
      "7\n",
      "8\n",
      "9\n",
      "10\n"
     ]
    }
   ],
   "source": [
    "df_sample_summary, results = create_sample_summary()"
   ]
  },
  {
   "cell_type": "code",
   "execution_count": 43,
   "metadata": {
    "collapsed": false
   },
   "outputs": [
    {
     "name": "stdout",
     "output_type": "stream",
     "text": [
      "0\n",
      "1\n",
      "2\n",
      "3\n",
      "4\n",
      "5\n",
      "6\n",
      "7\n",
      "8\n",
      "9\n",
      "10\n"
     ]
    }
   ],
   "source": [
    "df_sample_summary, results = create_sample_summary(index=100)"
   ]
  },
  {
   "cell_type": "code",
   "execution_count": 34,
   "metadata": {
    "collapsed": false
   },
   "outputs": [
    {
     "data": {
      "text/plain": [
       "'FP0008-C'"
      ]
     },
     "execution_count": 34,
     "metadata": {},
     "output_type": "execute_result"
    }
   ],
   "source": [
    "b'FP0008-C'.decode('ascii')"
   ]
  },
  {
   "cell_type": "code",
   "execution_count": 44,
   "metadata": {
    "collapsed": false
   },
   "outputs": [
    {
     "data": {
      "text/plain": [
       "'PA0027-C\\t6051696\\t3114760\\t314186\\t24651\\t5737510\\t3090109\\t166376\\t93930\\t83656\\t59078\\t2123363\\t24446\\t18535\\t2123363\\t24446\\t18535\\t0\\t14148\\t14148\\t0\\t46527\\t46527\\t0.538580150623\\t0.0519170163207\\t0.00791425342563\\t0.0289979451016\\t0.0303969859963\\t0.0145805410361\\t0.0191184194473\\t0.5\\t0.233176761434'"
      ]
     },
     "execution_count": 44,
     "metadata": {},
     "output_type": "execute_result"
    }
   ],
   "source": [
    "'\\t'.join([str(x) for x in list(results.values())])"
   ]
  },
  {
   "cell_type": "code",
   "execution_count": 40,
   "metadata": {
    "collapsed": false
   },
   "outputs": [
    {
     "data": {
      "text/plain": [
       "'FP0008-C\\t6051696\\t3114760\\t705552\\t214960\\t5346144\\t2899800\\t75703\\t30237\\t97032\\t65157\\t2094500\\t9188\\t19951\\t2094500\\t9188\\t19951\\t0\\t4166\\t4166\\t0\\t13248\\t13248\\t0.542409632064\\t0.116587482253\\t0.0690133429221\\t0.0141602994607\\t0.0104272708463\\t0.0181499039308\\t0.0224694806538\\t0.5\\t0.239232801194'"
      ]
     },
     "execution_count": 40,
     "metadata": {},
     "output_type": "execute_result"
    }
   ],
   "source": [
    "'\\t'.join([str(x) for x in list(results.values())])"
   ]
  },
  {
   "cell_type": "code",
   "execution_count": 39,
   "metadata": {
    "collapsed": false
   },
   "outputs": [
    {
     "ename": "TypeError",
     "evalue": "sequence item 1: expected str instance, int found",
     "output_type": "error",
     "traceback": [
      "\u001b[0;31m---------------------------------------------------------------------------\u001b[0m",
      "\u001b[0;31mTypeError\u001b[0m                                 Traceback (most recent call last)",
      "\u001b[0;32m<ipython-input-39-37d63b87744b>\u001b[0m in \u001b[0;36m<module>\u001b[0;34m()\u001b[0m\n\u001b[0;32m----> 1\u001b[0;31m \u001b[0;34m'\\t'\u001b[0m\u001b[0;34m.\u001b[0m\u001b[0mjoin\u001b[0m\u001b[0;34m(\u001b[0m\u001b[0mlist\u001b[0m\u001b[0;34m(\u001b[0m\u001b[0mresults\u001b[0m\u001b[0;34m.\u001b[0m\u001b[0mvalues\u001b[0m\u001b[0;34m(\u001b[0m\u001b[0;34m)\u001b[0m\u001b[0;34m)\u001b[0m\u001b[0;34m)\u001b[0m\u001b[0;34m\u001b[0m\u001b[0m\n\u001b[0m",
      "\u001b[0;31mTypeError\u001b[0m: sequence item 1: expected str instance, int found"
     ]
    }
   ],
   "source": [
    "'\\t'.join(list(results.values()))"
   ]
  },
  {
   "cell_type": "code",
   "execution_count": 38,
   "metadata": {
    "collapsed": false
   },
   "outputs": [
    {
     "data": {
      "text/plain": [
       "['FP0008-C',\n",
       " 6051696,\n",
       " 3114760,\n",
       " 705552,\n",
       " 214960,\n",
       " 5346144,\n",
       " 2899800,\n",
       " 75703,\n",
       " 30237,\n",
       " 97032,\n",
       " 65157,\n",
       " 2094500,\n",
       " 9188,\n",
       " 19951,\n",
       " 2094500,\n",
       " 9188,\n",
       " 19951,\n",
       " 0,\n",
       " 4166,\n",
       " 4166,\n",
       " 0,\n",
       " 13248,\n",
       " 13248,\n",
       " 0.54240963206378279,\n",
       " 0.11658748225290894,\n",
       " 0.069013342922087093,\n",
       " 0.01416029946069541,\n",
       " 0.01042727084626526,\n",
       " 0.01814990393075832,\n",
       " 0.022469480653838195,\n",
       " 0.5,\n",
       " 0.23923280119444126]"
      ]
     },
     "execution_count": 38,
     "metadata": {},
     "output_type": "execute_result"
    }
   ],
   "source": [
    "list(results.values())"
   ]
  },
  {
   "cell_type": "code",
   "execution_count": 23,
   "metadata": {
    "collapsed": false
   },
   "outputs": [
    {
     "data": {
      "text/plain": [
       "b'FP0008-C'"
      ]
     },
     "execution_count": 23,
     "metadata": {},
     "output_type": "execute_result"
    }
   ],
   "source": [
    "list(results.values())[0]"
   ]
  },
  {
   "cell_type": "code",
   "execution_count": 5,
   "metadata": {
    "collapsed": false
   },
   "outputs": [
    {
     "data": {
      "text/plain": [
       "(4084419, 1001, 2)"
      ]
     },
     "execution_count": 5,
     "metadata": {},
     "output_type": "execute_result"
    }
   ],
   "source": [
    "hdf = h5py.File(hdf_fn['Pv30'], 'r')\n",
    "hdf['calldata']['genotype'].shape"
   ]
  },
  {
   "cell_type": "code",
   "execution_count": 6,
   "metadata": {
    "collapsed": false
   },
   "outputs": [
    {
     "data": {
      "text/plain": [
       "array([[ 0,  0,  0,  0,  0,  0],\n",
       "       [ 0,  0,  0,  0,  0,  0],\n",
       "       [ 0,  0,  0,  0,  0,  0],\n",
       "       ..., \n",
       "       [ 2, -1,  4, 33,  0,  0],\n",
       "       [ 3,  0,  0,  0,  0,  0],\n",
       "       [ 5,  0,  0,  0,  0,  0]], dtype=int32)"
      ]
     },
     "execution_count": 6,
     "metadata": {},
     "output_type": "execute_result"
    }
   ],
   "source": [
    "svlen = hdf['variants']['svlen'][:]\n",
    "svlen"
   ]
  },
  {
   "cell_type": "code",
   "execution_count": 7,
   "metadata": {
    "collapsed": false
   },
   "outputs": [
    {
     "data": {
      "text/plain": [
       "array([[-1, -1],\n",
       "       [-1, -1],\n",
       "       [-1, -1],\n",
       "       ..., \n",
       "       [-1, -1],\n",
       "       [-1, -1],\n",
       "       [-1, -1]], dtype=int8)"
      ]
     },
     "execution_count": 7,
     "metadata": {},
     "output_type": "execute_result"
    }
   ],
   "source": [
    "genotype = hdf['calldata']['genotype'][:, 0, :]\n",
    "genotype"
   ]
  },
  {
   "cell_type": "code",
   "execution_count": 8,
   "metadata": {
    "collapsed": false
   },
   "outputs": [
    {
     "data": {
      "text/plain": [
       "-1    2146665\n",
       " 0    1900766\n",
       " 1      29579\n",
       " 2       5550\n",
       " 3       1207\n",
       " 4        402\n",
       " 5        187\n",
       " 6         63\n",
       "dtype: int64"
      ]
     },
     "execution_count": 8,
     "metadata": {},
     "output_type": "execute_result"
    }
   ],
   "source": [
    "pd.value_counts(genotype[:,0])"
   ]
  },
  {
   "cell_type": "code",
   "execution_count": 9,
   "metadata": {
    "collapsed": false
   },
   "outputs": [
    {
     "name": "stdout",
     "output_type": "stream",
     "text": [
      "(4084419, 2)\n",
      "(4084419, 6)\n"
     ]
    }
   ],
   "source": [
    "print(genotype.shape)\n",
    "print(svlen.shape)"
   ]
  },
  {
   "cell_type": "code",
   "execution_count": 43,
   "metadata": {
    "collapsed": true
   },
   "outputs": [],
   "source": [
    "svlen1 = svlen[np.arange(svlen.shape[0]), genotype[:, 0] - 1]\n",
    "svlen1[np.in1d(genotype[:, 0], [-1, 0])] = 0"
   ]
  },
  {
   "cell_type": "code",
   "execution_count": 48,
   "metadata": {
    "collapsed": false
   },
   "outputs": [
    {
     "data": {
      "text/plain": [
       "count    4.084419e+06\n",
       "mean    -2.211991e-02\n",
       "std      1.022534e+00\n",
       "min     -1.500000e+02\n",
       "25%      0.000000e+00\n",
       "50%      0.000000e+00\n",
       "75%      0.000000e+00\n",
       "max      8.700000e+01\n",
       "dtype: float64"
      ]
     },
     "execution_count": 48,
     "metadata": {},
     "output_type": "execute_result"
    }
   ],
   "source": [
    "pd.Series(svlen1).describe()"
   ]
  },
  {
   "cell_type": "code",
   "execution_count": 42,
   "metadata": {
    "collapsed": false
   },
   "outputs": [
    {
     "data": {
      "text/plain": [
       " 0      4043181\n",
       "-1         2741\n",
       "-2         2601\n",
       " 2         2302\n",
       "-3         2191\n",
       " 1         1865\n",
       " 3         1770\n",
       "-4         1741\n",
       " 4         1377\n",
       "-5         1047\n",
       "-6          888\n",
       " 5          875\n",
       " 6          775\n",
       " 12         598\n",
       "-12         563\n",
       "-8          560\n",
       " 9          539\n",
       " 8          523\n",
       "-9          514\n",
       "-7          497\n",
       " 36         493\n",
       " 24         483\n",
       " 7          472\n",
       "-18         445\n",
       " 18         436\n",
       "-15         421\n",
       " 15         409\n",
       "-24         383\n",
       " 10         370\n",
       " 30         360\n",
       "         ...   \n",
       " 153          1\n",
       " 152          1\n",
       " 149          1\n",
       " 141          1\n",
       " 131          1\n",
       " 258          1\n",
       " 130          1\n",
       " 128          1\n",
       " 127          1\n",
       " 122          1\n",
       " 121          1\n",
       " 113          1\n",
       " 166          1\n",
       " 167          1\n",
       " 177          1\n",
       " 180          1\n",
       " 183          1\n",
       " 187          1\n",
       " 194          1\n",
       " 195          1\n",
       " 198          1\n",
       " 205          1\n",
       " 208          1\n",
       " 209          1\n",
       " 213          1\n",
       " 221          1\n",
       " 230          1\n",
       " 239          1\n",
       " 252          1\n",
       " 188          1\n",
       "dtype: int64"
      ]
     },
     "execution_count": 42,
     "metadata": {},
     "output_type": "execute_result"
    }
   ],
   "source": [
    "pd.value_counts(svlen1)"
   ]
  },
  {
   "cell_type": "code",
   "execution_count": 61,
   "metadata": {
    "collapsed": true
   },
   "outputs": [],
   "source": [
    "svlen2 = svlen[genotype]"
   ]
  },
  {
   "cell_type": "code",
   "execution_count": 63,
   "metadata": {
    "collapsed": false
   },
   "outputs": [
    {
     "data": {
      "text/plain": [
       "array([[ 0,  0,  0,  0,  0,  0],\n",
       "       [ 0,  0,  0,  0,  0,  0],\n",
       "       [ 0,  0,  0,  0,  0,  0],\n",
       "       ..., \n",
       "       [ 2, -1,  4, 33,  0,  0],\n",
       "       [ 3,  0,  0,  0,  0,  0],\n",
       "       [ 5,  0,  0,  0,  0,  0]], dtype=int32)"
      ]
     },
     "execution_count": 63,
     "metadata": {},
     "output_type": "execute_result"
    }
   ],
   "source": [
    "svlen"
   ]
  },
  {
   "cell_type": "code",
   "execution_count": 65,
   "metadata": {
    "collapsed": false
   },
   "outputs": [
    {
     "data": {
      "text/plain": [
       "array([-1, -1, -1, ..., -1, -1, -1], dtype=int8)"
      ]
     },
     "execution_count": 65,
     "metadata": {},
     "output_type": "execute_result"
    }
   ],
   "source": [
    "genotype[:,0]"
   ]
  },
  {
   "cell_type": "code",
   "execution_count": 66,
   "metadata": {
    "collapsed": false
   },
   "outputs": [
    {
     "ename": "MemoryError",
     "evalue": "",
     "output_type": "error",
     "traceback": [
      "\u001b[0;31m---------------------------------------------------------------------------\u001b[0m",
      "\u001b[0;31mMemoryError\u001b[0m                               Traceback (most recent call last)",
      "\u001b[0;32m<ipython-input-66-a5537b33d91d>\u001b[0m in \u001b[0;36m<module>\u001b[0;34m()\u001b[0m\n\u001b[0;32m----> 1\u001b[0;31m \u001b[0msvlen\u001b[0m\u001b[0;34m[\u001b[0m\u001b[0;34m:\u001b[0m\u001b[0;34m,\u001b[0m \u001b[0mgenotype\u001b[0m\u001b[0;34m[\u001b[0m\u001b[0;34m:\u001b[0m\u001b[0;34m,\u001b[0m\u001b[0;36m0\u001b[0m\u001b[0;34m]\u001b[0m\u001b[0;34m]\u001b[0m\u001b[0;34m\u001b[0m\u001b[0m\n\u001b[0m",
      "\u001b[0;31mMemoryError\u001b[0m: "
     ]
    }
   ],
   "source": [
    "svlen[:, genotype[:,0]]"
   ]
  },
  {
   "cell_type": "code",
   "execution_count": 15,
   "metadata": {
    "collapsed": false
   },
   "outputs": [
    {
     "data": {
      "text/plain": [
       "array([[0, 0, 0, ..., 0, 0, 0],\n",
       "       [0, 0, 0, ..., 0, 0, 0],\n",
       "       [0, 0, 0, ..., 0, 0, 0],\n",
       "       ..., \n",
       "       [0, 0, 0, ..., 0, 0, 0],\n",
       "       [0, 0, 0, ..., 0, 0, 0],\n",
       "       [0, 0, 0, ..., 0, 0, 0]], dtype=int32)"
      ]
     },
     "execution_count": 15,
     "metadata": {},
     "output_type": "execute_result"
    }
   ],
   "source": [
    "np.take(svlen[0:100000], genotype[0:100000,0]-1, axis=1)"
   ]
  },
  {
   "cell_type": "code",
   "execution_count": 21,
   "metadata": {
    "collapsed": true
   },
   "outputs": [],
   "source": [
    "alt_indexes = genotype[:, 0] - 1\n",
    "alt_indexes[alt_indexes < 0] = 0"
   ]
  },
  {
   "cell_type": "code",
   "execution_count": 18,
   "metadata": {
    "collapsed": false
   },
   "outputs": [
    {
     "data": {
      "text/plain": [
       "-2    2146665\n",
       "-1    1900766\n",
       " 0      29579\n",
       " 1       5550\n",
       " 2       1207\n",
       " 3        402\n",
       " 4        187\n",
       " 5         63\n",
       "dtype: int64"
      ]
     },
     "execution_count": 18,
     "metadata": {},
     "output_type": "execute_result"
    }
   ],
   "source": [
    "pd.value_counts(alt_indexes)"
   ]
  },
  {
   "cell_type": "code",
   "execution_count": 30,
   "metadata": {
    "collapsed": false
   },
   "outputs": [
    {
     "data": {
      "text/plain": [
       "(10000, 6)"
      ]
     },
     "execution_count": 30,
     "metadata": {},
     "output_type": "execute_result"
    }
   ],
   "source": [
    "np.take(svlen[0:10000], alt_indexes[0:10000], axis=0).shape"
   ]
  },
  {
   "cell_type": "code",
   "execution_count": 33,
   "metadata": {
    "collapsed": false
   },
   "outputs": [
    {
     "data": {
      "text/plain": [
       "array([[ 0,  0,  0,  0,  0,  0],\n",
       "       [ 0,  0,  0,  0,  0,  0],\n",
       "       [ 0,  0,  0,  0,  0,  0],\n",
       "       ..., \n",
       "       [ 2,  0,  0,  0,  0,  0],\n",
       "       [ 0, -2,  0,  0,  0,  0],\n",
       "       [ 0,  0,  0,  0,  0,  0]], dtype=int32)"
      ]
     },
     "execution_count": 33,
     "metadata": {},
     "output_type": "execute_result"
    }
   ],
   "source": [
    "svlen[0:1002]"
   ]
  },
  {
   "cell_type": "code",
   "execution_count": 34,
   "metadata": {
    "collapsed": false
   },
   "outputs": [
    {
     "data": {
      "text/plain": [
       "array([0, 0, 0, ..., 0, 0, 0], dtype=int8)"
      ]
     },
     "execution_count": 34,
     "metadata": {},
     "output_type": "execute_result"
    }
   ],
   "source": [
    "alt_indexes[0:1002]"
   ]
  },
  {
   "cell_type": "code",
   "execution_count": 35,
   "metadata": {
    "collapsed": false
   },
   "outputs": [
    {
     "data": {
      "text/plain": [
       "array([[0, 0, 0, 0, 0, 0],\n",
       "       [0, 0, 0, 0, 0, 0],\n",
       "       [0, 0, 0, 0, 0, 0],\n",
       "       ..., \n",
       "       [0, 0, 0, 0, 0, 0],\n",
       "       [0, 0, 0, 0, 0, 0],\n",
       "       [0, 0, 0, 0, 0, 0]], dtype=int32)"
      ]
     },
     "execution_count": 35,
     "metadata": {},
     "output_type": "execute_result"
    }
   ],
   "source": [
    "np.take(svlen[0:1002], alt_indexes[0:1002], axis=0)"
   ]
  },
  {
   "cell_type": "code",
   "execution_count": 40,
   "metadata": {
    "collapsed": false
   },
   "outputs": [
    {
     "data": {
      "text/plain": [
       "(1002,)"
      ]
     },
     "execution_count": 40,
     "metadata": {},
     "output_type": "execute_result"
    }
   ],
   "source": [
    "svlen[0:1002][np.arange(1002), alt_indexes[0:1002]].shape"
   ]
  },
  {
   "cell_type": "code",
   "execution_count": 26,
   "metadata": {
    "collapsed": false
   },
   "outputs": [
    {
     "data": {
      "text/plain": [
       "(10000,)"
      ]
     },
     "execution_count": 26,
     "metadata": {},
     "output_type": "execute_result"
    }
   ],
   "source": [
    "alt_indexes[0:10000].shape"
   ]
  },
  {
   "cell_type": "code",
   "execution_count": 29,
   "metadata": {
    "collapsed": false
   },
   "outputs": [
    {
     "data": {
      "text/plain": [
       "(10000, 6)"
      ]
     },
     "execution_count": 29,
     "metadata": {},
     "output_type": "execute_result"
    }
   ],
   "source": [
    "svlen[0:10000].shape"
   ]
  },
  {
   "cell_type": "code",
   "execution_count": 71,
   "metadata": {
    "collapsed": false
   },
   "outputs": [
    {
     "data": {
      "text/plain": [
       "array([[ 0,  0,  0,  0,  0,  0],\n",
       "       [ 0,  0,  0,  0,  0,  0],\n",
       "       [ 0,  0,  0,  0,  0,  0],\n",
       "       ..., \n",
       "       [ 2, -1,  4, 33,  0,  0],\n",
       "       [ 3,  0,  0,  0,  0,  0],\n",
       "       [ 5,  0,  0,  0,  0,  0]], dtype=int32)"
      ]
     },
     "execution_count": 71,
     "metadata": {},
     "output_type": "execute_result"
    }
   ],
   "source": [
    "svlen"
   ]
  },
  {
   "cell_type": "code",
   "execution_count": 62,
   "metadata": {
    "collapsed": false
   },
   "outputs": [
    {
     "name": "stdout",
     "output_type": "stream",
     "text": [
      "(4084419, 2, 6)\n"
     ]
    },
    {
     "data": {
      "text/plain": [
       "array([[[5, 0, 0, 0, 0, 0],\n",
       "        [5, 0, 0, 0, 0, 0]],\n",
       "\n",
       "       [[5, 0, 0, 0, 0, 0],\n",
       "        [5, 0, 0, 0, 0, 0]],\n",
       "\n",
       "       [[5, 0, 0, 0, 0, 0],\n",
       "        [5, 0, 0, 0, 0, 0]],\n",
       "\n",
       "       ..., \n",
       "       [[5, 0, 0, 0, 0, 0],\n",
       "        [5, 0, 0, 0, 0, 0]],\n",
       "\n",
       "       [[5, 0, 0, 0, 0, 0],\n",
       "        [5, 0, 0, 0, 0, 0]],\n",
       "\n",
       "       [[5, 0, 0, 0, 0, 0],\n",
       "        [5, 0, 0, 0, 0, 0]]], dtype=int32)"
      ]
     },
     "execution_count": 62,
     "metadata": {},
     "output_type": "execute_result"
    }
   ],
   "source": [
    "print(svlen2.shape)\n",
    "svlen2"
   ]
  },
  {
   "cell_type": "code",
   "execution_count": 44,
   "metadata": {
    "collapsed": false
   },
   "outputs": [],
   "source": [
    "temp = hdf['calldata']['genotype'][:, [0], :]"
   ]
  },
  {
   "cell_type": "code",
   "execution_count": 51,
   "metadata": {
    "collapsed": false
   },
   "outputs": [
    {
     "ename": "NameError",
     "evalue": "name 'allel' is not defined",
     "output_type": "error",
     "traceback": [
      "\u001b[0;31m---------------------------------------------------------------------------\u001b[0m",
      "\u001b[0;31mNameError\u001b[0m                                 Traceback (most recent call last)",
      "\u001b[0;32m<ipython-input-51-b3b5aeadaf6e>\u001b[0m in \u001b[0;36m<module>\u001b[0;34m()\u001b[0m\n\u001b[0;32m----> 1\u001b[0;31m \u001b[0mtemp2\u001b[0m\u001b[0;34m=\u001b[0m\u001b[0mallel\u001b[0m\u001b[0;34m.\u001b[0m\u001b[0mGenotypeArray\u001b[0m\u001b[0;34m(\u001b[0m\u001b[0mtemp\u001b[0m\u001b[0;34m)\u001b[0m\u001b[0;34m\u001b[0m\u001b[0m\n\u001b[0m\u001b[1;32m      2\u001b[0m \u001b[0mtemp2\u001b[0m\u001b[0;34m\u001b[0m\u001b[0m\n",
      "\u001b[0;31mNameError\u001b[0m: name 'allel' is not defined"
     ]
    }
   ],
   "source": [
    "temp2=allel.GenotypeArray(temp)\n",
    "temp2"
   ]
  },
  {
   "cell_type": "code",
   "execution_count": 45,
   "metadata": {
    "collapsed": false
   },
   "outputs": [
    {
     "data": {
      "text/plain": [
       "(4084419, 1, 2)"
      ]
     },
     "execution_count": 45,
     "metadata": {},
     "output_type": "execute_result"
    }
   ],
   "source": [
    "temp.shape"
   ]
  },
  {
   "cell_type": "code",
   "execution_count": 25,
   "metadata": {
    "collapsed": false
   },
   "outputs": [
    {
     "name": "stdout",
     "output_type": "stream",
     "text": [
      "Pv30\n",
      "0\n",
      "0\n",
      "0\n",
      "0\n",
      "0\n",
      "0\n",
      "1\n",
      "2\n",
      "3\n"
     ]
    },
    {
     "ename": "ValueError",
     "evalue": "condition must be a 1-d array",
     "output_type": "error",
     "traceback": [
      "\u001b[0;31m---------------------------------------------------------------------------\u001b[0m",
      "\u001b[0;31mValueError\u001b[0m                                Traceback (most recent call last)",
      "\u001b[0;32m<ipython-input-25-f329ce8225c8>\u001b[0m in \u001b[0;36m<module>\u001b[0;34m()\u001b[0m\n\u001b[0;32m----> 1\u001b[0;31m \u001b[0mget_ipython\u001b[0m\u001b[0;34m(\u001b[0m\u001b[0;34m)\u001b[0m\u001b[0;34m.\u001b[0m\u001b[0mrun_cell_magic\u001b[0m\u001b[0;34m(\u001b[0m\u001b[0;34m'time'\u001b[0m\u001b[0;34m,\u001b[0m \u001b[0;34m''\u001b[0m\u001b[0;34m,\u001b[0m \u001b[0;34m\"df_sample_summary = collections.OrderedDict()\\n# for release in genotypes_subset:\\nfor release in ['Pv30', 'Pf60']:\\n    print(release)\\n    samples = hdf[release]['samples'][:]\\n    pass_variants = hdf[release]['variants']['FILTER_PASS'][:]\\n    \\n    print(0)\\n#     n_pass_variants = np.count_nonzero(\\n#         (hdf[release]['variants']['FILTER_PASS'][:]) &\\n#         (hdf[release]['variants']['CHROM'][:] == sorted(genome[release].keys())[0].encode('ascii'))\\n#     )\\n    is_snp = (hdf[release]['variants']['VARIANT_TYPE'][:][pass_variants] == b'SNP')\\n    print(0)\\n    is_bi = (hdf[release]['variants']['MULTIALLELIC'][:][pass_variants] == b'BI')\\n    print(0)\\n    is_sd = (hdf[release]['variants']['MULTIALLELIC'][:][pass_variants] == b'SD')\\n    print(0)\\n    is_mu = (hdf[release]['variants']['MULTIALLELIC'][:][pass_variants] == b'MU')\\n    print(0)\\n    is_ins = (hdf[release]['variants']['svlen'][:][pass_variants] > 0)\\n    print(0)\\n    is_del = (hdf[release]['variants']['svlen'][:][pass_variants] < 0)\\n    \\n    print(1)\\n    num_variants = genotypes_subset[release]['all'].shape[0]\\n    num_pass_variants = genotypes_subset[release]['pass'].shape[0]\\n    num_missing = genotypes_subset[release]['all'].count_missing(axis=0)[:]\\n    num_pass_missing = genotypes_subset[release]['pass'].count_missing(axis=0)[:]\\n    num_called = (num_variants - num_missing)\\n    num_pass_called = (num_pass_variants - num_pass_missing)\\n    print(2)\\n    num_het = genotypes_subset[release]['all'].count_het(axis=0)[:]\\n    num_pass_het = genotypes_subset[release]['pass'].count_het(axis=0)[:]\\n    num_hom_alt = genotypes_subset[release]['all'].count_hom_alt(axis=0)[:]\\n    num_pass_hom_alt = genotypes_subset[release]['pass'].count_hom_alt(axis=0)[:]\\n    print(3)\\n    num_snp_hom_ref = genotypes_subset[release]['pass'].subset(is_snp).count_hom_ref(axis=0)[:]\\n    num_snp_het = genotypes_subset[release]['pass'].subset(is_snp).count_het(axis=0)[:]\\n    num_snp_hom_alt = genotypes_subset[release]['pass'].subset(is_snp).count_hom_alt(axis=0)[:]\\n    num_indel_hom_ref = genotypes_subset[release]['pass'].subset(is_snp).count_hom_ref(axis=0)[:]\\n    num_indel_het = genotypes_subset[release]['pass'].subset(is_snp).count_het(axis=0)[:]\\n    num_indel_hom_alt = genotypes_subset[release]['pass'].subset(is_snp).count_hom_alt(axis=0)[:]\\n    \\n    num_ins_hom_ref = genotypes_subset[release]['pass'].subset(is_ins).count_hom_ref(axis=0)[:]\\n    num_ins_het = genotypes_subset[release]['pass'].subset(is_ins).count_het(axis=0)[:]\\n    num_ins = (num_ins_hom_ref + num_ins_het)\\n    num_del_hom_ref = genotypes_subset[release]['pass'].subset(is_del).count_hom_ref(axis=0)[:]\\n    num_del_het = genotypes_subset[release]['pass'].subset(is_del).count_het(axis=0)[:]\\n    num_del = (num_del_hom_ref + num_del_het)\\n    \\n    print(4)\\n    pc_pass = num_pass_called / num_called\\n    pc_missing = num_missing / num_variants\\n    pc_pass_missing = num_pass_missing / num_pass_variants\\n    pc_het = num_het / num_called\\n    pc_pass_het = num_pass_het / num_pass_called\\n    pc_hom_alt = num_hom_alt / num_called\\n    pc_pass_hom_alt = num_pass_hom_alt / num_pass_called\\n    pc_snp = (num_snp_het + num_snp_homalt) / (num_snp_het + num_snp_homalt + num_indel_het + num_indel_homalt)\\n    pc_ins = (num_ins / (num_ins + num_del))\\n\\n    print(5)\\n    df_sample_summary[release] = pd.DataFrame(\\n            {\\n                'Sample': pd.Series(samples),\\n                'Variants called': pd.Series(num_called),\\n                'Variants missing': pd.Series(num_called),\\n                'Proportion missing': pd.Series(pc_missing),\\n                'Proportion pass missing': pd.Series(pc_pass_missing),\\n                'Proportion heterozygous': pd.Series(pc_het),\\n                'Proportion pass heterozygous': pd.Series(pc_pass_het),\\n                'Proportion homozygous alternative': pd.Series(pc_hom_alt),\\n                'Proportion pass homozygous alternative': pd.Series(pc_pass_hom_alt),\\n                'Proportion variants SNPs': pd.Series(pc_snp),\\n                'Proportion indels insertions': pd.Series(pc_ins),\\n            }\\n        )\"\u001b[0m\u001b[0;34m)\u001b[0m\u001b[0;34m\u001b[0m\u001b[0m\n\u001b[0m",
      "\u001b[0;32m/nfs/users/nfs_r/rp7/miniconda3/envs/biipy/lib/python3.5/site-packages/IPython/core/interactiveshell.py\u001b[0m in \u001b[0;36mrun_cell_magic\u001b[0;34m(self, magic_name, line, cell)\u001b[0m\n\u001b[1;32m   2113\u001b[0m             \u001b[0mmagic_arg_s\u001b[0m \u001b[0;34m=\u001b[0m \u001b[0mself\u001b[0m\u001b[0;34m.\u001b[0m\u001b[0mvar_expand\u001b[0m\u001b[0;34m(\u001b[0m\u001b[0mline\u001b[0m\u001b[0;34m,\u001b[0m \u001b[0mstack_depth\u001b[0m\u001b[0;34m)\u001b[0m\u001b[0;34m\u001b[0m\u001b[0m\n\u001b[1;32m   2114\u001b[0m             \u001b[0;32mwith\u001b[0m \u001b[0mself\u001b[0m\u001b[0;34m.\u001b[0m\u001b[0mbuiltin_trap\u001b[0m\u001b[0;34m:\u001b[0m\u001b[0;34m\u001b[0m\u001b[0m\n\u001b[0;32m-> 2115\u001b[0;31m                 \u001b[0mresult\u001b[0m \u001b[0;34m=\u001b[0m \u001b[0mfn\u001b[0m\u001b[0;34m(\u001b[0m\u001b[0mmagic_arg_s\u001b[0m\u001b[0;34m,\u001b[0m \u001b[0mcell\u001b[0m\u001b[0;34m)\u001b[0m\u001b[0;34m\u001b[0m\u001b[0m\n\u001b[0m\u001b[1;32m   2116\u001b[0m             \u001b[0;32mreturn\u001b[0m \u001b[0mresult\u001b[0m\u001b[0;34m\u001b[0m\u001b[0m\n\u001b[1;32m   2117\u001b[0m \u001b[0;34m\u001b[0m\u001b[0m\n",
      "\u001b[0;32m<decorator-gen-59>\u001b[0m in \u001b[0;36mtime\u001b[0;34m(self, line, cell, local_ns)\u001b[0m\n",
      "\u001b[0;32m/nfs/users/nfs_r/rp7/miniconda3/envs/biipy/lib/python3.5/site-packages/IPython/core/magic.py\u001b[0m in \u001b[0;36m<lambda>\u001b[0;34m(f, *a, **k)\u001b[0m\n\u001b[1;32m    186\u001b[0m     \u001b[0;31m# but it's overkill for just that one bit of state.\u001b[0m\u001b[0;34m\u001b[0m\u001b[0;34m\u001b[0m\u001b[0m\n\u001b[1;32m    187\u001b[0m     \u001b[0;32mdef\u001b[0m \u001b[0mmagic_deco\u001b[0m\u001b[0;34m(\u001b[0m\u001b[0marg\u001b[0m\u001b[0;34m)\u001b[0m\u001b[0;34m:\u001b[0m\u001b[0;34m\u001b[0m\u001b[0m\n\u001b[0;32m--> 188\u001b[0;31m         \u001b[0mcall\u001b[0m \u001b[0;34m=\u001b[0m \u001b[0;32mlambda\u001b[0m \u001b[0mf\u001b[0m\u001b[0;34m,\u001b[0m \u001b[0;34m*\u001b[0m\u001b[0ma\u001b[0m\u001b[0;34m,\u001b[0m \u001b[0;34m**\u001b[0m\u001b[0mk\u001b[0m\u001b[0;34m:\u001b[0m \u001b[0mf\u001b[0m\u001b[0;34m(\u001b[0m\u001b[0;34m*\u001b[0m\u001b[0ma\u001b[0m\u001b[0;34m,\u001b[0m \u001b[0;34m**\u001b[0m\u001b[0mk\u001b[0m\u001b[0;34m)\u001b[0m\u001b[0;34m\u001b[0m\u001b[0m\n\u001b[0m\u001b[1;32m    189\u001b[0m \u001b[0;34m\u001b[0m\u001b[0m\n\u001b[1;32m    190\u001b[0m         \u001b[0;32mif\u001b[0m \u001b[0mcallable\u001b[0m\u001b[0;34m(\u001b[0m\u001b[0marg\u001b[0m\u001b[0;34m)\u001b[0m\u001b[0;34m:\u001b[0m\u001b[0;34m\u001b[0m\u001b[0m\n",
      "\u001b[0;32m/nfs/users/nfs_r/rp7/miniconda3/envs/biipy/lib/python3.5/site-packages/IPython/core/magics/execution.py\u001b[0m in \u001b[0;36mtime\u001b[0;34m(self, line, cell, local_ns)\u001b[0m\n\u001b[1;32m   1178\u001b[0m         \u001b[0;32melse\u001b[0m\u001b[0;34m:\u001b[0m\u001b[0;34m\u001b[0m\u001b[0m\n\u001b[1;32m   1179\u001b[0m             \u001b[0mst\u001b[0m \u001b[0;34m=\u001b[0m \u001b[0mclock2\u001b[0m\u001b[0;34m(\u001b[0m\u001b[0;34m)\u001b[0m\u001b[0;34m\u001b[0m\u001b[0m\n\u001b[0;32m-> 1180\u001b[0;31m             \u001b[0mexec\u001b[0m\u001b[0;34m(\u001b[0m\u001b[0mcode\u001b[0m\u001b[0;34m,\u001b[0m \u001b[0mglob\u001b[0m\u001b[0;34m,\u001b[0m \u001b[0mlocal_ns\u001b[0m\u001b[0;34m)\u001b[0m\u001b[0;34m\u001b[0m\u001b[0m\n\u001b[0m\u001b[1;32m   1181\u001b[0m             \u001b[0mend\u001b[0m \u001b[0;34m=\u001b[0m \u001b[0mclock2\u001b[0m\u001b[0;34m(\u001b[0m\u001b[0;34m)\u001b[0m\u001b[0;34m\u001b[0m\u001b[0m\n\u001b[1;32m   1182\u001b[0m             \u001b[0mout\u001b[0m \u001b[0;34m=\u001b[0m \u001b[0;32mNone\u001b[0m\u001b[0;34m\u001b[0m\u001b[0m\n",
      "\u001b[0;32m<timed exec>\u001b[0m in \u001b[0;36m<module>\u001b[0;34m()\u001b[0m\n",
      "\u001b[0;32m/nfs/users/nfs_r/rp7/miniconda3/envs/biipy/lib/python3.5/site-packages/allel/model/chunked.py\u001b[0m in \u001b[0;36msubset\u001b[0;34m(self, sel0, sel1, **kwargs)\u001b[0m\n\u001b[1;32m    318\u001b[0m     \u001b[0;32mdef\u001b[0m \u001b[0msubset\u001b[0m\u001b[0;34m(\u001b[0m\u001b[0mself\u001b[0m\u001b[0;34m,\u001b[0m \u001b[0msel0\u001b[0m\u001b[0;34m=\u001b[0m\u001b[0;32mNone\u001b[0m\u001b[0;34m,\u001b[0m \u001b[0msel1\u001b[0m\u001b[0;34m=\u001b[0m\u001b[0;32mNone\u001b[0m\u001b[0;34m,\u001b[0m \u001b[0;34m**\u001b[0m\u001b[0mkwargs\u001b[0m\u001b[0;34m)\u001b[0m\u001b[0;34m:\u001b[0m\u001b[0;34m\u001b[0m\u001b[0m\n\u001b[1;32m    319\u001b[0m         return subset_genotype_array(self, sel0, sel1, cls=type(self),\n\u001b[0;32m--> 320\u001b[0;31m                                      subset=_chunked.subset, **kwargs)\n\u001b[0m\u001b[1;32m    321\u001b[0m \u001b[0;34m\u001b[0m\u001b[0m\n\u001b[1;32m    322\u001b[0m     \u001b[0;32mdef\u001b[0m \u001b[0mconcatenate\u001b[0m\u001b[0;34m(\u001b[0m\u001b[0mself\u001b[0m\u001b[0;34m,\u001b[0m \u001b[0mothers\u001b[0m\u001b[0;34m,\u001b[0m \u001b[0maxis\u001b[0m\u001b[0;34m=\u001b[0m\u001b[0;36m0\u001b[0m\u001b[0;34m,\u001b[0m \u001b[0;34m**\u001b[0m\u001b[0mkwargs\u001b[0m\u001b[0;34m)\u001b[0m\u001b[0;34m:\u001b[0m\u001b[0;34m\u001b[0m\u001b[0m\n",
      "\u001b[0;32m/nfs/users/nfs_r/rp7/miniconda3/envs/biipy/lib/python3.5/site-packages/allel/model/generic.py\u001b[0m in \u001b[0;36msubset_genotype_array\u001b[0;34m(g, sel0, sel1, cls, subset, **kwargs)\u001b[0m\n\u001b[1;32m    227\u001b[0m \u001b[0;34m\u001b[0m\u001b[0m\n\u001b[1;32m    228\u001b[0m     \u001b[0;31m# apply the subset operation\u001b[0m\u001b[0;34m\u001b[0m\u001b[0;34m\u001b[0m\u001b[0m\n\u001b[0;32m--> 229\u001b[0;31m     \u001b[0mout\u001b[0m \u001b[0;34m=\u001b[0m \u001b[0msubset\u001b[0m\u001b[0;34m(\u001b[0m\u001b[0mg\u001b[0m\u001b[0;34m.\u001b[0m\u001b[0mvalues\u001b[0m\u001b[0;34m,\u001b[0m \u001b[0msel0\u001b[0m\u001b[0;34m,\u001b[0m \u001b[0msel1\u001b[0m\u001b[0;34m,\u001b[0m \u001b[0;34m**\u001b[0m\u001b[0mkwargs\u001b[0m\u001b[0;34m)\u001b[0m\u001b[0;34m\u001b[0m\u001b[0m\n\u001b[0m\u001b[1;32m    230\u001b[0m \u001b[0;34m\u001b[0m\u001b[0m\n\u001b[1;32m    231\u001b[0m     \u001b[0;31m# wrap the output\u001b[0m\u001b[0;34m\u001b[0m\u001b[0;34m\u001b[0m\u001b[0m\n",
      "\u001b[0;32m/nfs/users/nfs_r/rp7/miniconda3/envs/biipy/lib/python3.5/site-packages/allel/chunked/core.py\u001b[0m in \u001b[0;36msubset\u001b[0;34m(data, sel0, sel1, blen, storage, create, **kwargs)\u001b[0m\n\u001b[1;32m    414\u001b[0m     \u001b[0;32melif\u001b[0m \u001b[0msel1\u001b[0m \u001b[0;32mis\u001b[0m \u001b[0;32mNone\u001b[0m\u001b[0;34m:\u001b[0m\u001b[0;34m\u001b[0m\u001b[0m\n\u001b[1;32m    415\u001b[0m         return compress(sel0, data, axis=0, blen=blen, storage=storage,\n\u001b[0;32m--> 416\u001b[0;31m                         create=create, **kwargs)\n\u001b[0m\u001b[1;32m    417\u001b[0m     \u001b[0;32melif\u001b[0m \u001b[0msel0\u001b[0m \u001b[0;32mis\u001b[0m \u001b[0;32mNone\u001b[0m\u001b[0;34m:\u001b[0m\u001b[0;34m\u001b[0m\u001b[0m\n\u001b[1;32m    418\u001b[0m         return take(data, sel1, axis=1, blen=blen, storage=storage,\n",
      "\u001b[0;32m/nfs/users/nfs_r/rp7/miniconda3/envs/biipy/lib/python3.5/site-packages/allel/chunked/core.py\u001b[0m in \u001b[0;36mcompress\u001b[0;34m(condition, data, axis, out, blen, storage, create, **kwargs)\u001b[0m\n\u001b[1;32m    243\u001b[0m             \u001b[0;32mif\u001b[0m \u001b[0mnp\u001b[0m\u001b[0;34m.\u001b[0m\u001b[0many\u001b[0m\u001b[0;34m(\u001b[0m\u001b[0mbcond\u001b[0m\u001b[0;34m)\u001b[0m\u001b[0;34m:\u001b[0m\u001b[0;34m\u001b[0m\u001b[0m\n\u001b[1;32m    244\u001b[0m                 \u001b[0mblock\u001b[0m \u001b[0;34m=\u001b[0m \u001b[0mnp\u001b[0m\u001b[0;34m.\u001b[0m\u001b[0masarray\u001b[0m\u001b[0;34m(\u001b[0m\u001b[0mdata\u001b[0m\u001b[0;34m[\u001b[0m\u001b[0mi\u001b[0m\u001b[0;34m:\u001b[0m\u001b[0mj\u001b[0m\u001b[0;34m]\u001b[0m\u001b[0;34m)\u001b[0m\u001b[0;34m\u001b[0m\u001b[0m\n\u001b[0;32m--> 245\u001b[0;31m                 \u001b[0mres\u001b[0m \u001b[0;34m=\u001b[0m \u001b[0mnp\u001b[0m\u001b[0;34m.\u001b[0m\u001b[0mcompress\u001b[0m\u001b[0;34m(\u001b[0m\u001b[0mbcond\u001b[0m\u001b[0;34m,\u001b[0m \u001b[0mblock\u001b[0m\u001b[0;34m,\u001b[0m \u001b[0maxis\u001b[0m\u001b[0;34m=\u001b[0m\u001b[0;36m0\u001b[0m\u001b[0;34m)\u001b[0m\u001b[0;34m\u001b[0m\u001b[0m\n\u001b[0m\u001b[1;32m    246\u001b[0m                 \u001b[0;32mif\u001b[0m \u001b[0mout\u001b[0m \u001b[0;32mis\u001b[0m \u001b[0;32mNone\u001b[0m\u001b[0;34m:\u001b[0m\u001b[0;34m\u001b[0m\u001b[0m\n\u001b[1;32m    247\u001b[0m                     \u001b[0mout\u001b[0m \u001b[0;34m=\u001b[0m \u001b[0mgetattr\u001b[0m\u001b[0;34m(\u001b[0m\u001b[0mstorage\u001b[0m\u001b[0;34m,\u001b[0m \u001b[0mcreate\u001b[0m\u001b[0;34m)\u001b[0m\u001b[0;34m(\u001b[0m\u001b[0mres\u001b[0m\u001b[0;34m,\u001b[0m \u001b[0mexpectedlen\u001b[0m\u001b[0;34m=\u001b[0m\u001b[0mnnz\u001b[0m\u001b[0;34m,\u001b[0m \u001b[0;34m**\u001b[0m\u001b[0mkwargs\u001b[0m\u001b[0;34m)\u001b[0m\u001b[0;34m\u001b[0m\u001b[0m\n",
      "\u001b[0;32m/nfs/users/nfs_r/rp7/miniconda3/envs/biipy/lib/python3.5/site-packages/numpy/core/fromnumeric.py\u001b[0m in \u001b[0;36mcompress\u001b[0;34m(condition, a, axis, out)\u001b[0m\n\u001b[1;32m   1681\u001b[0m     \u001b[0;32mexcept\u001b[0m \u001b[0mAttributeError\u001b[0m\u001b[0;34m:\u001b[0m\u001b[0;34m\u001b[0m\u001b[0m\n\u001b[1;32m   1682\u001b[0m         \u001b[0;32mreturn\u001b[0m \u001b[0m_wrapit\u001b[0m\u001b[0;34m(\u001b[0m\u001b[0ma\u001b[0m\u001b[0;34m,\u001b[0m \u001b[0;34m'compress'\u001b[0m\u001b[0;34m,\u001b[0m \u001b[0mcondition\u001b[0m\u001b[0;34m,\u001b[0m \u001b[0maxis\u001b[0m\u001b[0;34m,\u001b[0m \u001b[0mout\u001b[0m\u001b[0;34m)\u001b[0m\u001b[0;34m\u001b[0m\u001b[0m\n\u001b[0;32m-> 1683\u001b[0;31m     \u001b[0;32mreturn\u001b[0m \u001b[0mcompress\u001b[0m\u001b[0;34m(\u001b[0m\u001b[0mcondition\u001b[0m\u001b[0;34m,\u001b[0m \u001b[0maxis\u001b[0m\u001b[0;34m,\u001b[0m \u001b[0mout\u001b[0m\u001b[0;34m)\u001b[0m\u001b[0;34m\u001b[0m\u001b[0m\n\u001b[0m\u001b[1;32m   1684\u001b[0m \u001b[0;34m\u001b[0m\u001b[0m\n\u001b[1;32m   1685\u001b[0m \u001b[0;34m\u001b[0m\u001b[0m\n",
      "\u001b[0;31mValueError\u001b[0m: condition must be a 1-d array"
     ]
    }
   ],
   "source": [
    "%%time\n",
    "df_sample_summary = collections.OrderedDict()\n",
    "# for release in genotypes_subset:\n",
    "for release in ['Pv30', 'Pf60']:\n",
    "    print(release)\n",
    "    samples = hdf[release]['samples'][:]\n",
    "    pass_variants = hdf[release]['variants']['FILTER_PASS'][:]\n",
    "    \n",
    "    print(0)\n",
    "    is_snp = (hdf[release]['variants']['VARIANT_TYPE'][:][pass_variants] == b'SNP')\n",
    "    is_bi = (hdf[release]['variants']['MULTIALLELIC'][:][pass_variants] == b'BI')\n",
    "    is_sd = (hdf[release]['variants']['MULTIALLELIC'][:][pass_variants] == b'SD')\n",
    "    is_mu = (hdf[release]['variants']['MULTIALLELIC'][:][pass_variants] == b'MU')\n",
    "    is_ins = (hdf[release]['variants']['svlen'][:][pass_variants] > 0)\n",
    "    is_del = (hdf[release]['variants']['svlen'][:][pass_variants] < 0)\n",
    "    \n",
    "    print(1)\n",
    "    num_variants = genotypes_subset[release]['all'].shape[0]\n",
    "    num_pass_variants = genotypes_subset[release]['pass'].shape[0]\n",
    "    num_missing = genotypes_subset[release]['all'].count_missing(axis=0)[:]\n",
    "    num_pass_missing = genotypes_subset[release]['pass'].count_missing(axis=0)[:]\n",
    "    num_called = (num_variants - num_missing)\n",
    "    num_pass_called = (num_pass_variants - num_pass_missing)\n",
    "    print(2)\n",
    "    num_het = genotypes_subset[release]['all'].count_het(axis=0)[:]\n",
    "    num_pass_het = genotypes_subset[release]['pass'].count_het(axis=0)[:]\n",
    "    num_hom_alt = genotypes_subset[release]['all'].count_hom_alt(axis=0)[:]\n",
    "    num_pass_hom_alt = genotypes_subset[release]['pass'].count_hom_alt(axis=0)[:]\n",
    "    print(3)\n",
    "    num_snp_hom_ref = genotypes_subset[release]['pass'].subset(is_snp).count_hom_ref(axis=0)[:]\n",
    "    num_snp_het = genotypes_subset[release]['pass'].subset(is_snp).count_het(axis=0)[:]\n",
    "    num_snp_hom_alt = genotypes_subset[release]['pass'].subset(is_snp).count_hom_alt(axis=0)[:]\n",
    "    num_indel_hom_ref = genotypes_subset[release]['pass'].subset(is_snp).count_hom_ref(axis=0)[:]\n",
    "    num_indel_het = genotypes_subset[release]['pass'].subset(is_snp).count_het(axis=0)[:]\n",
    "    num_indel_hom_alt = genotypes_subset[release]['pass'].subset(is_snp).count_hom_alt(axis=0)[:]\n",
    "    print(4)    \n",
    "    num_ins_hom_ref = genotypes_subset[release]['pass'].subset(is_ins).count_hom_ref(axis=0)[:]\n",
    "    num_ins_het = genotypes_subset[release]['pass'].subset(is_ins).count_het(axis=0)[:]\n",
    "    num_ins = (num_ins_hom_ref + num_ins_het)\n",
    "    num_del_hom_ref = genotypes_subset[release]['pass'].subset(is_del).count_hom_ref(axis=0)[:]\n",
    "    num_del_het = genotypes_subset[release]['pass'].subset(is_del).count_het(axis=0)[:]\n",
    "    num_del = (num_del_hom_ref + num_del_het)\n",
    "    \n",
    "    print(5)\n",
    "    pc_pass = num_pass_called / num_called\n",
    "    pc_missing = num_missing / num_variants\n",
    "    pc_pass_missing = num_pass_missing / num_pass_variants\n",
    "    pc_het = num_het / num_called\n",
    "    pc_pass_het = num_pass_het / num_pass_called\n",
    "    pc_hom_alt = num_hom_alt / num_called\n",
    "    pc_pass_hom_alt = num_pass_hom_alt / num_pass_called\n",
    "    pc_snp = (num_snp_het + num_snp_homalt) / (num_snp_het + num_snp_homalt + num_indel_het + num_indel_homalt)\n",
    "    pc_ins = (num_ins / (num_ins + num_del))\n",
    "\n",
    "    print(6)\n",
    "    df_sample_summary[release] = pd.DataFrame(\n",
    "            {\n",
    "                'Sample': pd.Series(samples),\n",
    "                'Variants called': pd.Series(num_called),\n",
    "                'Variants missing': pd.Series(num_called),\n",
    "                'Proportion missing': pd.Series(pc_missing),\n",
    "                'Proportion pass missing': pd.Series(pc_pass_missing),\n",
    "                'Proportion heterozygous': pd.Series(pc_het),\n",
    "                'Proportion pass heterozygous': pd.Series(pc_pass_het),\n",
    "                'Proportion homozygous alternative': pd.Series(pc_hom_alt),\n",
    "                'Proportion pass homozygous alternative': pd.Series(pc_pass_hom_alt),\n",
    "                'Proportion variants SNPs': pd.Series(pc_snp),\n",
    "                'Proportion indels insertions': pd.Series(pc_ins),\n",
    "            }\n",
    "        )"
   ]
  },
  {
   "cell_type": "code",
   "execution_count": 26,
   "metadata": {
    "collapsed": false
   },
   "outputs": [
    {
     "data": {
      "text/plain": [
       "array([[False, False, False, False, False, False],\n",
       "       [False, False, False, False, False, False],\n",
       "       [False, False, False, False, False, False],\n",
       "       ..., \n",
       "       [False, False, False, False, False, False],\n",
       "       [False, False, False, False, False, False],\n",
       "       [ True, False, False, False, False, False]], dtype=bool)"
      ]
     },
     "execution_count": 26,
     "metadata": {},
     "output_type": "execute_result"
    }
   ],
   "source": [
    "is_ins"
   ]
  },
  {
   "cell_type": "code",
   "execution_count": 20,
   "metadata": {
    "collapsed": false
   },
   "outputs": [
    {
     "ename": "TypeError",
     "evalue": "expected integer or slice, found: array([ True,  True,  True, ...,  True,  True, False], dtype=bool)",
     "output_type": "error",
     "traceback": [
      "\u001b[0;31m---------------------------------------------------------------------------\u001b[0m",
      "\u001b[0;31mTypeError\u001b[0m                                 Traceback (most recent call last)",
      "\u001b[0;32m<ipython-input-20-b64c4e6aa8df>\u001b[0m in \u001b[0;36m<module>\u001b[0;34m()\u001b[0m\n\u001b[0;32m----> 1\u001b[0;31m \u001b[0mnum_snp_hom_ref\u001b[0m \u001b[0;34m=\u001b[0m \u001b[0mgenotypes_subset\u001b[0m\u001b[0;34m[\u001b[0m\u001b[0;34m'Pv30'\u001b[0m\u001b[0;34m]\u001b[0m\u001b[0;34m[\u001b[0m\u001b[0;34m'pass'\u001b[0m\u001b[0;34m]\u001b[0m\u001b[0;34m[\u001b[0m\u001b[0mis_snp\u001b[0m\u001b[0;34m,\u001b[0m \u001b[0;34m:\u001b[0m\u001b[0;34m,\u001b[0m \u001b[0;34m:\u001b[0m\u001b[0;34m]\u001b[0m\u001b[0;34m.\u001b[0m\u001b[0mcount_hom_ref\u001b[0m\u001b[0;34m(\u001b[0m\u001b[0maxis\u001b[0m\u001b[0;34m=\u001b[0m\u001b[0;36m0\u001b[0m\u001b[0;34m)\u001b[0m\u001b[0;34m[\u001b[0m\u001b[0;34m:\u001b[0m\u001b[0;34m]\u001b[0m\u001b[0;34m\u001b[0m\u001b[0m\n\u001b[0m",
      "\u001b[0;32m/nfs/users/nfs_r/rp7/miniconda3/envs/biipy/lib/python3.5/site-packages/allel/model/chunked.py\u001b[0m in \u001b[0;36m__getitem__\u001b[0;34m(self, item)\u001b[0m\n\u001b[1;32m    123\u001b[0m     \u001b[0;32mdef\u001b[0m \u001b[0m__getitem__\u001b[0m\u001b[0;34m(\u001b[0m\u001b[0mself\u001b[0m\u001b[0;34m,\u001b[0m \u001b[0mitem\u001b[0m\u001b[0;34m)\u001b[0m\u001b[0;34m:\u001b[0m\u001b[0;34m\u001b[0m\u001b[0m\n\u001b[1;32m    124\u001b[0m         return index_genotype_array(self, item, array_cls=GenotypeArray,\n\u001b[0;32m--> 125\u001b[0;31m                                     vector_cls=GenotypeVector)\n\u001b[0m\u001b[1;32m    126\u001b[0m \u001b[0;34m\u001b[0m\u001b[0m\n\u001b[1;32m    127\u001b[0m     \u001b[0;34m@\u001b[0m\u001b[0mproperty\u001b[0m\u001b[0;34m\u001b[0m\u001b[0m\n",
      "\u001b[0;32m/nfs/users/nfs_r/rp7/miniconda3/envs/biipy/lib/python3.5/site-packages/allel/model/generic.py\u001b[0m in \u001b[0;36mindex_genotype_array\u001b[0;34m(g, item, array_cls, vector_cls)\u001b[0m\n\u001b[1;32m     36\u001b[0m \u001b[0;34m\u001b[0m\u001b[0m\n\u001b[1;32m     37\u001b[0m     \u001b[0;31m# apply indexing operation to underlying values\u001b[0m\u001b[0;34m\u001b[0m\u001b[0;34m\u001b[0m\u001b[0m\n\u001b[0;32m---> 38\u001b[0;31m     \u001b[0mout\u001b[0m \u001b[0;34m=\u001b[0m \u001b[0mg\u001b[0m\u001b[0;34m.\u001b[0m\u001b[0mvalues\u001b[0m\u001b[0;34m[\u001b[0m\u001b[0mitem\u001b[0m\u001b[0;34m]\u001b[0m\u001b[0;34m\u001b[0m\u001b[0m\n\u001b[0m\u001b[1;32m     39\u001b[0m \u001b[0;34m\u001b[0m\u001b[0m\n\u001b[1;32m     40\u001b[0m     \u001b[0;31m# decide whether to wrap the output, if so how\u001b[0m\u001b[0;34m\u001b[0m\u001b[0;34m\u001b[0m\u001b[0m\n",
      "\u001b[0;32m/nfs/users/nfs_r/rp7/miniconda3/envs/biipy/lib/python3.5/site-packages/zarr/core.py\u001b[0m in \u001b[0;36m__getitem__\u001b[0;34m(self, item)\u001b[0m\n\u001b[1;32m    446\u001b[0m \u001b[0;34m\u001b[0m\u001b[0m\n\u001b[1;32m    447\u001b[0m         \u001b[0;31m# normalize selection\u001b[0m\u001b[0;34m\u001b[0m\u001b[0;34m\u001b[0m\u001b[0m\n\u001b[0;32m--> 448\u001b[0;31m         \u001b[0mselection\u001b[0m \u001b[0;34m=\u001b[0m \u001b[0mnormalize_array_selection\u001b[0m\u001b[0;34m(\u001b[0m\u001b[0mitem\u001b[0m\u001b[0;34m,\u001b[0m \u001b[0mself\u001b[0m\u001b[0;34m.\u001b[0m\u001b[0m_shape\u001b[0m\u001b[0;34m)\u001b[0m\u001b[0;34m\u001b[0m\u001b[0m\n\u001b[0m\u001b[1;32m    449\u001b[0m \u001b[0;34m\u001b[0m\u001b[0m\n\u001b[1;32m    450\u001b[0m         \u001b[0;31m# determine output array shape\u001b[0m\u001b[0;34m\u001b[0m\u001b[0;34m\u001b[0m\u001b[0m\n",
      "\u001b[0;32m/nfs/users/nfs_r/rp7/miniconda3/envs/biipy/lib/python3.5/site-packages/zarr/util.py\u001b[0m in \u001b[0;36mnormalize_array_selection\u001b[0;34m(item, shape)\u001b[0m\n\u001b[1;32m    184\u001b[0m         \u001b[0;31m# determine start and stop indices for all axes\u001b[0m\u001b[0;34m\u001b[0m\u001b[0;34m\u001b[0m\u001b[0m\n\u001b[1;32m    185\u001b[0m         selection = tuple(normalize_axis_selection(i, l)\n\u001b[0;32m--> 186\u001b[0;31m                           for i, l in zip(item, shape))\n\u001b[0m\u001b[1;32m    187\u001b[0m \u001b[0;34m\u001b[0m\u001b[0m\n\u001b[1;32m    188\u001b[0m         \u001b[0;31m# fill out selection if not completely specified\u001b[0m\u001b[0;34m\u001b[0m\u001b[0;34m\u001b[0m\u001b[0m\n",
      "\u001b[0;32m/nfs/users/nfs_r/rp7/miniconda3/envs/biipy/lib/python3.5/site-packages/zarr/util.py\u001b[0m in \u001b[0;36m<genexpr>\u001b[0;34m(.0)\u001b[0m\n\u001b[1;32m    184\u001b[0m         \u001b[0;31m# determine start and stop indices for all axes\u001b[0m\u001b[0;34m\u001b[0m\u001b[0;34m\u001b[0m\u001b[0m\n\u001b[1;32m    185\u001b[0m         selection = tuple(normalize_axis_selection(i, l)\n\u001b[0;32m--> 186\u001b[0;31m                           for i, l in zip(item, shape))\n\u001b[0m\u001b[1;32m    187\u001b[0m \u001b[0;34m\u001b[0m\u001b[0m\n\u001b[1;32m    188\u001b[0m         \u001b[0;31m# fill out selection if not completely specified\u001b[0m\u001b[0;34m\u001b[0m\u001b[0;34m\u001b[0m\u001b[0m\n",
      "\u001b[0;32m/nfs/users/nfs_r/rp7/miniconda3/envs/biipy/lib/python3.5/site-packages/zarr/util.py\u001b[0m in \u001b[0;36mnormalize_axis_selection\u001b[0;34m(item, l)\u001b[0m\n\u001b[1;32m    163\u001b[0m \u001b[0;34m\u001b[0m\u001b[0m\n\u001b[1;32m    164\u001b[0m     \u001b[0;32melse\u001b[0m\u001b[0;34m:\u001b[0m\u001b[0;34m\u001b[0m\u001b[0m\n\u001b[0;32m--> 165\u001b[0;31m         \u001b[0;32mraise\u001b[0m \u001b[0mTypeError\u001b[0m\u001b[0;34m(\u001b[0m\u001b[0;34m'expected integer or slice, found: %r'\u001b[0m \u001b[0;34m%\u001b[0m \u001b[0mitem\u001b[0m\u001b[0;34m)\u001b[0m\u001b[0;34m\u001b[0m\u001b[0m\n\u001b[0m\u001b[1;32m    166\u001b[0m \u001b[0;34m\u001b[0m\u001b[0m\n\u001b[1;32m    167\u001b[0m \u001b[0;34m\u001b[0m\u001b[0m\n",
      "\u001b[0;31mTypeError\u001b[0m: expected integer or slice, found: array([ True,  True,  True, ...,  True,  True, False], dtype=bool)"
     ]
    }
   ],
   "source": [
    "num_snp_hom_ref = genotypes_subset['Pv30']['pass'][is_snp, :, :].count_hom_ref(axis=0)[:]"
   ]
  },
  {
   "cell_type": "code",
   "execution_count": 24,
   "metadata": {
    "collapsed": false
   },
   "outputs": [
    {
     "data": {
      "text/html": [
       "<div class=\"allel allel-DisplayAs2D\"><span>&lt;GenotypeChunkedArray shape=(963791, 1001, 2) dtype=int8 chunks=(471, 1001, 2)\n",
       "   nbytes=1.8G cbytes=279.5M cratio=6.6\n",
       "   compression=blosc compression_opts={'cname': 'lz4', 'shuffle': 1, 'clevel': 5}\n",
       "   values=zarr.core.Array&gt;</span><table><tr><th></th><th style=\"text-align: center\">0</th><th style=\"text-align: center\">1</th><th style=\"text-align: center\">2</th><th style=\"text-align: center\">3</th><th style=\"text-align: center\">4</th><th style=\"text-align: center\">...</th><th style=\"text-align: center\">996</th><th style=\"text-align: center\">997</th><th style=\"text-align: center\">998</th><th style=\"text-align: center\">999</th><th style=\"text-align: center\">1000</th></tr><tr><th style=\"text-align: center\">0</th><td style=\"text-align: center\">./.</td><td style=\"text-align: center\">./.</td><td style=\"text-align: center\">./.</td><td style=\"text-align: center\">./.</td><td style=\"text-align: center\">0/0</td><td style=\"text-align: center\">...</td><td style=\"text-align: center\">./.</td><td style=\"text-align: center\">0/0</td><td style=\"text-align: center\">0/0</td><td style=\"text-align: center\">0/0</td><td style=\"text-align: center\">0/0</td></tr><tr><th style=\"text-align: center\">1</th><td style=\"text-align: center\">0/0</td><td style=\"text-align: center\">./.</td><td style=\"text-align: center\">./.</td><td style=\"text-align: center\">./.</td><td style=\"text-align: center\">0/0</td><td style=\"text-align: center\">...</td><td style=\"text-align: center\">./.</td><td style=\"text-align: center\">0/0</td><td style=\"text-align: center\">0/0</td><td style=\"text-align: center\">0/0</td><td style=\"text-align: center\">0/0</td></tr><tr><th style=\"text-align: center\">2</th><td style=\"text-align: center\">0/0</td><td style=\"text-align: center\">./.</td><td style=\"text-align: center\">./.</td><td style=\"text-align: center\">./.</td><td style=\"text-align: center\">./.</td><td style=\"text-align: center\">...</td><td style=\"text-align: center\">./.</td><td style=\"text-align: center\">0/0</td><td style=\"text-align: center\">0/0</td><td style=\"text-align: center\">0/0</td><td style=\"text-align: center\">0/0</td></tr><tr><th style=\"text-align: center\">...</th><td style=\"text-align: center\" colspan=\"12\">...</td></tr><tr><th style=\"text-align: center\">963788</th><td style=\"text-align: center\">./.</td><td style=\"text-align: center\">./.</td><td style=\"text-align: center\">./.</td><td style=\"text-align: center\">./.</td><td style=\"text-align: center\">./.</td><td style=\"text-align: center\">...</td><td style=\"text-align: center\">./.</td><td style=\"text-align: center\">0/0</td><td style=\"text-align: center\">0/0</td><td style=\"text-align: center\">0/0</td><td style=\"text-align: center\">0/0</td></tr><tr><th style=\"text-align: center\">963789</th><td style=\"text-align: center\">./.</td><td style=\"text-align: center\">./.</td><td style=\"text-align: center\">./.</td><td style=\"text-align: center\">./.</td><td style=\"text-align: center\">./.</td><td style=\"text-align: center\">...</td><td style=\"text-align: center\">./.</td><td style=\"text-align: center\">0/0</td><td style=\"text-align: center\">0/0</td><td style=\"text-align: center\">0/0</td><td style=\"text-align: center\">0/0</td></tr><tr><th style=\"text-align: center\">963790</th><td style=\"text-align: center\">./.</td><td style=\"text-align: center\">./.</td><td style=\"text-align: center\">./.</td><td style=\"text-align: center\">./.</td><td style=\"text-align: center\">./.</td><td style=\"text-align: center\">...</td><td style=\"text-align: center\">./.</td><td style=\"text-align: center\">./.</td><td style=\"text-align: center\">./.</td><td style=\"text-align: center\">./.</td><td style=\"text-align: center\">./.</td></tr></table></div>"
      ],
      "text/plain": [
       "<GenotypeChunkedArray shape=(963791, 1001, 2) dtype=int8 chunks=(471, 1001, 2)\n",
       "   nbytes=1.8G cbytes=279.5M cratio=6.6\n",
       "   compression=blosc compression_opts={'cname': 'lz4', 'shuffle': 1, 'clevel': 5}\n",
       "   values=zarr.core.Array>"
      ]
     },
     "execution_count": 24,
     "metadata": {},
     "output_type": "execute_result"
    }
   ],
   "source": [
    "genotypes_subset['Pv30']['pass'].subset(is_snp)"
   ]
  },
  {
   "cell_type": "code",
   "execution_count": 16,
   "metadata": {
    "collapsed": false
   },
   "outputs": [
    {
     "data": {
      "text/plain": [
       "True     963791\n",
       "False    218656\n",
       "dtype: int64"
      ]
     },
     "execution_count": 16,
     "metadata": {},
     "output_type": "execute_result"
    }
   ],
   "source": [
    "pd.value_counts(is_snp)"
   ]
  },
  {
   "cell_type": "code",
   "execution_count": 19,
   "metadata": {
    "collapsed": false
   },
   "outputs": [
    {
     "data": {
      "text/plain": [
       "1182447"
      ]
     },
     "execution_count": 19,
     "metadata": {},
     "output_type": "execute_result"
    }
   ],
   "source": [
    "len(is_snp)"
   ]
  },
  {
   "cell_type": "code",
   "execution_count": 7,
   "metadata": {
    "collapsed": false
   },
   "outputs": [
    {
     "ename": "NameError",
     "evalue": "name 'pass_variants' is not defined",
     "output_type": "error",
     "traceback": [
      "\u001b[0;31m---------------------------------------------------------------------------\u001b[0m",
      "\u001b[0;31mNameError\u001b[0m                                 Traceback (most recent call last)",
      "\u001b[0;32m<ipython-input-7-fd6c73db7676>\u001b[0m in \u001b[0;36m<module>\u001b[0;34m()\u001b[0m\n\u001b[0;32m----> 1\u001b[0;31m \u001b[0mis_snp\u001b[0m \u001b[0;34m=\u001b[0m \u001b[0;34m(\u001b[0m\u001b[0mhdf\u001b[0m\u001b[0;34m[\u001b[0m\u001b[0mrelease\u001b[0m\u001b[0;34m]\u001b[0m\u001b[0;34m[\u001b[0m\u001b[0;34m'variants'\u001b[0m\u001b[0;34m]\u001b[0m\u001b[0;34m[\u001b[0m\u001b[0;34m'VARIANT_TYPE'\u001b[0m\u001b[0;34m]\u001b[0m\u001b[0;34m[\u001b[0m\u001b[0;34m:\u001b[0m\u001b[0;34m]\u001b[0m\u001b[0;34m[\u001b[0m\u001b[0mpass_variants\u001b[0m\u001b[0;34m]\u001b[0m \u001b[0;34m==\u001b[0m \u001b[0;34mb'SNP'\u001b[0m\u001b[0;34m)\u001b[0m\u001b[0;34m\u001b[0m\u001b[0m\n\u001b[0m",
      "\u001b[0;31mNameError\u001b[0m: name 'pass_variants' is not defined"
     ]
    }
   ],
   "source": [
    "is_snp = (hdf[release]['variants']['VARIANT_TYPE'][:][pass_variants] == b'SNP')"
   ]
  },
  {
   "cell_type": "code",
   "execution_count": 11,
   "metadata": {
    "collapsed": false
   },
   "outputs": [
    {
     "data": {
      "text/plain": [
       "4"
      ]
     },
     "execution_count": 11,
     "metadata": {},
     "output_type": "execute_result"
    }
   ],
   "source": [
    "2+2"
   ]
  },
  {
   "cell_type": "code",
   "execution_count": 13,
   "metadata": {
    "collapsed": false
   },
   "outputs": [
    {
     "ename": "KeyError",
     "evalue": "'Pv30'",
     "output_type": "error",
     "traceback": [
      "\u001b[0;31m---------------------------------------------------------------------------\u001b[0m",
      "\u001b[0;31mKeyError\u001b[0m                                  Traceback (most recent call last)",
      "\u001b[0;32m<ipython-input-13-92ed700e61fc>\u001b[0m in \u001b[0;36m<module>\u001b[0;34m()\u001b[0m\n\u001b[0;32m----> 1\u001b[0;31m \u001b[0mdf_sample_summary\u001b[0m\u001b[0;34m[\u001b[0m\u001b[0;34m'Pv30'\u001b[0m\u001b[0;34m]\u001b[0m\u001b[0;34m\u001b[0m\u001b[0m\n\u001b[0m",
      "\u001b[0;31mKeyError\u001b[0m: 'Pv30'"
     ]
    }
   ],
   "source": [
    "df_sample_summary['Pv30']"
   ]
  },
  {
   "cell_type": "code",
   "execution_count": 41,
   "metadata": {
    "collapsed": false
   },
   "outputs": [
    {
     "data": {
      "text/html": [
       "<div>\n",
       "<table border=\"1\" class=\"dataframe\">\n",
       "  <thead>\n",
       "    <tr style=\"text-align: right;\">\n",
       "      <th></th>\n",
       "      <th>Proportion heterozygous</th>\n",
       "      <th>Proportion missing</th>\n",
       "      <th>Sample</th>\n",
       "    </tr>\n",
       "  </thead>\n",
       "  <tbody>\n",
       "    <tr>\n",
       "      <th>0</th>\n",
       "      <td>0.018750</td>\n",
       "      <td>0.075449</td>\n",
       "      <td>b'FP0008-C'</td>\n",
       "    </tr>\n",
       "    <tr>\n",
       "      <th>1</th>\n",
       "      <td>0.009661</td>\n",
       "      <td>0.035728</td>\n",
       "      <td>b'FP0009-C'</td>\n",
       "    </tr>\n",
       "    <tr>\n",
       "      <th>2</th>\n",
       "      <td>0.011560</td>\n",
       "      <td>0.044328</td>\n",
       "      <td>b'FP0015-C'</td>\n",
       "    </tr>\n",
       "    <tr>\n",
       "      <th>3</th>\n",
       "      <td>0.005361</td>\n",
       "      <td>0.173110</td>\n",
       "      <td>b'FP0016-C'</td>\n",
       "    </tr>\n",
       "    <tr>\n",
       "      <th>4</th>\n",
       "      <td>0.006339</td>\n",
       "      <td>0.040628</td>\n",
       "      <td>b'FP0017-C'</td>\n",
       "    </tr>\n",
       "    <tr>\n",
       "      <th>5</th>\n",
       "      <td>0.008670</td>\n",
       "      <td>0.037962</td>\n",
       "      <td>b'FP0018-C'</td>\n",
       "    </tr>\n",
       "    <tr>\n",
       "      <th>6</th>\n",
       "      <td>0.006269</td>\n",
       "      <td>0.065103</td>\n",
       "      <td>b'FP0020-C'</td>\n",
       "    </tr>\n",
       "    <tr>\n",
       "      <th>7</th>\n",
       "      <td>0.006771</td>\n",
       "      <td>0.030394</td>\n",
       "      <td>b'FP0021-C'</td>\n",
       "    </tr>\n",
       "    <tr>\n",
       "      <th>8</th>\n",
       "      <td>0.006478</td>\n",
       "      <td>0.039455</td>\n",
       "      <td>b'FP0022-C'</td>\n",
       "    </tr>\n",
       "    <tr>\n",
       "      <th>9</th>\n",
       "      <td>0.007274</td>\n",
       "      <td>0.070017</td>\n",
       "      <td>b'FP0023-C'</td>\n",
       "    </tr>\n",
       "    <tr>\n",
       "      <th>10</th>\n",
       "      <td>0.004942</td>\n",
       "      <td>0.096782</td>\n",
       "      <td>b'FP0024-C'</td>\n",
       "    </tr>\n",
       "    <tr>\n",
       "      <th>11</th>\n",
       "      <td>0.031972</td>\n",
       "      <td>0.065606</td>\n",
       "      <td>b'FP0025-C'</td>\n",
       "    </tr>\n",
       "    <tr>\n",
       "      <th>12</th>\n",
       "      <td>0.000140</td>\n",
       "      <td>0.666429</td>\n",
       "      <td>b'FP0026-C'</td>\n",
       "    </tr>\n",
       "    <tr>\n",
       "      <th>13</th>\n",
       "      <td>0.001410</td>\n",
       "      <td>0.637305</td>\n",
       "      <td>b'FP0027-C'</td>\n",
       "    </tr>\n",
       "    <tr>\n",
       "      <th>14</th>\n",
       "      <td>0.010960</td>\n",
       "      <td>0.026764</td>\n",
       "      <td>b'FP0028-C'</td>\n",
       "    </tr>\n",
       "    <tr>\n",
       "      <th>15</th>\n",
       "      <td>0.005529</td>\n",
       "      <td>0.036761</td>\n",
       "      <td>b'FP0029-C'</td>\n",
       "    </tr>\n",
       "    <tr>\n",
       "      <th>16</th>\n",
       "      <td>0.007707</td>\n",
       "      <td>0.034541</td>\n",
       "      <td>b'FP0030-C'</td>\n",
       "    </tr>\n",
       "    <tr>\n",
       "      <th>17</th>\n",
       "      <td>0.006925</td>\n",
       "      <td>0.083030</td>\n",
       "      <td>b'FP0031-C'</td>\n",
       "    </tr>\n",
       "    <tr>\n",
       "      <th>18</th>\n",
       "      <td>0.007818</td>\n",
       "      <td>0.048140</td>\n",
       "      <td>b'FP0032-C'</td>\n",
       "    </tr>\n",
       "    <tr>\n",
       "      <th>19</th>\n",
       "      <td>0.005962</td>\n",
       "      <td>0.061724</td>\n",
       "      <td>b'FP0033-C'</td>\n",
       "    </tr>\n",
       "    <tr>\n",
       "      <th>20</th>\n",
       "      <td>0.018569</td>\n",
       "      <td>0.109361</td>\n",
       "      <td>b'FP0034-C'</td>\n",
       "    </tr>\n",
       "    <tr>\n",
       "      <th>21</th>\n",
       "      <td>0.006059</td>\n",
       "      <td>0.050457</td>\n",
       "      <td>b'FP0035-C'</td>\n",
       "    </tr>\n",
       "    <tr>\n",
       "      <th>22</th>\n",
       "      <td>0.009033</td>\n",
       "      <td>0.040112</td>\n",
       "      <td>b'FP0038-C'</td>\n",
       "    </tr>\n",
       "    <tr>\n",
       "      <th>23</th>\n",
       "      <td>0.038478</td>\n",
       "      <td>0.027644</td>\n",
       "      <td>b'FP0039-C'</td>\n",
       "    </tr>\n",
       "    <tr>\n",
       "      <th>24</th>\n",
       "      <td>0.026876</td>\n",
       "      <td>0.037361</td>\n",
       "      <td>b'FP0040-C'</td>\n",
       "    </tr>\n",
       "    <tr>\n",
       "      <th>25</th>\n",
       "      <td>0.022157</td>\n",
       "      <td>0.056391</td>\n",
       "      <td>b'FP0041-C'</td>\n",
       "    </tr>\n",
       "    <tr>\n",
       "      <th>26</th>\n",
       "      <td>0.022939</td>\n",
       "      <td>0.118478</td>\n",
       "      <td>b'FP0042-C'</td>\n",
       "    </tr>\n",
       "    <tr>\n",
       "      <th>27</th>\n",
       "      <td>0.014436</td>\n",
       "      <td>0.128307</td>\n",
       "      <td>b'FP0043-C'</td>\n",
       "    </tr>\n",
       "    <tr>\n",
       "      <th>28</th>\n",
       "      <td>0.042848</td>\n",
       "      <td>0.030366</td>\n",
       "      <td>b'FP0044-C'</td>\n",
       "    </tr>\n",
       "    <tr>\n",
       "      <th>29</th>\n",
       "      <td>0.042834</td>\n",
       "      <td>0.025550</td>\n",
       "      <td>b'FP0046-C'</td>\n",
       "    </tr>\n",
       "    <tr>\n",
       "      <th>...</th>\n",
       "      <td>...</td>\n",
       "      <td>...</td>\n",
       "      <td>...</td>\n",
       "    </tr>\n",
       "    <tr>\n",
       "      <th>7152</th>\n",
       "      <td>0.005976</td>\n",
       "      <td>0.068244</td>\n",
       "      <td>b'QV0081-C'</td>\n",
       "    </tr>\n",
       "    <tr>\n",
       "      <th>7153</th>\n",
       "      <td>0.014185</td>\n",
       "      <td>0.075309</td>\n",
       "      <td>b'QV0082-C'</td>\n",
       "    </tr>\n",
       "    <tr>\n",
       "      <th>7154</th>\n",
       "      <td>0.019476</td>\n",
       "      <td>0.069319</td>\n",
       "      <td>b'QV0083-C'</td>\n",
       "    </tr>\n",
       "    <tr>\n",
       "      <th>7155</th>\n",
       "      <td>0.008335</td>\n",
       "      <td>0.046506</td>\n",
       "      <td>b'QV0084-C'</td>\n",
       "    </tr>\n",
       "    <tr>\n",
       "      <th>7156</th>\n",
       "      <td>0.007218</td>\n",
       "      <td>0.050360</td>\n",
       "      <td>b'QV0085-C'</td>\n",
       "    </tr>\n",
       "    <tr>\n",
       "      <th>7157</th>\n",
       "      <td>0.056572</td>\n",
       "      <td>0.020370</td>\n",
       "      <td>b'QV0086-C'</td>\n",
       "    </tr>\n",
       "    <tr>\n",
       "      <th>7158</th>\n",
       "      <td>0.001759</td>\n",
       "      <td>0.422311</td>\n",
       "      <td>b'QV0087-C'</td>\n",
       "    </tr>\n",
       "    <tr>\n",
       "      <th>7159</th>\n",
       "      <td>0.028942</td>\n",
       "      <td>0.029766</td>\n",
       "      <td>b'QV0088-C'</td>\n",
       "    </tr>\n",
       "    <tr>\n",
       "      <th>7160</th>\n",
       "      <td>0.011072</td>\n",
       "      <td>0.035895</td>\n",
       "      <td>b'QV0089-C'</td>\n",
       "    </tr>\n",
       "    <tr>\n",
       "      <th>7161</th>\n",
       "      <td>0.012412</td>\n",
       "      <td>0.029543</td>\n",
       "      <td>b'QV0090-C'</td>\n",
       "    </tr>\n",
       "    <tr>\n",
       "      <th>7162</th>\n",
       "      <td>0.009815</td>\n",
       "      <td>0.029934</td>\n",
       "      <td>b'QV0091-C'</td>\n",
       "    </tr>\n",
       "    <tr>\n",
       "      <th>7163</th>\n",
       "      <td>0.008195</td>\n",
       "      <td>0.043030</td>\n",
       "      <td>b'QV0092-C'</td>\n",
       "    </tr>\n",
       "    <tr>\n",
       "      <th>7164</th>\n",
       "      <td>0.012775</td>\n",
       "      <td>0.039455</td>\n",
       "      <td>b'QV0093-C'</td>\n",
       "    </tr>\n",
       "    <tr>\n",
       "      <th>7165</th>\n",
       "      <td>0.008642</td>\n",
       "      <td>0.039358</td>\n",
       "      <td>b'QV0094-C'</td>\n",
       "    </tr>\n",
       "    <tr>\n",
       "      <th>7166</th>\n",
       "      <td>0.026695</td>\n",
       "      <td>0.025759</td>\n",
       "      <td>b'QV0095-C'</td>\n",
       "    </tr>\n",
       "    <tr>\n",
       "      <th>7167</th>\n",
       "      <td>0.009005</td>\n",
       "      <td>0.040070</td>\n",
       "      <td>b'QV0096-C'</td>\n",
       "    </tr>\n",
       "    <tr>\n",
       "      <th>7168</th>\n",
       "      <td>0.006311</td>\n",
       "      <td>0.047846</td>\n",
       "      <td>b'QV0097-C'</td>\n",
       "    </tr>\n",
       "    <tr>\n",
       "      <th>7169</th>\n",
       "      <td>0.008475</td>\n",
       "      <td>0.033494</td>\n",
       "      <td>b'QV0099-C'</td>\n",
       "    </tr>\n",
       "    <tr>\n",
       "      <th>7170</th>\n",
       "      <td>0.010024</td>\n",
       "      <td>0.020677</td>\n",
       "      <td>b'QV0100-C'</td>\n",
       "    </tr>\n",
       "    <tr>\n",
       "      <th>7171</th>\n",
       "      <td>0.016265</td>\n",
       "      <td>0.127958</td>\n",
       "      <td>b'QV0101-C'</td>\n",
       "    </tr>\n",
       "    <tr>\n",
       "      <th>7172</th>\n",
       "      <td>0.001773</td>\n",
       "      <td>0.208042</td>\n",
       "      <td>b'QV0102-C'</td>\n",
       "    </tr>\n",
       "    <tr>\n",
       "      <th>7173</th>\n",
       "      <td>0.006199</td>\n",
       "      <td>0.034918</td>\n",
       "      <td>b'QV0103-C'</td>\n",
       "    </tr>\n",
       "    <tr>\n",
       "      <th>7174</th>\n",
       "      <td>0.007469</td>\n",
       "      <td>0.064154</td>\n",
       "      <td>b'QV0104-C'</td>\n",
       "    </tr>\n",
       "    <tr>\n",
       "      <th>7175</th>\n",
       "      <td>0.008405</td>\n",
       "      <td>0.038255</td>\n",
       "      <td>b'QV0105-C'</td>\n",
       "    </tr>\n",
       "    <tr>\n",
       "      <th>7176</th>\n",
       "      <td>0.008503</td>\n",
       "      <td>0.022073</td>\n",
       "      <td>b'QV0106-C'</td>\n",
       "    </tr>\n",
       "    <tr>\n",
       "      <th>7177</th>\n",
       "      <td>0.004831</td>\n",
       "      <td>0.156091</td>\n",
       "      <td>b'QV0107-C'</td>\n",
       "    </tr>\n",
       "    <tr>\n",
       "      <th>7178</th>\n",
       "      <td>0.007693</td>\n",
       "      <td>0.030283</td>\n",
       "      <td>b'QV0108-C'</td>\n",
       "    </tr>\n",
       "    <tr>\n",
       "      <th>7179</th>\n",
       "      <td>0.006925</td>\n",
       "      <td>0.036663</td>\n",
       "      <td>b'QV0109-C'</td>\n",
       "    </tr>\n",
       "    <tr>\n",
       "      <th>7180</th>\n",
       "      <td>0.008084</td>\n",
       "      <td>0.029361</td>\n",
       "      <td>b'QV0110-C'</td>\n",
       "    </tr>\n",
       "    <tr>\n",
       "      <th>7181</th>\n",
       "      <td>0.007525</td>\n",
       "      <td>0.041829</td>\n",
       "      <td>b'QV0112-C'</td>\n",
       "    </tr>\n",
       "  </tbody>\n",
       "</table>\n",
       "<p>7182 rows × 3 columns</p>\n",
       "</div>"
      ],
      "text/plain": [
       "      Proportion heterozygous  Proportion missing       Sample\n",
       "0                    0.018750            0.075449  b'FP0008-C'\n",
       "1                    0.009661            0.035728  b'FP0009-C'\n",
       "2                    0.011560            0.044328  b'FP0015-C'\n",
       "3                    0.005361            0.173110  b'FP0016-C'\n",
       "4                    0.006339            0.040628  b'FP0017-C'\n",
       "5                    0.008670            0.037962  b'FP0018-C'\n",
       "6                    0.006269            0.065103  b'FP0020-C'\n",
       "7                    0.006771            0.030394  b'FP0021-C'\n",
       "8                    0.006478            0.039455  b'FP0022-C'\n",
       "9                    0.007274            0.070017  b'FP0023-C'\n",
       "10                   0.004942            0.096782  b'FP0024-C'\n",
       "11                   0.031972            0.065606  b'FP0025-C'\n",
       "12                   0.000140            0.666429  b'FP0026-C'\n",
       "13                   0.001410            0.637305  b'FP0027-C'\n",
       "14                   0.010960            0.026764  b'FP0028-C'\n",
       "15                   0.005529            0.036761  b'FP0029-C'\n",
       "16                   0.007707            0.034541  b'FP0030-C'\n",
       "17                   0.006925            0.083030  b'FP0031-C'\n",
       "18                   0.007818            0.048140  b'FP0032-C'\n",
       "19                   0.005962            0.061724  b'FP0033-C'\n",
       "20                   0.018569            0.109361  b'FP0034-C'\n",
       "21                   0.006059            0.050457  b'FP0035-C'\n",
       "22                   0.009033            0.040112  b'FP0038-C'\n",
       "23                   0.038478            0.027644  b'FP0039-C'\n",
       "24                   0.026876            0.037361  b'FP0040-C'\n",
       "25                   0.022157            0.056391  b'FP0041-C'\n",
       "26                   0.022939            0.118478  b'FP0042-C'\n",
       "27                   0.014436            0.128307  b'FP0043-C'\n",
       "28                   0.042848            0.030366  b'FP0044-C'\n",
       "29                   0.042834            0.025550  b'FP0046-C'\n",
       "...                       ...                 ...          ...\n",
       "7152                 0.005976            0.068244  b'QV0081-C'\n",
       "7153                 0.014185            0.075309  b'QV0082-C'\n",
       "7154                 0.019476            0.069319  b'QV0083-C'\n",
       "7155                 0.008335            0.046506  b'QV0084-C'\n",
       "7156                 0.007218            0.050360  b'QV0085-C'\n",
       "7157                 0.056572            0.020370  b'QV0086-C'\n",
       "7158                 0.001759            0.422311  b'QV0087-C'\n",
       "7159                 0.028942            0.029766  b'QV0088-C'\n",
       "7160                 0.011072            0.035895  b'QV0089-C'\n",
       "7161                 0.012412            0.029543  b'QV0090-C'\n",
       "7162                 0.009815            0.029934  b'QV0091-C'\n",
       "7163                 0.008195            0.043030  b'QV0092-C'\n",
       "7164                 0.012775            0.039455  b'QV0093-C'\n",
       "7165                 0.008642            0.039358  b'QV0094-C'\n",
       "7166                 0.026695            0.025759  b'QV0095-C'\n",
       "7167                 0.009005            0.040070  b'QV0096-C'\n",
       "7168                 0.006311            0.047846  b'QV0097-C'\n",
       "7169                 0.008475            0.033494  b'QV0099-C'\n",
       "7170                 0.010024            0.020677  b'QV0100-C'\n",
       "7171                 0.016265            0.127958  b'QV0101-C'\n",
       "7172                 0.001773            0.208042  b'QV0102-C'\n",
       "7173                 0.006199            0.034918  b'QV0103-C'\n",
       "7174                 0.007469            0.064154  b'QV0104-C'\n",
       "7175                 0.008405            0.038255  b'QV0105-C'\n",
       "7176                 0.008503            0.022073  b'QV0106-C'\n",
       "7177                 0.004831            0.156091  b'QV0107-C'\n",
       "7178                 0.007693            0.030283  b'QV0108-C'\n",
       "7179                 0.006925            0.036663  b'QV0109-C'\n",
       "7180                 0.008084            0.029361  b'QV0110-C'\n",
       "7181                 0.007525            0.041829  b'QV0112-C'\n",
       "\n",
       "[7182 rows x 3 columns]"
      ]
     },
     "execution_count": 41,
     "metadata": {},
     "output_type": "execute_result"
    }
   ],
   "source": [
    "df_sample_summary['Pf60']"
   ]
  },
  {
   "cell_type": "code",
   "execution_count": null,
   "metadata": {
    "collapsed": true
   },
   "outputs": [],
   "source": []
  }
 ],
 "metadata": {
  "kernelspec": {
   "display_name": "Python 3",
   "language": "python",
   "name": "python3"
  },
  "language_info": {
   "codemirror_mode": {
    "name": "ipython",
    "version": 3
   },
   "file_extension": ".py",
   "mimetype": "text/x-python",
   "name": "python",
   "nbconvert_exporter": "python",
   "pygments_lexer": "ipython3",
   "version": "3.5.2"
  }
 },
 "nbformat": 4,
 "nbformat_minor": 1
}
