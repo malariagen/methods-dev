{
 "cells": [
  {
   "cell_type": "markdown",
   "metadata": {},
   "source": [
    "# Introduction\n",
    "The purpose of this notebook is to compare the results of running Olivo's speceis tools between 5.1 and 6.1 releases, and against results from Magnus's speciator code.\n",
    "\n",
    "See 20161117_run_Olivo_GRC.ipynb for details of running Olivo's GRC code on the Pf6.0 release."
   ]
  },
  {
   "cell_type": "code",
   "execution_count": 1,
   "metadata": {
    "collapsed": false
   },
   "outputs": [
    {
     "name": "stdout",
     "output_type": "stream",
     "text": [
      "python 3.4.5 |Anaconda 2.2.0 (64-bit)| (default, Jul  2 2016, 17:47:47) \n",
      "[GCC 4.4.7 20120313 (Red Hat 4.4.7-1)]\n",
      "numpy 1.11.1\n",
      "scipy 0.18.0\n",
      "pandas 0.19.0\n",
      "numexpr 2.6.1\n",
      "pysam 0.9.1.4\n",
      "petl 1.1.0\n",
      "petlx 1.0.3\n",
      "vcf 0.6.8\n",
      "vcfnp 2.3.0.dev0\n",
      "h5py 2.4.0\n",
      "tables 3.1.1\n"
     ]
    }
   ],
   "source": [
    "%run _standard_imports.ipynb\n",
    "%run _plotting_setup.ipynb\n"
   ]
  },
  {
   "cell_type": "code",
   "execution_count": 2,
   "metadata": {
    "collapsed": false
   },
   "outputs": [],
   "source": [
    "output_dir = \"/nfs/team112_internal/rp7/data/methods-dev/builds/Pf6.0/20161118_compare_species_results_Pf6\"\n",
    "!mkdir -p {output_dir}\n",
    "olivo_7979_results_fn = \"/nfs/team112_internal/rp7/data/methods-dev/builds/Pf6.0/20161118_compare_7979_vs_Pf6_GRC/samplesMeta5x-V1.0.xlsx\"\n",
    "# reads_6_0_results_fn = \"/lustre/scratch109/malaria/rp7/data/methods-dev/builds/Pf6.0/20161117_run_Olivo_GRC/grc/AllCallsBySample.tab\"\n",
    "# vcf_6_0_results_fn = \"/nfs/team112_internal/rp7/data/methods-dev/builds/Pf6.0/20161115_GRC_from_VCF/Pf_6_GRC_from_vcf.xlsx\"\n",
    "\n",
    "all_calls_crosstab_fn = \"%s/all_calls_crosstab.xlsx\" % output_dir\n",
    "discordant_calls_crosstab_fn = \"%s/discordant_calls_crosstab.xlsx\" % output_dir\n",
    "discordant_nonmissing_calls_crosstab_fn = \"%s/discordant_nonmissing_calls_crosstab.xlsx\" % output_dir\n",
    "\n",
    "speciator_pv_unique_coverage_fn = \"/nfs/team112_internal/rp7/data/pv/analysis/20161003_pv_3_0_sample_metadata/pv_unique_coverage.txt\"\n",
    "reads_6_0_species_results_fn = \"/lustre/scratch109/malaria/rp7/data/methods-dev/builds/Pf6.0/20161117_run_Olivo_GRC/species/AllSamples-AllTargets.classes.tab\""
   ]
  },
  {
   "cell_type": "code",
   "execution_count": 3,
   "metadata": {
    "collapsed": true
   },
   "outputs": [],
   "source": [
    "sample_swaps_51_60 = [\n",
    "    'PP0011-C', 'PP0010-C', 'PC0003-0', 'PH0027-C', 'PH0027-C', 'PG0313-C', 'PG0305-C', 'PG0304-C', 'PG0282-C',\n",
    "    'PG0309-C', 'PG0334-C', 'PG0306-C', 'PG0332-C', 'PG0311-C', 'PG0330-C', 'PG0310-C', 'PG0312-C', 'PG0335-C',\n",
    "    'PG0280-C', 'PG0281-C', 'PG0308-C', 'PP0010-C', 'PP0011-C', 'PC0003-0', 'PH0027-C', 'PH0027-C', 'PG0335-C',\n",
    "    'PG0308-C', 'PG0332-C', 'PG0330-C', 'PG0311-C', 'PG0305-C', 'PG0309-C', 'PG0304-C', 'PG0313-C', 'PG0280-C',\n",
    "    'PG0312-C', 'PG0334-C', 'PG0306-C', 'PG0281-C', 'PG0282-C', 'PG0310-C'\n",
    "]"
   ]
  },
  {
   "cell_type": "code",
   "execution_count": 4,
   "metadata": {
    "collapsed": false
   },
   "outputs": [
    {
     "name": "stdout",
     "output_type": "stream",
     "text": [
      "7979\n"
     ]
    },
    {
     "data": {
      "text/html": [
       "<table class='petl'>\n",
       "<thead>\n",
       "<tr>\n",
       "<th>Num</th>\n",
       "<th>Sample</th>\n",
       "<th>OxfordSrcCode</th>\n",
       "<th>OxfordDonorCode</th>\n",
       "<th>AlfrescoStudyCode</th>\n",
       "<th>Study</th>\n",
       "<th>Type</th>\n",
       "<th>NotAmplified</th>\n",
       "<th>InV5</th>\n",
       "<th>InV4</th>\n",
       "<th>SubContinentCode</th>\n",
       "<th>SubContinentName</th>\n",
       "<th>RegionCode</th>\n",
       "<th>CountryCode</th>\n",
       "<th>CountryName</th>\n",
       "<th>Location</th>\n",
       "<th>Year</th>\n",
       "<th>Date</th>\n",
       "<th>HasDuplicate</th>\n",
       "<th>DiscardAsDuplicate</th>\n",
       "<th>ManuallyExcluded</th>\n",
       "<th>Usable</th>\n",
       "<th>Typability-100kSnps</th>\n",
       "<th>Typable75</th>\n",
       "<th>Typable80</th>\n",
       "<th>Typable95</th>\n",
       "<th>MedianCoverage-100kSnps</th>\n",
       "<th>MeanCoverage-100kSnps</th>\n",
       "<th>Stdev-100kSnps</th>\n",
       "<th>CoefVarCoverage-100kSnps</th>\n",
       "<th>Bases5Xcoverage</th>\n",
       "<th>MeanReadCoverage</th>\n",
       "<th>Sequencing reads</th>\n",
       "<th>BamFile</th>\n",
       "<th>Species</th>\n",
       "<th>Fws</th>\n",
       "<th>Clonal</th>\n",
       "<th>ArtHalfLife</th>\n",
       "<th>crt_72-76[CVMNK]</th>\n",
       "<th>crt_24[D]</th>\n",
       "<th>crt_97[H]</th>\n",
       "<th>crt_144[A]</th>\n",
       "<th>crt_148[L]</th>\n",
       "<th>crt_194[I]</th>\n",
       "<th>crt_220[A]</th>\n",
       "<th>crt_271[Q]</th>\n",
       "<th>crt_326[N]</th>\n",
       "<th>crt_333[T]</th>\n",
       "<th>crt_342[T]</th>\n",
       "<th>crt_356[I]</th>\n",
       "<th>crt_371[R]</th>\n",
       "<th>dhfr_51[N]</th>\n",
       "<th>dhfr_59[C]</th>\n",
       "<th>dhfr_108[S]</th>\n",
       "<th>dhfr_164[I]</th>\n",
       "<th>dhps_436[S]</th>\n",
       "<th>dhps_437[G]</th>\n",
       "<th>dhps_540[K]</th>\n",
       "<th>dhps_581[A]</th>\n",
       "<th>dhps_613[A]</th>\n",
       "<th>mdr1_86[N]</th>\n",
       "<th>mdr1_184[Y]</th>\n",
       "<th>mdr1_1246[D]</th>\n",
       "<th>arps10_127[V]</th>\n",
       "<th>mdr2_484[T]</th>\n",
       "<th>fd_193[D]</th>\n",
       "<th>exo_415[E]</th>\n",
       "<th>arps10-128[D]</th>\n",
       "<th>mdr1-CN-refgenecov</th>\n",
       "<th>mdr1-CN-covAnalysis</th>\n",
       "<th>mdr1-CN-HMM</th>\n",
       "<th>pm23-CN-HMM</th>\n",
       "<th>pm23-join-amplified</th>\n",
       "<th>K13Common</th>\n",
       "<th>K13CommonAllele</th>\n",
       "<th>WAF-PC1</th>\n",
       "<th>WAF-PC1-Class</th>\n",
       "<th>aat-S258L</th>\n",
       "</tr>\n",
       "</thead>\n",
       "<tbody>\n",
       "<tr>\n",
       "<td style='text-align: right'>214</td>\n",
       "<td>PA0236-C</td>\n",
       "<td>ZUC006</td>\n",
       "<td>ZUC006</td>\n",
       "<td>1026-PF-GN-CONWAY</td>\n",
       "<td>PF26</td>\n",
       "<td>dna</td>\n",
       "<td>True</td>\n",
       "<td>True</td>\n",
       "<td>True</td>\n",
       "<td>WAF</td>\n",
       "<td>West Africa</td>\n",
       "<td>GN</td>\n",
       "<td>GN</td>\n",
       "<td>Guinea</td>\n",
       "<td>Nzerekore</td>\n",
       "<td>-</td>\n",
       "<td>-</td>\n",
       "<td>False</td>\n",
       "<td>False</td>\n",
       "<td>False</td>\n",
       "<td>=IF(T2,\"Duplicate\",IF(NOT(X2),\"Lt75PcCoverage\",IF(N2=\"Lab\",\"Lab\",IF(U2<>FALSE,\"ManuallyExcluded\",TRUE))))</td>\n",
       "<td style='text-align: right'>0</td>\n",
       "<td>False</td>\n",
       "<td>False</td>\n",
       "<td>False</td>\n",
       "<td style='text-align: right'>1</td>\n",
       "<td style='text-align: right'>0.986779</td>\n",
       "<td style='text-align: right'>0.216146</td>\n",
       "<td style='text-align: right'>0.219041953669464</td>\n",
       "<td style='text-align: right'>32</td>\n",
       "<td style='text-align: right'>1.04</td>\n",
       "<td>ERS042064</td>\n",
       "<td>/lustre/scratch109/malaria/pfalciparum/output/c/5/a/5/42934/1_bam_merge/pe.1.bam</td>\n",
       "<td>-</td>\n",
       "<td>-</td>\n",
       "<td>True</td>\n",
       "<td>-</td>\n",
       "<td>-</td>\n",
       "<td>-</td>\n",
       "<td>-</td>\n",
       "<td>-</td>\n",
       "<td>-</td>\n",
       "<td>-</td>\n",
       "<td>-</td>\n",
       "<td>-</td>\n",
       "<td>-</td>\n",
       "<td>-</td>\n",
       "<td>-</td>\n",
       "<td>-</td>\n",
       "<td>-</td>\n",
       "<td>-</td>\n",
       "<td>-</td>\n",
       "<td>-</td>\n",
       "<td>-</td>\n",
       "<td>-</td>\n",
       "<td>-</td>\n",
       "<td>-</td>\n",
       "<td>-</td>\n",
       "<td>-</td>\n",
       "<td>-</td>\n",
       "<td>-</td>\n",
       "<td>-</td>\n",
       "<td>-</td>\n",
       "<td>-</td>\n",
       "<td>-</td>\n",
       "<td>-</td>\n",
       "<td>-</td>\n",
       "<td>-</td>\n",
       "<td>-</td>\n",
       "<td>-</td>\n",
       "<td>-</td>\n",
       "<td>-</td>\n",
       "<td>MI</td>\n",
       "<td>-</td>\n",
       "<td>-</td>\n",
       "<td>-</td>\n",
       "<td>-</td>\n",
       "</tr>\n",
       "<tr>\n",
       "<td style='text-align: right'>240</td>\n",
       "<td>PA0265-C</td>\n",
       "<td>ZRL199</td>\n",
       "<td>ZRL199</td>\n",
       "<td>1026-PF-GN-CONWAY</td>\n",
       "<td>PF26</td>\n",
       "<td>dna</td>\n",
       "<td>True</td>\n",
       "<td>True</td>\n",
       "<td>True</td>\n",
       "<td>WAF</td>\n",
       "<td>West Africa</td>\n",
       "<td>GN</td>\n",
       "<td>GN</td>\n",
       "<td>Guinea</td>\n",
       "<td>Nzerekore</td>\n",
       "<td>-</td>\n",
       "<td>-</td>\n",
       "<td>False</td>\n",
       "<td>False</td>\n",
       "<td>False</td>\n",
       "<td>=IF(T3,\"Duplicate\",IF(NOT(X3),\"Lt75PcCoverage\",IF(N3=\"Lab\",\"Lab\",IF(U3<>FALSE,\"ManuallyExcluded\",TRUE))))</td>\n",
       "<td style='text-align: right'>0</td>\n",
       "<td>False</td>\n",
       "<td>False</td>\n",
       "<td>False</td>\n",
       "<td style='text-align: right'>1</td>\n",
       "<td style='text-align: right'>1.000267</td>\n",
       "<td style='text-align: right'>0.196664</td>\n",
       "<td style='text-align: right'>0.19661150472823757</td>\n",
       "<td style='text-align: right'>172</td>\n",
       "<td style='text-align: right'>1.05</td>\n",
       "<td>ERS042008</td>\n",
       "<td>/lustre/scratch109/malaria/pfalciparum/output/2/2/a/1/42963/1_bam_merge/pe.1.bam</td>\n",
       "<td>-</td>\n",
       "<td>-</td>\n",
       "<td>True</td>\n",
       "<td>-</td>\n",
       "<td>-</td>\n",
       "<td>-</td>\n",
       "<td>-</td>\n",
       "<td>-</td>\n",
       "<td>-</td>\n",
       "<td>-</td>\n",
       "<td>-</td>\n",
       "<td>-</td>\n",
       "<td>-</td>\n",
       "<td>-</td>\n",
       "<td>-</td>\n",
       "<td>-</td>\n",
       "<td>-</td>\n",
       "<td>-</td>\n",
       "<td>-</td>\n",
       "<td>-</td>\n",
       "<td>-</td>\n",
       "<td>-</td>\n",
       "<td>-</td>\n",
       "<td>-</td>\n",
       "<td>-</td>\n",
       "<td>-</td>\n",
       "<td>-</td>\n",
       "<td>-</td>\n",
       "<td>-</td>\n",
       "<td>-</td>\n",
       "<td>-</td>\n",
       "<td>-</td>\n",
       "<td>-</td>\n",
       "<td>-</td>\n",
       "<td>-</td>\n",
       "<td>-</td>\n",
       "<td>-</td>\n",
       "<td>-</td>\n",
       "<td>-</td>\n",
       "<td>MI</td>\n",
       "<td>-</td>\n",
       "<td>-</td>\n",
       "<td>-</td>\n",
       "<td>-</td>\n",
       "</tr>\n",
       "<tr>\n",
       "<td style='text-align: right'>328</td>\n",
       "<td>PC0109-C</td>\n",
       "<td style='text-align: right'>119</td>\n",
       "<td style='text-align: right'>119</td>\n",
       "<td>1027-PF-KE-BULL</td>\n",
       "<td>PF27</td>\n",
       "<td>dna</td>\n",
       "<td>True</td>\n",
       "<td>True</td>\n",
       "<td>True</td>\n",
       "<td>EAF</td>\n",
       "<td>East Africa</td>\n",
       "<td>KE</td>\n",
       "<td>KE</td>\n",
       "<td>Kenya</td>\n",
       "<td>Kilifi</td>\n",
       "<td>-</td>\n",
       "<td>-</td>\n",
       "<td>False</td>\n",
       "<td>False</td>\n",
       "<td>False</td>\n",
       "<td>=IF(T4,\"Duplicate\",IF(NOT(X4),\"Lt75PcCoverage\",IF(N4=\"Lab\",\"Lab\",IF(U4<>FALSE,\"ManuallyExcluded\",TRUE))))</td>\n",
       "<td style='text-align: right'>0</td>\n",
       "<td>False</td>\n",
       "<td>False</td>\n",
       "<td>False</td>\n",
       "<td style='text-align: right'>1</td>\n",
       "<td style='text-align: right'>0.997015</td>\n",
       "<td style='text-align: right'>0.104629</td>\n",
       "<td style='text-align: right'>0.10494225262408288</td>\n",
       "<td style='text-align: right'>0</td>\n",
       "<td style='text-align: right'>1.02</td>\n",
       "<td>ERS132630</td>\n",
       "<td>/lustre/scratch109/malaria/pfalciparum/output/6/6/f/a/43040/1_bam_merge/pe.1.bam</td>\n",
       "<td>-</td>\n",
       "<td>-</td>\n",
       "<td>True</td>\n",
       "<td>-</td>\n",
       "<td>-</td>\n",
       "<td>-</td>\n",
       "<td>-</td>\n",
       "<td>-</td>\n",
       "<td>-</td>\n",
       "<td>-</td>\n",
       "<td>-</td>\n",
       "<td>-</td>\n",
       "<td>-</td>\n",
       "<td>-</td>\n",
       "<td>-</td>\n",
       "<td>-</td>\n",
       "<td>-</td>\n",
       "<td>-</td>\n",
       "<td>-</td>\n",
       "<td>-</td>\n",
       "<td>-</td>\n",
       "<td>-</td>\n",
       "<td>-</td>\n",
       "<td>-</td>\n",
       "<td>-</td>\n",
       "<td>-</td>\n",
       "<td>-</td>\n",
       "<td>-</td>\n",
       "<td>-</td>\n",
       "<td>-</td>\n",
       "<td>-</td>\n",
       "<td>-</td>\n",
       "<td>-</td>\n",
       "<td>-</td>\n",
       "<td>-</td>\n",
       "<td>-</td>\n",
       "<td>-</td>\n",
       "<td>-</td>\n",
       "<td>-</td>\n",
       "<td>MI</td>\n",
       "<td>-</td>\n",
       "<td>-</td>\n",
       "<td>-</td>\n",
       "<td>-</td>\n",
       "</tr>\n",
       "<tr>\n",
       "<td style='text-align: right'>339</td>\n",
       "<td>PC0141-C</td>\n",
       "<td>KC-150</td>\n",
       "<td>KC-150</td>\n",
       "<td>1111-PF-LAB3D7-BULL</td>\n",
       "<td>1111-PF-LAB3D7-BULL</td>\n",
       "<td>dna</td>\n",
       "<td>True</td>\n",
       "<td>True</td>\n",
       "<td>True</td>\n",
       "<td>EAF</td>\n",
       "<td>East Africa</td>\n",
       "<td>KE</td>\n",
       "<td>KE</td>\n",
       "<td>Kenya</td>\n",
       "<td>-</td>\n",
       "<td>-</td>\n",
       "<td>-</td>\n",
       "<td>False</td>\n",
       "<td>False</td>\n",
       "<td>False</td>\n",
       "<td>=IF(T5,\"Duplicate\",IF(NOT(X5),\"Lt75PcCoverage\",IF(N5=\"Lab\",\"Lab\",IF(U5<>FALSE,\"ManuallyExcluded\",TRUE))))</td>\n",
       "<td style='text-align: right'>0</td>\n",
       "<td>False</td>\n",
       "<td>False</td>\n",
       "<td>False</td>\n",
       "<td style='text-align: right'>1</td>\n",
       "<td style='text-align: right'>1.033254</td>\n",
       "<td style='text-align: right'>0.221906</td>\n",
       "<td style='text-align: right'>0.21476423028606714</td>\n",
       "<td>-</td>\n",
       "<td>-</td>\n",
       "<td>ERS384317</td>\n",
       "<td>/lustre/scratch109/malaria/pfalciparum/output/1/8/f/f/203086/1_bam_merge/pe.1.bam</td>\n",
       "<td>-</td>\n",
       "<td>-</td>\n",
       "<td>True</td>\n",
       "<td>-</td>\n",
       "<td>-</td>\n",
       "<td>-</td>\n",
       "<td>-</td>\n",
       "<td>-</td>\n",
       "<td>-</td>\n",
       "<td>-</td>\n",
       "<td>-</td>\n",
       "<td>-</td>\n",
       "<td>-</td>\n",
       "<td>-</td>\n",
       "<td>-</td>\n",
       "<td>-</td>\n",
       "<td>-</td>\n",
       "<td>-</td>\n",
       "<td>-</td>\n",
       "<td>-</td>\n",
       "<td>-</td>\n",
       "<td>-</td>\n",
       "<td>-</td>\n",
       "<td>-</td>\n",
       "<td>-</td>\n",
       "<td>-</td>\n",
       "<td>-</td>\n",
       "<td>-</td>\n",
       "<td>-</td>\n",
       "<td>-</td>\n",
       "<td>-</td>\n",
       "<td>-</td>\n",
       "<td>-</td>\n",
       "<td>-</td>\n",
       "<td>-</td>\n",
       "<td>-</td>\n",
       "<td>-</td>\n",
       "<td>-</td>\n",
       "<td>-</td>\n",
       "<td>MI</td>\n",
       "<td>-</td>\n",
       "<td>-</td>\n",
       "<td>-</td>\n",
       "<td>-</td>\n",
       "</tr>\n",
       "<tr>\n",
       "<td style='text-align: right'>347</td>\n",
       "<td>PC0149-C</td>\n",
       "<td>KC-127</td>\n",
       "<td>KC-127</td>\n",
       "<td>1111-PF-LAB3D7-BULL</td>\n",
       "<td>1111-PF-LAB3D7-BULL</td>\n",
       "<td>dna</td>\n",
       "<td>True</td>\n",
       "<td>True</td>\n",
       "<td>True</td>\n",
       "<td>EAF</td>\n",
       "<td>East Africa</td>\n",
       "<td>KE</td>\n",
       "<td>KE</td>\n",
       "<td>Kenya</td>\n",
       "<td>-</td>\n",
       "<td>-</td>\n",
       "<td>-</td>\n",
       "<td>False</td>\n",
       "<td>False</td>\n",
       "<td>False</td>\n",
       "<td>=IF(T6,\"Duplicate\",IF(NOT(X6),\"Lt75PcCoverage\",IF(N6=\"Lab\",\"Lab\",IF(U6<>FALSE,\"ManuallyExcluded\",TRUE))))</td>\n",
       "<td style='text-align: right'>0</td>\n",
       "<td>False</td>\n",
       "<td>False</td>\n",
       "<td>False</td>\n",
       "<td style='text-align: right'>1</td>\n",
       "<td style='text-align: right'>1.025199</td>\n",
       "<td style='text-align: right'>0.196882</td>\n",
       "<td style='text-align: right'>0.19204271560935976</td>\n",
       "<td>-</td>\n",
       "<td>-</td>\n",
       "<td>ERS384325</td>\n",
       "<td>/lustre/scratch109/malaria/pfalciparum/output/3/2/1/e/203094/1_bam_merge/pe.1.bam</td>\n",
       "<td>-</td>\n",
       "<td>-</td>\n",
       "<td>True</td>\n",
       "<td>-</td>\n",
       "<td>-</td>\n",
       "<td>-</td>\n",
       "<td>-</td>\n",
       "<td>-</td>\n",
       "<td>-</td>\n",
       "<td>-</td>\n",
       "<td>-</td>\n",
       "<td>-</td>\n",
       "<td>-</td>\n",
       "<td>-</td>\n",
       "<td>-</td>\n",
       "<td>-</td>\n",
       "<td>-</td>\n",
       "<td>-</td>\n",
       "<td>-</td>\n",
       "<td>-</td>\n",
       "<td>-</td>\n",
       "<td>-</td>\n",
       "<td>-</td>\n",
       "<td>-</td>\n",
       "<td>-</td>\n",
       "<td>-</td>\n",
       "<td>-</td>\n",
       "<td>-</td>\n",
       "<td>-</td>\n",
       "<td>-</td>\n",
       "<td>-</td>\n",
       "<td>-</td>\n",
       "<td>-</td>\n",
       "<td>-</td>\n",
       "<td>-</td>\n",
       "<td>-</td>\n",
       "<td>-</td>\n",
       "<td>-</td>\n",
       "<td>-</td>\n",
       "<td>MI</td>\n",
       "<td>-</td>\n",
       "<td>-</td>\n",
       "<td>-</td>\n",
       "<td>-</td>\n",
       "</tr>\n",
       "</tbody>\n",
       "</table>\n",
       "<p><strong>...</strong></p>"
      ],
      "text/plain": [
       "+-----+------------+---------------+-----------------+-----------------------+-----------------------+-------+--------------+------+------+------------------+------------------+------------+-------------+-------------+-------------+------+------+--------------+--------------------+------------------+-------------------------------------------------------------------------------------------------------------+---------------------+-----------+-----------+-----------+-------------------------+-----------------------+----------------+--------------------------+-----------------+------------------+------------------+-------------------------------------------------------------------------------------+---------+-----+--------+-------------+------------------+-----------+-----------+------------+------------+------------+------------+------------+------------+------------+------------+------------+------------+------------+------------+-------------+-------------+-------------+-------------+-------------+-------------+-------------+------------+-------------+--------------+---------------+-------------+-----------+------------+---------------+--------------------+---------------------+-------------+-------------+---------------------+-----------+-----------------+---------+---------------+-----------+\n",
       "| Num | Sample     | OxfordSrcCode | OxfordDonorCode | AlfrescoStudyCode     | Study                 | Type  | NotAmplified | InV5 | InV4 | SubContinentCode | SubContinentName | RegionCode | CountryCode | CountryName | Location    | Year | Date | HasDuplicate | DiscardAsDuplicate | ManuallyExcluded | Usable                                                                                                      | Typability-100kSnps | Typable75 | Typable80 | Typable95 | MedianCoverage-100kSnps | MeanCoverage-100kSnps | Stdev-100kSnps | CoefVarCoverage-100kSnps | Bases5Xcoverage | MeanReadCoverage | Sequencing reads | BamFile                                                                             | Species | Fws | Clonal | ArtHalfLife | crt_72-76[CVMNK] | crt_24[D] | crt_97[H] | crt_144[A] | crt_148[L] | crt_194[I] | crt_220[A] | crt_271[Q] | crt_326[N] | crt_333[T] | crt_342[T] | crt_356[I] | crt_371[R] | dhfr_51[N] | dhfr_59[C] | dhfr_108[S] | dhfr_164[I] | dhps_436[S] | dhps_437[G] | dhps_540[K] | dhps_581[A] | dhps_613[A] | mdr1_86[N] | mdr1_184[Y] | mdr1_1246[D] | arps10_127[V] | mdr2_484[T] | fd_193[D] | exo_415[E] | arps10-128[D] | mdr1-CN-refgenecov | mdr1-CN-covAnalysis | mdr1-CN-HMM | pm23-CN-HMM | pm23-join-amplified | K13Common | K13CommonAllele | WAF-PC1 | WAF-PC1-Class | aat-S258L |\n",
       "+=====+============+===============+=================+=======================+=======================+=======+==============+======+======+==================+==================+============+=============+=============+=============+======+======+==============+====================+==================+=============================================================================================================+=====================+===========+===========+===========+=========================+=======================+================+==========================+=================+==================+==================+=====================================================================================+=========+=====+========+=============+==================+===========+===========+============+============+============+============+============+============+============+============+============+============+============+============+=============+=============+=============+=============+=============+=============+=============+============+=============+==============+===============+=============+===========+============+===============+====================+=====================+=============+=============+=====================+===========+=================+=========+===============+===========+\n",
       "| 214 | 'PA0236-C' | 'ZUC006'      | 'ZUC006'        | '1026-PF-GN-CONWAY'   | 'PF26'                | 'dna' | True         | True | True | 'WAF'            | 'West Africa'    | 'GN'       | 'GN'        | 'Guinea'    | 'Nzerekore' | '-'  | '-'  | False        | False              | False            | '=IF(T2,\"Duplicate\",IF(NOT(X2),\"Lt75PcCoverage\",IF(N2=\"Lab\",\"Lab\",IF(U2<>FALSE,\"ManuallyExcluded\",TRUE))))' |                   0 | False     | False     | False     |                       1 |              0.986779 |       0.216146 |        0.219041953669464 |              32 |             1.04 | 'ERS042064'      | '/lustre/scratch109/malaria/pfalciparum/output/c/5/a/5/42934/1_bam_merge/pe.1.bam'  | '-'     | '-' | True   | '-'         | '-'              | '-'       | '-'       | '-'        | '-'        | '-'        | '-'        | '-'        | '-'        | '-'        | '-'        | '-'        | '-'        | '-'        | '-'        | '-'         | '-'         | '-'         | '-'         | '-'         | '-'         | '-'         | '-'        | '-'         | '-'          | '-'           | '-'         | '-'       | '-'        | '-'           | '-'                | '-'                 | '-'         | '-'         | '-'                 | 'MI'      | '-'             | '-'     | '-'           | '-'       |\n",
       "+-----+------------+---------------+-----------------+-----------------------+-----------------------+-------+--------------+------+------+------------------+------------------+------------+-------------+-------------+-------------+------+------+--------------+--------------------+------------------+-------------------------------------------------------------------------------------------------------------+---------------------+-----------+-----------+-----------+-------------------------+-----------------------+----------------+--------------------------+-----------------+------------------+------------------+-------------------------------------------------------------------------------------+---------+-----+--------+-------------+------------------+-----------+-----------+------------+------------+------------+------------+------------+------------+------------+------------+------------+------------+------------+------------+-------------+-------------+-------------+-------------+-------------+-------------+-------------+------------+-------------+--------------+---------------+-------------+-----------+------------+---------------+--------------------+---------------------+-------------+-------------+---------------------+-----------+-----------------+---------+---------------+-----------+\n",
       "| 240 | 'PA0265-C' | 'ZRL199'      | 'ZRL199'        | '1026-PF-GN-CONWAY'   | 'PF26'                | 'dna' | True         | True | True | 'WAF'            | 'West Africa'    | 'GN'       | 'GN'        | 'Guinea'    | 'Nzerekore' | '-'  | '-'  | False        | False              | False            | '=IF(T3,\"Duplicate\",IF(NOT(X3),\"Lt75PcCoverage\",IF(N3=\"Lab\",\"Lab\",IF(U3<>FALSE,\"ManuallyExcluded\",TRUE))))' |                   0 | False     | False     | False     |                       1 |              1.000267 |       0.196664 |      0.19661150472823757 |             172 |             1.05 | 'ERS042008'      | '/lustre/scratch109/malaria/pfalciparum/output/2/2/a/1/42963/1_bam_merge/pe.1.bam'  | '-'     | '-' | True   | '-'         | '-'              | '-'       | '-'       | '-'        | '-'        | '-'        | '-'        | '-'        | '-'        | '-'        | '-'        | '-'        | '-'        | '-'        | '-'        | '-'         | '-'         | '-'         | '-'         | '-'         | '-'         | '-'         | '-'        | '-'         | '-'          | '-'           | '-'         | '-'       | '-'        | '-'           | '-'                | '-'                 | '-'         | '-'         | '-'                 | 'MI'      | '-'             | '-'     | '-'           | '-'       |\n",
       "+-----+------------+---------------+-----------------+-----------------------+-----------------------+-------+--------------+------+------+------------------+------------------+------------+-------------+-------------+-------------+------+------+--------------+--------------------+------------------+-------------------------------------------------------------------------------------------------------------+---------------------+-----------+-----------+-----------+-------------------------+-----------------------+----------------+--------------------------+-----------------+------------------+------------------+-------------------------------------------------------------------------------------+---------+-----+--------+-------------+------------------+-----------+-----------+------------+------------+------------+------------+------------+------------+------------+------------+------------+------------+------------+------------+-------------+-------------+-------------+-------------+-------------+-------------+-------------+------------+-------------+--------------+---------------+-------------+-----------+------------+---------------+--------------------+---------------------+-------------+-------------+---------------------+-----------+-----------------+---------+---------------+-----------+\n",
       "| 328 | 'PC0109-C' |           119 |             119 | '1027-PF-KE-BULL'     | 'PF27'                | 'dna' | True         | True | True | 'EAF'            | 'East Africa'    | 'KE'       | 'KE'        | 'Kenya'     | 'Kilifi'    | '-'  | '-'  | False        | False              | False            | '=IF(T4,\"Duplicate\",IF(NOT(X4),\"Lt75PcCoverage\",IF(N4=\"Lab\",\"Lab\",IF(U4<>FALSE,\"ManuallyExcluded\",TRUE))))' |                   0 | False     | False     | False     |                       1 |              0.997015 |       0.104629 |      0.10494225262408288 |               0 |             1.02 | 'ERS132630'      | '/lustre/scratch109/malaria/pfalciparum/output/6/6/f/a/43040/1_bam_merge/pe.1.bam'  | '-'     | '-' | True   | '-'         | '-'              | '-'       | '-'       | '-'        | '-'        | '-'        | '-'        | '-'        | '-'        | '-'        | '-'        | '-'        | '-'        | '-'        | '-'        | '-'         | '-'         | '-'         | '-'         | '-'         | '-'         | '-'         | '-'        | '-'         | '-'          | '-'           | '-'         | '-'       | '-'        | '-'           | '-'                | '-'                 | '-'         | '-'         | '-'                 | 'MI'      | '-'             | '-'     | '-'           | '-'       |\n",
       "+-----+------------+---------------+-----------------+-----------------------+-----------------------+-------+--------------+------+------+------------------+------------------+------------+-------------+-------------+-------------+------+------+--------------+--------------------+------------------+-------------------------------------------------------------------------------------------------------------+---------------------+-----------+-----------+-----------+-------------------------+-----------------------+----------------+--------------------------+-----------------+------------------+------------------+-------------------------------------------------------------------------------------+---------+-----+--------+-------------+------------------+-----------+-----------+------------+------------+------------+------------+------------+------------+------------+------------+------------+------------+------------+------------+-------------+-------------+-------------+-------------+-------------+-------------+-------------+------------+-------------+--------------+---------------+-------------+-----------+------------+---------------+--------------------+---------------------+-------------+-------------+---------------------+-----------+-----------------+---------+---------------+-----------+\n",
       "| 339 | 'PC0141-C' | 'KC-150'      | 'KC-150'        | '1111-PF-LAB3D7-BULL' | '1111-PF-LAB3D7-BULL' | 'dna' | True         | True | True | 'EAF'            | 'East Africa'    | 'KE'       | 'KE'        | 'Kenya'     | '-'         | '-'  | '-'  | False        | False              | False            | '=IF(T5,\"Duplicate\",IF(NOT(X5),\"Lt75PcCoverage\",IF(N5=\"Lab\",\"Lab\",IF(U5<>FALSE,\"ManuallyExcluded\",TRUE))))' |                   0 | False     | False     | False     |                       1 |              1.033254 |       0.221906 |      0.21476423028606714 | '-'             | '-'              | 'ERS384317'      | '/lustre/scratch109/malaria/pfalciparum/output/1/8/f/f/203086/1_bam_merge/pe.1.bam' | '-'     | '-' | True   | '-'         | '-'              | '-'       | '-'       | '-'        | '-'        | '-'        | '-'        | '-'        | '-'        | '-'        | '-'        | '-'        | '-'        | '-'        | '-'        | '-'         | '-'         | '-'         | '-'         | '-'         | '-'         | '-'         | '-'        | '-'         | '-'          | '-'           | '-'         | '-'       | '-'        | '-'           | '-'                | '-'                 | '-'         | '-'         | '-'                 | 'MI'      | '-'             | '-'     | '-'           | '-'       |\n",
       "+-----+------------+---------------+-----------------+-----------------------+-----------------------+-------+--------------+------+------+------------------+------------------+------------+-------------+-------------+-------------+------+------+--------------+--------------------+------------------+-------------------------------------------------------------------------------------------------------------+---------------------+-----------+-----------+-----------+-------------------------+-----------------------+----------------+--------------------------+-----------------+------------------+------------------+-------------------------------------------------------------------------------------+---------+-----+--------+-------------+------------------+-----------+-----------+------------+------------+------------+------------+------------+------------+------------+------------+------------+------------+------------+------------+-------------+-------------+-------------+-------------+-------------+-------------+-------------+------------+-------------+--------------+---------------+-------------+-----------+------------+---------------+--------------------+---------------------+-------------+-------------+---------------------+-----------+-----------------+---------+---------------+-----------+\n",
       "| 347 | 'PC0149-C' | 'KC-127'      | 'KC-127'        | '1111-PF-LAB3D7-BULL' | '1111-PF-LAB3D7-BULL' | 'dna' | True         | True | True | 'EAF'            | 'East Africa'    | 'KE'       | 'KE'        | 'Kenya'     | '-'         | '-'  | '-'  | False        | False              | False            | '=IF(T6,\"Duplicate\",IF(NOT(X6),\"Lt75PcCoverage\",IF(N6=\"Lab\",\"Lab\",IF(U6<>FALSE,\"ManuallyExcluded\",TRUE))))' |                   0 | False     | False     | False     |                       1 |              1.025199 |       0.196882 |      0.19204271560935976 | '-'             | '-'              | 'ERS384325'      | '/lustre/scratch109/malaria/pfalciparum/output/3/2/1/e/203094/1_bam_merge/pe.1.bam' | '-'     | '-' | True   | '-'         | '-'              | '-'       | '-'       | '-'        | '-'        | '-'        | '-'        | '-'        | '-'        | '-'        | '-'        | '-'        | '-'        | '-'        | '-'        | '-'         | '-'         | '-'         | '-'         | '-'         | '-'         | '-'         | '-'        | '-'         | '-'          | '-'           | '-'         | '-'       | '-'        | '-'           | '-'                | '-'                 | '-'         | '-'         | '-'                 | 'MI'      | '-'             | '-'     | '-'           | '-'       |\n",
       "+-----+------------+---------------+-----------------+-----------------------+-----------------------+-------+--------------+------+------+------------------+------------------+------------+-------------+-------------+-------------+------+------+--------------+--------------------+------------------+-------------------------------------------------------------------------------------------------------------+---------------------+-----------+-----------+-----------+-------------------------+-----------------------+----------------+--------------------------+-----------------+------------------+------------------+-------------------------------------------------------------------------------------+---------+-----+--------+-------------+------------------+-----------+-----------+------------+------------+------------+------------+------------+------------+------------+------------+------------+------------+------------+------------+-------------+-------------+-------------+-------------+-------------+-------------+-------------+------------+-------------+--------------+---------------+-------------+-----------+------------+---------------+--------------------+---------------------+-------------+-------------+---------------------+-----------+-----------------+---------+---------------+-----------+\n",
       "..."
      ]
     },
     "execution_count": 4,
     "metadata": {},
     "output_type": "execute_result"
    }
   ],
   "source": [
    "tbl_5_1_species = (\n",
    "    etl\n",
    "    .fromxlsx(olivo_7979_results_fn)\n",
    ")\n",
    "print(len(tbl_5_1_species.data()))\n",
    "tbl_5_1_species"
   ]
  },
  {
   "cell_type": "code",
   "execution_count": 5,
   "metadata": {
    "collapsed": false
   },
   "outputs": [
    {
     "name": "stdout",
     "output_type": "stream",
     "text": [
      "8251\n"
     ]
    },
    {
     "data": {
      "text/html": [
       "<table class='petl'>\n",
       "<thead>\n",
       "<tr>\n",
       "<th>Num</th>\n",
       "<th>Sample</th>\n",
       "<th>SampleClass</th>\n",
       "<th>Consensus</th>\n",
       "<th>mito1_species1</th>\n",
       "<th>mito2_species2</th>\n",
       "<th>mito3_species3</th>\n",
       "<th>mito4_species4</th>\n",
       "<th>mito5_species5</th>\n",
       "<th>mito6_species6</th>\n",
       "</tr>\n",
       "</thead>\n",
       "<tbody>\n",
       "<tr>\n",
       "<td style='text-align: right'>1</td>\n",
       "<td>PA0867-CW</td>\n",
       "<td>-</td>\n",
       "<td>Y</td>\n",
       "<td>-</td>\n",
       "<td>-</td>\n",
       "<td>-</td>\n",
       "<td>-</td>\n",
       "<td>-</td>\n",
       "<td>-</td>\n",
       "</tr>\n",
       "<tr>\n",
       "<td style='text-align: right'>2</td>\n",
       "<td>PG0035-Cx</td>\n",
       "<td>Pf</td>\n",
       "<td>Y</td>\n",
       "<td>Pf</td>\n",
       "<td>Pf</td>\n",
       "<td>Pf</td>\n",
       "<td>Pf</td>\n",
       "<td>Pf</td>\n",
       "<td>Pf</td>\n",
       "</tr>\n",
       "<tr>\n",
       "<td style='text-align: right'>3</td>\n",
       "<td>PF0252-C</td>\n",
       "<td>Pf</td>\n",
       "<td>Y</td>\n",
       "<td>Pf</td>\n",
       "<td>Pf</td>\n",
       "<td>Pf</td>\n",
       "<td>Pf</td>\n",
       "<td>Pf</td>\n",
       "<td>Pf</td>\n",
       "</tr>\n",
       "<tr>\n",
       "<td style='text-align: right'>4</td>\n",
       "<td>PG0528-C</td>\n",
       "<td>Pf</td>\n",
       "<td>Y</td>\n",
       "<td>Pf</td>\n",
       "<td>Pf</td>\n",
       "<td>Pf</td>\n",
       "<td>Pf</td>\n",
       "<td>Pf</td>\n",
       "<td>Pf</td>\n",
       "</tr>\n",
       "<tr>\n",
       "<td style='text-align: right'>5</td>\n",
       "<td>PM0603-C</td>\n",
       "<td>Pf</td>\n",
       "<td>Y</td>\n",
       "<td>Pf</td>\n",
       "<td>Pf</td>\n",
       "<td>Pf</td>\n",
       "<td>Pf</td>\n",
       "<td>Pf</td>\n",
       "<td>Pf</td>\n",
       "</tr>\n",
       "</tbody>\n",
       "</table>\n",
       "<p><strong>...</strong></p>"
      ],
      "text/plain": [
       "+-----+-------------+-------------+-----------+----------------+----------------+----------------+----------------+----------------+----------------+\n",
       "| Num | Sample      | SampleClass | Consensus | mito1_species1 | mito2_species2 | mito3_species3 | mito4_species4 | mito5_species5 | mito6_species6 |\n",
       "+=====+=============+=============+===========+================+================+================+================+================+================+\n",
       "|   1 | 'PA0867-CW' | '-'         | 'Y'       | '-'            | '-'            | '-'            | '-'            | '-'            | '-'            |\n",
       "+-----+-------------+-------------+-----------+----------------+----------------+----------------+----------------+----------------+----------------+\n",
       "|   2 | 'PG0035-Cx' | 'Pf'        | 'Y'       | 'Pf'           | 'Pf'           | 'Pf'           | 'Pf'           | 'Pf'           | 'Pf'           |\n",
       "+-----+-------------+-------------+-----------+----------------+----------------+----------------+----------------+----------------+----------------+\n",
       "|   3 | 'PF0252-C'  | 'Pf'        | 'Y'       | 'Pf'           | 'Pf'           | 'Pf'           | 'Pf'           | 'Pf'           | 'Pf'           |\n",
       "+-----+-------------+-------------+-----------+----------------+----------------+----------------+----------------+----------------+----------------+\n",
       "|   4 | 'PG0528-C'  | 'Pf'        | 'Y'       | 'Pf'           | 'Pf'           | 'Pf'           | 'Pf'           | 'Pf'           | 'Pf'           |\n",
       "+-----+-------------+-------------+-----------+----------------+----------------+----------------+----------------+----------------+----------------+\n",
       "|   5 | 'PM0603-C'  | 'Pf'        | 'Y'       | 'Pf'           | 'Pf'           | 'Pf'           | 'Pf'           | 'Pf'           | 'Pf'           |\n",
       "+-----+-------------+-------------+-----------+----------------+----------------+----------------+----------------+----------------+----------------+\n",
       "..."
      ]
     },
     "execution_count": 5,
     "metadata": {},
     "output_type": "execute_result"
    }
   ],
   "source": [
    "tbl_6_0_species = (\n",
    "    etl\n",
    "    .fromtsv(reads_6_0_species_results_fn)\n",
    "    .convertnumbers()\n",
    ")\n",
    "print(len(tbl_6_0_species.data()))\n",
    "tbl_6_0_species"
   ]
  },
  {
   "cell_type": "code",
   "execution_count": 66,
   "metadata": {
    "collapsed": false
   },
   "outputs": [
    {
     "name": "stdout",
     "output_type": "stream",
     "text": [
      "8275\n"
     ]
    },
    {
     "data": {
      "text/html": [
       "<table class='petl'>\n",
       "<thead>\n",
       "<tr>\n",
       "<th>ox_code</th>\n",
       "<th>count</th>\n",
       "<th>sum</th>\n",
       "<th>pv_unique_coverage</th>\n",
       "</tr>\n",
       "</thead>\n",
       "<tbody>\n",
       "<tr>\n",
       "<td>FP0008-C</td>\n",
       "<td style='text-align: right'>1</td>\n",
       "<td style='text-align: right'>0.002</td>\n",
       "<td style='text-align: right'>0.002</td>\n",
       "</tr>\n",
       "<tr>\n",
       "<td>FP0009-C</td>\n",
       "<td style='text-align: right'>1</td>\n",
       "<td style='text-align: right'>0.006</td>\n",
       "<td style='text-align: right'>0.006</td>\n",
       "</tr>\n",
       "<tr>\n",
       "<td>FP0015-C</td>\n",
       "<td style='text-align: right'>1</td>\n",
       "<td style='text-align: right'>0.007</td>\n",
       "<td style='text-align: right'>0.007</td>\n",
       "</tr>\n",
       "<tr>\n",
       "<td>FP0016-C</td>\n",
       "<td style='text-align: right'>1</td>\n",
       "<td style='text-align: right'>0.001</td>\n",
       "<td style='text-align: right'>0.001</td>\n",
       "</tr>\n",
       "<tr>\n",
       "<td>FP0017-C</td>\n",
       "<td style='text-align: right'>1</td>\n",
       "<td style='text-align: right'>0.009</td>\n",
       "<td style='text-align: right'>0.009</td>\n",
       "</tr>\n",
       "</tbody>\n",
       "</table>\n",
       "<p><strong>...</strong></p>"
      ],
      "text/plain": [
       "+------------+-------+-------+--------------------+\n",
       "| ox_code    | count | sum   | pv_unique_coverage |\n",
       "+============+=======+=======+====================+\n",
       "| 'FP0008-C' |     1 | 0.002 |              0.002 |\n",
       "+------------+-------+-------+--------------------+\n",
       "| 'FP0009-C' |     1 | 0.006 |              0.006 |\n",
       "+------------+-------+-------+--------------------+\n",
       "| 'FP0015-C' |     1 | 0.007 |              0.007 |\n",
       "+------------+-------+-------+--------------------+\n",
       "| 'FP0016-C' |     1 | 0.001 |              0.001 |\n",
       "+------------+-------+-------+--------------------+\n",
       "| 'FP0017-C' |     1 | 0.009 |              0.009 |\n",
       "+------------+-------+-------+--------------------+\n",
       "..."
      ]
     },
     "execution_count": 66,
     "metadata": {},
     "output_type": "execute_result"
    }
   ],
   "source": [
    "aggregation = collections.OrderedDict()\n",
    "aggregation['count'] = len\n",
    "aggregation['sum'] = 'pv_unique_coverage', sum\n",
    "\n",
    "tbl_speciator_pv_unique_coverage = (\n",
    "    etl\n",
    "    .fromtsv(speciator_pv_unique_coverage_fn)\n",
    "    .convertnumbers()\n",
    "    .aggregate('ox_code', aggregation)\n",
    "    .addfield('pv_unique_coverage', lambda rec: rec['sum'] / rec['count'])\n",
    ")\n",
    "print(len(tbl_speciator_pv_unique_coverage.data()))\n",
    "tbl_speciator_pv_unique_coverage"
   ]
  },
  {
   "cell_type": "code",
   "execution_count": 69,
   "metadata": {
    "collapsed": false
   },
   "outputs": [
    {
     "data": {
      "text/plain": [
       "1"
      ]
     },
     "execution_count": 69,
     "metadata": {},
     "output_type": "execute_result"
    }
   ],
   "source": [
    "len(tbl_speciator_pv_unique_coverage.duplicates('ox_code'))"
   ]
  },
  {
   "cell_type": "code",
   "execution_count": 7,
   "metadata": {
    "collapsed": false
   },
   "outputs": [
    {
     "name": "stdout",
     "output_type": "stream",
     "text": [
      "7821\n"
     ]
    },
    {
     "data": {
      "text/html": [
       "<table class='petl'>\n",
       "<thead>\n",
       "<tr>\n",
       "<th>Sample</th>\n",
       "<th>Species</th>\n",
       "<th>SampleClass</th>\n",
       "</tr>\n",
       "</thead>\n",
       "<tbody>\n",
       "<tr>\n",
       "<td>FP0008-C</td>\n",
       "<td>Pf</td>\n",
       "<td>Pf</td>\n",
       "</tr>\n",
       "<tr>\n",
       "<td>FP0009-C</td>\n",
       "<td>Pf</td>\n",
       "<td>Pf</td>\n",
       "</tr>\n",
       "<tr>\n",
       "<td>FP0015-C</td>\n",
       "<td>Pf</td>\n",
       "<td>Pf</td>\n",
       "</tr>\n",
       "<tr>\n",
       "<td>FP0016-C</td>\n",
       "<td>Pf</td>\n",
       "<td>Pf</td>\n",
       "</tr>\n",
       "<tr>\n",
       "<td>FP0017-C</td>\n",
       "<td>Pf</td>\n",
       "<td>Pf</td>\n",
       "</tr>\n",
       "</tbody>\n",
       "</table>\n",
       "<p><strong>...</strong></p>"
      ],
      "text/plain": [
       "+------------+---------+-------------+\n",
       "| Sample     | Species | SampleClass |\n",
       "+============+=========+=============+\n",
       "| 'FP0008-C' | 'Pf'    | 'Pf'        |\n",
       "+------------+---------+-------------+\n",
       "| 'FP0009-C' | 'Pf'    | 'Pf'        |\n",
       "+------------+---------+-------------+\n",
       "| 'FP0015-C' | 'Pf'    | 'Pf'        |\n",
       "+------------+---------+-------------+\n",
       "| 'FP0016-C' | 'Pf'    | 'Pf'        |\n",
       "+------------+---------+-------------+\n",
       "| 'FP0017-C' | 'Pf'    | 'Pf'        |\n",
       "+------------+---------+-------------+\n",
       "..."
      ]
     },
     "execution_count": 7,
     "metadata": {},
     "output_type": "execute_result"
    }
   ],
   "source": [
    "tbl_species_5_1_vs_6_0 = (\n",
    "    tbl_5_1_species\n",
    "    .join(tbl_6_0_species, key='Sample')\n",
    "    .cut(['Sample', 'Species', 'SampleClass'])\n",
    "    .selectnotin('Sample', sample_swaps_51_60)\n",
    ")\n",
    "print(len(tbl_species_5_1_vs_6_0.data()))\n",
    "tbl_species_5_1_vs_6_0"
   ]
  },
  {
   "cell_type": "code",
   "execution_count": 8,
   "metadata": {
    "collapsed": true
   },
   "outputs": [],
   "source": [
    "df_species_5_1_vs_6_0 = tbl_species_5_1_vs_6_0.todataframe()"
   ]
  },
  {
   "cell_type": "code",
   "execution_count": 9,
   "metadata": {
    "collapsed": true
   },
   "outputs": [],
   "source": [
    "writer = pd.ExcelWriter(all_calls_crosstab_fn)\n",
    "df_species_5_1_vs_6_0\n",
    "pd.crosstab(\n",
    "    df_species_5_1_vs_6_0.ix[:, 1],\n",
    "    df_species_5_1_vs_6_0.ix[:, 2],\n",
    "    margins=True\n",
    ").to_excel(writer, 'All')\n",
    "pd.crosstab(\n",
    "    df_species_5_1_vs_6_0.ix[:, 1][df_species_5_1_vs_6_0.ix[:, 1] != df_species_5_1_vs_6_0.ix[:, 2]],\n",
    "    df_species_5_1_vs_6_0.ix[:, 2][df_species_5_1_vs_6_0.ix[:, 1] != df_species_5_1_vs_6_0.ix[:, 2]],\n",
    "    margins=True\n",
    ").to_excel(writer, 'Discordant')\n",
    "pd.crosstab(\n",
    "    df_species_5_1_vs_6_0.ix[:, 1][\n",
    "        (df_species_5_1_vs_6_0.ix[:, 1] != df_species_5_1_vs_6_0.ix[:, 2]) &\n",
    "        (df_species_5_1_vs_6_0.ix[:, 1] != '-') &\n",
    "        (df_species_5_1_vs_6_0.ix[:, 2] != '-')\n",
    "    ],\n",
    "    df_species_5_1_vs_6_0.ix[:, 2][\n",
    "        (df_species_5_1_vs_6_0.ix[:, 1] != df_species_5_1_vs_6_0.ix[:, 2]) &\n",
    "        (df_species_5_1_vs_6_0.ix[:, 1] != '-') &\n",
    "        (df_species_5_1_vs_6_0.ix[:, 2] != '-')\n",
    "    ],\n",
    "    margins=True\n",
    ").to_excel(writer, 'Non_missing')\n",
    "writer.save()\n"
   ]
  },
  {
   "cell_type": "markdown",
   "metadata": {},
   "source": [
    "## Comparison of 5.1 and 6.0\n",
    "In general there was good agreement between the two. There were originally only 32 discordant calls, and 31 of these were either the difference between a non-consensus and non-call or between consensus and non-consensus. One sample (PV0025-C) was Pf,Pv in 5.1 but Pv only in 6.0. Speciator results suggest there probably is a low level of Pf in this sample.\n",
    "\n",
    "There were no cases where there was a consensus call in 6.0 but non-consensus or no-call in 5.1, but there were 4 cases where there was a consensus call in 5.1 but non-consensus or no-call in 6.0. Missingness was similar in each call set."
   ]
  },
  {
   "cell_type": "code",
   "execution_count": 10,
   "metadata": {
    "collapsed": false
   },
   "outputs": [
    {
     "data": {
      "text/html": [
       "<div>\n",
       "<table border=\"1\" class=\"dataframe\">\n",
       "  <thead>\n",
       "    <tr style=\"text-align: right;\">\n",
       "      <th></th>\n",
       "      <th>Sample</th>\n",
       "      <th>Species</th>\n",
       "      <th>SampleClass</th>\n",
       "    </tr>\n",
       "  </thead>\n",
       "  <tbody>\n",
       "    <tr>\n",
       "      <th>5946</th>\n",
       "      <td>PV0025-C</td>\n",
       "      <td>Pf,Pv</td>\n",
       "      <td>Pv</td>\n",
       "    </tr>\n",
       "  </tbody>\n",
       "</table>\n",
       "</div>"
      ],
      "text/plain": [
       "        Sample Species SampleClass\n",
       "5946  PV0025-C   Pf,Pv          Pv"
      ]
     },
     "execution_count": 10,
     "metadata": {},
     "output_type": "execute_result"
    }
   ],
   "source": [
    "df_species_5_1_vs_6_0[\n",
    "    (df_species_5_1_vs_6_0['Species'] == 'Pf,Pv') &\n",
    "    (df_species_5_1_vs_6_0['SampleClass'] == 'Pv')\n",
    "]"
   ]
  },
  {
   "cell_type": "code",
   "execution_count": 11,
   "metadata": {
    "collapsed": false
   },
   "outputs": [
    {
     "data": {
      "text/html": [
       "<table class='petl'>\n",
       "<thead>\n",
       "<tr>\n",
       "<th>ox_code</th>\n",
       "<th>pv_unique_coverage</th>\n",
       "</tr>\n",
       "</thead>\n",
       "<tbody>\n",
       "<tr>\n",
       "<td>PV0025-C</td>\n",
       "<td style='text-align: right'>46.692</td>\n",
       "</tr>\n",
       "</tbody>\n",
       "</table>\n"
      ],
      "text/plain": [
       "+------------+--------------------+\n",
       "| ox_code    | pv_unique_coverage |\n",
       "+============+====================+\n",
       "| 'PV0025-C' |             46.692 |\n",
       "+------------+--------------------+"
      ]
     },
     "execution_count": 11,
     "metadata": {},
     "output_type": "execute_result"
    }
   ],
   "source": [
    "tbl_speciator_pv_unique_coverage.selecteq('ox_code', 'PV0025-C')"
   ]
  },
  {
   "cell_type": "code",
   "execution_count": 12,
   "metadata": {
    "collapsed": false
   },
   "outputs": [
    {
     "name": "stdout",
     "output_type": "stream",
     "text": [
      "#Species\tRead matches\tRead matches %\tNominal coverage\tUnique read matches\tUnique read matches %\tNominal unique coverage\r\n",
      "Anopheles gambiae\t39751\t0.164%\t0.012\t3565\t0.015%\t0.001\r\n",
      "Human plus decoy\t887445\t3.656%\t0.025\t754376\t3.108%\t0.021\r\n",
      "Illumina adapters\t3143\t0.013%\t355.458\t3131\t0.013%\t354.101\r\n",
      "P_falciparum\t309193\t1.274%\t1.029\t98538\t0.406%\t0.328\r\n",
      "knowlesi\t383002\t1.578%\t1.290\t8046\t0.033%\t0.027\r\n",
      "supercontigs\t122871\t0.506%\t0.554\t1877\t0.008%\t0.008\r\n",
      "Preichenowi\t247736\t1.021%\t0.798\t5393\t0.022%\t0.017\r\n",
      "PvivaxGenomic PlasmoDB-6\t16818415\t69.294%\t47.870\t16403855\t67.585%\t46.692\r\n",
      "parts\t57281\t0.236%\t38.762\t608\t0.003%\t0.412\r\n",
      "Multi-mapped\t541520\t2.2%\r\n",
      "Unmapped\t6450355\t26.6%\r\n"
     ]
    }
   ],
   "source": [
    "!cat /nfs/team112_internal/production_files/Pf/6_0/speciator/PV0025_C_5371_1_nonhuman.tab"
   ]
  },
  {
   "cell_type": "code",
   "execution_count": 13,
   "metadata": {
    "collapsed": false
   },
   "outputs": [
    {
     "data": {
      "text/html": [
       "<div>\n",
       "<table border=\"1\" class=\"dataframe\">\n",
       "  <thead>\n",
       "    <tr style=\"text-align: right;\">\n",
       "      <th></th>\n",
       "      <th>Sample</th>\n",
       "      <th>Species</th>\n",
       "      <th>SampleClass</th>\n",
       "    </tr>\n",
       "  </thead>\n",
       "  <tbody>\n",
       "    <tr>\n",
       "      <th>5410</th>\n",
       "      <td>PN0157-C</td>\n",
       "      <td>Pf,Pv</td>\n",
       "      <td>Pf*,Pv</td>\n",
       "    </tr>\n",
       "    <tr>\n",
       "      <th>6111</th>\n",
       "      <td>PV0255-C</td>\n",
       "      <td>Pf,Pv</td>\n",
       "      <td>Pf*,Pv</td>\n",
       "    </tr>\n",
       "  </tbody>\n",
       "</table>\n",
       "</div>"
      ],
      "text/plain": [
       "        Sample Species SampleClass\n",
       "5410  PN0157-C   Pf,Pv      Pf*,Pv\n",
       "6111  PV0255-C   Pf,Pv      Pf*,Pv"
      ]
     },
     "execution_count": 13,
     "metadata": {},
     "output_type": "execute_result"
    }
   ],
   "source": [
    "df_species_5_1_vs_6_0[\n",
    "    (df_species_5_1_vs_6_0['Species'] == 'Pf,Pv') &\n",
    "    (df_species_5_1_vs_6_0['SampleClass'] == 'Pf*,Pv')\n",
    "]"
   ]
  },
  {
   "cell_type": "code",
   "execution_count": 14,
   "metadata": {
    "collapsed": false
   },
   "outputs": [
    {
     "name": "stdout",
     "output_type": "stream",
     "text": [
      "#Species\tRead matches\tRead matches %\tNominal coverage\tUnique read matches\tUnique read matches %\tNominal unique coverage\r\n",
      "Anopheles gambiae\t24415\t0.101%\t0.010\t3348\t0.014%\t0.001\r\n",
      "Human plus decoy\t240568\t0.993%\t0.009\t179660\t0.742%\t0.007\r\n",
      "Illumina adapters\t419704\t1.733%\t62455.953\t419583\t1.733%\t62437.945\r\n",
      "P_falciparum\t266915\t1.102%\t1.162\t125962\t0.520%\t0.549\r\n",
      "knowlesi\t114710\t0.474%\t0.503\t2909\t0.012%\t0.013\r\n",
      "supercontigs\t36907\t0.152%\t0.216\t554\t0.002%\t0.003\r\n",
      "Preichenowi\t158483\t0.654%\t0.666\t5262\t0.022%\t0.022\r\n",
      "PvivaxGenomic PlasmoDB-6\t5053354\t20.866%\t18.922\t4935982\t20.382%\t18.486\r\n",
      "parts\t12134\t0.050%\t10.778\t312\t0.001%\t0.277\r\n",
      "Multi-mapped\t236058\t1.0%\r\n",
      "Unmapped\t18308225\t75.6%\r\n"
     ]
    }
   ],
   "source": [
    "!cat /nfs/team112_internal/production_files/Pf/6_0/speciator/PN0157_C_12483_3_32.tab"
   ]
  },
  {
   "cell_type": "code",
   "execution_count": 15,
   "metadata": {
    "collapsed": false
   },
   "outputs": [
    {
     "name": "stdout",
     "output_type": "stream",
     "text": [
      "#Species\tRead matches\tRead matches %\tNominal coverage\tUnique read matches\tUnique read matches %\tNominal unique coverage\r\n",
      "Anopheles gambiae\t37348\t0.287%\t0.015\t432\t0.003%\t0.000\r\n",
      "Human plus decoy\t188368\t1.448%\t0.007\t92398\t0.710%\t0.003\r\n",
      "Illumina adapters\t12838\t0.099%\t1910.417\t12828\t0.099%\t1908.929\r\n",
      "P_falciparum\t593361\t4.560%\t2.586\t285417\t2.193%\t1.247\r\n",
      "knowlesi\t221385\t1.701%\t0.970\t5835\t0.045%\t0.025\r\n",
      "supercontigs\t79625\t0.612%\t0.465\t955\t0.007%\t0.006\r\n",
      "Preichenowi\t323736\t2.488%\t1.361\t10996\t0.084%\t0.046\r\n",
      "PvivaxGenomic PlasmoDB-6\t8678835\t66.692%\t32.496\t8453460\t64.960%\t31.660\r\n",
      "parts\t26130\t0.201%\t23.174\t404\t0.003%\t0.360\r\n",
      "Multi-mapped\t456326\t3.5%\r\n",
      "Unmapped\t3694188\t28.4%\r\n"
     ]
    }
   ],
   "source": [
    "!cat /nfs/team112_internal/production_files/Pf/6_0/speciator/PV0255_C_8129_2_20.tab"
   ]
  },
  {
   "cell_type": "markdown",
   "metadata": {
    "collapsed": true
   },
   "source": [
    "## Comparison of Olivo's species code with Magnus's speciator\n"
   ]
  },
  {
   "cell_type": "code",
   "execution_count": 67,
   "metadata": {
    "collapsed": false
   },
   "outputs": [
    {
     "name": "stdout",
     "output_type": "stream",
     "text": [
      "8251\n"
     ]
    },
    {
     "data": {
      "text/html": [
       "<table class='petl'>\n",
       "<thead>\n",
       "<tr>\n",
       "<th>Sample</th>\n",
       "<th>SampleClass</th>\n",
       "<th>pv_unique_coverage</th>\n",
       "<th>Pv classification</th>\n",
       "</tr>\n",
       "</thead>\n",
       "<tbody>\n",
       "<tr>\n",
       "<td>FP0008-C</td>\n",
       "<td>Pf</td>\n",
       "<td style='text-align: right'>0.002</td>\n",
       "<td>No Pv</td>\n",
       "</tr>\n",
       "<tr>\n",
       "<td>FP0009-C</td>\n",
       "<td>Pf</td>\n",
       "<td style='text-align: right'>0.006</td>\n",
       "<td>No Pv</td>\n",
       "</tr>\n",
       "<tr>\n",
       "<td>FP0015-C</td>\n",
       "<td>Pf</td>\n",
       "<td style='text-align: right'>0.007</td>\n",
       "<td>No Pv</td>\n",
       "</tr>\n",
       "<tr>\n",
       "<td>FP0016-C</td>\n",
       "<td>Pf</td>\n",
       "<td style='text-align: right'>0.001</td>\n",
       "<td>No Pv</td>\n",
       "</tr>\n",
       "<tr>\n",
       "<td>FP0017-C</td>\n",
       "<td>Pf</td>\n",
       "<td style='text-align: right'>0.009</td>\n",
       "<td>No Pv</td>\n",
       "</tr>\n",
       "</tbody>\n",
       "</table>\n",
       "<p><strong>...</strong></p>"
      ],
      "text/plain": [
       "+------------+-------------+--------------------+-------------------+\n",
       "| Sample     | SampleClass | pv_unique_coverage | Pv classification |\n",
       "+============+=============+====================+===================+\n",
       "| 'FP0008-C' | 'Pf'        |              0.002 | 'No Pv'           |\n",
       "+------------+-------------+--------------------+-------------------+\n",
       "| 'FP0009-C' | 'Pf'        |              0.006 | 'No Pv'           |\n",
       "+------------+-------------+--------------------+-------------------+\n",
       "| 'FP0015-C' | 'Pf'        |              0.007 | 'No Pv'           |\n",
       "+------------+-------------+--------------------+-------------------+\n",
       "| 'FP0016-C' | 'Pf'        |              0.001 | 'No Pv'           |\n",
       "+------------+-------------+--------------------+-------------------+\n",
       "| 'FP0017-C' | 'Pf'        |              0.009 | 'No Pv'           |\n",
       "+------------+-------------+--------------------+-------------------+\n",
       "..."
      ]
     },
     "execution_count": 67,
     "metadata": {},
     "output_type": "execute_result"
    }
   ],
   "source": [
    "tbl_species_6_0_vs_speciator = (\n",
    "    tbl_6_0_species\n",
    "    .join(tbl_speciator_pv_unique_coverage, lkey='Sample', rkey='ox_code')\n",
    "    .cut(['Sample', 'SampleClass', 'pv_unique_coverage'])\n",
    "    .addfield('Pv classification', lambda rec: 'Consensus' if 'Pv' in rec['SampleClass'] and not 'Pv*' in rec['SampleClass']\n",
    "        else 'Evidence' if 'Pv*' in rec['SampleClass']\n",
    "        else 'Unknown' if rec['SampleClass'] == '-'\n",
    "        else 'No Pv'\n",
    "    )\n",
    ")\n",
    "print(len(tbl_species_6_0_vs_speciator.data()))\n",
    "tbl_species_6_0_vs_speciator"
   ]
  },
  {
   "cell_type": "code",
   "execution_count": 68,
   "metadata": {
    "collapsed": false
   },
   "outputs": [
    {
     "data": {
      "text/html": [
       "<table class='petl'>\n",
       "<thead>\n",
       "<tr>\n",
       "<th>Pv classification</th>\n",
       "<th>count</th>\n",
       "<th>frequency</th>\n",
       "</tr>\n",
       "</thead>\n",
       "<tbody>\n",
       "<tr>\n",
       "<td>No Pv</td>\n",
       "<td style='text-align: right'>7918</td>\n",
       "<td style='text-align: right'>0.9596412556053812</td>\n",
       "</tr>\n",
       "<tr>\n",
       "<td>Consensus</td>\n",
       "<td style='text-align: right'>139</td>\n",
       "<td style='text-align: right'>0.016846442855411464</td>\n",
       "</tr>\n",
       "<tr>\n",
       "<td>Evidence</td>\n",
       "<td style='text-align: right'>106</td>\n",
       "<td style='text-align: right'>0.012846927645133923</td>\n",
       "</tr>\n",
       "<tr>\n",
       "<td>Unknown</td>\n",
       "<td style='text-align: right'>88</td>\n",
       "<td style='text-align: right'>0.010665373894073446</td>\n",
       "</tr>\n",
       "</tbody>\n",
       "</table>\n"
      ]
     },
     "metadata": {},
     "output_type": "display_data"
    }
   ],
   "source": [
    "tbl_species_6_0_vs_speciator.valuecounts('Pv classification').displayall()"
   ]
  },
  {
   "cell_type": "code",
   "execution_count": 95,
   "metadata": {
    "collapsed": false
   },
   "outputs": [
    {
     "data": {
      "text/html": [
       "<table class='petl'>\n",
       "<thead>\n",
       "<tr>\n",
       "<th>Pv classification</th>\n",
       "<th>count</th>\n",
       "<th>frequency</th>\n",
       "</tr>\n",
       "</thead>\n",
       "<tbody>\n",
       "<tr>\n",
       "<td>No Pv</td>\n",
       "<td style='text-align: right'>7595</td>\n",
       "<td style='text-align: right'>0.9649345699402871</td>\n",
       "</tr>\n",
       "<tr>\n",
       "<td>Consensus</td>\n",
       "<td style='text-align: right'>139</td>\n",
       "<td style='text-align: right'>0.017659763689493076</td>\n",
       "</tr>\n",
       "<tr>\n",
       "<td>Evidence</td>\n",
       "<td style='text-align: right'>106</td>\n",
       "<td style='text-align: right'>0.013467157921483928</td>\n",
       "</tr>\n",
       "<tr>\n",
       "<td>Unknown</td>\n",
       "<td style='text-align: right'>31</td>\n",
       "<td style='text-align: right'>0.003938508448735866</td>\n",
       "</tr>\n",
       "</tbody>\n",
       "</table>\n"
      ]
     },
     "metadata": {},
     "output_type": "display_data"
    }
   ],
   "source": [
    "tbl_species_6_0_vs_speciator.selectgt('pv_unique_coverage', 0.0).valuecounts('Pv classification').displayall()"
   ]
  },
  {
   "cell_type": "code",
   "execution_count": 94,
   "metadata": {
    "collapsed": false
   },
   "outputs": [
    {
     "data": {
      "text/html": [
       "<table class='petl'>\n",
       "<thead>\n",
       "<tr>\n",
       "<th>Pv classification</th>\n",
       "<th>count</th>\n",
       "<th>frequency</th>\n",
       "</tr>\n",
       "</thead>\n",
       "<tbody>\n",
       "<tr>\n",
       "<td>No Pv</td>\n",
       "<td style='text-align: right'>323</td>\n",
       "<td style='text-align: right'>0.85</td>\n",
       "</tr>\n",
       "<tr>\n",
       "<td>Unknown</td>\n",
       "<td style='text-align: right'>57</td>\n",
       "<td style='text-align: right'>0.15</td>\n",
       "</tr>\n",
       "</tbody>\n",
       "</table>\n"
      ]
     },
     "metadata": {},
     "output_type": "display_data"
    }
   ],
   "source": [
    "tbl_species_6_0_vs_speciator.selecteq('pv_unique_coverage', 0.0).valuecounts('Pv classification').displayall()"
   ]
  },
  {
   "cell_type": "code",
   "execution_count": 93,
   "metadata": {
    "collapsed": false
   },
   "outputs": [],
   "source": [
    "tbl_species_6_0_vs_speciator.valuecounts('Pv classification').toxlsx(\"%s/Pv_classification.xlsx\" % output_dir)"
   ]
  },
  {
   "cell_type": "code",
   "execution_count": 85,
   "metadata": {
    "collapsed": false
   },
   "outputs": [],
   "source": [
    "# Note I have removed samples with zero Pv coverage as \n",
    "df_species_6_0_vs_speciator = tbl_species_6_0_vs_speciator.todataframe()\n",
    "df_species_6_0_vs_speciator = df_species_6_0_vs_speciator[df_species_6_0_vs_speciator['pv_unique_coverage'] > 0]\n",
    "df_species_6_0_vs_speciator['Log10(Pv coverage)'] = np.log10(df_species_6_0_vs_speciator['pv_unique_coverage'])\n",
    "# df_species_6_0_vs_speciator = df_species_6_0_vs_speciator[np.logical_not(np.isinf(df_species_6_0_vs_speciator['Log10(Pv coverage)']))]\n",
    "# df_species_6_0_vs_speciator['Log10(Pv coverage)'][np.isinf(df_species_6_0_vs_speciator['Log10(Pv coverage)'])] = -5.0"
   ]
  },
  {
   "cell_type": "code",
   "execution_count": 86,
   "metadata": {
    "collapsed": false
   },
   "outputs": [
    {
     "data": {
      "text/plain": [
       "count    7871.000000\n",
       "mean       -2.126545\n",
       "std         0.515701\n",
       "min        -3.602060\n",
       "25%        -2.397940\n",
       "50%        -2.096910\n",
       "75%        -1.920819\n",
       "max         2.098169\n",
       "Name: Log10(Pv coverage), dtype: float64"
      ]
     },
     "execution_count": 86,
     "metadata": {},
     "output_type": "execute_result"
    }
   ],
   "source": [
    "df_species_6_0_vs_speciator['Log10(Pv coverage)'].describe()"
   ]
  },
  {
   "cell_type": "code",
   "execution_count": 87,
   "metadata": {
    "collapsed": false
   },
   "outputs": [
    {
     "name": "stderr",
     "output_type": "stream",
     "text": [
      "/nfs/users/nfs_r/rp7/anaconda3/lib/python3.4/site-packages/matplotlib/collections.py:590: FutureWarning: elementwise comparison failed; returning scalar instead, but in the future will perform elementwise comparison\n",
      "  if self._edgecolors == str('face'):\n"
     ]
    },
    {
     "data": {
      "image/png": "[encoded data removed]",
      "text/plain": [
       "<matplotlib.figure.Figure at 0x7f2661bea080>"
      ]
     },
     "metadata": {},
     "output_type": "display_data"
    }
   ],
   "source": [
    "ax = sns.violinplot(x=\"Pv classification\", y=\"Log10(Pv coverage)\", data=df_species_6_0_vs_speciator)"
   ]
  },
  {
   "cell_type": "code",
   "execution_count": 100,
   "metadata": {
    "collapsed": false
   },
   "outputs": [
    {
     "data": {
      "image/png": "[encoded data removed]",
      "text/plain": [
       "<matplotlib.figure.Figure at 0x7f2661e2b048>"
      ]
     },
     "metadata": {},
     "output_type": "display_data"
    }
   ],
   "source": [
    "fig=plt.figure(figsize=(6,4))\n",
    "ax=fig.add_subplot(1, 1, 1)\n",
    "ax = sns.boxplot(x=\"Pv classification\", y=\"Log10(Pv coverage)\", data=df_species_6_0_vs_speciator, ax=ax)\n",
    "# ax = sns.swarmplot(x=\"Pv classification\", y=\"Log10(Pv coverage)\", data=df_species_6_0_vs_speciator,\n",
    "#                    color=\"white\", edgecolor=\"gray\")\n",
    "ax.set_xticklabels(['No Pv\\nn=7,595', 'Unknown\\nn=31', 'Evidence\\nn=106', 'Consensus\\nn=139'])\n",
    "fig.savefig(\"%s/Pv_in_Pf.png\" % output_dir, dpi=300)"
   ]
  },
  {
   "cell_type": "code",
   "execution_count": 108,
   "metadata": {
    "collapsed": false
   },
   "outputs": [
    {
     "data": {
      "text/html": [
       "<table class='petl'>\n",
       "<thead>\n",
       "<tr>\n",
       "<th>Sample</th>\n",
       "<th>SampleClass</th>\n",
       "<th>pv_unique_coverage</th>\n",
       "<th>Pv classification</th>\n",
       "</tr>\n",
       "</thead>\n",
       "<tbody>\n",
       "<tr>\n",
       "<td>PA0307-CW</td>\n",
       "<td>Pf</td>\n",
       "<td style='text-align: right'>0.347</td>\n",
       "<td>No Pv</td>\n",
       "</tr>\n",
       "<tr>\n",
       "<td>PA0347-CW</td>\n",
       "<td>Pf</td>\n",
       "<td style='text-align: right'>0.507</td>\n",
       "<td>No Pv</td>\n",
       "</tr>\n",
       "<tr>\n",
       "<td>PD0459-Cx</td>\n",
       "<td>Pf</td>\n",
       "<td style='text-align: right'>0.392</td>\n",
       "<td>No Pv</td>\n",
       "</tr>\n",
       "<tr>\n",
       "<td>PV0245-Cx</td>\n",
       "<td>Pf</td>\n",
       "<td style='text-align: right'>0.323</td>\n",
       "<td>No Pv</td>\n",
       "</tr>\n",
       "</tbody>\n",
       "</table>\n"
      ]
     },
     "metadata": {},
     "output_type": "display_data"
    }
   ],
   "source": [
    "tbl_species_6_0_vs_speciator.selecteq('Pv classification', 'No Pv').selectgt('pv_unique_coverage', 0.3).displayall()"
   ]
  },
  {
   "cell_type": "code",
   "execution_count": 110,
   "metadata": {
    "collapsed": false
   },
   "outputs": [
    {
     "data": {
      "text/plain": [
       "-0.29499204066666401"
      ]
     },
     "execution_count": 110,
     "metadata": {},
     "output_type": "execute_result"
    }
   ],
   "source": [
    "np.log10(0.507)"
   ]
  },
  {
   "cell_type": "code",
   "execution_count": 103,
   "metadata": {
    "collapsed": false
   },
   "outputs": [
    {
     "data": {
      "text/html": [
       "<table class='petl'>\n",
       "<thead>\n",
       "<tr>\n",
       "<th>Sample</th>\n",
       "<th>SampleClass</th>\n",
       "<th>pv_unique_coverage</th>\n",
       "<th>Pv classification</th>\n",
       "</tr>\n",
       "</thead>\n",
       "<tbody>\n",
       "<tr>\n",
       "<td>FP0008-C</td>\n",
       "<td>Pf</td>\n",
       "<td style='text-align: right'>0.002</td>\n",
       "<td>No Pv</td>\n",
       "</tr>\n",
       "<tr>\n",
       "<td>FP0009-C</td>\n",
       "<td>Pf</td>\n",
       "<td style='text-align: right'>0.006</td>\n",
       "<td>No Pv</td>\n",
       "</tr>\n",
       "<tr>\n",
       "<td>FP0015-C</td>\n",
       "<td>Pf</td>\n",
       "<td style='text-align: right'>0.007</td>\n",
       "<td>No Pv</td>\n",
       "</tr>\n",
       "<tr>\n",
       "<td>FP0016-C</td>\n",
       "<td>Pf</td>\n",
       "<td style='text-align: right'>0.001</td>\n",
       "<td>No Pv</td>\n",
       "</tr>\n",
       "<tr>\n",
       "<td>FP0017-C</td>\n",
       "<td>Pf</td>\n",
       "<td style='text-align: right'>0.009</td>\n",
       "<td>No Pv</td>\n",
       "</tr>\n",
       "</tbody>\n",
       "</table>\n",
       "<p><strong>...</strong></p>"
      ],
      "text/plain": [
       "+------------+-------------+--------------------+-------------------+\n",
       "| Sample     | SampleClass | pv_unique_coverage | Pv classification |\n",
       "+============+=============+====================+===================+\n",
       "| 'FP0008-C' | 'Pf'        |              0.002 | 'No Pv'           |\n",
       "+------------+-------------+--------------------+-------------------+\n",
       "| 'FP0009-C' | 'Pf'        |              0.006 | 'No Pv'           |\n",
       "+------------+-------------+--------------------+-------------------+\n",
       "| 'FP0015-C' | 'Pf'        |              0.007 | 'No Pv'           |\n",
       "+------------+-------------+--------------------+-------------------+\n",
       "| 'FP0016-C' | 'Pf'        |              0.001 | 'No Pv'           |\n",
       "+------------+-------------+--------------------+-------------------+\n",
       "| 'FP0017-C' | 'Pf'        |              0.009 | 'No Pv'           |\n",
       "+------------+-------------+--------------------+-------------------+\n",
       "..."
      ]
     },
     "execution_count": 103,
     "metadata": {},
     "output_type": "execute_result"
    }
   ],
   "source": [
    "tbl_species_6_0_vs_speciator"
   ]
  },
  {
   "cell_type": "markdown",
   "metadata": {},
   "source": [
    "## Species calls for Pf samples which have been included in Pv 3.0 build\n",
    "29 Pf samples were included in Pv 3.0 build because they had pv_unique_converage > 5.0 according to Speciator results (see https://github.com/malariagen/pv/blob/master/notes/release_3_0/20161003_pv_3_0_sample_metadata.ipynb). The following few cells show results from Olivo's code on this, and makes a quick but unsuccessful attempt to see if the 5 samples that don't receive a call have mutations in a few common variants in anchor sequences. I decided to abandon this as really needs to be done properly after discussion."
   ]
  },
  {
   "cell_type": "code",
   "execution_count": 111,
   "metadata": {
    "collapsed": false
   },
   "outputs": [
    {
     "data": {
      "text/html": [
       "<table class='petl'>\n",
       "<thead>\n",
       "<tr>\n",
       "<th>Pv classification</th>\n",
       "<th>count</th>\n",
       "<th>frequency</th>\n",
       "</tr>\n",
       "</thead>\n",
       "<tbody>\n",
       "<tr>\n",
       "<td>Consensus</td>\n",
       "<td style='text-align: right'>24</td>\n",
       "<td style='text-align: right'>0.8275862068965517</td>\n",
       "</tr>\n",
       "<tr>\n",
       "<td>Unknown</td>\n",
       "<td style='text-align: right'>5</td>\n",
       "<td style='text-align: right'>0.1724137931034483</td>\n",
       "</tr>\n",
       "</tbody>\n",
       "</table>\n"
      ]
     },
     "metadata": {},
     "output_type": "display_data"
    }
   ],
   "source": [
    "# This is the threshold for inclusion in Pv build\n",
    "tbl_species_6_0_vs_speciator.selectgt('pv_unique_coverage', 5.0).valuecounts('Pv classification').displayall()"
   ]
  },
  {
   "cell_type": "code",
   "execution_count": 112,
   "metadata": {
    "collapsed": false
   },
   "outputs": [
    {
     "data": {
      "text/html": [
       "<table class='petl'>\n",
       "<thead>\n",
       "<tr>\n",
       "<th>Sample</th>\n",
       "<th>SampleClass</th>\n",
       "<th>pv_unique_coverage</th>\n",
       "<th>Pv classification</th>\n",
       "</tr>\n",
       "</thead>\n",
       "<tbody>\n",
       "<tr>\n",
       "<td>PD0797-C</td>\n",
       "<td>-</td>\n",
       "<td style='text-align: right'>26.889</td>\n",
       "<td>Unknown</td>\n",
       "</tr>\n",
       "<tr>\n",
       "<td>QS0060-C</td>\n",
       "<td>-</td>\n",
       "<td style='text-align: right'>102.354</td>\n",
       "<td>Unknown</td>\n",
       "</tr>\n",
       "<tr>\n",
       "<td>QS0158-C</td>\n",
       "<td>-</td>\n",
       "<td style='text-align: right'>36.939</td>\n",
       "<td>Unknown</td>\n",
       "</tr>\n",
       "<tr>\n",
       "<td>QS0164-C</td>\n",
       "<td>-</td>\n",
       "<td style='text-align: right'>64.162</td>\n",
       "<td>Unknown</td>\n",
       "</tr>\n",
       "<tr>\n",
       "<td>QS0167-C</td>\n",
       "<td>-</td>\n",
       "<td style='text-align: right'>9.697</td>\n",
       "<td>Unknown</td>\n",
       "</tr>\n",
       "</tbody>\n",
       "</table>\n"
      ],
      "text/plain": [
       "+------------+-------------+--------------------+-------------------+\n",
       "| Sample     | SampleClass | pv_unique_coverage | Pv classification |\n",
       "+============+=============+====================+===================+\n",
       "| 'PD0797-C' | '-'         |             26.889 | 'Unknown'         |\n",
       "+------------+-------------+--------------------+-------------------+\n",
       "| 'QS0060-C' | '-'         |            102.354 | 'Unknown'         |\n",
       "+------------+-------------+--------------------+-------------------+\n",
       "| 'QS0158-C' | '-'         |             36.939 | 'Unknown'         |\n",
       "+------------+-------------+--------------------+-------------------+\n",
       "| 'QS0164-C' | '-'         |             64.162 | 'Unknown'         |\n",
       "+------------+-------------+--------------------+-------------------+\n",
       "| 'QS0167-C' | '-'         |              9.697 | 'Unknown'         |\n",
       "+------------+-------------+--------------------+-------------------+"
      ]
     },
     "execution_count": 112,
     "metadata": {},
     "output_type": "execute_result"
    }
   ],
   "source": [
    "# The following are inlcuded in Pv 3.0 build, but are not given a species\n",
    "# The following few cells look at some common variants in Pf 6.0, to see if they affect anchors in any of these\n",
    "# samples, but they don't\n",
    "tbl_species_6_0_vs_speciator.selectgt('pv_unique_coverage', 5.0).selecteq('Pv classification', 'Unknown')"
   ]
  },
  {
   "cell_type": "code",
   "execution_count": 113,
   "metadata": {
    "collapsed": false
   },
   "outputs": [
    {
     "name": "stdout",
     "output_type": "stream",
     "text": [
      "Record(CHROM=Pf_M76611, POS=960, REF=T, ALT=[A]) ['Low_VQSLOD']\n",
      "PD0853-C Call(sample=PD0853-C, CallData(GT=1/1, AD=[7, 1197], BCS=[31760, 6325, 6782, 19454], DP=1204, GQ=99, PL=[39289, 3367, 0]))\n",
      "PD0909-C Call(sample=PD0909-C, CallData(GT=1/1, AD=[44, 902], BCS=[39585, 8574, 8576, 27121], DP=946, GQ=99, PL=[25630, 1298, 0]))\n",
      "PD0968-C Call(sample=PD0968-C, CallData(GT=1/1, AD=[5, 1760], BCS=[75530, 16321, 18196, 52296], DP=1765, GQ=99, PL=[53213, 5130, 0]))\n",
      "PD0969-C Call(sample=PD0969-C, CallData(GT=1/1, AD=[5, 2120], BCS=[92823, 21008, 22083, 64442], DP=2125, GQ=99, PL=[63751, 6259, 0]))\n",
      "PD1026-C Call(sample=PD1026-C, CallData(GT=1/1, AD=[10, 1947], BCS=[83216, 18054, 20008, 57773], DP=1957, GQ=99, PL=[58778, 5537, 0]))\n",
      "PF0502-C Call(sample=PF0502-C, CallData(GT=0/1, AD=[827, 499], BCS=[48229, 10569, 10135, 30852], DP=1326, GQ=99, PL=[12452, 0, 24651]))\n",
      "PR0032-C Call(sample=PR0032-C, CallData(GT=1/1, AD=[2, 130], BCS=[2436, 569, 449, 1218], DP=132, GQ=99, PL=[4406, 328, 0]))\n",
      "PV0155-C Call(sample=PV0155-C, CallData(GT=0/1, AD=[452, 264], BCS=[16028, 3750, 3654, 7949], DP=716, GQ=99, PL=[6295, 0, 12887]))\n"
     ]
    }
   ],
   "source": [
    "vcf_file_format = \"/nfs/team112_internal/production_files/Pf/6_0/vcf/SNP_INDEL_%s.combined.filtered.vcf.gz\"\n",
    "def non_ref_sample(chrom='Pf_M76611', pos=960):\n",
    "    vcf_reader = vcf.Reader(filename=vcf_file_format % chrom)\n",
    "    samples = vcf_reader.samples\n",
    "    for record in vcf_reader.fetch(chrom, pos-1, pos):\n",
    "        print(record, record.FILTER)\n",
    "        for sample in samples:\n",
    "            GT = record.genotype(sample)['GT']\n",
    "            if not GT in ['0/0', './.']:\n",
    "                print(sample, record.genotype(sample))\n",
    "\n",
    "non_ref_sample()"
   ]
  },
  {
   "cell_type": "code",
   "execution_count": 114,
   "metadata": {
    "collapsed": false
   },
   "outputs": [
    {
     "name": "stdout",
     "output_type": "stream",
     "text": [
      "Record(CHROM=Pf_M76611, POS=1033, REF=C, ALT=[T, A]) ['Low_VQSLOD']\n",
      "PA0015-C Call(sample=PA0015-C, CallData(GT=1/1, AD=[0, 1516, 0], BCS=[17545, 7610, 9169, 19287], DP=1516, GQ=99, PL=[54695, 4554, 0, 54695, 4554, 54695]))\n",
      "PA0443-C Call(sample=PA0443-C, CallData(GT=0/1, AD=[190, 1628, 0], BCS=[45378, 11089, 15307, 39808], DP=1818, GQ=99, PL=[50702, 0, 774, 51273, 5665, 56938]))\n",
      "PA0445-C Call(sample=PA0445-C, CallData(GT=1/1, AD=[11, 1428, 0], BCS=[47589, 13018, 14501, 41163], DP=1439, GQ=99, PL=[49326, 3990, 0, 49359, 4290, 49658]))\n",
      "PA0459-C Call(sample=PA0459-C, CallData(GT=1/1, AD=[0, 1393, 0], BCS=[31952, 10688, 10464, 28007], DP=1396, GQ=99, PL=[48259, 4185, 0, 48253, 4185, 48248]))\n",
      "PE0245-C Call(sample=PE0245-C, CallData(GT=0/2, AD=[822, 0, 1137], BCS=[66819, 18714, 19712, 55430], DP=1959, GQ=99, PL=[34325, 36791, 61618, 0, 24827, 21414]))\n",
      "PF0408-C Call(sample=PF0408-C, CallData(GT=0/1, AD=[304, 1687, 0], BCS=[55342, 14220, 17651, 49409], DP=1991, GQ=99, PL=[52932, 0, 3994, 53844, 9059, 62903]))\n",
      "PF0442-C Call(sample=PF0442-C, CallData(GT=0/1, AD=[464, 52, 0], BCS=[6064, 3106, 3166, 6211], DP=516, GQ=99, PL=[230, 0, 13936, 1625, 14092, 15717]))\n",
      "PF0820-C Call(sample=PF0820-C, CallData(GT=1/1, AD=[1, 1723, 0], BCS=[20637, 9133, 10969, 23171], DP=1724, GQ=99, PL=[61438, 5150, 0, 61441, 5180, 61471]))\n",
      "PM0608-C Call(sample=PM0608-C, CallData(GT=0/1, AD=[1402, 890, 0], BCS=[74629, 21184, 22665, 62658], DP=2292, GQ=99, PL=[24682, 0, 39337, 28893, 42012, 70904]))\n",
      "PM0609-C Call(sample=PM0609-C, CallData(GT=1/1, AD=[1, 1879, 0], BCS=[60228, 15427, 19128, 53668], DP=1880, GQ=99, PL=[66597, 5637, 0, 66600, 5644, 66607]))\n",
      "QV0073-C Call(sample=QV0073-C, CallData(GT=0/1, AD=[1868, 746, 0], BCS=[83548, 23265, 25062, 70706], DP=2614, GQ=99, PL=[17533, 0, 52785, 23142, 55026, 78168]))\n",
      "QV0074-C Call(sample=QV0074-C, CallData(GT=0/1, AD=[440, 1575, 0], BCS=[64589, 17021, 19383, 56778], DP=2015, GQ=99, PL=[49526, 0, 8352, 50846, 13083, 63929]))\n"
     ]
    }
   ],
   "source": [
    "non_ref_sample(pos=1033)"
   ]
  },
  {
   "cell_type": "code",
   "execution_count": 115,
   "metadata": {
    "collapsed": false
   },
   "outputs": [
    {
     "name": "stdout",
     "output_type": "stream",
     "text": [
      "Record(CHROM=Pf_M76611, POS=1100, REF=T, ALT=[C]) ['Low_VQSLOD']\n",
      "PE0010-C Call(sample=PE0010-C, CallData(GT=1/1, AD=[35, 780], BCS=[9676, 6976, 1306, 10828], DP=815, GQ=99, PL=[25787, 1211, 0]))\n",
      "PE0143-C Call(sample=PE0143-C, CallData(GT=0/1, AD=[1346, 582], BCS=[41861, 22672, 9599, 40752], DP=1928, GQ=99, PL=[13360, 0, 39516]))\n",
      "PE0266-C Call(sample=PE0266-C, CallData(GT=0/1, AD=[543, 1495], BCS=[60287, 27621, 13445, 53904], DP=2041, GQ=99, PL=[44764, 0, 13170]))\n",
      "PE0453-C Call(sample=PE0453-C, CallData(GT=0/1, AD=[703, 1155], BCS=[56034, 25046, 13422, 49598], DP=1858, GQ=99, PL=[33199, 0, 19278]))\n",
      "PT0081-C Call(sample=PT0081-C, CallData(GT=0/1, AD=[1376, 301], BCS=[51250, 23398, 11275, 46189], DP=1677, GQ=99, PL=[4927, 0, 41712]))\n",
      "PT0285-C Call(sample=PT0285-C, CallData(GT=0/1, AD=[581, 931], BCS=[27797, 15249, 7105, 29236], DP=1512, GQ=99, PL=[26979, 0, 15782]))\n",
      "QG0028-C Call(sample=QG0028-C, CallData(GT=1/1, AD=[3, 1576], BCS=[34633, 19785, 8002, 31824], DP=1579, GQ=99, PL=[52431, 4632, 0]))\n",
      "QG0029-C Call(sample=QG0029-C, CallData(GT=1/1, AD=[1, 1471], BCS=[50892, 23546, 11570, 47272], DP=1472, GQ=99, PL=[48756, 4381, 0]))\n",
      "QG0189-C Call(sample=QG0189-C, CallData(GT=0/1, AD=[1477, 492], BCS=[55807, 25659, 13099, 48398], DP=1969, GQ=99, PL=[10885, 0, 46592]))\n",
      "QG0353-C Call(sample=QG0353-C, CallData(GT=0/1, AD=[1352, 1134], BCS=[87307, 36126, 18641, 73492], DP=2486, GQ=99, PL=[28665, 0, 37299]))\n",
      "QG0355-C Call(sample=QG0355-C, CallData(GT=0/1, AD=[311, 1916], BCS=[71480, 32142, 16694, 60146], DP=2227, GQ=99, PL=[54342, 0, 3778]))\n"
     ]
    }
   ],
   "source": [
    "non_ref_sample(pos=1100)"
   ]
  },
  {
   "cell_type": "markdown",
   "metadata": {},
   "source": [
    "## Discordant results between lanes\n",
    "Before I realised that we had speciator results for each lane, I had noticed that one sample that was called as Pf,Pv by Olivo's code, had zero pv_unique_coverage by Magnus's code. I then realised this sample had two lanes, only one of which had zero pv_unique_coverage. One of the lanes had hardly any coverage of anything (zero unique coverage for Pf as well as Pv)."
   ]
  },
  {
   "cell_type": "code",
   "execution_count": 31,
   "metadata": {
    "collapsed": false
   },
   "outputs": [
    {
     "data": {
      "text/html": [
       "<table class='petl'>\n",
       "<thead>\n",
       "<tr>\n",
       "<th>Sample</th>\n",
       "<th>SampleClass</th>\n",
       "<th>pv_unique_coverage</th>\n",
       "<th>Pv classification</th>\n",
       "</tr>\n",
       "</thead>\n",
       "<tbody>\n",
       "<tr>\n",
       "<td>PH1186-C</td>\n",
       "<td>Pf,Pv</td>\n",
       "<td style='text-align: right'>0.048</td>\n",
       "<td>Consensus</td>\n",
       "</tr>\n",
       "<tr>\n",
       "<td>PH1186-C</td>\n",
       "<td>Pf,Pv</td>\n",
       "<td style='text-align: right'>0.0</td>\n",
       "<td>Consensus</td>\n",
       "</tr>\n",
       "</tbody>\n",
       "</table>\n"
      ],
      "text/plain": [
       "+------------+-------------+--------------------+-------------------+\n",
       "| Sample     | SampleClass | pv_unique_coverage | Pv classification |\n",
       "+============+=============+====================+===================+\n",
       "| 'PH1186-C' | 'Pf,Pv'     |              0.048 | 'Consensus'       |\n",
       "+------------+-------------+--------------------+-------------------+\n",
       "| 'PH1186-C' | 'Pf,Pv'     |                0.0 | 'Consensus'       |\n",
       "+------------+-------------+--------------------+-------------------+"
      ]
     },
     "execution_count": 31,
     "metadata": {},
     "output_type": "execute_result"
    }
   ],
   "source": [
    "# Note that was run before I recreated the table to have mean coverage for each ox_code\n",
    "tbl_species_6_0_vs_speciator.selecteq('Sample', 'PH1186-C')"
   ]
  },
  {
   "cell_type": "code",
   "execution_count": 71,
   "metadata": {
    "collapsed": false
   },
   "outputs": [
    {
     "data": {
      "text/html": [
       "<table class='petl'>\n",
       "<thead>\n",
       "<tr>\n",
       "<th>Pv classification</th>\n",
       "<th>count</th>\n",
       "<th>frequency</th>\n",
       "</tr>\n",
       "</thead>\n",
       "<tbody>\n",
       "<tr>\n",
       "<td>No Pv</td>\n",
       "<td style='text-align: right'>323</td>\n",
       "<td style='text-align: right'>0.85</td>\n",
       "</tr>\n",
       "<tr>\n",
       "<td>Unknown</td>\n",
       "<td style='text-align: right'>57</td>\n",
       "<td style='text-align: right'>0.15</td>\n",
       "</tr>\n",
       "</tbody>\n",
       "</table>\n"
      ]
     },
     "metadata": {},
     "output_type": "display_data"
    }
   ],
   "source": [
    "tbl_species_6_0_vs_speciator.selecteq('pv_unique_coverage', 0.0).valuecounts('Pv classification').displayall()"
   ]
  },
  {
   "cell_type": "code",
   "execution_count": 78,
   "metadata": {
    "collapsed": false
   },
   "outputs": [
    {
     "data": {
      "text/html": [
       "<table class='petl'>\n",
       "<thead>\n",
       "<tr>\n",
       "<th>ox_code</th>\n",
       "<th>pv_unique_coverage</th>\n",
       "</tr>\n",
       "</thead>\n",
       "<tbody>\n",
       "<tr>\n",
       "<td>PH1186-C</td>\n",
       "<td style='text-align: right'>0.048</td>\n",
       "</tr>\n",
       "<tr>\n",
       "<td>PH1186-C</td>\n",
       "<td style='text-align: right'>0.0</td>\n",
       "</tr>\n",
       "</tbody>\n",
       "</table>\n"
      ],
      "text/plain": [
       "+------------+--------------------+\n",
       "| ox_code    | pv_unique_coverage |\n",
       "+============+====================+\n",
       "| 'PH1186-C' |              0.048 |\n",
       "+------------+--------------------+\n",
       "| 'PH1186-C' |                0.0 |\n",
       "+------------+--------------------+"
      ]
     },
     "execution_count": 78,
     "metadata": {},
     "output_type": "execute_result"
    }
   ],
   "source": [
    "(\n",
    "    etl\n",
    "    .fromtsv(speciator_pv_unique_coverage_fn)\n",
    "    .convertnumbers()\n",
    "    .selecteq('ox_code', 'PH1186-C')\n",
    ")"
   ]
  },
  {
   "cell_type": "code",
   "execution_count": 83,
   "metadata": {
    "collapsed": false
   },
   "outputs": [
    {
     "name": "stdout",
     "output_type": "stream",
     "text": [
      "#Species\tRead matches\tRead matches %\tNominal coverage\tUnique read matches\tUnique read matches %\tNominal unique coverage\r\n",
      "Anopheles gambiae\t22\t0.212%\t0.000\t6\t0.058%\t0.000\r\n",
      "Human plus decoy\t89\t0.857%\t0.000\t65\t0.626%\t0.000\r\n",
      "Illumina adapters\t4971\t47.876%\t739.732\t4971\t47.876%\t739.732\r\n",
      "P_falciparum\t49\t0.472%\t0.000\t21\t0.202%\t0.000\r\n",
      "knowlesi\t5\t0.048%\t0.000\t0\t0.000%\t0.000\r\n",
      "supercontigs\t3\t0.029%\t0.000\t0\t0.000%\t0.000\r\n",
      "Preichenowi\t32\t0.308%\t0.000\t1\t0.010%\t0.000\r\n",
      "PvivaxGenomic PlasmoDB-6\t8\t0.077%\t0.000\t2\t0.019%\t0.000\r\n",
      "Multi-mapped\t46\t0.4%\r\n",
      "Unmapped\t5270\t50.8%\r\n"
     ]
    }
   ],
   "source": [
    "!cat /nfs/team112_internal/production_files/Pf/6_0/speciator/PH1186_C_13253_5_7.tab"
   ]
  },
  {
   "cell_type": "code",
   "execution_count": 84,
   "metadata": {
    "collapsed": false
   },
   "outputs": [
    {
     "name": "stdout",
     "output_type": "stream",
     "text": [
      "#Species\tRead matches\tRead matches %\tNominal coverage\tUnique read matches\tUnique read matches %\tNominal unique coverage\r\n",
      "Anopheles gambiae\t39129\t0.807%\t0.015\t308\t0.006%\t0.000\r\n",
      "Human plus decoy\t2045358\t42.197%\t0.075\t1817651\t37.500%\t0.067\r\n",
      "Illumina adapters\t10995\t0.227%\t1636.161\t10964\t0.226%\t1631.548\r\n",
      "P_falciparum\t2024430\t41.766%\t8.832\t1152714\t23.781%\t5.030\r\n",
      "knowlesi\t57657\t1.190%\t0.233\t565\t0.012%\t0.002\r\n",
      "supercontigs\t43230\t0.892%\t0.240\t92\t0.002%\t0.000\r\n",
      "Preichenowi\t1049018\t21.642%\t4.434\t25787\t0.532%\t0.108\r\n",
      "PvivaxGenomic PlasmoDB-6\t64081\t1.322%\t0.226\t12906\t0.266%\t0.048\r\n",
      "parts\t9327\t0.192%\t8.176\t10\t0.000%\t0.009\r\n",
      "Multi-mapped\t1036383\t21.4%\r\n",
      "Unmapped\t789734\t16.3%\r\n"
     ]
    }
   ],
   "source": [
    "!cat /nfs/team112_internal/production_files/Pf/6_0/speciator/PH1186_C_14323_2_6.tab"
   ]
  },
  {
   "cell_type": "code",
   "execution_count": null,
   "metadata": {
    "collapsed": true
   },
   "outputs": [],
   "source": []
  },
  {
   "cell_type": "code",
   "execution_count": 18,
   "metadata": {
    "collapsed": false
   },
   "outputs": [],
   "source": [
    "pv_unique_coverage = collections.OrderedDict()\n",
    "pv_unique_coverage['Pv consensus'] = (\n",
    "    tbl_species_6_0_vs_speciator\n",
    "    .select(lambda rec: 'Pv' in rec['SampleClass'] and not 'Pv*' in rec['SampleClass'])\n",
    "    .values('pv_unique_coverage')\n",
    "    .array()\n",
    ")\n",
    "pv_unique_coverage['Pv evidence'] = (\n",
    "    tbl_species_6_0_vs_speciator\n",
    "    .select(lambda rec: 'Pv*' in rec['SampleClass'])\n",
    "    .values('pv_unique_coverage')\n",
    "    .array()\n",
    ")\n",
    "pv_unique_coverage['No Pv'] = (\n",
    "    tbl_species_6_0_vs_speciator\n",
    "    .select(lambda rec: not 'Pv' in rec['SampleClass'])\n",
    "    .values('pv_unique_coverage')\n",
    "    .array()\n",
    ")\n"
   ]
  },
  {
   "cell_type": "markdown",
   "metadata": {},
   "source": [
    "# Conclusion\n",
    "In general there was good agreement between the 5.1 and 6.0. There were originally only 32 discordant calls, and 31 of these were either the difference between a non-consensus and non-call or between consensus and non-consensus. One sample (PV0025-C) was Pf,Pv in 5.1 but Pv only in 6.0. Speciator results suggest there probably is a low level of Pf in this sample.\n",
    "\n",
    "There were no cases where there was a consensus call in 6.0 but non-consensus or no-call in 5.1, but there were 4 cases where there was a consensus call in 5.1 but non-consensus or no-call in 6.0. Missingness was similar in each call set.\n"
   ]
  },
  {
   "cell_type": "code",
   "execution_count": null,
   "metadata": {
    "collapsed": true
   },
   "outputs": [],
   "source": []
  }
 ],
 "metadata": {
  "anaconda-cloud": {},
  "kernelspec": {
   "display_name": "Python [default]",
   "language": "python",
   "name": "python3"
  },
  "language_info": {
   "codemirror_mode": {
    "name": "ipython",
    "version": 3
   },
   "file_extension": ".py",
   "mimetype": "text/x-python",
   "name": "python",
   "nbconvert_exporter": "python",
   "pygments_lexer": "ipython3",
   "version": "3.4.5"
  }
 },
 "nbformat": 4,
 "nbformat_minor": 1
}
