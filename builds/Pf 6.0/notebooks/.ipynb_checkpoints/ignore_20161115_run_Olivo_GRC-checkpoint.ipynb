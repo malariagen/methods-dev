{
 "cells": [
  {
   "cell_type": "code",
   "execution_count": 1,
   "metadata": {
    "collapsed": false
   },
   "outputs": [
    {
     "name": "stdout",
     "output_type": "stream",
     "text": [
      "python 3.4.5 |Anaconda 2.2.0 (64-bit)| (default, Jul  2 2016, 17:47:47) \n",
      "[GCC 4.4.7 20120313 (Red Hat 4.4.7-1)]\n",
      "numpy 1.11.1\n",
      "scipy 0.18.0\n",
      "pandas 0.19.0\n",
      "numexpr 2.6.1\n",
      "pysam 0.9.1.4\n",
      "petl 1.1.0\n",
      "petlx 1.0.3\n",
      "vcf 0.6.8\n",
      "vcfnp 2.3.0.dev0\n",
      "h5py 2.4.0\n",
      "tables 3.1.1\n"
     ]
    }
   ],
   "source": [
    "%run _standard_imports.ipynb"
   ]
  },
  {
   "cell_type": "code",
   "execution_count": 2,
   "metadata": {
    "collapsed": true
   },
   "outputs": [],
   "source": [
    "scratch_dir = \"/lustre/scratch109/malaria/rp7/data/methods-dev/builds/Pf6.0/20161115_run_Olivo_GRC\"\n",
    "output_dir = \"/nfs/team112_internal/rp7/data/methods-dev/builds/Pf6.0/20161115_run_Olivo_GRC\"\n",
    "!mkdir -p {scratch_dir}/grc\n",
    "!mkdir -p {scratch_dir}/species\n",
    "!mkdir -p {scratch_dir}/log\n",
    "!mkdir -p {output_dir}/grc\n",
    "!mkdir -p {output_dir}/species\n",
    "\n",
    "bam_fn = \"%s/pf_60_mergelanes.txt\" % output_dir\n",
    "bam_list_fn = \"%s/pf_60_mergelanes_bamfiles.txt\" % output_dir\n",
    "chromosomeMap_fn = \"%s/chromosomeMap.tab\" % output_dir\n",
    "grc_properties_fn = \"%s/grc/grc.properties\" % output_dir\n",
    "species_properties_fn = \"%s/species/species.properties\" % output_dir\n",
    "submitArray_fn = \"%s/grc/submitArray.sh\" % output_dir\n",
    "submitSpeciesArray_fn = \"%s/species/submitArray.sh\" % output_dir\n",
    "runArrayJob_fn = \"%s/grc/runArrayJob.sh\" % output_dir\n",
    "runSpeciesArrayJob_fn = \"%s/species/runArrayJob.sh\" % output_dir\n",
    "mergeGrcResults_fn = \"%s/grc/mergeGrcResults.sh\" % output_dir\n",
    "mergeSpeciesResults_fn = \"%s/species/mergeSpeciesResults.sh\" % output_dir\n",
    "\n",
    "ref_fasta_fn = \"/lustre/scratch116/malaria/pfalciparum/resources/Pfalciparum.genome.fasta\""
   ]
  },
  {
   "cell_type": "code",
   "execution_count": 3,
   "metadata": {
    "collapsed": false
   },
   "outputs": [
    {
     "data": {
      "text/plain": [
       "'/nfs/team112_internal/rp7/data/methods-dev/builds/Pf6.0/20161115_run_Olivo_GRC/pf_60_mergelanes_bamfiles.txt'"
      ]
     },
     "execution_count": 3,
     "metadata": {},
     "output_type": "execute_result"
    }
   ],
   "source": [
    "bam_list_fn"
   ]
  },
  {
   "cell_type": "code",
   "execution_count": 4,
   "metadata": {
    "collapsed": false
   },
   "outputs": [],
   "source": [
    "!cp /nfs/users/nfs_r/rp7/pf_60_mergelanes.txt {bam_fn}"
   ]
  },
  {
   "cell_type": "code",
   "execution_count": 5,
   "metadata": {
    "collapsed": false
   },
   "outputs": [
    {
     "name": "stdout",
     "output_type": "stream",
     "text": [
      "dos2unix: converting file /nfs/team112_internal/rp7/data/methods-dev/builds/Pf6.0/20161115_run_Olivo_GRC/pf_60_mergelanes_bamfiles.txt to Unix format ...\r\n"
     ]
    }
   ],
   "source": [
    "# Create list of bam files in format required\n",
    "tbl_bam_file = (etl\n",
    "    .fromtsv(bam_fn)\n",
    "    .addfield('ChrMap', 'Pf3k')\n",
    "    .rename('path', 'BamFile')\n",
    "    .rename('sample', 'Sample')\n",
    "    .cut(['Sample', 'BamFile', 'ChrMap'])\n",
    ")\n",
    "tbl_bam_file.totsv(bam_list_fn)\n",
    "!dos2unix -o {bam_list_fn}"
   ]
  },
  {
   "cell_type": "code",
   "execution_count": 6,
   "metadata": {
    "collapsed": false
   },
   "outputs": [],
   "source": [
    "fo = open(grc_properties_fn, 'w')\n",
    "print('''grc.loci=crt_core,crt_ex01,crt_ex02,crt_ex03,crt_ex04,crt_ex06,crt_ex09,crt_ex10,crt_ex11,dhfr_1,dhfr_2,dhfr_3,dhps_1,dhps_2,dhps_3,dhps_4,mdr1_1,mdr1_2,mdr1_3,arps10,mdr2,fd,exo\n",
    "\n",
    "# CRT\n",
    "grc.locus.crt_core.region=Pf3D7_07_v3:403500-403800\n",
    "grc.locus.crt_core.targets=crt_72-76@403612-403626\n",
    "grc.locus.crt_core.anchors=403593@TATTATTTATTTAAGTGTA,403627@ATTTTTGCTAAAAGAAC\n",
    "\n",
    "grc.locus.crt_ex01.region=Pf3D7_07_v3:403150-404420\n",
    "grc.locus.crt_ex01.targets=crt_24@403291-403293\n",
    "grc.locus.crt_ex01.anchors=403273@GAGCGTTATA.[AG]GAATTA...AATTTA.TACAAGAA[GA]GAA\n",
    "\n",
    "grc.locus.crt_ex02.region=Pf3D7_07_v3:403550-403820\n",
    "grc.locus.crt_ex02.targets=crt_97@403687-403689\n",
    "grc.locus.crt_ex02.anchors=403657@GGTAACTATAGTTTTGT.[AT]CATC[CT]GAAAC,403690@AACTTTATTTGTATGATTA[TA]GTTCTTTATT\n",
    "\n",
    "grc.locus.crt_ex03.region=Pf3D7_07_v3:403850-404170\n",
    "grc.locus.crt_ex03.targets=crt_144@404007-404009,crt_148@404019-404021\n",
    "grc.locus.crt_ex03.anchors=404022@ACAAGAACTACTGGAAA[TC]AT[CT]CA[AG]TCATTT,403977@TC[CT]AT.TTA.AT[GT]CCTGTTCA.T[CA]ATT\n",
    "\n",
    "grc.locus.crt_ex04.region=Pf3D7_07_v3:404200-404500\n",
    "grc.locus.crt_ex04.targets=crt_194@404329-404331,crt_220@404407-404409\n",
    "grc.locus.crt_ex04.anchors=404304@CGGAGCA[GC]TTATTATTGTTGTAACA...GCTC,404338@GTAGAAATGAAATTATC[TA]TTTGAAACAC,404359@GAAACACAAGAAGAAAATTCTATC[AG]TATTTAATC,404382@C[AG]TATTTAATCTTGTCTTA[AT]TTAGT...TTAATTG\n",
    "\n",
    "grc.locus.crt_ex06.region=Pf3D7_07_v3:404700-405000\n",
    "grc.locus.crt_ex06.targets=crt_271@404836-404838\n",
    "grc.locus.crt_ex06.anchors=404796@TTGTCTTATATT.CCTGTATACACCCTTCCATT[TC]TTAAAA...C\n",
    "\n",
    "grc.locus.crt_ex09.region=Pf3D7_07_v3:405200-405500\n",
    "grc.locus.crt_ex09.targets=crt_326@405361-405363,crt_333@405382-405384\n",
    "grc.locus.crt_ex09.anchors=405334@AAAACCTT[CT]G[CT]ATTGTTTTCCTTCTTT,405364@A.TTGTGATAATTTAATA...AGCTAT\n",
    "\n",
    "grc.locus.crt_ex10.region=Pf3D7_07_v3:405400-405750\n",
    "grc.locus.crt_ex10.targets=crt_342@405557-405559,crt_356@405599-405601\n",
    "grc.locus.crt_ex10.anchors=405539@ATTATCGACAAATTTTCT...[AT]TGACATATAC,405573@TTGTTAGTTGTATACAAG[GT]TCCA[GA]CA,405602@GCAATT[GT]CTTATTACTTTAAATTCTTA[GA]CC\n",
    "\n",
    "grc.locus.crt_ex11.region=Pf3D7_07_v3:405700-406000\n",
    "grc.locus.crt_ex11.targets=crt_371@405837-405839\n",
    "grc.locus.crt_ex11.anchors=405825@[GT]GTGATGTT.[TA]A...G.ACCAAGATTATTAG,405840@G.ACCAAGATTATTAGATTTCGTAACTTTG\n",
    "\n",
    "# DHFR\n",
    "grc.locus.dhfr_1.region=Pf3D7_04_v3:748100-748400\n",
    "grc.locus.dhfr_1.targets=dhfr_51@748238-748240,dhfr_59@748262-748264\n",
    "grc.locus.dhfr_1.anchors=748200@GAGGTCTAGGAAATAAAGGAGTATTACCATGGAA,748241@TCCCTAGATATGAAATATTTT...GCAG,748265@GCAGTTACAACATATGTGAATGAATC\n",
    "\n",
    "grc.locus.dhfr_2.region=Pf3D7_04_v3:748250-748550\n",
    "grc.locus.dhfr_2.targets=dhfr_108@748409-748411\n",
    "grc.locus.dhfr_2.anchors=748382@CAAAATGTTGTAGTTATGGGAAGAACA,748412@TGGGAAAGCATTCCAAAAAAATTT\n",
    "\n",
    "grc.locus.dhfr_3.region=Pf3D7_04_v3:748400-748720\n",
    "grc.locus.dhfr_3.targets=dhfr_164@748577-748579\n",
    "grc.locus.dhfr_3.anchors=748382@GGGAAATTAAATTACTATAAATG,748382@CTATAAATGTTTTATT...GGAGGTTC,748412@GGAGGTTCCGTTGTTTATCAAG\n",
    "\n",
    "\n",
    "# DHPS\n",
    "grc.locus.dhps_1.region=Pf3D7_08_v3:549550-549750\n",
    "grc.locus.dhps_1.targets=dhps_436@549681-549683,dhps_437@549684-549686\n",
    "grc.locus.dhps_1.anchors=549657@GTTATAGAT[AG]TAGGTGGAGAATCC,549669@GGTGGAGAATCC..TG.TCC,549687@CCTTTTGTTAT[AG]CCTAATCCAAAAATTAGTG\n",
    "\n",
    "grc.locus.dhps_2.region=Pf3D7_08_v3:549850-550150\n",
    "grc.locus.dhps_2.targets=dhps_540@549993-549995\n",
    "grc.locus.dhps_2.anchors=549949@GTGTAGTTCTAATGCATAAAAGAGG,549970@GAGGAAATCCACATACAATGGAT,549985@CAATGGAT...CTAACAAATTA[TA]GATA,549996@CTAACAAATTA[TA]GATAATCTAGT\n",
    "\n",
    "grc.locus.dhps_3.region=Pf3D7_08_v3:549950-550250\n",
    "grc.locus.dhps_3.targets=dhps_581@550116-550118\n",
    "grc.locus.dhps_3.anchors=550092@CTATTTGATATTGGATTAGGATTT,550119@AAGAAACATGATCAATCT[AT]TTAAACTC\n",
    "\n",
    "grc.locus.dhps_4.region=Pf3D7_08_v3:550050-550350\n",
    "grc.locus.dhps_4.targets=dhps_613@550212-550214\n",
    "grc.locus.dhps_4.anchors=550167@GATGAGTATCCACTTTTTATTGG,550188@GGATATTCAAGAAAAAGATTTATT,550215@CATTGCATGAATGATCAAAATGTTG\n",
    "\n",
    "\n",
    "# MDR1\n",
    "grc.locus.mdr1_1.region=Pf3D7_05_v3:957970-958280\n",
    "grc.locus.mdr1_1.targets=mdr1_86@958145-958147\n",
    "grc.locus.mdr1_1.anchors=958120@GTTTG[GT]TGTAATATTAAA[GA]AACATG,958141@CATG...TTAGGTGATGATATTAATCCT\n",
    "\n",
    "grc.locus.mdr1_2.region=Pf3D7_05_v3:958300-958600\n",
    "grc.locus.mdr1_2.targets=mdr1_184@958439-958441\n",
    "grc.locus.mdr1_2.anchors=958413@CATATGC[CA]AGTTCCTTTTTAGG,958446@GGTC[AG]TTAATAAAAAAT[GA]CACGTTTGAC\n",
    "\n",
    "grc.locus.mdr1_3.region=Pf3D7_05_v3:961470-961770\n",
    "grc.locus.mdr1_3.targets=mdr1_1246@961625-961627\n",
    "grc.locus.mdr1_3.anchors=961595@GTTATAGAT[AG]TAGGTGGAGAATCC,961628@CTTAGAAA[CT][TA]TATTTTC[AT]ATAGTTAGTC\n",
    "\n",
    "# ARPS10\n",
    "grc.locus.arps10.region=Pf3D7_14_v3:2480900-2481200\n",
    "grc.locus.arps10.targets=arps10_127@2481070-2481072\n",
    "grc.locus.arps10.anchors=2481045@ATTTAC[CA]TTTTTGCGATCTCCCCAT...[GC],2481079@GACAGT[AC]G[AG]GA[GA]CAATTCGAAATAAAAC\n",
    "\n",
    "# MDR2\n",
    "grc.locus.mdr2.region=Pf3D7_14_v3:1956070-1956370\n",
    "grc.locus.mdr2.targets=mdr2_484@-1956224-1956226\n",
    "grc.locus.mdr2.anchors=1956203@ACATGTTATTAATCCT[TC]TAT...TGCC,1956227@TGCCGGAATAAT[AG]TACATTAAAACAGAAC\n",
    "\n",
    "# Ferredoxin\n",
    "grc.locus.fd.region=Pf3D7_13_v3:748250-748550\n",
    "grc.locus.fd.targets=fd_193@-748393-748395\n",
    "grc.locus.fd.anchors=748396@[GA]TGTAGTTCGTCTTCCTTGTG[CT]GTTTC\n",
    "\n",
    "# Exo\n",
    "grc.locus.exo.region=Pf3D7_13_v3:2504400-2504700\n",
    "grc.locus.exo.targets=exo_415@2504559-2504561\n",
    "grc.locus.exo.anchors=2504526@[GC]ATGATTTTA[AG][CA]AATATGGT[TC]ATAA[CT]GATAAAA,2504562@GAA[GT]TAAA[CT][AC]ATCATTGG[GA]AAAA[TC]AATATATAC\n",
    "''', file=fo)\n",
    "fo.close() "
   ]
  },
  {
   "cell_type": "code",
   "execution_count": 8,
   "metadata": {
    "collapsed": false
   },
   "outputs": [],
   "source": [
    "fo = open(species_properties_fn, 'w')\n",
    "print('''sampleClass.classes=Pf,Pv,Pm,Pow,Poc,Pk\n",
    "sampleClass.loci=mito1,mito2,mito3,mito4,mito5,mito6 \n",
    "\n",
    "sampleClass.locus.mito1.region=M76611:520-820 \n",
    "sampleClass.locus.mito1.anchors=651@CCTTACGTACTCTAGCT....ACACAA\n",
    "sampleClass.locus.mito1.targets=species1@668-671&678-683\n",
    "sampleClass.locus.mito1.target.species1.alleles=Pf@ATGATTGTCT|ATGATTGTTT,Pv@TTTATATTAT,Pm@TTGTATTAAT,Pow@ATTTACATAA,Poc@ATTTATATAT,Pk@TTTTTATTAT\n",
    "\n",
    "sampleClass.locus.mito2.region=M76611:600-900 \n",
    "sampleClass.locus.mito2.anchors=741@GAATAGAA...GAACTCTATAAATAACCA\n",
    "sampleClass.locus.mito2.targets=species2@728-733&740-740&749-751&770-773\n",
    "sampleClass.locus.mito2.target.species2.alleles=Pf@GTTCATTTAAGATT|GTTCATTTAAGACT,Pv|Pk@TATTCATAAATACA,Pm@GTTCAATTAGTACT,Pow|Poc@GTTACAATAATATT\n",
    "\n",
    "sampleClass.locus.mito3.region=M76611:720-1020 \n",
    "sampleClass.locus.mito3.anchors=842@(?:GAAAGAATTTATAA|ATATA[AG]TGAATATG)ACCAT\n",
    "sampleClass.locus.mito3.targets=species3@861-869&878-881&884-887\n",
    "sampleClass.locus.mito3.target.species3.alleles=Pf@TCGGTAGAATATTTATT,Pv@TCACTATTACATTAACT,Pm@TCACTATTTAATATATC,Pow@CCCTTATTTAACTAACC|TCCTTATTTAACTAACC,Poc@TCGTTATTAAACTAACC,Pk@TCACAATTAAACTTATT\n",
    "\n",
    "sampleClass.locus.mito4.region=M76611:820-1120 \n",
    "sampleClass.locus.mito4.anchors=948@CCTGTAACACAATAAAATAATGT\n",
    "sampleClass.locus.mito4.targets=species4@971-982\n",
    "sampleClass.locus.mito4.target.species4.alleles=Pf@AGTATATACAGT,Pv|Pow|Poc@ACCAGATATAGC,Pm@TCCTGAAACTCC,Pk@ACCTGATATAGC\n",
    "\n",
    "sampleClass.locus.mito5.region=M76611:900-1200 \n",
    "sampleClass.locus.mito5.anchors=1029@GATGCAAAACATTCTCC\n",
    "sampleClass.locus.mito5.targets=species5@1025-1028&1046-1049\n",
    "sampleClass.locus.mito5.target.species5.alleles=Pf@TAGATAAT,Pv|Pk@AAGTAAGT,Pm@TAATAAGT,Pow@TAATAAGA,Poc@TAATAAGG\n",
    "\n",
    "sampleClass.locus.mito6.region=M76611:950-1250\n",
    "sampleClass.locus.mito6.anchors=1077@ATTTC[AT]AAACTCAT[TA]CCTTTTTCTA\n",
    "sampleClass.locus.mito6.targets=species6@1062-1066&1073-1073&1076-1076&1082-1082&1091-1091&1102-1108\n",
    "sampleClass.locus.mito6.target.species6.alleles=Pf@CAAATAGATTAAATAC,Pv|Pk@AATACAATTTTAGAAA|AATATAATTTTAGAAA,Pm@AATATTTAAAAAGAAA,Pow|Poc@AATATTTTTTGAGAAA|AATATTTTTTAAGAAA\n",
    "''', file=fo)\n",
    "fo.close() "
   ]
  },
  {
   "cell_type": "code",
   "execution_count": 9,
   "metadata": {
    "collapsed": false
   },
   "outputs": [],
   "source": [
    "fo = open(chromosomeMap_fn, 'w')\n",
    "print('''default\tPf3k\n",
    "Pf3D7_01_v3\tPf3D7_01_v3\n",
    "Pf3D7_02_v3\tPf3D7_02_v3\n",
    "Pf3D7_03_v3\tPf3D7_03_v3\n",
    "Pf3D7_04_v3\tPf3D7_04_v3\n",
    "Pf3D7_05_v3\tPf3D7_05_v3\n",
    "Pf3D7_06_v3\tPf3D7_06_v3\n",
    "Pf3D7_07_v3\tPf3D7_07_v3\n",
    "Pf3D7_08_v3\tPf3D7_08_v3\n",
    "Pf3D7_09_v3\tPf3D7_09_v3\n",
    "Pf3D7_10_v3\tPf3D7_10_v3\n",
    "Pf3D7_11_v3\tPf3D7_11_v3\n",
    "Pf3D7_12_v3\tPf3D7_12_v3\n",
    "Pf3D7_13_v3\tPf3D7_13_v3\n",
    "Pf3D7_14_v3\tPf3D7_14_v3\n",
    "M76611\tPf_M76611\n",
    "PFC10_API_IRAB\tPf3D7_API_v3\n",
    "''', file=fo)\n",
    "fo.close()\n"
   ]
  },
  {
   "cell_type": "code",
   "execution_count": 10,
   "metadata": {
    "collapsed": true
   },
   "outputs": [],
   "source": [
    "fo = open(runArrayJob_fn, 'w')\n",
    "print('''BAMLIST_FILE=$1\n",
    "CONFIG_FILE=$2\n",
    "REF_FASTA_FILE=$3\n",
    "CHR_MAP_FILE=$4\n",
    "OUT_DIR=$5\n",
    " \n",
    "JOB=$LSB_JOBINDEX\n",
    "#JOB=3\n",
    " \n",
    "IN=`sed \"$JOB q;d\" $BAMLIST_FILE`\n",
    "read -a LINE <<< \"$IN\"\n",
    "SAMPLE_NAME=${LINE[0]}\n",
    "BAM_FILE=${LINE[1]}\n",
    "CHR_MAP_NAME=${LINE[2]}\n",
    " \n",
    "JAVA_HOME=/nfs/team112_internal/rp7/opt/java/jdk1.8.0_101\n",
    "JRE_HOME=/nfs/team112_internal/rp7/opt/java/jdk1.8.0_101\n",
    "\n",
    "GRCC=/nfs/team112_internal/rp7/src/github/malariagen/GeneticReportCard/AnalysisCommon\n",
    "GRCA=/nfs/team112_internal/rp7/src/github/malariagen/GeneticReportCard/SequencingReadsAnalysis\n",
    "CLASSPATH=$GRCA/bin:$GRCC/bin:\\\n",
    "$GRCC/lib/commons-logging-1.1.1.jar:\\\n",
    "$GRCA/lib/apache-ant-1.8.2-bzip2.jar:\\\n",
    "$GRCA/lib/commons-compress-1.4.1.jar:\\\n",
    "$GRCA/lib/commons-jexl-2.1.1.jar:\\\n",
    "$GRCA/lib/htsjdk-2.1.0.jar:\\\n",
    "$GRCA/lib/ngs-java-1.2.2.jar:\\\n",
    "$GRCA/lib/snappy-java-1.0.3-rc3.jar:\\\n",
    "$GRCA/lib/xz-1.5.jar\n",
    "\n",
    "$JAVA_HOME/bin/java -cp $CLASSPATH -Xms512m -Xmx2000m 'org.cggh.bam.grc.GrcAnalysis$SingleSample' $CONFIG_FILE $SAMPLE_NAME $BAM_FILE $CHR_MAP_NAME $REF_FASTA_FILE $CHR_MAP_FILE $OUT_DIR\n",
    "''', file=fo)\n",
    "fo.close()\n",
    "\n"
   ]
  },
  {
   "cell_type": "code",
   "execution_count": 138,
   "metadata": {
    "collapsed": true
   },
   "outputs": [],
   "source": [
    "fo = open(runSpeciesArrayJob_fn, 'w')\n",
    "print('''BAMLIST_FILE=$1\n",
    "CONFIG_FILE=$2\n",
    "REF_FASTA_FILE=$3\n",
    "CHR_MAP_FILE=$4\n",
    "OUT_DIR=$5\n",
    " \n",
    "JOB=$LSB_JOBINDEX\n",
    "#JOB=3\n",
    " \n",
    "IN=`sed \"$JOB q;d\" $BAMLIST_FILE`\n",
    "read -a LINE <<< \"$IN\"\n",
    "SAMPLE_NAME=${LINE[0]}\n",
    "BAM_FILE=${LINE[1]}\n",
    "CHR_MAP_NAME=${LINE[2]}\n",
    " \n",
    "JAVA_HOME=/nfs/team112_internal/rp7/opt/java/jdk1.8.0_101\n",
    "JRE_HOME=/nfs/team112_internal/rp7/opt/java/jdk1.8.0_101\n",
    "\n",
    "GRCC=/nfs/team112_internal/rp7/src/github/malariagen/GeneticReportCard/AnalysisCommon\n",
    "GRCA=/nfs/team112_internal/rp7/src/github/malariagen/GeneticReportCard/SequencingReadsAnalysis\n",
    "CLASSPATH=$GRCA/bin:$GRCC/bin:\\\n",
    "$GRCC/lib/commons-logging-1.1.1.jar:\\\n",
    "$GRCA/lib/apache-ant-1.8.2-bzip2.jar:\\\n",
    "$GRCA/lib/commons-compress-1.4.1.jar:\\\n",
    "$GRCA/lib/commons-jexl-2.1.1.jar:\\\n",
    "$GRCA/lib/htsjdk-2.1.0.jar:\\\n",
    "$GRCA/lib/ngs-java-1.2.2.jar:\\\n",
    "$GRCA/lib/snappy-java-1.0.3-rc3.jar:\\\n",
    "$GRCA/lib/xz-1.5.jar\n",
    "\n",
    "echo\n",
    "echo $SAMPLE_NAME\n",
    "echo $BAM_FILE\n",
    "echo $CHR_MAP_NAME\n",
    "echo\n",
    "echo $JAVA_HOME/bin/java -cp $CLASSPATH -Xms512m -Xmx2000m 'org.cggh.bam.sampleClass.SampleClassAnalysis$SingleSample' $CONFIG_FILE $SAMPLE_NAME $BAM_FILE $CHR_MAP_NAME $REF_FASTA_FILE $CHR_MAP_FILE $OUT_DIR\n",
    "echo\n",
    "\n",
    "$JAVA_HOME/bin/java -cp $CLASSPATH -Xms512m -Xmx2000m 'org.cggh.bam.sampleClass.SampleClassAnalysis$SingleSample' $CONFIG_FILE $SAMPLE_NAME $BAM_FILE $CHR_MAP_NAME $REF_FASTA_FILE $CHR_MAP_FILE $OUT_DIR\n",
    "''', file=fo)\n",
    "fo.close()\n",
    "\n"
   ]
  },
  {
   "cell_type": "code",
   "execution_count": 11,
   "metadata": {
    "collapsed": false
   },
   "outputs": [],
   "source": [
    "fo = open(submitArray_fn, 'w')\n",
    "print('''BAMLIST_FILE=%s\n",
    "CONFIG_FILE=%s\n",
    "REF_FASTA_FILE=%s\n",
    "CHR_MAP_FILE=%s\n",
    "OUT_DIR=%s/grc\n",
    "LOG_DIR=%s/log\n",
    " \n",
    "NUM_BAMLIST_LINES=`wc -l < $BAMLIST_FILE`\n",
    "QUEUE=normal\n",
    "# NUM_BAMLIST_LINES=2\n",
    "# QUEUE=small\n",
    "\n",
    "bsub -q $QUEUE -G malaria-dk -J \"genotype[2-$NUM_BAMLIST_LINES]%%25\" -R\"select[mem>2000] rusage[mem=2000] span[hosts=1]\" -M 2000 -o $LOG_DIR/output_%%J-%%I.log %s $BAMLIST_FILE $CONFIG_FILE $REF_FASTA_FILE $CHR_MAP_FILE $OUT_DIR\n",
    "''' % (\n",
    "        bam_list_fn,\n",
    "        grc_properties_fn,\n",
    "        ref_fasta_fn,\n",
    "        chromosomeMap_fn,\n",
    "        scratch_dir,\n",
    "        scratch_dir,\n",
    "        \"bash %s\" % runArrayJob_fn,\n",
    "        ),\n",
    "     file=fo)\n",
    "fo.close()\n",
    "\n"
   ]
  },
  {
   "cell_type": "code",
   "execution_count": 128,
   "metadata": {
    "collapsed": false
   },
   "outputs": [],
   "source": [
    "fo = open(submitSpeciesArray_fn, 'w')\n",
    "print('''BAMLIST_FILE=%s\n",
    "CONFIG_FILE=%s\n",
    "REF_FASTA_FILE=%s\n",
    "CHR_MAP_FILE=%s\n",
    "OUT_DIR=%s/species\n",
    "LOG_DIR=%s/log\n",
    " \n",
    "NUM_BAMLIST_LINES=`wc -l < $BAMLIST_FILE`\n",
    "QUEUE=small\n",
    "# NUM_BAMLIST_LINES=2\n",
    "# QUEUE=small\n",
    "\n",
    "bsub -q $QUEUE -G malaria-dk -J \"genotype[2-$NUM_BAMLIST_LINES]%%25\" -R\"select[mem>2000] rusage[mem=2000] span[hosts=1]\" -M 2000 -o $LOG_DIR/output_%%J-%%I.log %s $BAMLIST_FILE $CONFIG_FILE $REF_FASTA_FILE $CHR_MAP_FILE $OUT_DIR\n",
    "''' % (\n",
    "        bam_list_fn,\n",
    "        species_properties_fn,\n",
    "        ref_fasta_fn,\n",
    "        chromosomeMap_fn,\n",
    "        scratch_dir,\n",
    "        scratch_dir,\n",
    "        \"bash %s\" % runSpeciesArrayJob_fn,\n",
    "        ),\n",
    "     file=fo)\n",
    "fo.close()\n",
    "\n"
   ]
  },
  {
   "cell_type": "code",
   "execution_count": 12,
   "metadata": {
    "collapsed": false
   },
   "outputs": [],
   "source": [
    "fo = open(mergeGrcResults_fn, 'w')\n",
    "print('''BAMLIST_FILE=%s\n",
    "CONFIG_FILE=%s\n",
    "REF_FASTA_FILE=%s\n",
    "CHR_MAP_FILE=%s\n",
    "OUT_DIR=%s/grc\n",
    " \n",
    "JAVA_HOME=/nfs/team112_internal/rp7/opt/java/jdk1.8.0_101\n",
    "JRE_HOME=/nfs/team112_internal/rp7/opt/java/jdk1.8.0_101\n",
    "\n",
    "GRCC=/nfs/team112_internal/rp7/src/github/malariagen/GeneticReportCard/AnalysisCommon\n",
    "GRCA=/nfs/team112_internal/rp7/src/github/malariagen/GeneticReportCard/SequencingReadsAnalysis\n",
    "CLASSPATH=$GRCA/bin:$GRCC/bin:\\\n",
    "$GRCC/lib/commons-logging-1.1.1.jar:\\\n",
    "$GRCA/lib/apache-ant-1.8.2-bzip2.jar:\\\n",
    "$GRCA/lib/commons-compress-1.4.1.jar:\\\n",
    "$GRCA/lib/commons-jexl-2.1.1.jar:\\\n",
    "$GRCA/lib/htsjdk-2.1.0.jar:\\\n",
    "$GRCA/lib/ngs-java-1.2.2.jar:\\\n",
    "$GRCA/lib/snappy-java-1.0.3-rc3.jar:\\\n",
    "$GRCA/lib/xz-1.5.jar\n",
    "\n",
    "$JAVA_HOME/bin/java -cp $CLASSPATH -Xms512m -Xmx2000m 'org.cggh.bam.grc.GrcAnalysis$MergeResults' $CONFIG_FILE $BAMLIST_FILE $REF_FASTA_FILE $CHR_MAP_FILE $OUT_DIR\n",
    "''' % (\n",
    "        bam_list_fn,\n",
    "        grc_properties_fn,\n",
    "        ref_fasta_fn,\n",
    "        chromosomeMap_fn,\n",
    "        scratch_dir,\n",
    "        ),\n",
    "     file=fo)\n",
    "fo.close()"
   ]
  },
  {
   "cell_type": "code",
   "execution_count": 118,
   "metadata": {
    "collapsed": false
   },
   "outputs": [],
   "source": [
    "fo = open(mergeSpeciesResults_fn, 'w')\n",
    "print('''BAMLIST_FILE=%s\n",
    "CONFIG_FILE=%s\n",
    "REF_FASTA_FILE=%s\n",
    "OUT_DIR=%s/species\n",
    " \n",
    "JAVA_HOME=/nfs/team112_internal/rp7/opt/java/jdk1.8.0_101\n",
    "JRE_HOME=/nfs/team112_internal/rp7/opt/java/jdk1.8.0_101\n",
    "\n",
    "GRCC=/nfs/team112_internal/rp7/src/github/malariagen/GeneticReportCard/AnalysisCommon\n",
    "GRCA=/nfs/team112_internal/rp7/src/github/malariagen/GeneticReportCard/SequencingReadsAnalysis\n",
    "CLASSPATH=$GRCA/bin:$GRCC/bin:\\\n",
    "$GRCC/lib/commons-logging-1.1.1.jar:\\\n",
    "$GRCA/lib/apache-ant-1.8.2-bzip2.jar:\\\n",
    "$GRCA/lib/commons-compress-1.4.1.jar:\\\n",
    "$GRCA/lib/commons-jexl-2.1.1.jar:\\\n",
    "$GRCA/lib/htsjdk-2.1.0.jar:\\\n",
    "$GRCA/lib/ngs-java-1.2.2.jar:\\\n",
    "$GRCA/lib/snappy-java-1.0.3-rc3.jar:\\\n",
    "$GRCA/lib/xz-1.5.jar\n",
    "\n",
    "$JAVA_HOME/bin/java -cp $CLASSPATH -Xms512m -Xmx2000m 'org.cggh.bam.species.SpeciesAnalysis$MergeResults' $CONFIG_FILE $BAMLIST_FILE $REF_FASTA_FILE $OUT_DIR\n",
    "''' % (\n",
    "        bam_list_fn,\n",
    "        species_properties_fn,\n",
    "        ref_fasta_fn,\n",
    "        scratch_dir,\n",
    "        ),\n",
    "     file=fo)\n",
    "fo.close()"
   ]
  },
  {
   "cell_type": "markdown",
   "metadata": {},
   "source": [
    "# Kicking off pipeline"
   ]
  },
  {
   "cell_type": "code",
   "execution_count": 13,
   "metadata": {
    "collapsed": false
   },
   "outputs": [
    {
     "name": "stdout",
     "output_type": "stream",
     "text": [
      "Job <8060954> is submitted to queue <normal>.\r\n"
     ]
    }
   ],
   "source": [
    "!bash {submitArray_fn}"
   ]
  },
  {
   "cell_type": "code",
   "execution_count": 108,
   "metadata": {
    "collapsed": false
   },
   "outputs": [],
   "source": [
    "!bash {mergeGrcResults_fn}"
   ]
  },
  {
   "cell_type": "code",
   "execution_count": 139,
   "metadata": {
    "collapsed": false
   },
   "outputs": [
    {
     "name": "stdout",
     "output_type": "stream",
     "text": [
      "Job <8057044> is submitted to queue <small>.\r\n"
     ]
    }
   ],
   "source": [
    "!bash {submitSpeciesArray_fn}"
   ]
  },
  {
   "cell_type": "code",
   "execution_count": 141,
   "metadata": {
    "collapsed": false
   },
   "outputs": [
    {
     "data": {
      "text/plain": [
       "'/nfs/team112_internal/rp7/data/methods-dev/builds/Pf6.0/20161111_run_Olivo_GRC/species/submitArray.sh'"
      ]
     },
     "execution_count": 141,
     "metadata": {},
     "output_type": "execute_result"
    }
   ],
   "source": [
    "submitSpeciesArray_fn"
   ]
  },
  {
   "cell_type": "code",
   "execution_count": null,
   "metadata": {
    "collapsed": true
   },
   "outputs": [],
   "source": [
    "!bash {mergeSpeciesResults_fn}"
   ]
  }
 ],
 "metadata": {
  "anaconda-cloud": {},
  "kernelspec": {
   "display_name": "Python [default]",
   "language": "python",
   "name": "python3"
  },
  "language_info": {
   "codemirror_mode": {
    "name": "ipython",
    "version": 3
   },
   "file_extension": ".py",
   "mimetype": "text/x-python",
   "name": "python",
   "nbconvert_exporter": "python",
   "pygments_lexer": "ipython3",
   "version": "3.4.5"
  }
 },
 "nbformat": 4,
 "nbformat_minor": 1
}
