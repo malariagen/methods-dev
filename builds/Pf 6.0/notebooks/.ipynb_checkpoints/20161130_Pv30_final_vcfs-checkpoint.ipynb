{
 "cells": [
  {
   "cell_type": "markdown",
   "metadata": {},
   "source": [
    "# Plan\n",
    "- Copy everything from 20161125_Pf60_final_vcfs.ipynb\n"
   ]
  },
  {
   "cell_type": "code",
   "execution_count": 2,
   "metadata": {
    "collapsed": false
   },
   "outputs": [
    {
     "name": "stdout",
     "output_type": "stream",
     "text": [
      "python 3.5.2 |Continuum Analytics, Inc.| (default, Jul  2 2016, 17:53:06) \n",
      "[GCC 4.4.7 20120313 (Red Hat 4.4.7-1)]\n",
      "numpy 1.11.2\n",
      "scipy 0.18.1\n",
      "pandas 0.19.0\n",
      "numexpr 2.6.1\n",
      "pysam 0.8.4\n",
      "petl 1.1.0\n",
      "petlx 1.0.3\n",
      "vcf 0.6.8\n",
      "vcfnp 2.2.0\n",
      "h5py 2.6.0\n",
      "tables 3.3.0\n"
     ]
    }
   ],
   "source": [
    "%run _standard_imports.ipynb\n",
    "%run _plotting_setup.ipynb\n"
   ]
  },
  {
   "cell_type": "code",
   "execution_count": 73,
   "metadata": {
    "collapsed": false
   },
   "outputs": [],
   "source": [
    "output_dir = '/lustre/scratch109/malaria/rp7/data/methods-dev/builds/Pv3.0/20161130_Pv30_final_vcfs'\n",
    "vrpipe_vcfs_dir = '/nfs/team112_internal/production_files/Pv/3_0/vcf'\n",
    "\n",
    "gff_fn = \"/lustre/scratch116/malaria/pvivax/resources/snpEff/data/PvivaxP01_GeneDB_Oct2016/PvivaxP01.noseq.gff3\"\n",
    "cds_gff_fn = \"%s/gff/PvivaxP01_GeneDB_Oct2016.PvivaxP01.noseq.gff3.cds.gz\" % output_dir\n",
    "annotations_header_fn = \"%s/intermediate_files/annotations.hdr\" % (output_dir)\n",
    "\n",
    "run_create_multiallelics_file_job_fn = \"%s/scripts/run_create_multiallelics_file_job.sh\" % output_dir\n",
    "submit_create_multiallelics_file_jobs_fn = \"%s/scripts/submit_create_multiallelics_file_jobs.sh\" % output_dir\n",
    "create_study_vcf_job_fn = \"%s/scripts/create_study_vcf_job.sh\" % output_dir\n",
    "\n",
    "vrpipe_metadata_fn = \"%s/Pv_3.0_vrpipe_bam_summaries.txt\" % output_dir\n",
    "short_contigs_fofn = \"%s/short_contigs.fofn\" % output_dir\n",
    "\n",
    "GENOME_FN = \"/lustre/scratch109/malaria/pvivax/resources/gatk/PvivaxP01.genome.fasta\"\n",
    "# BCFTOOLS = '/nfs/team112_internal/rp7/src/github/malariagen/methods-dev/pf3k_techbm/opt_4/bcftools/bcftools'\n",
    "\n",
    "genome_fn = \"%s/PvivaxP01.genome.fasta\" % output_dir\n",
    "\n",
    "!mkdir -p {output_dir}/gff\n",
    "!mkdir -p {output_dir}/vcf\n",
    "!mkdir -p {output_dir}/study_vcfs\n",
    "!mkdir -p {output_dir}/intermediate_files\n",
    "!mkdir -p {output_dir}/tables\n",
    "!mkdir -p {output_dir}/scripts\n",
    "!mkdir -p {output_dir}/log\n",
    "\n"
   ]
  },
  {
   "cell_type": "code",
   "execution_count": 3,
   "metadata": {
    "collapsed": false
   },
   "outputs": [
    {
     "data": {
      "text/plain": [
       "'/lustre/scratch109/malaria/rp7/data/methods-dev/builds/Pv3.0/20161130_Pv30_final_vcfs/gff/PvivaxP01_GeneDB_Oct2016.PvivaxP01.noseq.gff3.cds.gz'"
      ]
     },
     "execution_count": 3,
     "metadata": {},
     "output_type": "execute_result"
    }
   ],
   "source": [
    "cds_gff_fn"
   ]
  },
  {
   "cell_type": "code",
   "execution_count": 4,
   "metadata": {
    "collapsed": true
   },
   "outputs": [],
   "source": [
    "!grep CDS {gff_fn} | sort -k1,1 -k4n,5n | cut -f 1,4,5 | sed 's/$/\\t1/' | bgzip -c > {cds_gff_fn} && tabix -s1 -b2 -e3 {cds_gff_fn}"
   ]
  },
  {
   "cell_type": "code",
   "execution_count": 5,
   "metadata": {
    "collapsed": true
   },
   "outputs": [],
   "source": [
    "fo=open(annotations_header_fn, 'w')\n",
    "print('##INFO=<ID=CDS,Number=0,Type=Flag,Description=\"Is position coding\">', file=fo)\n",
    "print('##INFO=<ID=VARIANT_TYPE,Number=1,Type=String,Description=\"SNP or indel (INDEL)\">', file=fo)\n",
    "print('##INFO=<ID=MULTIALLELIC,Number=1,Type=String,Description=\"Is position biallelic (BI), biallelic plus spanning deletion (SD) or truly multiallelic (MU)\">', file=fo)\n",
    "fo.close()"
   ]
  },
  {
   "cell_type": "code",
   "execution_count": 14,
   "metadata": {
    "collapsed": false
   },
   "outputs": [],
   "source": [
    "fo = open(run_create_multiallelics_file_job_fn, 'w')\n",
    "print('''FASTA_FAI_FILE=%s.fai\n",
    " \n",
    "JOB=$LSB_JOBINDEX\n",
    "# JOB=19\n",
    " \n",
    "IN=`sed \"$JOB q;d\" $FASTA_FAI_FILE`\n",
    "read -a LINE <<< \"$IN\"\n",
    "CHROM=${LINE[0]}\n",
    "\n",
    "INPUT_FULL_VCF_FN=%s/SNP_INDEL_$CHROM.combined.filtered.vcf.gz\n",
    "INPUT_SITES_VCF_FN=%s/intermediate_files/SNP_INDEL_$CHROM.combined.filtered.vcf.gz\n",
    "MULTIALLELIC_FN=%s/intermediate_files/SNP_INDEL_$CHROM.combined.filtered.multiallelic.txt\n",
    "SNPS_FN=%s/intermediate_files/SNP_INDEL_$CHROM.combined.filtered.snps.txt.gz\n",
    "INDELS_FN=%s/intermediate_files/SNP_INDEL_$CHROM.combined.filtered.indels.txt.gz\n",
    "ANNOTATION_FN=%s/intermediate_files/SNP_INDEL_$CHROM.combined.filtered.annotated.txt.gz\n",
    "NORMALISED_ANNOTATION_FN=%s/intermediate_files/SNP_INDEL_$CHROM.combined.filtered.annotated.normalised.vcf.gz\n",
    "OUTPUT_VCF_FN=%s/vcf/Pv_30_$CHROM.final.vcf.gz\n",
    "\n",
    "# echo $INPUT_VCF_FN\n",
    "# echo $OUTPUT_TXT_FN\n",
    "\n",
    "bcftools view --drop-genotypes -Oz -o $INPUT_SITES_VCF_FN $INPUT_FULL_VCF_FN\n",
    "\n",
    "python /nfs/team112_internal/rp7/src/github/malariagen/methods-dev/builds/Pf\\ 6.0/scripts/create_multiallelics_file.py \\\n",
    "-i $INPUT_SITES_VCF_FN -o $MULTIALLELIC_FN\n",
    "\n",
    "bgzip -f $MULTIALLELIC_FN && tabix -s1 -b2 -e2 $MULTIALLELIC_FN.gz\n",
    "\n",
    "bcftools query \\\n",
    "-f'%%CHROM\\t%%POS\\t%%REF\\t%%ALT\\tSNP\\n' --include 'TYPE=\"snp\"' $INPUT_SITES_VCF_FN | \\\n",
    "bgzip -c > $SNPS_FN && tabix -s1 -b2 -e2 -f $SNPS_FN\n",
    "\n",
    "bcftools query \\\n",
    "-f'%%CHROM\\t%%POS\\t%%REF\\t%%ALT\\tINDEL\\n' --include 'TYPE!=\"snp\"' $INPUT_SITES_VCF_FN | \\\n",
    "bgzip -c > $INDELS_FN && tabix -s1 -b2 -e2 -f $INDELS_FN\n",
    "\n",
    "bcftools annotate \\\n",
    "-a %s -c CHROM,FROM,TO,CDS -h %s $INPUT_SITES_VCF_FN | \\\n",
    "bcftools annotate \\\n",
    "-a $SNPS_FN -c CHROM,POS,REF,ALT,INFO/VARIANT_TYPE | \\\n",
    "bcftools annotate \\\n",
    "-a $INDELS_FN -c CHROM,POS,REF,ALT,INFO/VARIANT_TYPE | \\\n",
    "bcftools annotate \\\n",
    "-a $MULTIALLELIC_FN.gz -c CHROM,POS,REF,ALT,INFO/MULTIALLELIC | \\\n",
    "bcftools query \\\n",
    "-f'%%CHROM\\t%%POS\\t%%REF\\t%%ALT\\t%%CDS\\t%%VARIANT_TYPE\\t%%MULTIALLELIC\\n' | \\\n",
    "bgzip -c > $ANNOTATION_FN\n",
    "\n",
    "tabix -s1 -b2 -e2 $ANNOTATION_FN\n",
    "\n",
    "#/nfs/team112_internal/rp7/src/github/malariagen/methods-dev/pf3k_techbm/opt_4/bcftools/bcftools index --tbi \\\n",
    "#$ANNOTATION_FN\n",
    "\n",
    "bcftools norm \\\n",
    "-m -any --fasta-ref %s $INPUT_SITES_VCF_FN | \\\n",
    "bcftools view \\\n",
    "--include 'ALT!=\"*\"' | \\\n",
    "bcftools annotate \\\n",
    "-h %s \\\n",
    "-a $ANNOTATION_FN -c CHROM,POS,REF,ALT,CDS,VARIANT_TYPE,MULTIALLELIC \\\n",
    "--include 'INFO/AC>0' \\\n",
    "--remove ^INFO/AC,INFO/AN,INFO/AF,INFO/VQSLOD -Oz -o $NORMALISED_ANNOTATION_FN\n",
    "\n",
    "bcftools index --tbi \\\n",
    "$NORMALISED_ANNOTATION_FN\n",
    "\n",
    "bcftools annotate \\\n",
    "-a %s -c CHROM,FROM,TO,CDS -h %s $INPUT_FULL_VCF_FN | \\\n",
    "bcftools annotate \\\n",
    "-a $SNPS_FN -c CHROM,POS,REF,ALT,INFO/VARIANT_TYPE | \\\n",
    "bcftools annotate \\\n",
    "-a $INDELS_FN -c CHROM,POS,REF,ALT,INFO/VARIANT_TYPE | \\\n",
    "bcftools annotate \\\n",
    "-a $MULTIALLELIC_FN.gz -c CHROM,POS,REF,ALT,INFO/MULTIALLELIC \\\n",
    "--remove ^INFO/AC,INFO/AF,INFO/AN,INFO/QD,INFO/MQ,INFO/FS,INFO/SOR,INFO/DP,INFO/VariantType,INFO/VQSLOD,INFO/RegionType,\\\n",
    "INFO/SNPEFF_AMINO_ACID_CHANGE,INFO/SNPEFF_CODON_CHANGE,INFO/SNPEFF_EFFECT,INFO/SNPEFF_EXON_ID,\\\n",
    "INFO/SNPEFF_FUNCTIONAL_CLASS,INFO/SNPEFF_GENE_NAME,INFO/SNPEFF_IMPACT,INFO/SNPEFF_TRANSCRIPT_ID,\\\n",
    "INFO/CDS,INFO/VARIANT_TYPE,INFO/MULTIALLELIC,^FORMAT/GT,FORMAT/AD,FORMAT/DP,FORMAT/GQ,FORMAT/PGT,FORMAT/PID,FORMAT/PL,\\\n",
    "^FILTER/PASS,FILTER/Centromere,FILTER/InternalHypervariable,FILTER/SubtelomericHypervariable,\\\n",
    "FILTER/SubtelomericRepeat,FILTER/ShortContig,FILTER/Low_VQSLOD \\\n",
    "-Oz -o $OUTPUT_VCF_FN\n",
    "\n",
    "bcftools index --tbi \\\n",
    "$OUTPUT_VCF_FN\n",
    "\n",
    "''' % (\n",
    "        GENOME_FN,\n",
    "        vrpipe_vcfs_dir,\n",
    "        output_dir,\n",
    "        output_dir,\n",
    "        output_dir,\n",
    "        output_dir,\n",
    "        output_dir,\n",
    "        output_dir,\n",
    "        output_dir,\n",
    "        cds_gff_fn,\n",
    "        annotations_header_fn,\n",
    "        GENOME_FN,\n",
    "        annotations_header_fn,\n",
    "        cds_gff_fn,\n",
    "        annotations_header_fn,\n",
    "        )\n",
    "        , file=fo)\n",
    "fo.close()\n"
   ]
  },
  {
   "cell_type": "code",
   "execution_count": 11,
   "metadata": {
    "collapsed": false
   },
   "outputs": [
    {
     "name": "stdout",
     "output_type": "stream",
     "text": [
      "Lines   total/split/realigned/skipped:\t347/39/19/0\r\n"
     ]
    }
   ],
   "source": [
    "!bash {run_create_multiallelics_file_job_fn}"
   ]
  },
  {
   "cell_type": "code",
   "execution_count": 52,
   "metadata": {
    "collapsed": true
   },
   "outputs": [],
   "source": [
    "fo = open(submit_create_multiallelics_file_jobs_fn, 'w')\n",
    "print('''FASTA_FAI_FILE=%s.fai\n",
    "LOG_DIR=%s/log\n",
    " \n",
    "NUM_CHROMS=`wc -l < $FASTA_FAI_FILE`\n",
    "QUEUE=long\n",
    "\n",
    "bsub -q $QUEUE -G malaria-dk -J \"ma[1-$NUM_CHROMS]\" -n2 -R\"select[mem>2000] rusage[mem=2000] span[hosts=1]\" -M 2000 -o $LOG_DIR/output_%%J-%%I.log %s\n",
    "''' % (\n",
    "        GENOME_FN,\n",
    "        output_dir,\n",
    "        \"bash %s\" % run_create_multiallelics_file_job_fn,\n",
    "        ),\n",
    "     file=fo)\n",
    "fo.close()\n",
    "\n"
   ]
  },
  {
   "cell_type": "code",
   "execution_count": 53,
   "metadata": {
    "collapsed": false
   },
   "outputs": [
    {
     "name": "stdout",
     "output_type": "stream",
     "text": [
      "Job <9179293> is submitted to queue <long>.\r\n"
     ]
    }
   ],
   "source": [
    "!bash {submit_create_multiallelics_file_jobs_fn}"
   ]
  },
  {
   "cell_type": "code",
   "execution_count": 69,
   "metadata": {
    "collapsed": true
   },
   "outputs": [],
   "source": [
    "fo = open(short_contigs_fofn, 'w')\n",
    "for chrom in sorted(list(genome.keys())):\n",
    "    if chrom.startswith('Transfer'):\n",
    "        vcf_fn = \"%s/vcf/Pv_30_%s.final.vcf.gz\" % (output_dir, chrom)\n",
    "        print(vcf_fn, file=fo)\n",
    "fo.close()"
   ]
  },
  {
   "cell_type": "code",
   "execution_count": 70,
   "metadata": {
    "collapsed": false
   },
   "outputs": [
    {
     "data": {
      "text/plain": [
       "'/lustre/scratch109/malaria/rp7/data/methods-dev/builds/Pv3.0/20161130_Pv30_final_vcfs/short_contigs.fofn'"
      ]
     },
     "execution_count": 70,
     "metadata": {},
     "output_type": "execute_result"
    }
   ],
   "source": [
    "short_contigs_fofn"
   ]
  },
  {
   "cell_type": "code",
   "execution_count": 72,
   "metadata": {
    "collapsed": false
   },
   "outputs": [],
   "source": [
    "!bcftools concat --file-list {short_contigs_fofn} -Oz -o {\"%s/vcf/Pv_30_PvP01_00.final.vcf.gz\" % output_dir}"
   ]
  },
  {
   "cell_type": "markdown",
   "metadata": {},
   "source": [
    "# Create study-specific VCFs"
   ]
  },
  {
   "cell_type": "code",
   "execution_count": 67,
   "metadata": {
    "collapsed": false
   },
   "outputs": [
    {
     "data": {
      "text/plain": [
       "<pyfasta.fasta.Fasta at 0x7fb1e33957f0>"
      ]
     },
     "execution_count": 67,
     "metadata": {},
     "output_type": "execute_result"
    }
   ],
   "source": [
    "!cp {GENOME_FN} {genome_fn}\n",
    "genome = pyfasta.Fasta(genome_fn)\n",
    "genome"
   ]
  },
  {
   "cell_type": "code",
   "execution_count": 68,
   "metadata": {
    "collapsed": false
   },
   "outputs": [
    {
     "data": {
      "text/plain": [
       "['PvP01_01_v1',\n",
       " 'PvP01_02_v1',\n",
       " 'PvP01_03_v1',\n",
       " 'PvP01_04_v1',\n",
       " 'PvP01_05_v1',\n",
       " 'PvP01_06_v1',\n",
       " 'PvP01_07_v1',\n",
       " 'PvP01_08_v1',\n",
       " 'PvP01_09_v1',\n",
       " 'PvP01_10_v1',\n",
       " 'PvP01_11_v1',\n",
       " 'PvP01_12_v1',\n",
       " 'PvP01_13_v1',\n",
       " 'PvP01_14_v1',\n",
       " 'PvP01_API_v1',\n",
       " 'PvP01_MIT_v1',\n",
       " 'Transfer.PvP01_00_1.final',\n",
       " 'Transfer.PvP01_00_10.final',\n",
       " 'Transfer.PvP01_00_100.final',\n",
       " 'Transfer.PvP01_00_101.final',\n",
       " 'Transfer.PvP01_00_102.final',\n",
       " 'Transfer.PvP01_00_103.final',\n",
       " 'Transfer.PvP01_00_104.final',\n",
       " 'Transfer.PvP01_00_105.final',\n",
       " 'Transfer.PvP01_00_106.final',\n",
       " 'Transfer.PvP01_00_107.final',\n",
       " 'Transfer.PvP01_00_108.final',\n",
       " 'Transfer.PvP01_00_109.final',\n",
       " 'Transfer.PvP01_00_11.final',\n",
       " 'Transfer.PvP01_00_110.final',\n",
       " 'Transfer.PvP01_00_111.final',\n",
       " 'Transfer.PvP01_00_113.final',\n",
       " 'Transfer.PvP01_00_114.final',\n",
       " 'Transfer.PvP01_00_115.final',\n",
       " 'Transfer.PvP01_00_117.final',\n",
       " 'Transfer.PvP01_00_118.final',\n",
       " 'Transfer.PvP01_00_119.final',\n",
       " 'Transfer.PvP01_00_12.final',\n",
       " 'Transfer.PvP01_00_120.final',\n",
       " 'Transfer.PvP01_00_121.final',\n",
       " 'Transfer.PvP01_00_122.final',\n",
       " 'Transfer.PvP01_00_123.final',\n",
       " 'Transfer.PvP01_00_124.final',\n",
       " 'Transfer.PvP01_00_125.final',\n",
       " 'Transfer.PvP01_00_127.final',\n",
       " 'Transfer.PvP01_00_129.final',\n",
       " 'Transfer.PvP01_00_13.final',\n",
       " 'Transfer.PvP01_00_130.final',\n",
       " 'Transfer.PvP01_00_131.final',\n",
       " 'Transfer.PvP01_00_132.final',\n",
       " 'Transfer.PvP01_00_133.final',\n",
       " 'Transfer.PvP01_00_134.final',\n",
       " 'Transfer.PvP01_00_135.final',\n",
       " 'Transfer.PvP01_00_136.final',\n",
       " 'Transfer.PvP01_00_137.final',\n",
       " 'Transfer.PvP01_00_138.final',\n",
       " 'Transfer.PvP01_00_139.final',\n",
       " 'Transfer.PvP01_00_14.final',\n",
       " 'Transfer.PvP01_00_140.final',\n",
       " 'Transfer.PvP01_00_141.final',\n",
       " 'Transfer.PvP01_00_143.final',\n",
       " 'Transfer.PvP01_00_144.final',\n",
       " 'Transfer.PvP01_00_145.final',\n",
       " 'Transfer.PvP01_00_146.final',\n",
       " 'Transfer.PvP01_00_147.final',\n",
       " 'Transfer.PvP01_00_148.final',\n",
       " 'Transfer.PvP01_00_15.final',\n",
       " 'Transfer.PvP01_00_150.final',\n",
       " 'Transfer.PvP01_00_151.final',\n",
       " 'Transfer.PvP01_00_152.final',\n",
       " 'Transfer.PvP01_00_153.final',\n",
       " 'Transfer.PvP01_00_154.final',\n",
       " 'Transfer.PvP01_00_155.final',\n",
       " 'Transfer.PvP01_00_156.final',\n",
       " 'Transfer.PvP01_00_157.final',\n",
       " 'Transfer.PvP01_00_158.final',\n",
       " 'Transfer.PvP01_00_159.final',\n",
       " 'Transfer.PvP01_00_16.final',\n",
       " 'Transfer.PvP01_00_160.final',\n",
       " 'Transfer.PvP01_00_161.final',\n",
       " 'Transfer.PvP01_00_162.final',\n",
       " 'Transfer.PvP01_00_163.final',\n",
       " 'Transfer.PvP01_00_164.final',\n",
       " 'Transfer.PvP01_00_166.final',\n",
       " 'Transfer.PvP01_00_167.final',\n",
       " 'Transfer.PvP01_00_169.final',\n",
       " 'Transfer.PvP01_00_17.final',\n",
       " 'Transfer.PvP01_00_170.final',\n",
       " 'Transfer.PvP01_00_171.final',\n",
       " 'Transfer.PvP01_00_172.final',\n",
       " 'Transfer.PvP01_00_173.final',\n",
       " 'Transfer.PvP01_00_174.final',\n",
       " 'Transfer.PvP01_00_175.final',\n",
       " 'Transfer.PvP01_00_176.final',\n",
       " 'Transfer.PvP01_00_177.final',\n",
       " 'Transfer.PvP01_00_178.final',\n",
       " 'Transfer.PvP01_00_179.final',\n",
       " 'Transfer.PvP01_00_18.final',\n",
       " 'Transfer.PvP01_00_180.final',\n",
       " 'Transfer.PvP01_00_181.final',\n",
       " 'Transfer.PvP01_00_182.final',\n",
       " 'Transfer.PvP01_00_183.final',\n",
       " 'Transfer.PvP01_00_184.final',\n",
       " 'Transfer.PvP01_00_185.final',\n",
       " 'Transfer.PvP01_00_186.final',\n",
       " 'Transfer.PvP01_00_187.final',\n",
       " 'Transfer.PvP01_00_188.final',\n",
       " 'Transfer.PvP01_00_189.final',\n",
       " 'Transfer.PvP01_00_19.final',\n",
       " 'Transfer.PvP01_00_190.final',\n",
       " 'Transfer.PvP01_00_191.final',\n",
       " 'Transfer.PvP01_00_192.final',\n",
       " 'Transfer.PvP01_00_193.final',\n",
       " 'Transfer.PvP01_00_194.final',\n",
       " 'Transfer.PvP01_00_195.final',\n",
       " 'Transfer.PvP01_00_196.final',\n",
       " 'Transfer.PvP01_00_197.final',\n",
       " 'Transfer.PvP01_00_198.final',\n",
       " 'Transfer.PvP01_00_199.final',\n",
       " 'Transfer.PvP01_00_2.final',\n",
       " 'Transfer.PvP01_00_20.final',\n",
       " 'Transfer.PvP01_00_200.final',\n",
       " 'Transfer.PvP01_00_201.final',\n",
       " 'Transfer.PvP01_00_202.final',\n",
       " 'Transfer.PvP01_00_203.final',\n",
       " 'Transfer.PvP01_00_204.final',\n",
       " 'Transfer.PvP01_00_205.final',\n",
       " 'Transfer.PvP01_00_206.final',\n",
       " 'Transfer.PvP01_00_207.final',\n",
       " 'Transfer.PvP01_00_208.final',\n",
       " 'Transfer.PvP01_00_209.final',\n",
       " 'Transfer.PvP01_00_21.final',\n",
       " 'Transfer.PvP01_00_210.final',\n",
       " 'Transfer.PvP01_00_211.final',\n",
       " 'Transfer.PvP01_00_212.final',\n",
       " 'Transfer.PvP01_00_213.final',\n",
       " 'Transfer.PvP01_00_214.final',\n",
       " 'Transfer.PvP01_00_215.final',\n",
       " 'Transfer.PvP01_00_216.final',\n",
       " 'Transfer.PvP01_00_217.final',\n",
       " 'Transfer.PvP01_00_218.final',\n",
       " 'Transfer.PvP01_00_219.final',\n",
       " 'Transfer.PvP01_00_22.final',\n",
       " 'Transfer.PvP01_00_220.final',\n",
       " 'Transfer.PvP01_00_221.final',\n",
       " 'Transfer.PvP01_00_222.final',\n",
       " 'Transfer.PvP01_00_223.final',\n",
       " 'Transfer.PvP01_00_224.final',\n",
       " 'Transfer.PvP01_00_225.final',\n",
       " 'Transfer.PvP01_00_226.final',\n",
       " 'Transfer.PvP01_00_227.final',\n",
       " 'Transfer.PvP01_00_228.final',\n",
       " 'Transfer.PvP01_00_229.final',\n",
       " 'Transfer.PvP01_00_23.final',\n",
       " 'Transfer.PvP01_00_230.final',\n",
       " 'Transfer.PvP01_00_231.final',\n",
       " 'Transfer.PvP01_00_232.final',\n",
       " 'Transfer.PvP01_00_233.final',\n",
       " 'Transfer.PvP01_00_234.final',\n",
       " 'Transfer.PvP01_00_235.final',\n",
       " 'Transfer.PvP01_00_236.final',\n",
       " 'Transfer.PvP01_00_237.final',\n",
       " 'Transfer.PvP01_00_238.final',\n",
       " 'Transfer.PvP01_00_239.final',\n",
       " 'Transfer.PvP01_00_24.final',\n",
       " 'Transfer.PvP01_00_25.final',\n",
       " 'Transfer.PvP01_00_26.final',\n",
       " 'Transfer.PvP01_00_27.final',\n",
       " 'Transfer.PvP01_00_28.final',\n",
       " 'Transfer.PvP01_00_29.final',\n",
       " 'Transfer.PvP01_00_3.final',\n",
       " 'Transfer.PvP01_00_30.final',\n",
       " 'Transfer.PvP01_00_300.final',\n",
       " 'Transfer.PvP01_00_301.final',\n",
       " 'Transfer.PvP01_00_31.final',\n",
       " 'Transfer.PvP01_00_32.final',\n",
       " 'Transfer.PvP01_00_33.final',\n",
       " 'Transfer.PvP01_00_34.final',\n",
       " 'Transfer.PvP01_00_35.final',\n",
       " 'Transfer.PvP01_00_36.final',\n",
       " 'Transfer.PvP01_00_37.final',\n",
       " 'Transfer.PvP01_00_38.final',\n",
       " 'Transfer.PvP01_00_39.final',\n",
       " 'Transfer.PvP01_00_4.final',\n",
       " 'Transfer.PvP01_00_40.final',\n",
       " 'Transfer.PvP01_00_41.final',\n",
       " 'Transfer.PvP01_00_42.final',\n",
       " 'Transfer.PvP01_00_43.final',\n",
       " 'Transfer.PvP01_00_44.final',\n",
       " 'Transfer.PvP01_00_45.final',\n",
       " 'Transfer.PvP01_00_46.final',\n",
       " 'Transfer.PvP01_00_47.final',\n",
       " 'Transfer.PvP01_00_48.final',\n",
       " 'Transfer.PvP01_00_49.final',\n",
       " 'Transfer.PvP01_00_5.final',\n",
       " 'Transfer.PvP01_00_50.final',\n",
       " 'Transfer.PvP01_00_51.final',\n",
       " 'Transfer.PvP01_00_52.final',\n",
       " 'Transfer.PvP01_00_53.final',\n",
       " 'Transfer.PvP01_00_54.final',\n",
       " 'Transfer.PvP01_00_55.final',\n",
       " 'Transfer.PvP01_00_56.final',\n",
       " 'Transfer.PvP01_00_57.final',\n",
       " 'Transfer.PvP01_00_59.final',\n",
       " 'Transfer.PvP01_00_6.final',\n",
       " 'Transfer.PvP01_00_60.final',\n",
       " 'Transfer.PvP01_00_61.final',\n",
       " 'Transfer.PvP01_00_63.final',\n",
       " 'Transfer.PvP01_00_64.final',\n",
       " 'Transfer.PvP01_00_65.final',\n",
       " 'Transfer.PvP01_00_66.final',\n",
       " 'Transfer.PvP01_00_67.final',\n",
       " 'Transfer.PvP01_00_69.final',\n",
       " 'Transfer.PvP01_00_7.final',\n",
       " 'Transfer.PvP01_00_70.final',\n",
       " 'Transfer.PvP01_00_71.final',\n",
       " 'Transfer.PvP01_00_73.final',\n",
       " 'Transfer.PvP01_00_74.final',\n",
       " 'Transfer.PvP01_00_75.final',\n",
       " 'Transfer.PvP01_00_77.final',\n",
       " 'Transfer.PvP01_00_78.final',\n",
       " 'Transfer.PvP01_00_79.final',\n",
       " 'Transfer.PvP01_00_8.final',\n",
       " 'Transfer.PvP01_00_80.final',\n",
       " 'Transfer.PvP01_00_81.final',\n",
       " 'Transfer.PvP01_00_82.final',\n",
       " 'Transfer.PvP01_00_83.final',\n",
       " 'Transfer.PvP01_00_84.final',\n",
       " 'Transfer.PvP01_00_85.final',\n",
       " 'Transfer.PvP01_00_86.final',\n",
       " 'Transfer.PvP01_00_87.final',\n",
       " 'Transfer.PvP01_00_88.final',\n",
       " 'Transfer.PvP01_00_89.final',\n",
       " 'Transfer.PvP01_00_9.final',\n",
       " 'Transfer.PvP01_00_90.final',\n",
       " 'Transfer.PvP01_00_92.final',\n",
       " 'Transfer.PvP01_00_93.final',\n",
       " 'Transfer.PvP01_00_94.final',\n",
       " 'Transfer.PvP01_00_95.final',\n",
       " 'Transfer.PvP01_00_96.final',\n",
       " 'Transfer.PvP01_00_98.final',\n",
       " 'Transfer.PvP01_00_99.final']"
      ]
     },
     "execution_count": 68,
     "metadata": {},
     "output_type": "execute_result"
    }
   ],
   "source": [
    "sorted(list(genome.keys()))"
   ]
  },
  {
   "cell_type": "code",
   "execution_count": 17,
   "metadata": {
    "collapsed": false
   },
   "outputs": [
    {
     "data": {
      "text/plain": [
       "29052596"
      ]
     },
     "execution_count": 17,
     "metadata": {},
     "output_type": "execute_result"
    }
   ],
   "source": [
    "genome_length = 0\n",
    "for chrom in genome.keys():\n",
    "    genome_length += len(genome[chrom])\n",
    "genome_length"
   ]
  },
  {
   "cell_type": "code",
   "execution_count": 74,
   "metadata": {
    "collapsed": false
   },
   "outputs": [
    {
     "data": {
      "text/plain": [
       "4802351"
      ]
     },
     "execution_count": 74,
     "metadata": {},
     "output_type": "execute_result"
    }
   ],
   "source": [
    "transfer_length = 0\n",
    "for chrom in genome.keys():\n",
    "    if chrom.startswith('Transfer'):\n",
    "        transfer_length += len(genome[chrom])\n",
    "transfer_length"
   ]
  },
  {
   "cell_type": "code",
   "execution_count": 75,
   "metadata": {
    "collapsed": false
   },
   "outputs": [
    {
     "data": {
      "text/plain": [
       "0.16529851583658822"
      ]
     },
     "execution_count": 75,
     "metadata": {},
     "output_type": "execute_result"
    }
   ],
   "source": [
    "4802351/29052596"
   ]
  },
  {
   "cell_type": "code",
   "execution_count": 18,
   "metadata": {
    "collapsed": false
   },
   "outputs": [
    {
     "name": "stdout",
     "output_type": "stream",
     "text": [
      "sample,study,bases_of_1X_coverage,bases_of_2X_coverage,bases_of_5X_coverage,mean_coverage,mean_insert_size,sd_insert_size,avg_read_length,bases_callable_percent,bases_no_coverage_percent,bases_low_coverage_percent,bases_excessive_coverage_percent,bases_poor_mapping_quality_percent,bases_ref_n_percent,reads,reads_mapped,reads_mapped_and_paired,reads_properly_paired,reads_qc_failed,pairs_on_different_chromosomes,non_primary_alignments,center_name\n"
     ]
    }
   ],
   "source": [
    "vrpipe_columns = [\n",
    "    'path', 'sample', 'study', 'bases_of_1X_coverage', 'bases_of_2X_coverage', 'bases_of_5X_coverage',\n",
    "    'mean_coverage', 'mean_insert_size', 'sd_insert_size', 'avg_read_length', 'bases_callable_percent',\n",
    "    'bases_no_coverage_percent', 'bases_low_coverage_percent', 'bases_excessive_coverage_percent',\n",
    "    'bases_poor_mapping_quality_percent', 'bases_ref_n_percent', 'reads', 'reads_mapped', 'reads_mapped_and_paired',\n",
    "    'reads_properly_paired', 'reads_qc_failed', 'pairs_on_different_chromosomes', 'non_primary_alignments',\n",
    "    'center_name'\n",
    "]\n",
    "print(\",\".join(vrpipe_columns[1:]))"
   ]
  },
  {
   "cell_type": "code",
   "execution_count": 19,
   "metadata": {
    "collapsed": false
   },
   "outputs": [],
   "source": [
    "metadata_columns = [\n",
    "    'sample', 'study', 'center_name', 'bases_callable_proportion', 'bases_no_coverage_proportion', 'bases_low_coverage_proportion',\n",
    "#     'bases_excessive_coverage_proportion', 'bases_poor_mapping_quality_proportion', 'bases_ref_n_proportion',\n",
    "    'bases_poor_mapping_quality_proportion',\n",
    "    'proportion_genome_covered_at_1x', 'proportion_genome_covered_at_5x', 'mean_coverage',\n",
    "    'mean_insert_size', 'sd_insert_size', 'avg_read_length', \n",
    "    'reads_mapped_proportion', 'mapped_reads_properly_paired_proportion', 'pairs_on_different_chromosomes_proportion',\n",
    "    'non_primary_alignments_proportion',\n",
    "]"
   ]
  },
  {
   "cell_type": "code",
   "execution_count": 22,
   "metadata": {
    "collapsed": false
   },
   "outputs": [],
   "source": [
    "!vrpipe-fileinfo --setup pv_30_mergelanes \\\n",
    "--metadata {\",\".join(vrpipe_columns[1:])} \\\n",
    "> {vrpipe_metadata_fn}\n",
    "\n",
    "# | grep '\\.summary' \\\n"
   ]
  },
  {
   "cell_type": "code",
   "execution_count": 168,
   "metadata": {
    "collapsed": false
   },
   "outputs": [],
   "source": [
    "!vrpipe-fileinfo --setup pf_60_mergelanes \\\n",
    "--metadata sample,study,bases_of_1X_coverage,bases_of_2X_coverage,bases_of_5X_coverage,mean_coverage,mean_insert_size,\\\n",
    "sd_insert_size,avg_read_length,\\\n",
    "bases_callable_percent,bases_no_coverage_percent,bases_low_coverage_percent,bases_excessive_coverage_percent,\\\n",
    "bases_poor_mapping_quality_percent,bases_ref_n_percent,\\\n",
    "reads,reads_mapped,reads_mapped_and_paired,reads_properly_paired,reads_qc_failed,pairs_on_different_chromosomes,\\\n",
    "non_primary_alignments,\\\n",
    "center_name \\\n",
    "> {vrpipe_metadata_fn}\n",
    "\n",
    "# | grep '\\.summary' \\\n",
    "# | sort -k 2,2 \\\n"
   ]
  },
  {
   "cell_type": "code",
   "execution_count": 23,
   "metadata": {
    "collapsed": false
   },
   "outputs": [
    {
     "name": "stdout",
     "output_type": "stream",
     "text": [
      "1001\n"
     ]
    },
    {
     "data": {
      "text/plain": [
       "['Brazil01',\n",
       " 'Brazil02',\n",
       " 'Brazil03',\n",
       " 'Brazil08',\n",
       " 'Brazil12',\n",
       " 'Brazil13',\n",
       " 'Brazil15',\n",
       " 'Brazil17',\n",
       " 'Brazil22',\n",
       " 'Brazil24']"
      ]
     },
     "execution_count": 23,
     "metadata": {},
     "output_type": "execute_result"
    }
   ],
   "source": [
    "vcf_samples = vcf.Reader(filename='%s/vcf/Pv_30_PvP01_01_v1.final.vcf.gz' % output_dir).samples\n",
    "print(len(vcf_samples))\n",
    "vcf_samples[0:10]"
   ]
  },
  {
   "cell_type": "code",
   "execution_count": 24,
   "metadata": {
    "collapsed": false
   },
   "outputs": [
    {
     "name": "stdout",
     "output_type": "stream",
     "text": [
      "1001\n"
     ]
    }
   ],
   "source": [
    "tbl_vcf_samples = etl.fromcolumns([vcf_samples]).setheader(['sample'])\n",
    "print(len(tbl_vcf_samples.data()))"
   ]
  },
  {
   "cell_type": "code",
   "execution_count": 25,
   "metadata": {
    "collapsed": false
   },
   "outputs": [
    {
     "data": {
      "text/html": [
       "<table class='petl'>\n",
       "<thead>\n",
       "<tr>\n",
       "<th>sample</th>\n",
       "</tr>\n",
       "</thead>\n",
       "<tbody>\n",
       "</tbody>\n",
       "</table>\n"
      ],
      "text/plain": [
       "+--------+\n",
       "| sample |\n",
       "+========+"
      ]
     },
     "execution_count": 25,
     "metadata": {},
     "output_type": "execute_result"
    }
   ],
   "source": [
    "tbl_vcf_samples.duplicates('sample')"
   ]
  },
  {
   "cell_type": "code",
   "execution_count": 27,
   "metadata": {
    "collapsed": false
   },
   "outputs": [
    {
     "data": {
      "text/plain": [
       "['sample',\n",
       " 'study',\n",
       " 'center_name',\n",
       " 'bases_callable_proportion',\n",
       " 'bases_no_coverage_proportion',\n",
       " 'bases_low_coverage_proportion',\n",
       " 'bases_poor_mapping_quality_proportion',\n",
       " 'proportion_genome_covered_at_1x',\n",
       " 'proportion_genome_covered_at_5x',\n",
       " 'mean_coverage',\n",
       " 'mean_insert_size',\n",
       " 'sd_insert_size',\n",
       " 'avg_read_length',\n",
       " 'reads_mapped_proportion',\n",
       " 'mapped_reads_properly_paired_proportion',\n",
       " 'pairs_on_different_chromosomes_proportion',\n",
       " 'non_primary_alignments_proportion']"
      ]
     },
     "execution_count": 27,
     "metadata": {},
     "output_type": "execute_result"
    }
   ],
   "source": [
    "metadata_columns"
   ]
  },
  {
   "cell_type": "code",
   "execution_count": 46,
   "metadata": {
    "collapsed": false
   },
   "outputs": [
    {
     "name": "stdout",
     "output_type": "stream",
     "text": [
      "1001\n"
     ]
    },
    {
     "data": {
      "text/html": [
       "<table class='petl'>\n",
       "<thead>\n",
       "<tr>\n",
       "<th>0|path</th>\n",
       "<th>1|sample</th>\n",
       "<th>2|study</th>\n",
       "<th>3|bases_of_1X_coverage</th>\n",
       "<th>4|bases_of_2X_coverage</th>\n",
       "<th>5|bases_of_5X_coverage</th>\n",
       "<th>6|mean_coverage</th>\n",
       "<th>7|mean_insert_size</th>\n",
       "<th>8|sd_insert_size</th>\n",
       "<th>9|avg_read_length</th>\n",
       "<th>10|bases_callable_percent</th>\n",
       "<th>11|bases_no_coverage_percent</th>\n",
       "<th>12|bases_low_coverage_percent</th>\n",
       "<th>13|bases_excessive_coverage_percent</th>\n",
       "<th>14|bases_poor_mapping_quality_percent</th>\n",
       "<th>15|bases_ref_n_percent</th>\n",
       "<th>16|reads</th>\n",
       "<th>17|reads_mapped</th>\n",
       "<th>18|reads_mapped_and_paired</th>\n",
       "<th>19|reads_properly_paired</th>\n",
       "<th>20|reads_qc_failed</th>\n",
       "<th>21|pairs_on_different_chromosomes</th>\n",
       "<th>22|non_primary_alignments</th>\n",
       "<th>23|center_name</th>\n",
       "<th>24|bases_callable_proportion</th>\n",
       "<th>25|bases_no_coverage_proportion</th>\n",
       "<th>26|bases_low_coverage_proportion</th>\n",
       "<th>27|bases_excessive_coverage_proportion</th>\n",
       "<th>28|bases_poor_mapping_quality_proportion</th>\n",
       "<th>29|bases_ref_n_proportion</th>\n",
       "<th>30|proportion_genome_covered_at_1x</th>\n",
       "<th>31|proportion_genome_covered_at_5x</th>\n",
       "<th>32|reads_mapped_proportion</th>\n",
       "<th>33|mapped_reads_properly_paired_proportion</th>\n",
       "<th>34|pairs_on_different_chromosomes_proportion</th>\n",
       "<th>35|non_primary_alignments_proportion</th>\n",
       "<th>36|reads_qc_failed_proportion</th>\n",
       "</tr>\n",
       "</thead>\n",
       "<tbody>\n",
       "<tr>\n",
       "<td>/lustre/scratch116/malaria/pvivax/output/8/e/c/c/73636/4_bam_mark_duplicates_v2/pe.1.markdup.bam</td>\n",
       "<td>Brazil01</td>\n",
       "<td>Broad</td>\n",
       "<td style='text-align: right'>22756624</td>\n",
       "<td style='text-align: right'>22310663</td>\n",
       "<td style='text-align: right'>21033334</td>\n",
       "<td style='text-align: right'>72.11</td>\n",
       "<td style='text-align: right'>237.6</td>\n",
       "<td style='text-align: right'>150.4</td>\n",
       "<td style='text-align: right'>99</td>\n",
       "<td style='text-align: right'>50.16</td>\n",
       "<td style='text-align: right'>22.12</td>\n",
       "<td style='text-align: right'>26.45</td>\n",
       "<td style='text-align: right'>0.0</td>\n",
       "<td style='text-align: right'>0.75</td>\n",
       "<td style='text-align: right'>0.52</td>\n",
       "<td style='text-align: right'>42517489</td>\n",
       "<td style='text-align: right'>41161952</td>\n",
       "<td style='text-align: right'>40542979</td>\n",
       "<td style='text-align: right'>37808178</td>\n",
       "<td style='text-align: right'>0</td>\n",
       "<td style='text-align: right'>192797</td>\n",
       "<td style='text-align: right'>944505</td>\n",
       "<td>BROAD</td>\n",
       "<td style='text-align: right'>0.5016</td>\n",
       "<td style='text-align: right'>0.2212</td>\n",
       "<td style='text-align: right'>0.2645</td>\n",
       "<td style='text-align: right'>0.0</td>\n",
       "<td style='text-align: right'>0.0075</td>\n",
       "<td style='text-align: right'>0.0052</td>\n",
       "<td style='text-align: right'>0.7833</td>\n",
       "<td style='text-align: right'>0.724</td>\n",
       "<td style='text-align: right'>0.9681</td>\n",
       "<td style='text-align: right'>0.9185</td>\n",
       "<td style='text-align: right'>0.0101</td>\n",
       "<td style='text-align: right'>0.0229</td>\n",
       "<td style='text-align: right'>0.0</td>\n",
       "</tr>\n",
       "<tr>\n",
       "<td>/lustre/scratch116/malaria/pvivax/output/c/6/9/d/73637/4_bam_mark_duplicates_v2/pe.1.markdup.bam</td>\n",
       "<td>Brazil02</td>\n",
       "<td>Broad</td>\n",
       "<td style='text-align: right'>10450978</td>\n",
       "<td style='text-align: right'>6809040</td>\n",
       "<td style='text-align: right'>3643590</td>\n",
       "<td style='text-align: right'>33.98</td>\n",
       "<td style='text-align: right'>215.6</td>\n",
       "<td style='text-align: right'>156.0</td>\n",
       "<td style='text-align: right'>100</td>\n",
       "<td style='text-align: right'>9.39</td>\n",
       "<td style='text-align: right'>67.32</td>\n",
       "<td style='text-align: right'>22.51</td>\n",
       "<td style='text-align: right'>0.0</td>\n",
       "<td style='text-align: right'>0.26</td>\n",
       "<td style='text-align: right'>0.52</td>\n",
       "<td style='text-align: right'>30045277</td>\n",
       "<td style='text-align: right'>27949243</td>\n",
       "<td style='text-align: right'>27644773</td>\n",
       "<td style='text-align: right'>26568530</td>\n",
       "<td style='text-align: right'>0</td>\n",
       "<td style='text-align: right'>67542</td>\n",
       "<td style='text-align: right'>435685</td>\n",
       "<td>BROAD</td>\n",
       "<td style='text-align: right'>0.0939</td>\n",
       "<td style='text-align: right'>0.6732</td>\n",
       "<td style='text-align: right'>0.2251</td>\n",
       "<td style='text-align: right'>0.0</td>\n",
       "<td style='text-align: right'>0.0026</td>\n",
       "<td style='text-align: right'>0.0052</td>\n",
       "<td style='text-align: right'>0.3597</td>\n",
       "<td style='text-align: right'>0.1254</td>\n",
       "<td style='text-align: right'>0.9302</td>\n",
       "<td style='text-align: right'>0.9506</td>\n",
       "<td style='text-align: right'>0.0051</td>\n",
       "<td style='text-align: right'>0.0156</td>\n",
       "<td style='text-align: right'>0.0</td>\n",
       "</tr>\n",
       "<tr>\n",
       "<td>/lustre/scratch116/malaria/pvivax/output/b/5/9/1/73638/4_bam_mark_duplicates_v2/pe.1.markdup.bam</td>\n",
       "<td>Brazil03</td>\n",
       "<td>Broad</td>\n",
       "<td style='text-align: right'>8755806</td>\n",
       "<td style='text-align: right'>5063045</td>\n",
       "<td style='text-align: right'>1835872</td>\n",
       "<td style='text-align: right'>4.54</td>\n",
       "<td style='text-align: right'>190.8</td>\n",
       "<td style='text-align: right'>128.9</td>\n",
       "<td style='text-align: right'>100</td>\n",
       "<td style='text-align: right'>0.47</td>\n",
       "<td style='text-align: right'>71.82</td>\n",
       "<td style='text-align: right'>27.14</td>\n",
       "<td style='text-align: right'>0.0</td>\n",
       "<td style='text-align: right'>0.06</td>\n",
       "<td style='text-align: right'>0.52</td>\n",
       "<td style='text-align: right'>1617191</td>\n",
       "<td style='text-align: right'>532720</td>\n",
       "<td style='text-align: right'>464127</td>\n",
       "<td style='text-align: right'>444118</td>\n",
       "<td style='text-align: right'>0</td>\n",
       "<td style='text-align: right'>5246</td>\n",
       "<td style='text-align: right'>7061</td>\n",
       "<td>BROAD</td>\n",
       "<td style='text-align: right'>0.0047</td>\n",
       "<td style='text-align: right'>0.7182</td>\n",
       "<td style='text-align: right'>0.2714</td>\n",
       "<td style='text-align: right'>0.0</td>\n",
       "<td style='text-align: right'>0.0006</td>\n",
       "<td style='text-align: right'>0.0052</td>\n",
       "<td style='text-align: right'>0.3014</td>\n",
       "<td style='text-align: right'>0.0632</td>\n",
       "<td style='text-align: right'>0.3294</td>\n",
       "<td style='text-align: right'>0.8337</td>\n",
       "<td style='text-align: right'>0.0231</td>\n",
       "<td style='text-align: right'>0.0133</td>\n",
       "<td style='text-align: right'>0.0</td>\n",
       "</tr>\n",
       "<tr>\n",
       "<td>/lustre/scratch116/malaria/pvivax/output/5/b/a/0/73639/4_bam_mark_duplicates_v2/pe.1.markdup.bam</td>\n",
       "<td>Brazil08</td>\n",
       "<td>Broad</td>\n",
       "<td style='text-align: right'>8856798</td>\n",
       "<td style='text-align: right'>6086966</td>\n",
       "<td style='text-align: right'>3444515</td>\n",
       "<td style='text-align: right'>23.74</td>\n",
       "<td style='text-align: right'>274.2</td>\n",
       "<td style='text-align: right'>204.6</td>\n",
       "<td style='text-align: right'>98</td>\n",
       "<td style='text-align: right'>5.86</td>\n",
       "<td style='text-align: right'>71.61</td>\n",
       "<td style='text-align: right'>21.88</td>\n",
       "<td style='text-align: right'>0.0</td>\n",
       "<td style='text-align: right'>0.13</td>\n",
       "<td style='text-align: right'>0.52</td>\n",
       "<td style='text-align: right'>14317402</td>\n",
       "<td style='text-align: right'>13507571</td>\n",
       "<td style='text-align: right'>13379742</td>\n",
       "<td style='text-align: right'>12080973</td>\n",
       "<td style='text-align: right'>0</td>\n",
       "<td style='text-align: right'>28256</td>\n",
       "<td style='text-align: right'>485896</td>\n",
       "<td>BROAD</td>\n",
       "<td style='text-align: right'>0.0586</td>\n",
       "<td style='text-align: right'>0.7161</td>\n",
       "<td style='text-align: right'>0.2188</td>\n",
       "<td style='text-align: right'>0.0</td>\n",
       "<td style='text-align: right'>0.0013</td>\n",
       "<td style='text-align: right'>0.0052</td>\n",
       "<td style='text-align: right'>0.3049</td>\n",
       "<td style='text-align: right'>0.1186</td>\n",
       "<td style='text-align: right'>0.9434</td>\n",
       "<td style='text-align: right'>0.8944</td>\n",
       "<td style='text-align: right'>0.0047</td>\n",
       "<td style='text-align: right'>0.036</td>\n",
       "<td style='text-align: right'>0.0</td>\n",
       "</tr>\n",
       "<tr>\n",
       "<td>/lustre/scratch116/malaria/pvivax/output/7/e/c/4/73640/4_bam_mark_duplicates_v2/pe.1.markdup.bam</td>\n",
       "<td>Brazil12</td>\n",
       "<td>Broad</td>\n",
       "<td style='text-align: right'>17329936</td>\n",
       "<td style='text-align: right'>14332738</td>\n",
       "<td style='text-align: right'>10162756</td>\n",
       "<td style='text-align: right'>57.67</td>\n",
       "<td style='text-align: right'>197.7</td>\n",
       "<td style='text-align: right'>124.3</td>\n",
       "<td style='text-align: right'>100</td>\n",
       "<td style='text-align: right'>30.67</td>\n",
       "<td style='text-align: right'>43.02</td>\n",
       "<td style='text-align: right'>25.27</td>\n",
       "<td style='text-align: right'>0.0</td>\n",
       "<td style='text-align: right'>0.52</td>\n",
       "<td style='text-align: right'>0.52</td>\n",
       "<td style='text-align: right'>44567339</td>\n",
       "<td style='text-align: right'>42877267</td>\n",
       "<td style='text-align: right'>42367314</td>\n",
       "<td style='text-align: right'>40728103</td>\n",
       "<td style='text-align: right'>0</td>\n",
       "<td style='text-align: right'>203899</td>\n",
       "<td style='text-align: right'>730217</td>\n",
       "<td>BROAD</td>\n",
       "<td style='text-align: right'>0.3067</td>\n",
       "<td style='text-align: right'>0.4302</td>\n",
       "<td style='text-align: right'>0.2527</td>\n",
       "<td style='text-align: right'>0.0</td>\n",
       "<td style='text-align: right'>0.0052</td>\n",
       "<td style='text-align: right'>0.0052</td>\n",
       "<td style='text-align: right'>0.5965</td>\n",
       "<td style='text-align: right'>0.3498</td>\n",
       "<td style='text-align: right'>0.9621</td>\n",
       "<td style='text-align: right'>0.9499</td>\n",
       "<td style='text-align: right'>0.0099</td>\n",
       "<td style='text-align: right'>0.017</td>\n",
       "<td style='text-align: right'>0.0</td>\n",
       "</tr>\n",
       "</tbody>\n",
       "</table>\n",
       "<p><strong>...</strong></p>"
      ]
     },
     "metadata": {},
     "output_type": "display_data"
    }
   ],
   "source": [
    "tbl_sample_metadata = (\n",
    "    etl\n",
    "    .fromtsv(vrpipe_metadata_fn)\n",
    "    .setheader(vrpipe_columns)\n",
    "#     .select(lambda rec: 'pe' in rec['path'] or rec['sample'] == 'PN0002-C')\n",
    "    .convertnumbers()\n",
    "#     .convert('avg_read_length', lambda val: val+1)\n",
    "    .addfield('bases_callable_proportion', lambda rec: 0.0 if rec['bases_callable_percent'] == 'unknown' else round(rec['bases_callable_percent'] / 100, 4))\n",
    "    .addfield('bases_no_coverage_proportion', lambda rec: 0.0 if rec['bases_no_coverage_percent'] == 'unknown' else round(rec['bases_no_coverage_percent'] / 100, 4))\n",
    "    .addfield('bases_low_coverage_proportion', lambda rec: 0.0 if rec['bases_low_coverage_percent'] == 'unknown' else round(rec['bases_low_coverage_percent'] / 100, 4))\n",
    "    .addfield('bases_excessive_coverage_proportion', lambda rec: 0.0 if rec['bases_excessive_coverage_percent'] == 'unknown' else round(rec['bases_excessive_coverage_percent'] / 100, 4))\n",
    "    .addfield('bases_poor_mapping_quality_proportion', lambda rec: 0.0 if rec['bases_poor_mapping_quality_percent'] == 'unknown' else round(rec['bases_poor_mapping_quality_percent'] / 100, 4))\n",
    "    .addfield('bases_ref_n_proportion', lambda rec: 0.0 if rec['bases_ref_n_percent'] == 'unknown' else round(rec['bases_ref_n_percent'] / 100, 4))\n",
    "    .addfield('proportion_genome_covered_at_1x', lambda rec: 0.0 if rec['bases_of_1X_coverage'] == 'unknown' else round(rec['bases_of_1X_coverage'] / genome_length, 4))\n",
    "    .addfield('proportion_genome_covered_at_5x', lambda rec: 0.0 if rec['bases_of_5X_coverage'] == 'unknown' else round(rec['bases_of_5X_coverage'] / genome_length, 4))\n",
    "    .addfield('reads_mapped_proportion', lambda rec: 0.0 if rec['reads_mapped'] == 'unknown' else round(rec['reads_mapped'] / rec['reads'], 4))\n",
    "    .addfield('mapped_reads_properly_paired_proportion', lambda rec: 0.0 if rec['reads_mapped'] == 'unknown' else round(rec['reads_properly_paired'] / rec['reads_mapped'], 4))\n",
    "    # Note in the following we use reads_properly_paired/2 to get numbers of pairs of reads\n",
    "    .addfield('pairs_on_different_chromosomes_proportion', lambda rec: 0.0 if rec['pairs_on_different_chromosomes'] == 'unknown' or rec['pairs_on_different_chromosomes'] == 0.0 else round(rec['pairs_on_different_chromosomes'] / (rec['pairs_on_different_chromosomes'] + ( rec['reads_properly_paired'] / 2)), 4))\n",
    "    .addfield('non_primary_alignments_proportion', lambda rec: 0.0 if rec['reads_mapped'] == 'unknown' else round(rec['non_primary_alignments'] / rec['reads_mapped'], 4))\n",
    "    .addfield('reads_qc_failed_proportion', lambda rec: 0.0 if rec['reads_qc_failed'] == 'unknown' else round(rec['reads_qc_failed'] / rec['reads'], 4))\n",
    "    #  .leftjoin(tbl_solaris_metadata, lkey='sample', rkey='ox_code')\n",
    "    #  .convert('run_accessions', 'NULL', where=lambda rec: rec['study'] == '1156-PV-ID-PRICE') # These were wrongly accessioned and are currently being removed from ENA\n",
    "    #  .cut(['sample', 'study', 'src_code', 'run_accessions', 'genome_covered_at_1x', 'genome_covered_at_5x',\n",
    "    #        'mean_coverage', 'avg_read_length'])\n",
    "#     .cut(metadata_columns)\n",
    "    .selectin('sample', vcf_samples)\n",
    "    .sort('sample')\n",
    ")\n",
    "print(len(tbl_sample_metadata.data()))\n",
    "tbl_sample_metadata.display(index_header=True)\n"
   ]
  },
  {
   "cell_type": "code",
   "execution_count": 42,
   "metadata": {
    "collapsed": false
   },
   "outputs": [
    {
     "data": {
      "text/html": [
       "<table class='petl'>\n",
       "<thead>\n",
       "<tr>\n",
       "<th>sample</th>\n",
       "</tr>\n",
       "</thead>\n",
       "<tbody>\n",
       "</tbody>\n",
       "</table>\n"
      ],
      "text/plain": [
       "+--------+\n",
       "| sample |\n",
       "+========+"
      ]
     },
     "execution_count": 42,
     "metadata": {},
     "output_type": "execute_result"
    }
   ],
   "source": [
    "tbl_vcf_samples.antijoin(tbl_sample_metadata, key='sample')"
   ]
  },
  {
   "cell_type": "code",
   "execution_count": 43,
   "metadata": {
    "collapsed": false
   },
   "outputs": [
    {
     "data": {
      "text/html": [
       "<table class='petl'>\n",
       "<thead>\n",
       "<tr>\n",
       "<th>path</th>\n",
       "<th>sample</th>\n",
       "<th>study</th>\n",
       "<th>bases_of_1X_coverage</th>\n",
       "<th>bases_of_2X_coverage</th>\n",
       "<th>bases_of_5X_coverage</th>\n",
       "<th>mean_coverage</th>\n",
       "<th>mean_insert_size</th>\n",
       "<th>sd_insert_size</th>\n",
       "<th>avg_read_length</th>\n",
       "<th>bases_callable_percent</th>\n",
       "<th>bases_no_coverage_percent</th>\n",
       "<th>bases_low_coverage_percent</th>\n",
       "<th>bases_excessive_coverage_percent</th>\n",
       "<th>bases_poor_mapping_quality_percent</th>\n",
       "<th>bases_ref_n_percent</th>\n",
       "<th>reads</th>\n",
       "<th>reads_mapped</th>\n",
       "<th>reads_mapped_and_paired</th>\n",
       "<th>reads_properly_paired</th>\n",
       "<th>reads_qc_failed</th>\n",
       "<th>pairs_on_different_chromosomes</th>\n",
       "<th>non_primary_alignments</th>\n",
       "<th>center_name</th>\n",
       "<th>bases_callable_proportion</th>\n",
       "<th>bases_no_coverage_proportion</th>\n",
       "<th>bases_low_coverage_proportion</th>\n",
       "<th>bases_excessive_coverage_proportion</th>\n",
       "<th>bases_poor_mapping_quality_proportion</th>\n",
       "<th>bases_ref_n_proportion</th>\n",
       "<th>proportion_genome_covered_at_1x</th>\n",
       "<th>proportion_genome_covered_at_5x</th>\n",
       "<th>reads_mapped_proportion</th>\n",
       "<th>mapped_reads_properly_paired_proportion</th>\n",
       "<th>pairs_on_different_chromosomes_proportion</th>\n",
       "<th>non_primary_alignments_proportion</th>\n",
       "<th>reads_qc_failed_proportion</th>\n",
       "</tr>\n",
       "</thead>\n",
       "<tbody>\n",
       "</tbody>\n",
       "</table>\n"
      ]
     },
     "metadata": {},
     "output_type": "display_data"
    }
   ],
   "source": [
    "tbl_sample_metadata.duplicates('sample').displayall()"
   ]
  },
  {
   "cell_type": "code",
   "execution_count": 44,
   "metadata": {
    "collapsed": false
   },
   "outputs": [
    {
     "name": "stdout",
     "output_type": "stream",
     "text": [
      "1001\n"
     ]
    }
   ],
   "source": [
    "print(len(tbl_sample_metadata.selectin('sample', vcf_samples).data()))"
   ]
  },
  {
   "cell_type": "code",
   "execution_count": 47,
   "metadata": {
    "collapsed": false
   },
   "outputs": [
    {
     "data": {
      "text/html": [
       "<table class='petl'>\n",
       "<thead>\n",
       "<tr>\n",
       "<th>avg_read_length</th>\n",
       "<th>count</th>\n",
       "<th>frequency</th>\n",
       "</tr>\n",
       "</thead>\n",
       "<tbody>\n",
       "<tr>\n",
       "<td style='text-align: right'>74</td>\n",
       "<td style='text-align: right'>11</td>\n",
       "<td style='text-align: right'>0.01098901098901099</td>\n",
       "</tr>\n",
       "<tr>\n",
       "<td style='text-align: right'>75</td>\n",
       "<td style='text-align: right'>28</td>\n",
       "<td style='text-align: right'>0.027972027972027972</td>\n",
       "</tr>\n",
       "<tr>\n",
       "<td style='text-align: right'>96</td>\n",
       "<td style='text-align: right'>1</td>\n",
       "<td style='text-align: right'>0.000999000999000999</td>\n",
       "</tr>\n",
       "<tr>\n",
       "<td style='text-align: right'>97</td>\n",
       "<td style='text-align: right'>3</td>\n",
       "<td style='text-align: right'>0.002997002997002997</td>\n",
       "</tr>\n",
       "<tr>\n",
       "<td style='text-align: right'>98</td>\n",
       "<td style='text-align: right'>6</td>\n",
       "<td style='text-align: right'>0.005994005994005994</td>\n",
       "</tr>\n",
       "<tr>\n",
       "<td style='text-align: right'>99</td>\n",
       "<td style='text-align: right'>792</td>\n",
       "<td style='text-align: right'>0.7912087912087912</td>\n",
       "</tr>\n",
       "<tr>\n",
       "<td style='text-align: right'>100</td>\n",
       "<td style='text-align: right'>160</td>\n",
       "<td style='text-align: right'>0.15984015984015984</td>\n",
       "</tr>\n",
       "</tbody>\n",
       "</table>\n"
      ]
     },
     "metadata": {},
     "output_type": "display_data"
    }
   ],
   "source": [
    "tbl_sample_metadata.valuecounts('avg_read_length').sort('avg_read_length').displayall()"
   ]
  },
  {
   "cell_type": "code",
   "execution_count": 48,
   "metadata": {
    "collapsed": false
   },
   "outputs": [
    {
     "data": {
      "text/html": [
       "<table class='petl'>\n",
       "<thead>\n",
       "<tr>\n",
       "<th>study</th>\n",
       "<th>count</th>\n",
       "<th>frequency</th>\n",
       "</tr>\n",
       "</thead>\n",
       "<tbody>\n",
       "<tr>\n",
       "<td>1020-PF-VN-BONI</td>\n",
       "<td style='text-align: right'>1</td>\n",
       "<td style='text-align: right'>0.000999000999000999</td>\n",
       "</tr>\n",
       "<tr>\n",
       "<td>1044-PF-KH-FAIRHURST</td>\n",
       "<td style='text-align: right'>83</td>\n",
       "<td style='text-align: right'>0.08291708291708291</td>\n",
       "</tr>\n",
       "<tr>\n",
       "<td>1046-PV-BR-FERRERIA</td>\n",
       "<td style='text-align: right'>5</td>\n",
       "<td style='text-align: right'>0.004995004995004995</td>\n",
       "</tr>\n",
       "<tr>\n",
       "<td>1047-PV-LK-KARUNAWEERA</td>\n",
       "<td style='text-align: right'>2</td>\n",
       "<td style='text-align: right'>0.001998001998001998</td>\n",
       "</tr>\n",
       "<tr>\n",
       "<td>1049-PV-VN-BONI</td>\n",
       "<td style='text-align: right'>13</td>\n",
       "<td style='text-align: right'>0.012987012987012988</td>\n",
       "</tr>\n",
       "<tr>\n",
       "<td>1050-PV-PN-MUELLER</td>\n",
       "<td style='text-align: right'>20</td>\n",
       "<td style='text-align: right'>0.01998001998001998</td>\n",
       "</tr>\n",
       "<tr>\n",
       "<td>1052-PF-TRAC-WHITE</td>\n",
       "<td style='text-align: right'>17</td>\n",
       "<td style='text-align: right'>0.016983016983016984</td>\n",
       "</tr>\n",
       "<tr>\n",
       "<td>1062-PF-PG-BARRY</td>\n",
       "<td style='text-align: right'>4</td>\n",
       "<td style='text-align: right'>0.003996003996003996</td>\n",
       "</tr>\n",
       "<tr>\n",
       "<td>1098-PF-ET-GOLASSA</td>\n",
       "<td style='text-align: right'>96</td>\n",
       "<td style='text-align: right'>0.0959040959040959</td>\n",
       "</tr>\n",
       "<tr>\n",
       "<td>1102-PF-MG-RANDRIANARIVELOJOSIA</td>\n",
       "<td style='text-align: right'>1</td>\n",
       "<td style='text-align: right'>0.000999000999000999</td>\n",
       "</tr>\n",
       "<tr>\n",
       "<td>1125-PF-TH-NOSTEN</td>\n",
       "<td style='text-align: right'>1</td>\n",
       "<td style='text-align: right'>0.000999000999000999</td>\n",
       "</tr>\n",
       "<tr>\n",
       "<td>1154-PV-TH-PRICE</td>\n",
       "<td style='text-align: right'>106</td>\n",
       "<td style='text-align: right'>0.10589410589410589</td>\n",
       "</tr>\n",
       "<tr>\n",
       "<td>1155-PF-ID-PRICE</td>\n",
       "<td style='text-align: right'>1</td>\n",
       "<td style='text-align: right'>0.000999000999000999</td>\n",
       "</tr>\n",
       "<tr>\n",
       "<td>1156-PV-ID-PRICE</td>\n",
       "<td style='text-align: right'>167</td>\n",
       "<td style='text-align: right'>0.16683316683316685</td>\n",
       "</tr>\n",
       "<tr>\n",
       "<td>1157-PV-MULTI-PRICE</td>\n",
       "<td style='text-align: right'>216</td>\n",
       "<td style='text-align: right'>0.21578421578421578</td>\n",
       "</tr>\n",
       "<tr>\n",
       "<td>Broad</td>\n",
       "<td style='text-align: right'>190</td>\n",
       "<td style='text-align: right'>0.18981018981018982</td>\n",
       "</tr>\n",
       "<tr>\n",
       "<td>chapelhill</td>\n",
       "<td style='text-align: right'>78</td>\n",
       "<td style='text-align: right'>0.07792207792207792</td>\n",
       "</tr>\n",
       "</tbody>\n",
       "</table>\n"
      ]
     },
     "metadata": {},
     "output_type": "display_data"
    }
   ],
   "source": [
    "tbl_sample_metadata.valuecounts('study').sort('study').displayall()"
   ]
  },
  {
   "cell_type": "code",
   "execution_count": 49,
   "metadata": {
    "collapsed": false,
    "scrolled": true
   },
   "outputs": [
    {
     "data": {
      "text/plain": [
       "array(['1020-PF-VN-BONI', '1044-PF-KH-FAIRHURST', '1046-PV-BR-FERRERIA',\n",
       "       '1047-PV-LK-KARUNAWEERA', '1049-PV-VN-BONI', '1050-PV-PN-MUELLER',\n",
       "       '1052-PF-TRAC-WHITE', '1062-PF-PG-BARRY', '1098-PF-ET-GOLASSA',\n",
       "       '1102-PF-MG-RANDRIANARIVELOJOSIA', '1125-PF-TH-NOSTEN',\n",
       "       '1154-PV-TH-PRICE', '1155-PF-ID-PRICE', '1156-PV-ID-PRICE',\n",
       "       '1157-PV-MULTI-PRICE', 'Broad', 'chapelhill'], \n",
       "      dtype='<U31')"
      ]
     },
     "execution_count": 49,
     "metadata": {},
     "output_type": "execute_result"
    }
   ],
   "source": [
    "studies = tbl_sample_metadata.distinct('study').values('study').array()\n",
    "studies"
   ]
  },
  {
   "cell_type": "code",
   "execution_count": 76,
   "metadata": {
    "collapsed": false
   },
   "outputs": [],
   "source": [
    "study_vcf_jobs_manifest = '%s/study_vcf_jobs_manifest.txt' % output_dir\n",
    "fo = open(study_vcf_jobs_manifest, 'w')\n",
    "for study in studies:\n",
    "    sample_ids = \",\".join(tbl_sample_metadata.selecteq('study', study).values('sample'))\n",
    "    for chrom in sorted(genome.keys()):\n",
    "        if chrom.startswith('PvP01'):\n",
    "            print('%s\\t%s\\t%s' % (study, chrom, sample_ids), file=fo)\n",
    "    print('%s\\t%s\\t%s' % (study, 'PvP01_00', sample_ids), file=fo)\n",
    "fo.close()\n"
   ]
  },
  {
   "cell_type": "code",
   "execution_count": 59,
   "metadata": {
    "collapsed": false
   },
   "outputs": [],
   "source": [
    "fo = open(create_study_vcf_job_fn, 'w')\n",
    "print('''STUDY_VCF_JOBS_FILE=%s\n",
    " \n",
    "JOB=$LSB_JOBINDEX\n",
    "# JOB=19\n",
    " \n",
    "IN=`sed \"$JOB q;d\" $STUDY_VCF_JOBS_FILE`\n",
    "read -a LINE <<< \"$IN\"\n",
    "STUDY=${LINE[0]}\n",
    "CHROM=${LINE[1]}\n",
    "SAMPLES=${LINE[2]}\n",
    "\n",
    "OUTPUT_DIR=%s\n",
    "\n",
    "mkdir -p $OUTPUT_DIR/study_vcfs/$STUDY\n",
    "\n",
    "INPUT_VCF_FN=$OUTPUT_DIR/vcf/Pv_30_$CHROM.final.vcf.gz\n",
    "OUTPUT_VCF_FN=$OUTPUT_DIR/study_vcfs/$STUDY/Pv_30__$STUDY\\__$CHROM.vcf.gz\n",
    "\n",
    "echo $OUTPUT_VCF_FN\n",
    "echo $STUDY\n",
    "\n",
    "bcftools view --samples $SAMPLES --output-file $OUTPUT_VCF_FN --output-type z $INPUT_VCF_FN\n",
    "bcftools index --tbi $OUTPUT_VCF_FN\n",
    "md5sum $OUTPUT_VCF_FN > $OUTPUT_VCF_FN.md5\n",
    "\n",
    "''' % (\n",
    "        study_vcf_jobs_manifest,\n",
    "        output_dir,\n",
    "        )\n",
    "        , file=fo)\n",
    "fo.close()\n"
   ]
  },
  {
   "cell_type": "code",
   "execution_count": 58,
   "metadata": {
    "collapsed": false
   },
   "outputs": [
    {
     "name": "stdout",
     "output_type": "stream",
     "text": [
      "/lustre/scratch109/malaria/rp7/data/methods-dev/builds/Pv3.0/20161130_Pv30_final_vcfs/study_vcfs/1020-PF-VN-BONI/Pv_30__1020-PF-VN-BONI__Transfer.PvP01_00_100.final.vcf.gz\r\n",
      "1020-PF-VN-BONI\r\n"
     ]
    }
   ],
   "source": [
    "!bash {create_study_vcf_job_fn}"
   ]
  },
  {
   "cell_type": "code",
   "execution_count": 77,
   "metadata": {
    "collapsed": false
   },
   "outputs": [
    {
     "name": "stdout",
     "output_type": "stream",
     "text": [
      "289 /lustre/scratch109/malaria/rp7/data/methods-dev/builds/Pv3.0/20161130_Pv30_final_vcfs/log\n",
      "Job <9183675> is submitted to queue <normal>.\n"
     ]
    }
   ],
   "source": [
    "QUEUE = 'normal'\n",
    "wc_output = !wc -l {study_vcf_jobs_manifest}\n",
    "NUM_JOBS = wc_output[0].split(' ')[0]\n",
    "MEMORY = 8000\n",
    "LOG_DIR = \"%s/log\" % output_dir\n",
    "\n",
    "print(NUM_JOBS, LOG_DIR)\n",
    "\n",
    "!bsub -q {QUEUE} -G malaria-dk -J \"s_vcf[1-{NUM_JOBS}]\" -n2 -R\"select[mem>{MEMORY}] rusage[mem={MEMORY}] span[hosts=1]\" \\\n",
    "-M {MEMORY} -o {LOG_DIR}/output_%J-%I.log bash {create_study_vcf_job_fn}\n"
   ]
  },
  {
   "cell_type": "code",
   "execution_count": null,
   "metadata": {
    "collapsed": true
   },
   "outputs": [],
   "source": []
  }
 ],
 "metadata": {
  "anaconda-cloud": {},
  "kernelspec": {
   "display_name": "Python 3",
   "language": "python",
   "name": "python3"
  },
  "language_info": {
   "codemirror_mode": {
    "name": "ipython",
    "version": 3
   },
   "file_extension": ".py",
   "mimetype": "text/x-python",
   "name": "python",
   "nbconvert_exporter": "python",
   "pygments_lexer": "ipython3",
   "version": "3.5.2"
  }
 },
 "nbformat": 4,
 "nbformat_minor": 1
}
