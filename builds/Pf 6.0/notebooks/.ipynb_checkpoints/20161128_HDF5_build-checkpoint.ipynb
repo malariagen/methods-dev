{
 "cells": [
  {
   "cell_type": "code",
   "execution_count": 1,
   "metadata": {
    "collapsed": false
   },
   "outputs": [
    {
     "name": "stdout",
     "output_type": "stream",
     "text": [
      "python 3.5.2 |Continuum Analytics, Inc.| (default, Jul  2 2016, 17:53:06) \n",
      "[GCC 4.4.7 20120313 (Red Hat 4.4.7-1)]\n",
      "numpy 1.11.2\n",
      "scipy 0.18.1\n",
      "pandas 0.19.0\n",
      "numexpr 2.6.1\n",
      "pysam 0.8.4\n",
      "petl 1.1.0\n",
      "petlx 1.0.3\n",
      "vcf 0.6.8\n",
      "vcfnp 2.2.0\n",
      "h5py 2.6.0\n",
      "tables 3.3.0\n"
     ]
    }
   ],
   "source": [
    "%run _standard_imports.ipynb\n",
    "%run _plotting_setup.ipynb\n"
   ]
  },
  {
   "cell_type": "code",
   "execution_count": 2,
   "metadata": {
    "collapsed": false
   },
   "outputs": [],
   "source": [
    "output_dir = '/lustre/scratch111/malaria/rp7/data/methods-dev/builds/Pf6.0/20161128_HDF5_build'\n",
    "vrpipe_fileinfo_fn = \"%s/pf_60_genotype_gvcfs_200kb.txt\" % output_dir\n",
    "vcf_fofn = \"%s/pf_60_genotype_gvcfs_200kb.fofn\" % output_dir\n",
    "vcf_stem = '/lustre/scratch109/malaria/rp7/data/methods-dev/builds/Pf6.0/20161125_Pf60_final_vcfs/vcf/Pf_60_{chrom}.final.vcf.gz'\n",
    "\n",
    "nfs_release_dir = '/nfs/team112_internal/production/release_build/Pf/6_0_release_packages'\n",
    "nfs_final_hdf5_dir = '%s/hdf5' % nfs_release_dir\n",
    "!mkdir -p {nfs_final_hdf5_dir}\n",
    "\n",
    "GENOME_FN = \"/lustre/scratch116/malaria/pfalciparum/resources/Pfalciparum.genome.fasta\"\n",
    "genome_fn = \"%s/Pfalciparum.genome.fasta\" % output_dir\n",
    "\n",
    "!mkdir -p {output_dir}/hdf5\n",
    "!mkdir -p {output_dir}/vcf\n",
    "!mkdir -p {output_dir}/npy\n",
    "!mkdir -p {output_dir}/npy_no_PID_PGT\n",
    "!mkdir -p {output_dir}/npy_PL_28\n",
    "!mkdir -p {output_dir}/scripts\n",
    "!mkdir -p {output_dir}/log\n",
    "\n",
    "!cp {GENOME_FN} {genome_fn}"
   ]
  },
  {
   "cell_type": "code",
   "execution_count": 3,
   "metadata": {
    "collapsed": false
   },
   "outputs": [
    {
     "data": {
      "text/plain": [
       "<pyfasta.fasta.Fasta at 0x2b6861473908>"
      ]
     },
     "execution_count": 3,
     "metadata": {},
     "output_type": "execute_result"
    }
   ],
   "source": [
    "genome = pyfasta.Fasta(genome_fn)\n",
    "genome"
   ]
  },
  {
   "cell_type": "code",
   "execution_count": 18,
   "metadata": {
    "collapsed": false
   },
   "outputs": [],
   "source": [
    "fo = open(\"%s/scripts/vcfnp_variants_no_PID_PGT.sh\" % output_dir, 'w')\n",
    "print('''#!/bin/bash\n",
    "\n",
    "#set changes bash options\n",
    "#x prints commands & args as they are executed\n",
    "set -x\n",
    "#-e  Exit immediately if a command exits with a non-zero status\n",
    "set -e\n",
    "#reports the last program to return a non-0 exit code rather than the exit code of the last problem\n",
    "set -o pipefail\n",
    "\n",
    "vcf=$1\n",
    "chrom=$2\n",
    "\n",
    "fasta=%s\n",
    "\n",
    "# Reasons for some of string lengths\n",
    "# REF and ALT: found an SV with length -192 in one small test chunk, so decided on 300bp as this is a typical insert size\n",
    "# SNPEFF_AMINO_ACID_CHANGE: maximum 300 bases, therefore 100 alt AA + 1 ref AA + 4 integers for position \n",
    "# SNPEFF_CODON_CHANGE: # maximum 300 alt bases + 3 ref bases + \"/\"\n",
    "# SNPEFF_EXON_ID: integer for exon number, but kept as string in case any else in there \n",
    "\n",
    "vcf2npy \\\n",
    "    --vcf $vcf \\\n",
    "    --fasta $fasta \\\n",
    "    --output-dir %s/npy_no_PID_PGT \\\n",
    "    --array-type variants \\\n",
    "    --task-size 20000 \\\n",
    "    --task-index LSB_JOBINDEX \\\n",
    "    --progress 1000 \\\n",
    "    --chromosome $chrom \\\n",
    "    --arity ALT:6 \\\n",
    "    --arity AF:6 \\\n",
    "    --arity AC:6 \\\n",
    "    --arity svlen:6 \\\n",
    "    --dtype REF:a300 \\\n",
    "    --dtype ALT:a300 \\\n",
    "    --dtype MULTIALLELIC:a2 \\\n",
    "    --dtype RegionType:a25 \\\n",
    "    --dtype SNPEFF_AMINO_ACID_CHANGE:a105 \\\n",
    "    --dtype SNPEFF_CODON_CHANGE:a304 \\\n",
    "    --dtype SNPEFF_EFFECT:a33 \\\n",
    "    --dtype SNPEFF_EXON_ID:a2 \\\n",
    "    --dtype SNPEFF_FUNCTIONAL_CLASS:a8 \\\n",
    "    --dtype SNPEFF_GENE_NAME:a20 \\\n",
    "    --dtype SNPEFF_IMPACT:a8 \\\n",
    "    --dtype SNPEFF_TRANSCRIPT_ID:a20 \\\n",
    "    --dtype VARIANT_TYPE:a5 \\\n",
    "    --dtype VariantType:a40 \\\n",
    "    --exclude-field ID''' % (\n",
    "        genome_fn,\n",
    "        output_dir,\n",
    "        )\n",
    "        , file=fo)\n",
    "fo.close()\n"
   ]
  },
  {
   "cell_type": "code",
   "execution_count": 19,
   "metadata": {
    "collapsed": false
   },
   "outputs": [],
   "source": [
    "fo = open(\"%s/scripts/vcfnp_calldata_no_PID_PGT.sh\" % output_dir, 'w')\n",
    "print('''#!/bin/bash\n",
    "\n",
    "set -x\n",
    "set -e\n",
    "set -o pipefail\n",
    "\n",
    "vcf=$1\n",
    "chrom=$2\n",
    "\n",
    "fasta=%s\n",
    "\n",
    "# Reasons for some of string lengths\n",
    "# PL: number of PLs is n(n+1)/2 where n is number of alleles (7)\n",
    "# PID: maximum 300 alt bases + 1 ref base + 2 underscores + 7 integers for position \n",
    "\n",
    "vcf2npy \\\n",
    "    --vcf $vcf \\\n",
    "    --fasta $fasta \\\n",
    "    --output-dir %s/npy_no_PID_PGT \\\n",
    "    --array-type calldata_2d \\\n",
    "    --task-size 20000 \\\n",
    "    --task-index LSB_JOBINDEX \\\n",
    "    --progress 1000 \\\n",
    "    --chromosome $chrom \\\n",
    "    --arity AD:7 \\\n",
    "    --exclude-field PGT \\\n",
    "    --exclude-field PID \\\n",
    "    --exclude-field MIN_DP \\\n",
    "    --exclude-field RGQ \\\n",
    "    --exclude-field SB''' % (\n",
    "        genome_fn,\n",
    "        output_dir,\n",
    "        )\n",
    "        , file=fo)\n",
    "fo.close()\n",
    "\n",
    "#     --arity PL:28 \\\n",
    "#     --dtype PGT:a3 \\\n",
    "#     --dtype PID:a12 \\\n"
   ]
  },
  {
   "cell_type": "code",
   "execution_count": 27,
   "metadata": {
    "collapsed": true
   },
   "outputs": [],
   "source": [
    "fo = open(\"%s/scripts/vcfnp_concat.sh\" % output_dir, 'w')\n",
    "print('''#!/bin/bash\n",
    "\n",
    "set -x\n",
    "set -e\n",
    "set -o pipefail\n",
    "\n",
    "vcf=$1\n",
    "outbase=$2\n",
    "inputs=$3\n",
    "# inputs=${vcf}.vcfnp_cache\n",
    "# inputs=\n",
    "output=${outbase}.h5\n",
    "\n",
    "log=${output}.log\n",
    "\n",
    "if [ -f ${output}.md5 ]\n",
    "then\n",
    "    echo $(date) skipping $chrom >> $log\n",
    "else\n",
    "    echo $(date) building $chrom > $log\n",
    "    vcfnpy2hdf5 \\\n",
    "        --vcf $vcf \\\n",
    "        --input-dir $inputs \\\n",
    "        --output $output \\\n",
    "        --chunk-size 8388608 \\\n",
    "        --chunk-width 200 \\\n",
    "        --compression gzip \\\n",
    "        --compression-opts 1 \\\n",
    "        &>> $log\n",
    "        \n",
    "    md5sum $output > ${output}.md5 \n",
    "fi''', file=fo)\n",
    "fo.close()\n",
    "\n",
    "#     nv=$(ls -1 ${inputs}/v* | wc -l)\n",
    "#     nc=$(ls -1 ${inputs}/c* | wc -l)\n",
    "#     echo variants files $nv >> $log\n",
    "#     echo calldata files $nc >> $log\n",
    "#     if [ \"$nv\" -ne \"$nc\" ]\n",
    "#     then\n",
    "#         echo missing npy files\n",
    "#         exit 1\n",
    "#     fi\n"
   ]
  },
  {
   "cell_type": "markdown",
   "metadata": {},
   "source": [
    "# Full build"
   ]
  },
  {
   "cell_type": "code",
   "execution_count": 20,
   "metadata": {
    "collapsed": false
   },
   "outputs": [
    {
     "name": "stdout",
     "output_type": "stream",
     "text": [
      "Pf3D7_01_v3 1-33\n",
      "Job <8971479> is submitted to queue <normal>.\n",
      "Job <8971480> is submitted to queue <normal>.\n",
      "Pf3D7_02_v3 1-48\n",
      "Job <8971481> is submitted to queue <normal>.\n",
      "Job <8971482> is submitted to queue <normal>.\n",
      "Pf3D7_03_v3 1-54\n",
      "Job <8971483> is submitted to queue <normal>.\n",
      "Job <8971484> is submitted to queue <normal>.\n",
      "Pf3D7_04_v3 1-61\n",
      "Job <8971485> is submitted to queue <normal>.\n",
      "Job <8971486> is submitted to queue <normal>.\n",
      "Pf3D7_05_v3 1-68\n",
      "Job <8971487> is submitted to queue <normal>.\n",
      "Job <8971488> is submitted to queue <normal>.\n",
      "Pf3D7_06_v3 1-71\n",
      "Job <8971489> is submitted to queue <normal>.\n",
      "Job <8971490> is submitted to queue <normal>.\n",
      "Pf3D7_07_v3 1-73\n",
      "Job <8971491> is submitted to queue <normal>.\n",
      "Job <8971492> is submitted to queue <normal>.\n",
      "Pf3D7_08_v3 1-74\n",
      "Job <8971493> is submitted to queue <normal>.\n",
      "Job <8971494> is submitted to queue <normal>.\n",
      "Pf3D7_09_v3 1-78\n",
      "Job <8971495> is submitted to queue <normal>.\n",
      "Job <8971496> is submitted to queue <normal>.\n",
      "Pf3D7_10_v3 1-85\n",
      "Job <8971497> is submitted to queue <normal>.\n",
      "Job <8971498> is submitted to queue <normal>.\n",
      "Pf3D7_11_v3 1-102\n",
      "Job <8971499> is submitted to queue <normal>.\n",
      "Job <8971500> is submitted to queue <normal>.\n",
      "Pf3D7_12_v3 1-114\n",
      "Job <8971501> is submitted to queue <normal>.\n",
      "Job <8971502> is submitted to queue <normal>.\n",
      "Pf3D7_13_v3 1-147\n",
      "Job <8971503> is submitted to queue <normal>.\n",
      "Job <8971504> is submitted to queue <normal>.\n",
      "Pf3D7_14_v3 1-165\n",
      "Job <8971505> is submitted to queue <normal>.\n",
      "Job <8971506> is submitted to queue <normal>.\n",
      "Pf3D7_API_v3 1-2\n",
      "Job <8971507> is submitted to queue <normal>.\n",
      "Job <8971508> is submitted to queue <normal>.\n",
      "Pf_M76611 1-1\n",
      "Job <8971509> is submitted to queue <normal>.\n",
      "Job <8971510> is submitted to queue <normal>.\n"
     ]
    }
   ],
   "source": [
    "task_size = 20000\n",
    "for chrom in sorted(genome.keys()):\n",
    "    vcf_fn = vcf_stem.format(chrom=chrom)\n",
    "    n_tasks = '1-%s' % ((len(genome[chrom]) // task_size) + 1)\n",
    "    print(chrom, n_tasks)\n",
    "\n",
    "    \n",
    "    #the -t option is because we are sending an array to qsub\n",
    "    task = \"%s/scripts/vcfnp_variants_no_PID_PGT.sh\" % output_dir\n",
    "    !bsub -q normal -G malaria-dk -J \"v{chrom[6:8]}[{n_tasks}]\" -R\"select[mem>16000] rusage[mem=16000] span[hosts=1]\" -M 16000 -o {output_dir}/log/output_%J-%I.log bash {task} {vcf_stem.format(chrom=chrom)} {chrom} \n",
    "\n",
    "    task = \"%s/scripts/vcfnp_calldata_no_PID_PGT.sh\" % output_dir\n",
    "    !bsub -q normal -G malaria-dk -J \"c{chrom[6:8]}[{n_tasks}]\" -R\"select[mem>16000] rusage[mem=16000] span[hosts=1]\" -M 16000 -o {output_dir}/log/output_%J-%I.log bash {task} {vcf_stem.format(chrom=chrom)} {chrom} \n",
    "\n",
    "#     !qsub -S /bin/bash -l h_vmem=2G -N vcfnp_variants_$chrom -j y -o {logdir} -t {n_tasks} {task} {vcf_fn} {chrom}\n",
    "\n",
    "#     task = \"%s/scripts/vcfnp_calldata.sh\" % output_dir\n",
    "#     !qsub -S /bin/bash -l h_vmem=6G -N vcfnp_calldata_$chrom -j y -o {logdir} -t {n_tasks} {task} {vcf_fn} {chrom}"
   ]
  },
  {
   "cell_type": "code",
   "execution_count": 13,
   "metadata": {
    "collapsed": true
   },
   "outputs": [],
   "source": [
    "!mkdir -p {output_dir}/npy_PL_28"
   ]
  },
  {
   "cell_type": "code",
   "execution_count": 23,
   "metadata": {
    "collapsed": false
   },
   "outputs": [],
   "source": [
    "fo = open(\"%s/scripts/vcfnp_variants_PL_28.sh\" % output_dir, 'w')\n",
    "print('''#!/bin/bash\n",
    "\n",
    "#set changes bash options\n",
    "#x prints commands & args as they are executed\n",
    "set -x\n",
    "#-e  Exit immediately if a command exits with a non-zero status\n",
    "set -e\n",
    "#reports the last program to return a non-0 exit code rather than the exit code of the last problem\n",
    "set -o pipefail\n",
    "\n",
    "vcf=$1\n",
    "chrom=$2\n",
    "\n",
    "fasta=%s\n",
    "\n",
    "# Reasons for some of string lengths\n",
    "# REF and ALT: found an SV with length -192 in one small test chunk, so decided on 300bp as this is a typical insert size\n",
    "# SNPEFF_AMINO_ACID_CHANGE: maximum 300 bases, therefore 100 alt AA + 1 ref AA + 4 integers for position \n",
    "# SNPEFF_CODON_CHANGE: # maximum 300 alt bases + 3 ref bases + \"/\"\n",
    "# SNPEFF_EXON_ID: integer for exon number, but kept as string in case any else in there \n",
    "\n",
    "vcf2npy \\\n",
    "    --vcf $vcf \\\n",
    "    --fasta $fasta \\\n",
    "    --output-dir %s/npy_PL_28 \\\n",
    "    --array-type variants \\\n",
    "    --task-size 20000 \\\n",
    "    --task-index LSB_JOBINDEX \\\n",
    "    --progress 1000 \\\n",
    "    --chromosome $chrom \\\n",
    "    --arity ALT:6 \\\n",
    "    --arity AF:6 \\\n",
    "    --arity AC:6 \\\n",
    "    --arity svlen:6 \\\n",
    "    --dtype REF:a300 \\\n",
    "    --dtype ALT:a300 \\\n",
    "    --dtype MULTIALLELIC:a2 \\\n",
    "    --dtype RegionType:a25 \\\n",
    "    --dtype SNPEFF_AMINO_ACID_CHANGE:a105 \\\n",
    "    --dtype SNPEFF_CODON_CHANGE:a304 \\\n",
    "    --dtype SNPEFF_EFFECT:a33 \\\n",
    "    --dtype SNPEFF_EXON_ID:a2 \\\n",
    "    --dtype SNPEFF_FUNCTIONAL_CLASS:a8 \\\n",
    "    --dtype SNPEFF_GENE_NAME:a20 \\\n",
    "    --dtype SNPEFF_IMPACT:a8 \\\n",
    "    --dtype SNPEFF_TRANSCRIPT_ID:a20 \\\n",
    "    --dtype VARIANT_TYPE:a5 \\\n",
    "    --dtype VariantType:a40 \\\n",
    "    --exclude-field ID''' % (\n",
    "        genome_fn,\n",
    "        output_dir,\n",
    "        )\n",
    "        , file=fo)\n",
    "fo.close()\n"
   ]
  },
  {
   "cell_type": "code",
   "execution_count": 24,
   "metadata": {
    "collapsed": false
   },
   "outputs": [],
   "source": [
    "fo = open(\"%s/scripts/vcfnp_calldata_PL_28.sh\" % output_dir, 'w')\n",
    "print('''#!/bin/bash\n",
    "\n",
    "set -x\n",
    "set -e\n",
    "set -o pipefail\n",
    "\n",
    "vcf=$1\n",
    "chrom=$2\n",
    "\n",
    "fasta=%s\n",
    "\n",
    "# Reasons for some of string lengths\n",
    "# PL: number of PLs is n(n+1)/2 where n is number of alleles (7)\n",
    "# PID: maximum 300 alt bases + 1 ref base + 2 underscores + 7 integers for position \n",
    "\n",
    "vcf2npy \\\n",
    "    --vcf $vcf \\\n",
    "    --fasta $fasta \\\n",
    "    --output-dir %s/npy_PL_28 \\\n",
    "    --array-type calldata_2d \\\n",
    "    --task-size 20000 \\\n",
    "    --task-index LSB_JOBINDEX \\\n",
    "    --progress 1000 \\\n",
    "    --chromosome $chrom \\\n",
    "    --arity AD:7 \\\n",
    "    --arity PL:28 \\\n",
    "    --exclude-field PGT \\\n",
    "    --exclude-field PID \\\n",
    "    --exclude-field MIN_DP \\\n",
    "    --exclude-field RGQ \\\n",
    "    --exclude-field SB''' % (\n",
    "        genome_fn,\n",
    "        output_dir,\n",
    "        )\n",
    "        , file=fo)\n",
    "fo.close()\n",
    "\n",
    "#     --dtype PGT:a3 \\\n",
    "#     --dtype PID:a12 \\\n"
   ]
  },
  {
   "cell_type": "code",
   "execution_count": 79,
   "metadata": {
    "collapsed": false
   },
   "outputs": [],
   "source": [
    "fo = open(\"%s/scripts/vcfnp_variants_PID_a12.sh\" % output_dir, 'w')\n",
    "print('''#!/bin/bash\n",
    "\n",
    "#set changes bash options\n",
    "#x prints commands & args as they are executed\n",
    "set -x\n",
    "#-e  Exit immediately if a command exits with a non-zero status\n",
    "set -e\n",
    "#reports the last program to return a non-0 exit code rather than the exit code of the last problem\n",
    "set -o pipefail\n",
    "\n",
    "vcf=$1\n",
    "chrom=$2\n",
    "\n",
    "fasta=%s\n",
    "\n",
    "# Reasons for some of string lengths\n",
    "# REF and ALT: found an SV with length -192 in one small test chunk, so decided on 300bp as this is a typical insert size\n",
    "# SNPEFF_AMINO_ACID_CHANGE: maximum 300 bases, therefore 100 alt AA + 1 ref AA + 4 integers for position \n",
    "# SNPEFF_CODON_CHANGE: # maximum 300 alt bases + 3 ref bases + \"/\"\n",
    "# SNPEFF_EXON_ID: integer for exon number, but kept as string in case any else in there \n",
    "\n",
    "vcf2npy \\\n",
    "    --vcf $vcf \\\n",
    "    --fasta $fasta \\\n",
    "    --output-dir %s/npy_PID_a12 \\\n",
    "    --array-type variants \\\n",
    "    --task-size 20000 \\\n",
    "    --task-index $LSB_JOBINDEX \\\n",
    "    --progress 1000 \\\n",
    "    --chromosome $chrom \\\n",
    "    --arity ALT:6 \\\n",
    "    --arity AF:6 \\\n",
    "    --arity AC:6 \\\n",
    "    --arity svlen:6 \\\n",
    "    --dtype REF:a400 \\\n",
    "    --dtype ALT:a600 \\\n",
    "    --dtype MULTIALLELIC:a2 \\\n",
    "    --dtype RegionType:a25 \\\n",
    "    --dtype SNPEFF_AMINO_ACID_CHANGE:a105 \\\n",
    "    --dtype SNPEFF_CODON_CHANGE:a304 \\\n",
    "    --dtype SNPEFF_EFFECT:a33 \\\n",
    "    --dtype SNPEFF_EXON_ID:a2 \\\n",
    "    --dtype SNPEFF_FUNCTIONAL_CLASS:a8 \\\n",
    "    --dtype SNPEFF_GENE_NAME:a20 \\\n",
    "    --dtype SNPEFF_IMPACT:a8 \\\n",
    "    --dtype SNPEFF_TRANSCRIPT_ID:a20 \\\n",
    "    --dtype VARIANT_TYPE:a5 \\\n",
    "    --dtype VariantType:a40 \\\n",
    "    --exclude-field ID''' % (\n",
    "        genome_fn,\n",
    "        output_dir,\n",
    "        )\n",
    "        , file=fo)\n",
    "fo.close()\n"
   ]
  },
  {
   "cell_type": "code",
   "execution_count": 80,
   "metadata": {
    "collapsed": false
   },
   "outputs": [],
   "source": [
    "fo = open(\"%s/scripts/vcfnp_calldata_PID_a12.sh\" % output_dir, 'w')\n",
    "print('''#!/bin/bash\n",
    "\n",
    "set -x\n",
    "set -e\n",
    "set -o pipefail\n",
    "\n",
    "vcf=$1\n",
    "chrom=$2\n",
    "\n",
    "fasta=%s\n",
    "\n",
    "# Reasons for some of string lengths\n",
    "# PL: number of PLs is n(n+1)/2 where n is number of alleles (7)\n",
    "# PID: maximum 300 alt bases + 1 ref base + 2 underscores + 7 integers for position \n",
    "\n",
    "vcf2npy \\\n",
    "    --vcf $vcf \\\n",
    "    --fasta $fasta \\\n",
    "    --output-dir %s/npy_PID_a12 \\\n",
    "    --array-type calldata_2d \\\n",
    "    --task-size 20000 \\\n",
    "    --task-index $LSB_JOBINDEX \\\n",
    "    --progress 1000 \\\n",
    "    --chromosome $chrom \\\n",
    "    --arity AD:7 \\\n",
    "    --arity PL:28 \\\n",
    "    --dtype PGT:a3 \\\n",
    "    --dtype PID:a12 \\\n",
    "    --exclude-field MIN_DP \\\n",
    "    --exclude-field RGQ \\\n",
    "    --exclude-field SB''' % (\n",
    "        genome_fn,\n",
    "        output_dir,\n",
    "        )\n",
    "        , file=fo)\n",
    "fo.close()\n",
    "\n",
    "#     --dtype PGT:a3 \\\n",
    "#     --dtype PID:a12 \\\n"
   ]
  },
  {
   "cell_type": "code",
   "execution_count": 25,
   "metadata": {
    "collapsed": false
   },
   "outputs": [
    {
     "name": "stdout",
     "output_type": "stream",
     "text": [
      "Pf3D7_01_v3 1-33\n",
      "Job <8971522> is submitted to queue <normal>.\n",
      "Job <8971523> is submitted to queue <normal>.\n",
      "Pf3D7_02_v3 1-48\n",
      "Job <8971524> is submitted to queue <normal>.\n",
      "Job <8971525> is submitted to queue <normal>.\n",
      "Pf3D7_03_v3 1-54\n",
      "Job <8971527> is submitted to queue <normal>.\n",
      "Job <8971528> is submitted to queue <normal>.\n",
      "Pf3D7_04_v3 1-61\n",
      "Job <8971529> is submitted to queue <normal>.\n",
      "Job <8971530> is submitted to queue <normal>.\n",
      "Pf3D7_05_v3 1-68\n",
      "Job <8971531> is submitted to queue <normal>.\n",
      "Job <8971532> is submitted to queue <normal>.\n",
      "Pf3D7_06_v3 1-71\n",
      "Job <8971533> is submitted to queue <normal>.\n",
      "Job <8971534> is submitted to queue <normal>.\n",
      "Pf3D7_07_v3 1-73\n",
      "Job <8971535> is submitted to queue <normal>.\n",
      "Job <8971536> is submitted to queue <normal>.\n",
      "Pf3D7_08_v3 1-74\n",
      "Job <8971537> is submitted to queue <normal>.\n",
      "Job <8971538> is submitted to queue <normal>.\n",
      "Pf3D7_09_v3 1-78\n",
      "Job <8971539> is submitted to queue <normal>.\n",
      "Job <8971540> is submitted to queue <normal>.\n",
      "Pf3D7_10_v3 1-85\n",
      "Job <8971541> is submitted to queue <normal>.\n",
      "Job <8971542> is submitted to queue <normal>.\n",
      "Pf3D7_11_v3 1-102\n",
      "Job <8971543> is submitted to queue <normal>.\n",
      "Job <8971544> is submitted to queue <normal>.\n",
      "Pf3D7_12_v3 1-114\n",
      "Job <8971545> is submitted to queue <normal>.\n",
      "Job <8971546> is submitted to queue <normal>.\n",
      "Pf3D7_13_v3 1-147\n",
      "Job <8971547> is submitted to queue <normal>.\n",
      "Job <8971548> is submitted to queue <normal>.\n",
      "Pf3D7_14_v3 1-165\n",
      "Job <8971549> is submitted to queue <normal>.\n",
      "Job <8971550> is submitted to queue <normal>.\n",
      "Pf3D7_API_v3 1-2\n",
      "Job <8971551> is submitted to queue <normal>.\n",
      "Job <8971552> is submitted to queue <normal>.\n",
      "Pf_M76611 1-1\n",
      "Job <8971553> is submitted to queue <normal>.\n",
      "Job <8971554> is submitted to queue <normal>.\n"
     ]
    }
   ],
   "source": [
    "task_size = 20000\n",
    "for chrom in sorted(genome.keys()):\n",
    "    vcf_fn = vcf_stem.format(chrom=chrom)\n",
    "    n_tasks = '1-%s' % ((len(genome[chrom]) // task_size) + 1)\n",
    "    print(chrom, n_tasks)\n",
    "\n",
    "    \n",
    "    #the -t option is because we are sending an array to qsub\n",
    "    task = \"%s/scripts/vcfnp_variants_PL_28.sh\" % output_dir\n",
    "    !bsub -q normal -G malaria-dk -J \"v_{chrom[6:8]}[{n_tasks}]\" -R\"select[mem>16000] rusage[mem=16000] span[hosts=1]\" -M 16000 -o {output_dir}/log/output_%J-%I.log bash {task} {vcf_stem.format(chrom=chrom)} {chrom} \n",
    "\n",
    "    task = \"%s/scripts/vcfnp_calldata_PL_28.sh\" % output_dir\n",
    "    !bsub -q normal -G malaria-dk -J \"c_{chrom[6:8]}[{n_tasks}]\" -R\"select[mem>16000] rusage[mem=16000] span[hosts=1]\" -M 16000 -o {output_dir}/log/output_%J-%I.log bash {task} {vcf_stem.format(chrom=chrom)} {chrom} \n",
    "\n",
    "#     !qsub -S /bin/bash -l h_vmem=2G -N vcfnp_variants_$chrom -j y -o {logdir} -t {n_tasks} {task} {vcf_fn} {chrom}\n",
    "\n",
    "#     task = \"%s/scripts/vcfnp_calldata.sh\" % output_dir\n",
    "#     !qsub -S /bin/bash -l h_vmem=6G -N vcfnp_calldata_$chrom -j y -o {logdir} -t {n_tasks} {task} {vcf_fn} {chrom}"
   ]
  },
  {
   "cell_type": "code",
   "execution_count": 81,
   "metadata": {
    "collapsed": false
   },
   "outputs": [
    {
     "name": "stdout",
     "output_type": "stream",
     "text": [
      "Pf3D7_01_v3 1-33\n",
      "Job <9146513> is submitted to queue <normal>.\n",
      "Job <9146514> is submitted to queue <normal>.\n",
      "Pf3D7_02_v3 1-48\n",
      "Job <9146515> is submitted to queue <normal>.\n",
      "Job <9146516> is submitted to queue <normal>.\n",
      "Pf3D7_03_v3 1-54\n",
      "Job <9146517> is submitted to queue <normal>.\n",
      "Job <9146518> is submitted to queue <normal>.\n",
      "Pf3D7_04_v3 1-61\n",
      "Job <9146519> is submitted to queue <normal>.\n",
      "Job <9146520> is submitted to queue <normal>.\n",
      "Pf3D7_05_v3 1-68\n",
      "Job <9146521> is submitted to queue <normal>.\n",
      "Job <9146522> is submitted to queue <normal>.\n",
      "Pf3D7_06_v3 1-71\n",
      "Job <9146523> is submitted to queue <normal>.\n",
      "Job <9146524> is submitted to queue <normal>.\n",
      "Pf3D7_07_v3 1-73\n",
      "Job <9146525> is submitted to queue <normal>.\n",
      "Job <9146526> is submitted to queue <normal>.\n",
      "Pf3D7_08_v3 1-74\n",
      "Job <9146527> is submitted to queue <normal>.\n",
      "Job <9146528> is submitted to queue <normal>.\n",
      "Pf3D7_09_v3 1-78\n",
      "Job <9146529> is submitted to queue <normal>.\n",
      "Job <9146530> is submitted to queue <normal>.\n",
      "Pf3D7_10_v3 1-85\n",
      "Job <9146531> is submitted to queue <normal>.\n",
      "Job <9146532> is submitted to queue <normal>.\n",
      "Pf3D7_11_v3 1-102\n",
      "Job <9146533> is submitted to queue <normal>.\n",
      "Job <9146534> is submitted to queue <normal>.\n",
      "Pf3D7_12_v3 1-114\n",
      "Job <9146535> is submitted to queue <normal>.\n",
      "Job <9146536> is submitted to queue <normal>.\n",
      "Pf3D7_13_v3 1-147\n",
      "Job <9146537> is submitted to queue <normal>.\n",
      "Job <9146538> is submitted to queue <normal>.\n",
      "Pf3D7_14_v3 1-165\n",
      "Job <9146539> is submitted to queue <normal>.\n",
      "Job <9146540> is submitted to queue <normal>.\n",
      "Pf3D7_API_v3 1-2\n",
      "Job <9146541> is submitted to queue <normal>.\n",
      "Job <9146542> is submitted to queue <normal>.\n",
      "Pf_M76611 1-1\n",
      "Job <9146543> is submitted to queue <normal>.\n",
      "Job <9146544> is submitted to queue <normal>.\n"
     ]
    }
   ],
   "source": [
    "!mkdir -p {output_dir}/npy_PID_a12\n",
    "\n",
    "task_size = 20000\n",
    "for chrom in sorted(genome.keys()):\n",
    "    vcf_fn = vcf_stem.format(chrom=chrom)\n",
    "    n_tasks = '1-%s' % ((len(genome[chrom]) // task_size) + 1)\n",
    "    print(chrom, n_tasks)\n",
    "\n",
    "    \n",
    "    #the -t option is because we are sending an array to qsub\n",
    "    task = \"%s/scripts/vcfnp_variants_PID_a12.sh\" % output_dir\n",
    "    !bsub -q normal -G malaria-dk -J \"v_{chrom[6:8]}[{n_tasks}]\" -R\"select[mem>32000] rusage[mem=32000] span[hosts=1]\" -M 32000 -o {output_dir}/log/output_%J-%I.log bash {task} {vcf_stem.format(chrom=chrom)} {chrom} \n",
    "\n",
    "    task = \"%s/scripts/vcfnp_calldata_PID_a12.sh\" % output_dir\n",
    "    !bsub -q normal -G malaria-dk -J \"c_{chrom[6:8]}[{n_tasks}]\" -R\"select[mem>32000] rusage[mem=32000] span[hosts=1]\" -M 32000 -o {output_dir}/log/output_%J-%I.log bash {task} {vcf_stem.format(chrom=chrom)} {chrom} \n"
   ]
  },
  {
   "cell_type": "code",
   "execution_count": 54,
   "metadata": {
    "collapsed": true
   },
   "outputs": [],
   "source": [
    "current_jobs = !bjobs | grep '\\[1\\]' | cut -f 1 -d ' '"
   ]
  },
  {
   "cell_type": "code",
   "execution_count": 56,
   "metadata": {
    "collapsed": false
   },
   "outputs": [
    {
     "name": "stdout",
     "output_type": "stream",
     "text": [
      "Job <9130065>: Operation is in progress\n",
      "Job <9135699>: Operation is in progress\n",
      "Job <9130060>: Operation is in progress\n",
      "Job <9130046>: Operation is in progress\n",
      "Job <9135703>: Operation is in progress\n",
      "Job <9135710>: Operation is in progress\n",
      "Job <9135689>: Operation is in progress\n",
      "Job <9135694>: Operation is in progress\n",
      "Job <9130042>: Operation is in progress\n",
      "Job <9130053>: Operation is in progress\n",
      "Job <9135708>: Operation is in progress\n",
      "Job <9130071>: Operation is in progress\n",
      "Job <9130057>: Operation is in progress\n",
      "Job <9130044>: Operation is in progress\n",
      "Job <9130063>: Operation is in progress\n",
      "Job <9135701>: Operation is in progress\n",
      "Job <9135712>: Operation is in progress\n",
      "Job <9135715>: Operation is in progress\n",
      "Job <9135718>: Operation is in progress\n",
      "Job <9135723>: Operation is in progress\n",
      "Job <9135729>: Operation is in progress\n",
      "Job <9135734>: Operation is in progress\n",
      "Job <9135737>: Operation is in progress\n",
      "Job <9135741>: Operation is in progress\n",
      "Job <9135744>: Operation is in progress\n",
      "Job <9135748>: Operation is in progress\n",
      "Job <9135752>: Operation is in progress\n",
      "Job <9135756>: Operation is in progress\n",
      "Job <9135759>: Operation is in progress\n",
      "Job <9135763>: Operation is in progress\n",
      "Job <9135766>: Operation is in progress\n",
      "Job <9135769>: Operation is in progress\n",
      "Job <9135773>: Operation is in progress\n",
      "Job <9135776>: Operation is in progress\n",
      "Job <9135779>: Operation is in progress\n",
      "Job <9135783>: Operation is in progress\n",
      "Job <9135786>: Operation is in progress\n",
      "Job <9136023>: Operation is in progress\n",
      "Job <9136025>: Operation is in progress\n",
      "Job <9136027>: Operation is in progress\n",
      "Job <9136030>: Operation is in progress\n",
      "Job <9136032>: Operation is in progress\n",
      "Job <9136034>: Operation is in progress\n",
      "Job <9136037>: Operation is in progress\n",
      "Job <9136039>: Operation is in progress\n",
      "Job <9136042>: Operation is in progress\n",
      "Job <9136044>: Operation is in progress\n"
     ]
    }
   ],
   "source": [
    "for job in current_jobs:\n",
    "    !bkill {job}"
   ]
  },
  {
   "cell_type": "code",
   "execution_count": 26,
   "metadata": {
    "collapsed": true
   },
   "outputs": [],
   "source": [
    "!mkdir -p {output_dir}/npy_no_PID_PGT_10pc\n",
    "!cp {output_dir}/npy_no_PID_PGT/*40000.npy {output_dir}/npy_no_PID_PGT_10pc/"
   ]
  },
  {
   "cell_type": "code",
   "execution_count": 29,
   "metadata": {
    "collapsed": false
   },
   "outputs": [
    {
     "name": "stdout",
     "output_type": "stream",
     "text": [
      "Job <8976672> is submitted to queue <long>.\n",
      "Job <8976673> is submitted to queue <long>.\n"
     ]
    }
   ],
   "source": [
    "# for npy_dir in ['npy_no_PID_PGT_10pc']:\n",
    "for npy_dir in ['npy_no_PID_PGT', 'npy_PL_28']:\n",
    "    task = \"%s/scripts/vcfnp_concat.sh\" % output_dir\n",
    "    !bsub -q long -G malaria-dk -J \"{npy_dir}\" -R\"select[mem>16000] rusage[mem=16000] span[hosts=1]\" -M 16000 \\\n",
    "    -o {output_dir}/log/output_%J.log bash {task} {vcf_stem.format(chrom='Pf3D7_01_v3')} \\\n",
    "    {output_dir}/hdf5/Pf_60_{npy_dir} {output_dir}/{npy_dir}\n"
   ]
  },
  {
   "cell_type": "code",
   "execution_count": 36,
   "metadata": {
    "collapsed": false
   },
   "outputs": [
    {
     "name": "stdout",
     "output_type": "stream",
     "text": [
      "Job <9129302> is submitted to queue <long>.\r\n"
     ]
    }
   ],
   "source": [
    "# for npy_dir in ['npy_no_PID_PGT_10pc']:\n",
    "for npy_dir in ['npy_PL_28']:\n",
    "    task = \"%s/scripts/vcfnp_concat.sh\" % output_dir\n",
    "    !bsub -q long -G malaria-dk -J \"{npy_dir}\" -R\"select[mem>32000] rusage[mem=32000] span[hosts=1]\" -M 32000 \\\n",
    "    -o {output_dir}/log/output_%J.log bash {task} {vcf_stem.format(chrom='Pf3D7_01_v3')} \\\n",
    "    {output_dir}/hdf5/Pf_60_{npy_dir} {output_dir}/{npy_dir}\n"
   ]
  },
  {
   "cell_type": "code",
   "execution_count": 4,
   "metadata": {
    "collapsed": false
   },
   "outputs": [
    {
     "name": "stdout",
     "output_type": "stream",
     "text": [
      "Job <9168726> is submitted to queue <long>.\r\n"
     ]
    }
   ],
   "source": [
    "# for npy_dir in ['npy_no_PID_PGT_10pc']:\n",
    "for npy_dir in ['npy_PID_a12']:\n",
    "    task = \"%s/scripts/vcfnp_concat.sh\" % output_dir\n",
    "    !bsub -q long -G malaria-dk -J \"{npy_dir}\" -R\"select[mem>32000] rusage[mem=32000] span[hosts=1]\" -M 32000 \\\n",
    "    -o {output_dir}/log/output_%J.log bash {task} {vcf_stem.format(chrom='Pf3D7_01_v3')} \\\n",
    "    {output_dir}/hdf5/Pf_60_{npy_dir} {output_dir}/{npy_dir}\n"
   ]
  },
  {
   "cell_type": "code",
   "execution_count": 35,
   "metadata": {
    "collapsed": false
   },
   "outputs": [
    {
     "data": {
      "text/plain": [
       "'/lustre/scratch111/malaria/rp7/data/methods-dev/builds/Pf6.0/20161128_HDF5_build'"
      ]
     },
     "execution_count": 35,
     "metadata": {},
     "output_type": "execute_result"
    }
   ],
   "source": [
    "output_dir"
   ]
  },
  {
   "cell_type": "code",
   "execution_count": 31,
   "metadata": {
    "collapsed": false
   },
   "outputs": [
    {
     "name": "stdout",
     "output_type": "stream",
     "text": [
      "Job <8976857> is submitted to queue <long>.\r\n"
     ]
    }
   ],
   "source": [
    "task = \"%s/scripts/vcfnp_concat.sh\" % output_dir\n",
    "!bsub -q long -G malaria-dk -J \"full\" -R\"select[mem>16000] rusage[mem=16000] span[hosts=1]\" -M 16000 \\\n",
    "    -o {output_dir}/log/output_%J.log bash {task} {vcf_stem.format(chrom='Pf3D7_01_v3')} \\\n",
    "    {output_dir}/hdf5/Pf_60 \\\n",
    "    /lustre/scratch109/malaria/rp7/data/methods-dev/builds/Pf6.0/20161124_HDF5_build/npy\n"
   ]
  },
  {
   "cell_type": "markdown",
   "metadata": {},
   "source": [
    "# Summary of HDF5 creation\n",
    "\n",
    "After running all the above decided to stick with the PID_a12 version."
   ]
  },
  {
   "cell_type": "code",
   "execution_count": 4,
   "metadata": {
    "collapsed": true
   },
   "outputs": [],
   "source": [
    "y = h5py.File('%s/hdf5/Pf_60_npy_PID_a12.h5' % output_dir, 'r')\n"
   ]
  },
  {
   "cell_type": "code",
   "execution_count": 5,
   "metadata": {
    "collapsed": false
   },
   "outputs": [
    {
     "data": {
      "text/plain": [
       "False    3383388\n",
       "True     2668308\n",
       "dtype: int64"
      ]
     },
     "execution_count": 5,
     "metadata": {},
     "output_type": "execute_result"
    }
   ],
   "source": [
    "pd.value_counts(y['variants']['CDS'][:])"
   ]
  },
  {
   "cell_type": "code",
   "execution_count": 9,
   "metadata": {
    "collapsed": false
   },
   "outputs": [
    {
     "data": {
      "text/plain": [
       "['AD',\n",
       " 'DP',\n",
       " 'GQ',\n",
       " 'GT',\n",
       " 'PGT',\n",
       " 'PID',\n",
       " 'PL',\n",
       " 'genotype',\n",
       " 'is_called',\n",
       " 'is_phased']"
      ]
     },
     "execution_count": 9,
     "metadata": {},
     "output_type": "execute_result"
    }
   ],
   "source": [
    "list(y['calldata'].keys())\n"
   ]
  },
  {
   "cell_type": "code",
   "execution_count": null,
   "metadata": {
    "collapsed": true
   },
   "outputs": [],
   "source": []
  },
  {
   "cell_type": "code",
   "execution_count": 11,
   "metadata": {
    "collapsed": false
   },
   "outputs": [
    {
     "data": {
      "text/plain": [
       "b'PD0658-C'"
      ]
     },
     "execution_count": 11,
     "metadata": {},
     "output_type": "execute_result"
    }
   ],
   "source": [
    "y['samples'][1000]"
   ]
  },
  {
   "cell_type": "code",
   "execution_count": 16,
   "metadata": {
    "collapsed": false
   },
   "outputs": [
    {
     "data": {
      "text/plain": [
       "1000"
      ]
     },
     "execution_count": 16,
     "metadata": {},
     "output_type": "execute_result"
    }
   ],
   "source": [
    "np.where(y['samples'][:] == b'PD0658-C')[0][0]"
   ]
  },
  {
   "cell_type": "code",
   "execution_count": 18,
   "metadata": {
    "collapsed": false
   },
   "outputs": [
    {
     "data": {
      "text/plain": [
       "b'0/0'    5303092\n",
       "b'./.'     524040\n",
       "b'1/1'      96540\n",
       "b'0/1'      42603\n",
       "b'2/2'      30801\n",
       "b'0/2'      16457\n",
       "b'3/3'      10449\n",
       "b'0/3'       6562\n",
       "b'4/4'       5699\n",
       "b'5/5'       3504\n",
       "b'0/4'       3193\n",
       "b'6/6'       2363\n",
       "b'0/5'       1608\n",
       "b'1/2'       1444\n",
       "b'0/6'        822\n",
       "b'2/3'        488\n",
       "b'1/3'        360\n",
       "b'3/4'        287\n",
       "b'1/4'        217\n",
       "b'4/5'        199\n",
       "b'1/5'        179\n",
       "b'5/6'        166\n",
       "b'1/6'        119\n",
       "b'2/4'        117\n",
       "b'2/5'         92\n",
       "b'3/5'         90\n",
       "b'4/6'         80\n",
       "b'2/6'         67\n",
       "b'3/6'         58\n",
       "dtype: int64"
      ]
     },
     "execution_count": 18,
     "metadata": {},
     "output_type": "execute_result"
    }
   ],
   "source": [
    "pd.value_counts(y['calldata']['GT'][:, 1000])"
   ]
  },
  {
   "cell_type": "code",
   "execution_count": 58,
   "metadata": {
    "collapsed": false
   },
   "outputs": [
    {
     "data": {
      "text/plain": [
       " 0    5374337\n",
       "-1     524040\n",
       " 1      98859\n",
       " 2      31565\n",
       " 3      10884\n",
       " 4       5978\n",
       " 5       3670\n",
       " 6       2363\n",
       "dtype: int64"
      ]
     },
     "execution_count": 58,
     "metadata": {},
     "output_type": "execute_result"
    }
   ],
   "source": [
    "pd.value_counts(y['calldata']['genotype'][:, 1000, 0])"
   ]
  },
  {
   "cell_type": "code",
   "execution_count": 6,
   "metadata": {
    "collapsed": false
   },
   "outputs": [
    {
     "name": "stdout",
     "output_type": "stream",
     "text": [
      "             total       used       free     shared    buffers     cached\r\n",
      "Mem:     264041624  163806932  100234692          0        736   54651628\r\n",
      "-/+ buffers/cache:  109154568  154887056\r\n",
      "Swap:     33554428     219732   33334696\r\n"
     ]
    }
   ],
   "source": [
    "!free"
   ]
  },
  {
   "cell_type": "code",
   "execution_count": 65,
   "metadata": {
    "collapsed": false
   },
   "outputs": [
    {
     "ename": "KeyboardInterrupt",
     "evalue": "",
     "output_type": "error",
     "traceback": [
      "\u001b[0;31m---------------------------------------------------------------------------\u001b[0m",
      "\u001b[0;31mKeyboardInterrupt\u001b[0m                         Traceback (most recent call last)",
      "\u001b[0;32m<ipython-input-65-caa01c3eecd8>\u001b[0m in \u001b[0;36m<module>\u001b[0;34m()\u001b[0m\n\u001b[0;32m----> 1\u001b[0;31m \u001b[0mpd\u001b[0m\u001b[0;34m.\u001b[0m\u001b[0mvalue_counts\u001b[0m\u001b[0;34m(\u001b[0m\u001b[0mgenotypes\u001b[0m\u001b[0;34m.\u001b[0m\u001b[0mtake\u001b[0m\u001b[0;34m(\u001b[0m\u001b[0;36m1000\u001b[0m\u001b[0;34m,\u001b[0m \u001b[0;36m1\u001b[0m\u001b[0;34m)\u001b[0m\u001b[0;34m[\u001b[0m\u001b[0;34m:\u001b[0m\u001b[0;34m,\u001b[0m \u001b[0;36m0\u001b[0m\u001b[0;34m]\u001b[0m\u001b[0;34m)\u001b[0m\u001b[0;34m\u001b[0m\u001b[0m\n\u001b[0m",
      "\u001b[0;32m/nfs/users/nfs_r/rp7/miniconda3/envs/biipy/lib/python3.5/site-packages/allel/model/chunked.py\u001b[0m in \u001b[0;36mtake\u001b[0;34m(self, indices, axis, out, mode, **kwargs)\u001b[0m\n\u001b[1;32m    314\u001b[0m     \u001b[0;32mdef\u001b[0m \u001b[0mtake\u001b[0m\u001b[0;34m(\u001b[0m\u001b[0mself\u001b[0m\u001b[0;34m,\u001b[0m \u001b[0mindices\u001b[0m\u001b[0;34m,\u001b[0m \u001b[0maxis\u001b[0m\u001b[0;34m=\u001b[0m\u001b[0;36m0\u001b[0m\u001b[0;34m,\u001b[0m \u001b[0mout\u001b[0m\u001b[0;34m=\u001b[0m\u001b[0;32mNone\u001b[0m\u001b[0;34m,\u001b[0m \u001b[0mmode\u001b[0m\u001b[0;34m=\u001b[0m\u001b[0;34m'raise'\u001b[0m\u001b[0;34m,\u001b[0m \u001b[0;34m**\u001b[0m\u001b[0mkwargs\u001b[0m\u001b[0;34m)\u001b[0m\u001b[0;34m:\u001b[0m\u001b[0;34m\u001b[0m\u001b[0m\n\u001b[1;32m    315\u001b[0m         return take_genotypes(self, indices, axis=axis, wrap_axes={0, 1}, cls=type(self),\n\u001b[0;32m--> 316\u001b[0;31m                               take=_chunked.take, out=out, mode=mode, **kwargs)\n\u001b[0m\u001b[1;32m    317\u001b[0m \u001b[0;34m\u001b[0m\u001b[0m\n\u001b[1;32m    318\u001b[0m     \u001b[0;32mdef\u001b[0m \u001b[0msubset\u001b[0m\u001b[0;34m(\u001b[0m\u001b[0mself\u001b[0m\u001b[0;34m,\u001b[0m \u001b[0msel0\u001b[0m\u001b[0;34m=\u001b[0m\u001b[0;32mNone\u001b[0m\u001b[0;34m,\u001b[0m \u001b[0msel1\u001b[0m\u001b[0;34m=\u001b[0m\u001b[0;32mNone\u001b[0m\u001b[0;34m,\u001b[0m \u001b[0;34m**\u001b[0m\u001b[0mkwargs\u001b[0m\u001b[0;34m)\u001b[0m\u001b[0;34m:\u001b[0m\u001b[0;34m\u001b[0m\u001b[0m\n",
      "\u001b[0;32m/nfs/users/nfs_r/rp7/miniconda3/envs/biipy/lib/python3.5/site-packages/allel/model/generic.py\u001b[0m in \u001b[0;36mtake_genotypes\u001b[0;34m(g, indices, axis, wrap_axes, cls, take, **kwargs)\u001b[0m\n\u001b[1;32m    192\u001b[0m \u001b[0;34m\u001b[0m\u001b[0m\n\u001b[1;32m    193\u001b[0m     \u001b[0;31m# apply compress operation on the underlying values\u001b[0m\u001b[0;34m\u001b[0m\u001b[0;34m\u001b[0m\u001b[0m\n\u001b[0;32m--> 194\u001b[0;31m     \u001b[0mout\u001b[0m \u001b[0;34m=\u001b[0m \u001b[0mtake\u001b[0m\u001b[0;34m(\u001b[0m\u001b[0mg\u001b[0m\u001b[0;34m.\u001b[0m\u001b[0mvalues\u001b[0m\u001b[0;34m,\u001b[0m \u001b[0mindices\u001b[0m\u001b[0;34m,\u001b[0m \u001b[0maxis\u001b[0m\u001b[0;34m=\u001b[0m\u001b[0maxis\u001b[0m\u001b[0;34m,\u001b[0m \u001b[0;34m**\u001b[0m\u001b[0mkwargs\u001b[0m\u001b[0;34m)\u001b[0m\u001b[0;34m\u001b[0m\u001b[0m\n\u001b[0m\u001b[1;32m    195\u001b[0m \u001b[0;34m\u001b[0m\u001b[0m\n\u001b[1;32m    196\u001b[0m     \u001b[0;32mif\u001b[0m \u001b[0maxis\u001b[0m \u001b[0;32min\u001b[0m \u001b[0mwrap_axes\u001b[0m\u001b[0;34m:\u001b[0m\u001b[0;34m\u001b[0m\u001b[0m\n",
      "\u001b[0;32m/nfs/users/nfs_r/rp7/miniconda3/envs/biipy/lib/python3.5/site-packages/allel/chunked/core.py\u001b[0m in \u001b[0;36mtake\u001b[0;34m(data, indices, axis, out, mode, blen, storage, create, **kwargs)\u001b[0m\n\u001b[1;32m    306\u001b[0m         \u001b[0;32mfor\u001b[0m \u001b[0mi\u001b[0m \u001b[0;32min\u001b[0m \u001b[0mrange\u001b[0m\u001b[0;34m(\u001b[0m\u001b[0;36m0\u001b[0m\u001b[0;34m,\u001b[0m \u001b[0mlength\u001b[0m\u001b[0;34m,\u001b[0m \u001b[0mblen\u001b[0m\u001b[0;34m)\u001b[0m\u001b[0;34m:\u001b[0m\u001b[0;34m\u001b[0m\u001b[0m\n\u001b[1;32m    307\u001b[0m             \u001b[0mj\u001b[0m \u001b[0;34m=\u001b[0m \u001b[0mmin\u001b[0m\u001b[0;34m(\u001b[0m\u001b[0mi\u001b[0m\u001b[0;34m+\u001b[0m\u001b[0mblen\u001b[0m\u001b[0;34m,\u001b[0m \u001b[0mlength\u001b[0m\u001b[0;34m)\u001b[0m\u001b[0;34m\u001b[0m\u001b[0m\n\u001b[0;32m--> 308\u001b[0;31m             \u001b[0mblock\u001b[0m \u001b[0;34m=\u001b[0m \u001b[0mdata\u001b[0m\u001b[0;34m[\u001b[0m\u001b[0mi\u001b[0m\u001b[0;34m:\u001b[0m\u001b[0mj\u001b[0m\u001b[0;34m]\u001b[0m\u001b[0;34m\u001b[0m\u001b[0m\n\u001b[0m\u001b[1;32m    309\u001b[0m             \u001b[0mres\u001b[0m \u001b[0;34m=\u001b[0m \u001b[0mnp\u001b[0m\u001b[0;34m.\u001b[0m\u001b[0mtake\u001b[0m\u001b[0;34m(\u001b[0m\u001b[0mblock\u001b[0m\u001b[0;34m,\u001b[0m \u001b[0mindices\u001b[0m\u001b[0;34m,\u001b[0m \u001b[0maxis\u001b[0m\u001b[0;34m=\u001b[0m\u001b[0;36m1\u001b[0m\u001b[0;34m,\u001b[0m \u001b[0mmode\u001b[0m\u001b[0;34m=\u001b[0m\u001b[0mmode\u001b[0m\u001b[0;34m)\u001b[0m\u001b[0;34m\u001b[0m\u001b[0m\n\u001b[1;32m    310\u001b[0m             \u001b[0;32mif\u001b[0m \u001b[0mout\u001b[0m \u001b[0;32mis\u001b[0m \u001b[0;32mNone\u001b[0m\u001b[0;34m:\u001b[0m\u001b[0;34m\u001b[0m\u001b[0m\n",
      "\u001b[0;32mh5py/_objects.pyx\u001b[0m in \u001b[0;36mh5py._objects.with_phil.wrapper (/feedstock_root/build_artefacts/work/h5py-2.6.0/h5py/_objects.c:2840)\u001b[0;34m()\u001b[0m\n",
      "\u001b[0;32mh5py/_objects.pyx\u001b[0m in \u001b[0;36mh5py._objects.with_phil.wrapper (/feedstock_root/build_artefacts/work/h5py-2.6.0/h5py/_objects.c:2798)\u001b[0;34m()\u001b[0m\n",
      "\u001b[0;32m/nfs/users/nfs_r/rp7/miniconda3/envs/biipy/lib/python3.5/site-packages/h5py/_hl/dataset.py\u001b[0m in \u001b[0;36m__getitem__\u001b[0;34m(self, args)\u001b[0m\n\u001b[1;32m    480\u001b[0m         \u001b[0mmspace\u001b[0m \u001b[0;34m=\u001b[0m \u001b[0mh5s\u001b[0m\u001b[0;34m.\u001b[0m\u001b[0mcreate_simple\u001b[0m\u001b[0;34m(\u001b[0m\u001b[0mmshape\u001b[0m\u001b[0;34m)\u001b[0m\u001b[0;34m\u001b[0m\u001b[0m\n\u001b[1;32m    481\u001b[0m         \u001b[0mfspace\u001b[0m \u001b[0;34m=\u001b[0m \u001b[0mselection\u001b[0m\u001b[0;34m.\u001b[0m\u001b[0mid\u001b[0m\u001b[0;34m\u001b[0m\u001b[0m\n\u001b[0;32m--> 482\u001b[0;31m         \u001b[0mself\u001b[0m\u001b[0;34m.\u001b[0m\u001b[0mid\u001b[0m\u001b[0;34m.\u001b[0m\u001b[0mread\u001b[0m\u001b[0;34m(\u001b[0m\u001b[0mmspace\u001b[0m\u001b[0;34m,\u001b[0m \u001b[0mfspace\u001b[0m\u001b[0;34m,\u001b[0m \u001b[0marr\u001b[0m\u001b[0;34m,\u001b[0m \u001b[0mmtype\u001b[0m\u001b[0;34m,\u001b[0m \u001b[0mdxpl\u001b[0m\u001b[0;34m=\u001b[0m\u001b[0mself\u001b[0m\u001b[0;34m.\u001b[0m\u001b[0m_dxpl\u001b[0m\u001b[0;34m)\u001b[0m\u001b[0;34m\u001b[0m\u001b[0m\n\u001b[0m\u001b[1;32m    483\u001b[0m \u001b[0;34m\u001b[0m\u001b[0m\n\u001b[1;32m    484\u001b[0m         \u001b[0;31m# Patch up the output for NumPy\u001b[0m\u001b[0;34m\u001b[0m\u001b[0;34m\u001b[0m\u001b[0m\n",
      "\u001b[0;31mKeyboardInterrupt\u001b[0m: "
     ]
    }
   ],
   "source": [
    "pd.value_counts(genotypes.take(1000, 1)[:, 0])"
   ]
  },
  {
   "cell_type": "code",
   "execution_count": 66,
   "metadata": {
    "collapsed": false
   },
   "outputs": [
    {
     "ename": "KeyboardInterrupt",
     "evalue": "",
     "output_type": "error",
     "traceback": [
      "\u001b[0;31m---------------------------------------------------------------------------\u001b[0m",
      "\u001b[0;31mKeyboardInterrupt\u001b[0m                         Traceback (most recent call last)",
      "\u001b[0;32m<ipython-input-66-d74c07931427>\u001b[0m in \u001b[0;36m<module>\u001b[0;34m()\u001b[0m\n\u001b[0;32m----> 1\u001b[0;31m \u001b[0mgenotypes\u001b[0m\u001b[0;34m.\u001b[0m\u001b[0mtake\u001b[0m\u001b[0;34m(\u001b[0m\u001b[0;36m1000\u001b[0m\u001b[0;34m,\u001b[0m \u001b[0;36m1\u001b[0m\u001b[0;34m)\u001b[0m\u001b[0;34m.\u001b[0m\u001b[0mshape\u001b[0m\u001b[0;34m\u001b[0m\u001b[0m\n\u001b[0m",
      "\u001b[0;32m/nfs/users/nfs_r/rp7/miniconda3/envs/biipy/lib/python3.5/site-packages/allel/model/chunked.py\u001b[0m in \u001b[0;36mtake\u001b[0;34m(self, indices, axis, out, mode, **kwargs)\u001b[0m\n\u001b[1;32m    314\u001b[0m     \u001b[0;32mdef\u001b[0m \u001b[0mtake\u001b[0m\u001b[0;34m(\u001b[0m\u001b[0mself\u001b[0m\u001b[0;34m,\u001b[0m \u001b[0mindices\u001b[0m\u001b[0;34m,\u001b[0m \u001b[0maxis\u001b[0m\u001b[0;34m=\u001b[0m\u001b[0;36m0\u001b[0m\u001b[0;34m,\u001b[0m \u001b[0mout\u001b[0m\u001b[0;34m=\u001b[0m\u001b[0;32mNone\u001b[0m\u001b[0;34m,\u001b[0m \u001b[0mmode\u001b[0m\u001b[0;34m=\u001b[0m\u001b[0;34m'raise'\u001b[0m\u001b[0;34m,\u001b[0m \u001b[0;34m**\u001b[0m\u001b[0mkwargs\u001b[0m\u001b[0;34m)\u001b[0m\u001b[0;34m:\u001b[0m\u001b[0;34m\u001b[0m\u001b[0m\n\u001b[1;32m    315\u001b[0m         return take_genotypes(self, indices, axis=axis, wrap_axes={0, 1}, cls=type(self),\n\u001b[0;32m--> 316\u001b[0;31m                               take=_chunked.take, out=out, mode=mode, **kwargs)\n\u001b[0m\u001b[1;32m    317\u001b[0m \u001b[0;34m\u001b[0m\u001b[0m\n\u001b[1;32m    318\u001b[0m     \u001b[0;32mdef\u001b[0m \u001b[0msubset\u001b[0m\u001b[0;34m(\u001b[0m\u001b[0mself\u001b[0m\u001b[0;34m,\u001b[0m \u001b[0msel0\u001b[0m\u001b[0;34m=\u001b[0m\u001b[0;32mNone\u001b[0m\u001b[0;34m,\u001b[0m \u001b[0msel1\u001b[0m\u001b[0;34m=\u001b[0m\u001b[0;32mNone\u001b[0m\u001b[0;34m,\u001b[0m \u001b[0;34m**\u001b[0m\u001b[0mkwargs\u001b[0m\u001b[0;34m)\u001b[0m\u001b[0;34m:\u001b[0m\u001b[0;34m\u001b[0m\u001b[0m\n",
      "\u001b[0;32m/nfs/users/nfs_r/rp7/miniconda3/envs/biipy/lib/python3.5/site-packages/allel/model/generic.py\u001b[0m in \u001b[0;36mtake_genotypes\u001b[0;34m(g, indices, axis, wrap_axes, cls, take, **kwargs)\u001b[0m\n\u001b[1;32m    192\u001b[0m \u001b[0;34m\u001b[0m\u001b[0m\n\u001b[1;32m    193\u001b[0m     \u001b[0;31m# apply compress operation on the underlying values\u001b[0m\u001b[0;34m\u001b[0m\u001b[0;34m\u001b[0m\u001b[0m\n\u001b[0;32m--> 194\u001b[0;31m     \u001b[0mout\u001b[0m \u001b[0;34m=\u001b[0m \u001b[0mtake\u001b[0m\u001b[0;34m(\u001b[0m\u001b[0mg\u001b[0m\u001b[0;34m.\u001b[0m\u001b[0mvalues\u001b[0m\u001b[0;34m,\u001b[0m \u001b[0mindices\u001b[0m\u001b[0;34m,\u001b[0m \u001b[0maxis\u001b[0m\u001b[0;34m=\u001b[0m\u001b[0maxis\u001b[0m\u001b[0;34m,\u001b[0m \u001b[0;34m**\u001b[0m\u001b[0mkwargs\u001b[0m\u001b[0;34m)\u001b[0m\u001b[0;34m\u001b[0m\u001b[0m\n\u001b[0m\u001b[1;32m    195\u001b[0m \u001b[0;34m\u001b[0m\u001b[0m\n\u001b[1;32m    196\u001b[0m     \u001b[0;32mif\u001b[0m \u001b[0maxis\u001b[0m \u001b[0;32min\u001b[0m \u001b[0mwrap_axes\u001b[0m\u001b[0;34m:\u001b[0m\u001b[0;34m\u001b[0m\u001b[0m\n",
      "\u001b[0;32m/nfs/users/nfs_r/rp7/miniconda3/envs/biipy/lib/python3.5/site-packages/allel/chunked/core.py\u001b[0m in \u001b[0;36mtake\u001b[0;34m(data, indices, axis, out, mode, blen, storage, create, **kwargs)\u001b[0m\n\u001b[1;32m    306\u001b[0m         \u001b[0;32mfor\u001b[0m \u001b[0mi\u001b[0m \u001b[0;32min\u001b[0m \u001b[0mrange\u001b[0m\u001b[0;34m(\u001b[0m\u001b[0;36m0\u001b[0m\u001b[0;34m,\u001b[0m \u001b[0mlength\u001b[0m\u001b[0;34m,\u001b[0m \u001b[0mblen\u001b[0m\u001b[0;34m)\u001b[0m\u001b[0;34m:\u001b[0m\u001b[0;34m\u001b[0m\u001b[0m\n\u001b[1;32m    307\u001b[0m             \u001b[0mj\u001b[0m \u001b[0;34m=\u001b[0m \u001b[0mmin\u001b[0m\u001b[0;34m(\u001b[0m\u001b[0mi\u001b[0m\u001b[0;34m+\u001b[0m\u001b[0mblen\u001b[0m\u001b[0;34m,\u001b[0m \u001b[0mlength\u001b[0m\u001b[0;34m)\u001b[0m\u001b[0;34m\u001b[0m\u001b[0m\n\u001b[0;32m--> 308\u001b[0;31m             \u001b[0mblock\u001b[0m \u001b[0;34m=\u001b[0m \u001b[0mdata\u001b[0m\u001b[0;34m[\u001b[0m\u001b[0mi\u001b[0m\u001b[0;34m:\u001b[0m\u001b[0mj\u001b[0m\u001b[0;34m]\u001b[0m\u001b[0;34m\u001b[0m\u001b[0m\n\u001b[0m\u001b[1;32m    309\u001b[0m             \u001b[0mres\u001b[0m \u001b[0;34m=\u001b[0m \u001b[0mnp\u001b[0m\u001b[0;34m.\u001b[0m\u001b[0mtake\u001b[0m\u001b[0;34m(\u001b[0m\u001b[0mblock\u001b[0m\u001b[0;34m,\u001b[0m \u001b[0mindices\u001b[0m\u001b[0;34m,\u001b[0m \u001b[0maxis\u001b[0m\u001b[0;34m=\u001b[0m\u001b[0;36m1\u001b[0m\u001b[0;34m,\u001b[0m \u001b[0mmode\u001b[0m\u001b[0;34m=\u001b[0m\u001b[0mmode\u001b[0m\u001b[0;34m)\u001b[0m\u001b[0;34m\u001b[0m\u001b[0m\n\u001b[1;32m    310\u001b[0m             \u001b[0;32mif\u001b[0m \u001b[0mout\u001b[0m \u001b[0;32mis\u001b[0m \u001b[0;32mNone\u001b[0m\u001b[0;34m:\u001b[0m\u001b[0;34m\u001b[0m\u001b[0m\n",
      "\u001b[0;32mh5py/_objects.pyx\u001b[0m in \u001b[0;36mh5py._objects.with_phil.wrapper (/feedstock_root/build_artefacts/work/h5py-2.6.0/h5py/_objects.c:2840)\u001b[0;34m()\u001b[0m\n",
      "\u001b[0;32mh5py/_objects.pyx\u001b[0m in \u001b[0;36mh5py._objects.with_phil.wrapper (/feedstock_root/build_artefacts/work/h5py-2.6.0/h5py/_objects.c:2798)\u001b[0;34m()\u001b[0m\n",
      "\u001b[0;32m/nfs/users/nfs_r/rp7/miniconda3/envs/biipy/lib/python3.5/site-packages/h5py/_hl/dataset.py\u001b[0m in \u001b[0;36m__getitem__\u001b[0;34m(self, args)\u001b[0m\n\u001b[1;32m    480\u001b[0m         \u001b[0mmspace\u001b[0m \u001b[0;34m=\u001b[0m \u001b[0mh5s\u001b[0m\u001b[0;34m.\u001b[0m\u001b[0mcreate_simple\u001b[0m\u001b[0;34m(\u001b[0m\u001b[0mmshape\u001b[0m\u001b[0;34m)\u001b[0m\u001b[0;34m\u001b[0m\u001b[0m\n\u001b[1;32m    481\u001b[0m         \u001b[0mfspace\u001b[0m \u001b[0;34m=\u001b[0m \u001b[0mselection\u001b[0m\u001b[0;34m.\u001b[0m\u001b[0mid\u001b[0m\u001b[0;34m\u001b[0m\u001b[0m\n\u001b[0;32m--> 482\u001b[0;31m         \u001b[0mself\u001b[0m\u001b[0;34m.\u001b[0m\u001b[0mid\u001b[0m\u001b[0;34m.\u001b[0m\u001b[0mread\u001b[0m\u001b[0;34m(\u001b[0m\u001b[0mmspace\u001b[0m\u001b[0;34m,\u001b[0m \u001b[0mfspace\u001b[0m\u001b[0;34m,\u001b[0m \u001b[0marr\u001b[0m\u001b[0;34m,\u001b[0m \u001b[0mmtype\u001b[0m\u001b[0;34m,\u001b[0m \u001b[0mdxpl\u001b[0m\u001b[0;34m=\u001b[0m\u001b[0mself\u001b[0m\u001b[0;34m.\u001b[0m\u001b[0m_dxpl\u001b[0m\u001b[0;34m)\u001b[0m\u001b[0;34m\u001b[0m\u001b[0m\n\u001b[0m\u001b[1;32m    483\u001b[0m \u001b[0;34m\u001b[0m\u001b[0m\n\u001b[1;32m    484\u001b[0m         \u001b[0;31m# Patch up the output for NumPy\u001b[0m\u001b[0;34m\u001b[0m\u001b[0;34m\u001b[0m\u001b[0m\n",
      "\u001b[0;31mKeyboardInterrupt\u001b[0m: "
     ]
    }
   ],
   "source": [
    "genotypes.take(1000, 1).shape"
   ]
  },
  {
   "cell_type": "code",
   "execution_count": null,
   "metadata": {
    "collapsed": true
   },
   "outputs": [],
   "source": [
    "genotypes.subset(None, 1000).shape"
   ]
  },
  {
   "cell_type": "code",
   "execution_count": 67,
   "metadata": {
    "collapsed": false
   },
   "outputs": [
    {
     "data": {
      "text/plain": [
       "(6051696, 2)"
      ]
     },
     "execution_count": 67,
     "metadata": {},
     "output_type": "execute_result"
    }
   ],
   "source": [
    "y['calldata']['genotype'][:, 1000].shape"
   ]
  },
  {
   "cell_type": "code",
   "execution_count": 41,
   "metadata": {
    "collapsed": false
   },
   "outputs": [
    {
     "data": {
      "text/plain": [
       "b'0/0'"
      ]
     },
     "execution_count": 41,
     "metadata": {},
     "output_type": "execute_result"
    }
   ],
   "source": [
    "temp = y['calldata']['GT'][1000000, 1000]\n",
    "temp"
   ]
  },
  {
   "cell_type": "code",
   "execution_count": 42,
   "metadata": {
    "collapsed": false
   },
   "outputs": [
    {
     "data": {
      "text/plain": [
       "array([0, 0], dtype=int8)"
      ]
     },
     "execution_count": 42,
     "metadata": {},
     "output_type": "execute_result"
    }
   ],
   "source": [
    "temp = y['calldata']['genotype'][1000000, 1000]\n",
    "temp"
   ]
  },
  {
   "cell_type": "code",
   "execution_count": 45,
   "metadata": {
    "collapsed": false
   },
   "outputs": [
    {
     "data": {
      "text/plain": [
       "array([0, 0], dtype=int8)"
      ]
     },
     "execution_count": 45,
     "metadata": {},
     "output_type": "execute_result"
    }
   ],
   "source": [
    "np.array([0, 0], dtype='int8')"
   ]
  },
  {
   "cell_type": "code",
   "execution_count": 35,
   "metadata": {
    "collapsed": false
   },
   "outputs": [
    {
     "data": {
      "text/plain": [
       "'0'"
      ]
     },
     "execution_count": 35,
     "metadata": {},
     "output_type": "execute_result"
    }
   ],
   "source": [
    "temp.decode('ascii')[0]"
   ]
  },
  {
   "cell_type": "code",
   "execution_count": 25,
   "metadata": {
    "collapsed": false
   },
   "outputs": [
    {
     "data": {
      "text/plain": [
       "'0'"
      ]
     },
     "execution_count": 25,
     "metadata": {},
     "output_type": "execute_result"
    }
   ],
   "source": [
    "b'0/0'.decode('ascii')[0]"
   ]
  },
  {
   "cell_type": "code",
   "execution_count": 54,
   "metadata": {
    "collapsed": true
   },
   "outputs": [],
   "source": [
    "import time"
   ]
  },
  {
   "cell_type": "code",
   "execution_count": 55,
   "metadata": {
    "collapsed": false
   },
   "outputs": [
    {
     "name": "stdout",
     "output_type": "stream",
     "text": [
      "20.458427667617798\n"
     ]
    }
   ],
   "source": [
    "start = time.time()\n",
    "def is_het(gt=b'0/1'):\n",
    "    if gt.decode('ascii')[0] != '.' and gt.decode('ascii')[0] != gt.decode('ascii')[2]:\n",
    "        return(True)\n",
    "    else:\n",
    "        return(False)\n",
    "\n",
    "v_is_het = np.vectorize(is_het)\n",
    "\n",
    "v_is_het(y['calldata']['GT'][:, 1000])\n",
    "end = time.time()\n",
    "print(end - start)"
   ]
  },
  {
   "cell_type": "code",
   "execution_count": 60,
   "metadata": {
    "collapsed": false
   },
   "outputs": [
    {
     "name": "stdout",
     "output_type": "stream",
     "text": [
      "20.084250688552856\n"
     ]
    }
   ],
   "source": [
    "start = time.time()\n",
    "def is_het(gt=b'0/1'):\n",
    "    if gt.decode('ascii')[0] != '.' and gt.decode('ascii')[0] != gt.decode('ascii')[2]:\n",
    "        return(True)\n",
    "    else:\n",
    "        return(False)\n",
    "\n",
    "v_is_het = np.vectorize(is_het)\n",
    "\n",
    "v_is_het(y['calldata']['GT'][:, 1000])\n",
    "end = time.time()\n",
    "print(end - start)"
   ]
  },
  {
   "cell_type": "code",
   "execution_count": 61,
   "metadata": {
    "collapsed": false
   },
   "outputs": [
    {
     "name": "stdout",
     "output_type": "stream",
     "text": [
      "11.95677375793457\n"
     ]
    }
   ],
   "source": [
    "start = time.time()\n",
    "def is_het(genotype=np.array([0, 0], dtype='int8')):\n",
    "    if genotype[0] != -1 and genotype[0] != genotype[1]:\n",
    "        return(True)\n",
    "    else:\n",
    "        return(False)\n",
    "\n",
    "v_is_het = np.vectorize(is_het)\n",
    "\n",
    "v_is_het(y['calldata']['GT'][:, 1000])\n",
    "end = time.time()\n",
    "print(end - start)"
   ]
  },
  {
   "cell_type": "code",
   "execution_count": 64,
   "metadata": {
    "collapsed": false
   },
   "outputs": [],
   "source": [
    "import allel\n",
    "genotypes = allel.GenotypeArray(y['calldata']['genotype'])"
   ]
  },
  {
   "cell_type": "code",
   "execution_count": 11,
   "metadata": {
    "collapsed": false
   },
   "outputs": [
    {
     "data": {
      "text/plain": [
       "False    5006827\n",
       "True     1044869\n",
       "dtype: int64"
      ]
     },
     "execution_count": 11,
     "metadata": {},
     "output_type": "execute_result"
    }
   ],
   "source": [
    "pass_coding_snps = (\n",
    "    (y['variants']['CDS'][:] == True) &\n",
    "    (y['variants']['VARIANT_TYPE'][:] == b'SNP') &\n",
    "    (y['variants']['MULTIALLELIC'][:] == b'BI') &\n",
    "    (y['variants']['FILTER_PASS'][:] == True)\n",
    ")\n",
    "pd.value_counts(pass_coding_snps)"
   ]
  },
  {
   "cell_type": "code",
   "execution_count": 31,
   "metadata": {
    "collapsed": false
   },
   "outputs": [
    {
     "data": {
      "text/plain": [
       "False    5932373\n",
       "True      119323\n",
       "dtype: int64"
      ]
     },
     "execution_count": 31,
     "metadata": {},
     "output_type": "execute_result"
    }
   ],
   "source": [
    "pass_coding_snps = (\n",
    "    (y['variants']['CDS'][:] == True) &\n",
    "    (y['variants']['VARIANT_TYPE'][:] == b'SNP') &\n",
    "    (y['variants']['MULTIALLELIC'][:] == b'SD') &\n",
    "    (y['variants']['FILTER_PASS'][:] == True)\n",
    ")\n",
    "pd.value_counts(pass_coding_snps)"
   ]
  },
  {
   "cell_type": "code",
   "execution_count": 32,
   "metadata": {
    "collapsed": false
   },
   "outputs": [
    {
     "data": {
      "text/plain": [
       "False    5896612\n",
       "True      155084\n",
       "dtype: int64"
      ]
     },
     "execution_count": 32,
     "metadata": {},
     "output_type": "execute_result"
    }
   ],
   "source": [
    "pass_coding_snps = (\n",
    "    (y['variants']['CDS'][:] == True) &\n",
    "    (y['variants']['VARIANT_TYPE'][:] == b'SNP') &\n",
    "    (y['variants']['MULTIALLELIC'][:] == b'MU') &\n",
    "    (y['variants']['FILTER_PASS'][:] == True)\n",
    ")\n",
    "pd.value_counts(pass_coding_snps)"
   ]
  },
  {
   "cell_type": "code",
   "execution_count": 30,
   "metadata": {
    "collapsed": false
   },
   "outputs": [
    {
     "data": {
      "text/plain": [
       "False    4732420\n",
       "True     1319276\n",
       "dtype: int64"
      ]
     },
     "execution_count": 30,
     "metadata": {},
     "output_type": "execute_result"
    }
   ],
   "source": [
    "pd.value_counts(\n",
    "    (y['variants']['CDS'][:] == True) &\n",
    "    (y['variants']['VARIANT_TYPE'][:] == b'SNP') &\n",
    "#     (y['variants']['MULTIALLELIC'][:] == b'BI') &\n",
    "    (y['variants']['FILTER_PASS'][:] == True)\n",
    ")"
   ]
  },
  {
   "cell_type": "code",
   "execution_count": 17,
   "metadata": {
    "collapsed": false
   },
   "outputs": [
    {
     "ename": "KeyboardInterrupt",
     "evalue": "",
     "output_type": "error",
     "traceback": [
      "\u001b[0;31m---------------------------------------------------------------------------\u001b[0m",
      "\u001b[0;31mTypeError\u001b[0m                                 Traceback (most recent call last)",
      "\u001b[0;32m/nfs/users/nfs_r/rp7/miniconda3/envs/biipy/lib/python3.5/site-packages/h5py/_hl/selections.py\u001b[0m in \u001b[0;36mselect\u001b[0;34m(shape, args, dsid)\u001b[0m\n\u001b[1;32m     84\u001b[0m             \u001b[0;32mtry\u001b[0m\u001b[0;34m:\u001b[0m\u001b[0;34m\u001b[0m\u001b[0m\n\u001b[0;32m---> 85\u001b[0;31m                 \u001b[0mint\u001b[0m\u001b[0;34m(\u001b[0m\u001b[0ma\u001b[0m\u001b[0;34m)\u001b[0m\u001b[0;34m\u001b[0m\u001b[0m\n\u001b[0m\u001b[1;32m     86\u001b[0m             \u001b[0;32mexcept\u001b[0m \u001b[0mException\u001b[0m\u001b[0;34m:\u001b[0m\u001b[0;34m\u001b[0m\u001b[0m\n",
      "\u001b[0;31mTypeError\u001b[0m: only length-1 arrays can be converted to Python scalars",
      "\nDuring handling of the above exception, another exception occurred:\n",
      "\u001b[0;31mKeyboardInterrupt\u001b[0m                         Traceback (most recent call last)",
      "\u001b[0;32m<ipython-input-17-b8e9f9250388>\u001b[0m in \u001b[0;36m<module>\u001b[0;34m()\u001b[0m\n\u001b[1;32m      1\u001b[0m \u001b[0;32mimport\u001b[0m \u001b[0mallel\u001b[0m\u001b[0;34m\u001b[0m\u001b[0m\n\u001b[0;32m----> 2\u001b[0;31m \u001b[0mgenotypes\u001b[0m \u001b[0;34m=\u001b[0m \u001b[0mallel\u001b[0m\u001b[0;34m.\u001b[0m\u001b[0mGenotypeArray\u001b[0m\u001b[0;34m(\u001b[0m\u001b[0my\u001b[0m\u001b[0;34m[\u001b[0m\u001b[0;34m'calldata'\u001b[0m\u001b[0;34m]\u001b[0m\u001b[0;34m[\u001b[0m\u001b[0;34m'genotype'\u001b[0m\u001b[0;34m]\u001b[0m\u001b[0;34m[\u001b[0m\u001b[0mpass_coding_snps\u001b[0m\u001b[0;34m,\u001b[0m \u001b[0;34m:\u001b[0m\u001b[0;34m,\u001b[0m \u001b[0;34m:\u001b[0m\u001b[0;34m]\u001b[0m\u001b[0;34m)\u001b[0m\u001b[0;34m\u001b[0m\u001b[0m\n\u001b[0m",
      "\u001b[0;32mh5py/_objects.pyx\u001b[0m in \u001b[0;36mh5py._objects.with_phil.wrapper (/feedstock_root/build_artefacts/work/h5py-2.6.0/h5py/_objects.c:2840)\u001b[0;34m()\u001b[0m\n",
      "\u001b[0;32mh5py/_objects.pyx\u001b[0m in \u001b[0;36mh5py._objects.with_phil.wrapper (/feedstock_root/build_artefacts/work/h5py-2.6.0/h5py/_objects.c:2798)\u001b[0;34m()\u001b[0m\n",
      "\u001b[0;32m/nfs/users/nfs_r/rp7/miniconda3/envs/biipy/lib/python3.5/site-packages/h5py/_hl/dataset.py\u001b[0m in \u001b[0;36m__getitem__\u001b[0;34m(self, args)\u001b[0m\n\u001b[1;32m    460\u001b[0m \u001b[0;34m\u001b[0m\u001b[0m\n\u001b[1;32m    461\u001b[0m         \u001b[0;31m# Perform the dataspace selection.\u001b[0m\u001b[0;34m\u001b[0m\u001b[0;34m\u001b[0m\u001b[0m\n\u001b[0;32m--> 462\u001b[0;31m         \u001b[0mselection\u001b[0m \u001b[0;34m=\u001b[0m \u001b[0msel\u001b[0m\u001b[0;34m.\u001b[0m\u001b[0mselect\u001b[0m\u001b[0;34m(\u001b[0m\u001b[0mself\u001b[0m\u001b[0;34m.\u001b[0m\u001b[0mshape\u001b[0m\u001b[0;34m,\u001b[0m \u001b[0margs\u001b[0m\u001b[0;34m,\u001b[0m \u001b[0mdsid\u001b[0m\u001b[0;34m=\u001b[0m\u001b[0mself\u001b[0m\u001b[0;34m.\u001b[0m\u001b[0mid\u001b[0m\u001b[0;34m)\u001b[0m\u001b[0;34m\u001b[0m\u001b[0m\n\u001b[0m\u001b[1;32m    463\u001b[0m \u001b[0;34m\u001b[0m\u001b[0m\n\u001b[1;32m    464\u001b[0m         \u001b[0;32mif\u001b[0m \u001b[0mselection\u001b[0m\u001b[0;34m.\u001b[0m\u001b[0mnselect\u001b[0m \u001b[0;34m==\u001b[0m \u001b[0;36m0\u001b[0m\u001b[0;34m:\u001b[0m\u001b[0;34m\u001b[0m\u001b[0m\n",
      "\u001b[0;32m/nfs/users/nfs_r/rp7/miniconda3/envs/biipy/lib/python3.5/site-packages/h5py/_hl/selections.py\u001b[0m in \u001b[0;36mselect\u001b[0;34m(shape, args, dsid)\u001b[0m\n\u001b[1;32m     86\u001b[0m             \u001b[0;32mexcept\u001b[0m \u001b[0mException\u001b[0m\u001b[0;34m:\u001b[0m\u001b[0;34m\u001b[0m\u001b[0m\n\u001b[1;32m     87\u001b[0m                 \u001b[0msel\u001b[0m \u001b[0;34m=\u001b[0m \u001b[0mFancySelection\u001b[0m\u001b[0;34m(\u001b[0m\u001b[0mshape\u001b[0m\u001b[0;34m)\u001b[0m\u001b[0;34m\u001b[0m\u001b[0m\n\u001b[0;32m---> 88\u001b[0;31m                 \u001b[0msel\u001b[0m\u001b[0;34m[\u001b[0m\u001b[0margs\u001b[0m\u001b[0;34m]\u001b[0m\u001b[0;34m\u001b[0m\u001b[0m\n\u001b[0m\u001b[1;32m     89\u001b[0m                 \u001b[0;32mreturn\u001b[0m \u001b[0msel\u001b[0m\u001b[0;34m\u001b[0m\u001b[0m\n\u001b[1;32m     90\u001b[0m \u001b[0;34m\u001b[0m\u001b[0m\n",
      "\u001b[0;32m/nfs/users/nfs_r/rp7/miniconda3/envs/biipy/lib/python3.5/site-packages/h5py/_hl/selections.py\u001b[0m in \u001b[0;36m__getitem__\u001b[0;34m(self, args)\u001b[0m\n\u001b[1;32m    381\u001b[0m         \u001b[0;32mfor\u001b[0m \u001b[0midx\u001b[0m\u001b[0;34m,\u001b[0m \u001b[0mvector\u001b[0m \u001b[0;32min\u001b[0m \u001b[0menumerate\u001b[0m\u001b[0;34m(\u001b[0m\u001b[0margvector\u001b[0m\u001b[0;34m)\u001b[0m\u001b[0;34m:\u001b[0m\u001b[0;34m\u001b[0m\u001b[0m\n\u001b[1;32m    382\u001b[0m             \u001b[0mstart\u001b[0m\u001b[0;34m,\u001b[0m \u001b[0mcount\u001b[0m\u001b[0;34m,\u001b[0m \u001b[0mstep\u001b[0m\u001b[0;34m,\u001b[0m \u001b[0mscalar\u001b[0m \u001b[0;34m=\u001b[0m \u001b[0m_handle_simple\u001b[0m\u001b[0;34m(\u001b[0m\u001b[0mself\u001b[0m\u001b[0;34m.\u001b[0m\u001b[0mshape\u001b[0m\u001b[0;34m,\u001b[0m \u001b[0mvector\u001b[0m\u001b[0;34m)\u001b[0m\u001b[0;34m\u001b[0m\u001b[0m\n\u001b[0;32m--> 383\u001b[0;31m             \u001b[0mself\u001b[0m\u001b[0;34m.\u001b[0m\u001b[0m_id\u001b[0m\u001b[0;34m.\u001b[0m\u001b[0mselect_hyperslab\u001b[0m\u001b[0;34m(\u001b[0m\u001b[0mstart\u001b[0m\u001b[0;34m,\u001b[0m \u001b[0mcount\u001b[0m\u001b[0;34m,\u001b[0m \u001b[0mstep\u001b[0m\u001b[0;34m,\u001b[0m \u001b[0mop\u001b[0m\u001b[0;34m=\u001b[0m\u001b[0mh5s\u001b[0m\u001b[0;34m.\u001b[0m\u001b[0mSELECT_OR\u001b[0m\u001b[0;34m)\u001b[0m\u001b[0;34m\u001b[0m\u001b[0m\n\u001b[0m\u001b[1;32m    384\u001b[0m \u001b[0;34m\u001b[0m\u001b[0m\n\u001b[1;32m    385\u001b[0m         \u001b[0;31m# Final shape excludes scalars, except where\u001b[0m\u001b[0;34m\u001b[0m\u001b[0;34m\u001b[0m\u001b[0m\n",
      "\u001b[0;31mKeyboardInterrupt\u001b[0m: "
     ]
    }
   ],
   "source": [
    "import allel\n",
    "genotypes = allel.GenotypeArray(y['calldata']['genotype'][pass_coding_snps, :, :])"
   ]
  },
  {
   "cell_type": "code",
   "execution_count": 18,
   "metadata": {
    "collapsed": false
   },
   "outputs": [],
   "source": [
    "import allel\n",
    "genotypes = allel.GenotypeChunkedArray(y['calldata']['genotype'])\n",
    "genotypes_subset = genotypes.subset(pass_coding_snps)\n"
   ]
  },
  {
   "cell_type": "code",
   "execution_count": 19,
   "metadata": {
    "collapsed": false
   },
   "outputs": [
    {
     "data": {
      "text/html": [
       "<div class=\"allel allel-DisplayAs2D\"><span>&lt;GenotypeChunkedArray shape=(1044869, 7182, 2) dtype=int8 chunks=(64, 7182, 2)\n",
       "   nbytes=14.0G cbytes=870.8M cratio=16.4\n",
       "   compression=blosc compression_opts={'clevel': 5, 'shuffle': 1, 'cname': 'lz4'}\n",
       "   values=zarr.core.Array&gt;</span><table><tr><th></th><th style=\"text-align: center\">0</th><th style=\"text-align: center\">1</th><th style=\"text-align: center\">2</th><th style=\"text-align: center\">3</th><th style=\"text-align: center\">4</th><th style=\"text-align: center\">...</th><th style=\"text-align: center\">7177</th><th style=\"text-align: center\">7178</th><th style=\"text-align: center\">7179</th><th style=\"text-align: center\">7180</th><th style=\"text-align: center\">7181</th></tr><tr><th style=\"text-align: center\">0</th><td style=\"text-align: center\">0/0</td><td style=\"text-align: center\">0/0</td><td style=\"text-align: center\">0/0</td><td style=\"text-align: center\">0/0</td><td style=\"text-align: center\">0/0</td><td style=\"text-align: center\">...</td><td style=\"text-align: center\">0/0</td><td style=\"text-align: center\">0/0</td><td style=\"text-align: center\">0/0</td><td style=\"text-align: center\">0/0</td><td style=\"text-align: center\">0/0</td></tr><tr><th style=\"text-align: center\">1</th><td style=\"text-align: center\">0/0</td><td style=\"text-align: center\">0/0</td><td style=\"text-align: center\">0/0</td><td style=\"text-align: center\">0/0</td><td style=\"text-align: center\">0/0</td><td style=\"text-align: center\">...</td><td style=\"text-align: center\">0/0</td><td style=\"text-align: center\">0/0</td><td style=\"text-align: center\">0/0</td><td style=\"text-align: center\">0/0</td><td style=\"text-align: center\">0/0</td></tr><tr><th style=\"text-align: center\">2</th><td style=\"text-align: center\">0/0</td><td style=\"text-align: center\">0/0</td><td style=\"text-align: center\">0/0</td><td style=\"text-align: center\">0/0</td><td style=\"text-align: center\">0/0</td><td style=\"text-align: center\">...</td><td style=\"text-align: center\">0/0</td><td style=\"text-align: center\">0/0</td><td style=\"text-align: center\">0/0</td><td style=\"text-align: center\">0/0</td><td style=\"text-align: center\">0/0</td></tr><tr><th style=\"text-align: center\">...</th><td style=\"text-align: center\" colspan=\"12\">...</td></tr><tr><th style=\"text-align: center\">1044866</th><td style=\"text-align: center\">./.</td><td style=\"text-align: center\">./.</td><td style=\"text-align: center\">./.</td><td style=\"text-align: center\">./.</td><td style=\"text-align: center\">0/0</td><td style=\"text-align: center\">...</td><td style=\"text-align: center\">0/0</td><td style=\"text-align: center\">0/0</td><td style=\"text-align: center\">./.</td><td style=\"text-align: center\">0/0</td><td style=\"text-align: center\">./.</td></tr><tr><th style=\"text-align: center\">1044867</th><td style=\"text-align: center\">0/0</td><td style=\"text-align: center\">0/0</td><td style=\"text-align: center\">0/0</td><td style=\"text-align: center\">0/0</td><td style=\"text-align: center\">0/0</td><td style=\"text-align: center\">...</td><td style=\"text-align: center\">0/0</td><td style=\"text-align: center\">0/0</td><td style=\"text-align: center\">0/0</td><td style=\"text-align: center\">0/0</td><td style=\"text-align: center\">0/0</td></tr><tr><th style=\"text-align: center\">1044868</th><td style=\"text-align: center\">0/0</td><td style=\"text-align: center\">0/0</td><td style=\"text-align: center\">0/0</td><td style=\"text-align: center\">0/0</td><td style=\"text-align: center\">0/0</td><td style=\"text-align: center\">...</td><td style=\"text-align: center\">0/0</td><td style=\"text-align: center\">0/0</td><td style=\"text-align: center\">0/0</td><td style=\"text-align: center\">0/0</td><td style=\"text-align: center\">0/0</td></tr></table></div>"
      ],
      "text/plain": [
       "<GenotypeChunkedArray shape=(1044869, 7182, 2) dtype=int8 chunks=(64, 7182, 2)\n",
       "   nbytes=14.0G cbytes=870.8M cratio=16.4\n",
       "   compression=blosc compression_opts={'clevel': 5, 'shuffle': 1, 'cname': 'lz4'}\n",
       "   values=zarr.core.Array>"
      ]
     },
     "execution_count": 19,
     "metadata": {},
     "output_type": "execute_result"
    }
   ],
   "source": [
    "genotypes_subset"
   ]
  },
  {
   "cell_type": "code",
   "execution_count": 20,
   "metadata": {
    "collapsed": false
   },
   "outputs": [
    {
     "name": "stdout",
     "output_type": "stream",
     "text": [
      "CPU times: user 6min 24s, sys: 6.91 s, total: 6min 31s\n",
      "Wall time: 5min 58s\n"
     ]
    }
   ],
   "source": [
    "%%time\n",
    "n_variants = np.count_nonzero(pass_coding_snps)\n",
    "pc_missing = genotypes_subset.count_missing(axis=0)[:] * 100 / n_variants\n",
    "pc_het = genotypes_subset.count_het(axis=0)[:] * 100 / n_variants\n"
   ]
  },
  {
   "cell_type": "code",
   "execution_count": 27,
   "metadata": {
    "collapsed": true
   },
   "outputs": [],
   "source": [
    "import matplotlib.pyplot as plt\n",
    "\n",
    "def plot_genotype_frequency(pc, title):\n",
    "    fig, ax = plt.subplots(figsize=(12, 4))\n",
    "    sns.despine(ax=ax, offset=10)\n",
    "    left = np.arange(len(pc))\n",
    "#     palette = sns.color_palette()\n",
    "#     pop2color = {'BFM': palette[0], 'AOM': palette[1]}\n",
    "#     colors = [pop2color[p] for p in samples_subset.population]\n",
    "#     ax.bar(left, pc, color=colors)\n",
    "    ax.bar(left, pc)\n",
    "    ax.set_xlim(0, len(pc))\n",
    "    ax.set_xlabel('Sample index')\n",
    "    ax.set_ylabel('Percent calls')\n",
    "    ax.set_title(title)\n",
    "#     handles = [mpl.patches.Patch(color=palette[0]),\n",
    "#                mpl.patches.Patch(color=palette[1])]\n",
    "#     ax.legend(handles=handles, labels=['BFM', 'AOM'], title='Population',\n",
    "#               bbox_to_anchor=(1, 1), loc='upper left')\n"
   ]
  },
  {
   "cell_type": "code",
   "execution_count": 28,
   "metadata": {
    "collapsed": false
   },
   "outputs": [
    {
     "name": "stderr",
     "output_type": "stream",
     "text": [
      "/nfs/users/nfs_r/rp7/miniconda3/envs/biipy/lib/python3.5/site-packages/matplotlib/font_manager.py:1288: UserWarning: findfont: Font family ['arial'] not found. Falling back to Bitstream Vera Sans\n",
      "  (prop.get_family(), self.defaultFamily[fontext]))\n",
      "/nfs/users/nfs_r/rp7/miniconda3/envs/biipy/lib/python3.5/site-packages/matplotlib/font_manager.py:273: UserWarning: Matplotlib is building the font cache using fc-list. This may take a moment.\n",
      "  warnings.warn('Matplotlib is building the font cache using fc-list. This may take a moment.')\n",
      "/nfs/users/nfs_r/rp7/miniconda3/envs/biipy/lib/python3.5/site-packages/matplotlib/font_manager.py:273: UserWarning: Matplotlib is building the font cache using fc-list. This may take a moment.\n",
      "  warnings.warn('Matplotlib is building the font cache using fc-list. This may take a moment.')\n",
      "/nfs/users/nfs_r/rp7/miniconda3/envs/biipy/lib/python3.5/site-packages/matplotlib/font_manager.py:1288: UserWarning: findfont: Font family ['arial'] not found. Falling back to Bitstream Vera Sans\n",
      "  (prop.get_family(), self.defaultFamily[fontext]))\n"
     ]
    },
    {
     "data": {
      "image/png": "[encoded data removed]",
      "text/plain": [
       "<matplotlib.figure.Figure at 0x2b695c997e48>"
      ]
     },
     "metadata": {},
     "output_type": "display_data"
    }
   ],
   "source": [
    "plot_genotype_frequency(pc_missing, 'Missing')\n"
   ]
  },
  {
   "cell_type": "code",
   "execution_count": 29,
   "metadata": {
    "collapsed": false
   },
   "outputs": [
    {
     "data": {
      "image/png": "[encoded data removed]",
      "text/plain": [
       "<matplotlib.figure.Figure at 0x2b695cff9048>"
      ]
     },
     "metadata": {},
     "output_type": "display_data"
    }
   ],
   "source": [
    "plot_genotype_frequency(pc_het, 'Heterozygous')\n"
   ]
  },
  {
   "cell_type": "code",
   "execution_count": null,
   "metadata": {
    "collapsed": true
   },
   "outputs": [],
   "source": []
  },
  {
   "cell_type": "code",
   "execution_count": null,
   "metadata": {
    "collapsed": true
   },
   "outputs": [],
   "source": []
  },
  {
   "cell_type": "code",
   "execution_count": 15,
   "metadata": {
    "collapsed": false
   },
   "outputs": [
    {
     "data": {
      "text/plain": [
       "(6051696, 7182, 2)"
      ]
     },
     "execution_count": 15,
     "metadata": {},
     "output_type": "execute_result"
    }
   ],
   "source": [
    "y['calldata']['genotype'].shape"
   ]
  },
  {
   "cell_type": "code",
   "execution_count": 16,
   "metadata": {
    "collapsed": false
   },
   "outputs": [
    {
     "data": {
      "text/plain": [
       "(6051696,)"
      ]
     },
     "execution_count": 16,
     "metadata": {},
     "output_type": "execute_result"
    }
   ],
   "source": [
    "pass_coding_snps.shape"
   ]
  },
  {
   "cell_type": "code",
   "execution_count": 61,
   "metadata": {
    "collapsed": false
   },
   "outputs": [
    {
     "name": "stdout",
     "output_type": "stream",
     "text": [
      "11.95677375793457\n"
     ]
    }
   ],
   "source": [
    "start = time.time()\n",
    "def is_het(genotype=np.array([0, 0], dtype='int8')):\n",
    "    if genotype[0] != -1 and genotype[0] != genotype[1]:\n",
    "        return(True)\n",
    "    else:\n",
    "        return(False)\n",
    "\n",
    "v_is_het = np.vectorize(is_het)\n",
    "\n",
    "v_is_het(genotypes.take(1000, 1))\n",
    "end = time.time()\n",
    "print(end - start)"
   ]
  },
  {
   "cell_type": "code",
   "execution_count": null,
   "metadata": {
    "collapsed": false
   },
   "outputs": [],
   "source": [
    "start = time.time()\n",
    "def is_het(genotype=np.array([0, 0], dtype='int8')):\n",
    "    if genotype[0] != -1 and genotype[0] != genotype[1]:\n",
    "        return(True)\n",
    "    else:\n",
    "        return(False)\n",
    "\n",
    "v_is_het = np.vectorize(is_het)\n",
    "\n",
    "v_is_het(y['calldata']['GT'][:, 1000])\n",
    "end = time.time()\n",
    "print(end - start)"
   ]
  },
  {
   "cell_type": "code",
   "execution_count": null,
   "metadata": {
    "collapsed": true
   },
   "outputs": [],
   "source": []
  },
  {
   "cell_type": "code",
   "execution_count": 28,
   "metadata": {
    "collapsed": false
   },
   "outputs": [],
   "source": [
    "def is_het(gentype=np.array([0, 0], dtype='int8')):\n",
    "    if gt.decode('ascii')[0] != '.' and gt.decode('ascii')[0] != gt.decode('ascii')[2]:\n",
    "        return(True)\n",
    "    else:\n",
    "        return(False)\n",
    "\n",
    "v_is_het = np.vectorize(is_het)"
   ]
  },
  {
   "cell_type": "code",
   "execution_count": 36,
   "metadata": {
    "collapsed": true
   },
   "outputs": [],
   "source": [
    "temp = y['calldata']['GT'][:, 1000]\n",
    "temp2 = v_is_het(temp)"
   ]
  },
  {
   "cell_type": "code",
   "execution_count": 38,
   "metadata": {
    "collapsed": false
   },
   "outputs": [
    {
     "data": {
      "text/plain": [
       "False    5976488\n",
       "True       75208\n",
       "dtype: int64"
      ]
     },
     "execution_count": 38,
     "metadata": {},
     "output_type": "execute_result"
    }
   ],
   "source": [
    "pd.value_counts(temp2)"
   ]
  },
  {
   "cell_type": "code",
   "execution_count": null,
   "metadata": {
    "collapsed": true
   },
   "outputs": [],
   "source": [
    "pd.value_counts(v_is_het(pd.value_counts(y['calldata']['GT'][:, sample_index])))"
   ]
  },
  {
   "cell_type": "code",
   "execution_count": null,
   "metadata": {
    "collapsed": true
   },
   "outputs": [],
   "source": [
    "temp2 = v_is_het(temp[])"
   ]
  },
  {
   "cell_type": "code",
   "execution_count": 39,
   "metadata": {
    "collapsed": true
   },
   "outputs": [],
   "source": [
    "def calc_proportion_het(sample=b'PD0658-C'):\n",
    "    sample_index = np.where(y['samples'][:] == sample)[0][0]\n",
    "    gt = y['calldata']['GT'][:, sample_index]\n",
    "    num_het = np.count_nonzero(v_is_het())\n",
    "    print(sample, sample_index)\n",
    "    print(pd.value_counts(v_is_het(y['calldata']['GT'][:, sample_index])))"
   ]
  },
  {
   "cell_type": "code",
   "execution_count": 40,
   "metadata": {
    "collapsed": false
   },
   "outputs": [
    {
     "name": "stdout",
     "output_type": "stream",
     "text": [
      "b'PD0658-C' 1000\n",
      "False    5976488\n",
      "True       75208\n",
      "dtype: int64\n"
     ]
    }
   ],
   "source": [
    "calc_proportion_het()"
   ]
  },
  {
   "cell_type": "code",
   "execution_count": null,
   "metadata": {
    "collapsed": true
   },
   "outputs": [],
   "source": []
  },
  {
   "cell_type": "code",
   "execution_count": null,
   "metadata": {
    "collapsed": true
   },
   "outputs": [],
   "source": []
  },
  {
   "cell_type": "code",
   "execution_count": 66,
   "metadata": {
    "collapsed": true
   },
   "outputs": [],
   "source": [
    "y = h5py.File('%s/hdf5/Pf_60_npy_no_PID_PGT.h5' % output_dir, 'r')\n"
   ]
  },
  {
   "cell_type": "code",
   "execution_count": 67,
   "metadata": {
    "collapsed": false
   },
   "outputs": [
    {
     "data": {
      "text/html": [
       "<table class='petl'>\n",
       "<thead>\n",
       "<tr>\n",
       "<th>SNPEFF_EFFECT</th>\n",
       "<th>number</th>\n",
       "</tr>\n",
       "</thead>\n",
       "<tbody>\n",
       "<tr>\n",
       "<td>b'INTERGENIC'</td>\n",
       "<td>2795496</td>\n",
       "</tr>\n",
       "<tr>\n",
       "<td>b'NON_SYNONYMOUS_CODING'</td>\n",
       "<td>1430363</td>\n",
       "</tr>\n",
       "<tr>\n",
       "<td>b'SYNONYMOUS_CODING'</td>\n",
       "<td>641017</td>\n",
       "</tr>\n",
       "<tr>\n",
       "<td>b'INTRON'</td>\n",
       "<td>449418</td>\n",
       "</tr>\n",
       "<tr>\n",
       "<td>b'FRAME_SHIFT'</td>\n",
       "<td>444677</td>\n",
       "</tr>\n",
       "<tr>\n",
       "<td>b'INTRAGENIC'</td>\n",
       "<td>89670</td>\n",
       "</tr>\n",
       "<tr>\n",
       "<td>b''</td>\n",
       "<td>70597</td>\n",
       "</tr>\n",
       "<tr>\n",
       "<td>b'CODON_INSERTION'</td>\n",
       "<td>47470</td>\n",
       "</tr>\n",
       "<tr>\n",
       "<td>b'CODON_DELETION'</td>\n",
       "<td>27491</td>\n",
       "</tr>\n",
       "<tr>\n",
       "<td>b'CODON_CHANGE_PLUS_CODON_DELETION'</td>\n",
       "<td>17675</td>\n",
       "</tr>\n",
       "<tr>\n",
       "<td>b'STOP_GAINED'</td>\n",
       "<td>17488</td>\n",
       "</tr>\n",
       "<tr>\n",
       "<td>b'CODON_CHANGE_PLUS_CODON_INSERTION'</td>\n",
       "<td>15638</td>\n",
       "</tr>\n",
       "<tr>\n",
       "<td>b'SPLICE_SITE_DONOR'</td>\n",
       "<td>1034</td>\n",
       "</tr>\n",
       "<tr>\n",
       "<td>b'SPLICE_SITE_ACCEPTOR'</td>\n",
       "<td>1017</td>\n",
       "</tr>\n",
       "<tr>\n",
       "<td>b'STOP_LOST'</td>\n",
       "<td>943</td>\n",
       "</tr>\n",
       "<tr>\n",
       "<td>b'SYNONYMOUS_STOP'</td>\n",
       "<td>877</td>\n",
       "</tr>\n",
       "<tr>\n",
       "<td>b'START_LOST'</td>\n",
       "<td>653</td>\n",
       "</tr>\n",
       "<tr>\n",
       "<td>b'EXON_DELETED'</td>\n",
       "<td>93</td>\n",
       "</tr>\n",
       "<tr>\n",
       "<td>b'NON_SYNONYMOUS_START'</td>\n",
       "<td>79</td>\n",
       "</tr>\n",
       "</tbody>\n",
       "</table>\n"
      ]
     },
     "metadata": {},
     "output_type": "display_data"
    }
   ],
   "source": [
    "(etl.wrap(\n",
    "    np.unique(y['variants']['SNPEFF_EFFECT'], return_counts=True)\n",
    ")\n",
    "    .transpose()\n",
    "    .pushheader('SNPEFF_EFFECT', 'number')\n",
    "    .sort('number', reverse=True)\n",
    "    .displayall()\n",
    ")"
   ]
  },
  {
   "cell_type": "code",
   "execution_count": 68,
   "metadata": {
    "collapsed": false
   },
   "outputs": [
    {
     "data": {
      "text/html": [
       "<table class='petl'>\n",
       "<thead>\n",
       "<tr>\n",
       "<th>CDS</th>\n",
       "<th>number</th>\n",
       "</tr>\n",
       "</thead>\n",
       "<tbody>\n",
       "<tr>\n",
       "<td>False</td>\n",
       "<td>3383388</td>\n",
       "</tr>\n",
       "<tr>\n",
       "<td>True</td>\n",
       "<td>2668308</td>\n",
       "</tr>\n",
       "</tbody>\n",
       "</table>\n"
      ]
     },
     "metadata": {},
     "output_type": "display_data"
    }
   ],
   "source": [
    "(etl.wrap(\n",
    "    np.unique(y['variants']['CDS'], return_counts=True)\n",
    ")\n",
    "    .transpose()\n",
    "    .pushheader('CDS', 'number')\n",
    "    .sort('number', reverse=True)\n",
    "    .displayall()\n",
    ")"
   ]
  },
  {
   "cell_type": "code",
   "execution_count": 88,
   "metadata": {
    "collapsed": true
   },
   "outputs": [],
   "source": [
    "CDS = y['variants']['CDS'][:]\n",
    "SNPEFF_EFFECT = y['variants']['SNPEFF_EFFECT'][:]\n",
    "SNP = (y['variants']['VARIANT_TYPE'][:] == b'SNP')\n",
    "INDEL = (y['variants']['VARIANT_TYPE'][:] == b'INDEL')\n"
   ]
  },
  {
   "cell_type": "code",
   "execution_count": null,
   "metadata": {
    "collapsed": false
   },
   "outputs": [],
   "source": [
    "np.unique(CDS[SNP], return_counts=True)"
   ]
  },
  {
   "cell_type": "code",
   "execution_count": null,
   "metadata": {
    "collapsed": true
   },
   "outputs": [],
   "source": [
    "2+2"
   ]
  },
  {
   "cell_type": "code",
   "execution_count": 85,
   "metadata": {
    "collapsed": false
   },
   "outputs": [
    {
     "data": {
      "text/plain": [
       "<HDF5 dataset \"VARIANT_TYPE\": shape (6051696,), type \"|S5\">"
      ]
     },
     "execution_count": 85,
     "metadata": {},
     "output_type": "execute_result"
    }
   ],
   "source": [
    "y['variants']['VARIANT_TYPE']"
   ]
  },
  {
   "cell_type": "code",
   "execution_count": 89,
   "metadata": {
    "collapsed": false
   },
   "outputs": [
    {
     "data": {
      "text/plain": [
       "False    3846585\n",
       "True     2205111\n",
       "dtype: int64"
      ]
     },
     "execution_count": 89,
     "metadata": {},
     "output_type": "execute_result"
    }
   ],
   "source": [
    "pd.value_counts(INDEL)"
   ]
  },
  {
   "cell_type": "code",
   "execution_count": 90,
   "metadata": {
    "collapsed": false
   },
   "outputs": [
    {
     "ename": "KeyboardInterrupt",
     "evalue": "",
     "output_type": "error",
     "traceback": [
      "\u001b[0;31m---------------------------------------------------------------------------\u001b[0m",
      "\u001b[0;31mKeyboardInterrupt\u001b[0m                         Traceback (most recent call last)",
      "\u001b[0;32m<ipython-input-90-b6884fe59d50>\u001b[0m in \u001b[0;36m<module>\u001b[0;34m()\u001b[0m\n\u001b[0;32m----> 1\u001b[0;31m \u001b[0mpd\u001b[0m\u001b[0;34m.\u001b[0m\u001b[0mcrosstab\u001b[0m\u001b[0;34m(\u001b[0m\u001b[0mSNPEFF_EFFECT\u001b[0m\u001b[0;34m[\u001b[0m\u001b[0mSNP\u001b[0m\u001b[0;34m]\u001b[0m\u001b[0;34m,\u001b[0m \u001b[0mCDS\u001b[0m\u001b[0;34m[\u001b[0m\u001b[0mSNP\u001b[0m\u001b[0;34m]\u001b[0m\u001b[0;34m)\u001b[0m\u001b[0;34m\u001b[0m\u001b[0m\n\u001b[0m",
      "\u001b[0;32mh5py/_objects.pyx\u001b[0m in \u001b[0;36mh5py._objects.with_phil.wrapper (/feedstock_root/build_artefacts/work/h5py-2.6.0/h5py/_objects.c:2840)\u001b[0;34m()\u001b[0m\n",
      "\u001b[0;32mh5py/_objects.pyx\u001b[0m in \u001b[0;36mh5py._objects.with_phil.wrapper (/feedstock_root/build_artefacts/work/h5py-2.6.0/h5py/_objects.c:2798)\u001b[0;34m()\u001b[0m\n",
      "\u001b[0;32m/nfs/users/nfs_r/rp7/miniconda3/envs/biipy/lib/python3.5/site-packages/h5py/_hl/dataset.py\u001b[0m in \u001b[0;36m__getitem__\u001b[0;34m(self, args)\u001b[0m\n\u001b[1;32m    480\u001b[0m         \u001b[0mmspace\u001b[0m \u001b[0;34m=\u001b[0m \u001b[0mh5s\u001b[0m\u001b[0;34m.\u001b[0m\u001b[0mcreate_simple\u001b[0m\u001b[0;34m(\u001b[0m\u001b[0mmshape\u001b[0m\u001b[0;34m)\u001b[0m\u001b[0;34m\u001b[0m\u001b[0m\n\u001b[1;32m    481\u001b[0m         \u001b[0mfspace\u001b[0m \u001b[0;34m=\u001b[0m \u001b[0mselection\u001b[0m\u001b[0;34m.\u001b[0m\u001b[0mid\u001b[0m\u001b[0;34m\u001b[0m\u001b[0m\n\u001b[0;32m--> 482\u001b[0;31m         \u001b[0mself\u001b[0m\u001b[0;34m.\u001b[0m\u001b[0mid\u001b[0m\u001b[0;34m.\u001b[0m\u001b[0mread\u001b[0m\u001b[0;34m(\u001b[0m\u001b[0mmspace\u001b[0m\u001b[0;34m,\u001b[0m \u001b[0mfspace\u001b[0m\u001b[0;34m,\u001b[0m \u001b[0marr\u001b[0m\u001b[0;34m,\u001b[0m \u001b[0mmtype\u001b[0m\u001b[0;34m,\u001b[0m \u001b[0mdxpl\u001b[0m\u001b[0;34m=\u001b[0m\u001b[0mself\u001b[0m\u001b[0;34m.\u001b[0m\u001b[0m_dxpl\u001b[0m\u001b[0;34m)\u001b[0m\u001b[0;34m\u001b[0m\u001b[0m\n\u001b[0m\u001b[1;32m    483\u001b[0m \u001b[0;34m\u001b[0m\u001b[0m\n\u001b[1;32m    484\u001b[0m         \u001b[0;31m# Patch up the output for NumPy\u001b[0m\u001b[0;34m\u001b[0m\u001b[0;34m\u001b[0m\u001b[0m\n",
      "\u001b[0;31mKeyboardInterrupt\u001b[0m: "
     ]
    }
   ],
   "source": [
    "pd.crosstab(SNPEFF_EFFECT[SNP], CDS[SNP])"
   ]
  },
  {
   "cell_type": "code",
   "execution_count": null,
   "metadata": {
    "collapsed": true
   },
   "outputs": [],
   "source": [
    "2+2"
   ]
  },
  {
   "cell_type": "code",
   "execution_count": 70,
   "metadata": {
    "collapsed": true
   },
   "outputs": [],
   "source": [
    "df = pd.DataFrame({'CDS': CDS, 'SNPEFF_EFFECT':SNPEFF_EFFECT})"
   ]
  },
  {
   "cell_type": "code",
   "execution_count": 75,
   "metadata": {
    "collapsed": false
   },
   "outputs": [],
   "source": [
    "writer = pd.ExcelWriter(\"/nfs/users/nfs_r/rp7/SNPEFF_for_Rob.xlsx\")\n",
    "pd.crosstab(SNPEFF_EFFECT, CDS).to_excel(writer)\n",
    "writer.save()\n"
   ]
  },
  {
   "cell_type": "code",
   "execution_count": null,
   "metadata": {
    "collapsed": true
   },
   "outputs": [],
   "source": []
  },
  {
   "cell_type": "code",
   "execution_count": 73,
   "metadata": {
    "collapsed": false
   },
   "outputs": [
    {
     "data": {
      "text/html": [
       "<div>\n",
       "<table border=\"1\" class=\"dataframe\">\n",
       "  <thead>\n",
       "    <tr style=\"text-align: right;\">\n",
       "      <th>col_0</th>\n",
       "      <th>b'Pf3D7_01_v3'</th>\n",
       "      <th>b'Pf3D7_02_v3'</th>\n",
       "      <th>b'Pf3D7_03_v3'</th>\n",
       "      <th>b'Pf3D7_04_v3'</th>\n",
       "      <th>b'Pf3D7_05_v3'</th>\n",
       "      <th>b'Pf3D7_06_v3'</th>\n",
       "      <th>b'Pf3D7_07_v3'</th>\n",
       "      <th>b'Pf3D7_08_v3'</th>\n",
       "      <th>b'Pf3D7_09_v3'</th>\n",
       "      <th>b'Pf3D7_10_v3'</th>\n",
       "      <th>b'Pf3D7_11_v3'</th>\n",
       "      <th>b'Pf3D7_12_v3'</th>\n",
       "      <th>b'Pf3D7_13_v3'</th>\n",
       "      <th>b'Pf3D7_14_v3'</th>\n",
       "      <th>b'Pf3D7_API_v3'</th>\n",
       "      <th>b'Pf_M76611'</th>\n",
       "    </tr>\n",
       "    <tr>\n",
       "      <th>row_0</th>\n",
       "      <th></th>\n",
       "      <th></th>\n",
       "      <th></th>\n",
       "      <th></th>\n",
       "      <th></th>\n",
       "      <th></th>\n",
       "      <th></th>\n",
       "      <th></th>\n",
       "      <th></th>\n",
       "      <th></th>\n",
       "      <th></th>\n",
       "      <th></th>\n",
       "      <th></th>\n",
       "      <th></th>\n",
       "      <th></th>\n",
       "      <th></th>\n",
       "    </tr>\n",
       "  </thead>\n",
       "  <tbody>\n",
       "    <tr>\n",
       "      <th>b''</th>\n",
       "      <td>5596</td>\n",
       "      <td>4486</td>\n",
       "      <td>4532</td>\n",
       "      <td>4303</td>\n",
       "      <td>2779</td>\n",
       "      <td>4566</td>\n",
       "      <td>7188</td>\n",
       "      <td>9494</td>\n",
       "      <td>4928</td>\n",
       "      <td>4304</td>\n",
       "      <td>4485</td>\n",
       "      <td>5923</td>\n",
       "      <td>5576</td>\n",
       "      <td>1779</td>\n",
       "      <td>236</td>\n",
       "      <td>422</td>\n",
       "    </tr>\n",
       "    <tr>\n",
       "      <th>b'CODON_CHANGE_PLUS_CODON_DELETION'</th>\n",
       "      <td>538</td>\n",
       "      <td>836</td>\n",
       "      <td>844</td>\n",
       "      <td>1321</td>\n",
       "      <td>852</td>\n",
       "      <td>1183</td>\n",
       "      <td>1483</td>\n",
       "      <td>1282</td>\n",
       "      <td>888</td>\n",
       "      <td>1473</td>\n",
       "      <td>1430</td>\n",
       "      <td>1685</td>\n",
       "      <td>1846</td>\n",
       "      <td>1980</td>\n",
       "      <td>34</td>\n",
       "      <td>0</td>\n",
       "    </tr>\n",
       "    <tr>\n",
       "      <th>b'CODON_CHANGE_PLUS_CODON_INSERTION'</th>\n",
       "      <td>509</td>\n",
       "      <td>648</td>\n",
       "      <td>733</td>\n",
       "      <td>1223</td>\n",
       "      <td>805</td>\n",
       "      <td>986</td>\n",
       "      <td>1306</td>\n",
       "      <td>1143</td>\n",
       "      <td>900</td>\n",
       "      <td>1120</td>\n",
       "      <td>1272</td>\n",
       "      <td>1650</td>\n",
       "      <td>1653</td>\n",
       "      <td>1668</td>\n",
       "      <td>21</td>\n",
       "      <td>1</td>\n",
       "    </tr>\n",
       "    <tr>\n",
       "      <th>b'CODON_DELETION'</th>\n",
       "      <td>877</td>\n",
       "      <td>1094</td>\n",
       "      <td>1357</td>\n",
       "      <td>1669</td>\n",
       "      <td>1853</td>\n",
       "      <td>1567</td>\n",
       "      <td>1948</td>\n",
       "      <td>1822</td>\n",
       "      <td>1415</td>\n",
       "      <td>2762</td>\n",
       "      <td>2435</td>\n",
       "      <td>2559</td>\n",
       "      <td>2951</td>\n",
       "      <td>3139</td>\n",
       "      <td>41</td>\n",
       "      <td>2</td>\n",
       "    </tr>\n",
       "    <tr>\n",
       "      <th>b'CODON_INSERTION'</th>\n",
       "      <td>1438</td>\n",
       "      <td>1863</td>\n",
       "      <td>2329</td>\n",
       "      <td>3186</td>\n",
       "      <td>2808</td>\n",
       "      <td>3105</td>\n",
       "      <td>3562</td>\n",
       "      <td>3342</td>\n",
       "      <td>2661</td>\n",
       "      <td>3463</td>\n",
       "      <td>3961</td>\n",
       "      <td>4658</td>\n",
       "      <td>5180</td>\n",
       "      <td>5838</td>\n",
       "      <td>73</td>\n",
       "      <td>3</td>\n",
       "    </tr>\n",
       "    <tr>\n",
       "      <th>b'EXON_DELETED'</th>\n",
       "      <td>1</td>\n",
       "      <td>0</td>\n",
       "      <td>4</td>\n",
       "      <td>9</td>\n",
       "      <td>3</td>\n",
       "      <td>5</td>\n",
       "      <td>6</td>\n",
       "      <td>1</td>\n",
       "      <td>7</td>\n",
       "      <td>16</td>\n",
       "      <td>10</td>\n",
       "      <td>12</td>\n",
       "      <td>9</td>\n",
       "      <td>10</td>\n",
       "      <td>0</td>\n",
       "      <td>0</td>\n",
       "    </tr>\n",
       "    <tr>\n",
       "      <th>b'FRAME_SHIFT'</th>\n",
       "      <td>19511</td>\n",
       "      <td>19580</td>\n",
       "      <td>18310</td>\n",
       "      <td>53868</td>\n",
       "      <td>12085</td>\n",
       "      <td>33194</td>\n",
       "      <td>51496</td>\n",
       "      <td>44289</td>\n",
       "      <td>23786</td>\n",
       "      <td>29154</td>\n",
       "      <td>28897</td>\n",
       "      <td>53743</td>\n",
       "      <td>32969</td>\n",
       "      <td>23176</td>\n",
       "      <td>560</td>\n",
       "      <td>59</td>\n",
       "    </tr>\n",
       "    <tr>\n",
       "      <th>b'INTERGENIC'</th>\n",
       "      <td>112985</td>\n",
       "      <td>133602</td>\n",
       "      <td>147961</td>\n",
       "      <td>155345</td>\n",
       "      <td>126775</td>\n",
       "      <td>164228</td>\n",
       "      <td>170845</td>\n",
       "      <td>188646</td>\n",
       "      <td>216718</td>\n",
       "      <td>224002</td>\n",
       "      <td>235037</td>\n",
       "      <td>259684</td>\n",
       "      <td>316637</td>\n",
       "      <td>342596</td>\n",
       "      <td>353</td>\n",
       "      <td>82</td>\n",
       "    </tr>\n",
       "    <tr>\n",
       "      <th>b'INTRAGENIC'</th>\n",
       "      <td>5967</td>\n",
       "      <td>7158</td>\n",
       "      <td>2931</td>\n",
       "      <td>11747</td>\n",
       "      <td>10181</td>\n",
       "      <td>5114</td>\n",
       "      <td>6986</td>\n",
       "      <td>2906</td>\n",
       "      <td>1290</td>\n",
       "      <td>3017</td>\n",
       "      <td>3837</td>\n",
       "      <td>10426</td>\n",
       "      <td>6371</td>\n",
       "      <td>11739</td>\n",
       "      <td>0</td>\n",
       "      <td>0</td>\n",
       "    </tr>\n",
       "    <tr>\n",
       "      <th>b'INTRON'</th>\n",
       "      <td>11908</td>\n",
       "      <td>18307</td>\n",
       "      <td>20796</td>\n",
       "      <td>21499</td>\n",
       "      <td>23556</td>\n",
       "      <td>25586</td>\n",
       "      <td>26280</td>\n",
       "      <td>29842</td>\n",
       "      <td>32779</td>\n",
       "      <td>32630</td>\n",
       "      <td>41676</td>\n",
       "      <td>45010</td>\n",
       "      <td>54601</td>\n",
       "      <td>64948</td>\n",
       "      <td>0</td>\n",
       "      <td>0</td>\n",
       "    </tr>\n",
       "    <tr>\n",
       "      <th>b'NON_SYNONYMOUS_CODING'</th>\n",
       "      <td>34880</td>\n",
       "      <td>52405</td>\n",
       "      <td>58850</td>\n",
       "      <td>72035</td>\n",
       "      <td>77320</td>\n",
       "      <td>80578</td>\n",
       "      <td>93804</td>\n",
       "      <td>84739</td>\n",
       "      <td>92861</td>\n",
       "      <td>101506</td>\n",
       "      <td>126222</td>\n",
       "      <td>135014</td>\n",
       "      <td>194058</td>\n",
       "      <td>223434</td>\n",
       "      <td>2348</td>\n",
       "      <td>309</td>\n",
       "    </tr>\n",
       "    <tr>\n",
       "      <th>b'NON_SYNONYMOUS_START'</th>\n",
       "      <td>3</td>\n",
       "      <td>5</td>\n",
       "      <td>4</td>\n",
       "      <td>6</td>\n",
       "      <td>2</td>\n",
       "      <td>3</td>\n",
       "      <td>3</td>\n",
       "      <td>7</td>\n",
       "      <td>5</td>\n",
       "      <td>5</td>\n",
       "      <td>8</td>\n",
       "      <td>7</td>\n",
       "      <td>6</td>\n",
       "      <td>12</td>\n",
       "      <td>1</td>\n",
       "      <td>2</td>\n",
       "    </tr>\n",
       "    <tr>\n",
       "      <th>b'SPLICE_SITE_ACCEPTOR'</th>\n",
       "      <td>41</td>\n",
       "      <td>47</td>\n",
       "      <td>51</td>\n",
       "      <td>47</td>\n",
       "      <td>47</td>\n",
       "      <td>58</td>\n",
       "      <td>67</td>\n",
       "      <td>83</td>\n",
       "      <td>93</td>\n",
       "      <td>69</td>\n",
       "      <td>86</td>\n",
       "      <td>102</td>\n",
       "      <td>102</td>\n",
       "      <td>124</td>\n",
       "      <td>0</td>\n",
       "      <td>0</td>\n",
       "    </tr>\n",
       "    <tr>\n",
       "      <th>b'SPLICE_SITE_DONOR'</th>\n",
       "      <td>33</td>\n",
       "      <td>48</td>\n",
       "      <td>57</td>\n",
       "      <td>56</td>\n",
       "      <td>51</td>\n",
       "      <td>50</td>\n",
       "      <td>64</td>\n",
       "      <td>77</td>\n",
       "      <td>69</td>\n",
       "      <td>68</td>\n",
       "      <td>84</td>\n",
       "      <td>93</td>\n",
       "      <td>122</td>\n",
       "      <td>162</td>\n",
       "      <td>0</td>\n",
       "      <td>0</td>\n",
       "    </tr>\n",
       "    <tr>\n",
       "      <th>b'START_LOST'</th>\n",
       "      <td>29</td>\n",
       "      <td>40</td>\n",
       "      <td>32</td>\n",
       "      <td>40</td>\n",
       "      <td>23</td>\n",
       "      <td>27</td>\n",
       "      <td>49</td>\n",
       "      <td>37</td>\n",
       "      <td>45</td>\n",
       "      <td>46</td>\n",
       "      <td>51</td>\n",
       "      <td>57</td>\n",
       "      <td>66</td>\n",
       "      <td>103</td>\n",
       "      <td>8</td>\n",
       "      <td>0</td>\n",
       "    </tr>\n",
       "    <tr>\n",
       "      <th>b'STOP_GAINED'</th>\n",
       "      <td>811</td>\n",
       "      <td>802</td>\n",
       "      <td>706</td>\n",
       "      <td>1541</td>\n",
       "      <td>656</td>\n",
       "      <td>1161</td>\n",
       "      <td>1547</td>\n",
       "      <td>1482</td>\n",
       "      <td>1094</td>\n",
       "      <td>1233</td>\n",
       "      <td>1170</td>\n",
       "      <td>1817</td>\n",
       "      <td>1738</td>\n",
       "      <td>1680</td>\n",
       "      <td>46</td>\n",
       "      <td>4</td>\n",
       "    </tr>\n",
       "    <tr>\n",
       "      <th>b'STOP_LOST'</th>\n",
       "      <td>19</td>\n",
       "      <td>43</td>\n",
       "      <td>40</td>\n",
       "      <td>52</td>\n",
       "      <td>55</td>\n",
       "      <td>50</td>\n",
       "      <td>48</td>\n",
       "      <td>54</td>\n",
       "      <td>67</td>\n",
       "      <td>71</td>\n",
       "      <td>80</td>\n",
       "      <td>98</td>\n",
       "      <td>120</td>\n",
       "      <td>136</td>\n",
       "      <td>9</td>\n",
       "      <td>1</td>\n",
       "    </tr>\n",
       "    <tr>\n",
       "      <th>b'SYNONYMOUS_CODING'</th>\n",
       "      <td>13105</td>\n",
       "      <td>22084</td>\n",
       "      <td>28023</td>\n",
       "      <td>28429</td>\n",
       "      <td>35950</td>\n",
       "      <td>36810</td>\n",
       "      <td>38315</td>\n",
       "      <td>37514</td>\n",
       "      <td>42899</td>\n",
       "      <td>45384</td>\n",
       "      <td>56136</td>\n",
       "      <td>63152</td>\n",
       "      <td>88284</td>\n",
       "      <td>102588</td>\n",
       "      <td>1790</td>\n",
       "      <td>554</td>\n",
       "    </tr>\n",
       "    <tr>\n",
       "      <th>b'SYNONYMOUS_STOP'</th>\n",
       "      <td>25</td>\n",
       "      <td>34</td>\n",
       "      <td>40</td>\n",
       "      <td>44</td>\n",
       "      <td>51</td>\n",
       "      <td>45</td>\n",
       "      <td>47</td>\n",
       "      <td>59</td>\n",
       "      <td>70</td>\n",
       "      <td>63</td>\n",
       "      <td>69</td>\n",
       "      <td>73</td>\n",
       "      <td>122</td>\n",
       "      <td>131</td>\n",
       "      <td>3</td>\n",
       "      <td>1</td>\n",
       "    </tr>\n",
       "  </tbody>\n",
       "</table>\n",
       "</div>"
      ],
      "text/plain": [
       "col_0                                 b'Pf3D7_01_v3'  b'Pf3D7_02_v3'  \\\n",
       "row_0                                                                  \n",
       "b''                                             5596            4486   \n",
       "b'CODON_CHANGE_PLUS_CODON_DELETION'              538             836   \n",
       "b'CODON_CHANGE_PLUS_CODON_INSERTION'             509             648   \n",
       "b'CODON_DELETION'                                877            1094   \n",
       "b'CODON_INSERTION'                              1438            1863   \n",
       "b'EXON_DELETED'                                    1               0   \n",
       "b'FRAME_SHIFT'                                 19511           19580   \n",
       "b'INTERGENIC'                                 112985          133602   \n",
       "b'INTRAGENIC'                                   5967            7158   \n",
       "b'INTRON'                                      11908           18307   \n",
       "b'NON_SYNONYMOUS_CODING'                       34880           52405   \n",
       "b'NON_SYNONYMOUS_START'                            3               5   \n",
       "b'SPLICE_SITE_ACCEPTOR'                           41              47   \n",
       "b'SPLICE_SITE_DONOR'                              33              48   \n",
       "b'START_LOST'                                     29              40   \n",
       "b'STOP_GAINED'                                   811             802   \n",
       "b'STOP_LOST'                                      19              43   \n",
       "b'SYNONYMOUS_CODING'                           13105           22084   \n",
       "b'SYNONYMOUS_STOP'                                25              34   \n",
       "\n",
       "col_0                                 b'Pf3D7_03_v3'  b'Pf3D7_04_v3'  \\\n",
       "row_0                                                                  \n",
       "b''                                             4532            4303   \n",
       "b'CODON_CHANGE_PLUS_CODON_DELETION'              844            1321   \n",
       "b'CODON_CHANGE_PLUS_CODON_INSERTION'             733            1223   \n",
       "b'CODON_DELETION'                               1357            1669   \n",
       "b'CODON_INSERTION'                              2329            3186   \n",
       "b'EXON_DELETED'                                    4               9   \n",
       "b'FRAME_SHIFT'                                 18310           53868   \n",
       "b'INTERGENIC'                                 147961          155345   \n",
       "b'INTRAGENIC'                                   2931           11747   \n",
       "b'INTRON'                                      20796           21499   \n",
       "b'NON_SYNONYMOUS_CODING'                       58850           72035   \n",
       "b'NON_SYNONYMOUS_START'                            4               6   \n",
       "b'SPLICE_SITE_ACCEPTOR'                           51              47   \n",
       "b'SPLICE_SITE_DONOR'                              57              56   \n",
       "b'START_LOST'                                     32              40   \n",
       "b'STOP_GAINED'                                   706            1541   \n",
       "b'STOP_LOST'                                      40              52   \n",
       "b'SYNONYMOUS_CODING'                           28023           28429   \n",
       "b'SYNONYMOUS_STOP'                                40              44   \n",
       "\n",
       "col_0                                 b'Pf3D7_05_v3'  b'Pf3D7_06_v3'  \\\n",
       "row_0                                                                  \n",
       "b''                                             2779            4566   \n",
       "b'CODON_CHANGE_PLUS_CODON_DELETION'              852            1183   \n",
       "b'CODON_CHANGE_PLUS_CODON_INSERTION'             805             986   \n",
       "b'CODON_DELETION'                               1853            1567   \n",
       "b'CODON_INSERTION'                              2808            3105   \n",
       "b'EXON_DELETED'                                    3               5   \n",
       "b'FRAME_SHIFT'                                 12085           33194   \n",
       "b'INTERGENIC'                                 126775          164228   \n",
       "b'INTRAGENIC'                                  10181            5114   \n",
       "b'INTRON'                                      23556           25586   \n",
       "b'NON_SYNONYMOUS_CODING'                       77320           80578   \n",
       "b'NON_SYNONYMOUS_START'                            2               3   \n",
       "b'SPLICE_SITE_ACCEPTOR'                           47              58   \n",
       "b'SPLICE_SITE_DONOR'                              51              50   \n",
       "b'START_LOST'                                     23              27   \n",
       "b'STOP_GAINED'                                   656            1161   \n",
       "b'STOP_LOST'                                      55              50   \n",
       "b'SYNONYMOUS_CODING'                           35950           36810   \n",
       "b'SYNONYMOUS_STOP'                                51              45   \n",
       "\n",
       "col_0                                 b'Pf3D7_07_v3'  b'Pf3D7_08_v3'  \\\n",
       "row_0                                                                  \n",
       "b''                                             7188            9494   \n",
       "b'CODON_CHANGE_PLUS_CODON_DELETION'             1483            1282   \n",
       "b'CODON_CHANGE_PLUS_CODON_INSERTION'            1306            1143   \n",
       "b'CODON_DELETION'                               1948            1822   \n",
       "b'CODON_INSERTION'                              3562            3342   \n",
       "b'EXON_DELETED'                                    6               1   \n",
       "b'FRAME_SHIFT'                                 51496           44289   \n",
       "b'INTERGENIC'                                 170845          188646   \n",
       "b'INTRAGENIC'                                   6986            2906   \n",
       "b'INTRON'                                      26280           29842   \n",
       "b'NON_SYNONYMOUS_CODING'                       93804           84739   \n",
       "b'NON_SYNONYMOUS_START'                            3               7   \n",
       "b'SPLICE_SITE_ACCEPTOR'                           67              83   \n",
       "b'SPLICE_SITE_DONOR'                              64              77   \n",
       "b'START_LOST'                                     49              37   \n",
       "b'STOP_GAINED'                                  1547            1482   \n",
       "b'STOP_LOST'                                      48              54   \n",
       "b'SYNONYMOUS_CODING'                           38315           37514   \n",
       "b'SYNONYMOUS_STOP'                                47              59   \n",
       "\n",
       "col_0                                 b'Pf3D7_09_v3'  b'Pf3D7_10_v3'  \\\n",
       "row_0                                                                  \n",
       "b''                                             4928            4304   \n",
       "b'CODON_CHANGE_PLUS_CODON_DELETION'              888            1473   \n",
       "b'CODON_CHANGE_PLUS_CODON_INSERTION'             900            1120   \n",
       "b'CODON_DELETION'                               1415            2762   \n",
       "b'CODON_INSERTION'                              2661            3463   \n",
       "b'EXON_DELETED'                                    7              16   \n",
       "b'FRAME_SHIFT'                                 23786           29154   \n",
       "b'INTERGENIC'                                 216718          224002   \n",
       "b'INTRAGENIC'                                   1290            3017   \n",
       "b'INTRON'                                      32779           32630   \n",
       "b'NON_SYNONYMOUS_CODING'                       92861          101506   \n",
       "b'NON_SYNONYMOUS_START'                            5               5   \n",
       "b'SPLICE_SITE_ACCEPTOR'                           93              69   \n",
       "b'SPLICE_SITE_DONOR'                              69              68   \n",
       "b'START_LOST'                                     45              46   \n",
       "b'STOP_GAINED'                                  1094            1233   \n",
       "b'STOP_LOST'                                      67              71   \n",
       "b'SYNONYMOUS_CODING'                           42899           45384   \n",
       "b'SYNONYMOUS_STOP'                                70              63   \n",
       "\n",
       "col_0                                 b'Pf3D7_11_v3'  b'Pf3D7_12_v3'  \\\n",
       "row_0                                                                  \n",
       "b''                                             4485            5923   \n",
       "b'CODON_CHANGE_PLUS_CODON_DELETION'             1430            1685   \n",
       "b'CODON_CHANGE_PLUS_CODON_INSERTION'            1272            1650   \n",
       "b'CODON_DELETION'                               2435            2559   \n",
       "b'CODON_INSERTION'                              3961            4658   \n",
       "b'EXON_DELETED'                                   10              12   \n",
       "b'FRAME_SHIFT'                                 28897           53743   \n",
       "b'INTERGENIC'                                 235037          259684   \n",
       "b'INTRAGENIC'                                   3837           10426   \n",
       "b'INTRON'                                      41676           45010   \n",
       "b'NON_SYNONYMOUS_CODING'                      126222          135014   \n",
       "b'NON_SYNONYMOUS_START'                            8               7   \n",
       "b'SPLICE_SITE_ACCEPTOR'                           86             102   \n",
       "b'SPLICE_SITE_DONOR'                              84              93   \n",
       "b'START_LOST'                                     51              57   \n",
       "b'STOP_GAINED'                                  1170            1817   \n",
       "b'STOP_LOST'                                      80              98   \n",
       "b'SYNONYMOUS_CODING'                           56136           63152   \n",
       "b'SYNONYMOUS_STOP'                                69              73   \n",
       "\n",
       "col_0                                 b'Pf3D7_13_v3'  b'Pf3D7_14_v3'  \\\n",
       "row_0                                                                  \n",
       "b''                                             5576            1779   \n",
       "b'CODON_CHANGE_PLUS_CODON_DELETION'             1846            1980   \n",
       "b'CODON_CHANGE_PLUS_CODON_INSERTION'            1653            1668   \n",
       "b'CODON_DELETION'                               2951            3139   \n",
       "b'CODON_INSERTION'                              5180            5838   \n",
       "b'EXON_DELETED'                                    9              10   \n",
       "b'FRAME_SHIFT'                                 32969           23176   \n",
       "b'INTERGENIC'                                 316637          342596   \n",
       "b'INTRAGENIC'                                   6371           11739   \n",
       "b'INTRON'                                      54601           64948   \n",
       "b'NON_SYNONYMOUS_CODING'                      194058          223434   \n",
       "b'NON_SYNONYMOUS_START'                            6              12   \n",
       "b'SPLICE_SITE_ACCEPTOR'                          102             124   \n",
       "b'SPLICE_SITE_DONOR'                             122             162   \n",
       "b'START_LOST'                                     66             103   \n",
       "b'STOP_GAINED'                                  1738            1680   \n",
       "b'STOP_LOST'                                     120             136   \n",
       "b'SYNONYMOUS_CODING'                           88284          102588   \n",
       "b'SYNONYMOUS_STOP'                               122             131   \n",
       "\n",
       "col_0                                 b'Pf3D7_API_v3'  b'Pf_M76611'  \n",
       "row_0                                                                \n",
       "b''                                               236           422  \n",
       "b'CODON_CHANGE_PLUS_CODON_DELETION'                34             0  \n",
       "b'CODON_CHANGE_PLUS_CODON_INSERTION'               21             1  \n",
       "b'CODON_DELETION'                                  41             2  \n",
       "b'CODON_INSERTION'                                 73             3  \n",
       "b'EXON_DELETED'                                     0             0  \n",
       "b'FRAME_SHIFT'                                    560            59  \n",
       "b'INTERGENIC'                                     353            82  \n",
       "b'INTRAGENIC'                                       0             0  \n",
       "b'INTRON'                                           0             0  \n",
       "b'NON_SYNONYMOUS_CODING'                         2348           309  \n",
       "b'NON_SYNONYMOUS_START'                             1             2  \n",
       "b'SPLICE_SITE_ACCEPTOR'                             0             0  \n",
       "b'SPLICE_SITE_DONOR'                                0             0  \n",
       "b'START_LOST'                                       8             0  \n",
       "b'STOP_GAINED'                                     46             4  \n",
       "b'STOP_LOST'                                        9             1  \n",
       "b'SYNONYMOUS_CODING'                             1790           554  \n",
       "b'SYNONYMOUS_STOP'                                  3             1  "
      ]
     },
     "execution_count": 73,
     "metadata": {},
     "output_type": "execute_result"
    }
   ],
   "source": [
    "pd.crosstab(SNPEFF_EFFECT, y['variants']['CHROM'])"
   ]
  },
  {
   "cell_type": "code",
   "execution_count": 78,
   "metadata": {
    "collapsed": false
   },
   "outputs": [
    {
     "data": {
      "text/plain": [
       "(array([-396, -378, -375, -370, -363, -359, -358, -354, -353, -351, -350,\n",
       "        -349, -348, -347, -346, -345, -343, -342, -341, -340, -339, -338,\n",
       "        -337, -336, -335, -334, -333, -332, -331, -330, -329, -328, -327,\n",
       "        -326, -325, -324, -323, -322, -321, -320, -319, -318, -317, -316,\n",
       "        -315, -314, -313, -312, -311, -310, -309, -308, -307, -306, -305,\n",
       "        -304, -303, -302, -301, -300, -299, -298, -297, -296, -295, -294,\n",
       "        -293, -292, -291, -290, -289, -288, -287, -286, -285, -284, -283,\n",
       "        -282, -281, -280, -279, -278, -277, -276, -275, -274, -273, -272,\n",
       "        -271, -270, -269, -268, -267, -266, -265, -264, -263, -262, -261,\n",
       "        -260, -259, -258, -257, -256, -255, -254, -253, -252, -251, -250,\n",
       "        -249, -248, -247, -246, -245, -244, -243, -242, -241, -240, -239,\n",
       "        -238, -237, -236, -235, -234, -233, -232, -231, -230, -229, -228,\n",
       "        -227, -226, -225, -224, -223, -222, -221, -220, -219, -218, -217,\n",
       "        -216, -215, -214, -213, -212, -211, -210, -209, -208, -207, -206,\n",
       "        -205, -204, -203, -202, -201, -200, -199, -198, -197, -196, -195,\n",
       "        -194, -193, -192, -191, -190, -189, -188, -187, -186, -185, -184,\n",
       "        -183, -182, -181, -180, -179, -178, -177, -176, -175, -174, -173,\n",
       "        -172, -171, -170, -169, -168, -167, -166, -165, -164, -163, -162,\n",
       "        -161, -160, -159, -158, -157, -156, -155, -154, -153, -152, -151,\n",
       "        -150, -149, -148, -147, -146, -145, -144, -143, -142, -141, -140,\n",
       "        -139, -138, -137, -136, -135, -134, -133, -132, -131, -130, -129,\n",
       "        -128, -127, -126, -125, -124, -123, -122, -121, -120, -119, -118,\n",
       "        -117, -116, -115, -114, -113, -112, -111, -110, -109, -108, -107,\n",
       "        -106, -105, -104, -103, -102, -101, -100,  -99,  -98,  -97,  -96,\n",
       "         -95,  -94,  -93,  -92,  -91,  -90,  -89,  -88,  -87,  -86,  -85,\n",
       "         -84,  -83,  -82,  -81,  -80,  -79,  -78,  -77,  -76,  -75,  -74,\n",
       "         -73,  -72,  -71,  -70,  -69,  -68,  -67,  -66,  -65,  -64,  -63,\n",
       "         -62,  -61,  -60,  -59,  -58,  -57,  -56,  -55,  -54,  -53,  -52,\n",
       "         -51,  -50,  -49,  -48,  -47,  -46,  -45,  -44,  -43,  -42,  -41,\n",
       "         -40,  -39,  -38,  -37,  -36,  -35,  -34,  -33,  -32,  -31,  -30,\n",
       "         -29,  -28,  -27,  -26,  -25,  -24,  -23,  -22,  -21,  -20,  -19,\n",
       "         -18,  -17,  -16,  -15,  -14,  -13,  -12,  -11,  -10,   -9,   -8,\n",
       "          -7,   -6,   -5,   -4,   -3,   -2,   -1,    0,    1,    2,    3,\n",
       "           4,    5,    6,    7,    8,    9,   10,   11,   12,   13,   14,\n",
       "          15,   16,   17,   18,   19,   20,   21,   22,   23,   24,   25,\n",
       "          26,   27,   28,   29,   30,   31,   32,   33,   34,   35,   36,\n",
       "          37,   38,   39,   40,   41,   42,   43,   44,   45,   46,   47,\n",
       "          48,   49,   50,   51,   52,   53,   54,   55,   56,   57,   58,\n",
       "          59,   60,   61,   62,   63,   64,   65,   66,   67,   68,   69,\n",
       "          70,   71,   72,   73,   74,   75,   76,   77,   78,   79,   80,\n",
       "          81,   82,   83,   84,   85,   86,   87,   88,   89,   90,   91,\n",
       "          92,   93,   94,   95,   96,   97,   98,   99,  100,  101,  102,\n",
       "         103,  104,  105,  106,  107,  108,  109,  110,  111,  112,  113,\n",
       "         114,  115,  116,  117,  118,  119,  120,  121,  122,  123,  124,\n",
       "         125,  126,  127,  128,  129,  130,  131,  132,  133,  134,  135,\n",
       "         136,  137,  138,  139,  140,  141,  142,  143,  144,  145,  146,\n",
       "         147,  148,  149,  150,  151,  152,  153,  154,  155,  156,  157,\n",
       "         158,  159,  160,  161,  162,  163,  164,  165,  166,  167,  168,\n",
       "         169,  170,  171,  172,  173,  174,  175,  176,  177,  178,  179,\n",
       "         180,  181,  182,  183,  184,  185,  186,  187,  188,  189,  190,\n",
       "         191,  192,  193,  194,  195,  196,  197,  198,  199,  200,  201,\n",
       "         202,  203,  204,  205,  206,  207,  208,  209,  210,  211,  212,\n",
       "         213,  214,  215,  216,  217,  218,  219,  220,  221,  223,  224,\n",
       "         225,  226,  227,  228,  229,  230,  231,  232,  233,  234,  235,\n",
       "         236,  237,  238,  240,  246,  247,  249,  252,  253,  258,  266,\n",
       "         268,  270,  276,  277,  282,  289,  296,  297,  304,  325,  511], dtype=int32),\n",
       " array([       1,        2,        2,        1,        1,        1,\n",
       "               3,        2,        3,        1,        1,        1,\n",
       "               3,        1,        1,        5,        2,        1,\n",
       "               1,        4,        4,        2,       11,       10,\n",
       "               7,       11,        1,        9,        4,        4,\n",
       "               3,        2,        9,        3,        5,        3,\n",
       "               4,        3,        3,        1,        1,        4,\n",
       "              11,       22,       44,        9,       13,       12,\n",
       "               4,        6,        9,        9,        7,       20,\n",
       "               7,        3,       18,        6,        4,       19,\n",
       "              10,        6,       11,       18,       46,      148,\n",
       "              35,       30,       59,       21,       21,       34,\n",
       "               9,       11,       34,       10,       10,       18,\n",
       "              18,       13,       23,       13,        9,       49,\n",
       "              35,      101,      279,       62,       57,      361,\n",
       "              64,       42,       53,       51,       44,       84,\n",
       "              23,       25,       67,       28,       31,       34,\n",
       "              28,       23,       75,       40,      133,      485,\n",
       "             129,       96,       76,       86,       44,       54,\n",
       "              45,       34,      100,       44,       40,      131,\n",
       "              54,       54,       70,       55,       43,       86,\n",
       "              68,      222,      764,      188,      141,      189,\n",
       "             104,       81,      106,       71,       51,      107,\n",
       "              58,       52,      164,       64,       91,      232,\n",
       "              87,       93,       90,       87,      269,     1033,\n",
       "             273,      246,      301,      206,      111,      423,\n",
       "             159,      142,      172,      127,      114,      242,\n",
       "             117,      148,      230,      129,      119,      290,\n",
       "             147,      396,     1611,      372,      293,      333,\n",
       "             263,      179,      222,      240,      183,      573,\n",
       "             170,      194,      291,      200,      204,      234,\n",
       "             191,      198,      258,      197,      602,     2287,\n",
       "             572,      387,      531,      440,      260,      565,\n",
       "             258,      286,      473,      215,      213,      809,\n",
       "             360,      394,      733,      323,      313,      610,\n",
       "             309,      679,     2744,      754,      596,     1354,\n",
       "             564,      437,      501,      421,      426,      592,\n",
       "             389,      359,     2329,      692,      671,     1244,\n",
       "             672,      589,      651,      558,      828,     4147,\n",
       "            1203,      878,      949,      766,      568,     1965,\n",
       "             767,      691,     1159,      715,      651,     1143,\n",
       "             672,      848,      956,      780,      710,     2581,\n",
       "             820,     1299,     5796,     1842,     1394,     2069,\n",
       "            1386,     1214,     1698,     1295,     1052,     2820,\n",
       "            1143,     1193,     1629,     1204,     1125,     3283,\n",
       "            1241,     1329,     1480,     1061,     1723,     8514,\n",
       "            2668,     2105,     3168,     2251,     1648,     2406,\n",
       "            1652,     1843,     2959,     1635,     1623,     6449,\n",
       "            2159,     2266,     2600,     2039,     1901,     2793,\n",
       "            1714,     2862,    11480,     4130,     3054,     6925,\n",
       "            3337,     3144,     3632,     3766,     3267,     8341,\n",
       "            3205,     3605,     5931,     4036,     3474,     8967,\n",
       "            4339,     4718,     7689,     5040,     4985,    20584,\n",
       "            7426,     7962,     8660,     8156,     6456,    18323,\n",
       "            8319,    10261,    11839,    10564,     8196,    20222,\n",
       "           10182,    15283,    19560,    16836,    14512,    31201,\n",
       "           16503,    25293,    45861,    35566,    26745,    51156,\n",
       "           33481,    44249,    50432,    53277,    46336,    82120,\n",
       "           57189,    74102,    95951,   100539,    99614,   158968,\n",
       "          153634,   211789,   261676,   354567,   595160, 31252783,\n",
       "          381081,   316334,   194897,   160835,    94545,   115613,\n",
       "           50709,    63171,    53409,    40864,    26162,    47264,\n",
       "           18183,    21180,    26673,    17704,    11415,    27019,\n",
       "            8432,    12127,    19620,     7534,     5594,    16240,\n",
       "            5060,     4804,     9044,     4825,     3064,     9207,\n",
       "            2440,     3404,     4152,     2407,     2311,     9190,\n",
       "            1704,     1841,     2738,     1922,     1457,     6413,\n",
       "            1127,     1376,     2911,     1032,     1161,     3278,\n",
       "             862,      932,     1764,      793,      771,     2853,\n",
       "             742,      782,      866,      551,      526,     1651,\n",
       "             520,      550,     2383,      512,      393,      755,\n",
       "             368,      377,      527,      423,      355,     1296,\n",
       "             284,      281,      416,      249,      230,      334,\n",
       "             182,      216,      355,      141,      214,      825,\n",
       "             199,      108,      144,      105,       87,      316,\n",
       "              96,       76,      119,      108,       94,      238,\n",
       "              81,       96,      149,      101,       94,      184,\n",
       "              87,      126,      299,       89,       71,      180,\n",
       "              59,       47,       76,       55,       41,       74,\n",
       "              55,       48,       61,       41,       34,      115,\n",
       "              39,       41,       37,       30,       47,      105,\n",
       "              31,       41,       41,       31,       39,       39,\n",
       "              41,       28,      415,       29,       24,       33,\n",
       "              23,       18,       23,       23,       22,       34,\n",
       "              19,       26,       51,       16,        8,       21,\n",
       "              10,       23,       23,       21,       12,       32,\n",
       "              11,        9,       21,        7,        6,       20,\n",
       "              14,       20,       13,       18,        9,       28,\n",
       "              11,        7,       11,       12,        8,       11,\n",
       "              12,        3,        9,        5,        4,        8,\n",
       "               4,       10,        2,        4,        7,        7,\n",
       "               3,        1,        4,        1,        3,        9,\n",
       "               6,        3,        3,        2,        3,        5,\n",
       "               6,        1,        7,        2,        6,        9,\n",
       "               2,        3,        2,        4,        2,        6,\n",
       "               1,        1,        5,        2,        1,        2,\n",
       "               6,        1,        1,        3,        3,        3,\n",
       "               2,        4,        1,        1,        1,        1,\n",
       "               2,        2,        2,        3,        2,        1,\n",
       "               3,        2,        2,        3,        2,        1,\n",
       "               1,        3,        1,        1,        1,        1,\n",
       "               5,        1,        1,        1,        1,        1,\n",
       "               2,        1,        1,        1]))"
      ]
     },
     "execution_count": 78,
     "metadata": {},
     "output_type": "execute_result"
    }
   ],
   "source": [
    "np.unique(y['variants']['svlen'], return_counts=True)"
   ]
  },
  {
   "cell_type": "code",
   "execution_count": 32,
   "metadata": {
    "collapsed": false
   },
   "outputs": [
    {
     "data": {
      "text/plain": [
       "<HDF5 file \"Pf_60_npy_no_PID_PGT_10pc.h5.h5\" (mode r)>"
      ]
     },
     "execution_count": 32,
     "metadata": {},
     "output_type": "execute_result"
    }
   ],
   "source": [
    "y = h5py.File('%s/hdf5/Pf_60_npy_no_PID_PGT_10pc.h5.h5' % output_dir, 'r')\n",
    "y"
   ]
  },
  {
   "cell_type": "code",
   "execution_count": 33,
   "metadata": {
    "collapsed": false
   },
   "outputs": [
    {
     "name": "stdout",
     "output_type": "stream",
     "text": [
      "svlen (array([-375, -358, -354, -353, -348, -345, -340, -339, -337, -336, -335,\n",
      "       -334, -332, -331, -330, -327, -324, -319, -317, -316, -315, -314,\n",
      "       -313, -312, -311, -309, -308, -306, -305, -303, -302, -301, -300,\n",
      "       -299, -298, -297, -296, -295, -294, -293, -292, -291, -290, -289,\n",
      "       -288, -287, -286, -285, -284, -283, -282, -281, -280, -279, -278,\n",
      "       -277, -276, -275, -274, -273, -272, -271, -270, -269, -268, -267,\n",
      "       -266, -265, -264, -263, -262, -261, -260, -259, -258, -257, -256,\n",
      "       -255, -254, -253, -252, -251, -250, -249, -248, -247, -246, -245,\n",
      "       -244, -243, -242, -241, -240, -239, -238, -237, -236, -235, -234,\n",
      "       -233, -232, -231, -230, -229, -228, -227, -226, -225, -224, -223,\n",
      "       -222, -221, -220, -219, -218, -217, -216, -215, -214, -213, -212,\n",
      "       -211, -210, -209, -208, -207, -206, -205, -204, -203, -202, -201,\n",
      "       -200, -199, -198, -197, -196, -195, -194, -193, -192, -191, -190,\n",
      "       -189, -188, -187, -186, -185, -184, -183, -182, -181, -180, -179,\n",
      "       -178, -177, -176, -175, -174, -173, -172, -171, -170, -169, -168,\n",
      "       -167, -166, -165, -164, -163, -162, -161, -160, -159, -158, -157,\n",
      "       -156, -155, -154, -153, -152, -151, -150, -149, -148, -147, -146,\n",
      "       -145, -144, -143, -142, -141, -140, -139, -138, -137, -136, -135,\n",
      "       -134, -133, -132, -131, -130, -129, -128, -127, -126, -125, -124,\n",
      "       -123, -122, -121, -120, -119, -118, -117, -116, -115, -114, -113,\n",
      "       -112, -111, -110, -109, -108, -107, -106, -105, -104, -103, -102,\n",
      "       -101, -100,  -99,  -98,  -97,  -96,  -95,  -94,  -93,  -92,  -91,\n",
      "        -90,  -89,  -88,  -87,  -86,  -85,  -84,  -83,  -82,  -81,  -80,\n",
      "        -79,  -78,  -77,  -76,  -75,  -74,  -73,  -72,  -71,  -70,  -69,\n",
      "        -68,  -67,  -66,  -65,  -64,  -63,  -62,  -61,  -60,  -59,  -58,\n",
      "        -57,  -56,  -55,  -54,  -53,  -52,  -51,  -50,  -49,  -48,  -47,\n",
      "        -46,  -45,  -44,  -43,  -42,  -41,  -40,  -39,  -38,  -37,  -36,\n",
      "        -35,  -34,  -33,  -32,  -31,  -30,  -29,  -28,  -27,  -26,  -25,\n",
      "        -24,  -23,  -22,  -21,  -20,  -19,  -18,  -17,  -16,  -15,  -14,\n",
      "        -13,  -12,  -11,  -10,   -9,   -8,   -7,   -6,   -5,   -4,   -3,\n",
      "         -2,   -1,    0,    1,    2,    3,    4,    5,    6,    7,    8,\n",
      "          9,   10,   11,   12,   13,   14,   15,   16,   17,   18,   19,\n",
      "         20,   21,   22,   23,   24,   25,   26,   27,   28,   29,   30,\n",
      "         31,   32,   33,   34,   35,   36,   37,   38,   39,   40,   41,\n",
      "         42,   43,   44,   45,   46,   47,   48,   49,   50,   51,   52,\n",
      "         53,   54,   55,   56,   57,   58,   59,   60,   61,   62,   63,\n",
      "         64,   65,   66,   67,   68,   69,   70,   71,   72,   73,   74,\n",
      "         75,   76,   77,   78,   79,   80,   81,   82,   83,   84,   85,\n",
      "         86,   87,   88,   89,   90,   91,   92,   93,   94,   95,   96,\n",
      "         97,   98,   99,  100,  101,  102,  103,  104,  105,  106,  107,\n",
      "        108,  109,  110,  111,  112,  113,  114,  115,  116,  117,  118,\n",
      "        119,  120,  121,  122,  123,  124,  125,  126,  127,  128,  129,\n",
      "        130,  131,  132,  133,  134,  135,  136,  137,  138,  139,  140,\n",
      "        141,  142,  143,  144,  145,  146,  147,  148,  149,  150,  151,\n",
      "        152,  153,  154,  155,  156,  157,  158,  159,  160,  161,  162,\n",
      "        163,  164,  165,  166,  167,  168,  169,  170,  171,  172,  173,\n",
      "        174,  175,  176,  177,  178,  179,  180,  181,  182,  184,  185,\n",
      "        186,  187,  189,  192,  193,  194,  195,  196,  197,  198,  199,\n",
      "        201,  203,  204,  205,  206,  208,  210,  214,  215,  217,  218,\n",
      "        220,  221,  223,  225,  229,  230,  231,  233,  236,  237,  240,\n",
      "        246,  270,  277,  289,  296,  297], dtype=int32), array([      2,       1,       2,       1,       2,       1,       2,\n",
      "             1,       3,       5,       1,       6,       1,       2,\n",
      "             2,       2,       1,       1,       1,       5,       7,\n",
      "             3,       2,       4,       1,       4,       1,       6,\n",
      "             2,       5,       2,       1,       8,       4,       3,\n",
      "             2,       2,       8,      39,       8,      11,      10,\n",
      "             9,       3,      11,       1,       3,       5,       4,\n",
      "             4,       7,       5,       6,       3,       4,       3,\n",
      "            12,      11,      24,      72,       8,      17,      35,\n",
      "            15,       6,       7,       5,       9,      23,       6,\n",
      "             5,      21,      11,       8,       7,       5,       7,\n",
      "            12,       5,      27,     149,      61,      13,      20,\n",
      "            25,      10,      15,      16,      13,      10,       7,\n",
      "             9,      39,      10,      15,      19,      12,      11,\n",
      "            18,       8,      59,     220,      56,      55,      58,\n",
      "            34,      29,      28,      17,      18,      30,      23,\n",
      "            13,      39,      12,      23,      44,      19,      31,\n",
      "            15,      23,      72,     261,      88,      54,      67,\n",
      "            63,      28,      71,      50,      25,      50,      35,\n",
      "            27,      66,      26,      31,      42,      29,      33,\n",
      "            66,      28,     115,     454,     114,      97,      65,\n",
      "            78,      42,      57,      60,      47,     119,      31,\n",
      "            40,      77,      68,      62,      67,      56,      51,\n",
      "            54,      45,     151,     584,     146,      97,     130,\n",
      "           116,      57,     153,      75,      72,     113,      41,\n",
      "            46,     169,      81,      72,      98,      71,      66,\n",
      "           105,      66,     212,     743,     165,     169,     270,\n",
      "           155,     127,     110,      92,     123,     129,     100,\n",
      "            99,     322,     111,     124,     263,     161,     154,\n",
      "           143,     154,     224,    1028,     323,     224,     220,\n",
      "           196,     134,     380,     160,     151,     240,     191,\n",
      "           156,     282,     170,     192,     201,     203,     156,\n",
      "           593,     225,     316,    1470,     488,     340,     472,\n",
      "           381,     289,     351,     329,     268,     639,     274,\n",
      "           277,     368,     291,     274,     666,     309,     329,\n",
      "           329,     272,     452,    2153,     695,     551,     933,\n",
      "           590,     451,     560,     426,     459,     685,     423,\n",
      "           402,    1430,     509,     515,     580,     537,     523,\n",
      "           648,     419,     747,    3141,    1160,     811,    1512,\n",
      "           854,     764,     958,     985,     884,    2154,     898,\n",
      "           868,    1397,    1031,     885,    1991,    1102,    1138,\n",
      "          1789,    1201,    1374,    5356,    2025,    2060,    2123,\n",
      "          2062,    1770,    3958,    2135,    2655,    2913,    2524,\n",
      "          2087,    4829,    2579,    3658,    5243,    4040,    3745,\n",
      "          7212,    4243,    6061,   12095,    9065,    6841,   12136,\n",
      "          8473,   10541,   12268,   12947,   11749,   19994,   14296,\n",
      "         18481,   24185,   24766,   25845,   40354,   40319,   54946,\n",
      "         69464,   92925,  140326, 6654551,   97939,   85345,   54986,\n",
      "         42298,   25892,   29799,   13552,   15532,   13865,   10188,\n",
      "          6678,   11254,    4732,    5148,    6564,    4207,    2955,\n",
      "          6108,    2158,    2930,    5283,    1960,    1424,    3688,\n",
      "          1375,    1225,    2341,    1181,     807,    2059,     633,\n",
      "           913,    1081,     608,     642,    1963,     479,     489,\n",
      "           696,     514,     418,    1690,     297,     375,     679,\n",
      "           277,     322,     795,     264,     291,     422,     258,\n",
      "           262,     792,     256,     250,     256,     188,     164,\n",
      "           359,     164,     168,     638,     156,     132,     204,\n",
      "           127,     130,     164,     134,     114,     321,     100,\n",
      "           101,     136,      77,      56,      97,      67,      57,\n",
      "            94,      45,      66,     204,      41,      34,      51,\n",
      "            47,      31,      83,      31,      28,      35,      23,\n",
      "            26,      61,      24,      32,      44,      32,      22,\n",
      "            41,      27,      39,      80,      34,      27,      50,\n",
      "            16,      15,      18,      17,      17,      19,      17,\n",
      "            16,      16,      14,       8,      34,      11,      10,\n",
      "             8,      11,      17,      38,       8,       8,      11,\n",
      "             9,      13,       7,       7,       8,      32,       7,\n",
      "             8,       7,       6,       8,      10,       6,      10,\n",
      "             9,       7,       6,      18,       3,       2,       8,\n",
      "             1,       5,       8,       6,       7,       7,       3,\n",
      "             4,       4,       4,       2,       3,       5,       4,\n",
      "             5,       3,       2,      11,       4,       3,       4,\n",
      "             4,       3,       5,       5,       1,       1,       3,\n",
      "             1,       3,       1,       2,       1,       1,       2,\n",
      "             2,       2,       3,       2,       1,       1,       2,\n",
      "             1,       3,       1,       3,       1,       3,       1,\n",
      "             2,       2,       2,       1,       1,       2,       1,\n",
      "             1,       1,       1,       1,       1,       1,       1,\n",
      "             2,       1,       1,       1,       1,       1,       1,\n",
      "             1,       1,       1]))\n"
     ]
    }
   ],
   "source": [
    "# for field in y['variants'].keys():\n",
    "for field in ['svlen']:\n",
    "    print(field, np.unique(y['variants'][field], return_counts=True))"
   ]
  },
  {
   "cell_type": "code",
   "execution_count": null,
   "metadata": {
    "collapsed": true
   },
   "outputs": [],
   "source": []
  },
  {
   "cell_type": "code",
   "execution_count": null,
   "metadata": {
    "collapsed": true
   },
   "outputs": [],
   "source": []
  },
  {
   "cell_type": "code",
   "execution_count": null,
   "metadata": {
    "collapsed": true
   },
   "outputs": [],
   "source": []
  },
  {
   "cell_type": "code",
   "execution_count": null,
   "metadata": {
    "collapsed": true
   },
   "outputs": [],
   "source": []
  },
  {
   "cell_type": "code",
   "execution_count": 11,
   "metadata": {
    "collapsed": false
   },
   "outputs": [
    {
     "name": "stdout",
     "output_type": "stream",
     "text": [
      "/bin/sh: line 1: 14116 Segmentation fault      vcfnpy2hdf5 --vcf /lustre/scratch109/malaria/rp7/data/methods-dev/builds/Pf6.0/20161125_Pf60_final_vcfs/vcf/Pf_60_Pf_M76611.final.vcf.gz --input-dir /lustre/scratch111/malaria/rp7/data/methods-dev/builds/Pf6.0/20161127_HDF5_build/npy_subset --output /lustre/scratch111/malaria/rp7/data/methods-dev/builds/Pf6.0/20161127_HDF5_build/hdf5/Pf_60_subset_10pc.h5 --chunk-size 8388608 --chunk-width 200 --compression gzip --compression-opts 1 &>>/lustre/scratch111/malaria/rp7/data/methods-dev/builds/Pf6.0/20161127_HDF5_build/hdf5/Pf_60_subset_10pc.h5.log\r\n"
     ]
    }
   ],
   "source": [
    "!vcfnpy2hdf5 \\\n",
    "    --vcf {vcf_fn} \\\n",
    "    --input-dir {output_dir}/npy_no_PID_PGT_10pc \\\n",
    "    --output {output_dir}/hdf5/Pf_60_no_PID_PGT_10pc.h5 \\\n",
    "    --chunk-size 8388608 \\\n",
    "    --chunk-width 200 \\\n",
    "    --compression gzip \\\n",
    "    --compression-opts 1 \\\n",
    "    &>> {output_dir}/hdf5/Pf_60_no_PID_PGT_10pc.h5.log\n",
    "\n",
    "!md5sum {output_dir}/hdf5/Pf_60_no_PID_PGT_10pc.h5 > {output_dir}/hdf5/Pf_60_no_PID_PGT_10pc.h5.md5 \n"
   ]
  },
  {
   "cell_type": "code",
   "execution_count": null,
   "metadata": {
    "collapsed": true
   },
   "outputs": [],
   "source": []
  },
  {
   "cell_type": "code",
   "execution_count": null,
   "metadata": {
    "collapsed": true
   },
   "outputs": [],
   "source": []
  },
  {
   "cell_type": "code",
   "execution_count": 10,
   "metadata": {
    "collapsed": true
   },
   "outputs": [],
   "source": [
    "!vcfnpy2hdf5 \\\n",
    "    --vcf {vcf_fn} \\\n",
    "    --input-dir {output_dir}/npy_subset_1pc \\\n",
    "    --output {output_dir}/hdf5/Pf_60_subset_1pc.h5 \\\n",
    "    --chunk-size 8388608 \\\n",
    "    --chunk-width 200 \\\n",
    "    --compression gzip \\\n",
    "    --compression-opts 1 \\\n",
    "    &>> {output_dir}/hdf5/Pf_60_subset_1pc.h5.log\n",
    "\n",
    "!md5sum {output_dir}/hdf5/Pf_60_subset_1pc.h5 > {output_dir}/hdf5/Pf_60_subset_1pc.h5.md5 \n"
   ]
  },
  {
   "cell_type": "code",
   "execution_count": 11,
   "metadata": {
    "collapsed": false
   },
   "outputs": [
    {
     "name": "stdout",
     "output_type": "stream",
     "text": [
      "/bin/sh: line 1: 14116 Segmentation fault      vcfnpy2hdf5 --vcf /lustre/scratch109/malaria/rp7/data/methods-dev/builds/Pf6.0/20161125_Pf60_final_vcfs/vcf/Pf_60_Pf_M76611.final.vcf.gz --input-dir /lustre/scratch111/malaria/rp7/data/methods-dev/builds/Pf6.0/20161127_HDF5_build/npy_subset --output /lustre/scratch111/malaria/rp7/data/methods-dev/builds/Pf6.0/20161127_HDF5_build/hdf5/Pf_60_subset_10pc.h5 --chunk-size 8388608 --chunk-width 200 --compression gzip --compression-opts 1 &>>/lustre/scratch111/malaria/rp7/data/methods-dev/builds/Pf6.0/20161127_HDF5_build/hdf5/Pf_60_subset_10pc.h5.log\r\n"
     ]
    }
   ],
   "source": [
    "!vcfnpy2hdf5 \\\n",
    "    --vcf {vcf_fn} \\\n",
    "    --input-dir {output_dir}/npy_subset \\\n",
    "    --output {output_dir}/hdf5/Pf_60_subset_10pc.h5 \\\n",
    "    --chunk-size 8388608 \\\n",
    "    --chunk-width 200 \\\n",
    "    --compression gzip \\\n",
    "    --compression-opts 1 \\\n",
    "    &>> {output_dir}/hdf5/Pf_60_subset_10pc.h5.log\n",
    "\n",
    "!md5sum {output_dir}/hdf5/Pf_60_subset_10pc.h5 > {output_dir}/hdf5/Pf_60_subset_10pc.h5.md5 \n"
   ]
  },
  {
   "cell_type": "code",
   "execution_count": 11,
   "metadata": {
    "collapsed": false
   },
   "outputs": [
    {
     "name": "stdout",
     "output_type": "stream",
     "text": [
      "/bin/sh: line 1: 14116 Segmentation fault      vcfnpy2hdf5 --vcf /lustre/scratch109/malaria/rp7/data/methods-dev/builds/Pf6.0/20161125_Pf60_final_vcfs/vcf/Pf_60_Pf_M76611.final.vcf.gz --input-dir /lustre/scratch111/malaria/rp7/data/methods-dev/builds/Pf6.0/20161127_HDF5_build/npy_subset --output /lustre/scratch111/malaria/rp7/data/methods-dev/builds/Pf6.0/20161127_HDF5_build/hdf5/Pf_60_subset_10pc.h5 --chunk-size 8388608 --chunk-width 200 --compression gzip --compression-opts 1 &>>/lustre/scratch111/malaria/rp7/data/methods-dev/builds/Pf6.0/20161127_HDF5_build/hdf5/Pf_60_subset_10pc.h5.log\r\n"
     ]
    }
   ],
   "source": [
    "!vcfnpy2hdf5 \\\n",
    "    --vcf {vcf_fn} \\\n",
    "    --input-dir {output_dir}/npy_subset \\\n",
    "    --output {output_dir}/hdf5/Pf_60_subset_10pc.h5 \\\n",
    "    --chunk-size 8388608 \\\n",
    "    --chunk-width 200 \\\n",
    "    --compression gzip \\\n",
    "    --compression-opts 1 \\\n",
    "    &>> {output_dir}/hdf5/Pf_60_subset_10pc.h5.log\n",
    "\n",
    "!md5sum {output_dir}/hdf5/Pf_60_subset_10pc.h5 > {output_dir}/hdf5/Pf_60_subset_10pc.h5.md5 \n"
   ]
  },
  {
   "cell_type": "code",
   "execution_count": 9,
   "metadata": {
    "collapsed": false
   },
   "outputs": [
    {
     "name": "stdout",
     "output_type": "stream",
     "text": [
      "+ set -e\n",
      "+ set -o pipefail\n",
      "+ vcf=/lustre/scratch109/malaria/rp7/data/methods-dev/builds/Pf6.0/20161125_Pf60_final_vcfs/vcf/Pf_60_Pf_M76611.final.vcf.gz\n",
      "+ outbase=/lustre/scratch111/malaria/rp7/data/methods-dev/builds/Pf6.0/20161127_HDF5_build/hdf5/Pf_60\n",
      "+ inputs=/lustre/scratch111/malaria/rp7/data/methods-dev/builds/Pf6.0/20161127_HDF5_build/npy\n",
      "+ output=/lustre/scratch111/malaria/rp7/data/methods-dev/builds/Pf6.0/20161127_HDF5_build/hdf5/Pf_60.h5\n",
      "+ log=/lustre/scratch111/malaria/rp7/data/methods-dev/builds/Pf6.0/20161127_HDF5_build/hdf5/Pf_60.h5.log\n",
      "+ '[' -f /lustre/scratch111/malaria/rp7/data/methods-dev/builds/Pf6.0/20161127_HDF5_build/hdf5/Pf_60.h5.md5 ']'\n",
      "++ date\n",
      "+ echo Sun Nov 27 10:53:45 GMT 2016 building\n",
      "+ vcfnpy2hdf5 --vcf /lustre/scratch109/malaria/rp7/data/methods-dev/builds/Pf6.0/20161125_Pf60_final_vcfs/vcf/Pf_60_Pf_M76611.final.vcf.gz --input-dir /lustre/scratch111/malaria/rp7/data/methods-dev/builds/Pf6.0/20161127_HDF5_build/npy --output /lustre/scratch111/malaria/rp7/data/methods-dev/builds/Pf6.0/20161127_HDF5_build/hdf5/Pf_60.h5 --chunk-size 8388608 --chunk-width 200 --compression gzip --compression-opts 1\n",
      "/lustre/scratch111/malaria/rp7/data/methods-dev/builds/Pf6.0/20161127_HDF5_build/scripts/vcfnp_concat.sh: line 23: 25912 Segmentation fault      vcfnpy2hdf5 --vcf $vcf --input-dir $inputs --output $output --chunk-size 8388608 --chunk-width 200 --compression gzip --compression-opts 1 &>>$log\n"
     ]
    }
   ],
   "source": [
    "!{output_dir}/scripts/vcfnp_concat.sh {vcf_fn} {output_dir}/hdf5/Pf_60"
   ]
  },
  {
   "cell_type": "code",
   "execution_count": 6,
   "metadata": {
    "collapsed": false
   },
   "outputs": [],
   "source": [
    "fo = open(\"%s/scripts/vcfnp_concat.sh\" % output_dir, 'w')\n",
    "print('''#!/bin/bash\n",
    "\n",
    "set -x\n",
    "set -e\n",
    "set -o pipefail\n",
    "\n",
    "vcf=$1\n",
    "outbase=$2\n",
    "# inputs=${vcf}.vcfnp_cache\n",
    "inputs=%s/npy\n",
    "output=${outbase}.h5\n",
    "\n",
    "log=${output}.log\n",
    "\n",
    "if [ -f ${output}.md5 ]\n",
    "then\n",
    "    echo $(date) skipping $chrom >> $log\n",
    "else\n",
    "    echo $(date) building $chrom > $log\n",
    "    vcfnpy2hdf5 \\\n",
    "        --vcf $vcf \\\n",
    "        --input-dir $inputs \\\n",
    "        --output $output \\\n",
    "        --chunk-size 8388608 \\\n",
    "        --chunk-width 200 \\\n",
    "        --compression gzip \\\n",
    "        --compression-opts 1 \\\n",
    "        &>> $log\n",
    "        \n",
    "    md5sum $output > ${output}.md5 \n",
    "fi''' % (\n",
    "        output_dir,\n",
    "        )\n",
    "      , file=fo)\n",
    "fo.close()\n",
    "\n",
    "#     nv=$(ls -1 ${inputs}/v* | wc -l)\n",
    "#     nc=$(ls -1 ${inputs}/c* | wc -l)\n",
    "#     echo variants files $nv >> $log\n",
    "#     echo calldata files $nc >> $log\n",
    "#     if [ \"$nv\" -ne \"$nc\" ]\n",
    "#     then\n",
    "#         echo missing npy files\n",
    "#         exit 1\n",
    "#     fi\n"
   ]
  },
  {
   "cell_type": "markdown",
   "metadata": {},
   "source": [
    "# Copy files to /nfs"
   ]
  },
  {
   "cell_type": "code",
   "execution_count": 3,
   "metadata": {
    "collapsed": true
   },
   "outputs": [],
   "source": [
    "!cp {output_dir}/hdf5/Pf_60_npy_PID_a12.h5 {nfs_final_hdf5_dir}/Pf_60.h5\n",
    "!cp {output_dir}/hdf5/Pf_60_npy_PID_a12.h5.md5 {nfs_final_hdf5_dir}/Pf_60.h5.md5\n"
   ]
  },
  {
   "cell_type": "code",
   "execution_count": null,
   "metadata": {
    "collapsed": true
   },
   "outputs": [],
   "source": []
  }
 ],
 "metadata": {
  "kernelspec": {
   "display_name": "Python 3",
   "language": "python",
   "name": "python3"
  },
  "language_info": {
   "codemirror_mode": {
    "name": "ipython",
    "version": 3
   },
   "file_extension": ".py",
   "mimetype": "text/x-python",
   "name": "python",
   "nbconvert_exporter": "python",
   "pygments_lexer": "ipython3",
   "version": "3.5.2"
  }
 },
 "nbformat": 4,
 "nbformat_minor": 1
}
