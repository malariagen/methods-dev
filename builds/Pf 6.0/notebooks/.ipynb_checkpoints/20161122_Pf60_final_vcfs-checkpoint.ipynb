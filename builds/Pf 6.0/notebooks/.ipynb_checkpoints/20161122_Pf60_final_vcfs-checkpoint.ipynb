{
 "cells": [
  {
   "cell_type": "markdown",
   "metadata": {},
   "source": [
    "# Plan\n",
    "- Create annotated versions (CDS, VARIANT_TYPE, MULTIALLELIC) of chromosome vcfs ala Pf3k, including only fields from 31/10/2016 11:56 email\n",
    "- Create WG sites files\n",
    "- Create summary tables ala Pf3k"
   ]
  },
  {
   "cell_type": "code",
   "execution_count": 1,
   "metadata": {
    "collapsed": false
   },
   "outputs": [
    {
     "name": "stdout",
     "output_type": "stream",
     "text": [
      "python 3.4.5 |Anaconda 2.2.0 (64-bit)| (default, Jul  2 2016, 17:47:47) \n",
      "[GCC 4.4.7 20120313 (Red Hat 4.4.7-1)]\n",
      "numpy 1.11.1\n",
      "scipy 0.18.0\n",
      "pandas 0.19.0\n",
      "numexpr 2.6.1\n",
      "pysam 0.9.1.4\n",
      "petl 1.1.0\n",
      "petlx 1.0.3\n",
      "vcf 0.6.8\n",
      "vcfnp 2.3.0.dev0\n",
      "h5py 2.4.0\n",
      "tables 3.1.1\n"
     ]
    }
   ],
   "source": [
    "%run _standard_imports.ipynb\n",
    "%run _plotting_setup.ipynb\n"
   ]
  },
  {
   "cell_type": "code",
   "execution_count": 53,
   "metadata": {
    "collapsed": false
   },
   "outputs": [],
   "source": [
    "output_dir = '/lustre/scratch109/malaria/rp7/data/methods-dev/builds/Pf6.0/20161122_Pf60_final_vcfs'\n",
    "vrpipe_vcfs_dir = '/nfs/team112_internal/production_files/Pf/6_0'\n",
    "\n",
    "gff_fn = \"/lustre/scratch116/malaria/pfalciparum/resources/snpEff/data/Pfalciparum_GeneDB_Oct2016/Pfalciparum.noseq.gff3\"\n",
    "cds_gff_fn = \"%s/gff/Pfalciparum_GeneDB_Oct2016.Pfalciparum.noseq.gff3.cds.gz\" % output_dir\n",
    "annotations_header_fn = \"%s/intermediate_files/annotations.hdr\" % (output_dir)\n",
    "\n",
    "run_create_multiallelics_file_job_fn = \"%s/scripts/run_create_multiallelics_file_job.sh\" % output_dir\n",
    "submit_create_multiallelics_file_jobs_fn = \"%s/scripts/submit_create_multiallelics_file_jobs.sh\" % output_dir\n",
    "\n",
    "\n",
    "GENOME_FN = \"/lustre/scratch116/malaria/pfalciparum/resources/Pfalciparum.genome.fasta\"\n",
    "BCFTOOLS = '/nfs/team112_internal/rp7/src/github/malariagen/methods-dev/pf3k_techbm/opt_4/bcftools/bcftools'\n",
    "\n",
    "!mkdir -p {output_dir}/gff\n",
    "!mkdir -p {output_dir}/vcf\n",
    "!mkdir -p {output_dir}/intermediate_files\n",
    "!mkdir -p {output_dir}/tables\n",
    "!mkdir -p {output_dir}/scripts\n",
    "!mkdir -p {output_dir}/log\n",
    "\n"
   ]
  },
  {
   "cell_type": "code",
   "execution_count": 21,
   "metadata": {
    "collapsed": false
   },
   "outputs": [
    {
     "data": {
      "text/plain": [
       "'/lustre/scratch109/malaria/rp7/data/methods-dev/builds/Pf6.0/20161122_Pf60_final_vcfs/gff/Pfalciparum_GeneDB_Oct2016.Pfalciparum.noseq.gff3.cds.gz'"
      ]
     },
     "execution_count": 21,
     "metadata": {},
     "output_type": "execute_result"
    }
   ],
   "source": [
    "cds_gff_fn"
   ]
  },
  {
   "cell_type": "code",
   "execution_count": 7,
   "metadata": {
    "collapsed": false
   },
   "outputs": [
    {
     "data": {
      "text/plain": [
       "'/lustre/scratch109/malaria/rp7/data/methods-dev/builds/Pf6.0/20161122_Pf60_final_vcfs/scripts/run_create_multiallelics_file_job.sh'"
      ]
     },
     "execution_count": 7,
     "metadata": {},
     "output_type": "execute_result"
    }
   ],
   "source": [
    "run_create_multiallelics_file_job_fn"
   ]
  },
  {
   "cell_type": "code",
   "execution_count": 4,
   "metadata": {
    "collapsed": true
   },
   "outputs": [],
   "source": [
    "!grep CDS {gff_fn} | sort -k1,1 -k4n,5n | cut -f 1,4,5 | sed 's/$/\\t1/' | bgzip -c > {cds_gff_fn} && tabix -s1 -b2 -e3 {cds_gff_fn}"
   ]
  },
  {
   "cell_type": "code",
   "execution_count": 46,
   "metadata": {
    "collapsed": true
   },
   "outputs": [],
   "source": [
    "fo=open(annotations_header_fn, 'w')\n",
    "print('##INFO=<ID=CDS,Number=0,Type=Flag,Description=\"Is position coding\">', file=fo)\n",
    "print('##INFO=<ID=VARIANT_TYPE,Number=1,Type=String,Description=\"SNP or indel (INDEL)\">', file=fo)\n",
    "print('##INFO=<ID=MULTIALLELIC,Number=1,Type=String,Description=\"Is position biallelic (BI), biallelic plus spanning deletion (SD) or truly multiallelic (MU)\">', file=fo)\n",
    "fo.close()"
   ]
  },
  {
   "cell_type": "code",
   "execution_count": 47,
   "metadata": {
    "collapsed": false
   },
   "outputs": [],
   "source": [
    "fo = open(run_create_multiallelics_file_job_fn, 'w')\n",
    "print('''FASTA_FAI_FILE=%s.fai\n",
    " \n",
    "# JOB=$LSB_JOBINDEX\n",
    "JOB=16\n",
    " \n",
    "IN=`sed \"$JOB q;d\" $FASTA_FAI_FILE`\n",
    "read -a LINE <<< \"$IN\"\n",
    "CHROM=${LINE[0]}\n",
    "\n",
    "INPUT_SITES_VCF_FN=%s/SNP_INDEL_$CHROM.combined.filtered.vcf.gz\n",
    "INPUT_FULL_VCF_FN=%s/vcf/SNP_INDEL_$CHROM.combined.filtered.vcf.gz\n",
    "MULTIALLELIC_FN=%s/intermediate_files/SNP_INDEL_$CHROM.combined.filtered.multiallelic.txt\n",
    "SNPS_FN=%s/intermediate_files/SNP_INDEL_$CHROM.combined.filtered.snps.txt.gz\n",
    "INDELS_FN=%s/intermediate_files/SNP_INDEL_$CHROM.combined.filtered.indels.txt.gz\n",
    "ANNOTATION_FN=%s/intermediate_files/SNP_INDEL_$CHROM.combined.filtered.annotated.vcf.gz\n",
    "NORMALISED_ANNOTATION_FN=%s/intermediate_files/SNP_INDEL_$CHROM.combined.filtered.annotated.normalised.vcf.gz\n",
    "OUTPUT_VCF_FN=%s/vcf/Pf_60_$CHROM.final.vcf.gz\n",
    "\n",
    "# echo $INPUT_VCF_FN\n",
    "# echo $OUTPUT_TXT_FN\n",
    " \n",
    "/nfs/users/nfs_r/rp7/anaconda3/bin/python /nfs/team112_internal/rp7/src/github/malariagen/methods-dev/builds/Pf\\ 6.0/scripts/create_multiallelics_file.py \\\n",
    "-i $INPUT_SITES_VCF_FN -o $MULTIALLELIC_FN\n",
    "\n",
    "bgzip -f $MULTIALLELIC_FN && tabix -s1 -b2 -e2 $MULTIALLELIC_FN.gz\n",
    "\n",
    "/nfs/team112_internal/rp7/src/github/malariagen/methods-dev/pf3k_techbm/opt_4/bcftools/bcftools query \\\n",
    "-f'%%CHROM\\t%%POS\\t%%REF\\t%%ALT\\tSNP\\n' --include 'TYPE=\"snp\"' $INPUT_SITES_VCF_FN | \\\n",
    "bgzip -c > $SNPS_FN && tabix -s1 -b2 -e2 -f $SNPS_FN\n",
    "\n",
    "/nfs/team112_internal/rp7/src/github/malariagen/methods-dev/pf3k_techbm/opt_4/bcftools/bcftools query \\\n",
    "-f'%%CHROM\\t%%POS\\t%%REF\\t%%ALT\\tINDEL\\n' --include 'TYPE!=\"snp\"' $INPUT_SITES_VCF_FN | \\\n",
    "bgzip -c > $INDELS_FN && tabix -s1 -b2 -e2 -f $INDELS_FN\n",
    "\n",
    "/nfs/team112_internal/rp7/src/github/malariagen/methods-dev/pf3k_techbm/opt_4/bcftools/bcftools annotate \\\n",
    "-a %s -c CHROM,FROM,TO,CDS -h %s $INPUT_SITES_VCF_FN | \\\n",
    "/nfs/team112_internal/rp7/src/github/malariagen/methods-dev/pf3k_techbm/opt_4/bcftools/bcftools annotate \\\n",
    "-a $SNPS_FN -c CHROM,POS,REF,ALT,INFO/VARIANT_TYPE | \\\n",
    "/nfs/team112_internal/rp7/src/github/malariagen/methods-dev/pf3k_techbm/opt_4/bcftools/bcftools annotate \\\n",
    "-a $INDELS_FN -c CHROM,POS,REF,ALT,INFO/VARIANT_TYPE | \\\n",
    "/nfs/team112_internal/rp7/src/github/malariagen/methods-dev/pf3k_techbm/opt_4/bcftools/bcftools annotate \\\n",
    "-a $MULTIALLELIC_FN.gz -c CHROM,POS,REF,ALT,INFO/MULTIALLELIC \\\n",
    "--remove ^INFO/AC,INFO/AN,INFO/QD,INFO/MQ,INFO/FS,INFO/SOR,INFO/DP,INFO/VariantType,INFO/VQSLOD,INFO/RegionType,\\\n",
    "INFO/SNPEFF_AMINO_ACID_CHANGE,INFO/SNPEFF_CODON_CHANGE,INFO/SNPEFF_EFFECT,INFO/SNPEFF_EXON_ID,\\\n",
    "INFO/SNPEFF_FUNCTIONAL_CLASS,INFO/SNPEFF_GENE_NAME,INFO/SNPEFF_IMPACT,INFO/SNPEFF_TRANSCRIPT_ID,\\\n",
    "INFO/CDS,INFO/VARIANT_TYPE,INFO/MULTIALLELIC \\\n",
    "-Oz -o $ANNOTATION_FN\n",
    "\n",
    "/nfs/team112_internal/rp7/src/github/malariagen/methods-dev/pf3k_techbm/opt_4/bcftools/bcftools index --tbi \\\n",
    "$ANNOTATION_FN\n",
    "\n",
    "/nfs/team112_internal/rp7/src/github/malariagen/methods-dev/pf3k_techbm/opt_4/bcftools/bcftools norm \\\n",
    "-m -any --fasta-ref %s $INPUT_SITES_VCF_FN | \\\n",
    "/nfs/team112_internal/rp7/src/github/malariagen/methods-dev/pf3k_techbm/opt_4/bcftools/bcftools view \\\n",
    "--include 'ALT!=\"*\"' | \\\n",
    "/nfs/team112_internal/rp7/src/github/malariagen/methods-dev/pf3k_techbm/opt_4/bcftools/bcftools annotate \\\n",
    "-h %s \\\n",
    "-a $ANNOTATION_FN -c CDS,VARIANT_TYPE,MULTIALLELIC \\\n",
    "--include 'INFO/AC>0' \\\n",
    "--remove ^INFO/AC,INFO/AN,INFO/AF,INFO/VQSLOD -Oz -o $NORMALISED_ANNOTATION_FN\n",
    "\n",
    "# /nfs/team112_internal/rp7/src/github/malariagen/methods-dev/pf3k_techbm/opt_4/bcftools/bcftools index --tbi \\\n",
    "# $NORMALISED_ANNOTATION_FN\n",
    "\n",
    "''' % (\n",
    "        GENOME_FN,\n",
    "        vrpipe_vcfs_dir,\n",
    "        vrpipe_vcfs_dir,\n",
    "        output_dir,\n",
    "        output_dir,\n",
    "        output_dir,\n",
    "        output_dir,\n",
    "        output_dir,\n",
    "        output_dir,\n",
    "        cds_gff_fn,\n",
    "        annotations_header_fn,\n",
    "        GENOME_FN,\n",
    "        annotations_header_fn,\n",
    "        )\n",
    "        , file=fo)\n",
    "fo.close()\n"
   ]
  },
  {
   "cell_type": "code",
   "execution_count": 48,
   "metadata": {
    "collapsed": false
   },
   "outputs": [],
   "source": [
    "fo = open(run_create_multiallelics_file_job_fn, 'w')\n",
    "print('''FASTA_FAI_FILE=%s.fai\n",
    " \n",
    "JOB=$LSB_JOBINDEX\n",
    "# JOB=16\n",
    " \n",
    "IN=`sed \"$JOB q;d\" $FASTA_FAI_FILE`\n",
    "read -a LINE <<< \"$IN\"\n",
    "CHROM=${LINE[0]}\n",
    "\n",
    "INPUT_SITES_VCF_FN=%s/SNP_INDEL_$CHROM.combined.filtered.vcf.gz\n",
    "INPUT_FULL_VCF_FN=%s/vcf/SNP_INDEL_$CHROM.combined.filtered.vcf.gz\n",
    "MULTIALLELIC_FN=%s/intermediate_files/SNP_INDEL_$CHROM.combined.filtered.multiallelic.txt\n",
    "SNPS_FN=%s/intermediate_files/SNP_INDEL_$CHROM.combined.filtered.snps.txt.gz\n",
    "INDELS_FN=%s/intermediate_files/SNP_INDEL_$CHROM.combined.filtered.indels.txt.gz\n",
    "ANNOTATION_FN=%s/intermediate_files/SNP_INDEL_$CHROM.combined.filtered.annotated.txt.gz\n",
    "NORMALISED_ANNOTATION_FN=%s/intermediate_files/SNP_INDEL_$CHROM.combined.filtered.annotated.normalised.vcf.gz\n",
    "OUTPUT_VCF_FN=%s/vcf/Pf_60_$CHROM.final.vcf.gz\n",
    "\n",
    "# echo $INPUT_VCF_FN\n",
    "# echo $OUTPUT_TXT_FN\n",
    " \n",
    "/nfs/users/nfs_r/rp7/anaconda3/bin/python /nfs/team112_internal/rp7/src/github/malariagen/methods-dev/builds/Pf\\ 6.0/scripts/create_multiallelics_file.py \\\n",
    "-i $INPUT_SITES_VCF_FN -o $MULTIALLELIC_FN\n",
    "\n",
    "bgzip -f $MULTIALLELIC_FN && tabix -s1 -b2 -e2 $MULTIALLELIC_FN.gz\n",
    "\n",
    "/nfs/team112_internal/rp7/src/github/malariagen/methods-dev/pf3k_techbm/opt_4/bcftools/bcftools query \\\n",
    "-f'%%CHROM\\t%%POS\\t%%REF\\t%%ALT\\tSNP\\n' --include 'TYPE=\"snp\"' $INPUT_SITES_VCF_FN | \\\n",
    "bgzip -c > $SNPS_FN && tabix -s1 -b2 -e2 -f $SNPS_FN\n",
    "\n",
    "/nfs/team112_internal/rp7/src/github/malariagen/methods-dev/pf3k_techbm/opt_4/bcftools/bcftools query \\\n",
    "-f'%%CHROM\\t%%POS\\t%%REF\\t%%ALT\\tINDEL\\n' --include 'TYPE!=\"snp\"' $INPUT_SITES_VCF_FN | \\\n",
    "bgzip -c > $INDELS_FN && tabix -s1 -b2 -e2 -f $INDELS_FN\n",
    "\n",
    "/nfs/team112_internal/rp7/src/github/malariagen/methods-dev/pf3k_techbm/opt_4/bcftools/bcftools annotate \\\n",
    "-a %s -c CHROM,FROM,TO,CDS -h %s $INPUT_SITES_VCF_FN | \\\n",
    "/nfs/team112_internal/rp7/src/github/malariagen/methods-dev/pf3k_techbm/opt_4/bcftools/bcftools annotate \\\n",
    "-a $SNPS_FN -c CHROM,POS,REF,ALT,INFO/VARIANT_TYPE | \\\n",
    "/nfs/team112_internal/rp7/src/github/malariagen/methods-dev/pf3k_techbm/opt_4/bcftools/bcftools annotate \\\n",
    "-a $INDELS_FN -c CHROM,POS,REF,ALT,INFO/VARIANT_TYPE | \\\n",
    "/nfs/team112_internal/rp7/src/github/malariagen/methods-dev/pf3k_techbm/opt_4/bcftools/bcftools annotate \\\n",
    "-a $MULTIALLELIC_FN.gz -c CHROM,POS,REF,ALT,INFO/MULTIALLELIC | \\\n",
    "/nfs/team112_internal/rp7/src/github/malariagen/methods-dev/pf3k_techbm/opt_4/bcftools/bcftools query \\\n",
    "-f'%%CHROM\\t%%POS\\t%%REF\\t%%ALT\\t%%CDS\\t%%VARIANT_TYPE\\t%%MULTIALLELIC\\n' | \\\n",
    "bgzip -c > $ANNOTATION_FN\n",
    "\n",
    "tabix -s1 -b2 -e2 $ANNOTATION_FN\n",
    "\n",
    "#/nfs/team112_internal/rp7/src/github/malariagen/methods-dev/pf3k_techbm/opt_4/bcftools/bcftools index --tbi \\\n",
    "#$ANNOTATION_FN\n",
    "\n",
    "/nfs/team112_internal/rp7/src/github/malariagen/methods-dev/pf3k_techbm/opt_4/bcftools/bcftools norm \\\n",
    "-m -any --fasta-ref %s $INPUT_SITES_VCF_FN | \\\n",
    "/nfs/team112_internal/rp7/src/github/malariagen/methods-dev/pf3k_techbm/opt_4/bcftools/bcftools view \\\n",
    "--include 'ALT!=\"*\"' | \\\n",
    "/nfs/team112_internal/rp7/src/github/malariagen/methods-dev/pf3k_techbm/opt_4/bcftools/bcftools annotate \\\n",
    "-h %s \\\n",
    "-a $ANNOTATION_FN -c CHROM,POS,REF,ALT,CDS,VARIANT_TYPE,MULTIALLELIC \\\n",
    "--include 'INFO/AC>0' \\\n",
    "--remove ^INFO/AC,INFO/AN,INFO/AF,INFO/VQSLOD -Oz -o $NORMALISED_ANNOTATION_FN\n",
    "\n",
    "/nfs/team112_internal/rp7/src/github/malariagen/methods-dev/pf3k_techbm/opt_4/bcftools/bcftools index --tbi \\\n",
    "$NORMALISED_ANNOTATION_FN\n",
    "\n",
    "/nfs/team112_internal/rp7/src/github/malariagen/methods-dev/pf3k_techbm/opt_4/bcftools/bcftools annotate \\\n",
    "-a %s -c CHROM,FROM,TO,CDS -h %s $INPUT_FULL_VCF_FN | \\\n",
    "/nfs/team112_internal/rp7/src/github/malariagen/methods-dev/pf3k_techbm/opt_4/bcftools/bcftools annotate \\\n",
    "-a $SNPS_FN -c CHROM,POS,REF,ALT,INFO/VARIANT_TYPE | \\\n",
    "/nfs/team112_internal/rp7/src/github/malariagen/methods-dev/pf3k_techbm/opt_4/bcftools/bcftools annotate \\\n",
    "-a $INDELS_FN -c CHROM,POS,REF,ALT,INFO/VARIANT_TYPE | \\\n",
    "/nfs/team112_internal/rp7/src/github/malariagen/methods-dev/pf3k_techbm/opt_4/bcftools/bcftools annotate \\\n",
    "-a $MULTIALLELIC_FN.gz -c CHROM,POS,REF,ALT,INFO/MULTIALLELIC \\\n",
    "--remove ^INFO/AC,INFO/AN,INFO/QD,INFO/MQ,INFO/FS,INFO/SOR,INFO/DP,INFO/VariantType,INFO/VQSLOD,INFO/RegionType,\\\n",
    "INFO/SNPEFF_AMINO_ACID_CHANGE,INFO/SNPEFF_CODON_CHANGE,INFO/SNPEFF_EFFECT,INFO/SNPEFF_EXON_ID,\\\n",
    "INFO/SNPEFF_FUNCTIONAL_CLASS,INFO/SNPEFF_GENE_NAME,INFO/SNPEFF_IMPACT,INFO/SNPEFF_TRANSCRIPT_ID,\\\n",
    "INFO/CDS,INFO/VARIANT_TYPE,INFO/MULTIALLELIC,FORMAT/BCS \\\n",
    "-Oz -o $OUTPUT_VCF_FN\n",
    "\n",
    "/nfs/team112_internal/rp7/src/github/malariagen/methods-dev/pf3k_techbm/opt_4/bcftools/bcftools index --tbi \\\n",
    "$OUTPUT_VCF_FN\n",
    "\n",
    "''' % (\n",
    "        GENOME_FN,\n",
    "        vrpipe_vcfs_dir,\n",
    "        vrpipe_vcfs_dir,\n",
    "        output_dir,\n",
    "        output_dir,\n",
    "        output_dir,\n",
    "        output_dir,\n",
    "        output_dir,\n",
    "        output_dir,\n",
    "        cds_gff_fn,\n",
    "        annotations_header_fn,\n",
    "        GENOME_FN,\n",
    "        annotations_header_fn,\n",
    "        cds_gff_fn,\n",
    "        annotations_header_fn,\n",
    "        )\n",
    "        , file=fo)\n",
    "fo.close()\n"
   ]
  },
  {
   "cell_type": "code",
   "execution_count": 54,
   "metadata": {
    "collapsed": true
   },
   "outputs": [],
   "source": [
    "fo = open(submit_create_multiallelics_file_jobs_fn, 'w')\n",
    "print('''FASTA_FAI_FILE=%s.fai\n",
    "LOG_DIR=%s/log\n",
    " \n",
    "NUM_CHROMS=`wc -l < $FASTA_FAI_FILE`\n",
    "QUEUE=long\n",
    "\n",
    "bsub -q $QUEUE -G malaria-dk -J \"ma[1-$NUM_CHROMS]\" -R\"select[mem>2000] rusage[mem=2000] span[hosts=1]\" -M 2000 -o $LOG_DIR/output_%%J-%%I.log %s\n",
    "''' % (\n",
    "        GENOME_FN,\n",
    "        output_dir,\n",
    "        \"bash %s\" % run_create_multiallelics_file_job_fn,\n",
    "        ),\n",
    "     file=fo)\n",
    "fo.close()\n",
    "\n"
   ]
  },
  {
   "cell_type": "code",
   "execution_count": 55,
   "metadata": {
    "collapsed": false
   },
   "outputs": [
    {
     "name": "stdout",
     "output_type": "stream",
     "text": [
      "Job <8370294> is submitted to queue <long>.\r\n"
     ]
    }
   ],
   "source": [
    "!bash {submit_create_multiallelics_file_jobs_fn}"
   ]
  },
  {
   "cell_type": "code",
   "execution_count": null,
   "metadata": {
    "collapsed": true
   },
   "outputs": [],
   "source": []
  }
 ],
 "metadata": {
  "anaconda-cloud": {},
  "kernelspec": {
   "display_name": "Python 3",
   "language": "python",
   "name": "python3"
  },
  "language_info": {
   "codemirror_mode": {
    "name": "ipython",
    "version": 3
   },
   "file_extension": ".py",
   "mimetype": "text/x-python",
   "name": "python",
   "nbconvert_exporter": "python",
   "pygments_lexer": "ipython3",
   "version": "3.5.2"
  }
 },
 "nbformat": 4,
 "nbformat_minor": 1
}
