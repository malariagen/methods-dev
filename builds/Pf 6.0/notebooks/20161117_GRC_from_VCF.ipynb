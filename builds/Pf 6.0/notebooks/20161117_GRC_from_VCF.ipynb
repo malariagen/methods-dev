{
 "cells": [
  {
   "cell_type": "code",
   "execution_count": 2,
   "metadata": {
    "collapsed": false
   },
   "outputs": [
    {
     "name": "stdout",
     "output_type": "stream",
     "text": [
      "python 3.4.5 |Anaconda 2.2.0 (64-bit)| (default, Jul  2 2016, 17:47:47) \n",
      "[GCC 4.4.7 20120313 (Red Hat 4.4.7-1)]\n",
      "numpy 1.11.1\n",
      "scipy 0.18.0\n",
      "pandas 0.19.0\n",
      "numexpr 2.6.1\n",
      "pysam 0.9.1.4\n",
      "petl 1.1.0\n",
      "petlx 1.0.3\n",
      "vcf 0.6.8\n",
      "vcfnp 2.3.0.dev0\n",
      "h5py 2.4.0\n",
      "tables 3.1.1\n"
     ]
    }
   ],
   "source": [
    "%run _standard_imports.ipynb"
   ]
  },
  {
   "cell_type": "code",
   "execution_count": 3,
   "metadata": {
    "collapsed": false
   },
   "outputs": [],
   "source": [
    "scratch_dir = \"/lustre/scratch109/malaria/rp7/data/methods-dev/builds/Pf6.0/20161117_GRC_from_VCF\"\n",
    "output_dir = \"/nfs/team112_internal/rp7/data/methods-dev/builds/Pf6.0/20161117_GRC_from_VCF\"\n",
    "!mkdir -p {scratch_dir}\n",
    "!mkdir -p {output_dir}\n",
    "\n",
    "ref_fasta_fn = \"%s/Pfalciparum.genome.fasta\" % scratch_dir\n",
    "vcf_file_format = \"/nfs/team112_internal/production_files/Pf/6_0/vcf/SNP_INDEL_%s.combined.filtered.vcf.gz\"\n",
    "\n",
    "# See 20161115_run_Olivo_GRC.ipynb\n",
    "grc_properties_fn = '/nfs/team112_internal/rp7/data/methods-dev/builds/Pf6.0/20161117_run_Olivo_GRC/grc/grc.properties'\n",
    "\n",
    "grc_from_vcf_fn = \"%s/Pf_6_GRC_from_vcf.xlsx\" % output_dir"
   ]
  },
  {
   "cell_type": "code",
   "execution_count": 44,
   "metadata": {
    "collapsed": false
   },
   "outputs": [
    {
     "data": {
      "text/plain": [
       "'/nfs/team112_internal/rp7/data/methods-dev/builds/Pf6.0/20161115_GRC_from_VCF/Pf_6_GRC_from_vcf.xlsx'"
      ]
     },
     "execution_count": 44,
     "metadata": {},
     "output_type": "execute_result"
    }
   ],
   "source": [
    "grc_from_vcf_fn"
   ]
  },
  {
   "cell_type": "code",
   "execution_count": 3,
   "metadata": {
    "collapsed": true
   },
   "outputs": [],
   "source": [
    "# !cp /nfs/users/nfs_r/rp7/pf_60_mergelanes.txt {bam_fn}"
   ]
  },
  {
   "cell_type": "code",
   "execution_count": 9,
   "metadata": {
    "collapsed": true
   },
   "outputs": [],
   "source": [
    "!cp /lustre/scratch116/malaria/pfalciparum/resources/Pfalciparum.genome.fasta {ref_fasta_fn}"
   ]
  },
  {
   "cell_type": "code",
   "execution_count": 79,
   "metadata": {
    "collapsed": false
   },
   "outputs": [],
   "source": [
    "def call_haplotypes(target_name='crt_72-76', chrom='Pf3D7_07_v3', start=403612, end=403626, strand='+',\n",
    "    samples=None, positions_with_missingness=[403620, 403621], ref_fasta_fn=ref_fasta_fn, vcf_fn=None,\n",
    "    verbose=True, show_genotypes=False\n",
    "):\n",
    "    \n",
    "    from pyfasta import Fasta\n",
    "    from Bio.Seq import Seq\n",
    "    \n",
    "    if vcf_fn is None:\n",
    "        vcf_fn = vcf_file_format % chrom\n",
    "    \n",
    "    ref_sequence = Seq(Fasta(ref_fasta_fn)[chrom][start-1:end])\n",
    "    vcf_reader = vcf.Reader(filename=vcf_fn)\n",
    "    if samples is None:\n",
    "        samples = vcf_reader.samples\n",
    "    sample_sequences = collections.OrderedDict()\n",
    "    sample_offsets = collections.OrderedDict()\n",
    "    PID = collections.OrderedDict()\n",
    "    non_phased_het_seen = collections.OrderedDict()\n",
    "    genotype = collections.OrderedDict()\n",
    "    num_missing = collections.OrderedDict()\n",
    "    num_called = collections.OrderedDict()\n",
    "    for sample in samples:\n",
    "        sample_sequences[sample] = [ref_sequence.tomutable(), ref_sequence.tomutable()]\n",
    "        sample_offsets[sample] = [0, 0]\n",
    "        PID[sample] = ''\n",
    "        non_phased_het_seen[sample] = False\n",
    "        genotype[sample] = ''\n",
    "        num_missing[sample] = 0\n",
    "        num_called[sample] = 0\n",
    "\n",
    "    for record in vcf_reader.fetch(chrom, start-1, end):\n",
    "        if verbose:\n",
    "            print(record, record.FILTER)\n",
    "        for sample in samples:\n",
    "            if show_genotypes:\n",
    "                print(record.genotype(sample))\n",
    "            GT = record.genotype(sample)['GT']\n",
    "            POS = record.POS - start\n",
    "            if GT == './.':\n",
    "                if not record.POS in positions_with_missingness:\n",
    "                    num_missing[sample] += 1\n",
    "            else:\n",
    "                num_called[sample] += 1\n",
    "                if GT != '0/0':\n",
    "                    if GT[0] != GT[2]: # heterozygous call\n",
    "                        if 'PGT' in record.genotype(sample).data._fields:\n",
    "                            is_unphased = (record.genotype(sample)['PGT'] is None)\n",
    "                        else:\n",
    "                            is_unphased = True\n",
    "                        if non_phased_het_seen[sample]:\n",
    "                            print(\"Sample %s unphased het followed by het\" % sample)\n",
    "                            genotype[sample] = 'X'\n",
    "                        if is_unphased:\n",
    "                            non_phased_het_seen[sample] = True\n",
    "                        else:\n",
    "                            if PID[sample] == '':\n",
    "                                PID[sample] = record.genotype(sample)['PID']\n",
    "                            else:\n",
    "                                if record.genotype(sample)['PID'] != PID[sample]:\n",
    "                                    print(\"Sample %s two PIDs\" % sample)\n",
    "                                    genotype[sample] = '?'\n",
    "                            if record.genotype(sample)['PGT'] == '1|0':\n",
    "                                GT = GT[2] + '/' + GT[0]\n",
    "\n",
    "                    for i, sample_offset in enumerate(sample_offsets[sample]):\n",
    "                        alleles = [record.REF] + record.ALT\n",
    "                        GTint = int(GT[i*2])\n",
    "                        REF_len = len(record.REF)\n",
    "                        ALT_len = len(alleles[GTint])\n",
    "                        if alleles[GTint] != '*':\n",
    "                            sample_sequences[sample][i][POS+sample_offsets[sample][i]:(POS+sample_offsets[sample][i]+REF_len)] = alleles[GTint]\n",
    "                            sample_offsets[sample][i] = sample_offset + (len(alleles[GTint]) - len(record.REF))\n",
    "\n",
    "    for sample in samples:\n",
    "        if(show_genotypes):\n",
    "            print(sample_sequences[sample])\n",
    "        if genotype[sample] == '':\n",
    "            if num_missing[sample] > 0:\n",
    "                genotype[sample] = '-'\n",
    "            else:\n",
    "                if sample_sequences[sample][0] == sample_sequences[sample][1]:\n",
    "                    if strand == '+':\n",
    "                        genotype[sample] = ( str(sample_sequences[sample][0].toseq().translate())\n",
    "                                            if len(sample_sequences[sample][0]) % 3 == 0\n",
    "                                            else '!' )\n",
    "                    else:\n",
    "                        genotype[sample] = ( str(sample_sequences[sample][0].toseq().reverse_complement().translate())\n",
    "                                            if len(sample_sequences[sample][0]) % 3 == 0\n",
    "                                            else '!' )\n",
    "                else:\n",
    "                    if strand == '+':\n",
    "                        genotype[sample] = \"%s,%s\" % (\n",
    "                            ( str(sample_sequences[sample][0].toseq().translate())\n",
    "                             if len(sample_sequences[sample][0]) % 3 == 0\n",
    "                             else '!' ),\n",
    "                            ( str(sample_sequences[sample][1].toseq().translate())\n",
    "                             if len(sample_sequences[sample][1]) % 3 == 0\n",
    "                             else '!' )\n",
    "                        )\n",
    "                    else:\n",
    "                        genotype[sample] = \"%s,%s\" % (\n",
    "                            ( str(sample_sequences[sample][0].toseq().reverse_complement().translate())\n",
    "                             if len(sample_sequences[sample][0]) % 3 == 0\n",
    "                             else '!' ),\n",
    "                            ( str(sample_sequences[sample][1].toseq().reverse_complement().translate())\n",
    "                             if len(sample_sequences[sample][1]) % 3 == 0\n",
    "                             else '!' )\n",
    "                        )\n",
    "                \n",
    "    if strand == '+':\n",
    "        ref_haplotype = str(ref_sequence.translate())\n",
    "    else:\n",
    "        ref_haplotype = str(ref_sequence.reverse_complement().translate())\n",
    "\n",
    "    return(genotype, ref_haplotype)"
   ]
  },
  {
   "cell_type": "code",
   "execution_count": 5,
   "metadata": {
    "collapsed": true
   },
   "outputs": [],
   "source": [
    "def call_all_haplotypes(grc_properties_fn=grc_properties_fn):\n",
    "    results = collections.OrderedDict()\n",
    "    fi = open(grc_properties_fn, 'r')\n",
    "    for line in fi:\n",
    "        if line.startswith('grc.locus'):\n",
    "            locus_name = line.split('.')[2]\n",
    "            line_type = line.split('.')[3].split('=')[0]\n",
    "            if line_type == 'region':\n",
    "                chrom = line.split('.')[3].split('=')[1].split(':')[0]\n",
    "            if line_type == 'targets':\n",
    "                targets = line.split('=')[1].split(',')\n",
    "                for target in targets:\n",
    "                    target_name = target.split('@')[0]\n",
    "                    target_coords = target.split('@')[1]\n",
    "                    if target_coords.startswith('-'):\n",
    "                        strand = '-'\n",
    "                        target_coords = target_coords[1:]\n",
    "                    else:\n",
    "                        strand = '+'\n",
    "                    start, end = target_coords.split('-')\n",
    "                    print(\"\\n\", target_name)\n",
    "                    genotype, ref_haplotype = call_haplotypes(target_name, chrom, int(start), int(end), strand)\n",
    "                    locus_name = \"%s[%s]\" % (target_name, ref_haplotype)\n",
    "                    results[locus_name] = genotype\n",
    "    fi.close()\n",
    "    \n",
    "    tbl_results = (etl\n",
    "        .fromcolumns(\n",
    "            [list(results['crt_72-76[CVMNK]'].keys()), list(results['crt_72-76[CVMNK]'].values())],\n",
    "            header=['Sample', 'crt_72-76[CVMNK]']\n",
    "        )\n",
    "    )\n",
    "    for locus_name in list(results.keys())[1:]:\n",
    "        print(locus_name)\n",
    "        tbl_results = tbl_results.addcolumn(locus_name, results[locus_name].values())\n",
    "    \n",
    "    return(tbl_results)"
   ]
  },
  {
   "cell_type": "code",
   "execution_count": null,
   "metadata": {
    "collapsed": true
   },
   "outputs": [],
   "source": [
    "tbl_all_results = call_all_haplotypes()"
   ]
  },
  {
   "cell_type": "code",
   "execution_count": null,
   "metadata": {
    "collapsed": true
   },
   "outputs": [],
   "source": [
    "tbl_all_results.toxlsx(grc_from_vcf_fn)"
   ]
  },
  {
   "cell_type": "code",
   "execution_count": null,
   "metadata": {
    "collapsed": true
   },
   "outputs": [],
   "source": []
  },
  {
   "cell_type": "code",
   "execution_count": 86,
   "metadata": {
    "collapsed": false
   },
   "outputs": [
    {
     "name": "stdout",
     "output_type": "stream",
     "text": [
      "Record(CHROM=Pf3D7_07_v3, POS=403687, REF=C, ALT=[T]) []\n",
      "Call(sample=PA0093-C, CallData(GT=0/0, AD=[41, 0], BCS=[None, None, None, None], DP=41, GQ=99, PL=[0, 99, 1485]))\n",
      "Record(CHROM=Pf3D7_07_v3, POS=403688, REF=A, ALT=[T]) []\n",
      "Call(sample=PA0093-C, CallData(GT=0/0, AD=[41, 0], BCS=[None, None, None, None], DP=41, GQ=99, PGT=None, PID=None, PL=[0, 99, 1485]))\n",
      "Record(CHROM=Pf3D7_07_v3, POS=403689, REF=C, ALT=[A, T]) []\n",
      "Call(sample=PA0093-C, CallData(GT=0/0, AD=[41, 0, 0], BCS=[None, None, None, None], DP=41, GQ=99, PGT=None, PID=None, PL=[0, 99, 1485, 99, 1485, 1485]))\n",
      "[MutableSeq('cac', Alphabet()), MutableSeq('cac', Alphabet())]\n"
     ]
    },
    {
     "data": {
      "text/plain": [
       "(OrderedDict([('PA0093-C', 'H')]), 'H')"
      ]
     },
     "execution_count": 86,
     "metadata": {},
     "output_type": "execute_result"
    }
   ],
   "source": [
    "# Sanity checking crt_97 that has very few het calls. This one was het by reads which said all reads aligned\n",
    "# Will download bam to ascertain truth...\n",
    "call_haplotypes('crt_97', 'Pf3D7_07_v3', 403687, 403689, '+', samples=['PA0093-C'], show_genotypes=True)"
   ]
  },
  {
   "cell_type": "code",
   "execution_count": 89,
   "metadata": {
    "collapsed": false
   },
   "outputs": [
    {
     "name": "stdout",
     "output_type": "stream",
     "text": [
      "/lustre/scratch116/malaria/pfalciparum/output/9/7/4/2/36984/4_bam_mark_duplicates_v2/pe.1.markdup.bam\tPA0093-C\r\n"
     ]
    }
   ],
   "source": [
    "!grep PA0093 /nfs/users/nfs_r/rp7/pf_60_mergelanes.txt"
   ]
  },
  {
   "cell_type": "code",
   "execution_count": 87,
   "metadata": {
    "collapsed": false
   },
   "outputs": [
    {
     "name": "stdout",
     "output_type": "stream",
     "text": [
      "Record(CHROM=Pf3D7_07_v3, POS=403687, REF=C, ALT=[T]) []\n",
      "Call(sample=PH0905-C, CallData(GT=0/0, AD=[35, 0], BCS=[None, None, None, None], DP=35, GQ=96, PL=[0, 96, 1440]))\n",
      "Record(CHROM=Pf3D7_07_v3, POS=403688, REF=A, ALT=[T]) []\n",
      "Call(sample=PH0905-C, CallData(GT=0/0, AD=[35, 0], BCS=[None, None, None, None], DP=35, GQ=31, PGT=None, PID=None, PL=[0, 31, 1110]))\n",
      "Record(CHROM=Pf3D7_07_v3, POS=403689, REF=C, ALT=[A, T]) []\n",
      "Call(sample=PH0905-C, CallData(GT=0/0, AD=[34, 0, 0], BCS=[None, None, None, None], DP=34, GQ=93, PGT=None, PID=None, PL=[0, 93, 1395, 93, 1395, 1395]))\n",
      "[MutableSeq('cac', Alphabet()), MutableSeq('cac', Alphabet())]\n"
     ]
    },
    {
     "data": {
      "text/plain": [
       "(OrderedDict([('PH0905-C', 'H')]), 'H')"
      ]
     },
     "execution_count": 87,
     "metadata": {},
     "output_type": "execute_result"
    }
   ],
   "source": [
    "# Sanity checking crt_97 that has very few het calls. This one was het by reads which said all reads aligned\n",
    "# Inspection of bam shows 2 reads with T at 403688, with good mapping and base quality - why are these not shown in AD?\n",
    "# Lower GQ of 403688 seems to suggest that these two reads have been taken into account\n",
    "call_haplotypes('crt_97', 'Pf3D7_07_v3', 403687, 403689, '+', samples=['PH0905-C'], show_genotypes=True)"
   ]
  },
  {
   "cell_type": "code",
   "execution_count": 90,
   "metadata": {
    "collapsed": false
   },
   "outputs": [
    {
     "name": "stdout",
     "output_type": "stream",
     "text": [
      "/lustre/scratch116/malaria/pfalciparum/output/4/e/d/3/41496/4_bam_mark_duplicates_v2/pe.1.markdup.bam\tPH0905-C\r\n"
     ]
    }
   ],
   "source": [
    "!grep PH0905 /nfs/users/nfs_r/rp7/pf_60_mergelanes.txt"
   ]
  },
  {
   "cell_type": "code",
   "execution_count": 88,
   "metadata": {
    "collapsed": false
   },
   "outputs": [
    {
     "name": "stdout",
     "output_type": "stream",
     "text": [
      "Record(CHROM=Pf3D7_07_v3, POS=403687, REF=C, ALT=[T]) []\n",
      "Call(sample=QG0155-C, CallData(GT=0/0, AD=[67, 0], BCS=[None, None, None, None], DP=67, GQ=99, PL=[0, 120, 1800]))\n",
      "Record(CHROM=Pf3D7_07_v3, POS=403688, REF=A, ALT=[T]) []\n",
      "Call(sample=QG0155-C, CallData(GT=0/0, AD=[74, 0], BCS=[None, None, None, None], DP=74, GQ=0, PGT=None, PID=None, PL=[0, 0, 2147]))\n",
      "Record(CHROM=Pf3D7_07_v3, POS=403689, REF=C, ALT=[A, T]) []\n",
      "Call(sample=QG0155-C, CallData(GT=0/0, AD=[71, 0, 0], BCS=[None, None, None, None], DP=71, GQ=33, PGT=None, PID=None, PL=[0, 33, 2042, 33, 2042, 2042]))\n",
      "[MutableSeq('cac', Alphabet()), MutableSeq('cac', Alphabet())]\n"
     ]
    },
    {
     "data": {
      "text/plain": [
       "(OrderedDict([('QG0155-C', 'H')]), 'H')"
      ]
     },
     "execution_count": 88,
     "metadata": {},
     "output_type": "execute_result"
    }
   ],
   "source": [
    "# Sanity checking crt_97 that has very few het calls. This one was het by reads which said all reads aligned\n",
    "# Inspection of bam shows 6 reads with TT at 403688/403689, with good mapping and base quality - why are these not shown in AD?\n",
    "# Zero GQ of 403688 suggests that this was borderline het/hom call\n",
    "call_haplotypes('crt_97', 'Pf3D7_07_v3', 403687, 403689, '+', samples=['QG0155-C'], show_genotypes=True)"
   ]
  },
  {
   "cell_type": "code",
   "execution_count": 91,
   "metadata": {
    "collapsed": false
   },
   "outputs": [
    {
     "name": "stdout",
     "output_type": "stream",
     "text": [
      "/lustre/scratch116/malaria/pfalciparum/output/0/1/4/3/44018/4_bam_mark_duplicates_v2/pe.1.markdup.bam\tQG0155-C\r\n"
     ]
    }
   ],
   "source": [
    "!grep QG0155 /nfs/users/nfs_r/rp7/pf_60_mergelanes.txt"
   ]
  },
  {
   "cell_type": "code",
   "execution_count": 80,
   "metadata": {
    "collapsed": false
   },
   "outputs": [
    {
     "name": "stdout",
     "output_type": "stream",
     "text": [
      "Record(CHROM=Pf3D7_14_v3, POS=1956225, REF=G, ALT=[A]) []\n",
      "Call(sample=PF0146-C, CallData(GT=0/0, AD=[29, 0], BCS=[None, None, None, None], DP=29, GQ=84, PGT=None, PID=None, PL=[0, 84, 992]))\n",
      "[MutableSeq('tgt', Alphabet()), MutableSeq('tgt', Alphabet())]\n"
     ]
    },
    {
     "data": {
      "text/plain": [
       "(OrderedDict([('PF0146-C', 'C')]), 'C')"
      ]
     },
     "execution_count": 80,
     "metadata": {},
     "output_type": "execute_result"
    }
   ],
   "source": [
    "# Sanity check that MDR2 working correctly\n",
    "call_haplotypes('mdr2_484', 'Pf3D7_14_v3', 1956224, 1956226, '+', samples=['PF0146-C'], show_genotypes=True)"
   ]
  },
  {
   "cell_type": "code",
   "execution_count": 81,
   "metadata": {
    "collapsed": false
   },
   "outputs": [
    {
     "name": "stdout",
     "output_type": "stream",
     "text": [
      "Record(CHROM=Pf3D7_14_v3, POS=1956225, REF=G, ALT=[A]) []\n",
      "Call(sample=PF0146-C, CallData(GT=0/0, AD=[29, 0], BCS=[None, None, None, None], DP=29, GQ=84, PGT=None, PID=None, PL=[0, 84, 992]))\n",
      "[MutableSeq('tgt', Alphabet()), MutableSeq('tgt', Alphabet())]\n"
     ]
    },
    {
     "data": {
      "text/plain": [
       "(OrderedDict([('PF0146-C', 'T')]), 'T')"
      ]
     },
     "execution_count": 81,
     "metadata": {},
     "output_type": "execute_result"
    }
   ],
   "source": [
    "# Sanity check that MDR2 working correctly\n",
    "call_haplotypes('mdr2_484', 'Pf3D7_14_v3', 1956224, 1956226, '-', samples=['PF0146-C'], show_genotypes=True)"
   ]
  },
  {
   "cell_type": "code",
   "execution_count": 82,
   "metadata": {
    "collapsed": false
   },
   "outputs": [
    {
     "name": "stdout",
     "output_type": "stream",
     "text": [
      "Record(CHROM=Pf3D7_13_v3, POS=748395, REF=C, ALT=[A]) []\n",
      "Call(sample=PF0146-C, CallData(GT=0/0, AD=[21, 0], BCS=[None, None, None, None], DP=21, GQ=60, PL=[0, 60, 677]))\n",
      "[MutableSeq('gtc', Alphabet()), MutableSeq('gtc', Alphabet())]\n"
     ]
    },
    {
     "data": {
      "text/plain": [
       "(OrderedDict([('PF0146-C', 'V')]), 'V')"
      ]
     },
     "execution_count": 82,
     "metadata": {},
     "output_type": "execute_result"
    }
   ],
   "source": [
    "# Sanity check that FD working correctly\n",
    "call_haplotypes('fd_193', 'Pf3D7_13_v3', 748393, 748395, '+', samples=['PF0146-C'], show_genotypes=True)"
   ]
  },
  {
   "cell_type": "code",
   "execution_count": 83,
   "metadata": {
    "collapsed": false
   },
   "outputs": [
    {
     "name": "stdout",
     "output_type": "stream",
     "text": [
      "Record(CHROM=Pf3D7_13_v3, POS=748395, REF=C, ALT=[A]) []\n",
      "Call(sample=PF0146-C, CallData(GT=0/0, AD=[21, 0], BCS=[None, None, None, None], DP=21, GQ=60, PL=[0, 60, 677]))\n",
      "[MutableSeq('gtc', Alphabet()), MutableSeq('gtc', Alphabet())]\n"
     ]
    },
    {
     "data": {
      "text/plain": [
       "(OrderedDict([('PF0146-C', 'D')]), 'D')"
      ]
     },
     "execution_count": 83,
     "metadata": {},
     "output_type": "execute_result"
    }
   ],
   "source": [
    "# Sanity check that FD working correctly\n",
    "call_haplotypes('fd_193', 'Pf3D7_13_v3', 748393, 748395, '-', samples=['PF0146-C'], show_genotypes=True)"
   ]
  },
  {
   "cell_type": "code",
   "execution_count": 71,
   "metadata": {
    "collapsed": false
   },
   "outputs": [
    {
     "name": "stdout",
     "output_type": "stream",
     "text": [
      "Record(CHROM=Pf3D7_07_v3, POS=403612, REF=T, ALT=[A]) []\n",
      "Call(sample=PV0174-C, CallData(GT=0/0, AD=[12, 0], BCS=[None, None, None, None], DP=12, GQ=30, PGT=None, PID=None, PL=[0, 30, 450]))\n",
      "Record(CHROM=Pf3D7_07_v3, POS=403613, REF=G, ALT=[A, C]) []\n",
      "Call(sample=PV0174-C, CallData(GT=0/0, AD=[12, 0, 0], BCS=[None, None, None, None], DP=12, GQ=30, PGT=None, PID=None, PL=[0, 30, 450, 30, 450, 450]))\n",
      "Record(CHROM=Pf3D7_07_v3, POS=403615, REF=G, ALT=[A]) []\n",
      "Call(sample=PV0174-C, CallData(GT=0/0, AD=[12, 0], BCS=[None, None, None, None], DP=12, GQ=30, PGT=None, PID=None, PL=[0, 30, 450]))\n",
      "Record(CHROM=Pf3D7_07_v3, POS=403618, REF=A, ALT=[AT]) []\n",
      "Call(sample=PV0174-C, CallData(GT=0/1, AD=[4, 6], BCS=[370, 73, 117, 414], DP=10, GQ=99, PGT=0|1, PID=403618_A_AT, PL=[179, 0, 187]))\n",
      "Record(CHROM=Pf3D7_07_v3, POS=403620, REF=G, ALT=[T]) []\n",
      "Call(sample=PV0174-C, CallData(GT=0/1, AD=[7, 3], BCS=[370, 73, 117, 414], DP=10, GQ=75, PGT=1|0, PID=403618_A_AT, PL=[75, 0, 282]))\n",
      "Record(CHROM=Pf3D7_07_v3, POS=403621, REF=A, ALT=[G]) []\n",
      "Call(sample=PV0174-C, CallData(GT=0/1, AD=[7, 3], BCS=[370, 73, 117, 414], DP=10, GQ=75, PGT=1|0, PID=403618_A_AT, PL=[75, 0, 282]))\n",
      "Record(CHROM=Pf3D7_07_v3, POS=403622, REF=AT, ALT=[A]) []\n",
      "Call(sample=PV0174-C, CallData(GT=0/1, AD=[4, 6], BCS=[370, 73, 117, 414], DP=10, GQ=99, PGT=0|1, PID=403618_A_AT, PL=[179, 0, 187]))\n",
      "Record(CHROM=Pf3D7_07_v3, POS=403623, REF=TA, ALT=[*, AA]) []\n",
      "Call(sample=PV0174-C, CallData(GT=0/1, AD=[4, 6, 0], BCS=[370, 73, 117, 414], DP=10, GQ=99, PGT=0|1, PID=403618_A_AT, PL=[179, 0, 187, 191, 205, 395]))\n",
      "Record(CHROM=Pf3D7_07_v3, POS=403625, REF=A, ALT=[C]) []\n",
      "Call(sample=PV0174-C, CallData(GT=0/1, AD=[1, 9], BCS=[370, 73, 117, 414], DP=10, GQ=74, PGT=0|1, PID=403618_A_AT, PL=[375, 0, 74]))\n",
      "[MutableSeq('tgtgtaAtTGATAAa', Alphabet()), MutableSeq('tgtgtaATtGAAaCa', Alphabet())]\n"
     ]
    },
    {
     "data": {
      "text/plain": [
       "(OrderedDict([('PV0174-C', 'CVIDK,CVIET')]), 'CVMNK')"
      ]
     },
     "execution_count": 71,
     "metadata": {},
     "output_type": "execute_result"
    }
   ],
   "source": [
    "# Can't quite decide what the right answer is here, but suspect Olivo's code is right\n",
    "call_haplotypes(samples=['PV0174-C'], show_genotypes=True)"
   ]
  },
  {
   "cell_type": "code",
   "execution_count": 72,
   "metadata": {
    "collapsed": false
   },
   "outputs": [
    {
     "name": "stdout",
     "output_type": "stream",
     "text": [
      "Record(CHROM=Pf3D7_07_v3, POS=403612, REF=T, ALT=[A]) []\n",
      "Call(sample=QG0211-C, CallData(GT=0/0, AD=[50, 4], BCS=[1833, 244, 606, 2070], DP=54, GQ=15, PGT=None, PID=None, PL=[0, 15, 1520]))\n",
      "Record(CHROM=Pf3D7_07_v3, POS=403613, REF=G, ALT=[A, C]) []\n",
      "Call(sample=QG0211-C, CallData(GT=0/0, AD=[53, 0, 0], BCS=[None, None, None, None], DP=53, GQ=99, PGT=None, PID=None, PL=[0, 120, 1800, 120, 1800, 1800]))\n",
      "Record(CHROM=Pf3D7_07_v3, POS=403615, REF=G, ALT=[A]) []\n",
      "Call(sample=QG0211-C, CallData(GT=0/0, AD=[53, 0], BCS=[None, None, None, None], DP=53, GQ=99, PGT=None, PID=None, PL=[0, 120, 1800]))\n",
      "Record(CHROM=Pf3D7_07_v3, POS=403618, REF=A, ALT=[AT]) []\n",
      "Call(sample=QG0211-C, CallData(GT=0/0, AD=[52, 2], BCS=[1867, 276, 608, 2028], DP=54, GQ=85, PGT=0|1, PID=403618_A_AT, PL=[0, 85, 3710]))\n",
      "Record(CHROM=Pf3D7_07_v3, POS=403620, REF=G, ALT=[T]) []\n",
      "Call(sample=QG0211-C, CallData(GT=0/0, AD=[57, 0], BCS=[None, None, None, None], DP=57, GQ=99, PGT=None, PID=None, PL=[0, 104, 1715]))\n",
      "Record(CHROM=Pf3D7_07_v3, POS=403621, REF=A, ALT=[G]) []\n",
      "Call(sample=QG0211-C, CallData(GT=0/0, AD=[57, 0], BCS=[None, None, None, None], DP=57, GQ=99, PGT=None, PID=None, PL=[0, 104, 1715]))\n",
      "Record(CHROM=Pf3D7_07_v3, POS=403622, REF=AT, ALT=[A]) []\n",
      "Call(sample=QG0211-C, CallData(GT=0/0, AD=[56, 2], BCS=[1988, 316, 637, 2104], DP=58, GQ=91, PGT=0|1, PID=403618_A_AT, PL=[0, 91, 3786]))\n",
      "Record(CHROM=Pf3D7_07_v3, POS=403623, REF=TA, ALT=[*, AA]) []\n",
      "Call(sample=QG0211-C, CallData(GT=0/0, AD=[56, 2, 0], BCS=[1988, 316, 637, 2104], DP=58, GQ=91, PGT=0|1, PID=403618_A_AT, PL=[0, 91, 3786, 175, 3792, 3876]))\n",
      "Record(CHROM=Pf3D7_07_v3, POS=403625, REF=A, ALT=[C]) []\n",
      "Call(sample=QG0211-C, CallData(GT=0/1, AD=[52, 6], BCS=[1989, 324, 634, 2089], DP=58, GQ=60, PGT=None, PID=None, PL=[60, 0, 1463]))\n",
      "[MutableSeq('tgtgtaatgaataAa', Alphabet()), MutableSeq('tgtgtaatgaataCa', Alphabet())]\n"
     ]
    },
    {
     "data": {
      "text/plain": [
       "(OrderedDict([('QG0211-C', 'CVMNK,CVMNT')]), 'CVMNK')"
      ]
     },
     "execution_count": 72,
     "metadata": {},
     "output_type": "execute_result"
    }
   ],
   "source": [
    "# Assume these are really the haplotypes Olivo finds here, but not enough evidence to call hets\n",
    "call_haplotypes(samples=['QG0211-C'], show_genotypes=True)"
   ]
  },
  {
   "cell_type": "code",
   "execution_count": 59,
   "metadata": {
    "collapsed": false
   },
   "outputs": [
    {
     "name": "stdout",
     "output_type": "stream",
     "text": [
      "Record(CHROM=Pf3D7_08_v3, POS=549681, REF=T, ALT=[G, C]) []\n",
      "Call(sample=PF0146-C, CallData(GT=0/0, AD=[37, 0, 0], BCS=[None, None, None, None], DP=37, GQ=78, PGT=None, PID=None, PL=[0, 78, 1171, 78, 1171, 1171]))\n",
      "Record(CHROM=Pf3D7_08_v3, POS=549682, REF=C, ALT=[T, G, A]) []\n",
      "Call(sample=PF0146-C, CallData(GT=0/3, AD=[2, 0, 0, 35], BCS=[381, 268, 261, 526], DP=37, GQ=57, PGT=0|1, PID=549682_C_A, PL=[1446, 1455, 1618, 1455, 1618, 1618, 0, 163, 163, 57]))\n",
      "Record(CHROM=Pf3D7_08_v3, POS=549683, REF=T, ALT=[C]) []\n",
      "Call(sample=PF0146-C, CallData(GT=0/0, AD=[38, 0], BCS=[None, None, None, None], DP=38, GQ=99, PL=[0, 102, 1530]))\n",
      "[MutableSeq('tCt', Alphabet()), MutableSeq('tAt', Alphabet())]\n"
     ]
    },
    {
     "data": {
      "text/plain": [
       "(OrderedDict([('PF0146-C', 'S,Y')]), 'S')"
      ]
     },
     "execution_count": 59,
     "metadata": {},
     "output_type": "execute_result"
    }
   ],
   "source": [
    "# Originally I was making a wrong call here because was using PGT rather than GT\n",
    "call_haplotypes('dhps_436', 'Pf3D7_08_v3', 549681, 549683, '+', samples=['PF0146-C'], show_genotypes=True)"
   ]
  },
  {
   "cell_type": "code",
   "execution_count": 62,
   "metadata": {
    "collapsed": false
   },
   "outputs": [
    {
     "name": "stdout",
     "output_type": "stream",
     "text": [
      "Record(CHROM=Pf3D7_08_v3, POS=549681, REF=T, ALT=[G, C]) []\n",
      "Call(sample=PH0919-C, CallData(GT=0/1, AD=[2, 23, 0], BCS=[216, 156, 224, 327], DP=25, GQ=15, PGT=0|1, PID=549681_T_G, PL=[653, 0, 15, 659, 84, 743]))\n",
      "Record(CHROM=Pf3D7_08_v3, POS=549682, REF=C, ALT=[T, G, A]) []\n",
      "Call(sample=PH0919-C, CallData(GT=0/0, AD=[24, 2, 0, 0], BCS=[219, 162, 229, 343], DP=26, GQ=17, PGT=1|0, PID=549681_T_G, PL=[0, 17, 1025, 75, 1031, 1089, 75, 1031, 1089, 1089]))\n",
      "Record(CHROM=Pf3D7_08_v3, POS=549683, REF=T, ALT=[C]) []\n",
      "Call(sample=PH0919-C, CallData(GT=0/0, AD=[27, 0], BCS=[None, None, None, None], DP=27, GQ=61, PL=[0, 61, 887]))\n",
      "[MutableSeq('Tct', Alphabet()), MutableSeq('Gct', Alphabet())]\n"
     ]
    },
    {
     "data": {
      "text/plain": [
       "(OrderedDict([('PH0919-C', 'S,A')]), 'S')"
      ]
     },
     "execution_count": 62,
     "metadata": {},
     "output_type": "execute_result"
    }
   ],
   "source": [
    "# Get wrong call here becuase middle GT is 0/0. Would get correct call if we used PGT\n",
    "call_haplotypes('dhps_436', 'Pf3D7_08_v3', 549681, 549683, '+', samples=['PH0919-C'], show_genotypes=True)"
   ]
  },
  {
   "cell_type": "code",
   "execution_count": 73,
   "metadata": {
    "collapsed": false
   },
   "outputs": [
    {
     "name": "stdout",
     "output_type": "stream",
     "text": [
      "Record(CHROM=Pf3D7_08_v3, POS=549993, REF=A, ALT=[G, T]) []\n",
      "Call(sample=PH0566-C, CallData(GT=0/1, AD=[5, 48, 0], BCS=[2474, 518, 616, 1503], DP=53, GQ=66, PGT=None, PID=None, PL=[1385, 0, 66, 1400, 210, 1610]))\n",
      "Record(CHROM=Pf3D7_08_v3, POS=549994, REF=A, ALT=[T]) []\n",
      "Call(sample=PH0566-C, CallData(GT=0/0, AD=[54, 0], BCS=[None, None, None, None], DP=54, GQ=99, PL=[0, 120, 1800]))\n",
      "Record(CHROM=Pf3D7_08_v3, POS=549995, REF=A, ALT=[T, G]) []\n",
      "Call(sample=PH0566-C, CallData(GT=0/0, AD=[49, 5, 0], BCS=[2516, 528, 627, 1531], DP=54, GQ=7, PGT=None, PID=None, PL=[0, 7, 2011, 147, 2026, 2166]))\n",
      "[MutableSeq('Aaa', Alphabet()), MutableSeq('Gaa', Alphabet())]\n"
     ]
    },
    {
     "data": {
      "text/plain": [
       "(OrderedDict([('PH0566-C', 'K,E')]), 'K')"
      ]
     },
     "execution_count": 73,
     "metadata": {},
     "output_type": "execute_result"
    }
   ],
   "source": [
    "# Seems clear Olivo has it right here - final variant certainly looks like a het\n",
    "call_haplotypes('dhps_540', 'Pf3D7_08_v3', 549993, 549995, '+', samples=['PH0566-C'], show_genotypes=True)"
   ]
  },
  {
   "cell_type": "code",
   "execution_count": 74,
   "metadata": {
    "collapsed": false
   },
   "outputs": [
    {
     "name": "stdout",
     "output_type": "stream",
     "text": [
      "Record(CHROM=Pf3D7_08_v3, POS=549993, REF=A, ALT=[G, T]) []\n",
      "Call(sample=PH0718-C, CallData(GT=0/1, AD=[3, 40, 0], BCS=[1964, 417, 501, 1231], DP=43, GQ=6, PGT=None, PID=None, PL=[1267, 0, 6, 1276, 126, 1402]))\n",
      "Record(CHROM=Pf3D7_08_v3, POS=549994, REF=A, ALT=[T]) []\n",
      "Call(sample=PH0718-C, CallData(GT=0/0, AD=[45, 0], BCS=[None, None, None, None], DP=45, GQ=99, PL=[0, 120, 1800]))\n",
      "Record(CHROM=Pf3D7_08_v3, POS=549995, REF=A, ALT=[T, G]) []\n",
      "Call(sample=PH0718-C, CallData(GT=0/0, AD=[41, 3, 0], BCS=[1996, 422, 507, 1257], DP=44, GQ=30, PGT=None, PID=None, PL=[0, 30, 1700, 123, 1709, 1802]))\n",
      "[MutableSeq('Aaa', Alphabet()), MutableSeq('Gaa', Alphabet())]\n"
     ]
    },
    {
     "data": {
      "text/plain": [
       "(OrderedDict([('PH0718-C', 'K,E')]), 'K')"
      ]
     },
     "execution_count": 74,
     "metadata": {},
     "output_type": "execute_result"
    }
   ],
   "source": [
    "# Seems clear Olivo has it right here - final variant certainly looks like a het\n",
    "call_haplotypes('dhps_540', 'Pf3D7_08_v3', 549993, 549995, '+', samples=['PH0718-C'], show_genotypes=True)"
   ]
  },
  {
   "cell_type": "code",
   "execution_count": 75,
   "metadata": {
    "collapsed": false
   },
   "outputs": [
    {
     "name": "stdout",
     "output_type": "stream",
     "text": [
      "Record(CHROM=Pf3D7_08_v3, POS=549993, REF=A, ALT=[G, T]) []\n",
      "Call(sample=PH0905-C, CallData(GT=0/1, AD=[4, 46, 0], BCS=[938, 330, 235, 507], DP=50, GQ=14, PGT=0|1, PID=549993_A_G, PL=[1399, 0, 14, 1411, 151, 1562]))\n",
      "Record(CHROM=Pf3D7_08_v3, POS=549994, REF=A, ALT=[T]) []\n",
      "Call(sample=PH0905-C, CallData(GT=0/0, AD=[50, 0], BCS=[None, None, None, None], DP=50, GQ=99, PL=[0, 120, 1800]))\n",
      "Record(CHROM=Pf3D7_08_v3, POS=549995, REF=A, ALT=[T, G]) []\n",
      "Call(sample=PH0905-C, CallData(GT=0/0, AD=[46, 2, 0], BCS=[918, 322, 227, 499], DP=48, GQ=81, PGT=1|0, PID=549993_A_G, PL=[0, 81, 2003, 144, 2009, 2072]))\n",
      "[MutableSeq('Aaa', Alphabet()), MutableSeq('Gaa', Alphabet())]\n"
     ]
    },
    {
     "data": {
      "text/plain": [
       "(OrderedDict([('PH0905-C', 'K,E')]), 'K')"
      ]
     },
     "execution_count": 75,
     "metadata": {},
     "output_type": "execute_result"
    }
   ],
   "source": [
    "# Seems clear Olivo has it right here - final variant certainly looks like a het\n",
    "call_haplotypes('dhps_540', 'Pf3D7_08_v3', 549993, 549995, '+', samples=['PH0905-C'], show_genotypes=True)"
   ]
  },
  {
   "cell_type": "code",
   "execution_count": 76,
   "metadata": {
    "collapsed": false
   },
   "outputs": [
    {
     "name": "stdout",
     "output_type": "stream",
     "text": [
      "Record(CHROM=Pf3D7_08_v3, POS=549993, REF=A, ALT=[G, T]) []\n",
      "Call(sample=PH1422-C, CallData(GT=0/1, AD=[3, 41, 0], BCS=[817, 283, 201, 439], DP=44, GQ=4, PGT=0|1, PID=549993_A_G, PL=[1212, 0, 4, 1221, 126, 1347]))\n",
      "Record(CHROM=Pf3D7_08_v3, POS=549994, REF=A, ALT=[T]) []\n",
      "Call(sample=PH1422-C, CallData(GT=0/0, AD=[46, 0], BCS=[None, None, None, None], DP=46, GQ=99, PL=[0, 120, 1800]))\n",
      "Record(CHROM=Pf3D7_08_v3, POS=549995, REF=A, ALT=[T, G]) []\n",
      "Call(sample=PH1422-C, CallData(GT=0/0, AD=[42, 3, 0], BCS=[828, 286, 202, 446], DP=45, GQ=24, PGT=1|0, PID=549993_A_G, PL=[0, 24, 1741, 126, 1750, 1852]))\n",
      "[MutableSeq('Aaa', Alphabet()), MutableSeq('Gaa', Alphabet())]\n"
     ]
    },
    {
     "data": {
      "text/plain": [
       "(OrderedDict([('PH1422-C', 'K,E')]), 'K')"
      ]
     },
     "execution_count": 76,
     "metadata": {},
     "output_type": "execute_result"
    }
   ],
   "source": [
    "# Seems clear Olivo has it right here - final variant certainly looks like a het\n",
    "call_haplotypes('dhps_540', 'Pf3D7_08_v3', 549993, 549995, '+', samples=['PH1422-C'], show_genotypes=True)"
   ]
  },
  {
   "cell_type": "code",
   "execution_count": 77,
   "metadata": {
    "collapsed": false
   },
   "outputs": [
    {
     "name": "stdout",
     "output_type": "stream",
     "text": [
      "Record(CHROM=Pf3D7_08_v3, POS=549993, REF=A, ALT=[G, T]) []\n",
      "Call(sample=PD0009-01, CallData(GT=0/1, AD=[8, 83, 0], BCS=[1586, 551, 396, 853], DP=91, GQ=71, PGT=0|1, PID=549993_A_G, PL=[2455, 0, 71, 2479, 319, 2798]))\n",
      "Record(CHROM=Pf3D7_08_v3, POS=549994, REF=A, ALT=[T]) []\n",
      "Call(sample=PD0009-01, CallData(GT=0/0, AD=[97, 0], BCS=[None, None, None, None], DP=97, GQ=99, PL=[0, 120, 1800]))\n",
      "Record(CHROM=Pf3D7_08_v3, POS=549995, REF=A, ALT=[T, G]) []\n",
      "Call(sample=PD0009-01, CallData(GT=0/0, AD=[86, 7, 0], BCS=[1608, 556, 396, 870], DP=93, GQ=20, PGT=1|0, PID=549993_A_G, PL=[0, 20, 3524, 259, 3545, 3784]))\n",
      "[MutableSeq('Aaa', Alphabet()), MutableSeq('Gaa', Alphabet())]\n"
     ]
    },
    {
     "data": {
      "text/plain": [
       "(OrderedDict([('PD0009-01', 'K,E')]), 'K')"
      ]
     },
     "execution_count": 77,
     "metadata": {},
     "output_type": "execute_result"
    }
   ],
   "source": [
    "# Seems clear Olivo has it right here - final variant certainly looks like a het\n",
    "call_haplotypes('dhps_540', 'Pf3D7_08_v3', 549993, 549995, '+', samples=['PD0009-01'], show_genotypes=True)"
   ]
  },
  {
   "cell_type": "code",
   "execution_count": 63,
   "metadata": {
    "collapsed": false
   },
   "outputs": [
    {
     "name": "stdout",
     "output_type": "stream",
     "text": [
      "Record(CHROM=Pf3D7_08_v3, POS=549681, REF=T, ALT=[G, C]) []\n",
      "Call(sample=QP0024-C, CallData(GT=0/1, AD=[152, 52, 0], BCS=[3636, 1730, 3029, 4877], DP=204, GQ=99, PGT=None, PID=None, PL=[964, 0, 6386, 1439, 6542, 7981]))\n",
      "Record(CHROM=Pf3D7_08_v3, POS=549682, REF=C, ALT=[T, G, A]) []\n",
      "Call(sample=QP0024-C, CallData(GT=0/1, AD=[52, 155, 0, 0], BCS=[3648, 1748, 3035, 4913], DP=207, GQ=99, PGT=0|1, PID=549682_C_T, PL=[6183, 0, 1748, 6345, 2229, 8574, 6345, 2229, 8574, 8574]))\n",
      "Record(CHROM=Pf3D7_08_v3, POS=549683, REF=T, ALT=[C]) []\n",
      "Call(sample=QP0024-C, CallData(GT=0/0, AD=[211, 0], BCS=[None, None, None, None], DP=211, GQ=99, PL=[0, 120, 1800]))\n",
      "[MutableSeq('TCt', Alphabet()), MutableSeq('GTt', Alphabet())]\n"
     ]
    },
    {
     "data": {
      "text/plain": [
       "(OrderedDict([('QP0024-C', 'S,V')]), 'S')"
      ]
     },
     "execution_count": 63,
     "metadata": {},
     "output_type": "execute_result"
    }
   ],
   "source": [
    "# Originally got wrong call here becuase first variant doesn't have phasing information, though read counts show obvious phasing\n",
    "call_haplotypes('dhps_436', 'Pf3D7_08_v3', 549681, 549683, '+', samples=['QP0024-C'], show_genotypes=True)"
   ]
  },
  {
   "cell_type": "code",
   "execution_count": 67,
   "metadata": {
    "collapsed": false
   },
   "outputs": [
    {
     "name": "stdout",
     "output_type": "stream",
     "text": [
      "Record(CHROM=Pf3D7_08_v3, POS=549681, REF=T, ALT=[G, C]) []\n",
      "Call(sample=QP0024-C, CallData(GT=0/1, AD=[152, 52, 0], BCS=[3636, 1730, 3029, 4877], DP=204, GQ=99, PGT=None, PID=None, PL=[964, 0, 6386, 1439, 6542, 7981]))\n",
      "Record(CHROM=Pf3D7_08_v3, POS=549682, REF=C, ALT=[T, G, A]) []\n",
      "Call(sample=QP0024-C, CallData(GT=0/1, AD=[52, 155, 0, 0], BCS=[3648, 1748, 3035, 4913], DP=207, GQ=99, PGT=0|1, PID=549682_C_T, PL=[6183, 0, 1748, 6345, 2229, 8574, 6345, 2229, 8574, 8574]))\n",
      "Sample QP0024-C unphased het followed by het\n",
      "Record(CHROM=Pf3D7_08_v3, POS=549683, REF=T, ALT=[C]) []\n",
      "Call(sample=QP0024-C, CallData(GT=0/0, AD=[211, 0], BCS=[None, None, None, None], DP=211, GQ=99, PL=[0, 120, 1800]))\n",
      "[MutableSeq('TCt', Alphabet()), MutableSeq('GTt', Alphabet())]\n"
     ]
    },
    {
     "data": {
      "text/plain": [
       "(OrderedDict([('QP0024-C', 'X')]), 'S')"
      ]
     },
     "execution_count": 67,
     "metadata": {},
     "output_type": "execute_result"
    }
   ],
   "source": [
    "# After changing code, now correctly marked as 'X'\n",
    "call_haplotypes('dhps_436', 'Pf3D7_08_v3', 549681, 549683, '+', samples=['QP0024-C'], show_genotypes=True)"
   ]
  },
  {
   "cell_type": "code",
   "execution_count": 64,
   "metadata": {
    "collapsed": false
   },
   "outputs": [
    {
     "name": "stdout",
     "output_type": "stream",
     "text": [
      "Record(CHROM=Pf3D7_08_v3, POS=549681, REF=T, ALT=[G, C]) []\n",
      "Call(sample=QQ0110-C, CallData(GT=0/1, AD=[120, 94, 0], BCS=[2825, 1682, 2734, 4179], DP=214, GQ=99, PGT=None, PID=None, PL=[2281, 0, 4302, 2642, 4583, 7225]))\n",
      "Record(CHROM=Pf3D7_08_v3, POS=549682, REF=C, ALT=[T, G, A]) []\n",
      "Call(sample=QQ0110-C, CallData(GT=0/1, AD=[137, 74, 0, 0], BCS=[2781, 1676, 2689, 4142], DP=211, GQ=99, PGT=0|1, PID=549682_C_T, PL=[2665, 0, 6357, 3083, 6583, 9666, 3083, 6583, 9666, 9666]))\n",
      "Record(CHROM=Pf3D7_08_v3, POS=549683, REF=T, ALT=[C]) []\n",
      "Call(sample=QQ0110-C, CallData(GT=0/0, AD=[210, 0], BCS=[None, None, None, None], DP=210, GQ=99, PL=[0, 120, 1800]))\n",
      "[MutableSeq('TCt', Alphabet()), MutableSeq('GTt', Alphabet())]\n"
     ]
    },
    {
     "data": {
      "text/plain": [
       "(OrderedDict([('QQ0110-C', 'S,V')]), 'S')"
      ]
     },
     "execution_count": 64,
     "metadata": {},
     "output_type": "execute_result"
    }
   ],
   "source": [
    "# Originally, unclear what phasing should be, and hence what correct call is here\n",
    "call_haplotypes('dhps_436', 'Pf3D7_08_v3', 549681, 549683, '+', samples=['QQ0110-C'], show_genotypes=True)"
   ]
  },
  {
   "cell_type": "code",
   "execution_count": 68,
   "metadata": {
    "collapsed": false
   },
   "outputs": [
    {
     "name": "stdout",
     "output_type": "stream",
     "text": [
      "Record(CHROM=Pf3D7_08_v3, POS=549681, REF=T, ALT=[G, C]) []\n",
      "Call(sample=QQ0110-C, CallData(GT=0/1, AD=[120, 94, 0], BCS=[2825, 1682, 2734, 4179], DP=214, GQ=99, PGT=None, PID=None, PL=[2281, 0, 4302, 2642, 4583, 7225]))\n",
      "Record(CHROM=Pf3D7_08_v3, POS=549682, REF=C, ALT=[T, G, A]) []\n",
      "Call(sample=QQ0110-C, CallData(GT=0/1, AD=[137, 74, 0, 0], BCS=[2781, 1676, 2689, 4142], DP=211, GQ=99, PGT=0|1, PID=549682_C_T, PL=[2665, 0, 6357, 3083, 6583, 9666, 3083, 6583, 9666, 9666]))\n",
      "Sample QQ0110-C unphased het followed by het\n",
      "Record(CHROM=Pf3D7_08_v3, POS=549683, REF=T, ALT=[C]) []\n",
      "Call(sample=QQ0110-C, CallData(GT=0/0, AD=[210, 0], BCS=[None, None, None, None], DP=210, GQ=99, PL=[0, 120, 1800]))\n",
      "[MutableSeq('TCt', Alphabet()), MutableSeq('GTt', Alphabet())]\n"
     ]
    },
    {
     "data": {
      "text/plain": [
       "(OrderedDict([('QQ0110-C', 'X')]), 'S')"
      ]
     },
     "execution_count": 68,
     "metadata": {},
     "output_type": "execute_result"
    }
   ],
   "source": [
    "# After changing code, now correctly marked as 'X'\n",
    "call_haplotypes('dhps_436', 'Pf3D7_08_v3', 549681, 549683, '+', samples=['QQ0110-C'], show_genotypes=True)"
   ]
  },
  {
   "cell_type": "code",
   "execution_count": 47,
   "metadata": {
    "collapsed": false
   },
   "outputs": [
    {
     "name": "stdout",
     "output_type": "stream",
     "text": [
      "Record(CHROM=Pf3D7_07_v3, POS=403612, REF=T, ALT=[A]) []\n",
      "Call(sample=FP0008-C, CallData(GT=0/0, AD=[26, 0], BCS=[None, None, None, None], DP=26, GQ=72, PGT=None, PID=None, PL=[0, 72, 1080]))\n",
      "Record(CHROM=Pf3D7_07_v3, POS=403613, REF=G, ALT=[A, C]) []\n",
      "Call(sample=FP0008-C, CallData(GT=0/0, AD=[26, 0, 0], BCS=[None, None, None, None], DP=26, GQ=72, PGT=None, PID=None, PL=[0, 72, 1080, 72, 1080, 1080]))\n",
      "Record(CHROM=Pf3D7_07_v3, POS=403615, REF=G, ALT=[A]) []\n",
      "Call(sample=FP0008-C, CallData(GT=0/0, AD=[26, 0], BCS=[None, None, None, None], DP=26, GQ=72, PGT=None, PID=None, PL=[0, 72, 1080]))\n",
      "Record(CHROM=Pf3D7_07_v3, POS=403618, REF=A, ALT=[AT]) []\n",
      "Call(sample=FP0008-C, CallData(GT=0/1, AD=[3, 23], BCS=[965, 186, 308, 1060], DP=26, GQ=99, PGT=0|1, PID=403618_A_AT, PL=[1083, 0, 219]))\n",
      "Record(CHROM=Pf3D7_07_v3, POS=403620, REF=G, ALT=[T]) []\n",
      "Call(sample=FP0008-C, CallData(GT=./., AD=[27, 0], BCS=[None, None, None, None], DP=27, GQ=None, PGT=None, PID=None, PL=[0, 0, 0]))\n",
      "Record(CHROM=Pf3D7_07_v3, POS=403621, REF=A, ALT=[G]) []\n",
      "Call(sample=FP0008-C, CallData(GT=./., AD=[27, 0], BCS=[None, None, None, None], DP=27, GQ=None, PGT=None, PID=None, PL=[0, 0, 0]))\n",
      "Record(CHROM=Pf3D7_07_v3, POS=403622, REF=AT, ALT=[A]) []\n",
      "Call(sample=FP0008-C, CallData(GT=0/1, AD=[3, 27], BCS=[1092, 234, 339, 1157], DP=30, GQ=99, PGT=0|1, PID=403618_A_AT, PL=[1140, 0, 213]))\n",
      "Record(CHROM=Pf3D7_07_v3, POS=403623, REF=TA, ALT=[*, AA]) []\n",
      "Call(sample=FP0008-C, CallData(GT=0/1, AD=[3, 27, 0], BCS=[1092, 234, 339, 1157], DP=30, GQ=99, PGT=0|1, PID=403618_A_AT, PL=[1140, 0, 213, 1149, 297, 1447]))\n",
      "Record(CHROM=Pf3D7_07_v3, POS=403625, REF=A, ALT=[C]) []\n",
      "Call(sample=FP0008-C, CallData(GT=0/1, AD=[3, 28], BCS=[1122, 246, 346, 1181], DP=31, GQ=99, PGT=0|1, PID=403618_A_AT, PL=[1140, 0, 213]))\n"
     ]
    },
    {
     "data": {
      "text/plain": [
       "(OrderedDict([('FP0008-C', 'CVMNK,CVIET')]), 'CVMNK')"
      ]
     },
     "execution_count": 47,
     "metadata": {},
     "output_type": "execute_result"
    }
   ],
   "source": [
    "call_haplotypes(samples=['FP0008-C'], show_genotypes=True)"
   ]
  },
  {
   "cell_type": "code",
   "execution_count": 41,
   "metadata": {
    "collapsed": false
   },
   "outputs": [
    {
     "name": "stdout",
     "output_type": "stream",
     "text": [
      "Record(CHROM=Pf3D7_07_v3, POS=403612, REF=T, ALT=[A]) []\n",
      "Call(sample=QV0090-C, CallData(GT=0/0, AD=[64, 0], BCS=[None, None, None, None], DP=64, GQ=99, PGT=None, PID=None, PL=[0, 112, 1800]))\n",
      "Record(CHROM=Pf3D7_07_v3, POS=403613, REF=G, ALT=[A, C]) []\n",
      "Call(sample=QV0090-C, CallData(GT=0/0, AD=[64, 0, 0], BCS=[None, None, None, None], DP=64, GQ=99, PGT=None, PID=None, PL=[0, 112, 1800, 112, 1800, 1800]))\n",
      "Record(CHROM=Pf3D7_07_v3, POS=403615, REF=G, ALT=[A]) []\n",
      "Call(sample=QV0090-C, CallData(GT=0/0, AD=[64, 0], BCS=[None, None, None, None], DP=64, GQ=99, PGT=None, PID=None, PL=[0, 112, 1800]))\n",
      "Record(CHROM=Pf3D7_07_v3, POS=403618, REF=A, ALT=[AT]) []\n",
      "Call(sample=QV0090-C, CallData(GT=0/1, AD=[3, 104], BCS=[3902, 722, 1251, 4330], DP=107, GQ=8, PGT=0|1, PID=403618_A_AT, PL=[4436, 0, 8]))\n",
      "Record(CHROM=Pf3D7_07_v3, POS=403620, REF=G, ALT=[T]) []\n",
      "Call(sample=QV0090-C, CallData(GT=./., AD=[110, 0], BCS=[None, None, None, None], DP=110, GQ=None, PGT=None, PID=None, PL=[0, 0, 0]))\n",
      "Record(CHROM=Pf3D7_07_v3, POS=403621, REF=A, ALT=[G]) []\n",
      "Call(sample=QV0090-C, CallData(GT=./., AD=[110, 0], BCS=[None, None, None, None], DP=110, GQ=None, PGT=None, PID=None, PL=[0, 0, 0]))\n",
      "Record(CHROM=Pf3D7_07_v3, POS=403622, REF=AT, ALT=[A]) []\n",
      "Call(sample=QV0090-C, CallData(GT=1/1, AD=[3, 106], BCS=[3992, 794, 1258, 4314], DP=109, GQ=4, PGT=1|1, PID=403618_A_AT, PL=[4587, 4, 0]))\n",
      "Record(CHROM=Pf3D7_07_v3, POS=403623, REF=TA, ALT=[*, AA]) []\n",
      "Call(sample=QV0090-C, CallData(GT=1/1, AD=[3, 106, 0], BCS=[3992, 794, 1258, 4314], DP=109, GQ=4, PGT=1|1, PID=403618_A_AT, PL=[4587, 4, 0, 4596, 334, 4926]))\n",
      "Record(CHROM=Pf3D7_07_v3, POS=403625, REF=A, ALT=[C]) []\n",
      "Call(sample=QV0090-C, CallData(GT=0/1, AD=[3, 108], BCS=[4052, 830, 1269, 4346], DP=111, GQ=2, PGT=0|1, PID=403618_A_AT, PL=[4514, 0, 2]))\n"
     ]
    },
    {
     "data": {
      "text/plain": [
       "(OrderedDict([('QV0090-C', '!,CVIET')]), 'CVMNK')"
      ]
     },
     "execution_count": 41,
     "metadata": {},
     "output_type": "execute_result"
    }
   ],
   "source": [
    "call_haplotypes(samples=['QV0090-C'], show_genotypes=True)"
   ]
  },
  {
   "cell_type": "code",
   "execution_count": 305,
   "metadata": {
    "collapsed": false
   },
   "outputs": [
    {
     "name": "stdout",
     "output_type": "stream",
     "text": [
      "Record(CHROM=Pf3D7_07_v3, POS=403291, REF=G, ALT=[T])\n",
      "[]\n"
     ]
    }
   ],
   "source": [
    "temp = call_haplotypes('crt_24', 'Pf3D7_07_v3', 403291, 403293, '+')"
   ]
  },
  {
   "cell_type": "code",
   "execution_count": 334,
   "metadata": {
    "collapsed": false
   },
   "outputs": [
    {
     "name": "stdout",
     "output_type": "stream",
     "text": [
      "Record(CHROM=Pf3D7_07_v3, POS=403612, REF=T, ALT=[A]) []\n",
      "Call(sample=PA0490-C, CallData(GT=0/0, AD=[91, 0], BCS=[None, None, None, None], DP=91, GQ=99, PGT=None, PID=None, PL=[0, 102, 1800]))\n",
      "Record(CHROM=Pf3D7_07_v3, POS=403613, REF=G, ALT=[A, C]) []\n",
      "Call(sample=PA0490-C, CallData(GT=0/0, AD=[91, 0, 0], BCS=[None, None, None, None], DP=91, GQ=99, PGT=None, PID=None, PL=[0, 102, 1800, 102, 1800, 1800]))\n",
      "Record(CHROM=Pf3D7_07_v3, POS=403615, REF=G, ALT=[A]) []\n",
      "Call(sample=PA0490-C, CallData(GT=0/0, AD=[91, 0], BCS=[None, None, None, None], DP=91, GQ=99, PGT=None, PID=None, PL=[0, 102, 1800]))\n",
      "Record(CHROM=Pf3D7_07_v3, POS=403618, REF=A, ALT=[AT]) []\n",
      "Call(sample=PA0490-C, CallData(GT=1/1, AD=[4, 134], BCS=[5037, 1027, 1619, 5609], DP=138, GQ=25, PGT=1|1, PID=403618_A_AT, PL=[5667, 25, 0]))\n",
      "Record(CHROM=Pf3D7_07_v3, POS=403620, REF=G, ALT=[T]) []\n",
      "Call(sample=PA0490-C, CallData(GT=./., AD=[139, 0], BCS=[None, None, None, None], DP=139, GQ=None, PGT=None, PID=None, PL=[0, 0, 0]))\n",
      "Record(CHROM=Pf3D7_07_v3, POS=403621, REF=A, ALT=[G]) []\n",
      "Call(sample=PA0490-C, CallData(GT=./., AD=[139, 0], BCS=[None, None, None, None], DP=139, GQ=None, PGT=None, PID=None, PL=[0, 0, 0]))\n",
      "Record(CHROM=Pf3D7_07_v3, POS=403622, REF=AT, ALT=[A]) []\n",
      "Call(sample=PA0490-C, CallData(GT=0/1, AD=[5, 137], BCS=[5164, 1074, 1652, 5724], DP=142, GQ=20, PGT=0|1, PID=403618_A_AT, PL=[5809, 0, 20]))\n",
      "Record(CHROM=Pf3D7_07_v3, POS=403623, REF=TA, ALT=[*, AA]) []\n",
      "Call(sample=PA0490-C, CallData(GT=0/1, AD=[5, 137, 0], BCS=[5164, 1074, 1652, 5724], DP=142, GQ=20, PGT=0|1, PID=403618_A_AT, PL=[5809, 0, 20, 5824, 441, 6266]))\n",
      "Record(CHROM=Pf3D7_07_v3, POS=403625, REF=A, ALT=[C]) []\n",
      "Call(sample=PA0490-C, CallData(GT=0/1, AD=[4, 136], BCS=[5100, 1105, 1625, 5603], DP=140, GQ=26, PGT=0|1, PID=403618_A_AT, PL=[5740, 0, 26]))\n",
      "[MutableSeq('tgtgtaATtgaATAAa', Alphabet()), MutableSeq('tgtgtaATtgaAaCa', Alphabet())]\n"
     ]
    },
    {
     "name": "stderr",
     "output_type": "stream",
     "text": [
      "/nfs/users/nfs_r/rp7/anaconda3/lib/python3.4/site-packages/Bio/Seq.py:2040: BiopythonWarning: Partial codon, len(sequence) not a multiple of three. Explicitly trim the sequence or add trailing N before translation. This may become an error in future.\n",
      "  BiopythonWarning)\n"
     ]
    },
    {
     "data": {
      "text/plain": [
       "(OrderedDict([('PA0490-C', 'CVIE*,CVIET')]), 'CVMNK')"
      ]
     },
     "execution_count": 334,
     "metadata": {},
     "output_type": "execute_result"
    }
   ],
   "source": [
    "call_haplotypes(samples=['PA0490-C'])"
   ]
  },
  {
   "cell_type": "code",
   "execution_count": 17,
   "metadata": {
    "collapsed": false
   },
   "outputs": [
    {
     "name": "stdout",
     "output_type": "stream",
     "text": [
      "Record(CHROM=Pf3D7_07_v3, POS=403612, REF=T, ALT=[A]) []\n",
      "Record(CHROM=Pf3D7_07_v3, POS=403613, REF=G, ALT=[A, C]) []\n",
      "Record(CHROM=Pf3D7_07_v3, POS=403615, REF=G, ALT=[A]) []\n",
      "Record(CHROM=Pf3D7_07_v3, POS=403618, REF=A, ALT=[AT]) []\n",
      "Record(CHROM=Pf3D7_07_v3, POS=403620, REF=G, ALT=[T]) []\n",
      "Record(CHROM=Pf3D7_07_v3, POS=403621, REF=A, ALT=[G]) []\n",
      "Record(CHROM=Pf3D7_07_v3, POS=403622, REF=AT, ALT=[A]) []\n",
      "Record(CHROM=Pf3D7_07_v3, POS=403623, REF=TA, ALT=[*, AA]) []\n",
      "Record(CHROM=Pf3D7_07_v3, POS=403625, REF=A, ALT=[C]) []\n"
     ]
    },
    {
     "name": "stderr",
     "output_type": "stream",
     "text": [
      "/nfs/users/nfs_r/rp7/anaconda3/lib/python3.4/site-packages/Bio/Seq.py:2040: BiopythonWarning: Partial codon, len(sequence) not a multiple of three. Explicitly trim the sequence or add trailing N before translation. This may become an error in future.\n",
      "  BiopythonWarning)\n"
     ]
    },
    {
     "data": {
      "text/plain": [
       "(OrderedDict([('PA0490-C', 'CVIE*,CVIET')]), 'CVMNK')"
      ]
     },
     "execution_count": 17,
     "metadata": {},
     "output_type": "execute_result"
    }
   ],
   "source": [
    "call_haplotypes(samples=['PA0490-C'])"
   ]
  },
  {
   "cell_type": "code",
   "execution_count": 21,
   "metadata": {
    "collapsed": false
   },
   "outputs": [
    {
     "name": "stdout",
     "output_type": "stream",
     "text": [
      "Record(CHROM=Pf3D7_07_v3, POS=403612, REF=T, ALT=[A]) []\n",
      "Record(CHROM=Pf3D7_07_v3, POS=403613, REF=G, ALT=[A, C]) []\n",
      "Record(CHROM=Pf3D7_07_v3, POS=403615, REF=G, ALT=[A]) []\n",
      "Record(CHROM=Pf3D7_07_v3, POS=403618, REF=A, ALT=[AT]) []\n",
      "Record(CHROM=Pf3D7_07_v3, POS=403620, REF=G, ALT=[T]) []\n",
      "Record(CHROM=Pf3D7_07_v3, POS=403621, REF=A, ALT=[G]) []\n",
      "Record(CHROM=Pf3D7_07_v3, POS=403622, REF=AT, ALT=[A]) []\n",
      "Record(CHROM=Pf3D7_07_v3, POS=403623, REF=TA, ALT=[*, AA]) []\n",
      "Record(CHROM=Pf3D7_07_v3, POS=403625, REF=A, ALT=[C]) []\n"
     ]
    }
   ],
   "source": [
    "_, _, sample_sequences = call_haplotypes(samples=['PA0490-C'])"
   ]
  },
  {
   "cell_type": "code",
   "execution_count": 33,
   "metadata": {
    "collapsed": false
   },
   "outputs": [
    {
     "name": "stdout",
     "output_type": "stream",
     "text": [
      "Record(CHROM=Pf3D7_07_v3, POS=403612, REF=T, ALT=[A]) []\n",
      "Record(CHROM=Pf3D7_07_v3, POS=403613, REF=G, ALT=[A, C]) []\n",
      "Record(CHROM=Pf3D7_07_v3, POS=403615, REF=G, ALT=[A]) []\n",
      "Record(CHROM=Pf3D7_07_v3, POS=403618, REF=A, ALT=[AT]) []\n",
      "Record(CHROM=Pf3D7_07_v3, POS=403620, REF=G, ALT=[T]) []\n",
      "Record(CHROM=Pf3D7_07_v3, POS=403621, REF=A, ALT=[G]) []\n",
      "Record(CHROM=Pf3D7_07_v3, POS=403622, REF=AT, ALT=[A]) []\n",
      "Record(CHROM=Pf3D7_07_v3, POS=403623, REF=TA, ALT=[*, AA]) []\n",
      "Record(CHROM=Pf3D7_07_v3, POS=403625, REF=A, ALT=[C]) []\n"
     ]
    },
    {
     "data": {
      "text/plain": [
       "(OrderedDict([('PA0490-C', '!!!!!,CVIET')]),\n",
       " 'CVMNK',\n",
       " OrderedDict([('PA0490-C',\n",
       "               [MutableSeq('tgtgtaATtgaATAAa', Alphabet()),\n",
       "                MutableSeq('tgtgtaATtgaAaCa', Alphabet())])]))"
      ]
     },
     "execution_count": 33,
     "metadata": {},
     "output_type": "execute_result"
    }
   ],
   "source": [
    "call_haplotypes(samples=['PA0490-C'])"
   ]
  },
  {
   "cell_type": "code",
   "execution_count": 24,
   "metadata": {
    "collapsed": false
   },
   "outputs": [
    {
     "data": {
      "text/plain": [
       "[MutableSeq('tgtgtaATtgaATAAa', Alphabet()),\n",
       " MutableSeq('tgtgtaATtgaAaCa', Alphabet())]"
      ]
     },
     "execution_count": 24,
     "metadata": {},
     "output_type": "execute_result"
    }
   ],
   "source": [
    "sample_sequences['PA0490-C']"
   ]
  },
  {
   "cell_type": "code",
   "execution_count": 28,
   "metadata": {
    "collapsed": false
   },
   "outputs": [
    {
     "data": {
      "text/plain": [
       "1"
      ]
     },
     "execution_count": 28,
     "metadata": {},
     "output_type": "execute_result"
    }
   ],
   "source": [
    "len(sample_sequences['PA0490-C'][0]) % 3"
   ]
  },
  {
   "cell_type": "code",
   "execution_count": 29,
   "metadata": {
    "collapsed": false
   },
   "outputs": [
    {
     "data": {
      "text/plain": [
       "0"
      ]
     },
     "execution_count": 29,
     "metadata": {},
     "output_type": "execute_result"
    }
   ],
   "source": [
    "len(sample_sequences['PA0490-C'][1]) % 3"
   ]
  },
  {
   "cell_type": "code",
   "execution_count": 31,
   "metadata": {
    "collapsed": false
   },
   "outputs": [
    {
     "data": {
      "text/plain": [
       "2"
      ]
     },
     "execution_count": 31,
     "metadata": {},
     "output_type": "execute_result"
    }
   ],
   "source": [
    "17 % 3"
   ]
  },
  {
   "cell_type": "code",
   "execution_count": 339,
   "metadata": {
    "collapsed": false
   },
   "outputs": [
    {
     "name": "stdout",
     "output_type": "stream",
     "text": [
      "Record(CHROM=Pf3D7_07_v3, POS=403612, REF=T, ALT=[A]) []\n",
      "Call(sample=PH0046-C, CallData(GT=0/0, AD=[151, 0], BCS=[None, None, None, None], DP=151, GQ=99, PGT=None, PID=None, PL=[0, 120, 1800]))\n",
      "Record(CHROM=Pf3D7_07_v3, POS=403613, REF=G, ALT=[A, C]) []\n",
      "Call(sample=PH0046-C, CallData(GT=0/0, AD=[151, 0, 0], BCS=[None, None, None, None], DP=151, GQ=99, PGT=None, PID=None, PL=[0, 120, 1800, 120, 1800, 1800]))\n",
      "Record(CHROM=Pf3D7_07_v3, POS=403615, REF=G, ALT=[A]) []\n",
      "Call(sample=PH0046-C, CallData(GT=0/0, AD=[151, 0], BCS=[None, None, None, None], DP=151, GQ=99, PGT=None, PID=None, PL=[0, 120, 1800]))\n",
      "Record(CHROM=Pf3D7_07_v3, POS=403618, REF=A, ALT=[AT]) []\n",
      "Call(sample=PH0046-C, CallData(GT=0/1, AD=[230, 43], BCS=[7694, 1394, 2654, 8890], DP=273, GQ=99, PGT=0|1, PID=403618_A_AT, PL=[702, 0, 7429]))\n",
      "1\n",
      "2\n",
      "6\n",
      "7\n",
      "Record(CHROM=Pf3D7_07_v3, POS=403620, REF=G, ALT=[T]) []\n",
      "Call(sample=PH0046-C, CallData(GT=0/1, AD=[45, 237], BCS=[7963, 1499, 2725, 9118], DP=282, GQ=99, PGT=0|1, PID=403620_G_T, PL=[7512, 0, 723]))\n",
      "1\n",
      "2\n",
      "6\n",
      "8\n",
      "9\n",
      "Sample PH0046-C two PIDs\n",
      "Record(CHROM=Pf3D7_07_v3, POS=403621, REF=A, ALT=[G]) []\n",
      "Call(sample=PH0046-C, CallData(GT=0/1, AD=[46, 238], BCS=[8025, 1524, 2740, 9167], DP=284, GQ=99, PGT=0|1, PID=403620_G_T, PL=[7526, 0, 718]))\n",
      "1\n",
      "2\n",
      "6\n",
      "8\n",
      "9\n",
      "Sample PH0046-C two PIDs\n",
      "Record(CHROM=Pf3D7_07_v3, POS=403622, REF=AT, ALT=[A]) []\n",
      "Call(sample=PH0046-C, CallData(GT=0/1, AD=[242, 46], BCS=[8142, 1566, 2768, 9263], DP=288, GQ=99, PGT=0|1, PID=403618_A_AT, PL=[718, 0, 7546]))\n",
      "1\n",
      "2\n",
      "6\n",
      "8\n",
      "Record(CHROM=Pf3D7_07_v3, POS=403623, REF=TA, ALT=[*, AA]) []\n",
      "Call(sample=PH0046-C, CallData(GT=0/1, AD=[242, 46, 0], BCS=[8142, 1566, 2768, 9263], DP=288, GQ=99, PGT=0|1, PID=403618_A_AT, PL=[718, 0, 7546, 1444, 7684, 9128]))\n",
      "1\n",
      "2\n",
      "6\n",
      "8\n",
      "Record(CHROM=Pf3D7_07_v3, POS=403625, REF=A, ALT=[C]) []\n",
      "Call(sample=PH0046-C, CallData(GT=1/1, AD=[0, 285], BCS=[8076, 1635, 2721, 9048], DP=285, GQ=99, PGT=None, PID=None, PL=[12966, 881, 0]))\n",
      "[MutableSeq('tgtgtaAtGAATACa', Alphabet()), MutableSeq('tgtgtaATtTGAaCa', Alphabet())]\n"
     ]
    },
    {
     "data": {
      "text/plain": [
       "(OrderedDict([('PH0046-C', '?????')]), 'CVMNK')"
      ]
     },
     "execution_count": 339,
     "metadata": {},
     "output_type": "execute_result"
    }
   ],
   "source": [
    "call_haplotypes(samples=['PH0046-C'])"
   ]
  },
  {
   "cell_type": "code",
   "execution_count": 340,
   "metadata": {
    "collapsed": false
   },
   "outputs": [
    {
     "name": "stdout",
     "output_type": "stream",
     "text": [
      "Record(CHROM=Pf3D7_08_v3, POS=549681, REF=T, ALT=[G, C]) []\n",
      "Call(sample=PC0276-C, CallData(GT=0/2, AD=[201, 0, 143], BCS=[3140, 2224, 2815, 4747], DP=344, GQ=99, PGT=None, PID=None, PL=[5375, 5980, 18795, 0, 12815, 12381]))\n",
      "1\n",
      "2\n",
      "5\n",
      "Record(CHROM=Pf3D7_08_v3, POS=549682, REF=C, ALT=[T, G, A]) []\n",
      "Call(sample=PC0276-C, CallData(GT=0/3, AD=[198, 2, 0, 143], BCS=[3130, 2223, 2806, 4746], DP=343, GQ=99, PGT=None, PID=None, PL=[5375, 5928, 11999, 5971, 12004, 12048, 0, 6619, 6668, 12332]))\n",
      "1\n",
      "2\n",
      "4\n",
      "Sample PC0276-C two unphased hets\n",
      "5\n",
      "Record(CHROM=Pf3D7_08_v3, POS=549683, REF=T, ALT=[C]) []\n",
      "Call(sample=PC0276-C, CallData(GT=0/0, AD=[308, 0], BCS=[None, None, None, None], DP=308, GQ=99, PL=[0, 120, 1800]))\n",
      "[MutableSeq('TCt', Alphabet()), MutableSeq('CAt', Alphabet())]\n"
     ]
    },
    {
     "data": {
      "text/plain": [
       "(OrderedDict([('PC0276-C', 'X')]), 'S')"
      ]
     },
     "execution_count": 340,
     "metadata": {},
     "output_type": "execute_result"
    }
   ],
   "source": [
    "call_haplotypes('dhps_436', 'Pf3D7_08_v3', 549681, 549683, samples=['PC0276-C'])"
   ]
  },
  {
   "cell_type": "code",
   "execution_count": null,
   "metadata": {
    "collapsed": true
   },
   "outputs": [],
   "source": []
  }
 ],
 "metadata": {
  "anaconda-cloud": {},
  "kernelspec": {
   "display_name": "Python [default]",
   "language": "python",
   "name": "python3"
  },
  "language_info": {
   "codemirror_mode": {
    "name": "ipython",
    "version": 3
   },
   "file_extension": ".py",
   "mimetype": "text/x-python",
   "name": "python",
   "nbconvert_exporter": "python",
   "pygments_lexer": "ipython3",
   "version": "3.4.5"
  }
 },
 "nbformat": 4,
 "nbformat_minor": 1
}
