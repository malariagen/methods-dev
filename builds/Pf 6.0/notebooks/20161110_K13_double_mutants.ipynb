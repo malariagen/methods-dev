{
 "cells": [
  {
   "cell_type": "code",
   "execution_count": 1,
   "metadata": {
    "collapsed": false
   },
   "outputs": [
    {
     "name": "stdout",
     "output_type": "stream",
     "text": [
      "python 3.4.5 |Anaconda 2.2.0 (64-bit)| (default, Jul  2 2016, 17:47:47) \n",
      "[GCC 4.4.7 20120313 (Red Hat 4.4.7-1)]\n",
      "numpy 1.11.1\n",
      "scipy 0.18.0\n",
      "pandas 0.19.0\n",
      "numexpr 2.6.1\n",
      "pysam 0.9.1.4\n",
      "petl 1.1.0\n",
      "petlx 1.0.3\n",
      "vcf 0.6.8\n",
      "vcfnp 2.3.0.dev0\n",
      "h5py 2.4.0\n",
      "tables 3.1.1\n"
     ]
    }
   ],
   "source": [
    "%run _standard_imports.ipynb"
   ]
  },
  {
   "cell_type": "code",
   "execution_count": 2,
   "metadata": {
    "collapsed": true
   },
   "outputs": [],
   "source": [
    "output_dir = \"/nfs/team112_internal/rp7/data/methods-dev/builds/Pf 6.0/20161110_K13_double_mutants\"\n",
    "!mkdir -p {output_dir}"
   ]
  },
  {
   "cell_type": "code",
   "execution_count": 3,
   "metadata": {
    "collapsed": true
   },
   "outputs": [],
   "source": [
    "def create_variants_npy(vcf_fn='/lustre/scratch116/malaria/pfalciparum/output/0/8/b/3/72179/1_gatk_combine_variants_gatk3_v2/SNP_INDEL_Pf3D7_13_v3.combined.vcf.gz',\n",
    "                        region='Pf3D7_13_v3:1724817-1726997'):\n",
    "    cache_dir = '%s/vcfnp_cache' % output_dir\n",
    "    if not os.path.exists(cache_dir):\n",
    "        os.makedirs(cache_dir)\n",
    "    variants = vcfnp.variants(\n",
    "        vcf_fn,\n",
    "        region,\n",
    "#         fields=['CHROM', 'POS', 'REF', 'ALT',\n",
    "#                 'AC', 'AN', 'FILTER', 'VQSLOD'],\n",
    "        dtypes={\n",
    "            'REF':                      'a200',\n",
    "            'ALT':                      'a200',\n",
    "        },\n",
    "#         arities={\n",
    "#             'ALT':   1,\n",
    "#             'AC':    1,\n",
    "#         },\n",
    "        flatten_filter=True,\n",
    "        progress=100,\n",
    "        verbose=True,\n",
    "        cache=True,\n",
    "        cachedir=cache_dir\n",
    "    )\n",
    "    return(variants)\n",
    "\n",
    "def create_calldata_npy(vcf_fn='/lustre/scratch116/malaria/pfalciparum/output/0/8/b/3/72179/1_gatk_combine_variants_gatk3_v2/SNP_INDEL_Pf3D7_13_v3.combined.vcf.gz',\n",
    "                        region='Pf3D7_13_v3:1724817-1726997'):\n",
    "    cache_dir = '%s/vcfnp_cache' % output_dir\n",
    "    if not os.path.exists(cache_dir):\n",
    "        os.makedirs(cache_dir)\n",
    "    calldata = vcfnp.calldata_2d(\n",
    "        vcf_fn,\n",
    "        region,\n",
    "        fields=['GT', 'AD', 'GQ', 'PGT', 'PID'],\n",
    "#         dtypes={\n",
    "#             'AD': 'u2',\n",
    "#         },\n",
    "#         arities={\n",
    "#             'AD': max_alleles,\n",
    "#         },\n",
    "        progress=100,\n",
    "        verbose=True,\n",
    "        cache=True,\n",
    "        cachedir=cache_dir\n",
    "    )\n",
    "    return(calldata)\n"
   ]
  },
  {
   "cell_type": "code",
   "execution_count": 4,
   "metadata": {
    "collapsed": false
   },
   "outputs": [
    {
     "name": "stderr",
     "output_type": "stream",
     "text": [
      "[vcfnp] 2016-11-11 12:04:37.650253 :: caching is enabled\n",
      "[vcfnp] 2016-11-11 12:04:37.653392 :: cache file available\n",
      "[vcfnp] 2016-11-11 12:04:37.656174 :: loading from cache file /nfs/team112_internal/rp7/data/methods-dev/builds/Pf 6.0/analysis/20161110_K13_double_mutants/vcfnp_cache/variants.Pf3D7_13_v3_1724817_1726997.npy\n",
      "[vcfnp] 2016-11-11 12:04:37.709569 :: caching is enabled\n",
      "[vcfnp] 2016-11-11 12:04:37.712527 :: cache file available\n",
      "[vcfnp] 2016-11-11 12:04:37.713917 :: loading from cache file /nfs/team112_internal/rp7/data/methods-dev/builds/Pf 6.0/analysis/20161110_K13_double_mutants/vcfnp_cache/calldata_2d.Pf3D7_13_v3_1724817_1726997.npy\n"
     ]
    }
   ],
   "source": [
    "variants = create_variants_npy()\n",
    "calldata = create_calldata_npy()"
   ]
  },
  {
   "cell_type": "code",
   "execution_count": 5,
   "metadata": {
    "collapsed": false
   },
   "outputs": [
    {
     "data": {
      "text/plain": [
       "(450, 7182)"
      ]
     },
     "execution_count": 5,
     "metadata": {},
     "output_type": "execute_result"
    }
   ],
   "source": [
    "calldata['GT'].shape"
   ]
  },
  {
   "cell_type": "code",
   "execution_count": 6,
   "metadata": {
    "collapsed": true
   },
   "outputs": [],
   "source": [
    "def num_nonref(gt):\n",
    "    return(np.count_nonzero(np.logical_not(np.in1d(gt, [b'0/0', b'./.']))))\n",
    "    "
   ]
  },
  {
   "cell_type": "code",
   "execution_count": 7,
   "metadata": {
    "collapsed": true
   },
   "outputs": [],
   "source": [
    "def num_nonref_hom(gt):\n",
    "    return(np.count_nonzero(np.logical_not(np.in1d(gt, [b'0/0', b'./.', b'0/1', b'0/2', b'1/2']))))\n",
    "    "
   ]
  },
  {
   "cell_type": "code",
   "execution_count": 8,
   "metadata": {
    "collapsed": true
   },
   "outputs": [],
   "source": [
    "nonref_per_sample = np.apply_along_axis(num_nonref, 0, calldata['GT'])"
   ]
  },
  {
   "cell_type": "code",
   "execution_count": 9,
   "metadata": {
    "collapsed": false
   },
   "outputs": [
    {
     "data": {
      "text/plain": [
       "7182"
      ]
     },
     "execution_count": 9,
     "metadata": {},
     "output_type": "execute_result"
    }
   ],
   "source": [
    "len(nonref_per_sample)"
   ]
  },
  {
   "cell_type": "code",
   "execution_count": 10,
   "metadata": {
    "collapsed": true
   },
   "outputs": [],
   "source": [
    "variant_set = collections.OrderedDict()\n",
    "variant_set['all'] = (variants['CHROM'] == b'Pf3D7_13_v3')\n",
    "variant_set['pass'] = (variants['FILTER_PASS'])\n",
    "variant_set['non_synonymous'] = (variants['SNPEFF_EFFECT'] == b'NON_SYNONYMO')\n",
    "variant_set['non_synonymous pass'] = ( (variants['SNPEFF_EFFECT'] == b'NON_SYNONYMO') & (variants['FILTER_PASS']) )\n",
    "variant_set['BTBPOZ_propeller'] = (variants['POS'] <= 1725953) # from amino acid 349\n",
    "variant_set['non_synonymous BTBPOZ_propeller'] = ( (variants['SNPEFF_EFFECT'] == b'NON_SYNONYMO') & (variants['POS'] <= 1725953) )\n",
    "variant_set['non_synonymous pass BTBPOZ_propeller'] = ( (variants['SNPEFF_EFFECT'] == b'NON_SYNONYMO') & (variants['FILTER_PASS']) & (variants['POS'] <= 1725953) )\n",
    "\n"
   ]
  },
  {
   "cell_type": "code",
   "execution_count": 11,
   "metadata": {
    "collapsed": false
   },
   "outputs": [
    {
     "name": "stdout",
     "output_type": "stream",
     "text": [
      "all 450\n",
      "(array([  0,   1,   2,   3,   4,   5,   6,   7,   9,  12,  14,  15,  17,\n",
      "        18,  19,  22,  28,  34,  41,  45,  46,  48,  95,  98, 103, 104, 133]), array([2352, 3175, 1389,  205,   33,    3,    2,    2,    1,    1,    2,\n",
      "          1,    1,    2,    1,    1,    1,    1,    1,    1,    1,    1,\n",
      "          1,    1,    1,    1,    1]))\n",
      "\n",
      "pass 427\n",
      "(array([  0,   1,   2,   3,   4,   5,   7,   9,  12,  14,  15,  17,  21,\n",
      "        23,  30,  39,  40,  41,  43,  91,  95,  99, 100, 129]), array([2364, 3197, 1388,  178,   29,    3,    2,    1,    2,    3,    1,\n",
      "          2,    1,    1,    1,    1,    1,    1,    1,    1,    1,    1,\n",
      "          1,    1]))\n",
      "\n",
      "non_synonymous 169\n",
      "(array([ 0,  1,  2,  3,  4,  5,  9, 14, 18, 22, 23]), array([3559, 3244,  333,   36,    2,    1,    2,    1,    2,    1,    1]))\n",
      "\n",
      "non_synonymous pass 168\n",
      "(array([ 0,  1,  2,  3,  4,  5,  9, 14, 18, 22, 23]), array([3565, 3243,  328,   36,    2,    1,    2,    1,    2,    1,    1]))\n",
      "\n",
      "BTBPOZ_propeller 253\n",
      "(array([ 0,  1,  2,  3,  4,  5,  8, 13, 16, 17, 18, 32, 34, 36, 44, 70, 72,\n",
      "       78, 93]), array([5658, 1455,   43,    7,    1,    1,    1,    3,    1,    1,    2,\n",
      "          1,    1,    1,    1,    2,    1,    1,    1]))\n",
      "\n",
      "non_synonymous BTBPOZ_propeller 76\n",
      "(array([ 0,  1,  2,  3,  4,  6,  8,  9, 11, 12]), array([5901, 1235,   34,    4,    1,    1,    1,    3,    1,    1]))\n",
      "\n",
      "non_synonymous pass BTBPOZ_propeller 75\n",
      "(array([ 0,  1,  2,  3,  4,  6,  8,  9, 11, 12]), array([5909, 1230,   31,    4,    1,    1,    1,    3,    1,    1]))\n",
      "\n"
     ]
    }
   ],
   "source": [
    "for set_name in variant_set:\n",
    "    print(set_name, np.count_nonzero(variant_set[set_name]))\n",
    "    nonref_per_sample = np.apply_along_axis(num_nonref, 0, calldata['GT'][variant_set[set_name], :])\n",
    "    print(np.unique(nonref_per_sample, return_counts=True))\n",
    "    print()"
   ]
  },
  {
   "cell_type": "code",
   "execution_count": 12,
   "metadata": {
    "collapsed": false
   },
   "outputs": [
    {
     "name": "stdout",
     "output_type": "stream",
     "text": [
      "all 450\n",
      "(array([ 0,  1,  2,  3,  4, 14, 39]), array([3642, 2655,  859,   20,    3,    2,    1]))\n",
      "\n",
      "pass 427\n",
      "(array([ 0,  1,  2,  3,  4, 13, 14, 38]), array([3643, 2654,  859,   20,    3,    1,    1,    1]))\n",
      "\n",
      "non_synonymous 169\n",
      "(array([0, 1, 2, 3, 9]), array([4620, 2499,   59,    3,    1]))\n",
      "\n",
      "non_synonymous pass 168\n",
      "(array([0, 1, 2, 3, 9]), array([4620, 2499,   59,    3,    1]))\n",
      "\n",
      "BTBPOZ_propeller 253\n",
      "(array([ 0,  1,  2, 13, 35]), array([5978, 1199,    3,    1,    1]))\n",
      "\n",
      "non_synonymous BTBPOZ_propeller 76\n",
      "(array([0, 1, 6]), array([6077, 1104,    1]))\n",
      "\n",
      "non_synonymous pass BTBPOZ_propeller 75\n",
      "(array([0, 1, 6]), array([6077, 1104,    1]))\n",
      "\n"
     ]
    }
   ],
   "source": [
    "for set_name in variant_set:\n",
    "    print(set_name, np.count_nonzero(variant_set[set_name]))\n",
    "    nonref_hom_per_sample = np.apply_along_axis(num_nonref_hom, 0, calldata['GT'][variant_set[set_name], :])\n",
    "    print(np.unique(nonref_hom_per_sample, return_counts=True))\n",
    "    print()"
   ]
  },
  {
   "cell_type": "code",
   "execution_count": 15,
   "metadata": {
    "collapsed": true
   },
   "outputs": [],
   "source": [
    "nonref_per_sample = np.apply_along_axis(num_nonref, 0, calldata['GT'][variant_set['non_synonymous pass BTBPOZ_propeller'], :])"
   ]
  },
  {
   "cell_type": "code",
   "execution_count": 13,
   "metadata": {
    "collapsed": false
   },
   "outputs": [
    {
     "data": {
      "text/plain": [
       "array(['FP0008-C', 'FP0009-C', 'FP0015-C', ..., 'QV0109-C', 'QV0110-C',\n",
       "       'QV0112-C'], \n",
       "      dtype='<U10')"
      ]
     },
     "execution_count": 13,
     "metadata": {},
     "output_type": "execute_result"
    }
   ],
   "source": [
    "vcf_fn = '/lustre/scratch116/malaria/pfalciparum/output/0/8/b/3/72179/1_gatk_combine_variants_gatk3_v2/SNP_INDEL_Pf3D7_13_v3.combined.vcf.gz'\n",
    "samples = np.array(vcf.Reader(filename=vcf_fn).samples)\n",
    "samples"
   ]
  },
  {
   "cell_type": "code",
   "execution_count": 16,
   "metadata": {
    "collapsed": false
   },
   "outputs": [
    {
     "name": "stdout",
     "output_type": "stream",
     "text": [
      "['PA0190-C', 'PA0258-C', 'PA0264-C', 'PA0271-C', 'PF0345-C', 'PH0714-C', 'PH0914-Cx', 'PT0154-C', 'PT0154-Cx', 'QC0280-C', 'QG0441-C', 'QP0097-C']\n"
     ]
    },
    {
     "data": {
      "text/plain": [
       "array([ 9,  3, 12,  6,  8,  3,  3,  9, 11,  4,  3,  9])"
      ]
     },
     "execution_count": 16,
     "metadata": {},
     "output_type": "execute_result"
    }
   ],
   "source": [
    "print(list(samples[nonref_per_sample>2]))\n",
    "nonref_per_sample[nonref_per_sample>2]"
   ]
  },
  {
   "cell_type": "code",
   "execution_count": null,
   "metadata": {
    "collapsed": true
   },
   "outputs": [],
   "source": []
  },
  {
   "cell_type": "code",
   "execution_count": 18,
   "metadata": {
    "collapsed": false
   },
   "outputs": [
    {
     "data": {
      "text/plain": [
       "array([0, 1, 0, 1, 7, 0, 0, 0, 0, 0, 0, 6, 0, 0, 1, 0, 1, 0, 0, 0, 0, 2, 8,\n",
       "       0, 0, 0, 7, 0, 0, 6, 0, 0, 1, 0, 0, 0, 1, 0, 0, 0, 0, 0, 0, 0, 0, 0,\n",
       "       0, 0, 6, 6, 6, 0, 0, 0, 0, 0, 0, 0, 0, 0, 0, 1, 0, 0, 0, 0, 0, 6, 7,\n",
       "       4, 0, 2, 0, 0, 0])"
      ]
     },
     "execution_count": 18,
     "metadata": {},
     "output_type": "execute_result"
    }
   ],
   "source": [
    "nonref_per_variant_dodgy = np.apply_along_axis(\n",
    "    lambda x: np.count_nonzero(np.logical_not(np.in1d(x, [b'0/0', b'./.']))),\n",
    "    1,\n",
    "    calldata['GT'][variant_set['non_synonymous pass BTBPOZ_propeller'], :][:, nonref_per_sample>2]\n",
    ")\n",
    "nonref_per_variant_dodgy"
   ]
  },
  {
   "cell_type": "code",
   "execution_count": 19,
   "metadata": {
    "collapsed": false
   },
   "outputs": [
    {
     "data": {
      "text/plain": [
       "array([  3,  10,   2,   2,  12,  31,   3,   1,   1,   1,   3,   6,   2,\n",
       "         1,   6,   1,   1,   1,   1,   2,   3, 663,  41,   2,  32,   1,\n",
       "         7,   1,  10,   6,   3,  28,   1,   2,  24,  33,  74,  21,   3,\n",
       "         1,   1,   2,   1,   1,   8,   1,   3,   1,   6,   6,   6,   4,\n",
       "       112,   3,   5,   4,   8,   1,   1,  18,  11,  40,   1,   2,  36,\n",
       "         6,   1,  11,  11,   5,   1,   2,   1,   1,   5])"
      ]
     },
     "execution_count": 19,
     "metadata": {},
     "output_type": "execute_result"
    }
   ],
   "source": [
    "nonref_per_variant_all = np.apply_along_axis(\n",
    "    lambda x: np.count_nonzero(np.logical_not(np.in1d(x, [b'0/0', b'./.']))),\n",
    "    1,\n",
    "    calldata['GT'][variant_set['non_synonymous pass BTBPOZ_propeller'], :]\n",
    ")\n",
    "nonref_per_variant_all"
   ]
  },
  {
   "cell_type": "code",
   "execution_count": 21,
   "metadata": {
    "collapsed": false
   },
   "outputs": [
    {
     "name": "stdout",
     "output_type": "stream",
     "text": [
      "[7 6 8 7 6 6 6 6 6 7 4]\n",
      "[12  6 41  7  6  6  6  6 11 11  5]\n"
     ]
    }
   ],
   "source": [
    "print(nonref_per_variant_dodgy[nonref_per_variant_dodgy >= 4])\n",
    "print(nonref_per_variant_all[nonref_per_variant_dodgy >= 4])\n"
   ]
  },
  {
   "cell_type": "code",
   "execution_count": 79,
   "metadata": {
    "collapsed": false
   },
   "outputs": [
    {
     "name": "stdout",
     "output_type": "stream",
     "text": [
      "['PC0172-C', 'PD0464-C', 'PD0466-C', 'PD0592-C', 'PD0667-C', 'PD0821-C', 'PD0960-C', 'PD1041-C', 'PD1196-C', 'PD1386-C', 'PH0108-C', 'PH0119-C', 'PH0302-C', 'PH0465-CW', 'PH0470-C', 'PH0573-C', 'PH0821-C', 'PH0892-C', 'PH1087-C', 'PH1089-C', 'PH1250-C', 'PH1328-C', 'PH1361-C', 'PH1676-CW2', 'PV0225-C', 'PV0228-C', 'PV0229-C', 'PV0231-C', 'PV0253-C', 'PV0255-C', 'QS0087-C']\n"
     ]
    }
   ],
   "source": [
    "print(list(samples[nonref_per_sample==2]))"
   ]
  },
  {
   "cell_type": "code",
   "execution_count": 81,
   "metadata": {
    "collapsed": false
   },
   "outputs": [
    {
     "data": {
      "text/plain": [
       "array([[ 45,  45,  45,  45,  45,  45,  45,  45,  45,  45,  45,  45,  45,\n",
       "         45,  45,  45,  45,  45,  45,  45,  45,  45,  45,  45,  45,  45,\n",
       "         45,  51, 193, 193, 193, 193, 193, 193, 193, 193, 193, 193, 193,\n",
       "        193, 193, 193, 193, 193, 193, 193, 193, 193, 193, 193, 193, 193,\n",
       "        193, 193, 193, 193, 193, 193, 193, 193, 193, 193, 191, 199, 199,\n",
       "        199, 199, 199, 199, 199, 199, 199, 199, 199, 199],\n",
       "       [  0,   0,   0,   0,   0,   0,   0,   0,   0,   0,   0,   0,   0,\n",
       "          0,   0,   0,   0,   0,   0,   0,   0,   0,   0,   0,   0,   0,\n",
       "          0, 170,   0,   0,   0,   0,   0,   0,   0,   0,   0,   0,   0,\n",
       "          0,   0,   0,   0,   0,   0,   0,   0,   0,   0,   0,   0,   0,\n",
       "          0,   0,   0,   0,   0,   0,   0,   0,   0,   0,  36,   0,   0,\n",
       "          0,   0,   0,   0,   0,   0,   0,   0,   0,   0]], dtype=uint16)"
      ]
     },
     "execution_count": 81,
     "metadata": {},
     "output_type": "execute_result"
    }
   ],
   "source": [
    "calldata['AD'][variant_set['non_synonymous pass BTBPOZ_propeller'], :][:, samples=='PC0172-C'][:, 0].transpose()"
   ]
  },
  {
   "cell_type": "code",
   "execution_count": 83,
   "metadata": {
    "collapsed": false
   },
   "outputs": [
    {
     "name": "stdout",
     "output_type": "stream",
     "text": [
      "/lustre/scratch116/malaria/pfalciparum/output/c/e/5/f/37537/4_bam_mark_duplicates_v2/pe.1.markdup.bam\tPC0172-C\r\n"
     ]
    }
   ],
   "source": [
    "!grep PC0172 ~/pf_60_mergelanes.txt"
   ]
  },
  {
   "cell_type": "code",
   "execution_count": 23,
   "metadata": {
    "collapsed": false
   },
   "outputs": [
    {
     "name": "stdout",
     "output_type": "stream",
     "text": [
      "/lustre/scratch116/malaria/pfalciparum/output/5/8/3/e/41319/4_bam_mark_duplicates_v2/pe.1.markdup.bam\tPH0714-C\r\n"
     ]
    }
   ],
   "source": [
    "# This one has 3 K13 mutants, but Olivo has down as Pf only\n",
    "!grep PH0714 ~/pf_60_mergelanes.txt"
   ]
  },
  {
   "cell_type": "code",
   "execution_count": 24,
   "metadata": {
    "collapsed": false
   },
   "outputs": [
    {
     "name": "stdout",
     "output_type": "stream",
     "text": [
      "/lustre/scratch116/malaria/pfalciparum/output/1/6/e/4/44400/4_bam_mark_duplicates_v2/pe.1.markdup.bam\tQP0097-C\r\n"
     ]
    }
   ],
   "source": [
    "# This one has 9 K13 mutants, but Olivo has down as Pf/Pm/Po - can we see any Po reads?\n",
    "!grep QP0097 ~/pf_60_mergelanes.txt"
   ]
  },
  {
   "cell_type": "code",
   "execution_count": 25,
   "metadata": {
    "collapsed": false
   },
   "outputs": [
    {
     "name": "stdout",
     "output_type": "stream",
     "text": [
      "/lustre/scratch116/malaria/pfalciparum/output/c/d/6/7/41505/4_bam_mark_duplicates_v2/pe.1.markdup.bam\tPH0914-Cx\r\n"
     ]
    }
   ],
   "source": [
    "# This one has 3 K13 mutants, but Olivo has down as Pf/Pv - can we see any Pv reads?\n",
    "!grep PH0914 ~/pf_60_mergelanes.txt"
   ]
  },
  {
   "cell_type": "code",
   "execution_count": 26,
   "metadata": {
    "collapsed": false
   },
   "outputs": [
    {
     "name": "stdout",
     "output_type": "stream",
     "text": [
      "/lustre/scratch116/malaria/pfalciparum/output/d/3/4/6/43662/4_bam_mark_duplicates_v2/pe.1.markdup.bam\tQC0280-C\r\n"
     ]
    }
   ],
   "source": [
    "# This one has 4 K13 mutants, but Olivo has down as Pf/Pv - can we see any Pv reads?\n",
    "!grep QC0280 ~/pf_60_mergelanes.txt"
   ]
  },
  {
   "cell_type": "code",
   "execution_count": 82,
   "metadata": {
    "collapsed": false
   },
   "outputs": [
    {
     "data": {
      "text/plain": [
       "array([[18, 20, 20, 28, 28, 29, 26, 23, 23, 23, 27, 22, 22, 26, 26, 26, 22,\n",
       "        30, 32, 33, 34, 36, 36, 36, 36, 36, 36, 37, 37, 36, 33, 36, 36, 35,\n",
       "        35, 35, 38, 28, 36, 36, 36, 36, 36, 36, 36, 36, 36, 36, 36, 36, 36,\n",
       "        36, 27, 34, 34, 33, 33, 31, 33, 12, 30, 30, 30, 30, 30, 29, 30, 31,\n",
       "        37, 37, 37, 37, 38, 35, 35],\n",
       "       [ 0,  0,  0,  0,  0,  0,  0,  0,  0,  0,  0,  0,  0,  0,  0,  0,  0,\n",
       "         0,  0,  0,  0,  0,  0,  0,  0,  0,  0,  0,  0,  0,  0,  0,  0,  0,\n",
       "         0,  0,  0, 10,  0,  0,  0,  0,  0,  0,  0,  0,  0,  0,  0,  0,  0,\n",
       "         0,  0,  0,  0,  0,  0,  0,  0, 21,  0,  0,  0,  0,  0,  0,  0,  0,\n",
       "         0,  0,  0,  0,  0,  0,  0]], dtype=uint16)"
      ]
     },
     "execution_count": 82,
     "metadata": {},
     "output_type": "execute_result"
    }
   ],
   "source": [
    "# This one looks like a mixture of two different K13 mutants in proportions ~1:2\n",
    "calldata['AD'][variant_set['non_synonymous pass BTBPOZ_propeller'], :][:, samples=='PD0464-C'][:, 0].transpose()"
   ]
  },
  {
   "cell_type": "code",
   "execution_count": 84,
   "metadata": {
    "collapsed": false
   },
   "outputs": [
    {
     "name": "stdout",
     "output_type": "stream",
     "text": [
      "PC0172-C\n",
      "[[ 45  45  45  45  45  45  45  45  45  45  45  45  45  45  45  45  45  45\n",
      "   45  45  45  45  45  45  45  45  45  51 193 193 193 193 193 193 193 193\n",
      "  193 193 193 193 193 193 193 193 193 193 193 193 193 193 193 193 193 193\n",
      "  193 193 193 193 193 193 193 193 191 199 199 199 199 199 199 199 199 199\n",
      "  199 199 199]\n",
      " [  0   0   0   0   0   0   0   0   0   0   0   0   0   0   0   0   0   0\n",
      "    0   0   0   0   0   0   0   0   0 170   0   0   0   0   0   0   0   0\n",
      "    0   0   0   0   0   0   0   0   0   0   0   0   0   0   0   0   0   0\n",
      "    0   0   0   0   0   0   0   0  36   0   0   0   0   0   0   0   0   0\n",
      "    0   0   0]]\n",
      "\n",
      "PD0464-C\n",
      "[[18 20 20 28 28 29 26 23 23 23 27 22 22 26 26 26 22 30 32 33 34 36 36 36\n",
      "  36 36 36 37 37 36 33 36 36 35 35 35 38 28 36 36 36 36 36 36 36 36 36 36\n",
      "  36 36 36 36 27 34 34 33 33 31 33 12 30 30 30 30 30 29 30 31 37 37 37 37\n",
      "  38 35 35]\n",
      " [ 0  0  0  0  0  0  0  0  0  0  0  0  0  0  0  0  0  0  0  0  0  0  0  0\n",
      "   0  0  0  0  0  0  0  0  0  0  0  0  0 10  0  0  0  0  0  0  0  0  0  0\n",
      "   0  0  0  0  0  0  0  0  0  0  0 21  0  0  0  0  0  0  0  0  0  0  0  0\n",
      "   0  0  0]]\n",
      "\n",
      "PD0466-C\n",
      "[[12 14 20 16 16 17 17 14 14 15 21 22 22 22 22 22 27 23 25 25 27 32 33 33\n",
      "  33 33 33 33 33 33 35  9 32 29 27 23 24 17 23 25 27 27 27 27 30 35 35 37\n",
      "  37 35 35 35 30 32 31 32 32 29 29 29 22 22 23 23 23 23 28 22 24 24 24 28\n",
      "  28 22 22]\n",
      " [ 0  0  0  0  0  0  0  0  0  0  0  0  0  0  0  0  0  0  0  0  0  0  0  0\n",
      "   0  0  0  0  0  0  0 24  0  0  0  0  0  7  0  0  0  0  0  0  0  0  0  0\n",
      "   0  0  0  0  0  0  0  0  0  0  0  0  0  0  0  0  0  0  0  0  0  0  0  0\n",
      "   0  0  0]]\n",
      "\n",
      "PD0592-C\n",
      "[[ 56  56  56  56  56  56  56  56 128 172 172 172 172 172 172 172 172 172\n",
      "  172 172 172 172 172 172  57 160 160 160 160 160 160 160 160 160 160 160\n",
      "  160 160 160 160 160 160 160 160 160 160 160 160 160 160 160 160 160 160\n",
      "  160 160 160 160 160 160 160 160 160 160 160 160 160 160 160 160 160 160\n",
      "  160 160 160]\n",
      " [  0   0   0   0   0   0   0   0  46   0   0   0   0   0   0   0   0   0\n",
      "    0   0   0   0   0   0 137   0   0   0   0   0   0   0   0   0   0   0\n",
      "    0   0   0   0   0   0   0   0   0   0   0   0   0   0   0   0   0   0\n",
      "    0   0   0   0   0   0   0   0   0   0   0   0   0   0   0   0   0   0\n",
      "    0   0   0]]\n",
      "\n",
      "PD0667-C\n",
      "[[ 38  38  38  38  38  38  38  38  38  38  38  38  38  38  38  38  38  38\n",
      "   38  38  38  28 110 110 110 110 110 110 110 110 110 110 110 110 110 110\n",
      "   77  86  86  86  86  86  86  86  86  86  86  86  86  86  86  86  86  86\n",
      "   86  86  86  86  86  86  86  86  86  86  86  86  86  86  86  86  86  86\n",
      "   86  86  86]\n",
      " [  0   0   0   0   0   0   0   0   0   0   0   0   0   0   0   0   0   0\n",
      "    0   0   0  90   0   0   0   0   0   0   0   0   0   0   0   0   0   0\n",
      "   50   0   0   0   0   0   0   0   0   0   0   0   0   0   0   0   0   0\n",
      "    0   0   0   0   0   0   0   0   0   0   0   0   0   0   0   0   0   0\n",
      "    0   0   0]]\n",
      "\n",
      "PD0821-C\n",
      "[[ 37  37  37  37  37  37  37  37  37  37  37  37  37  37  37  37  37  37\n",
      "   37  37  37  32 102 102 102 102 102 102 102 102 102  66  75  75  75  75\n",
      "   75  75  75  75  75  75  75  75  75  75  75  75  75  75  75  75  75  75\n",
      "   75  75  75  75  75  75  75  75  75  75  75  75  75  75  75  75  75  75\n",
      "   75  75  75]\n",
      " [  0   0   0   0   0   0   0   0   0   0   0   0   0   0   0   0   0   0\n",
      "    0   0   0  70   0   0   0   0   0   0   0   0   0  38   0   0   0   0\n",
      "    0   0   0   0   0   0   0   0   0   0   0   0   0   0   0   0   0   0\n",
      "    0   0   0   0   0   0   0   0   0   0   0   0   0   0   0   0   0   0\n",
      "    0   0   0]]\n",
      "\n",
      "PD0960-C\n",
      "[[25 25 26 36 36 36 36 36 36 36 38 38 38 36 36 35 35 35 35 35 35 35 35 35\n",
      "  35 35 35 38 43 36 36 36 36 36 36 34 32 27 35 32 32 32 32 32 37 37 37 37\n",
      "  37 37 37 37 37 37 37 37 21 42 42 42 42 42 42 42 42 42 42 42 42 39 39 39\n",
      "  39 39 39]\n",
      " [ 0  0  0  0  0  0  0  0  0  0  0  0  0  0  0  0  0  0  0  0  0  0  0  0\n",
      "   0  0  0  0  0  0  0  0  0  0  0  0  0  6  0  0  0  0  0  0  0  0  0  0\n",
      "   0  0  0  0  0  0  0  0 29  0  0  0  0  0  0  0  0  0  0  0  0  0  0  0\n",
      "   0  0  0]]\n",
      "\n",
      "PD1041-C\n",
      "[[22 28 36 36 36 36 36 36 36 36 35 33 33 37 37 37 37 37 37 37 37 37 37 37\n",
      "  37 37 37 37 37 37 37 37 37 37 37 37 37 23 41 41 41 41 41 41 41 41 41 41\n",
      "  41 41 41 41 41 41 41 41 41 41 41 41 41 41 41 41 41 29 40 40 40 40 40 40\n",
      "  40 40 40]\n",
      " [ 0  0  0  0  0  0  0  0  0  0  0  0  0  0  0  0  0  0  0  0  0  0  0  0\n",
      "   0  0  0  0  0  0  0  0  0  0  0  0  0 21  0  0  0  0  0  0  0  0  0  0\n",
      "   0  0  0  0  0  0  0  0  0  0  0  0  0  0  0  0  0 32  0  0  0  0  0  0\n",
      "   0  0  0]]\n",
      "\n",
      "PD1196-C\n",
      "[[33 33 33 33 33 59 67 67 67 67 67 67 67 67 67 67 67 67 67 67 67 78 79 79\n",
      "  79 79 79 79 79 79 79 79 79 79 79 79 79 79 79 79 79 79 79 79 79 79 79 79\n",
      "  79 79 79 79 79 79 79 79 79 79 79 79 79 79 79 79 79 79 79 79 79 79 79 79\n",
      "  79 79 79]\n",
      " [ 0  0  0  0  0 19  0  0  0  0  0  0  0  0  0  0  0  0  0  0  0 12  0  0\n",
      "   0  0  0  0  0  0  0  0  0  0  0  0  0  0  0  0  0  0  0  0  0  0  0  0\n",
      "   0  0  0  0  0  0  0  0  0  0  0  0  0  0  0  0  0  0  0  0  0  0  0  0\n",
      "   0  0  0]]\n",
      "\n",
      "PD1386-C\n",
      "[[36 36 36 36 36 36 36 36 36 36 36 36 36 36 36 36 36 36 36 36 36 36 36 36\n",
      "  36 36 36 36 36 36 36 36 36 36 36 36 36 36 36 36 36 36 33 98 98 98 98 98\n",
      "  98 98 98 98 98 78 39 39 39 39 39 39 39 39 39 39 39 39 39 39 39 39 39 39\n",
      "  39 39 39]\n",
      " [ 0  0  0  0  0  0  0  0  0  0  0  0  0  0  0  0  0  0  0  0  0  0  0  0\n",
      "   0  0  0  0  0  0  0  0  0  0  0  0  0  0  0  0  0  0 67  0  0  0  0  0\n",
      "   0  0  0  0  0 26  0  0  0  0  0  0  0  0  0  0  0  0  0  0  0  0  0  0\n",
      "   0  0  0]]\n",
      "\n",
      "PH0108-C\n",
      "[[ 49  49  49  49  49  49  49  49  49  49  49  49  49  49  49  49  49  49\n",
      "   49  49  49  49  49  49  49  49  49  49  49  49  49  49  49  49  49  49\n",
      "  155 190 190 190 190 190 190 190 190 190 190 190 190 190 190 190  27  43\n",
      "   43  43  43  43  43  43  43  43  43  43  43  43  43  43  43  43  43  43\n",
      "   43  43  43]\n",
      " [  0   0   0   0   0   0   0   0   0   0   0   0   0   0   0   0   0   0\n",
      "    0   0   0   0   0   0   0   0   0   0   0   0   0   0   0   0   0   0\n",
      "   19   0   0   0   0   0   0   0   0   0   0   0   0   0   0   0 169   0\n",
      "    0   0   0   0   0   0   0   0   0   0   0   0   0   0   0   0   0   0\n",
      "    0   0   0]]\n",
      "\n",
      "PH0119-C\n",
      "[[11  3 22 27 29 27 26 25 26 21 20 21 21 22 22 22 29 35 36 32 37 26 35 35\n",
      "  35 36 37 36 36 36 36 36 36 36 36 40 36 36 34 35 35 34 33 33 29 34 37 36\n",
      "  36 36 36 36 28 27 27 22 23 27 27 25 25 29 29 29 29 29 24 22 27 30 30 34\n",
      "  36 34 35]\n",
      " [ 0 11  0  0  0  0  0  0  0  0  0  0  0  0  0  0  0  0  0  0  0 10  0  0\n",
      "   0  0  0  0  0  0  0  0  0  0  0  0  0  0  0  0  0  0  0  0  0  0  0  0\n",
      "   0  0  0  0  0  0  0  0  0  0  0  0  0  0  0  0  0  0  0  0  0  0  0  0\n",
      "   0  0  0]]\n",
      "\n",
      "PH0302-C\n",
      "[[35 35 39 39 39 39 61 46 46 46 46 46 46 46 46 46 46 46 46 46 46 15 50 50\n",
      "  50 50 50 50 50 50 50 50 50 50 50 50 50 50 50 50 50 50 50 50 50 50 50 50\n",
      "  50 50 50 50 50 50 50 50 50 50 50 50 50 50 50 50 50 50 50 50 50 50 50 50\n",
      "  50 50 50]\n",
      " [ 0 11  0  0  0  0  0  0  0  0  0  0  0  0  0  0  0  0  0  0  0 42  0  0\n",
      "   0  0  0  0  0  0  0  0  0  0  0  0  0  0  0  0  0  0  0  0  0  0  0  0\n",
      "   0  0  0  0  0  0  0  0  0  0  0  0  0  0  0  0  0  0  0  0  0  0  0  0\n",
      "   0  0  0]]\n",
      "\n",
      "PH0465-CW\n",
      "[[39 44 44 44 44 44 52 59 55 55 62 62 62 62 62 62 62 62 62 62 62 30 55 55\n",
      "  55 55 55 55 55 55 55 55 55 55 55 55 55 55 55 55 55 55 55 55 55 55 55 55\n",
      "  55 55 55 55 25 48 48 48 48 48 48 48 48 48 48 48 48 48 48 48 48 48 48 48\n",
      "  48 48 48]\n",
      " [ 0  0  0  0  0  0  0  0  0  0  0  0  0  0  0  0  0  0  0  0  0 37  0  0\n",
      "   0  0  0  0  0  0  0  0  0  0  0  0  0  0  0  0  0  0  0  0  0  0  0  0\n",
      "   0  0  0  0 29  0  0  0  0  0  0  0  0  0  0  0  0  0  0  0  0  0  0  0\n",
      "   0  0  0]]\n",
      "\n",
      "PH0470-C\n",
      "[[37 41 41 41 41 41 53 47 47 49 49 49 49 49 49 49 49 49 49 49 49 40 45 45\n",
      "  45 45 45 45 45 45 45 45 45 45 45 45 45 45 45 45 45 45 45 45 45 45 45 45\n",
      "  45 45 45 45  6 58 58 58 58 58 58 58 58 58 58 58 58 58 58 58 58 58 58 58\n",
      "  58 58 58]\n",
      " [ 0  0  0  0  0  0  0  0  0  0  0  0  0  0  0  0  0  0  0  0  0  6  0  0\n",
      "   0  0  0  0  0  0  0  0  0  0  0  0  0  0  0  0  0  0  0  0  0  0  0  0\n",
      "   0  0  0  0 60  0  0  0  0  0  0  0  0  0  0  0  0  0  0  0  0  0  0  0\n",
      "   0  0  0]]\n",
      "\n",
      "PH0573-C\n",
      "[[ 47  47  47  47  47  47  47  47  47  47  47  47  47  47  47  47  47  47\n",
      "   47  47  47 132 137 137 137 137 137 137 137 137 137 137 137 137 137 137\n",
      "  137 137 137 137 137 137 137 137 137 137 137 137 137 137 137 137  19  91\n",
      "   91  91  91  91  91  91  91  91  91  91  91  91  91  91  91  91  91  91\n",
      "   91  91  91]\n",
      " [  0   0   0   0   0   0   0   0   0   0   0   0   0   0   0   0   0   0\n",
      "    0   0   0  18   0   0   0   0   0   0   0   0   0   0   0   0   0   0\n",
      "    0   0   0   0   0   0   0   0   0   0   0   0   0   0   0   0 134   0\n",
      "    0   0   0   0   0   0   0   0   0   0   0   0   0   0   0   0   0   0\n",
      "    0   0   0]]\n",
      "\n",
      "PH0821-C\n",
      "[[34 34 41 41 41 41 41 41 41 41 41 41 41 41 41 41 41 41 41 41 41  4 52 49\n",
      "  49 49 49 49 49 49 49 49 49 49 49 49 51 40 40 40 40 40 40 40 40 40 40 40\n",
      "  40 40 40 40 40 40 40 40 40 40 40 40 40 40 40 40 40 40 40 40 40 40 40 40\n",
      "  40 40 40]\n",
      " [ 0  0  0  0  0  0  0  0  0  0  0  0  0  0  0  0  0  0  0  0  0 49  0  0\n",
      "   0  0  0  0  0  0  0  0  0  0  0  0  6  0  0  0  0  0  0  0  0  0  0  0\n",
      "   0  0  0  0  0  0  0  0  0  0  0  0  0  0  0  0  0  0  0  0  0  0  0  0\n",
      "   0  0  0]]\n",
      "\n",
      "PH0892-C\n",
      "[[39 39 39 39 39 39 39 39 39 39 39 39 39 39 39 39 39 39 39 39 39 53 68 68\n",
      "  68 68 68 68 68 68 68 68 68 68 68 68 18 59 59 59 59 59 59 59 59 59 59 59\n",
      "  59 59 59 59 59 59 59 59 59 59 59 59 59 59 59 59 59 59 59 59 59 59 59 59\n",
      "  59 59 59]\n",
      " [ 0  0  0  0  0  0  0  0  0  0  0  0  0  0  0  0  0  0  0  0  0 19  0  0\n",
      "   0  0  0  0  0  0  0  0  0  0  0  0 57  0  0  0  0  0  0  0  0  0  0  0\n",
      "   0  0  0  0  0  0  0  0  0  0  0  0  0  0  0  0  0  0  0  0  0  0  0  0\n",
      "   0  0  0]]\n",
      "\n",
      "PH1087-C\n",
      "[[18 18 28 29 29 29 30 31 31 31 35 35 35 25 26 26 26 24 28 34 34 25 38 38\n",
      "  38 38 38 37 37 37 33 36 36 35 31 27 28 28 30 35 35 35 35 35 37 37 37 37\n",
      "  37 37 37 37 32 37 37 37 37 34 34 34 36 36 36 33 33 33 35 31 36 38 38 38\n",
      "  38 41 41]\n",
      " [ 0  0  0  0  0  0  0  0  0  0  0  0  0  0  0  0  0  0  0  0  0 13  0  0\n",
      "   0  0  0  0  0  0  0  0  0  0  0  0  0  0  0  0  0  0  0  0  0  0  0  0\n",
      "   0  0  0  0 13  0  0  0  0  0  0  0  0  0  0  0  0  0  0  0  0  0  0  0\n",
      "   0  0  0]]\n",
      "\n",
      "PH1089-C\n",
      "[[22 24 32 36 36 36 36 36 36 37 36 36 36 36 36 36 36 36 36 37 34 11 31 33\n",
      "  35 36 35 35 36 36 35 31 33 31 33 36 36 36 36 36 36 36 36 36 36 36 36 36\n",
      "  36 36 36 36 37 42 42 42 42 42 42 43 41 41 41 41 41 41 41 43 37 37 35 36\n",
      "  36 37 37]\n",
      " [ 0  0  0  0  0  0  0  0  0  0  0  0  0  0  0  0  0  0  0  0  0 19  0  0\n",
      "   0  0  0  0  0  0  0  0  0  0  0  0  0  0  0  0  0  0  0  0  0  0  0  0\n",
      "   0  0  0  0 10  0  0  0  0  0  0  0  0  0  0  0  0  0  0  0  0  0  0  0\n",
      "   0  0  0]]\n",
      "\n",
      "PH1250-C\n",
      "[[13  7 16 20 20 20 20 20 20 20 21 21 21 20 23 24 26 26 28 28 30 31 23 23\n",
      "  25 25 25 24 24 28 26 25 25 25 27 24 26 25 24 25 25 25 25 25 22 24 21 21\n",
      "  21 21 21 21 13 33 35 32 32 29 28 24 28 28 33 34 31 28 31 28 26 26 23 26\n",
      "  24 13 12]\n",
      " [ 0  8  0  0  0  0  0  0  0  0  0  0  0  0  0  0  0  0  0  0  0  0  0  0\n",
      "   0  0  0  0  0  0  0  0  0  0  0  0  0  0  0  0  0  0  0  0  0  0  0  0\n",
      "   0  0  0  0 19  0  0  0  0  0  0  0  0  0  0  0  0  0  0  0  0  0  0  0\n",
      "   0  0  0]]\n",
      "\n",
      "PH1328-C\n",
      "[[ 49  49  49  49  49  49  49  49  49  49  49  49  49  49  49  49  49  49\n",
      "   49  49  49  42 187 187 187 187 187 187 187 187 187 187 187 187 187 187\n",
      "  187 187 187 187 187 187 187 187 187 187 187 187 187 187 187 187 148 181\n",
      "  181 181 181 181 181 181 181 181 181 181 181 181 181 181 181 181 181 181\n",
      "  181 181 181]\n",
      " [  0   0   0   0   0   0   0   0   0   0   0   0   0   0   0   0   0   0\n",
      "    0   0   0 148   0   0   0   0   0   0   0   0   0   0   0   0   0   0\n",
      "    0   0   0   0   0   0   0   0   0   0   0   0   0   0   0   0  52   0\n",
      "    0   0   0   0   0   0   0   0   0   0   0   0   0   0   0   0   0   0\n",
      "    0   0   0]]\n",
      "\n",
      "PH1361-C\n",
      "[[ 48  48  48  48  48  48  48  48  48  48  48  48  48  48  48  48  48  48\n",
      "   48  48  48  15 144 144 144 144 144 144 144 144 144 144 144 144 144 144\n",
      "  144 144 144 144 144 144 144 144 144 144 144 144 144 144 144 144 153 149\n",
      "  149 149 149 149 149 149 149 149 149 149 149 149 149 149 149 149 149 149\n",
      "  149 149 149]\n",
      " [  0   0   0   0   0   0   0   0   0   0   0   0   0   0   0   0   0   0\n",
      "    0   0   0 151   0   0   0   0   0   0   0   0   0   0   0   0   0   0\n",
      "    0   0   0   0   0   0   0   0   0   0   0   0   0   0   0   0  18   0\n",
      "    0   0   0   0   0   0   0   0   0   0   0   0   0   0   0   0   0   0\n",
      "    0   0   0]]\n",
      "\n",
      "PH1676-CW2\n",
      "[[22 22 26 25 25 25 25 32 32 33 37 34 34 37 37 37 36 42 44 43 40  7 37 37\n",
      "  33 33 31 31 31 31 31 29 29 29 28 32 35 35 35 34 34 34 34 36 37 37 37 37\n",
      "  37 37 37 37 35 32 29 29 31 36 36 36 36 36 36 36 42 41 38 34 35 35 30 34\n",
      "  34 36 38]\n",
      " [ 0  3  0  0  0  0  0  0  0  0  0  0  0  0  0  0  0  0  0  0  0 33  0  0\n",
      "   0  0  0  0  0  0  0  0  0  0  0  0  0  0  0  0  0  0  0  0  0  0  0  0\n",
      "   0  0  0  0  0  0  0  0  0  0  0  0  0  0  0  0  0  0  0  0  0  0  0  0\n",
      "   0  0  0]]\n",
      "\n",
      "PV0225-C\n",
      "[[50 50 50 50 50 50 50 50 50 50 50 50 50 50 50 50 50 50 50 50 50 50 50 50\n",
      "  50 50 50 50 50 50 50 50 50 50 45 84 91 91 91 91 91 91 91 91 91 91 91 91\n",
      "  91 91 91 91 91 91 91 91 91 91 91 91 91 91 91 91 91 91 91 91 91 91 91 91\n",
      "  91 91 91]\n",
      " [ 0  0  0  0  0  0  0  0  0  0  0  0  0  0  0  0  0  0  0  0  0  0  0  0\n",
      "   0  0  0  0  0  0  0  0  0  0 83 41  0  0  0  0  0  0  0  0  0  0  0  0\n",
      "   0  0  0  0  0  0  0  0  0  0  0  0  0  0  0  0  0  0  0  0  0  0  0  0\n",
      "   0  0  0]]\n",
      "\n",
      "PV0228-C\n",
      "[[14 18 18 17 19 19 19 18 18 18 13 14 16 17 16 16 18 21 20 20 21  6 18 18\n",
      "  18 18 16 16 16 18 17 17 15 16 10 15 17 18 18 17 17 17 17 17 18 18 20 25\n",
      "  25 23 23 23 22 18 21 20 21 21 21 21 22 22 22 22 21 20 15 14 15 15 18 16\n",
      "  16 22 22]\n",
      " [ 0  0  0  0  0  0  0  0  0  0  0  0  0  0  0  0  0  0  0  0  0 12  0  0\n",
      "   0  0  0  0  0  0  0  0  0  0  5  0  0  0  0  0  0  0  0  0  0  0  0  0\n",
      "   0  0  0  0  0  0  0  0  0  0  0  0  0  0  0  0  0  0  0  0  0  0  0  0\n",
      "   0  0  0]]\n",
      "\n",
      "PV0229-C\n",
      "[[ 58  58  58  58  58  58  58  58  58  58  58  58  58  58  58  58  58  58\n",
      "   58  58  58  70 141 141 141 141 141 141 141 141 141 141 141 141  78 116\n",
      "  116 116 116 116 116 116 116 116 116 116 116 116 116 116 116 116 116 116\n",
      "  116 116 116 116 116 116 116 116 116 116 116 116 116 116 116 116 116 116\n",
      "  116 116 116]\n",
      " [  0   0   0   0   0   0   0   0   0   0   0   0   0   0   0   0   0   0\n",
      "    0   0   0  72   0   0   0   0   0   0   0   0   0   0   0   0  78   0\n",
      "    0   0   0   0   0   0   0   0   0   0   0   0   0   0   0   0   0   0\n",
      "    0   0   0   0   0   0   0   0   0   0   0   0   0   0   0   0   0   0\n",
      "    0   0   0]]\n",
      "\n",
      "PV0231-C\n",
      "[[ 54  54  54  54  54  54  54  54  54  54  54  54  54  54  54  54  54  54\n",
      "   54  54  54  54  54  54  25 109 109 109 109 109 109 109 109 109 109  93\n",
      "   89  89  89  89  89  89  89  89  89  89  89  89  89  89  89  89  89  89\n",
      "   89  89  89  89  89  89  89  89  89  89  89  89  89  89  89  89  89  89\n",
      "   89  89  89]\n",
      " [  0   0   0   0   0   0   0   0   0   0   0   0   0   0   0   0   0   0\n",
      "    0   0   0   0   0   0  83   0   0   0   0   0   0   0   0   0   0  28\n",
      "    0   0   0   0   0   0   0   0   0   0   0   0   0   0   0   0   0   0\n",
      "    0   0   0   0   0   0   0   0   0   0   0   0   0   0   0   0   0   0\n",
      "    0   0   0]]\n",
      "\n",
      "PV0253-C\n",
      "[[12 13 14 21 21 21 21 22 22 22 19 20 20 20 20 20 21 21 20 17 17 14 14 14\n",
      "  14 13 14 13 14 14 14 16 16 16 17 25 22 22 22 23 23 23 23 23 23 23 25 25\n",
      "  27 30 29 28 27 22 23 23 21 21 22 22 26 23 24 24 24 22 26 23 23 26 27 30\n",
      "  32 50 50]\n",
      " [ 0  0  0  0  0  0  0  0  0  0  0  0  0  0  0  0  0  0  0  0  0  0  0  0\n",
      "   0  0  0  0  0  0  0  0  0  0  0  0  0  0  0  0  0  0  0  0  0  0  0  0\n",
      "   0  0  0  0  0  0  0  0  0  0  0  0  0  0  0  0  0  0  0  3  3  0  0  0\n",
      "   0  0  0]]\n",
      "\n",
      "PV0255-C\n",
      "[[ 1  2  2  2  2  4  4  5  4  4  1  1  1  2  2  2  1  1  1  0  1  1  1  1\n",
      "   1  1  1  1  1  1  1  1  1  2  2  3  5  5  5  6  6  6  6  7  8  7  7  7\n",
      "   7  7  7  7  2  4  4  4  4  4  4  4  5  5  5  6  6  6  5  1  2  5  6  5\n",
      "   4 12 12]\n",
      " [ 0  0  0  0  0  0  0  0  0  0  0  0  0  0  0  0  0  0  0  0  0  0  0  0\n",
      "   0  0  0  0  0  0  0  0  0  0  0  0  0  0  0  0  0  0  0  0  0  0  0  0\n",
      "   0  0  0  0  0  0  0  0  0  0  0  0  0  0  0  0  0  0  0  2  2  0  0  0\n",
      "   0  0  0]]\n",
      "\n",
      "QS0087-C\n",
      "[[16 19 26 20 20 20 21 19 20 21 26 29 29 28 29 29 28 27 26 28 30 23 23 23\n",
      "  22 22 21 21 21 21 21 21 21 20 20 20 19 20 21 23 23 23 25 22 22 22 22 22\n",
      "  22 23 23 23 27 31 28 27 26 29 31 33 29 26 26 26 28 26 24 30 32 42 43 36\n",
      "  38 46 46]\n",
      " [ 0  0  0  0  0  0  0  0  0  0  0  0  0  0  0  0  0  0  0  0  0  0  0  0\n",
      "   0  0  0  0  0  0  0  0  0  0  0  0  0  0  0  0  0  0  0  0  0  0  0  0\n",
      "   0  0  0  0  0  0  0  0  0  0  0  0  0  0  0  0  0  0  0  5 10  0  0  0\n",
      "   0  0  0]]\n",
      "\n"
     ]
    }
   ],
   "source": [
    "for sample in samples[nonref_per_sample==2]:\n",
    "    print(sample)\n",
    "    print(calldata['AD'][variant_set['non_synonymous pass BTBPOZ_propeller'], :][:, samples==sample][:, 0].transpose())\n",
    "    print()"
   ]
  },
  {
   "cell_type": "code",
   "execution_count": 76,
   "metadata": {
    "collapsed": false
   },
   "outputs": [
    {
     "data": {
      "text/plain": [
       "(array([0, 1, 6]), array([6077, 1104,    1]))"
      ]
     },
     "execution_count": 76,
     "metadata": {},
     "output_type": "execute_result"
    }
   ],
   "source": [
    "np.unique(nonref_per_sample, return_counts=True)"
   ]
  },
  {
   "cell_type": "code",
   "execution_count": 47,
   "metadata": {
    "collapsed": false
   },
   "outputs": [
    {
     "data": {
      "text/plain": [
       "array([[b'0/0', b'0/0', b'0/0', b'./.', b'0/0', b'0/0', b'0/0', b'0/0',\n",
       "        b'0/0', b'0/0', b'0/0', b'0/0'],\n",
       "       [b'0/0', b'0/0', b'0/0', b'./.', b'0/0', b'0/1', b'0/0', b'0/0',\n",
       "        b'0/0', b'0/0', b'0/0', b'0/0'],\n",
       "       [b'0/0', b'0/0', b'0/0', b'0/0', b'0/0', b'0/0', b'0/0', b'0/0',\n",
       "        b'0/0', b'0/0', b'0/0', b'0/0'],\n",
       "       [b'0/0', b'0/0', b'0/0', b'0/0', b'0/0', b'0/0', b'0/0', b'0/0',\n",
       "        b'0/0', b'0/1', b'0/0', b'0/0'],\n",
       "       [b'0/1', b'0/0', b'0/1', b'1/1', b'0/1', b'0/0', b'0/0', b'0/1',\n",
       "        b'0/1', b'0/0', b'0/1', b'0/0'],\n",
       "       [b'0/0', b'0/0', b'0/0', b'0/0', b'0/0', b'0/0', b'0/0', b'0/0',\n",
       "        b'0/0', b'0/0', b'0/0', b'0/0'],\n",
       "       [b'0/0', b'0/0', b'0/0', b'0/0', b'0/0', b'0/0', b'0/0', b'0/0',\n",
       "        b'0/0', b'0/0', b'0/0', b'0/0'],\n",
       "       [b'0/0', b'0/0', b'0/0', b'0/0', b'0/0', b'0/0', b'0/0', b'0/0',\n",
       "        b'0/0', b'0/0', b'0/0', b'0/0'],\n",
       "       [b'0/0', b'0/0', b'0/0', b'0/0', b'0/0', b'0/0', b'0/0', b'0/0',\n",
       "        b'0/0', b'0/0', b'0/0', b'0/0'],\n",
       "       [b'0/0', b'0/0', b'0/0', b'0/0', b'0/0', b'0/0', b'0/0', b'0/0',\n",
       "        b'0/0', b'0/0', b'0/0', b'0/0'],\n",
       "       [b'0/0', b'0/0', b'0/0', b'0/0', b'0/0', b'0/0', b'0/0', b'0/0',\n",
       "        b'0/0', b'0/0', b'0/0', b'0/0'],\n",
       "       [b'0/1', b'0/0', b'0/1', b'./.', b'0/1', b'0/0', b'0/0', b'0/1',\n",
       "        b'0/1', b'0/0', b'0/1', b'0/0'],\n",
       "       [b'0/0', b'0/0', b'0/0', b'./.', b'0/0', b'0/0', b'0/0', b'0/0',\n",
       "        b'0/0', b'0/0', b'0/0', b'0/0'],\n",
       "       [b'0/0', b'0/0', b'0/0', b'./.', b'0/0', b'0/0', b'0/0', b'0/0',\n",
       "        b'0/0', b'0/0', b'0/0', b'0/0'],\n",
       "       [b'0/0', b'0/0', b'0/0', b'./.', b'0/0', b'0/0', b'0/0', b'0/0',\n",
       "        b'0/0', b'0/0', b'0/1', b'0/0'],\n",
       "       [b'0/0', b'0/0', b'0/0', b'./.', b'0/0', b'0/0', b'0/0', b'0/0',\n",
       "        b'0/0', b'0/0', b'0/0', b'0/0'],\n",
       "       [b'0/0', b'0/0', b'0/0', b'./.', b'0/0', b'0/0', b'0/0', b'0/0',\n",
       "        b'0/0', b'0/0', b'0/0', b'0/1'],\n",
       "       [b'0/0', b'0/0', b'0/0', b'0/0', b'0/0', b'0/0', b'0/0', b'0/0',\n",
       "        b'0/0', b'0/0', b'0/0', b'0/0'],\n",
       "       [b'0/0', b'0/0', b'0/0', b'0/0', b'0/0', b'0/0', b'0/0', b'0/0',\n",
       "        b'0/0', b'0/0', b'0/0', b'0/0'],\n",
       "       [b'0/0', b'0/0', b'0/0', b'0/0', b'0/0', b'0/0', b'0/0', b'0/0',\n",
       "        b'0/0', b'0/0', b'0/0', b'0/0'],\n",
       "       [b'0/0', b'0/0', b'0/0', b'0/0', b'0/0', b'0/0', b'0/0', b'0/0',\n",
       "        b'0/0', b'0/0', b'0/0', b'0/0'],\n",
       "       [b'0/0', b'0/0', b'0/0', b'0/0', b'0/0', b'0/1', b'1/1', b'0/0',\n",
       "        b'0/0', b'0/0', b'0/0', b'0/0'],\n",
       "       [b'0/1', b'0/1', b'0/1', b'1/1', b'0/1', b'0/0', b'0/0', b'0/1',\n",
       "        b'0/1', b'0/0', b'0/0', b'0/1'],\n",
       "       [b'0/0', b'0/0', b'0/0', b'0/0', b'0/0', b'0/0', b'0/0', b'0/0',\n",
       "        b'0/0', b'0/0', b'0/0', b'0/0'],\n",
       "       [b'0/0', b'0/0', b'0/0', b'0/0', b'0/0', b'0/0', b'0/0', b'0/0',\n",
       "        b'0/0', b'0/0', b'0/0', b'0/0'],\n",
       "       [b'0/0', b'0/0', b'0/0', b'0/0', b'0/0', b'0/0', b'0/0', b'0/0',\n",
       "        b'0/0', b'0/0', b'0/0', b'0/0'],\n",
       "       [b'0/1', b'0/1', b'0/1', b'1/1', b'0/1', b'0/0', b'0/0', b'0/0',\n",
       "        b'0/1', b'0/0', b'0/0', b'0/2'],\n",
       "       [b'0/0', b'0/0', b'0/0', b'0/0', b'0/0', b'0/0', b'0/0', b'0/0',\n",
       "        b'0/0', b'0/0', b'0/0', b'0/0'],\n",
       "       [b'0/0', b'0/0', b'0/0', b'0/0', b'0/0', b'0/0', b'0/0', b'0/0',\n",
       "        b'0/0', b'0/0', b'0/0', b'0/0'],\n",
       "       [b'0/1', b'0/1', b'0/1', b'./.', b'0/1', b'0/0', b'0/0', b'0/1',\n",
       "        b'0/1', b'0/0', b'0/0', b'0/0'],\n",
       "       [b'0/0', b'0/0', b'0/0', b'0/0', b'0/0', b'0/0', b'0/0', b'0/0',\n",
       "        b'0/0', b'0/0', b'0/0', b'0/0'],\n",
       "       [b'0/0', b'0/0', b'0/0', b'0/0', b'0/0', b'0/0', b'0/0', b'0/0',\n",
       "        b'0/0', b'0/0', b'0/0', b'0/0'],\n",
       "       [b'0/0', b'0/0', b'0/0', b'0/0', b'0/0', b'0/0', b'0/0', b'0/0',\n",
       "        b'0/0', b'0/0', b'0/0', b'0/1'],\n",
       "       [b'0/0', b'0/0', b'0/0', b'./.', b'0/0', b'0/0', b'0/0', b'0/0',\n",
       "        b'0/0', b'0/0', b'0/0', b'0/0'],\n",
       "       [b'0/0', b'0/0', b'0/0', b'./.', b'0/0', b'0/0', b'0/0', b'0/0',\n",
       "        b'0/0', b'0/0', b'0/0', b'0/0'],\n",
       "       [b'0/0', b'0/0', b'0/0', b'0/0', b'0/0', b'0/0', b'0/0', b'0/0',\n",
       "        b'0/0', b'0/0', b'0/0', b'0/0'],\n",
       "       [b'0/0', b'0/0', b'0/0', b'0/0', b'0/0', b'0/1', b'0/0', b'0/0',\n",
       "        b'0/0', b'0/0', b'0/0', b'0/0'],\n",
       "       [b'0/0', b'0/0', b'0/0', b'0/0', b'0/0', b'0/0', b'0/0', b'0/0',\n",
       "        b'0/0', b'0/0', b'0/0', b'0/0'],\n",
       "       [b'0/0', b'0/0', b'0/0', b'0/0', b'0/0', b'0/0', b'0/0', b'0/0',\n",
       "        b'0/0', b'0/0', b'0/0', b'0/0'],\n",
       "       [b'0/0', b'0/0', b'0/0', b'0/0', b'0/0', b'0/0', b'0/0', b'0/0',\n",
       "        b'0/0', b'0/0', b'0/0', b'0/0'],\n",
       "       [b'0/0', b'0/0', b'0/0', b'0/0', b'0/0', b'0/0', b'0/0', b'0/0',\n",
       "        b'0/0', b'0/0', b'0/0', b'0/0'],\n",
       "       [b'0/0', b'0/0', b'0/0', b'0/0', b'0/0', b'0/0', b'0/0', b'0/0',\n",
       "        b'0/0', b'0/0', b'0/0', b'0/0'],\n",
       "       [b'0/0', b'0/0', b'0/0', b'0/0', b'0/0', b'0/0', b'0/0', b'0/0',\n",
       "        b'0/0', b'0/0', b'0/0', b'0/0'],\n",
       "       [b'0/0', b'0/0', b'0/0', b'0/0', b'0/0', b'0/0', b'0/0', b'0/0',\n",
       "        b'0/0', b'0/0', b'0/0', b'0/0'],\n",
       "       [b'0/0', b'0/0', b'0/0', b'0/0', b'0/0', b'0/0', b'0/0', b'0/0',\n",
       "        b'0/0', b'0/0', b'0/0', b'0/0'],\n",
       "       [b'0/0', b'0/0', b'0/0', b'0/0', b'0/0', b'0/0', b'0/0', b'0/0',\n",
       "        b'0/0', b'0/0', b'0/0', b'0/0'],\n",
       "       [b'0/0', b'0/0', b'0/0', b'0/0', b'0/0', b'0/0', b'0/0', b'0/0',\n",
       "        b'0/0', b'0/0', b'0/0', b'0/0'],\n",
       "       [b'0/0', b'0/0', b'0/0', b'0/0', b'0/0', b'0/0', b'0/0', b'0/0',\n",
       "        b'0/0', b'0/0', b'0/0', b'0/0'],\n",
       "       [b'0/0', b'0/0', b'0/1', b'1/1', b'0/1', b'0/0', b'0/0', b'0/1',\n",
       "        b'0/1', b'0/0', b'0/0', b'0/1'],\n",
       "       [b'0/0', b'0/0', b'0/1', b'1/1', b'0/1', b'0/0', b'0/0', b'0/1',\n",
       "        b'0/1', b'0/0', b'0/0', b'0/1'],\n",
       "       [b'0/0', b'0/0', b'0/1', b'1/1', b'0/1', b'0/0', b'0/0', b'0/1',\n",
       "        b'0/1', b'0/0', b'0/0', b'0/1'],\n",
       "       [b'0/0', b'0/0', b'0/0', b'0/0', b'0/0', b'0/0', b'0/0', b'0/0',\n",
       "        b'0/0', b'0/0', b'0/0', b'0/0'],\n",
       "       [b'0/0', b'0/0', b'0/0', b'0/0', b'0/0', b'0/0', b'0/0', b'0/0',\n",
       "        b'0/0', b'0/0', b'0/0', b'0/0'],\n",
       "       [b'0/0', b'0/0', b'0/0', b'./.', b'0/0', b'0/0', b'0/0', b'0/0',\n",
       "        b'0/0', b'0/0', b'0/0', b'0/0'],\n",
       "       [b'0/0', b'0/0', b'0/0', b'./.', b'0/0', b'0/0', b'0/0', b'0/0',\n",
       "        b'0/0', b'0/0', b'0/0', b'0/0'],\n",
       "       [b'0/0', b'0/0', b'0/0', b'./.', b'0/0', b'0/0', b'0/0', b'0/0',\n",
       "        b'0/0', b'0/0', b'0/0', b'0/0'],\n",
       "       [b'0/0', b'0/0', b'0/0', b'./.', b'0/0', b'0/0', b'0/0', b'0/0',\n",
       "        b'0/0', b'0/0', b'0/0', b'0/0'],\n",
       "       [b'0/0', b'0/0', b'0/0', b'./.', b'0/0', b'0/0', b'0/0', b'0/0',\n",
       "        b'0/0', b'0/0', b'0/0', b'0/0'],\n",
       "       [b'0/0', b'0/0', b'0/0', b'./.', b'0/0', b'0/0', b'0/0', b'0/0',\n",
       "        b'0/0', b'0/0', b'0/0', b'0/0'],\n",
       "       [b'0/0', b'0/0', b'0/0', b'./.', b'0/0', b'0/0', b'0/0', b'0/0',\n",
       "        b'0/0', b'0/0', b'0/0', b'0/0'],\n",
       "       [b'0/0', b'0/0', b'0/0', b'./.', b'0/0', b'0/0', b'0/0', b'0/0',\n",
       "        b'0/0', b'0/0', b'0/0', b'0/0'],\n",
       "       [b'0/0', b'0/0', b'0/0', b'./.', b'0/0', b'0/0', b'0/0', b'0/0',\n",
       "        b'0/0', b'1/1', b'0/0', b'0/0'],\n",
       "       [b'0/0', b'0/0', b'0/0', b'./.', b'0/0', b'0/0', b'0/0', b'0/0',\n",
       "        b'0/0', b'0/0', b'0/0', b'0/0'],\n",
       "       [b'0/0', b'0/0', b'0/0', b'./.', b'0/0', b'0/0', b'0/0', b'0/0',\n",
       "        b'0/0', b'0/0', b'0/0', b'0/0'],\n",
       "       [b'0/0', b'0/0', b'0/0', b'./.', b'0/0', b'0/0', b'0/0', b'0/0',\n",
       "        b'0/0', b'0/0', b'0/0', b'0/0'],\n",
       "       [b'0/0', b'0/0', b'0/0', b'./.', b'0/0', b'0/0', b'0/0', b'0/0',\n",
       "        b'0/0', b'0/0', b'0/0', b'0/0'],\n",
       "       [b'0/0', b'0/0', b'0/0', b'./.', b'0/0', b'0/0', b'0/0', b'0/0',\n",
       "        b'0/0', b'0/0', b'0/0', b'0/0'],\n",
       "       [b'0/1', b'0/0', b'0/1', b'./.', b'0/0', b'0/0', b'0/1', b'0/1',\n",
       "        b'0/1', b'0/1', b'0/0', b'0/0'],\n",
       "       [b'0/1', b'0/0', b'0/1', b'./.', b'0/0', b'0/0', b'0/1', b'0/1',\n",
       "        b'0/1', b'0/1', b'0/0', b'0/2'],\n",
       "       [b'0/1', b'0/0', b'0/1', b'./.', b'0/0', b'0/0', b'0/0', b'0/0',\n",
       "        b'0/1', b'0/0', b'0/0', b'0/1'],\n",
       "       [b'0/0', b'0/0', b'0/0', b'0/0', b'0/0', b'0/0', b'0/0', b'0/0',\n",
       "        b'0/0', b'0/0', b'0/0', b'0/0'],\n",
       "       [b'0/1', b'0/0', b'0/1', b'./.', b'0/0', b'0/0', b'./.', b'0/0',\n",
       "        b'0/0', b'0/0', b'0/0', b'0/0'],\n",
       "       [b'0/0', b'0/0', b'0/0', b'0/0', b'0/0', b'0/0', b'0/0', b'0/0',\n",
       "        b'0/0', b'0/0', b'0/0', b'0/0'],\n",
       "       [b'0/0', b'0/0', b'0/0', b'0/0', b'0/0', b'0/0', b'0/0', b'0/0',\n",
       "        b'0/0', b'0/0', b'0/0', b'0/0'],\n",
       "       [b'0/0', b'0/0', b'0/0', b'0/0', b'0/0', b'0/0', b'0/0', b'0/0',\n",
       "        b'0/0', b'0/0', b'0/0', b'0/0']], \n",
       "      dtype='|S3')"
      ]
     },
     "execution_count": 47,
     "metadata": {},
     "output_type": "execute_result"
    }
   ],
   "source": [
    "calldata['GT'][variant_set['non_synonymous pass BTBPOZ_propeller'], :][:, nonref_per_sample>2]"
   ]
  },
  {
   "cell_type": "code",
   "execution_count": 54,
   "metadata": {
    "collapsed": false
   },
   "outputs": [
    {
     "data": {
      "text/plain": [
       "array([b'0/0', b'0/0', b'0/0', b'0/0', b'0/1', b'0/0', b'0/0', b'0/0',\n",
       "       b'0/0', b'0/0', b'0/0', b'0/1', b'0/0', b'0/0', b'0/0', b'0/0',\n",
       "       b'0/0', b'0/0', b'0/0', b'0/0', b'0/0', b'0/0', b'0/1', b'0/0',\n",
       "       b'0/0', b'0/0', b'0/1', b'0/0', b'0/0', b'0/1', b'0/0', b'0/0',\n",
       "       b'0/0', b'0/0', b'0/0', b'0/0', b'0/0', b'0/0', b'0/0', b'0/0',\n",
       "       b'0/0', b'0/0', b'0/0', b'0/0', b'0/0', b'0/0', b'0/0', b'0/0',\n",
       "       b'0/0', b'0/0', b'0/0', b'0/0', b'0/0', b'0/0', b'0/0', b'0/0',\n",
       "       b'0/0', b'0/0', b'0/0', b'0/0', b'0/0', b'0/0', b'0/0', b'0/0',\n",
       "       b'0/0', b'0/0', b'0/0', b'0/1', b'0/1', b'0/1', b'0/0', b'0/1',\n",
       "       b'0/0', b'0/0', b'0/0'], \n",
       "      dtype='|S3')"
      ]
     },
     "execution_count": 54,
     "metadata": {},
     "output_type": "execute_result"
    }
   ],
   "source": [
    "calldata['GT'][variant_set['non_synonymous pass BTBPOZ_propeller'], :][:, samples=='PA0190-C'][:, 0]"
   ]
  },
  {
   "cell_type": "code",
   "execution_count": 55,
   "metadata": {
    "collapsed": false
   },
   "outputs": [
    {
     "data": {
      "text/plain": [
       "array([b'0/0', b'0/0', b'0/0', b'0/0', b'0/1', b'0/0', b'0/0', b'0/0',\n",
       "       b'0/0', b'0/0', b'0/0', b'0/1', b'0/0', b'0/0', b'0/0', b'0/0',\n",
       "       b'0/0', b'0/0', b'0/0', b'0/0', b'0/0', b'0/0', b'0/1', b'0/0',\n",
       "       b'0/0', b'0/0', b'0/1', b'0/0', b'0/0', b'0/1', b'0/0', b'0/0',\n",
       "       b'0/0', b'0/0', b'0/0', b'0/0', b'0/0', b'0/0', b'0/0', b'0/0',\n",
       "       b'0/0', b'0/0', b'0/0', b'0/0', b'0/0', b'0/0', b'0/0', b'0/0',\n",
       "       b'0/1', b'0/1', b'0/1', b'0/0', b'0/0', b'0/0', b'0/0', b'0/0',\n",
       "       b'0/0', b'0/0', b'0/0', b'0/0', b'0/0', b'0/0', b'0/0', b'0/0',\n",
       "       b'0/0', b'0/0', b'0/0', b'0/0', b'0/0', b'0/0', b'0/0', b'0/0',\n",
       "       b'0/0', b'0/0', b'0/0'], \n",
       "      dtype='|S3')"
      ]
     },
     "execution_count": 55,
     "metadata": {},
     "output_type": "execute_result"
    }
   ],
   "source": [
    "calldata['GT'][variant_set['non_synonymous pass BTBPOZ_propeller'], :][:, samples=='PF0345-C'][:, 0]"
   ]
  },
  {
   "cell_type": "code",
   "execution_count": 56,
   "metadata": {
    "collapsed": false
   },
   "outputs": [
    {
     "data": {
      "text/plain": [
       "array([b'./.', b'./.', b'0/0', b'0/0', b'1/1', b'0/0', b'0/0', b'0/0',\n",
       "       b'0/0', b'0/0', b'0/0', b'./.', b'./.', b'./.', b'./.', b'./.',\n",
       "       b'./.', b'0/0', b'0/0', b'0/0', b'0/0', b'0/0', b'1/1', b'0/0',\n",
       "       b'0/0', b'0/0', b'1/1', b'0/0', b'0/0', b'./.', b'0/0', b'0/0',\n",
       "       b'0/0', b'./.', b'./.', b'0/0', b'0/0', b'0/0', b'0/0', b'0/0',\n",
       "       b'0/0', b'0/0', b'0/0', b'0/0', b'0/0', b'0/0', b'0/0', b'0/0',\n",
       "       b'1/1', b'1/1', b'1/1', b'0/0', b'0/0', b'./.', b'./.', b'./.',\n",
       "       b'./.', b'./.', b'./.', b'./.', b'./.', b'./.', b'./.', b'./.',\n",
       "       b'./.', b'./.', b'./.', b'./.', b'./.', b'./.', b'0/0', b'./.',\n",
       "       b'0/0', b'0/0', b'0/0'], \n",
       "      dtype='|S3')"
      ]
     },
     "execution_count": 56,
     "metadata": {},
     "output_type": "execute_result"
    }
   ],
   "source": [
    "calldata['GT'][variant_set['non_synonymous pass BTBPOZ_propeller'], :][:, samples=='PA0271-C'][:, 0]"
   ]
  },
  {
   "cell_type": "code",
   "execution_count": 58,
   "metadata": {
    "collapsed": false
   },
   "outputs": [
    {
     "data": {
      "text/plain": [
       "array([ 0,  0,  6, 12, 12, 15, 12,  9,  9, 12,  9,  0,  0,  0,  0,  0,  0,\n",
       "        3,  3,  6,  6,  6,  3,  3,  3,  3,  3,  3,  3,  0,  3,  3,  3,  0,\n",
       "        0,  3,  3,  3,  3,  6,  6,  6,  6,  6,  6,  6,  3,  3,  3,  3,  3,\n",
       "        6,  3,  0,  0,  0,  0,  0,  0,  0,  0,  0,  0,  0,  0,  0,  0,  0,\n",
       "        0,  0,  3,  0,  6,  6,  6], dtype=uint8)"
      ]
     },
     "execution_count": 58,
     "metadata": {},
     "output_type": "execute_result"
    }
   ],
   "source": [
    "calldata['GQ'][variant_set['non_synonymous pass BTBPOZ_propeller'], :][:, samples=='PA0271-C'][:, 0]"
   ]
  },
  {
   "cell_type": "code",
   "execution_count": 63,
   "metadata": {
    "collapsed": false
   },
   "outputs": [
    {
     "data": {
      "text/plain": [
       "array([12,  3,  3,  3,  3,  3], dtype=uint8)"
      ]
     },
     "execution_count": 63,
     "metadata": {},
     "output_type": "execute_result"
    }
   ],
   "source": [
    "calldata['GQ'][variant_set['non_synonymous pass BTBPOZ_propeller'], :][:, samples=='PA0271-C'][:, 0][\n",
    "    calldata['GT'][variant_set['non_synonymous pass BTBPOZ_propeller'], :][:, samples=='PA0271-C'][:, 0] == b'1/1'\n",
    "]"
   ]
  },
  {
   "cell_type": "code",
   "execution_count": 64,
   "metadata": {
    "collapsed": false
   },
   "outputs": [
    {
     "data": {
      "text/plain": [
       "array([[0, 4],\n",
       "       [0, 1],\n",
       "       [0, 1],\n",
       "       [0, 1],\n",
       "       [0, 1],\n",
       "       [0, 1]], dtype=uint16)"
      ]
     },
     "execution_count": 64,
     "metadata": {},
     "output_type": "execute_result"
    }
   ],
   "source": [
    "calldata['AD'][variant_set['non_synonymous pass BTBPOZ_propeller'], :][:, samples=='PA0271-C'][:, 0][\n",
    "    calldata['GT'][variant_set['non_synonymous pass BTBPOZ_propeller'], :][:, samples=='PA0271-C'][:, 0] == b'1/1'\n",
    "]"
   ]
  },
  {
   "cell_type": "code",
   "execution_count": 80,
   "metadata": {
    "collapsed": false
   },
   "outputs": [
    {
     "data": {
      "text/plain": [
       "array([[0, 0, 2, 4, 0, 5, 5, 3, 3, 4, 3, 0, 0, 0, 0, 0, 0, 1, 1, 2, 2, 2,\n",
       "        0, 2, 2, 2, 0, 1, 1, 1, 1, 1, 1, 0, 0, 1, 1, 1, 1, 2, 2, 2, 2, 2,\n",
       "        2, 2, 2, 2, 0, 0, 0, 2, 1, 0, 0, 0, 0, 0, 0, 0, 0, 0, 0, 0, 0, 0,\n",
       "        0, 0, 0, 0, 1, 1, 2, 2, 2],\n",
       "       [0, 0, 0, 0, 4, 0, 0, 0, 0, 0, 0, 0, 0, 0, 0, 0, 0, 0, 0, 0, 0, 0,\n",
       "        1, 0, 0, 0, 1, 0, 0, 0, 0, 0, 0, 0, 0, 0, 0, 0, 0, 0, 0, 0, 0, 0,\n",
       "        0, 0, 0, 0, 1, 1, 1, 0, 0, 0, 0, 0, 0, 0, 0, 0, 0, 0, 0, 0, 0, 0,\n",
       "        0, 0, 0, 0, 0, 0, 0, 0, 0]], dtype=uint16)"
      ]
     },
     "execution_count": 80,
     "metadata": {},
     "output_type": "execute_result"
    }
   ],
   "source": [
    "calldata['AD'][variant_set['non_synonymous pass BTBPOZ_propeller'], :][:, samples=='PA0271-C'][:, 0].transpose()"
   ]
  },
  {
   "cell_type": "code",
   "execution_count": 59,
   "metadata": {
    "collapsed": false
   },
   "outputs": [
    {
     "data": {
      "text/plain": [
       "array([99, 99, 99, 99, 32, 99, 99, 99, 99, 99, 99, 74, 99, 99, 99, 99, 99,\n",
       "       99, 99, 99, 99, 99, 99, 99, 99, 99, 41, 99, 99,  2, 99, 99, 99, 99,\n",
       "       99, 99, 99, 99, 99, 99, 99, 99, 99, 99, 99, 99, 99, 99, 35, 38, 38,\n",
       "       99, 99, 99, 99, 99, 99, 99, 99, 99, 99, 99, 99, 99, 99, 99, 99, 53,\n",
       "       41, 11, 99, 96, 99, 99, 99], dtype=uint8)"
      ]
     },
     "execution_count": 59,
     "metadata": {},
     "output_type": "execute_result"
    }
   ],
   "source": [
    "calldata['GQ'][variant_set['non_synonymous pass BTBPOZ_propeller'], :][:, samples=='PF0345-C'][:, 0]"
   ]
  },
  {
   "cell_type": "code",
   "execution_count": 53,
   "metadata": {
    "collapsed": false
   },
   "outputs": [
    {
     "data": {
      "text/plain": [
       "(450, 7182, 2)"
      ]
     },
     "execution_count": 53,
     "metadata": {},
     "output_type": "execute_result"
    }
   ],
   "source": [
    "calldata['AD'].shape"
   ]
  },
  {
   "cell_type": "code",
   "execution_count": 50,
   "metadata": {
    "collapsed": false
   },
   "outputs": [
    {
     "data": {
      "text/plain": [
       "array([b'0/0', b'0/0', b'0/0', b'0/0', b'0/1', b'0/0', b'0/0', b'0/0',\n",
       "       b'0/0', b'0/0', b'0/0', b'0/1', b'0/0', b'0/0', b'0/0', b'0/0',\n",
       "       b'0/0', b'0/0', b'0/0', b'0/0', b'0/0', b'0/0', b'0/1', b'0/0',\n",
       "       b'0/0', b'0/0', b'0/1', b'0/0', b'0/0', b'0/1', b'0/0', b'0/0',\n",
       "       b'0/0', b'0/0', b'0/0', b'0/0', b'0/0', b'0/0', b'0/0', b'0/0',\n",
       "       b'0/0', b'0/0', b'0/0', b'0/0', b'0/0', b'0/0', b'0/0', b'0/0',\n",
       "       b'0/0', b'0/0', b'0/0', b'0/0', b'0/0', b'0/0', b'0/0', b'0/0',\n",
       "       b'0/0', b'0/0', b'0/0', b'0/0', b'0/0', b'0/0', b'0/0', b'0/0',\n",
       "       b'0/0', b'0/0', b'0/0', b'0/1', b'0/1', b'0/1', b'0/0', b'0/1',\n",
       "       b'0/0', b'0/0', b'0/0'], \n",
       "      dtype='|S3')"
      ]
     },
     "execution_count": 50,
     "metadata": {},
     "output_type": "execute_result"
    }
   ],
   "source": [
    "calldata['GT'][variant_set['non_synonymous pass BTBPOZ_propeller'], :][:, samples=='PA0190-C'][:, 0]"
   ]
  },
  {
   "cell_type": "code",
   "execution_count": 48,
   "metadata": {
    "collapsed": false
   },
   "outputs": [
    {
     "data": {
      "text/plain": [
       "array([[[ 21,   0],\n",
       "        [  9,   0],\n",
       "        [  5,   0],\n",
       "        ..., \n",
       "        [ 35,   0],\n",
       "        [ 38,   0],\n",
       "        [ 42,   0]],\n",
       "\n",
       "       [[ 21,   0],\n",
       "        [  8,   0],\n",
       "        [  8,   0],\n",
       "        ..., \n",
       "        [ 35,   0],\n",
       "        [ 38,   0],\n",
       "        [ 45,   0]],\n",
       "\n",
       "       [[ 37,   0],\n",
       "        [  8,   0],\n",
       "        [ 16,   0],\n",
       "        ..., \n",
       "        [ 36,   0],\n",
       "        [ 41,   0],\n",
       "        [ 67,   0]],\n",
       "\n",
       "       ..., \n",
       "       [[ 40,   0],\n",
       "        [ 14,   0],\n",
       "        [ 13,   0],\n",
       "        ..., \n",
       "        [ 52,   0],\n",
       "        [ 50,   0],\n",
       "        [114,   0]],\n",
       "\n",
       "       [[ 48,   0],\n",
       "        [ 11,   0],\n",
       "        [ 19,   0],\n",
       "        ..., \n",
       "        [ 72,   0],\n",
       "        [ 59,   0],\n",
       "        [112,   0]],\n",
       "\n",
       "       [[ 48,   0],\n",
       "        [ 12,   0],\n",
       "        [ 19,   0],\n",
       "        ..., \n",
       "        [ 72,   0],\n",
       "        [ 59,   0],\n",
       "        [112,   0]]], dtype=uint16)"
      ]
     },
     "execution_count": 48,
     "metadata": {},
     "output_type": "execute_result"
    }
   ],
   "source": [
    "calldata['AD'][variant_set['non_synonymous pass BTBPOZ_propeller'], :][:, nonref_per_sample>2]"
   ]
  },
  {
   "cell_type": "code",
   "execution_count": 67,
   "metadata": {
    "collapsed": false
   },
   "outputs": [
    {
     "name": "stdout",
     "output_type": "stream",
     "text": [
      "/lustre/scratch116/malaria/pfalciparum/output/8/5/7/8/37167/4_bam_mark_duplicates_v2/pe.1.markdup.bam\tPA0271-C\n",
      "/lustre/scratch116/malaria/pfalciparum/output/5/b/8/6/39211/4_bam_mark_duplicates_v2/pe.1.markdup.bam\tPF0345-C\n"
     ]
    }
   ],
   "source": [
    "!grep PA0271 ~/pf_60_mergelanes.txt\n",
    "!grep PF0345 ~/pf_60_mergelanes.txt\n",
    "# Then copied these over to macbook to look at in IGV"
   ]
  },
  {
   "cell_type": "code",
   "execution_count": 68,
   "metadata": {
    "collapsed": false
   },
   "outputs": [
    {
     "name": "stdout",
     "output_type": "stream",
     "text": [
      "/lustre/scratch116/malaria/pfalciparum/output/9/7/3/0/48138/1_speciator/6936_2_nonhuman_4.pe.markdup.recal.speciator.tab\tPA0271-C\r\n"
     ]
    }
   ],
   "source": [
    "!grep PA0271 ~/pf_60_speciator.txt\n"
   ]
  },
  {
   "cell_type": "code",
   "execution_count": 72,
   "metadata": {
    "collapsed": false
   },
   "outputs": [
    {
     "name": "stdout",
     "output_type": "stream",
     "text": [
      "/lustre/scratch116/malaria/pfalciparum/output/f/3/b/0/47447/1_speciator/8516_5_29.pe.markdup.recal.speciator.tab\tPF0345-C\r\n"
     ]
    }
   ],
   "source": [
    "!grep PF0345 ~/pf_60_speciator.txt\n"
   ]
  },
  {
   "cell_type": "code",
   "execution_count": 71,
   "metadata": {
    "collapsed": false
   },
   "outputs": [
    {
     "name": "stdout",
     "output_type": "stream",
     "text": [
      "#Species\tRead matches\tRead matches %\tNominal coverage\tUnique read matches\tUnique read matches %\tNominal unique coverage\r\n",
      "Anopheles gambiae\t18714\t1.074%\t0.007\t184\t0.011%\t0.000\r\n",
      "Human plus decoy\t831548\t47.727%\t0.031\t752484\t43.189%\t0.028\r\n",
      "Illumina adapters\t27815\t1.596%\t4139.137\t27814\t1.596%\t4138.988\r\n",
      "P_falciparum\t90540\t5.197%\t0.391\t38738\t2.223%\t0.170\r\n",
      "knowlesi\t22096\t1.268%\t0.093\t439\t0.025%\t0.002\r\n",
      "supercontigs\t14130\t0.811%\t0.080\t386\t0.022%\t0.002\r\n",
      "Preichenowi\t102306\t5.872%\t0.429\t2054\t0.118%\t0.008\r\n",
      "PvivaxGenomic PlasmoDB-6\t21658\t1.243%\t0.077\t214\t0.012%\t0.001\r\n",
      "parts\t7051\t0.405%\t6.257\t3999\t0.230%\t3.561\r\n",
      "Multi-mapped\t109908\t6.3%\r\n",
      "Unmapped\t806076\t46.3%\r\n"
     ]
    }
   ],
   "source": [
    "# Looks like PA0271-C isn't P. falciparum\n",
    "!cat /lustre/scratch116/malaria/pfalciparum/output/9/7/3/0/48138/1_speciator/6936_2_nonhuman_4.pe.markdup.recal.speciator.tab"
   ]
  },
  {
   "cell_type": "code",
   "execution_count": 74,
   "metadata": {
    "collapsed": false
   },
   "outputs": [
    {
     "name": "stdout",
     "output_type": "stream",
     "text": [
      "#Species\tRead matches\tRead matches %\tNominal coverage\tUnique read matches\tUnique read matches %\tNominal unique coverage\r\n",
      "Anopheles gambiae\t191982\t1.081%\t0.075\t976\t0.005%\t0.000\r\n",
      "Human plus decoy\t392375\t2.210%\t0.014\t38817\t0.219%\t0.001\r\n",
      "Illumina adapters\t6974\t0.039%\t1037.798\t6974\t0.039%\t1037.798\r\n",
      "P_falciparum\t8570174\t48.276%\t37.476\t4791832\t26.993%\t20.973\r\n",
      "knowlesi\t275373\t1.551%\t1.149\t3274\t0.018%\t0.013\r\n",
      "supercontigs\t208576\t1.175%\t1.183\t938\t0.005%\t0.005\r\n",
      "Preichenowi\t3879421\t21.853%\t16.404\t120727\t0.680%\t0.505\r\n",
      "PvivaxGenomic PlasmoDB-6\t230466\t1.298%\t0.816\t1530\t0.009%\t0.005\r\n",
      "parts\t52641\t0.297%\t45.921\t8394\t0.047%\t7.475\r\n",
      "Multi-mapped\t3803065\t21.4%\r\n",
      "Unmapped\t8975782\t50.6%\r\n"
     ]
    }
   ],
   "source": [
    "# Looks like PF0345-C is P. falciparum\n",
    "!cat /lustre/scratch116/malaria/pfalciparum/output/f/3/b/0/47447/1_speciator/8516_5_29.pe.markdup.recal.speciator.tab"
   ]
  },
  {
   "cell_type": "markdown",
   "metadata": {},
   "source": [
    "# P. malariae/P./ vivax mixed infections\n",
    "PA0271-C reads blast very well to P. malariae. Looking at K13 in PF0345-C shows a subset of reads with many variants. Blasting the sequences from a few of these reads shows perfect or almost perfect matches to p. malariae K13 - hence this looks liked a mixed infection. This is evidence that mixed infections cause many heterozygous SNPs. The questions are how to identify and what to do about such samples. Some initial ideas:\n",
    "\n",
    "How to identify mixed p. malariae (or other human malaria) infections:\n",
    "1. Rerun specicator including malariae and ovale\n",
    "2. Use Olivo/Chris's speciation on sequencing data?\n",
    "3. Identify samples with excess heterozygosity (how extreme are malariae mixed infections?)\n",
    "\n",
    "What to do about mixed infections\n",
    "1. Remove from analyses\n",
    "2. Attempt to classify each read by species, and run separately on each species\n",
    "3. Map all reads to a combination of all reference genomes\n",
    "\n",
    "Note that these findings also have implications for P. vivax analyses, given that we have a reasonable number of known Pf/Pv mixtures. In fact PH0914-Cx and QC0280-C are both Pf/Pv samples, and both have excess K13 hets (though slightly less dramatic than Pf/Pm mixtures)\n",
    "\n",
    "Given the way bwa mem works, it is likely that many reads could map to both species. It will be interesting to see if mixed infections have excess heterozygosity in both species.\n"
   ]
  },
  {
   "cell_type": "code",
   "execution_count": null,
   "metadata": {
    "collapsed": true
   },
   "outputs": [],
   "source": []
  }
 ],
 "metadata": {
  "anaconda-cloud": {},
  "kernelspec": {
   "display_name": "Python [default]",
   "language": "python",
   "name": "python3"
  },
  "language_info": {
   "codemirror_mode": {
    "name": "ipython",
    "version": 3
   },
   "file_extension": ".py",
   "mimetype": "text/x-python",
   "name": "python",
   "nbconvert_exporter": "python",
   "pygments_lexer": "ipython3",
   "version": "3.4.5"
  }
 },
 "nbformat": 4,
 "nbformat_minor": 1
}
