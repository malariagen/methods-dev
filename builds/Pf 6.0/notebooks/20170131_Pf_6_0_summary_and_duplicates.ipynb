{
 "cells": [
  {
   "cell_type": "markdown",
   "metadata": {},
   "source": [
    "# Introduction\n",
    "This notebook has two purposes:\n",
    "1. Determine whether any duplicate samples have different collection years\n",
    "2. Create summary of numbers of samples and variants for meeting with Dominic 01/02/2017"
   ]
  },
  {
   "cell_type": "code",
   "execution_count": 1,
   "metadata": {
    "collapsed": false
   },
   "outputs": [
    {
     "name": "stdout",
     "output_type": "stream",
     "text": [
      "python 3.5.2 |Continuum Analytics, Inc.| (default, Jul  2 2016, 17:53:06) \n",
      "[GCC 4.4.7 20120313 (Red Hat 4.4.7-1)]\n",
      "numpy 1.11.2\n",
      "scipy 0.18.1\n",
      "pandas 0.19.0\n",
      "numexpr 2.6.1\n",
      "pysam 0.8.4\n",
      "petl 1.1.0\n",
      "petlx 1.0.3\n",
      "vcf 0.6.8\n",
      "vcfnp 2.2.0\n",
      "h5py 2.6.0\n",
      "tables 3.3.0\n"
     ]
    }
   ],
   "source": [
    "%run _standard_imports.ipynb"
   ]
  },
  {
   "cell_type": "code",
   "execution_count": 26,
   "metadata": {
    "collapsed": true
   },
   "outputs": [],
   "source": [
    "panoptes_final_metadata_fn = \"/nfs/team112_internal/rp7/data/methods-dev/builds/Pf6.0/20161214_samples_which_release/pf_6_0_panoptes_samples_final_20170124.txt.gz\"\n",
    "hdf_fn = \"/nfs/team112_internal/production/release_build/Pf/6_0_release_packages/hdf5/Pf_60.h5\""
   ]
  },
  {
   "cell_type": "code",
   "execution_count": 50,
   "metadata": {
    "collapsed": false
   },
   "outputs": [
    {
     "name": "stdout",
     "output_type": "stream",
     "text": [
      "7182\n",
      "7182\n"
     ]
    },
    {
     "data": {
      "text/html": [
       "<table class='petl'>\n",
       "<thead>\n",
       "<tr>\n",
       "<th>Sample</th>\n",
       "<th>OxfordSrcCode</th>\n",
       "<th>OxfordDonorCode</th>\n",
       "<th>Individual_ID</th>\n",
       "<th>AlfrescoStudyCode</th>\n",
       "<th>Type</th>\n",
       "<th>InV5.1</th>\n",
       "<th>InV5</th>\n",
       "<th>SubContinentCode</th>\n",
       "<th>SubContinentName</th>\n",
       "<th>RegionCode</th>\n",
       "<th>CountryCode</th>\n",
       "<th>CountryName</th>\n",
       "<th>Site</th>\n",
       "<th>Year</th>\n",
       "<th>Date</th>\n",
       "<th>HasDuplicate</th>\n",
       "<th>DiscardAsDuplicate</th>\n",
       "<th>run_accessions</th>\n",
       "<th>pc_pass_missing</th>\n",
       "<th>pc_genome_covered_at_1x</th>\n",
       "<th>Year_source</th>\n",
       "<th>sort_AlfrescoStudyCode</th>\n",
       "<th>IndividualGroup</th>\n",
       "</tr>\n",
       "</thead>\n",
       "<tbody>\n",
       "<tr>\n",
       "<td>PM0001-C</td>\n",
       "<td>215C</td>\n",
       "<td>215C</td>\n",
       "<td>215C</td>\n",
       "<td>1001-PF-ML-DJIMDE</td>\n",
       "<td>DNA</td>\n",
       "<td>True</td>\n",
       "<td>True</td>\n",
       "<td>WAF</td>\n",
       "<td>West Africa</td>\n",
       "<td>ML</td>\n",
       "<td>ML</td>\n",
       "<td>Mali</td>\n",
       "<td>Kolle</td>\n",
       "<td style='text-align: right'>2007</td>\n",
       "<td style='text-align: right'>2007</td>\n",
       "<td>False</td>\n",
       "<td>False</td>\n",
       "<td>ERR012350,ERR012360,ERR012305</td>\n",
       "<td style='text-align: right'>0.15139786050931692</td>\n",
       "<td style='text-align: right'>0.9696</td>\n",
       "<td>study</td>\n",
       "<td>1001-PF-ML-DJIMDE</td>\n",
       "<td style='text-align: right'>1</td>\n",
       "</tr>\n",
       "<tr>\n",
       "<td>PM0002-C</td>\n",
       "<td>217C</td>\n",
       "<td>217C</td>\n",
       "<td>217C</td>\n",
       "<td>1001-PF-ML-DJIMDE</td>\n",
       "<td>DNA</td>\n",
       "<td>True</td>\n",
       "<td>True</td>\n",
       "<td>WAF</td>\n",
       "<td>West Africa</td>\n",
       "<td>ML</td>\n",
       "<td>ML</td>\n",
       "<td>Mali</td>\n",
       "<td>Kolle</td>\n",
       "<td style='text-align: right'>2007</td>\n",
       "<td style='text-align: right'>2007</td>\n",
       "<td>False</td>\n",
       "<td>False</td>\n",
       "<td>ERR012520,ERR012331,ERR012327</td>\n",
       "<td style='text-align: right'>0.28678549872221293</td>\n",
       "<td style='text-align: right'>0.864</td>\n",
       "<td>study</td>\n",
       "<td>1001-PF-ML-DJIMDE</td>\n",
       "<td style='text-align: right'>2</td>\n",
       "</tr>\n",
       "<tr>\n",
       "<td>PM0003-C</td>\n",
       "<td>520C</td>\n",
       "<td>520C</td>\n",
       "<td>520C</td>\n",
       "<td>1001-PF-ML-DJIMDE</td>\n",
       "<td>DNA</td>\n",
       "<td>True</td>\n",
       "<td>True</td>\n",
       "<td>WAF</td>\n",
       "<td>West Africa</td>\n",
       "<td>ML</td>\n",
       "<td>ML</td>\n",
       "<td>Mali</td>\n",
       "<td>Kolle</td>\n",
       "<td style='text-align: right'>2007</td>\n",
       "<td style='text-align: right'>2007</td>\n",
       "<td>False</td>\n",
       "<td>False</td>\n",
       "<td>ERR012492,ERR012457,ERR012532</td>\n",
       "<td style='text-align: right'>0.1662372060768727</td>\n",
       "<td style='text-align: right'>0.9586</td>\n",
       "<td>study</td>\n",
       "<td>1001-PF-ML-DJIMDE</td>\n",
       "<td style='text-align: right'>3</td>\n",
       "</tr>\n",
       "<tr>\n",
       "<td>PM0004-C</td>\n",
       "<td>A336TPI7C</td>\n",
       "<td>A336TPI7C</td>\n",
       "<td>A336TPI7C</td>\n",
       "<td>1001-PF-ML-DJIMDE</td>\n",
       "<td>DNA</td>\n",
       "<td>True</td>\n",
       "<td>True</td>\n",
       "<td>WAF</td>\n",
       "<td>West Africa</td>\n",
       "<td>ML</td>\n",
       "<td>ML</td>\n",
       "<td>Mali</td>\n",
       "<td>Kolle</td>\n",
       "<td style='text-align: right'>2007</td>\n",
       "<td style='text-align: right'>2007</td>\n",
       "<td>False</td>\n",
       "<td>False</td>\n",
       "<td>ERR015438,ERR015329,ERR015422,ERR015315</td>\n",
       "<td style='text-align: right'>0.11811536041300132</td>\n",
       "<td style='text-align: right'>0.9648</td>\n",
       "<td>study</td>\n",
       "<td>1001-PF-ML-DJIMDE</td>\n",
       "<td style='text-align: right'>4</td>\n",
       "</tr>\n",
       "<tr>\n",
       "<td>PM0103-C</td>\n",
       "<td>ALF003</td>\n",
       "<td>ALF003</td>\n",
       "<td>ALF003</td>\n",
       "<td>1001-PF-ML-DJIMDE</td>\n",
       "<td>DNA</td>\n",
       "<td>True</td>\n",
       "<td>True</td>\n",
       "<td>WAF</td>\n",
       "<td>West Africa</td>\n",
       "<td>ML</td>\n",
       "<td>ML</td>\n",
       "<td>Mali</td>\n",
       "<td>Faladje</td>\n",
       "<td style='text-align: right'>2007</td>\n",
       "<td style='text-align: right'>2007</td>\n",
       "<td>False</td>\n",
       "<td>False</td>\n",
       "<td>ERR199991</td>\n",
       "<td style='text-align: right'>0.13763789184399441</td>\n",
       "<td style='text-align: right'>0.9485</td>\n",
       "<td>study</td>\n",
       "<td>1001-PF-ML-DJIMDE</td>\n",
       "<td style='text-align: right'>5</td>\n",
       "</tr>\n",
       "</tbody>\n",
       "</table>\n",
       "<p><strong>...</strong></p>"
      ],
      "text/plain": [
       "+------------+---------------+-----------------+---------------+---------------------+-------+--------+--------+------------------+------------------+------------+-------------+-------------+-----------+------+------+--------------+--------------------+-------------------------------------------+---------------------+-------------------------+-------------+------------------------+-----------------+\n",
       "| Sample     | OxfordSrcCode | OxfordDonorCode | Individual_ID | AlfrescoStudyCode   | Type  | InV5.1 | InV5   | SubContinentCode | SubContinentName | RegionCode | CountryCode | CountryName | Site      | Year | Date | HasDuplicate | DiscardAsDuplicate | run_accessions                            | pc_pass_missing     | pc_genome_covered_at_1x | Year_source | sort_AlfrescoStudyCode | IndividualGroup |\n",
       "+============+===============+=================+===============+=====================+=======+========+========+==================+==================+============+=============+=============+===========+======+======+==============+====================+===========================================+=====================+=========================+=============+========================+=================+\n",
       "| 'PM0001-C' | '215C'        | '215C'          | '215C'        | '1001-PF-ML-DJIMDE' | 'DNA' | 'True' | 'True' | 'WAF'            | 'West Africa'    | 'ML'       | 'ML'        | 'Mali'      | 'Kolle'   | 2007 | 2007 | 'False'      | 'False'            | 'ERR012350,ERR012360,ERR012305'           | 0.15139786050931692 |                  0.9696 | 'study'     | '1001-PF-ML-DJIMDE'    |               1 |\n",
       "+------------+---------------+-----------------+---------------+---------------------+-------+--------+--------+------------------+------------------+------------+-------------+-------------+-----------+------+------+--------------+--------------------+-------------------------------------------+---------------------+-------------------------+-------------+------------------------+-----------------+\n",
       "| 'PM0002-C' | '217C'        | '217C'          | '217C'        | '1001-PF-ML-DJIMDE' | 'DNA' | 'True' | 'True' | 'WAF'            | 'West Africa'    | 'ML'       | 'ML'        | 'Mali'      | 'Kolle'   | 2007 | 2007 | 'False'      | 'False'            | 'ERR012520,ERR012331,ERR012327'           | 0.28678549872221293 |                   0.864 | 'study'     | '1001-PF-ML-DJIMDE'    |               2 |\n",
       "+------------+---------------+-----------------+---------------+---------------------+-------+--------+--------+------------------+------------------+------------+-------------+-------------+-----------+------+------+--------------+--------------------+-------------------------------------------+---------------------+-------------------------+-------------+------------------------+-----------------+\n",
       "| 'PM0003-C' | '520C'        | '520C'          | '520C'        | '1001-PF-ML-DJIMDE' | 'DNA' | 'True' | 'True' | 'WAF'            | 'West Africa'    | 'ML'       | 'ML'        | 'Mali'      | 'Kolle'   | 2007 | 2007 | 'False'      | 'False'            | 'ERR012492,ERR012457,ERR012532'           |  0.1662372060768727 |                  0.9586 | 'study'     | '1001-PF-ML-DJIMDE'    |               3 |\n",
       "+------------+---------------+-----------------+---------------+---------------------+-------+--------+--------+------------------+------------------+------------+-------------+-------------+-----------+------+------+--------------+--------------------+-------------------------------------------+---------------------+-------------------------+-------------+------------------------+-----------------+\n",
       "| 'PM0004-C' | 'A336TPI7C'   | 'A336TPI7C'     | 'A336TPI7C'   | '1001-PF-ML-DJIMDE' | 'DNA' | 'True' | 'True' | 'WAF'            | 'West Africa'    | 'ML'       | 'ML'        | 'Mali'      | 'Kolle'   | 2007 | 2007 | 'False'      | 'False'            | 'ERR015438,ERR015329,ERR015422,ERR015315' | 0.11811536041300132 |                  0.9648 | 'study'     | '1001-PF-ML-DJIMDE'    |               4 |\n",
       "+------------+---------------+-----------------+---------------+---------------------+-------+--------+--------+------------------+------------------+------------+-------------+-------------+-----------+------+------+--------------+--------------------+-------------------------------------------+---------------------+-------------------------+-------------+------------------------+-----------------+\n",
       "| 'PM0103-C' | 'ALF003'      | 'ALF003'        | 'ALF003'      | '1001-PF-ML-DJIMDE' | 'DNA' | 'True' | 'True' | 'WAF'            | 'West Africa'    | 'ML'       | 'ML'        | 'Mali'      | 'Faladje' | 2007 | 2007 | 'False'      | 'False'            | 'ERR199991'                               | 0.13763789184399441 |                  0.9485 | 'study'     | '1001-PF-ML-DJIMDE'    |               5 |\n",
       "+------------+---------------+-----------------+---------------+---------------------+-------+--------+--------+------------------+------------------+------------+-------------+-------------+-----------+------+------+--------------+--------------------+-------------------------------------------+---------------------+-------------------------+-------------+------------------------+-----------------+\n",
       "..."
      ]
     },
     "execution_count": 50,
     "metadata": {},
     "output_type": "execute_result"
    }
   ],
   "source": [
    "tbl_panoptes_samples_final = (\n",
    "    etl\n",
    "    .fromtsv(panoptes_final_metadata_fn)\n",
    "    .convertnumbers()\n",
    ")\n",
    "print(len(tbl_panoptes_samples_final.data()))\n",
    "print(len(tbl_panoptes_samples_final.distinct('Sample').data()))\n",
    "tbl_panoptes_samples_final"
   ]
  },
  {
   "cell_type": "code",
   "execution_count": 51,
   "metadata": {
    "collapsed": false
   },
   "outputs": [
    {
     "data": {
      "text/html": [
       "<table class='petl'>\n",
       "<thead>\n",
       "<tr>\n",
       "<th>IndividualGroup</th>\n",
       "<th>Site</th>\n",
       "<th>Year</th>\n",
       "<th>count</th>\n",
       "<th>frequency</th>\n",
       "</tr>\n",
       "</thead>\n",
       "<tbody>\n",
       "<tr>\n",
       "<td style='text-align: right'>1939</td>\n",
       "<td>Pursat</td>\n",
       "<td style='text-align: right'>2013</td>\n",
       "<td style='text-align: right'>1</td>\n",
       "<td style='text-align: right'>0.0012135922330097086</td>\n",
       "</tr>\n",
       "<tr>\n",
       "<td style='text-align: right'>1940</td>\n",
       "<td>Pursat</td>\n",
       "<td style='text-align: right'>2013</td>\n",
       "<td style='text-align: right'>1</td>\n",
       "<td style='text-align: right'>0.0012135922330097086</td>\n",
       "</tr>\n",
       "<tr>\n",
       "<td style='text-align: right'>1962</td>\n",
       "<td>Pursat</td>\n",
       "<td style='text-align: right'>2014</td>\n",
       "<td style='text-align: right'>1</td>\n",
       "<td style='text-align: right'>0.0012135922330097086</td>\n",
       "</tr>\n",
       "<tr>\n",
       "<td style='text-align: right'>1962</td>\n",
       "<td>Pursat</td>\n",
       "<td style='text-align: right'>2015</td>\n",
       "<td style='text-align: right'>1</td>\n",
       "<td style='text-align: right'>0.0012135922330097086</td>\n",
       "</tr>\n",
       "<tr>\n",
       "<td style='text-align: right'>2060</td>\n",
       "<td>Preah Vihear</td>\n",
       "<td style='text-align: right'>2013</td>\n",
       "<td style='text-align: right'>1</td>\n",
       "<td style='text-align: right'>0.0012135922330097086</td>\n",
       "</tr>\n",
       "<tr>\n",
       "<td style='text-align: right'>2067</td>\n",
       "<td>Preah Vihear</td>\n",
       "<td style='text-align: right'>2013</td>\n",
       "<td style='text-align: right'>1</td>\n",
       "<td style='text-align: right'>0.0012135922330097086</td>\n",
       "</tr>\n",
       "<tr>\n",
       "<td style='text-align: right'>2160</td>\n",
       "<td>Ratanakiri</td>\n",
       "<td style='text-align: right'>2013</td>\n",
       "<td style='text-align: right'>1</td>\n",
       "<td style='text-align: right'>0.0012135922330097086</td>\n",
       "</tr>\n",
       "<tr>\n",
       "<td style='text-align: right'>2160</td>\n",
       "<td>Ratanakiri</td>\n",
       "<td style='text-align: right'>2014</td>\n",
       "<td style='text-align: right'>1</td>\n",
       "<td style='text-align: right'>0.0012135922330097086</td>\n",
       "</tr>\n",
       "<tr>\n",
       "<td style='text-align: right'>6614</td>\n",
       "<td>Timika</td>\n",
       "<td style='text-align: right'>2012</td>\n",
       "<td style='text-align: right'>1</td>\n",
       "<td style='text-align: right'>0.0012135922330097086</td>\n",
       "</tr>\n",
       "<tr>\n",
       "<td style='text-align: right'>6614</td>\n",
       "<td>Timika</td>\n",
       "<td>2011†</td>\n",
       "<td style='text-align: right'>1</td>\n",
       "<td style='text-align: right'>0.0012135922330097086</td>\n",
       "</tr>\n",
       "<tr>\n",
       "<td style='text-align: right'>6687</td>\n",
       "<td>Timika</td>\n",
       "<td style='text-align: right'>2011</td>\n",
       "<td style='text-align: right'>1</td>\n",
       "<td style='text-align: right'>0.0012135922330097086</td>\n",
       "</tr>\n",
       "<tr>\n",
       "<td style='text-align: right'>6687</td>\n",
       "<td>Timika</td>\n",
       "<td>2011†</td>\n",
       "<td style='text-align: right'>1</td>\n",
       "<td style='text-align: right'>0.0012135922330097086</td>\n",
       "</tr>\n",
       "</tbody>\n",
       "</table>\n"
      ]
     },
     "metadata": {},
     "output_type": "display_data"
    }
   ],
   "source": [
    "(\n",
    "    tbl_panoptes_samples_final\n",
    "    .selecteq('HasDuplicate', 'True')\n",
    "    .valuecounts('IndividualGroup', 'Site', 'Year')\n",
    "    .selecteq('count', 1)\n",
    "    .sort(('IndividualGroup', 'Site', 'Year'))\n",
    "    .displayall()\n",
    ")"
   ]
  },
  {
   "cell_type": "code",
   "execution_count": 52,
   "metadata": {
    "collapsed": false
   },
   "outputs": [
    {
     "data": {
      "text/plain": [
       "array([1939, 1940, 1962, 2060, 2067, 2160, 6614, 6687])"
      ]
     },
     "execution_count": 52,
     "metadata": {},
     "output_type": "execute_result"
    }
   ],
   "source": [
    "problematic_groups = (\n",
    "    tbl_panoptes_samples_final\n",
    "    .selecteq('HasDuplicate', 'True')\n",
    "    .valuecounts('IndividualGroup', 'Site', 'Year')\n",
    "    .selecteq('count', 1)\n",
    "    .sort(('IndividualGroup', 'Site', 'Year'))\n",
    "    .distinct('IndividualGroup')\n",
    "    .values('IndividualGroup')\n",
    "    .array()\n",
    ")\n",
    "problematic_groups"
   ]
  },
  {
   "cell_type": "code",
   "execution_count": 53,
   "metadata": {
    "collapsed": false,
    "scrolled": true
   },
   "outputs": [
    {
     "data": {
      "text/html": [
       "<table class='petl'>\n",
       "<thead>\n",
       "<tr>\n",
       "<th>Sample</th>\n",
       "<th>OxfordSrcCode</th>\n",
       "<th>Individual_ID</th>\n",
       "<th>AlfrescoStudyCode</th>\n",
       "<th>Site</th>\n",
       "<th>Year</th>\n",
       "<th>DiscardAsDuplicate</th>\n",
       "<th>IndividualGroup</th>\n",
       "</tr>\n",
       "</thead>\n",
       "<tbody>\n",
       "<tr>\n",
       "<td>PH1025-C</td>\n",
       "<td>163-KH1-032</td>\n",
       "<td>163-KH1-032</td>\n",
       "<td>1044-PF-KH-FAIRHURST</td>\n",
       "<td>Pursat</td>\n",
       "<td style='text-align: right'>2012</td>\n",
       "<td>False</td>\n",
       "<td style='text-align: right'>1939</td>\n",
       "</tr>\n",
       "<tr>\n",
       "<td>PH1090-C</td>\n",
       "<td>163-KH1-032RME</td>\n",
       "<td>163-KH1-032</td>\n",
       "<td>1044-PF-KH-FAIRHURST</td>\n",
       "<td>Pursat</td>\n",
       "<td style='text-align: right'>2013</td>\n",
       "<td>True</td>\n",
       "<td style='text-align: right'>1939</td>\n",
       "</tr>\n",
       "<tr>\n",
       "<td>PH1347-C</td>\n",
       "<td>163-KH1-032-CF11-adap</td>\n",
       "<td>163-KH1-032</td>\n",
       "<td>1044-PF-KH-FAIRHURST</td>\n",
       "<td>Pursat</td>\n",
       "<td style='text-align: right'>2012</td>\n",
       "<td>True</td>\n",
       "<td style='text-align: right'>1939</td>\n",
       "</tr>\n",
       "<tr>\n",
       "<td>PH1381-C</td>\n",
       "<td>163-KH1-032-adap</td>\n",
       "<td>163-KH1-032</td>\n",
       "<td>1044-PF-KH-FAIRHURST</td>\n",
       "<td>Pursat</td>\n",
       "<td style='text-align: right'>2012</td>\n",
       "<td>True</td>\n",
       "<td style='text-align: right'>1939</td>\n",
       "</tr>\n",
       "<tr>\n",
       "<td>PH1026-C</td>\n",
       "<td>163-KH1-033</td>\n",
       "<td>163-KH1-033</td>\n",
       "<td>1044-PF-KH-FAIRHURST</td>\n",
       "<td>Pursat</td>\n",
       "<td style='text-align: right'>2012</td>\n",
       "<td>True</td>\n",
       "<td style='text-align: right'>1940</td>\n",
       "</tr>\n",
       "<tr>\n",
       "<td>PH1091-C</td>\n",
       "<td>163-KH1-033RME</td>\n",
       "<td>163-KH1-033</td>\n",
       "<td>1044-PF-KH-FAIRHURST</td>\n",
       "<td>Pursat</td>\n",
       "<td style='text-align: right'>2013</td>\n",
       "<td>True</td>\n",
       "<td style='text-align: right'>1940</td>\n",
       "</tr>\n",
       "<tr>\n",
       "<td>PH1329-C</td>\n",
       "<td>163-KH1-033-CF11-adap</td>\n",
       "<td>163-KH1-033</td>\n",
       "<td>1044-PF-KH-FAIRHURST</td>\n",
       "<td>Pursat</td>\n",
       "<td style='text-align: right'>2012</td>\n",
       "<td>True</td>\n",
       "<td style='text-align: right'>1940</td>\n",
       "</tr>\n",
       "<tr>\n",
       "<td>PH1336-C</td>\n",
       "<td>163-KH1-033RME-CF11-adap</td>\n",
       "<td>163-KH1-033</td>\n",
       "<td>1044-PF-KH-FAIRHURST</td>\n",
       "<td>Pursat</td>\n",
       "<td style='text-align: right'>2012</td>\n",
       "<td>False</td>\n",
       "<td style='text-align: right'>1940</td>\n",
       "</tr>\n",
       "<tr>\n",
       "<td>PH1362-C</td>\n",
       "<td>163-KH1-033-adap</td>\n",
       "<td>163-KH1-033</td>\n",
       "<td>1044-PF-KH-FAIRHURST</td>\n",
       "<td>Pursat</td>\n",
       "<td style='text-align: right'>2012</td>\n",
       "<td>True</td>\n",
       "<td style='text-align: right'>1940</td>\n",
       "</tr>\n",
       "<tr>\n",
       "<td>PH1369-C</td>\n",
       "<td>163-KH1-033RME-adap</td>\n",
       "<td>163-KH1-033</td>\n",
       "<td>1044-PF-KH-FAIRHURST</td>\n",
       "<td>Pursat</td>\n",
       "<td style='text-align: right'>2012</td>\n",
       "<td>True</td>\n",
       "<td style='text-align: right'>1940</td>\n",
       "</tr>\n",
       "<tr>\n",
       "<td>PH1205-C</td>\n",
       "<td>163-KH1-062</td>\n",
       "<td>163-KH1-062</td>\n",
       "<td>1044-PF-KH-FAIRHURST</td>\n",
       "<td>Pursat</td>\n",
       "<td style='text-align: right'>2013</td>\n",
       "<td>False</td>\n",
       "<td style='text-align: right'>1962</td>\n",
       "</tr>\n",
       "<tr>\n",
       "<td>PH1266-C</td>\n",
       "<td>163-KH1-062RME</td>\n",
       "<td>163-KH1-062</td>\n",
       "<td>1044-PF-KH-FAIRHURST</td>\n",
       "<td>Pursat</td>\n",
       "<td style='text-align: right'>2013</td>\n",
       "<td>True</td>\n",
       "<td style='text-align: right'>1962</td>\n",
       "</tr>\n",
       "<tr>\n",
       "<td>PH1400-C</td>\n",
       "<td>163-KH1-062-2-Filter</td>\n",
       "<td>163-KH1-062</td>\n",
       "<td>1044-PF-KH-FAIRHURST</td>\n",
       "<td>Pursat</td>\n",
       "<td style='text-align: right'>2014</td>\n",
       "<td>True</td>\n",
       "<td style='text-align: right'>1962</td>\n",
       "</tr>\n",
       "<tr>\n",
       "<td>PH1400-CW2</td>\n",
       "<td>163-KH1-062-2</td>\n",
       "<td>163-KH1-062</td>\n",
       "<td>1044-PF-KH-FAIRHURST</td>\n",
       "<td>Pursat</td>\n",
       "<td style='text-align: right'>2015</td>\n",
       "<td>True</td>\n",
       "<td style='text-align: right'>1962</td>\n",
       "</tr>\n",
       "<tr>\n",
       "<td>PH1039-C</td>\n",
       "<td>163-KH2-012</td>\n",
       "<td>163-KH2-012</td>\n",
       "<td>1044-PF-KH-FAIRHURST</td>\n",
       "<td>Preah Vihear</td>\n",
       "<td style='text-align: right'>2012</td>\n",
       "<td>True</td>\n",
       "<td style='text-align: right'>2060</td>\n",
       "</tr>\n",
       "<tr>\n",
       "<td>PH1098-C</td>\n",
       "<td>163-KH2-012RME</td>\n",
       "<td>163-KH2-012</td>\n",
       "<td>1044-PF-KH-FAIRHURST</td>\n",
       "<td>Preah Vihear</td>\n",
       "<td style='text-align: right'>2013</td>\n",
       "<td>True</td>\n",
       "<td style='text-align: right'>2060</td>\n",
       "</tr>\n",
       "<tr>\n",
       "<td>PH1348-C</td>\n",
       "<td>163-KH2-012RME-CF11-adap</td>\n",
       "<td>163-KH2-012</td>\n",
       "<td>1044-PF-KH-FAIRHURST</td>\n",
       "<td>Preah Vihear</td>\n",
       "<td style='text-align: right'>2012</td>\n",
       "<td>True</td>\n",
       "<td style='text-align: right'>2060</td>\n",
       "</tr>\n",
       "<tr>\n",
       "<td>PH1355-C</td>\n",
       "<td>163-KH2-012-CF11-adap</td>\n",
       "<td>163-KH2-012</td>\n",
       "<td>1044-PF-KH-FAIRHURST</td>\n",
       "<td>Preah Vihear</td>\n",
       "<td style='text-align: right'>2012</td>\n",
       "<td>False</td>\n",
       "<td style='text-align: right'>2060</td>\n",
       "</tr>\n",
       "<tr>\n",
       "<td>PH1382-C</td>\n",
       "<td>163-KH2-012RME-adap</td>\n",
       "<td>163-KH2-012</td>\n",
       "<td>1044-PF-KH-FAIRHURST</td>\n",
       "<td>Preah Vihear</td>\n",
       "<td style='text-align: right'>2012</td>\n",
       "<td>True</td>\n",
       "<td style='text-align: right'>2060</td>\n",
       "</tr>\n",
       "<tr>\n",
       "<td>PH1389-C</td>\n",
       "<td>163-KH2-012-adap</td>\n",
       "<td>163-KH2-012</td>\n",
       "<td>1044-PF-KH-FAIRHURST</td>\n",
       "<td>Preah Vihear</td>\n",
       "<td style='text-align: right'>2012</td>\n",
       "<td>True</td>\n",
       "<td style='text-align: right'>2060</td>\n",
       "</tr>\n",
       "<tr>\n",
       "<td>PH1099-C</td>\n",
       "<td>163-KH2-021RME</td>\n",
       "<td>163-KH2-021</td>\n",
       "<td>1044-PF-KH-FAIRHURST</td>\n",
       "<td>Preah Vihear</td>\n",
       "<td style='text-align: right'>2013</td>\n",
       "<td>True</td>\n",
       "<td style='text-align: right'>2067</td>\n",
       "</tr>\n",
       "<tr>\n",
       "<td>PH1349-C</td>\n",
       "<td>163-KH2-021RME-CF11-adap</td>\n",
       "<td>163-KH2-021</td>\n",
       "<td>1044-PF-KH-FAIRHURST</td>\n",
       "<td>Preah Vihear</td>\n",
       "<td style='text-align: right'>2012</td>\n",
       "<td>True</td>\n",
       "<td style='text-align: right'>2067</td>\n",
       "</tr>\n",
       "<tr>\n",
       "<td>PH1353-C</td>\n",
       "<td>163-KH2-021-CF11-adap</td>\n",
       "<td>163-KH2-021</td>\n",
       "<td>1044-PF-KH-FAIRHURST</td>\n",
       "<td>Preah Vihear</td>\n",
       "<td style='text-align: right'>2012</td>\n",
       "<td>True</td>\n",
       "<td style='text-align: right'>2067</td>\n",
       "</tr>\n",
       "<tr>\n",
       "<td>PH1383-C</td>\n",
       "<td>163-KH2-021RME-adap</td>\n",
       "<td>163-KH2-021</td>\n",
       "<td>1044-PF-KH-FAIRHURST</td>\n",
       "<td>Preah Vihear</td>\n",
       "<td style='text-align: right'>2012</td>\n",
       "<td>True</td>\n",
       "<td style='text-align: right'>2067</td>\n",
       "</tr>\n",
       "<tr>\n",
       "<td>PH1387-C</td>\n",
       "<td>163-KH2-021-adap</td>\n",
       "<td>163-KH2-021</td>\n",
       "<td>1044-PF-KH-FAIRHURST</td>\n",
       "<td>Preah Vihear</td>\n",
       "<td style='text-align: right'>2012</td>\n",
       "<td>False</td>\n",
       "<td style='text-align: right'>2067</td>\n",
       "</tr>\n",
       "<tr>\n",
       "<td>PH1316-C</td>\n",
       "<td>163-KH3-062</td>\n",
       "<td>163-KH3-062</td>\n",
       "<td>1044-PF-KH-FAIRHURST</td>\n",
       "<td>Ratanakiri</td>\n",
       "<td style='text-align: right'>2013</td>\n",
       "<td>False</td>\n",
       "<td style='text-align: right'>2160</td>\n",
       "</tr>\n",
       "<tr>\n",
       "<td>PH1322-C</td>\n",
       "<td>163-KH3-062RME</td>\n",
       "<td>163-KH3-062</td>\n",
       "<td>1044-PF-KH-FAIRHURST</td>\n",
       "<td>Ratanakiri</td>\n",
       "<td style='text-align: right'>2014</td>\n",
       "<td>True</td>\n",
       "<td style='text-align: right'>2160</td>\n",
       "</tr>\n",
       "<tr>\n",
       "<td>PJ0161-C</td>\n",
       "<td>UNKNOWN_UFC_104</td>\n",
       "<td>UFC_104</td>\n",
       "<td>1155-PF-ID-PRICE</td>\n",
       "<td>Timika</td>\n",
       "<td>2011†</td>\n",
       "<td>True</td>\n",
       "<td style='text-align: right'>6614</td>\n",
       "</tr>\n",
       "<tr>\n",
       "<td>PJ0183-C</td>\n",
       "<td>UFC_104</td>\n",
       "<td>UFC_104</td>\n",
       "<td>1155-PF-ID-PRICE</td>\n",
       "<td>Timika</td>\n",
       "<td style='text-align: right'>2012</td>\n",
       "<td>False</td>\n",
       "<td style='text-align: right'>6614</td>\n",
       "</tr>\n",
       "<tr>\n",
       "<td>PJ0134-C</td>\n",
       "<td>UNKNOWN_UFM_32</td>\n",
       "<td>UFM_32</td>\n",
       "<td>1155-PF-ID-PRICE</td>\n",
       "<td>Timika</td>\n",
       "<td>2011†</td>\n",
       "<td>False</td>\n",
       "<td style='text-align: right'>6687</td>\n",
       "</tr>\n",
       "<tr>\n",
       "<td>PJ0253-C</td>\n",
       "<td>UFM_32</td>\n",
       "<td>UFM_32</td>\n",
       "<td>1155-PF-ID-PRICE</td>\n",
       "<td>Timika</td>\n",
       "<td style='text-align: right'>2011</td>\n",
       "<td>True</td>\n",
       "<td style='text-align: right'>6687</td>\n",
       "</tr>\n",
       "</tbody>\n",
       "</table>\n"
      ]
     },
     "metadata": {},
     "output_type": "display_data"
    }
   ],
   "source": [
    "(\n",
    "    tbl_panoptes_samples_final\n",
    "    .selectin('IndividualGroup', problematic_groups)\n",
    "    .cut(['Sample', 'OxfordSrcCode', 'Individual_ID', 'AlfrescoStudyCode', 'Site', 'Year', 'DiscardAsDuplicate', 'IndividualGroup'])\n",
    "    .displayall()\n",
    ")"
   ]
  },
  {
   "cell_type": "markdown",
   "metadata": {},
   "source": [
    "# Duplicate samples conclusion\n",
    "There are a few samples from study 1044 that look like probable recrudescences. Two sample pairs from 1155 with different dates are due to assigned samples to 2011† in elife paper. Given the samples from 1044, we should probably not release collection year for discarded samples."
   ]
  },
  {
   "cell_type": "markdown",
   "metadata": {},
   "source": [
    "# Sample numbers"
   ]
  },
  {
   "cell_type": "code",
   "execution_count": 54,
   "metadata": {
    "collapsed": false
   },
   "outputs": [
    {
     "data": {
      "text/plain": [
       "array([ 650, 1353, 6614, 6683, 6687])"
      ]
     },
     "execution_count": 54,
     "metadata": {},
     "output_type": "execute_result"
    }
   ],
   "source": [
    "# Are there any samples with duplicates one of which was in v5 and the other of which is new?\n",
    "v5_v6_groups = (\n",
    "    tbl_panoptes_samples_final\n",
    "    .selecteq('HasDuplicate', 'True')\n",
    "    .valuecounts('IndividualGroup', 'InV5')\n",
    "    .selecteq('count', 1)\n",
    "    .sort(('IndividualGroup', 'InV5'))\n",
    "    .distinct('IndividualGroup')\n",
    "    .values('IndividualGroup')\n",
    "    .array()\n",
    ")\n",
    "v5_v6_groups"
   ]
  },
  {
   "cell_type": "code",
   "execution_count": 63,
   "metadata": {
    "collapsed": false
   },
   "outputs": [
    {
     "data": {
      "text/html": [
       "<table class='petl'>\n",
       "<thead>\n",
       "<tr>\n",
       "<th>Sample</th>\n",
       "<th>OxfordSrcCode</th>\n",
       "<th>Individual_ID</th>\n",
       "<th>AlfrescoStudyCode</th>\n",
       "<th>InV5</th>\n",
       "<th>DiscardAsDuplicate</th>\n",
       "<th>pc_pass_missing</th>\n",
       "<th>IndividualGroup</th>\n",
       "</tr>\n",
       "</thead>\n",
       "<tbody>\n",
       "<tr>\n",
       "<td>PH0027-C</td>\n",
       "<td>CP268</td>\n",
       "<td>CP268</td>\n",
       "<td>1011-PF-KH-SU</td>\n",
       "<td>True</td>\n",
       "<td>True</td>\n",
       "<td style='text-align: right'>0.34629377544337286</td>\n",
       "<td style='text-align: right'>650</td>\n",
       "</tr>\n",
       "<tr>\n",
       "<td>PH0027-Cx</td>\n",
       "<td>CP268</td>\n",
       "<td>CP268</td>\n",
       "<td>1011-PF-KH-SU</td>\n",
       "<td>False</td>\n",
       "<td>False</td>\n",
       "<td style='text-align: right'>0.0699845252924784</td>\n",
       "<td style='text-align: right'>650</td>\n",
       "</tr>\n",
       "<tr>\n",
       "<td>PT0229-C</td>\n",
       "<td>H222</td>\n",
       "<td>H222</td>\n",
       "<td>1022-PF-MW-OCHOLLA</td>\n",
       "<td>True</td>\n",
       "<td>False</td>\n",
       "<td style='text-align: right'>0.006057288523032272</td>\n",
       "<td style='text-align: right'>1353</td>\n",
       "</tr>\n",
       "<tr>\n",
       "<td>PT0229-Cx</td>\n",
       "<td>H222</td>\n",
       "<td>H222</td>\n",
       "<td>1022-PF-MW-OCHOLLA</td>\n",
       "<td>False</td>\n",
       "<td>True</td>\n",
       "<td style='text-align: right'>0.9979873248661213</td>\n",
       "<td style='text-align: right'>1353</td>\n",
       "</tr>\n",
       "<tr>\n",
       "<td>PJ0161-C</td>\n",
       "<td>UNKNOWN_UFC_104</td>\n",
       "<td>UFC_104</td>\n",
       "<td>1155-PF-ID-PRICE</td>\n",
       "<td>True</td>\n",
       "<td>True</td>\n",
       "<td style='text-align: right'>0.06205518242175962</td>\n",
       "<td style='text-align: right'>6614</td>\n",
       "</tr>\n",
       "<tr>\n",
       "<td>PJ0183-C</td>\n",
       "<td>UFC_104</td>\n",
       "<td>UFC_104</td>\n",
       "<td>1155-PF-ID-PRICE</td>\n",
       "<td>False</td>\n",
       "<td>False</td>\n",
       "<td style='text-align: right'>0.0387805159948118</td>\n",
       "<td style='text-align: right'>6614</td>\n",
       "</tr>\n",
       "<tr>\n",
       "<td>PJ0129-CW</td>\n",
       "<td>UFM_26</td>\n",
       "<td>UFM_26</td>\n",
       "<td>1155-PF-ID-PRICE</td>\n",
       "<td>False</td>\n",
       "<td>True</td>\n",
       "<td style='text-align: right'>0.042826092540035186</td>\n",
       "<td style='text-align: right'>6683</td>\n",
       "</tr>\n",
       "<tr>\n",
       "<td>PJ0129-Cx</td>\n",
       "<td>UFM_26</td>\n",
       "<td>UFM_26</td>\n",
       "<td>1155-PF-ID-PRICE</td>\n",
       "<td>True</td>\n",
       "<td>False</td>\n",
       "<td style='text-align: right'>0.03205287084719208</td>\n",
       "<td style='text-align: right'>6683</td>\n",
       "</tr>\n",
       "<tr>\n",
       "<td>PJ0134-C</td>\n",
       "<td>UNKNOWN_UFM_32</td>\n",
       "<td>UFM_32</td>\n",
       "<td>1155-PF-ID-PRICE</td>\n",
       "<td>True</td>\n",
       "<td>False</td>\n",
       "<td style='text-align: right'>0.013303432688232801</td>\n",
       "<td style='text-align: right'>6687</td>\n",
       "</tr>\n",
       "<tr>\n",
       "<td>PJ0253-C</td>\n",
       "<td>UFM_32</td>\n",
       "<td>UFM_32</td>\n",
       "<td>1155-PF-ID-PRICE</td>\n",
       "<td>False</td>\n",
       "<td>True</td>\n",
       "<td style='text-align: right'>0.025698930254658466</td>\n",
       "<td style='text-align: right'>6687</td>\n",
       "</tr>\n",
       "</tbody>\n",
       "</table>\n"
      ]
     },
     "metadata": {},
     "output_type": "display_data"
    }
   ],
   "source": [
    "(\n",
    "    tbl_panoptes_samples_final\n",
    "    .selectin('IndividualGroup', v5_v6_groups)\n",
    "    .cut(['Sample', 'OxfordSrcCode', 'Individual_ID', 'AlfrescoStudyCode', 'InV5', 'DiscardAsDuplicate', 'pc_pass_missing', 'IndividualGroup'])\n",
    "    .displayall()\n",
    ")"
   ]
  },
  {
   "cell_type": "code",
   "execution_count": 56,
   "metadata": {
    "collapsed": false
   },
   "outputs": [
    {
     "data": {
      "text/html": [
       "<table class='petl'>\n",
       "<thead>\n",
       "<tr>\n",
       "<th>InV5</th>\n",
       "<th>False</th>\n",
       "<th>True</th>\n",
       "</tr>\n",
       "</thead>\n",
       "<tbody>\n",
       "<tr>\n",
       "<td>False</td>\n",
       "<td style='text-align: right'>1030</td>\n",
       "<td style='text-align: right'>159</td>\n",
       "</tr>\n",
       "<tr>\n",
       "<td>True</td>\n",
       "<td style='text-align: right'>5666</td>\n",
       "<td style='text-align: right'>327</td>\n",
       "</tr>\n",
       "</tbody>\n",
       "</table>\n"
      ],
      "text/plain": [
       "+---------+-------+------+\n",
       "| InV5    | False | True |\n",
       "+=========+=======+======+\n",
       "| 'False' |  1030 |  159 |\n",
       "+---------+-------+------+\n",
       "| 'True'  |  5666 |  327 |\n",
       "+---------+-------+------+"
      ]
     },
     "execution_count": 56,
     "metadata": {},
     "output_type": "execute_result"
    }
   ],
   "source": [
    "tbl_panoptes_samples_final.pivot('InV5', 'DiscardAsDuplicate', 'DiscardAsDuplicate', len)"
   ]
  },
  {
   "cell_type": "code",
   "execution_count": 57,
   "metadata": {
    "collapsed": false
   },
   "outputs": [
    {
     "data": {
      "text/html": [
       "<table class='petl'>\n",
       "<thead>\n",
       "<tr>\n",
       "<th>InV5</th>\n",
       "<th>False</th>\n",
       "<th>True</th>\n",
       "</tr>\n",
       "</thead>\n",
       "<tbody>\n",
       "<tr>\n",
       "<td>False</td>\n",
       "<td style='text-align: right'>963</td>\n",
       "<td style='text-align: right'>159</td>\n",
       "</tr>\n",
       "<tr>\n",
       "<td>True</td>\n",
       "<td style='text-align: right'>5658</td>\n",
       "<td style='text-align: right'>326</td>\n",
       "</tr>\n",
       "</tbody>\n",
       "</table>\n"
      ],
      "text/plain": [
       "+---------+-------+------+\n",
       "| InV5    | False | True |\n",
       "+=========+=======+======+\n",
       "| 'False' |   963 |  159 |\n",
       "+---------+-------+------+\n",
       "| 'True'  |  5658 |  326 |\n",
       "+---------+-------+------+"
      ]
     },
     "execution_count": 57,
     "metadata": {},
     "output_type": "execute_result"
    }
   ],
   "source": [
    "tbl_panoptes_samples_final.selectne('Site', 'Lab').pivot('InV5', 'DiscardAsDuplicate', 'DiscardAsDuplicate', len)"
   ]
  },
  {
   "cell_type": "code",
   "execution_count": 58,
   "metadata": {
    "collapsed": false
   },
   "outputs": [
    {
     "data": {
      "text/html": [
       "<table class='petl'>\n",
       "<thead>\n",
       "<tr>\n",
       "<th>InV5</th>\n",
       "<th>False</th>\n",
       "<th>True</th>\n",
       "</tr>\n",
       "</thead>\n",
       "<tbody>\n",
       "<tr>\n",
       "<td>False</td>\n",
       "<td style='text-align: right'>963</td>\n",
       "<td style='text-align: right'>159</td>\n",
       "</tr>\n",
       "<tr>\n",
       "<td>True</td>\n",
       "<td style='text-align: right'>5658</td>\n",
       "<td style='text-align: right'>326</td>\n",
       "</tr>\n",
       "</tbody>\n",
       "</table>\n"
      ],
      "text/plain": [
       "+---------+-------+------+\n",
       "| InV5    | False | True |\n",
       "+=========+=======+======+\n",
       "| 'False' |   963 |  159 |\n",
       "+---------+-------+------+\n",
       "| 'True'  |  5658 |  326 |\n",
       "+---------+-------+------+"
      ]
     },
     "execution_count": 58,
     "metadata": {},
     "output_type": "execute_result"
    }
   ],
   "source": [
    "tbl_panoptes_samples_final.selectne('Year', 'Lab').pivot('InV5', 'DiscardAsDuplicate', 'DiscardAsDuplicate', len)"
   ]
  },
  {
   "cell_type": "code",
   "execution_count": 61,
   "metadata": {
    "collapsed": false
   },
   "outputs": [
    {
     "data": {
      "text/html": [
       "<table class='petl'>\n",
       "<thead>\n",
       "<tr>\n",
       "<th>InV5</th>\n",
       "<th>False</th>\n",
       "<th>True</th>\n",
       "</tr>\n",
       "</thead>\n",
       "<tbody>\n",
       "<tr>\n",
       "<td>False</td>\n",
       "<td style='text-align: right'>893</td>\n",
       "<td style='text-align: right'>150</td>\n",
       "</tr>\n",
       "<tr>\n",
       "<td>True</td>\n",
       "<td style='text-align: right'>5551</td>\n",
       "<td style='text-align: right'>318</td>\n",
       "</tr>\n",
       "</tbody>\n",
       "</table>\n"
      ],
      "text/plain": [
       "+---------+-------+------+\n",
       "| InV5    | False | True |\n",
       "+=========+=======+======+\n",
       "| 'False' |   893 |  150 |\n",
       "+---------+-------+------+\n",
       "| 'True'  |  5551 |  318 |\n",
       "+---------+-------+------+"
      ]
     },
     "execution_count": 61,
     "metadata": {},
     "output_type": "execute_result"
    }
   ],
   "source": [
    "tbl_panoptes_samples_final.selectge('pc_genome_covered_at_1x', 0.5).selectne('Year', 'Lab').pivot('InV5', 'DiscardAsDuplicate', 'DiscardAsDuplicate', len)"
   ]
  },
  {
   "cell_type": "code",
   "execution_count": 48,
   "metadata": {
    "collapsed": false
   },
   "outputs": [
    {
     "name": "stdout",
     "output_type": "stream",
     "text": [
      "7182\n",
      "7106\n",
      "76\n"
     ]
    }
   ],
   "source": [
    "print(len(tbl_panoptes_samples_final.data()))\n",
    "print(len(tbl_panoptes_samples_final.selectne('Year', 'Lab').data()))\n",
    "print(len(tbl_panoptes_samples_final.selecteq('Year', 'Lab').data()))\n"
   ]
  },
  {
   "cell_type": "markdown",
   "metadata": {},
   "source": [
    "# Variant numbers"
   ]
  },
  {
   "cell_type": "code",
   "execution_count": 27,
   "metadata": {
    "collapsed": true
   },
   "outputs": [],
   "source": [
    "callset = h5py.File(hdf_fn, mode='r')\n",
    "variants = callset['variants']\n",
    "PASS = callset['variants']['FILTER_PASS'][:]\n",
    "is_snp = callset['variants']['is_snp'][:]"
   ]
  },
  {
   "cell_type": "code",
   "execution_count": 34,
   "metadata": {
    "collapsed": false
   },
   "outputs": [
    {
     "name": "stdout",
     "output_type": "stream",
     "text": [
      "6051696\n",
      "6051696\n"
     ]
    },
    {
     "data": {
      "text/plain": [
       "OrderedDict([('Pass SNPs', 1838733),\n",
       "             ('Fail SNPs', 1329988),\n",
       "             ('Pass indels', 1276027),\n",
       "             ('Fail indels', 1606948)])"
      ]
     },
     "execution_count": 34,
     "metadata": {},
     "output_type": "execute_result"
    }
   ],
   "source": [
    "num_variants = collections.OrderedDict()\n",
    "num_variants['Pass SNPs'] = np.count_nonzero(PASS & is_snp)\n",
    "num_variants['Fail SNPs'] = np.count_nonzero(np.logical_not(PASS) & is_snp)\n",
    "num_variants['Pass indels'] = np.count_nonzero(PASS & np.logical_not(is_snp))\n",
    "num_variants['Fail indels'] = np.count_nonzero(np.logical_not(PASS) & np.logical_not(is_snp))\n",
    "print(len(PASS))\n",
    "print(len(is_snp))\n",
    "num_variants"
   ]
  },
  {
   "cell_type": "code",
   "execution_count": 35,
   "metadata": {
    "collapsed": false
   },
   "outputs": [
    {
     "data": {
      "text/plain": [
       "6051696"
      ]
     },
     "execution_count": 35,
     "metadata": {},
     "output_type": "execute_result"
    }
   ],
   "source": [
    "1838733+1329988+1276027+1606948"
   ]
  },
  {
   "cell_type": "markdown",
   "metadata": {},
   "source": [
    "# Sample metadata"
   ]
  },
  {
   "cell_type": "code",
   "execution_count": 36,
   "metadata": {
    "collapsed": false
   },
   "outputs": [
    {
     "data": {
      "text/plain": [
       "('Sample',\n",
       " 'OxfordSrcCode',\n",
       " 'OxfordDonorCode',\n",
       " 'Individual_ID',\n",
       " 'AlfrescoStudyCode',\n",
       " 'Type',\n",
       " 'InV5.1',\n",
       " 'InV5',\n",
       " 'SubContinentCode',\n",
       " 'SubContinentName',\n",
       " 'RegionCode',\n",
       " 'CountryCode',\n",
       " 'CountryName',\n",
       " 'Site',\n",
       " 'Year',\n",
       " 'Date',\n",
       " 'HasDuplicate',\n",
       " 'DiscardAsDuplicate',\n",
       " 'run_accessions',\n",
       " 'pc_pass_missing',\n",
       " 'pc_genome_covered_at_1x',\n",
       " 'Year_source',\n",
       " 'sort_AlfrescoStudyCode',\n",
       " 'IndividualGroup')"
      ]
     },
     "execution_count": 36,
     "metadata": {},
     "output_type": "execute_result"
    }
   ],
   "source": [
    "tbl_panoptes_samples_final.header()"
   ]
  },
  {
   "cell_type": "code",
   "execution_count": 37,
   "metadata": {
    "collapsed": true
   },
   "outputs": [],
   "source": [
    "variables_to_count = [\n",
    " 'AlfrescoStudyCode',\n",
    " 'SubContinentCode',\n",
    " 'SubContinentName',\n",
    " 'RegionCode',\n",
    " 'CountryCode',\n",
    " 'CountryName',\n",
    " 'Site',\n",
    " 'Year']"
   ]
  },
  {
   "cell_type": "code",
   "execution_count": 44,
   "metadata": {
    "collapsed": false
   },
   "outputs": [
    {
     "name": "stdout",
     "output_type": "stream",
     "text": [
      "AlfrescoStudyCode 52\n",
      "SubContinentCode 9\n",
      "SubContinentName 9\n",
      "RegionCode 35\n",
      "CountryCode 29\n",
      "CountryName 29\n",
      "Site 78\n",
      "Year 16\n"
     ]
    }
   ],
   "source": [
    "for variable in variables_to_count:\n",
    "    print(variable, len(tbl_panoptes_samples_final.selectne('Site', 'Lab').distinct(variable).data()))"
   ]
  },
  {
   "cell_type": "code",
   "execution_count": 47,
   "metadata": {
    "collapsed": false
   },
   "outputs": [
    {
     "data": {
      "text/html": [
       "<table class='petl'>\n",
       "<thead>\n",
       "<tr>\n",
       "<th>SubContinentName</th>\n",
       "</tr>\n",
       "</thead>\n",
       "<tbody>\n",
       "<tr>\n",
       "<td>Central Africa</td>\n",
       "</tr>\n",
       "<tr>\n",
       "<td>East Africa</td>\n",
       "</tr>\n",
       "<tr>\n",
       "<td>Eastern south-east Asia</td>\n",
       "</tr>\n",
       "<tr>\n",
       "<td>Insular Africa</td>\n",
       "</tr>\n",
       "<tr>\n",
       "<td>Oceania</td>\n",
       "</tr>\n",
       "<tr>\n",
       "<td>South America</td>\n",
       "</tr>\n",
       "<tr>\n",
       "<td>South Asia</td>\n",
       "</tr>\n",
       "<tr>\n",
       "<td>West Africa</td>\n",
       "</tr>\n",
       "<tr>\n",
       "<td>Western south-east Asia</td>\n",
       "</tr>\n",
       "</tbody>\n",
       "</table>\n"
      ]
     },
     "metadata": {},
     "output_type": "display_data"
    }
   ],
   "source": [
    "tbl_panoptes_samples_final.selectne('Site', 'Lab').distinct('SubContinentName').cut('SubContinentName').displayall()"
   ]
  },
  {
   "cell_type": "code",
   "execution_count": null,
   "metadata": {
    "collapsed": true
   },
   "outputs": [],
   "source": []
  }
 ],
 "metadata": {
  "kernelspec": {
   "display_name": "Python 3",
   "language": "python",
   "name": "python3"
  },
  "language_info": {
   "codemirror_mode": {
    "name": "ipython",
    "version": 3
   },
   "file_extension": ".py",
   "mimetype": "text/x-python",
   "name": "python",
   "nbconvert_exporter": "python",
   "pygments_lexer": "ipython3",
   "version": "3.5.2"
  }
 },
 "nbformat": 4,
 "nbformat_minor": 1
}
