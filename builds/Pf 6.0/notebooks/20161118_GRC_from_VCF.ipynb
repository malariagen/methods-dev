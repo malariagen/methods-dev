{
 "cells": [
  {
   "cell_type": "markdown",
   "metadata": {},
   "source": [
    "# Introduction\n",
    "This notebook contains code for calling Genetic Report Card (GRC) alleles from a VCF file. The code uses the GT field of the VCF without any filtering, so is liekly to be very sensitive, at the possible risk of an elevated calling error rate. Note the code also makes use of GATK HaplotypeCaller phasing information (PGT and PID fields).\n",
    "\n",
    "Following the running of the code, a few loci in a few samples are inspected as comparison with Olivo reads-based calling code highlighted 8 samples with different alleles called."
   ]
  },
  {
   "cell_type": "code",
   "execution_count": 1,
   "metadata": {
    "collapsed": false
   },
   "outputs": [
    {
     "name": "stdout",
     "output_type": "stream",
     "text": [
      "python 3.4.5 |Anaconda 2.2.0 (64-bit)| (default, Jul  2 2016, 17:47:47) \n",
      "[GCC 4.4.7 20120313 (Red Hat 4.4.7-1)]\n",
      "numpy 1.11.1\n",
      "scipy 0.18.0\n",
      "pandas 0.19.0\n",
      "numexpr 2.6.1\n",
      "pysam 0.9.1.4\n",
      "petl 1.1.0\n",
      "petlx 1.0.3\n",
      "vcf 0.6.8\n",
      "vcfnp 2.3.0.dev0\n",
      "h5py 2.4.0\n",
      "tables 3.1.1\n"
     ]
    }
   ],
   "source": [
    "%run _standard_imports.ipynb"
   ]
  },
  {
   "cell_type": "code",
   "execution_count": 2,
   "metadata": {
    "collapsed": false
   },
   "outputs": [],
   "source": [
    "scratch_dir = \"/lustre/scratch109/malaria/rp7/data/methods-dev/builds/Pf6.0/20161118_GRC_from_VCF\"\n",
    "output_dir = \"/nfs/team112_internal/rp7/data/methods-dev/builds/Pf6.0/20161118_GRC_from_VCF\"\n",
    "!mkdir -p {scratch_dir}\n",
    "!mkdir -p {output_dir}\n",
    "\n",
    "ref_fasta_fn = \"%s/Pfalciparum.genome.fasta\" % scratch_dir\n",
    "vcf_file_format = \"/nfs/team112_internal/production_files/Pf/6_0/vcf/SNP_INDEL_%s.combined.filtered.vcf.gz\"\n",
    "\n",
    "# See 20161115_run_Olivo_GRC.ipynb\n",
    "grc_properties_fn = '/nfs/team112_internal/rp7/data/methods-dev/builds/Pf6.0/20161117_run_Olivo_GRC/grc/grc.properties'\n",
    "\n",
    "grc_from_vcf_fn = \"%s/Pf_6_GRC_from_vcf.xlsx\" % output_dir"
   ]
  },
  {
   "cell_type": "code",
   "execution_count": 3,
   "metadata": {
    "collapsed": false
   },
   "outputs": [
    {
     "data": {
      "text/plain": [
       "'/nfs/team112_internal/rp7/data/methods-dev/builds/Pf6.0/20161118_GRC_from_VCF/Pf_6_GRC_from_vcf.xlsx'"
      ]
     },
     "execution_count": 3,
     "metadata": {},
     "output_type": "execute_result"
    }
   ],
   "source": [
    "grc_from_vcf_fn"
   ]
  },
  {
   "cell_type": "code",
   "execution_count": 4,
   "metadata": {
    "collapsed": true
   },
   "outputs": [],
   "source": [
    "!cp /lustre/scratch116/malaria/pfalciparum/resources/Pfalciparum.genome.fasta {ref_fasta_fn}"
   ]
  },
  {
   "cell_type": "code",
   "execution_count": 5,
   "metadata": {
    "collapsed": false
   },
   "outputs": [],
   "source": [
    "def call_haplotypes(target_name='crt_72-76', chrom='Pf3D7_07_v3', start=403612, end=403626, strand='+',\n",
    "    samples=None, positions_with_missingness=[403620, 403621], ref_fasta_fn=ref_fasta_fn, vcf_fn=None,\n",
    "    verbose=True, show_genotypes=False\n",
    "):\n",
    "    \n",
    "    from pyfasta import Fasta\n",
    "    from Bio.Seq import Seq\n",
    "    \n",
    "    if vcf_fn is None:\n",
    "        vcf_fn = vcf_file_format % chrom\n",
    "    \n",
    "    ref_sequence = Seq(Fasta(ref_fasta_fn)[chrom][start-1:end])\n",
    "    vcf_reader = vcf.Reader(filename=vcf_fn)\n",
    "    if samples is None:\n",
    "        samples = vcf_reader.samples\n",
    "    sample_sequences = collections.OrderedDict()\n",
    "    sample_offsets = collections.OrderedDict()\n",
    "    PID = collections.OrderedDict()\n",
    "    non_phased_het_seen = collections.OrderedDict()\n",
    "    genotype = collections.OrderedDict()\n",
    "    num_missing = collections.OrderedDict()\n",
    "    num_called = collections.OrderedDict()\n",
    "    for sample in samples:\n",
    "        sample_sequences[sample] = [ref_sequence.tomutable(), ref_sequence.tomutable()]\n",
    "        sample_offsets[sample] = [0, 0]\n",
    "        PID[sample] = ''\n",
    "        non_phased_het_seen[sample] = False\n",
    "        genotype[sample] = ''\n",
    "        num_missing[sample] = 0\n",
    "        num_called[sample] = 0\n",
    "\n",
    "    for record in vcf_reader.fetch(chrom, start-1, end):\n",
    "        if verbose:\n",
    "            print(record, record.FILTER)\n",
    "        for sample in samples:\n",
    "            if show_genotypes:\n",
    "                print(record.genotype(sample))\n",
    "            GT = record.genotype(sample)['GT']\n",
    "            POS = record.POS - start\n",
    "            if GT == './.':\n",
    "                if not record.POS in positions_with_missingness:\n",
    "                    num_missing[sample] += 1\n",
    "            else:\n",
    "                num_called[sample] += 1\n",
    "                if GT != '0/0':\n",
    "                    if GT[0] != GT[2]: # heterozygous call\n",
    "                        if 'PGT' in record.genotype(sample).data._fields:\n",
    "                            is_unphased = (record.genotype(sample)['PGT'] is None)\n",
    "                        else:\n",
    "                            is_unphased = True\n",
    "                        if non_phased_het_seen[sample]:\n",
    "                            print(\"Sample %s unphased het followed by het\" % sample)\n",
    "                            genotype[sample] = 'X'\n",
    "                        if is_unphased:\n",
    "                            non_phased_het_seen[sample] = True\n",
    "                        else:\n",
    "                            if PID[sample] == '':\n",
    "                                PID[sample] = record.genotype(sample)['PID']\n",
    "                            else:\n",
    "                                if record.genotype(sample)['PID'] != PID[sample]:\n",
    "                                    print(\"Sample %s two PIDs\" % sample)\n",
    "                                    genotype[sample] = '?'\n",
    "                            if record.genotype(sample)['PGT'] == '1|0':\n",
    "                                GT = GT[2] + '/' + GT[0]\n",
    "\n",
    "                    for i, sample_offset in enumerate(sample_offsets[sample]):\n",
    "                        alleles = [record.REF] + record.ALT\n",
    "                        GTint = int(GT[i*2])\n",
    "                        REF_len = len(record.REF)\n",
    "                        ALT_len = len(alleles[GTint])\n",
    "                        if alleles[GTint] != '*':\n",
    "                            sample_sequences[sample][i][POS+sample_offsets[sample][i]:(POS+sample_offsets[sample][i]+REF_len)] = alleles[GTint]\n",
    "                            sample_offsets[sample][i] = sample_offset + (len(alleles[GTint]) - len(record.REF))\n",
    "\n",
    "    for sample in samples:\n",
    "        if(show_genotypes):\n",
    "            print(sample_sequences[sample])\n",
    "        if genotype[sample] == '':\n",
    "            if num_missing[sample] > 0:\n",
    "                genotype[sample] = '-'\n",
    "            else:\n",
    "                if sample_sequences[sample][0] == sample_sequences[sample][1]:\n",
    "                    if strand == '+':\n",
    "                        genotype[sample] = ( str(sample_sequences[sample][0].toseq().translate())\n",
    "                                            if len(sample_sequences[sample][0]) % 3 == 0\n",
    "                                            else '!' )\n",
    "                    else:\n",
    "                        genotype[sample] = ( str(sample_sequences[sample][0].toseq().reverse_complement().translate())\n",
    "                                            if len(sample_sequences[sample][0]) % 3 == 0\n",
    "                                            else '!' )\n",
    "                else:\n",
    "                    if strand == '+':\n",
    "                        genotype[sample] = \"%s,%s\" % (\n",
    "                            ( str(sample_sequences[sample][0].toseq().translate())\n",
    "                             if len(sample_sequences[sample][0]) % 3 == 0\n",
    "                             else '!' ),\n",
    "                            ( str(sample_sequences[sample][1].toseq().translate())\n",
    "                             if len(sample_sequences[sample][1]) % 3 == 0\n",
    "                             else '!' )\n",
    "                        )\n",
    "                    else:\n",
    "                        genotype[sample] = \"%s,%s\" % (\n",
    "                            ( str(sample_sequences[sample][0].toseq().reverse_complement().translate())\n",
    "                             if len(sample_sequences[sample][0]) % 3 == 0\n",
    "                             else '!' ),\n",
    "                            ( str(sample_sequences[sample][1].toseq().reverse_complement().translate())\n",
    "                             if len(sample_sequences[sample][1]) % 3 == 0\n",
    "                             else '!' )\n",
    "                        )\n",
    "                \n",
    "    if strand == '+':\n",
    "        ref_haplotype = str(ref_sequence.translate())\n",
    "    else:\n",
    "        ref_haplotype = str(ref_sequence.reverse_complement().translate())\n",
    "\n",
    "    return(genotype, ref_haplotype)"
   ]
  },
  {
   "cell_type": "code",
   "execution_count": 6,
   "metadata": {
    "collapsed": true
   },
   "outputs": [],
   "source": [
    "def call_all_haplotypes(grc_properties_fn=grc_properties_fn):\n",
    "    results = collections.OrderedDict()\n",
    "    fi = open(grc_properties_fn, 'r')\n",
    "    for line in fi:\n",
    "        if line.startswith('grc.locus'):\n",
    "            locus_name = line.split('.')[2]\n",
    "            line_type = line.split('.')[3].split('=')[0]\n",
    "            if line_type == 'region':\n",
    "                chrom = line.split('.')[3].split('=')[1].split(':')[0]\n",
    "            if line_type == 'targets':\n",
    "                targets = line.split('=')[1].split(',')\n",
    "                for target in targets:\n",
    "                    target_name = target.split('@')[0]\n",
    "                    target_coords = target.split('@')[1]\n",
    "                    if target_coords.startswith('-'):\n",
    "                        strand = '-'\n",
    "                        target_coords = target_coords[1:]\n",
    "                    else:\n",
    "                        strand = '+'\n",
    "                    start, end = target_coords.split('-')\n",
    "                    print(\"\\n\", target_name)\n",
    "                    genotype, ref_haplotype = call_haplotypes(target_name, chrom, int(start), int(end), strand)\n",
    "                    locus_name = \"%s[%s]\" % (target_name, ref_haplotype)\n",
    "                    results[locus_name] = genotype\n",
    "    fi.close()\n",
    "    \n",
    "    tbl_results = (etl\n",
    "        .fromcolumns(\n",
    "            [list(results['crt_72-76[CVMNK]'].keys()), list(results['crt_72-76[CVMNK]'].values())],\n",
    "            header=['Sample', 'crt_72-76[CVMNK]']\n",
    "        )\n",
    "    )\n",
    "    for locus_name in list(results.keys())[1:]:\n",
    "        print(locus_name)\n",
    "        tbl_results = tbl_results.addcolumn(locus_name, results[locus_name].values())\n",
    "    \n",
    "    return(tbl_results)"
   ]
  },
  {
   "cell_type": "code",
   "execution_count": 7,
   "metadata": {
    "collapsed": false
   },
   "outputs": [
    {
     "name": "stdout",
     "output_type": "stream",
     "text": [
      "\n",
      " crt_72-76\n",
      "Record(CHROM=Pf3D7_07_v3, POS=403612, REF=T, ALT=[A]) []\n",
      "Record(CHROM=Pf3D7_07_v3, POS=403613, REF=G, ALT=[A, C]) []\n",
      "Record(CHROM=Pf3D7_07_v3, POS=403615, REF=G, ALT=[A]) []\n",
      "Record(CHROM=Pf3D7_07_v3, POS=403618, REF=A, ALT=[AT]) []\n",
      "Sample PH0060-C unphased het followed by het\n",
      "Record(CHROM=Pf3D7_07_v3, POS=403620, REF=G, ALT=[T]) []\n",
      "Sample PH0046-C two PIDs\n",
      "Sample PH0242-C two PIDs\n",
      "Sample PV0303-C two PIDs\n",
      "Sample PV0323-C two PIDs\n",
      "Sample QE0396-C two PIDs\n",
      "Record(CHROM=Pf3D7_07_v3, POS=403621, REF=A, ALT=[G]) []\n",
      "Sample PH0046-C two PIDs\n",
      "Sample PH0242-C two PIDs\n",
      "Sample PV0303-C two PIDs\n",
      "Sample PV0323-C two PIDs\n",
      "Sample QE0396-C two PIDs\n",
      "Record(CHROM=Pf3D7_07_v3, POS=403622, REF=AT, ALT=[A]) []\n",
      "Sample PH0060-C unphased het followed by het\n",
      "Record(CHROM=Pf3D7_07_v3, POS=403623, REF=TA, ALT=[*, AA]) []\n",
      "Sample PH0060-C unphased het followed by het\n",
      "Record(CHROM=Pf3D7_07_v3, POS=403625, REF=A, ALT=[C]) []\n",
      "Sample PN0008-C unphased het followed by het\n",
      "Sample PN0054-C unphased het followed by het\n",
      "Sample PN0075-C unphased het followed by het\n",
      "Sample PN0105-C unphased het followed by het\n",
      "Sample PN0112-C unphased het followed by het\n",
      "\n",
      " crt_24\n",
      "Record(CHROM=Pf3D7_07_v3, POS=403291, REF=G, ALT=[T]) []\n",
      "\n",
      " crt_97\n",
      "Record(CHROM=Pf3D7_07_v3, POS=403687, REF=C, ALT=[T]) []\n",
      "Record(CHROM=Pf3D7_07_v3, POS=403688, REF=A, ALT=[T]) []\n",
      "Record(CHROM=Pf3D7_07_v3, POS=403689, REF=C, ALT=[A, T]) []\n",
      "\n",
      " crt_144\n",
      "Record(CHROM=Pf3D7_07_v3, POS=404007, REF=G, ALT=[T]) []\n",
      "Record(CHROM=Pf3D7_07_v3, POS=404008, REF=C, ALT=[T]) []\n",
      "Record(CHROM=Pf3D7_07_v3, POS=404009, REF=C, ALT=[T]) []\n",
      "\n",
      " crt_148\n",
      "Record(CHROM=Pf3D7_07_v3, POS=404019, REF=C, ALT=[A]) []\n",
      "\n",
      " crt_194\n",
      "Record(CHROM=Pf3D7_07_v3, POS=404330, REF=T, ALT=[C]) []\n",
      "\n",
      " crt_220\n",
      "Record(CHROM=Pf3D7_07_v3, POS=404407, REF=G, ALT=[T]) []\n",
      "\n",
      " crt_271\n",
      "Record(CHROM=Pf3D7_07_v3, POS=404836, REF=C, ALT=[G]) []\n",
      "Record(CHROM=Pf3D7_07_v3, POS=404838, REF=A, ALT=[G]) ['Low_VQSLOD']\n",
      "\n",
      " crt_326\n",
      "Record(CHROM=Pf3D7_07_v3, POS=405361, REF=A, ALT=[G]) []\n",
      "Record(CHROM=Pf3D7_07_v3, POS=405362, REF=A, ALT=[G]) []\n",
      "\n",
      " crt_333\n",
      "Record(CHROM=Pf3D7_07_v3, POS=405382, REF=A, ALT=[G]) []\n",
      "Record(CHROM=Pf3D7_07_v3, POS=405383, REF=C, ALT=[G]) []\n",
      "Sample PN0112-C unphased het followed by het\n",
      "Sample PN0117-C unphased het followed by het\n",
      "Sample PN0118-C unphased het followed by het\n",
      "Sample PN0167-C unphased het followed by het\n",
      "Record(CHROM=Pf3D7_07_v3, POS=405384, REF=C, ALT=[T]) []\n",
      "\n",
      " crt_342\n",
      "Record(CHROM=Pf3D7_07_v3, POS=405557, REF=A, ALT=[G]) []\n",
      "Record(CHROM=Pf3D7_07_v3, POS=405559, REF=C, ALT=[A]) ['Low_VQSLOD']\n",
      "\n",
      " crt_356\n",
      "Record(CHROM=Pf3D7_07_v3, POS=405599, REF=A, ALT=[T]) []\n",
      "Record(CHROM=Pf3D7_07_v3, POS=405600, REF=T, ALT=[C]) []\n",
      "\n",
      " crt_371\n",
      "Record(CHROM=Pf3D7_07_v3, POS=405838, REF=G, ALT=[T, C]) []\n",
      "\n",
      " dhfr_51\n",
      "Record(CHROM=Pf3D7_04_v3, POS=748239, REF=A, ALT=[T]) []\n",
      "\n",
      " dhfr_59\n",
      "Record(CHROM=Pf3D7_04_v3, POS=748262, REF=T, ALT=[C]) []\n",
      "Record(CHROM=Pf3D7_04_v3, POS=748263, REF=G, ALT=[A]) []\n",
      "\n",
      " dhfr_108\n",
      "Record(CHROM=Pf3D7_04_v3, POS=748410, REF=G, ALT=[A, C]) []\n",
      "\n",
      " dhfr_164\n",
      "Record(CHROM=Pf3D7_04_v3, POS=748577, REF=A, ALT=[T]) []\n",
      "Record(CHROM=Pf3D7_04_v3, POS=748579, REF=A, ALT=[G]) []\n",
      "\n",
      " dhps_436\n",
      "Record(CHROM=Pf3D7_08_v3, POS=549681, REF=T, ALT=[G, C]) []\n",
      "Record(CHROM=Pf3D7_08_v3, POS=549682, REF=C, ALT=[T, G, A]) []\n",
      "Sample PC0276-C unphased het followed by het\n",
      "Sample PE0142-C unphased het followed by het\n",
      "Sample PE0438-C unphased het followed by het\n",
      "Sample PF0230-C unphased het followed by het\n",
      "Sample PF0844-C unphased het followed by het\n",
      "Sample PF0903-C unphased het followed by het\n",
      "Sample PF1001-C unphased het followed by het\n",
      "Sample PF1129-Cx9 unphased het followed by het\n",
      "Sample PF1151-Cx unphased het followed by het\n",
      "Sample PF1152-C unphased het followed by het\n",
      "Sample PF1161-Cx7 unphased het followed by het\n",
      "Sample PK0048-C unphased het followed by het\n",
      "Sample PM0040-C unphased het followed by het\n",
      "Sample PM0417-C unphased het followed by het\n",
      "Sample QP0024-C unphased het followed by het\n",
      "Sample QQ0084-C unphased het followed by het\n",
      "Sample QQ0110-C unphased het followed by het\n",
      "Record(CHROM=Pf3D7_08_v3, POS=549683, REF=T, ALT=[C]) []\n",
      "\n",
      " dhps_437\n",
      "Record(CHROM=Pf3D7_08_v3, POS=549685, REF=G, ALT=[C]) []\n",
      "\n",
      " dhps_540\n",
      "Record(CHROM=Pf3D7_08_v3, POS=549993, REF=A, ALT=[G, T]) []\n",
      "Record(CHROM=Pf3D7_08_v3, POS=549994, REF=A, ALT=[T]) []\n",
      "Record(CHROM=Pf3D7_08_v3, POS=549995, REF=A, ALT=[T, G]) []\n",
      "Sample PD0021-C unphased het followed by het\n",
      "Sample PD0030-C unphased het followed by het\n",
      "Sample PD0469-C unphased het followed by het\n",
      "Sample PD0499-C unphased het followed by het\n",
      "Sample PD0517-C unphased het followed by het\n",
      "Sample PD0802-C unphased het followed by het\n",
      "Sample PD0882-C unphased het followed by het\n",
      "Sample PD0905-C unphased het followed by het\n",
      "Sample PD1036-C unphased het followed by het\n",
      "Sample PD1120-C unphased het followed by het\n",
      "Sample PD1379-C unphased het followed by het\n",
      "Sample PH0124-CW unphased het followed by het\n",
      "Sample PH0302-C unphased het followed by het\n",
      "Sample PH0324-C unphased het followed by het\n",
      "Sample PH0330-C unphased het followed by het\n",
      "Sample PH0461-C unphased het followed by het\n",
      "Sample PH0472-C unphased het followed by het\n",
      "Sample PH0478-C unphased het followed by het\n",
      "Sample PH0547-C unphased het followed by het\n",
      "Sample PH0548-C unphased het followed by het\n",
      "Sample PH0572-C unphased het followed by het\n",
      "Sample PH0724-C unphased het followed by het\n",
      "Sample PH0747-Cx unphased het followed by het\n",
      "Sample PH1087-C unphased het followed by het\n",
      "Sample PH1361-C unphased het followed by het\n",
      "Sample PV0225-C unphased het followed by het\n",
      "Sample PV0281-C unphased het followed by het\n",
      "Sample PV0338-C unphased het followed by het\n",
      "\n",
      " dhps_581\n",
      "Record(CHROM=Pf3D7_08_v3, POS=550117, REF=C, ALT=[G]) []\n",
      "Record(CHROM=Pf3D7_08_v3, POS=550118, REF=G, ALT=[T]) []\n",
      "\n",
      " dhps_613\n",
      "Record(CHROM=Pf3D7_08_v3, POS=550212, REF=G, ALT=[T, A]) []\n",
      "\n",
      " mdr1_86\n",
      "Record(CHROM=Pf3D7_05_v3, POS=958145, REF=A, ALT=[T]) []\n",
      "Record(CHROM=Pf3D7_05_v3, POS=958146, REF=A, ALT=[T]) []\n",
      "\n",
      " mdr1_184\n",
      "Record(CHROM=Pf3D7_05_v3, POS=958440, REF=A, ALT=[T]) []\n",
      "\n",
      " mdr1_1246\n",
      "Record(CHROM=Pf3D7_05_v3, POS=961625, REF=G, ALT=[T]) []\n",
      "\n",
      " arps10_127\n",
      "Record(CHROM=Pf3D7_14_v3, POS=2481070, REF=G, ALT=[A]) []\n",
      "\n",
      " mdr2_484\n",
      "Record(CHROM=Pf3D7_14_v3, POS=1956225, REF=G, ALT=[A]) []\n",
      "\n",
      " fd_193\n",
      "Record(CHROM=Pf3D7_13_v3, POS=748395, REF=C, ALT=[A]) []\n",
      "\n",
      " exo_415\n",
      "Record(CHROM=Pf3D7_13_v3, POS=2504560, REF=A, ALT=[T, G]) []\n",
      "Record(CHROM=Pf3D7_13_v3, POS=2504561, REF=G, ALT=[A]) []\n",
      "crt_24[D]\n",
      "crt_97[H]\n",
      "crt_144[A]\n",
      "crt_148[L]\n",
      "crt_194[I]\n",
      "crt_220[A]\n",
      "crt_271[Q]\n",
      "crt_326[N]\n",
      "crt_333[T]\n",
      "crt_342[T]\n",
      "crt_356[I]\n",
      "crt_371[R]\n",
      "dhfr_51[N]\n",
      "dhfr_59[C]\n",
      "dhfr_108[S]\n",
      "dhfr_164[I]\n",
      "dhps_436[S]\n",
      "dhps_437[G]\n",
      "dhps_540[K]\n",
      "dhps_581[A]\n",
      "dhps_613[A]\n",
      "mdr1_86[N]\n",
      "mdr1_184[Y]\n",
      "mdr1_1246[D]\n",
      "arps10_127[V]\n",
      "mdr2_484[T]\n",
      "fd_193[D]\n",
      "exo_415[E]\n"
     ]
    }
   ],
   "source": [
    "tbl_all_results = call_all_haplotypes()"
   ]
  },
  {
   "cell_type": "code",
   "execution_count": 8,
   "metadata": {
    "collapsed": true
   },
   "outputs": [],
   "source": [
    "tbl_all_results.toxlsx(grc_from_vcf_fn)"
   ]
  },
  {
   "cell_type": "code",
   "execution_count": 16,
   "metadata": {
    "collapsed": false
   },
   "outputs": [
    {
     "data": {
      "text/plain": [
       "'/nfs/team112_internal/rp7/data/methods-dev/builds/Pf6.0/20161118_GRC_from_VCF/Pf_6_GRC_from_vcf.xlsx'"
      ]
     },
     "execution_count": 16,
     "metadata": {},
     "output_type": "execute_result"
    }
   ],
   "source": [
    "grc_from_vcf_fn"
   ]
  },
  {
   "cell_type": "markdown",
   "metadata": {},
   "source": [
    "# Manual inspection of calls and reads where discordant alleles\n",
    "\n",
    "Note at this point I ran notebook 20161118_compare_Olivo_vs_VCF_GRC_Pf6.ipynb to look for discordant calls. The following cells are based on that analysis which showed discordant alleles in 8 samples. I also noticed that crt_97 had very few het calls when using VCF, so downloaded 3 bams where Olivo had called hets.\n",
    "\n",
    "Other minor points investigated below are apparent frameshift mutations which turn out to be false, and two variants that fail filters, but for which inclusion or exclusion makes no difference to amino acids called."
   ]
  },
  {
   "cell_type": "markdown",
   "metadata": {},
   "source": [
    "## Discordant alleles"
   ]
  },
  {
   "cell_type": "code",
   "execution_count": 9,
   "metadata": {
    "collapsed": false
   },
   "outputs": [
    {
     "name": "stdout",
     "output_type": "stream",
     "text": [
      "Record(CHROM=Pf3D7_07_v3, POS=403612, REF=T, ALT=[A]) []\n",
      "Call(sample=PV0174-C, CallData(GT=0/0, AD=[12, 0], BCS=[None, None, None, None], DP=12, GQ=30, PGT=None, PID=None, PL=[0, 30, 450]))\n",
      "Record(CHROM=Pf3D7_07_v3, POS=403613, REF=G, ALT=[A, C]) []\n",
      "Call(sample=PV0174-C, CallData(GT=0/0, AD=[12, 0, 0], BCS=[None, None, None, None], DP=12, GQ=30, PGT=None, PID=None, PL=[0, 30, 450, 30, 450, 450]))\n",
      "Record(CHROM=Pf3D7_07_v3, POS=403615, REF=G, ALT=[A]) []\n",
      "Call(sample=PV0174-C, CallData(GT=0/0, AD=[12, 0], BCS=[None, None, None, None], DP=12, GQ=30, PGT=None, PID=None, PL=[0, 30, 450]))\n",
      "Record(CHROM=Pf3D7_07_v3, POS=403618, REF=A, ALT=[AT]) []\n",
      "Call(sample=PV0174-C, CallData(GT=0/1, AD=[4, 6], BCS=[370, 73, 117, 414], DP=10, GQ=99, PGT=0|1, PID=403618_A_AT, PL=[179, 0, 187]))\n",
      "Record(CHROM=Pf3D7_07_v3, POS=403620, REF=G, ALT=[T]) []\n",
      "Call(sample=PV0174-C, CallData(GT=0/1, AD=[7, 3], BCS=[370, 73, 117, 414], DP=10, GQ=75, PGT=1|0, PID=403618_A_AT, PL=[75, 0, 282]))\n",
      "Record(CHROM=Pf3D7_07_v3, POS=403621, REF=A, ALT=[G]) []\n",
      "Call(sample=PV0174-C, CallData(GT=0/1, AD=[7, 3], BCS=[370, 73, 117, 414], DP=10, GQ=75, PGT=1|0, PID=403618_A_AT, PL=[75, 0, 282]))\n",
      "Record(CHROM=Pf3D7_07_v3, POS=403622, REF=AT, ALT=[A]) []\n",
      "Call(sample=PV0174-C, CallData(GT=0/1, AD=[4, 6], BCS=[370, 73, 117, 414], DP=10, GQ=99, PGT=0|1, PID=403618_A_AT, PL=[179, 0, 187]))\n",
      "Record(CHROM=Pf3D7_07_v3, POS=403623, REF=TA, ALT=[*, AA]) []\n",
      "Call(sample=PV0174-C, CallData(GT=0/1, AD=[4, 6, 0], BCS=[370, 73, 117, 414], DP=10, GQ=99, PGT=0|1, PID=403618_A_AT, PL=[179, 0, 187, 191, 205, 395]))\n",
      "Record(CHROM=Pf3D7_07_v3, POS=403625, REF=A, ALT=[C]) []\n",
      "Call(sample=PV0174-C, CallData(GT=0/1, AD=[1, 9], BCS=[370, 73, 117, 414], DP=10, GQ=74, PGT=0|1, PID=403618_A_AT, PL=[375, 0, 74]))\n",
      "[MutableSeq('tgtgtaAtTGATAAa', Alphabet()), MutableSeq('tgtgtaATtGAAaCa', Alphabet())]\n"
     ]
    },
    {
     "data": {
      "text/plain": [
       "(OrderedDict([('PV0174-C', 'CVIDK,CVIET')]), 'CVMNK')"
      ]
     },
     "execution_count": 9,
     "metadata": {},
     "output_type": "execute_result"
    }
   ],
   "source": [
    "# Het call made at final SNP despite only one read\n",
    "# Unclear which result (reads-based or vcf-based) really correct\n",
    "call_haplotypes(samples=['PV0174-C'], show_genotypes=True)"
   ]
  },
  {
   "cell_type": "code",
   "execution_count": 10,
   "metadata": {
    "collapsed": false
   },
   "outputs": [
    {
     "name": "stdout",
     "output_type": "stream",
     "text": [
      "Record(CHROM=Pf3D7_07_v3, POS=403612, REF=T, ALT=[A]) []\n",
      "Call(sample=QG0211-C, CallData(GT=0/0, AD=[50, 4], BCS=[1833, 244, 606, 2070], DP=54, GQ=15, PGT=None, PID=None, PL=[0, 15, 1520]))\n",
      "Record(CHROM=Pf3D7_07_v3, POS=403613, REF=G, ALT=[A, C]) []\n",
      "Call(sample=QG0211-C, CallData(GT=0/0, AD=[53, 0, 0], BCS=[None, None, None, None], DP=53, GQ=99, PGT=None, PID=None, PL=[0, 120, 1800, 120, 1800, 1800]))\n",
      "Record(CHROM=Pf3D7_07_v3, POS=403615, REF=G, ALT=[A]) []\n",
      "Call(sample=QG0211-C, CallData(GT=0/0, AD=[53, 0], BCS=[None, None, None, None], DP=53, GQ=99, PGT=None, PID=None, PL=[0, 120, 1800]))\n",
      "Record(CHROM=Pf3D7_07_v3, POS=403618, REF=A, ALT=[AT]) []\n",
      "Call(sample=QG0211-C, CallData(GT=0/0, AD=[52, 2], BCS=[1867, 276, 608, 2028], DP=54, GQ=85, PGT=0|1, PID=403618_A_AT, PL=[0, 85, 3710]))\n",
      "Record(CHROM=Pf3D7_07_v3, POS=403620, REF=G, ALT=[T]) []\n",
      "Call(sample=QG0211-C, CallData(GT=0/0, AD=[57, 0], BCS=[None, None, None, None], DP=57, GQ=99, PGT=None, PID=None, PL=[0, 104, 1715]))\n",
      "Record(CHROM=Pf3D7_07_v3, POS=403621, REF=A, ALT=[G]) []\n",
      "Call(sample=QG0211-C, CallData(GT=0/0, AD=[57, 0], BCS=[None, None, None, None], DP=57, GQ=99, PGT=None, PID=None, PL=[0, 104, 1715]))\n",
      "Record(CHROM=Pf3D7_07_v3, POS=403622, REF=AT, ALT=[A]) []\n",
      "Call(sample=QG0211-C, CallData(GT=0/0, AD=[56, 2], BCS=[1988, 316, 637, 2104], DP=58, GQ=91, PGT=0|1, PID=403618_A_AT, PL=[0, 91, 3786]))\n",
      "Record(CHROM=Pf3D7_07_v3, POS=403623, REF=TA, ALT=[*, AA]) []\n",
      "Call(sample=QG0211-C, CallData(GT=0/0, AD=[56, 2, 0], BCS=[1988, 316, 637, 2104], DP=58, GQ=91, PGT=0|1, PID=403618_A_AT, PL=[0, 91, 3786, 175, 3792, 3876]))\n",
      "Record(CHROM=Pf3D7_07_v3, POS=403625, REF=A, ALT=[C]) []\n",
      "Call(sample=QG0211-C, CallData(GT=0/1, AD=[52, 6], BCS=[1989, 324, 634, 2089], DP=58, GQ=60, PGT=None, PID=None, PL=[60, 0, 1463]))\n",
      "[MutableSeq('tgtgtaatgaataAa', Alphabet()), MutableSeq('tgtgtaatgaataCa', Alphabet())]\n"
     ]
    },
    {
     "data": {
      "text/plain": [
       "(OrderedDict([('QG0211-C', 'CVMNK,CVMNT')]), 'CVMNK')"
      ]
     },
     "execution_count": 10,
     "metadata": {},
     "output_type": "execute_result"
    }
   ],
   "source": [
    "# Assume these are really the haplotypes Olivo finds here, but not enough evidence to call hets\n",
    "call_haplotypes(samples=['QG0211-C'], show_genotypes=True)"
   ]
  },
  {
   "cell_type": "code",
   "execution_count": 11,
   "metadata": {
    "collapsed": false
   },
   "outputs": [
    {
     "name": "stdout",
     "output_type": "stream",
     "text": [
      "Record(CHROM=Pf3D7_08_v3, POS=549681, REF=T, ALT=[G, C]) []\n",
      "Call(sample=PH0919-C, CallData(GT=0/1, AD=[2, 23, 0], BCS=[216, 156, 224, 327], DP=25, GQ=15, PGT=0|1, PID=549681_T_G, PL=[653, 0, 15, 659, 84, 743]))\n",
      "Record(CHROM=Pf3D7_08_v3, POS=549682, REF=C, ALT=[T, G, A]) []\n",
      "Call(sample=PH0919-C, CallData(GT=0/0, AD=[24, 2, 0, 0], BCS=[219, 162, 229, 343], DP=26, GQ=17, PGT=1|0, PID=549681_T_G, PL=[0, 17, 1025, 75, 1031, 1089, 75, 1031, 1089, 1089]))\n",
      "Record(CHROM=Pf3D7_08_v3, POS=549683, REF=T, ALT=[C]) []\n",
      "Call(sample=PH0919-C, CallData(GT=0/0, AD=[27, 0], BCS=[None, None, None, None], DP=27, GQ=61, PL=[0, 61, 887]))\n",
      "[MutableSeq('Tct', Alphabet()), MutableSeq('Gct', Alphabet())]\n"
     ]
    },
    {
     "data": {
      "text/plain": [
       "(OrderedDict([('PH0919-C', 'S,A')]), 'S')"
      ]
     },
     "execution_count": 11,
     "metadata": {},
     "output_type": "execute_result"
    }
   ],
   "source": [
    "# Get wrong call here becuase middle GT is 0/0. Would get correct call if we used PGT\n",
    "call_haplotypes('dhps_436', 'Pf3D7_08_v3', 549681, 549683, '+', samples=['PH0919-C'], show_genotypes=True)"
   ]
  },
  {
   "cell_type": "code",
   "execution_count": 12,
   "metadata": {
    "collapsed": false
   },
   "outputs": [
    {
     "name": "stdout",
     "output_type": "stream",
     "text": [
      "Record(CHROM=Pf3D7_08_v3, POS=549993, REF=A, ALT=[G, T]) []\n",
      "Call(sample=PD0009-01, CallData(GT=0/1, AD=[8, 83, 0], BCS=[1586, 551, 396, 853], DP=91, GQ=71, PGT=0|1, PID=549993_A_G, PL=[2455, 0, 71, 2479, 319, 2798]))\n",
      "Record(CHROM=Pf3D7_08_v3, POS=549994, REF=A, ALT=[T]) []\n",
      "Call(sample=PD0009-01, CallData(GT=0/0, AD=[97, 0], BCS=[None, None, None, None], DP=97, GQ=99, PL=[0, 120, 1800]))\n",
      "Record(CHROM=Pf3D7_08_v3, POS=549995, REF=A, ALT=[T, G]) []\n",
      "Call(sample=PD0009-01, CallData(GT=0/0, AD=[86, 7, 0], BCS=[1608, 556, 396, 870], DP=93, GQ=20, PGT=1|0, PID=549993_A_G, PL=[0, 20, 3524, 259, 3545, 3784]))\n",
      "[MutableSeq('Aaa', Alphabet()), MutableSeq('Gaa', Alphabet())]\n"
     ]
    },
    {
     "data": {
      "text/plain": [
       "(OrderedDict([('PD0009-01', 'K,E')]), 'K')"
      ]
     },
     "execution_count": 12,
     "metadata": {},
     "output_type": "execute_result"
    }
   ],
   "source": [
    "# Seems clear Olivo has it right here - final variant certainly looks like a het\n",
    "call_haplotypes('dhps_540', 'Pf3D7_08_v3', 549993, 549995, '+', samples=['PD0009-01'], show_genotypes=True)"
   ]
  },
  {
   "cell_type": "code",
   "execution_count": 13,
   "metadata": {
    "collapsed": false
   },
   "outputs": [
    {
     "name": "stdout",
     "output_type": "stream",
     "text": [
      "Record(CHROM=Pf3D7_08_v3, POS=549993, REF=A, ALT=[G, T]) []\n",
      "Call(sample=PH0566-C, CallData(GT=0/1, AD=[5, 48, 0], BCS=[2474, 518, 616, 1503], DP=53, GQ=66, PGT=None, PID=None, PL=[1385, 0, 66, 1400, 210, 1610]))\n",
      "Record(CHROM=Pf3D7_08_v3, POS=549994, REF=A, ALT=[T]) []\n",
      "Call(sample=PH0566-C, CallData(GT=0/0, AD=[54, 0], BCS=[None, None, None, None], DP=54, GQ=99, PL=[0, 120, 1800]))\n",
      "Record(CHROM=Pf3D7_08_v3, POS=549995, REF=A, ALT=[T, G]) []\n",
      "Call(sample=PH0566-C, CallData(GT=0/0, AD=[49, 5, 0], BCS=[2516, 528, 627, 1531], DP=54, GQ=7, PGT=None, PID=None, PL=[0, 7, 2011, 147, 2026, 2166]))\n",
      "[MutableSeq('Aaa', Alphabet()), MutableSeq('Gaa', Alphabet())]\n"
     ]
    },
    {
     "data": {
      "text/plain": [
       "(OrderedDict([('PH0566-C', 'K,E')]), 'K')"
      ]
     },
     "execution_count": 13,
     "metadata": {},
     "output_type": "execute_result"
    }
   ],
   "source": [
    "# Seems clear Olivo has it right here - final variant certainly looks like a het\n",
    "call_haplotypes('dhps_540', 'Pf3D7_08_v3', 549993, 549995, '+', samples=['PH0566-C'], show_genotypes=True)"
   ]
  },
  {
   "cell_type": "code",
   "execution_count": 14,
   "metadata": {
    "collapsed": false
   },
   "outputs": [
    {
     "name": "stdout",
     "output_type": "stream",
     "text": [
      "Record(CHROM=Pf3D7_08_v3, POS=549993, REF=A, ALT=[G, T]) []\n",
      "Call(sample=PH0718-C, CallData(GT=0/1, AD=[3, 40, 0], BCS=[1964, 417, 501, 1231], DP=43, GQ=6, PGT=None, PID=None, PL=[1267, 0, 6, 1276, 126, 1402]))\n",
      "Record(CHROM=Pf3D7_08_v3, POS=549994, REF=A, ALT=[T]) []\n",
      "Call(sample=PH0718-C, CallData(GT=0/0, AD=[45, 0], BCS=[None, None, None, None], DP=45, GQ=99, PL=[0, 120, 1800]))\n",
      "Record(CHROM=Pf3D7_08_v3, POS=549995, REF=A, ALT=[T, G]) []\n",
      "Call(sample=PH0718-C, CallData(GT=0/0, AD=[41, 3, 0], BCS=[1996, 422, 507, 1257], DP=44, GQ=30, PGT=None, PID=None, PL=[0, 30, 1700, 123, 1709, 1802]))\n",
      "[MutableSeq('Aaa', Alphabet()), MutableSeq('Gaa', Alphabet())]\n"
     ]
    },
    {
     "data": {
      "text/plain": [
       "(OrderedDict([('PH0718-C', 'K,E')]), 'K')"
      ]
     },
     "execution_count": 14,
     "metadata": {},
     "output_type": "execute_result"
    }
   ],
   "source": [
    "# Seems clear Olivo has it right here - final variant certainly looks like a het\n",
    "call_haplotypes('dhps_540', 'Pf3D7_08_v3', 549993, 549995, '+', samples=['PH0718-C'], show_genotypes=True)"
   ]
  },
  {
   "cell_type": "code",
   "execution_count": 15,
   "metadata": {
    "collapsed": false
   },
   "outputs": [
    {
     "name": "stdout",
     "output_type": "stream",
     "text": [
      "Record(CHROM=Pf3D7_08_v3, POS=549993, REF=A, ALT=[G, T]) []\n",
      "Call(sample=PH0905-C, CallData(GT=0/1, AD=[4, 46, 0], BCS=[938, 330, 235, 507], DP=50, GQ=14, PGT=0|1, PID=549993_A_G, PL=[1399, 0, 14, 1411, 151, 1562]))\n",
      "Record(CHROM=Pf3D7_08_v3, POS=549994, REF=A, ALT=[T]) []\n",
      "Call(sample=PH0905-C, CallData(GT=0/0, AD=[50, 0], BCS=[None, None, None, None], DP=50, GQ=99, PL=[0, 120, 1800]))\n",
      "Record(CHROM=Pf3D7_08_v3, POS=549995, REF=A, ALT=[T, G]) []\n",
      "Call(sample=PH0905-C, CallData(GT=0/0, AD=[46, 2, 0], BCS=[918, 322, 227, 499], DP=48, GQ=81, PGT=1|0, PID=549993_A_G, PL=[0, 81, 2003, 144, 2009, 2072]))\n",
      "[MutableSeq('Aaa', Alphabet()), MutableSeq('Gaa', Alphabet())]\n"
     ]
    },
    {
     "data": {
      "text/plain": [
       "(OrderedDict([('PH0905-C', 'K,E')]), 'K')"
      ]
     },
     "execution_count": 15,
     "metadata": {},
     "output_type": "execute_result"
    }
   ],
   "source": [
    "# Seems clear Olivo has it right here - final variant certainly looks like a het\n",
    "call_haplotypes('dhps_540', 'Pf3D7_08_v3', 549993, 549995, '+', samples=['PH0905-C'], show_genotypes=True)"
   ]
  },
  {
   "cell_type": "code",
   "execution_count": 76,
   "metadata": {
    "collapsed": false
   },
   "outputs": [
    {
     "name": "stdout",
     "output_type": "stream",
     "text": [
      "Record(CHROM=Pf3D7_08_v3, POS=549993, REF=A, ALT=[G, T]) []\n",
      "Call(sample=PH1422-C, CallData(GT=0/1, AD=[3, 41, 0], BCS=[817, 283, 201, 439], DP=44, GQ=4, PGT=0|1, PID=549993_A_G, PL=[1212, 0, 4, 1221, 126, 1347]))\n",
      "Record(CHROM=Pf3D7_08_v3, POS=549994, REF=A, ALT=[T]) []\n",
      "Call(sample=PH1422-C, CallData(GT=0/0, AD=[46, 0], BCS=[None, None, None, None], DP=46, GQ=99, PL=[0, 120, 1800]))\n",
      "Record(CHROM=Pf3D7_08_v3, POS=549995, REF=A, ALT=[T, G]) []\n",
      "Call(sample=PH1422-C, CallData(GT=0/0, AD=[42, 3, 0], BCS=[828, 286, 202, 446], DP=45, GQ=24, PGT=1|0, PID=549993_A_G, PL=[0, 24, 1741, 126, 1750, 1852]))\n",
      "[MutableSeq('Aaa', Alphabet()), MutableSeq('Gaa', Alphabet())]\n"
     ]
    },
    {
     "data": {
      "text/plain": [
       "(OrderedDict([('PH1422-C', 'K,E')]), 'K')"
      ]
     },
     "execution_count": 76,
     "metadata": {},
     "output_type": "execute_result"
    }
   ],
   "source": [
    "# Seems clear Olivo has it right here - final variant certainly looks like a het\n",
    "call_haplotypes('dhps_540', 'Pf3D7_08_v3', 549993, 549995, '+', samples=['PH1422-C'], show_genotypes=True)"
   ]
  },
  {
   "cell_type": "code",
   "execution_count": null,
   "metadata": {
    "collapsed": true
   },
   "outputs": [],
   "source": []
  },
  {
   "cell_type": "markdown",
   "metadata": {},
   "source": [
    "## Missed het calls in VCF\n",
    "In each of these three cases I manually inspected the bam in IGV"
   ]
  },
  {
   "cell_type": "code",
   "execution_count": 86,
   "metadata": {
    "collapsed": false
   },
   "outputs": [
    {
     "name": "stdout",
     "output_type": "stream",
     "text": [
      "Record(CHROM=Pf3D7_07_v3, POS=403687, REF=C, ALT=[T]) []\n",
      "Call(sample=PA0093-C, CallData(GT=0/0, AD=[41, 0], BCS=[None, None, None, None], DP=41, GQ=99, PL=[0, 99, 1485]))\n",
      "Record(CHROM=Pf3D7_07_v3, POS=403688, REF=A, ALT=[T]) []\n",
      "Call(sample=PA0093-C, CallData(GT=0/0, AD=[41, 0], BCS=[None, None, None, None], DP=41, GQ=99, PGT=None, PID=None, PL=[0, 99, 1485]))\n",
      "Record(CHROM=Pf3D7_07_v3, POS=403689, REF=C, ALT=[A, T]) []\n",
      "Call(sample=PA0093-C, CallData(GT=0/0, AD=[41, 0, 0], BCS=[None, None, None, None], DP=41, GQ=99, PGT=None, PID=None, PL=[0, 99, 1485, 99, 1485, 1485]))\n",
      "[MutableSeq('cac', Alphabet()), MutableSeq('cac', Alphabet())]\n"
     ]
    },
    {
     "data": {
      "text/plain": [
       "(OrderedDict([('PA0093-C', 'H')]), 'H')"
      ]
     },
     "execution_count": 86,
     "metadata": {},
     "output_type": "execute_result"
    }
   ],
   "source": [
    "# Sanity checking crt_97 that has very few het calls. This one was het by reads which said all reads aligned\n",
    "# Inspection of bam shows 1 read with T at 403688, with good mapping and base quality - why is this not shown in AD?\n",
    "call_haplotypes('crt_97', 'Pf3D7_07_v3', 403687, 403689, '+', samples=['PA0093-C'], show_genotypes=True)"
   ]
  },
  {
   "cell_type": "code",
   "execution_count": 89,
   "metadata": {
    "collapsed": false
   },
   "outputs": [
    {
     "name": "stdout",
     "output_type": "stream",
     "text": [
      "/lustre/scratch116/malaria/pfalciparum/output/9/7/4/2/36984/4_bam_mark_duplicates_v2/pe.1.markdup.bam\tPA0093-C\r\n"
     ]
    }
   ],
   "source": [
    "!grep PA0093 /nfs/users/nfs_r/rp7/pf_60_mergelanes.txt"
   ]
  },
  {
   "cell_type": "code",
   "execution_count": 87,
   "metadata": {
    "collapsed": false
   },
   "outputs": [
    {
     "name": "stdout",
     "output_type": "stream",
     "text": [
      "Record(CHROM=Pf3D7_07_v3, POS=403687, REF=C, ALT=[T]) []\n",
      "Call(sample=PH0905-C, CallData(GT=0/0, AD=[35, 0], BCS=[None, None, None, None], DP=35, GQ=96, PL=[0, 96, 1440]))\n",
      "Record(CHROM=Pf3D7_07_v3, POS=403688, REF=A, ALT=[T]) []\n",
      "Call(sample=PH0905-C, CallData(GT=0/0, AD=[35, 0], BCS=[None, None, None, None], DP=35, GQ=31, PGT=None, PID=None, PL=[0, 31, 1110]))\n",
      "Record(CHROM=Pf3D7_07_v3, POS=403689, REF=C, ALT=[A, T]) []\n",
      "Call(sample=PH0905-C, CallData(GT=0/0, AD=[34, 0, 0], BCS=[None, None, None, None], DP=34, GQ=93, PGT=None, PID=None, PL=[0, 93, 1395, 93, 1395, 1395]))\n",
      "[MutableSeq('cac', Alphabet()), MutableSeq('cac', Alphabet())]\n"
     ]
    },
    {
     "data": {
      "text/plain": [
       "(OrderedDict([('PH0905-C', 'H')]), 'H')"
      ]
     },
     "execution_count": 87,
     "metadata": {},
     "output_type": "execute_result"
    }
   ],
   "source": [
    "# Sanity checking crt_97 that has very few het calls. This one was het by reads which said all reads aligned\n",
    "# Inspection of bam shows 2 reads with T at 403688, with good mapping and base quality - why are these not shown in AD?\n",
    "# Lower GQ of 403688 seems to suggest that these two reads have been taken into account\n",
    "call_haplotypes('crt_97', 'Pf3D7_07_v3', 403687, 403689, '+', samples=['PH0905-C'], show_genotypes=True)"
   ]
  },
  {
   "cell_type": "code",
   "execution_count": 90,
   "metadata": {
    "collapsed": false
   },
   "outputs": [
    {
     "name": "stdout",
     "output_type": "stream",
     "text": [
      "/lustre/scratch116/malaria/pfalciparum/output/4/e/d/3/41496/4_bam_mark_duplicates_v2/pe.1.markdup.bam\tPH0905-C\r\n"
     ]
    }
   ],
   "source": [
    "!grep PH0905 /nfs/users/nfs_r/rp7/pf_60_mergelanes.txt"
   ]
  },
  {
   "cell_type": "code",
   "execution_count": 88,
   "metadata": {
    "collapsed": false
   },
   "outputs": [
    {
     "name": "stdout",
     "output_type": "stream",
     "text": [
      "Record(CHROM=Pf3D7_07_v3, POS=403687, REF=C, ALT=[T]) []\n",
      "Call(sample=QG0155-C, CallData(GT=0/0, AD=[67, 0], BCS=[None, None, None, None], DP=67, GQ=99, PL=[0, 120, 1800]))\n",
      "Record(CHROM=Pf3D7_07_v3, POS=403688, REF=A, ALT=[T]) []\n",
      "Call(sample=QG0155-C, CallData(GT=0/0, AD=[74, 0], BCS=[None, None, None, None], DP=74, GQ=0, PGT=None, PID=None, PL=[0, 0, 2147]))\n",
      "Record(CHROM=Pf3D7_07_v3, POS=403689, REF=C, ALT=[A, T]) []\n",
      "Call(sample=QG0155-C, CallData(GT=0/0, AD=[71, 0, 0], BCS=[None, None, None, None], DP=71, GQ=33, PGT=None, PID=None, PL=[0, 33, 2042, 33, 2042, 2042]))\n",
      "[MutableSeq('cac', Alphabet()), MutableSeq('cac', Alphabet())]\n"
     ]
    },
    {
     "data": {
      "text/plain": [
       "(OrderedDict([('QG0155-C', 'H')]), 'H')"
      ]
     },
     "execution_count": 88,
     "metadata": {},
     "output_type": "execute_result"
    }
   ],
   "source": [
    "# Sanity checking crt_97 that has very few het calls. This one was het by reads which said all reads aligned\n",
    "# Inspection of bam shows 6 reads with TT at 403688/403689, with good mapping and base quality - why are these not shown in AD?\n",
    "# Zero GQ of 403688 suggests that this was borderline het/hom call\n",
    "call_haplotypes('crt_97', 'Pf3D7_07_v3', 403687, 403689, '+', samples=['QG0155-C'], show_genotypes=True)"
   ]
  },
  {
   "cell_type": "code",
   "execution_count": 91,
   "metadata": {
    "collapsed": false
   },
   "outputs": [
    {
     "name": "stdout",
     "output_type": "stream",
     "text": [
      "/lustre/scratch116/malaria/pfalciparum/output/0/1/4/3/44018/4_bam_mark_duplicates_v2/pe.1.markdup.bam\tQG0155-C\r\n"
     ]
    }
   ],
   "source": [
    "!grep QG0155 /nfs/users/nfs_r/rp7/pf_60_mergelanes.txt"
   ]
  },
  {
   "cell_type": "code",
   "execution_count": null,
   "metadata": {
    "collapsed": true
   },
   "outputs": [],
   "source": []
  },
  {
   "cell_type": "markdown",
   "metadata": {},
   "source": [
    "## Samples with apparent frameshift mutations\n",
    "Two samples (PA0490-C and QV0090-C) had apparent frameshift mutations according to the VCF so warranted further inspection. In both cases, it seems a het call was wrongly called as hom, and hence frameshifts are not real.\n"
   ]
  },
  {
   "cell_type": "code",
   "execution_count": 18,
   "metadata": {
    "collapsed": false
   },
   "outputs": [
    {
     "name": "stdout",
     "output_type": "stream",
     "text": [
      "Record(CHROM=Pf3D7_07_v3, POS=403612, REF=T, ALT=[A]) []\n",
      "Call(sample=PA0490-C, CallData(GT=0/0, AD=[91, 0], BCS=[None, None, None, None], DP=91, GQ=99, PGT=None, PID=None, PL=[0, 102, 1800]))\n",
      "Record(CHROM=Pf3D7_07_v3, POS=403613, REF=G, ALT=[A, C]) []\n",
      "Call(sample=PA0490-C, CallData(GT=0/0, AD=[91, 0, 0], BCS=[None, None, None, None], DP=91, GQ=99, PGT=None, PID=None, PL=[0, 102, 1800, 102, 1800, 1800]))\n",
      "Record(CHROM=Pf3D7_07_v3, POS=403615, REF=G, ALT=[A]) []\n",
      "Call(sample=PA0490-C, CallData(GT=0/0, AD=[91, 0], BCS=[None, None, None, None], DP=91, GQ=99, PGT=None, PID=None, PL=[0, 102, 1800]))\n",
      "Record(CHROM=Pf3D7_07_v3, POS=403618, REF=A, ALT=[AT]) []\n",
      "Call(sample=PA0490-C, CallData(GT=1/1, AD=[4, 134], BCS=[5037, 1027, 1619, 5609], DP=138, GQ=25, PGT=1|1, PID=403618_A_AT, PL=[5667, 25, 0]))\n",
      "Record(CHROM=Pf3D7_07_v3, POS=403620, REF=G, ALT=[T]) []\n",
      "Call(sample=PA0490-C, CallData(GT=./., AD=[139, 0], BCS=[None, None, None, None], DP=139, GQ=None, PGT=None, PID=None, PL=[0, 0, 0]))\n",
      "Record(CHROM=Pf3D7_07_v3, POS=403621, REF=A, ALT=[G]) []\n",
      "Call(sample=PA0490-C, CallData(GT=./., AD=[139, 0], BCS=[None, None, None, None], DP=139, GQ=None, PGT=None, PID=None, PL=[0, 0, 0]))\n",
      "Record(CHROM=Pf3D7_07_v3, POS=403622, REF=AT, ALT=[A]) []\n",
      "Call(sample=PA0490-C, CallData(GT=0/1, AD=[5, 137], BCS=[5164, 1074, 1652, 5724], DP=142, GQ=20, PGT=0|1, PID=403618_A_AT, PL=[5809, 0, 20]))\n",
      "Record(CHROM=Pf3D7_07_v3, POS=403623, REF=TA, ALT=[*, AA]) []\n",
      "Call(sample=PA0490-C, CallData(GT=0/1, AD=[5, 137, 0], BCS=[5164, 1074, 1652, 5724], DP=142, GQ=20, PGT=0|1, PID=403618_A_AT, PL=[5809, 0, 20, 5824, 441, 6266]))\n",
      "Record(CHROM=Pf3D7_07_v3, POS=403625, REF=A, ALT=[C]) []\n",
      "Call(sample=PA0490-C, CallData(GT=0/1, AD=[4, 136], BCS=[5100, 1105, 1625, 5603], DP=140, GQ=26, PGT=0|1, PID=403618_A_AT, PL=[5740, 0, 26]))\n",
      "[MutableSeq('tgtgtaATtgaATAAa', Alphabet()), MutableSeq('tgtgtaATtgaAaCa', Alphabet())]\n"
     ]
    },
    {
     "data": {
      "text/plain": [
       "(OrderedDict([('PA0490-C', '!,CVIET')]), 'CVMNK')"
      ]
     },
     "execution_count": 18,
     "metadata": {},
     "output_type": "execute_result"
    }
   ],
   "source": [
    "# PA0490-C has hom alt call (4 ref, 134 alt reads) at 403618 insertion and het call (5 ref, 137 alt reads)\n",
    "# at 403622 deletion. The results below suggest both calls should have been het, and hence no frameshift\n",
    "call_haplotypes(samples=['PA0490-C'], show_genotypes=True)"
   ]
  },
  {
   "cell_type": "code",
   "execution_count": 19,
   "metadata": {
    "collapsed": false
   },
   "outputs": [
    {
     "name": "stdout",
     "output_type": "stream",
     "text": [
      "Record(CHROM=Pf3D7_07_v3, POS=403612, REF=T, ALT=[A]) []\n",
      "Call(sample=QV0090-C, CallData(GT=0/0, AD=[64, 0], BCS=[None, None, None, None], DP=64, GQ=99, PGT=None, PID=None, PL=[0, 112, 1800]))\n",
      "Record(CHROM=Pf3D7_07_v3, POS=403613, REF=G, ALT=[A, C]) []\n",
      "Call(sample=QV0090-C, CallData(GT=0/0, AD=[64, 0, 0], BCS=[None, None, None, None], DP=64, GQ=99, PGT=None, PID=None, PL=[0, 112, 1800, 112, 1800, 1800]))\n",
      "Record(CHROM=Pf3D7_07_v3, POS=403615, REF=G, ALT=[A]) []\n",
      "Call(sample=QV0090-C, CallData(GT=0/0, AD=[64, 0], BCS=[None, None, None, None], DP=64, GQ=99, PGT=None, PID=None, PL=[0, 112, 1800]))\n",
      "Record(CHROM=Pf3D7_07_v3, POS=403618, REF=A, ALT=[AT]) []\n",
      "Call(sample=QV0090-C, CallData(GT=0/1, AD=[3, 104], BCS=[3902, 722, 1251, 4330], DP=107, GQ=8, PGT=0|1, PID=403618_A_AT, PL=[4436, 0, 8]))\n",
      "Record(CHROM=Pf3D7_07_v3, POS=403620, REF=G, ALT=[T]) []\n",
      "Call(sample=QV0090-C, CallData(GT=./., AD=[110, 0], BCS=[None, None, None, None], DP=110, GQ=None, PGT=None, PID=None, PL=[0, 0, 0]))\n",
      "Record(CHROM=Pf3D7_07_v3, POS=403621, REF=A, ALT=[G]) []\n",
      "Call(sample=QV0090-C, CallData(GT=./., AD=[110, 0], BCS=[None, None, None, None], DP=110, GQ=None, PGT=None, PID=None, PL=[0, 0, 0]))\n",
      "Record(CHROM=Pf3D7_07_v3, POS=403622, REF=AT, ALT=[A]) []\n",
      "Call(sample=QV0090-C, CallData(GT=1/1, AD=[3, 106], BCS=[3992, 794, 1258, 4314], DP=109, GQ=4, PGT=1|1, PID=403618_A_AT, PL=[4587, 4, 0]))\n",
      "Record(CHROM=Pf3D7_07_v3, POS=403623, REF=TA, ALT=[*, AA]) []\n",
      "Call(sample=QV0090-C, CallData(GT=1/1, AD=[3, 106, 0], BCS=[3992, 794, 1258, 4314], DP=109, GQ=4, PGT=1|1, PID=403618_A_AT, PL=[4587, 4, 0, 4596, 334, 4926]))\n",
      "Record(CHROM=Pf3D7_07_v3, POS=403625, REF=A, ALT=[C]) []\n",
      "Call(sample=QV0090-C, CallData(GT=0/1, AD=[3, 108], BCS=[4052, 830, 1269, 4346], DP=111, GQ=2, PGT=0|1, PID=403618_A_AT, PL=[4514, 0, 2]))\n",
      "[MutableSeq('tgtgtaAtgaAaAa', Alphabet()), MutableSeq('tgtgtaATtgaAaCa', Alphabet())]\n"
     ]
    },
    {
     "data": {
      "text/plain": [
       "(OrderedDict([('QV0090-C', '!,CVIET')]), 'CVMNK')"
      ]
     },
     "execution_count": 19,
     "metadata": {},
     "output_type": "execute_result"
    }
   ],
   "source": [
    "call_haplotypes(samples=['QV0090-C'], show_genotypes=True)"
   ]
  },
  {
   "cell_type": "code",
   "execution_count": null,
   "metadata": {
    "collapsed": true
   },
   "outputs": [],
   "source": []
  },
  {
   "cell_type": "markdown",
   "metadata": {},
   "source": [
    "## Effect of variants that failed filters\n",
    "Two variants(at Pf3D7_07_v3:404836 and Pf3D7_07_v3:405559) failed variant filters. The following shows that in each case there was only one sample with a heterozygous call at the variant, and the position was the last in the codon and the different alleles made no change in the amino acid.\n"
   ]
  },
  {
   "cell_type": "code",
   "execution_count": 26,
   "metadata": {
    "collapsed": true
   },
   "outputs": [],
   "source": [
    "def non_ref_sample(chrom='Pf3D7_07_v3', pos=404838):\n",
    "    vcf_reader = vcf.Reader(filename=vcf_file_format % chrom)\n",
    "    samples = vcf_reader.samples\n",
    "    for record in vcf_reader.fetch(chrom, pos-1, pos):\n",
    "        print(record, record.FILTER)\n",
    "        for sample in samples:\n",
    "            GT = record.genotype(sample)['GT']\n",
    "            if not GT in ['0/0', './.']:\n",
    "                print(sample, record.genotype(sample))\n"
   ]
  },
  {
   "cell_type": "code",
   "execution_count": 27,
   "metadata": {
    "collapsed": false
   },
   "outputs": [
    {
     "name": "stdout",
     "output_type": "stream",
     "text": [
      "Record(CHROM=Pf3D7_07_v3, POS=404838, REF=A, ALT=[G]) ['Low_VQSLOD']\n",
      "PF0671-C Call(sample=PF0671-C, CallData(GT=0/1, AD=[44, 22], BCS=[2566, 1015, 648, 2240], DP=66, GQ=99, PGT=None, PID=None, PL=[525, 0, 1348]))\n"
     ]
    }
   ],
   "source": [
    "non_ref_sample()"
   ]
  },
  {
   "cell_type": "code",
   "execution_count": 29,
   "metadata": {
    "collapsed": false
   },
   "outputs": [
    {
     "name": "stdout",
     "output_type": "stream",
     "text": [
      "Record(CHROM=Pf3D7_07_v3, POS=404836, REF=C, ALT=[G]) []\n",
      "Call(sample=PF0671-C, CallData(GT=0/0, AD=[60, 0], BCS=[None, None, None, None], DP=60, GQ=99, PGT=None, PID=None, PL=[0, 120, 1800]))\n",
      "Record(CHROM=Pf3D7_07_v3, POS=404838, REF=A, ALT=[G]) ['Low_VQSLOD']\n",
      "Call(sample=PF0671-C, CallData(GT=0/1, AD=[44, 22], BCS=[2566, 1015, 648, 2240], DP=66, GQ=99, PGT=None, PID=None, PL=[525, 0, 1348]))\n",
      "[MutableSeq('caA', Alphabet()), MutableSeq('caG', Alphabet())]\n"
     ]
    },
    {
     "data": {
      "text/plain": [
       "(OrderedDict([('PF0671-C', 'Q,Q')]), 'Q')"
      ]
     },
     "execution_count": 29,
     "metadata": {},
     "output_type": "execute_result"
    }
   ],
   "source": [
    "call_haplotypes('crt_271', 'Pf3D7_07_v3', 404836, 404838, '+', samples=['PF0671-C'], show_genotypes=True)"
   ]
  },
  {
   "cell_type": "code",
   "execution_count": 28,
   "metadata": {
    "collapsed": false
   },
   "outputs": [
    {
     "name": "stdout",
     "output_type": "stream",
     "text": [
      "Record(CHROM=Pf3D7_07_v3, POS=405559, REF=C, ALT=[A]) ['Low_VQSLOD']\n",
      "PF0844-C Call(sample=PF0844-C, CallData(GT=0/1, AD=[25, 61], BCS=[2695, 1261, 913, 3449], DP=86, GQ=99, PGT=None, PID=None, PL=[1931, 0, 587]))\n"
     ]
    }
   ],
   "source": [
    "non_ref_sample(chrom='Pf3D7_07_v3', pos=405559)"
   ]
  },
  {
   "cell_type": "code",
   "execution_count": 30,
   "metadata": {
    "collapsed": false
   },
   "outputs": [
    {
     "name": "stdout",
     "output_type": "stream",
     "text": [
      "Record(CHROM=Pf3D7_07_v3, POS=405557, REF=A, ALT=[G]) []\n",
      "Call(sample=PF0844-C, CallData(GT=0/0, AD=[66, 0], BCS=[None, None, None, None], DP=66, GQ=99, PL=[0, 104, 1800]))\n",
      "Record(CHROM=Pf3D7_07_v3, POS=405559, REF=C, ALT=[A]) ['Low_VQSLOD']\n",
      "Call(sample=PF0844-C, CallData(GT=0/1, AD=[25, 61], BCS=[2695, 1261, 913, 3449], DP=86, GQ=99, PGT=None, PID=None, PL=[1931, 0, 587]))\n",
      "[MutableSeq('acC', Alphabet()), MutableSeq('acA', Alphabet())]\n"
     ]
    },
    {
     "data": {
      "text/plain": [
       "(OrderedDict([('PF0844-C', 'T,T')]), 'T')"
      ]
     },
     "execution_count": 30,
     "metadata": {},
     "output_type": "execute_result"
    }
   ],
   "source": [
    "call_haplotypes('crt_342', 'Pf3D7_07_v3', 405557, 405559, '+', samples=['PF0844-C'], show_genotypes=True)"
   ]
  },
  {
   "cell_type": "code",
   "execution_count": null,
   "metadata": {
    "collapsed": true
   },
   "outputs": [],
   "source": []
  }
 ],
 "metadata": {
  "anaconda-cloud": {},
  "kernelspec": {
   "display_name": "Python 3",
   "language": "python",
   "name": "python3"
  },
  "language_info": {
   "codemirror_mode": {
    "name": "ipython",
    "version": 3
   },
   "file_extension": ".py",
   "mimetype": "text/x-python",
   "name": "python",
   "nbconvert_exporter": "python",
   "pygments_lexer": "ipython3",
   "version": "3.4.5"
  }
 },
 "nbformat": 4,
 "nbformat_minor": 1
}
