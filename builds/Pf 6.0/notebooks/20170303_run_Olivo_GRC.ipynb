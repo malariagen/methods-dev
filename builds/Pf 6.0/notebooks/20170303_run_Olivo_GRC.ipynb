{
 "cells": [
  {
   "cell_type": "code",
   "execution_count": 1,
   "metadata": {
    "collapsed": false
   },
   "outputs": [
    {
     "name": "stdout",
     "output_type": "stream",
     "text": [
      "python 3.5.2 |Continuum Analytics, Inc.| (default, Jul  2 2016, 17:53:06) \n",
      "[GCC 4.4.7 20120313 (Red Hat 4.4.7-1)]\n",
      "numpy 1.11.3\n",
      "scipy 0.18.1\n",
      "pandas 0.19.2\n",
      "numexpr 2.6.2\n",
      "pysam 0.8.4\n",
      "petl 1.1.0\n",
      "petlx 1.0.3\n",
      "vcf 0.6.8\n",
      "vcfnp 2.3.0\n",
      "h5py 2.6.0\n",
      "tables 3.3.0\n"
     ]
    }
   ],
   "source": [
    "%run _standard_imports.ipynb\n",
    "from pyfasta import Fasta\n",
    "from Bio.Seq import Seq"
   ]
  },
  {
   "cell_type": "code",
   "execution_count": 39,
   "metadata": {
    "collapsed": true
   },
   "outputs": [],
   "source": [
    "scratch_dir = \"/lustre/scratch118/malaria/team112/personal/rp7/data/methods-dev/builds/Pf6.0/20170303_run_Olivo_GRC\"\n",
    "output_dir = \"/nfs/team112_internal/rp7/data/methods-dev/builds/Pf6.0/20170303_run_Olivo_GRC\"\n",
    "!mkdir -p {scratch_dir}/grc\n",
    "!mkdir -p {scratch_dir}/grc_inc_unmapped\n",
    "!mkdir -p {scratch_dir}/species\n",
    "!mkdir -p {scratch_dir}/species_inc_unmapped\n",
    "!mkdir -p {scratch_dir}/log\n",
    "!mkdir -p {output_dir}/grc\n",
    "!mkdir -p {output_dir}/grc_inc_unmapped\n",
    "!mkdir -p {output_dir}/species\n",
    "!mkdir -p {output_dir}/species_inc_unmapped\n",
    "\n",
    "bam_fn = \"%s/pf_60_mergelanes.txt\" % output_dir\n",
    "bam_list_fn = \"%s/pf_60_mergelanes_bamfiles.txt\" % output_dir\n",
    "chromosomeMap_fn = \"%s/chromosomeMap.tab\" % output_dir\n",
    "\n",
    "grc_properties_fn = \"%s/grc/grc.properties\" % output_dir\n",
    "grc_inc_unmapped_properties_fn = \"%s/grc_inc_unmapped/grc.properties\" % output_dir\n",
    "species_properties_fn = \"%s/species/species.properties\" % output_dir\n",
    "species_inc_unmapped_properties_fn = \"%s/species_inc_unmapped/species.properties\" % output_dir\n",
    "\n",
    "submitArray_fn = \"%s/grc/submitArray.sh\" % output_dir\n",
    "submitIncUnmappedArray_fn = \"%s/grc_inc_unmapped/submitArray.sh\" % output_dir\n",
    "submitSpeciesArray_fn = \"%s/species/submitArray.sh\" % output_dir\n",
    "submitSpeciesIncUnmappedArray_fn = \"%s/species_inc_unmapped/submitArray.sh\" % output_dir\n",
    "\n",
    "runArrayJob_fn = \"%s/grc/runArrayJob.sh\" % output_dir\n",
    "runSpeciesArrayJob_fn = \"%s/species/runArrayJob.sh\" % output_dir\n",
    "\n",
    "mergeGrcResults_fn = \"%s/grc/mergeGrcResults.sh\" % output_dir\n",
    "mergeGrcIncUnmappedResults_fn = \"%s/grc_inc_unmapped/mergeGrcResults.sh\" % output_dir\n",
    "mergeSpeciesResults_fn = \"%s/species/mergeSpeciesResults.sh\" % output_dir\n",
    "mergeSpeciesIncUnmappedResults_fn = \"%s/species_inc_unmapped/mergeSpeciesResults.sh\" % output_dir\n",
    "\n",
    "ref_fasta_fn = \"%s/Pfalciparum.genome.fasta\" % output_dir\n",
    "# old_ref_fasta_fn = \"%s/3D7_V3.fasta\" % output_dir"
   ]
  },
  {
   "cell_type": "markdown",
   "metadata": {},
   "source": [
    "# Update GRC code"
   ]
  },
  {
   "cell_type": "code",
   "execution_count": 3,
   "metadata": {
    "collapsed": false
   },
   "outputs": [],
   "source": [
    "current_dir = !pwd"
   ]
  },
  {
   "cell_type": "code",
   "execution_count": 4,
   "metadata": {
    "collapsed": false
   },
   "outputs": [
    {
     "data": {
      "text/plain": [
       "'/nfs/team112_internal/rp7/src/github/malariagen/methods-dev/builds/Pf 6.0/notebooks'"
      ]
     },
     "execution_count": 4,
     "metadata": {},
     "output_type": "execute_result"
    }
   ],
   "source": [
    "current_dir[0]"
   ]
  },
  {
   "cell_type": "code",
   "execution_count": 5,
   "metadata": {
    "collapsed": false
   },
   "outputs": [
    {
     "name": "stdout",
     "output_type": "stream",
     "text": [
      "/nfs/team112_internal/rp7/src/github/malariagen/GeneticReportCard\n"
     ]
    }
   ],
   "source": [
    "%cd /nfs/team112_internal/rp7/src/github/malariagen/GeneticReportCard"
   ]
  },
  {
   "cell_type": "code",
   "execution_count": 6,
   "metadata": {
    "collapsed": false
   },
   "outputs": [
    {
     "name": "stdout",
     "output_type": "stream",
     "text": [
      "Already up-to-date.\r\n"
     ]
    }
   ],
   "source": [
    "!git pull"
   ]
  },
  {
   "cell_type": "code",
   "execution_count": 7,
   "metadata": {
    "collapsed": false
   },
   "outputs": [
    {
     "name": "stdout",
     "output_type": "stream",
     "text": [
      "/nfs/team112_internal/rp7/src/github/malariagen/GeneticReportCard/SequencingReadsAnalysis\n"
     ]
    }
   ],
   "source": [
    "%cd SequencingReadsAnalysis"
   ]
  },
  {
   "cell_type": "code",
   "execution_count": 8,
   "metadata": {
    "collapsed": false
   },
   "outputs": [
    {
     "name": "stdout",
     "output_type": "stream",
     "text": [
      "Buildfile: /nfs/team112_internal/rp7/src/github/malariagen/GeneticReportCard/SequencingReadsAnalysis/build.xml\n",
      "\n",
      "build-subprojects:\n",
      "\n",
      "init:\n",
      "\n",
      "build-project:\n",
      "     [echo] AnalysisCommon: /nfs/team112_internal/rp7/src/github/malariagen/GeneticReportCard/AnalysisCommon/build.xml\n",
      "\n",
      "init:\n",
      "\n",
      "build-project:\n",
      "     [echo] SequencingReadsAnalysis: /nfs/team112_internal/rp7/src/github/malariagen/GeneticReportCard/SequencingReadsAnalysis/build.xml\n",
      "\n",
      "build:\n",
      "\n",
      "BUILD SUCCESSFUL\n",
      "Total time: 0 seconds\n"
     ]
    }
   ],
   "source": [
    "!ant build"
   ]
  },
  {
   "cell_type": "code",
   "execution_count": 9,
   "metadata": {
    "collapsed": false
   },
   "outputs": [
    {
     "name": "stdout",
     "output_type": "stream",
     "text": [
      "/nfs/team112_internal/rp7/src/github/malariagen/methods-dev/builds/Pf 6.0/notebooks\n"
     ]
    }
   ],
   "source": [
    "%cd {current_dir[0]}"
   ]
  },
  {
   "cell_type": "markdown",
   "metadata": {},
   "source": [
    "# Gather relevant data"
   ]
  },
  {
   "cell_type": "code",
   "execution_count": 10,
   "metadata": {
    "collapsed": true
   },
   "outputs": [],
   "source": [
    "!cp /lustre/scratch116/malaria/pfalciparum/resources/Pfalciparum.genome.fasta {ref_fasta_fn}\n",
    "# !cp /lustre/scratch109/malaria/pfalciparum/resources/3D7_V3.fasta {old_ref_fasta_fn}"
   ]
  },
  {
   "cell_type": "raw",
   "metadata": {},
   "source": [
    "# The following was run on malsrv3\n",
    "vrpipe-fileinfo --setup pf_60_mergelanes --metadata sample > /nfs/team112_internal/rp7/data/methods-dev/builds/Pf6.0/20170303_run_Olivo_GRC/pf_60_mergelanes.txt"
   ]
  },
  {
   "cell_type": "code",
   "execution_count": 12,
   "metadata": {
    "collapsed": false
   },
   "outputs": [],
   "source": [
    "# Create list of bam files in format required\n",
    "tbl_bam_file = (etl\n",
    "    .fromtsv(bam_fn)\n",
    "    .addfield('ChrMap', 'default')\n",
    "    .rename('path', 'BamFile')\n",
    "    .rename('sample', 'Sample')\n",
    "    .cut(['Sample', 'BamFile', 'ChrMap'])\n",
    "    .select(lambda rec: 'pe' in rec['BamFile']) # There are 5 single-end bam files which should be ignored\n",
    "    .addrownumbers()\n",
    "    .sort('row', reverse=True) # we reverse it because the largest files are at the end of the list, and we want these kicked off first\n",
    "    .cutout('row')\n",
    ")\n",
    "tbl_bam_file.totsv(bam_list_fn, lineterminator='\\n')\n",
    "# !dos2unix -o {bam_list_fn}"
   ]
  },
  {
   "cell_type": "code",
   "execution_count": 13,
   "metadata": {
    "collapsed": false
   },
   "outputs": [
    {
     "data": {
      "text/html": [
       "<table class='petl'>\n",
       "<thead>\n",
       "<tr>\n",
       "<th>Sample</th>\n",
       "<th>BamFile</th>\n",
       "<th>ChrMap</th>\n",
       "</tr>\n",
       "</thead>\n",
       "<tbody>\n",
       "<tr>\n",
       "<td>PA0867-CW</td>\n",
       "<td>/lustre/scratch116/malaria/pfalciparum/output/6/d/b/0/37432/4_bam_mark_duplicates_v2/pe.1.markdup.bam</td>\n",
       "<td>default</td>\n",
       "</tr>\n",
       "<tr>\n",
       "<td>PG0035-Cx</td>\n",
       "<td>/lustre/scratch116/malaria/pfalciparum/output/b/a/c/9/40053/4_bam_mark_duplicates_v2/pe.1.markdup.bam</td>\n",
       "<td>default</td>\n",
       "</tr>\n",
       "<tr>\n",
       "<td>PF0252-C</td>\n",
       "<td>/lustre/scratch116/malaria/pfalciparum/output/9/9/9/6/39138/4_bam_mark_duplicates_v2/pe.1.markdup.bam</td>\n",
       "<td>default</td>\n",
       "</tr>\n",
       "<tr>\n",
       "<td>PG0528-C</td>\n",
       "<td>/lustre/scratch116/malaria/pfalciparum/output/7/a/e/0/40666/4_bam_mark_duplicates_v2/pe.1.markdup.bam</td>\n",
       "<td>default</td>\n",
       "</tr>\n",
       "<tr>\n",
       "<td>PM0603-C</td>\n",
       "<td>/lustre/scratch116/malaria/pfalciparum/output/0/5/c/7/42548/4_bam_mark_duplicates_v2/pe.1.markdup.bam</td>\n",
       "<td>default</td>\n",
       "</tr>\n",
       "</tbody>\n",
       "</table>\n",
       "<p><strong>...</strong></p>"
      ],
      "text/plain": [
       "+-------------+---------------------------------------------------------------------------------------------------------+-----------+\n",
       "| Sample      | BamFile                                                                                                 | ChrMap    |\n",
       "+=============+=========================================================================================================+===========+\n",
       "| 'PA0867-CW' | '/lustre/scratch116/malaria/pfalciparum/output/6/d/b/0/37432/4_bam_mark_duplicates_v2/pe.1.markdup.bam' | 'default' |\n",
       "+-------------+---------------------------------------------------------------------------------------------------------+-----------+\n",
       "| 'PG0035-Cx' | '/lustre/scratch116/malaria/pfalciparum/output/b/a/c/9/40053/4_bam_mark_duplicates_v2/pe.1.markdup.bam' | 'default' |\n",
       "+-------------+---------------------------------------------------------------------------------------------------------+-----------+\n",
       "| 'PF0252-C'  | '/lustre/scratch116/malaria/pfalciparum/output/9/9/9/6/39138/4_bam_mark_duplicates_v2/pe.1.markdup.bam' | 'default' |\n",
       "+-------------+---------------------------------------------------------------------------------------------------------+-----------+\n",
       "| 'PG0528-C'  | '/lustre/scratch116/malaria/pfalciparum/output/7/a/e/0/40666/4_bam_mark_duplicates_v2/pe.1.markdup.bam' | 'default' |\n",
       "+-------------+---------------------------------------------------------------------------------------------------------+-----------+\n",
       "| 'PM0603-C'  | '/lustre/scratch116/malaria/pfalciparum/output/0/5/c/7/42548/4_bam_mark_duplicates_v2/pe.1.markdup.bam' | 'default' |\n",
       "+-------------+---------------------------------------------------------------------------------------------------------+-----------+\n",
       "..."
      ]
     },
     "execution_count": 13,
     "metadata": {},
     "output_type": "execute_result"
    }
   ],
   "source": [
    "tbl_bam_file"
   ]
  },
  {
   "cell_type": "code",
   "execution_count": 14,
   "metadata": {
    "collapsed": false
   },
   "outputs": [
    {
     "data": {
      "text/plain": [
       "8247"
      ]
     },
     "execution_count": 14,
     "metadata": {},
     "output_type": "execute_result"
    }
   ],
   "source": [
    "len(tbl_bam_file)"
   ]
  },
  {
   "cell_type": "code",
   "execution_count": 15,
   "metadata": {
    "collapsed": false
   },
   "outputs": [
    {
     "data": {
      "text/plain": [
       "8247"
      ]
     },
     "execution_count": 15,
     "metadata": {},
     "output_type": "execute_result"
    }
   ],
   "source": [
    "len(tbl_bam_file.select(lambda rec: 'pe' in rec['BamFile']))"
   ]
  },
  {
   "cell_type": "code",
   "execution_count": 16,
   "metadata": {
    "collapsed": false
   },
   "outputs": [
    {
     "name": "stdout",
     "output_type": "stream",
     "text": [
      "8247 /nfs/team112_internal/rp7/data/methods-dev/builds/Pf6.0/20170303_run_Olivo_GRC/pf_60_mergelanes_bamfiles.txt\r\n"
     ]
    }
   ],
   "source": [
    "!wc -l {bam_list_fn}"
   ]
  },
  {
   "cell_type": "markdown",
   "metadata": {},
   "source": [
    "# Create relevant GRC properties files"
   ]
  },
  {
   "cell_type": "code",
   "execution_count": 17,
   "metadata": {
    "collapsed": false
   },
   "outputs": [],
   "source": [
    "fo = open(grc_properties_fn, 'w')\n",
    "print('''grc.loci=crt_core,crt_ex01,crt_ex02,crt_ex03,crt_ex04,crt_ex06,crt_ex09,crt_ex10,crt_ex11,dhfr_1,dhfr_2,dhfr_3,dhps_1,dhps_2,dhps_3,dhps_4,mdr1_1,mdr1_2,mdr1_3,arps10,mdr2,fd,exo\n",
    "\n",
    "# CRT\n",
    "grc.locus.crt_core.region=Pf3D7_07_v3:403500-403800\n",
    "grc.locus.crt_core.targets=crt_72-76@403612-403626\n",
    "grc.locus.crt_core.anchors=403593@TATTATTTATTTAAGTGTA,403627@ATTTTTGCTAAAAGAAC\n",
    "\n",
    "grc.locus.crt_ex01.region=Pf3D7_07_v3:403150-404420\n",
    "grc.locus.crt_ex01.targets=crt_24@403291-403293\n",
    "grc.locus.crt_ex01.anchors=403273@GAGCGTTATA.[AG]GAATTA...AATTTA.TACAAGAA[GA]GAA\n",
    "\n",
    "grc.locus.crt_ex02.region=Pf3D7_07_v3:403550-403820\n",
    "grc.locus.crt_ex02.targets=crt_97@403687-403689\n",
    "grc.locus.crt_ex02.anchors=403657@GGTAACTATAGTTTTGT.[AT]CATC[CT]GAAAC,403690@AACTTTATTTGTATGATTA[TA]GTTCTTTATT\n",
    "\n",
    "grc.locus.crt_ex03.region=Pf3D7_07_v3:403850-404170\n",
    "grc.locus.crt_ex03.targets=crt_144@404007-404009,crt_148@404019-404021\n",
    "grc.locus.crt_ex03.anchors=404022@ACAAGAACTACTGGAAA[TC]AT[CT]CA[AG]TCATTT,403977@TC[CT]AT.TTA.AT[GT]CCTGTTCA.T[CA]ATT\n",
    "\n",
    "grc.locus.crt_ex04.region=Pf3D7_07_v3:404200-404500\n",
    "grc.locus.crt_ex04.targets=crt_194@404329-404331,crt_220@404407-404409\n",
    "grc.locus.crt_ex04.anchors=404304@CGGAGCA[GC]TTATTATTGTTGTAACA...GCTC,404338@GTAGAAATGAAATTATC[TA]TTTGAAACAC,404359@GAAACACAAGAAGAAAATTCTATC[AG]TATTTAATC,404382@C[AG]TATTTAATCTTGTCTTA[AT]TTAGT...TTAATTG\n",
    "\n",
    "grc.locus.crt_ex06.region=Pf3D7_07_v3:404700-405000\n",
    "grc.locus.crt_ex06.targets=crt_271@404836-404838\n",
    "grc.locus.crt_ex06.anchors=404796@TTGTCTTATATT.CCTGTATACACCCTTCCATT[TC]TTAAAA...C\n",
    "\n",
    "grc.locus.crt_ex09.region=Pf3D7_07_v3:405200-405500\n",
    "grc.locus.crt_ex09.targets=crt_326@405361-405363,crt_333@405382-405384\n",
    "grc.locus.crt_ex09.anchors=405334@AAAACCTT[CT]G[CT]ATTGTTTTCCTTCTTT,405364@A.TTGTGATAATTTAATA...AGCTAT\n",
    "\n",
    "grc.locus.crt_ex10.region=Pf3D7_07_v3:405400-405750\n",
    "grc.locus.crt_ex10.targets=crt_342@405557-405559,crt_356@405599-405601\n",
    "grc.locus.crt_ex10.anchors=405539@ATTATCGACAAATTTTCT...[AT]TGACATATAC,405573@TTGTTAGTTGTATACAAG[GT]TCCA[GA]CA,405602@GCAATT[GT]CTTATTACTTTAAATTCTTA[GA]CC\n",
    "\n",
    "grc.locus.crt_ex11.region=Pf3D7_07_v3:405700-406000\n",
    "grc.locus.crt_ex11.targets=crt_371@405837-405839\n",
    "grc.locus.crt_ex11.anchors=405825@[GT]GTGATGTT.[TA]A...G.ACCAAGATTATTAG,405840@G.ACCAAGATTATTAGATTTCGTAACTTTG\n",
    "\n",
    "# DHFR\n",
    "grc.locus.dhfr_1.region=Pf3D7_04_v3:748100-748400\n",
    "grc.locus.dhfr_1.targets=dhfr_51@748238-748240,dhfr_59@748262-748264\n",
    "grc.locus.dhfr_1.anchors=748200@GAGGTCTAGGAAATAAAGGAGTATTACCATGGAA,748241@TCCCTAGATATGAAATATTTT...GCAG,748265@GCAGTTACAACATATGTGAATGAATC\n",
    "\n",
    "grc.locus.dhfr_2.region=Pf3D7_04_v3:748250-748550\n",
    "grc.locus.dhfr_2.targets=dhfr_108@748409-748411\n",
    "grc.locus.dhfr_2.anchors=748382@CAAAATGTTGTAGTTATGGGAAGAACA,748412@TGGGAAAGCATTCCAAAAAAATTT\n",
    "\n",
    "grc.locus.dhfr_3.region=Pf3D7_04_v3:748400-748720\n",
    "grc.locus.dhfr_3.targets=dhfr_164@748577-748579\n",
    "grc.locus.dhfr_3.anchors=748382@GGGAAATTAAATTACTATAAATG,748382@CTATAAATGTTTTATT...GGAGGTTC,748412@GGAGGTTCCGTTGTTTATCAAG\n",
    "\n",
    "\n",
    "# DHPS\n",
    "grc.locus.dhps_1.region=Pf3D7_08_v3:549550-549750\n",
    "grc.locus.dhps_1.targets=dhps_436@549681-549683,dhps_437@549684-549686\n",
    "grc.locus.dhps_1.anchors=549657@GTTATAGAT[AG]TAGGTGGAGAATCC,549669@GGTGGAGAATCC..TG.TCC,549687@CCTTTTGTTAT[AG]CCTAATCCAAAAATTAGTG\n",
    "\n",
    "grc.locus.dhps_2.region=Pf3D7_08_v3:549850-550150\n",
    "grc.locus.dhps_2.targets=dhps_540@549993-549995\n",
    "grc.locus.dhps_2.anchors=549949@GTGTAGTTCTAATGCATAAAAGAGG,549970@GAGGAAATCCACATACAATGGAT,549985@CAATGGAT...CTAACAAATTA[TA]GATA,549996@CTAACAAATTA[TA]GATAATCTAGT\n",
    "\n",
    "grc.locus.dhps_3.region=Pf3D7_08_v3:549950-550250\n",
    "grc.locus.dhps_3.targets=dhps_581@550116-550118\n",
    "grc.locus.dhps_3.anchors=550092@CTATTTGATATTGGATTAGGATTT,550119@AAGAAACATGATCAATCT[AT]TTAAACTC\n",
    "\n",
    "grc.locus.dhps_4.region=Pf3D7_08_v3:550050-550350\n",
    "grc.locus.dhps_4.targets=dhps_613@550212-550214\n",
    "grc.locus.dhps_4.anchors=550167@GATGAGTATCCACTTTTTATTGG,550188@GGATATTCAAGAAAAAGATTTATT,550215@CATTGCATGAATGATCAAAATGTTG\n",
    "\n",
    "\n",
    "# MDR1\n",
    "grc.locus.mdr1_1.region=Pf3D7_05_v3:957970-958280\n",
    "grc.locus.mdr1_1.targets=mdr1_86@958145-958147\n",
    "grc.locus.mdr1_1.anchors=958120@GTTTG[GT]TGTAATATTAAA[GA]AACATG,958141@CATG...TTAGGTGATGATATTAATCCT\n",
    "\n",
    "grc.locus.mdr1_2.region=Pf3D7_05_v3:958300-958600\n",
    "grc.locus.mdr1_2.targets=mdr1_184@958439-958441\n",
    "grc.locus.mdr1_2.anchors=958413@CATATGC[CA]AGTTCCTTTTTAGG,958446@GGTC[AG]TTAATAAAAAAT[GA]CACGTTTGAC\n",
    "\n",
    "grc.locus.mdr1_3.region=Pf3D7_05_v3:961470-961770\n",
    "grc.locus.mdr1_3.targets=mdr1_1246@961625-961627\n",
    "grc.locus.mdr1_3.anchors=961595@GTTATAGAT[AG]TAGGTGGAGAATCC,961628@CTTAGAAA[CT][TA]TATTTTC[AT]ATAGTTAGTC\n",
    "\n",
    "# ARPS10\n",
    "grc.locus.arps10.region=Pf3D7_14_v3:2480900-2481200\n",
    "grc.locus.arps10.targets=arps10_127@2481070-2481072\n",
    "grc.locus.arps10.anchors=2481045@ATTTAC[CA]TTTTTGCGATCTCCCCAT...[GC],2481079@GACAGT[AC]G[AG]GA[GA]CAATTCGAAATAAAAC\n",
    "\n",
    "# MDR2\n",
    "grc.locus.mdr2.region=Pf3D7_14_v3:1956070-1956370\n",
    "grc.locus.mdr2.targets=mdr2_484@-1956224-1956226\n",
    "grc.locus.mdr2.anchors=1956203@ACATGTTATTAATCCT[TC]TAT...TGCC,1956227@TGCCGGAATAAT[AG]TACATTAAAACAGAAC\n",
    "\n",
    "# Ferredoxin\n",
    "grc.locus.fd.region=Pf3D7_13_v3:748250-748550\n",
    "grc.locus.fd.targets=fd_193@-748393-748395\n",
    "grc.locus.fd.anchors=748396@[GA]TGTAGTTCGTCTTCCTTGTG[CT]GTTTC\n",
    "\n",
    "# Exo\n",
    "grc.locus.exo.region=Pf3D7_13_v3:2504400-2504700\n",
    "grc.locus.exo.targets=exo_415@2504559-2504561\n",
    "grc.locus.exo.anchors=2504526@[GC]ATGATTTTA[AG][CA]AATATGGT[TC]ATAA[CT]GATAAAA,2504562@GAA[GT]TAAA[CT][AC]ATCATTGG[GA]AAAA[TC]AATATATAC\n",
    "''', file=fo)\n",
    "fo.close() "
   ]
  },
  {
   "cell_type": "code",
   "execution_count": 40,
   "metadata": {
    "collapsed": false
   },
   "outputs": [],
   "source": [
    "fo = open(grc_inc_unmapped_properties_fn, 'w')\n",
    "print('''grc.loci=crt_core,crt_ex01,crt_ex02,crt_ex03,crt_ex04,crt_ex06,crt_ex09,crt_ex10,crt_ex11,dhfr_1,dhfr_2,dhfr_3,dhps_1,dhps_2,dhps_3,dhps_4,mdr1_1,mdr1_2,mdr1_3,arps10,mdr2,fd,exo\n",
    "\n",
    "# CRT\n",
    "grc.locus.crt_core.region=Pf3D7_07_v3:403500-403800\n",
    "grc.locus.crt_core.targets=crt_72-76@403612-403626\n",
    "grc.locus.crt_core.anchors=403593@TATTATTTATTTAAGTGTA,403627@ATTTTTGCTAAAAGAAC\n",
    "grc.locus.crt_core.analyzeUnmappedReads=true\n",
    "\n",
    "grc.locus.crt_ex01.region=Pf3D7_07_v3:403150-404420\n",
    "grc.locus.crt_ex01.targets=crt_24@403291-403293\n",
    "grc.locus.crt_ex01.anchors=403273@GAGCGTTATA.[AG]GAATTA...AATTTA.TACAAGAA[GA]GAA\n",
    "grc.locus.crt_ex01.analyzeUnmappedReads=true\n",
    "\n",
    "grc.locus.crt_ex02.region=Pf3D7_07_v3:403550-403820\n",
    "grc.locus.crt_ex02.targets=crt_97@403687-403689\n",
    "grc.locus.crt_ex02.anchors=403657@GGTAACTATAGTTTTGT.[AT]CATC[CT]GAAAC,403690@AACTTTATTTGTATGATTA[TA]GTTCTTTATT\n",
    "grc.locus.crt_ex02.analyzeUnmappedReads=true\n",
    "\n",
    "grc.locus.crt_ex03.region=Pf3D7_07_v3:403850-404170\n",
    "grc.locus.crt_ex03.targets=crt_144@404007-404009,crt_148@404019-404021\n",
    "grc.locus.crt_ex03.anchors=404022@ACAAGAACTACTGGAAA[TC]AT[CT]CA[AG]TCATTT,403977@TC[CT]AT.TTA.AT[GT]CCTGTTCA.T[CA]ATT\n",
    "grc.locus.crt_ex03.analyzeUnmappedReads=true\n",
    "\n",
    "grc.locus.crt_ex04.region=Pf3D7_07_v3:404200-404500\n",
    "grc.locus.crt_ex04.targets=crt_194@404329-404331,crt_220@404407-404409\n",
    "grc.locus.crt_ex04.anchors=404304@CGGAGCA[GC]TTATTATTGTTGTAACA...GCTC,404338@GTAGAAATGAAATTATC[TA]TTTGAAACAC,404359@GAAACACAAGAAGAAAATTCTATC[AG]TATTTAATC,404382@C[AG]TATTTAATCTTGTCTTA[AT]TTAGT...TTAATTG\n",
    "grc.locus.crt_ex04.analyzeUnmappedReads=true\n",
    "\n",
    "grc.locus.crt_ex06.region=Pf3D7_07_v3:404700-405000\n",
    "grc.locus.crt_ex06.targets=crt_271@404836-404838\n",
    "grc.locus.crt_ex06.anchors=404796@TTGTCTTATATT.CCTGTATACACCCTTCCATT[TC]TTAAAA...C\n",
    "grc.locus.crt_ex06.analyzeUnmappedReads=true\n",
    "\n",
    "grc.locus.crt_ex09.region=Pf3D7_07_v3:405200-405500\n",
    "grc.locus.crt_ex09.targets=crt_326@405361-405363,crt_333@405382-405384\n",
    "grc.locus.crt_ex09.anchors=405334@AAAACCTT[CT]G[CT]ATTGTTTTCCTTCTTT,405364@A.TTGTGATAATTTAATA...AGCTAT\n",
    "grc.locus.crt_ex09.analyzeUnmappedReads=true\n",
    "\n",
    "grc.locus.crt_ex10.region=Pf3D7_07_v3:405400-405750\n",
    "grc.locus.crt_ex10.targets=crt_342@405557-405559,crt_356@405599-405601\n",
    "grc.locus.crt_ex10.anchors=405539@ATTATCGACAAATTTTCT...[AT]TGACATATAC,405573@TTGTTAGTTGTATACAAG[GT]TCCA[GA]CA,405602@GCAATT[GT]CTTATTACTTTAAATTCTTA[GA]CC\n",
    "grc.locus.crt_ex10.analyzeUnmappedReads=true\n",
    "\n",
    "grc.locus.crt_ex11.region=Pf3D7_07_v3:405700-406000\n",
    "grc.locus.crt_ex11.targets=crt_371@405837-405839\n",
    "grc.locus.crt_ex11.anchors=405825@[GT]GTGATGTT.[TA]A...G.ACCAAGATTATTAG,405840@G.ACCAAGATTATTAGATTTCGTAACTTTG\n",
    "grc.locus.crt_ex11.analyzeUnmappedReads=true\n",
    "\n",
    "# DHFR\n",
    "grc.locus.dhfr_1.region=Pf3D7_04_v3:748100-748400\n",
    "grc.locus.dhfr_1.targets=dhfr_51@748238-748240,dhfr_59@748262-748264\n",
    "grc.locus.dhfr_1.anchors=748200@GAGGTCTAGGAAATAAAGGAGTATTACCATGGAA,748241@TCCCTAGATATGAAATATTTT...GCAG,748265@GCAGTTACAACATATGTGAATGAATC\n",
    "grc.locus.dhfr_1.analyzeUnmappedReads=true\n",
    "\n",
    "grc.locus.dhfr_2.region=Pf3D7_04_v3:748250-748550\n",
    "grc.locus.dhfr_2.targets=dhfr_108@748409-748411\n",
    "grc.locus.dhfr_2.anchors=748382@CAAAATGTTGTAGTTATGGGAAGAACA,748412@TGGGAAAGCATTCCAAAAAAATTT\n",
    "grc.locus.dhfr_2.analyzeUnmappedReads=true\n",
    "\n",
    "grc.locus.dhfr_3.region=Pf3D7_04_v3:748400-748720\n",
    "grc.locus.dhfr_3.targets=dhfr_164@748577-748579\n",
    "grc.locus.dhfr_3.anchors=748382@GGGAAATTAAATTACTATAAATG,748382@CTATAAATGTTTTATT...GGAGGTTC,748412@GGAGGTTCCGTTGTTTATCAAG\n",
    "grc.locus.dhfr_3.analyzeUnmappedReads=true\n",
    "\n",
    "\n",
    "# DHPS\n",
    "grc.locus.dhps_1.region=Pf3D7_08_v3:549550-549750\n",
    "grc.locus.dhps_1.targets=dhps_436@549681-549683,dhps_437@549684-549686\n",
    "grc.locus.dhps_1.anchors=549657@GTTATAGAT[AG]TAGGTGGAGAATCC,549669@GGTGGAGAATCC..TG.TCC,549687@CCTTTTGTTAT[AG]CCTAATCCAAAAATTAGTG\n",
    "grc.locus.dhps_1.analyzeUnmappedReads=true\n",
    "\n",
    "grc.locus.dhps_2.region=Pf3D7_08_v3:549850-550150\n",
    "grc.locus.dhps_2.targets=dhps_540@549993-549995\n",
    "grc.locus.dhps_2.anchors=549949@GTGTAGTTCTAATGCATAAAAGAGG,549970@GAGGAAATCCACATACAATGGAT,549985@CAATGGAT...CTAACAAATTA[TA]GATA,549996@CTAACAAATTA[TA]GATAATCTAGT\n",
    "grc.locus.dhps_2.analyzeUnmappedReads=true\n",
    "\n",
    "grc.locus.dhps_3.region=Pf3D7_08_v3:549950-550250\n",
    "grc.locus.dhps_3.targets=dhps_581@550116-550118\n",
    "grc.locus.dhps_3.anchors=550092@CTATTTGATATTGGATTAGGATTT,550119@AAGAAACATGATCAATCT[AT]TTAAACTC\n",
    "grc.locus.dhps_3.analyzeUnmappedReads=true\n",
    "\n",
    "grc.locus.dhps_4.region=Pf3D7_08_v3:550050-550350\n",
    "grc.locus.dhps_4.targets=dhps_613@550212-550214\n",
    "grc.locus.dhps_4.anchors=550167@GATGAGTATCCACTTTTTATTGG,550188@GGATATTCAAGAAAAAGATTTATT,550215@CATTGCATGAATGATCAAAATGTTG\n",
    "grc.locus.dhps_4.analyzeUnmappedReads=true\n",
    "\n",
    "\n",
    "# MDR1\n",
    "grc.locus.mdr1_1.region=Pf3D7_05_v3:957970-958280\n",
    "grc.locus.mdr1_1.targets=mdr1_86@958145-958147\n",
    "grc.locus.mdr1_1.anchors=958120@GTTTG[GT]TGTAATATTAAA[GA]AACATG,958141@CATG...TTAGGTGATGATATTAATCCT\n",
    "grc.locus.mdr1_1.analyzeUnmappedReads=true\n",
    "\n",
    "grc.locus.mdr1_2.region=Pf3D7_05_v3:958300-958600\n",
    "grc.locus.mdr1_2.targets=mdr1_184@958439-958441\n",
    "grc.locus.mdr1_2.anchors=958413@CATATGC[CA]AGTTCCTTTTTAGG,958446@GGTC[AG]TTAATAAAAAAT[GA]CACGTTTGAC\n",
    "grc.locus.mdr1_2.analyzeUnmappedReads=true\n",
    "\n",
    "grc.locus.mdr1_3.region=Pf3D7_05_v3:961470-961770\n",
    "grc.locus.mdr1_3.targets=mdr1_1246@961625-961627\n",
    "grc.locus.mdr1_3.anchors=961595@GTTATAGAT[AG]TAGGTGGAGAATCC,961628@CTTAGAAA[CT][TA]TATTTTC[AT]ATAGTTAGTC\n",
    "grc.locus.mdr1_3.analyzeUnmappedReads=true\n",
    "\n",
    "# ARPS10\n",
    "grc.locus.arps10.region=Pf3D7_14_v3:2480900-2481200\n",
    "grc.locus.arps10.targets=arps10_127@2481070-2481072\n",
    "grc.locus.arps10.anchors=2481045@ATTTAC[CA]TTTTTGCGATCTCCCCAT...[GC],2481079@GACAGT[AC]G[AG]GA[GA]CAATTCGAAATAAAAC\n",
    "grc.locus.arps10.analyzeUnmappedReads=true\n",
    "\n",
    "# MDR2\n",
    "grc.locus.mdr2.region=Pf3D7_14_v3:1956070-1956370\n",
    "grc.locus.mdr2.targets=mdr2_484@-1956224-1956226\n",
    "grc.locus.mdr2.anchors=1956203@ACATGTTATTAATCCT[TC]TAT...TGCC,1956227@TGCCGGAATAAT[AG]TACATTAAAACAGAAC\n",
    "grc.locus.mdr2.analyzeUnmappedReads=true\n",
    "\n",
    "# Ferredoxin\n",
    "grc.locus.fd.region=Pf3D7_13_v3:748250-748550\n",
    "grc.locus.fd.targets=fd_193@-748393-748395\n",
    "grc.locus.fd.anchors=748396@[GA]TGTAGTTCGTCTTCCTTGTG[CT]GTTTC\n",
    "grc.locus.fd.analyzeUnmappedReads=true\n",
    "\n",
    "# Exo\n",
    "grc.locus.exo.region=Pf3D7_13_v3:2504400-2504700\n",
    "grc.locus.exo.targets=exo_415@2504559-2504561\n",
    "grc.locus.exo.anchors=2504526@[GC]ATGATTTTA[AG][CA]AATATGGT[TC]ATAA[CT]GATAAAA,2504562@GAA[GT]TAAA[CT][AC]ATCATTGG[GA]AAAA[TC]AATATATAC\n",
    "grc.locus.exo.analyzeUnmappedReads=true\n",
    "''', file=fo)\n",
    "fo.close() "
   ]
  },
  {
   "cell_type": "code",
   "execution_count": 18,
   "metadata": {
    "collapsed": false
   },
   "outputs": [
    {
     "name": "stdout",
     "output_type": "stream",
     "text": [
      "ATTTACCTTTTTGCGATCTCCCCATGTGG\n",
      "GACAGTAGAGAGCAATTCGAAATAAAAC\n",
      "\n",
      "ACATGTTATTAATCCTTCTATTGTTGCC\n",
      "TGCCGGAATAATATACATTAAAACAGAAC\n",
      "\n",
      "GTGTAGTTCGTCTTCCTTGTGCGTTTC\n"
     ]
    }
   ],
   "source": [
    "# Sanity check anchors for MDR2 and FD\n",
    "print(str(Seq(Fasta(ref_fasta_fn)['Pf3D7_14_v3'][2481044:2481073])).upper()) # ARPS10\n",
    "print(str(Seq(Fasta(ref_fasta_fn)['Pf3D7_14_v3'][2481078:2481106])).upper()) # ARPS10\n",
    "print()\n",
    "print(str(Seq(Fasta(ref_fasta_fn)['Pf3D7_14_v3'][1956202:1956230])).upper()) # MDR2\n",
    "print(str(Seq(Fasta(ref_fasta_fn)['Pf3D7_14_v3'][1956226:1956255])).upper()) # MDR2\n",
    "print()\n",
    "print(str(Seq(Fasta(ref_fasta_fn)['Pf3D7_13_v3'][748395:748422])).upper()) # Ferredoxin\n"
   ]
  },
  {
   "cell_type": "code",
   "execution_count": 19,
   "metadata": {
    "collapsed": false
   },
   "outputs": [],
   "source": [
    "fo = open(species_properties_fn, 'w')\n",
    "print('''sampleClass.classes=Pf,Pv,Pm,Pow,Poc,Pk\n",
    "sampleClass.loci=mito1,mito2,mito3,mito4,mito5,mito6 \n",
    "\n",
    "sampleClass.locus.mito1.region=Pf_M76611:520-820 \n",
    "sampleClass.locus.mito1.anchors=651@CCTTACGTACTCTAGCT....ACACAA\n",
    "sampleClass.locus.mito1.targets=species1@668-671&678-683\n",
    "sampleClass.locus.mito1.target.species1.alleles=Pf@ATGATTGTCT|ATGATTGTTT,Pv@TTTATATTAT,Pm@TTGTATTAAT,Pow@ATTTACATAA,Poc@ATTTATATAT,Pk@TTTTTATTAT\n",
    "\n",
    "sampleClass.locus.mito2.region=Pf_M76611:600-900 \n",
    "sampleClass.locus.mito2.anchors=741@GAATAGAA...GAACTCTATAAATAACCA\n",
    "sampleClass.locus.mito2.targets=species2@728-733&740-740&749-751&770-773\n",
    "sampleClass.locus.mito2.target.species2.alleles=Pf@GTTCATTTAAGATT|GTTCATTTAAGACT,Pv|Pk@TATTCATAAATACA,Pm@GTTCAATTAGTACT,Pow|Poc@GTTACAATAATATT\n",
    "\n",
    "sampleClass.locus.mito3.region=Pf_M76611:720-1020 \n",
    "sampleClass.locus.mito3.anchors=842@(?:GAAAGAATTTATAA|ATATA[AG]TGAATATG)ACCAT\n",
    "sampleClass.locus.mito3.targets=species3@861-869&878-881&884-887\n",
    "sampleClass.locus.mito3.target.species3.alleles=Pf@TCGGTAGAATATTTATT,Pv@TCACTATTACATTAACT,Pm@TCACTATTTAATATATC,Pow@CCCTTATTTAACTAACC|TCCTTATTTAACTAACC,Poc@TCGTTATTAAACTAACC,Pk@TCACAATTAAACTTATT\n",
    "\n",
    "sampleClass.locus.mito4.region=Pf_M76611:820-1120 \n",
    "sampleClass.locus.mito4.anchors=948@CCTGTAACACAATAAAATAATGT\n",
    "sampleClass.locus.mito4.targets=species4@971-982\n",
    "sampleClass.locus.mito4.target.species4.alleles=Pf@AGTATATACAGT,Pv|Pow|Poc@ACCAGATATAGC,Pm@TCCTGAAACTCC,Pk@ACCTGATATAGC\n",
    "\n",
    "sampleClass.locus.mito5.region=Pf_M76611:900-1200 \n",
    "sampleClass.locus.mito5.anchors=1029@GATGCAAAACATTCTCC\n",
    "sampleClass.locus.mito5.targets=species5@1025-1028&1046-1049\n",
    "sampleClass.locus.mito5.target.species5.alleles=Pf@TAGATAAT,Pv|Pk@AAGTAAGT,Pm@TAATAAGT,Pow@TAATAAGA,Poc@TAATAAGG\n",
    "\n",
    "sampleClass.locus.mito6.region=Pf_M76611:950-1250\n",
    "sampleClass.locus.mito6.anchors=1077@ATTTC[AT]AAACTCAT[TA]CCTTTTTCTA\n",
    "sampleClass.locus.mito6.targets=species6@1062-1066&1073-1073&1076-1076&1082-1082&1091-1091&1102-1108\n",
    "sampleClass.locus.mito6.target.species6.alleles=Pf@CAAATAGATTAAATAC,Pv|Pk@AATACAATTTTAGAAA|AATATAATTTTAGAAA,Pm@AATATTTAAAAAGAAA,Pow|Poc@AATATTTTTTGAGAAA|AATATTTTTTAAGAAA\n",
    "''', file=fo)\n",
    "fo.close() "
   ]
  },
  {
   "cell_type": "code",
   "execution_count": 36,
   "metadata": {
    "collapsed": false
   },
   "outputs": [],
   "source": [
    "fo = open(species_inc_unmapped_properties_fn, 'w')\n",
    "print('''sampleClass.classes=Pf,Pv,Pm,Pow,Poc,Pk\n",
    "sampleClass.loci=mito1,mito2,mito3,mito4,mito5,mito6 \n",
    "\n",
    "sampleClass.locus.mito1.region=Pf_M76611:520-820 \n",
    "sampleClass.locus.mito1.anchors=651@CCTTACGTACTCTAGCT....ACACAA\n",
    "sampleClass.locus.mito1.targets=species1@668-671&678-683\n",
    "sampleClass.locus.mito1.target.species1.alleles=Pf@ATGATTGTCT|ATGATTGTTT,Pv@TTTATATTAT,Pm@TTGTATTAAT,Pow@ATTTACATAA,Poc@ATTTATATAT,Pk@TTTTTATTAT\n",
    "sampleClass.locus.mito1.analyzeUnmappedReads=true\n",
    "\n",
    "sampleClass.locus.mito2.region=Pf_M76611:600-900 \n",
    "sampleClass.locus.mito2.anchors=741@GAATAGAA...GAACTCTATAAATAACCA\n",
    "sampleClass.locus.mito2.targets=species2@728-733&740-740&749-751&770-773\n",
    "sampleClass.locus.mito2.target.species2.alleles=Pf@GTTCATTTAAGATT|GTTCATTTAAGACT,Pv|Pk@TATTCATAAATACA,Pm@GTTCAATTAGTACT,Pow|Poc@GTTACAATAATATT\n",
    "sampleClass.locus.mito2.analyzeUnmappedReads=true\n",
    "\n",
    "sampleClass.locus.mito3.region=Pf_M76611:720-1020 \n",
    "sampleClass.locus.mito3.anchors=842@(?:GAAAGAATTTATAA|ATATA[AG]TGAATATG)ACCAT\n",
    "sampleClass.locus.mito3.targets=species3@861-869&878-881&884-887\n",
    "sampleClass.locus.mito3.target.species3.alleles=Pf@TCGGTAGAATATTTATT,Pv@TCACTATTACATTAACT,Pm@TCACTATTTAATATATC,Pow@CCCTTATTTAACTAACC|TCCTTATTTAACTAACC,Poc@TCGTTATTAAACTAACC,Pk@TCACAATTAAACTTATT\n",
    "sampleClass.locus.mito3.analyzeUnmappedReads=true\n",
    "\n",
    "sampleClass.locus.mito4.region=Pf_M76611:820-1120 \n",
    "sampleClass.locus.mito4.anchors=948@CCTGTAACACAATAAAATAATGT\n",
    "sampleClass.locus.mito4.targets=species4@971-982\n",
    "sampleClass.locus.mito4.target.species4.alleles=Pf@AGTATATACAGT,Pv|Pow|Poc@ACCAGATATAGC,Pm@TCCTGAAACTCC,Pk@ACCTGATATAGC\n",
    "sampleClass.locus.mito4.analyzeUnmappedReads=true\n",
    "\n",
    "sampleClass.locus.mito5.region=Pf_M76611:900-1200 \n",
    "sampleClass.locus.mito5.anchors=1029@GATGCAAAACATTCTCC\n",
    "sampleClass.locus.mito5.targets=species5@1025-1028&1046-1049\n",
    "sampleClass.locus.mito5.target.species5.alleles=Pf@TAGATAAT,Pv|Pk@AAGTAAGT,Pm@TAATAAGT,Pow@TAATAAGA,Poc@TAATAAGG\n",
    "sampleClass.locus.mito5.analyzeUnmappedReads=true\n",
    "\n",
    "sampleClass.locus.mito6.region=Pf_M76611:950-1250\n",
    "sampleClass.locus.mito6.anchors=1077@ATTTC[AT]AAACTCAT[TA]CCTTTTTCTA\n",
    "sampleClass.locus.mito6.targets=species6@1062-1066&1073-1073&1076-1076&1082-1082&1091-1091&1102-1108\n",
    "sampleClass.locus.mito6.target.species6.alleles=Pf@CAAATAGATTAAATAC,Pv|Pk@AATACAATTTTAGAAA|AATATAATTTTAGAAA,Pm@AATATTTAAAAAGAAA,Pow|Poc@AATATTTTTTGAGAAA|AATATTTTTTAAGAAA\n",
    "sampleClass.locus.mito6.analyzeUnmappedReads=true\n",
    "''', file=fo)\n",
    "fo.close() "
   ]
  },
  {
   "cell_type": "code",
   "execution_count": 21,
   "metadata": {
    "collapsed": false
   },
   "outputs": [],
   "source": [
    "fo = open(chromosomeMap_fn, 'w')\n",
    "print('''default\n",
    "Pf3D7_01_v3\n",
    "Pf3D7_02_v3\n",
    "Pf3D7_03_v3\n",
    "Pf3D7_04_v3\n",
    "Pf3D7_05_v3\n",
    "Pf3D7_06_v3\n",
    "Pf3D7_07_v3\n",
    "Pf3D7_08_v3\n",
    "Pf3D7_09_v3\n",
    "Pf3D7_10_v3\n",
    "Pf3D7_11_v3\n",
    "Pf3D7_12_v3\n",
    "Pf3D7_13_v3\n",
    "Pf3D7_14_v3\n",
    "Pf_M76611\n",
    "Pf3D7_API_v3''', file=fo)\n",
    "fo.close()\n"
   ]
  },
  {
   "cell_type": "markdown",
   "metadata": {},
   "source": [
    "# Pipeline scripts"
   ]
  },
  {
   "cell_type": "code",
   "execution_count": 22,
   "metadata": {
    "collapsed": true
   },
   "outputs": [],
   "source": [
    "fo = open(runArrayJob_fn, 'w')\n",
    "print('''BAMLIST_FILE=$1\n",
    "CONFIG_FILE=$2\n",
    "REF_FASTA_FILE=$3\n",
    "CHR_MAP_FILE=$4\n",
    "OUT_DIR=$5\n",
    " \n",
    "JOB=$LSB_JOBINDEX\n",
    "#JOB=3\n",
    " \n",
    "IN=`sed \"$JOB q;d\" $BAMLIST_FILE`\n",
    "read -a LINE <<< \"$IN\"\n",
    "SAMPLE_NAME=${LINE[0]}\n",
    "BAM_FILE=${LINE[1]}\n",
    "CHR_MAP_NAME=${LINE[2]}\n",
    " \n",
    "JAVA_HOME=/nfs/team112_internal/rp7/opt/java/jdk1.8.0_101\n",
    "JRE_HOME=/nfs/team112_internal/rp7/opt/java/jdk1.8.0_101\n",
    "\n",
    "GRCC=/nfs/team112_internal/rp7/src/github/malariagen/GeneticReportCard/AnalysisCommon\n",
    "GRCA=/nfs/team112_internal/rp7/src/github/malariagen/GeneticReportCard/SequencingReadsAnalysis\n",
    "CLASSPATH=$GRCA/bin:$GRCC/bin:\\\n",
    "$GRCC/lib/commons-logging-1.1.1.jar:\\\n",
    "$GRCA/lib/apache-ant-1.8.2-bzip2.jar:\\\n",
    "$GRCA/lib/commons-compress-1.4.1.jar:\\\n",
    "$GRCA/lib/commons-jexl-2.1.1.jar:\\\n",
    "$GRCA/lib/htsjdk-2.1.0.jar:\\\n",
    "$GRCA/lib/ngs-java-1.2.2.jar:\\\n",
    "$GRCA/lib/snappy-java-1.0.3-rc3.jar:\\\n",
    "$GRCA/lib/xz-1.5.jar\n",
    "\n",
    "$JAVA_HOME/bin/java -cp $CLASSPATH -Xms512m -Xmx2000m 'org.cggh.bam.grc.GrcAnalysis$SingleSample' $CONFIG_FILE $SAMPLE_NAME $BAM_FILE $CHR_MAP_NAME $REF_FASTA_FILE $CHR_MAP_FILE $OUT_DIR\n",
    "''', file=fo)\n",
    "fo.close()\n",
    "\n"
   ]
  },
  {
   "cell_type": "code",
   "execution_count": 23,
   "metadata": {
    "collapsed": true
   },
   "outputs": [],
   "source": [
    "fo = open(runSpeciesArrayJob_fn, 'w')\n",
    "print('''BAMLIST_FILE=$1\n",
    "CONFIG_FILE=$2\n",
    "REF_FASTA_FILE=$3\n",
    "CHR_MAP_FILE=$4\n",
    "OUT_DIR=$5\n",
    " \n",
    "JOB=$LSB_JOBINDEX\n",
    "#JOB=3\n",
    " \n",
    "IN=`sed \"$JOB q;d\" $BAMLIST_FILE`\n",
    "read -a LINE <<< \"$IN\"\n",
    "SAMPLE_NAME=${LINE[0]}\n",
    "BAM_FILE=${LINE[1]}\n",
    "CHR_MAP_NAME=${LINE[2]}\n",
    " \n",
    "JAVA_HOME=/nfs/team112_internal/rp7/opt/java/jdk1.8.0_101\n",
    "JRE_HOME=/nfs/team112_internal/rp7/opt/java/jdk1.8.0_101\n",
    "\n",
    "GRCC=/nfs/team112_internal/rp7/src/github/malariagen/GeneticReportCard/AnalysisCommon\n",
    "GRCA=/nfs/team112_internal/rp7/src/github/malariagen/GeneticReportCard/SequencingReadsAnalysis\n",
    "CLASSPATH=$GRCA/bin:$GRCC/bin:\\\n",
    "$GRCC/lib/commons-logging-1.1.1.jar:\\\n",
    "$GRCA/lib/apache-ant-1.8.2-bzip2.jar:\\\n",
    "$GRCA/lib/commons-compress-1.4.1.jar:\\\n",
    "$GRCA/lib/commons-jexl-2.1.1.jar:\\\n",
    "$GRCA/lib/htsjdk-2.1.0.jar:\\\n",
    "$GRCA/lib/ngs-java-1.2.2.jar:\\\n",
    "$GRCA/lib/snappy-java-1.0.3-rc3.jar:\\\n",
    "$GRCA/lib/xz-1.5.jar\n",
    "\n",
    "$JAVA_HOME/bin/java -cp $CLASSPATH -Xms512m -Xmx12000m 'org.cggh.bam.sampleClass.SampleClassAnalysis$SingleSample' $CONFIG_FILE $SAMPLE_NAME $BAM_FILE $CHR_MAP_NAME $REF_FASTA_FILE $CHR_MAP_FILE $OUT_DIR\n",
    "''', file=fo)\n",
    "fo.close()\n",
    "\n"
   ]
  },
  {
   "cell_type": "code",
   "execution_count": 24,
   "metadata": {
    "collapsed": false
   },
   "outputs": [],
   "source": [
    "fo = open(submitArray_fn, 'w')\n",
    "print('''BAMLIST_FILE=%s\n",
    "CONFIG_FILE=%s\n",
    "REF_FASTA_FILE=%s\n",
    "CHR_MAP_FILE=%s\n",
    "OUT_DIR=%s/grc\n",
    "LOG_DIR=%s/log\n",
    " \n",
    "NUM_BAMLIST_LINES=`wc -l < $BAMLIST_FILE`\n",
    "QUEUE=normal\n",
    "# NUM_BAMLIST_LINES=2\n",
    "# QUEUE=small\n",
    "\n",
    "bsub -q $QUEUE -G malaria-dk -J \"genotype[2-$NUM_BAMLIST_LINES]%%1000\" -R\"select[mem>2000] rusage[mem=2000] span[hosts=1]\" -M 2000 -o $LOG_DIR/output_%%J-%%I.log %s $BAMLIST_FILE $CONFIG_FILE $REF_FASTA_FILE $CHR_MAP_FILE $OUT_DIR\n",
    "''' % (\n",
    "        bam_list_fn,\n",
    "        grc_properties_fn,\n",
    "        ref_fasta_fn,\n",
    "        chromosomeMap_fn,\n",
    "        scratch_dir,\n",
    "        scratch_dir,\n",
    "        \"bash %s\" % runArrayJob_fn,\n",
    "        ),\n",
    "     file=fo)\n",
    "fo.close()\n",
    "\n"
   ]
  },
  {
   "cell_type": "code",
   "execution_count": 41,
   "metadata": {
    "collapsed": false
   },
   "outputs": [],
   "source": [
    "fo = open(submitIncUnmappedArray_fn, 'w')\n",
    "print('''BAMLIST_FILE=%s\n",
    "CONFIG_FILE=%s\n",
    "REF_FASTA_FILE=%s\n",
    "CHR_MAP_FILE=%s\n",
    "OUT_DIR=%s/grc_inc_unmapped\n",
    "LOG_DIR=%s/log\n",
    " \n",
    "NUM_BAMLIST_LINES=`wc -l < $BAMLIST_FILE`\n",
    "QUEUE=normal\n",
    "# NUM_BAMLIST_LINES=2\n",
    "# QUEUE=small\n",
    "\n",
    "bsub -q $QUEUE -G malaria-dk -J \"genotype[2-$NUM_BAMLIST_LINES]%%1000\" -R\"select[mem>2000] rusage[mem=2000] span[hosts=1]\" -M 2000 -o $LOG_DIR/output_%%J-%%I.log %s $BAMLIST_FILE $CONFIG_FILE $REF_FASTA_FILE $CHR_MAP_FILE $OUT_DIR\n",
    "''' % (\n",
    "        bam_list_fn,\n",
    "        grc_inc_unmapped_properties_fn,\n",
    "        ref_fasta_fn,\n",
    "        chromosomeMap_fn,\n",
    "        scratch_dir,\n",
    "        scratch_dir,\n",
    "        \"bash %s\" % runArrayJob_fn,\n",
    "        ),\n",
    "     file=fo)\n",
    "fo.close()\n",
    "\n"
   ]
  },
  {
   "cell_type": "code",
   "execution_count": 25,
   "metadata": {
    "collapsed": false
   },
   "outputs": [],
   "source": [
    "fo = open(submitSpeciesArray_fn, 'w')\n",
    "print('''BAMLIST_FILE=%s\n",
    "CONFIG_FILE=%s\n",
    "REF_FASTA_FILE=%s\n",
    "CHR_MAP_FILE=%s\n",
    "OUT_DIR=%s/species\n",
    "LOG_DIR=%s/log\n",
    " \n",
    "NUM_BAMLIST_LINES=`wc -l < $BAMLIST_FILE`\n",
    "QUEUE=normal\n",
    "# NUM_BAMLIST_LINES=2\n",
    "# QUEUE=small\n",
    "\n",
    "bsub -q $QUEUE -G malaria-dk -J \"genotype[2-$NUM_BAMLIST_LINES]%%1000\" -n9 -R\"select[mem>16000] rusage[mem=16000] span[hosts=1]\" -M 16000 -o $LOG_DIR/output_%%J-%%I.log %s $BAMLIST_FILE $CONFIG_FILE $REF_FASTA_FILE $CHR_MAP_FILE $OUT_DIR\n",
    "''' % (\n",
    "        bam_list_fn,\n",
    "        species_properties_fn,\n",
    "        ref_fasta_fn,\n",
    "        chromosomeMap_fn,\n",
    "        scratch_dir,\n",
    "        scratch_dir,\n",
    "        \"bash %s\" % runSpeciesArrayJob_fn,\n",
    "        ),\n",
    "     file=fo)\n",
    "fo.close()\n",
    "\n"
   ]
  },
  {
   "cell_type": "code",
   "execution_count": 26,
   "metadata": {
    "collapsed": false
   },
   "outputs": [],
   "source": [
    "fo = open(submitSpeciesIncUnmappedArray_fn, 'w')\n",
    "print('''BAMLIST_FILE=%s\n",
    "CONFIG_FILE=%s\n",
    "REF_FASTA_FILE=%s\n",
    "CHR_MAP_FILE=%s\n",
    "OUT_DIR=%s/species_inc_unmapped\n",
    "LOG_DIR=%s/log\n",
    " \n",
    "NUM_BAMLIST_LINES=`wc -l < $BAMLIST_FILE`\n",
    "QUEUE=normal\n",
    "# NUM_BAMLIST_LINES=2\n",
    "# QUEUE=small\n",
    "\n",
    "bsub -q $QUEUE -G malaria-dk -J \"genotype[2-$NUM_BAMLIST_LINES]%%1000\" -n9 -R\"select[mem>16000] rusage[mem=16000] span[hosts=1]\" -M 16000 -o $LOG_DIR/output_%%J-%%I.log %s $BAMLIST_FILE $CONFIG_FILE $REF_FASTA_FILE $CHR_MAP_FILE $OUT_DIR\n",
    "''' % (\n",
    "        bam_list_fn,\n",
    "        species_inc_unmapped_properties_fn,\n",
    "        ref_fasta_fn,\n",
    "        chromosomeMap_fn,\n",
    "        scratch_dir,\n",
    "        scratch_dir,\n",
    "        \"bash %s\" % runSpeciesArrayJob_fn,\n",
    "        ),\n",
    "     file=fo)\n",
    "fo.close()\n",
    "\n"
   ]
  },
  {
   "cell_type": "code",
   "execution_count": 27,
   "metadata": {
    "collapsed": false
   },
   "outputs": [],
   "source": [
    "fo = open(mergeGrcResults_fn, 'w')\n",
    "print('''BAMLIST_FILE=%s\n",
    "CONFIG_FILE=%s\n",
    "REF_FASTA_FILE=%s\n",
    "CHR_MAP_FILE=%s\n",
    "OUT_DIR=%s/grc\n",
    " \n",
    "JAVA_HOME=/nfs/team112_internal/rp7/opt/java/jdk1.8.0_101\n",
    "JRE_HOME=/nfs/team112_internal/rp7/opt/java/jdk1.8.0_101\n",
    "\n",
    "GRCC=/nfs/team112_internal/rp7/src/github/malariagen/GeneticReportCard/AnalysisCommon\n",
    "GRCA=/nfs/team112_internal/rp7/src/github/malariagen/GeneticReportCard/SequencingReadsAnalysis\n",
    "CLASSPATH=$GRCA/bin:$GRCC/bin:\\\n",
    "$GRCC/lib/commons-logging-1.1.1.jar:\\\n",
    "$GRCA/lib/apache-ant-1.8.2-bzip2.jar:\\\n",
    "$GRCA/lib/commons-compress-1.4.1.jar:\\\n",
    "$GRCA/lib/commons-jexl-2.1.1.jar:\\\n",
    "$GRCA/lib/htsjdk-2.1.0.jar:\\\n",
    "$GRCA/lib/ngs-java-1.2.2.jar:\\\n",
    "$GRCA/lib/snappy-java-1.0.3-rc3.jar:\\\n",
    "$GRCA/lib/xz-1.5.jar\n",
    "\n",
    "$JAVA_HOME/bin/java -cp $CLASSPATH -Xms512m -Xmx2000m 'org.cggh.bam.grc.GrcAnalysis$MergeResults' $CONFIG_FILE $BAMLIST_FILE $REF_FASTA_FILE $CHR_MAP_FILE $OUT_DIR\n",
    "''' % (\n",
    "        bam_list_fn,\n",
    "        grc_properties_fn,\n",
    "        ref_fasta_fn,\n",
    "        chromosomeMap_fn,\n",
    "        scratch_dir,\n",
    "        ),\n",
    "     file=fo)\n",
    "fo.close()"
   ]
  },
  {
   "cell_type": "code",
   "execution_count": 42,
   "metadata": {
    "collapsed": false
   },
   "outputs": [],
   "source": [
    "fo = open(mergeGrcIncUnmappedResults_fn, 'w')\n",
    "print('''BAMLIST_FILE=%s\n",
    "CONFIG_FILE=%s\n",
    "REF_FASTA_FILE=%s\n",
    "CHR_MAP_FILE=%s\n",
    "OUT_DIR=%s/grc_inc_unmapped\n",
    " \n",
    "JAVA_HOME=/nfs/team112_internal/rp7/opt/java/jdk1.8.0_101\n",
    "JRE_HOME=/nfs/team112_internal/rp7/opt/java/jdk1.8.0_101\n",
    "\n",
    "GRCC=/nfs/team112_internal/rp7/src/github/malariagen/GeneticReportCard/AnalysisCommon\n",
    "GRCA=/nfs/team112_internal/rp7/src/github/malariagen/GeneticReportCard/SequencingReadsAnalysis\n",
    "CLASSPATH=$GRCA/bin:$GRCC/bin:\\\n",
    "$GRCC/lib/commons-logging-1.1.1.jar:\\\n",
    "$GRCA/lib/apache-ant-1.8.2-bzip2.jar:\\\n",
    "$GRCA/lib/commons-compress-1.4.1.jar:\\\n",
    "$GRCA/lib/commons-jexl-2.1.1.jar:\\\n",
    "$GRCA/lib/htsjdk-2.1.0.jar:\\\n",
    "$GRCA/lib/ngs-java-1.2.2.jar:\\\n",
    "$GRCA/lib/snappy-java-1.0.3-rc3.jar:\\\n",
    "$GRCA/lib/xz-1.5.jar\n",
    "\n",
    "$JAVA_HOME/bin/java -cp $CLASSPATH -Xms512m -Xmx2000m 'org.cggh.bam.grc.GrcAnalysis$MergeResults' $CONFIG_FILE $BAMLIST_FILE $REF_FASTA_FILE $CHR_MAP_FILE $OUT_DIR\n",
    "''' % (\n",
    "        bam_list_fn,\n",
    "        grc_inc_unmapped_properties_fn,\n",
    "        ref_fasta_fn,\n",
    "        chromosomeMap_fn,\n",
    "        scratch_dir,\n",
    "        ),\n",
    "     file=fo)\n",
    "fo.close()"
   ]
  },
  {
   "cell_type": "code",
   "execution_count": 28,
   "metadata": {
    "collapsed": false
   },
   "outputs": [],
   "source": [
    "fo = open(mergeSpeciesResults_fn, 'w')\n",
    "print('''BAMLIST_FILE=%s\n",
    "CONFIG_FILE=%s\n",
    "REF_FASTA_FILE=%s\n",
    "CHR_MAP_FILE=%s\n",
    "OUT_DIR=%s/species\n",
    " \n",
    "JAVA_HOME=/nfs/team112_internal/rp7/opt/java/jdk1.8.0_101\n",
    "JRE_HOME=/nfs/team112_internal/rp7/opt/java/jdk1.8.0_101\n",
    "\n",
    "GRCC=/nfs/team112_internal/rp7/src/github/malariagen/GeneticReportCard/AnalysisCommon\n",
    "GRCA=/nfs/team112_internal/rp7/src/github/malariagen/GeneticReportCard/SequencingReadsAnalysis\n",
    "CLASSPATH=$GRCA/bin:$GRCC/bin:\\\n",
    "$GRCC/lib/commons-logging-1.1.1.jar:\\\n",
    "$GRCA/lib/apache-ant-1.8.2-bzip2.jar:\\\n",
    "$GRCA/lib/commons-compress-1.4.1.jar:\\\n",
    "$GRCA/lib/commons-jexl-2.1.1.jar:\\\n",
    "$GRCA/lib/htsjdk-2.1.0.jar:\\\n",
    "$GRCA/lib/ngs-java-1.2.2.jar:\\\n",
    "$GRCA/lib/snappy-java-1.0.3-rc3.jar:\\\n",
    "$GRCA/lib/xz-1.5.jar\n",
    "\n",
    "$JAVA_HOME/bin/java -cp $CLASSPATH -Xms512m -Xmx2000m 'org.cggh.bam.sampleClass.SampleClassAnalysis$MergeResults' $CONFIG_FILE $BAMLIST_FILE $REF_FASTA_FILE $CHR_MAP_FILE $OUT_DIR\n",
    "''' % (\n",
    "        bam_list_fn,\n",
    "        species_properties_fn,\n",
    "        ref_fasta_fn,\n",
    "        chromosomeMap_fn,\n",
    "        scratch_dir,\n",
    "        ),\n",
    "     file=fo)\n",
    "fo.close()"
   ]
  },
  {
   "cell_type": "code",
   "execution_count": 29,
   "metadata": {
    "collapsed": false
   },
   "outputs": [],
   "source": [
    "fo = open(mergeSpeciesIncUnmappedResults_fn, 'w')\n",
    "print('''BAMLIST_FILE=%s\n",
    "CONFIG_FILE=%s\n",
    "REF_FASTA_FILE=%s\n",
    "CHR_MAP_FILE=%s\n",
    "OUT_DIR=%s/species_inc_unmapped\n",
    " \n",
    "JAVA_HOME=/nfs/team112_internal/rp7/opt/java/jdk1.8.0_101\n",
    "JRE_HOME=/nfs/team112_internal/rp7/opt/java/jdk1.8.0_101\n",
    "\n",
    "GRCC=/nfs/team112_internal/rp7/src/github/malariagen/GeneticReportCard/AnalysisCommon\n",
    "GRCA=/nfs/team112_internal/rp7/src/github/malariagen/GeneticReportCard/SequencingReadsAnalysis\n",
    "CLASSPATH=$GRCA/bin:$GRCC/bin:\\\n",
    "$GRCC/lib/commons-logging-1.1.1.jar:\\\n",
    "$GRCA/lib/apache-ant-1.8.2-bzip2.jar:\\\n",
    "$GRCA/lib/commons-compress-1.4.1.jar:\\\n",
    "$GRCA/lib/commons-jexl-2.1.1.jar:\\\n",
    "$GRCA/lib/htsjdk-2.1.0.jar:\\\n",
    "$GRCA/lib/ngs-java-1.2.2.jar:\\\n",
    "$GRCA/lib/snappy-java-1.0.3-rc3.jar:\\\n",
    "$GRCA/lib/xz-1.5.jar\n",
    "\n",
    "$JAVA_HOME/bin/java -cp $CLASSPATH -Xms512m -Xmx2000m 'org.cggh.bam.sampleClass.SampleClassAnalysis$MergeResults' $CONFIG_FILE $BAMLIST_FILE $REF_FASTA_FILE $CHR_MAP_FILE $OUT_DIR\n",
    "''' % (\n",
    "        bam_list_fn,\n",
    "        species_inc_unmapped_properties_fn,\n",
    "        ref_fasta_fn,\n",
    "        chromosomeMap_fn,\n",
    "        scratch_dir,\n",
    "        ),\n",
    "     file=fo)\n",
    "fo.close()"
   ]
  },
  {
   "cell_type": "markdown",
   "metadata": {},
   "source": [
    "# Kicking off pipeline - species"
   ]
  },
  {
   "cell_type": "code",
   "execution_count": 31,
   "metadata": {
    "collapsed": false
   },
   "outputs": [
    {
     "name": "stdout",
     "output_type": "stream",
     "text": [
      "Job <3423475> is submitted to queue <normal>.\r\n"
     ]
    }
   ],
   "source": [
    "!bash {submitSpeciesArray_fn}"
   ]
  },
  {
   "cell_type": "code",
   "execution_count": 33,
   "metadata": {
    "collapsed": false
   },
   "outputs": [
    {
     "name": "stdout",
     "output_type": "stream",
     "text": [
      "Mar 03, 2017 11:33:39 AM org.cggh.bam.sampleClass.SampleClassAnalysis$MergeResults main\n",
      "INFO: ConfigFile: /nfs/team112_internal/rp7/data/methods-dev/builds/Pf6.0/20170303_run_Olivo_GRC/species/species.properties\n",
      "Mar 03, 2017 11:33:39 AM org.cggh.bam.sampleClass.SampleClassAnalysis$MergeResults main\n",
      "INFO: SampleListFile: /nfs/team112_internal/rp7/data/methods-dev/builds/Pf6.0/20170303_run_Olivo_GRC/pf_60_mergelanes_bamfiles.txt\n",
      "Mar 03, 2017 11:33:39 AM org.cggh.bam.sampleClass.SampleClassAnalysis$MergeResults main\n",
      "INFO: RefFastaFile: /nfs/team112_internal/rp7/data/methods-dev/builds/Pf6.0/20170303_run_Olivo_GRC/Pfalciparum.genome.fasta\n",
      "Mar 03, 2017 11:33:39 AM org.cggh.bam.sampleClass.SampleClassAnalysis$MergeResults main\n",
      "INFO: ChrMapFile: /nfs/team112_internal/rp7/data/methods-dev/builds/Pf6.0/20170303_run_Olivo_GRC/chromosomeMap.tab\n",
      "Mar 03, 2017 11:33:39 AM org.cggh.bam.sampleClass.SampleClassAnalysis$MergeResults main\n",
      "INFO: RootFolder: /lustre/scratch118/malaria/team112/personal/rp7/data/methods-dev/builds/Pf6.0/20170303_run_Olivo_GRC/species\n",
      "Mar 03, 2017 11:34:28 AM org.cggh.bam.sampleClass.SampleClassAnalysis$MergeResults main\n",
      "INFO: Exiting\n"
     ]
    }
   ],
   "source": [
    "!bash {mergeSpeciesResults_fn}"
   ]
  },
  {
   "cell_type": "code",
   "execution_count": 37,
   "metadata": {
    "collapsed": false
   },
   "outputs": [
    {
     "name": "stdout",
     "output_type": "stream",
     "text": [
      "Job <3424608> is submitted to queue <normal>.\r\n"
     ]
    }
   ],
   "source": [
    "!bash {submitSpeciesIncUnmappedArray_fn}"
   ]
  },
  {
   "cell_type": "code",
   "execution_count": 49,
   "metadata": {
    "collapsed": false
   },
   "outputs": [
    {
     "name": "stdout",
     "output_type": "stream",
     "text": [
      "Mar 03, 2017 3:22:08 PM org.cggh.bam.sampleClass.SampleClassAnalysis$MergeResults main\n",
      "INFO: ConfigFile: /nfs/team112_internal/rp7/data/methods-dev/builds/Pf6.0/20170303_run_Olivo_GRC/species_inc_unmapped/species.properties\n",
      "Mar 03, 2017 3:22:08 PM org.cggh.bam.sampleClass.SampleClassAnalysis$MergeResults main\n",
      "INFO: SampleListFile: /nfs/team112_internal/rp7/data/methods-dev/builds/Pf6.0/20170303_run_Olivo_GRC/pf_60_mergelanes_bamfiles.txt\n",
      "Mar 03, 2017 3:22:08 PM org.cggh.bam.sampleClass.SampleClassAnalysis$MergeResults main\n",
      "INFO: RefFastaFile: /nfs/team112_internal/rp7/data/methods-dev/builds/Pf6.0/20170303_run_Olivo_GRC/Pfalciparum.genome.fasta\n",
      "Mar 03, 2017 3:22:08 PM org.cggh.bam.sampleClass.SampleClassAnalysis$MergeResults main\n",
      "INFO: ChrMapFile: /nfs/team112_internal/rp7/data/methods-dev/builds/Pf6.0/20170303_run_Olivo_GRC/chromosomeMap.tab\n",
      "Mar 03, 2017 3:22:08 PM org.cggh.bam.sampleClass.SampleClassAnalysis$MergeResults main\n",
      "INFO: RootFolder: /lustre/scratch118/malaria/team112/personal/rp7/data/methods-dev/builds/Pf6.0/20170303_run_Olivo_GRC/species_inc_unmapped\n",
      "Mar 03, 2017 3:22:55 PM org.cggh.bam.sampleClass.SampleClassAnalysis$MergeResults main\n",
      "INFO: Exiting\n"
     ]
    }
   ],
   "source": [
    "!bash {mergeSpeciesIncUnmappedResults_fn}"
   ]
  },
  {
   "cell_type": "markdown",
   "metadata": {},
   "source": [
    "# Kicking off pipeline - GRC"
   ]
  },
  {
   "cell_type": "code",
   "execution_count": 32,
   "metadata": {
    "collapsed": false
   },
   "outputs": [
    {
     "name": "stdout",
     "output_type": "stream",
     "text": [
      "Job <3423537> is submitted to queue <normal>.\r\n"
     ]
    }
   ],
   "source": [
    "!bash {submitArray_fn}"
   ]
  },
  {
   "cell_type": "code",
   "execution_count": 35,
   "metadata": {
    "collapsed": false
   },
   "outputs": [
    {
     "name": "stdout",
     "output_type": "stream",
     "text": [
      "Mar 03, 2017 11:35:37 AM org.cggh.bam.grc.GrcAnalysis$MergeResults main\n",
      "INFO: ConfigFile: /nfs/team112_internal/rp7/data/methods-dev/builds/Pf6.0/20170303_run_Olivo_GRC/grc/grc.properties\n",
      "Mar 03, 2017 11:35:37 AM org.cggh.bam.grc.GrcAnalysis$MergeResults main\n",
      "INFO: SampleListFile: /nfs/team112_internal/rp7/data/methods-dev/builds/Pf6.0/20170303_run_Olivo_GRC/pf_60_mergelanes_bamfiles.txt\n",
      "Mar 03, 2017 11:35:37 AM org.cggh.bam.grc.GrcAnalysis$MergeResults main\n",
      "INFO: RefFastaFile: /nfs/team112_internal/rp7/data/methods-dev/builds/Pf6.0/20170303_run_Olivo_GRC/Pfalciparum.genome.fasta\n",
      "Mar 03, 2017 11:35:37 AM org.cggh.bam.grc.GrcAnalysis$MergeResults main\n",
      "INFO: ChrMapFile: /nfs/team112_internal/rp7/data/methods-dev/builds/Pf6.0/20170303_run_Olivo_GRC/chromosomeMap.tab\n",
      "Mar 03, 2017 11:35:37 AM org.cggh.bam.grc.GrcAnalysis$MergeResults main\n",
      "INFO: RootFolder: /lustre/scratch118/malaria/team112/personal/rp7/data/methods-dev/builds/Pf6.0/20170303_run_Olivo_GRC/grc\n",
      "Mar 03, 2017 11:35:38 AM org.cggh.bam.grc.GrcAnalysis readAllSampleResults\n",
      "WARNING: Could not access file /lustre/scratch118/malaria/team112/personal/rp7/data/methods-dev/builds/Pf6.0/20170303_run_Olivo_GRC/grc/PA08/PA0867-CW.alleles.tab - skipping sample.\n",
      "Mar 03, 2017 11:35:38 AM org.cggh.bam.grc.GrcAnalysis readAllSampleResults\n",
      "WARNING: Could not access file /lustre/scratch118/malaria/team112/personal/rp7/data/methods-dev/builds/Pf6.0/20170303_run_Olivo_GRC/grc/QS00/QS0060-C.alleles.tab - skipping sample.\n",
      "Mar 03, 2017 11:35:38 AM org.cggh.bam.grc.GrcAnalysis readAllSampleResults\n",
      "WARNING: Could not access file /lustre/scratch118/malaria/team112/personal/rp7/data/methods-dev/builds/Pf6.0/20170303_run_Olivo_GRC/grc/PA07/PA0723-CW.alleles.tab - skipping sample.\n",
      "Mar 03, 2017 11:35:38 AM org.cggh.bam.grc.GrcAnalysis readAllSampleResults\n",
      "WARNING: Could not access file /lustre/scratch118/malaria/team112/personal/rp7/data/methods-dev/builds/Pf6.0/20170303_run_Olivo_GRC/grc/PA06/PA0658-CW.alleles.tab - skipping sample.\n",
      "Mar 03, 2017 11:35:39 AM org.cggh.bam.grc.GrcAnalysis readAllSampleResults\n",
      "WARNING: Could not access file /lustre/scratch118/malaria/team112/personal/rp7/data/methods-dev/builds/Pf6.0/20170303_run_Olivo_GRC/grc/PA08/PA0823-CW.alleles.tab - skipping sample.\n",
      "Mar 03, 2017 11:35:39 AM org.cggh.bam.grc.GrcAnalysis readAllSampleResults\n",
      "WARNING: Could not access file /lustre/scratch118/malaria/team112/personal/rp7/data/methods-dev/builds/Pf6.0/20170303_run_Olivo_GRC/grc/PA03/PA0362-CW.alleles.tab - skipping sample.\n",
      "Mar 03, 2017 11:35:39 AM org.cggh.bam.grc.GrcAnalysis readAllSampleResults\n",
      "WARNING: Could not access file /lustre/scratch118/malaria/team112/personal/rp7/data/methods-dev/builds/Pf6.0/20170303_run_Olivo_GRC/grc/PA07/PA0719-CW.alleles.tab - skipping sample.\n",
      "Mar 03, 2017 11:35:39 AM org.cggh.bam.grc.GrcAnalysis readAllSampleResults\n",
      "WARNING: Could not access file /lustre/scratch118/malaria/team112/personal/rp7/data/methods-dev/builds/Pf6.0/20170303_run_Olivo_GRC/grc/QS01/QS0167-C.alleles.tab - skipping sample.\n",
      "Mar 03, 2017 11:35:39 AM org.cggh.bam.grc.GrcAnalysis readAllSampleResults\n",
      "WARNING: Could not access file /lustre/scratch118/malaria/team112/personal/rp7/data/methods-dev/builds/Pf6.0/20170303_run_Olivo_GRC/grc/PA07/PA0716-CW.alleles.tab - skipping sample.\n",
      "Mar 03, 2017 11:35:39 AM org.cggh.bam.grc.GrcAnalysis readAllSampleResults\n",
      "WARNING: Could not access file /lustre/scratch118/malaria/team112/personal/rp7/data/methods-dev/builds/Pf6.0/20170303_run_Olivo_GRC/grc/PA06/PA0686-CW.alleles.tab - skipping sample.\n",
      "Mar 03, 2017 11:35:40 AM org.cggh.bam.grc.GrcAnalysis readAllSampleResults\n",
      "WARNING: Could not access file /lustre/scratch118/malaria/team112/personal/rp7/data/methods-dev/builds/Pf6.0/20170303_run_Olivo_GRC/grc/PN01/PN0183-C.alleles.tab - skipping sample.\n",
      "Mar 03, 2017 11:35:41 AM org.cggh.bam.grc.GrcAnalysis readAllSampleResults\n",
      "WARNING: Could not access file /lustre/scratch118/malaria/team112/personal/rp7/data/methods-dev/builds/Pf6.0/20170303_run_Olivo_GRC/grc/PA07/PA0724-CW.alleles.tab - skipping sample.\n",
      "Mar 03, 2017 11:35:41 AM org.cggh.bam.grc.GrcAnalysis readAllSampleResults\n",
      "WARNING: Could not access file /lustre/scratch118/malaria/team112/personal/rp7/data/methods-dev/builds/Pf6.0/20170303_run_Olivo_GRC/grc/PA06/PA0689-CW.alleles.tab - skipping sample.\n",
      "Mar 03, 2017 11:35:41 AM org.cggh.bam.grc.GrcAnalysis readAllSampleResults\n",
      "WARNING: Could not access file /lustre/scratch118/malaria/team112/personal/rp7/data/methods-dev/builds/Pf6.0/20170303_run_Olivo_GRC/grc/PA08/PA0808-CW.alleles.tab - skipping sample.\n",
      "Mar 03, 2017 11:35:41 AM org.cggh.bam.grc.GrcAnalysis readAllSampleResults\n",
      "WARNING: Could not access file /lustre/scratch118/malaria/team112/personal/rp7/data/methods-dev/builds/Pf6.0/20170303_run_Olivo_GRC/grc/QS01/QS0161-C.alleles.tab - skipping sample.\n",
      "Mar 03, 2017 11:35:41 AM org.cggh.bam.grc.GrcAnalysis readAllSampleResults\n",
      "WARNING: Could not access file /lustre/scratch118/malaria/team112/personal/rp7/data/methods-dev/builds/Pf6.0/20170303_run_Olivo_GRC/grc/PD00/PD0047-C.alleles.tab - skipping sample.\n",
      "Mar 03, 2017 11:35:42 AM org.cggh.bam.grc.GrcAnalysis readAllSampleResults\n",
      "WARNING: Could not access file /lustre/scratch118/malaria/team112/personal/rp7/data/methods-dev/builds/Pf6.0/20170303_run_Olivo_GRC/grc/PA01/PA0194-C.alleles.tab - skipping sample.\n",
      "Mar 03, 2017 11:35:42 AM org.cggh.bam.grc.GrcAnalysis readAllSampleResults\n",
      "WARNING: Could not access file /lustre/scratch118/malaria/team112/personal/rp7/data/methods-dev/builds/Pf6.0/20170303_run_Olivo_GRC/grc/PA07/PA0715-CW.alleles.tab - skipping sample.\n",
      "Mar 03, 2017 11:35:42 AM org.cggh.bam.grc.GrcAnalysis readAllSampleResults\n",
      "WARNING: Could not access file /lustre/scratch118/malaria/team112/personal/rp7/data/methods-dev/builds/Pf6.0/20170303_run_Olivo_GRC/grc/PH10/PH1041-C.alleles.tab - skipping sample.\n",
      "Mar 03, 2017 11:35:42 AM org.cggh.bam.grc.GrcAnalysis readAllSampleResults\n",
      "WARNING: Could not access file /lustre/scratch118/malaria/team112/personal/rp7/data/methods-dev/builds/Pf6.0/20170303_run_Olivo_GRC/grc/PC01/PC0109-C.alleles.tab - skipping sample.\n",
      "Mar 03, 2017 11:35:43 AM org.cggh.bam.grc.GrcAnalysis readAllSampleResults\n",
      "WARNING: Could not access file /lustre/scratch118/malaria/team112/personal/rp7/data/methods-dev/builds/Pf6.0/20170303_run_Olivo_GRC/grc/QS01/QS0142-C.alleles.tab - skipping sample.\n",
      "Mar 03, 2017 11:35:43 AM org.cggh.bam.grc.GrcAnalysis readAllSampleResults\n",
      "WARNING: Could not access file /lustre/scratch118/malaria/team112/personal/rp7/data/methods-dev/builds/Pf6.0/20170303_run_Olivo_GRC/grc/PA02/PA0235-C.alleles.tab - skipping sample.\n",
      "Mar 03, 2017 11:35:44 AM org.cggh.bam.grc.GrcAnalysis readAllSampleResults\n",
      "WARNING: Could not access file /lustre/scratch118/malaria/team112/personal/rp7/data/methods-dev/builds/Pf6.0/20170303_run_Olivo_GRC/grc/QT00/QT0028-CW4.alleles.tab - skipping sample.\n",
      "Mar 03, 2017 11:35:44 AM org.cggh.bam.grc.GrcAnalysis readAllSampleResults\n",
      "WARNING: Could not access file /lustre/scratch118/malaria/team112/personal/rp7/data/methods-dev/builds/Pf6.0/20170303_run_Olivo_GRC/grc/PJ01/PJ0169-C.alleles.tab - skipping sample.\n",
      "Mar 03, 2017 11:35:46 AM org.cggh.bam.grc.GrcAnalysis readAllSampleResults\n",
      "WARNING: Could not access file /lustre/scratch118/malaria/team112/personal/rp7/data/methods-dev/builds/Pf6.0/20170303_run_Olivo_GRC/grc/QS01/QS0158-C.alleles.tab - skipping sample.\n",
      "Mar 03, 2017 11:35:46 AM org.cggh.bam.grc.GrcAnalysis readAllSampleResults\n",
      "WARNING: Could not access file /lustre/scratch118/malaria/team112/personal/rp7/data/methods-dev/builds/Pf6.0/20170303_run_Olivo_GRC/grc/PC00/PC0048-C.alleles.tab - skipping sample.\n",
      "Mar 03, 2017 11:35:47 AM org.cggh.bam.grc.GrcAnalysis readAllSampleResults\n",
      "WARNING: Could not access file /lustre/scratch118/malaria/team112/personal/rp7/data/methods-dev/builds/Pf6.0/20170303_run_Olivo_GRC/grc/PH11/PH1149-C.alleles.tab - skipping sample.\n",
      "Mar 03, 2017 11:35:47 AM org.cggh.bam.grc.GrcAnalysis readAllSampleResults\n",
      "WARNING: Could not access file /lustre/scratch118/malaria/team112/personal/rp7/data/methods-dev/builds/Pf6.0/20170303_run_Olivo_GRC/grc/PF02/PF0283-C.alleles.tab - skipping sample.\n",
      "Mar 03, 2017 11:35:47 AM org.cggh.bam.grc.GrcAnalysis readAllSampleResults\n",
      "WARNING: Could not access file /lustre/scratch118/malaria/team112/personal/rp7/data/methods-dev/builds/Pf6.0/20170303_run_Olivo_GRC/grc/PN00/PN0081-C.alleles.tab - skipping sample.\n",
      "Mar 03, 2017 11:35:47 AM org.cggh.bam.grc.GrcAnalysis readAllSampleResults\n",
      "WARNING: Could not access file /lustre/scratch118/malaria/team112/personal/rp7/data/methods-dev/builds/Pf6.0/20170303_run_Olivo_GRC/grc/QS01/QS0145-C.alleles.tab - skipping sample.\n",
      "Mar 03, 2017 11:35:48 AM org.cggh.bam.grc.GrcAnalysis readAllSampleResults\n",
      "WARNING: Could not access file /lustre/scratch118/malaria/team112/personal/rp7/data/methods-dev/builds/Pf6.0/20170303_run_Olivo_GRC/grc/PA02/PA0265-C.alleles.tab - skipping sample.\n",
      "Mar 03, 2017 11:35:48 AM org.cggh.bam.grc.GrcAnalysis readAllSampleResults\n",
      "WARNING: Could not access file /lustre/scratch118/malaria/team112/personal/rp7/data/methods-dev/builds/Pf6.0/20170303_run_Olivo_GRC/grc/PF06/PF0662-C.alleles.tab - skipping sample.\n",
      "Mar 03, 2017 11:35:48 AM org.cggh.bam.grc.GrcAnalysis readAllSampleResults\n",
      "WARNING: Could not access file /lustre/scratch118/malaria/team112/personal/rp7/data/methods-dev/builds/Pf6.0/20170303_run_Olivo_GRC/grc/PH09/PH0975-Cx.alleles.tab - skipping sample.\n",
      "Mar 03, 2017 11:35:48 AM org.cggh.bam.grc.GrcAnalysis readAllSampleResults\n",
      "WARNING: Could not access file /lustre/scratch118/malaria/team112/personal/rp7/data/methods-dev/builds/Pf6.0/20170303_run_Olivo_GRC/grc/PJ01/PJ0154-C.alleles.tab - skipping sample.\n",
      "Mar 03, 2017 11:35:48 AM org.cggh.bam.grc.GrcAnalysis readAllSampleResults\n",
      "WARNING: Could not access file /lustre/scratch118/malaria/team112/personal/rp7/data/methods-dev/builds/Pf6.0/20170303_run_Olivo_GRC/grc/PG00/PG0014-C.alleles.tab - skipping sample.\n",
      "Mar 03, 2017 11:35:48 AM org.cggh.bam.grc.GrcAnalysis readAllSampleResults\n",
      "WARNING: Could not access file /lustre/scratch118/malaria/team112/personal/rp7/data/methods-dev/builds/Pf6.0/20170303_run_Olivo_GRC/grc/QS01/QS0153-C.alleles.tab - skipping sample.\n",
      "Mar 03, 2017 11:35:48 AM org.cggh.bam.grc.GrcAnalysis readAllSampleResults\n",
      "WARNING: Could not access file /lustre/scratch118/malaria/team112/personal/rp7/data/methods-dev/builds/Pf6.0/20170303_run_Olivo_GRC/grc/PD10/PD1080-C.alleles.tab - skipping sample.\n",
      "Mar 03, 2017 11:35:48 AM org.cggh.bam.grc.GrcAnalysis readAllSampleResults\n",
      "WARNING: Could not access file /lustre/scratch118/malaria/team112/personal/rp7/data/methods-dev/builds/Pf6.0/20170303_run_Olivo_GRC/grc/PA07/PA0704-CW.alleles.tab - skipping sample.\n",
      "Mar 03, 2017 11:35:49 AM org.cggh.bam.grc.GrcAnalysis readAllSampleResults\n",
      "WARNING: Could not access file /lustre/scratch118/malaria/team112/personal/rp7/data/methods-dev/builds/Pf6.0/20170303_run_Olivo_GRC/grc/PH03/PH0385-C.alleles.tab - skipping sample.\n",
      "Mar 03, 2017 11:35:50 AM org.cggh.bam.grc.GrcAnalysis readAllSampleResults\n",
      "WARNING: Could not access file /lustre/scratch118/malaria/team112/personal/rp7/data/methods-dev/builds/Pf6.0/20170303_run_Olivo_GRC/grc/QE04/QE0482-C.alleles.tab - skipping sample.\n",
      "Mar 03, 2017 11:35:50 AM org.cggh.bam.grc.GrcAnalysis readAllSampleResults\n",
      "WARNING: Could not access file /lustre/scratch118/malaria/team112/personal/rp7/data/methods-dev/builds/Pf6.0/20170303_run_Olivo_GRC/grc/PA08/PA0825-CW.alleles.tab - skipping sample.\n",
      "Mar 03, 2017 11:35:50 AM org.cggh.bam.grc.GrcAnalysis readAllSampleResults\n",
      "WARNING: Could not access file /lustre/scratch118/malaria/team112/personal/rp7/data/methods-dev/builds/Pf6.0/20170303_run_Olivo_GRC/grc/PH09/PH0969-C.alleles.tab - skipping sample.\n",
      "Mar 03, 2017 11:35:50 AM org.cggh.bam.grc.GrcAnalysis readAllSampleResults\n",
      "WARNING: Could not access file /lustre/scratch118/malaria/team112/personal/rp7/data/methods-dev/builds/Pf6.0/20170303_run_Olivo_GRC/grc/PF07/PF0717-C.alleles.tab - skipping sample.\n",
      "Mar 03, 2017 11:35:50 AM org.cggh.bam.grc.GrcAnalysis readAllSampleResults\n",
      "WARNING: Could not access file /lustre/scratch118/malaria/team112/personal/rp7/data/methods-dev/builds/Pf6.0/20170303_run_Olivo_GRC/grc/PF06/PF0615-C.alleles.tab - skipping sample.\n",
      "Mar 03, 2017 11:35:50 AM org.cggh.bam.grc.GrcAnalysis readAllSampleResults\n",
      "WARNING: Could not access file /lustre/scratch118/malaria/team112/personal/rp7/data/methods-dev/builds/Pf6.0/20170303_run_Olivo_GRC/grc/PF09/PF0991-C.alleles.tab - skipping sample.\n",
      "Mar 03, 2017 11:35:50 AM org.cggh.bam.grc.GrcAnalysis readAllSampleResults\n",
      "WARNING: Could not access file /lustre/scratch118/malaria/team112/personal/rp7/data/methods-dev/builds/Pf6.0/20170303_run_Olivo_GRC/grc/PD07/PD0797-C.alleles.tab - skipping sample.\n",
      "Mar 03, 2017 11:35:50 AM org.cggh.bam.grc.GrcAnalysis readAllSampleResults\n",
      "WARNING: Could not access file /lustre/scratch118/malaria/team112/personal/rp7/data/methods-dev/builds/Pf6.0/20170303_run_Olivo_GRC/grc/PM05/PM0509-C.alleles.tab - skipping sample.\n",
      "Mar 03, 2017 11:35:50 AM org.cggh.bam.grc.GrcAnalysis readAllSampleResults\n",
      "WARNING: Could not access file /lustre/scratch118/malaria/team112/personal/rp7/data/methods-dev/builds/Pf6.0/20170303_run_Olivo_GRC/grc/PA08/PA0870-CW.alleles.tab - skipping sample.\n",
      "Mar 03, 2017 11:35:50 AM org.cggh.bam.grc.GrcAnalysis readAllSampleResults\n",
      "WARNING: Could not access file /lustre/scratch118/malaria/team112/personal/rp7/data/methods-dev/builds/Pf6.0/20170303_run_Olivo_GRC/grc/PA08/PA0827-CW.alleles.tab - skipping sample.\n",
      "Mar 03, 2017 11:35:50 AM org.cggh.bam.grc.GrcAnalysis readAllSampleResults\n",
      "WARNING: Could not access file /lustre/scratch118/malaria/team112/personal/rp7/data/methods-dev/builds/Pf6.0/20170303_run_Olivo_GRC/grc/PG04/PG0441-C.alleles.tab - skipping sample.\n",
      "Mar 03, 2017 11:35:50 AM org.cggh.bam.grc.GrcAnalysis readAllSampleResults\n",
      "WARNING: Could not access file /lustre/scratch118/malaria/team112/personal/rp7/data/methods-dev/builds/Pf6.0/20170303_run_Olivo_GRC/grc/PF09/PF0994-C.alleles.tab - skipping sample.\n",
      "Mar 03, 2017 11:35:51 AM org.cggh.bam.grc.GrcAnalysis readAllSampleResults\n",
      "WARNING: Could not access file /lustre/scratch118/malaria/team112/personal/rp7/data/methods-dev/builds/Pf6.0/20170303_run_Olivo_GRC/grc/PF01/PF0147-C.alleles.tab - skipping sample.\n",
      "Mar 03, 2017 11:35:51 AM org.cggh.bam.grc.GrcAnalysis readAllSampleResults\n",
      "WARNING: Could not access file /lustre/scratch118/malaria/team112/personal/rp7/data/methods-dev/builds/Pf6.0/20170303_run_Olivo_GRC/grc/PA08/PA0819-CW.alleles.tab - skipping sample.\n",
      "Mar 03, 2017 11:35:52 AM org.cggh.bam.grc.GrcAnalysis readAllSampleResults\n",
      "WARNING: Could not access file /lustre/scratch118/malaria/team112/personal/rp7/data/methods-dev/builds/Pf6.0/20170303_run_Olivo_GRC/grc/PA06/PA0672-CW.alleles.tab - skipping sample.\n",
      "Mar 03, 2017 11:35:52 AM org.cggh.bam.grc.GrcAnalysis readAllSampleResults\n",
      "WARNING: Could not access file /lustre/scratch118/malaria/team112/personal/rp7/data/methods-dev/builds/Pf6.0/20170303_run_Olivo_GRC/grc/QS01/QS0164-C.alleles.tab - skipping sample.\n",
      "Mar 03, 2017 11:35:52 AM org.cggh.bam.grc.GrcAnalysis readAllSampleResults\n",
      "WARNING: Could not access file /lustre/scratch118/malaria/team112/personal/rp7/data/methods-dev/builds/Pf6.0/20170303_run_Olivo_GRC/grc/PA08/PA0807-CW.alleles.tab - skipping sample.\n",
      "Mar 03, 2017 11:35:52 AM org.cggh.bam.grc.GrcAnalysis readAllSampleResults\n",
      "WARNING: Could not access file /lustre/scratch118/malaria/team112/personal/rp7/data/methods-dev/builds/Pf6.0/20170303_run_Olivo_GRC/grc/PF08/PF0810-C.alleles.tab - skipping sample.\n",
      "Mar 03, 2017 11:35:52 AM org.cggh.bam.grc.GrcAnalysis readAllSampleResults\n",
      "WARNING: Could not access file /lustre/scratch118/malaria/team112/personal/rp7/data/methods-dev/builds/Pf6.0/20170303_run_Olivo_GRC/grc/PA08/PA0826-CW.alleles.tab - skipping sample.\n",
      "Mar 03, 2017 11:35:52 AM org.cggh.bam.grc.GrcAnalysis readAllSampleResults\n",
      "WARNING: Could not access file /lustre/scratch118/malaria/team112/personal/rp7/data/methods-dev/builds/Pf6.0/20170303_run_Olivo_GRC/grc/PC01/PC0141-C.alleles.tab - skipping sample.\n",
      "Mar 03, 2017 11:35:52 AM org.cggh.bam.grc.GrcAnalysis readAllSampleResults\n",
      "WARNING: Could not access file /lustre/scratch118/malaria/team112/personal/rp7/data/methods-dev/builds/Pf6.0/20170303_run_Olivo_GRC/grc/FP01/FP0133-C.alleles.tab - skipping sample.\n",
      "Mar 03, 2017 11:35:52 AM org.cggh.bam.grc.GrcAnalysis readAllSampleResults\n",
      "WARNING: Could not access file /lustre/scratch118/malaria/team112/personal/rp7/data/methods-dev/builds/Pf6.0/20170303_run_Olivo_GRC/grc/PA07/PA0706-CW.alleles.tab - skipping sample.\n",
      "Mar 03, 2017 11:35:53 AM org.cggh.bam.grc.GrcAnalysis readAllSampleResults\n",
      "WARNING: Could not access file /lustre/scratch118/malaria/team112/personal/rp7/data/methods-dev/builds/Pf6.0/20170303_run_Olivo_GRC/grc/PA07/PA0781-CW.alleles.tab - skipping sample.\n",
      "Mar 03, 2017 11:35:53 AM org.cggh.bam.grc.GrcAnalysis readAllSampleResults\n",
      "WARNING: Could not access file /lustre/scratch118/malaria/team112/personal/rp7/data/methods-dev/builds/Pf6.0/20170303_run_Olivo_GRC/grc/PT02/PT0229-Cx.alleles.tab - skipping sample.\n",
      "Mar 03, 2017 11:35:54 AM org.cggh.bam.grc.GrcAnalysis readAllSampleResults\n",
      "WARNING: Could not access file /lustre/scratch118/malaria/team112/personal/rp7/data/methods-dev/builds/Pf6.0/20170303_run_Olivo_GRC/grc/QP01/QP0173-C.alleles.tab - skipping sample.\n",
      "Mar 03, 2017 11:35:54 AM org.cggh.bam.grc.GrcAnalysis readAllSampleResults\n",
      "WARNING: Could not access file /lustre/scratch118/malaria/team112/personal/rp7/data/methods-dev/builds/Pf6.0/20170303_run_Olivo_GRC/grc/PA08/PA0829-CW.alleles.tab - skipping sample.\n",
      "Mar 03, 2017 11:35:54 AM org.cggh.bam.grc.GrcAnalysis readAllSampleResults\n",
      "WARNING: Could not access file /lustre/scratch118/malaria/team112/personal/rp7/data/methods-dev/builds/Pf6.0/20170303_run_Olivo_GRC/grc/PF09/PF0909-C.alleles.tab - skipping sample.\n",
      "Mar 03, 2017 11:35:54 AM org.cggh.bam.grc.GrcAnalysis readAllSampleResults\n",
      "WARNING: Could not access file /lustre/scratch118/malaria/team112/personal/rp7/data/methods-dev/builds/Pf6.0/20170303_run_Olivo_GRC/grc/QS01/QS0131-C.alleles.tab - skipping sample.\n",
      "Mar 03, 2017 11:35:54 AM org.cggh.bam.grc.GrcAnalysis readAllSampleResults\n",
      "WARNING: Could not access file /lustre/scratch118/malaria/team112/personal/rp7/data/methods-dev/builds/Pf6.0/20170303_run_Olivo_GRC/grc/PA03/PA0322-C.alleles.tab - skipping sample.\n",
      "Mar 03, 2017 11:35:54 AM org.cggh.bam.grc.GrcAnalysis readAllSampleResults\n",
      "WARNING: Could not access file /lustre/scratch118/malaria/team112/personal/rp7/data/methods-dev/builds/Pf6.0/20170303_run_Olivo_GRC/grc/PH10/PH1038-C.alleles.tab - skipping sample.\n",
      "Mar 03, 2017 11:35:54 AM org.cggh.bam.grc.GrcAnalysis readAllSampleResults\n",
      "WARNING: Could not access file /lustre/scratch118/malaria/team112/personal/rp7/data/methods-dev/builds/Pf6.0/20170303_run_Olivo_GRC/grc/PH11/PH1100-C.alleles.tab - skipping sample.\n",
      "Mar 03, 2017 11:35:54 AM org.cggh.bam.grc.GrcAnalysis readAllSampleResults\n",
      "WARNING: Could not access file /lustre/scratch118/malaria/team112/personal/rp7/data/methods-dev/builds/Pf6.0/20170303_run_Olivo_GRC/grc/PH01/PH0129-CW.alleles.tab - skipping sample.\n",
      "Mar 03, 2017 11:35:54 AM org.cggh.bam.grc.GrcAnalysis readAllSampleResults\n",
      "WARNING: Could not access file /lustre/scratch118/malaria/team112/personal/rp7/data/methods-dev/builds/Pf6.0/20170303_run_Olivo_GRC/grc/PC01/PC0149-C.alleles.tab - skipping sample.\n",
      "Mar 03, 2017 11:35:54 AM org.cggh.bam.grc.GrcAnalysis readAllSampleResults\n",
      "WARNING: Could not access file /lustre/scratch118/malaria/team112/personal/rp7/data/methods-dev/builds/Pf6.0/20170303_run_Olivo_GRC/grc/PG00/PG0013-C.alleles.tab - skipping sample.\n",
      "Mar 03, 2017 11:35:54 AM org.cggh.bam.grc.GrcAnalysis readAllSampleResults\n",
      "WARNING: Could not access file /lustre/scratch118/malaria/team112/personal/rp7/data/methods-dev/builds/Pf6.0/20170303_run_Olivo_GRC/grc/PD05/PD0560-Cx.alleles.tab - skipping sample.\n",
      "Mar 03, 2017 11:35:55 AM org.cggh.bam.grc.GrcAnalysis readAllSampleResults\n",
      "WARNING: Could not access file /lustre/scratch118/malaria/team112/personal/rp7/data/methods-dev/builds/Pf6.0/20170303_run_Olivo_GRC/grc/PA02/PA0241-C.alleles.tab - skipping sample.\n",
      "Mar 03, 2017 11:35:55 AM org.cggh.bam.grc.GrcAnalysis readAllSampleResults\n",
      "WARNING: Could not access file /lustre/scratch118/malaria/team112/personal/rp7/data/methods-dev/builds/Pf6.0/20170303_run_Olivo_GRC/grc/PA02/PA0252-C.alleles.tab - skipping sample.\n",
      "Mar 03, 2017 11:35:55 AM org.cggh.bam.grc.GrcAnalysis readAllSampleResults\n",
      "WARNING: Could not access file /lustre/scratch118/malaria/team112/personal/rp7/data/methods-dev/builds/Pf6.0/20170303_run_Olivo_GRC/grc/PC01/PC0151-C.alleles.tab - skipping sample.\n",
      "Mar 03, 2017 11:35:55 AM org.cggh.bam.grc.GrcAnalysis readAllSampleResults\n",
      "WARNING: Could not access file /lustre/scratch118/malaria/team112/personal/rp7/data/methods-dev/builds/Pf6.0/20170303_run_Olivo_GRC/grc/PT00/PT0012-C.alleles.tab - skipping sample.\n",
      "Mar 03, 2017 11:35:55 AM org.cggh.bam.grc.GrcAnalysis readAllSampleResults\n",
      "WARNING: Could not access file /lustre/scratch118/malaria/team112/personal/rp7/data/methods-dev/builds/Pf6.0/20170303_run_Olivo_GRC/grc/QP00/QP0070-C.alleles.tab - skipping sample.\n",
      "Mar 03, 2017 11:35:55 AM org.cggh.bam.grc.GrcAnalysis readAllSampleResults\n",
      "WARNING: Could not access file /lustre/scratch118/malaria/team112/personal/rp7/data/methods-dev/builds/Pf6.0/20170303_run_Olivo_GRC/grc/PH10/PH1094-C.alleles.tab - skipping sample.\n",
      "Mar 03, 2017 11:35:56 AM org.cggh.bam.grc.GrcAnalysis readAllSampleResults\n",
      "WARNING: Could not access file /lustre/scratch118/malaria/team112/personal/rp7/data/methods-dev/builds/Pf6.0/20170303_run_Olivo_GRC/grc/PA02/PA0244-C.alleles.tab - skipping sample.\n",
      "Mar 03, 2017 11:35:56 AM org.cggh.bam.grc.GrcAnalysis readAllSampleResults\n",
      "WARNING: Could not access file /lustre/scratch118/malaria/team112/personal/rp7/data/methods-dev/builds/Pf6.0/20170303_run_Olivo_GRC/grc/PA01/PA0174-C.alleles.tab - skipping sample.\n",
      "Mar 03, 2017 11:35:56 AM org.cggh.bam.grc.GrcAnalysis readAllSampleResults\n",
      "WARNING: Could not access file /lustre/scratch118/malaria/team112/personal/rp7/data/methods-dev/builds/Pf6.0/20170303_run_Olivo_GRC/grc/PD12/PD1275-C.alleles.tab - skipping sample.\n",
      "Mar 03, 2017 11:36:15 AM org.cggh.bam.grc.GrcAnalysis$MergeResults main\n",
      "INFO: Exiting\n"
     ]
    }
   ],
   "source": [
    "!bash {mergeGrcResults_fn}"
   ]
  },
  {
   "cell_type": "code",
   "execution_count": 43,
   "metadata": {
    "collapsed": false
   },
   "outputs": [
    {
     "name": "stdout",
     "output_type": "stream",
     "text": [
      "User <rp7>: Pending job threshold reached. Retrying in 60 seconds...\n",
      "User <rp7>: Pending job threshold reached. Retrying in 60 seconds...\n",
      "User <rp7>: Pending job threshold reached. Retrying in 60 seconds...\n",
      "User <rp7>: Pending job threshold reached. Retrying in 60 seconds...\n",
      "Job <3425348> is submitted to queue <normal>.\n"
     ]
    }
   ],
   "source": [
    "!bash {submitIncUnmappedArray_fn}"
   ]
  },
  {
   "cell_type": "code",
   "execution_count": 35,
   "metadata": {
    "collapsed": false
   },
   "outputs": [
    {
     "name": "stdout",
     "output_type": "stream",
     "text": [
      "Mar 03, 2017 11:35:37 AM org.cggh.bam.grc.GrcAnalysis$MergeResults main\n",
      "INFO: ConfigFile: /nfs/team112_internal/rp7/data/methods-dev/builds/Pf6.0/20170303_run_Olivo_GRC/grc/grc.properties\n",
      "Mar 03, 2017 11:35:37 AM org.cggh.bam.grc.GrcAnalysis$MergeResults main\n",
      "INFO: SampleListFile: /nfs/team112_internal/rp7/data/methods-dev/builds/Pf6.0/20170303_run_Olivo_GRC/pf_60_mergelanes_bamfiles.txt\n",
      "Mar 03, 2017 11:35:37 AM org.cggh.bam.grc.GrcAnalysis$MergeResults main\n",
      "INFO: RefFastaFile: /nfs/team112_internal/rp7/data/methods-dev/builds/Pf6.0/20170303_run_Olivo_GRC/Pfalciparum.genome.fasta\n",
      "Mar 03, 2017 11:35:37 AM org.cggh.bam.grc.GrcAnalysis$MergeResults main\n",
      "INFO: ChrMapFile: /nfs/team112_internal/rp7/data/methods-dev/builds/Pf6.0/20170303_run_Olivo_GRC/chromosomeMap.tab\n",
      "Mar 03, 2017 11:35:37 AM org.cggh.bam.grc.GrcAnalysis$MergeResults main\n",
      "INFO: RootFolder: /lustre/scratch118/malaria/team112/personal/rp7/data/methods-dev/builds/Pf6.0/20170303_run_Olivo_GRC/grc\n",
      "Mar 03, 2017 11:35:38 AM org.cggh.bam.grc.GrcAnalysis readAllSampleResults\n",
      "WARNING: Could not access file /lustre/scratch118/malaria/team112/personal/rp7/data/methods-dev/builds/Pf6.0/20170303_run_Olivo_GRC/grc/PA08/PA0867-CW.alleles.tab - skipping sample.\n",
      "Mar 03, 2017 11:35:38 AM org.cggh.bam.grc.GrcAnalysis readAllSampleResults\n",
      "WARNING: Could not access file /lustre/scratch118/malaria/team112/personal/rp7/data/methods-dev/builds/Pf6.0/20170303_run_Olivo_GRC/grc/QS00/QS0060-C.alleles.tab - skipping sample.\n",
      "Mar 03, 2017 11:35:38 AM org.cggh.bam.grc.GrcAnalysis readAllSampleResults\n",
      "WARNING: Could not access file /lustre/scratch118/malaria/team112/personal/rp7/data/methods-dev/builds/Pf6.0/20170303_run_Olivo_GRC/grc/PA07/PA0723-CW.alleles.tab - skipping sample.\n",
      "Mar 03, 2017 11:35:38 AM org.cggh.bam.grc.GrcAnalysis readAllSampleResults\n",
      "WARNING: Could not access file /lustre/scratch118/malaria/team112/personal/rp7/data/methods-dev/builds/Pf6.0/20170303_run_Olivo_GRC/grc/PA06/PA0658-CW.alleles.tab - skipping sample.\n",
      "Mar 03, 2017 11:35:39 AM org.cggh.bam.grc.GrcAnalysis readAllSampleResults\n",
      "WARNING: Could not access file /lustre/scratch118/malaria/team112/personal/rp7/data/methods-dev/builds/Pf6.0/20170303_run_Olivo_GRC/grc/PA08/PA0823-CW.alleles.tab - skipping sample.\n",
      "Mar 03, 2017 11:35:39 AM org.cggh.bam.grc.GrcAnalysis readAllSampleResults\n",
      "WARNING: Could not access file /lustre/scratch118/malaria/team112/personal/rp7/data/methods-dev/builds/Pf6.0/20170303_run_Olivo_GRC/grc/PA03/PA0362-CW.alleles.tab - skipping sample.\n",
      "Mar 03, 2017 11:35:39 AM org.cggh.bam.grc.GrcAnalysis readAllSampleResults\n",
      "WARNING: Could not access file /lustre/scratch118/malaria/team112/personal/rp7/data/methods-dev/builds/Pf6.0/20170303_run_Olivo_GRC/grc/PA07/PA0719-CW.alleles.tab - skipping sample.\n",
      "Mar 03, 2017 11:35:39 AM org.cggh.bam.grc.GrcAnalysis readAllSampleResults\n",
      "WARNING: Could not access file /lustre/scratch118/malaria/team112/personal/rp7/data/methods-dev/builds/Pf6.0/20170303_run_Olivo_GRC/grc/QS01/QS0167-C.alleles.tab - skipping sample.\n",
      "Mar 03, 2017 11:35:39 AM org.cggh.bam.grc.GrcAnalysis readAllSampleResults\n",
      "WARNING: Could not access file /lustre/scratch118/malaria/team112/personal/rp7/data/methods-dev/builds/Pf6.0/20170303_run_Olivo_GRC/grc/PA07/PA0716-CW.alleles.tab - skipping sample.\n",
      "Mar 03, 2017 11:35:39 AM org.cggh.bam.grc.GrcAnalysis readAllSampleResults\n",
      "WARNING: Could not access file /lustre/scratch118/malaria/team112/personal/rp7/data/methods-dev/builds/Pf6.0/20170303_run_Olivo_GRC/grc/PA06/PA0686-CW.alleles.tab - skipping sample.\n",
      "Mar 03, 2017 11:35:40 AM org.cggh.bam.grc.GrcAnalysis readAllSampleResults\n",
      "WARNING: Could not access file /lustre/scratch118/malaria/team112/personal/rp7/data/methods-dev/builds/Pf6.0/20170303_run_Olivo_GRC/grc/PN01/PN0183-C.alleles.tab - skipping sample.\n",
      "Mar 03, 2017 11:35:41 AM org.cggh.bam.grc.GrcAnalysis readAllSampleResults\n",
      "WARNING: Could not access file /lustre/scratch118/malaria/team112/personal/rp7/data/methods-dev/builds/Pf6.0/20170303_run_Olivo_GRC/grc/PA07/PA0724-CW.alleles.tab - skipping sample.\n",
      "Mar 03, 2017 11:35:41 AM org.cggh.bam.grc.GrcAnalysis readAllSampleResults\n",
      "WARNING: Could not access file /lustre/scratch118/malaria/team112/personal/rp7/data/methods-dev/builds/Pf6.0/20170303_run_Olivo_GRC/grc/PA06/PA0689-CW.alleles.tab - skipping sample.\n",
      "Mar 03, 2017 11:35:41 AM org.cggh.bam.grc.GrcAnalysis readAllSampleResults\n",
      "WARNING: Could not access file /lustre/scratch118/malaria/team112/personal/rp7/data/methods-dev/builds/Pf6.0/20170303_run_Olivo_GRC/grc/PA08/PA0808-CW.alleles.tab - skipping sample.\n",
      "Mar 03, 2017 11:35:41 AM org.cggh.bam.grc.GrcAnalysis readAllSampleResults\n",
      "WARNING: Could not access file /lustre/scratch118/malaria/team112/personal/rp7/data/methods-dev/builds/Pf6.0/20170303_run_Olivo_GRC/grc/QS01/QS0161-C.alleles.tab - skipping sample.\n",
      "Mar 03, 2017 11:35:41 AM org.cggh.bam.grc.GrcAnalysis readAllSampleResults\n",
      "WARNING: Could not access file /lustre/scratch118/malaria/team112/personal/rp7/data/methods-dev/builds/Pf6.0/20170303_run_Olivo_GRC/grc/PD00/PD0047-C.alleles.tab - skipping sample.\n",
      "Mar 03, 2017 11:35:42 AM org.cggh.bam.grc.GrcAnalysis readAllSampleResults\n",
      "WARNING: Could not access file /lustre/scratch118/malaria/team112/personal/rp7/data/methods-dev/builds/Pf6.0/20170303_run_Olivo_GRC/grc/PA01/PA0194-C.alleles.tab - skipping sample.\n",
      "Mar 03, 2017 11:35:42 AM org.cggh.bam.grc.GrcAnalysis readAllSampleResults\n",
      "WARNING: Could not access file /lustre/scratch118/malaria/team112/personal/rp7/data/methods-dev/builds/Pf6.0/20170303_run_Olivo_GRC/grc/PA07/PA0715-CW.alleles.tab - skipping sample.\n",
      "Mar 03, 2017 11:35:42 AM org.cggh.bam.grc.GrcAnalysis readAllSampleResults\n",
      "WARNING: Could not access file /lustre/scratch118/malaria/team112/personal/rp7/data/methods-dev/builds/Pf6.0/20170303_run_Olivo_GRC/grc/PH10/PH1041-C.alleles.tab - skipping sample.\n",
      "Mar 03, 2017 11:35:42 AM org.cggh.bam.grc.GrcAnalysis readAllSampleResults\n",
      "WARNING: Could not access file /lustre/scratch118/malaria/team112/personal/rp7/data/methods-dev/builds/Pf6.0/20170303_run_Olivo_GRC/grc/PC01/PC0109-C.alleles.tab - skipping sample.\n",
      "Mar 03, 2017 11:35:43 AM org.cggh.bam.grc.GrcAnalysis readAllSampleResults\n",
      "WARNING: Could not access file /lustre/scratch118/malaria/team112/personal/rp7/data/methods-dev/builds/Pf6.0/20170303_run_Olivo_GRC/grc/QS01/QS0142-C.alleles.tab - skipping sample.\n",
      "Mar 03, 2017 11:35:43 AM org.cggh.bam.grc.GrcAnalysis readAllSampleResults\n",
      "WARNING: Could not access file /lustre/scratch118/malaria/team112/personal/rp7/data/methods-dev/builds/Pf6.0/20170303_run_Olivo_GRC/grc/PA02/PA0235-C.alleles.tab - skipping sample.\n",
      "Mar 03, 2017 11:35:44 AM org.cggh.bam.grc.GrcAnalysis readAllSampleResults\n",
      "WARNING: Could not access file /lustre/scratch118/malaria/team112/personal/rp7/data/methods-dev/builds/Pf6.0/20170303_run_Olivo_GRC/grc/QT00/QT0028-CW4.alleles.tab - skipping sample.\n",
      "Mar 03, 2017 11:35:44 AM org.cggh.bam.grc.GrcAnalysis readAllSampleResults\n",
      "WARNING: Could not access file /lustre/scratch118/malaria/team112/personal/rp7/data/methods-dev/builds/Pf6.0/20170303_run_Olivo_GRC/grc/PJ01/PJ0169-C.alleles.tab - skipping sample.\n",
      "Mar 03, 2017 11:35:46 AM org.cggh.bam.grc.GrcAnalysis readAllSampleResults\n",
      "WARNING: Could not access file /lustre/scratch118/malaria/team112/personal/rp7/data/methods-dev/builds/Pf6.0/20170303_run_Olivo_GRC/grc/QS01/QS0158-C.alleles.tab - skipping sample.\n",
      "Mar 03, 2017 11:35:46 AM org.cggh.bam.grc.GrcAnalysis readAllSampleResults\n",
      "WARNING: Could not access file /lustre/scratch118/malaria/team112/personal/rp7/data/methods-dev/builds/Pf6.0/20170303_run_Olivo_GRC/grc/PC00/PC0048-C.alleles.tab - skipping sample.\n",
      "Mar 03, 2017 11:35:47 AM org.cggh.bam.grc.GrcAnalysis readAllSampleResults\n",
      "WARNING: Could not access file /lustre/scratch118/malaria/team112/personal/rp7/data/methods-dev/builds/Pf6.0/20170303_run_Olivo_GRC/grc/PH11/PH1149-C.alleles.tab - skipping sample.\n",
      "Mar 03, 2017 11:35:47 AM org.cggh.bam.grc.GrcAnalysis readAllSampleResults\n",
      "WARNING: Could not access file /lustre/scratch118/malaria/team112/personal/rp7/data/methods-dev/builds/Pf6.0/20170303_run_Olivo_GRC/grc/PF02/PF0283-C.alleles.tab - skipping sample.\n",
      "Mar 03, 2017 11:35:47 AM org.cggh.bam.grc.GrcAnalysis readAllSampleResults\n",
      "WARNING: Could not access file /lustre/scratch118/malaria/team112/personal/rp7/data/methods-dev/builds/Pf6.0/20170303_run_Olivo_GRC/grc/PN00/PN0081-C.alleles.tab - skipping sample.\n",
      "Mar 03, 2017 11:35:47 AM org.cggh.bam.grc.GrcAnalysis readAllSampleResults\n",
      "WARNING: Could not access file /lustre/scratch118/malaria/team112/personal/rp7/data/methods-dev/builds/Pf6.0/20170303_run_Olivo_GRC/grc/QS01/QS0145-C.alleles.tab - skipping sample.\n",
      "Mar 03, 2017 11:35:48 AM org.cggh.bam.grc.GrcAnalysis readAllSampleResults\n",
      "WARNING: Could not access file /lustre/scratch118/malaria/team112/personal/rp7/data/methods-dev/builds/Pf6.0/20170303_run_Olivo_GRC/grc/PA02/PA0265-C.alleles.tab - skipping sample.\n",
      "Mar 03, 2017 11:35:48 AM org.cggh.bam.grc.GrcAnalysis readAllSampleResults\n",
      "WARNING: Could not access file /lustre/scratch118/malaria/team112/personal/rp7/data/methods-dev/builds/Pf6.0/20170303_run_Olivo_GRC/grc/PF06/PF0662-C.alleles.tab - skipping sample.\n",
      "Mar 03, 2017 11:35:48 AM org.cggh.bam.grc.GrcAnalysis readAllSampleResults\n",
      "WARNING: Could not access file /lustre/scratch118/malaria/team112/personal/rp7/data/methods-dev/builds/Pf6.0/20170303_run_Olivo_GRC/grc/PH09/PH0975-Cx.alleles.tab - skipping sample.\n",
      "Mar 03, 2017 11:35:48 AM org.cggh.bam.grc.GrcAnalysis readAllSampleResults\n",
      "WARNING: Could not access file /lustre/scratch118/malaria/team112/personal/rp7/data/methods-dev/builds/Pf6.0/20170303_run_Olivo_GRC/grc/PJ01/PJ0154-C.alleles.tab - skipping sample.\n",
      "Mar 03, 2017 11:35:48 AM org.cggh.bam.grc.GrcAnalysis readAllSampleResults\n",
      "WARNING: Could not access file /lustre/scratch118/malaria/team112/personal/rp7/data/methods-dev/builds/Pf6.0/20170303_run_Olivo_GRC/grc/PG00/PG0014-C.alleles.tab - skipping sample.\n",
      "Mar 03, 2017 11:35:48 AM org.cggh.bam.grc.GrcAnalysis readAllSampleResults\n",
      "WARNING: Could not access file /lustre/scratch118/malaria/team112/personal/rp7/data/methods-dev/builds/Pf6.0/20170303_run_Olivo_GRC/grc/QS01/QS0153-C.alleles.tab - skipping sample.\n",
      "Mar 03, 2017 11:35:48 AM org.cggh.bam.grc.GrcAnalysis readAllSampleResults\n",
      "WARNING: Could not access file /lustre/scratch118/malaria/team112/personal/rp7/data/methods-dev/builds/Pf6.0/20170303_run_Olivo_GRC/grc/PD10/PD1080-C.alleles.tab - skipping sample.\n",
      "Mar 03, 2017 11:35:48 AM org.cggh.bam.grc.GrcAnalysis readAllSampleResults\n",
      "WARNING: Could not access file /lustre/scratch118/malaria/team112/personal/rp7/data/methods-dev/builds/Pf6.0/20170303_run_Olivo_GRC/grc/PA07/PA0704-CW.alleles.tab - skipping sample.\n",
      "Mar 03, 2017 11:35:49 AM org.cggh.bam.grc.GrcAnalysis readAllSampleResults\n",
      "WARNING: Could not access file /lustre/scratch118/malaria/team112/personal/rp7/data/methods-dev/builds/Pf6.0/20170303_run_Olivo_GRC/grc/PH03/PH0385-C.alleles.tab - skipping sample.\n",
      "Mar 03, 2017 11:35:50 AM org.cggh.bam.grc.GrcAnalysis readAllSampleResults\n",
      "WARNING: Could not access file /lustre/scratch118/malaria/team112/personal/rp7/data/methods-dev/builds/Pf6.0/20170303_run_Olivo_GRC/grc/QE04/QE0482-C.alleles.tab - skipping sample.\n",
      "Mar 03, 2017 11:35:50 AM org.cggh.bam.grc.GrcAnalysis readAllSampleResults\n",
      "WARNING: Could not access file /lustre/scratch118/malaria/team112/personal/rp7/data/methods-dev/builds/Pf6.0/20170303_run_Olivo_GRC/grc/PA08/PA0825-CW.alleles.tab - skipping sample.\n",
      "Mar 03, 2017 11:35:50 AM org.cggh.bam.grc.GrcAnalysis readAllSampleResults\n",
      "WARNING: Could not access file /lustre/scratch118/malaria/team112/personal/rp7/data/methods-dev/builds/Pf6.0/20170303_run_Olivo_GRC/grc/PH09/PH0969-C.alleles.tab - skipping sample.\n",
      "Mar 03, 2017 11:35:50 AM org.cggh.bam.grc.GrcAnalysis readAllSampleResults\n",
      "WARNING: Could not access file /lustre/scratch118/malaria/team112/personal/rp7/data/methods-dev/builds/Pf6.0/20170303_run_Olivo_GRC/grc/PF07/PF0717-C.alleles.tab - skipping sample.\n",
      "Mar 03, 2017 11:35:50 AM org.cggh.bam.grc.GrcAnalysis readAllSampleResults\n",
      "WARNING: Could not access file /lustre/scratch118/malaria/team112/personal/rp7/data/methods-dev/builds/Pf6.0/20170303_run_Olivo_GRC/grc/PF06/PF0615-C.alleles.tab - skipping sample.\n",
      "Mar 03, 2017 11:35:50 AM org.cggh.bam.grc.GrcAnalysis readAllSampleResults\n",
      "WARNING: Could not access file /lustre/scratch118/malaria/team112/personal/rp7/data/methods-dev/builds/Pf6.0/20170303_run_Olivo_GRC/grc/PF09/PF0991-C.alleles.tab - skipping sample.\n",
      "Mar 03, 2017 11:35:50 AM org.cggh.bam.grc.GrcAnalysis readAllSampleResults\n",
      "WARNING: Could not access file /lustre/scratch118/malaria/team112/personal/rp7/data/methods-dev/builds/Pf6.0/20170303_run_Olivo_GRC/grc/PD07/PD0797-C.alleles.tab - skipping sample.\n",
      "Mar 03, 2017 11:35:50 AM org.cggh.bam.grc.GrcAnalysis readAllSampleResults\n",
      "WARNING: Could not access file /lustre/scratch118/malaria/team112/personal/rp7/data/methods-dev/builds/Pf6.0/20170303_run_Olivo_GRC/grc/PM05/PM0509-C.alleles.tab - skipping sample.\n",
      "Mar 03, 2017 11:35:50 AM org.cggh.bam.grc.GrcAnalysis readAllSampleResults\n",
      "WARNING: Could not access file /lustre/scratch118/malaria/team112/personal/rp7/data/methods-dev/builds/Pf6.0/20170303_run_Olivo_GRC/grc/PA08/PA0870-CW.alleles.tab - skipping sample.\n",
      "Mar 03, 2017 11:35:50 AM org.cggh.bam.grc.GrcAnalysis readAllSampleResults\n",
      "WARNING: Could not access file /lustre/scratch118/malaria/team112/personal/rp7/data/methods-dev/builds/Pf6.0/20170303_run_Olivo_GRC/grc/PA08/PA0827-CW.alleles.tab - skipping sample.\n",
      "Mar 03, 2017 11:35:50 AM org.cggh.bam.grc.GrcAnalysis readAllSampleResults\n",
      "WARNING: Could not access file /lustre/scratch118/malaria/team112/personal/rp7/data/methods-dev/builds/Pf6.0/20170303_run_Olivo_GRC/grc/PG04/PG0441-C.alleles.tab - skipping sample.\n",
      "Mar 03, 2017 11:35:50 AM org.cggh.bam.grc.GrcAnalysis readAllSampleResults\n",
      "WARNING: Could not access file /lustre/scratch118/malaria/team112/personal/rp7/data/methods-dev/builds/Pf6.0/20170303_run_Olivo_GRC/grc/PF09/PF0994-C.alleles.tab - skipping sample.\n",
      "Mar 03, 2017 11:35:51 AM org.cggh.bam.grc.GrcAnalysis readAllSampleResults\n",
      "WARNING: Could not access file /lustre/scratch118/malaria/team112/personal/rp7/data/methods-dev/builds/Pf6.0/20170303_run_Olivo_GRC/grc/PF01/PF0147-C.alleles.tab - skipping sample.\n",
      "Mar 03, 2017 11:35:51 AM org.cggh.bam.grc.GrcAnalysis readAllSampleResults\n",
      "WARNING: Could not access file /lustre/scratch118/malaria/team112/personal/rp7/data/methods-dev/builds/Pf6.0/20170303_run_Olivo_GRC/grc/PA08/PA0819-CW.alleles.tab - skipping sample.\n",
      "Mar 03, 2017 11:35:52 AM org.cggh.bam.grc.GrcAnalysis readAllSampleResults\n",
      "WARNING: Could not access file /lustre/scratch118/malaria/team112/personal/rp7/data/methods-dev/builds/Pf6.0/20170303_run_Olivo_GRC/grc/PA06/PA0672-CW.alleles.tab - skipping sample.\n",
      "Mar 03, 2017 11:35:52 AM org.cggh.bam.grc.GrcAnalysis readAllSampleResults\n",
      "WARNING: Could not access file /lustre/scratch118/malaria/team112/personal/rp7/data/methods-dev/builds/Pf6.0/20170303_run_Olivo_GRC/grc/QS01/QS0164-C.alleles.tab - skipping sample.\n",
      "Mar 03, 2017 11:35:52 AM org.cggh.bam.grc.GrcAnalysis readAllSampleResults\n",
      "WARNING: Could not access file /lustre/scratch118/malaria/team112/personal/rp7/data/methods-dev/builds/Pf6.0/20170303_run_Olivo_GRC/grc/PA08/PA0807-CW.alleles.tab - skipping sample.\n",
      "Mar 03, 2017 11:35:52 AM org.cggh.bam.grc.GrcAnalysis readAllSampleResults\n",
      "WARNING: Could not access file /lustre/scratch118/malaria/team112/personal/rp7/data/methods-dev/builds/Pf6.0/20170303_run_Olivo_GRC/grc/PF08/PF0810-C.alleles.tab - skipping sample.\n",
      "Mar 03, 2017 11:35:52 AM org.cggh.bam.grc.GrcAnalysis readAllSampleResults\n",
      "WARNING: Could not access file /lustre/scratch118/malaria/team112/personal/rp7/data/methods-dev/builds/Pf6.0/20170303_run_Olivo_GRC/grc/PA08/PA0826-CW.alleles.tab - skipping sample.\n",
      "Mar 03, 2017 11:35:52 AM org.cggh.bam.grc.GrcAnalysis readAllSampleResults\n",
      "WARNING: Could not access file /lustre/scratch118/malaria/team112/personal/rp7/data/methods-dev/builds/Pf6.0/20170303_run_Olivo_GRC/grc/PC01/PC0141-C.alleles.tab - skipping sample.\n",
      "Mar 03, 2017 11:35:52 AM org.cggh.bam.grc.GrcAnalysis readAllSampleResults\n",
      "WARNING: Could not access file /lustre/scratch118/malaria/team112/personal/rp7/data/methods-dev/builds/Pf6.0/20170303_run_Olivo_GRC/grc/FP01/FP0133-C.alleles.tab - skipping sample.\n",
      "Mar 03, 2017 11:35:52 AM org.cggh.bam.grc.GrcAnalysis readAllSampleResults\n",
      "WARNING: Could not access file /lustre/scratch118/malaria/team112/personal/rp7/data/methods-dev/builds/Pf6.0/20170303_run_Olivo_GRC/grc/PA07/PA0706-CW.alleles.tab - skipping sample.\n",
      "Mar 03, 2017 11:35:53 AM org.cggh.bam.grc.GrcAnalysis readAllSampleResults\n",
      "WARNING: Could not access file /lustre/scratch118/malaria/team112/personal/rp7/data/methods-dev/builds/Pf6.0/20170303_run_Olivo_GRC/grc/PA07/PA0781-CW.alleles.tab - skipping sample.\n",
      "Mar 03, 2017 11:35:53 AM org.cggh.bam.grc.GrcAnalysis readAllSampleResults\n",
      "WARNING: Could not access file /lustre/scratch118/malaria/team112/personal/rp7/data/methods-dev/builds/Pf6.0/20170303_run_Olivo_GRC/grc/PT02/PT0229-Cx.alleles.tab - skipping sample.\n",
      "Mar 03, 2017 11:35:54 AM org.cggh.bam.grc.GrcAnalysis readAllSampleResults\n",
      "WARNING: Could not access file /lustre/scratch118/malaria/team112/personal/rp7/data/methods-dev/builds/Pf6.0/20170303_run_Olivo_GRC/grc/QP01/QP0173-C.alleles.tab - skipping sample.\n",
      "Mar 03, 2017 11:35:54 AM org.cggh.bam.grc.GrcAnalysis readAllSampleResults\n",
      "WARNING: Could not access file /lustre/scratch118/malaria/team112/personal/rp7/data/methods-dev/builds/Pf6.0/20170303_run_Olivo_GRC/grc/PA08/PA0829-CW.alleles.tab - skipping sample.\n",
      "Mar 03, 2017 11:35:54 AM org.cggh.bam.grc.GrcAnalysis readAllSampleResults\n",
      "WARNING: Could not access file /lustre/scratch118/malaria/team112/personal/rp7/data/methods-dev/builds/Pf6.0/20170303_run_Olivo_GRC/grc/PF09/PF0909-C.alleles.tab - skipping sample.\n",
      "Mar 03, 2017 11:35:54 AM org.cggh.bam.grc.GrcAnalysis readAllSampleResults\n",
      "WARNING: Could not access file /lustre/scratch118/malaria/team112/personal/rp7/data/methods-dev/builds/Pf6.0/20170303_run_Olivo_GRC/grc/QS01/QS0131-C.alleles.tab - skipping sample.\n",
      "Mar 03, 2017 11:35:54 AM org.cggh.bam.grc.GrcAnalysis readAllSampleResults\n",
      "WARNING: Could not access file /lustre/scratch118/malaria/team112/personal/rp7/data/methods-dev/builds/Pf6.0/20170303_run_Olivo_GRC/grc/PA03/PA0322-C.alleles.tab - skipping sample.\n",
      "Mar 03, 2017 11:35:54 AM org.cggh.bam.grc.GrcAnalysis readAllSampleResults\n",
      "WARNING: Could not access file /lustre/scratch118/malaria/team112/personal/rp7/data/methods-dev/builds/Pf6.0/20170303_run_Olivo_GRC/grc/PH10/PH1038-C.alleles.tab - skipping sample.\n",
      "Mar 03, 2017 11:35:54 AM org.cggh.bam.grc.GrcAnalysis readAllSampleResults\n",
      "WARNING: Could not access file /lustre/scratch118/malaria/team112/personal/rp7/data/methods-dev/builds/Pf6.0/20170303_run_Olivo_GRC/grc/PH11/PH1100-C.alleles.tab - skipping sample.\n",
      "Mar 03, 2017 11:35:54 AM org.cggh.bam.grc.GrcAnalysis readAllSampleResults\n",
      "WARNING: Could not access file /lustre/scratch118/malaria/team112/personal/rp7/data/methods-dev/builds/Pf6.0/20170303_run_Olivo_GRC/grc/PH01/PH0129-CW.alleles.tab - skipping sample.\n",
      "Mar 03, 2017 11:35:54 AM org.cggh.bam.grc.GrcAnalysis readAllSampleResults\n",
      "WARNING: Could not access file /lustre/scratch118/malaria/team112/personal/rp7/data/methods-dev/builds/Pf6.0/20170303_run_Olivo_GRC/grc/PC01/PC0149-C.alleles.tab - skipping sample.\n",
      "Mar 03, 2017 11:35:54 AM org.cggh.bam.grc.GrcAnalysis readAllSampleResults\n",
      "WARNING: Could not access file /lustre/scratch118/malaria/team112/personal/rp7/data/methods-dev/builds/Pf6.0/20170303_run_Olivo_GRC/grc/PG00/PG0013-C.alleles.tab - skipping sample.\n",
      "Mar 03, 2017 11:35:54 AM org.cggh.bam.grc.GrcAnalysis readAllSampleResults\n",
      "WARNING: Could not access file /lustre/scratch118/malaria/team112/personal/rp7/data/methods-dev/builds/Pf6.0/20170303_run_Olivo_GRC/grc/PD05/PD0560-Cx.alleles.tab - skipping sample.\n",
      "Mar 03, 2017 11:35:55 AM org.cggh.bam.grc.GrcAnalysis readAllSampleResults\n",
      "WARNING: Could not access file /lustre/scratch118/malaria/team112/personal/rp7/data/methods-dev/builds/Pf6.0/20170303_run_Olivo_GRC/grc/PA02/PA0241-C.alleles.tab - skipping sample.\n",
      "Mar 03, 2017 11:35:55 AM org.cggh.bam.grc.GrcAnalysis readAllSampleResults\n",
      "WARNING: Could not access file /lustre/scratch118/malaria/team112/personal/rp7/data/methods-dev/builds/Pf6.0/20170303_run_Olivo_GRC/grc/PA02/PA0252-C.alleles.tab - skipping sample.\n",
      "Mar 03, 2017 11:35:55 AM org.cggh.bam.grc.GrcAnalysis readAllSampleResults\n",
      "WARNING: Could not access file /lustre/scratch118/malaria/team112/personal/rp7/data/methods-dev/builds/Pf6.0/20170303_run_Olivo_GRC/grc/PC01/PC0151-C.alleles.tab - skipping sample.\n",
      "Mar 03, 2017 11:35:55 AM org.cggh.bam.grc.GrcAnalysis readAllSampleResults\n",
      "WARNING: Could not access file /lustre/scratch118/malaria/team112/personal/rp7/data/methods-dev/builds/Pf6.0/20170303_run_Olivo_GRC/grc/PT00/PT0012-C.alleles.tab - skipping sample.\n",
      "Mar 03, 2017 11:35:55 AM org.cggh.bam.grc.GrcAnalysis readAllSampleResults\n",
      "WARNING: Could not access file /lustre/scratch118/malaria/team112/personal/rp7/data/methods-dev/builds/Pf6.0/20170303_run_Olivo_GRC/grc/QP00/QP0070-C.alleles.tab - skipping sample.\n",
      "Mar 03, 2017 11:35:55 AM org.cggh.bam.grc.GrcAnalysis readAllSampleResults\n",
      "WARNING: Could not access file /lustre/scratch118/malaria/team112/personal/rp7/data/methods-dev/builds/Pf6.0/20170303_run_Olivo_GRC/grc/PH10/PH1094-C.alleles.tab - skipping sample.\n",
      "Mar 03, 2017 11:35:56 AM org.cggh.bam.grc.GrcAnalysis readAllSampleResults\n",
      "WARNING: Could not access file /lustre/scratch118/malaria/team112/personal/rp7/data/methods-dev/builds/Pf6.0/20170303_run_Olivo_GRC/grc/PA02/PA0244-C.alleles.tab - skipping sample.\n",
      "Mar 03, 2017 11:35:56 AM org.cggh.bam.grc.GrcAnalysis readAllSampleResults\n",
      "WARNING: Could not access file /lustre/scratch118/malaria/team112/personal/rp7/data/methods-dev/builds/Pf6.0/20170303_run_Olivo_GRC/grc/PA01/PA0174-C.alleles.tab - skipping sample.\n",
      "Mar 03, 2017 11:35:56 AM org.cggh.bam.grc.GrcAnalysis readAllSampleResults\n",
      "WARNING: Could not access file /lustre/scratch118/malaria/team112/personal/rp7/data/methods-dev/builds/Pf6.0/20170303_run_Olivo_GRC/grc/PD12/PD1275-C.alleles.tab - skipping sample.\n",
      "Mar 03, 2017 11:36:15 AM org.cggh.bam.grc.GrcAnalysis$MergeResults main\n",
      "INFO: Exiting\n"
     ]
    }
   ],
   "source": [
    "!bash {mergeGrcIncUnmappedResults_fn}"
   ]
  },
  {
   "cell_type": "markdown",
   "metadata": {},
   "source": [
    "# Debugging"
   ]
  },
  {
   "cell_type": "markdown",
   "metadata": {},
   "source": [
    "## PF0810-C\n",
    "This sample previously called Pf,Poc and Pf,Po in Olivo and Chris's files respectively. Not called in current"
   ]
  },
  {
   "cell_type": "code",
   "execution_count": 45,
   "metadata": {
    "collapsed": false
   },
   "outputs": [
    {
     "name": "stdout",
     "output_type": "stream",
     "text": [
      "Num\tSample\tLocus\tTarget\tAllele\tCount\tSampleClass\r\n",
      "1\tPF0810-C\tmito1\tspecies1\tPf\t0\t-\r\n",
      "2\tPF0810-C\tmito1\tspecies1\tPv\t0\t-\r\n",
      "3\tPF0810-C\tmito1\tspecies1\tPm\t0\t-\r\n",
      "4\tPF0810-C\tmito1\tspecies1\tPow\t0\t-\r\n",
      "5\tPF0810-C\tmito1\tspecies1\tPoc\t0\t-\r\n",
      "6\tPF0810-C\tmito1\tspecies1\tPk\t0\t-\r\n",
      "7\tPF0810-C\tmito2\tspecies2\tPf\t0\t-\r\n",
      "8\tPF0810-C\tmito2\tspecies2\tPv|Pk\t0\t-\r\n",
      "9\tPF0810-C\tmito2\tspecies2\tPm\t0\t-\r\n",
      "10\tPF0810-C\tmito2\tspecies2\tPow|Poc\t0\t-\r\n",
      "11\tPF0810-C\tmito3\tspecies3\tPf\t0\t-\r\n",
      "12\tPF0810-C\tmito3\tspecies3\tPv\t0\t-\r\n",
      "13\tPF0810-C\tmito3\tspecies3\tPm\t0\t-\r\n",
      "14\tPF0810-C\tmito3\tspecies3\tPow\t0\t-\r\n",
      "15\tPF0810-C\tmito3\tspecies3\tPoc\t0\t-\r\n",
      "16\tPF0810-C\tmito3\tspecies3\tPk\t0\t-\r\n",
      "17\tPF0810-C\tmito4\tspecies4\tPf\t0\t-\r\n",
      "18\tPF0810-C\tmito4\tspecies4\tPv|Pow|Poc\t0\t-\r\n",
      "19\tPF0810-C\tmito4\tspecies4\tPm\t0\t-\r\n",
      "20\tPF0810-C\tmito4\tspecies4\tPk\t0\t-\r\n",
      "21\tPF0810-C\tmito5\tspecies5\tPf\t0\t-\r\n",
      "22\tPF0810-C\tmito5\tspecies5\tPv|Pk\t0\t-\r\n",
      "23\tPF0810-C\tmito5\tspecies5\tPm\t0\t-\r\n",
      "24\tPF0810-C\tmito5\tspecies5\tPow\t0\t-\r\n",
      "25\tPF0810-C\tmito5\tspecies5\tPoc\t0\t-\r\n",
      "26\tPF0810-C\tmito6\tspecies6\tPf\t0\t-\r\n",
      "27\tPF0810-C\tmito6\tspecies6\tPv|Pk\t0\t-\r\n",
      "28\tPF0810-C\tmito6\tspecies6\tPm\t0\t-\r\n",
      "29\tPF0810-C\tmito6\tspecies6\tPow|Poc\t0\t-"
     ]
    }
   ],
   "source": [
    "!cat {scratch_dir}/species/PF08/PF0810-C.classAlleles.tab"
   ]
  },
  {
   "cell_type": "code",
   "execution_count": 48,
   "metadata": {
    "collapsed": false
   },
   "outputs": [
    {
     "name": "stdout",
     "output_type": "stream",
     "text": [
      "Num\tSample\tLocus\tTarget\tAllele\tCount\tSampleClass\r\n",
      "1\tPF0810-C\tmito1\tspecies1\tPf\t0\t-\r\n",
      "2\tPF0810-C\tmito1\tspecies1\tPv\t0\t-\r\n",
      "3\tPF0810-C\tmito1\tspecies1\tPm\t0\t-\r\n",
      "4\tPF0810-C\tmito1\tspecies1\tPow\t0\t-\r\n",
      "5\tPF0810-C\tmito1\tspecies1\tPoc\t0\t-\r\n",
      "6\tPF0810-C\tmito1\tspecies1\tPk\t0\t-\r\n",
      "7\tPF0810-C\tmito2\tspecies2\tPf\t0\t-\r\n",
      "8\tPF0810-C\tmito2\tspecies2\tPv|Pk\t0\t-\r\n",
      "9\tPF0810-C\tmito2\tspecies2\tPm\t0\t-\r\n",
      "10\tPF0810-C\tmito2\tspecies2\tPow|Poc\t0\t-\r\n",
      "11\tPF0810-C\tmito3\tspecies3\tPf\t0\t-\r\n",
      "12\tPF0810-C\tmito3\tspecies3\tPv\t0\t-\r\n",
      "13\tPF0810-C\tmito3\tspecies3\tPm\t0\t-\r\n",
      "14\tPF0810-C\tmito3\tspecies3\tPow\t0\t-\r\n",
      "15\tPF0810-C\tmito3\tspecies3\tPoc\t0\t-\r\n",
      "16\tPF0810-C\tmito3\tspecies3\tPk\t0\t-\r\n",
      "17\tPF0810-C\tmito4\tspecies4\tPf\t0\t-\r\n",
      "18\tPF0810-C\tmito4\tspecies4\tPv|Pow|Poc\t0\t-\r\n",
      "19\tPF0810-C\tmito4\tspecies4\tPm\t0\t-\r\n",
      "20\tPF0810-C\tmito4\tspecies4\tPk\t0\t-\r\n",
      "21\tPF0810-C\tmito5\tspecies5\tPf\t0\t-\r\n",
      "22\tPF0810-C\tmito5\tspecies5\tPv|Pk\t0\t-\r\n",
      "23\tPF0810-C\tmito5\tspecies5\tPm\t0\t-\r\n",
      "24\tPF0810-C\tmito5\tspecies5\tPow\t0\t-\r\n",
      "25\tPF0810-C\tmito5\tspecies5\tPoc\t0\t-\r\n",
      "26\tPF0810-C\tmito6\tspecies6\tPf\t0\t-\r\n",
      "27\tPF0810-C\tmito6\tspecies6\tPv|Pk\t0\t-\r\n",
      "28\tPF0810-C\tmito6\tspecies6\tPm\t0\t-\r\n",
      "29\tPF0810-C\tmito6\tspecies6\tPow|Poc\t0\t-"
     ]
    }
   ],
   "source": [
    "!cat {scratch_dir}/species_inc_unmapped/PF08/PF0810-C.classAlleles.tab"
   ]
  },
  {
   "cell_type": "markdown",
   "metadata": {},
   "source": [
    "# Copy final files to nfs"
   ]
  },
  {
   "cell_type": "code",
   "execution_count": 51,
   "metadata": {
    "collapsed": false
   },
   "outputs": [],
   "source": [
    "!cp -R {scratch_dir}/species {output_dir}\n",
    "!cp -R {scratch_dir}/species_inc_unmapped {output_dir}\n",
    "!cp -R {scratch_dir}/grc {output_dir}\n",
    "!cp -R {scratch_dir}/grc_inc_unmapped {output_dir}\n"
   ]
  },
  {
   "cell_type": "code",
   "execution_count": 59,
   "metadata": {
    "collapsed": false
   },
   "outputs": [
    {
     "data": {
      "text/plain": [
       "'/nfs/team112_internal/rp7/data/methods-dev/builds/Pf6.0/20170302_run_Olivo_GRC'"
      ]
     },
     "execution_count": 59,
     "metadata": {},
     "output_type": "execute_result"
    }
   ],
   "source": [
    "output_dir"
   ]
  },
  {
   "cell_type": "markdown",
   "metadata": {},
   "source": [
    "# Warning - some samples appear multiple times!\n",
    "This was based on an earlier run that include single-end bam files. After re-running we see no such problem."
   ]
  },
  {
   "cell_type": "code",
   "execution_count": 60,
   "metadata": {
    "collapsed": false
   },
   "outputs": [
    {
     "name": "stdout",
     "output_type": "stream",
     "text": [
      "8251\n",
      "8243\n"
     ]
    },
    {
     "data": {
      "text/html": [
       "<table class='petl'>\n",
       "<thead>\n",
       "<tr>\n",
       "<th>Sample</th>\n",
       "<th>SampleClass</th>\n",
       "<th>Consensus</th>\n",
       "</tr>\n",
       "</thead>\n",
       "<tbody>\n",
       "<tr>\n",
       "<td>PA0867-CW</td>\n",
       "<td>-</td>\n",
       "<td>Y</td>\n",
       "</tr>\n",
       "<tr>\n",
       "<td>PG0035-Cx</td>\n",
       "<td>Pf</td>\n",
       "<td>Y</td>\n",
       "</tr>\n",
       "<tr>\n",
       "<td>PF0252-C</td>\n",
       "<td>Pf</td>\n",
       "<td>Y</td>\n",
       "</tr>\n",
       "<tr>\n",
       "<td>PG0528-C</td>\n",
       "<td>Pf</td>\n",
       "<td>Y</td>\n",
       "</tr>\n",
       "<tr>\n",
       "<td>PM0603-C</td>\n",
       "<td>Pf</td>\n",
       "<td>Y</td>\n",
       "</tr>\n",
       "</tbody>\n",
       "</table>\n",
       "<p><strong>...</strong></p>"
      ],
      "text/plain": [
       "+-------------+-------------+-----------+\n",
       "| Sample      | SampleClass | Consensus |\n",
       "+=============+=============+===========+\n",
       "| 'PA0867-CW' | '-'         | 'Y'       |\n",
       "+-------------+-------------+-----------+\n",
       "| 'PG0035-Cx' | 'Pf'        | 'Y'       |\n",
       "+-------------+-------------+-----------+\n",
       "| 'PF0252-C'  | 'Pf'        | 'Y'       |\n",
       "+-------------+-------------+-----------+\n",
       "| 'PG0528-C'  | 'Pf'        | 'Y'       |\n",
       "+-------------+-------------+-----------+\n",
       "| 'PM0603-C'  | 'Pf'        | 'Y'       |\n",
       "+-------------+-------------+-----------+\n",
       "..."
      ]
     },
     "execution_count": 60,
     "metadata": {},
     "output_type": "execute_result"
    }
   ],
   "source": [
    "tbl_pf60_species = (\n",
    "    etl\n",
    "    .fromtsv(\"%s/species/AllSamples-AllTargets.classes.tab\" % scratch_dir)\n",
    "    .cut(['Sample', 'SampleClass', 'Consensus'])\n",
    ")\n",
    "print(len(tbl_pf60_species.data()))\n",
    "print(len(tbl_pf60_species.unique('Sample').data()))\n",
    "tbl_pf60_species\n"
   ]
  },
  {
   "cell_type": "code",
   "execution_count": 61,
   "metadata": {
    "collapsed": false
   },
   "outputs": [
    {
     "data": {
      "text/html": [
       "<table class='petl'>\n",
       "<thead>\n",
       "<tr>\n",
       "<th>Sample</th>\n",
       "<th>SampleClass</th>\n",
       "<th>Consensus</th>\n",
       "</tr>\n",
       "</thead>\n",
       "<tbody>\n",
       "<tr>\n",
       "<td>PG0002-C</td>\n",
       "<td>Pf</td>\n",
       "<td>Y</td>\n",
       "</tr>\n",
       "<tr>\n",
       "<td>PG0002-C</td>\n",
       "<td>Pf</td>\n",
       "<td>Y</td>\n",
       "</tr>\n",
       "<tr>\n",
       "<td>PM0006-C</td>\n",
       "<td>Pf</td>\n",
       "<td>Y</td>\n",
       "</tr>\n",
       "<tr>\n",
       "<td>PM0006-C</td>\n",
       "<td>Pf</td>\n",
       "<td>Y</td>\n",
       "</tr>\n",
       "<tr>\n",
       "<td>PM0007-C</td>\n",
       "<td>Pf</td>\n",
       "<td>Y</td>\n",
       "</tr>\n",
       "<tr>\n",
       "<td>PM0007-C</td>\n",
       "<td>Pf</td>\n",
       "<td>Y</td>\n",
       "</tr>\n",
       "<tr>\n",
       "<td>PM0008-C</td>\n",
       "<td>Pf</td>\n",
       "<td>Y</td>\n",
       "</tr>\n",
       "<tr>\n",
       "<td>PM0008-C</td>\n",
       "<td>Pf</td>\n",
       "<td>Y</td>\n",
       "</tr>\n",
       "</tbody>\n",
       "</table>\n"
      ]
     },
     "metadata": {},
     "output_type": "display_data"
    }
   ],
   "source": [
    "tbl_pf60_species.duplicates('Sample').displayall()"
   ]
  },
  {
   "cell_type": "code",
   "execution_count": 62,
   "metadata": {
    "collapsed": false
   },
   "outputs": [
    {
     "name": "stdout",
     "output_type": "stream",
     "text": [
      "26\tPG0002-C\tPf\tY\tPf\tPf\tPf\tPf\tPf\tPf\r\n",
      "27\tPG0002-C\tPf\tY\tPf\tPf\tPf\tPf\tPf\tPf\r\n"
     ]
    }
   ],
   "source": [
    "!grep PG0002 {scratch_dir}/species/AllSamples-AllTargets.classes.tab"
   ]
  },
  {
   "cell_type": "code",
   "execution_count": 63,
   "metadata": {
    "collapsed": false
   },
   "outputs": [
    {
     "name": "stdout",
     "output_type": "stream",
     "text": [
      "252\tPM0006-C\tPf\tY\tPf\tPf\tPf\tPf\tPf\tPf\r\n",
      "253\tPM0006-C\tPf\tY\tPf\tPf\tPf\tPf\tPf\tPf\r\n",
      "366\tPM0007-C\tPf\tY\tPf\t-\tPf\tPf\tPf\t-\r\n",
      "367\tPM0007-C\tPf\tY\tPf\t-\tPf\tPf\tPf\t-\r\n",
      "418\tPM0008-C\tPf\tY\tPf\t-\tPf\tPf\tPf\t-\r\n",
      "419\tPM0008-C\tPf\tY\tPf\t-\tPf\tPf\tPf\t-\r\n",
      "1507\tPM0009-C\tPf\tY\tPf\t-\tPf\tPf\tPf\t-\r\n",
      "3316\tPM0002-C\tPf\tY\tPf\t-\tPf\tPf\tPf\t-\r\n",
      "4028\tPM0003-C\tPf\tY\tPf\t-\tPf\tPf\tPf\t-\r\n",
      "4239\tPM0005-C\tPf\tY\tPf\t-\tPf\tPf\tPf\t-\r\n",
      "5645\tPM0001-C\tPf\tY\tPf\t-\tPf\tPf\tPf\t-\r\n",
      "7142\tPM0004-C\tPf\tY\tPf\tPf\tPf\tPf\tPf\tPf\r\n"
     ]
    }
   ],
   "source": [
    "!grep PM000 {scratch_dir}/species/AllSamples-AllTargets.classes.tab"
   ]
  },
  {
   "cell_type": "code",
   "execution_count": null,
   "metadata": {
    "collapsed": true
   },
   "outputs": [],
   "source": []
  },
  {
   "cell_type": "code",
   "execution_count": null,
   "metadata": {
    "collapsed": true
   },
   "outputs": [],
   "source": []
  },
  {
   "cell_type": "markdown",
   "metadata": {
    "collapsed": true
   },
   "source": [
    "# Some error checking from previous run - not needed this time"
   ]
  },
  {
   "cell_type": "code",
   "execution_count": 56,
   "metadata": {
    "collapsed": false
   },
   "outputs": [
    {
     "name": "stdout",
     "output_type": "stream",
     "text": [
      "8251 /lustre/scratch118/malaria/team112/personal/rp7/data/methods-dev/builds/Pf6.0/20170302_run_Olivo_GRC/species/AllSamples-AllTargets.classes.tab\r\n"
     ]
    }
   ],
   "source": [
    "!wc -l {scratch_dir}/species/AllSamples-AllTargets.classes.tab"
   ]
  },
  {
   "cell_type": "code",
   "execution_count": 55,
   "metadata": {
    "collapsed": false
   },
   "outputs": [
    {
     "name": "stdout",
     "output_type": "stream",
     "text": [
      "8251 /lustre/scratch118/malaria/team112/personal/rp7/data/methods-dev/builds/Pf6.0/20170302_run_Olivo_GRC/grc/AllCallsBySample.tab\r\n"
     ]
    }
   ],
   "source": [
    "!wc -l {scratch_dir}/grc/AllCallsBySample.tab"
   ]
  },
  {
   "cell_type": "code",
   "execution_count": 48,
   "metadata": {
    "collapsed": false
   },
   "outputs": [
    {
     "name": "stdout",
     "output_type": "stream",
     "text": [
      "8247\r\n"
     ]
    }
   ],
   "source": [
    "!ls -altr {scratch_dir}/species/*/*.classAlleles.tab | wc -l"
   ]
  },
  {
   "cell_type": "code",
   "execution_count": 44,
   "metadata": {
    "collapsed": false
   },
   "outputs": [
    {
     "name": "stdout",
     "output_type": "stream",
     "text": [
      "7724\r\n"
     ]
    }
   ],
   "source": [
    "!ls -altr {scratch_dir}/species/*/*.unlistedAlleles.tab | wc -l"
   ]
  },
  {
   "cell_type": "code",
   "execution_count": 52,
   "metadata": {
    "collapsed": false
   },
   "outputs": [
    {
     "name": "stdout",
     "output_type": "stream",
     "text": [
      "8247\r\n"
     ]
    }
   ],
   "source": [
    "!ls -altr {scratch_dir}/grc/*/*.locusCoverage.tab | wc -l"
   ]
  },
  {
   "cell_type": "code",
   "execution_count": 53,
   "metadata": {
    "collapsed": false
   },
   "outputs": [
    {
     "name": "stdout",
     "output_type": "stream",
     "text": [
      "8164\r\n"
     ]
    }
   ],
   "source": [
    "!ls -altr {scratch_dir}/grc/*/*.alleles.tab | wc -l"
   ]
  },
  {
   "cell_type": "code",
   "execution_count": 47,
   "metadata": {
    "collapsed": false
   },
   "outputs": [],
   "source": [
    "# Which jobs failed in the above?\n",
    "!grep -i 'error\\|memlimit' /lustre/scratch118/malaria/team112/personal/rp7/data/methods-dev/builds/Pf6.0/20170302_run_Olivo_GRC/log/output_3420683*"
   ]
  },
  {
   "cell_type": "code",
   "execution_count": 16,
   "metadata": {
    "collapsed": false
   },
   "outputs": [
    {
     "name": "stdout",
     "output_type": "stream",
     "text": [
      "PA0321-CW\t/lustre/scratch116/malaria/pfalciparum/output/8/0/d/d/37201/4_bam_mark_duplicates_v2/pe.1.markdup.bam\tdefault\r\n"
     ]
    }
   ],
   "source": [
    "!sed \"7743 q;d\" {bam_list_fn}"
   ]
  },
  {
   "cell_type": "code",
   "execution_count": 4,
   "metadata": {
    "collapsed": false
   },
   "outputs": [
    {
     "name": "stdout",
     "output_type": "stream",
     "text": [
      "390:PA0312-CW\t/lustre/scratch116/malaria/pfalciparum/output/3/8/1/0/37197/4_bam_mark_duplicates_v2/pe.1.markdup.bam\tdefault\r\n"
     ]
    }
   ],
   "source": [
    "!grep -nr PA0312 {bam_list_fn}"
   ]
  },
  {
   "cell_type": "code",
   "execution_count": 44,
   "metadata": {
    "collapsed": false
   },
   "outputs": [
    {
     "name": "stdout",
     "output_type": "stream",
     "text": [
      "2:PA0867-CW\t/lustre/scratch116/malaria/pfalciparum/output/6/d/b/0/37432/4_bam_mark_duplicates_v2/pe.1.markdup.bam\tdefault\r\n"
     ]
    }
   ],
   "source": [
    "!grep -nr PA0867 {bam_list_fn}"
   ]
  },
  {
   "cell_type": "code",
   "execution_count": null,
   "metadata": {
    "collapsed": true
   },
   "outputs": [],
   "source": []
  }
 ],
 "metadata": {
  "anaconda-cloud": {},
  "kernelspec": {
   "display_name": "Python 3",
   "language": "python",
   "name": "python3"
  },
  "language_info": {
   "codemirror_mode": {
    "name": "ipython",
    "version": 3
   },
   "file_extension": ".py",
   "mimetype": "text/x-python",
   "name": "python",
   "nbconvert_exporter": "python",
   "pygments_lexer": "ipython3",
   "version": "3.5.2"
  }
 },
 "nbformat": 4,
 "nbformat_minor": 1
}
