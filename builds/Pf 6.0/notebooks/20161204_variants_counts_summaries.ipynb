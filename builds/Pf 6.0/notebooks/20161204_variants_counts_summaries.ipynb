{
 "cells": [
  {
   "cell_type": "code",
   "execution_count": 1,
   "metadata": {
    "collapsed": false,
    "scrolled": true
   },
   "outputs": [
    {
     "name": "stdout",
     "output_type": "stream",
     "text": [
      "python 3.5.2 |Continuum Analytics, Inc.| (default, Jul  2 2016, 17:53:06) \n",
      "[GCC 4.4.7 20120313 (Red Hat 4.4.7-1)]\n",
      "numpy 1.11.2\n",
      "scipy 0.18.1\n",
      "pandas 0.19.0\n",
      "numexpr 2.6.1\n",
      "pysam 0.8.4\n",
      "petl 1.1.0\n",
      "petlx 1.0.3\n",
      "vcf 0.6.8\n",
      "vcfnp 2.2.0\n",
      "h5py 2.6.0\n",
      "tables 3.3.0\n"
     ]
    }
   ],
   "source": [
    "%run _standard_imports.ipynb\n",
    "%run _plotting_setup.ipynb"
   ]
  },
  {
   "cell_type": "code",
   "execution_count": 2,
   "metadata": {
    "collapsed": true
   },
   "outputs": [],
   "source": [
    "output_dir = '/lustre/scratch109/malaria/rp7/data/methods-dev/builds/Pf6.0/20161204_variants_counts_summaries'\n",
    "!mkdir -p {output_dir}\n",
    "\n",
    "normalised_annotated_vcf_format = collections.OrderedDict()\n",
    "normalised_annotated_vcf_format['Pf60'] = '/lustre/scratch109/malaria/rp7/data/methods-dev/builds/Pf6.0/\\\n",
    "20161125_Pf60_final_vcfs/intermediate_files/SNP_INDEL_%s.combined.filtered.annotated.normalised.vcf.gz'\n",
    "normalised_annotated_vcf_format['Pv30'] = '/lustre/scratch109/malaria/rp7/data/methods-dev/builds/Pv3.0/\\\n",
    "20161130_Pv30_final_vcfs/intermediate_files/SNP_INDEL_%s.combined.filtered.annotated.normalised.vcf.gz'\n",
    "\n",
    "normalised_annotated_vcf_fofn = collections.OrderedDict()\n",
    "normalised_annotated_wg_vcf_fn = collections.OrderedDict()\n",
    "for release in normalised_annotated_vcf_format:\n",
    "    normalised_annotated_vcf_fofn[release] = '%s/%s_normalised_annotated_vcf.fofn' % (output_dir, release)\n",
    "    normalised_annotated_wg_vcf_fn[release] = \"%s/%s_SNP_INDEL_WG.combined.filtered.annotated.normalised.vcf.gz\" % (output_dir, release)\n",
    "\n",
    "GENOME_FN = collections.OrderedDict()\n",
    "genome_fn = collections.OrderedDict()\n",
    "genome = collections.OrderedDict()\n",
    "GENOME_FN['Pf60'] = \"/lustre/scratch116/malaria/pfalciparum/resources/Pfalciparum.genome.fasta\"\n",
    "GENOME_FN['Pv30'] = \"/lustre/scratch109/malaria/pvivax/resources/gatk/PvivaxP01.genome.fasta\"\n",
    "genome_fn['Pf60'] = \"%s/Pfalciparum.genome.fasta\" % output_dir\n",
    "genome_fn['Pv30'] = \"%s/PvivaxP01.genome.fasta\" % output_dir\n",
    "\n",
    "\n",
    "# sites_annotation_pf60_fn = '/lustre/scratch109/malaria/rp7/data/methods-dev/builds/Pf6.0/20161125_Pf60_final_vcfs/vcf/SNP_INDEL_WG.combined.filtered.annotation.vcf.gz'\n",
    "hdf_fn = collections.OrderedDict()\n",
    "hdf_fn['Pf60'] = '/lustre/scratch111/malaria/rp7/data/methods-dev/builds/Pf6.0/20161128_HDF5_build/hdf5/Pf_60_npy_PID_a12.h5'\n",
    "hdf_fn['Pv30'] = '/lustre/scratch111/malaria/rp7/data/methods-dev/builds/Pf6.0/20161201_Pv_30_HDF5_build/hdf5/Pv_30.h5'\n"
   ]
  },
  {
   "cell_type": "code",
   "execution_count": 9,
   "metadata": {
    "collapsed": false
   },
   "outputs": [
    {
     "data": {
      "text/plain": [
       "'/lustre/scratch109/malaria/rp7/data/methods-dev/builds/Pf6.0/20161204_variants_counts_summaries/Pf60_normalised_annotated_vcf.fofn'"
      ]
     },
     "execution_count": 9,
     "metadata": {},
     "output_type": "execute_result"
    }
   ],
   "source": [
    "normalised_annotated_vcf_fofn['Pf60']"
   ]
  },
  {
   "cell_type": "code",
   "execution_count": 12,
   "metadata": {
    "collapsed": false
   },
   "outputs": [],
   "source": [
    "for release in GENOME_FN:\n",
    "    !cp {GENOME_FN[release]} {genome_fn[release]}\n",
    "    genome[release] = pyfasta.Fasta(genome_fn[release])"
   ]
  },
  {
   "cell_type": "code",
   "execution_count": 13,
   "metadata": {
    "collapsed": false
   },
   "outputs": [
    {
     "data": {
      "text/plain": [
       "OrderedDict([('Pf60', <pyfasta.fasta.Fasta at 0x2ad403f81518>),\n",
       "             ('Pv30', <pyfasta.fasta.Fasta at 0x2ad403f815f8>)])"
      ]
     },
     "execution_count": 13,
     "metadata": {},
     "output_type": "execute_result"
    }
   ],
   "source": [
    "genome"
   ]
  },
  {
   "cell_type": "code",
   "execution_count": 14,
   "metadata": {
    "collapsed": false
   },
   "outputs": [
    {
     "name": "stdout",
     "output_type": "stream",
     "text": [
      "-rw-rw-r-- 1 rp7 team112 7077195 Nov 25 16:37 /lustre/scratch109/malaria/rp7/data/methods-dev/builds/Pf6.0/20161125_Pf60_final_vcfs/intermediate_files/SNP_INDEL_Pf3D7_01_v3.combined.filtered.annotated.normalised.vcf.gz\r\n"
     ]
    }
   ],
   "source": [
    "!ls -l {normalised_annotated_vcf_format['Pf60'] % 'Pf3D7_01_v3'}"
   ]
  },
  {
   "cell_type": "code",
   "execution_count": 15,
   "metadata": {
    "collapsed": false
   },
   "outputs": [
    {
     "name": "stdout",
     "output_type": "stream",
     "text": [
      "-rw-rw-r-- 1 rp7 team112 2907232 Nov 30 21:46 /lustre/scratch109/malaria/rp7/data/methods-dev/builds/Pv3.0/20161130_Pv30_final_vcfs/intermediate_files/SNP_INDEL_PvP01_01_v1.combined.filtered.annotated.normalised.vcf.gz\r\n"
     ]
    }
   ],
   "source": [
    "!ls -l {normalised_annotated_vcf_format['Pv30'] % 'PvP01_01_v1'}"
   ]
  },
  {
   "cell_type": "code",
   "execution_count": 4,
   "metadata": {
    "collapsed": false
   },
   "outputs": [
    {
     "name": "stdout",
     "output_type": "stream",
     "text": [
      "JOBID   USER    STAT  QUEUE      FROM_HOST   EXEC_HOST   JOB_NAME   SUBMIT_TIME\r\n",
      "9482292 rp7     RUN   basement   malsrv2     16*bc-31-1- bash       Dec  5 09:34\r\n",
      "9461872 rp7     PEND  basement   malsrv2                 bash       Dec  4 10:53\r\n",
      "9462674 rp7     PEND  basement   malsrv2                 bash       Dec  4 11:48\r\n",
      "9482075 rp7     PEND  basement   malsrv2                 bash       Dec  5 09:31\r\n",
      "9485145 rp7     PEND  basement   malsrv2                 bash       Dec  5 10:03\r\n"
     ]
    }
   ],
   "source": [
    "!bjobs"
   ]
  },
  {
   "cell_type": "code",
   "execution_count": 14,
   "metadata": {
    "collapsed": false
   },
   "outputs": [],
   "source": [
    "for release in normalised_annotated_vcf_fofn:\n",
    "    fo = open(normalised_annotated_vcf_fofn[release], 'w')\n",
    "    for chrom in sorted(list(genome[release].keys())):\n",
    "        vcf_fn = normalised_annotated_vcf_format[release] % chrom\n",
    "        print(vcf_fn, file=fo)\n",
    "    fo.close()"
   ]
  },
  {
   "cell_type": "code",
   "execution_count": 3,
   "metadata": {
    "collapsed": true
   },
   "outputs": [],
   "source": [
    "hdf = collections.OrderedDict()\n",
    "for release in hdf_fn:\n",
    "    hdf[release] = h5py.File(hdf_fn[release], 'r')\n"
   ]
  },
  {
   "cell_type": "code",
   "execution_count": 31,
   "metadata": {
    "collapsed": true
   },
   "outputs": [],
   "source": [
    "def num_unique(values):\n",
    "    return(len(np.unique(values)))\n",
    "\n",
    "def determine_variant_counts(variants=variants['Pf60'], VQSLOD_threshold=0.0, groupby_variables = ['VARIANT_TYPE', 'CDS'], ascending=None,\n",
    "                             number_of_samples=number_of_samples['Pf60']):\n",
    "    if ascending is None:\n",
    "        ascending = [True if x == 'MULTIALLELIC' else False for x in groupby_variables]\n",
    "        \n",
    "    df_variants = pd.DataFrame(\n",
    "        {\n",
    "            'CHROM': pd.Series(variants['CHROM'], dtype=\"category\"),\n",
    "            'POS': pd.Series(variants['POS']),\n",
    "            'AC': pd.Series(variants['AC']),\n",
    "            'AN': pd.Series(variants['AN']),\n",
    "            'NRAF': pd.Series(variants['AC'] / variants['AN']),\n",
    "            'Missingness': pd.Series(((number_of_samples * 2) - variants['AN']) / (number_of_samples * 2)),\n",
    "            'CDS': pd.Series(variants['CDS'], dtype=\"category\"),\n",
    "            'VARIANT_TYPE': pd.Series(variants['VARIANT_TYPE'], dtype=\"category\"),\n",
    "            'MULTIALLELIC': pd.Series(variants['MULTIALLELIC'], dtype=\"category\"),\n",
    "        }\n",
    "    )\n",
    "#     For the following, Pf60 has FILTER_SubtelomericRepeat but Pv30 doesn't\n",
    "    if 'FILTER_SubtelomericRepeat' in variants.dtype.names:\n",
    "        ix_good_calls = (\n",
    "            (variants['VARIANT_TYPE'] != b'') &\n",
    "            (~variants['FILTER_Centromere']) &\n",
    "            (~variants['FILTER_InternalHypervariable']) &\n",
    "            (~variants['FILTER_SubtelomericHypervariable']) &\n",
    "            (~variants['FILTER_SubtelomericRepeat']) &\n",
    "            (variants['VQSLOD'] > VQSLOD_threshold)\n",
    "        )\n",
    "    else:\n",
    "        ix_good_calls = (\n",
    "            (variants['VARIANT_TYPE'] != b'') &\n",
    "            (~variants['FILTER_Centromere']) &\n",
    "            (~variants['FILTER_InternalHypervariable']) &\n",
    "            (~variants['FILTER_SubtelomericHypervariable']) &\n",
    "            (variants['VQSLOD'] > VQSLOD_threshold)\n",
    "        )\n",
    "\n",
    "    df_variants['PASS'] = ix_good_calls\n",
    "    \n",
    "    for i, column in enumerate(['CHROM', 'VARIANT_TYPE', 'MULTIALLELIC']):\n",
    "        df_variants[column].cat.categories = [\n",
    "            x.decode('ascii') for x in df_variants[column].cat.categories\n",
    "        ]\n",
    "    df_variants['CHROM_POS'] = df_variants['CHROM'].str.cat(df_variants['POS'].astype(str), sep='_')\n",
    "\n",
    "    if len(groupby_variables) == 0:\n",
    "#         temp = pd.DataFrame(variant_type_sum)\n",
    "        df_variants['Total'] = 'Total'\n",
    "        groupby_variables = ['Total']\n",
    "    \n",
    "#         temp.set_index('Total', append=True, inplace=True)\n",
    "#         variant_type_sum = temp.ix[:, 0]\n",
    "    \n",
    "    gb_all = df_variants.groupby(groupby_variables)\n",
    "    gb_pass = df_variants[df_variants['PASS']].groupby(groupby_variables)\n",
    "    \n",
    "    df_summary = pd.concat(\n",
    "        [\n",
    "            gb_all['CHROM_POS'].agg(num_unique).rename(\"Discovered variant positions\"),\n",
    "            gb_pass['CHROM_POS'].agg(num_unique).rename(\"Pass variant positions\"),\n",
    "            gb_pass.size().rename(\"Alleles\"),\n",
    "            gb_pass['NRAF'].mean().rename(\"Mean NRAF\"),\n",
    "            gb_pass['Missingness'].mean().rename(\"Missingness\"),\n",
    "        ],\n",
    "        axis=1\n",
    "    )\n",
    "    df_summary[\"% pass\"] = df_summary[\"Pass variant positions\"] / df_summary[\"Discovered variant positions\"]\n",
    "    df_summary[\"Alleles per position\"] = df_summary[\"Alleles\"] / df_summary[\"Pass variant positions\"]\n",
    "    df_summary[\"Variants per sample\"] = df_summary[\"Alleles\"] * df_summary[\"Mean NRAF\"]\n",
    "    \n",
    "    df_summary.sortlevel(range(len(groupby_variables)), ascending=ascending, inplace=True)\n",
    "    df_summary.reset_index(inplace=True)\n",
    "        \n",
    "    if 'MULTIALLELIC' in df_summary.columns:\n",
    "        df_summary = df_summary[df_summary['MULTIALLELIC'] != 'MIS']\n",
    "    \n",
    "    return(df_summary)\n",
    "    \n"
   ]
  },
  {
   "cell_type": "code",
   "execution_count": null,
   "metadata": {
    "collapsed": true
   },
   "outputs": [],
   "source": []
  },
  {
   "cell_type": "code",
   "execution_count": null,
   "metadata": {
    "collapsed": true
   },
   "outputs": [],
   "source": [
    "# annotation_fn = \"%s/vcf/SNP_INDEL_WG.sites.annotation.txt.gz\" % (output_dir)\n",
    "\n",
    "# !bcftools norm -m -any --fasta-ref {GENOME_FN} {sites_only_vcf_fn}| \\\n",
    "# bcftools view --include 'ALT!=\"*\"' | \\\n",
    "# bcftools annotate -h {annotations_header_fn} \\\n",
    "# -a {annotation_fn} -c CHROM,POS,REF,ALT,CDS,VARIANT_TYPE,MULTIALLELIC \\\n",
    "# --include 'INFO/AC>0' \\\n",
    "# --remove ^INFO/AC,INFO/AN,INFO/AF,INFO/VQSLOD,^FORMAT/GT,FORMAT/AD,FORMAT/GQ -Oz -o {sites_annotation_vcf_fn}\n",
    "\n",
    "# !bcftools index --tbi {sites_annotation_vcf_fn}"
   ]
  },
  {
   "cell_type": "code",
   "execution_count": 15,
   "metadata": {
    "collapsed": false
   },
   "outputs": [
    {
     "name": "stdout",
     "output_type": "stream",
     "text": [
      "Pf60\n",
      "Pv30\n"
     ]
    }
   ],
   "source": [
    "for release in normalised_annotated_vcf_fofn:\n",
    "    print(release)\n",
    "    !bcftools concat --file-list {normalised_annotated_vcf_fofn[release]} -Oz -o {normalised_annotated_wg_vcf_fn[release]}\n",
    "    !bcftools index --tbi {normalised_annotated_wg_vcf_fn[release]}"
   ]
  },
  {
   "cell_type": "code",
   "execution_count": 16,
   "metadata": {
    "collapsed": false
   },
   "outputs": [],
   "source": [
    "def create_variants_npy(vcf_fn = normalised_annotated_wg_vcf_fn['Pf60']):\n",
    "    output_dir = '%s.vcfnp_cache' % vcf_fn\n",
    "    if not os.path.exists(output_dir):\n",
    "        os.makedirs(output_dir)\n",
    "    vcfnp.variants(\n",
    "        vcf_fn,\n",
    "        fields=['CHROM', 'POS', 'REF', 'ALT', 'CDS', 'VARIANT_TYPE', 'MULTIALLELIC',\n",
    "                'AC', 'AN', 'FILTER', 'VQSLOD'],\n",
    "        dtypes={\n",
    "            'REF':                      'a600',\n",
    "            'ALT':                      'a600',\n",
    "            'VARIANT_TYPE':             'a3',\n",
    "            'CDS':                      bool,\n",
    "            'MULTIALLELIC':             'a2',\n",
    "        },\n",
    "        arities={\n",
    "            'ALT':   1,\n",
    "            'AC':    1,\n",
    "        },\n",
    "        flatten_filter=True,\n",
    "        progress=100000,\n",
    "        verbose=True,\n",
    "        cache=True,\n",
    "        cachedir=output_dir\n",
    "    )\n"
   ]
  },
  {
   "cell_type": "code",
   "execution_count": 18,
   "metadata": {
    "collapsed": false
   },
   "outputs": [
    {
     "name": "stderr",
     "output_type": "stream",
     "text": [
      "[vcfnp] 2016-12-05 10:10:22.121869 :: caching is enabled\n",
      "[vcfnp] 2016-12-05 10:10:22.124020 :: no cache file found\n",
      "[vcfnp] 2016-12-05 10:10:22.125021 :: building array\n"
     ]
    },
    {
     "name": "stdout",
     "output_type": "stream",
     "text": [
      "Pf60\n"
     ]
    },
    {
     "name": "stderr",
     "output_type": "stream",
     "text": [
      "[vcfnp] 2016-12-05 10:10:26.304265 :: 100000 rows in 4.16s; batch in 4.16s (24032 rows/s)\n",
      "[vcfnp] 2016-12-05 10:10:30.474542 :: 200000 rows in 8.33s; batch in 4.17s (23979 rows/s)\n",
      "[vcfnp] 2016-12-05 10:10:34.585391 :: 300000 rows in 12.44s; batch in 4.11s (24325 rows/s)\n",
      "[vcfnp] 2016-12-05 10:10:38.760979 :: 400000 rows in 16.62s; batch in 4.18s (23948 rows/s)\n",
      "[vcfnp] 2016-12-05 10:10:42.892628 :: 500000 rows in 20.75s; batch in 4.13s (24203 rows/s)\n",
      "[vcfnp] 2016-12-05 10:10:47.057964 :: 600000 rows in 24.91s; batch in 4.17s (24007 rows/s)\n",
      "[vcfnp] 2016-12-05 10:10:51.176441 :: 700000 rows in 29.03s; batch in 4.12s (24280 rows/s)\n",
      "[vcfnp] 2016-12-05 10:10:55.317137 :: 800000 rows in 33.17s; batch in 4.14s (24150 rows/s)\n",
      "[vcfnp] 2016-12-05 10:10:59.483026 :: 900000 rows in 37.34s; batch in 4.17s (24004 rows/s)\n",
      "[vcfnp] 2016-12-05 10:11:03.635017 :: 1000000 rows in 41.49s; batch in 4.15s (24084 rows/s)\n",
      "[vcfnp] 2016-12-05 10:11:07.773450 :: 1100000 rows in 45.63s; batch in 4.14s (24163 rows/s)\n",
      "[vcfnp] 2016-12-05 10:11:11.887371 :: 1200000 rows in 49.74s; batch in 4.11s (24307 rows/s)\n",
      "[vcfnp] 2016-12-05 10:11:16.026766 :: 1300000 rows in 53.88s; batch in 4.14s (24158 rows/s)\n",
      "[vcfnp] 2016-12-05 10:11:20.199899 :: 1400000 rows in 58.06s; batch in 4.17s (23962 rows/s)\n",
      "[vcfnp] 2016-12-05 10:11:24.362416 :: 1500000 rows in 62.22s; batch in 4.16s (24023 rows/s)\n",
      "[vcfnp] 2016-12-05 10:11:28.592288 :: 1600000 rows in 66.45s; batch in 4.23s (23641 rows/s)\n",
      "[vcfnp] 2016-12-05 10:11:32.710415 :: 1700000 rows in 70.57s; batch in 4.12s (24282 rows/s)\n",
      "[vcfnp] 2016-12-05 10:11:36.897596 :: 1800000 rows in 74.75s; batch in 4.19s (23882 rows/s)\n",
      "[vcfnp] 2016-12-05 10:11:41.042376 :: 1900000 rows in 78.90s; batch in 4.14s (24126 rows/s)\n",
      "[vcfnp] 2016-12-05 10:11:45.202700 :: 2000000 rows in 83.06s; batch in 4.16s (24036 rows/s)\n",
      "[vcfnp] 2016-12-05 10:11:49.400337 :: 2100000 rows in 87.26s; batch in 4.20s (23822 rows/s)\n",
      "[vcfnp] 2016-12-05 10:11:53.554932 :: 2200000 rows in 91.41s; batch in 4.15s (24069 rows/s)\n",
      "[vcfnp] 2016-12-05 10:11:57.670681 :: 2300000 rows in 95.53s; batch in 4.12s (24296 rows/s)\n",
      "[vcfnp] 2016-12-05 10:12:01.782281 :: 2400000 rows in 99.64s; batch in 4.11s (24321 rows/s)\n",
      "[vcfnp] 2016-12-05 10:12:05.896045 :: 2500000 rows in 103.75s; batch in 4.11s (24308 rows/s)\n",
      "[vcfnp] 2016-12-05 10:12:10.096805 :: 2600000 rows in 107.95s; batch in 4.20s (23805 rows/s)\n",
      "[vcfnp] 2016-12-05 10:12:14.209488 :: 2700000 rows in 112.07s; batch in 4.11s (24315 rows/s)\n",
      "[vcfnp] 2016-12-05 10:12:18.339068 :: 2800000 rows in 116.20s; batch in 4.13s (24215 rows/s)\n",
      "[vcfnp] 2016-12-05 10:12:22.451295 :: 2900000 rows in 120.31s; batch in 4.11s (24317 rows/s)\n",
      "[vcfnp] 2016-12-05 10:12:26.622885 :: 3000000 rows in 124.48s; batch in 4.17s (23971 rows/s)\n",
      "[vcfnp] 2016-12-05 10:12:30.810783 :: 3100000 rows in 128.67s; batch in 4.19s (23878 rows/s)\n",
      "[vcfnp] 2016-12-05 10:12:34.933544 :: 3200000 rows in 132.79s; batch in 4.12s (24255 rows/s)\n",
      "[vcfnp] 2016-12-05 10:12:39.103509 :: 3300000 rows in 136.96s; batch in 4.17s (23981 rows/s)\n",
      "[vcfnp] 2016-12-05 10:12:43.240902 :: 3400000 rows in 141.10s; batch in 4.14s (24169 rows/s)\n",
      "[vcfnp] 2016-12-05 10:12:47.449631 :: 3500000 rows in 145.31s; batch in 4.21s (23760 rows/s)\n",
      "[vcfnp] 2016-12-05 10:12:51.625784 :: 3600000 rows in 149.48s; batch in 4.18s (23945 rows/s)\n",
      "[vcfnp] 2016-12-05 10:12:55.739380 :: 3700000 rows in 153.60s; batch in 4.11s (24309 rows/s)\n",
      "[vcfnp] 2016-12-05 10:12:59.876835 :: 3800000 rows in 157.73s; batch in 4.14s (24169 rows/s)\n",
      "[vcfnp] 2016-12-05 10:13:04.049178 :: 3900000 rows in 161.91s; batch in 4.17s (23967 rows/s)\n",
      "[vcfnp] 2016-12-05 10:13:08.236987 :: 4000000 rows in 166.09s; batch in 4.19s (23878 rows/s)\n",
      "[vcfnp] 2016-12-05 10:13:12.397960 :: 4100000 rows in 170.25s; batch in 4.16s (24032 rows/s)\n",
      "[vcfnp] 2016-12-05 10:13:16.573858 :: 4200000 rows in 174.43s; batch in 4.18s (23946 rows/s)\n",
      "[vcfnp] 2016-12-05 10:13:20.704714 :: 4300000 rows in 178.56s; batch in 4.13s (24208 rows/s)\n",
      "[vcfnp] 2016-12-05 10:13:24.806979 :: 4400000 rows in 182.66s; batch in 4.10s (24376 rows/s)\n",
      "[vcfnp] 2016-12-05 10:13:28.940263 :: 4500000 rows in 186.80s; batch in 4.13s (24193 rows/s)\n",
      "[vcfnp] 2016-12-05 10:13:33.131781 :: 4600000 rows in 190.99s; batch in 4.19s (23857 rows/s)\n",
      "[vcfnp] 2016-12-05 10:13:37.285514 :: 4700000 rows in 195.14s; batch in 4.15s (24074 rows/s)\n",
      "[vcfnp] 2016-12-05 10:13:41.468799 :: 4800000 rows in 199.33s; batch in 4.18s (23904 rows/s)\n",
      "[vcfnp] 2016-12-05 10:13:45.581009 :: 4900000 rows in 203.44s; batch in 4.11s (24317 rows/s)\n",
      "[vcfnp] 2016-12-05 10:13:49.681692 :: 5000000 rows in 207.54s; batch in 4.10s (24386 rows/s)\n",
      "[vcfnp] 2016-12-05 10:13:53.788757 :: 5100000 rows in 211.65s; batch in 4.11s (24348 rows/s)\n",
      "[vcfnp] 2016-12-05 10:13:57.899961 :: 5200000 rows in 215.76s; batch in 4.11s (24323 rows/s)\n",
      "[vcfnp] 2016-12-05 10:14:02.056514 :: 5300000 rows in 219.91s; batch in 4.16s (24058 rows/s)\n",
      "[vcfnp] 2016-12-05 10:14:06.193402 :: 5400000 rows in 224.05s; batch in 4.14s (24172 rows/s)\n",
      "[vcfnp] 2016-12-05 10:14:10.357731 :: 5500000 rows in 228.21s; batch in 4.16s (24013 rows/s)\n",
      "[vcfnp] 2016-12-05 10:14:14.452428 :: 5600000 rows in 232.31s; batch in 4.09s (24421 rows/s)\n",
      "[vcfnp] 2016-12-05 10:14:18.558413 :: 5700000 rows in 236.42s; batch in 4.11s (24354 rows/s)\n",
      "[vcfnp] 2016-12-05 10:14:22.667773 :: 5800000 rows in 240.52s; batch in 4.11s (24334 rows/s)\n",
      "[vcfnp] 2016-12-05 10:14:26.785379 :: 5900000 rows in 244.64s; batch in 4.12s (24285 rows/s)\n",
      "[vcfnp] 2016-12-05 10:14:30.989007 :: 6000000 rows in 248.85s; batch in 4.20s (23789 rows/s)\n",
      "[vcfnp] 2016-12-05 10:14:35.121686 :: 6100000 rows in 252.98s; batch in 4.13s (24197 rows/s)\n",
      "[vcfnp] 2016-12-05 10:14:39.270082 :: 6200000 rows in 257.13s; batch in 4.15s (24105 rows/s)\n",
      "[vcfnp] 2016-12-05 10:14:43.425864 :: 6300000 rows in 261.28s; batch in 4.16s (24062 rows/s)\n",
      "[vcfnp] 2016-12-05 10:14:47.527163 :: 6400000 rows in 265.38s; batch in 4.10s (24382 rows/s)\n",
      "[vcfnp] 2016-12-05 10:14:51.629809 :: 6500000 rows in 269.49s; batch in 4.10s (24374 rows/s)\n",
      "[vcfnp] 2016-12-05 10:14:55.730346 :: 6600000 rows in 273.59s; batch in 4.10s (24387 rows/s)\n",
      "[vcfnp] 2016-12-05 10:14:59.840751 :: 6700000 rows in 277.70s; batch in 4.11s (24328 rows/s)\n",
      "[vcfnp] 2016-12-05 10:15:03.948964 :: 6800000 rows in 281.81s; batch in 4.11s (24341 rows/s)\n",
      "[vcfnp] 2016-12-05 10:15:08.133027 :: 6900000 rows in 285.99s; batch in 4.18s (23900 rows/s)\n",
      "[vcfnp] 2016-12-05 10:15:12.342801 :: 7000000 rows in 290.20s; batch in 4.21s (23754 rows/s)\n",
      "[vcfnp] 2016-12-05 10:15:16.449536 :: 7100000 rows in 294.31s; batch in 4.11s (24350 rows/s)\n",
      "[vcfnp] 2016-12-05 10:15:20.548416 :: 7200000 rows in 298.41s; batch in 4.10s (24396 rows/s)\n",
      "[vcfnp] 2016-12-05 10:15:24.685110 :: 7300000 rows in 302.54s; batch in 4.14s (24173 rows/s)\n",
      "[vcfnp] 2016-12-05 10:15:28.803436 :: 7400000 rows in 306.66s; batch in 4.12s (24281 rows/s)\n",
      "[vcfnp] 2016-12-05 10:15:32.938511 :: 7500000 rows in 310.80s; batch in 4.14s (24183 rows/s)\n",
      "[vcfnp] 2016-12-05 10:15:37.142023 :: 7600000 rows in 315.00s; batch in 4.20s (23789 rows/s)\n",
      "[vcfnp] 2016-12-05 10:15:41.243521 :: 7700000 rows in 319.10s; batch in 4.10s (24381 rows/s)\n",
      "[vcfnp] 2016-12-05 10:15:45.439015 :: 7800000 rows in 323.30s; batch in 4.20s (23835 rows/s)\n",
      "[vcfnp] 2016-12-05 10:15:49.619755 :: 7900000 rows in 327.48s; batch in 4.18s (23919 rows/s)\n",
      "[vcfnp] 2016-12-05 10:15:53.766406 :: 8000000 rows in 331.62s; batch in 4.15s (24115 rows/s)\n",
      "[vcfnp] 2016-12-05 10:15:57.880861 :: 8100000 rows in 335.74s; batch in 4.11s (24304 rows/s)\n",
      "[vcfnp] 2016-12-05 10:16:01.983801 :: 8200000 rows in 339.84s; batch in 4.10s (24372 rows/s)\n",
      "[vcfnp] 2016-12-05 10:16:06.106232 :: 8300000 rows in 343.96s; batch in 4.12s (24257 rows/s)\n",
      "[vcfnp] 2016-12-05 10:16:10.212167 :: 8400000 rows in 348.07s; batch in 4.11s (24354 rows/s)\n",
      "[vcfnp] 2016-12-05 10:16:14.324875 :: 8500000 rows in 352.18s; batch in 4.11s (24314 rows/s)\n",
      "[vcfnp] 2016-12-05 10:16:18.433377 :: 8600000 rows in 356.29s; batch in 4.11s (24339 rows/s)\n",
      "[vcfnp] 2016-12-05 10:16:22.548583 :: 8700000 rows in 360.41s; batch in 4.12s (24300 rows/s)\n",
      "[vcfnp] 2016-12-05 10:16:26.713610 :: 8800000 rows in 364.57s; batch in 4.17s (24009 rows/s)\n",
      "[vcfnp] 2016-12-05 10:16:30.849452 :: 8900000 rows in 368.71s; batch in 4.14s (24178 rows/s)\n",
      "[vcfnp] 2016-12-05 10:16:34.991057 :: 9000000 rows in 372.85s; batch in 4.14s (24145 rows/s)\n",
      "[vcfnp] 2016-12-05 10:16:39.091448 :: 9100000 rows in 376.95s; batch in 4.10s (24387 rows/s)\n",
      "[vcfnp] 2016-12-05 10:16:43.190168 :: 9200000 rows in 381.05s; batch in 4.10s (24397 rows/s)\n",
      "[vcfnp] 2016-12-05 10:16:47.294087 :: 9300000 rows in 385.15s; batch in 4.10s (24366 rows/s)\n",
      "[vcfnp] 2016-12-05 10:16:51.409370 :: 9400000 rows in 389.27s; batch in 4.12s (24299 rows/s)\n",
      "[vcfnp] 2016-12-05 10:16:55.517175 :: 9500000 rows in 393.37s; batch in 4.11s (24343 rows/s)\n",
      "[vcfnp] 2016-12-05 10:16:59.621335 :: 9600000 rows in 397.48s; batch in 4.10s (24365 rows/s)\n",
      "[vcfnp] 2016-12-05 10:17:03.729522 :: 9700000 rows in 401.59s; batch in 4.11s (24341 rows/s)\n",
      "[vcfnp] 2016-12-05 10:17:07.836443 :: 9800000 rows in 405.69s; batch in 4.11s (24349 rows/s)\n",
      "[vcfnp] 2016-12-05 10:17:11.932451 :: 9900000 rows in 409.79s; batch in 4.10s (24414 rows/s)\n",
      "[vcfnp] 2016-12-05 10:17:14.567352 :: 9963253 rows in 412.42s (24157 rows/s)\n",
      "[vcfnp] 2016-12-05 10:17:14.573524 :: saving to cache file /lustre/scratch109/malaria/rp7/data/methods-dev/builds/Pf6.0/20161204_variants_counts_summaries/Pf60_SNP_INDEL_WG.combined.filtered.annotated.normalised.vcf.gz.vcfnp_cache/variants.npy\n",
      "[vcfnp] 2016-12-05 10:17:37.594370 :: caching is enabled\n",
      "[vcfnp] 2016-12-05 10:17:37.596587 :: no cache file found\n",
      "[vcfnp] 2016-12-05 10:17:37.597601 :: building array\n"
     ]
    },
    {
     "name": "stdout",
     "output_type": "stream",
     "text": [
      "Pv30\n"
     ]
    },
    {
     "name": "stderr",
     "output_type": "stream",
     "text": [
      "[vcfnp] 2016-12-05 10:17:41.735353 :: 100000 rows in 4.12s; batch in 4.12s (24278 rows/s)\n",
      "[vcfnp] 2016-12-05 10:17:45.870720 :: 200000 rows in 8.25s; batch in 4.14s (24181 rows/s)\n",
      "[vcfnp] 2016-12-05 10:17:50.016051 :: 300000 rows in 12.40s; batch in 4.15s (24123 rows/s)\n",
      "[vcfnp] 2016-12-05 10:17:54.145158 :: 400000 rows in 16.53s; batch in 4.13s (24218 rows/s)\n",
      "[vcfnp] 2016-12-05 10:17:58.309528 :: 500000 rows in 20.69s; batch in 4.16s (24013 rows/s)\n",
      "[vcfnp] 2016-12-05 10:18:02.417453 :: 600000 rows in 24.80s; batch in 4.11s (24343 rows/s)\n",
      "[vcfnp] 2016-12-05 10:18:06.572166 :: 700000 rows in 28.96s; batch in 4.15s (24069 rows/s)\n",
      "[vcfnp] 2016-12-05 10:18:10.680115 :: 800000 rows in 33.06s; batch in 4.11s (24343 rows/s)\n",
      "[vcfnp] 2016-12-05 10:18:14.798947 :: 900000 rows in 37.18s; batch in 4.12s (24278 rows/s)\n",
      "[vcfnp] 2016-12-05 10:18:18.904510 :: 1000000 rows in 41.29s; batch in 4.11s (24357 rows/s)\n",
      "[vcfnp] 2016-12-05 10:18:23.031385 :: 1100000 rows in 45.41s; batch in 4.13s (24231 rows/s)\n",
      "[vcfnp] 2016-12-05 10:18:27.175879 :: 1200000 rows in 49.56s; batch in 4.14s (24128 rows/s)\n",
      "[vcfnp] 2016-12-05 10:18:31.288623 :: 1300000 rows in 53.67s; batch in 4.11s (24314 rows/s)\n",
      "[vcfnp] 2016-12-05 10:18:35.454426 :: 1400000 rows in 57.84s; batch in 4.17s (24004 rows/s)\n",
      "[vcfnp] 2016-12-05 10:18:39.560582 :: 1500000 rows in 61.94s; batch in 4.11s (24353 rows/s)\n",
      "[vcfnp] 2016-12-05 10:18:43.666454 :: 1600000 rows in 66.05s; batch in 4.11s (24355 rows/s)\n",
      "[vcfnp] 2016-12-05 10:18:47.781737 :: 1700000 rows in 70.17s; batch in 4.12s (24299 rows/s)\n",
      "[vcfnp] 2016-12-05 10:18:51.909358 :: 1800000 rows in 74.29s; batch in 4.13s (24227 rows/s)\n",
      "[vcfnp] 2016-12-05 10:18:56.035484 :: 1900000 rows in 78.42s; batch in 4.13s (24235 rows/s)\n",
      "[vcfnp] 2016-12-05 10:19:00.145147 :: 2000000 rows in 82.53s; batch in 4.11s (24332 rows/s)\n",
      "[vcfnp] 2016-12-05 10:19:04.249612 :: 2100000 rows in 86.63s; batch in 4.10s (24363 rows/s)\n",
      "[vcfnp] 2016-12-05 10:19:08.368954 :: 2200000 rows in 90.75s; batch in 4.12s (24275 rows/s)\n",
      "[vcfnp] 2016-12-05 10:19:12.479094 :: 2300000 rows in 94.86s; batch in 4.11s (24330 rows/s)\n",
      "[vcfnp] 2016-12-05 10:19:16.580855 :: 2400000 rows in 98.96s; batch in 4.10s (24379 rows/s)\n",
      "[vcfnp] 2016-12-05 10:19:20.726111 :: 2500000 rows in 103.11s; batch in 4.15s (24123 rows/s)\n",
      "[vcfnp] 2016-12-05 10:19:24.830223 :: 2600000 rows in 107.21s; batch in 4.10s (24365 rows/s)\n",
      "[vcfnp] 2016-12-05 10:19:28.930011 :: 2700000 rows in 111.31s; batch in 4.10s (24391 rows/s)\n",
      "[vcfnp] 2016-12-05 10:19:33.047878 :: 2800000 rows in 115.43s; batch in 4.12s (24284 rows/s)\n",
      "[vcfnp] 2016-12-05 10:19:37.151138 :: 2900000 rows in 119.53s; batch in 4.10s (24370 rows/s)\n",
      "[vcfnp] 2016-12-05 10:19:41.265945 :: 3000000 rows in 123.65s; batch in 4.11s (24302 rows/s)\n",
      "[vcfnp] 2016-12-05 10:19:45.418535 :: 3100000 rows in 127.80s; batch in 4.15s (24081 rows/s)\n",
      "[vcfnp] 2016-12-05 10:19:49.587753 :: 3200000 rows in 131.97s; batch in 4.17s (23985 rows/s)\n",
      "[vcfnp] 2016-12-05 10:19:53.740880 :: 3300000 rows in 136.12s; batch in 4.15s (24078 rows/s)\n",
      "[vcfnp] 2016-12-05 10:19:57.907594 :: 3400000 rows in 140.29s; batch in 4.17s (23999 rows/s)\n",
      "[vcfnp] 2016-12-05 10:20:02.075030 :: 3500000 rows in 144.46s; batch in 4.17s (23995 rows/s)\n",
      "[vcfnp] 2016-12-05 10:20:06.238258 :: 3600000 rows in 148.62s; batch in 4.16s (24019 rows/s)\n",
      "[vcfnp] 2016-12-05 10:20:10.393063 :: 3700000 rows in 152.78s; batch in 4.15s (24068 rows/s)\n",
      "[vcfnp] 2016-12-05 10:20:14.518925 :: 3800000 rows in 156.90s; batch in 4.13s (24237 rows/s)\n",
      "[vcfnp] 2016-12-05 10:20:18.654213 :: 3900000 rows in 161.04s; batch in 4.14s (24182 rows/s)\n",
      "[vcfnp] 2016-12-05 10:20:22.814688 :: 4000000 rows in 165.20s; batch in 4.16s (24035 rows/s)\n",
      "[vcfnp] 2016-12-05 10:20:26.975316 :: 4100000 rows in 169.36s; batch in 4.16s (24034 rows/s)\n",
      "[vcfnp] 2016-12-05 10:20:31.135165 :: 4200000 rows in 173.52s; batch in 4.16s (24039 rows/s)\n",
      "[vcfnp] 2016-12-05 10:20:35.298253 :: 4300000 rows in 177.68s; batch in 4.16s (24020 rows/s)\n",
      "[vcfnp] 2016-12-05 10:20:39.461595 :: 4400000 rows in 181.85s; batch in 4.16s (24019 rows/s)\n",
      "[vcfnp] 2016-12-05 10:20:43.631067 :: 4500000 rows in 186.01s; batch in 4.17s (23983 rows/s)\n",
      "[vcfnp] 2016-12-05 10:20:47.792533 :: 4600000 rows in 190.18s; batch in 4.16s (24029 rows/s)\n",
      "[vcfnp] 2016-12-05 10:20:51.951122 :: 4700000 rows in 194.33s; batch in 4.16s (24046 rows/s)\n",
      "[vcfnp] 2016-12-05 10:20:56.117454 :: 4800000 rows in 198.50s; batch in 4.17s (24001 rows/s)\n",
      "[vcfnp] 2016-12-05 10:21:00.277231 :: 4900000 rows in 202.66s; batch in 4.16s (24039 rows/s)\n",
      "[vcfnp] 2016-12-05 10:21:04.442157 :: 5000000 rows in 206.83s; batch in 4.16s (24010 rows/s)\n",
      "[vcfnp] 2016-12-05 10:21:08.606078 :: 5100000 rows in 210.99s; batch in 4.16s (24015 rows/s)\n",
      "[vcfnp] 2016-12-05 10:21:10.967235 :: 5156699 rows in 213.35s (24170 rows/s)\n",
      "[vcfnp] 2016-12-05 10:21:10.970354 :: saving to cache file /lustre/scratch109/malaria/rp7/data/methods-dev/builds/Pf6.0/20161204_variants_counts_summaries/Pv30_SNP_INDEL_WG.combined.filtered.annotated.normalised.vcf.gz.vcfnp_cache/variants.npy\n"
     ]
    }
   ],
   "source": [
    "for release in normalised_annotated_wg_vcf_fn:\n",
    "    print(release)\n",
    "    create_variants_npy(normalised_annotated_wg_vcf_fn[release])"
   ]
  },
  {
   "cell_type": "code",
   "execution_count": 19,
   "metadata": {
    "collapsed": true
   },
   "outputs": [],
   "source": [
    "variants = collections.OrderedDict()\n",
    "for release in normalised_annotated_wg_vcf_fn:\n",
    "    variants[release] = np.load(\"%s.vcfnp_cache/variants.npy\" % normalised_annotated_wg_vcf_fn[release])"
   ]
  },
  {
   "cell_type": "code",
   "execution_count": 20,
   "metadata": {
    "collapsed": true
   },
   "outputs": [],
   "source": [
    "number_of_samples = collections.OrderedDict()\n",
    "number_of_samples['Pf60'] = 7182\n",
    "number_of_samples['Pv30'] = 1001\n"
   ]
  },
  {
   "cell_type": "code",
   "execution_count": 31,
   "metadata": {
    "collapsed": true
   },
   "outputs": [],
   "source": [
    "def num_unique(values):\n",
    "    return(len(np.unique(values)))\n",
    "\n",
    "def determine_variant_counts(variants=variants['Pf60'], VQSLOD_threshold=0.0, groupby_variables = ['VARIANT_TYPE', 'CDS'], ascending=None,\n",
    "                             number_of_samples=number_of_samples['Pf60']):\n",
    "    if ascending is None:\n",
    "        ascending = [True if x == 'MULTIALLELIC' else False for x in groupby_variables]\n",
    "        \n",
    "    df_variants = pd.DataFrame(\n",
    "        {\n",
    "            'CHROM': pd.Series(variants['CHROM'], dtype=\"category\"),\n",
    "            'POS': pd.Series(variants['POS']),\n",
    "            'AC': pd.Series(variants['AC']),\n",
    "            'AN': pd.Series(variants['AN']),\n",
    "            'NRAF': pd.Series(variants['AC'] / variants['AN']),\n",
    "            'Missingness': pd.Series(((number_of_samples * 2) - variants['AN']) / (number_of_samples * 2)),\n",
    "            'CDS': pd.Series(variants['CDS'], dtype=\"category\"),\n",
    "            'VARIANT_TYPE': pd.Series(variants['VARIANT_TYPE'], dtype=\"category\"),\n",
    "            'MULTIALLELIC': pd.Series(variants['MULTIALLELIC'], dtype=\"category\"),\n",
    "        }\n",
    "    )\n",
    "#     For the following, Pf60 has FILTER_SubtelomericRepeat but Pv30 doesn't\n",
    "    if 'FILTER_SubtelomericRepeat' in variants.dtype.names:\n",
    "        ix_good_calls = (\n",
    "            (variants['VARIANT_TYPE'] != b'') &\n",
    "            (~variants['FILTER_Centromere']) &\n",
    "            (~variants['FILTER_InternalHypervariable']) &\n",
    "            (~variants['FILTER_SubtelomericHypervariable']) &\n",
    "            (~variants['FILTER_SubtelomericRepeat']) &\n",
    "            (variants['VQSLOD'] > VQSLOD_threshold)\n",
    "        )\n",
    "    else:\n",
    "        ix_good_calls = (\n",
    "            (variants['VARIANT_TYPE'] != b'') &\n",
    "            (~variants['FILTER_Centromere']) &\n",
    "            (~variants['FILTER_InternalHypervariable']) &\n",
    "            (~variants['FILTER_SubtelomericHypervariable']) &\n",
    "            (variants['VQSLOD'] > VQSLOD_threshold)\n",
    "        )\n",
    "\n",
    "    df_variants['PASS'] = ix_good_calls\n",
    "    \n",
    "    for i, column in enumerate(['CHROM', 'VARIANT_TYPE', 'MULTIALLELIC']):\n",
    "        df_variants[column].cat.categories = [\n",
    "            x.decode('ascii') for x in df_variants[column].cat.categories\n",
    "        ]\n",
    "    df_variants['CHROM_POS'] = df_variants['CHROM'].str.cat(df_variants['POS'].astype(str), sep='_')\n",
    "\n",
    "    if len(groupby_variables) == 0:\n",
    "#         temp = pd.DataFrame(variant_type_sum)\n",
    "        df_variants['Total'] = 'Total'\n",
    "        groupby_variables = ['Total']\n",
    "    \n",
    "#         temp.set_index('Total', append=True, inplace=True)\n",
    "#         variant_type_sum = temp.ix[:, 0]\n",
    "    \n",
    "    gb_all = df_variants.groupby(groupby_variables)\n",
    "    gb_pass = df_variants[df_variants['PASS']].groupby(groupby_variables)\n",
    "    \n",
    "    df_summary = pd.concat(\n",
    "        [\n",
    "            gb_all['CHROM_POS'].agg(num_unique).rename(\"Discovered variant positions\"),\n",
    "            gb_pass['CHROM_POS'].agg(num_unique).rename(\"Pass variant positions\"),\n",
    "            gb_pass.size().rename(\"Alleles\"),\n",
    "            gb_pass['NRAF'].mean().rename(\"Mean NRAF\"),\n",
    "            gb_pass['Missingness'].mean().rename(\"Missingness\"),\n",
    "        ],\n",
    "        axis=1\n",
    "    )\n",
    "    df_summary[\"% pass\"] = df_summary[\"Pass variant positions\"] / df_summary[\"Discovered variant positions\"]\n",
    "    df_summary[\"Alleles per position\"] = df_summary[\"Alleles\"] / df_summary[\"Pass variant positions\"]\n",
    "    df_summary[\"Variants per sample\"] = df_summary[\"Alleles\"] * df_summary[\"Mean NRAF\"]\n",
    "    \n",
    "    df_summary.sortlevel(range(len(groupby_variables)), ascending=ascending, inplace=True)\n",
    "    df_summary.reset_index(inplace=True)\n",
    "        \n",
    "    if 'MULTIALLELIC' in df_summary.columns:\n",
    "        df_summary = df_summary[df_summary['MULTIALLELIC'] != 'MIS']\n",
    "    \n",
    "    return(df_summary)\n",
    "    \n"
   ]
  },
  {
   "cell_type": "code",
   "execution_count": 56,
   "metadata": {
    "collapsed": false
   },
   "outputs": [
    {
     "data": {
      "text/plain": [
       "7182"
      ]
     },
     "execution_count": 56,
     "metadata": {},
     "output_type": "execute_result"
    }
   ],
   "source": [
    "len(hdf['Pf60']['samples'])"
   ]
  },
  {
   "cell_type": "code",
   "execution_count": 60,
   "metadata": {
    "collapsed": false
   },
   "outputs": [
    {
     "data": {
      "text/plain": [
       "array(['AC', 'AF', 'ALT', 'AN', 'CDS', 'CHROM', 'DP', 'FILTER_Centromere',\n",
       "       'FILTER_InternalHypervariable', 'FILTER_Low_VQSLOD', 'FILTER_PASS',\n",
       "       'FILTER_SubtelomericHypervariable', 'FILTER_SubtelomericRepeat',\n",
       "       'FS', 'MQ', 'MULTIALLELIC', 'POS', 'QD', 'QUAL', 'REF',\n",
       "       'RegionType', 'SNPEFF_AMINO_ACID_CHANGE', 'SNPEFF_CODON_CHANGE',\n",
       "       'SNPEFF_EFFECT', 'SNPEFF_EXON_ID', 'SNPEFF_FUNCTIONAL_CLASS',\n",
       "       'SNPEFF_GENE_NAME', 'SNPEFF_IMPACT', 'SNPEFF_TRANSCRIPT_ID', 'SOR',\n",
       "       'VARIANT_TYPE', 'VQSLOD', 'VariantType', 'is_snp', 'num_alleles',\n",
       "       'svlen'], \n",
       "      dtype='<U32')"
      ]
     },
     "execution_count": 60,
     "metadata": {},
     "output_type": "execute_result"
    }
   ],
   "source": [
    "np.array(list(hdf['Pf60']['variants'].keys()))"
   ]
  },
  {
   "cell_type": "code",
   "execution_count": 71,
   "metadata": {
    "collapsed": false
   },
   "outputs": [
    {
     "name": "stdout",
     "output_type": "stream",
     "text": [
      "[2 0 0 0 0 0]\n",
      "[ 3 11  0  0  0  0]\n",
      "[21 14  0  0  0  0]\n",
      "[27  1  9  0  0  0]\n"
     ]
    }
   ],
   "source": [
    "print(hdf['Pf60']['variants']['AC'][0])\n",
    "print(hdf['Pf60']['variants']['AC'][1])\n",
    "print(hdf['Pf60']['variants']['AC'][2])\n",
    "print(hdf['Pf60']['variants']['AC'][7])"
   ]
  },
  {
   "cell_type": "code",
   "execution_count": 73,
   "metadata": {
    "collapsed": false
   },
   "outputs": [
    {
     "name": "stdout",
     "output_type": "stream",
     "text": [
      "1\n",
      "2\n",
      "2\n",
      "3\n"
     ]
    }
   ],
   "source": [
    "def num_AC(values):\n",
    "    return(np.count_nonzero(values > 0))\n",
    "\n",
    "print(num_AC(hdf['Pf60']['variants']['AC'][0]))\n",
    "print(num_AC(hdf['Pf60']['variants']['AC'][1]))\n",
    "print(num_AC(hdf['Pf60']['variants']['AC'][2]))\n",
    "print(num_AC(hdf['Pf60']['variants']['AC'][7]))"
   ]
  },
  {
   "cell_type": "code",
   "execution_count": 74,
   "metadata": {
    "collapsed": false
   },
   "outputs": [
    {
     "ename": "KeyboardInterrupt",
     "evalue": "",
     "output_type": "error",
     "traceback": [
      "\u001b[0;31m---------------------------------------------------------------------------\u001b[0m",
      "\u001b[0;31mKeyboardInterrupt\u001b[0m                         Traceback (most recent call last)",
      "\u001b[0;32m<ipython-input-74-7472f09f2ad6>\u001b[0m in \u001b[0;36m<module>\u001b[0;34m()\u001b[0m\n\u001b[0;32m----> 1\u001b[0;31m \u001b[0mnum_alleles\u001b[0m \u001b[0;34m=\u001b[0m \u001b[0;34m[\u001b[0m\u001b[0mnp\u001b[0m\u001b[0;34m.\u001b[0m\u001b[0mcount_nonzero\u001b[0m\u001b[0;34m(\u001b[0m\u001b[0mvalues\u001b[0m \u001b[0;34m>\u001b[0m \u001b[0;36m0\u001b[0m\u001b[0;34m)\u001b[0m \u001b[0;32mfor\u001b[0m \u001b[0mvalues\u001b[0m \u001b[0;32min\u001b[0m \u001b[0mhdf\u001b[0m\u001b[0;34m[\u001b[0m\u001b[0;34m'Pf60'\u001b[0m\u001b[0;34m]\u001b[0m\u001b[0;34m[\u001b[0m\u001b[0;34m'variants'\u001b[0m\u001b[0;34m]\u001b[0m\u001b[0;34m[\u001b[0m\u001b[0;34m'AC'\u001b[0m\u001b[0;34m]\u001b[0m\u001b[0;34m]\u001b[0m\u001b[0;34m\u001b[0m\u001b[0m\n\u001b[0m",
      "\u001b[0;32m<ipython-input-74-7472f09f2ad6>\u001b[0m in \u001b[0;36m<listcomp>\u001b[0;34m(.0)\u001b[0m\n\u001b[0;32m----> 1\u001b[0;31m \u001b[0mnum_alleles\u001b[0m \u001b[0;34m=\u001b[0m \u001b[0;34m[\u001b[0m\u001b[0mnp\u001b[0m\u001b[0;34m.\u001b[0m\u001b[0mcount_nonzero\u001b[0m\u001b[0;34m(\u001b[0m\u001b[0mvalues\u001b[0m \u001b[0;34m>\u001b[0m \u001b[0;36m0\u001b[0m\u001b[0;34m)\u001b[0m \u001b[0;32mfor\u001b[0m \u001b[0mvalues\u001b[0m \u001b[0;32min\u001b[0m \u001b[0mhdf\u001b[0m\u001b[0;34m[\u001b[0m\u001b[0;34m'Pf60'\u001b[0m\u001b[0;34m]\u001b[0m\u001b[0;34m[\u001b[0m\u001b[0;34m'variants'\u001b[0m\u001b[0;34m]\u001b[0m\u001b[0;34m[\u001b[0m\u001b[0;34m'AC'\u001b[0m\u001b[0;34m]\u001b[0m\u001b[0;34m]\u001b[0m\u001b[0;34m\u001b[0m\u001b[0m\n\u001b[0m",
      "\u001b[0;32m/nfs/users/nfs_r/rp7/miniconda3/envs/biipy/lib/python3.5/site-packages/h5py/_hl/dataset.py\u001b[0m in \u001b[0;36m__iter__\u001b[0;34m(self)\u001b[0m\n\u001b[1;32m    384\u001b[0m             \u001b[0;32mraise\u001b[0m \u001b[0mTypeError\u001b[0m\u001b[0;34m(\u001b[0m\u001b[0;34m\"Can't iterate over a scalar dataset\"\u001b[0m\u001b[0;34m)\u001b[0m\u001b[0;34m\u001b[0m\u001b[0m\n\u001b[1;32m    385\u001b[0m         \u001b[0;32mfor\u001b[0m \u001b[0mi\u001b[0m \u001b[0;32min\u001b[0m \u001b[0mxrange\u001b[0m\u001b[0;34m(\u001b[0m\u001b[0mshape\u001b[0m\u001b[0;34m[\u001b[0m\u001b[0;36m0\u001b[0m\u001b[0;34m]\u001b[0m\u001b[0;34m)\u001b[0m\u001b[0;34m:\u001b[0m\u001b[0;34m\u001b[0m\u001b[0m\n\u001b[0;32m--> 386\u001b[0;31m             \u001b[0;32myield\u001b[0m \u001b[0mself\u001b[0m\u001b[0;34m[\u001b[0m\u001b[0mi\u001b[0m\u001b[0;34m]\u001b[0m\u001b[0;34m\u001b[0m\u001b[0m\n\u001b[0m\u001b[1;32m    387\u001b[0m \u001b[0;34m\u001b[0m\u001b[0m\n\u001b[1;32m    388\u001b[0m \u001b[0;34m\u001b[0m\u001b[0m\n",
      "\u001b[0;32mh5py/_objects.pyx\u001b[0m in \u001b[0;36mh5py._objects.with_phil.wrapper (/feedstock_root/build_artefacts/work/h5py-2.6.0/h5py/_objects.c:2840)\u001b[0;34m()\u001b[0m\n",
      "\u001b[0;32mh5py/_objects.pyx\u001b[0m in \u001b[0;36mh5py._objects.with_phil.wrapper (/feedstock_root/build_artefacts/work/h5py-2.6.0/h5py/_objects.c:2798)\u001b[0;34m()\u001b[0m\n",
      "\u001b[0;32m/nfs/users/nfs_r/rp7/miniconda3/envs/biipy/lib/python3.5/site-packages/h5py/_hl/dataset.py\u001b[0m in \u001b[0;36m__getitem__\u001b[0;34m(self, args)\u001b[0m\n\u001b[1;32m    480\u001b[0m         \u001b[0mmspace\u001b[0m \u001b[0;34m=\u001b[0m \u001b[0mh5s\u001b[0m\u001b[0;34m.\u001b[0m\u001b[0mcreate_simple\u001b[0m\u001b[0;34m(\u001b[0m\u001b[0mmshape\u001b[0m\u001b[0;34m)\u001b[0m\u001b[0;34m\u001b[0m\u001b[0m\n\u001b[1;32m    481\u001b[0m         \u001b[0mfspace\u001b[0m \u001b[0;34m=\u001b[0m \u001b[0mselection\u001b[0m\u001b[0;34m.\u001b[0m\u001b[0mid\u001b[0m\u001b[0;34m\u001b[0m\u001b[0m\n\u001b[0;32m--> 482\u001b[0;31m         \u001b[0mself\u001b[0m\u001b[0;34m.\u001b[0m\u001b[0mid\u001b[0m\u001b[0;34m.\u001b[0m\u001b[0mread\u001b[0m\u001b[0;34m(\u001b[0m\u001b[0mmspace\u001b[0m\u001b[0;34m,\u001b[0m \u001b[0mfspace\u001b[0m\u001b[0;34m,\u001b[0m \u001b[0marr\u001b[0m\u001b[0;34m,\u001b[0m \u001b[0mmtype\u001b[0m\u001b[0;34m,\u001b[0m \u001b[0mdxpl\u001b[0m\u001b[0;34m=\u001b[0m\u001b[0mself\u001b[0m\u001b[0;34m.\u001b[0m\u001b[0m_dxpl\u001b[0m\u001b[0;34m)\u001b[0m\u001b[0;34m\u001b[0m\u001b[0m\n\u001b[0m\u001b[1;32m    483\u001b[0m \u001b[0;34m\u001b[0m\u001b[0m\n\u001b[1;32m    484\u001b[0m         \u001b[0;31m# Patch up the output for NumPy\u001b[0m\u001b[0;34m\u001b[0m\u001b[0;34m\u001b[0m\u001b[0m\n",
      "\u001b[0;31mKeyboardInterrupt\u001b[0m: "
     ]
    }
   ],
   "source": [
    "num_alleles = [np.count_nonzero(values > 0) for values in hdf['Pf60']['variants']['AC']]"
   ]
  },
  {
   "cell_type": "code",
   "execution_count": 77,
   "metadata": {
    "collapsed": false
   },
   "outputs": [
    {
     "name": "stdout",
     "output_type": "stream",
     "text": [
      "CPU times: user 52.2 s, sys: 700 ms, total: 52.9 s\n",
      "Wall time: 52.9 s\n"
     ]
    }
   ],
   "source": [
    "%%time\n",
    "def num_AC(values):\n",
    "    np.count_nonzero(values > 0)\n",
    "\n",
    "v_num_AC = np.vectorize(num_AC)\n",
    "\n",
    "num_alleles = v_num_AC(hdf['Pf60']['variants']['AC'][:])"
   ]
  },
  {
   "cell_type": "code",
   "execution_count": 79,
   "metadata": {
    "collapsed": false
   },
   "outputs": [
    {
     "data": {
      "text/plain": [
       "array([[None, None, None, None, None, None],\n",
       "       [None, None, None, None, None, None],\n",
       "       [None, None, None, None, None, None],\n",
       "       [None, None, None, None, None, None],\n",
       "       [None, None, None, None, None, None],\n",
       "       [None, None, None, None, None, None],\n",
       "       [None, None, None, None, None, None],\n",
       "       [None, None, None, None, None, None],\n",
       "       [None, None, None, None, None, None],\n",
       "       [None, None, None, None, None, None]], dtype=object)"
      ]
     },
     "execution_count": 79,
     "metadata": {},
     "output_type": "execute_result"
    }
   ],
   "source": [
    "num_alleles[0:10]"
   ]
  },
  {
   "cell_type": "code",
   "execution_count": 78,
   "metadata": {
    "collapsed": false
   },
   "outputs": [
    {
     "name": "stdout",
     "output_type": "stream",
     "text": [
      "CPU times: user 540 ms, sys: 68 ms, total: 608 ms\n",
      "Wall time: 604 ms\n"
     ]
    }
   ],
   "source": [
    "%%time\n",
    "num_alleles2 = np.count_nonzero(hdf['Pf60']['variants']['AC'][:])"
   ]
  },
  {
   "cell_type": "code",
   "execution_count": 85,
   "metadata": {
    "collapsed": false
   },
   "outputs": [
    {
     "name": "stdout",
     "output_type": "stream",
     "text": [
      "CPU times: user 54.7 s, sys: 100 ms, total: 54.8 s\n",
      "Wall time: 54.8 s\n"
     ]
    }
   ],
   "source": [
    "%%time\n",
    "num_alleles3 = np.apply_along_axis(np.count_nonzero, 1, hdf['Pf60']['variants']['AC'][:])"
   ]
  },
  {
   "cell_type": "code",
   "execution_count": 88,
   "metadata": {
    "collapsed": false
   },
   "outputs": [
    {
     "name": "stdout",
     "output_type": "stream",
     "text": [
      "CPU times: user 624 ms, sys: 128 ms, total: 752 ms\n",
      "Wall time: 750 ms\n"
     ]
    }
   ],
   "source": [
    "%%time\n",
    "AC = np.sum(hdf['Pf60']['variants']['AC'][:], 1)"
   ]
  },
  {
   "cell_type": "code",
   "execution_count": 89,
   "metadata": {
    "collapsed": false
   },
   "outputs": [
    {
     "data": {
      "text/plain": [
       "6051696"
      ]
     },
     "execution_count": 89,
     "metadata": {},
     "output_type": "execute_result"
    }
   ],
   "source": [
    "len(AC)"
   ]
  },
  {
   "cell_type": "code",
   "execution_count": 90,
   "metadata": {
    "collapsed": false
   },
   "outputs": [
    {
     "data": {
      "text/plain": [
       "array([ 2, 14, 35, 31, 36, 43, 34, 37, 45, 37], dtype=uint64)"
      ]
     },
     "execution_count": 90,
     "metadata": {},
     "output_type": "execute_result"
    }
   ],
   "source": [
    "AC[0:10]"
   ]
  },
  {
   "cell_type": "code",
   "execution_count": 86,
   "metadata": {
    "collapsed": false
   },
   "outputs": [
    {
     "data": {
      "text/plain": [
       "array([1, 2, 2, 2, 2, 2, 2, 3, 2, 3])"
      ]
     },
     "execution_count": 86,
     "metadata": {},
     "output_type": "execute_result"
    }
   ],
   "source": [
    "num_alleles3[0:10]"
   ]
  },
  {
   "cell_type": "code",
   "execution_count": 87,
   "metadata": {
    "collapsed": false
   },
   "outputs": [
    {
     "data": {
      "text/plain": [
       "6051696"
      ]
     },
     "execution_count": 87,
     "metadata": {},
     "output_type": "execute_result"
    }
   ],
   "source": [
    "len(num_alleles3)"
   ]
  },
  {
   "cell_type": "code",
   "execution_count": 82,
   "metadata": {
    "collapsed": false
   },
   "outputs": [
    {
     "data": {
      "text/plain": [
       "array([[ 2,  0,  0,  0,  0,  0],\n",
       "       [ 3, 11,  0,  0,  0,  0],\n",
       "       [21, 14,  0,  0,  0,  0],\n",
       "       ..., \n",
       "       [ 2,  2,  0,  0,  0,  0],\n",
       "       [ 2,  0,  0,  0,  0,  0],\n",
       "       [ 1,  4,  0,  0,  0,  0]], dtype=uint16)"
      ]
     },
     "execution_count": 82,
     "metadata": {},
     "output_type": "execute_result"
    }
   ],
   "source": [
    "hdf['Pf60']['variants']['AC'][:]"
   ]
  },
  {
   "cell_type": "code",
   "execution_count": 111,
   "metadata": {
    "collapsed": false
   },
   "outputs": [
    {
     "data": {
      "text/plain": [
       "array([[b'A', b'', b'', b'', b'', b''],\n",
       "       [b'*', b'G', b'', b'', b'', b''],\n",
       "       [b'A', b'*', b'', b'', b'', b''],\n",
       "       ..., \n",
       "       [b'G', b'C', b'', b'', b'', b''],\n",
       "       [b'G', b'', b'', b'', b'', b''],\n",
       "       [b'T', b'G', b'', b'', b'', b'']], \n",
       "      dtype='|S600')"
      ]
     },
     "execution_count": 111,
     "metadata": {},
     "output_type": "execute_result"
    }
   ],
   "source": [
    "hdf['Pf60']['variants']['ALT'][:] != b'*'"
   ]
  },
  {
   "cell_type": "code",
   "execution_count": 116,
   "metadata": {
    "collapsed": false
   },
   "outputs": [
    {
     "data": {
      "text/plain": [
       "array([[ 2,  0,  0,  0,  0,  0],\n",
       "       [ 3, 11,  0,  0,  0,  0],\n",
       "       [21, 14,  0,  0,  0,  0],\n",
       "       ..., \n",
       "       [ 2,  2,  0,  0,  0,  0],\n",
       "       [ 2,  0,  0,  0,  0,  0],\n",
       "       [ 1,  4,  0,  0,  0,  0]], dtype=uint16)"
      ]
     },
     "execution_count": 116,
     "metadata": {},
     "output_type": "execute_result"
    }
   ],
   "source": [
    "non_SD_AC = hdf['Pf60']['variants']['AC'][:]\n",
    "non_SD_AC"
   ]
  },
  {
   "cell_type": "code",
   "execution_count": 117,
   "metadata": {
    "collapsed": false
   },
   "outputs": [
    {
     "data": {
      "text/plain": [
       "array([[ 2,  0,  0,  0,  0,  0],\n",
       "       [ 0, 11,  0,  0,  0,  0],\n",
       "       [21,  0,  0,  0,  0,  0],\n",
       "       ..., \n",
       "       [ 2,  2,  0,  0,  0,  0],\n",
       "       [ 2,  0,  0,  0,  0,  0],\n",
       "       [ 1,  4,  0,  0,  0,  0]], dtype=uint16)"
      ]
     },
     "execution_count": 117,
     "metadata": {},
     "output_type": "execute_result"
    }
   ],
   "source": [
    "non_SD_AC[hdf['Pf60']['variants']['ALT'][:] == b'*'] = 0\n",
    "non_SD_AC"
   ]
  },
  {
   "cell_type": "code",
   "execution_count": 112,
   "metadata": {
    "collapsed": false
   },
   "outputs": [
    {
     "name": "stdout",
     "output_type": "stream",
     "text": [
      "CPU times: user 41.3 s, sys: 18.2 s, total: 59.5 s\n",
      "Wall time: 59.5 s\n"
     ]
    },
    {
     "data": {
      "text/plain": [
       "array([[ True,  True,  True,  True,  True,  True],\n",
       "       [False,  True,  True,  True,  True,  True],\n",
       "       [ True, False,  True,  True,  True,  True],\n",
       "       ..., \n",
       "       [ True,  True,  True,  True,  True,  True],\n",
       "       [ True,  True,  True,  True,  True,  True],\n",
       "       [ True,  True,  True,  True,  True,  True]], dtype=bool)"
      ]
     },
     "execution_count": 112,
     "metadata": {},
     "output_type": "execute_result"
    }
   ],
   "source": [
    "%%time\n",
    "hdf['Pf60']['variants']['ALT'][:] != b'*'"
   ]
  },
  {
   "cell_type": "code",
   "execution_count": 81,
   "metadata": {
    "collapsed": false
   },
   "outputs": [
    {
     "data": {
      "text/plain": [
       "12170001"
      ]
     },
     "execution_count": 81,
     "metadata": {},
     "output_type": "execute_result"
    }
   ],
   "source": [
    "num_alleles2"
   ]
  },
  {
   "cell_type": "code",
   "execution_count": 104,
   "metadata": {
    "collapsed": false
   },
   "outputs": [
    {
     "data": {
      "text/plain": [
       "False"
      ]
     },
     "execution_count": 104,
     "metadata": {},
     "output_type": "execute_result"
    }
   ],
   "source": [
    "'FILTER_SubtelomericRepeat' in hdf['Pf60']['variants'].keys()"
   ]
  },
  {
   "cell_type": "code",
   "execution_count": 109,
   "metadata": {
    "collapsed": false
   },
   "outputs": [],
   "source": [
    "def num_unique(values):\n",
    "    return(len(np.unique(values)))\n",
    "\n",
    "def num_AC(values):\n",
    "    np.count_nonzero(values > 0)\n",
    "\n",
    "def determine_variant_counts_hdf(hdf5=hdf['Pf60'], VQSLOD_threshold=0.0, groupby_variables = ['VARIANT_TYPE', 'CDS'],\n",
    "                                 ascending=None):\n",
    "    number_of_samples = len(hdf5['samples'])\n",
    "    \n",
    "    if ascending is None:\n",
    "        ascending = [True if x == 'MULTIALLELIC' else False for x in groupby_variables]\n",
    "        \n",
    "    df_variants = pd.DataFrame(\n",
    "        {\n",
    "            'CHROM': pd.Series(hdf5['variants']['CHROM'][:], dtype=\"category\"),\n",
    "            'POS': pd.Series(hdf5['variants']['POS'][:]),\n",
    "            'num_alleles': pd.Series(np.apply_along_axis(np.count_nonzero, 1, hdf5['variants']['AC'][:])),\n",
    "            'AC': pd.Series(np.sum(hdf5['variants']['AC'][:], 1)),\n",
    "            'AN': pd.Series(hdf5['variants']['AN'][:]),\n",
    "            'NRAF': pd.Series(np.sum(hdf5['variants']['AC'][:], 1) / hdf5['variants']['AN'][:]),\n",
    "            'Missingness': pd.Series(((number_of_samples * 2) - hdf5['variants']['AN'][:]) / (number_of_samples * 2)),\n",
    "            'CDS': pd.Series(hdf5['variants']['CDS'][:], dtype=\"category\"),\n",
    "            'VARIANT_TYPE': pd.Series(hdf5['variants']['VARIANT_TYPE'][:], dtype=\"category\"),\n",
    "            'MULTIALLELIC': pd.Series(hdf5['variants']['MULTIALLELIC'][:], dtype=\"category\"),\n",
    "        }\n",
    "    )\n",
    "#     For the following, Pf60 has FILTER_SubtelomericRepeat but Pv30 doesn't\n",
    "    if 'FILTER_SubtelomericRepeat' in hdf5['variants'].keys():\n",
    "        ix_good_calls = (\n",
    "            (hdf5['variants']['VARIANT_TYPE'][:] != b'') &\n",
    "            (~hdf5['variants']['FILTER_Centromere'][:]) &\n",
    "            (~hdf5['variants']['FILTER_InternalHypervariable'][:]) &\n",
    "            (~hdf5['variants']['FILTER_SubtelomericHypervariable'][:]) &\n",
    "            (~hdf5['variants']['FILTER_SubtelomericRepeat'][:]) &\n",
    "            (hdf5['variants']['VQSLOD'][:] > VQSLOD_threshold)\n",
    "        )\n",
    "    else:\n",
    "        ix_good_calls = (\n",
    "            (hdf5['variants']['VARIANT_TYPE'][:] != b'') &\n",
    "            (~hdf5['variants']['FILTER_Centromere'][:]) &\n",
    "            (~hdf5['variants']['FILTER_InternalHypervariable'][:]) &\n",
    "            (~hdf5['variants']['FILTER_SubtelomericHypervariable'][:]) &\n",
    "            (hdf5['variants']['VQSLOD'][:] > VQSLOD_threshold)\n",
    "        )\n",
    "\n",
    "    df_variants['PASS'] = ix_good_calls\n",
    "    \n",
    "    for i, column in enumerate(['CHROM', 'VARIANT_TYPE', 'MULTIALLELIC']):\n",
    "        df_variants[column].cat.categories = [\n",
    "            x.decode('ascii') for x in df_variants[column].cat.categories\n",
    "        ]\n",
    "#     df_variants['CHROM_POS'] = df_variants['CHROM'].str.cat(df_variants['POS'].astype(str), sep='_')\n",
    "\n",
    "    if len(groupby_variables) == 0:\n",
    "#         temp = pd.DataFrame(variant_type_sum)\n",
    "        df_variants['Total'] = 'Total'\n",
    "        groupby_variables = ['Total']\n",
    "    \n",
    "#         temp.set_index('Total', append=True, inplace=True)\n",
    "#         variant_type_sum = temp.ix[:, 0]\n",
    "    \n",
    "    gb_all = df_variants.groupby(groupby_variables)\n",
    "    gb_pass = df_variants[df_variants['PASS']].groupby(groupby_variables)\n",
    "    \n",
    "    df_summary = pd.concat(\n",
    "        [\n",
    "            gb_all.size().rename(\"Discovered variant positions\"),\n",
    "            gb_pass.size().rename(\"Pass variant positions\"),\n",
    "            gb_pass['num_alleles'].sum().rename(\"Alleles\"),\n",
    "            gb_pass['NRAF'].mean().rename(\"Mean NRAF\"),\n",
    "            gb_pass['Missingness'].mean().rename(\"Missingness\"),\n",
    "        ],\n",
    "        axis=1\n",
    "    )\n",
    "    df_summary[\"% pass\"] = df_summary[\"Pass variant positions\"] / df_summary[\"Discovered variant positions\"]\n",
    "    df_summary[\"Alleles per position\"] = df_summary[\"Alleles\"] / df_summary[\"Pass variant positions\"]\n",
    "    df_summary[\"Variants per sample\"] = df_summary[\"Alleles\"] * df_summary[\"Mean NRAF\"]\n",
    "    \n",
    "    df_summary.sortlevel(range(len(groupby_variables)), ascending=ascending, inplace=True)\n",
    "    df_summary.reset_index(inplace=True)\n",
    "        \n",
    "    if 'MULTIALLELIC' in df_summary.columns:\n",
    "        df_summary = df_summary[df_summary['MULTIALLELIC'] != 'MIS']\n",
    "    \n",
    "    return(df_summary)\n",
    "    \n"
   ]
  },
  {
   "cell_type": "code",
   "execution_count": 123,
   "metadata": {
    "collapsed": false
   },
   "outputs": [],
   "source": [
    "def num_unique(values):\n",
    "    return(len(np.unique(values)))\n",
    "\n",
    "def num_AC(values):\n",
    "    np.count_nonzero(values > 0)\n",
    "\n",
    "def determine_variant_counts_hdf(hdf5=hdf['Pf60'], VQSLOD_threshold=0.0, groupby_variables = ['VARIANT_TYPE', 'CDS'],\n",
    "                                 ascending=None):\n",
    "    number_of_samples = len(hdf5['samples'])\n",
    "    \n",
    "    if ascending is None:\n",
    "        ascending = [True if x == 'MULTIALLELIC' else False for x in groupby_variables]\n",
    "        \n",
    "    non_SD_AC = hdf5['variants']['AC'][:]\n",
    "    non_SD_AC[hdf5['variants']['ALT'][:] == b'*'] = 0\n",
    "    \n",
    "    df_variants = pd.DataFrame(\n",
    "        {\n",
    "            'CHROM': pd.Series(hdf5['variants']['CHROM'][:], dtype=\"category\"),\n",
    "            'POS': pd.Series(hdf5['variants']['POS'][:]),\n",
    "            'num_alleles': pd.Series(np.apply_along_axis(np.count_nonzero, 1, non_SD_AC)),\n",
    "            'AC': pd.Series(np.sum(non_SD_AC, 1)),\n",
    "            'AN': pd.Series(hdf5['variants']['AN'][:] * pd.Series(np.apply_along_axis(np.count_nonzero, 1, non_SD_AC))),\n",
    "#             'NRAF': pd.Series(np.sum(non_SD_AC, 1) / hdf5['variants']['AN'][:]),\n",
    "            'Missingness': pd.Series(((number_of_samples * 2) - hdf5['variants']['AN'][:]) / (number_of_samples * 2)),\n",
    "            'CDS': pd.Series(hdf5['variants']['CDS'][:], dtype=\"category\"),\n",
    "            'VARIANT_TYPE': pd.Series(hdf5['variants']['VARIANT_TYPE'][:], dtype=\"category\"),\n",
    "            'MULTIALLELIC': pd.Series(hdf5['variants']['MULTIALLELIC'][:], dtype=\"category\"),\n",
    "        }\n",
    "    )\n",
    "#     For the following, Pf60 has FILTER_SubtelomericRepeat but Pv30 doesn't\n",
    "    if 'FILTER_SubtelomericRepeat' in hdf5['variants'].keys():\n",
    "        ix_good_calls = (\n",
    "            (hdf5['variants']['VARIANT_TYPE'][:] != b'') &\n",
    "            (~hdf5['variants']['FILTER_Centromere'][:]) &\n",
    "            (~hdf5['variants']['FILTER_InternalHypervariable'][:]) &\n",
    "            (~hdf5['variants']['FILTER_SubtelomericHypervariable'][:]) &\n",
    "            (~hdf5['variants']['FILTER_SubtelomericRepeat'][:]) &\n",
    "            (hdf5['variants']['VQSLOD'][:] > VQSLOD_threshold)\n",
    "        )\n",
    "    else:\n",
    "        ix_good_calls = (\n",
    "            (hdf5['variants']['VARIANT_TYPE'][:] != b'') &\n",
    "            (~hdf5['variants']['FILTER_Centromere'][:]) &\n",
    "            (~hdf5['variants']['FILTER_InternalHypervariable'][:]) &\n",
    "            (~hdf5['variants']['FILTER_SubtelomericHypervariable'][:]) &\n",
    "            (hdf5['variants']['VQSLOD'][:] > VQSLOD_threshold)\n",
    "        )\n",
    "\n",
    "    df_variants['PASS'] = ix_good_calls\n",
    "    \n",
    "    for i, column in enumerate(['CHROM', 'VARIANT_TYPE', 'MULTIALLELIC']):\n",
    "        df_variants[column].cat.categories = [\n",
    "            x.decode('ascii') for x in df_variants[column].cat.categories\n",
    "        ]\n",
    "#     df_variants['CHROM_POS'] = df_variants['CHROM'].str.cat(df_variants['POS'].astype(str), sep='_')\n",
    "\n",
    "    if len(groupby_variables) == 0:\n",
    "#         temp = pd.DataFrame(variant_type_sum)\n",
    "        df_variants['Total'] = 'Total'\n",
    "        groupby_variables = ['Total']\n",
    "    \n",
    "#         temp.set_index('Total', append=True, inplace=True)\n",
    "#         variant_type_sum = temp.ix[:, 0]\n",
    "    \n",
    "    gb_all = df_variants.groupby(groupby_variables)\n",
    "    gb_pass = df_variants[df_variants['PASS']].groupby(groupby_variables)\n",
    "    \n",
    "    df_summary = pd.concat(\n",
    "        [\n",
    "            gb_all.size().rename(\"Discovered variant positions\"),\n",
    "            gb_pass.size().rename(\"Pass variant positions\"),\n",
    "            gb_pass['num_alleles'].sum().rename(\"Alleles\"),\n",
    "            gb_pass['AC'].sum().rename(\"Total AC\"),\n",
    "            gb_pass['AN'].sum().rename(\"Total AN\"),\n",
    "#             gb_pass['NRAF'].mean().rename(\"Mean NRAF\"),\n",
    "            gb_pass['Missingness'].mean().rename(\"Missingness\"),\n",
    "        ],\n",
    "        axis=1\n",
    "    )\n",
    "    df_summary[\"Mean NRAF\"] = df_summary[\"Total AC\"] / df_summary[\"Total AN\"]    \n",
    "    df_summary[\"% pass\"] = df_summary[\"Pass variant positions\"] / df_summary[\"Discovered variant positions\"]\n",
    "    df_summary[\"Alleles per position\"] = df_summary[\"Alleles\"] / df_summary[\"Pass variant positions\"]\n",
    "    df_summary[\"Variants per sample\"] = df_summary[\"Alleles\"] * df_summary[\"Mean NRAF\"]\n",
    "    \n",
    "    df_summary.sortlevel(range(len(groupby_variables)), ascending=ascending, inplace=True)\n",
    "    df_summary.reset_index(inplace=True)\n",
    "        \n",
    "    if 'MULTIALLELIC' in df_summary.columns:\n",
    "        df_summary = df_summary[df_summary['MULTIALLELIC'] != 'MIS']\n",
    "    \n",
    "    return(df_summary)\n",
    "    \n"
   ]
  },
  {
   "cell_type": "code",
   "execution_count": 123,
   "metadata": {
    "collapsed": false
   },
   "outputs": [],
   "source": [
    "def num_unique(values):\n",
    "    return(len(np.unique(values)))\n",
    "\n",
    "def num_AC(values):\n",
    "    np.count_nonzero(values > 0)\n",
    "\n",
    "def determine_variant_counts_hdf(hdf5=hdf['Pf60'], VQSLOD_threshold=0.0, groupby_variables = ['VARIANT_TYPE', 'CDS'],\n",
    "                                 ascending=None):\n",
    "    number_of_samples = len(hdf5['samples'])\n",
    "    \n",
    "    if ascending is None:\n",
    "        ascending = [True if x == 'MULTIALLELIC' else False for x in groupby_variables]\n",
    "        \n",
    "    non_SD_AC = hdf5['variants']['AC'][:]\n",
    "    non_SD_AC[hdf5['variants']['ALT'][:] == b'*'] = 0\n",
    "    \n",
    "    df_variants = pd.DataFrame(\n",
    "        {\n",
    "#             'CHROM': pd.Series(hdf5['variants']['CHROM'][:], dtype=\"category\"),\n",
    "#             'POS': pd.Series(hdf5['variants']['POS'][:]),\n",
    "            'num_alleles': pd.Series(np.apply_along_axis(np.count_nonzero, 1, non_SD_AC)),\n",
    "            'AC': pd.Series(np.sum(non_SD_AC, 1)),\n",
    "            'AN': pd.Series(hdf5['variants']['AN'][:] * pd.Series(np.apply_along_axis(np.count_nonzero, 1, non_SD_AC))),\n",
    "            'Missingness': pd.Series(((number_of_samples * 2) - hdf5['variants']['AN'][:]) / (number_of_samples * 2)),\n",
    "            'CDS': pd.Series(hdf5['variants']['CDS'][:], dtype=\"category\"),\n",
    "            'VARIANT_TYPE': pd.Series(hdf5['variants']['VARIANT_TYPE'][:], dtype=\"category\"),\n",
    "            'MULTIALLELIC': pd.Series(hdf5['variants']['MULTIALLELIC'][:], dtype=\"category\"),\n",
    "        }\n",
    "    )\n",
    "#     For the following, Pf60 has FILTER_SubtelomericRepeat but Pv30 doesn't\n",
    "    if 'FILTER_SubtelomericRepeat' in hdf5['variants'].keys():\n",
    "        ix_good_calls = (\n",
    "            (hdf5['variants']['VARIANT_TYPE'][:] != b'') &\n",
    "            (~hdf5['variants']['FILTER_Centromere'][:]) &\n",
    "            (~hdf5['variants']['FILTER_InternalHypervariable'][:]) &\n",
    "            (~hdf5['variants']['FILTER_SubtelomericHypervariable'][:]) &\n",
    "            (~hdf5['variants']['FILTER_SubtelomericRepeat'][:]) &\n",
    "            (hdf5['variants']['VQSLOD'][:] > VQSLOD_threshold)\n",
    "        )\n",
    "    else:\n",
    "        ix_good_calls = (\n",
    "            (hdf5['variants']['VARIANT_TYPE'][:] != b'') &\n",
    "            (~hdf5['variants']['FILTER_Centromere'][:]) &\n",
    "            (~hdf5['variants']['FILTER_InternalHypervariable'][:]) &\n",
    "            (~hdf5['variants']['FILTER_SubtelomericHypervariable'][:]) &\n",
    "            (hdf5['variants']['VQSLOD'][:] > VQSLOD_threshold)\n",
    "        )\n",
    "\n",
    "    df_variants['PASS'] = ix_good_calls\n",
    "    \n",
    "    for i, column in enumerate(['VARIANT_TYPE', 'MULTIALLELIC']):\n",
    "        df_variants[column].cat.categories = [\n",
    "            x.decode('ascii') for x in df_variants[column].cat.categories\n",
    "        ]\n",
    "\n",
    "    if len(groupby_variables) == 0:\n",
    "        df_variants['Total'] = 'Total'\n",
    "        groupby_variables = ['Total']\n",
    "    \n",
    "    \n",
    "    gb_all = df_variants.groupby(groupby_variables)\n",
    "    gb_pass = df_variants[df_variants['PASS']].groupby(groupby_variables)\n",
    "    \n",
    "    df_summary = pd.concat(\n",
    "        [\n",
    "            gb_all.size().rename(\"Discovered variant positions\"),\n",
    "            gb_pass.size().rename(\"Pass variant positions\"),\n",
    "            gb_pass['num_alleles'].sum().rename(\"Alleles\"),\n",
    "            gb_pass['AC'].sum().rename(\"Total AC\"),\n",
    "            gb_pass['AN'].sum().rename(\"Total AN\"),\n",
    "            gb_pass['Missingness'].mean().rename(\"Missingness\"),\n",
    "        ],\n",
    "        axis=1\n",
    "    )\n",
    "    df_summary[\"Mean NRAF\"] = df_summary[\"Total AC\"] / df_summary[\"Total AN\"]    \n",
    "    df_summary[\"% pass\"] = df_summary[\"Pass variant positions\"] / df_summary[\"Discovered variant positions\"]\n",
    "    df_summary[\"Alleles per position\"] = df_summary[\"Alleles\"] / df_summary[\"Pass variant positions\"]\n",
    "    df_summary[\"Variants per sample\"] = df_summary[\"Alleles\"] * df_summary[\"Mean NRAF\"]\n",
    "    \n",
    "    df_summary.sortlevel(range(len(groupby_variables)), ascending=ascending, inplace=True)\n",
    "    df_summary.reset_index(inplace=True)\n",
    "        \n",
    "    if 'MULTIALLELIC' in df_summary.columns:\n",
    "        df_summary = df_summary[df_summary['MULTIALLELIC'] != 'MIS']\n",
    "    \n",
    "    return(df_summary)\n",
    "    \n"
   ]
  },
  {
   "cell_type": "markdown",
   "metadata": {},
   "source": [
    "# Pf 6.0 variant counts"
   ]
  },
  {
   "cell_type": "code",
   "execution_count": 110,
   "metadata": {
    "collapsed": false
   },
   "outputs": [
    {
     "name": "stdout",
     "output_type": "stream",
     "text": [
      "CPU times: user 1min 2s, sys: 2.46 s, total: 1min 5s\n",
      "Wall time: 1min 5s\n"
     ]
    },
    {
     "data": {
      "text/html": [
       "<div>\n",
       "<table border=\"1\" class=\"dataframe\">\n",
       "  <thead>\n",
       "    <tr style=\"text-align: right;\">\n",
       "      <th></th>\n",
       "      <th>VARIANT_TYPE</th>\n",
       "      <th>CDS</th>\n",
       "      <th>Discovered variant positions</th>\n",
       "      <th>Pass variant positions</th>\n",
       "      <th>Alleles</th>\n",
       "      <th>Mean NRAF</th>\n",
       "      <th>Missingness</th>\n",
       "      <th>% pass</th>\n",
       "      <th>Alleles per position</th>\n",
       "      <th>Variants per sample</th>\n",
       "    </tr>\n",
       "  </thead>\n",
       "  <tbody>\n",
       "    <tr>\n",
       "      <th>0</th>\n",
       "      <td>SNP</td>\n",
       "      <td>True</td>\n",
       "      <td>1996153</td>\n",
       "      <td>1319276</td>\n",
       "      <td>1618268</td>\n",
       "      <td>0.007966</td>\n",
       "      <td>0.034135</td>\n",
       "      <td>0.660909</td>\n",
       "      <td>1.226633</td>\n",
       "      <td>12891.904221</td>\n",
       "    </tr>\n",
       "    <tr>\n",
       "      <th>1</th>\n",
       "      <td>SNP</td>\n",
       "      <td>False</td>\n",
       "      <td>1850432</td>\n",
       "      <td>858034</td>\n",
       "      <td>1151368</td>\n",
       "      <td>0.028157</td>\n",
       "      <td>0.086311</td>\n",
       "      <td>0.463694</td>\n",
       "      <td>1.341868</td>\n",
       "      <td>32419.209077</td>\n",
       "    </tr>\n",
       "    <tr>\n",
       "      <th>2</th>\n",
       "      <td>INDEL</td>\n",
       "      <td>True</td>\n",
       "      <td>672155</td>\n",
       "      <td>192190</td>\n",
       "      <td>576676</td>\n",
       "      <td>0.083389</td>\n",
       "      <td>0.060883</td>\n",
       "      <td>0.285931</td>\n",
       "      <td>3.000552</td>\n",
       "      <td>48088.650097</td>\n",
       "    </tr>\n",
       "    <tr>\n",
       "      <th>3</th>\n",
       "      <td>INDEL</td>\n",
       "      <td>False</td>\n",
       "      <td>1532956</td>\n",
       "      <td>745260</td>\n",
       "      <td>1971048</td>\n",
       "      <td>0.096900</td>\n",
       "      <td>0.172933</td>\n",
       "      <td>0.486159</td>\n",
       "      <td>2.644779</td>\n",
       "      <td>190994.502160</td>\n",
       "    </tr>\n",
       "  </tbody>\n",
       "</table>\n",
       "</div>"
      ],
      "text/plain": [
       "  VARIANT_TYPE    CDS  Discovered variant positions  Pass variant positions  \\\n",
       "0          SNP   True                       1996153                 1319276   \n",
       "1          SNP  False                       1850432                  858034   \n",
       "2        INDEL   True                        672155                  192190   \n",
       "3        INDEL  False                       1532956                  745260   \n",
       "\n",
       "   Alleles  Mean NRAF  Missingness    % pass  Alleles per position  \\\n",
       "0  1618268   0.007966     0.034135  0.660909              1.226633   \n",
       "1  1151368   0.028157     0.086311  0.463694              1.341868   \n",
       "2   576676   0.083389     0.060883  0.285931              3.000552   \n",
       "3  1971048   0.096900     0.172933  0.486159              2.644779   \n",
       "\n",
       "   Variants per sample  \n",
       "0         12891.904221  \n",
       "1         32419.209077  \n",
       "2         48088.650097  \n",
       "3        190994.502160  "
      ]
     },
     "execution_count": 110,
     "metadata": {},
     "output_type": "execute_result"
    }
   ],
   "source": [
    "%%time\n",
    "# This version was run before requiring ALT!='*'\n",
    "determine_variant_counts_hdf()"
   ]
  },
  {
   "cell_type": "code",
   "execution_count": 119,
   "metadata": {
    "collapsed": false
   },
   "outputs": [
    {
     "name": "stdout",
     "output_type": "stream",
     "text": [
      "CPU times: user 1min 50s, sys: 19.8 s, total: 2min 10s\n",
      "Wall time: 2min 9s\n"
     ]
    },
    {
     "data": {
      "text/html": [
       "<div>\n",
       "<table border=\"1\" class=\"dataframe\">\n",
       "  <thead>\n",
       "    <tr style=\"text-align: right;\">\n",
       "      <th></th>\n",
       "      <th>VARIANT_TYPE</th>\n",
       "      <th>CDS</th>\n",
       "      <th>Discovered variant positions</th>\n",
       "      <th>Pass variant positions</th>\n",
       "      <th>Alleles</th>\n",
       "      <th>Mean NRAF</th>\n",
       "      <th>Missingness</th>\n",
       "      <th>% pass</th>\n",
       "      <th>Alleles per position</th>\n",
       "      <th>Variants per sample</th>\n",
       "    </tr>\n",
       "  </thead>\n",
       "  <tbody>\n",
       "    <tr>\n",
       "      <th>0</th>\n",
       "      <td>SNP</td>\n",
       "      <td>True</td>\n",
       "      <td>1996153</td>\n",
       "      <td>1319276</td>\n",
       "      <td>1483638</td>\n",
       "      <td>0.004887</td>\n",
       "      <td>0.034135</td>\n",
       "      <td>0.660909</td>\n",
       "      <td>1.124585</td>\n",
       "      <td>7250.456961</td>\n",
       "    </tr>\n",
       "    <tr>\n",
       "      <th>1</th>\n",
       "      <td>SNP</td>\n",
       "      <td>False</td>\n",
       "      <td>1850432</td>\n",
       "      <td>858034</td>\n",
       "      <td>947421</td>\n",
       "      <td>0.006087</td>\n",
       "      <td>0.086311</td>\n",
       "      <td>0.463694</td>\n",
       "      <td>1.104177</td>\n",
       "      <td>5766.878858</td>\n",
       "    </tr>\n",
       "    <tr>\n",
       "      <th>2</th>\n",
       "      <td>INDEL</td>\n",
       "      <td>True</td>\n",
       "      <td>672155</td>\n",
       "      <td>192190</td>\n",
       "      <td>428081</td>\n",
       "      <td>0.029783</td>\n",
       "      <td>0.060883</td>\n",
       "      <td>0.285931</td>\n",
       "      <td>2.227384</td>\n",
       "      <td>12749.343709</td>\n",
       "    </tr>\n",
       "    <tr>\n",
       "      <th>3</th>\n",
       "      <td>INDEL</td>\n",
       "      <td>False</td>\n",
       "      <td>1532956</td>\n",
       "      <td>745260</td>\n",
       "      <td>1507015</td>\n",
       "      <td>0.035887</td>\n",
       "      <td>0.172933</td>\n",
       "      <td>0.486159</td>\n",
       "      <td>2.022133</td>\n",
       "      <td>54082.231567</td>\n",
       "    </tr>\n",
       "  </tbody>\n",
       "</table>\n",
       "</div>"
      ],
      "text/plain": [
       "  VARIANT_TYPE    CDS  Discovered variant positions  Pass variant positions  \\\n",
       "0          SNP   True                       1996153                 1319276   \n",
       "1          SNP  False                       1850432                  858034   \n",
       "2        INDEL   True                        672155                  192190   \n",
       "3        INDEL  False                       1532956                  745260   \n",
       "\n",
       "   Alleles  Mean NRAF  Missingness    % pass  Alleles per position  \\\n",
       "0  1483638   0.004887     0.034135  0.660909              1.124585   \n",
       "1   947421   0.006087     0.086311  0.463694              1.104177   \n",
       "2   428081   0.029783     0.060883  0.285931              2.227384   \n",
       "3  1507015   0.035887     0.172933  0.486159              2.022133   \n",
       "\n",
       "   Variants per sample  \n",
       "0          7250.456961  \n",
       "1          5766.878858  \n",
       "2         12749.343709  \n",
       "3         54082.231567  "
      ]
     },
     "execution_count": 119,
     "metadata": {},
     "output_type": "execute_result"
    }
   ],
   "source": [
    "%%time\n",
    "# This was when Mean NRAF by position, rather than by allele\n",
    "determine_variant_counts_hdf()"
   ]
  },
  {
   "cell_type": "code",
   "execution_count": 124,
   "metadata": {
    "collapsed": false
   },
   "outputs": [
    {
     "name": "stdout",
     "output_type": "stream",
     "text": [
      "CPU times: user 2min 47s, sys: 20.2 s, total: 3min 7s\n",
      "Wall time: 3min 7s\n"
     ]
    },
    {
     "data": {
      "text/html": [
       "<div>\n",
       "<table border=\"1\" class=\"dataframe\">\n",
       "  <thead>\n",
       "    <tr style=\"text-align: right;\">\n",
       "      <th></th>\n",
       "      <th>VARIANT_TYPE</th>\n",
       "      <th>CDS</th>\n",
       "      <th>Discovered variant positions</th>\n",
       "      <th>Pass variant positions</th>\n",
       "      <th>Alleles</th>\n",
       "      <th>Total AC</th>\n",
       "      <th>Total AN</th>\n",
       "      <th>Missingness</th>\n",
       "      <th>Mean NRAF</th>\n",
       "      <th>% pass</th>\n",
       "      <th>Alleles per position</th>\n",
       "      <th>Variants per sample</th>\n",
       "    </tr>\n",
       "  </thead>\n",
       "  <tbody>\n",
       "    <tr>\n",
       "      <th>0</th>\n",
       "      <td>SNP</td>\n",
       "      <td>True</td>\n",
       "      <td>1996153</td>\n",
       "      <td>1319276</td>\n",
       "      <td>1483638</td>\n",
       "      <td>87186083</td>\n",
       "      <td>20582004452</td>\n",
       "      <td>0.034135</td>\n",
       "      <td>0.004236</td>\n",
       "      <td>0.660909</td>\n",
       "      <td>1.124585</td>\n",
       "      <td>6284.741902</td>\n",
       "    </tr>\n",
       "    <tr>\n",
       "      <th>1</th>\n",
       "      <td>SNP</td>\n",
       "      <td>False</td>\n",
       "      <td>1850432</td>\n",
       "      <td>858034</td>\n",
       "      <td>947421</td>\n",
       "      <td>64233184</td>\n",
       "      <td>12452397460</td>\n",
       "      <td>0.086311</td>\n",
       "      <td>0.005158</td>\n",
       "      <td>0.463694</td>\n",
       "      <td>1.104177</td>\n",
       "      <td>4887.080389</td>\n",
       "    </tr>\n",
       "    <tr>\n",
       "      <th>2</th>\n",
       "      <td>INDEL</td>\n",
       "      <td>True</td>\n",
       "      <td>672155</td>\n",
       "      <td>192190</td>\n",
       "      <td>428081</td>\n",
       "      <td>74461841</td>\n",
       "      <td>5757249718</td>\n",
       "      <td>0.060883</td>\n",
       "      <td>0.012934</td>\n",
       "      <td>0.285931</td>\n",
       "      <td>2.227384</td>\n",
       "      <td>5536.619205</td>\n",
       "    </tr>\n",
       "    <tr>\n",
       "      <th>3</th>\n",
       "      <td>INDEL</td>\n",
       "      <td>False</td>\n",
       "      <td>1532956</td>\n",
       "      <td>745260</td>\n",
       "      <td>1507015</td>\n",
       "      <td>306226303</td>\n",
       "      <td>17778067670</td>\n",
       "      <td>0.172933</td>\n",
       "      <td>0.017225</td>\n",
       "      <td>0.486159</td>\n",
       "      <td>2.022133</td>\n",
       "      <td>25958.256014</td>\n",
       "    </tr>\n",
       "  </tbody>\n",
       "</table>\n",
       "</div>"
      ],
      "text/plain": [
       "  VARIANT_TYPE    CDS  Discovered variant positions  Pass variant positions  \\\n",
       "0          SNP   True                       1996153                 1319276   \n",
       "1          SNP  False                       1850432                  858034   \n",
       "2        INDEL   True                        672155                  192190   \n",
       "3        INDEL  False                       1532956                  745260   \n",
       "\n",
       "   Alleles   Total AC     Total AN  Missingness  Mean NRAF    % pass  \\\n",
       "0  1483638   87186083  20582004452     0.034135   0.004236  0.660909   \n",
       "1   947421   64233184  12452397460     0.086311   0.005158  0.463694   \n",
       "2   428081   74461841   5757249718     0.060883   0.012934  0.285931   \n",
       "3  1507015  306226303  17778067670     0.172933   0.017225  0.486159   \n",
       "\n",
       "   Alleles per position  Variants per sample  \n",
       "0              1.124585          6284.741902  \n",
       "1              1.104177          4887.080389  \n",
       "2              2.227384          5536.619205  \n",
       "3              2.022133         25958.256014  "
      ]
     },
     "execution_count": 124,
     "metadata": {},
     "output_type": "execute_result"
    }
   ],
   "source": [
    "%%time\n",
    "determine_variant_counts_hdf()"
   ]
  },
  {
   "cell_type": "code",
   "execution_count": 102,
   "metadata": {
    "collapsed": false
   },
   "outputs": [
    {
     "name": "stdout",
     "output_type": "stream",
     "text": [
      "CPU times: user 1min 38s, sys: 4.84 s, total: 1min 43s\n",
      "Wall time: 1min 43s\n"
     ]
    },
    {
     "data": {
      "text/html": [
       "<div>\n",
       "<table border=\"1\" class=\"dataframe\">\n",
       "  <thead>\n",
       "    <tr style=\"text-align: right;\">\n",
       "      <th></th>\n",
       "      <th>VARIANT_TYPE</th>\n",
       "      <th>CDS</th>\n",
       "      <th>Discovered variant positions</th>\n",
       "      <th>Pass variant positions</th>\n",
       "      <th>Alleles</th>\n",
       "      <th>Mean NRAF</th>\n",
       "      <th>Missingness</th>\n",
       "      <th>% pass</th>\n",
       "      <th>Alleles per position</th>\n",
       "      <th>Variants per sample</th>\n",
       "    </tr>\n",
       "  </thead>\n",
       "  <tbody>\n",
       "    <tr>\n",
       "      <th>0</th>\n",
       "      <td>SNP</td>\n",
       "      <td>True</td>\n",
       "      <td>1996153</td>\n",
       "      <td>1319276.0</td>\n",
       "      <td>1483638.0</td>\n",
       "      <td>0.004346</td>\n",
       "      <td>0.034206</td>\n",
       "      <td>0.660909</td>\n",
       "      <td>1.124585</td>\n",
       "      <td>6447.228945</td>\n",
       "    </tr>\n",
       "    <tr>\n",
       "      <th>1</th>\n",
       "      <td>SNP</td>\n",
       "      <td>False</td>\n",
       "      <td>1850432</td>\n",
       "      <td>858034.0</td>\n",
       "      <td>947421.0</td>\n",
       "      <td>0.005513</td>\n",
       "      <td>0.084972</td>\n",
       "      <td>0.463694</td>\n",
       "      <td>1.104177</td>\n",
       "      <td>5222.787054</td>\n",
       "    </tr>\n",
       "    <tr>\n",
       "      <th>2</th>\n",
       "      <td>IND</td>\n",
       "      <td>True</td>\n",
       "      <td>672155</td>\n",
       "      <td>192190.0</td>\n",
       "      <td>428081.0</td>\n",
       "      <td>0.013371</td>\n",
       "      <td>0.063703</td>\n",
       "      <td>0.285931</td>\n",
       "      <td>2.227384</td>\n",
       "      <td>5723.908250</td>\n",
       "    </tr>\n",
       "    <tr>\n",
       "      <th>3</th>\n",
       "      <td>IND</td>\n",
       "      <td>False</td>\n",
       "      <td>1532955</td>\n",
       "      <td>745260.0</td>\n",
       "      <td>1507014.0</td>\n",
       "      <td>0.017747</td>\n",
       "      <td>0.178719</td>\n",
       "      <td>0.486159</td>\n",
       "      <td>2.022132</td>\n",
       "      <td>26745.137765</td>\n",
       "    </tr>\n",
       "    <tr>\n",
       "      <th>4</th>\n",
       "      <td></td>\n",
       "      <td>False</td>\n",
       "      <td>35</td>\n",
       "      <td>NaN</td>\n",
       "      <td>NaN</td>\n",
       "      <td>NaN</td>\n",
       "      <td>NaN</td>\n",
       "      <td>NaN</td>\n",
       "      <td>NaN</td>\n",
       "      <td>NaN</td>\n",
       "    </tr>\n",
       "  </tbody>\n",
       "</table>\n",
       "</div>"
      ],
      "text/plain": [
       "  VARIANT_TYPE    CDS  Discovered variant positions  Pass variant positions  \\\n",
       "0          SNP   True                       1996153               1319276.0   \n",
       "1          SNP  False                       1850432                858034.0   \n",
       "2          IND   True                        672155                192190.0   \n",
       "3          IND  False                       1532955                745260.0   \n",
       "4               False                            35                     NaN   \n",
       "\n",
       "     Alleles  Mean NRAF  Missingness    % pass  Alleles per position  \\\n",
       "0  1483638.0   0.004346     0.034206  0.660909              1.124585   \n",
       "1   947421.0   0.005513     0.084972  0.463694              1.104177   \n",
       "2   428081.0   0.013371     0.063703  0.285931              2.227384   \n",
       "3  1507014.0   0.017747     0.178719  0.486159              2.022132   \n",
       "4        NaN        NaN          NaN       NaN                   NaN   \n",
       "\n",
       "   Variants per sample  \n",
       "0          6447.228945  \n",
       "1          5222.787054  \n",
       "2          5723.908250  \n",
       "3         26745.137765  \n",
       "4                  NaN  "
      ]
     },
     "execution_count": 102,
     "metadata": {},
     "output_type": "execute_result"
    }
   ],
   "source": [
    "%%time\n",
    "determine_variant_counts()"
   ]
  },
  {
   "cell_type": "code",
   "execution_count": 14,
   "metadata": {
    "collapsed": false
   },
   "outputs": [
    {
     "data": {
      "text/html": [
       "<div>\n",
       "<table border=\"1\" class=\"dataframe\">\n",
       "  <thead>\n",
       "    <tr style=\"text-align: right;\">\n",
       "      <th></th>\n",
       "      <th>Total</th>\n",
       "      <th>Discovered variant positions</th>\n",
       "      <th>Pass variant positions</th>\n",
       "      <th>Alleles</th>\n",
       "      <th>Mean NRAF</th>\n",
       "      <th>Missingness</th>\n",
       "      <th>% pass</th>\n",
       "      <th>Alleles per position</th>\n",
       "      <th>Variants per sample</th>\n",
       "    </tr>\n",
       "  </thead>\n",
       "  <tbody>\n",
       "    <tr>\n",
       "      <th>0</th>\n",
       "      <td>Total</td>\n",
       "      <td>6051698</td>\n",
       "      <td>3114760</td>\n",
       "      <td>4366154</td>\n",
       "      <td>0.010109</td>\n",
       "      <td>0.097994</td>\n",
       "      <td>0.514692</td>\n",
       "      <td>1.401763</td>\n",
       "      <td>44139.062014</td>\n",
       "    </tr>\n",
       "  </tbody>\n",
       "</table>\n",
       "</div>"
      ],
      "text/plain": [
       "   Total  Discovered variant positions  Pass variant positions  Alleles  \\\n",
       "0  Total                       6051698                 3114760  4366154   \n",
       "\n",
       "   Mean NRAF  Missingness    % pass  Alleles per position  Variants per sample  \n",
       "0   0.010109     0.097994  0.514692              1.401763         44139.062014  "
      ]
     },
     "execution_count": 14,
     "metadata": {},
     "output_type": "execute_result"
    }
   ],
   "source": [
    "determine_variant_counts(groupby_variables=[])"
   ]
  },
  {
   "cell_type": "code",
   "execution_count": 125,
   "metadata": {
    "collapsed": false
   },
   "outputs": [
    {
     "data": {
      "text/html": [
       "<div>\n",
       "<table border=\"1\" class=\"dataframe\">\n",
       "  <thead>\n",
       "    <tr style=\"text-align: right;\">\n",
       "      <th></th>\n",
       "      <th>Total</th>\n",
       "      <th>Discovered variant positions</th>\n",
       "      <th>Pass variant positions</th>\n",
       "      <th>Alleles</th>\n",
       "      <th>Total AC</th>\n",
       "      <th>Total AN</th>\n",
       "      <th>Missingness</th>\n",
       "      <th>Mean NRAF</th>\n",
       "      <th>% pass</th>\n",
       "      <th>Alleles per position</th>\n",
       "      <th>Variants per sample</th>\n",
       "    </tr>\n",
       "  </thead>\n",
       "  <tbody>\n",
       "    <tr>\n",
       "      <th>0</th>\n",
       "      <td>Total</td>\n",
       "      <td>6051696</td>\n",
       "      <td>3114760</td>\n",
       "      <td>4366155</td>\n",
       "      <td>532107411</td>\n",
       "      <td>56569719300</td>\n",
       "      <td>0.083369</td>\n",
       "      <td>0.009406</td>\n",
       "      <td>0.514692</td>\n",
       "      <td>1.401763</td>\n",
       "      <td>41069.028834</td>\n",
       "    </tr>\n",
       "  </tbody>\n",
       "</table>\n",
       "</div>"
      ],
      "text/plain": [
       "   Total  Discovered variant positions  Pass variant positions  Alleles  \\\n",
       "0  Total                       6051696                 3114760  4366155   \n",
       "\n",
       "    Total AC     Total AN  Missingness  Mean NRAF    % pass  \\\n",
       "0  532107411  56569719300     0.083369   0.009406  0.514692   \n",
       "\n",
       "   Alleles per position  Variants per sample  \n",
       "0              1.401763         41069.028834  "
      ]
     },
     "execution_count": 125,
     "metadata": {},
     "output_type": "execute_result"
    }
   ],
   "source": [
    "determine_variant_counts_hdf(groupby_variables=[])"
   ]
  },
  {
   "cell_type": "code",
   "execution_count": 132,
   "metadata": {
    "collapsed": false
   },
   "outputs": [
    {
     "data": {
      "text/html": [
       "<div>\n",
       "<table border=\"1\" class=\"dataframe\">\n",
       "  <thead>\n",
       "    <tr style=\"text-align: right;\">\n",
       "      <th></th>\n",
       "      <th>VARIANT_TYPE</th>\n",
       "      <th>CDS</th>\n",
       "      <th>MULTIALLELIC</th>\n",
       "      <th>Discovered variant positions</th>\n",
       "      <th>Pass variant positions</th>\n",
       "      <th>Alleles</th>\n",
       "      <th>Mean NRAF</th>\n",
       "      <th>Missingness</th>\n",
       "      <th>% pass</th>\n",
       "      <th>Alleles per position</th>\n",
       "      <th>Variants per sample</th>\n",
       "    </tr>\n",
       "  </thead>\n",
       "  <tbody>\n",
       "    <tr>\n",
       "      <th>0</th>\n",
       "      <td>SNP</td>\n",
       "      <td>True</td>\n",
       "      <td>BI</td>\n",
       "      <td>1590717</td>\n",
       "      <td>1044869.0</td>\n",
       "      <td>1044869.0</td>\n",
       "      <td>0.004359</td>\n",
       "      <td>0.032077</td>\n",
       "      <td>0.656854</td>\n",
       "      <td>1.000000</td>\n",
       "      <td>4554.065283</td>\n",
       "    </tr>\n",
       "    <tr>\n",
       "      <th>1</th>\n",
       "      <td>SNP</td>\n",
       "      <td>True</td>\n",
       "      <td>MU</td>\n",
       "      <td>236939</td>\n",
       "      <td>155084.0</td>\n",
       "      <td>319446.0</td>\n",
       "      <td>0.004191</td>\n",
       "      <td>0.034711</td>\n",
       "      <td>0.654531</td>\n",
       "      <td>2.059826</td>\n",
       "      <td>1338.787576</td>\n",
       "    </tr>\n",
       "    <tr>\n",
       "      <th>2</th>\n",
       "      <td>SNP</td>\n",
       "      <td>True</td>\n",
       "      <td>SD</td>\n",
       "      <td>168497</td>\n",
       "      <td>119323.0</td>\n",
       "      <td>119323.0</td>\n",
       "      <td>0.004646</td>\n",
       "      <td>0.051499</td>\n",
       "      <td>0.708161</td>\n",
       "      <td>1.000000</td>\n",
       "      <td>554.376087</td>\n",
       "    </tr>\n",
       "    <tr>\n",
       "      <th>3</th>\n",
       "      <td>SNP</td>\n",
       "      <td>False</td>\n",
       "      <td>BI</td>\n",
       "      <td>1203255</td>\n",
       "      <td>582017.0</td>\n",
       "      <td>582017.0</td>\n",
       "      <td>0.005051</td>\n",
       "      <td>0.065618</td>\n",
       "      <td>0.483702</td>\n",
       "      <td>1.000000</td>\n",
       "      <td>2939.619675</td>\n",
       "    </tr>\n",
       "    <tr>\n",
       "      <th>4</th>\n",
       "      <td>SNP</td>\n",
       "      <td>False</td>\n",
       "      <td>MU</td>\n",
       "      <td>266915</td>\n",
       "      <td>85097.0</td>\n",
       "      <td>174484.0</td>\n",
       "      <td>0.005298</td>\n",
       "      <td>0.072221</td>\n",
       "      <td>0.318817</td>\n",
       "      <td>2.050413</td>\n",
       "      <td>924.360164</td>\n",
       "    </tr>\n",
       "    <tr>\n",
       "      <th>5</th>\n",
       "      <td>SNP</td>\n",
       "      <td>False</td>\n",
       "      <td>SD</td>\n",
       "      <td>380262</td>\n",
       "      <td>190920.0</td>\n",
       "      <td>190920.0</td>\n",
       "      <td>0.007117</td>\n",
       "      <td>0.155623</td>\n",
       "      <td>0.502075</td>\n",
       "      <td>1.000000</td>\n",
       "      <td>1358.807215</td>\n",
       "    </tr>\n",
       "    <tr>\n",
       "      <th>6</th>\n",
       "      <td>IND</td>\n",
       "      <td>True</td>\n",
       "      <td>BI</td>\n",
       "      <td>80037</td>\n",
       "      <td>19059.0</td>\n",
       "      <td>19059.0</td>\n",
       "      <td>0.004266</td>\n",
       "      <td>0.041287</td>\n",
       "      <td>0.238127</td>\n",
       "      <td>1.000000</td>\n",
       "      <td>81.309240</td>\n",
       "    </tr>\n",
       "    <tr>\n",
       "      <th>7</th>\n",
       "      <td>IND</td>\n",
       "      <td>True</td>\n",
       "      <td>MU</td>\n",
       "      <td>480615</td>\n",
       "      <td>109642.0</td>\n",
       "      <td>345533.0</td>\n",
       "      <td>0.015204</td>\n",
       "      <td>0.065170</td>\n",
       "      <td>0.228129</td>\n",
       "      <td>3.151466</td>\n",
       "      <td>5253.590294</td>\n",
       "    </tr>\n",
       "    <tr>\n",
       "      <th>8</th>\n",
       "      <td>IND</td>\n",
       "      <td>True</td>\n",
       "      <td>SD</td>\n",
       "      <td>111503</td>\n",
       "      <td>63489.0</td>\n",
       "      <td>63489.0</td>\n",
       "      <td>0.006127</td>\n",
       "      <td>0.062447</td>\n",
       "      <td>0.569393</td>\n",
       "      <td>1.000000</td>\n",
       "      <td>389.008716</td>\n",
       "    </tr>\n",
       "    <tr>\n",
       "      <th>9</th>\n",
       "      <td>IND</td>\n",
       "      <td>False</td>\n",
       "      <td>BI</td>\n",
       "      <td>254006</td>\n",
       "      <td>139792.0</td>\n",
       "      <td>139792.0</td>\n",
       "      <td>0.003324</td>\n",
       "      <td>0.097701</td>\n",
       "      <td>0.550349</td>\n",
       "      <td>1.000000</td>\n",
       "      <td>464.615163</td>\n",
       "    </tr>\n",
       "    <tr>\n",
       "      <th>10</th>\n",
       "      <td>IND</td>\n",
       "      <td>False</td>\n",
       "      <td>MU</td>\n",
       "      <td>883088</td>\n",
       "      <td>345755.0</td>\n",
       "      <td>1107509.0</td>\n",
       "      <td>0.022401</td>\n",
       "      <td>0.182756</td>\n",
       "      <td>0.391529</td>\n",
       "      <td>3.203161</td>\n",
       "      <td>24808.983328</td>\n",
       "    </tr>\n",
       "    <tr>\n",
       "      <th>11</th>\n",
       "      <td>IND</td>\n",
       "      <td>False</td>\n",
       "      <td>SD</td>\n",
       "      <td>395861</td>\n",
       "      <td>259713.0</td>\n",
       "      <td>259713.0</td>\n",
       "      <td>0.005666</td>\n",
       "      <td>0.205113</td>\n",
       "      <td>0.656071</td>\n",
       "      <td>1.000000</td>\n",
       "      <td>1471.539273</td>\n",
       "    </tr>\n",
       "    <tr>\n",
       "      <th>12</th>\n",
       "      <td></td>\n",
       "      <td>False</td>\n",
       "      <td></td>\n",
       "      <td>35</td>\n",
       "      <td>NaN</td>\n",
       "      <td>NaN</td>\n",
       "      <td>NaN</td>\n",
       "      <td>NaN</td>\n",
       "      <td>NaN</td>\n",
       "      <td>NaN</td>\n",
       "      <td>NaN</td>\n",
       "    </tr>\n",
       "  </tbody>\n",
       "</table>\n",
       "</div>"
      ],
      "text/plain": [
       "   VARIANT_TYPE    CDS MULTIALLELIC  Discovered variant positions  \\\n",
       "0           SNP   True           BI                       1590717   \n",
       "1           SNP   True           MU                        236939   \n",
       "2           SNP   True           SD                        168497   \n",
       "3           SNP  False           BI                       1203255   \n",
       "4           SNP  False           MU                        266915   \n",
       "5           SNP  False           SD                        380262   \n",
       "6           IND   True           BI                         80037   \n",
       "7           IND   True           MU                        480615   \n",
       "8           IND   True           SD                        111503   \n",
       "9           IND  False           BI                        254006   \n",
       "10          IND  False           MU                        883088   \n",
       "11          IND  False           SD                        395861   \n",
       "12               False                                         35   \n",
       "\n",
       "    Pass variant positions    Alleles  Mean NRAF  Missingness    % pass  \\\n",
       "0                1044869.0  1044869.0   0.004359     0.032077  0.656854   \n",
       "1                 155084.0   319446.0   0.004191     0.034711  0.654531   \n",
       "2                 119323.0   119323.0   0.004646     0.051499  0.708161   \n",
       "3                 582017.0   582017.0   0.005051     0.065618  0.483702   \n",
       "4                  85097.0   174484.0   0.005298     0.072221  0.318817   \n",
       "5                 190920.0   190920.0   0.007117     0.155623  0.502075   \n",
       "6                  19059.0    19059.0   0.004266     0.041287  0.238127   \n",
       "7                 109642.0   345533.0   0.015204     0.065170  0.228129   \n",
       "8                  63489.0    63489.0   0.006127     0.062447  0.569393   \n",
       "9                 139792.0   139792.0   0.003324     0.097701  0.550349   \n",
       "10                345755.0  1107509.0   0.022401     0.182756  0.391529   \n",
       "11                259713.0   259713.0   0.005666     0.205113  0.656071   \n",
       "12                     NaN        NaN        NaN          NaN       NaN   \n",
       "\n",
       "    Alleles per position  Variants per sample  \n",
       "0               1.000000          4554.065283  \n",
       "1               2.059826          1338.787576  \n",
       "2               1.000000           554.376087  \n",
       "3               1.000000          2939.619675  \n",
       "4               2.050413           924.360164  \n",
       "5               1.000000          1358.807215  \n",
       "6               1.000000            81.309240  \n",
       "7               3.151466          5253.590294  \n",
       "8               1.000000           389.008716  \n",
       "9               1.000000           464.615163  \n",
       "10              3.203161         24808.983328  \n",
       "11              1.000000          1471.539273  \n",
       "12                   NaN                  NaN  "
      ]
     },
     "execution_count": 132,
     "metadata": {},
     "output_type": "execute_result"
    }
   ],
   "source": [
    "%%time\n",
    "determine_variant_counts(groupby_variables = ['VARIANT_TYPE', 'CDS', 'MULTIALLELIC'])"
   ]
  },
  {
   "cell_type": "code",
   "execution_count": 133,
   "metadata": {
    "collapsed": false
   },
   "outputs": [
    {
     "name": "stdout",
     "output_type": "stream",
     "text": [
      "CPU times: user 2min 47s, sys: 21 s, total: 3min 8s\n",
      "Wall time: 3min 9s\n"
     ]
    },
    {
     "data": {
      "text/html": [
       "<div>\n",
       "<table border=\"1\" class=\"dataframe\">\n",
       "  <thead>\n",
       "    <tr style=\"text-align: right;\">\n",
       "      <th></th>\n",
       "      <th>VARIANT_TYPE</th>\n",
       "      <th>CDS</th>\n",
       "      <th>MULTIALLELIC</th>\n",
       "      <th>Discovered variant positions</th>\n",
       "      <th>Pass variant positions</th>\n",
       "      <th>Alleles</th>\n",
       "      <th>Total AC</th>\n",
       "      <th>Total AN</th>\n",
       "      <th>Missingness</th>\n",
       "      <th>Mean NRAF</th>\n",
       "      <th>% pass</th>\n",
       "      <th>Alleles per position</th>\n",
       "      <th>Variants per sample</th>\n",
       "    </tr>\n",
       "  </thead>\n",
       "  <tbody>\n",
       "    <tr>\n",
       "      <th>0</th>\n",
       "      <td>SNP</td>\n",
       "      <td>True</td>\n",
       "      <td>BI</td>\n",
       "      <td>1590717</td>\n",
       "      <td>1044869</td>\n",
       "      <td>1044869</td>\n",
       "      <td>62283667</td>\n",
       "      <td>14527066052</td>\n",
       "      <td>0.032077</td>\n",
       "      <td>0.004287</td>\n",
       "      <td>0.656854</td>\n",
       "      <td>1.000000</td>\n",
       "      <td>4479.794655</td>\n",
       "    </tr>\n",
       "    <tr>\n",
       "      <th>1</th>\n",
       "      <td>SNP</td>\n",
       "      <td>True</td>\n",
       "      <td>MU</td>\n",
       "      <td>236939</td>\n",
       "      <td>155084</td>\n",
       "      <td>319446</td>\n",
       "      <td>18033715</td>\n",
       "      <td>4429250150</td>\n",
       "      <td>0.034641</td>\n",
       "      <td>0.004072</td>\n",
       "      <td>0.654531</td>\n",
       "      <td>2.059826</td>\n",
       "      <td>1300.626049</td>\n",
       "    </tr>\n",
       "    <tr>\n",
       "      <th>2</th>\n",
       "      <td>SNP</td>\n",
       "      <td>True</td>\n",
       "      <td>SD</td>\n",
       "      <td>168497</td>\n",
       "      <td>119323</td>\n",
       "      <td>119323</td>\n",
       "      <td>6868701</td>\n",
       "      <td>1625688250</td>\n",
       "      <td>0.051499</td>\n",
       "      <td>0.004225</td>\n",
       "      <td>0.708161</td>\n",
       "      <td>1.000000</td>\n",
       "      <td>504.152016</td>\n",
       "    </tr>\n",
       "    <tr>\n",
       "      <th>3</th>\n",
       "      <td>SNP</td>\n",
       "      <td>False</td>\n",
       "      <td>BI</td>\n",
       "      <td>1203255</td>\n",
       "      <td>582017</td>\n",
       "      <td>582017</td>\n",
       "      <td>37969142</td>\n",
       "      <td>7811517188</td>\n",
       "      <td>0.065618</td>\n",
       "      <td>0.004861</td>\n",
       "      <td>0.483702</td>\n",
       "      <td>1.000000</td>\n",
       "      <td>2828.987710</td>\n",
       "    </tr>\n",
       "    <tr>\n",
       "      <th>4</th>\n",
       "      <td>SNP</td>\n",
       "      <td>False</td>\n",
       "      <td>MU</td>\n",
       "      <td>266915</td>\n",
       "      <td>85097</td>\n",
       "      <td>174484</td>\n",
       "      <td>11463610</td>\n",
       "      <td>2325281270</td>\n",
       "      <td>0.072337</td>\n",
       "      <td>0.004930</td>\n",
       "      <td>0.318817</td>\n",
       "      <td>2.050413</td>\n",
       "      <td>860.204119</td>\n",
       "    </tr>\n",
       "    <tr>\n",
       "      <th>5</th>\n",
       "      <td>SNP</td>\n",
       "      <td>False</td>\n",
       "      <td>SD</td>\n",
       "      <td>380262</td>\n",
       "      <td>190920</td>\n",
       "      <td>190920</td>\n",
       "      <td>14800432</td>\n",
       "      <td>2315599002</td>\n",
       "      <td>0.155623</td>\n",
       "      <td>0.006392</td>\n",
       "      <td>0.502075</td>\n",
       "      <td>1.000000</td>\n",
       "      <td>1220.288347</td>\n",
       "    </tr>\n",
       "    <tr>\n",
       "      <th>6</th>\n",
       "      <td>INDEL</td>\n",
       "      <td>True</td>\n",
       "      <td>BI</td>\n",
       "      <td>80037</td>\n",
       "      <td>19059</td>\n",
       "      <td>19059</td>\n",
       "      <td>1093481</td>\n",
       "      <td>262460724</td>\n",
       "      <td>0.041287</td>\n",
       "      <td>0.004166</td>\n",
       "      <td>0.238127</td>\n",
       "      <td>1.000000</td>\n",
       "      <td>79.404850</td>\n",
       "    </tr>\n",
       "    <tr>\n",
       "      <th>7</th>\n",
       "      <td>INDEL</td>\n",
       "      <td>True</td>\n",
       "      <td>MU</td>\n",
       "      <td>480615</td>\n",
       "      <td>109642</td>\n",
       "      <td>345533</td>\n",
       "      <td>68364740</td>\n",
       "      <td>4639781854</td>\n",
       "      <td>0.063384</td>\n",
       "      <td>0.014734</td>\n",
       "      <td>0.228129</td>\n",
       "      <td>3.151466</td>\n",
       "      <td>5091.246625</td>\n",
       "    </tr>\n",
       "    <tr>\n",
       "      <th>8</th>\n",
       "      <td>INDEL</td>\n",
       "      <td>True</td>\n",
       "      <td>SD</td>\n",
       "      <td>111503</td>\n",
       "      <td>63489</td>\n",
       "      <td>63489</td>\n",
       "      <td>5003620</td>\n",
       "      <td>855007140</td>\n",
       "      <td>0.062447</td>\n",
       "      <td>0.005852</td>\n",
       "      <td>0.569393</td>\n",
       "      <td>1.000000</td>\n",
       "      <td>371.546406</td>\n",
       "    </tr>\n",
       "    <tr>\n",
       "      <th>9</th>\n",
       "      <td>INDEL</td>\n",
       "      <td>False</td>\n",
       "      <td>BI</td>\n",
       "      <td>254007</td>\n",
       "      <td>139792</td>\n",
       "      <td>139792</td>\n",
       "      <td>5726895</td>\n",
       "      <td>1811791500</td>\n",
       "      <td>0.097701</td>\n",
       "      <td>0.003161</td>\n",
       "      <td>0.550347</td>\n",
       "      <td>1.000000</td>\n",
       "      <td>441.868783</td>\n",
       "    </tr>\n",
       "    <tr>\n",
       "      <th>10</th>\n",
       "      <td>INDEL</td>\n",
       "      <td>False</td>\n",
       "      <td>MU</td>\n",
       "      <td>883088</td>\n",
       "      <td>345755</td>\n",
       "      <td>1107510</td>\n",
       "      <td>284834875</td>\n",
       "      <td>13000937860</td>\n",
       "      <td>0.179177</td>\n",
       "      <td>0.021909</td>\n",
       "      <td>0.391529</td>\n",
       "      <td>3.203164</td>\n",
       "      <td>24264.208922</td>\n",
       "    </tr>\n",
       "    <tr>\n",
       "      <th>11</th>\n",
       "      <td>INDEL</td>\n",
       "      <td>False</td>\n",
       "      <td>SD</td>\n",
       "      <td>395861</td>\n",
       "      <td>259713</td>\n",
       "      <td>259713</td>\n",
       "      <td>15664533</td>\n",
       "      <td>2965338310</td>\n",
       "      <td>0.205113</td>\n",
       "      <td>0.005283</td>\n",
       "      <td>0.656071</td>\n",
       "      <td>1.000000</td>\n",
       "      <td>1371.945604</td>\n",
       "    </tr>\n",
       "  </tbody>\n",
       "</table>\n",
       "</div>"
      ],
      "text/plain": [
       "   VARIANT_TYPE    CDS MULTIALLELIC  Discovered variant positions  \\\n",
       "0           SNP   True           BI                       1590717   \n",
       "1           SNP   True           MU                        236939   \n",
       "2           SNP   True           SD                        168497   \n",
       "3           SNP  False           BI                       1203255   \n",
       "4           SNP  False           MU                        266915   \n",
       "5           SNP  False           SD                        380262   \n",
       "6         INDEL   True           BI                         80037   \n",
       "7         INDEL   True           MU                        480615   \n",
       "8         INDEL   True           SD                        111503   \n",
       "9         INDEL  False           BI                        254007   \n",
       "10        INDEL  False           MU                        883088   \n",
       "11        INDEL  False           SD                        395861   \n",
       "\n",
       "    Pass variant positions  Alleles   Total AC     Total AN  Missingness  \\\n",
       "0                  1044869  1044869   62283667  14527066052     0.032077   \n",
       "1                   155084   319446   18033715   4429250150     0.034641   \n",
       "2                   119323   119323    6868701   1625688250     0.051499   \n",
       "3                   582017   582017   37969142   7811517188     0.065618   \n",
       "4                    85097   174484   11463610   2325281270     0.072337   \n",
       "5                   190920   190920   14800432   2315599002     0.155623   \n",
       "6                    19059    19059    1093481    262460724     0.041287   \n",
       "7                   109642   345533   68364740   4639781854     0.063384   \n",
       "8                    63489    63489    5003620    855007140     0.062447   \n",
       "9                   139792   139792    5726895   1811791500     0.097701   \n",
       "10                  345755  1107510  284834875  13000937860     0.179177   \n",
       "11                  259713   259713   15664533   2965338310     0.205113   \n",
       "\n",
       "    Mean NRAF    % pass  Alleles per position  Variants per sample  \n",
       "0    0.004287  0.656854              1.000000          4479.794655  \n",
       "1    0.004072  0.654531              2.059826          1300.626049  \n",
       "2    0.004225  0.708161              1.000000           504.152016  \n",
       "3    0.004861  0.483702              1.000000          2828.987710  \n",
       "4    0.004930  0.318817              2.050413           860.204119  \n",
       "5    0.006392  0.502075              1.000000          1220.288347  \n",
       "6    0.004166  0.238127              1.000000            79.404850  \n",
       "7    0.014734  0.228129              3.151466          5091.246625  \n",
       "8    0.005852  0.569393              1.000000           371.546406  \n",
       "9    0.003161  0.550347              1.000000           441.868783  \n",
       "10   0.021909  0.391529              3.203164         24264.208922  \n",
       "11   0.005283  0.656071              1.000000          1371.945604  "
      ]
     },
     "execution_count": 133,
     "metadata": {},
     "output_type": "execute_result"
    }
   ],
   "source": [
    "%%time\n",
    "determine_variant_counts_hdf(groupby_variables = ['VARIANT_TYPE', 'CDS', 'MULTIALLELIC'])"
   ]
  },
  {
   "cell_type": "code",
   "execution_count": 137,
   "metadata": {
    "collapsed": false
   },
   "outputs": [
    {
     "name": "stdout",
     "output_type": "stream",
     "text": [
      "Pf60 Total\n",
      "Pf60 Summary\n",
      "Pf60 Multiallelic\n",
      "Pv30 Total\n",
      "Pv30 Summary\n",
      "Pv30 Multiallelic\n",
      "CPU times: user 14min 11s, sys: 1min 41s, total: 15min 52s\n",
      "Wall time: 15min 53s\n"
     ]
    }
   ],
   "source": [
    "%%time\n",
    "group_by_options = collections.OrderedDict()\n",
    "group_by_options['Total'] = []\n",
    "group_by_options['Summary'] = ['VARIANT_TYPE', 'CDS']\n",
    "group_by_options['Multiallelic'] = ['VARIANT_TYPE', 'CDS', 'MULTIALLELIC']\n",
    "\n",
    "for release in hdf:\n",
    "    writer = pd.ExcelWriter('%s/variant_summaries_%s.xlsx' % (output_dir, release))\n",
    "    for group_by_option_name in group_by_options:\n",
    "        print(release, group_by_option_name)\n",
    "        (\n",
    "            determine_variant_counts_hdf(hdf[release], groupby_variables=group_by_options[group_by_option_name])\n",
    "            .to_excel(writer, group_by_option_name)\n",
    "        )\n",
    "    writer.save()"
   ]
  },
  {
   "cell_type": "code",
   "execution_count": null,
   "metadata": {
    "collapsed": true
   },
   "outputs": [],
   "source": []
  },
  {
   "cell_type": "code",
   "execution_count": 4,
   "metadata": {
    "collapsed": false
   },
   "outputs": [],
   "source": [
    "!cp {output_dir}/variant_summaries_Pf60.xlsx /nfs/team112_internal/production/release_build/Pf/6_0_release_packages/variant_summaries_pf_60.xlsx"
   ]
  },
  {
   "cell_type": "code",
   "execution_count": 5,
   "metadata": {
    "collapsed": true
   },
   "outputs": [],
   "source": [
    "!cp {output_dir}/variant_summaries_Pv30.xlsx /nfs/team112_internal/production/release_build/Pv/3_0_release_packages/variant_summaries_pv_30.xlsx"
   ]
  },
  {
   "cell_type": "code",
   "execution_count": null,
   "metadata": {
    "collapsed": true
   },
   "outputs": [],
   "source": []
  },
  {
   "cell_type": "markdown",
   "metadata": {},
   "source": [
    "# Sanity check"
   ]
  },
  {
   "cell_type": "code",
   "execution_count": 6,
   "metadata": {
    "collapsed": false
   },
   "outputs": [
    {
     "data": {
      "text/plain": [
       "1044869"
      ]
     },
     "execution_count": 6,
     "metadata": {},
     "output_type": "execute_result"
    }
   ],
   "source": [
    "pf60_biallelic_pass_coding_snps = (\n",
    "    (hdf['Pf60']['variants']['FILTER_PASS'][:]) &\n",
    "    (hdf['Pf60']['variants']['VARIANT_TYPE'][:] == b'SNP') &\n",
    "    (hdf['Pf60']['variants']['CDS'][:]) &\n",
    "    (hdf['Pf60']['variants']['MULTIALLELIC'][:] == b'BI')\n",
    ")\n",
    "np.count_nonzero(pf60_biallelic_pass_coding_snps)"
   ]
  },
  {
   "cell_type": "code",
   "execution_count": 16,
   "metadata": {
    "collapsed": false
   },
   "outputs": [
    {
     "data": {
      "text/plain": [
       "0.00072289"
      ]
     },
     "execution_count": 16,
     "metadata": {},
     "output_type": "execute_result"
    }
   ],
   "source": [
    "np.mean(hdf['Pf60']['variants']['AF'][:][pf60_biallelic_pass_coding_snps])"
   ]
  },
  {
   "cell_type": "code",
   "execution_count": 8,
   "metadata": {
    "collapsed": false
   },
   "outputs": [
    {
     "data": {
      "text/plain": [
       "83195"
      ]
     },
     "execution_count": 8,
     "metadata": {},
     "output_type": "execute_result"
    }
   ],
   "source": [
    "pf60_biallelic_pass_VQSLOD6_coding_snps = (\n",
    "    (hdf['Pf60']['variants']['FILTER_PASS'][:]) &\n",
    "    (hdf['Pf60']['variants']['VARIANT_TYPE'][:] == b'SNP') &\n",
    "    (hdf['Pf60']['variants']['CDS'][:]) &\n",
    "    (hdf['Pf60']['variants']['MULTIALLELIC'][:] == b'BI') &\n",
    "    (hdf['Pf60']['variants']['VQSLOD'][:] >= 6.0)\n",
    ")\n",
    "np.count_nonzero(pf60_biallelic_pass_VQSLOD6_coding_snps)"
   ]
  },
  {
   "cell_type": "code",
   "execution_count": 17,
   "metadata": {
    "collapsed": false
   },
   "outputs": [
    {
     "data": {
      "text/plain": [
       "0.0070686"
      ]
     },
     "execution_count": 17,
     "metadata": {},
     "output_type": "execute_result"
    }
   ],
   "source": [
    "np.mean(hdf['Pf60']['variants']['AF'][:][pf60_biallelic_pass_VQSLOD6_coding_snps])"
   ]
  },
  {
   "cell_type": "code",
   "execution_count": 10,
   "metadata": {
    "collapsed": false
   },
   "outputs": [
    {
     "data": {
      "text/plain": [
       "39"
      ]
     },
     "execution_count": 10,
     "metadata": {},
     "output_type": "execute_result"
    }
   ],
   "source": [
    "pf60_biallelic_pass_VQSLOD6_coding_indels = (\n",
    "    (hdf['Pf60']['variants']['FILTER_PASS'][:]) &\n",
    "    (hdf['Pf60']['variants']['VARIANT_TYPE'][:] == b'INDEL') &\n",
    "    (hdf['Pf60']['variants']['CDS'][:]) &\n",
    "    (hdf['Pf60']['variants']['MULTIALLELIC'][:] == b'BI') &\n",
    "    (hdf['Pf60']['variants']['VQSLOD'][:] >= 6.0)\n",
    ")\n",
    "np.count_nonzero(pf60_biallelic_pass_VQSLOD6_coding_indels)"
   ]
  },
  {
   "cell_type": "code",
   "execution_count": 12,
   "metadata": {
    "collapsed": false
   },
   "outputs": [
    {
     "data": {
      "text/plain": [
       "407611"
      ]
     },
     "execution_count": 12,
     "metadata": {},
     "output_type": "execute_result"
    }
   ],
   "source": [
    "pv30_biallelic_pass_coding_snps = (\n",
    "    (hdf['Pv30']['variants']['FILTER_PASS'][:]) &\n",
    "    (hdf['Pv30']['variants']['VARIANT_TYPE'][:] == b'SNP') &\n",
    "    (hdf['Pv30']['variants']['CDS'][:]) &\n",
    "    (hdf['Pv30']['variants']['MULTIALLELIC'][:] == b'BI')\n",
    ")\n",
    "np.count_nonzero(pv30_biallelic_pass_coding_snps)"
   ]
  },
  {
   "cell_type": "code",
   "execution_count": 14,
   "metadata": {
    "collapsed": false
   },
   "outputs": [
    {
     "data": {
      "text/plain": [
       "126011"
      ]
     },
     "execution_count": 14,
     "metadata": {},
     "output_type": "execute_result"
    }
   ],
   "source": [
    "pv30_biallelic_pass_VQSLOD6_coding_snps = (\n",
    "    (hdf['Pv30']['variants']['FILTER_PASS'][:]) &\n",
    "    (hdf['Pv30']['variants']['VARIANT_TYPE'][:] == b'SNP') &\n",
    "    (hdf['Pv30']['variants']['CDS'][:]) &\n",
    "    (hdf['Pv30']['variants']['MULTIALLELIC'][:] == b'BI') &\n",
    "    (hdf['Pv30']['variants']['VQSLOD'][:] >= 6.0)\n",
    ")\n",
    "np.count_nonzero(pv30_biallelic_pass_VQSLOD6_coding_snps)"
   ]
  },
  {
   "cell_type": "code",
   "execution_count": 15,
   "metadata": {
    "collapsed": false
   },
   "outputs": [
    {
     "data": {
      "text/plain": [
       "2406"
      ]
     },
     "execution_count": 15,
     "metadata": {},
     "output_type": "execute_result"
    }
   ],
   "source": [
    "pv30_biallelic_pass_VQSLOD6_coding_indels = (\n",
    "    (hdf['Pv30']['variants']['FILTER_PASS'][:]) &\n",
    "    (hdf['Pv30']['variants']['VARIANT_TYPE'][:] == b'INDEL') &\n",
    "    (hdf['Pv30']['variants']['CDS'][:]) &\n",
    "    (hdf['Pv30']['variants']['MULTIALLELIC'][:] == b'BI') &\n",
    "    (hdf['Pv30']['variants']['VQSLOD'][:] >= 6.0)\n",
    ")\n",
    "np.count_nonzero(pv30_biallelic_pass_VQSLOD6_coding_indels)"
   ]
  },
  {
   "cell_type": "code",
   "execution_count": 4,
   "metadata": {
    "collapsed": false
   },
   "outputs": [
    {
     "data": {
      "text/plain": [
       "['Pf60', 'Pv30']"
      ]
     },
     "execution_count": 4,
     "metadata": {},
     "output_type": "execute_result"
    }
   ],
   "source": [
    "list(hdf.keys())"
   ]
  },
  {
   "cell_type": "markdown",
   "metadata": {},
   "source": [
    "# Junk\n",
    "The following were some attempts to find out why the numbers didn't quite match the final VCFs (and in particular, why a get variants didn't get annotated as SNP or INDEL. I didn't fully get to the bottom of this, but it seems like some new positions are created when using bcftools norm. I decided the results based on the position-level HDF5, rather than the allele-level VCF were more reliable."
   ]
  },
  {
   "cell_type": "code",
   "execution_count": 128,
   "metadata": {
    "collapsed": false
   },
   "outputs": [],
   "source": [
    "ix_good_calls = (\n",
    "    (hdf['Pf60']['variants']['VARIANT_TYPE'][:] != b'') &\n",
    "    (~hdf['Pf60']['variants']['FILTER_Centromere'][:]) &\n",
    "    (~hdf['Pf60']['variants']['FILTER_InternalHypervariable'][:]) &\n",
    "    (~hdf['Pf60']['variants']['FILTER_SubtelomericHypervariable'][:]) &\n",
    "    (~hdf['Pf60']['variants']['FILTER_SubtelomericRepeat'][:]) &\n",
    "    (hdf['Pf60']['variants']['VQSLOD'][:] > 0.0)\n",
    ")"
   ]
  },
  {
   "cell_type": "code",
   "execution_count": 129,
   "metadata": {
    "collapsed": false
   },
   "outputs": [
    {
     "data": {
      "text/plain": [
       "True     3114760\n",
       "False    2936936\n",
       "dtype: int64"
      ]
     },
     "execution_count": 129,
     "metadata": {},
     "output_type": "execute_result"
    }
   ],
   "source": [
    "pd.value_counts(ix_good_calls)"
   ]
  },
  {
   "cell_type": "code",
   "execution_count": 15,
   "metadata": {
    "collapsed": false
   },
   "outputs": [
    {
     "data": {
      "text/plain": [
       "3114760.0"
      ]
     },
     "execution_count": 15,
     "metadata": {},
     "output_type": "execute_result"
    }
   ],
   "source": [
    "1319276.0 + 858034.0 + 192190.0 + 745260.0"
   ]
  },
  {
   "cell_type": "code",
   "execution_count": 34,
   "metadata": {
    "collapsed": false
   },
   "outputs": [
    {
     "data": {
      "text/plain": [
       "6051695"
      ]
     },
     "execution_count": 34,
     "metadata": {},
     "output_type": "execute_result"
    }
   ],
   "source": [
    "1996153 + 1850432 + 672155 + 1532955"
   ]
  },
  {
   "cell_type": "code",
   "execution_count": 35,
   "metadata": {
    "collapsed": false
   },
   "outputs": [
    {
     "data": {
      "text/plain": [
       "6051730"
      ]
     },
     "execution_count": 35,
     "metadata": {},
     "output_type": "execute_result"
    }
   ],
   "source": [
    "1996153 + 1850432 + 672155 + 1532955 + 35"
   ]
  },
  {
   "cell_type": "code",
   "execution_count": 49,
   "metadata": {
    "collapsed": false
   },
   "outputs": [
    {
     "name": "stdout",
     "output_type": "stream",
     "text": [
      "6051696\r\n"
     ]
    }
   ],
   "source": [
    "!zgrep -v '^#' /nfs/team112_internal/production_files/Pf/6_0/SNP_INDEL_*.combined.filtered.vcf.gz | wc -l "
   ]
  },
  {
   "cell_type": "code",
   "execution_count": 130,
   "metadata": {
    "collapsed": false
   },
   "outputs": [
    {
     "name": "stdout",
     "output_type": "stream",
     "text": [
      "3114760\r\n"
     ]
    }
   ],
   "source": [
    "!zgrep -v '^#' /nfs/team112_internal/production_files/Pf/6_0/SNP_INDEL_*.combined.filtered.vcf.gz | grep -P '\\tPASS\\t' | wc -l "
   ]
  },
  {
   "cell_type": "code",
   "execution_count": 50,
   "metadata": {
    "collapsed": false
   },
   "outputs": [
    {
     "name": "stdout",
     "output_type": "stream",
     "text": [
      "2939704\r\n"
     ]
    }
   ],
   "source": [
    "# This is wrong!\n",
    "!zgrep -v -P '\\tPASS\\t' /nfs/team112_internal/production_files/Pf/6_0/SNP_INDEL_*.combined.filtered.vcf.gz | wc -l "
   ]
  },
  {
   "cell_type": "code",
   "execution_count": 54,
   "metadata": {
    "collapsed": false
   },
   "outputs": [
    {
     "data": {
      "text/plain": [
       "<HDF5 dataset \"CHROM\": shape (6051696,), type \"|S12\">"
      ]
     },
     "execution_count": 54,
     "metadata": {},
     "output_type": "execute_result"
    }
   ],
   "source": [
    "hdf['Pf60']['variants']['CHROM']"
   ]
  },
  {
   "cell_type": "markdown",
   "metadata": {},
   "source": [
    "# Why do some variants have no VARIANT_TYPE?"
   ]
  },
  {
   "cell_type": "code",
   "execution_count": 36,
   "metadata": {
    "collapsed": false
   },
   "outputs": [
    {
     "data": {
      "text/plain": [
       "b'IND'    5537629\n",
       "b'SNP'    4425589\n",
       "b''            35\n",
       "dtype: int64"
      ]
     },
     "execution_count": 36,
     "metadata": {},
     "output_type": "execute_result"
    }
   ],
   "source": [
    "pd.value_counts(variants['Pf60']['VARIANT_TYPE'])"
   ]
  },
  {
   "cell_type": "code",
   "execution_count": 40,
   "metadata": {
    "collapsed": false
   },
   "outputs": [
    {
     "data": {
      "text/plain": [
       "array([347, 304, 289, 232, 359, 271, 336, 376, 304, 335, 265, 307, 308,\n",
       "       293, 275, 291, 290, 354, 271, 316, 295, 283, 269, 295, 295, 274,\n",
       "       339, 341, 332, 333, 344, 292, 314, 297, 290])"
      ]
     },
     "execution_count": 40,
     "metadata": {},
     "output_type": "execute_result"
    }
   ],
   "source": [
    "np.array([len(seq) for seq in variants['Pf60']['REF'][variants['Pf60']['VARIANT_TYPE'] == b'']])"
   ]
  },
  {
   "cell_type": "code",
   "execution_count": 41,
   "metadata": {
    "collapsed": false
   },
   "outputs": [
    {
     "data": {
      "text/plain": [
       "array([1, 1, 1, 1, 1, 1, 1, 1, 1, 1, 1, 1, 1, 1, 1, 1, 1, 1, 1, 1, 1, 1, 1,\n",
       "       1, 1, 1, 1, 1, 1, 1, 1, 1, 1, 1, 1])"
      ]
     },
     "execution_count": 41,
     "metadata": {},
     "output_type": "execute_result"
    }
   ],
   "source": [
    "np.array([len(seq) for seq in variants['Pf60']['ALT'][variants['Pf60']['VARIANT_TYPE'] == b'']])"
   ]
  },
  {
   "cell_type": "code",
   "execution_count": 45,
   "metadata": {
    "collapsed": false
   },
   "outputs": [
    {
     "data": {
      "text/plain": [
       "[(b'Pf3D7_01_v3', 7113),\n",
       " (b'Pf3D7_01_v3', 26128),\n",
       " (b'Pf3D7_01_v3', 26437),\n",
       " (b'Pf3D7_01_v3', 637475),\n",
       " (b'Pf3D7_02_v3', 16095),\n",
       " (b'Pf3D7_02_v3', 944225),\n",
       " (b'Pf3D7_03_v3', 15569),\n",
       " (b'Pf3D7_03_v3', 21953),\n",
       " (b'Pf3D7_03_v3', 1051532),\n",
       " (b'Pf3D7_03_v3', 1067309),\n",
       " (b'Pf3D7_04_v3', 609963),\n",
       " (b'Pf3D7_06_v3', 60280),\n",
       " (b'Pf3D7_06_v3', 1307742),\n",
       " (b'Pf3D7_07_v3', 16473),\n",
       " (b'Pf3D7_07_v3', 1080971),\n",
       " (b'Pf3D7_08_v3', 375),\n",
       " (b'Pf3D7_08_v3', 1456356),\n",
       " (b'Pf3D7_09_v3', 1516630),\n",
       " (b'Pf3D7_10_v3', 3203),\n",
       " (b'Pf3D7_10_v3', 13442),\n",
       " (b'Pf3D7_10_v3', 13474),\n",
       " (b'Pf3D7_10_v3', 1536049),\n",
       " (b'Pf3D7_10_v3', 1536063),\n",
       " (b'Pf3D7_10_v3', 1664694),\n",
       " (b'Pf3D7_10_v3', 1664701),\n",
       " (b'Pf3D7_10_v3', 1664715),\n",
       " (b'Pf3D7_10_v3', 1674229),\n",
       " (b'Pf3D7_10_v3', 1674235),\n",
       " (b'Pf3D7_10_v3', 1674239),\n",
       " (b'Pf3D7_12_v3', 10650),\n",
       " (b'Pf3D7_12_v3', 2261954),\n",
       " (b'Pf3D7_13_v3', 2902737),\n",
       " (b'Pf3D7_13_v3', 2904906),\n",
       " (b'Pf3D7_13_v3', 2911564),\n",
       " (b'Pf3D7_13_v3', 2911574)]"
      ]
     },
     "execution_count": 45,
     "metadata": {},
     "output_type": "execute_result"
    }
   ],
   "source": [
    "list(zip(\n",
    "    variants['Pf60']['CHROM'][variants['Pf60']['VARIANT_TYPE'] == b''],\n",
    "    variants['Pf60']['POS'][variants['Pf60']['VARIANT_TYPE'] == b'']\n",
    "))"
   ]
  },
  {
   "cell_type": "code",
   "execution_count": 48,
   "metadata": {
    "collapsed": false
   },
   "outputs": [
    {
     "data": {
      "text/plain": [
       "array([ (b'Pf3D7_01_v3', 7113, b'G', b'A', False, b'SNP', b'SD', 59, 11586, False, False, False, False, False, False, True, False, False, False, False, False, 2.5999999046325684),\n",
       "       (b'Pf3D7_01_v3', 7113, b'gACCGTTCTATTAGTCAAAAAACGACATCCAATTTATAGGGGAAACAAAACCGGAAATTCGGGTTTTAGACCCAAATTATAGAACGCAATTTCCACCAGGTACGCCAACGTGGATATTTCTATCATATAGTCCGTGATCAACTATACATACTACGTGGTACCACATGGTTACTACATCACACGCGTGGTGTTTAATCACCATTTTTTCATTATACCCAATTTTCCCCTAGCACTTTTGGTGCACAATTCACATGCACTTGAAAGCATTTGATGATTATGATGTTGCACACACGATGTTAACATCTCAATCAAAATTGTGGGTCACTTACTATATGGTAATATACCCT', b'g', False, b'', b'', 1, 12222, False, False, False, False, False, False, True, False, False, False, False, False, 2.759999990463257)], \n",
       "      dtype=[('CHROM', 'S12'), ('POS', '<i4'), ('REF', 'S600'), ('ALT', 'S600'), ('CDS', '?'), ('VARIANT_TYPE', 'S3'), ('MULTIALLELIC', 'S2'), ('AC', '<u2'), ('AN', '<u2'), ('FILTER_Centromere', '?'), ('FILTER_InternalHypervariable', '?'), ('FILTER_LowQual', '?'), ('FILTER_Low_VQSLOD', '?'), ('FILTER_PASS', '?'), ('FILTER_SubtelomericHypervariable', '?'), ('FILTER_SubtelomericRepeat', '?'), ('FILTER_VQSRTrancheINDEL99.00to99.90', '?'), ('FILTER_VQSRTrancheINDEL99.90to100.00', '?'), ('FILTER_VQSRTrancheINDEL99.90to100.00+', '?'), ('FILTER_VQSRTrancheSNP99.90to100.00', '?'), ('FILTER_VQSRTrancheSNP99.90to100.00+', '?'), ('VQSLOD', '<f4')])"
      ]
     },
     "execution_count": 48,
     "metadata": {},
     "output_type": "execute_result"
    }
   ],
   "source": [
    "variants['Pf60'][(variants['Pf60']['CHROM'] == b'Pf3D7_01_v3') & (variants['Pf60']['POS'] == 7113)]"
   ]
  },
  {
   "cell_type": "code",
   "execution_count": 47,
   "metadata": {
    "collapsed": false
   },
   "outputs": [
    {
     "name": "stdout",
     "output_type": "stream",
     "text": [
      "Pf3D7_01_v3\t6987\t.\tGCCGTTTTTGGGCAGGGAAAAGGTGAGTCAATTGTTCCTTTACATATACATTTATCACTGTTGTGGTAATAGATATATATAGCTTATGGTCCAGAATTTATATAGTGACTCTTTGTTGTCCCTTGGGACCGTTCTATTAGTCAAAAAACGACATCCAATTTATAGGGGAAACAAAACCGGAAATTCGGGTTTTAGA\tCCCGTTTTTGGGCAGGGAAAAGGTGAGTCAATTGTTCCTTTACATATACATTTATCACTGTTGTGGTAATAGATATATATAGCTTATGGTCCAGAATTTATATAGTGACTCTTTGTTGTCCCTTGGGACCGTTCTATTAGTCAAAAAACGACATCCAATTTATAGGGGAAACAAAACCGGAAATTCGGGTTTTAGA,*,TCCGTTTTTGGGCAGGGAAAAGGTGAGTCAATTGTTCCTTTACATATACATTTATCACTGTTGTGGTAATAGATATATATAGCTTATGGTCCAGAATTTATATAGTGACTCTTTGTTGTCCCTTGGGACCGTTCTATTAGTCAAAAAACGACATCCAATTTATAGGGGAAACAAAACCGGAAATTCGGGTTTTAGA,ACCGTTTTTGGGCAGGGAAAAGGTGAGTCAATTGTTCCTTTACATATACATTTATCACTGTTGTGGTAATAGATATATATAGCTTATGGTCCAGAATTTATATAGTGACTCTTTGTTGTCCCTTGGGACCGTTCTATTAGTCAAAAAACGACATCCAATTTATAGGGGAAACAAAACCGGAAATTCGGGTTTTAGA,GCGTTTTTGGGCAGGGAAAAGGTGAGTCAATTGTTCCTTTACATATACATTTATCACTGTTGTGGTAATAGATATATATAGCTTATGGTCCAGAATTTATATAGTGACTCTTTGTTGTCCCTTGGGACCGTTCTATTAGTCAAAAAACGACATCCAATTTATAGGGGAAACAAAACCGGAAATTCGGGTTTTAGA\t36317.40\tSubtelomericRepeat\tAC=72,10,52,27,1;AF=5.912e-03,8.212e-04,4.270e-03,2.217e-03,8.212e-05;AN=12178;AS_InbreedingCoeff=0.0032,-0.0180,-0.0147,-0.0162,-0.0171;BaseQRankSum=0.908;ClippingRankSum=0.00;DP=138910;ExcessHet=0.0235;FS=12.000;FractionInformativeReads=0.994;GC=38.10;GQ_MEAN=37.40;GQ_STDDEV=55.11;InbreedingCoeff=0.1512;MLEAC=58,7,43,21,1;MLEAF=4.763e-03,5.748e-04,3.531e-03,1.724e-03,8.212e-05;MQ=38.92;MQRankSum=0.329;NCC=1093;QD=9.57;ReadPosRankSum=0.322;RegionType=SubtelomericRepeat;SNPEFF_EFFECT=INTERGENIC;SNPEFF_FUNCTIONAL_CLASS=NONE;SNPEFF_IMPACT=MODIFIER;SOR=0.223;VQSLOD=0.475;VariantType=MULTIALLELIC_MIXED;culprit=FS;set=indel\r\n",
      "Pf3D7_01_v3\t7004\t.\tAAAAGGTGAGTCAATTGTTCCTTTACATATACATTTATCACTGTTGTGGTAATAGATATATATAGCTTATGGTCCAGAATTTATATAGTGACTCTTTGTTGTCCCTTGGGACCGTTCTATTAGTCAAAAAACGACATCCAATTTATAGGGG\tTAAAGGTGAGTCAATTGTTCCTTTACATATACATTTATCACTGTTGTGGTAATAGATATATATAGCTTATGGTCCAGAATTTATATAGTGACTCTTTGTTGTCCCTTGGGACCGTTCTATTAGTCAAAAAACGACATCCAATTTATAGGGG,*\t29639.35\tSubtelomericRepeat\tAC=3,3;AF=6.717e-04,6.717e-04;AN=4466;AS_InbreedingCoeff=-0.0641,-0.0641;BaseQRankSum=0.842;ClippingRankSum=0.00;DP=57722;ExcessHet=3.0329;FS=3.881;FractionInformativeReads=0.996;GC=52.38;GQ_MEAN=29.46;GQ_STDDEV=39.02;InbreedingCoeff=0.0558;MLEAC=3,1;MLEAF=6.717e-04,2.239e-04;MQ=6.71;MQRankSum=0.524;NCC=4949;QD=32.82;ReadPosRankSum=1.15;RegionType=SubtelomericRepeat;SNPEFF_EFFECT=INTERGENIC;SNPEFF_FUNCTIONAL_CLASS=NONE;SNPEFF_IMPACT=MODIFIER;SOR=1.020;VQSLOD=2.68;VariantType=MULTIALLELIC_MIXED;culprit=FS;set=indel\r\n",
      "Pf3D7_01_v3\t7031\t.\tTATACATTTATCACTGTTGTGGTAATAGATATATATAGCTTATGGTCCAGAATTTATATAGTGACTCTTTGTTGTCCCTTGGGACCGTTCTATTAGTCAAAAAACGACATCCAATTTATA\t*,CATACATTTATCACTGTTGTGGTAATAGATATATATAGCTTATGGTCCAGAATTTATATAGTGACTCTTTGTTGTCCCTTGGGACCGTTCTATTAGTCAAAAAACGACATCCAATTTATA\t15731.15\tSubtelomericRepeat\tAC=4,2;AF=7.318e-04,3.659e-04;AN=5466;AS_InbreedingCoeff=-0.0524,-0.0462;BaseQRankSum=4.19;ClippingRankSum=0.00;DP=34748;ExcessHet=0.0088;FS=12.947;FractionInformativeReads=0.997;GC=19.05;GQ_MEAN=23.93;GQ_STDDEV=32.30;InbreedingCoeff=0.0697;MLEAC=2,1;MLEAF=3.659e-04,1.829e-04;MQ=22.90;MQRankSum=-3.398e+00;NCC=4449;QD=34.85;RegionType=SubtelomericRepeat;SNPEFF_EFFECT=INTERGENIC;SNPEFF_FUNCTIONAL_CLASS=NONE;SNPEFF_IMPACT=MODIFIER;SOR=1.177;VQSLOD=1.12;VariantType=MULTIALLELIC_MIXED;culprit=FS;set=indel\r\n",
      "Pf3D7_01_v3\t7046\t.\tGTTGTGGTAATAGATATATATAGCTTATGGTCCAGAATTTATATAGTGACTCTTTGTT\t*,CTTGTGGTAATAGATATATATAGCTTATGGTCCAGAATTTATATAGTGACTCTTTGTT,G\t29360.15\tLow_VQSLOD;SubtelomericRepeat\tAC=101,2,3;AF=0.019,3.765e-04,5.648e-04;AN=5312;AS_InbreedingCoeff=0.1299,-0.0269,-0.0285;BaseQRankSum=0.572;ClippingRankSum=0.00;DP=34460;ExcessHet=-0.0000;FS=68.080;FractionInformativeReads=0.996;GC=28.57;GQ_MEAN=24.86;GQ_STDDEV=31.40;InbreedingCoeff=0.2981;MLEAC=58,1,2;MLEAF=0.011,1.883e-04,3.765e-04;MQ=11.68;MQRankSum=1.85;NCC=4526;NEGATIVE_TRAIN_SITE;QD=32.23;ReadPosRankSum=0.967;RegionType=SubtelomericRepeat;SNPEFF_EFFECT=INTERGENIC;SNPEFF_FUNCTIONAL_CLASS=NONE;SNPEFF_IMPACT=MODIFIER;SOR=2.492;VQSLOD=-5.198e+00;VariantType=MULTIALLELIC_MIXED;culprit=FS;set=FilteredInAll\r\n",
      "Pf3D7_01_v3\t7051\t.\tGGTAATAGATATATATAGCTTATGGTCCAGAATTTATATAGTGACTCTTTGTT\tTGTAATAGATATATATAGCTTATGGTCCAGAATTTATATAGTGACTCTTTGTT,*,G\t66237.82\tLow_VQSLOD;SubtelomericRepeat\tAC=366,13,2;AF=0.074,2.632e-03,4.049e-04;AN=4940;AS_InbreedingCoeff=0.4273,-0.0063,-0.0202;BaseQRankSum=1.38;ClippingRankSum=0.00;DP=34161;ExcessHet=-0.0000;FS=29.590;FractionInformativeReads=0.989;GC=33.33;GQ_MEAN=26.47;GQ_STDDEV=36.22;InbreedingCoeff=0.5502;MLEAC=251,8,1;MLEAF=0.051,1.619e-03,2.024e-04;MQ=32.74;MQRankSum=0.00;NCC=4712;QD=29.92;ReadPosRankSum=-9.670e-01;RegionType=SubtelomericRepeat;SNPEFF_EFFECT=INTERGENIC;SNPEFF_FUNCTIONAL_CLASS=NONE;SNPEFF_IMPACT=MODIFIER;SOR=2.223;VQSLOD=-5.344e-01;VariantType=MULTIALLELIC_MIXED;culprit=SOR;set=FilteredInAll\r\n",
      "Pf3D7_01_v3\t7083\t.\tTTTATATAGTGACTCTTTGTTGTCCCTTGGGACCGTTCTATTAGTCAAAAAACGACATCCAATTTATAGG\t*,ATTATATAGTGACTCTTTGTTGTCCCTTGGGACCGTTCTATTAGTCAAAAAACGACATCCAATTTATAGG\t30292.62\tSubtelomericRepeat\tAC=27,3;AF=4.294e-03,4.771e-04;AN=6288;AS_InbreedingCoeff=-0.0175,-0.0453;BaseQRankSum=2.73;ClippingRankSum=0.00;DP=39854;ExcessHet=0.0000;FS=9.594;FractionInformativeReads=0.996;GC=33.33;GQ_MEAN=25.42;GQ_STDDEV=36.84;InbreedingCoeff=0.1013;MLEAC=13,2;MLEAF=2.067e-03,3.181e-04;MQ=11.57;MQRankSum=1.38;NCC=4038;QD=27.08;ReadPosRankSum=3.66;RegionType=SubtelomericRepeat;SNPEFF_EFFECT=INTERGENIC;SNPEFF_FUNCTIONAL_CLASS=NONE;SNPEFF_IMPACT=MODIFIER;SOR=1.411;VQSLOD=0.512;VariantType=MULTIALLELIC_MIXED;culprit=FS;set=indel\r\n",
      "Pf3D7_01_v3\t7088\t.\tATAGTGACTCTTTGTTG\tGTAGTGACTCTTTGTTG,TTAGTGACTCTTTGTTG,*,A\t142478.81\tSubtelomericRepeat\tAC=258,9,275,3;AF=0.079,2.741e-03,0.084,9.135e-04;AN=3284;AS_InbreedingCoeff=0.3681,-0.0018,0.4350,-0.0068;BaseQRankSum=-8.890e-01;ClippingRankSum=0.00;DP=45191;ExcessHet=-0.0000;FS=1.114;FractionInformativeReads=0.958;GC=28.57;GQ_MEAN=34.59;GQ_STDDEV=67.87;InbreedingCoeff=0.6415;MLEAC=214,7,220,2;MLEAF=0.065,2.132e-03,0.067,6.090e-04;MQ=17.44;MQRankSum=0.676;NCC=5540;QD=28.62;ReadPosRankSum=-9.670e-01;RegionType=SubtelomericRepeat;SNPEFF_EFFECT=INTERGENIC;SNPEFF_FUNCTIONAL_CLASS=NONE;SNPEFF_IMPACT=MODIFIER;SOR=0.783;VQSLOD=3.30;VariantType=MULTIALLELIC_MIXED;culprit=FS;set=indel\r\n",
      "Pf3D7_01_v3\t7101\t.\tGTTGTCCCTTGGGACCGTTCTATTAGTCAAAAAACGACATCCAATTTATAGGGGAAACAAAACCGGAAATTCGGGTTTTAGACCCAAATTATAGAACGCAATTT\tTTTGTCCCTTGGGACCGTTCTATTAGTCAAAAAACGACATCCAATTTATAGGGGAAACAAAACCGGAAATTCGGGTTTTAGACCCAAATTATAGAACGCAATTT,*,ATTGTCCCTTGGGACCGTTCTATTAGTCAAAAAACGACATCCAATTTATAGGGGAAACAAAACCGGAAATTCGGGTTTTAGACCCAAATTATAGAACGCAATTT,CTTGTCCCTTGGGACCGTTCTATTAGTCAAAAAACGACATCCAATTTATAGGGGAAACAAAACCGGAAATTCGGGTTTTAGACCCAAATTATAGAACGCAATTT,GATTATTTGTCCCTTGGGACCGTTCTATTAGTCAAAAAACGACATCCAATTTATAGGGGAAACAAAACCGGAAATTCGGGTTTTAGACCCAAATTATAGAACGCAATTT,GCTATTTGTCCCTTGGGACCGTTCTATTAGTCAAAAAACGACATCCAATTTATAGGGGAAACAAAACCGGAAATTCGGGTTTTAGACCCAAATTATAGAACGCAATTT\t96227.69\tSubtelomericRepeat\tAC=93,37,21,28,6,4;AF=0.020,7.876e-03,4.470e-03,5.960e-03,1.277e-03,8.514e-04;AN=4698;AS_InbreedingCoeff=0.1966,0.0730,0.0164,0.0592,-0.0181,-0.0049;BaseQRankSum=1.24;ClippingRankSum=0.00;DP=69806;ExcessHet=-0.0000;FS=12.178;FractionInformativeReads=0.993;GC=47.62;GQ_MEAN=27.21;GQ_STDDEV=60.09;InbreedingCoeff=0.5462;MLEAC=70,29,15,20,5,4;MLEAF=0.015,6.173e-03,3.193e-03,4.257e-03,1.064e-03,8.514e-04;MQ=9.79;MQRankSum=-6.740e-01;NCC=4833;QD=26.27;ReadPosRankSum=-1.710e-01;RegionType=SubtelomericRepeat;SNPEFF_EFFECT=INTERGENIC;SNPEFF_FUNCTIONAL_CLASS=NONE;SNPEFF_IMPACT=MODIFIER;SOR=1.150;VQSLOD=0.865;VariantType=MULTIALLELIC_MIXED;culprit=FS;set=indel\r\n",
      "Pf3D7_01_v3\t7102\t.\tTTGTCCCTTGGGACCGTTCTATTAGTCAAAAAACGACATCCAATTTATAGGGGAAACAAAACCGGAAATTCGGGTTTTAGACCCAAATTATAGAACGCAATTTCCACCAGGTACGCCAAC\tCTGTCCCTTGGGACCGTTCTATTAGTCAAAAAACGACATCCAATTTATAGGGGAAACAAAACCGGAAATTCGGGTTTTAGACCCAAATTATAGAACGCAATTTCCACCAGGTACGCCAAC,*,TATTTACTGTCCCTTGGGACCGTTCTATTAGTCAAAAAACGACATCCAATTTATAGGGGAAACAAAACCGGAAATTCGGGTTTTAGACCCAAATTATAGAACGCAATTTCCACCAGGTACGCCAAC,TATGTCCCTTGGGACCGTTCTATTAGTCAAAAAACGACATCCAATTTATAGGGGAAACAAAACCGGAAATTCGGGTTTTAGACCCAAATTATAGAACGCAATTTCCACCAGGTACGCCAAC\t123804.05\tSubtelomericRepeat\tAC=268,8,1,2;AF=0.097,2.907e-03,3.634e-04,7.267e-04;AN=2752;AS_InbreedingCoeff=0.3146,-0.0224,-0.0451,-0.0356;BaseQRankSum=0.120;ClippingRankSum=0.00;DP=71320;ExcessHet=0.0000;FS=3.191;FractionInformativeReads=0.987;GC=47.62;GQ_MEAN=26.08;GQ_STDDEV=69.07;InbreedingCoeff=0.5418;MLEAC=242,4,1,1;MLEAF=0.088,1.453e-03,3.634e-04,3.634e-04;MQ=11.98;MQRankSum=-5.940e-01;NCC=5806;QD=30.58;ReadPosRankSum=-4.860e-01;RegionType=SubtelomericRepeat;SNPEFF_EFFECT=INTERGENIC;SNPEFF_FUNCTIONAL_CLASS=NONE;SNPEFF_IMPACT=MODIFIER;SOR=0.805;VQSLOD=3.40;VariantType=MULTIALLELIC_MIXED;culprit=FS;set=indel\r\n",
      "Pf3D7_01_v3\t7103\t.\tTG\tGG,*,TCGG,AG,CG\t109407.52\tLow_VQSLOD;SubtelomericRepeat\tAC=262,8,29,5,1;AF=0.059,1.795e-03,6.505e-03,1.122e-03,2.243e-04;AN=4458;AS_InbreedingCoeff=0.2535,-0.0159,0.0494,-0.0242,-0.0340;BaseQRankSum=-4.560e-01;ClippingRankSum=0.00;DP=72186;ExcessHet=-0.0000;FS=35.175;FractionInformativeReads=0.988;GC=52.38;GQ_MEAN=25.12;GQ_STDDEV=60.63;InbreedingCoeff=0.5431;MLEAC=204,4,24,3,1;MLEAF=0.046,8.973e-04,5.384e-03,6.729e-04,2.243e-04;MQ=12.87;MQRankSum=0.100;NCC=4953;QD=31.53;ReadPosRankSum=-7.880e-01;RegionType=SubtelomericRepeat;SNPEFF_EFFECT=INTERGENIC;SNPEFF_FUNCTIONAL_CLASS=NONE;SNPEFF_IMPACT=MODIFIER;SOR=1.820;VQSLOD=-8.377e-01;VariantType=MULTIALLELIC_MIXED;culprit=FS;set=FilteredInAll\r\n",
      "Pf3D7_01_v3\t7104\t.\tG\tA,GCGC,GC,C,GCGA\t84464.80\tSubtelomericRepeat\tAC=155,14,1,5,1;AF=0.031,2.778e-03,1.984e-04,9.921e-04,1.984e-04;AN=5040;AS_InbreedingCoeff=0.1844,0.0103,-0.0297,-0.0148,-0.0297;BaseQRankSum=0.967;ClippingRankSum=0.00;DP=74967;ExcessHet=-0.0000;FS=3.262;FractionInformativeReads=0.993;GC=47.62;GQ_MEAN=26.48;GQ_STDDEV=61.59;InbreedingCoeff=0.4564;MLEAC=114,13,1,4,1;MLEAF=0.023,2.579e-03,1.984e-04,7.937e-04,1.984e-04;MQ=10.34;MQRankSum=0.00;NCC=4662;QD=31.88;ReadPosRankSum=-6.740e-01;RegionType=SubtelomericRepeat;SNPEFF_EFFECT=INTERGENIC;SNPEFF_FUNCTIONAL_CLASS=NONE;SNPEFF_IMPACT=MODIFIER;SOR=0.926;VQSLOD=3.19;VariantType=MULTIALLELIC_MIXED;culprit=FS;set=indel\r\n",
      "Pf3D7_01_v3\t7106\t.\tC\tT,A\t4033.56\tSubtelomericRepeat\tAC=3,2;AF=2.594e-04,1.729e-04;AN=11566;AS_InbreedingCoeff=-0.0244,-0.0246;BaseQRankSum=5.04;ClippingRankSum=0.00;DP=88742;ExcessHet=0.0000;FS=7.630;FractionInformativeReads=0.996;GC=52.38;GQ_MEAN=33.24;GQ_STDDEV=35.80;InbreedingCoeff=0.0525;MLEAC=3,1;MLEAF=2.594e-04,8.646e-05;MQ=24.58;MQRankSum=2.92;NCC=1399;QD=28.41;ReadPosRankSum=5.22;RegionType=SubtelomericRepeat;SNPEFF_EFFECT=INTERGENIC;SNPEFF_FUNCTIONAL_CLASS=NONE;SNPEFF_IMPACT=MODIFIER;SOR=0.339;VQSLOD=0.780;VariantType=MULTIALLELIC_SNP;culprit=DP;set=snp\r\n",
      "Pf3D7_01_v3\t7107\t.\tC\tT\t1488.56\tSubtelomericRepeat\tAC=8;AF=6.841e-04;AN=11694;AS_InbreedingCoeff=-0.0331;BaseQRankSum=0.524;ClippingRankSum=0.00;DP=91798;ExcessHet=0.0043;FS=0.000;FractionInformativeReads=0.997;GC=57.14;GQ_MEAN=34.19;GQ_STDDEV=35.67;HRun=0;InbreedingCoeff=-0.0331;MLEAC=5;MLEAF=4.276e-04;MQ=16.14;MQRankSum=0.524;NCC=1335;QD=27.13;ReadPosRankSum=0.431;RegionType=SubtelomericRepeat;SNPEFF_EFFECT=INTERGENIC;SNPEFF_FUNCTIONAL_CLASS=NONE;SNPEFF_IMPACT=MODIFIER;SOR=0.811;VQSLOD=3.16;VariantType=SNP;culprit=FS;set=snp\r\n",
      "Pf3D7_01_v3\t7108\t.\tC\tT,G\t5272.63\tSubtelomericRepeat\tAC=9,17;AF=7.637e-04,1.443e-03;AN=11784;AS_InbreedingCoeff=-0.0178,0.0016;BaseQRankSum=1.28;ClippingRankSum=0.00;DP=95300;ExcessHet=-0.0000;FS=7.257;FractionInformativeReads=0.995;GC=52.38;GQ_MEAN=35.21;GQ_STDDEV=35.88;InbreedingCoeff=0.0748;MLEAC=7,13;MLEAF=5.940e-04,1.103e-03;MQ=28.94;MQRankSum=-9.440e-01;NCC=1290;QD=25.72;ReadPosRankSum=1.38;RegionType=SubtelomericRepeat;SNPEFF_EFFECT=INTERGENIC;SNPEFF_FUNCTIONAL_CLASS=NONE;SNPEFF_IMPACT=MODIFIER;SOR=0.367;VQSLOD=0.859;VariantType=MULTIALLELIC_SNP;culprit=DP;set=snp\r\n",
      "Pf3D7_01_v3\t7109\t.\tTTGGG\tT\t199.92\tSubtelomericRepeat\tAC=2;AF=1.680e-04;AN=11908;AS_InbreedingCoeff=-0.0297;DP=97677;ExcessHet=0.0251;FS=2.059;FractionInformativeReads=0.997;GC=52.38;GQ_MEAN=36.63;GQ_STDDEV=36.34;HRun=1;InbreedingCoeff=-0.0297;MLEAC=1;MLEAF=8.398e-05;MQ=11.86;NCC=1228;QD=11.11;RegionType=SubtelomericRepeat;SNPEFF_EFFECT=INTERGENIC;SNPEFF_FUNCTIONAL_CLASS=NONE;SNPEFF_IMPACT=MODIFIER;SOR=1.003;VQSLOD=0.262;VariantType=DELETION.NumRepetitions_1.EventLength_4;culprit=QD;set=indel\r\n",
      "Pf3D7_01_v3\t7110\t.\tTGGGACCG\tGGGGACCG,*,CGGGACCG\t9720.15\tSubtelomericRepeat\tAC=67,4,1;AF=5.677e-03,3.389e-04,8.473e-05;AN=11802;AS_InbreedingCoeff=0.0055,-0.0143,-0.0204;BaseQRankSum=-3.860e-01;ClippingRankSum=0.00;DP=100622;ExcessHet=0.0000;FS=5.081;FractionInformativeReads=0.995;GC=57.14;GQ_MEAN=34.91;GQ_STDDEV=43.39;InbreedingCoeff=0.1357;MLEAC=51,1,1;MLEAF=4.321e-03,8.473e-05,8.473e-05;MQ=29.87;MQRankSum=0.00;NCC=1281;QD=14.64;ReadPosRankSum=0.210;RegionType=SubtelomericRepeat;SNPEFF_EFFECT=INTERGENIC;SNPEFF_FUNCTIONAL_CLASS=NONE;SNPEFF_IMPACT=MODIFIER;SOR=0.568;VQSLOD=0.629;VariantType=MULTIALLELIC_MIXED;culprit=FS;set=indel\r\n",
      "Pf3D7_01_v3\t7111\t.\tGGGACCGTTCTATTAGTC\t*,AGGACCGTTCTATTAGTC,CGGACCGTTCTATTAGTC\t5899.19\tSubtelomericRepeat\tAC=4,5,1;AF=3.324e-04,4.156e-04,8.311e-05;AN=12032;AS_InbreedingCoeff=-0.0116,-0.0065,-0.0194;BaseQRankSum=0.807;ClippingRankSum=0.00;DP=103772;ExcessHet=0.0000;FS=2.916;FractionInformativeReads=0.996;GC=57.14;GQ_MEAN=38.80;GQ_STDDEV=37.48;InbreedingCoeff=0.0990;MLEAC=1,5,1;MLEAF=8.311e-05,4.156e-04,8.311e-05;MQ=31.27;MQRankSum=-1.660e-01;NCC=1166;QD=27.06;ReadPosRankSum=-1.104e+00;RegionType=SubtelomericRepeat;SNPEFF_EFFECT=INTERGENIC;SNPEFF_FUNCTIONAL_CLASS=NONE;SNPEFF_IMPACT=MODIFIER;SOR=0.513;VQSLOD=3.36;VariantType=MULTIALLELIC_MIXED;culprit=FS;set=indel\r\n",
      "Pf3D7_01_v3\t7112\t.\tG\tA,*,T\t41964.18\tSubtelomericRepeat\tAC=65,4,2;AF=5.649e-03,3.476e-04,1.738e-04;AN=11506;AS_InbreedingCoeff=0.0114,-0.0264,-0.0315;BaseQRankSum=1.67;ClippingRankSum=0.00;DP=108548;ExcessHet=0.0000;FS=0.000;FractionInformativeReads=0.992;GC=52.38;GQ_MEAN=33.19;GQ_STDDEV=53.57;InbreedingCoeff=0.1697;MLEAC=66,1,1;MLEAF=5.736e-03,8.691e-05,8.691e-05;MQ=26.39;MQRankSum=0.00;NCC=1429;QD=24.66;ReadPosRankSum=1.57;RegionType=SubtelomericRepeat;SNPEFF_EFFECT=INTERGENIC;SNPEFF_FUNCTIONAL_CLASS=NONE;SNPEFF_IMPACT=MODIFIER;SOR=0.723;VQSLOD=4.72;VariantType=MULTIALLELIC_SNP;culprit=FS;set=snp\r\n",
      "Pf3D7_01_v3\t7113\t.\tG\tA,*\t38438.69\tSubtelomericRepeat\tAC=59,4;AF=5.092e-03,3.452e-04;AN=11586;AS_InbreedingCoeff=-0.0115,-0.0365;BaseQRankSum=1.83;ClippingRankSum=0.00;DP=111198;ExcessHet=-0.0000;FS=0.528;FractionInformativeReads=0.993;GC=52.38;GQ_MEAN=33.03;GQ_STDDEV=52.63;InbreedingCoeff=0.0927;MLEAC=62,1;MLEAF=5.351e-03,8.631e-05;MQ=24.89;MQRankSum=0.066;NCC=1389;QD=25.37;ReadPosRankSum=2.10;RegionType=SubtelomericRepeat;SNPEFF_EFFECT=INTERGENIC;SNPEFF_FUNCTIONAL_CLASS=NONE;SNPEFF_IMPACT=MODIFIER;SOR=0.751;VQSLOD=2.60;VariantType=MULTIALLELIC_SNP;culprit=FS;set=snp\r\n",
      "Pf3D7_01_v3\t7114\t.\tACCGTTCTATTAGTCAAAAAACGACATCCAATTTATAGGGGAAACAAAACCGGAAATTCGGGTTTTAGACCCAAATTATAGAACGCAATTTCCACCAGGTACGCCAACGTGGATATTTCTATCATATAGTCCGTGATCAACTATACATACTACGTGGTACCACATGGTTACTACATCACACGCGTGGTGTTTAATCACCATTTTTTCATTATACCCAATTTTCCCCTAGCACTTTTGGTGCACAATTCACATGCACTTGAAAGCATTTGATGATTATGATGTTGCACACACGATGTTAACATCTCAATCAAAATTGTGGGTCACTTACTATATGGTAATATACCCTA\tA\t127\tSubtelomericRepeat\tAC=1;AF=8.182e-05;AN=12222;AS_InbreedingCoeff=-0.0278;BaseQRankSum=-1.932e+00;ClippingRankSum=0.00;DP=114857;ExcessHet=3.1460;FS=0.000;FractionInformativeReads=0.997;GC=52.38;GQ_MEAN=40.45;GQ_STDDEV=38.01;InbreedingCoeff=-0.0278;MLEAC=1;MLEAF=8.182e-05;MQ=18.41;MQRankSum=1.69;NCC=1071;QD=3.43;ReadPosRankSum=1.46;RegionType=SubtelomericRepeat;SNPEFF_EFFECT=INTERGENIC;SNPEFF_FUNCTIONAL_CLASS=NONE;SNPEFF_IMPACT=MODIFIER;SOR=0.685;VQSLOD=2.76;VariantType=DELETION.NOVEL_10orMore;culprit=FS;set=indel\r\n",
      "Pf3D7_01_v3\t7115\t.\tC\t*,T\t3877.98\tSubtelomericRepeat\tAC=3,53;AF=2.468e-04,4.361e-03;AN=12154;AS_InbreedingCoeff=-0.0198,0.0123;BaseQRankSum=1.28;ClippingRankSum=0.00;DP=116588;ExcessHet=-0.0000;FS=1.598;FractionInformativeReads=0.995;GC=47.62;GQ_MEAN=41.08;GQ_STDDEV=38.90;InbreedingCoeff=0.0730;MLEAC=1,37;MLEAF=8.228e-05,3.044e-03;MQ=31.79;MQRankSum=0.254;NCC=1105;QD=12.12;ReadPosRankSum=0.431;RegionType=SubtelomericRepeat;SNPEFF_EFFECT=INTERGENIC;SNPEFF_FUNCTIONAL_CLASS=NONE;SNPEFF_IMPACT=MODIFIER;SOR=0.507;VQSLOD=1.38;VariantType=MULTIALLELIC_SNP;culprit=DP;set=snp\r\n",
      "Pf3D7_01_v3\t7116\t.\tC\tT,A,*\t16497.73\tSubtelomericRepeat\tAC=53,17,3;AF=4.368e-03,1.401e-03,2.472e-04;AN=12134;AS_InbreedingCoeff=0.0172,-0.0032,-0.0184;BaseQRankSum=1.59;ClippingRankSum=0.00;DP=121040;ExcessHet=-0.0000;FS=1.183;FractionInformativeReads=0.994;GC=52.38;GQ_MEAN=41.61;GQ_STDDEV=45.81;InbreedingCoeff=0.1312;MLEAC=43,16,1;MLEAF=3.544e-03,1.319e-03,8.241e-05;MQ=27.19;MQRankSum=0.00;NCC=1115;QD=16.68;ReadPosRankSum=1.04;RegionType=SubtelomericRepeat;SNPEFF_EFFECT=INTERGENIC;SNPEFF_FUNCTIONAL_CLASS=NONE;SNPEFF_IMPACT=MODIFIER;SOR=0.850;VQSLOD=1.96;VariantType=MULTIALLELIC_SNP;culprit=FS;set=snp\r\n",
      "Pf3D7_01_v3\t7117\t.\tG\tC,A,*,T\t100455.45\tSubtelomericRepeat\tAC=335,78,1,8;AF=0.030,6.903e-03,8.850e-05,7.080e-04;AN=11300;AS_InbreedingCoeff=0.0566,0.0227,-0.0314,-0.0298;BaseQRankSum=1.28;ClippingRankSum=0.00;DP=127005;ExcessHet=-0.0000;FS=5.215;FractionInformativeReads=0.981;GC=47.62;GQ_MEAN=34.49;GQ_STDDEV=66.64;InbreedingCoeff=0.2849;MLEAC=304,79,1,7;MLEAF=0.027,6.991e-03,8.850e-05,6.195e-04;MQ=31.04;MQRankSum=0.253;NCC=1532;QD=16.36;ReadPosRankSum=0.571;RegionType=SubtelomericRepeat;SNPEFF_EFFECT=INTERGENIC;SNPEFF_FUNCTIONAL_CLASS=NONE;SNPEFF_IMPACT=MODIFIER;SOR=0.412;VQSLOD=0.838;VariantType=MULTIALLELIC_SNP;culprit=DP;set=snp\r\n",
      "Pf3D7_01_v3\t7119\t.\tT\t*,A,C\t508.81\tLow_VQSLOD;SubtelomericRepeat\tAC=1,1,5;AF=8.040e-05,8.040e-05,4.020e-04;AN=12438;AS_InbreedingCoeff=-0.0153,-0.0153,-0.0157;BaseQRankSum=0.626;ClippingRankSum=0.00;DP=135148;ExcessHet=3.0184;FS=0.000;FractionInformativeReads=0.996;GC=42.86;GQ_MEAN=46.72;GQ_STDDEV=40.43;InbreedingCoeff=0.0655;MLEAC=1,1,3;MLEAF=8.040e-05,8.040e-05,2.412e-04;MQ=25.35;MQRankSum=-6.740e-01;NCC=963;QD=2.91;ReadPosRankSum=0.210;RegionType=SubtelomericRepeat;SNPEFF_EFFECT=INTERGENIC;SNPEFF_FUNCTIONAL_CLASS=NONE;SNPEFF_IMPACT=MODIFIER;SOR=0.706;VQSLOD=-7.021e-01;VariantType=MULTIALLELIC_SNP;culprit=QD;set=snp\r\n",
      "Pf3D7_01_v3\t7120\t.\tCTATTAGTCAAAAAACGA\tTTATTAGTCAAAAAACGA,ATATTAGTCAAAAAACGA,GTATTAGTCAAAAAACGA,*\t371921.01\tSubtelomericRepeat\tAC=1262,77,25,1;AF=0.115,7.037e-03,2.285e-03,9.139e-05;AN=10942;AS_InbreedingCoeff=0.0974,0.0126,-0.0094,-0.0296;BaseQRankSum=0.431;ClippingRankSum=0.00;DP=143896;ExcessHet=-0.0000;FS=0.537;FractionInformativeReads=0.916;GC=42.86;GQ_MEAN=45.57;GQ_STDDEV=135.28;InbreedingCoeff=0.2981;MLEAC=1198,66,24,1;MLEAF=0.109,6.032e-03,2.193e-03,9.139e-05;MQ=34.70;MQRankSum=0.058;NCC=1711;QD=17.78;ReadPosRankSum=0.319;RegionType=SubtelomericRepeat;SNPEFF_EFFECT=INTERGENIC;SNPEFF_FUNCTIONAL_CLASS=NONE;SNPEFF_IMPACT=MODIFIER;SOR=0.646;VQSLOD=2.88;VariantType=MULTIALLELIC_MIXED;culprit=FS;set=indel\r\n",
      "Pf3D7_01_v3\t7121\t.\tTATTA\tCATTA,*\t1146.62\tSubtelomericRepeat\tAC=10,1;AF=7.999e-04,7.999e-05;AN=12502;AS_InbreedingCoeff=-0.0005,-0.0173;BaseQRankSum=-7.920e-01;ClippingRankSum=0.00;DP=149934;ExcessHet=0.0000;FS=2.310;FractionInformativeReads=0.997;GC=42.86;GQ_MEAN=48.68;GQ_STDDEV=41.63;InbreedingCoeff=0.0450;MLEAC=7,1;MLEAF=5.599e-04,7.999e-05;MQ=27.07;MQRankSum=0.146;NCC=931;QD=9.03;ReadPosRankSum=0.138;RegionType=SubtelomericRepeat;SNPEFF_EFFECT=INTERGENIC;SNPEFF_FUNCTIONAL_CLASS=NONE;SNPEFF_IMPACT=MODIFIER;SOR=0.537;VQSLOD=0.373;VariantType=MULTIALLELIC_MIXED;culprit=QD;set=indel\r\n",
      "Pf3D7_01_v3\t7122\t.\tA\tG,T,C,*\t289883.34\tSubtelomericRepeat\tAC=1105,23,17,1;AF=0.091,1.892e-03,1.399e-03,8.228e-05;AN=12154;AS_InbreedingCoeff=0.1431,0.0102,-0.0017,-0.0132;BaseQRankSum=-1.150e+00;ClippingRankSum=0.00;DP=153864;ExcessHet=-0.0000;FS=0.000;FractionInformativeReads=0.916;GC=38.10;GQ_MEAN=51.80;GQ_STDDEV=118.71;InbreedingCoeff=0.2793;MLEAC=1037,15,15,1;MLEAF=0.085,1.234e-03,1.234e-03,8.228e-05;MQ=38.55;MQRankSum=0.215;NCC=1105;QD=15.29;ReadPosRankSum=0.475;RegionType=SubtelomericRepeat;SNPEFF_EFFECT=INTERGENIC;SNPEFF_FUNCTIONAL_CLASS=NONE;SNPEFF_IMPACT=MODIFIER;SOR=0.705;VQSLOD=4.12;VariantType=MULTIALLELIC_SNP;culprit=FS;set=snp\r\n"
     ]
    }
   ],
   "source": [
    "!tabix /nfs/team112_internal/production_files/Pf/6_0/SNP_INDEL_Pf3D7_01_v3.combined.filtered.vcf.gz Pf3D7_01_v3:7103-7123"
   ]
  },
  {
   "cell_type": "code",
   "execution_count": 46,
   "metadata": {
    "collapsed": false
   },
   "outputs": [
    {
     "name": "stdout",
     "output_type": "stream",
     "text": [
      "Pf3D7_01_v3\t7103\tTG\tGG,*,TCGG,AG,CG\tINDEL\r\n",
      "Pf3D7_01_v3\t7104\tG\tA,GCGC,GC,C,GCGA\tINDEL\r\n",
      "Pf3D7_01_v3\t7109\tTTGGG\tT\tINDEL\r\n",
      "Pf3D7_01_v3\t7110\tTGGGACCG\tGGGGACCG,*,CGGGACCG\tINDEL\r\n",
      "Pf3D7_01_v3\t7111\tGGGACCGTTCTATTAGTC\t*,AGGACCGTTCTATTAGTC,CGGACCGTTCTATTAGTC\tINDEL\r\n",
      "Pf3D7_01_v3\t7114\tACCGTTCTATTAGTCAAAAAACGACATCCAATTTATAGGGGAAACAAAACCGGAAATTCGGGTTTTAGACCCAAATTATAGAACGCAATTTCCACCAGGTACGCCAACGTGGATATTTCTATCATATAGTCCGTGATCAACTATACATACTACGTGGTACCACATGGTTACTACATCACACGCGTGGTGTTTAATCACCATTTTTTCATTATACCCAATTTTCCCCTAGCACTTTTGGTGCACAATTCACATGCACTTGAAAGCATTTGATGATTATGATGTTGCACACACGATGTTAACATCTCAATCAAAATTGTGGGTCACTTACTATATGGTAATATACCCTA\tA\tINDEL\r\n",
      "Pf3D7_01_v3\t7120\tCTATTAGTCAAAAAACGA\tTTATTAGTCAAAAAACGA,ATATTAGTCAAAAAACGA,GTATTAGTCAAAAAACGA,*\tINDEL\r\n",
      "Pf3D7_01_v3\t7121\tTATTA\tCATTA,*\tINDEL\r\n"
     ]
    }
   ],
   "source": [
    "!tabix /lustre/scratch109/malaria/rp7/data/methods-dev/builds/Pf6.0/20161125_Pf60_final_vcfs/intermediate_files/\\\n",
    "SNP_INDEL_Pf3D7_01_v3.combined.filtered.indels.txt.gz Pf3D7_01_v3:7103-7123"
   ]
  },
  {
   "cell_type": "code",
   "execution_count": 42,
   "metadata": {
    "collapsed": false
   },
   "outputs": [
    {
     "data": {
      "text/plain": [
       "('CHROM',\n",
       " 'POS',\n",
       " 'REF',\n",
       " 'ALT',\n",
       " 'CDS',\n",
       " 'VARIANT_TYPE',\n",
       " 'MULTIALLELIC',\n",
       " 'AC',\n",
       " 'AN',\n",
       " 'FILTER_Centromere',\n",
       " 'FILTER_InternalHypervariable',\n",
       " 'FILTER_LowQual',\n",
       " 'FILTER_Low_VQSLOD',\n",
       " 'FILTER_PASS',\n",
       " 'FILTER_SubtelomericHypervariable',\n",
       " 'FILTER_SubtelomericRepeat',\n",
       " 'FILTER_VQSRTrancheINDEL99.00to99.90',\n",
       " 'FILTER_VQSRTrancheINDEL99.90to100.00',\n",
       " 'FILTER_VQSRTrancheINDEL99.90to100.00+',\n",
       " 'FILTER_VQSRTrancheSNP99.90to100.00',\n",
       " 'FILTER_VQSRTrancheSNP99.90to100.00+',\n",
       " 'VQSLOD')"
      ]
     },
     "execution_count": 42,
     "metadata": {},
     "output_type": "execute_result"
    }
   ],
   "source": [
    "variants['Pf60'].dtype.names"
   ]
  },
  {
   "cell_type": "code",
   "execution_count": 9,
   "metadata": {
    "collapsed": false
   },
   "outputs": [
    {
     "data": {
      "text/html": [
       "<div>\n",
       "<table border=\"1\" class=\"dataframe\">\n",
       "  <thead>\n",
       "    <tr style=\"text-align: right;\">\n",
       "      <th></th>\n",
       "      <th>VARIANT_TYPE</th>\n",
       "      <th>CDS</th>\n",
       "      <th>MULTIALLELIC</th>\n",
       "      <th>Discovered variant positions</th>\n",
       "      <th>Pass variant positions</th>\n",
       "      <th>Alleles</th>\n",
       "      <th>Mean NRAF</th>\n",
       "      <th>Missingness</th>\n",
       "      <th>% pass</th>\n",
       "      <th>Alleles per position</th>\n",
       "      <th>Variants per sample</th>\n",
       "    </tr>\n",
       "  </thead>\n",
       "  <tbody>\n",
       "    <tr>\n",
       "      <th>0</th>\n",
       "      <td>SNP</td>\n",
       "      <td>True</td>\n",
       "      <td>BI</td>\n",
       "      <td>1590717</td>\n",
       "      <td>1044869.0</td>\n",
       "      <td>1044869.0</td>\n",
       "      <td>0.004359</td>\n",
       "      <td>0.032077</td>\n",
       "      <td>0.656854</td>\n",
       "      <td>1.000000</td>\n",
       "      <td>4554.065283</td>\n",
       "    </tr>\n",
       "    <tr>\n",
       "      <th>1</th>\n",
       "      <td>SNP</td>\n",
       "      <td>True</td>\n",
       "      <td>MU</td>\n",
       "      <td>236939</td>\n",
       "      <td>155084.0</td>\n",
       "      <td>319446.0</td>\n",
       "      <td>0.004191</td>\n",
       "      <td>0.034711</td>\n",
       "      <td>0.654531</td>\n",
       "      <td>2.059826</td>\n",
       "      <td>1338.787576</td>\n",
       "    </tr>\n",
       "    <tr>\n",
       "      <th>2</th>\n",
       "      <td>SNP</td>\n",
       "      <td>True</td>\n",
       "      <td>SD</td>\n",
       "      <td>168497</td>\n",
       "      <td>119323.0</td>\n",
       "      <td>119323.0</td>\n",
       "      <td>0.004646</td>\n",
       "      <td>0.051499</td>\n",
       "      <td>0.708161</td>\n",
       "      <td>1.000000</td>\n",
       "      <td>554.376087</td>\n",
       "    </tr>\n",
       "    <tr>\n",
       "      <th>3</th>\n",
       "      <td>SNP</td>\n",
       "      <td>False</td>\n",
       "      <td>BI</td>\n",
       "      <td>1203255</td>\n",
       "      <td>582017.0</td>\n",
       "      <td>582017.0</td>\n",
       "      <td>0.005051</td>\n",
       "      <td>0.065618</td>\n",
       "      <td>0.483702</td>\n",
       "      <td>1.000000</td>\n",
       "      <td>2939.619675</td>\n",
       "    </tr>\n",
       "    <tr>\n",
       "      <th>4</th>\n",
       "      <td>SNP</td>\n",
       "      <td>False</td>\n",
       "      <td>MU</td>\n",
       "      <td>266915</td>\n",
       "      <td>85097.0</td>\n",
       "      <td>174484.0</td>\n",
       "      <td>0.005298</td>\n",
       "      <td>0.072221</td>\n",
       "      <td>0.318817</td>\n",
       "      <td>2.050413</td>\n",
       "      <td>924.360164</td>\n",
       "    </tr>\n",
       "    <tr>\n",
       "      <th>5</th>\n",
       "      <td>SNP</td>\n",
       "      <td>False</td>\n",
       "      <td>SD</td>\n",
       "      <td>380262</td>\n",
       "      <td>190920.0</td>\n",
       "      <td>190920.0</td>\n",
       "      <td>0.007117</td>\n",
       "      <td>0.155623</td>\n",
       "      <td>0.502075</td>\n",
       "      <td>1.000000</td>\n",
       "      <td>1358.807215</td>\n",
       "    </tr>\n",
       "    <tr>\n",
       "      <th>6</th>\n",
       "      <td>IND</td>\n",
       "      <td>True</td>\n",
       "      <td>BI</td>\n",
       "      <td>80037</td>\n",
       "      <td>19059.0</td>\n",
       "      <td>19059.0</td>\n",
       "      <td>0.004266</td>\n",
       "      <td>0.041287</td>\n",
       "      <td>0.238127</td>\n",
       "      <td>1.000000</td>\n",
       "      <td>81.309240</td>\n",
       "    </tr>\n",
       "    <tr>\n",
       "      <th>7</th>\n",
       "      <td>IND</td>\n",
       "      <td>True</td>\n",
       "      <td>MU</td>\n",
       "      <td>480615</td>\n",
       "      <td>109642.0</td>\n",
       "      <td>345533.0</td>\n",
       "      <td>0.015204</td>\n",
       "      <td>0.065170</td>\n",
       "      <td>0.228129</td>\n",
       "      <td>3.151466</td>\n",
       "      <td>5253.590294</td>\n",
       "    </tr>\n",
       "    <tr>\n",
       "      <th>8</th>\n",
       "      <td>IND</td>\n",
       "      <td>True</td>\n",
       "      <td>SD</td>\n",
       "      <td>111503</td>\n",
       "      <td>63489.0</td>\n",
       "      <td>63489.0</td>\n",
       "      <td>0.006127</td>\n",
       "      <td>0.062447</td>\n",
       "      <td>0.569393</td>\n",
       "      <td>1.000000</td>\n",
       "      <td>389.008716</td>\n",
       "    </tr>\n",
       "    <tr>\n",
       "      <th>9</th>\n",
       "      <td>IND</td>\n",
       "      <td>False</td>\n",
       "      <td>BI</td>\n",
       "      <td>254006</td>\n",
       "      <td>139792.0</td>\n",
       "      <td>139792.0</td>\n",
       "      <td>0.003324</td>\n",
       "      <td>0.097701</td>\n",
       "      <td>0.550349</td>\n",
       "      <td>1.000000</td>\n",
       "      <td>464.615163</td>\n",
       "    </tr>\n",
       "    <tr>\n",
       "      <th>10</th>\n",
       "      <td>IND</td>\n",
       "      <td>False</td>\n",
       "      <td>MU</td>\n",
       "      <td>883088</td>\n",
       "      <td>345755.0</td>\n",
       "      <td>1107509.0</td>\n",
       "      <td>0.022401</td>\n",
       "      <td>0.182756</td>\n",
       "      <td>0.391529</td>\n",
       "      <td>3.203161</td>\n",
       "      <td>24808.983328</td>\n",
       "    </tr>\n",
       "    <tr>\n",
       "      <th>11</th>\n",
       "      <td>IND</td>\n",
       "      <td>False</td>\n",
       "      <td>SD</td>\n",
       "      <td>395861</td>\n",
       "      <td>259713.0</td>\n",
       "      <td>259713.0</td>\n",
       "      <td>0.005666</td>\n",
       "      <td>0.205113</td>\n",
       "      <td>0.656071</td>\n",
       "      <td>1.000000</td>\n",
       "      <td>1471.539273</td>\n",
       "    </tr>\n",
       "    <tr>\n",
       "      <th>12</th>\n",
       "      <td></td>\n",
       "      <td>False</td>\n",
       "      <td></td>\n",
       "      <td>35</td>\n",
       "      <td>NaN</td>\n",
       "      <td>NaN</td>\n",
       "      <td>NaN</td>\n",
       "      <td>NaN</td>\n",
       "      <td>NaN</td>\n",
       "      <td>NaN</td>\n",
       "      <td>NaN</td>\n",
       "    </tr>\n",
       "  </tbody>\n",
       "</table>\n",
       "</div>"
      ],
      "text/plain": [
       "   VARIANT_TYPE    CDS MULTIALLELIC  Discovered variant positions  \\\n",
       "0           SNP   True           BI                       1590717   \n",
       "1           SNP   True           MU                        236939   \n",
       "2           SNP   True           SD                        168497   \n",
       "3           SNP  False           BI                       1203255   \n",
       "4           SNP  False           MU                        266915   \n",
       "5           SNP  False           SD                        380262   \n",
       "6           IND   True           BI                         80037   \n",
       "7           IND   True           MU                        480615   \n",
       "8           IND   True           SD                        111503   \n",
       "9           IND  False           BI                        254006   \n",
       "10          IND  False           MU                        883088   \n",
       "11          IND  False           SD                        395861   \n",
       "12               False                                         35   \n",
       "\n",
       "    Pass variant positions    Alleles  Mean NRAF  Missingness    % pass  \\\n",
       "0                1044869.0  1044869.0   0.004359     0.032077  0.656854   \n",
       "1                 155084.0   319446.0   0.004191     0.034711  0.654531   \n",
       "2                 119323.0   119323.0   0.004646     0.051499  0.708161   \n",
       "3                 582017.0   582017.0   0.005051     0.065618  0.483702   \n",
       "4                  85097.0   174484.0   0.005298     0.072221  0.318817   \n",
       "5                 190920.0   190920.0   0.007117     0.155623  0.502075   \n",
       "6                  19059.0    19059.0   0.004266     0.041287  0.238127   \n",
       "7                 109642.0   345533.0   0.015204     0.065170  0.228129   \n",
       "8                  63489.0    63489.0   0.006127     0.062447  0.569393   \n",
       "9                 139792.0   139792.0   0.003324     0.097701  0.550349   \n",
       "10                345755.0  1107509.0   0.022401     0.182756  0.391529   \n",
       "11                259713.0   259713.0   0.005666     0.205113  0.656071   \n",
       "12                     NaN        NaN        NaN          NaN       NaN   \n",
       "\n",
       "    Alleles per position  Variants per sample  \n",
       "0               1.000000          4554.065283  \n",
       "1               2.059826          1338.787576  \n",
       "2               1.000000           554.376087  \n",
       "3               1.000000          2939.619675  \n",
       "4               2.050413           924.360164  \n",
       "5               1.000000          1358.807215  \n",
       "6               1.000000            81.309240  \n",
       "7               3.151466          5253.590294  \n",
       "8               1.000000           389.008716  \n",
       "9               1.000000           464.615163  \n",
       "10              3.203161         24808.983328  \n",
       "11              1.000000          1471.539273  \n",
       "12                   NaN                  NaN  "
      ]
     },
     "execution_count": 9,
     "metadata": {},
     "output_type": "execute_result"
    }
   ],
   "source": [
    "determine_variant_counts(groupby_variables = ['VARIANT_TYPE', 'CDS', 'MULTIALLELIC'])"
   ]
  },
  {
   "cell_type": "markdown",
   "metadata": {},
   "source": [
    "# Pv 3.0 variant counts"
   ]
  },
  {
   "cell_type": "code",
   "execution_count": 22,
   "metadata": {
    "collapsed": false
   },
   "outputs": [
    {
     "data": {
      "text/html": [
       "<div>\n",
       "<table border=\"1\" class=\"dataframe\">\n",
       "  <thead>\n",
       "    <tr style=\"text-align: right;\">\n",
       "      <th></th>\n",
       "      <th>VARIANT_TYPE</th>\n",
       "      <th>CDS</th>\n",
       "      <th>Discovered variant positions</th>\n",
       "      <th>Pass variant positions</th>\n",
       "      <th>Alleles</th>\n",
       "      <th>Mean NRAF</th>\n",
       "      <th>Missingness</th>\n",
       "      <th>% pass</th>\n",
       "      <th>Alleles per position</th>\n",
       "      <th>Variants per sample</th>\n",
       "    </tr>\n",
       "  </thead>\n",
       "  <tbody>\n",
       "    <tr>\n",
       "      <th>0</th>\n",
       "      <td>SNP</td>\n",
       "      <td>True</td>\n",
       "      <td>1996153</td>\n",
       "      <td>1319276.0</td>\n",
       "      <td>1483638.0</td>\n",
       "      <td>0.004346</td>\n",
       "      <td>0.034206</td>\n",
       "      <td>0.660909</td>\n",
       "      <td>1.124585</td>\n",
       "      <td>6447.228945</td>\n",
       "    </tr>\n",
       "    <tr>\n",
       "      <th>1</th>\n",
       "      <td>SNP</td>\n",
       "      <td>False</td>\n",
       "      <td>1850432</td>\n",
       "      <td>858034.0</td>\n",
       "      <td>947421.0</td>\n",
       "      <td>0.005513</td>\n",
       "      <td>0.084972</td>\n",
       "      <td>0.463694</td>\n",
       "      <td>1.104177</td>\n",
       "      <td>5222.787054</td>\n",
       "    </tr>\n",
       "    <tr>\n",
       "      <th>2</th>\n",
       "      <td>IND</td>\n",
       "      <td>True</td>\n",
       "      <td>672155</td>\n",
       "      <td>192190.0</td>\n",
       "      <td>428081.0</td>\n",
       "      <td>0.013371</td>\n",
       "      <td>0.063703</td>\n",
       "      <td>0.285931</td>\n",
       "      <td>2.227384</td>\n",
       "      <td>5723.908250</td>\n",
       "    </tr>\n",
       "    <tr>\n",
       "      <th>3</th>\n",
       "      <td>IND</td>\n",
       "      <td>False</td>\n",
       "      <td>1532955</td>\n",
       "      <td>745260.0</td>\n",
       "      <td>1507014.0</td>\n",
       "      <td>0.017747</td>\n",
       "      <td>0.178719</td>\n",
       "      <td>0.486159</td>\n",
       "      <td>2.022132</td>\n",
       "      <td>26745.137765</td>\n",
       "    </tr>\n",
       "    <tr>\n",
       "      <th>4</th>\n",
       "      <td></td>\n",
       "      <td>False</td>\n",
       "      <td>35</td>\n",
       "      <td>NaN</td>\n",
       "      <td>NaN</td>\n",
       "      <td>NaN</td>\n",
       "      <td>NaN</td>\n",
       "      <td>NaN</td>\n",
       "      <td>NaN</td>\n",
       "      <td>NaN</td>\n",
       "    </tr>\n",
       "  </tbody>\n",
       "</table>\n",
       "</div>"
      ],
      "text/plain": [
       "  VARIANT_TYPE    CDS  Discovered variant positions  Pass variant positions  \\\n",
       "0          SNP   True                       1996153               1319276.0   \n",
       "1          SNP  False                       1850432                858034.0   \n",
       "2          IND   True                        672155                192190.0   \n",
       "3          IND  False                       1532955                745260.0   \n",
       "4               False                            35                     NaN   \n",
       "\n",
       "     Alleles  Mean NRAF  Missingness    % pass  Alleles per position  \\\n",
       "0  1483638.0   0.004346     0.034206  0.660909              1.124585   \n",
       "1   947421.0   0.005513     0.084972  0.463694              1.104177   \n",
       "2   428081.0   0.013371     0.063703  0.285931              2.227384   \n",
       "3  1507014.0   0.017747     0.178719  0.486159              2.022132   \n",
       "4        NaN        NaN          NaN       NaN                   NaN   \n",
       "\n",
       "   Variants per sample  \n",
       "0          6447.228945  \n",
       "1          5222.787054  \n",
       "2          5723.908250  \n",
       "3         26745.137765  \n",
       "4                  NaN  "
      ]
     },
     "execution_count": 22,
     "metadata": {},
     "output_type": "execute_result"
    }
   ],
   "source": [
    "determine_variant_counts()"
   ]
  },
  {
   "cell_type": "code",
   "execution_count": 32,
   "metadata": {
    "collapsed": false
   },
   "outputs": [
    {
     "data": {
      "text/html": [
       "<div>\n",
       "<table border=\"1\" class=\"dataframe\">\n",
       "  <thead>\n",
       "    <tr style=\"text-align: right;\">\n",
       "      <th></th>\n",
       "      <th>VARIANT_TYPE</th>\n",
       "      <th>CDS</th>\n",
       "      <th>Discovered variant positions</th>\n",
       "      <th>Pass variant positions</th>\n",
       "      <th>Alleles</th>\n",
       "      <th>Mean NRAF</th>\n",
       "      <th>Missingness</th>\n",
       "      <th>% pass</th>\n",
       "      <th>Alleles per position</th>\n",
       "      <th>Variants per sample</th>\n",
       "    </tr>\n",
       "  </thead>\n",
       "  <tbody>\n",
       "    <tr>\n",
       "      <th>0</th>\n",
       "      <td>SNP</td>\n",
       "      <td>True</td>\n",
       "      <td>965032</td>\n",
       "      <td>509651.0</td>\n",
       "      <td>551406.0</td>\n",
       "      <td>0.037570</td>\n",
       "      <td>0.116504</td>\n",
       "      <td>0.528118</td>\n",
       "      <td>1.081929</td>\n",
       "      <td>20716.409945</td>\n",
       "    </tr>\n",
       "    <tr>\n",
       "      <th>1</th>\n",
       "      <td>SNP</td>\n",
       "      <td>False</td>\n",
       "      <td>1349958</td>\n",
       "      <td>629874.0</td>\n",
       "      <td>777831.0</td>\n",
       "      <td>0.053374</td>\n",
       "      <td>0.167917</td>\n",
       "      <td>0.466588</td>\n",
       "      <td>1.234899</td>\n",
       "      <td>41515.749754</td>\n",
       "    </tr>\n",
       "    <tr>\n",
       "      <th>2</th>\n",
       "      <td>IND</td>\n",
       "      <td>True</td>\n",
       "      <td>248520</td>\n",
       "      <td>106399.0</td>\n",
       "      <td>215480.0</td>\n",
       "      <td>0.047035</td>\n",
       "      <td>0.230220</td>\n",
       "      <td>0.428131</td>\n",
       "      <td>2.025207</td>\n",
       "      <td>10135.156734</td>\n",
       "    </tr>\n",
       "    <tr>\n",
       "      <th>3</th>\n",
       "      <td>IND</td>\n",
       "      <td>False</td>\n",
       "      <td>499616</td>\n",
       "      <td>197501.0</td>\n",
       "      <td>397067.0</td>\n",
       "      <td>0.054896</td>\n",
       "      <td>0.244291</td>\n",
       "      <td>0.395306</td>\n",
       "      <td>2.010456</td>\n",
       "      <td>21797.279569</td>\n",
       "    </tr>\n",
       "    <tr>\n",
       "      <th>4</th>\n",
       "      <td></td>\n",
       "      <td>False</td>\n",
       "      <td>6</td>\n",
       "      <td>NaN</td>\n",
       "      <td>NaN</td>\n",
       "      <td>NaN</td>\n",
       "      <td>NaN</td>\n",
       "      <td>NaN</td>\n",
       "      <td>NaN</td>\n",
       "      <td>NaN</td>\n",
       "    </tr>\n",
       "  </tbody>\n",
       "</table>\n",
       "</div>"
      ],
      "text/plain": [
       "  VARIANT_TYPE    CDS  Discovered variant positions  Pass variant positions  \\\n",
       "0          SNP   True                        965032                509651.0   \n",
       "1          SNP  False                       1349958                629874.0   \n",
       "2          IND   True                        248520                106399.0   \n",
       "3          IND  False                        499616                197501.0   \n",
       "4               False                             6                     NaN   \n",
       "\n",
       "    Alleles  Mean NRAF  Missingness    % pass  Alleles per position  \\\n",
       "0  551406.0   0.037570     0.116504  0.528118              1.081929   \n",
       "1  777831.0   0.053374     0.167917  0.466588              1.234899   \n",
       "2  215480.0   0.047035     0.230220  0.428131              2.025207   \n",
       "3  397067.0   0.054896     0.244291  0.395306              2.010456   \n",
       "4       NaN        NaN          NaN       NaN                   NaN   \n",
       "\n",
       "   Variants per sample  \n",
       "0         20716.409945  \n",
       "1         41515.749754  \n",
       "2         10135.156734  \n",
       "3         21797.279569  \n",
       "4                  NaN  "
      ]
     },
     "execution_count": 32,
     "metadata": {},
     "output_type": "execute_result"
    }
   ],
   "source": [
    "determine_variant_counts(variants=variants['Pv30'], number_of_samples=number_of_samples['Pv30'])"
   ]
  },
  {
   "cell_type": "code",
   "execution_count": null,
   "metadata": {
    "collapsed": false
   },
   "outputs": [],
   "source": [
    "determine_variant_counts(variants=variants['Pv30'], number_of_samples=number_of_samples['Pv30'])"
   ]
  },
  {
   "cell_type": "code",
   "execution_count": null,
   "metadata": {
    "collapsed": false
   },
   "outputs": [],
   "source": [
    "determine_variant_counts(variants=variants['Pv30'], number_of_samples=number_of_samples['Pv30'])"
   ]
  },
  {
   "cell_type": "code",
   "execution_count": null,
   "metadata": {
    "collapsed": true
   },
   "outputs": [],
   "source": []
  },
  {
   "cell_type": "code",
   "execution_count": 30,
   "metadata": {
    "collapsed": false
   },
   "outputs": [
    {
     "data": {
      "text/plain": [
       "True"
      ]
     },
     "execution_count": 30,
     "metadata": {},
     "output_type": "execute_result"
    }
   ],
   "source": [
    "'FILTER_SubtelomericRepeat' in variants['Pf60'].dtype.names"
   ]
  },
  {
   "cell_type": "code",
   "execution_count": 33,
   "metadata": {
    "collapsed": false
   },
   "outputs": [
    {
     "data": {
      "text/plain": [
       "42732"
      ]
     },
     "execution_count": 33,
     "metadata": {},
     "output_type": "execute_result"
    }
   ],
   "source": [
    "105800-63068"
   ]
  },
  {
   "cell_type": "code",
   "execution_count": 10,
   "metadata": {
    "collapsed": false
   },
   "outputs": [],
   "source": [
    "# !vcf2npy \\\n",
    "#     --vcf {normalised_annotated_wg_vcf_fn} \\\n",
    "#     --fasta {genome_fn} \\\n",
    "#     --output-dir {'%s.vcfnp_cache' % normalised_annotated_wg_vcf_fn} \\\n",
    "#     --array-type variants \\\n",
    "#     --progress 100000 \\\n",
    "#     --arity ALT:1 \\\n",
    "#     --arity AC:1 \\\n",
    "#     --arity svlen:1 \\\n",
    "#     --dtype REF:a300 \\\n",
    "#     --dtype ALT:a300 \\\n",
    "#     --dtype MULTIALLELIC:a2 \\\n",
    "#     --dtype VARIANT_TYPE:a5 \\\n",
    "#     --exclude-field AF"
   ]
  }
 ],
 "metadata": {
  "kernelspec": {
   "display_name": "Python 3",
   "language": "python",
   "name": "python3"
  },
  "language_info": {
   "codemirror_mode": {
    "name": "ipython",
    "version": 3
   },
   "file_extension": ".py",
   "mimetype": "text/x-python",
   "name": "python",
   "nbconvert_exporter": "python",
   "pygments_lexer": "ipython3",
   "version": "3.5.2"
  }
 },
 "nbformat": 4,
 "nbformat_minor": 1
}
