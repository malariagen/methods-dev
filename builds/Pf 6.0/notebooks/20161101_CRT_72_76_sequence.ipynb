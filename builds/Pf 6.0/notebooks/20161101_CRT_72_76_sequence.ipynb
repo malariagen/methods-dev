{
 "cells": [
  {
   "cell_type": "code",
   "execution_count": 6,
   "metadata": {
    "collapsed": true
   },
   "outputs": [],
   "source": [
    "GENOME_FN = \"/lustre/scratch109/malaria/pf3k_methods/resources/Pfalciparum.genome.fasta\"\n",
    "!cp {GENOME_FN} ./"
   ]
  },
  {
   "cell_type": "code",
   "execution_count": 4,
   "metadata": {
    "collapsed": true
   },
   "outputs": [],
   "source": [
    "from pyfasta import Fasta"
   ]
  },
  {
   "cell_type": "code",
   "execution_count": 8,
   "metadata": {
    "collapsed": false
   },
   "outputs": [
    {
     "data": {
      "text/plain": [
       "['Pf3D7_14_v3',\n",
       " 'Pf3D7_01_v3',\n",
       " 'Pf3D7_04_v3',\n",
       " 'Pf3D7_07_v3',\n",
       " 'Pf3D7_API_v3',\n",
       " 'Pf3D7_02_v3',\n",
       " 'Pf3D7_13_v3',\n",
       " 'Pf3D7_09_v3',\n",
       " 'Pf3D7_03_v3',\n",
       " 'Pf3D7_08_v3',\n",
       " 'Pf3D7_06_v3',\n",
       " 'Pf3D7_05_v3',\n",
       " 'Pf3D7_12_v3',\n",
       " 'Pf3D7_11_v3',\n",
       " 'Pf3D7_10_v3',\n",
       " 'Pf_M76611']"
      ]
     },
     "execution_count": 8,
     "metadata": {},
     "output_type": "execute_result"
    }
   ],
   "source": [
    "genome = Fasta(\"Pfalciparum.genome.fasta\")\n",
    "list(genome.keys())"
   ]
  },
  {
   "cell_type": "code",
   "execution_count": 22,
   "metadata": {
    "collapsed": false
   },
   "outputs": [
    {
     "data": {
      "text/plain": [
       "'TGTGTAATGAATAAA'"
      ]
     },
     "execution_count": 22,
     "metadata": {},
     "output_type": "execute_result"
    }
   ],
   "source": [
    "genome['Pf3D7_07_v3'][403611:403626].upper()"
   ]
  },
  {
   "cell_type": "code",
   "execution_count": 15,
   "metadata": {
    "collapsed": false
   },
   "outputs": [
    {
     "data": {
      "text/plain": [
       "1445207"
      ]
     },
     "execution_count": 15,
     "metadata": {},
     "output_type": "execute_result"
    }
   ],
   "source": [
    "len(genome['Pf3D7_07_v3'])"
   ]
  },
  {
   "cell_type": "code",
   "execution_count": null,
   "metadata": {
    "collapsed": true
   },
   "outputs": [],
   "source": []
  }
 ],
 "metadata": {
  "anaconda-cloud": {},
  "kernelspec": {
   "display_name": "Python [default]",
   "language": "python",
   "name": "python3"
  },
  "language_info": {
   "codemirror_mode": {
    "name": "ipython",
    "version": 3
   },
   "file_extension": ".py",
   "mimetype": "text/x-python",
   "name": "python",
   "nbconvert_exporter": "python",
   "pygments_lexer": "ipython3",
   "version": "3.4.5"
  }
 },
 "nbformat": 4,
 "nbformat_minor": 1
}
