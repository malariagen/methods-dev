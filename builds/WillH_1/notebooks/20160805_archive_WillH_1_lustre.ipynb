{
 "cells": [
  {
   "cell_type": "markdown",
   "metadata": {},
   "source": [
    "# Introduction\n",
    "As part of cleanup of lustre, I decided we should copy various WillH_1 outputs used or created by vrpipe.\n",
    "\n",
    "Setups used were: 729-747\n",
    "\n",
    "I decided it might be good to keep inputs, resources, outputs of HaplotypeCaller and final vcfs\n",
    "\n",
    "I have asked Jim and Dushi to archive improved sample bams as a priority, but also outputs of HaplotypeCaller and final vcfs"
   ]
  },
  {
   "cell_type": "code",
   "execution_count": 5,
   "metadata": {
    "collapsed": true
   },
   "outputs": [],
   "source": [
    "archive_dir = '/nfs/team112_internal/rp7/data/Pf/WillH_1'\n",
    "for chrom in ['Pf3D7_%02d_v3' % n for n in range(1, 15)] + ['Pf3D7_API_v3', 'Pf_M76611']:\n",
    "    !mkdir -p {\"%s/vcf/vcf_symlinks/%s\" % (archive_dir, chrom)}"
   ]
  },
  {
   "cell_type": "code",
   "execution_count": 3,
   "metadata": {
    "collapsed": true
   },
   "outputs": [],
   "source": [
    "!cp -R /lustre/scratch109/malaria/WillH_1/meta {archive_dir}/"
   ]
  },
  {
   "cell_type": "raw",
   "metadata": {},
   "source": [
    "# copy HaplotypeCaller outputs\n",
    "cd /nfs/team112_internal/rp7/data/Pf/WillH_1/vcf\n",
    "mkdir haplotype_caller\n",
    "vrpipe-output --setup WillH_haplotype_caller --output_dir /nfs/team112_internal/rp7/data/Pf/WillH_1/vcf/vcf_symlinks --basename_from_metadata %chrom%/%sample%.%chrom%\n",
    "cp -R -L vcf_symlinks/* haplotype_caller/\n",
    "rm -R vcf_symlinks\n"
   ]
  },
  {
   "cell_type": "raw",
   "metadata": {},
   "source": [
    "# copy final annotated outputs\n",
    "cd /nfs/team112_internal/rp7/data/Pf/WillH_1/vcf\n",
    "mkdir vcf_symlinks_2\n",
    "mkdir annotated\n",
    "vrpipe-output --setup WillH_variant_filtration --output_dir /nfs/team112_internal/rp7/data/Pf/WillH_1/vcf/vcf_symlinks_2 --basename_from_metadata %chrom%\n",
    "cp -L vcf_symlinks_2/* annotated/\n",
    "rm -R vcf_symlinks_2\n"
   ]
  }
 ],
 "metadata": {
  "kernelspec": {
   "display_name": "Python 3",
   "language": "python",
   "name": "python3"
  },
  "language_info": {
   "codemirror_mode": {
    "name": "ipython",
    "version": 3
   },
   "file_extension": ".py",
   "mimetype": "text/x-python",
   "name": "python",
   "nbconvert_exporter": "python",
   "pygments_lexer": "ipython3",
   "version": "3.5.2"
  }
 },
 "nbformat": 4,
 "nbformat_minor": 0
}
